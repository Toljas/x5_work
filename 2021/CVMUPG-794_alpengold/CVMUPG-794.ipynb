{
 "cells": [
  {
   "cell_type": "markdown",
   "id": "d6d576bd",
   "metadata": {},
   "source": [
    "https://jira.x5.ru/browse/CVMUPG-794"
   ]
  },
  {
   "cell_type": "code",
   "execution_count": 1,
   "id": "5637bd7a",
   "metadata": {},
   "outputs": [],
   "source": [
    "name = 'CVMUPG-794'"
   ]
  },
  {
   "cell_type": "code",
   "execution_count": 2,
   "id": "4a0907a4",
   "metadata": {},
   "outputs": [],
   "source": [
    "import os\n",
    "import re\n",
    "from pyspark.sql import SparkSession\n",
    "from typing import List, Dict, Callable\n",
    "import socket\n",
    "\n",
    "spark = None\n",
    "\n",
    "EXECUTOR_ENV = 'hdfs:///share/products/cvm5/lib/python/anaconda_2.4.4_ds.tar.gz'  # 2.4.4 \n",
    "SPARK_ARCHIVE = 'hdfs:///share/lib/spark/sparkjars-2.4.4.zip'                     # 2.4.4\n",
    "#EXECUTOR_ENV = 'hdfs:///share/lib/python/env/anaconda-2019.07.tar.gz'\n",
    "#SPARK_ARCHIVE = 'hdfs:///share/lib/spark/sparkjars-2.3.1.zip'\n",
    "\n",
    "os.environ[\"ARROW_LIBHDFS_DIR\"] = \"/usr/hdp/2.6.5.0-292/usr/lib\"\n",
    "os.environ['HADOOP_HOME'] = '/usr/hdp/current/hadoop-client/'\n",
    "os.environ['JAVA_HOME'] = '/usr/lib/jvm/java-8-openjdk-amd64/'\n",
    "os.environ['HADOOP_CONF_DIR'] = '/etc/hadoop/conf/'\n",
    "os.environ['SPARK_HOME'] = '/opt/conda/lib/python3.7/site-packages/pyspark'\n",
    "os.environ['PYSPARK_PYTHON'] = 'anaconda_2.4.4_ds.tar.gz/bin/python3'             # 2.4.4\n",
    "#os.environ['PYSPARK_PYTHON'] = 'anaconda-2019.07.tar.gz/bin/python3'\n",
    "\n",
    "\n",
    "\n",
    "\n",
    "\n",
    "\n",
    "def restart_spark(task_name: str, num_executors: int, executor_memory='4G', executor_cores=2,\n",
    "                  driver_memory='2G', queue='cvm5-rnd', additional_params: Dict[str, str] = None):\n",
    "    global spark\n",
    "\n",
    "    if spark:\n",
    "        sc = spark.sparkContext\n",
    "        if sc and sc._jsc:\n",
    "            if not sc._jsc.sc().isStopped():\n",
    "                print('Using cached spark')\n",
    "                return sc, spark\n",
    "\n",
    "    need_ports_for_app = 3\n",
    "    user_tcp_ports = _get_user_tcp_ports()\n",
    "    free_ports = _get_free_ports(user_tcp_ports)\n",
    "    assert len(free_ports) >= need_ports_for_app, \\\n",
    "        f\"Not enough free ports ({len(free_ports)}), need {need_ports_for_app}, stop other apps\"\n",
    "    app_ports = free_ports[:need_ports_for_app]\n",
    "\n",
    "    host_ip = os.getenv('HOST_IP')\n",
    "    \n",
    "    spark_session = (\n",
    "        SparkSession\n",
    "        .builder\n",
    "        .appName(task_name)\n",
    "        .master('yarn')\n",
    "        .config('spark.driver.memory', driver_memory)\n",
    "        .config('spark.driver.maxResultSize', driver_memory)\n",
    "        .config('spark.executor.cores', executor_cores)\n",
    "        .config('spark.executor.memory', executor_memory)\n",
    "        .config('spark.executor.memoryOverhead', '1G')\n",
    "        .config('spark.dynamicAllocation.enabled', 'true')\n",
    "        .config('spark.dynamicAllocation.maxExecutors', num_executors)\n",
    "        .config('spark.sql.broadcastTimeout', '36000')\n",
    "        .config('spark.dynamicAllocation.cachedExecutorIdleTimeout', '1200s')\n",
    "        .config('spark.ui.port', app_ports[0])\n",
    "        .config('spark.blockManager.port', app_ports[1])\n",
    "        .config('spark.driver.port', app_ports[2])\n",
    "        .config('spark.driver.host', host_ip)\n",
    "        .config('spark.driver.bindAddress', '0.0.0.0')\n",
    "        .config('spark.driver.extraLibraryPath', '/usr/hdp/2.6.5.0-292/hadoop/lib/native')\n",
    "        .config('spark.driver.extraJavaOptions', '-Dhdp.version=current')\n",
    "        .config('spark.debug.maxToStringFields', '50')\n",
    "        .config('spark.yarn.queue', queue)\n",
    "        .config('spark.yarn.dist.archives', EXECUTOR_ENV)\n",
    "        .config('spark.yarn.archive', SPARK_ARCHIVE)\n",
    "        .config('spark.yarn.am.extraJavaOptions', '-Dhdp.version=current')\n",
    "        .config('spark.rpc.message.maxSize', '1024')\n",
    "        .config('spark.sql.warehouse.dir', '/apps/hive/warehouse')\n",
    "        .config('spark.sql.execution.pandas.respectSessionTimeZone', 'false')\n",
    "        .config('spark.sql.orc.filterPushdown', 'true')\n",
    "        .config('spark.sql.hive.convertMetastoreOrc', 'true')\n",
    "        .config('spark.shuffle.service.enabled', 'true')\n",
    "        .config('spark.hadoop.yarn.timeline-service.enabled', 'false')\n",
    "        .config('spark.hadoop.yarn.client.failover-proxy-provider',\n",
    "                'org.apache.hadoop.yarn.client.ConfiguredRMFailoverProxyProvider')\n",
    "        .config('spark.serializer', 'org.apache.spark.serializer.KryoSerializer')\n",
    "        .config('spark.kryoserializer.buffer.max', '128m')\n",
    "        .config('spark.executor.extraLibraryPath', '/usr/hdp/2.6.5.0-292/hadoop/lib/native')\n",
    "    )\n",
    "\n",
    "    if additional_params:\n",
    "        for key, value in additional_params.items():\n",
    "            spark_session = spark_session.config(key, value)\n",
    "\n",
    "    spark = (\n",
    "        spark_session\n",
    "        .enableHiveSupport()\n",
    "        .getOrCreate()\n",
    "    )\n",
    "    sc = spark.sparkContext\n",
    "\n",
    "    return sc, spark\n",
    "\n",
    "\n",
    "def _get_user_tcp_ports() -> List[str]:\n",
    "    regexp = re.compile(r'-2e')\n",
    "    envuser= os.getenv('HOSTNAME')\n",
    "    if regexp.search(envuser):       \n",
    "      _, user_name, user_surname = envuser.upper().split('-')\n",
    "      user_full_name = '_'.join([user_name, user_surname])\n",
    "    else:\n",
    "      _, user_name  = envuser.upper().split('-') \n",
    "      user_full_name = user_name\n",
    "    user_tcp_ports = [v for k, v in os.environ.items() if user_full_name in k and k.endswith('TCP_PORT')]\n",
    "    return user_tcp_ports\n",
    "\n",
    "\n",
    "def _get_free_ports(ports: List[str]):\n",
    "    free_ports = []\n",
    "    for port in ports:\n",
    "        with socket.socket(socket.AF_INET, socket.SOCK_STREAM) as s:\n",
    "            if s.connect_ex(('0.0.0.0', int(port))) != 0:\n",
    "                free_ports.append(port)\n",
    "    return free_ports\n"
   ]
  },
  {
   "cell_type": "code",
   "execution_count": 3,
   "id": "9403804b",
   "metadata": {},
   "outputs": [
    {
     "name": "stderr",
     "output_type": "stream",
     "text": [
      "Setting default log level to \"WARN\".\n",
      "To adjust logging level use sc.setLogLevel(newLevel). For SparkR, use setLogLevel(newLevel).\n",
      "21/11/25 14:57:25 WARN cluster.YarnSchedulerBackend$YarnSchedulerEndpoint: Attempted to request executors before the AM has registered!\n"
     ]
    }
   ],
   "source": [
    "sc, spark = restart_spark(\n",
    "                    name, \n",
    "                    21, \n",
    "                    executor_memory='5G', \n",
    "                    executor_cores=3, \n",
    "                    driver_memory='7G', \n",
    "                    additional_params={\"spark.sql.shuffle.partitions\": \"300\"})"
   ]
  },
  {
   "cell_type": "code",
   "execution_count": 4,
   "id": "e086eb96",
   "metadata": {},
   "outputs": [],
   "source": [
    "sc.setLogLevel('ERROR')"
   ]
  },
  {
   "cell_type": "code",
   "execution_count": 5,
   "id": "68e14229",
   "metadata": {},
   "outputs": [],
   "source": [
    "import pandas as pd\n",
    "import sys\n",
    "from pyspark.sql import functions as F\n",
    "import datetime\n",
    "from datetime import timedelta\n",
    "\n",
    "sys.path.append('/home/jovyan/glow-byte-filters-pyspark')\n",
    "from logic_filters import * \n",
    "from segmentation import *"
   ]
  },
  {
   "cell_type": "code",
   "execution_count": 6,
   "id": "101baf37",
   "metadata": {},
   "outputs": [],
   "source": [
    "LOYALTY_CARDS = \"hive_ssa_tc5.loyalty_card\"\n",
    "LOYALTY_CARDHOLDERS = \"hive_ssa_tc5.loyalty_cardholder\"\n",
    "ACCOUNTS = \"hive_ssa_tc5.account\"\n",
    "CVM5_GUESTS = \"hive_cvm_acrm.cvm5_guests\"\n",
    "\n",
    "DIM_STORE = \"hive_ssa_main.dim_store\"\n",
    "CHECKS_HEADERS = \"hive_ssa_main.fct_rtl_txn\"\n",
    "CHECKS_ITEMS = \"hive_ssa_main.fct_rtl_txn_item\"\n",
    "PRODUCTS = \"hive_ssa_tc5.cvm_product\""
   ]
  },
  {
   "cell_type": "markdown",
   "id": "6d228a8a",
   "metadata": {},
   "source": [
    "# seg1"
   ]
  },
  {
   "cell_type": "markdown",
   "id": "eb2b322d",
   "metadata": {},
   "source": [
    "### Выбираем гостей нужного юзкейса"
   ]
  },
  {
   "cell_type": "code",
   "execution_count": 7,
   "id": "9aa2718d",
   "metadata": {},
   "outputs": [],
   "source": [
    "usecase = ['churn', 'frequency', 'cross', 'upgrade', 'ump'] #churn, frequency, cross+upgrade+ump\n",
    "dt = datetime.date.today()"
   ]
  },
  {
   "cell_type": "code",
   "execution_count": 9,
   "id": "bb6edfa0",
   "metadata": {},
   "outputs": [],
   "source": [
    "customers_usecase = (spark\n",
    "                     .table(CVM5_GUESTS)\n",
    "                     .filter(F.col('calculation_dt') >= dt)\n",
    "                     .filter(F.col('usecase').isin(usecase))\n",
    "                     .select('account_no', 'customer_rk')\n",
    "                            )"
   ]
  },
  {
   "cell_type": "code",
   "execution_count": 10,
   "id": "3c3981ba",
   "metadata": {},
   "outputs": [
    {
     "name": "stderr",
     "output_type": "stream",
     "text": [
      "                                                                                \r"
     ]
    },
    {
     "data": {
      "text/plain": [
       "49276270"
      ]
     },
     "execution_count": 10,
     "metadata": {},
     "output_type": "execute_result"
    }
   ],
   "source": [
    "customers_usecase.count()"
   ]
  },
  {
   "cell_type": "markdown",
   "id": "dec32807",
   "metadata": {},
   "source": [
    "### По этой активной базе отсекаем ГКГ, проверяем доступность в канале смс вайбер на 13 декабря."
   ]
  },
  {
   "cell_type": "code",
   "execution_count": 8,
   "id": "9ecefde3",
   "metadata": {},
   "outputs": [],
   "source": [
    "check_date = '2021-12-13'"
   ]
  },
  {
   "cell_type": "code",
   "execution_count": 12,
   "id": "868efee4",
   "metadata": {},
   "outputs": [
    {
     "name": "stderr",
     "output_type": "stream",
     "text": [
      "                                                                                \r"
     ]
    },
    {
     "name": "stdout",
     "output_type": "stream",
     "text": [
      "\u001b[92m Фильтр Глобальная контрольная группа - валиден.\n"
     ]
    },
    {
     "name": "stderr",
     "output_type": "stream",
     "text": [
      "[Stage 10:=====================================================>(295 + 5) / 300]"
     ]
    },
    {
     "name": "stdout",
     "output_type": "stream",
     "text": [
      "\t\u001b[94m Отсёк 3 466 512 записей.\n"
     ]
    },
    {
     "name": "stderr",
     "output_type": "stream",
     "text": [
      "                                                                                \r"
     ]
    }
   ],
   "source": [
    "guests = remove_global_control_group(spark, customers_usecase, check_date)"
   ]
  },
  {
   "cell_type": "code",
   "execution_count": 13,
   "id": "9440ecae",
   "metadata": {},
   "outputs": [
    {
     "name": "stdout",
     "output_type": "stream",
     "text": [
      "\u001b[93m Время выполнения: 0:00:41\n"
     ]
    }
   ],
   "source": [
    "seg_sms1 = (sms_channel_filters_glowbyte(spark=spark,\n",
    "                                         guests=guests, \n",
    "                                         usecase_name=usecase[0], \n",
    "                                         check_date=check_date, \n",
    "                                         debug_mode=False)\n",
    "                                    .select('customer_rk')\n",
    "                                    .distinct()\n",
    "           )"
   ]
  },
  {
   "cell_type": "code",
   "execution_count": 14,
   "id": "6e2b5e91",
   "metadata": {},
   "outputs": [
    {
     "name": "stdout",
     "output_type": "stream",
     "text": [
      "\u001b[93m Время выполнения: 0:00:34\n"
     ]
    }
   ],
   "source": [
    "seg_sms2 = (sms_channel_filters_glowbyte(spark=spark,\n",
    "                                         guests=guests, \n",
    "                                         usecase_name=usecase[1], \n",
    "                                         check_date=check_date, \n",
    "                                         debug_mode=False)\n",
    "                                    .select('customer_rk')\n",
    "                                    .distinct()\n",
    "           )"
   ]
  },
  {
   "cell_type": "code",
   "execution_count": 15,
   "id": "5e0d146e",
   "metadata": {},
   "outputs": [
    {
     "name": "stdout",
     "output_type": "stream",
     "text": [
      "\u001b[93m Время выполнения: 0:00:17\n"
     ]
    }
   ],
   "source": [
    "seg_sms3 = (sms_channel_filters_glowbyte(spark=spark,\n",
    "                                         guests=guests, \n",
    "                                         usecase_name=usecase[2], \n",
    "                                         check_date=check_date, \n",
    "                                         debug_mode=False)\n",
    "                                    .select('customer_rk')\n",
    "                                    .distinct()\n",
    "           )"
   ]
  },
  {
   "cell_type": "code",
   "execution_count": 16,
   "id": "844333f9",
   "metadata": {},
   "outputs": [
    {
     "name": "stdout",
     "output_type": "stream",
     "text": [
      "\u001b[93m Время выполнения: 0:00:37\n"
     ]
    }
   ],
   "source": [
    "seg_sms4 = (sms_channel_filters_glowbyte(spark=spark,\n",
    "                                         guests=guests, \n",
    "                                         usecase_name=usecase[3], \n",
    "                                         check_date=check_date, \n",
    "                                         debug_mode=False)\n",
    "                                    .select('customer_rk')\n",
    "                                    .distinct()\n",
    "           )"
   ]
  },
  {
   "cell_type": "code",
   "execution_count": 17,
   "id": "d79b0e9a",
   "metadata": {},
   "outputs": [
    {
     "name": "stdout",
     "output_type": "stream",
     "text": [
      "\u001b[93m Время выполнения: 0:00:15\n"
     ]
    }
   ],
   "source": [
    "seg_sms5 = (sms_channel_filters_glowbyte(spark=spark,\n",
    "                                         guests=guests, \n",
    "                                         usecase_name=usecase[4], \n",
    "                                         check_date=check_date, \n",
    "                                         debug_mode=False)\n",
    "                                    .select('customer_rk')\n",
    "                                    .distinct()\n",
    "           )"
   ]
  },
  {
   "cell_type": "code",
   "execution_count": 18,
   "id": "79b4ef3b",
   "metadata": {},
   "outputs": [],
   "source": [
    "seg_sms = seg_sms1.union(seg_sms2).union(seg_sms3).union(seg_sms4).union(seg_sms5).distinct()"
   ]
  },
  {
   "cell_type": "code",
   "execution_count": 19,
   "id": "0f4699cd",
   "metadata": {},
   "outputs": [
    {
     "name": "stderr",
     "output_type": "stream",
     "text": [
      "[Stage 81:>(2 + 12) / 108][Stage 82:>  (9 + 4) / 64][Stage 84:>  (2 + 0) / 64]0]800]]]21/11/25 12:57:04 ERROR client.TransportClient: Failed to send RPC RPC 4973686878317076939 to /192.168.234.57:59216: java.nio.channels.ClosedChannelException\n",
      "java.nio.channels.ClosedChannelException\n",
      "\tat io.netty.channel.AbstractChannel$AbstractUnsafe.write(...)(Unknown Source)\n",
      "21/11/25 12:57:04 ERROR cluster.YarnScheduler: Lost executor 41 on mn-hd0238.x5.ru: Slave lost\n",
      "[Stage 81:>(3 + 12) / 108][Stage 82:>  (9 + 4) / 64][Stage 84:>  (2 + 0) / 64]21/11/25 12:57:04 ERROR client.TransportClient: Failed to send RPC RPC 6210240559142910480 to /192.168.234.57:59216: java.nio.channels.ClosedChannelException\n",
      "java.nio.channels.ClosedChannelException\n",
      "\tat io.netty.channel.AbstractChannel$AbstractUnsafe.write(...)(Unknown Source)\n",
      "21/11/25 12:57:04 ERROR cluster.YarnScheduler: Lost executor 55 on mn-hd0217.x5.ru: Slave lost\n",
      "21/11/25 12:57:05 ERROR client.TransportClient: Failed to send RPC RPC 5142988007691008796 to /192.168.234.57:59216: java.nio.channels.ClosedChannelException\n",
      "java.nio.channels.ClosedChannelException\n",
      "\tat io.netty.channel.AbstractChannel$AbstractUnsafe.write(...)(Unknown Source)\n",
      "21/11/25 12:57:05 ERROR cluster.YarnScheduler: Lost executor 44 on mn-hd0160.x5.ru: Slave lost\n",
      "21/11/25 12:57:05 ERROR client.TransportClient: Failed to send RPC RPC 7403443793041820884 to /192.168.234.57:59216: java.nio.channels.ClosedChannelException\n",
      "java.nio.channels.ClosedChannelException\n",
      "\tat io.netty.channel.AbstractChannel$AbstractUnsafe.write(...)(Unknown Source)\n",
      "21/11/25 12:57:05 ERROR cluster.YarnScheduler: Lost executor 45 on mn-hd0160.x5.ru: Slave lost\n",
      "[Stage 81:>(3 + 12) / 108][Stage 82:>  (9 + 3) / 64][Stage 84:>  (2 + 0) / 64]21/11/25 12:57:05 ERROR client.TransportClient: Failed to send RPC RPC 6755061302269952790 to /192.168.234.57:59216: java.nio.channels.ClosedChannelException\n",
      "java.nio.channels.ClosedChannelException\n",
      "\tat io.netty.channel.AbstractChannel$AbstractUnsafe.write(...)(Unknown Source)\n",
      "21/11/25 12:57:05 ERROR cluster.YarnScheduler: Lost executor 46 on mn-hd0160.x5.ru: Slave lost\n",
      "21/11/25 12:57:05 ERROR client.TransportClient: Failed to send RPC RPC 8501194413343410412 to /192.168.234.57:59216: java.nio.channels.ClosedChannelException\n",
      "java.nio.channels.ClosedChannelException\n",
      "\tat io.netty.channel.AbstractChannel$AbstractUnsafe.write(...)(Unknown Source)\n",
      "21/11/25 12:57:05 ERROR cluster.YarnScheduler: Lost executor 9 on mn-hd0160.x5.ru: Slave lost\n",
      "[Stage 81:>(4 + 11) / 108][Stage 82:>  (9 + 3) / 64][Stage 84:>  (2 + 0) / 64]21/11/25 12:57:05 ERROR client.TransportClient: Failed to send RPC RPC 7731608757403879944 to /192.168.234.57:59216: java.nio.channels.ClosedChannelException\n",
      "java.nio.channels.ClosedChannelException\n",
      "\tat io.netty.channel.AbstractChannel$AbstractUnsafe.write(...)(Unknown Source)\n",
      "21/11/25 12:57:05 ERROR cluster.YarnScheduler: Lost executor 50 on mn-hd0160.x5.ru: Slave lost\n",
      "[Stage 81:>(4 + 10) / 108][Stage 82:>  (9 + 3) / 64][Stage 84:>  (2 + 0) / 64]21/11/25 12:57:05 ERROR client.TransportClient: Failed to send RPC RPC 4639850631375132424 to /192.168.234.57:59216: java.nio.channels.ClosedChannelException\n",
      "java.nio.channels.ClosedChannelException\n",
      "\tat io.netty.channel.AbstractChannel$AbstractUnsafe.write(...)(Unknown Source)\n",
      "21/11/25 12:57:05 ERROR cluster.YarnScheduler: Lost executor 47 on mn-hd0160.x5.ru: Slave lost\n",
      "[Stage 81:>(6 + 10) / 108][Stage 82:>  (9 + 3) / 64][Stage 84:>  (2 + 0) / 64]21/11/25 12:57:06 ERROR client.TransportClient: Failed to send RPC RPC 8930581787398146349 to /192.168.234.57:59216: java.nio.channels.ClosedChannelException\n",
      "java.nio.channels.ClosedChannelException\n",
      "\tat io.netty.channel.AbstractChannel$AbstractUnsafe.write(...)(Unknown Source)\n",
      "21/11/25 12:57:06 ERROR cluster.YarnScheduler: Lost executor 51 on mn-hd0308.x5.ru: Slave lost\n",
      "[Stage 81:> (6 + 9) / 108][Stage 82:>  (9 + 3) / 64][Stage 84:>  (2 + 0) / 64]21/11/25 12:57:06 ERROR client.TransportClient: Failed to send RPC RPC 5701098668449500137 to /192.168.234.57:59216: java.nio.channels.ClosedChannelException\n",
      "java.nio.channels.ClosedChannelException\n",
      "\tat io.netty.channel.AbstractChannel$AbstractUnsafe.write(...)(Unknown Source)\n",
      "21/11/25 12:57:06 ERROR cluster.YarnScheduler: Lost executor 3 on mn-hd0344.x5.ru: Slave lost\n",
      "21/11/25 12:57:06 ERROR client.TransportClient: Failed to send RPC RPC 7949304825070680833 to /192.168.234.57:59216: java.nio.channels.ClosedChannelException\n",
      "java.nio.channels.ClosedChannelException\n",
      "\tat io.netty.channel.AbstractChannel$AbstractUnsafe.write(...)(Unknown Source)\n",
      "21/11/25 12:57:06 ERROR cluster.YarnScheduler: Lost executor 1 on mn-hd0157.x5.ru: Slave lost\n",
      "21/11/25 12:57:06 ERROR client.TransportClient: Failed to send RPC RPC 8753210395816826078 to /192.168.234.57:59216: java.nio.channels.ClosedChannelException\n",
      "java.nio.channels.ClosedChannelException\n",
      "\tat io.netty.channel.AbstractChannel$AbstractUnsafe.write(...)(Unknown Source)\n",
      "21/11/25 12:57:06 ERROR cluster.YarnScheduler: Lost executor 4 on mn-hd0344.x5.ru: Slave lost\n",
      "[Stage 81:> (6 + 8) / 108][Stage 82:>  (9 + 1) / 64][Stage 84:>  (2 + 0) / 64]21/11/25 12:57:06 ERROR client.TransportClient: Failed to send RPC RPC 6435263313499292537 to /192.168.234.57:59216: java.nio.channels.ClosedChannelException\n",
      "java.nio.channels.ClosedChannelException\n",
      "\tat io.netty.channel.AbstractChannel$AbstractUnsafe.write(...)(Unknown Source)\n",
      "21/11/25 12:57:06 ERROR cluster.YarnScheduler: Lost executor 40 on mn-hd0294.x5.ru: Slave lost\n",
      "21/11/25 12:57:06 ERROR client.TransportClient: Failed to send RPC RPC 6089050903624880165 to /192.168.234.57:59216: java.nio.channels.ClosedChannelException\n",
      "java.nio.channels.ClosedChannelException\n",
      "\tat io.netty.channel.AbstractChannel$AbstractUnsafe.write(...)(Unknown Source)\n",
      "21/11/25 12:57:06 ERROR cluster.YarnScheduler: Lost executor 52 on mn-hd0321.x5.ru: Slave lost\n",
      "21/11/25 12:57:07 ERROR client.TransportClient: Failed to send RPC RPC 6640715181363798752 to /192.168.234.57:59216: java.nio.channels.ClosedChannelException\n",
      "java.nio.channels.ClosedChannelException\n",
      "\tat io.netty.channel.AbstractChannel$AbstractUnsafe.write(...)(Unknown Source)\n",
      "21/11/25 12:57:07 ERROR cluster.YarnScheduler: Lost executor 53 on mn-hd0321.x5.ru: Slave lost\n",
      "[Stage 81:> (6 + 9) / 108][Stage 82:> (10 + 0) / 64][Stage 84:>  (2 + 0) / 64]21/11/25 12:57:07 ERROR client.TransportClient: Failed to send RPC RPC 6812768365750664103 to /192.168.234.57:59216: java.nio.channels.ClosedChannelException\n",
      "java.nio.channels.ClosedChannelException\n",
      "\tat io.netty.channel.AbstractChannel$AbstractUnsafe.write(...)(Unknown Source)\n",
      "21/11/25 12:57:07 ERROR cluster.YarnScheduler: Lost executor 54 on mn-hd0321.x5.ru: Slave lost\n",
      "21/11/25 12:57:07 ERROR client.TransportClient: Failed to send RPC RPC 7352128876770129364 to /192.168.234.57:59216: java.nio.channels.ClosedChannelException\n",
      "java.nio.channels.ClosedChannelException\n",
      "\tat io.netty.channel.AbstractChannel$AbstractUnsafe.write(...)(Unknown Source)\n",
      "21/11/25 12:57:07 ERROR cluster.YarnScheduler: Lost executor 42 on mn-hd0127.x5.ru: Slave lost\n",
      "21/11/25 12:57:07 ERROR client.TransportClient: Failed to send RPC RPC 6770534792107189533 to /192.168.234.57:59216: java.nio.channels.ClosedChannelException\n",
      "java.nio.channels.ClosedChannelException\n",
      "\tat io.netty.channel.AbstractChannel$AbstractUnsafe.write(...)(Unknown Source)\n",
      "21/11/25 12:57:07 ERROR cluster.YarnScheduler: Lost executor 43 on mn-hd0127.x5.ru: Slave lost\n",
      "[Stage 81:> (6 + 3) / 108][Stage 82:> (10 + 0) / 64][Stage 84:>  (2 + 0) / 64]21/11/25 12:57:08 ERROR client.TransportClient: Failed to send RPC RPC 9074868854510397274 to /192.168.234.57:59216: java.nio.channels.ClosedChannelException\n",
      "java.nio.channels.ClosedChannelException\n",
      "\tat io.netty.channel.AbstractChannel$AbstractUnsafe.write(...)(Unknown Source)\n",
      "21/11/25 12:57:08 ERROR cluster.YarnScheduler: Lost executor 49 on mn-hd0139.x5.ru: Slave lost\n",
      "[Stage 81:> (6 + 2) / 108][Stage 82:> (10 + 0) / 64][Stage 84:>  (2 + 0) / 64]21/11/25 12:57:08 ERROR client.TransportClient: Failed to send RPC RPC 5235674821606851343 to /192.168.234.57:59216: java.nio.channels.ClosedChannelException\n",
      "java.nio.channels.ClosedChannelException\n",
      "\tat io.netty.channel.AbstractChannel$AbstractUnsafe.write(...)(Unknown Source)\n",
      "21/11/25 12:57:08 ERROR cluster.YarnScheduler: Lost executor 48 on mn-hd0139.x5.ru: Slave lost\n",
      "21/11/25 12:57:10 ERROR client.TransportClient: Failed to send RPC RPC 6369309460568524711 to /192.168.234.57:59216: java.nio.channels.ClosedChannelException\n",
      "java.nio.channels.ClosedChannelException\n",
      "\tat io.netty.channel.AbstractChannel$AbstractUnsafe.write(...)(Unknown Source)\n",
      "21/11/25 12:57:10 ERROR cluster.YarnScheduler: Lost executor 39 on mn-hd0210.x5.ru: Slave lost\n",
      "                                                                                / 1800]\r"
     ]
    }
   ],
   "source": [
    "seg_sms.write.parquet('temp11', mode='overwrite')\n",
    "seg_sms = spark.read.parquet('temp11')"
   ]
  },
  {
   "cell_type": "code",
   "execution_count": 20,
   "id": "89e4dea7",
   "metadata": {},
   "outputs": [
    {
     "name": "stderr",
     "output_type": "stream",
     "text": [
      "                                                                                \r"
     ]
    },
    {
     "data": {
      "text/plain": [
       "17751644"
      ]
     },
     "execution_count": 20,
     "metadata": {},
     "output_type": "execute_result"
    }
   ],
   "source": [
    "seg_sms.count()"
   ]
  },
  {
   "cell_type": "markdown",
   "id": "0c07d64d",
   "metadata": {},
   "source": [
    "### Собираем чеки этих гостей"
   ]
  },
  {
   "cell_type": "code",
   "execution_count": 9,
   "id": "e01077ba",
   "metadata": {},
   "outputs": [],
   "source": [
    "start_date = datetime.date(2021, 8, 15)\n",
    "end_date = datetime.date(2021, 11, 15)"
   ]
  },
  {
   "cell_type": "code",
   "execution_count": 10,
   "id": "bbff2acf",
   "metadata": {},
   "outputs": [],
   "source": [
    "checks_headers = (spark.table(CHECKS_HEADERS)\n",
    "                      .filter(F.col('rtl_txn_dt').between(start_date, end_date))\n",
    "                      .filter((F.col('loyalty_card_no') != '') & (F.col('loyalty_card_no').isNotNull()))\n",
    "                      .filter(F.col('financial_unit_format_dk') == 'D')\n",
    "                      .filter(F.col('rtl_txn_cancel_flg') == 0)\n",
    "                      .select('rtl_txn_id', 'loyalty_card_no', 'store_id')\n",
    "                     )\n"
   ]
  },
  {
   "cell_type": "code",
   "execution_count": 23,
   "id": "b9d03176",
   "metadata": {},
   "outputs": [],
   "source": [
    "loyalty_cards = (spark\n",
    "                    .table(LOYALTY_CARDS)\n",
    "                    .withColumnRenamed(\"loyalty_card_id\", \"loyalty_card_no\")\n",
    "                    .withColumnRenamed(\"loyalty_account_id\", \"account_no\")\n",
    "                    .withColumnRenamed(\"loyalty_account_acrm_id\", \"account_rk\")\n",
    "                    .select('account_no', 'loyalty_card_no')\n",
    "                )\n",
    "loyalty_cardholders = (spark\n",
    "                        .table(LOYALTY_CARDHOLDERS)\n",
    "                        .withColumnRenamed(\"loyalty_cardholder_acrm_id\", \"customer_rk\")\n",
    "                        .withColumnRenamed(\"loyalty_account_id\", \"account_no\")\n",
    "                        .select('account_no', 'customer_rk')\n",
    "                      )\n",
    "clients_info = loyalty_cards.join(loyalty_cardholders, on='account_no', how='inner')\n",
    "clients_info = clients_info.join(seg_sms, on='customer_rk', how='inner')"
   ]
  },
  {
   "cell_type": "code",
   "execution_count": 76,
   "id": "40bcc076",
   "metadata": {},
   "outputs": [],
   "source": [
    "checks_headers_tc5 = checks_headers.join(clients_info, on='loyalty_card_no') #оставили чеки только нужных гостей"
   ]
  },
  {
   "cell_type": "code",
   "execution_count": 11,
   "id": "b0cdca19",
   "metadata": {},
   "outputs": [],
   "source": [
    "checks_items = (spark.table(CHECKS_ITEMS) \n",
    "                    .withColumnRenamed('plu_id', 'plu_code')\n",
    "                    .withColumnRenamed('turnover_no_vat_amt', 'zsalnovat')\n",
    "                    .withColumnRenamed('turnover_vat_rub_amt', 'zsale_vat')\n",
    "                    .withColumnRenamed('prime_cost_no_vat_amt', 'zcst_n')\n",
    "                    .withColumnRenamed('turnover_base_uom_amt', 'base_qty')\n",
    "                    .withColumnRenamed('discount_amt', 'zdiscount')\n",
    "                    .withColumnRenamed('fact_regular_promo_flg', 'zpromofl')\n",
    "                    .filter(F.col('rtl_txn_dt').between(start_date, end_date))\n",
    "                    .filter((F.col('zsalnovat') >= 0) & (F.col('base_qty') >= 0) & (F.col('zcst_n') > 0)) #keep only correct data\n",
    "                        .select('plu_code' #items id\n",
    "                                , 'rtl_txn_id' #cheques id\n",
    "                               )\n",
    "                   )\n"
   ]
  },
  {
   "cell_type": "markdown",
   "id": "f9fed2a6",
   "metadata": {},
   "source": [
    "#### Отбираем тех, кто покупал продукты в категории шоколад"
   ]
  },
  {
   "cell_type": "markdown",
   "id": "1fbceaa3",
   "metadata": {},
   "source": [
    "##### Отбираем PLU определенной категории"
   ]
  },
  {
   "cell_type": "code",
   "execution_count": 26,
   "id": "354f294d",
   "metadata": {},
   "outputs": [
    {
     "name": "stderr",
     "output_type": "stream",
     "text": [
      "                                                                                \r"
     ]
    }
   ],
   "source": [
    "plu_codes_cat = (spark\n",
    "                 .table(PRODUCTS)\n",
    "#                  .filter(F.col('plu_hierarchy_lvl_4_dk') == plu_hierarchy_lvl_4_dk)\n",
    "#                  .filter(F.col('plu_brand_code').isin(plu_brand_code))\n",
    "                 .filter(F.col('syntethic_category_id') == 116)\n",
    "#                  .filter(~F.col('plu_id').isin(plu_not_in))\n",
    "                 .select('plu_id')\n",
    "                 .distinct()\n",
    "                 .toPandas()['plu_id']\n",
    "                 .tolist()\n",
    "                )"
   ]
  },
  {
   "cell_type": "code",
   "execution_count": 27,
   "id": "940bc5a5",
   "metadata": {},
   "outputs": [],
   "source": [
    "checks_items_choko = checks_items.filter(F.col('plu_code').isin(plu_codes_cat)) # только чеки с нужными plu"
   ]
  },
  {
   "cell_type": "code",
   "execution_count": 28,
   "id": "0e08dfb6",
   "metadata": {},
   "outputs": [],
   "source": [
    "checks_tc5_choko = checks_items_choko.join(checks_headers_tc5, 'rtl_txn_id', how='inner')"
   ]
  },
  {
   "cell_type": "code",
   "execution_count": 29,
   "id": "fd65b37e",
   "metadata": {},
   "outputs": [],
   "source": [
    "seg_choko = (checks_tc5_choko.select('customer_rk')\n",
    "                  .distinct()\n",
    "      )"
   ]
  },
  {
   "cell_type": "markdown",
   "id": "ca8a2634",
   "metadata": {},
   "source": [
    "#### Сегмент потребителей шоколада за 3 месяца готов"
   ]
  },
  {
   "cell_type": "code",
   "execution_count": 30,
   "id": "1d01ca45",
   "metadata": {
    "scrolled": true
   },
   "outputs": [
    {
     "name": "stderr",
     "output_type": "stream",
     "text": [
      "                                                                                998]]\r"
     ]
    }
   ],
   "source": [
    "seg_choko.write.parquet('temp12', mode='overwrite')\n",
    "seg_choko = spark.read.parquet('temp12')"
   ]
  },
  {
   "cell_type": "code",
   "execution_count": 31,
   "id": "d93e1a45",
   "metadata": {
    "scrolled": true
   },
   "outputs": [
    {
     "name": "stderr",
     "output_type": "stream",
     "text": [
      "                                                                                \r"
     ]
    },
    {
     "data": {
      "text/plain": [
       "8125010"
      ]
     },
     "execution_count": 31,
     "metadata": {},
     "output_type": "execute_result"
    }
   ],
   "source": [
    "seg_choko.count()"
   ]
  },
  {
   "cell_type": "code",
   "execution_count": 34,
   "id": "c3d90c45",
   "metadata": {},
   "outputs": [],
   "source": [
    "seg_choko_churn = seg_choko.join(uc_churn, 'customer_rk', 'inner')\n",
    "seg_choko_frequency = seg_choko.join(uc_frequency, 'customer_rk', 'inner')\n",
    "seg_choko_cross = seg_choko.join(uc_cross, 'customer_rk', 'inner')\n",
    "seg_choko_upgrade = seg_choko.join(uc_upgrade, 'customer_rk', 'inner')\n",
    "seg_choko_ump = seg_choko.join(uc_ump, 'customer_rk', 'inner')"
   ]
  },
  {
   "cell_type": "code",
   "execution_count": 35,
   "id": "69e8155d",
   "metadata": {},
   "outputs": [
    {
     "name": "stderr",
     "output_type": "stream",
     "text": [
      "                                                                                \r"
     ]
    }
   ],
   "source": [
    "seg_choko_churn_qty = seg_choko_churn.count()\n",
    "seg_choko_frequency_qty = seg_choko_frequency.count()\n",
    "seg_choko_cross_qty = seg_choko_cross.count()\n",
    "seg_choko_upgrade_qty = seg_choko_upgrade.count()\n",
    "seg_choko_ump_qty = seg_choko_ump.count()"
   ]
  },
  {
   "cell_type": "code",
   "execution_count": 36,
   "id": "7a47d76f",
   "metadata": {},
   "outputs": [
    {
     "name": "stdout",
     "output_type": "stream",
     "text": [
      "churn: 813812, frequency: 3502005, cross: 1444087, upgrade: 1775442, ump: 589664\n"
     ]
    }
   ],
   "source": [
    "print('churn: {}, frequency: {}, cross: {}, upgrade: {}, ump: {}'.format(seg_choko_churn_qty, \n",
    "                                                                         seg_choko_frequency_qty,\n",
    "                                                                         seg_choko_cross_qty,\n",
    "                                                                         seg_choko_upgrade_qty,\n",
    "                                                                         seg_choko_ump_qty))"
   ]
  },
  {
   "cell_type": "code",
   "execution_count": 54,
   "id": "231ac4bc",
   "metadata": {},
   "outputs": [],
   "source": [
    "seg_choko_all = seg_choko_churn_qty + seg_choko_frequency_qty + seg_choko_cross_qty + seg_choko_upgrade_qty + seg_choko_ump_qty"
   ]
  },
  {
   "cell_type": "code",
   "execution_count": 55,
   "id": "8c96cd3c",
   "metadata": {},
   "outputs": [
    {
     "data": {
      "text/plain": [
       "8125010"
      ]
     },
     "execution_count": 55,
     "metadata": {},
     "output_type": "execute_result"
    }
   ],
   "source": [
    "seg_choko_all"
   ]
  },
  {
   "cell_type": "code",
   "execution_count": 56,
   "id": "ed1b2310",
   "metadata": {},
   "outputs": [
    {
     "name": "stdout",
     "output_type": "stream",
     "text": [
      "10 43 18 22 7\n"
     ]
    }
   ],
   "source": [
    "print(round(seg_choko_churn_qty/seg_choko_all*100), round(seg_choko_frequency_qty/seg_choko_all*100), \n",
    "      round(seg_choko_cross_qty/seg_choko_all*100), round(seg_choko_upgrade_qty*100/seg_choko_all), \n",
    "      round(seg_choko_ump_qty*100/seg_choko_all))"
   ]
  },
  {
   "cell_type": "markdown",
   "id": "212f1b30",
   "metadata": {},
   "source": [
    "#### Отбираем тех, кто покупал продукты в категории шоколад бренд Альпенгольд"
   ]
  },
  {
   "cell_type": "markdown",
   "id": "0865144e",
   "metadata": {},
   "source": [
    "##### Отбираем PLU определенной категории"
   ]
  },
  {
   "cell_type": "code",
   "execution_count": 32,
   "id": "6cd65260",
   "metadata": {},
   "outputs": [],
   "source": [
    "loyalty_cards = (spark\n",
    "                    .table(LOYALTY_CARDS)\n",
    "                    .withColumnRenamed(\"loyalty_card_id\", \"loyalty_card_no\")\n",
    "                    .withColumnRenamed(\"loyalty_account_id\", \"account_no\")\n",
    "                    .withColumnRenamed(\"loyalty_account_acrm_id\", \"account_rk\")\n",
    "                    .select('account_no', 'loyalty_card_no')\n",
    "                )\n",
    "loyalty_cardholders = (spark\n",
    "                        .table(LOYALTY_CARDHOLDERS)\n",
    "                        .withColumnRenamed(\"loyalty_cardholder_acrm_id\", \"customer_rk\")\n",
    "                        .withColumnRenamed(\"loyalty_account_id\", \"account_no\")\n",
    "                        .select('account_no', 'customer_rk')\n",
    "                      )\n",
    "clients_info = loyalty_cards.join(loyalty_cardholders, on='account_no', how='inner')\n",
    "clients_info = clients_info.join(seg_choko, on='customer_rk', how='inner')"
   ]
  },
  {
   "cell_type": "code",
   "execution_count": 33,
   "id": "fb636850",
   "metadata": {},
   "outputs": [],
   "source": [
    "checks_headers_tc5 = checks_headers.join(clients_info, on='loyalty_card_no') #оставили чеки только нужных гостей"
   ]
  },
  {
   "cell_type": "code",
   "execution_count": 34,
   "id": "51987965",
   "metadata": {},
   "outputs": [
    {
     "name": "stderr",
     "output_type": "stream",
     "text": [
      "                                                                                \r"
     ]
    }
   ],
   "source": [
    "plu_codes_cat2 = (spark\n",
    "                 .table(PRODUCTS)\n",
    "#                  .filter(F.col('plu_hierarchy_lvl_4_dk') == plu_hierarchy_lvl_4_dk)\n",
    "                 .filter(F.col('plu_brand_code') == '0247')\n",
    "#                  .filter(~F.col('plu_id').isin(plu_not_in))\n",
    "                 .select('plu_id')\n",
    "                 .distinct()\n",
    "                 .toPandas()['plu_id']\n",
    "                 .tolist()\n",
    "                )"
   ]
  },
  {
   "cell_type": "code",
   "execution_count": 35,
   "id": "71908d75",
   "metadata": {},
   "outputs": [],
   "source": [
    "checks_items_choko_alpen = checks_items.filter(F.col('plu_code').isin(plu_codes_cat2)) # только чеки с нужными plu"
   ]
  },
  {
   "cell_type": "code",
   "execution_count": 36,
   "id": "ec9be0c6",
   "metadata": {},
   "outputs": [],
   "source": [
    "checks_tc5_choko_alpen = checks_items_choko_alpen.join(checks_headers_tc5, 'rtl_txn_id', how='inner')"
   ]
  },
  {
   "cell_type": "code",
   "execution_count": 37,
   "id": "c47f7357",
   "metadata": {},
   "outputs": [],
   "source": [
    "seg_choko_alpen = (checks_tc5_choko_alpen.select('customer_rk')\n",
    "                  .distinct()\n",
    "      )"
   ]
  },
  {
   "cell_type": "markdown",
   "id": "cc4f5ae4",
   "metadata": {},
   "source": [
    "#### Сегмент потребителей шоколада Альпенгольд за 3 месяцев готов"
   ]
  },
  {
   "cell_type": "code",
   "execution_count": 38,
   "id": "4c1e2557",
   "metadata": {},
   "outputs": [
    {
     "name": "stderr",
     "output_type": "stream",
     "text": [
      "                                                                                6998]]\r"
     ]
    },
    {
     "data": {
      "text/plain": [
       "2722051"
      ]
     },
     "execution_count": 38,
     "metadata": {},
     "output_type": "execute_result"
    }
   ],
   "source": [
    "seg_choko_alpen.count()"
   ]
  },
  {
   "cell_type": "markdown",
   "id": "8c575ce1",
   "metadata": {},
   "source": [
    "##### Смотрим гостей, которые не покупали шоколад - покупал ли кто-то из них печенье?"
   ]
  },
  {
   "cell_type": "code",
   "execution_count": 39,
   "id": "8fe10889",
   "metadata": {},
   "outputs": [],
   "source": [
    "seg_no_choko = seg_sms.join(seg_choko, 'customer_rk', how='left_anti')"
   ]
  },
  {
   "cell_type": "code",
   "execution_count": 40,
   "id": "82d5436e",
   "metadata": {},
   "outputs": [
    {
     "name": "stderr",
     "output_type": "stream",
     "text": [
      "                                                                                \r"
     ]
    },
    {
     "data": {
      "text/plain": [
       "9626634"
      ]
     },
     "execution_count": 40,
     "metadata": {},
     "output_type": "execute_result"
    }
   ],
   "source": [
    "seg_no_choko.count()"
   ]
  },
  {
   "cell_type": "code",
   "execution_count": 41,
   "id": "13bcfa1c",
   "metadata": {},
   "outputs": [],
   "source": [
    "loyalty_cards = (spark\n",
    "                    .table(LOYALTY_CARDS)\n",
    "                    .withColumnRenamed(\"loyalty_card_id\", \"loyalty_card_no\")\n",
    "                    .withColumnRenamed(\"loyalty_account_id\", \"account_no\")\n",
    "                    .withColumnRenamed(\"loyalty_account_acrm_id\", \"account_rk\")\n",
    "                    .select('account_no', 'loyalty_card_no')\n",
    "                )\n",
    "loyalty_cardholders = (spark\n",
    "                        .table(LOYALTY_CARDHOLDERS)\n",
    "                        .withColumnRenamed(\"loyalty_cardholder_acrm_id\", \"customer_rk\")\n",
    "                        .withColumnRenamed(\"loyalty_account_id\", \"account_no\")\n",
    "                        .select('account_no', 'customer_rk')\n",
    "                      )\n",
    "clients_info = loyalty_cards.join(loyalty_cardholders, on='account_no', how='inner')\n",
    "clients_info = clients_info.join(seg_no_choko, on='customer_rk', how='inner')"
   ]
  },
  {
   "cell_type": "code",
   "execution_count": 42,
   "id": "5ad51b5e",
   "metadata": {},
   "outputs": [],
   "source": [
    "checks_headers_tc5 = checks_headers.join(clients_info, on='loyalty_card_no') #оставили чеки только нужных гостей"
   ]
  },
  {
   "cell_type": "code",
   "execution_count": 43,
   "id": "a2dd8ca3",
   "metadata": {},
   "outputs": [
    {
     "name": "stderr",
     "output_type": "stream",
     "text": [
      "                                                                                \r"
     ]
    }
   ],
   "source": [
    "plu_codes_cat_cookie = (spark\n",
    "                 .table(PRODUCTS)\n",
    "#                  .filter(F.col('plu_hierarchy_lvl_4_dk') == plu_hierarchy_lvl_4_dk)\n",
    "#                  .filter(F.col('plu_brand_code').isin(plu_brand_code))\n",
    "                 .filter(F.col('plu_hierarchy_lvl_4_dk') == 'FD0607002')\n",
    "#                  .filter(~F.col('plu_id').isin(plu_not_in))\n",
    "                 .select('plu_id')\n",
    "                 .distinct()\n",
    "                 .toPandas()['plu_id']\n",
    "                 .tolist()\n",
    "                )"
   ]
  },
  {
   "cell_type": "code",
   "execution_count": 44,
   "id": "8feb143d",
   "metadata": {},
   "outputs": [],
   "source": [
    "checks_items_cookie = checks_items.filter(F.col('plu_code').isin(plu_codes_cat_cookie)) # только чеки с нужными plu"
   ]
  },
  {
   "cell_type": "code",
   "execution_count": 45,
   "id": "6a5ece6e",
   "metadata": {},
   "outputs": [],
   "source": [
    "checks_tc5_cookie = checks_items_cookie.join(checks_headers_tc5, 'rtl_txn_id', how='inner')"
   ]
  },
  {
   "cell_type": "code",
   "execution_count": 46,
   "id": "b1cc329b",
   "metadata": {},
   "outputs": [],
   "source": [
    "seg_cookie = (checks_tc5_cookie.select('customer_rk')\n",
    "                  .distinct()\n",
    "      )"
   ]
  },
  {
   "cell_type": "markdown",
   "id": "554a2618",
   "metadata": {},
   "source": [
    "#### Сегмент потребителей печенья, из тех, кто не покупает шоколад"
   ]
  },
  {
   "cell_type": "code",
   "execution_count": 47,
   "id": "41e31d56",
   "metadata": {},
   "outputs": [
    {
     "name": "stderr",
     "output_type": "stream",
     "text": [
      "                                                                                6998]]\r"
     ]
    }
   ],
   "source": [
    "seg_cookie.write.parquet('temp13', mode='overwrite')\n",
    "seg_cookie = spark.read.parquet('temp13')"
   ]
  },
  {
   "cell_type": "code",
   "execution_count": 48,
   "id": "ea1ffec7",
   "metadata": {},
   "outputs": [
    {
     "name": "stderr",
     "output_type": "stream",
     "text": [
      "                                                                                \r"
     ]
    },
    {
     "data": {
      "text/plain": [
       "1462209"
      ]
     },
     "execution_count": 48,
     "metadata": {},
     "output_type": "execute_result"
    }
   ],
   "source": [
    "seg_cookie.count()"
   ]
  },
  {
   "cell_type": "code",
   "execution_count": 31,
   "id": "57fa3389",
   "metadata": {},
   "outputs": [
    {
     "name": "stderr",
     "output_type": "stream",
     "text": [
      "                                                                                \r"
     ]
    }
   ],
   "source": [
    "seg_cookie_churn = seg_cookie.join(uc_churn, 'customer_rk', 'inner')\n",
    "seg_cookie_frequency = seg_cookie.join(uc_frequency, 'customer_rk', 'inner')\n",
    "seg_cookie_cross = seg_cookie.join(uc_cross, 'customer_rk', 'inner')\n",
    "seg_cookie_upgrade = seg_cookie.join(uc_upgrade, 'customer_rk', 'inner')\n",
    "seg_cookie_ump = seg_cookie.join(uc_ump, 'customer_rk', 'inner')"
   ]
  },
  {
   "cell_type": "code",
   "execution_count": 32,
   "id": "8d6cd6dc",
   "metadata": {},
   "outputs": [
    {
     "name": "stderr",
     "output_type": "stream",
     "text": [
      "                                                                                \r"
     ]
    }
   ],
   "source": [
    "seg_cookie_churn_qty = seg_cookie_churn.count()\n",
    "seg_cookie_frequency_qty = seg_cookie_frequency.count()\n",
    "seg_cookie_cross_qty = seg_cookie_cross.count()\n",
    "seg_cookie_upgrade_qty = seg_cookie_upgrade.count()\n",
    "seg_cookie_ump_qty = seg_cookie_ump.count()"
   ]
  },
  {
   "cell_type": "code",
   "execution_count": 33,
   "id": "57caa25c",
   "metadata": {},
   "outputs": [
    {
     "name": "stdout",
     "output_type": "stream",
     "text": [
      "churn: 214436, frequency: 819324, cross: 144212, upgrade: 217410, ump: 66827\n"
     ]
    }
   ],
   "source": [
    "print('churn: {}, frequency: {}, cross: {}, upgrade: {}, ump: {}'.format(seg_cookie_churn_qty, \n",
    "                                                                         seg_cookie_frequency_qty,\n",
    "                                                                         seg_cookie_cross_qty,\n",
    "                                                                         seg_cookie_upgrade_qty,\n",
    "                                                                         seg_cookie_ump_qty))"
   ]
  },
  {
   "cell_type": "code",
   "execution_count": 51,
   "id": "bf6dd54a",
   "metadata": {},
   "outputs": [],
   "source": [
    "seg_cookie_all = seg_cookie_churn_qty+seg_cookie_frequency_qty+seg_cookie_cross_qty+seg_cookie_upgrade_qty+seg_cookie_ump_qty"
   ]
  },
  {
   "cell_type": "code",
   "execution_count": 52,
   "id": "e626919f",
   "metadata": {},
   "outputs": [
    {
     "data": {
      "text/plain": [
       "1462209"
      ]
     },
     "execution_count": 52,
     "metadata": {},
     "output_type": "execute_result"
    }
   ],
   "source": [
    "seg_cookie_all"
   ]
  },
  {
   "cell_type": "code",
   "execution_count": 53,
   "id": "40c4aeef",
   "metadata": {},
   "outputs": [
    {
     "name": "stdout",
     "output_type": "stream",
     "text": [
      "15 56 10 15 5\n"
     ]
    }
   ],
   "source": [
    "print(round(seg_cookie_churn_qty/seg_cookie_all*100), round(seg_cookie_frequency_qty/seg_cookie_all*100), \n",
    "      round(seg_cookie_cross_qty/seg_cookie_all*100), round(seg_cookie_upgrade_qty*100/seg_cookie_all), \n",
    "      round(seg_cookie_ump_qty*100/seg_cookie_all))"
   ]
  },
  {
   "cell_type": "markdown",
   "id": "11b3e30d",
   "metadata": {},
   "source": [
    "### Из тех, кто не покупал печенье, покупал молочку и кисломолочку?"
   ]
  },
  {
   "cell_type": "code",
   "execution_count": 12,
   "id": "919ed935",
   "metadata": {},
   "outputs": [
    {
     "name": "stderr",
     "output_type": "stream",
     "text": [
      "                                                                                \r"
     ]
    }
   ],
   "source": [
    "seg_sms = spark.read.parquet('temp11')\n",
    "seg_choko = spark.read.parquet('temp12')\n",
    "seg_no_choko = seg_sms.join(seg_choko, 'customer_rk', how='left_anti')\n",
    "seg_cookie = spark.read.parquet('temp13')"
   ]
  },
  {
   "cell_type": "code",
   "execution_count": 13,
   "id": "5525ba08",
   "metadata": {},
   "outputs": [],
   "source": [
    "seg_no_cookie = seg_no_choko.join(seg_cookie, 'customer_rk', how='left_anti')"
   ]
  },
  {
   "cell_type": "code",
   "execution_count": 14,
   "id": "656f53b5",
   "metadata": {},
   "outputs": [
    {
     "name": "stderr",
     "output_type": "stream",
     "text": [
      "                                                                                \r"
     ]
    },
    {
     "data": {
      "text/plain": [
       "8164425"
      ]
     },
     "execution_count": 14,
     "metadata": {},
     "output_type": "execute_result"
    }
   ],
   "source": [
    "seg_no_cookie.count()"
   ]
  },
  {
   "cell_type": "code",
   "execution_count": 15,
   "id": "74b0460d",
   "metadata": {},
   "outputs": [],
   "source": [
    "loyalty_cards = (spark\n",
    "                    .table(LOYALTY_CARDS)\n",
    "                    .withColumnRenamed(\"loyalty_card_id\", \"loyalty_card_no\")\n",
    "                    .withColumnRenamed(\"loyalty_account_id\", \"account_no\")\n",
    "                    .withColumnRenamed(\"loyalty_account_acrm_id\", \"account_rk\")\n",
    "                    .select('account_no', 'loyalty_card_no')\n",
    "                )\n",
    "loyalty_cardholders = (spark\n",
    "                        .table(LOYALTY_CARDHOLDERS)\n",
    "                        .withColumnRenamed(\"loyalty_cardholder_acrm_id\", \"customer_rk\")\n",
    "                        .withColumnRenamed(\"loyalty_account_id\", \"account_no\")\n",
    "                        .select('account_no', 'customer_rk')\n",
    "                      )\n",
    "clients_info = loyalty_cards.join(loyalty_cardholders, on='account_no', how='inner')\n",
    "clients_info = clients_info.join(seg_no_cookie, on='customer_rk', how='inner')"
   ]
  },
  {
   "cell_type": "code",
   "execution_count": 16,
   "id": "f6d929ac",
   "metadata": {},
   "outputs": [],
   "source": [
    "checks_headers_tc5 = checks_headers.join(clients_info, on='loyalty_card_no') #оставили чеки только нужных гостей"
   ]
  },
  {
   "cell_type": "code",
   "execution_count": 17,
   "id": "c7ff4054",
   "metadata": {},
   "outputs": [
    {
     "name": "stderr",
     "output_type": "stream",
     "text": [
      "                                                                                \r"
     ]
    }
   ],
   "source": [
    "plu_codes_cat_milk = (spark\n",
    "                 .table(PRODUCTS)\n",
    "#                  .filter(F.col('plu_hierarchy_lvl_4_dk') == plu_hierarchy_lvl_4_dk)\n",
    "#                  .filter(F.col('plu_brand_code').isin(plu_brand_code))\n",
    "                 .filter(F.col('syntethic_category_id').isin([26, 79, 49, 51, 52, 53, 76, 28, 29, 32]))\n",
    "#                  .filter(~F.col('plu_id').isin(plu_not_in))\n",
    "                 .select('plu_id')\n",
    "                 .distinct()\n",
    "                 .toPandas()['plu_id']\n",
    "                 .tolist()\n",
    "                )"
   ]
  },
  {
   "cell_type": "code",
   "execution_count": 19,
   "id": "dbaea433",
   "metadata": {},
   "outputs": [
    {
     "name": "stderr",
     "output_type": "stream",
     "text": [
      "21/11/25 15:01:14 ERROR client.TransportResponseHandler: Still have 1 requests outstanding when connection from /192.168.234.57:53110 is closed\n",
      "21/11/25 15:01:14 ERROR client.TransportClient: Failed to send RPC RPC 5656043214876233424 to /192.168.234.57:53110: java.nio.channels.ClosedChannelException\n",
      "java.nio.channels.ClosedChannelException\n",
      "\tat io.netty.channel.AbstractChannel$AbstractUnsafe.write(...)(Unknown Source)\n"
     ]
    }
   ],
   "source": [
    "checks_items_milk = checks_items.filter(F.col('plu_code').isin(plu_codes_cat_milk)) # только чеки с нужными plu"
   ]
  },
  {
   "cell_type": "code",
   "execution_count": 20,
   "id": "f2685a21",
   "metadata": {},
   "outputs": [],
   "source": [
    "checks_tc5_milk = checks_items_milk.join(checks_headers_tc5, 'rtl_txn_id', how='inner')"
   ]
  },
  {
   "cell_type": "code",
   "execution_count": 21,
   "id": "ddd8a757",
   "metadata": {},
   "outputs": [],
   "source": [
    "seg_milk = (checks_tc5_milk.select('customer_rk')\n",
    "                  .distinct()\n",
    "      )"
   ]
  },
  {
   "cell_type": "markdown",
   "id": "e6703e69",
   "metadata": {},
   "source": [
    "#### Сегмент потребителей молочки и кисломолочки, из тех, кто не покупает печенье"
   ]
  },
  {
   "cell_type": "code",
   "execution_count": 22,
   "id": "213dc531",
   "metadata": {},
   "outputs": [
    {
     "name": "stderr",
     "output_type": "stream",
     "text": [
      "                                                                                8]]]\r"
     ]
    }
   ],
   "source": [
    "seg_milk.write.parquet('temp14', mode='overwrite')\n",
    "seg_milk = spark.read.parquet('temp14')"
   ]
  },
  {
   "cell_type": "code",
   "execution_count": 23,
   "id": "f5fb8561",
   "metadata": {},
   "outputs": [
    {
     "name": "stderr",
     "output_type": "stream",
     "text": [
      "                                                                                \r"
     ]
    },
    {
     "data": {
      "text/plain": [
       "3056435"
      ]
     },
     "execution_count": 23,
     "metadata": {},
     "output_type": "execute_result"
    }
   ],
   "source": [
    "seg_milk.count()"
   ]
  },
  {
   "cell_type": "code",
   "execution_count": 27,
   "id": "191d69b9",
   "metadata": {},
   "outputs": [],
   "source": [
    "seg_milk_churn = seg_milk.join(uc_churn, 'customer_rk', 'inner')\n",
    "seg_milk_frequency = seg_milk.join(uc_frequency, 'customer_rk', 'inner')\n",
    "seg_milk_cross = seg_milk.join(uc_cross, 'customer_rk', 'inner')\n",
    "seg_milk_upgrade = seg_milk.join(uc_upgrade, 'customer_rk', 'inner')\n",
    "seg_milk_ump = seg_milk.join(uc_ump, 'customer_rk', 'inner')"
   ]
  },
  {
   "cell_type": "code",
   "execution_count": 40,
   "id": "98421220",
   "metadata": {},
   "outputs": [
    {
     "name": "stderr",
     "output_type": "stream",
     "text": [
      "                                                                                \r"
     ]
    }
   ],
   "source": [
    "seg_milk_churn_qty = seg_milk_churn.count()\n",
    "seg_milk_frequency_qty = seg_milk_frequency.count()\n",
    "seg_milk_cross_qty = seg_milk_cross.count()\n",
    "seg_milk_upgrade_qty = seg_milk_upgrade.count()\n",
    "seg_milk_ump_qty = seg_milk_ump.count()"
   ]
  },
  {
   "cell_type": "code",
   "execution_count": 41,
   "id": "d99a5306",
   "metadata": {},
   "outputs": [
    {
     "name": "stdout",
     "output_type": "stream",
     "text": [
      "churn: 697489, frequency: 1884721, cross: 152807, upgrade: 256081, ump: 65337\n"
     ]
    }
   ],
   "source": [
    "print('churn: {}, frequency: {}, cross: {}, upgrade: {}, ump: {}'.format(seg_milk_churn_qty, \n",
    "                                                                         seg_milk_frequency_qty,\n",
    "                                                                         seg_milk_cross_qty,\n",
    "                                                                         seg_milk_upgrade_qty,\n",
    "                                                                         seg_milk_ump_qty))"
   ]
  },
  {
   "cell_type": "code",
   "execution_count": 50,
   "id": "0b06cc16",
   "metadata": {},
   "outputs": [
    {
     "name": "stdout",
     "output_type": "stream",
     "text": [
      "23 62 5 8 2\n"
     ]
    }
   ],
   "source": [
    "print(round(seg_milk_churn_qty/seg_milk_all*100), round(seg_milk_frequency_qty/seg_milk_all*100), \n",
    "      round(seg_milk_cross_qty/seg_milk_all*100), round(seg_milk_upgrade_qty*100/seg_milk_all), \n",
    "      round(seg_milk_ump_qty*100/seg_milk_all))"
   ]
  },
  {
   "cell_type": "code",
   "execution_count": 43,
   "id": "525cb18c",
   "metadata": {},
   "outputs": [],
   "source": [
    "seg_milk_all = seg_milk_churn_qty+seg_milk_frequency_qty+seg_milk_cross_qty+seg_milk_upgrade_qty+seg_milk_ump_qty"
   ]
  },
  {
   "cell_type": "code",
   "execution_count": 45,
   "id": "e16c36bf",
   "metadata": {},
   "outputs": [
    {
     "data": {
      "text/plain": [
       "3056435"
      ]
     },
     "execution_count": 45,
     "metadata": {},
     "output_type": "execute_result"
    }
   ],
   "source": [
    "seg_milk_all"
   ]
  },
  {
   "cell_type": "code",
   "execution_count": 26,
   "id": "fa0155c0",
   "metadata": {},
   "outputs": [],
   "source": [
    "uc_churn = (spark\n",
    "                     .table(CVM5_GUESTS)\n",
    "                     .filter(F.col('calculation_dt') >= dt)\n",
    "                     .filter(F.col('usecase') == 'churn')\n",
    "                     .select('customer_rk')\n",
    "                            )\n",
    "\n",
    "uc_frequency = (spark\n",
    "                     .table(CVM5_GUESTS)\n",
    "                     .filter(F.col('calculation_dt') >= dt)\n",
    "                     .filter(F.col('usecase') == 'frequency')\n",
    "                     .select('customer_rk')\n",
    "                            )\n",
    "\n",
    "uc_cross = (spark\n",
    "                     .table(CVM5_GUESTS)\n",
    "                     .filter(F.col('calculation_dt') >= dt)\n",
    "                     .filter(F.col('usecase') == 'cross')\n",
    "                     .select('customer_rk')\n",
    "                            )\n",
    "\n",
    "uc_upgrade = (spark\n",
    "                     .table(CVM5_GUESTS)\n",
    "                     .filter(F.col('calculation_dt') >= dt)\n",
    "                     .filter(F.col('usecase') == 'upgrade')\n",
    "                     .select('customer_rk')\n",
    "                            )\n",
    "\n",
    "uc_ump = (spark\n",
    "                     .table(CVM5_GUESTS)\n",
    "                     .filter(F.col('calculation_dt') >= dt)\n",
    "                     .filter(F.col('usecase') == 'ump')\n",
    "                     .select('customer_rk')\n",
    "                            )"
   ]
  },
  {
   "cell_type": "markdown",
   "id": "e173d363",
   "metadata": {},
   "source": [
    "## По базе частоты"
   ]
  },
  {
   "cell_type": "markdown",
   "id": "56d3992b",
   "metadata": {},
   "source": [
    "### Выбираем гостей нужного юзкейса"
   ]
  },
  {
   "cell_type": "code",
   "execution_count": 8,
   "id": "cdc99e9b",
   "metadata": {},
   "outputs": [],
   "source": [
    "usecase = ['churn', 'frequency', 'cross', 'upgrade', 'ump'] #churn, frequency, cross+upgrade+ump\n",
    "dt = datetime.date.today()\n",
    "lifetime = 90"
   ]
  },
  {
   "cell_type": "code",
   "execution_count": 9,
   "id": "3824d4bc",
   "metadata": {},
   "outputs": [],
   "source": [
    "customers_usecase = (spark\n",
    "                     .table(CVM5_GUESTS)\n",
    "                     .filter(F.col('calculation_dt') >= dt)\n",
    "                     .filter(F.col('usecase').isin(usecase))\n",
    "                     .filter(F.col('lifetime') >= lifetime)\n",
    "                     .select('account_no', 'customer_rk')\n",
    "                            )"
   ]
  },
  {
   "cell_type": "code",
   "execution_count": 10,
   "id": "43462293",
   "metadata": {},
   "outputs": [
    {
     "name": "stderr",
     "output_type": "stream",
     "text": [
      "                                                                                \r"
     ]
    },
    {
     "data": {
      "text/plain": [
       "46080470"
      ]
     },
     "execution_count": 10,
     "metadata": {},
     "output_type": "execute_result"
    }
   ],
   "source": [
    "customers_usecase.count()"
   ]
  },
  {
   "cell_type": "code",
   "execution_count": null,
   "id": "c4d9a331",
   "metadata": {},
   "outputs": [],
   "source": []
  },
  {
   "cell_type": "code",
   "execution_count": null,
   "id": "c16a918e",
   "metadata": {},
   "outputs": [],
   "source": []
  },
  {
   "cell_type": "code",
   "execution_count": null,
   "id": "9adee47a",
   "metadata": {},
   "outputs": [],
   "source": []
  },
  {
   "cell_type": "code",
   "execution_count": null,
   "id": "d21fb81c",
   "metadata": {},
   "outputs": [],
   "source": []
  },
  {
   "cell_type": "code",
   "execution_count": null,
   "id": "4bbd0ece",
   "metadata": {},
   "outputs": [],
   "source": []
  },
  {
   "cell_type": "code",
   "execution_count": null,
   "id": "cb8cd8e4",
   "metadata": {},
   "outputs": [],
   "source": []
  },
  {
   "cell_type": "code",
   "execution_count": null,
   "id": "94aacc45",
   "metadata": {},
   "outputs": [],
   "source": []
  },
  {
   "cell_type": "code",
   "execution_count": null,
   "id": "872f4834",
   "metadata": {},
   "outputs": [],
   "source": [
    "seg_sms_pd = segm.toPandas()"
   ]
  },
  {
   "cell_type": "code",
   "execution_count": null,
   "id": "710e8d85",
   "metadata": {},
   "outputs": [],
   "source": [
    "len(seg_sms_pd)"
   ]
  },
  {
   "cell_type": "code",
   "execution_count": null,
   "id": "daba46c2",
   "metadata": {},
   "outputs": [],
   "source": [
    "seg_sms_pd.to_csv(name + '_' + seg_no + '_All_uc' + str(dt) + '.csv', index=False)"
   ]
  },
  {
   "cell_type": "code",
   "execution_count": null,
   "id": "159e9bd8",
   "metadata": {},
   "outputs": [],
   "source": [
    "seg_sms_pd = seg_sms_pd.astype('str')"
   ]
  },
  {
   "cell_type": "code",
   "execution_count": null,
   "id": "d3b17c35",
   "metadata": {},
   "outputs": [],
   "source": [
    "cross = seg_sms_pd.loc[(seg_sms_pd['customer_rk'].str.endswith('1')) | (seg_sms_pd['customer_rk'].str.endswith('2'))\n",
    "              | (seg_sms_pd['customer_rk'].str.endswith('3')) | (seg_sms_pd['customer_rk'].str.endswith('4'))].reset_index(drop=True).copy()"
   ]
  },
  {
   "cell_type": "code",
   "execution_count": null,
   "id": "3d119ce7",
   "metadata": {},
   "outputs": [],
   "source": [
    "upgrade = seg_sms_pd.loc[(seg_sms_pd['customer_rk'].str.endswith('5')) | (seg_sms_pd['customer_rk'].str.endswith('6'))\n",
    "              | (seg_sms_pd['customer_rk'].str.endswith('7')) | (seg_sms_pd['customer_rk'].str.endswith('8'))].reset_index(drop=True).copy()"
   ]
  },
  {
   "cell_type": "code",
   "execution_count": null,
   "id": "b93f3cf2",
   "metadata": {},
   "outputs": [],
   "source": [
    "ump = seg_sms_pd.loc[(seg_sms_pd['customer_rk'].str.endswith('0'))\n",
    "              | (seg_sms_pd['customer_rk'].str.endswith('9'))].reset_index(drop=True).copy()"
   ]
  },
  {
   "cell_type": "code",
   "execution_count": null,
   "id": "3043e62e",
   "metadata": {},
   "outputs": [],
   "source": [
    "cross.to_csv(name + '_' + seg_no + '_' + usecase[0] + '_' + str(dt) + '.csv', index=False)"
   ]
  },
  {
   "cell_type": "code",
   "execution_count": null,
   "id": "14990a1b",
   "metadata": {},
   "outputs": [],
   "source": [
    "upgrade.to_csv(name + '_' + seg_no + '_' + usecase[1] + '_' + str(dt) + '.csv', index=False)"
   ]
  },
  {
   "cell_type": "code",
   "execution_count": null,
   "id": "e017c3b0",
   "metadata": {},
   "outputs": [],
   "source": [
    "ump.to_csv(name + '_' + seg_no + '_' + usecase[2] + '_' + str(dt) + '.csv', index=False)"
   ]
  },
  {
   "cell_type": "code",
   "execution_count": null,
   "id": "728cd51b",
   "metadata": {},
   "outputs": [],
   "source": [
    "print('cross: {}, upgrade: {}, ump: {}'.format(len(cross), len(upgrade), len(ump)))"
   ]
  },
  {
   "cell_type": "code",
   "execution_count": null,
   "id": "13952f3c",
   "metadata": {},
   "outputs": [],
   "source": []
  }
 ],
 "metadata": {
  "kernelspec": {
   "display_name": "Python 3 (ipykernel)",
   "language": "python",
   "name": "python3"
  },
  "language_info": {
   "codemirror_mode": {
    "name": "ipython",
    "version": 3
   },
   "file_extension": ".py",
   "mimetype": "text/x-python",
   "name": "python",
   "nbconvert_exporter": "python",
   "pygments_lexer": "ipython3",
   "version": "3.7.10"
  }
 },
 "nbformat": 4,
 "nbformat_minor": 5
}
