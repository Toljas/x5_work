{
 "cells": [
  {
   "cell_type": "markdown",
   "id": "3d42826c",
   "metadata": {},
   "source": [
    "https://jira.x5.ru/browse/CVMUPG-797"
   ]
  },
  {
   "cell_type": "code",
   "execution_count": 1,
   "id": "d8b49005",
   "metadata": {},
   "outputs": [],
   "source": [
    "name = 'CVMUPG-797'"
   ]
  },
  {
   "cell_type": "code",
   "execution_count": 2,
   "id": "2c5a9cfe",
   "metadata": {},
   "outputs": [],
   "source": [
    "import os\n",
    "import re\n",
    "from pyspark.sql import SparkSession\n",
    "from typing import List, Dict, Callable\n",
    "import socket\n",
    "\n",
    "spark = None\n",
    "\n",
    "EXECUTOR_ENV = 'hdfs:///share/products/cvm5/lib/python/anaconda_2.4.4_ds.tar.gz'  # 2.4.4 \n",
    "SPARK_ARCHIVE = 'hdfs:///share/lib/spark/sparkjars-2.4.4.zip'                     # 2.4.4\n",
    "#EXECUTOR_ENV = 'hdfs:///share/lib/python/env/anaconda-2019.07.tar.gz'\n",
    "#SPARK_ARCHIVE = 'hdfs:///share/lib/spark/sparkjars-2.3.1.zip'\n",
    "\n",
    "os.environ[\"ARROW_LIBHDFS_DIR\"] = \"/usr/hdp/2.6.5.0-292/usr/lib\"\n",
    "os.environ['HADOOP_HOME'] = '/usr/hdp/current/hadoop-client/'\n",
    "os.environ['JAVA_HOME'] = '/usr/lib/jvm/java-8-openjdk-amd64/'\n",
    "os.environ['HADOOP_CONF_DIR'] = '/etc/hadoop/conf/'\n",
    "os.environ['SPARK_HOME'] = '/opt/conda/lib/python3.7/site-packages/pyspark'\n",
    "os.environ['PYSPARK_PYTHON'] = 'anaconda_2.4.4_ds.tar.gz/bin/python3'             # 2.4.4\n",
    "#os.environ['PYSPARK_PYTHON'] = 'anaconda-2019.07.tar.gz/bin/python3'\n",
    "\n",
    "\n",
    "\n",
    "\n",
    "\n",
    "\n",
    "def restart_spark(task_name: str, num_executors: int, executor_memory='4G', executor_cores=2,\n",
    "                  driver_memory='2G', queue='bdse', additional_params: Dict[str, str] = None):\n",
    "    global spark\n",
    "\n",
    "    if spark:\n",
    "        sc = spark.sparkContext\n",
    "        if sc and sc._jsc:\n",
    "            if not sc._jsc.sc().isStopped():\n",
    "                print('Using cached spark')\n",
    "                return sc, spark\n",
    "\n",
    "    need_ports_for_app = 3\n",
    "    user_tcp_ports = _get_user_tcp_ports()\n",
    "    free_ports = _get_free_ports(user_tcp_ports)\n",
    "    assert len(free_ports) >= need_ports_for_app, \\\n",
    "        f\"Not enough free ports ({len(free_ports)}), need {need_ports_for_app}, stop other apps\"\n",
    "    app_ports = free_ports[:need_ports_for_app]\n",
    "\n",
    "    host_ip = os.getenv('HOST_IP')\n",
    "    \n",
    "    spark_session = (\n",
    "        SparkSession\n",
    "        .builder\n",
    "        .appName(task_name)\n",
    "        .master('yarn')\n",
    "        .config('spark.driver.memory', driver_memory)\n",
    "        .config('spark.driver.maxResultSize', driver_memory)\n",
    "        .config('spark.executor.cores', executor_cores)\n",
    "        .config('spark.executor.memory', executor_memory)\n",
    "        .config('spark.executor.memoryOverhead', '1G')\n",
    "        .config('spark.dynamicAllocation.enabled', 'true')\n",
    "        .config('spark.dynamicAllocation.maxExecutors', num_executors)\n",
    "        .config('spark.sql.broadcastTimeout', '36000')\n",
    "        .config('spark.dynamicAllocation.cachedExecutorIdleTimeout', '1200s')\n",
    "        .config('spark.ui.port', app_ports[0])\n",
    "        .config('spark.blockManager.port', app_ports[1])\n",
    "        .config('spark.driver.port', app_ports[2])\n",
    "        .config('spark.driver.host', host_ip)\n",
    "        .config('spark.driver.bindAddress', '0.0.0.0')\n",
    "        .config('spark.driver.extraLibraryPath', '/usr/hdp/2.6.5.0-292/hadoop/lib/native')\n",
    "        .config('spark.driver.extraJavaOptions', '-Dhdp.version=current')\n",
    "        .config('spark.debug.maxToStringFields', '50')\n",
    "        .config('spark.yarn.queue', queue)\n",
    "        .config('spark.yarn.dist.archives', EXECUTOR_ENV)\n",
    "        .config('spark.yarn.archive', SPARK_ARCHIVE)\n",
    "        .config('spark.yarn.am.extraJavaOptions', '-Dhdp.version=current')\n",
    "        .config('spark.rpc.message.maxSize', '1024')\n",
    "        .config('spark.sql.warehouse.dir', '/apps/hive/warehouse')\n",
    "        .config('spark.sql.execution.pandas.respectSessionTimeZone', 'false')\n",
    "        .config('spark.sql.orc.filterPushdown', 'true')\n",
    "        .config('spark.sql.hive.convertMetastoreOrc', 'true')\n",
    "        .config('spark.shuffle.service.enabled', 'true')\n",
    "        .config('spark.hadoop.yarn.timeline-service.enabled', 'false')\n",
    "        .config('spark.hadoop.yarn.client.failover-proxy-provider',\n",
    "                'org.apache.hadoop.yarn.client.ConfiguredRMFailoverProxyProvider')\n",
    "        .config('spark.serializer', 'org.apache.spark.serializer.KryoSerializer')\n",
    "        .config('spark.kryoserializer.buffer.max', '128m')\n",
    "        .config('spark.executor.extraLibraryPath', '/usr/hdp/2.6.5.0-292/hadoop/lib/native')\n",
    "    )\n",
    "\n",
    "    if additional_params:\n",
    "        for key, value in additional_params.items():\n",
    "            spark_session = spark_session.config(key, value)\n",
    "\n",
    "    spark = (\n",
    "        spark_session\n",
    "        .enableHiveSupport()\n",
    "        .getOrCreate()\n",
    "    )\n",
    "    sc = spark.sparkContext\n",
    "\n",
    "    return sc, spark\n",
    "\n",
    "\n",
    "def _get_user_tcp_ports() -> List[str]:\n",
    "    regexp = re.compile(r'-2e')\n",
    "    envuser= os.getenv('HOSTNAME')\n",
    "    if regexp.search(envuser):       \n",
    "      _, user_name, user_surname = envuser.upper().split('-')\n",
    "      user_full_name = '_'.join([user_name, user_surname])\n",
    "    else:\n",
    "      _, user_name  = envuser.upper().split('-') \n",
    "      user_full_name = user_name\n",
    "    user_tcp_ports = [v for k, v in os.environ.items() if user_full_name in k and k.endswith('TCP_PORT')]\n",
    "    return user_tcp_ports\n",
    "\n",
    "\n",
    "def _get_free_ports(ports: List[str]):\n",
    "    free_ports = []\n",
    "    for port in ports:\n",
    "        with socket.socket(socket.AF_INET, socket.SOCK_STREAM) as s:\n",
    "            if s.connect_ex(('0.0.0.0', int(port))) != 0:\n",
    "                free_ports.append(port)\n",
    "    return free_ports\n"
   ]
  },
  {
   "cell_type": "code",
   "execution_count": 3,
   "id": "3d052c44",
   "metadata": {},
   "outputs": [
    {
     "name": "stderr",
     "output_type": "stream",
     "text": [
      "Setting default log level to \"WARN\".\n",
      "To adjust logging level use sc.setLogLevel(newLevel). For SparkR, use setLogLevel(newLevel).\n"
     ]
    }
   ],
   "source": [
    "sc, spark = restart_spark(\n",
    "                    name, \n",
    "                    21, \n",
    "                    executor_memory='5G', \n",
    "                    executor_cores=3, \n",
    "                    driver_memory='7G', \n",
    "                    additional_params={\"spark.sql.shuffle.partitions\": \"300\"})"
   ]
  },
  {
   "cell_type": "code",
   "execution_count": 4,
   "id": "06c37541",
   "metadata": {},
   "outputs": [],
   "source": [
    "sc.setLogLevel('ERROR')"
   ]
  },
  {
   "cell_type": "code",
   "execution_count": 5,
   "id": "d468831b",
   "metadata": {},
   "outputs": [],
   "source": [
    "import pandas as pd\n",
    "import sys\n",
    "from pyspark.sql import functions as F\n",
    "import datetime\n",
    "from datetime import timedelta\n",
    "\n",
    "sys.path.append('/home/jovyan/glow-byte-filters-pyspark')\n",
    "from logic_filters import * "
   ]
  },
  {
   "cell_type": "code",
   "execution_count": 6,
   "id": "2924a43d",
   "metadata": {},
   "outputs": [],
   "source": [
    "LOYALTY_CARDS = \"hive_ssa_tc5.loyalty_card\"\n",
    "LOYALTY_CARDHOLDERS = \"hive_ssa_tc5.loyalty_cardholder\"\n",
    "ACCOUNTS = \"hive_ssa_tc5.account\"\n",
    "CVM5_GUESTS = \"hive_cvm_acrm.cvm5_guests\"\n",
    "\n",
    "DIM_STORE = \"hive_ssa_main.dim_store\"\n",
    "CHECKS_HEADERS = \"hive_ssa_main.fct_rtl_txn\"\n",
    "CHECKS_ITEMS = \"hive_ssa_main.fct_rtl_txn_item\"\n",
    "PRODUCTS = \"hive_ssa_tc5.cvm_product\""
   ]
  },
  {
   "cell_type": "markdown",
   "id": "885da2d2",
   "metadata": {},
   "source": [
    "# seg1"
   ]
  },
  {
   "cell_type": "markdown",
   "id": "809c2772",
   "metadata": {},
   "source": [
    "### Выбираем гостей нужного юзкейса"
   ]
  },
  {
   "cell_type": "code",
   "execution_count": 7,
   "id": "5a963039",
   "metadata": {},
   "outputs": [],
   "source": [
    "usecase = ['cross', 'upgrade', 'ump']\n",
    "dt = datetime.date.today()"
   ]
  },
  {
   "cell_type": "code",
   "execution_count": 8,
   "id": "c810a216",
   "metadata": {},
   "outputs": [],
   "source": [
    "customers_usecase = (spark\n",
    "                     .table(CVM5_GUESTS)\n",
    "                     .filter(F.col('calculation_dt') >= dt)\n",
    "                     .filter(F.col('usecase').isin(usecase))\n",
    "                     .select('account_no', 'customer_rk')\n",
    "                            )"
   ]
  },
  {
   "cell_type": "code",
   "execution_count": 9,
   "id": "0a68e5bf",
   "metadata": {},
   "outputs": [
    {
     "name": "stderr",
     "output_type": "stream",
     "text": [
      "                                                                                \r"
     ]
    },
    {
     "data": {
      "text/plain": [
       "15924909"
      ]
     },
     "execution_count": 9,
     "metadata": {},
     "output_type": "execute_result"
    }
   ],
   "source": [
    "customers_usecase.count()"
   ]
  },
  {
   "cell_type": "markdown",
   "id": "0792bd91",
   "metadata": {},
   "source": [
    "### Собираем чеки этих гостей"
   ]
  },
  {
   "cell_type": "code",
   "execution_count": 10,
   "id": "67979c5c",
   "metadata": {},
   "outputs": [],
   "source": [
    "start_date = datetime.date(2021, 8, 15)\n",
    "end_date = datetime.date(2021, 11, 15)"
   ]
  },
  {
   "cell_type": "code",
   "execution_count": 11,
   "id": "268f2383",
   "metadata": {},
   "outputs": [],
   "source": [
    "checks_headers = (spark.table(CHECKS_HEADERS)\n",
    "                      .filter(F.col('rtl_txn_dt').between(start_date, end_date))\n",
    "                      .filter((F.col('loyalty_card_no') != '') & (F.col('loyalty_card_no').isNotNull()))\n",
    "                      .filter(F.col('financial_unit_format_dk') == 'D')\n",
    "                      .filter(F.col('rtl_txn_cancel_flg') == 0)\n",
    "                      .select('rtl_txn_id', 'loyalty_card_no')\n",
    "                     )\n"
   ]
  },
  {
   "cell_type": "code",
   "execution_count": 12,
   "id": "12388cc0",
   "metadata": {},
   "outputs": [],
   "source": [
    "loyalty_cards = (spark\n",
    "                    .table(LOYALTY_CARDS)\n",
    "                    .withColumnRenamed(\"loyalty_card_id\", \"loyalty_card_no\")\n",
    "                    .withColumnRenamed(\"loyalty_account_id\", \"account_no\")\n",
    "                    .withColumnRenamed(\"loyalty_account_acrm_id\", \"account_rk\")\n",
    "                    .select('account_no', 'loyalty_card_no')\n",
    "                )\n",
    "loyalty_cardholders = (spark\n",
    "                        .table(LOYALTY_CARDHOLDERS)\n",
    "                        .filter(((F.col('loyalty_cardholder_age_yrs') >= 25) & \n",
    "                                (F.col('loyalty_cardholder_age_yrs') <= 65)) | \n",
    "                                (~F.col('loyalty_cardholder_age_yrs').isNotNull()))\n",
    "                        .filter(F.col('gender_dk') == 'F')\n",
    "                        .withColumnRenamed(\"loyalty_cardholder_acrm_id\", \"customer_rk\")\n",
    "                        .withColumnRenamed(\"loyalty_account_id\", \"account_no\")\n",
    "                        .select('account_no', 'customer_rk')\n",
    "                      )\n",
    "clients_info = loyalty_cards.join(loyalty_cardholders, on='account_no', how='inner')\n",
    "clients_info = clients_info.join(customers_usecase, on=['account_no', 'customer_rk'], how='inner')"
   ]
  },
  {
   "cell_type": "code",
   "execution_count": 35,
   "id": "f18ccf0a",
   "metadata": {},
   "outputs": [
    {
     "name": "stderr",
     "output_type": "stream",
     "text": [
      "                                                                                \r"
     ]
    },
    {
     "data": {
      "text/plain": [
       "13126435"
      ]
     },
     "execution_count": 35,
     "metadata": {},
     "output_type": "execute_result"
    }
   ],
   "source": [
    "loyalty_cardholders.count()"
   ]
  },
  {
   "cell_type": "code",
   "execution_count": 13,
   "id": "e0e07e72",
   "metadata": {},
   "outputs": [],
   "source": [
    "checks_headers_tc5 = checks_headers.join(clients_info, on='loyalty_card_no') #оставили чеки только нужных гостей"
   ]
  },
  {
   "cell_type": "code",
   "execution_count": 14,
   "id": "1573dcd6",
   "metadata": {},
   "outputs": [],
   "source": [
    "checks_items = (spark.table(CHECKS_ITEMS) \n",
    "                    .withColumnRenamed('plu_id', 'plu_code')\n",
    "                    .withColumnRenamed('turnover_no_vat_amt', 'zsalnovat')\n",
    "                    .withColumnRenamed('turnover_vat_rub_amt', 'zsale_vat')\n",
    "                    .withColumnRenamed('prime_cost_no_vat_amt', 'zcst_n')\n",
    "                    .withColumnRenamed('turnover_base_uom_amt', 'base_qty')\n",
    "                    .withColumnRenamed('discount_amt', 'zdiscount')\n",
    "                    .withColumnRenamed('fact_regular_promo_flg', 'zpromofl')\n",
    "                    .filter(F.col('rtl_txn_dt').between(start_date, end_date))\n",
    "                    .filter((F.col('zsalnovat') >= 0) & (F.col('base_qty') >= 0) & (F.col('zcst_n') > 0)) #keep only correct data\n",
    "                        .select('plu_code' #items id\n",
    "                                , 'rtl_txn_id' #cheques id\n",
    "                               )\n",
    "                   )\n"
   ]
  },
  {
   "cell_type": "markdown",
   "id": "e38324a4",
   "metadata": {},
   "source": [
    "#### Отбираем тех, кто покупал продукты в категории масло"
   ]
  },
  {
   "cell_type": "markdown",
   "id": "ee74612e",
   "metadata": {},
   "source": [
    "##### Отбираем PLU определенной категории (масло растительное) 1 л"
   ]
  },
  {
   "cell_type": "code",
   "execution_count": 29,
   "id": "439c2579",
   "metadata": {},
   "outputs": [
    {
     "name": "stderr",
     "output_type": "stream",
     "text": [
      "                                                                                \r"
     ]
    }
   ],
   "source": [
    "plu_codes_cat = (spark\n",
    "                 .table(PRODUCTS)\n",
    "#                  .filter(F.col('plu_hierarchy_lvl_4_dk') == plu_hierarchy_lvl_4_dk)\n",
    "#                  .filter(F.col('plu_brand_code').isin(plu_brand_code))\n",
    "                 .filter(F.col('syntethic_category_id').isin([74]))\n",
    "#                  .filter(~F.col('plu_id').isin(plu_not_in))\n",
    "                 .select('plu_id')\n",
    "                 .distinct()\n",
    "                 .toPandas()['plu_id']\n",
    "                 .tolist()\n",
    "                )"
   ]
  },
  {
   "cell_type": "code",
   "execution_count": 30,
   "id": "3f3f32b6",
   "metadata": {},
   "outputs": [],
   "source": [
    "checks_items = checks_items.filter(F.col('plu_code').isin(plu_codes_cat)) # только чеки с нужными plu"
   ]
  },
  {
   "cell_type": "code",
   "execution_count": 31,
   "id": "55697f75",
   "metadata": {},
   "outputs": [],
   "source": [
    "checks_tc5 = checks_items.join(checks_headers_tc5, on='rtl_txn_id', how='inner')"
   ]
  },
  {
   "cell_type": "code",
   "execution_count": 32,
   "id": "d600d337",
   "metadata": {},
   "outputs": [],
   "source": [
    "seg_women = (checks_tc5.select('customer_rk')\n",
    "                  .distinct()\n",
    "      )"
   ]
  },
  {
   "cell_type": "code",
   "execution_count": 33,
   "id": "707e7acd",
   "metadata": {
    "scrolled": true
   },
   "outputs": [
    {
     "name": "stderr",
     "output_type": "stream",
     "text": [
      "                                                                                98]]\r"
     ]
    }
   ],
   "source": [
    "seg_women.write.parquet('temp12', mode='overwrite')\n",
    "seg_women = spark.read.parquet('temp12')"
   ]
  },
  {
   "cell_type": "code",
   "execution_count": 34,
   "id": "f900fafc",
   "metadata": {},
   "outputs": [
    {
     "name": "stderr",
     "output_type": "stream",
     "text": [
      "                                                                                \r"
     ]
    },
    {
     "data": {
      "text/plain": [
       "0"
      ]
     },
     "execution_count": 34,
     "metadata": {},
     "output_type": "execute_result"
    }
   ],
   "source": [
    "seg_women.count()"
   ]
  },
  {
   "cell_type": "markdown",
   "id": "160da174",
   "metadata": {},
   "source": [
    "#### Сегмент потребителей масла растительного готов"
   ]
  },
  {
   "cell_type": "markdown",
   "id": "99d8aceb",
   "metadata": {},
   "source": [
    "### По этой активной базе отсекаем ГКГ, проверяем доступность в канале смс вайбер на 25 ноября."
   ]
  },
  {
   "cell_type": "code",
   "execution_count": null,
   "id": "e61c325f",
   "metadata": {},
   "outputs": [],
   "source": [
    "check_date = '2021-11-25'"
   ]
  },
  {
   "cell_type": "code",
   "execution_count": null,
   "id": "6008de19",
   "metadata": {},
   "outputs": [],
   "source": [
    "guests = remove_global_control_group(spark, seg_women, check_date)"
   ]
  },
  {
   "cell_type": "code",
   "execution_count": null,
   "id": "73929d5d",
   "metadata": {},
   "outputs": [],
   "source": [
    "seg_sms1 = (sms_channel_filters_glowbyte(spark=spark,\n",
    "                                         guests=guests, \n",
    "                                         usecase_name=usecase[0], \n",
    "                                         check_date=check_date, \n",
    "                                         debug_mode=False)\n",
    "                                    .select('customer_rk')\n",
    "                                    .distinct()\n",
    "           )"
   ]
  },
  {
   "cell_type": "code",
   "execution_count": null,
   "id": "c322781f",
   "metadata": {},
   "outputs": [],
   "source": [
    "seg_sms2 = (sms_channel_filters_glowbyte(spark=spark,\n",
    "                                         guests=guests, \n",
    "                                         usecase_name=usecase[1], \n",
    "                                         check_date=check_date, \n",
    "                                         debug_mode=False)\n",
    "                                    .select('customer_rk')\n",
    "                                    .distinct()\n",
    "           )"
   ]
  },
  {
   "cell_type": "code",
   "execution_count": null,
   "id": "f37d602e",
   "metadata": {},
   "outputs": [],
   "source": [
    "seg_sms3 = (sms_channel_filters_glowbyte(spark=spark,\n",
    "                                         guests=guests, \n",
    "                                         usecase_name=usecase[2], \n",
    "                                         check_date=check_date, \n",
    "                                         debug_mode=False)\n",
    "                                    .select('customer_rk')\n",
    "                                    .distinct()\n",
    "           )"
   ]
  },
  {
   "cell_type": "code",
   "execution_count": null,
   "id": "b0b4677c",
   "metadata": {},
   "outputs": [],
   "source": [
    "seg_sms = seg_sms1.union(seg_sms2).union(seg_sms3).distinct()"
   ]
  },
  {
   "cell_type": "code",
   "execution_count": null,
   "id": "a6fbe48a",
   "metadata": {},
   "outputs": [],
   "source": [
    "seg_sms.write.parquet('temp13', mode='overwrite')\n",
    "seg_sms = spark.read.parquet('temp13')"
   ]
  },
  {
   "cell_type": "code",
   "execution_count": null,
   "id": "0bbe2763",
   "metadata": {},
   "outputs": [],
   "source": [
    "seg_sms.count()"
   ]
  },
  {
   "cell_type": "markdown",
   "id": "58ef0817",
   "metadata": {},
   "source": [
    "#### Отбираем тех, кто покупал продукты брендов"
   ]
  },
  {
   "cell_type": "code",
   "execution_count": null,
   "id": "bdf4f2b7",
   "metadata": {},
   "outputs": [],
   "source": [
    "loyalty_cards = (spark\n",
    "                    .table(LOYALTY_CARDS)\n",
    "                    .withColumnRenamed(\"loyalty_card_id\", \"loyalty_card_no\")\n",
    "                    .withColumnRenamed(\"loyalty_account_id\", \"account_no\")\n",
    "                    .withColumnRenamed(\"loyalty_account_acrm_id\", \"account_rk\")\n",
    "                    .select('account_no', 'loyalty_card_no')\n",
    "                )\n",
    "loyalty_cardholders = (spark\n",
    "                        .table(LOYALTY_CARDHOLDERS)\n",
    "                        .withColumnRenamed(\"loyalty_cardholder_acrm_id\", \"customer_rk\")\n",
    "                        .withColumnRenamed(\"loyalty_account_id\", \"account_no\")\n",
    "                        .select('account_no', 'customer_rk')\n",
    "                      )\n",
    "clients_info = loyalty_cards.join(loyalty_cardholders, on='account_no', how='inner')\n",
    "clients_info = clients_info.join(seg_women, on='customer_rk', how='inner')"
   ]
  },
  {
   "cell_type": "code",
   "execution_count": null,
   "id": "3976be9a",
   "metadata": {},
   "outputs": [],
   "source": [
    "loyalty_cardholders2 = (spark\n",
    "                        .table(LOYALTY_CARDHOLDERS)\n",
    "                        .withColumnRenamed(\"loyalty_cardholder_acrm_id\", \"customer_rk\")\n",
    "                        .withColumnRenamed(\"loyalty_account_id\", \"account_no\")\n",
    "                        .select('account_no', 'customer_rk')\n",
    "                      )\n",
    "clients_info2 = loyalty_cards.join(loyalty_cardholders2, on='account_no', how='inner')\n",
    "clients_info2 = clients_info2.join(seg_men, on='customer_rk', how='inner')"
   ]
  },
  {
   "cell_type": "code",
   "execution_count": null,
   "id": "402441db",
   "metadata": {},
   "outputs": [],
   "source": [
    "checks_headers_tc5 = checks_headers.join(clients_info, on='loyalty_card_no') #оставили чеки только нужных гостей"
   ]
  },
  {
   "cell_type": "code",
   "execution_count": null,
   "id": "267bab66",
   "metadata": {},
   "outputs": [],
   "source": [
    "checks_headers_tc52 = checks_headers.join(clients_info2, on='loyalty_card_no') #оставили чеки только нужных гостей"
   ]
  },
  {
   "cell_type": "code",
   "execution_count": null,
   "id": "5e5f5115",
   "metadata": {},
   "outputs": [],
   "source": [
    "checks_items = (spark.table(CHECKS_ITEMS) \n",
    "                    .withColumnRenamed('plu_id', 'plu_code')\n",
    "                    .withColumnRenamed('turnover_no_vat_amt', 'zsalnovat')\n",
    "                    .withColumnRenamed('turnover_vat_rub_amt', 'zsale_vat')\n",
    "                    .withColumnRenamed('prime_cost_no_vat_amt', 'zcst_n')\n",
    "                    .withColumnRenamed('turnover_base_uom_amt', 'base_qty')\n",
    "                    .withColumnRenamed('discount_amt', 'zdiscount')\n",
    "                    .withColumnRenamed('fact_regular_promo_flg', 'zpromofl')\n",
    "                    .filter(F.col('rtl_txn_dt').between(start_date, end_date))\n",
    "                    .filter((F.col('zsalnovat') >= 0) & (F.col('base_qty') >= 0) & (F.col('zcst_n') > 0)) #keep only correct data\n",
    "                        .select('plu_code' #items id\n",
    "                                , 'rtl_txn_id' #cheques id\n",
    "                               )\n",
    "                   )"
   ]
  },
  {
   "cell_type": "code",
   "execution_count": null,
   "id": "9a4d91b8",
   "metadata": {},
   "outputs": [],
   "source": [
    "plu_codes_cat2 = (spark\n",
    "                 .table(PRODUCTS)\n",
    "#                  .filter(F.col('plu_hierarchy_lvl_4_dk') == plu_hierarchy_lvl_4_dk)\n",
    "                 .filter(F.col('plu_brand_code').isin(['9347', '8027', '9346', '9336', 'B980']))\n",
    "#                  .filter(~F.col('plu_id').isin(plu_not_in))\n",
    "                 .select('plu_id')\n",
    "                 .distinct()\n",
    "                 .toPandas()['plu_id']\n",
    "                 .tolist()\n",
    "                )"
   ]
  },
  {
   "cell_type": "code",
   "execution_count": null,
   "id": "ac299a7f",
   "metadata": {},
   "outputs": [],
   "source": [
    "checks_items = checks_items.filter(F.col('plu_code').isin(plu_codes_cat2)) # только чеки с нужными plu"
   ]
  },
  {
   "cell_type": "code",
   "execution_count": null,
   "id": "a773637a",
   "metadata": {},
   "outputs": [],
   "source": [
    "checks_tc5 = checks_items.join(checks_headers_tc5, 'rtl_txn_id', how='inner')"
   ]
  },
  {
   "cell_type": "code",
   "execution_count": null,
   "id": "411770e2",
   "metadata": {},
   "outputs": [],
   "source": [
    "checks_tc52 = checks_items.join(checks_headers_tc52, 'rtl_txn_id', how='inner')"
   ]
  },
  {
   "cell_type": "code",
   "execution_count": null,
   "id": "7fe23063",
   "metadata": {},
   "outputs": [],
   "source": [
    "seg_women_brand = (checks_tc5.select('customer_rk')\n",
    "                  .distinct()\n",
    "      )"
   ]
  },
  {
   "cell_type": "code",
   "execution_count": null,
   "id": "6c404f51",
   "metadata": {},
   "outputs": [],
   "source": [
    "seg_men_brand = (checks_tc52.select('customer_rk')\n",
    "                  .distinct()\n",
    "      )"
   ]
  },
  {
   "cell_type": "code",
   "execution_count": null,
   "id": "b9b837c7",
   "metadata": {},
   "outputs": [],
   "source": [
    "seg_women_brand.write.parquet('temp14', mode='overwrite')\n",
    "seg_women_brand = spark.read.parquet('temp14')"
   ]
  },
  {
   "cell_type": "code",
   "execution_count": null,
   "id": "b377d3ad",
   "metadata": {},
   "outputs": [],
   "source": [
    "seg_men_brand.write.parquet('temp15', mode='overwrite')\n",
    "seg_men_brand = spark.read.parquet('temp15')"
   ]
  },
  {
   "cell_type": "code",
   "execution_count": null,
   "id": "ff48920b",
   "metadata": {},
   "outputs": [],
   "source": [
    "seg_women_brand.count()"
   ]
  },
  {
   "cell_type": "code",
   "execution_count": null,
   "id": "7ebe46af",
   "metadata": {},
   "outputs": [],
   "source": [
    "seg_men_brand.count()"
   ]
  },
  {
   "cell_type": "code",
   "execution_count": null,
   "id": "b0563981",
   "metadata": {},
   "outputs": [],
   "source": [
    "seg1_pd = seg_women.toPandas()"
   ]
  },
  {
   "cell_type": "code",
   "execution_count": null,
   "id": "f3d41627",
   "metadata": {},
   "outputs": [],
   "source": [
    "seg2_pd = seg_men.toPandas()"
   ]
  },
  {
   "cell_type": "code",
   "execution_count": null,
   "id": "272a841a",
   "metadata": {},
   "outputs": [],
   "source": [
    "seg3_pd = seg_women_brand.toPandas()"
   ]
  },
  {
   "cell_type": "code",
   "execution_count": null,
   "id": "7d86eac7",
   "metadata": {},
   "outputs": [],
   "source": [
    "seg4_pd = seg_men_brand.toPandas()"
   ]
  },
  {
   "cell_type": "code",
   "execution_count": null,
   "id": "9e8d1190",
   "metadata": {},
   "outputs": [],
   "source": [
    "print('seg1: {}, seg2: {}, seg3: {}, seg4: {}'.format(len(seg1_pd), len(seg2_pd), len(seg3_pd), len(seg4_pd)))"
   ]
  },
  {
   "cell_type": "code",
   "execution_count": null,
   "id": "199a782f",
   "metadata": {},
   "outputs": [],
   "source": [
    "def on_usecases(df, usecases='standart'):\n",
    "    if usecases == 'standart':\n",
    "        cross = (df.loc[(df['customer_rk'].str.endswith('1')) | (df['customer_rk'].str.endswith('2'))\n",
    "                  | (df['customer_rk'].str.endswith('3')) | (df['customer_rk'].str.endswith('4'))].reset_index(drop=True))\n",
    "        upgrade = (df.loc[(df['customer_rk'].str.endswith('5')) | (df['customer_rk'].str.endswith('6'))\n",
    "                  | (df['customer_rk'].str.endswith('7')) | (df['customer_rk'].str.endswith('8'))].reset_index(drop=True))\n",
    "        ump = df.loc[(df['customer_rk'].str.endswith('0')) | (df['customer_rk'].str.endswith('9'))].reset_index(drop=True)\n",
    "\n",
    "    return cross, upgrade, ump"
   ]
  },
  {
   "cell_type": "code",
   "execution_count": null,
   "id": "884df8a8",
   "metadata": {},
   "outputs": [],
   "source": [
    "seg_no = 'seg1'"
   ]
  },
  {
   "cell_type": "code",
   "execution_count": null,
   "id": "181ef4a4",
   "metadata": {},
   "outputs": [],
   "source": [
    "seg1_pd.to_csv(name + '_' + seg_no + '_All_uc' + str(dt) + '.csv', index=False)"
   ]
  },
  {
   "cell_type": "code",
   "execution_count": null,
   "id": "d5778524",
   "metadata": {},
   "outputs": [],
   "source": [
    "seg1_pd = seg1_pd.astype('str')"
   ]
  },
  {
   "cell_type": "code",
   "execution_count": null,
   "id": "69373221",
   "metadata": {},
   "outputs": [],
   "source": [
    "cross, upgrade, ump = on_usecases(seg1_pd)"
   ]
  },
  {
   "cell_type": "code",
   "execution_count": null,
   "id": "7c1d2f46",
   "metadata": {},
   "outputs": [],
   "source": [
    "cross.to_csv(name + '_' + seg_no + '_' + usecase[0] + '_' + str(dt) + '.csv', index=False)"
   ]
  },
  {
   "cell_type": "code",
   "execution_count": null,
   "id": "31d06b88",
   "metadata": {},
   "outputs": [],
   "source": [
    "upgrade.to_csv(name + '_' + seg_no + '_' + usecase[1] + '_' + str(dt) + '.csv', index=False)"
   ]
  },
  {
   "cell_type": "code",
   "execution_count": null,
   "id": "55b12138",
   "metadata": {},
   "outputs": [],
   "source": [
    "ump.to_csv(name + '_' + seg_no + '_' + usecase[2] + '_' + str(dt) + '.csv', index=False)"
   ]
  },
  {
   "cell_type": "code",
   "execution_count": null,
   "id": "d932a4f5",
   "metadata": {},
   "outputs": [],
   "source": [
    "print('seg_no: {}, cross: {}, upgrade: {}, ump: {}'.format(seg_no, len(cross), len(upgrade), len(ump)))"
   ]
  },
  {
   "cell_type": "code",
   "execution_count": null,
   "id": "73acf920",
   "metadata": {},
   "outputs": [],
   "source": [
    "seg_no = 'seg2'"
   ]
  },
  {
   "cell_type": "code",
   "execution_count": null,
   "id": "aa5daca8",
   "metadata": {},
   "outputs": [],
   "source": [
    "seg2_pd.to_csv(name + '_' + seg_no + '_All_uc' + str(dt) + '.csv', index=False)"
   ]
  },
  {
   "cell_type": "code",
   "execution_count": null,
   "id": "c75821d8",
   "metadata": {},
   "outputs": [],
   "source": [
    "seg2_pd = seg2_pd.astype('str')"
   ]
  },
  {
   "cell_type": "code",
   "execution_count": null,
   "id": "04a03ec7",
   "metadata": {},
   "outputs": [],
   "source": [
    "cross, upgrade, ump = on_usecases(seg2_pd)"
   ]
  },
  {
   "cell_type": "code",
   "execution_count": null,
   "id": "d8cc6018",
   "metadata": {},
   "outputs": [],
   "source": [
    "cross.to_csv(name + '_' + seg_no + '_' + usecase[0] + '_' + str(dt) + '.csv', index=False)"
   ]
  },
  {
   "cell_type": "code",
   "execution_count": null,
   "id": "ac9d52de",
   "metadata": {},
   "outputs": [],
   "source": [
    "upgrade.to_csv(name + '_' + seg_no + '_' + usecase[1] + '_' + str(dt) + '.csv', index=False)"
   ]
  },
  {
   "cell_type": "code",
   "execution_count": null,
   "id": "c2abd614",
   "metadata": {},
   "outputs": [],
   "source": [
    "ump.to_csv(name + '_' + seg_no + '_' + usecase[2] + '_' + str(dt) + '.csv', index=False)"
   ]
  },
  {
   "cell_type": "code",
   "execution_count": null,
   "id": "02ba51e9",
   "metadata": {},
   "outputs": [],
   "source": [
    "print('seg_no: {}, cross: {}, upgrade: {}, ump: {}'.format(seg_no, len(cross), len(upgrade), len(ump)))"
   ]
  },
  {
   "cell_type": "code",
   "execution_count": null,
   "id": "4017b5e8",
   "metadata": {},
   "outputs": [],
   "source": [
    "seg_no = 'seg3'"
   ]
  },
  {
   "cell_type": "code",
   "execution_count": null,
   "id": "6d942058",
   "metadata": {},
   "outputs": [],
   "source": [
    "seg3_pd.to_csv(name + '_' + seg_no + '_All_uc' + str(dt) + '.csv', index=False)"
   ]
  },
  {
   "cell_type": "code",
   "execution_count": null,
   "id": "67c2515d",
   "metadata": {},
   "outputs": [],
   "source": [
    "seg3_pd = seg3_pd.astype('str')"
   ]
  },
  {
   "cell_type": "code",
   "execution_count": null,
   "id": "cb809248",
   "metadata": {},
   "outputs": [],
   "source": [
    "cross, upgrade, ump = on_usecases(seg3_pd)"
   ]
  },
  {
   "cell_type": "code",
   "execution_count": null,
   "id": "88f31d78",
   "metadata": {},
   "outputs": [],
   "source": [
    "cross.to_csv(name + '_' + seg_no + '_' + usecase[0] + '_' + str(dt) + '.csv', index=False)"
   ]
  },
  {
   "cell_type": "code",
   "execution_count": null,
   "id": "cf87eed9",
   "metadata": {},
   "outputs": [],
   "source": [
    "upgrade.to_csv(name + '_' + seg_no + '_' + usecase[1] + '_' + str(dt) + '.csv', index=False)"
   ]
  },
  {
   "cell_type": "code",
   "execution_count": null,
   "id": "084d252b",
   "metadata": {},
   "outputs": [],
   "source": [
    "ump.to_csv(name + '_' + seg_no + '_' + usecase[2] + '_' + str(dt) + '.csv', index=False)"
   ]
  },
  {
   "cell_type": "code",
   "execution_count": null,
   "id": "7bc9f9a7",
   "metadata": {},
   "outputs": [],
   "source": [
    "print('seg_no: {}, cross: {}, upgrade: {}, ump: {}'.format(seg_no, len(cross), len(upgrade), len(ump)))"
   ]
  },
  {
   "cell_type": "code",
   "execution_count": null,
   "id": "17d172fc",
   "metadata": {},
   "outputs": [],
   "source": [
    "seg_no = 'seg4'"
   ]
  },
  {
   "cell_type": "code",
   "execution_count": null,
   "id": "1341b913",
   "metadata": {},
   "outputs": [],
   "source": [
    "seg4_pd.to_csv(name + '_' + seg_no + '_All_uc' + str(dt) + '.csv', index=False)"
   ]
  },
  {
   "cell_type": "code",
   "execution_count": null,
   "id": "64753e49",
   "metadata": {},
   "outputs": [],
   "source": [
    "seg4_pd = seg4_pd.astype('str')"
   ]
  },
  {
   "cell_type": "code",
   "execution_count": null,
   "id": "dcba4966",
   "metadata": {},
   "outputs": [],
   "source": [
    "cross, upgrade, ump = on_usecases(seg4_pd)"
   ]
  },
  {
   "cell_type": "code",
   "execution_count": null,
   "id": "e3e148bb",
   "metadata": {},
   "outputs": [],
   "source": [
    "cross.to_csv(name + '_' + seg_no + '_' + usecase[0] + '_' + str(dt) + '.csv', index=False)"
   ]
  },
  {
   "cell_type": "code",
   "execution_count": null,
   "id": "e23eda30",
   "metadata": {},
   "outputs": [],
   "source": [
    "upgrade.to_csv(name + '_' + seg_no + '_' + usecase[1] + '_' + str(dt) + '.csv', index=False)"
   ]
  },
  {
   "cell_type": "code",
   "execution_count": null,
   "id": "23d6ecbf",
   "metadata": {},
   "outputs": [],
   "source": [
    "ump.to_csv(name + '_' + seg_no + '_' + usecase[2] + '_' + str(dt) + '.csv', index=False)"
   ]
  },
  {
   "cell_type": "code",
   "execution_count": null,
   "id": "bcf9ed6a",
   "metadata": {},
   "outputs": [],
   "source": [
    "print('seg_no: {}, cross: {}, upgrade: {}, ump: {}'.format(seg_no, len(cross), len(upgrade), len(ump)))"
   ]
  },
  {
   "cell_type": "code",
   "execution_count": null,
   "id": "2de37779",
   "metadata": {},
   "outputs": [],
   "source": []
  }
 ],
 "metadata": {
  "kernelspec": {
   "display_name": "Python 3 (ipykernel)",
   "language": "python",
   "name": "python3"
  },
  "language_info": {
   "codemirror_mode": {
    "name": "ipython",
    "version": 3
   },
   "file_extension": ".py",
   "mimetype": "text/x-python",
   "name": "python",
   "nbconvert_exporter": "python",
   "pygments_lexer": "ipython3",
   "version": "3.7.10"
  }
 },
 "nbformat": 4,
 "nbformat_minor": 5
}
