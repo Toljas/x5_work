{
 "cells": [
  {
   "cell_type": "markdown",
   "id": "721925c2",
   "metadata": {},
   "source": [
    "https://jira.x5.ru/browse/CVMUPG-797"
   ]
  },
  {
   "cell_type": "code",
   "execution_count": 1,
   "id": "91a18098",
   "metadata": {},
   "outputs": [],
   "source": [
    "name = 'CVMUPG-797'"
   ]
  },
  {
   "cell_type": "code",
   "execution_count": 2,
   "id": "fa3ca2bb",
   "metadata": {},
   "outputs": [],
   "source": [
    "import os\n",
    "import re\n",
    "from pyspark.sql import SparkSession\n",
    "from typing import List, Dict, Callable\n",
    "import socket\n",
    "\n",
    "spark = None\n",
    "\n",
    "EXECUTOR_ENV = 'hdfs:///share/products/cvm5/lib/python/anaconda_2.4.4_ds.tar.gz'  # 2.4.4 \n",
    "SPARK_ARCHIVE = 'hdfs:///share/lib/spark/sparkjars-2.4.4.zip'                     # 2.4.4\n",
    "#EXECUTOR_ENV = 'hdfs:///share/lib/python/env/anaconda-2019.07.tar.gz'\n",
    "#SPARK_ARCHIVE = 'hdfs:///share/lib/spark/sparkjars-2.3.1.zip'\n",
    "\n",
    "os.environ[\"ARROW_LIBHDFS_DIR\"] = \"/usr/hdp/2.6.5.0-292/usr/lib\"\n",
    "os.environ['HADOOP_HOME'] = '/usr/hdp/current/hadoop-client/'\n",
    "os.environ['JAVA_HOME'] = '/usr/lib/jvm/java-8-openjdk-amd64/'\n",
    "os.environ['HADOOP_CONF_DIR'] = '/etc/hadoop/conf/'\n",
    "os.environ['SPARK_HOME'] = '/opt/conda/lib/python3.7/site-packages/pyspark'\n",
    "os.environ['PYSPARK_PYTHON'] = 'anaconda_2.4.4_ds.tar.gz/bin/python3'             # 2.4.4\n",
    "#os.environ['PYSPARK_PYTHON'] = 'anaconda-2019.07.tar.gz/bin/python3'\n",
    "\n",
    "\n",
    "\n",
    "\n",
    "\n",
    "\n",
    "def restart_spark(task_name: str, num_executors: int, executor_memory='4G', executor_cores=2,\n",
    "                  driver_memory='2G', queue='bdse', additional_params: Dict[str, str] = None):\n",
    "    global spark\n",
    "\n",
    "    if spark:\n",
    "        sc = spark.sparkContext\n",
    "        if sc and sc._jsc:\n",
    "            if not sc._jsc.sc().isStopped():\n",
    "                print('Using cached spark')\n",
    "                return sc, spark\n",
    "\n",
    "    need_ports_for_app = 3\n",
    "    user_tcp_ports = _get_user_tcp_ports()\n",
    "    free_ports = _get_free_ports(user_tcp_ports)\n",
    "    assert len(free_ports) >= need_ports_for_app, \\\n",
    "        f\"Not enough free ports ({len(free_ports)}), need {need_ports_for_app}, stop other apps\"\n",
    "    app_ports = free_ports[:need_ports_for_app]\n",
    "\n",
    "    host_ip = os.getenv('HOST_IP')\n",
    "    \n",
    "    spark_session = (\n",
    "        SparkSession\n",
    "        .builder\n",
    "        .appName(task_name)\n",
    "        .master('yarn')\n",
    "        .config('spark.driver.memory', driver_memory)\n",
    "        .config('spark.driver.maxResultSize', driver_memory)\n",
    "        .config('spark.executor.cores', executor_cores)\n",
    "        .config('spark.executor.memory', executor_memory)\n",
    "        .config('spark.executor.memoryOverhead', '1G')\n",
    "        .config('spark.dynamicAllocation.enabled', 'true')\n",
    "        .config('spark.dynamicAllocation.maxExecutors', num_executors)\n",
    "        .config('spark.sql.broadcastTimeout', '36000')\n",
    "        .config('spark.dynamicAllocation.cachedExecutorIdleTimeout', '1200s')\n",
    "        .config('spark.ui.port', app_ports[0])\n",
    "        .config('spark.blockManager.port', app_ports[1])\n",
    "        .config('spark.driver.port', app_ports[2])\n",
    "        .config('spark.driver.host', host_ip)\n",
    "        .config('spark.driver.bindAddress', '0.0.0.0')\n",
    "        .config('spark.driver.extraLibraryPath', '/usr/hdp/2.6.5.0-292/hadoop/lib/native')\n",
    "        .config('spark.driver.extraJavaOptions', '-Dhdp.version=current')\n",
    "        .config('spark.debug.maxToStringFields', '50')\n",
    "        .config('spark.yarn.queue', queue)\n",
    "        .config('spark.yarn.dist.archives', EXECUTOR_ENV)\n",
    "        .config('spark.yarn.archive', SPARK_ARCHIVE)\n",
    "        .config('spark.yarn.am.extraJavaOptions', '-Dhdp.version=current')\n",
    "        .config('spark.rpc.message.maxSize', '1024')\n",
    "        .config('spark.sql.warehouse.dir', '/apps/hive/warehouse')\n",
    "        .config('spark.sql.execution.pandas.respectSessionTimeZone', 'false')\n",
    "        .config('spark.sql.orc.filterPushdown', 'true')\n",
    "        .config('spark.sql.hive.convertMetastoreOrc', 'true')\n",
    "        .config('spark.shuffle.service.enabled', 'true')\n",
    "        .config('spark.hadoop.yarn.timeline-service.enabled', 'false')\n",
    "        .config('spark.hadoop.yarn.client.failover-proxy-provider',\n",
    "                'org.apache.hadoop.yarn.client.ConfiguredRMFailoverProxyProvider')\n",
    "        .config('spark.serializer', 'org.apache.spark.serializer.KryoSerializer')\n",
    "        .config('spark.kryoserializer.buffer.max', '128m')\n",
    "        .config('spark.executor.extraLibraryPath', '/usr/hdp/2.6.5.0-292/hadoop/lib/native')\n",
    "    )\n",
    "\n",
    "    if additional_params:\n",
    "        for key, value in additional_params.items():\n",
    "            spark_session = spark_session.config(key, value)\n",
    "\n",
    "    spark = (\n",
    "        spark_session\n",
    "        .enableHiveSupport()\n",
    "        .getOrCreate()\n",
    "    )\n",
    "    sc = spark.sparkContext\n",
    "\n",
    "    return sc, spark\n",
    "\n",
    "\n",
    "def _get_user_tcp_ports() -> List[str]:\n",
    "    regexp = re.compile(r'-2e')\n",
    "    envuser= os.getenv('HOSTNAME')\n",
    "    if regexp.search(envuser):       \n",
    "      _, user_name, user_surname = envuser.upper().split('-')\n",
    "      user_full_name = '_'.join([user_name, user_surname])\n",
    "    else:\n",
    "      _, user_name  = envuser.upper().split('-') \n",
    "      user_full_name = user_name\n",
    "    user_tcp_ports = [v for k, v in os.environ.items() if user_full_name in k and k.endswith('TCP_PORT')]\n",
    "    return user_tcp_ports\n",
    "\n",
    "\n",
    "def _get_free_ports(ports: List[str]):\n",
    "    free_ports = []\n",
    "    for port in ports:\n",
    "        with socket.socket(socket.AF_INET, socket.SOCK_STREAM) as s:\n",
    "            if s.connect_ex(('0.0.0.0', int(port))) != 0:\n",
    "                free_ports.append(port)\n",
    "    return free_ports\n"
   ]
  },
  {
   "cell_type": "code",
   "execution_count": 3,
   "id": "e8ef9585",
   "metadata": {},
   "outputs": [
    {
     "name": "stderr",
     "output_type": "stream",
     "text": [
      "Setting default log level to \"WARN\".\n",
      "To adjust logging level use sc.setLogLevel(newLevel). For SparkR, use setLogLevel(newLevel).\n"
     ]
    }
   ],
   "source": [
    "sc, spark = restart_spark(\n",
    "                    name, \n",
    "                    21, \n",
    "                    executor_memory='5G', \n",
    "                    executor_cores=3, \n",
    "                    driver_memory='7G', \n",
    "                    additional_params={\"spark.sql.shuffle.partitions\": \"300\"})"
   ]
  },
  {
   "cell_type": "code",
   "execution_count": 4,
   "id": "ece457d8",
   "metadata": {},
   "outputs": [],
   "source": [
    "sc.setLogLevel('ERROR')"
   ]
  },
  {
   "cell_type": "code",
   "execution_count": 5,
   "id": "15a2fb1c",
   "metadata": {},
   "outputs": [],
   "source": [
    "import pandas as pd\n",
    "import sys\n",
    "from pyspark.sql import functions as F\n",
    "import datetime\n",
    "from datetime import timedelta\n",
    "\n",
    "sys.path.append('/home/jovyan/glow-byte-filters-pyspark')\n",
    "from logic_filters import * "
   ]
  },
  {
   "cell_type": "code",
   "execution_count": 6,
   "id": "aceb9e50",
   "metadata": {},
   "outputs": [],
   "source": [
    "LOYALTY_CARDS = \"hive_ssa_tc5.loyalty_card\"\n",
    "LOYALTY_CARDHOLDERS = \"hive_ssa_tc5.loyalty_cardholder\"\n",
    "ACCOUNTS = \"hive_ssa_tc5.account\"\n",
    "CVM5_GUESTS = \"hive_cvm_acrm.cvm5_guests\"\n",
    "\n",
    "DIM_STORE = \"hive_ssa_main.dim_store\"\n",
    "CHECKS_HEADERS = \"hive_ssa_main.fct_rtl_txn\"\n",
    "CHECKS_ITEMS = \"hive_ssa_main.fct_rtl_txn_item\"\n",
    "PRODUCTS = \"hive_ssa_tc5.cvm_product\""
   ]
  },
  {
   "cell_type": "markdown",
   "id": "87c5765c",
   "metadata": {},
   "source": [
    "# seg1"
   ]
  },
  {
   "cell_type": "markdown",
   "id": "4af7ceab",
   "metadata": {},
   "source": [
    "### Выбираем гостей нужного юзкейса"
   ]
  },
  {
   "cell_type": "code",
   "execution_count": 7,
   "id": "7e177bc3",
   "metadata": {},
   "outputs": [],
   "source": [
    "usecase = ['cross', 'upgrade', 'ump']\n",
    "dt = datetime.date.today()"
   ]
  },
  {
   "cell_type": "code",
   "execution_count": 8,
   "id": "62093c75",
   "metadata": {},
   "outputs": [],
   "source": [
    "customers_usecase = (spark\n",
    "                     .table(CVM5_GUESTS)\n",
    "                     .filter(F.col('calculation_dt') >= dt)\n",
    "                     .filter(F.col('usecase').isin(usecase))\n",
    "                     .select('account_no', 'customer_rk')\n",
    "                            )"
   ]
  },
  {
   "cell_type": "markdown",
   "id": "526fdf4b",
   "metadata": {},
   "source": [
    "### По этой активной базе отсекаем ГКГ, проверяем доступность в канале смс вайбер на 25 ноября."
   ]
  },
  {
   "cell_type": "code",
   "execution_count": 9,
   "id": "3a9e45f2",
   "metadata": {},
   "outputs": [],
   "source": [
    "check_date = '2021-11-25'"
   ]
  },
  {
   "cell_type": "code",
   "execution_count": 10,
   "id": "b8d201db",
   "metadata": {},
   "outputs": [
    {
     "name": "stderr",
     "output_type": "stream",
     "text": [
      "                                                                                \r"
     ]
    },
    {
     "name": "stdout",
     "output_type": "stream",
     "text": [
      "\u001b[92m Фильтр Глобальная контрольная группа - валиден.\n"
     ]
    },
    {
     "name": "stderr",
     "output_type": "stream",
     "text": [
      "[Stage 6:======================================================>(299 + 1) / 300]"
     ]
    },
    {
     "name": "stdout",
     "output_type": "stream",
     "text": [
      "\t\u001b[94m Отсёк 1 354 431 записей.\n"
     ]
    },
    {
     "name": "stderr",
     "output_type": "stream",
     "text": [
      "                                                                                \r"
     ]
    }
   ],
   "source": [
    "guests = remove_global_control_group(spark, customers_usecase, check_date)"
   ]
  },
  {
   "cell_type": "code",
   "execution_count": 11,
   "id": "c9850aa5",
   "metadata": {},
   "outputs": [
    {
     "name": "stdout",
     "output_type": "stream",
     "text": [
      "\u001b[93m Время выполнения: 0:00:07\n"
     ]
    }
   ],
   "source": [
    "seg_sms1 = (sms_channel_filters_glowbyte(spark=spark,\n",
    "                                         guests=guests, \n",
    "                                         usecase_name=usecase[0], \n",
    "                                         check_date=check_date, \n",
    "                                         debug_mode=False)\n",
    "                                    .select('customer_rk')\n",
    "                                    .distinct()\n",
    "           )"
   ]
  },
  {
   "cell_type": "code",
   "execution_count": 12,
   "id": "e4eaf628",
   "metadata": {},
   "outputs": [
    {
     "name": "stdout",
     "output_type": "stream",
     "text": [
      "\u001b[93m Время выполнения: 0:00:05\n"
     ]
    }
   ],
   "source": [
    "seg_sms2 = (sms_channel_filters_glowbyte(spark=spark,\n",
    "                                         guests=guests, \n",
    "                                         usecase_name=usecase[1], \n",
    "                                         check_date=check_date, \n",
    "                                         debug_mode=False)\n",
    "                                    .select('customer_rk')\n",
    "                                    .distinct()\n",
    "           )"
   ]
  },
  {
   "cell_type": "code",
   "execution_count": 13,
   "id": "bee2f42e",
   "metadata": {},
   "outputs": [
    {
     "name": "stdout",
     "output_type": "stream",
     "text": [
      "\u001b[93m Время выполнения: 0:00:08\n"
     ]
    }
   ],
   "source": [
    "seg_sms3 = (sms_channel_filters_glowbyte(spark=spark,\n",
    "                                         guests=guests, \n",
    "                                         usecase_name=usecase[2], \n",
    "                                         check_date=check_date, \n",
    "                                         debug_mode=False)\n",
    "                                    .select('customer_rk')\n",
    "                                    .distinct()\n",
    "           )"
   ]
  },
  {
   "cell_type": "code",
   "execution_count": 14,
   "id": "99bceca0",
   "metadata": {},
   "outputs": [],
   "source": [
    "seg_sms = seg_sms1.union(seg_sms2).union(seg_sms3).distinct()"
   ]
  },
  {
   "cell_type": "code",
   "execution_count": 15,
   "id": "6f0f1a0b",
   "metadata": {},
   "outputs": [
    {
     "name": "stderr",
     "output_type": "stream",
     "text": [
      "                                                                                0]]]\r"
     ]
    }
   ],
   "source": [
    "seg_sms.write.parquet('temp11', mode='overwrite')\n",
    "seg_sms = spark.read.parquet('temp11')"
   ]
  },
  {
   "cell_type": "code",
   "execution_count": 16,
   "id": "2687eb95",
   "metadata": {},
   "outputs": [
    {
     "data": {
      "text/plain": [
       "2183084"
      ]
     },
     "execution_count": 16,
     "metadata": {},
     "output_type": "execute_result"
    }
   ],
   "source": [
    "seg_sms.count()"
   ]
  },
  {
   "cell_type": "markdown",
   "id": "2d270798",
   "metadata": {},
   "source": [
    "### Собираем чеки этих гостей"
   ]
  },
  {
   "cell_type": "code",
   "execution_count": 17,
   "id": "f500a91b",
   "metadata": {},
   "outputs": [],
   "source": [
    "start_date = datetime.date(2021, 8, 1)\n",
    "end_date = datetime.date(2021, 11, 1)"
   ]
  },
  {
   "cell_type": "code",
   "execution_count": 18,
   "id": "4f87aee1",
   "metadata": {},
   "outputs": [],
   "source": [
    "checks_headers = (spark.table(CHECKS_HEADERS)\n",
    "                      .filter(F.col('rtl_txn_dt').between(start_date, end_date))\n",
    "                      .filter((F.col('loyalty_card_no') != '') & (F.col('loyalty_card_no').isNotNull()))\n",
    "                      .filter(F.col('financial_unit_format_dk') == 'D')\n",
    "                      .filter(F.col('rtl_txn_cancel_flg') == 0)\n",
    "                      .select('rtl_txn_id', 'loyalty_card_no')\n",
    "                     )\n"
   ]
  },
  {
   "cell_type": "code",
   "execution_count": 19,
   "id": "aab2e235",
   "metadata": {},
   "outputs": [],
   "source": [
    "loyalty_cards = (spark\n",
    "                    .table(LOYALTY_CARDS)\n",
    "                    .withColumnRenamed(\"loyalty_card_id\", \"loyalty_card_no\")\n",
    "                    .withColumnRenamed(\"loyalty_account_id\", \"account_no\")\n",
    "                    .withColumnRenamed(\"loyalty_account_acrm_id\", \"account_rk\")\n",
    "                    .select('account_no', 'loyalty_card_no')\n",
    "                )\n",
    "loyalty_cardholders = (spark\n",
    "                        .table(LOYALTY_CARDHOLDERS)\n",
    "                        .filter(((F.col('loyalty_cardholder_age_yrs') >= 25) & \n",
    "                                (F.col('loyalty_cardholder_age_yrs') <= 65)) | \n",
    "                                (~F.col('loyalty_cardholder_age_yrs').isNotNull()))\n",
    "                        .filter(F.col('gender_dk') == 'F')\n",
    "                        .withColumnRenamed(\"loyalty_cardholder_acrm_id\", \"customer_rk\")\n",
    "                        .withColumnRenamed(\"loyalty_account_id\", \"account_no\")\n",
    "                        .select('account_no', 'customer_rk')\n",
    "                      )\n",
    "clients_info = loyalty_cards.join(loyalty_cardholders, on='account_no', how='inner')\n",
    "clients_info = clients_info.join(seg_sms, on='customer_rk', how='inner')"
   ]
  },
  {
   "cell_type": "code",
   "execution_count": 20,
   "id": "84a48af9",
   "metadata": {},
   "outputs": [],
   "source": [
    "loyalty_cardholders2 = (spark\n",
    "                        .table(LOYALTY_CARDHOLDERS)\n",
    "                        .filter((F.col('loyalty_cardholder_age_yrs') >= 25) & \n",
    "                                (F.col('loyalty_cardholder_age_yrs') <= 65))\n",
    "                        .filter(F.col('gender_dk') == 'M')\n",
    "                        .withColumnRenamed(\"loyalty_cardholder_acrm_id\", \"customer_rk\")\n",
    "                        .withColumnRenamed(\"loyalty_account_id\", \"account_no\")\n",
    "                        .select('account_no', 'customer_rk')\n",
    "                      )\n",
    "clients_info2 = loyalty_cards.join(loyalty_cardholders2, on='account_no', how='inner')\n",
    "clients_info2 = clients_info2.join(seg_sms, on='customer_rk', how='inner')"
   ]
  },
  {
   "cell_type": "code",
   "execution_count": 21,
   "id": "0b27556f",
   "metadata": {},
   "outputs": [],
   "source": [
    "checks_headers_tc5 = checks_headers.join(clients_info, on='loyalty_card_no') #оставили чеки только нужных гостей"
   ]
  },
  {
   "cell_type": "code",
   "execution_count": 22,
   "id": "17a03fa8",
   "metadata": {},
   "outputs": [],
   "source": [
    "checks_headers_tc5_2 = checks_headers.join(clients_info2, on='loyalty_card_no') #оставили чеки только нужных гостей"
   ]
  },
  {
   "cell_type": "code",
   "execution_count": 23,
   "id": "0cef638b",
   "metadata": {},
   "outputs": [],
   "source": [
    "checks_items = (spark.table(CHECKS_ITEMS) \n",
    "                    .withColumnRenamed('plu_id', 'plu_code')\n",
    "                    .withColumnRenamed('turnover_no_vat_amt', 'zsalnovat')\n",
    "                    .withColumnRenamed('turnover_vat_rub_amt', 'zsale_vat')\n",
    "                    .withColumnRenamed('prime_cost_no_vat_amt', 'zcst_n')\n",
    "                    .withColumnRenamed('turnover_base_uom_amt', 'base_qty')\n",
    "                    .withColumnRenamed('discount_amt', 'zdiscount')\n",
    "                    .withColumnRenamed('fact_regular_promo_flg', 'zpromofl')\n",
    "                    .filter(F.col('rtl_txn_dt').between(start_date, end_date))\n",
    "                    .filter((F.col('zsalnovat') >= 0) & (F.col('base_qty') >= 0) & (F.col('zcst_n') > 0)) #keep only correct data\n",
    "                        .select('plu_code' #items id\n",
    "                                , 'rtl_txn_id' #cheques id\n",
    "                               )\n",
    "                   )\n"
   ]
  },
  {
   "cell_type": "markdown",
   "id": "6867ce04",
   "metadata": {},
   "source": [
    "#### Отбираем тех, кто покупал продукты в категории масло"
   ]
  },
  {
   "cell_type": "markdown",
   "id": "2be68370",
   "metadata": {},
   "source": [
    "##### Отбираем PLU определенной категории (масло растительное) 1 л"
   ]
  },
  {
   "cell_type": "code",
   "execution_count": 24,
   "id": "0cd7f742",
   "metadata": {},
   "outputs": [
    {
     "name": "stderr",
     "output_type": "stream",
     "text": [
      "                                                                                \r"
     ]
    }
   ],
   "source": [
    "plu_codes_cat = (spark\n",
    "                 .table(PRODUCTS)\n",
    "#                  .filter(F.col('plu_hierarchy_lvl_4_dk') == plu_hierarchy_lvl_4_dk)\n",
    "#                  .filter(F.col('plu_brand_code').isin(plu_brand_code))\n",
    "                 .filter(F.col('syntethic_category_id').isin([74]))\n",
    "#                  .filter(~F.col('plu_id').isin(plu_not_in))\n",
    "                 .select('plu_id')\n",
    "                 .distinct()\n",
    "                 .toPandas()['plu_id']\n",
    "                 .tolist()\n",
    "                )"
   ]
  },
  {
   "cell_type": "code",
   "execution_count": 25,
   "id": "5a29337e",
   "metadata": {},
   "outputs": [],
   "source": [
    "checks_items = checks_items.filter(F.col('plu_code').isin(plu_codes_cat)) # только чеки с нужными plu"
   ]
  },
  {
   "cell_type": "code",
   "execution_count": 26,
   "id": "6f37471b",
   "metadata": {},
   "outputs": [],
   "source": [
    "checks_tc5 = checks_items.join(checks_headers_tc5, on='rtl_txn_id', how='inner')"
   ]
  },
  {
   "cell_type": "code",
   "execution_count": 27,
   "id": "af53cbe1",
   "metadata": {},
   "outputs": [],
   "source": [
    "checks_tc5_2 = checks_items.join(checks_headers_tc5_2, on='rtl_txn_id', how='inner')"
   ]
  },
  {
   "cell_type": "code",
   "execution_count": 44,
   "id": "ea58f85d",
   "metadata": {},
   "outputs": [],
   "source": [
    "seg_women = checks_tc5.withColumn('gender', F.lit('F')).select('customer_rk', 'gender').distinct()"
   ]
  },
  {
   "cell_type": "code",
   "execution_count": 45,
   "id": "9a352b3d",
   "metadata": {},
   "outputs": [],
   "source": [
    "seg_men = (checks_tc5_2\n",
    "           .withColumn('gender', F.lit('M'))\n",
    "           .select('customer_rk', 'gender')\n",
    "           .distinct()\n",
    "      )"
   ]
  },
  {
   "cell_type": "code",
   "execution_count": 46,
   "id": "c9605a36",
   "metadata": {},
   "outputs": [],
   "source": [
    "seg_union = seg_women.union(seg_men)"
   ]
  },
  {
   "cell_type": "code",
   "execution_count": 47,
   "id": "1532e1c7",
   "metadata": {
    "scrolled": true
   },
   "outputs": [
    {
     "name": "stderr",
     "output_type": "stream",
     "text": [
      "                                                                                ]]]\r"
     ]
    }
   ],
   "source": [
    "seg_union.write.parquet('temp12', mode='overwrite')\n",
    "seg_union = spark.read.parquet('temp12')"
   ]
  },
  {
   "cell_type": "code",
   "execution_count": 48,
   "id": "03f01c74",
   "metadata": {},
   "outputs": [
    {
     "name": "stderr",
     "output_type": "stream",
     "text": [
      "                                                                                \r"
     ]
    },
    {
     "data": {
      "text/plain": [
       "498746"
      ]
     },
     "execution_count": 48,
     "metadata": {},
     "output_type": "execute_result"
    }
   ],
   "source": [
    "seg_union.count()"
   ]
  },
  {
   "cell_type": "markdown",
   "id": "bf0c973e",
   "metadata": {},
   "source": [
    "#### Сегмент потребителей масла растительного готов"
   ]
  },
  {
   "cell_type": "markdown",
   "id": "fb99666a",
   "metadata": {},
   "source": [
    "#### Отбираем тех, кто покупал продукты брендов"
   ]
  },
  {
   "cell_type": "code",
   "execution_count": 49,
   "id": "b5bd68da",
   "metadata": {},
   "outputs": [],
   "source": [
    "loyalty_cards = (spark\n",
    "                    .table(LOYALTY_CARDS)\n",
    "                    .withColumnRenamed(\"loyalty_card_id\", \"loyalty_card_no\")\n",
    "                    .withColumnRenamed(\"loyalty_account_id\", \"account_no\")\n",
    "                    .withColumnRenamed(\"loyalty_account_acrm_id\", \"account_rk\")\n",
    "                    .select('account_no', 'loyalty_card_no')\n",
    "                )\n",
    "loyalty_cardholders = (spark\n",
    "                        .table(LOYALTY_CARDHOLDERS)\n",
    "                        .withColumnRenamed(\"loyalty_cardholder_acrm_id\", \"customer_rk\")\n",
    "                        .withColumnRenamed(\"loyalty_account_id\", \"account_no\")\n",
    "                        .select('account_no', 'customer_rk')\n",
    "                      )\n",
    "clients_info = loyalty_cards.join(loyalty_cardholders, on='account_no', how='inner')\n",
    "clients_info = clients_info.join(seg_union, on='customer_rk', how='inner')"
   ]
  },
  {
   "cell_type": "code",
   "execution_count": 50,
   "id": "36f53c05",
   "metadata": {},
   "outputs": [],
   "source": [
    "checks_headers_tc5 = checks_headers.join(clients_info, on='loyalty_card_no') #оставили чеки только нужных гостей"
   ]
  },
  {
   "cell_type": "code",
   "execution_count": 51,
   "id": "1748b08d",
   "metadata": {},
   "outputs": [],
   "source": [
    "checks_items = (spark.table(CHECKS_ITEMS) \n",
    "                    .withColumnRenamed('plu_id', 'plu_code')\n",
    "                    .withColumnRenamed('turnover_no_vat_amt', 'zsalnovat')\n",
    "                    .withColumnRenamed('turnover_vat_rub_amt', 'zsale_vat')\n",
    "                    .withColumnRenamed('prime_cost_no_vat_amt', 'zcst_n')\n",
    "                    .withColumnRenamed('turnover_base_uom_amt', 'base_qty')\n",
    "                    .withColumnRenamed('discount_amt', 'zdiscount')\n",
    "                    .withColumnRenamed('fact_regular_promo_flg', 'zpromofl')\n",
    "                    .filter(F.col('rtl_txn_dt').between(start_date, end_date))\n",
    "                    .filter((F.col('zsalnovat') >= 0) & (F.col('base_qty') >= 0) & (F.col('zcst_n') > 0)) #keep only correct data\n",
    "                        .select('plu_code' #items id\n",
    "                                , 'rtl_txn_id' #cheques id\n",
    "                               )\n",
    "                   )"
   ]
  },
  {
   "cell_type": "code",
   "execution_count": 52,
   "id": "ffb42047",
   "metadata": {},
   "outputs": [
    {
     "name": "stderr",
     "output_type": "stream",
     "text": [
      "                                                                                \r"
     ]
    }
   ],
   "source": [
    "plu_codes_cat2 = (spark\n",
    "                 .table(PRODUCTS)\n",
    "#                  .filter(F.col('plu_hierarchy_lvl_4_dk') == plu_hierarchy_lvl_4_dk)\n",
    "                 .filter(F.col('plu_brand_code').isin(['9347', '8027', '9346', '9336', 'B980']))\n",
    "#                  .filter(~F.col('plu_id').isin(plu_not_in))\n",
    "                 .select('plu_id')\n",
    "                 .distinct()\n",
    "                 .toPandas()['plu_id']\n",
    "                 .tolist()\n",
    "                )"
   ]
  },
  {
   "cell_type": "code",
   "execution_count": 53,
   "id": "5b177c74",
   "metadata": {},
   "outputs": [],
   "source": [
    "checks_items = checks_items.filter(F.col('plu_code').isin(plu_codes_cat2)) # только чеки с нужными plu"
   ]
  },
  {
   "cell_type": "code",
   "execution_count": 54,
   "id": "3b3a0345",
   "metadata": {},
   "outputs": [],
   "source": [
    "checks_tc5 = checks_items.join(checks_headers_tc5, 'rtl_txn_id', how='inner')"
   ]
  },
  {
   "cell_type": "code",
   "execution_count": 60,
   "id": "f896af46",
   "metadata": {},
   "outputs": [],
   "source": [
    "seg_union_brand = (checks_tc5.select('customer_rk', 'gender')\n",
    "                  .distinct()\n",
    "      )"
   ]
  },
  {
   "cell_type": "code",
   "execution_count": 61,
   "id": "c2d14fe0",
   "metadata": {},
   "outputs": [
    {
     "name": "stderr",
     "output_type": "stream",
     "text": [
      "                                                                                 6928]\r"
     ]
    }
   ],
   "source": [
    "seg_union_brand.write.parquet('temp13', mode='overwrite')\n",
    "seg_union_brand = spark.read.parquet('temp13')"
   ]
  },
  {
   "cell_type": "code",
   "execution_count": 62,
   "id": "3a3e5c2f",
   "metadata": {},
   "outputs": [
    {
     "name": "stderr",
     "output_type": "stream",
     "text": [
      "                                                                                \r"
     ]
    },
    {
     "data": {
      "text/plain": [
       "375545"
      ]
     },
     "execution_count": 62,
     "metadata": {},
     "output_type": "execute_result"
    }
   ],
   "source": [
    "seg_union_brand.count()"
   ]
  },
  {
   "cell_type": "code",
   "execution_count": 63,
   "id": "0bbb49da",
   "metadata": {},
   "outputs": [
    {
     "name": "stderr",
     "output_type": "stream",
     "text": [
      "                                                                                \r"
     ]
    }
   ],
   "source": [
    "seg_pd = seg_union.toPandas()"
   ]
  },
  {
   "cell_type": "code",
   "execution_count": 64,
   "id": "ddf30c03",
   "metadata": {},
   "outputs": [
    {
     "name": "stderr",
     "output_type": "stream",
     "text": [
      "21/11/24 15:12:36 ERROR client.TransportClient: Failed to send RPC RPC 6425125769648841476 to /192.168.234.57:53798: java.nio.channels.ClosedChannelException\n",
      "java.nio.channels.ClosedChannelException\n",
      "\tat io.netty.channel.AbstractChannel$AbstractUnsafe.write(...)(Unknown Source)\n",
      "21/11/24 15:12:36 ERROR client.TransportClient: Failed to send RPC RPC 7768892084552438452 to /192.168.234.57:53798: java.nio.channels.ClosedChannelException\n",
      "java.nio.channels.ClosedChannelException\n",
      "\tat io.netty.channel.AbstractChannel$AbstractUnsafe.write(...)(Unknown Source)\n",
      "21/11/24 15:12:36 ERROR cluster.YarnScheduler: Lost executor 117 on mn-hd0172.x5.ru: Slave lost\n",
      "21/11/24 15:12:36 ERROR cluster.YarnScheduler: Lost executor 116 on mn-hd0127.x5.ru: Slave lost\n",
      "21/11/24 15:12:36 ERROR client.TransportClient: Failed to send RPC RPC 7654263213903650146 to /192.168.234.57:53798: java.nio.channels.ClosedChannelException\n",
      "java.nio.channels.ClosedChannelException\n",
      "\tat io.netty.channel.AbstractChannel$AbstractUnsafe.write(...)(Unknown Source)\n",
      "21/11/24 15:12:37 ERROR client.TransportClient: Failed to send RPC RPC 5794815948753973375 to /192.168.234.57:53798: java.nio.channels.ClosedChannelException\n",
      "java.nio.channels.ClosedChannelException\n",
      "\tat io.netty.channel.AbstractChannel$AbstractUnsafe.write(...)(Unknown Source)\n",
      "21/11/24 15:12:37 ERROR client.TransportClient: Failed to send RPC RPC 7392241914766418766 to /192.168.234.57:53798: java.nio.channels.ClosedChannelException\n",
      "java.nio.channels.ClosedChannelException\n",
      "\tat io.netty.channel.AbstractChannel$AbstractUnsafe.write(...)(Unknown Source)\n",
      "21/11/24 15:12:37 ERROR client.TransportClient: Failed to send RPC RPC 7100535491711941415 to /192.168.234.57:53798: java.nio.channels.ClosedChannelException\n",
      "java.nio.channels.ClosedChannelException\n",
      "\tat io.netty.channel.AbstractChannel$AbstractUnsafe.write(...)(Unknown Source)\n",
      "21/11/24 15:12:37 ERROR client.TransportClient: Failed to send RPC RPC 4693093445111255476 to /192.168.234.57:53798: java.nio.channels.ClosedChannelException\n",
      "java.nio.channels.ClosedChannelException\n",
      "\tat io.netty.channel.AbstractChannel$AbstractUnsafe.write(...)(Unknown Source)\n"
     ]
    }
   ],
   "source": [
    "seg2_pd = seg_union_brand.toPandas()"
   ]
  },
  {
   "cell_type": "code",
   "execution_count": 66,
   "id": "639c979d",
   "metadata": {},
   "outputs": [
    {
     "data": {
      "text/html": [
       "<div>\n",
       "<style scoped>\n",
       "    .dataframe tbody tr th:only-of-type {\n",
       "        vertical-align: middle;\n",
       "    }\n",
       "\n",
       "    .dataframe tbody tr th {\n",
       "        vertical-align: top;\n",
       "    }\n",
       "\n",
       "    .dataframe thead th {\n",
       "        text-align: right;\n",
       "    }\n",
       "</style>\n",
       "<table border=\"1\" class=\"dataframe\">\n",
       "  <thead>\n",
       "    <tr style=\"text-align: right;\">\n",
       "      <th></th>\n",
       "      <th>customer_rk</th>\n",
       "      <th>gender</th>\n",
       "    </tr>\n",
       "  </thead>\n",
       "  <tbody>\n",
       "    <tr>\n",
       "      <th>0</th>\n",
       "      <td>23820760</td>\n",
       "      <td>F</td>\n",
       "    </tr>\n",
       "    <tr>\n",
       "      <th>1</th>\n",
       "      <td>125058996</td>\n",
       "      <td>F</td>\n",
       "    </tr>\n",
       "    <tr>\n",
       "      <th>2</th>\n",
       "      <td>14675917</td>\n",
       "      <td>F</td>\n",
       "    </tr>\n",
       "    <tr>\n",
       "      <th>3</th>\n",
       "      <td>45718683</td>\n",
       "      <td>F</td>\n",
       "    </tr>\n",
       "    <tr>\n",
       "      <th>4</th>\n",
       "      <td>22682921</td>\n",
       "      <td>F</td>\n",
       "    </tr>\n",
       "    <tr>\n",
       "      <th>...</th>\n",
       "      <td>...</td>\n",
       "      <td>...</td>\n",
       "    </tr>\n",
       "    <tr>\n",
       "      <th>498741</th>\n",
       "      <td>34532354</td>\n",
       "      <td>M</td>\n",
       "    </tr>\n",
       "    <tr>\n",
       "      <th>498742</th>\n",
       "      <td>97862792</td>\n",
       "      <td>M</td>\n",
       "    </tr>\n",
       "    <tr>\n",
       "      <th>498743</th>\n",
       "      <td>37633574</td>\n",
       "      <td>M</td>\n",
       "    </tr>\n",
       "    <tr>\n",
       "      <th>498744</th>\n",
       "      <td>13277450</td>\n",
       "      <td>M</td>\n",
       "    </tr>\n",
       "    <tr>\n",
       "      <th>498745</th>\n",
       "      <td>59127810</td>\n",
       "      <td>M</td>\n",
       "    </tr>\n",
       "  </tbody>\n",
       "</table>\n",
       "<p>498746 rows × 2 columns</p>\n",
       "</div>"
      ],
      "text/plain": [
       "       customer_rk gender\n",
       "0         23820760      F\n",
       "1        125058996      F\n",
       "2         14675917      F\n",
       "3         45718683      F\n",
       "4         22682921      F\n",
       "...            ...    ...\n",
       "498741    34532354      M\n",
       "498742    97862792      M\n",
       "498743    37633574      M\n",
       "498744    13277450      M\n",
       "498745    59127810      M\n",
       "\n",
       "[498746 rows x 2 columns]"
      ]
     },
     "execution_count": 66,
     "metadata": {},
     "output_type": "execute_result"
    }
   ],
   "source": [
    "seg_pd"
   ]
  },
  {
   "cell_type": "code",
   "execution_count": 67,
   "id": "c88bff52",
   "metadata": {},
   "outputs": [],
   "source": [
    "seg1_women = seg_pd[seg_pd['gender'] == 'F']"
   ]
  },
  {
   "cell_type": "code",
   "execution_count": 68,
   "id": "4c2ef263",
   "metadata": {},
   "outputs": [],
   "source": [
    "seg1_men = seg_pd[seg_pd['gender'] == 'M']"
   ]
  },
  {
   "cell_type": "code",
   "execution_count": 69,
   "id": "434ec1ac",
   "metadata": {},
   "outputs": [],
   "source": [
    "seg2_women = seg2_pd[seg2_pd['gender'] == 'F']\n",
    "seg2_men = seg2_pd[seg2_pd['gender'] == 'M']"
   ]
  },
  {
   "cell_type": "code",
   "execution_count": 70,
   "id": "7f4f1d3c",
   "metadata": {},
   "outputs": [
    {
     "name": "stdout",
     "output_type": "stream",
     "text": [
      "seg1_f: 308083, seg1_m: 190663, seg2_f: 231646, seg2_m: 143899\n"
     ]
    }
   ],
   "source": [
    "print('seg1_f: {}, seg1_m: {}, seg2_f: {}, seg2_m: {}'.format(len(seg1_women), \n",
    "                                                              len(seg1_men), len(seg2_women), len(seg2_men)))"
   ]
  },
  {
   "cell_type": "code",
   "execution_count": 71,
   "id": "487191ed",
   "metadata": {},
   "outputs": [],
   "source": [
    "def on_usecases(df, usecases='standart'):\n",
    "    if usecases == 'standart':\n",
    "        cross = (df.loc[(df['customer_rk'].str.endswith('1')) | (df['customer_rk'].str.endswith('2'))\n",
    "                  | (df['customer_rk'].str.endswith('3')) | (df['customer_rk'].str.endswith('4'))].reset_index(drop=True))\n",
    "        upgrade = (df.loc[(df['customer_rk'].str.endswith('5')) | (df['customer_rk'].str.endswith('6'))\n",
    "                  | (df['customer_rk'].str.endswith('7')) | (df['customer_rk'].str.endswith('8'))].reset_index(drop=True))\n",
    "        ump = df.loc[(df['customer_rk'].str.endswith('0')) | (df['customer_rk'].str.endswith('9'))].reset_index(drop=True)\n",
    "\n",
    "    return cross, upgrade, ump"
   ]
  },
  {
   "cell_type": "code",
   "execution_count": 72,
   "id": "9a67f29a",
   "metadata": {},
   "outputs": [],
   "source": [
    "seg_no = 'seg1_f'"
   ]
  },
  {
   "cell_type": "code",
   "execution_count": 73,
   "id": "4df0c2ed",
   "metadata": {},
   "outputs": [],
   "source": [
    "seg1_women.to_csv(name + '_' + seg_no + '_All_uc' + str(dt) + '.csv', index=False)"
   ]
  },
  {
   "cell_type": "code",
   "execution_count": 75,
   "id": "e531608e",
   "metadata": {},
   "outputs": [],
   "source": [
    "seg1_women = seg1_women.astype('str')"
   ]
  },
  {
   "cell_type": "code",
   "execution_count": 76,
   "id": "4dfc1241",
   "metadata": {},
   "outputs": [],
   "source": [
    "cross, upgrade, ump = on_usecases(seg1_women)"
   ]
  },
  {
   "cell_type": "code",
   "execution_count": 77,
   "id": "697c1828",
   "metadata": {},
   "outputs": [],
   "source": [
    "cross.to_csv(name + '_' + seg_no + '_' + usecase[0] + '_' + str(dt) + '.csv', index=False)"
   ]
  },
  {
   "cell_type": "code",
   "execution_count": 78,
   "id": "5ae7734d",
   "metadata": {},
   "outputs": [],
   "source": [
    "upgrade.to_csv(name + '_' + seg_no + '_' + usecase[1] + '_' + str(dt) + '.csv', index=False)"
   ]
  },
  {
   "cell_type": "code",
   "execution_count": 79,
   "id": "fcf755a3",
   "metadata": {},
   "outputs": [],
   "source": [
    "ump.to_csv(name + '_' + seg_no + '_' + usecase[2] + '_' + str(dt) + '.csv', index=False)"
   ]
  },
  {
   "cell_type": "code",
   "execution_count": 80,
   "id": "8b7a3e1b",
   "metadata": {},
   "outputs": [
    {
     "name": "stdout",
     "output_type": "stream",
     "text": [
      "seg_no: seg1_f, cross: 106441, upgrade: 117130, ump: 84512\n"
     ]
    }
   ],
   "source": [
    "print('seg_no: {}, cross: {}, upgrade: {}, ump: {}'.format(seg_no, len(cross), len(upgrade), len(ump)))"
   ]
  },
  {
   "cell_type": "code",
   "execution_count": 81,
   "id": "7fb75af9",
   "metadata": {},
   "outputs": [],
   "source": [
    "seg_no = 'seg1_m'"
   ]
  },
  {
   "cell_type": "code",
   "execution_count": 82,
   "id": "7b3bdf1d",
   "metadata": {},
   "outputs": [],
   "source": [
    "seg1_men.to_csv(name + '_' + seg_no + '_All_uc' + str(dt) + '.csv', index=False)"
   ]
  },
  {
   "cell_type": "code",
   "execution_count": 83,
   "id": "b20edc26",
   "metadata": {},
   "outputs": [],
   "source": [
    "seg1_men = seg1_men.astype('str')"
   ]
  },
  {
   "cell_type": "code",
   "execution_count": 84,
   "id": "9e6c1182",
   "metadata": {},
   "outputs": [],
   "source": [
    "cross, upgrade, ump = on_usecases(seg1_men)"
   ]
  },
  {
   "cell_type": "code",
   "execution_count": 85,
   "id": "df84b463",
   "metadata": {},
   "outputs": [],
   "source": [
    "cross.to_csv(name + '_' + seg_no + '_' + usecase[0] + '_' + str(dt) + '.csv', index=False)"
   ]
  },
  {
   "cell_type": "code",
   "execution_count": 86,
   "id": "f187979f",
   "metadata": {},
   "outputs": [],
   "source": [
    "upgrade.to_csv(name + '_' + seg_no + '_' + usecase[1] + '_' + str(dt) + '.csv', index=False)"
   ]
  },
  {
   "cell_type": "code",
   "execution_count": 87,
   "id": "083c4784",
   "metadata": {},
   "outputs": [],
   "source": [
    "ump.to_csv(name + '_' + seg_no + '_' + usecase[2] + '_' + str(dt) + '.csv', index=False)"
   ]
  },
  {
   "cell_type": "code",
   "execution_count": 88,
   "id": "1a80510e",
   "metadata": {},
   "outputs": [
    {
     "name": "stdout",
     "output_type": "stream",
     "text": [
      "seg_no: seg1_m, cross: 64182, upgrade: 69633, ump: 56848\n"
     ]
    }
   ],
   "source": [
    "print('seg_no: {}, cross: {}, upgrade: {}, ump: {}'.format(seg_no, len(cross), len(upgrade), len(ump)))"
   ]
  },
  {
   "cell_type": "code",
   "execution_count": 89,
   "id": "c1798354",
   "metadata": {},
   "outputs": [],
   "source": [
    "seg_no = 'seg2_f'"
   ]
  },
  {
   "cell_type": "code",
   "execution_count": 90,
   "id": "00fdda55",
   "metadata": {},
   "outputs": [],
   "source": [
    "seg2_women.to_csv(name + '_' + seg_no + '_All_uc' + str(dt) + '.csv', index=False)"
   ]
  },
  {
   "cell_type": "code",
   "execution_count": 91,
   "id": "e1506c6e",
   "metadata": {},
   "outputs": [],
   "source": [
    "seg2_women = seg2_women.astype('str')"
   ]
  },
  {
   "cell_type": "code",
   "execution_count": 92,
   "id": "9097e8d2",
   "metadata": {},
   "outputs": [],
   "source": [
    "cross, upgrade, ump = on_usecases(seg2_women)"
   ]
  },
  {
   "cell_type": "code",
   "execution_count": 93,
   "id": "5bcdcf2b",
   "metadata": {},
   "outputs": [],
   "source": [
    "cross.to_csv(name + '_' + seg_no + '_' + usecase[0] + '_' + str(dt) + '.csv', index=False)"
   ]
  },
  {
   "cell_type": "code",
   "execution_count": 94,
   "id": "d96ddfdf",
   "metadata": {},
   "outputs": [],
   "source": [
    "upgrade.to_csv(name + '_' + seg_no + '_' + usecase[1] + '_' + str(dt) + '.csv', index=False)"
   ]
  },
  {
   "cell_type": "code",
   "execution_count": 95,
   "id": "3510d2cb",
   "metadata": {},
   "outputs": [],
   "source": [
    "ump.to_csv(name + '_' + seg_no + '_' + usecase[2] + '_' + str(dt) + '.csv', index=False)"
   ]
  },
  {
   "cell_type": "code",
   "execution_count": 96,
   "id": "dd00175e",
   "metadata": {},
   "outputs": [
    {
     "name": "stdout",
     "output_type": "stream",
     "text": [
      "seg_no: seg2_f, cross: 79548, upgrade: 87090, ump: 65008\n"
     ]
    }
   ],
   "source": [
    "print('seg_no: {}, cross: {}, upgrade: {}, ump: {}'.format(seg_no, len(cross), len(upgrade), len(ump)))"
   ]
  },
  {
   "cell_type": "code",
   "execution_count": 97,
   "id": "8dc0f23b",
   "metadata": {},
   "outputs": [],
   "source": [
    "seg_no = 'seg2_m'"
   ]
  },
  {
   "cell_type": "code",
   "execution_count": 98,
   "id": "490a3306",
   "metadata": {},
   "outputs": [],
   "source": [
    "seg2_men.to_csv(name + '_' + seg_no + '_All_uc' + str(dt) + '.csv', index=False)"
   ]
  },
  {
   "cell_type": "code",
   "execution_count": 99,
   "id": "ff14eeb1",
   "metadata": {},
   "outputs": [],
   "source": [
    "seg2_men = seg2_men.astype('str')"
   ]
  },
  {
   "cell_type": "code",
   "execution_count": 100,
   "id": "29d5f073",
   "metadata": {},
   "outputs": [],
   "source": [
    "cross, upgrade, ump = on_usecases(seg2_men)"
   ]
  },
  {
   "cell_type": "code",
   "execution_count": 101,
   "id": "e478b6bb",
   "metadata": {},
   "outputs": [],
   "source": [
    "cross.to_csv(name + '_' + seg_no + '_' + usecase[0] + '_' + str(dt) + '.csv', index=False)"
   ]
  },
  {
   "cell_type": "code",
   "execution_count": 102,
   "id": "d3d64b4d",
   "metadata": {},
   "outputs": [],
   "source": [
    "upgrade.to_csv(name + '_' + seg_no + '_' + usecase[1] + '_' + str(dt) + '.csv', index=False)"
   ]
  },
  {
   "cell_type": "code",
   "execution_count": 103,
   "id": "1c0e665a",
   "metadata": {},
   "outputs": [],
   "source": [
    "ump.to_csv(name + '_' + seg_no + '_' + usecase[2] + '_' + str(dt) + '.csv', index=False)"
   ]
  },
  {
   "cell_type": "code",
   "execution_count": 104,
   "id": "ca765bf6",
   "metadata": {},
   "outputs": [
    {
     "name": "stdout",
     "output_type": "stream",
     "text": [
      "seg_no: seg2_m, cross: 47988, upgrade: 52002, ump: 43909\n"
     ]
    }
   ],
   "source": [
    "print('seg_no: {}, cross: {}, upgrade: {}, ump: {}'.format(seg_no, len(cross), len(upgrade), len(ump)))"
   ]
  },
  {
   "cell_type": "code",
   "execution_count": null,
   "id": "56a9c333",
   "metadata": {},
   "outputs": [],
   "source": []
  }
 ],
 "metadata": {
  "kernelspec": {
   "display_name": "Python 3 (ipykernel)",
   "language": "python",
   "name": "python3"
  },
  "language_info": {
   "codemirror_mode": {
    "name": "ipython",
    "version": 3
   },
   "file_extension": ".py",
   "mimetype": "text/x-python",
   "name": "python",
   "nbconvert_exporter": "python",
   "pygments_lexer": "ipython3",
   "version": "3.7.10"
  }
 },
 "nbformat": 4,
 "nbformat_minor": 5
}
