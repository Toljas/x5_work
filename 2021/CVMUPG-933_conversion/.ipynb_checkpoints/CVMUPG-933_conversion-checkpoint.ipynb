{
 "cells": [
  {
   "cell_type": "markdown",
   "id": "fedd78d8",
   "metadata": {},
   "source": [
    "https://jira.x5.ru/browse/CVMUPG-933_conversion"
   ]
  },
  {
   "cell_type": "code",
   "execution_count": 1,
   "id": "82a56b70",
   "metadata": {},
   "outputs": [],
   "source": [
    "name = 'CVMUPG-933_conversion'"
   ]
  },
  {
   "cell_type": "code",
   "execution_count": 2,
   "id": "95bff4c4",
   "metadata": {},
   "outputs": [],
   "source": [
    "import os\n",
    "import re\n",
    "from pyspark.sql import SparkSession\n",
    "from typing import List, Dict, Callable\n",
    "import socket\n",
    "\n",
    "spark = None\n",
    "\n",
    "EXECUTOR_ENV = 'hdfs:///share/products/cvm5/lib/python/anaconda_2.4.4_ds.tar.gz'  # 2.4.4 \n",
    "SPARK_ARCHIVE = 'hdfs:///share/lib/spark/sparkjars-2.4.4.zip'                     # 2.4.4\n",
    "#EXECUTOR_ENV = 'hdfs:///share/lib/python/env/anaconda-2019.07.tar.gz'\n",
    "#SPARK_ARCHIVE = 'hdfs:///share/lib/spark/sparkjars-2.3.1.zip'\n",
    "\n",
    "os.environ[\"ARROW_LIBHDFS_DIR\"] = \"/usr/hdp/2.6.5.0-292/usr/lib\"\n",
    "os.environ['HADOOP_HOME'] = '/usr/hdp/current/hadoop-client/'\n",
    "os.environ['JAVA_HOME'] = '/usr/lib/jvm/java-8-openjdk-amd64/'\n",
    "os.environ['HADOOP_CONF_DIR'] = '/etc/hadoop/conf/'\n",
    "os.environ['SPARK_HOME'] = '/opt/conda/lib/python3.7/site-packages/pyspark'\n",
    "os.environ['PYSPARK_PYTHON'] = 'anaconda_2.4.4_ds.tar.gz/bin/python3'             # 2.4.4\n",
    "#os.environ['PYSPARK_PYTHON'] = 'anaconda-2019.07.tar.gz/bin/python3'\n",
    "\n",
    "\n",
    "\n",
    "\n",
    "\n",
    "\n",
    "def restart_spark(task_name: str, num_executors: int, executor_memory='4G', executor_cores=2,\n",
    "                  driver_memory='2G', queue='cvm5-rnd', additional_params: Dict[str, str] = None):\n",
    "    global spark\n",
    "\n",
    "    if spark:\n",
    "        sc = spark.sparkContext\n",
    "        if sc and sc._jsc:\n",
    "            if not sc._jsc.sc().isStopped():\n",
    "                print('Using cached spark')\n",
    "                return sc, spark\n",
    "\n",
    "    need_ports_for_app = 3\n",
    "    user_tcp_ports = _get_user_tcp_ports()\n",
    "    free_ports = _get_free_ports(user_tcp_ports)\n",
    "    assert len(free_ports) >= need_ports_for_app, \\\n",
    "        f\"Not enough free ports ({len(free_ports)}), need {need_ports_for_app}, stop other apps\"\n",
    "    app_ports = free_ports[:need_ports_for_app]\n",
    "\n",
    "    host_ip = os.getenv('HOST_IP')\n",
    "    \n",
    "    spark_session = (\n",
    "        SparkSession\n",
    "        .builder\n",
    "        .appName(task_name)\n",
    "        .master('yarn')\n",
    "        .config('spark.driver.memory', driver_memory)\n",
    "        .config('spark.driver.maxResultSize', driver_memory)\n",
    "        .config('spark.executor.cores', executor_cores)\n",
    "        .config('spark.executor.memory', executor_memory)\n",
    "        .config('spark.executor.memoryOverhead', '1G')\n",
    "        .config('spark.dynamicAllocation.enabled', 'true')\n",
    "        .config('spark.dynamicAllocation.maxExecutors', num_executors)\n",
    "        .config('spark.sql.broadcastTimeout', '36000')\n",
    "        .config('spark.dynamicAllocation.cachedExecutorIdleTimeout', '1200s')\n",
    "        .config('spark.ui.port', app_ports[0])\n",
    "        .config('spark.blockManager.port', app_ports[1])\n",
    "        .config('spark.driver.port', app_ports[2])\n",
    "        .config('spark.driver.host', host_ip)\n",
    "        .config('spark.driver.bindAddress', '0.0.0.0')\n",
    "        .config('spark.driver.extraLibraryPath', '/usr/hdp/2.6.5.0-292/hadoop/lib/native')\n",
    "        .config('spark.driver.extraJavaOptions', '-Dhdp.version=current')\n",
    "        .config('spark.debug.maxToStringFields', '50')\n",
    "        .config('spark.yarn.queue', queue)\n",
    "        .config('spark.yarn.dist.archives', EXECUTOR_ENV)\n",
    "        .config('spark.yarn.archive', SPARK_ARCHIVE)\n",
    "        .config('spark.yarn.am.extraJavaOptions', '-Dhdp.version=current')\n",
    "        .config('spark.rpc.message.maxSize', '1024')\n",
    "        .config('spark.sql.warehouse.dir', '/apps/hive/warehouse')\n",
    "        .config('spark.sql.execution.pandas.respectSessionTimeZone', 'false')\n",
    "        .config('spark.sql.orc.filterPushdown', 'true')\n",
    "        .config('spark.sql.hive.convertMetastoreOrc', 'true')\n",
    "        .config('spark.shuffle.service.enabled', 'true')\n",
    "        .config('spark.hadoop.yarn.timeline-service.enabled', 'false')\n",
    "        .config('spark.hadoop.yarn.client.failover-proxy-provider',\n",
    "                'org.apache.hadoop.yarn.client.ConfiguredRMFailoverProxyProvider')\n",
    "        .config('spark.serializer', 'org.apache.spark.serializer.KryoSerializer')\n",
    "        .config('spark.kryoserializer.buffer.max', '128m')\n",
    "        .config('spark.executor.extraLibraryPath', '/usr/hdp/2.6.5.0-292/hadoop/lib/native')\n",
    "    )\n",
    "\n",
    "    if additional_params:\n",
    "        for key, value in additional_params.items():\n",
    "            spark_session = spark_session.config(key, value)\n",
    "\n",
    "    spark = (\n",
    "        spark_session\n",
    "        .enableHiveSupport()\n",
    "        .getOrCreate()\n",
    "    )\n",
    "    sc = spark.sparkContext\n",
    "\n",
    "    return sc, spark\n",
    "\n",
    "\n",
    "def _get_user_tcp_ports() -> List[str]:\n",
    "    regexp = re.compile(r'-2e')\n",
    "    envuser= os.getenv('HOSTNAME')\n",
    "    if regexp.search(envuser):       \n",
    "      _, user_name, user_surname = envuser.upper().split('-')\n",
    "      user_full_name = '_'.join([user_name, user_surname])\n",
    "    else:\n",
    "      _, user_name  = envuser.upper().split('-') \n",
    "      user_full_name = user_name\n",
    "    user_tcp_ports = [v for k, v in os.environ.items() if user_full_name in k and k.endswith('TCP_PORT')]\n",
    "    return user_tcp_ports\n",
    "\n",
    "\n",
    "def _get_free_ports(ports: List[str]):\n",
    "    free_ports = []\n",
    "    for port in ports:\n",
    "        with socket.socket(socket.AF_INET, socket.SOCK_STREAM) as s:\n",
    "            if s.connect_ex(('0.0.0.0', int(port))) != 0:\n",
    "                free_ports.append(port)\n",
    "    return free_ports\n"
   ]
  },
  {
   "cell_type": "code",
   "execution_count": 3,
   "id": "c7371b73",
   "metadata": {},
   "outputs": [
    {
     "name": "stderr",
     "output_type": "stream",
     "text": [
      "Setting default log level to \"WARN\".\n",
      "To adjust logging level use sc.setLogLevel(newLevel). For SparkR, use setLogLevel(newLevel).\n",
      "21/12/15 10:08:48 WARN cluster.YarnSchedulerBackend$YarnSchedulerEndpoint: Attempted to request executors before the AM has registered!\n"
     ]
    }
   ],
   "source": [
    "sc, spark = restart_spark(\n",
    "                    name, \n",
    "                    21, \n",
    "                    executor_memory='5G', \n",
    "                    executor_cores=3, \n",
    "                    driver_memory='7G', \n",
    "                    additional_params={\"spark.sql.shuffle.partitions\": \"300\"})"
   ]
  },
  {
   "cell_type": "code",
   "execution_count": 4,
   "id": "19cce33e",
   "metadata": {},
   "outputs": [],
   "source": [
    "sc.setLogLevel('ERROR')"
   ]
  },
  {
   "cell_type": "code",
   "execution_count": 5,
   "id": "d4286a3c",
   "metadata": {},
   "outputs": [],
   "source": [
    "import pandas as pd\n",
    "import sys\n",
    "from pyspark.sql import functions as F\n",
    "import datetime\n",
    "from datetime import timedelta\n",
    "\n",
    "sys.path.append('/home/jovyan/glow-byte-filters-pyspark')\n",
    "from logic_filters import * \n",
    "from segmentation import *"
   ]
  },
  {
   "cell_type": "code",
   "execution_count": 6,
   "id": "0f212a1a",
   "metadata": {},
   "outputs": [],
   "source": [
    "LOYALTY_CARDS = \"hive_ssa_tc5.loyalty_card\"\n",
    "LOYALTY_CARDHOLDERS = \"hive_ssa_tc5.loyalty_cardholder\"\n",
    "ACCOUNTS = \"hive_ssa_tc5.account\"\n",
    "CVM5_GUESTS = \"hive_cvm_acrm.cvm5_guests\"\n",
    "\n",
    "DIM_STORE = \"hive_ssa_main.dim_store\"\n",
    "CHECKS_HEADERS = \"hive_ssa_main.fct_rtl_txn\"\n",
    "CHECKS_ITEMS = \"hive_ssa_main.fct_rtl_txn_item\"\n",
    "PRODUCTS = \"hive_ssa_tc5.cvm_product\""
   ]
  },
  {
   "cell_type": "code",
   "execution_count": 7,
   "id": "0a4b0e19",
   "metadata": {},
   "outputs": [],
   "source": [
    "start_date = datetime.date(2020, 12, 1)\n",
    "end_date = datetime.date(2020, 12, 31)"
   ]
  },
  {
   "cell_type": "markdown",
   "id": "769fd4a2",
   "metadata": {},
   "source": [
    "# seg1"
   ]
  },
  {
   "cell_type": "code",
   "execution_count": 26,
   "id": "c23d0702",
   "metadata": {},
   "outputs": [],
   "source": [
    "checks_headers = (spark.table(CHECKS_HEADERS)\n",
    "                      .filter(F.col('rtl_txn_dt').between(start_date, end_date))\n",
    "                      .filter((F.col('loyalty_card_no') != '') & (F.col('loyalty_card_no').isNotNull()))\n",
    "                      .filter(F.col('financial_unit_format_dk') == 'D')\n",
    "                      .filter(F.col('rtl_txn_cancel_flg') == 0)\n",
    "                      .select('rtl_txn_id', 'loyalty_card_no')\n",
    "                     )\n"
   ]
  },
  {
   "cell_type": "code",
   "execution_count": 27,
   "id": "6dd3e730",
   "metadata": {},
   "outputs": [],
   "source": [
    "loyalty_cards = (spark\n",
    "                    .table(LOYALTY_CARDS)\n",
    "                    .withColumnRenamed(\"loyalty_card_id\", \"loyalty_card_no\")\n",
    "                    .withColumnRenamed(\"loyalty_account_id\", \"account_no\")\n",
    "                    .withColumnRenamed(\"loyalty_account_acrm_id\", \"account_rk\")\n",
    "                    .select('account_no', 'loyalty_card_no')\n",
    "                )\n",
    "loyalty_cardholders = (spark\n",
    "                        .table(LOYALTY_CARDHOLDERS)\n",
    "                        .withColumnRenamed(\"loyalty_cardholder_acrm_id\", \"customer_rk\")\n",
    "                        .withColumnRenamed(\"loyalty_account_id\", \"account_no\")\n",
    "                        .select('account_no', 'customer_rk')\n",
    "                      )\n",
    "clients_info = loyalty_cards.join(loyalty_cardholders, on='account_no', how='inner')"
   ]
  },
  {
   "cell_type": "code",
   "execution_count": 28,
   "id": "cd643919",
   "metadata": {},
   "outputs": [],
   "source": [
    "checks_headers_tc5 = checks_headers.join(clients_info, on='loyalty_card_no') #оставили чеки только нужных гостей"
   ]
  },
  {
   "cell_type": "code",
   "execution_count": 29,
   "id": "5b19d867",
   "metadata": {},
   "outputs": [],
   "source": [
    "checks_items = (spark.table(CHECKS_ITEMS) \n",
    "                    .withColumnRenamed('plu_id', 'plu_code')\n",
    "                    .withColumnRenamed('turnover_no_vat_amt', 'zsalnovat')\n",
    "                    .withColumnRenamed('turnover_vat_rub_amt', 'zsale_vat')\n",
    "                    .withColumnRenamed('prime_cost_no_vat_amt', 'zcst_n')\n",
    "                    .withColumnRenamed('turnover_base_uom_amt', 'base_qty')\n",
    "                    .withColumnRenamed('discount_amt', 'zdiscount')\n",
    "                    .withColumnRenamed('fact_regular_promo_flg', 'zpromofl')\n",
    "                    .filter(F.col('rtl_txn_dt').between(start_date, end_date))\n",
    "                    .filter((F.col('zsalnovat') >= 0) & (F.col('base_qty') >= 0) & (F.col('zcst_n') > 0)) #keep only correct data\n",
    "                        .select('plu_code' #items id\n",
    "                                , 'rtl_txn_id' #cheques id\n",
    "                               )\n",
    "                   )\n"
   ]
  },
  {
   "cell_type": "markdown",
   "id": "6faaf13b",
   "metadata": {},
   "source": [
    "##### Отбираем PLU определенной категории"
   ]
  },
  {
   "cell_type": "code",
   "execution_count": 12,
   "id": "02dad1a6",
   "metadata": {},
   "outputs": [],
   "source": [
    "plu_hierarchy_lvl_4_dk = ['FD0606009']\n",
    "# syntethic_category_id = [102]\n",
    "plu_brand_code = ['2776']\n",
    "# plu_brand_code_not_in = ['L312']\n",
    "# plu_not_in = [4138521]\n",
    "# plu_id = [3466978]"
   ]
  },
  {
   "cell_type": "code",
   "execution_count": 13,
   "id": "10c051a3",
   "metadata": {},
   "outputs": [
    {
     "name": "stderr",
     "output_type": "stream",
     "text": [
      "                                                                                \r"
     ]
    }
   ],
   "source": [
    "plu_codes_cat = (spark\n",
    "                 .table(PRODUCTS)\n",
    "                 .filter(F.col('plu_hierarchy_lvl_4_dk').isin(plu_hierarchy_lvl_4_dk))\n",
    "                 .filter(F.col('plu_brand_code').isin(plu_brand_code))\n",
    "#                  .filter(~F.col('plu_brand_code').isin(plu_brand_code_not_in))\n",
    "#                  .filter(F.col('syntethic_category_id').isin(syntethic_category_id))\n",
    "#                  .filter(~F.col('plu_id').isin(plu_not_in))\n",
    "#                  .filter(F.col('plu_id').isin(plu_id))\n",
    "                 .select('plu_id')\n",
    "                 .distinct()\n",
    "                 .toPandas()['plu_id']\n",
    "                 .tolist()\n",
    "                )"
   ]
  },
  {
   "cell_type": "code",
   "execution_count": 30,
   "id": "cb928d71",
   "metadata": {},
   "outputs": [],
   "source": [
    "checks_items = checks_items.filter(F.col('plu_code').isin(plu_codes_cat)) # только чеки с нужными plu"
   ]
  },
  {
   "cell_type": "code",
   "execution_count": 31,
   "id": "700a1e5f",
   "metadata": {},
   "outputs": [],
   "source": [
    "checks_tc5 = checks_items.join(checks_headers_tc5, on='rtl_txn_id', how='inner')"
   ]
  },
  {
   "cell_type": "code",
   "execution_count": 32,
   "id": "4d3d66d0",
   "metadata": {},
   "outputs": [],
   "source": [
    "seg = (checks_tc5.select('customer_rk').distinct())"
   ]
  },
  {
   "cell_type": "code",
   "execution_count": 33,
   "id": "ee1bfd20",
   "metadata": {},
   "outputs": [
    {
     "name": "stderr",
     "output_type": "stream",
     "text": [
      "                                                                                ]]\r"
     ]
    }
   ],
   "source": [
    "seg.write.parquet('temp933_sum', mode='overwrite')\n",
    "seg = spark.read.parquet('temp933_sum')"
   ]
  },
  {
   "cell_type": "code",
   "execution_count": 34,
   "id": "f9914754",
   "metadata": {},
   "outputs": [
    {
     "name": "stderr",
     "output_type": "stream",
     "text": [
      "                                                                                \r"
     ]
    },
    {
     "data": {
      "text/plain": [
       "437819"
      ]
     },
     "execution_count": 34,
     "metadata": {},
     "output_type": "execute_result"
    }
   ],
   "source": [
    "seg.count()"
   ]
  },
  {
   "cell_type": "code",
   "execution_count": 35,
   "id": "f6bd9a82",
   "metadata": {},
   "outputs": [
    {
     "name": "stderr",
     "output_type": "stream",
     "text": [
      "                                                                                \r"
     ]
    }
   ],
   "source": [
    "seg_all = spark.read.parquet('temp933_1')"
   ]
  },
  {
   "cell_type": "code",
   "execution_count": 36,
   "id": "3dce6389",
   "metadata": {},
   "outputs": [
    {
     "name": "stderr",
     "output_type": "stream",
     "text": [
      "                                                                                \r"
     ]
    },
    {
     "data": {
      "text/plain": [
       "3425871"
      ]
     },
     "execution_count": 36,
     "metadata": {},
     "output_type": "execute_result"
    }
   ],
   "source": [
    "seg_all.count()"
   ]
  },
  {
   "cell_type": "code",
   "execution_count": 37,
   "id": "189ce6e2",
   "metadata": {},
   "outputs": [
    {
     "data": {
      "text/plain": [
       "0.12779786512685387"
      ]
     },
     "execution_count": 37,
     "metadata": {},
     "output_type": "execute_result"
    }
   ],
   "source": [
    "437819 / 3425871"
   ]
  },
  {
   "cell_type": "code",
   "execution_count": 24,
   "id": "ed513a55",
   "metadata": {},
   "outputs": [
    {
     "name": "stderr",
     "output_type": "stream",
     "text": [
      "                                                                                \r"
     ]
    }
   ],
   "source": [
    "seg_plu_pd = seg_plu.toPandas()"
   ]
  },
  {
   "cell_type": "code",
   "execution_count": 38,
   "id": "a1196eb1",
   "metadata": {},
   "outputs": [
    {
     "data": {
      "text/plain": [
       "667533"
      ]
     },
     "execution_count": 38,
     "metadata": {},
     "output_type": "execute_result"
    }
   ],
   "source": [
    "seg_plu_pd['qty'].sum()"
   ]
  },
  {
   "cell_type": "code",
   "execution_count": null,
   "id": "c4f84585",
   "metadata": {
    "scrolled": true
   },
   "outputs": [],
   "source": [
    "# seg1.write.parquet('temp933_1', mode='overwrite')\n",
    "seg1 = spark.read.parquet('temp933_1')"
   ]
  },
  {
   "cell_type": "code",
   "execution_count": null,
   "id": "7daf65e1",
   "metadata": {},
   "outputs": [],
   "source": [
    "seg1.count()"
   ]
  },
  {
   "cell_type": "markdown",
   "id": "8f0e4252",
   "metadata": {},
   "source": [
    "### Собираем чеки этих гостей"
   ]
  },
  {
   "cell_type": "code",
   "execution_count": 39,
   "id": "f68f5991",
   "metadata": {},
   "outputs": [],
   "source": [
    "import random"
   ]
  },
  {
   "cell_type": "code",
   "execution_count": 40,
   "id": "19ce87e9",
   "metadata": {},
   "outputs": [],
   "source": [
    "rnd = random.randint(1, 25)\n",
    "start_date = datetime.date(2020, 12, rnd)\n",
    "end_date = datetime.date(2020, 12, rnd + 6)"
   ]
  },
  {
   "cell_type": "code",
   "execution_count": 42,
   "id": "e9fd594a",
   "metadata": {},
   "outputs": [],
   "source": [
    "checks_headers = (spark.table(CHECKS_HEADERS)\n",
    "                      .filter(F.col('rtl_txn_dt').between(start_date, end_date))\n",
    "                      .filter((F.col('loyalty_card_no') != '') & (F.col('loyalty_card_no').isNotNull()))\n",
    "                      .filter(F.col('financial_unit_format_dk') == 'D')\n",
    "                      .filter(F.col('rtl_txn_cancel_flg') == 0)\n",
    "                      .select('rtl_txn_id', 'loyalty_card_no')\n",
    "                     )\n"
   ]
  },
  {
   "cell_type": "code",
   "execution_count": 43,
   "id": "f1f898a7",
   "metadata": {},
   "outputs": [],
   "source": [
    "loyalty_cards = (spark\n",
    "                    .table(LOYALTY_CARDS)\n",
    "                    .withColumnRenamed(\"loyalty_card_id\", \"loyalty_card_no\")\n",
    "                    .withColumnRenamed(\"loyalty_account_id\", \"account_no\")\n",
    "                    .withColumnRenamed(\"loyalty_account_acrm_id\", \"account_rk\")\n",
    "                    .select('account_no', 'loyalty_card_no')\n",
    "                )\n",
    "loyalty_cardholders = (spark\n",
    "                        .table(LOYALTY_CARDHOLDERS)\n",
    "                        .withColumnRenamed(\"loyalty_cardholder_acrm_id\", \"customer_rk\")\n",
    "                        .withColumnRenamed(\"loyalty_account_id\", \"account_no\")\n",
    "                        .select('account_no', 'customer_rk')\n",
    "                      )\n",
    "clients_info = loyalty_cards.join(loyalty_cardholders, on='account_no', how='inner')\n",
    "clients_info = clients_info.join(seg_all, on='customer_rk', how='inner')"
   ]
  },
  {
   "cell_type": "code",
   "execution_count": 44,
   "id": "a576a2d9",
   "metadata": {},
   "outputs": [],
   "source": [
    "checks_headers_tc5 = checks_headers.join(clients_info, on='loyalty_card_no') #оставили чеки только нужных гостей"
   ]
  },
  {
   "cell_type": "code",
   "execution_count": 79,
   "id": "5c335778",
   "metadata": {},
   "outputs": [],
   "source": [
    "checks_items = (spark.table(CHECKS_ITEMS) \n",
    "                    .withColumnRenamed('plu_id', 'plu_code')\n",
    "                    .withColumnRenamed('turnover_no_vat_amt', 'zsalnovat')\n",
    "                    .withColumnRenamed('turnover_vat_rub_amt', 'zsale_vat')\n",
    "                    .withColumnRenamed('prime_cost_no_vat_amt', 'zcst_n')\n",
    "                    .withColumnRenamed('turnover_base_uom_amt', 'base_qty')\n",
    "                    .withColumnRenamed('discount_amt', 'zdiscount')\n",
    "                    .withColumnRenamed('fact_regular_promo_flg', 'zpromofl')\n",
    "                    .filter(F.col('rtl_txn_dt').between(start_date, end_date))\n",
    "                    .filter((F.col('zsalnovat') >= 0) & (F.col('base_qty') >= 0) & (F.col('zcst_n') > 0)) #keep only correct data\n",
    "                        .select('plu_code' #items id\n",
    "                                , 'rtl_txn_id' #cheques id\n",
    "                                , 'zsale_vat'\n",
    "                               )\n",
    "                   )\n"
   ]
  },
  {
   "cell_type": "code",
   "execution_count": 46,
   "id": "a7c7b2b3",
   "metadata": {},
   "outputs": [],
   "source": [
    "plu_hierarchy_lvl_4_dk = ['FD0606009']\n",
    "# syntethic_category_id = [102]\n",
    "plu_brand_code = ['2776']\n",
    "# plu_brand_code_not_in = ['L312']\n",
    "# plu_not_in = [4138521]\n",
    "# plu_id = [3466978]"
   ]
  },
  {
   "cell_type": "code",
   "execution_count": 47,
   "id": "d3b5186e",
   "metadata": {},
   "outputs": [
    {
     "name": "stderr",
     "output_type": "stream",
     "text": [
      "                                                                                \r"
     ]
    }
   ],
   "source": [
    "plu_codes_cat = (spark\n",
    "                 .table(PRODUCTS)\n",
    "                 .filter(F.col('plu_hierarchy_lvl_4_dk').isin(plu_hierarchy_lvl_4_dk))\n",
    "                 .filter(F.col('plu_brand_code').isin(plu_brand_code))\n",
    "#                  .filter(~F.col('plu_brand_code').isin(plu_brand_code_not_in))\n",
    "#                  .filter(F.col('syntethic_category_id').isin(syntethic_category_id))\n",
    "#                  .filter(~F.col('plu_id').isin(plu_not_in))\n",
    "#                  .filter(F.col('plu_id').isin(plu_id))\n",
    "                 .select('plu_id')\n",
    "                 .distinct()\n",
    "                 .toPandas()['plu_id']\n",
    "                 .tolist()\n",
    "                )"
   ]
  },
  {
   "cell_type": "code",
   "execution_count": 80,
   "id": "5d794990",
   "metadata": {},
   "outputs": [],
   "source": [
    "checks_items = checks_items.filter(F.col('plu_code').isin(plu_codes_cat)) # только чеки с нужными plu"
   ]
  },
  {
   "cell_type": "code",
   "execution_count": 81,
   "id": "beb9651d",
   "metadata": {},
   "outputs": [],
   "source": [
    "checks_tc5 = checks_items.join(checks_headers_tc5, on='rtl_txn_id', how='inner')"
   ]
  },
  {
   "cell_type": "code",
   "execution_count": 85,
   "id": "3c9f0e03",
   "metadata": {},
   "outputs": [],
   "source": [
    "pdf0 = checks_tc5.groupby('account_no').agg(F.count('plu_code').alias('qty'), F.sum('zsale_vat').alias('sum'))\n",
    "checks_tc5_0 = checks_tc5.join(pdf0, on=accs)"
   ]
  },
  {
   "cell_type": "code",
   "execution_count": 86,
   "id": "b1e852f2",
   "metadata": {},
   "outputs": [],
   "source": [
    "seg3 = (checks_tc5_0\n",
    "           .select('customer_rk', 'qty', 'sum')\n",
    "           .distinct()\n",
    "      )"
   ]
  },
  {
   "cell_type": "code",
   "execution_count": 87,
   "id": "be045c0b",
   "metadata": {},
   "outputs": [
    {
     "name": "stderr",
     "output_type": "stream",
     "text": [
      "                                                                                \r"
     ]
    }
   ],
   "source": [
    "seg3.write.parquet('temp933_avg', mode='overwrite')\n",
    "seg3 = spark.read.parquet('temp933_avg')"
   ]
  },
  {
   "cell_type": "code",
   "execution_count": 88,
   "id": "20e1d580",
   "metadata": {},
   "outputs": [
    {
     "name": "stderr",
     "output_type": "stream",
     "text": [
      "                                                                                \r"
     ]
    }
   ],
   "source": [
    "seg_pd_avg = seg3.toPandas()"
   ]
  },
  {
   "cell_type": "code",
   "execution_count": 98,
   "id": "a842bca9",
   "metadata": {},
   "outputs": [],
   "source": [
    "seg_pd_avg_flt = seg_pd_avg.iloc[:, 1:3].astype('float')"
   ]
  },
  {
   "cell_type": "code",
   "execution_count": 99,
   "id": "77cf6453",
   "metadata": {},
   "outputs": [
    {
     "data": {
      "text/plain": [
       "275.22784645628485"
      ]
     },
     "execution_count": 99,
     "metadata": {},
     "output_type": "execute_result"
    }
   ],
   "source": [
    "seg_pd_avg_flt['sum'].sum() / seg_pd_avg_flt['qty'].sum()"
   ]
  },
  {
   "cell_type": "code",
   "execution_count": 60,
   "id": "a1bae839",
   "metadata": {},
   "outputs": [],
   "source": [
    "pdf1 = checks_tc5.groupby('account_no').agg(F.count('plu_code').alias('qty'))\n",
    "pdf1 = pdf1.filter(F.col('qty') == 1)\n",
    "checks_tc5_1 = checks_tc5.join(pdf1, on=accs)"
   ]
  },
  {
   "cell_type": "code",
   "execution_count": 65,
   "id": "215ec4d7",
   "metadata": {},
   "outputs": [],
   "source": [
    "pdf2 = checks_tc5.groupby('account_no').agg(F.count('plu_code').alias('qty'))\n",
    "pdf2 = pdf2.filter(F.col('qty') >= 2)\n",
    "checks_tc5_2 = checks_tc5.join(pdf2, on=accs)"
   ]
  },
  {
   "cell_type": "code",
   "execution_count": 66,
   "id": "9558eff3",
   "metadata": {},
   "outputs": [],
   "source": [
    "seg2_1 = (checks_tc5_1\n",
    "           .withColumn('qty', F.lit('1'))\n",
    "           .select('customer_rk', 'qty')\n",
    "           .distinct()\n",
    "      )"
   ]
  },
  {
   "cell_type": "code",
   "execution_count": 67,
   "id": "d7fd0395",
   "metadata": {},
   "outputs": [],
   "source": [
    "seg2_2 = (checks_tc5_2\n",
    "           .withColumn('qty', F.lit('2'))\n",
    "           .select('customer_rk', 'qty')\n",
    "           .distinct()\n",
    "      )"
   ]
  },
  {
   "cell_type": "code",
   "execution_count": 68,
   "id": "b8e65c92",
   "metadata": {},
   "outputs": [],
   "source": [
    "seg2 = seg2_1.union(seg2_2)"
   ]
  },
  {
   "cell_type": "code",
   "execution_count": 69,
   "id": "f47c6446",
   "metadata": {
    "scrolled": true
   },
   "outputs": [
    {
     "name": "stderr",
     "output_type": "stream",
     "text": [
      "                                                                                \r"
     ]
    }
   ],
   "source": [
    "seg2.write.parquet('temp933_fin', mode='overwrite')\n",
    "seg2 = spark.read.parquet('temp933_fin')"
   ]
  },
  {
   "cell_type": "code",
   "execution_count": 70,
   "id": "05eacb4f",
   "metadata": {},
   "outputs": [
    {
     "name": "stderr",
     "output_type": "stream",
     "text": [
      "                                                                                \r"
     ]
    },
    {
     "data": {
      "text/plain": [
       "201519"
      ]
     },
     "execution_count": 70,
     "metadata": {},
     "output_type": "execute_result"
    }
   ],
   "source": [
    "seg2.count()"
   ]
  },
  {
   "cell_type": "code",
   "execution_count": 71,
   "id": "7c9e2bba",
   "metadata": {},
   "outputs": [
    {
     "name": "stderr",
     "output_type": "stream",
     "text": [
      "                                                                                \r"
     ]
    }
   ],
   "source": [
    "seg_pd = seg2.toPandas()"
   ]
  },
  {
   "cell_type": "code",
   "execution_count": 73,
   "id": "7e1cfa44",
   "metadata": {},
   "outputs": [
    {
     "data": {
      "text/plain": [
       "139101"
      ]
     },
     "execution_count": 73,
     "metadata": {},
     "output_type": "execute_result"
    }
   ],
   "source": [
    "len(seg_pd[seg_pd['qty'] == '1'])"
   ]
  },
  {
   "cell_type": "code",
   "execution_count": 77,
   "id": "fa014810",
   "metadata": {},
   "outputs": [
    {
     "data": {
      "text/plain": [
       "4.060310502059184"
      ]
     },
     "execution_count": 77,
     "metadata": {},
     "output_type": "execute_result"
    }
   ],
   "source": [
    "139101 / 3425871 * 100"
   ]
  },
  {
   "cell_type": "code",
   "execution_count": 75,
   "id": "dc0a429b",
   "metadata": {},
   "outputs": [
    {
     "data": {
      "text/plain": [
       "62418"
      ]
     },
     "execution_count": 75,
     "metadata": {},
     "output_type": "execute_result"
    }
   ],
   "source": [
    "len(seg_pd[seg_pd['qty'] == '2'])"
   ]
  },
  {
   "cell_type": "code",
   "execution_count": 78,
   "id": "c667a0de",
   "metadata": {},
   "outputs": [
    {
     "data": {
      "text/plain": [
       "1.8219600212617464"
      ]
     },
     "execution_count": 78,
     "metadata": {},
     "output_type": "execute_result"
    }
   ],
   "source": [
    "62418 / 3425871 * 100"
   ]
  },
  {
   "cell_type": "code",
   "execution_count": null,
   "id": "ec94cce4",
   "metadata": {},
   "outputs": [],
   "source": [
    "del checks_headers_tc5\n",
    "del checks_headers\n",
    "del loyalty_cards\n",
    "del loyalty_cardholders\n",
    "del clients_info\n",
    "del checks_items\n",
    "del checks_items1\n",
    "del checks_items2\n",
    "del checks_tc5_1\n",
    "del checks_tc5_2"
   ]
  },
  {
   "cell_type": "code",
   "execution_count": null,
   "id": "07a08e45",
   "metadata": {},
   "outputs": [],
   "source": [
    "rnd = random.randint(1, 25)\n",
    "start_date = datetime.date(2020, 12, rnd)\n",
    "end_date = datetime.date(2020, 12, rnd + 6)"
   ]
  },
  {
   "cell_type": "code",
   "execution_count": null,
   "id": "7d1aed46",
   "metadata": {},
   "outputs": [],
   "source": [
    "checks_headers = (spark.table(CHECKS_HEADERS)\n",
    "                      .filter(F.col('rtl_txn_dt').between(start_date, end_date))\n",
    "                      .filter((F.col('loyalty_card_no') != '') & (F.col('loyalty_card_no').isNotNull()))\n",
    "                      .filter(F.col('financial_unit_format_dk') == 'D')\n",
    "                      .filter(F.col('rtl_txn_cancel_flg') == 0)\n",
    "                      .select('rtl_txn_id', 'loyalty_card_no')\n",
    "                     )\n"
   ]
  },
  {
   "cell_type": "code",
   "execution_count": null,
   "id": "418f0e63",
   "metadata": {},
   "outputs": [],
   "source": [
    "loyalty_cards = (spark\n",
    "                    .table(LOYALTY_CARDS)\n",
    "                    .withColumnRenamed(\"loyalty_card_id\", \"loyalty_card_no\")\n",
    "                    .withColumnRenamed(\"loyalty_account_id\", \"account_no\")\n",
    "                    .withColumnRenamed(\"loyalty_account_acrm_id\", \"account_rk\")\n",
    "                    .select('account_no', 'loyalty_card_no')\n",
    "                )\n",
    "loyalty_cardholders = (spark\n",
    "                        .table(LOYALTY_CARDHOLDERS)\n",
    "                        .withColumnRenamed(\"loyalty_cardholder_acrm_id\", \"customer_rk\")\n",
    "                        .withColumnRenamed(\"loyalty_account_id\", \"account_no\")\n",
    "                        .select('account_no', 'customer_rk')\n",
    "                      )\n",
    "clients_info = loyalty_cards.join(loyalty_cardholders, on='account_no', how='inner')\n",
    "clients_info = clients_info.join(seg1, on='customer_rk', how='inner')"
   ]
  },
  {
   "cell_type": "code",
   "execution_count": null,
   "id": "9fb2e6e9",
   "metadata": {},
   "outputs": [],
   "source": [
    "checks_headers_tc5 = checks_headers.join(clients_info, on='loyalty_card_no') #оставили чеки только нужных гостей"
   ]
  },
  {
   "cell_type": "code",
   "execution_count": null,
   "id": "f4f1b423",
   "metadata": {},
   "outputs": [],
   "source": [
    "checks_items = (spark.table(CHECKS_ITEMS) \n",
    "                    .withColumnRenamed('plu_id', 'plu_code')\n",
    "                    .withColumnRenamed('turnover_no_vat_amt', 'zsalnovat')\n",
    "                    .withColumnRenamed('turnover_vat_rub_amt', 'zsale_vat')\n",
    "                    .withColumnRenamed('prime_cost_no_vat_amt', 'zcst_n')\n",
    "                    .withColumnRenamed('turnover_base_uom_amt', 'base_qty')\n",
    "                    .withColumnRenamed('discount_amt', 'zdiscount')\n",
    "                    .withColumnRenamed('fact_regular_promo_flg', 'zpromofl')\n",
    "                    .filter(F.col('rtl_txn_dt').between(start_date, end_date))\n",
    "                    .filter((F.col('zsalnovat') >= 0) & (F.col('base_qty') >= 0) & (F.col('zcst_n') > 0)) #keep only correct data\n",
    "                        .select('plu_code' #items id\n",
    "                                , 'rtl_txn_id' #cheques id\n",
    "                                , 'base_qty'\n",
    "                               )\n",
    "                   )\n"
   ]
  },
  {
   "cell_type": "code",
   "execution_count": null,
   "id": "c3641e57",
   "metadata": {},
   "outputs": [],
   "source": [
    "# plu_hierarchy_lvl_4_dk = ['FR0606001']\n",
    "# syntethic_category_id = [102]\n",
    "# plu_brand_code = ['L312']\n",
    "# plu_brand_code_not_in = ['L312']\n",
    "# plu_not_in = [4138521]\n",
    "plu_id = [4073984, 3974878, 4073988, 4073986, 3687449, 4073983]"
   ]
  },
  {
   "cell_type": "code",
   "execution_count": null,
   "id": "ef5c52b1",
   "metadata": {},
   "outputs": [],
   "source": [
    "checks_items = checks_items.filter(F.col('plu_code').isin(plu_id)) # только чеки с нужными plu"
   ]
  },
  {
   "cell_type": "code",
   "execution_count": null,
   "id": "30472bb3",
   "metadata": {},
   "outputs": [],
   "source": [
    "checks_tc5 = checks_items.join(checks_headers_tc5, on='rtl_txn_id', how='inner')"
   ]
  },
  {
   "cell_type": "code",
   "execution_count": null,
   "id": "2dfcbd27",
   "metadata": {},
   "outputs": [],
   "source": [
    "accs = ['account_no']\n",
    "pdf = checks_tc5.groupby(accs).agg(F.count('plu_code').alias('qty'))\n",
    "pdf = pdf.filter(F.col('qty') >= 2)\n",
    "checks_tc5 = checks_tc5.join(pdf, on=accs)"
   ]
  },
  {
   "cell_type": "code",
   "execution_count": null,
   "id": "1e2e80f1",
   "metadata": {},
   "outputs": [],
   "source": [
    "seg3 = (checks_tc5\n",
    "           .select('customer_rk')\n",
    "           .distinct()\n",
    "      )"
   ]
  },
  {
   "cell_type": "code",
   "execution_count": null,
   "id": "0900b7f8",
   "metadata": {
    "scrolled": true
   },
   "outputs": [],
   "source": [
    "seg3.write.parquet('temp933_3', mode='overwrite')\n",
    "seg3 = spark.read.parquet('temp933_3')"
   ]
  },
  {
   "cell_type": "code",
   "execution_count": null,
   "id": "03911492",
   "metadata": {},
   "outputs": [],
   "source": [
    "seg3.count()"
   ]
  },
  {
   "cell_type": "code",
   "execution_count": null,
   "id": "d910cada",
   "metadata": {},
   "outputs": [],
   "source": []
  },
  {
   "cell_type": "code",
   "execution_count": null,
   "id": "6a2573ee",
   "metadata": {},
   "outputs": [],
   "source": [
    "rnd = random.randint(1, 25)\n",
    "start_date = datetime.date(2020, 12, rnd)\n",
    "end_date = datetime.date(2020, 12, rnd + 6)"
   ]
  },
  {
   "cell_type": "code",
   "execution_count": null,
   "id": "36161e08",
   "metadata": {},
   "outputs": [],
   "source": [
    "checks_headers = (spark.table(CHECKS_HEADERS)\n",
    "                      .filter(F.col('rtl_txn_dt').between(start_date, end_date))\n",
    "                      .filter((F.col('loyalty_card_no') != '') & (F.col('loyalty_card_no').isNotNull()))\n",
    "                      .filter(F.col('financial_unit_format_dk') == 'D')\n",
    "                      .filter(F.col('rtl_txn_cancel_flg') == 0)\n",
    "                      .select('rtl_txn_id', 'loyalty_card_no')\n",
    "                     )\n"
   ]
  },
  {
   "cell_type": "code",
   "execution_count": null,
   "id": "3a9606d1",
   "metadata": {},
   "outputs": [],
   "source": [
    "loyalty_cards = (spark\n",
    "                    .table(LOYALTY_CARDS)\n",
    "                    .withColumnRenamed(\"loyalty_card_id\", \"loyalty_card_no\")\n",
    "                    .withColumnRenamed(\"loyalty_account_id\", \"account_no\")\n",
    "                    .withColumnRenamed(\"loyalty_account_acrm_id\", \"account_rk\")\n",
    "                    .select('account_no', 'loyalty_card_no')\n",
    "                )\n",
    "loyalty_cardholders = (spark\n",
    "                        .table(LOYALTY_CARDHOLDERS)\n",
    "                        .withColumnRenamed(\"loyalty_cardholder_acrm_id\", \"customer_rk\")\n",
    "                        .withColumnRenamed(\"loyalty_account_id\", \"account_no\")\n",
    "                        .select('account_no', 'customer_rk')\n",
    "                      )\n",
    "clients_info = loyalty_cards.join(loyalty_cardholders, on='account_no', how='inner')\n",
    "clients_info = clients_info.join(seg1, on='customer_rk', how='inner')"
   ]
  },
  {
   "cell_type": "code",
   "execution_count": null,
   "id": "43f9fa92",
   "metadata": {},
   "outputs": [],
   "source": [
    "checks_headers_tc5 = checks_headers.join(clients_info, on='loyalty_card_no') #оставили чеки только нужных гостей"
   ]
  },
  {
   "cell_type": "code",
   "execution_count": null,
   "id": "1975bdb0",
   "metadata": {},
   "outputs": [],
   "source": [
    "checks_items = (spark.table(CHECKS_ITEMS) \n",
    "                    .withColumnRenamed('plu_id', 'plu_code')\n",
    "                    .withColumnRenamed('turnover_no_vat_amt', 'zsalnovat')\n",
    "                    .withColumnRenamed('turnover_vat_rub_amt', 'zsale_vat')\n",
    "                    .withColumnRenamed('prime_cost_no_vat_amt', 'zcst_n')\n",
    "                    .withColumnRenamed('turnover_base_uom_amt', 'base_qty')\n",
    "                    .withColumnRenamed('discount_amt', 'zdiscount')\n",
    "                    .withColumnRenamed('fact_regular_promo_flg', 'zpromofl')\n",
    "                    .filter(F.col('rtl_txn_dt').between(start_date, end_date))\n",
    "                    .filter((F.col('zsalnovat') >= 0) & (F.col('base_qty') >= 0) & (F.col('zcst_n') > 0)) #keep only correct data\n",
    "                        .select('plu_code' #items id\n",
    "                                , 'rtl_txn_id' #cheques id\n",
    "                               )\n",
    "                   )\n"
   ]
  },
  {
   "cell_type": "code",
   "execution_count": null,
   "id": "a134cbae",
   "metadata": {},
   "outputs": [],
   "source": [
    "# plu_hierarchy_lvl_4_dk = ['FR0606001']\n",
    "# syntethic_category_id = [102]\n",
    "# plu_brand_code = ['L312']\n",
    "# plu_brand_code_not_in = ['L312']\n",
    "# plu_not_in = [4138521]\n",
    "plu_id = [4073984, 3974878, 4073988, 4073986, 3687449, 4073983, 4174879, 4174858]"
   ]
  },
  {
   "cell_type": "code",
   "execution_count": null,
   "id": "4a6a969a",
   "metadata": {},
   "outputs": [],
   "source": [
    "checks_items = checks_items.filter(F.col('plu_code').isin(plu_id)) # только чеки с нужными plu"
   ]
  },
  {
   "cell_type": "code",
   "execution_count": null,
   "id": "5a3631f2",
   "metadata": {},
   "outputs": [],
   "source": [
    "checks_tc5 = checks_items.join(checks_headers_tc5, on='rtl_txn_id', how='inner')"
   ]
  },
  {
   "cell_type": "code",
   "execution_count": null,
   "id": "bcf87517",
   "metadata": {},
   "outputs": [],
   "source": [
    "seg4 = (checks_tc5\n",
    "           .select('customer_rk')\n",
    "           .distinct()\n",
    "      )"
   ]
  },
  {
   "cell_type": "code",
   "execution_count": null,
   "id": "b9aa8d5e",
   "metadata": {
    "scrolled": true
   },
   "outputs": [],
   "source": [
    "seg4.write.parquet('temp933_4', mode='overwrite')\n",
    "seg4 = spark.read.parquet('temp933_4')"
   ]
  },
  {
   "cell_type": "code",
   "execution_count": null,
   "id": "80173821",
   "metadata": {},
   "outputs": [],
   "source": [
    "seg4.count()"
   ]
  },
  {
   "cell_type": "code",
   "execution_count": null,
   "id": "3c1796c4",
   "metadata": {},
   "outputs": [],
   "source": []
  },
  {
   "cell_type": "code",
   "execution_count": null,
   "id": "e1e2fcc9",
   "metadata": {},
   "outputs": [],
   "source": []
  },
  {
   "cell_type": "code",
   "execution_count": null,
   "id": "ad900437",
   "metadata": {},
   "outputs": [],
   "source": []
  },
  {
   "cell_type": "code",
   "execution_count": null,
   "id": "a001fd76",
   "metadata": {},
   "outputs": [],
   "source": [
    "seg_pd = seg_pd.astype('str')"
   ]
  },
  {
   "cell_type": "code",
   "execution_count": null,
   "id": "1b86f543",
   "metadata": {},
   "outputs": [],
   "source": [
    "cross, upgrade = get_usecases(seg_pd, usecases='short')"
   ]
  },
  {
   "cell_type": "code",
   "execution_count": null,
   "id": "5056ea19",
   "metadata": {},
   "outputs": [],
   "source": [
    "seg_no= 'seg1'"
   ]
  },
  {
   "cell_type": "code",
   "execution_count": null,
   "id": "51858293",
   "metadata": {},
   "outputs": [],
   "source": [
    "usecase = ['cross', 'upgrade']"
   ]
  },
  {
   "cell_type": "code",
   "execution_count": null,
   "id": "f754e457",
   "metadata": {},
   "outputs": [],
   "source": [
    "dt = datetime.datetime.now()"
   ]
  },
  {
   "cell_type": "code",
   "execution_count": null,
   "id": "07363922",
   "metadata": {},
   "outputs": [],
   "source": [
    "cross.to_csv(name + '_' + seg_no + '_' + usecase[0] + '_' + str(dt) + '.csv', index=False)\n",
    "upgrade.to_csv(name + '_' + seg_no + '_' + usecase[1] + '_' + str(dt) + '.csv', index=False)"
   ]
  },
  {
   "cell_type": "code",
   "execution_count": null,
   "id": "cc58a20f",
   "metadata": {},
   "outputs": [],
   "source": [
    "print('seg_no: {}, cross: {}, upgrade: {}'.format(seg_no, len(cross), len(upgrade)))"
   ]
  },
  {
   "cell_type": "code",
   "execution_count": null,
   "id": "55dc9847",
   "metadata": {},
   "outputs": [],
   "source": []
  }
 ],
 "metadata": {
  "kernelspec": {
   "display_name": "Python 3 (ipykernel)",
   "language": "python",
   "name": "python3"
  },
  "language_info": {
   "codemirror_mode": {
    "name": "ipython",
    "version": 3
   },
   "file_extension": ".py",
   "mimetype": "text/x-python",
   "name": "python",
   "nbconvert_exporter": "python",
   "pygments_lexer": "ipython3",
   "version": "3.7.10"
  }
 },
 "nbformat": 4,
 "nbformat_minor": 5
}
