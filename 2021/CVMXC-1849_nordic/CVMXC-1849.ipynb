{
 "cells": [
  {
   "cell_type": "markdown",
   "id": "1c0ba08f",
   "metadata": {},
   "source": [
    "https://jira.x5.ru/browse/CVMXC-1849"
   ]
  },
  {
   "cell_type": "code",
   "execution_count": 1,
   "id": "8f6b2832",
   "metadata": {},
   "outputs": [],
   "source": [
    "name = 'CVMXC-1849'"
   ]
  },
  {
   "cell_type": "code",
   "execution_count": 2,
   "id": "e8edc5f9",
   "metadata": {},
   "outputs": [],
   "source": [
    "import os\n",
    "import re\n",
    "from pyspark.sql import SparkSession\n",
    "from typing import List, Dict, Callable\n",
    "import socket\n",
    "\n",
    "spark = None\n",
    "\n",
    "EXECUTOR_ENV = 'hdfs:///share/products/cvm5/lib/python/anaconda_2.4.4_ds.tar.gz'  # 2.4.4 \n",
    "SPARK_ARCHIVE = 'hdfs:///share/lib/spark/sparkjars-2.4.4.zip'                     # 2.4.4\n",
    "#EXECUTOR_ENV = 'hdfs:///share/lib/python/env/anaconda-2019.07.tar.gz'\n",
    "#SPARK_ARCHIVE = 'hdfs:///share/lib/spark/sparkjars-2.3.1.zip'\n",
    "\n",
    "os.environ[\"ARROW_LIBHDFS_DIR\"] = \"/usr/hdp/2.6.5.0-292/usr/lib\"\n",
    "os.environ['HADOOP_HOME'] = '/usr/hdp/current/hadoop-client/'\n",
    "os.environ['JAVA_HOME'] = '/usr/lib/jvm/java-8-openjdk-amd64/'\n",
    "os.environ['HADOOP_CONF_DIR'] = '/etc/hadoop/conf/'\n",
    "os.environ['SPARK_HOME'] = '/opt/conda/lib/python3.7/site-packages/pyspark'\n",
    "os.environ['PYSPARK_PYTHON'] = 'anaconda_2.4.4_ds.tar.gz/bin/python3'             # 2.4.4\n",
    "#os.environ['PYSPARK_PYTHON'] = 'anaconda-2019.07.tar.gz/bin/python3'\n",
    "\n",
    "\n",
    "\n",
    "\n",
    "\n",
    "\n",
    "def restart_spark(task_name: str, num_executors: int, executor_memory='4G', executor_cores=2,\n",
    "                  driver_memory='2G', queue='bdse', additional_params: Dict[str, str] = None):\n",
    "    global spark\n",
    "\n",
    "    if spark:\n",
    "        sc = spark.sparkContext\n",
    "        if sc and sc._jsc:\n",
    "            if not sc._jsc.sc().isStopped():\n",
    "                print('Using cached spark')\n",
    "                return sc, spark\n",
    "\n",
    "    need_ports_for_app = 3\n",
    "    user_tcp_ports = _get_user_tcp_ports()\n",
    "    free_ports = _get_free_ports(user_tcp_ports)\n",
    "    assert len(free_ports) >= need_ports_for_app, \\\n",
    "        f\"Not enough free ports ({len(free_ports)}), need {need_ports_for_app}, stop other apps\"\n",
    "    app_ports = free_ports[:need_ports_for_app]\n",
    "\n",
    "    host_ip = os.getenv('HOST_IP')\n",
    "    \n",
    "    spark_session = (\n",
    "        SparkSession\n",
    "        .builder\n",
    "        .appName(task_name)\n",
    "        .master('yarn')\n",
    "        .config('spark.driver.memory', driver_memory)\n",
    "        .config('spark.driver.maxResultSize', driver_memory)\n",
    "        .config('spark.executor.cores', executor_cores)\n",
    "        .config('spark.executor.memory', executor_memory)\n",
    "        .config('spark.executor.memoryOverhead', '1G')\n",
    "        .config('spark.dynamicAllocation.enabled', 'true')\n",
    "        .config('spark.dynamicAllocation.maxExecutors', num_executors)\n",
    "        .config('spark.sql.broadcastTimeout', '36000')\n",
    "        .config('spark.dynamicAllocation.cachedExecutorIdleTimeout', '1200s')\n",
    "        .config('spark.ui.port', app_ports[0])\n",
    "        .config('spark.blockManager.port', app_ports[1])\n",
    "        .config('spark.driver.port', app_ports[2])\n",
    "        .config('spark.driver.host', host_ip)\n",
    "        .config('spark.driver.bindAddress', '0.0.0.0')\n",
    "        .config('spark.driver.extraLibraryPath', '/usr/hdp/2.6.5.0-292/hadoop/lib/native')\n",
    "        .config('spark.driver.extraJavaOptions', '-Dhdp.version=current')\n",
    "        .config('spark.debug.maxToStringFields', '50')\n",
    "        .config('spark.yarn.queue', queue)\n",
    "        .config('spark.yarn.dist.archives', EXECUTOR_ENV)\n",
    "        .config('spark.yarn.archive', SPARK_ARCHIVE)\n",
    "        .config('spark.yarn.am.extraJavaOptions', '-Dhdp.version=current')\n",
    "        .config('spark.rpc.message.maxSize', '1024')\n",
    "        .config('spark.sql.warehouse.dir', '/apps/hive/warehouse')\n",
    "        .config('spark.sql.execution.pandas.respectSessionTimeZone', 'false')\n",
    "        .config('spark.sql.orc.filterPushdown', 'true')\n",
    "        .config('spark.sql.hive.convertMetastoreOrc', 'true')\n",
    "        .config('spark.shuffle.service.enabled', 'true')\n",
    "        .config('spark.hadoop.yarn.timeline-service.enabled', 'false')\n",
    "        .config('spark.hadoop.yarn.client.failover-proxy-provider',\n",
    "                'org.apache.hadoop.yarn.client.ConfiguredRMFailoverProxyProvider')\n",
    "        .config('spark.serializer', 'org.apache.spark.serializer.KryoSerializer')\n",
    "        .config('spark.kryoserializer.buffer.max', '128m')\n",
    "        .config('spark.executor.extraLibraryPath', '/usr/hdp/2.6.5.0-292/hadoop/lib/native')\n",
    "    )\n",
    "\n",
    "    if additional_params:\n",
    "        for key, value in additional_params.items():\n",
    "            spark_session = spark_session.config(key, value)\n",
    "\n",
    "    spark = (\n",
    "        spark_session\n",
    "        .enableHiveSupport()\n",
    "        .getOrCreate()\n",
    "    )\n",
    "    sc = spark.sparkContext\n",
    "\n",
    "    return sc, spark\n",
    "\n",
    "\n",
    "def _get_user_tcp_ports() -> List[str]:\n",
    "    regexp = re.compile(r'-2e')\n",
    "    envuser= os.getenv('HOSTNAME')\n",
    "    if regexp.search(envuser):       \n",
    "      _, user_name, user_surname = envuser.upper().split('-')\n",
    "      user_full_name = '_'.join([user_name, user_surname])\n",
    "    else:\n",
    "      _, user_name  = envuser.upper().split('-') \n",
    "      user_full_name = user_name\n",
    "    user_tcp_ports = [v for k, v in os.environ.items() if user_full_name in k and k.endswith('TCP_PORT')]\n",
    "    return user_tcp_ports\n",
    "\n",
    "\n",
    "def _get_free_ports(ports: List[str]):\n",
    "    free_ports = []\n",
    "    for port in ports:\n",
    "        with socket.socket(socket.AF_INET, socket.SOCK_STREAM) as s:\n",
    "            if s.connect_ex(('0.0.0.0', int(port))) != 0:\n",
    "                free_ports.append(port)\n",
    "    return free_ports\n"
   ]
  },
  {
   "cell_type": "code",
   "execution_count": 3,
   "id": "3f59dac3",
   "metadata": {},
   "outputs": [
    {
     "name": "stderr",
     "output_type": "stream",
     "text": [
      "Setting default log level to \"WARN\".\n",
      "To adjust logging level use sc.setLogLevel(newLevel). For SparkR, use setLogLevel(newLevel).\n",
      "21/11/10 18:23:11 WARN cluster.YarnSchedulerBackend$YarnSchedulerEndpoint: Attempted to request executors before the AM has registered!\n"
     ]
    }
   ],
   "source": [
    "sc, spark = restart_spark(\n",
    "                    'CVMXC-1849', \n",
    "                    21, \n",
    "                    executor_memory='5G', \n",
    "                    executor_cores=3, \n",
    "                    driver_memory='7G', \n",
    "                    additional_params={\"spark.sql.shuffle.partitions\": \"300\"})"
   ]
  },
  {
   "cell_type": "code",
   "execution_count": 4,
   "id": "3281a4a4",
   "metadata": {},
   "outputs": [],
   "source": [
    "sc.setLogLevel('ERROR')"
   ]
  },
  {
   "cell_type": "code",
   "execution_count": 5,
   "id": "5fe7be90",
   "metadata": {},
   "outputs": [],
   "source": [
    "import pandas as pd\n",
    "import sys\n",
    "from pyspark.sql import functions as F\n",
    "import datetime\n",
    "from datetime import timedelta\n",
    "\n",
    "sys.path.append('glow-byte-filters-pyspark')\n",
    "from logic_filters import * "
   ]
  },
  {
   "cell_type": "code",
   "execution_count": 6,
   "id": "84f7dc84",
   "metadata": {},
   "outputs": [],
   "source": [
    "LOYALTY_CARDS = \"hive_ssa_tc5.loyalty_card\"\n",
    "LOYALTY_CARDHOLDERS = \"hive_ssa_tc5.loyalty_cardholder\"\n",
    "ACCOUNTS = \"hive_ssa_tc5.account\"\n",
    "CVM5_GUESTS = \"hive_cvm_acrm.cvm5_guests\"\n",
    "\n",
    "DIM_STORE = \"hive_ssa_main.dim_store\"\n",
    "CHECKS_HEADERS = \"hive_ssa_main.fct_rtl_txn\"\n",
    "CHECKS_ITEMS = \"hive_ssa_main.fct_rtl_txn_item\"\n",
    "PRODUCTS = \"hive_ssa_tc5.cvm_product\""
   ]
  },
  {
   "cell_type": "markdown",
   "id": "2d6217bd",
   "metadata": {},
   "source": [
    "### Проверка на доступность плю в магазинах"
   ]
  },
  {
   "cell_type": "code",
   "execution_count": 7,
   "id": "aa26397b",
   "metadata": {},
   "outputs": [],
   "source": [
    "plu_codes = [9056,3245999,3019670,16317]"
   ]
  },
  {
   "cell_type": "code",
   "execution_count": 8,
   "id": "3775cb6f",
   "metadata": {},
   "outputs": [
    {
     "name": "stderr",
     "output_type": "stream",
     "text": [
      "                                                                                \r"
     ]
    },
    {
     "data": {
      "text/plain": [
       "12757"
      ]
     },
     "execution_count": 8,
     "metadata": {},
     "output_type": "execute_result"
    }
   ],
   "source": [
    "pplu = spark.createDataFrame(pd.DataFrame({\"plu_code\": plu_codes}))\n",
    "\n",
    "shops = (spark.table(DIM_STORE)\n",
    "            .filter(F.col('valid_to_dttm')== datetime.datetime(5999, 1, 1, 0, 0))\n",
    "            #.filter(F.col('federal_subject_dk').isin([23, 93, 123, 193, 74, 174,\n",
    "             #                                         774, 16, 116, 716, 71, 32]))\n",
    "            .selectExpr('store_id as plant')\n",
    "            .distinct()\n",
    "            #.toPandas()['plant']\n",
    "            #.tolist()\n",
    "            )\n",
    "\n",
    "\n",
    "tc5_stores_assort = (\n",
    "    spark.table('HIVE_SSA_MAIN.ASSORTMENT_X_PLU_X_STORE')\n",
    "    .withColumnRenamed('plu_id', 'plu_code')\n",
    "    .withColumnRenamed('store_id', 'plant')\n",
    "    .filter(F.col(\"plu_negate_flg\") != 1)\n",
    "    .selectExpr('plu_code', 'plant')\n",
    "    .join(F.broadcast(pplu), 'plu_code', 'inner')\n",
    ")\n",
    "\n",
    "plants = (shops.join(tc5_stores_assort, on='plant', how='inner')\n",
    "                .select('plant')\n",
    "                .distinct()\n",
    "                .toPandas()['plant']\n",
    "                .tolist()\n",
    "         )\n",
    "\n",
    "len(plants)"
   ]
  },
  {
   "cell_type": "markdown",
   "id": "db6eb308",
   "metadata": {},
   "source": [
    "### Выбираем гостей нужного юзкейса"
   ]
  },
  {
   "cell_type": "code",
   "execution_count": 9,
   "id": "e801b0a5",
   "metadata": {},
   "outputs": [],
   "source": [
    "usecase = 'cross'\n",
    "lifetime = 90\n",
    "freq = 1\n",
    "dt = datetime.date.today()\n",
    "syntethic_category_id = [27,28,29,32]\n",
    "base_qty_per_period = 1\n",
    "brand_code = 3201"
   ]
  },
  {
   "cell_type": "code",
   "execution_count": 10,
   "id": "85bdbf67",
   "metadata": {},
   "outputs": [],
   "source": [
    "customers_usecase = (spark\n",
    "                     .table(CVM5_GUESTS)\n",
    "                     .filter(F.col('calculation_dt') >= dt)\n",
    "                     .filter(F.col('usecase') == usecase)\n",
    "                     .filter(F.col('lifetime') >= lifetime)\n",
    "                     .filter(F.col('frequency') >= freq)\n",
    "                     .select('account_no', 'customer_rk')\n",
    "                            )"
   ]
  },
  {
   "cell_type": "markdown",
   "id": "62949843",
   "metadata": {},
   "source": [
    "### Собираем чеки этих гостей и оставляем тех, кто покупал продукты с synthetic_catalog_id"
   ]
  },
  {
   "cell_type": "code",
   "execution_count": 11,
   "id": "84cf13cd",
   "metadata": {},
   "outputs": [],
   "source": [
    "start_date = datetime.date(2021, 7, 28)\n",
    "end_date = datetime.date(2021, 10, 27)"
   ]
  },
  {
   "cell_type": "code",
   "execution_count": 12,
   "id": "29b38d97",
   "metadata": {},
   "outputs": [
    {
     "name": "stderr",
     "output_type": "stream",
     "text": [
      "                                                                                \r"
     ]
    }
   ],
   "source": [
    "checks_headers = (spark.table(CHECKS_HEADERS)\n",
    "                      .filter(F.col('rtl_txn_dt').between(start_date, end_date))\n",
    "                      .filter((F.col('loyalty_card_no') != '') & (F.col('loyalty_card_no').isNotNull()))\n",
    "                      .filter(F.col('financial_unit_format_dk') == 'D')\n",
    "                      .filter(F.col('rtl_txn_cancel_flg') == 0)\n",
    "                      .select('rtl_txn_id', 'loyalty_card_no', 'store_id')\n",
    "                     )\n"
   ]
  },
  {
   "cell_type": "code",
   "execution_count": 13,
   "id": "3c510b5a",
   "metadata": {},
   "outputs": [],
   "source": [
    "checks_headers_tc5 = checks_headers.filter(F.col('store_id').isin(plants)) #оставили чеки только с нужными магазинами"
   ]
  },
  {
   "cell_type": "code",
   "execution_count": 14,
   "id": "df3b2505",
   "metadata": {},
   "outputs": [],
   "source": [
    "loyalty_cards = (spark\n",
    "                    .table(LOYALTY_CARDS)\n",
    "                    .withColumnRenamed(\"loyalty_card_id\", \"loyalty_card_no\")\n",
    "                    .withColumnRenamed(\"loyalty_account_id\", \"account_no\")\n",
    "                    .withColumnRenamed(\"loyalty_account_acrm_id\", \"account_rk\")\n",
    "                    .select('account_no', 'loyalty_card_no')\n",
    "                )\n",
    "loyalty_cardholders = (spark\n",
    "                        .table(LOYALTY_CARDHOLDERS)\n",
    "                        .withColumnRenamed(\"loyalty_cardholder_acrm_id\", \"customer_rk\")\n",
    "                        .withColumnRenamed(\"loyalty_account_id\", \"account_no\")\n",
    "                        .select('account_no', 'customer_rk')\n",
    "                      )\n",
    "clients_info = loyalty_cards.join(loyalty_cardholders, on='account_no', how='inner')\n",
    "clients_info = clients_info.join(customers_usecase, on=['account_no', 'customer_rk'], how='inner')"
   ]
  },
  {
   "cell_type": "code",
   "execution_count": 15,
   "id": "4cc49bd6",
   "metadata": {},
   "outputs": [],
   "source": [
    "checks_headers_tc5 = checks_headers_tc5.join(clients_info, on='loyalty_card_no') #оставили чеки только нужных гостей"
   ]
  },
  {
   "cell_type": "code",
   "execution_count": 16,
   "id": "7b65a0cf",
   "metadata": {},
   "outputs": [
    {
     "name": "stderr",
     "output_type": "stream",
     "text": [
      "                                                                                \r"
     ]
    }
   ],
   "source": [
    "checks_items = (spark.table(CHECKS_ITEMS) \n",
    "                    .withColumnRenamed('plu_id', 'plu_code')\n",
    "                    .withColumnRenamed('turnover_no_vat_amt', 'zsalnovat')\n",
    "                    .withColumnRenamed('turnover_vat_rub_amt', 'zsale_vat')\n",
    "                    .withColumnRenamed('prime_cost_no_vat_amt', 'zcst_n')\n",
    "                    .withColumnRenamed('turnover_base_uom_amt', 'base_qty')\n",
    "                    .withColumnRenamed('discount_amt', 'zdiscount')\n",
    "                    .withColumnRenamed('fact_regular_promo_flg', 'zpromofl')\n",
    "                    .filter(F.col('rtl_txn_dt').between(start_date, end_date))\n",
    "                    .filter((F.col('zsalnovat') >= 0) & (F.col('base_qty') >= 0) & (F.col('zcst_n') > 0)) #keep only correct data\n",
    "                        .select('plu_code' #items id\n",
    "                                , 'rtl_txn_id' #cheques id\n",
    "                                , 'base_qty' #count\n",
    "                               )\n",
    "                   )\n"
   ]
  },
  {
   "cell_type": "code",
   "execution_count": 17,
   "id": "77487796",
   "metadata": {},
   "outputs": [
    {
     "name": "stderr",
     "output_type": "stream",
     "text": [
      "                                                                                \r"
     ]
    }
   ],
   "source": [
    "plu_codes_cat = (spark\n",
    "                 .table(PRODUCTS)\n",
    "                 .filter(F.col('syntethic_category_id').isin(syntethic_category_id))\n",
    "#                  .filter(F.col('plu_brand_code') != brand_code)\n",
    "                 .select('plu_id')\n",
    "                 .distinct()\n",
    "                 .toPandas()['plu_id']\n",
    "                 .tolist()\n",
    "                )"
   ]
  },
  {
   "cell_type": "code",
   "execution_count": 18,
   "id": "02764295",
   "metadata": {},
   "outputs": [],
   "source": [
    "checks_items = checks_items.filter(F.col('plu_code').isin(plu_codes_cat)) # только чеки с нужными plu"
   ]
  },
  {
   "cell_type": "code",
   "execution_count": 19,
   "id": "b868773c",
   "metadata": {},
   "outputs": [],
   "source": [
    "checks_tc5 = checks_items.join(checks_headers_tc5, 'rtl_txn_id', how='inner')"
   ]
  },
  {
   "cell_type": "code",
   "execution_count": 20,
   "id": "426be3d3",
   "metadata": {},
   "outputs": [],
   "source": [
    "accs = ['account_no']\n",
    "pdf = checks_tc5.groupby(accs).agg(F.sum('base_qty').alias('base_qty_per_period'))\n",
    "pdf = pdf.filter(F.col('base_qty_per_period') >= base_qty_per_period)\n",
    "checks_tc5 = checks_tc5.join(pdf, on=accs)"
   ]
  },
  {
   "cell_type": "code",
   "execution_count": 21,
   "id": "8e2db8ad",
   "metadata": {},
   "outputs": [],
   "source": [
    "seg = ( checks_tc5.select('customer_rk')\n",
    "                  .distinct()\n",
    "      )"
   ]
  },
  {
   "cell_type": "code",
   "execution_count": 22,
   "id": "a64af1a6",
   "metadata": {},
   "outputs": [
    {
     "name": "stderr",
     "output_type": "stream",
     "text": [
      "                                                                                ]]]]\r"
     ]
    }
   ],
   "source": [
    "seg.write.parquet('temp', mode='overwrite')\n",
    "seg = spark.read.parquet('temp')"
   ]
  },
  {
   "cell_type": "markdown",
   "id": "65447119",
   "metadata": {},
   "source": [
    "### Проверяем на доступность отобранных гостей в определенную дату"
   ]
  },
  {
   "cell_type": "code",
   "execution_count": 23,
   "id": "d554456c",
   "metadata": {},
   "outputs": [],
   "source": [
    "check_date = '2021-11-26'"
   ]
  },
  {
   "cell_type": "code",
   "execution_count": 24,
   "id": "ebd0f555",
   "metadata": {},
   "outputs": [
    {
     "name": "stdout",
     "output_type": "stream",
     "text": [
      "\u001b[93m Время выполнения: 0:00:07\n"
     ]
    }
   ],
   "source": [
    "seg_sms = (sms_channel_filters_glowbyte(spark=spark,\n",
    "                                         guests=seg, \n",
    "                                         usecase_name=usecase, \n",
    "                                         check_date=check_date, \n",
    "                                         debug_mode=False)\n",
    "                                    .select('customer_rk')\n",
    "                                    .distinct()\n",
    "           )"
   ]
  },
  {
   "cell_type": "code",
   "execution_count": 25,
   "id": "0d22a6eb",
   "metadata": {},
   "outputs": [
    {
     "name": "stderr",
     "output_type": "stream",
     "text": [
      "                                                                                \r"
     ]
    }
   ],
   "source": [
    "seg_sms.write.parquet('temp01', mode='overwrite')\n",
    "seg_sms = spark.read.parquet('temp01')"
   ]
  },
  {
   "cell_type": "code",
   "execution_count": 26,
   "id": "e290409f",
   "metadata": {},
   "outputs": [],
   "source": [
    "segm = (seg.join(seg_sms, on='customer_rk', how='inner')\n",
    "                .select('customer_rk')\n",
    "                .distinct())"
   ]
  },
  {
   "cell_type": "code",
   "execution_count": 27,
   "id": "26f550f1",
   "metadata": {},
   "outputs": [
    {
     "name": "stderr",
     "output_type": "stream",
     "text": [
      "                                                                                \r"
     ]
    }
   ],
   "source": [
    "seg_sms_pd = segm.toPandas()"
   ]
  },
  {
   "cell_type": "code",
   "execution_count": 28,
   "id": "bf5b1ff1",
   "metadata": {},
   "outputs": [
    {
     "data": {
      "text/plain": [
       "649624"
      ]
     },
     "execution_count": 28,
     "metadata": {},
     "output_type": "execute_result"
    }
   ],
   "source": [
    "len(seg_sms_pd)"
   ]
  },
  {
   "cell_type": "code",
   "execution_count": 29,
   "id": "69b3c4ab",
   "metadata": {},
   "outputs": [
    {
     "data": {
      "text/html": [
       "<div>\n",
       "<style scoped>\n",
       "    .dataframe tbody tr th:only-of-type {\n",
       "        vertical-align: middle;\n",
       "    }\n",
       "\n",
       "    .dataframe tbody tr th {\n",
       "        vertical-align: top;\n",
       "    }\n",
       "\n",
       "    .dataframe thead th {\n",
       "        text-align: right;\n",
       "    }\n",
       "</style>\n",
       "<table border=\"1\" class=\"dataframe\">\n",
       "  <thead>\n",
       "    <tr style=\"text-align: right;\">\n",
       "      <th></th>\n",
       "      <th>customer_rk</th>\n",
       "    </tr>\n",
       "  </thead>\n",
       "  <tbody>\n",
       "    <tr>\n",
       "      <th>0</th>\n",
       "      <td>13136901</td>\n",
       "    </tr>\n",
       "    <tr>\n",
       "      <th>1</th>\n",
       "      <td>13846434</td>\n",
       "    </tr>\n",
       "    <tr>\n",
       "      <th>2</th>\n",
       "      <td>15616182</td>\n",
       "    </tr>\n",
       "    <tr>\n",
       "      <th>3</th>\n",
       "      <td>19730313</td>\n",
       "    </tr>\n",
       "    <tr>\n",
       "      <th>4</th>\n",
       "      <td>26386152</td>\n",
       "    </tr>\n",
       "    <tr>\n",
       "      <th>...</th>\n",
       "      <td>...</td>\n",
       "    </tr>\n",
       "    <tr>\n",
       "      <th>649619</th>\n",
       "      <td>113155314</td>\n",
       "    </tr>\n",
       "    <tr>\n",
       "      <th>649620</th>\n",
       "      <td>11418802</td>\n",
       "    </tr>\n",
       "    <tr>\n",
       "      <th>649621</th>\n",
       "      <td>12554731</td>\n",
       "    </tr>\n",
       "    <tr>\n",
       "      <th>649622</th>\n",
       "      <td>35867362</td>\n",
       "    </tr>\n",
       "    <tr>\n",
       "      <th>649623</th>\n",
       "      <td>62591022</td>\n",
       "    </tr>\n",
       "  </tbody>\n",
       "</table>\n",
       "<p>649624 rows × 1 columns</p>\n",
       "</div>"
      ],
      "text/plain": [
       "       customer_rk\n",
       "0         13136901\n",
       "1         13846434\n",
       "2         15616182\n",
       "3         19730313\n",
       "4         26386152\n",
       "...            ...\n",
       "649619   113155314\n",
       "649620    11418802\n",
       "649621    12554731\n",
       "649622    35867362\n",
       "649623    62591022\n",
       "\n",
       "[649624 rows x 1 columns]"
      ]
     },
     "execution_count": 29,
     "metadata": {},
     "output_type": "execute_result"
    }
   ],
   "source": [
    "seg_sms_pd"
   ]
  },
  {
   "cell_type": "code",
   "execution_count": 30,
   "id": "aa973b67",
   "metadata": {},
   "outputs": [],
   "source": [
    "seg_sms_pd.to_csv(name + '_seg3_01_' + usecase + '_' + str(dt) + '.csv', index=False)"
   ]
  }
 ],
 "metadata": {
  "kernelspec": {
   "display_name": "Python 3 (ipykernel)",
   "language": "python",
   "name": "python3"
  },
  "language_info": {
   "codemirror_mode": {
    "name": "ipython",
    "version": 3
   },
   "file_extension": ".py",
   "mimetype": "text/x-python",
   "name": "python",
   "nbconvert_exporter": "python",
   "pygments_lexer": "ipython3",
   "version": "3.7.10"
  }
 },
 "nbformat": 4,
 "nbformat_minor": 5
}
