{
 "cells": [
  {
   "cell_type": "markdown",
   "id": "7a6417a0",
   "metadata": {},
   "source": [
    "https://jira.x5.ru/browse/CVMXC-1957"
   ]
  },
  {
   "cell_type": "code",
   "execution_count": 1,
   "id": "b7e92faf",
   "metadata": {},
   "outputs": [],
   "source": [
    "name = 'CVMXC-1957'"
   ]
  },
  {
   "cell_type": "code",
   "execution_count": 2,
   "id": "621b0cbe",
   "metadata": {},
   "outputs": [],
   "source": [
    "import os\n",
    "import re\n",
    "from pyspark.sql import SparkSession\n",
    "from typing import List, Dict, Callable\n",
    "import socket\n",
    "\n",
    "spark = None\n",
    "\n",
    "EXECUTOR_ENV = 'hdfs:///share/products/cvm5/lib/python/anaconda_2.4.4_ds.tar.gz'  # 2.4.4 \n",
    "SPARK_ARCHIVE = 'hdfs:///share/lib/spark/sparkjars-2.4.4.zip'                     # 2.4.4\n",
    "#EXECUTOR_ENV = 'hdfs:///share/lib/python/env/anaconda-2019.07.tar.gz'\n",
    "#SPARK_ARCHIVE = 'hdfs:///share/lib/spark/sparkjars-2.3.1.zip'\n",
    "\n",
    "os.environ[\"ARROW_LIBHDFS_DIR\"] = \"/usr/hdp/2.6.5.0-292/usr/lib\"\n",
    "os.environ['HADOOP_HOME'] = '/usr/hdp/current/hadoop-client/'\n",
    "os.environ['JAVA_HOME'] = '/usr/lib/jvm/java-8-openjdk-amd64/'\n",
    "os.environ['HADOOP_CONF_DIR'] = '/etc/hadoop/conf/'\n",
    "os.environ['SPARK_HOME'] = '/opt/conda/lib/python3.7/site-packages/pyspark'\n",
    "os.environ['PYSPARK_PYTHON'] = 'anaconda_2.4.4_ds.tar.gz/bin/python3'             # 2.4.4\n",
    "#os.environ['PYSPARK_PYTHON'] = 'anaconda-2019.07.tar.gz/bin/python3'\n",
    "\n",
    "\n",
    "\n",
    "\n",
    "\n",
    "\n",
    "def restart_spark(task_name: str, num_executors: int, executor_memory='4G', executor_cores=2,\n",
    "                  driver_memory='2G', queue='bdse', additional_params: Dict[str, str] = None):\n",
    "    global spark\n",
    "\n",
    "    if spark:\n",
    "        sc = spark.sparkContext\n",
    "        if sc and sc._jsc:\n",
    "            if not sc._jsc.sc().isStopped():\n",
    "                print('Using cached spark')\n",
    "                return sc, spark\n",
    "\n",
    "    need_ports_for_app = 3\n",
    "    user_tcp_ports = _get_user_tcp_ports()\n",
    "    free_ports = _get_free_ports(user_tcp_ports)\n",
    "    assert len(free_ports) >= need_ports_for_app, \\\n",
    "        f\"Not enough free ports ({len(free_ports)}), need {need_ports_for_app}, stop other apps\"\n",
    "    app_ports = free_ports[:need_ports_for_app]\n",
    "\n",
    "    host_ip = os.getenv('HOST_IP')\n",
    "    \n",
    "    spark_session = (\n",
    "        SparkSession\n",
    "        .builder\n",
    "        .appName(task_name)\n",
    "        .master('yarn')\n",
    "        .config('spark.driver.memory', driver_memory)\n",
    "        .config('spark.driver.maxResultSize', driver_memory)\n",
    "        .config('spark.executor.cores', executor_cores)\n",
    "        .config('spark.executor.memory', executor_memory)\n",
    "        .config('spark.executor.memoryOverhead', '1G')\n",
    "        .config('spark.dynamicAllocation.enabled', 'true')\n",
    "        .config('spark.dynamicAllocation.maxExecutors', num_executors)\n",
    "        .config('spark.sql.broadcastTimeout', '36000')\n",
    "        .config('spark.dynamicAllocation.cachedExecutorIdleTimeout', '1200s')\n",
    "        .config('spark.ui.port', app_ports[0])\n",
    "        .config('spark.blockManager.port', app_ports[1])\n",
    "        .config('spark.driver.port', app_ports[2])\n",
    "        .config('spark.driver.host', host_ip)\n",
    "        .config('spark.driver.bindAddress', '0.0.0.0')\n",
    "        .config('spark.driver.extraLibraryPath', '/usr/hdp/2.6.5.0-292/hadoop/lib/native')\n",
    "        .config('spark.driver.extraJavaOptions', '-Dhdp.version=current')\n",
    "        .config('spark.debug.maxToStringFields', '50')\n",
    "        .config('spark.yarn.queue', queue)\n",
    "        .config('spark.yarn.dist.archives', EXECUTOR_ENV)\n",
    "        .config('spark.yarn.archive', SPARK_ARCHIVE)\n",
    "        .config('spark.yarn.am.extraJavaOptions', '-Dhdp.version=current')\n",
    "        .config('spark.rpc.message.maxSize', '1024')\n",
    "        .config('spark.sql.warehouse.dir', '/apps/hive/warehouse')\n",
    "        .config('spark.sql.execution.pandas.respectSessionTimeZone', 'false')\n",
    "        .config('spark.sql.orc.filterPushdown', 'true')\n",
    "        .config('spark.sql.hive.convertMetastoreOrc', 'true')\n",
    "        .config('spark.shuffle.service.enabled', 'true')\n",
    "        .config('spark.hadoop.yarn.timeline-service.enabled', 'false')\n",
    "        .config('spark.hadoop.yarn.client.failover-proxy-provider',\n",
    "                'org.apache.hadoop.yarn.client.ConfiguredRMFailoverProxyProvider')\n",
    "        .config('spark.serializer', 'org.apache.spark.serializer.KryoSerializer')\n",
    "        .config('spark.kryoserializer.buffer.max', '128m')\n",
    "        .config('spark.executor.extraLibraryPath', '/usr/hdp/2.6.5.0-292/hadoop/lib/native')\n",
    "    )\n",
    "\n",
    "    if additional_params:\n",
    "        for key, value in additional_params.items():\n",
    "            spark_session = spark_session.config(key, value)\n",
    "\n",
    "    spark = (\n",
    "        spark_session\n",
    "        .enableHiveSupport()\n",
    "        .getOrCreate()\n",
    "    )\n",
    "    sc = spark.sparkContext\n",
    "\n",
    "    return sc, spark\n",
    "\n",
    "\n",
    "def _get_user_tcp_ports() -> List[str]:\n",
    "    regexp = re.compile(r'-2e')\n",
    "    envuser= os.getenv('HOSTNAME')\n",
    "    if regexp.search(envuser):       \n",
    "      _, user_name, user_surname = envuser.upper().split('-')\n",
    "      user_full_name = '_'.join([user_name, user_surname])\n",
    "    else:\n",
    "      _, user_name  = envuser.upper().split('-') \n",
    "      user_full_name = user_name\n",
    "    user_tcp_ports = [v for k, v in os.environ.items() if user_full_name in k and k.endswith('TCP_PORT')]\n",
    "    return user_tcp_ports\n",
    "\n",
    "\n",
    "def _get_free_ports(ports: List[str]):\n",
    "    free_ports = []\n",
    "    for port in ports:\n",
    "        with socket.socket(socket.AF_INET, socket.SOCK_STREAM) as s:\n",
    "            if s.connect_ex(('0.0.0.0', int(port))) != 0:\n",
    "                free_ports.append(port)\n",
    "    return free_ports\n"
   ]
  },
  {
   "cell_type": "code",
   "execution_count": 3,
   "id": "448558b9",
   "metadata": {},
   "outputs": [
    {
     "name": "stderr",
     "output_type": "stream",
     "text": [
      "Setting default log level to \"WARN\".\n",
      "To adjust logging level use sc.setLogLevel(newLevel). For SparkR, use setLogLevel(newLevel).\n"
     ]
    }
   ],
   "source": [
    "sc, spark = restart_spark(\n",
    "                    name, \n",
    "                    21, \n",
    "                    executor_memory='5G', \n",
    "                    executor_cores=3, \n",
    "                    driver_memory='7G', \n",
    "                    additional_params={\"spark.sql.shuffle.partitions\": \"300\"})"
   ]
  },
  {
   "cell_type": "code",
   "execution_count": 4,
   "id": "9e7d3ffb",
   "metadata": {},
   "outputs": [],
   "source": [
    "sc.setLogLevel('ERROR')"
   ]
  },
  {
   "cell_type": "code",
   "execution_count": 5,
   "id": "2f576205",
   "metadata": {},
   "outputs": [],
   "source": [
    "import pandas as pd\n",
    "import sys\n",
    "from pyspark.sql import functions as F\n",
    "import datetime\n",
    "from datetime import timedelta\n",
    "\n",
    "sys.path.append('/home/jovyan/glow-byte-filters-pyspark')\n",
    "from logic_filters import * "
   ]
  },
  {
   "cell_type": "code",
   "execution_count": 6,
   "id": "7f82e5e2",
   "metadata": {},
   "outputs": [],
   "source": [
    "LOYALTY_CARDS = \"hive_ssa_tc5.loyalty_card\"\n",
    "LOYALTY_CARDHOLDERS = \"hive_ssa_tc5.loyalty_cardholder\"\n",
    "ACCOUNTS = \"hive_ssa_tc5.account\"\n",
    "CVM5_GUESTS = \"hive_cvm_acrm.cvm5_guests\"\n",
    "\n",
    "DIM_STORE = \"hive_ssa_main.dim_store\"\n",
    "CHECKS_HEADERS = \"hive_ssa_main.fct_rtl_txn\"\n",
    "CHECKS_ITEMS = \"hive_ssa_main.fct_rtl_txn_item\"\n",
    "PRODUCTS = \"hive_ssa_tc5.cvm_product\""
   ]
  },
  {
   "cell_type": "code",
   "execution_count": 7,
   "id": "2fe83d73",
   "metadata": {},
   "outputs": [],
   "source": [
    "seg_no = 'seg1'"
   ]
  },
  {
   "cell_type": "markdown",
   "id": "6197ba87",
   "metadata": {},
   "source": [
    "### Проверка на доступность плю в магазинах"
   ]
  },
  {
   "cell_type": "markdown",
   "id": "1f62a66e",
   "metadata": {},
   "source": [
    "Северо-Запад, Москва"
   ]
  },
  {
   "cell_type": "code",
   "execution_count": 8,
   "id": "f51f3d81",
   "metadata": {},
   "outputs": [],
   "source": [
    "macroregion_dk = ['MRDND', 'MRDCT']"
   ]
  },
  {
   "cell_type": "code",
   "execution_count": 9,
   "id": "36135a6d",
   "metadata": {},
   "outputs": [],
   "source": [
    "plu_codes = [3472773]"
   ]
  },
  {
   "cell_type": "code",
   "execution_count": 10,
   "id": "84abc9ea",
   "metadata": {},
   "outputs": [
    {
     "name": "stderr",
     "output_type": "stream",
     "text": [
      "                                                                                \r"
     ]
    },
    {
     "data": {
      "text/plain": [
       "5048"
      ]
     },
     "execution_count": 10,
     "metadata": {},
     "output_type": "execute_result"
    }
   ],
   "source": [
    "pplu = spark.createDataFrame(pd.DataFrame({\"plu_code\": plu_codes}))\n",
    "\n",
    "shops = (spark.table(DIM_STORE)\n",
    "            .filter(F.col('valid_to_dttm')== datetime.datetime(5999, 1, 1, 0, 0))\n",
    "            #.filter(F.col('federal_subject_dk').isin([23, 93, 123, 193, 74, 174,\n",
    "             #                                         774, 16, 116, 716, 71, 32]))\n",
    "            .filter(F.col('macroregion_dk').isin(macroregion_dk))\n",
    "            .selectExpr('store_id as plant')\n",
    "            .distinct()\n",
    "            #.toPandas()['plant']\n",
    "            #.tolist()\n",
    "            )\n",
    "\n",
    "\n",
    "tc5_stores_assort = (\n",
    "    spark.table('HIVE_SSA_MAIN.ASSORTMENT_X_PLU_X_STORE')\n",
    "    .withColumnRenamed('plu_id', 'plu_code')\n",
    "    .withColumnRenamed('store_id', 'plant')\n",
    "    .filter(F.col(\"plu_negate_flg\") != 1)\n",
    "    .selectExpr('plu_code', 'plant')\n",
    "    .join(F.broadcast(pplu), 'plu_code', 'inner')\n",
    ")\n",
    "\n",
    "plants = (shops.join(tc5_stores_assort, on='plant', how='inner')\n",
    "                .select('plant')\n",
    "                .distinct()\n",
    "                .toPandas()['plant']\n",
    "                .tolist()\n",
    "         )\n",
    "\n",
    "len(plants)"
   ]
  },
  {
   "cell_type": "markdown",
   "id": "625f795b",
   "metadata": {},
   "source": [
    "### Выбираем гостей нужного юзкейса"
   ]
  },
  {
   "cell_type": "code",
   "execution_count": 14,
   "id": "62e1b635",
   "metadata": {},
   "outputs": [],
   "source": [
    "usecase = ['cross', 'upgrade', 'ump']\n",
    "lifetime = 90\n",
    "freq = 1\n",
    "dt = datetime.date.today()\n",
    "# plu_hierarchy_lvl_4_dk = 'FD0910005'\n",
    "syntethic_category_id = [65]\n",
    "plu_brand_code = ['2572','3403','O899','2268','1120','2325','0844','2251']\n",
    "base_qty_per_period = 1\n",
    "plu_netto_weight_amt = 0.5"
   ]
  },
  {
   "cell_type": "code",
   "execution_count": 15,
   "id": "17abd0d4",
   "metadata": {},
   "outputs": [],
   "source": [
    "customers_usecase = (spark\n",
    "                     .table(CVM5_GUESTS)\n",
    "                     .filter(F.col('calculation_dt') >= dt)\n",
    "                     .filter(F.col('usecase').isin(usecase))\n",
    "                     .filter(F.col('lifetime') >= lifetime)\n",
    "                     .filter(F.col('frequency') >= freq)\n",
    "                     .select('account_no', 'customer_rk')\n",
    "                            )"
   ]
  },
  {
   "cell_type": "markdown",
   "id": "122872b4",
   "metadata": {},
   "source": [
    "### Собираем чеки этих гостей и оставляем тех, кто покупал продукты с synthetic_catalog_id"
   ]
  },
  {
   "cell_type": "code",
   "execution_count": 16,
   "id": "f4f48954",
   "metadata": {},
   "outputs": [],
   "source": [
    "start_date = datetime.date(2021, 8, 10)\n",
    "end_date = datetime.date(2021, 11, 9)"
   ]
  },
  {
   "cell_type": "code",
   "execution_count": 17,
   "id": "d66d69ad",
   "metadata": {},
   "outputs": [],
   "source": [
    "checks_headers = (spark.table(CHECKS_HEADERS)\n",
    "                      .filter(F.col('rtl_txn_dt').between(start_date, end_date))\n",
    "                      .filter((F.col('loyalty_card_no') != '') & (F.col('loyalty_card_no').isNotNull()))\n",
    "                      .filter(F.col('financial_unit_format_dk') == 'D')\n",
    "                      .filter(F.col('rtl_txn_cancel_flg') == 0)\n",
    "                      .select('rtl_txn_id', 'loyalty_card_no', 'store_id')\n",
    "                     )\n"
   ]
  },
  {
   "cell_type": "code",
   "execution_count": 18,
   "id": "8e4a5540",
   "metadata": {},
   "outputs": [],
   "source": [
    "checks_headers_tc5 = checks_headers.filter(F.col('store_id').isin(plants)) #оставили чеки только с нужными магазинами"
   ]
  },
  {
   "cell_type": "code",
   "execution_count": 19,
   "id": "deb6d412",
   "metadata": {},
   "outputs": [],
   "source": [
    "loyalty_cards = (spark\n",
    "                    .table(LOYALTY_CARDS)\n",
    "                    .withColumnRenamed(\"loyalty_card_id\", \"loyalty_card_no\")\n",
    "                    .withColumnRenamed(\"loyalty_account_id\", \"account_no\")\n",
    "                    .withColumnRenamed(\"loyalty_account_acrm_id\", \"account_rk\")\n",
    "                    .select('account_no', 'loyalty_card_no')\n",
    "                )\n",
    "loyalty_cardholders = (spark\n",
    "                        .table(LOYALTY_CARDHOLDERS)\n",
    "                        .withColumnRenamed(\"loyalty_cardholder_acrm_id\", \"customer_rk\")\n",
    "                        .withColumnRenamed(\"loyalty_account_id\", \"account_no\")\n",
    "                        .select('account_no', 'customer_rk')\n",
    "                      )\n",
    "clients_info = loyalty_cards.join(loyalty_cardholders, on='account_no', how='inner')\n",
    "clients_info = clients_info.join(customers_usecase, on=['account_no', 'customer_rk'], how='inner')"
   ]
  },
  {
   "cell_type": "code",
   "execution_count": 20,
   "id": "9e45c126",
   "metadata": {},
   "outputs": [],
   "source": [
    "checks_headers_tc5 = checks_headers_tc5.join(clients_info, on='loyalty_card_no') #оставили чеки только нужных гостей"
   ]
  },
  {
   "cell_type": "code",
   "execution_count": 21,
   "id": "bc672e94",
   "metadata": {},
   "outputs": [],
   "source": [
    "checks_items = (spark.table(CHECKS_ITEMS) \n",
    "                    .withColumnRenamed('plu_id', 'plu_code')\n",
    "                    .withColumnRenamed('turnover_no_vat_amt', 'zsalnovat')\n",
    "                    .withColumnRenamed('turnover_vat_rub_amt', 'zsale_vat')\n",
    "                    .withColumnRenamed('prime_cost_no_vat_amt', 'zcst_n')\n",
    "                    .withColumnRenamed('turnover_base_uom_amt', 'base_qty')\n",
    "                    .withColumnRenamed('discount_amt', 'zdiscount')\n",
    "                    .withColumnRenamed('fact_regular_promo_flg', 'zpromofl')\n",
    "                    .filter(F.col('rtl_txn_dt').between(start_date, end_date))\n",
    "                    .filter((F.col('zsalnovat') >= 0) & (F.col('base_qty') >= 0) & (F.col('zcst_n') > 0)) #keep only correct data\n",
    "                        .select('plu_code' #items id\n",
    "                                , 'rtl_txn_id' #cheques id\n",
    "                                , 'base_qty' #count\n",
    "                               )\n",
    "                   )\n"
   ]
  },
  {
   "cell_type": "code",
   "execution_count": 22,
   "id": "f29e2498",
   "metadata": {},
   "outputs": [
    {
     "name": "stderr",
     "output_type": "stream",
     "text": [
      "                                                                                \r"
     ]
    }
   ],
   "source": [
    "plu_codes_cat = (spark\n",
    "                 .table(PRODUCTS)\n",
    "#                  .filter(F.col('plu_hierarchy_lvl_4_dk') == plu_hierarchy_lvl_4_dk)\n",
    "                 .filter(F.col('plu_brand_code').isin(plu_brand_code))\n",
    "                 .filter(F.col('syntethic_category_id').isin(syntethic_category_id))\n",
    "                 .filter(F.col('plu_netto_weight_amt') >= plu_netto_weight_amt)\n",
    "                 .select('plu_id')\n",
    "                 .distinct()\n",
    "                 .toPandas()['plu_id']\n",
    "                 .tolist()\n",
    "                )"
   ]
  },
  {
   "cell_type": "code",
   "execution_count": 23,
   "id": "3bca8a3c",
   "metadata": {},
   "outputs": [],
   "source": [
    "checks_items = checks_items.filter(F.col('plu_code').isin(plu_codes_cat)) # только чеки с нужными plu"
   ]
  },
  {
   "cell_type": "code",
   "execution_count": 24,
   "id": "c4cfa287",
   "metadata": {},
   "outputs": [],
   "source": [
    "checks_tc5 = checks_items.join(checks_headers_tc5, 'rtl_txn_id', how='inner')"
   ]
  },
  {
   "cell_type": "code",
   "execution_count": 25,
   "id": "5ab87cfa",
   "metadata": {},
   "outputs": [],
   "source": [
    "accs = ['account_no']\n",
    "pdf = checks_tc5.groupby(accs).agg(F.sum('base_qty').alias('base_qty_per_period'))\n",
    "pdf = pdf.filter(F.col('base_qty_per_period') >= base_qty_per_period)\n",
    "checks_tc5 = checks_tc5.join(pdf, on=accs)"
   ]
  },
  {
   "cell_type": "code",
   "execution_count": 26,
   "id": "15ae5c0f",
   "metadata": {},
   "outputs": [],
   "source": [
    "seg = (checks_tc5.select('customer_rk')\n",
    "                  .distinct()\n",
    "      )"
   ]
  },
  {
   "cell_type": "code",
   "execution_count": 27,
   "id": "87f8365d",
   "metadata": {},
   "outputs": [
    {
     "name": "stderr",
     "output_type": "stream",
     "text": [
      "                                                                                01]]]\r"
     ]
    }
   ],
   "source": [
    "seg.write.parquet('temp', mode='overwrite')\n",
    "seg = spark.read.parquet('temp')"
   ]
  },
  {
   "cell_type": "markdown",
   "id": "9fad9ada",
   "metadata": {},
   "source": [
    "### Проверяем на доступность отобранных гостей в определенную дату"
   ]
  },
  {
   "cell_type": "code",
   "execution_count": 28,
   "id": "a17c6b24",
   "metadata": {},
   "outputs": [],
   "source": [
    "check_date = '2021-12-06'"
   ]
  },
  {
   "cell_type": "code",
   "execution_count": 29,
   "id": "a4caec64",
   "metadata": {},
   "outputs": [
    {
     "name": "stdout",
     "output_type": "stream",
     "text": [
      "\u001b[93m Время выполнения: 0:00:25\n"
     ]
    }
   ],
   "source": [
    "seg_sms1 = (sms_channel_filters_glowbyte(spark=spark,\n",
    "                                         guests=seg, \n",
    "                                         usecase_name=usecase[0], \n",
    "                                         check_date=check_date, \n",
    "                                         debug_mode=False)\n",
    "                                    .select('customer_rk')\n",
    "                                    .distinct()\n",
    "           )"
   ]
  },
  {
   "cell_type": "code",
   "execution_count": 30,
   "id": "3abc42d6",
   "metadata": {},
   "outputs": [
    {
     "name": "stdout",
     "output_type": "stream",
     "text": [
      "\u001b[93m Время выполнения: 0:00:11\n"
     ]
    }
   ],
   "source": [
    "seg_sms2 = (sms_channel_filters_glowbyte(spark=spark,\n",
    "                                         guests=seg, \n",
    "                                         usecase_name=usecase[1], \n",
    "                                         check_date=check_date, \n",
    "                                         debug_mode=False)\n",
    "                                    .select('customer_rk')\n",
    "                                    .distinct()\n",
    "           )"
   ]
  },
  {
   "cell_type": "code",
   "execution_count": 31,
   "id": "efbcb9f7",
   "metadata": {},
   "outputs": [
    {
     "name": "stdout",
     "output_type": "stream",
     "text": [
      "\u001b[93m Время выполнения: 0:00:10\n"
     ]
    }
   ],
   "source": [
    "seg_sms3 = (sms_channel_filters_glowbyte(spark=spark,\n",
    "                                         guests=seg, \n",
    "                                         usecase_name=usecase[2], \n",
    "                                         check_date=check_date, \n",
    "                                         debug_mode=False)\n",
    "                                    .select('customer_rk')\n",
    "                                    .distinct()\n",
    "           )"
   ]
  },
  {
   "cell_type": "code",
   "execution_count": 32,
   "id": "7c830596",
   "metadata": {},
   "outputs": [],
   "source": [
    "seg_sms = seg_sms1.union(seg_sms2).union(seg_sms3).distinct()"
   ]
  },
  {
   "cell_type": "code",
   "execution_count": 34,
   "id": "97250ce3",
   "metadata": {},
   "outputs": [
    {
     "name": "stderr",
     "output_type": "stream",
     "text": [
      "                                                                                 1700]]]\r"
     ]
    }
   ],
   "source": [
    "seg_sms.write.parquet('temp01', mode='overwrite')\n",
    "seg_sms = spark.read.parquet('temp01')"
   ]
  },
  {
   "cell_type": "code",
   "execution_count": 35,
   "id": "f67ace34",
   "metadata": {},
   "outputs": [],
   "source": [
    "segm = (seg.join(seg_sms, on='customer_rk', how='inner')\n",
    "                .select('customer_rk')\n",
    "                .distinct())"
   ]
  },
  {
   "cell_type": "code",
   "execution_count": 36,
   "id": "351f9c2d",
   "metadata": {},
   "outputs": [
    {
     "name": "stderr",
     "output_type": "stream",
     "text": [
      "                                                                                \r"
     ]
    }
   ],
   "source": [
    "seg_sms_pd = segm.toPandas()"
   ]
  },
  {
   "cell_type": "code",
   "execution_count": 37,
   "id": "17f6ab8a",
   "metadata": {},
   "outputs": [
    {
     "data": {
      "text/plain": [
       "45372"
      ]
     },
     "execution_count": 37,
     "metadata": {},
     "output_type": "execute_result"
    }
   ],
   "source": [
    "len(seg_sms_pd)"
   ]
  },
  {
   "cell_type": "code",
   "execution_count": 38,
   "id": "ff98bbc7",
   "metadata": {},
   "outputs": [],
   "source": [
    "seg_sms_pd.to_csv(name + '_' + seg_no + '_All_uc' + str(dt) + '.csv', index=False)"
   ]
  },
  {
   "cell_type": "code",
   "execution_count": 39,
   "id": "c974215d",
   "metadata": {},
   "outputs": [],
   "source": [
    "seg_sms_pd = seg_sms_pd.astype('str')"
   ]
  },
  {
   "cell_type": "code",
   "execution_count": 40,
   "id": "ecdba92b",
   "metadata": {},
   "outputs": [],
   "source": [
    "cross = seg_sms_pd.loc[(seg_sms_pd['customer_rk'].str.endswith('1')) | (seg_sms_pd['customer_rk'].str.endswith('2'))\n",
    "              | (seg_sms_pd['customer_rk'].str.endswith('3')) | (seg_sms_pd['customer_rk'].str.endswith('4'))].reset_index(drop=True).copy()"
   ]
  },
  {
   "cell_type": "code",
   "execution_count": 41,
   "id": "bf751660",
   "metadata": {},
   "outputs": [],
   "source": [
    "upgrade = seg_sms_pd.loc[(seg_sms_pd['customer_rk'].str.endswith('5')) | (seg_sms_pd['customer_rk'].str.endswith('6'))\n",
    "              | (seg_sms_pd['customer_rk'].str.endswith('7')) | (seg_sms_pd['customer_rk'].str.endswith('8'))].reset_index(drop=True).copy()"
   ]
  },
  {
   "cell_type": "code",
   "execution_count": 42,
   "id": "6f6a336d",
   "metadata": {},
   "outputs": [],
   "source": [
    "ump = seg_sms_pd.loc[(seg_sms_pd['customer_rk'].str.endswith('0'))\n",
    "              | (seg_sms_pd['customer_rk'].str.endswith('9'))].reset_index(drop=True).copy()"
   ]
  },
  {
   "cell_type": "code",
   "execution_count": 43,
   "id": "c2228f02",
   "metadata": {},
   "outputs": [],
   "source": [
    "cross.to_csv(name + '_' + seg_no + '_' + usecase[0] + '_' + str(dt) + '.csv', index=False)"
   ]
  },
  {
   "cell_type": "code",
   "execution_count": 44,
   "id": "1d1d3828",
   "metadata": {},
   "outputs": [],
   "source": [
    "upgrade.to_csv(name + '_' + seg_no + '_' + usecase[1] + '_' + str(dt) + '.csv', index=False)"
   ]
  },
  {
   "cell_type": "code",
   "execution_count": 45,
   "id": "f0f38324",
   "metadata": {},
   "outputs": [],
   "source": [
    "ump.to_csv(name + '_' + seg_no + '_' + usecase[2] + '_' + str(dt) + '.csv', index=False)"
   ]
  },
  {
   "cell_type": "code",
   "execution_count": 46,
   "id": "e3b2be12",
   "metadata": {},
   "outputs": [
    {
     "name": "stdout",
     "output_type": "stream",
     "text": [
      "cross: 14828, upgrade: 20326, ump: 10218\n"
     ]
    }
   ],
   "source": [
    "print('cross: {}, upgrade: {}, ump: {}'.format(len(cross), len(upgrade), len(ump)))"
   ]
  },
  {
   "cell_type": "markdown",
   "id": "5a811b42",
   "metadata": {},
   "source": [
    "# seg2"
   ]
  },
  {
   "cell_type": "code",
   "execution_count": 47,
   "id": "2c385115",
   "metadata": {},
   "outputs": [],
   "source": [
    "seg_no = 'seg2'"
   ]
  },
  {
   "cell_type": "markdown",
   "id": "ee5de5c2",
   "metadata": {},
   "source": [
    "### Проверка на доступность плю в магазинах"
   ]
  },
  {
   "cell_type": "markdown",
   "id": "9fc034ef",
   "metadata": {},
   "source": [
    "Северо-Запад, Москва"
   ]
  },
  {
   "cell_type": "code",
   "execution_count": 48,
   "id": "399e48f0",
   "metadata": {},
   "outputs": [],
   "source": [
    "macroregion_dk = ['MRDND', 'MRDCT']"
   ]
  },
  {
   "cell_type": "code",
   "execution_count": 49,
   "id": "01ebd4a2",
   "metadata": {},
   "outputs": [],
   "source": [
    "plu_codes = [3472773]"
   ]
  },
  {
   "cell_type": "code",
   "execution_count": 50,
   "id": "ef955c9f",
   "metadata": {},
   "outputs": [
    {
     "name": "stderr",
     "output_type": "stream",
     "text": [
      "                                                                                \r"
     ]
    },
    {
     "data": {
      "text/plain": [
       "5048"
      ]
     },
     "execution_count": 50,
     "metadata": {},
     "output_type": "execute_result"
    }
   ],
   "source": [
    "pplu = spark.createDataFrame(pd.DataFrame({\"plu_code\": plu_codes}))\n",
    "\n",
    "shops = (spark.table(DIM_STORE)\n",
    "            .filter(F.col('valid_to_dttm')== datetime.datetime(5999, 1, 1, 0, 0))\n",
    "            #.filter(F.col('federal_subject_dk').isin([23, 93, 123, 193, 74, 174,\n",
    "             #                                         774, 16, 116, 716, 71, 32]))\n",
    "            .filter(F.col('macroregion_dk').isin(macroregion_dk))\n",
    "            .selectExpr('store_id as plant')\n",
    "            .distinct()\n",
    "            #.toPandas()['plant']\n",
    "            #.tolist()\n",
    "            )\n",
    "\n",
    "\n",
    "tc5_stores_assort = (\n",
    "    spark.table('HIVE_SSA_MAIN.ASSORTMENT_X_PLU_X_STORE')\n",
    "    .withColumnRenamed('plu_id', 'plu_code')\n",
    "    .withColumnRenamed('store_id', 'plant')\n",
    "    .filter(F.col(\"plu_negate_flg\") != 1)\n",
    "    .selectExpr('plu_code', 'plant')\n",
    "    .join(F.broadcast(pplu), 'plu_code', 'inner')\n",
    ")\n",
    "\n",
    "plants = (shops.join(tc5_stores_assort, on='plant', how='inner')\n",
    "                .select('plant')\n",
    "                .distinct()\n",
    "                .toPandas()['plant']\n",
    "                .tolist()\n",
    "         )\n",
    "\n",
    "len(plants)"
   ]
  },
  {
   "cell_type": "markdown",
   "id": "0c6b7629",
   "metadata": {},
   "source": [
    "### Выбираем гостей нужного юзкейса"
   ]
  },
  {
   "cell_type": "code",
   "execution_count": 51,
   "id": "a41bfdc6",
   "metadata": {},
   "outputs": [],
   "source": [
    "usecase = ['cross', 'upgrade', 'ump']\n",
    "lifetime = 90\n",
    "freq = 1\n",
    "dt = datetime.date.today()\n",
    "# plu_hierarchy_lvl_4_dk = 'FD0910005'\n",
    "syntethic_category_id = [65]\n",
    "plu_brand_code = ['2572','3403','2268','1120','2325','0844']\n",
    "base_qty_per_period = 1\n",
    "plu_netto_weight_amt_min = 0.25\n",
    "plu_netto_weight_amt_max = 0.45"
   ]
  },
  {
   "cell_type": "code",
   "execution_count": 52,
   "id": "7896a8f3",
   "metadata": {},
   "outputs": [],
   "source": [
    "customers_usecase = (spark\n",
    "                     .table(CVM5_GUESTS)\n",
    "                     .filter(F.col('calculation_dt') >= dt)\n",
    "                     .filter(F.col('usecase').isin(usecase))\n",
    "                     .filter(F.col('lifetime') >= lifetime)\n",
    "                     .filter(F.col('frequency') >= freq)\n",
    "                     .select('account_no', 'customer_rk')\n",
    "                            )"
   ]
  },
  {
   "cell_type": "markdown",
   "id": "5978c3b7",
   "metadata": {},
   "source": [
    "### Собираем чеки этих гостей и оставляем тех, кто покупал продукты с synthetic_catalog_id"
   ]
  },
  {
   "cell_type": "code",
   "execution_count": 53,
   "id": "0f03658d",
   "metadata": {},
   "outputs": [],
   "source": [
    "start_date = datetime.date(2021, 8, 10)\n",
    "end_date = datetime.date(2021, 11, 9)"
   ]
  },
  {
   "cell_type": "code",
   "execution_count": 54,
   "id": "37535d74",
   "metadata": {},
   "outputs": [],
   "source": [
    "checks_headers = (spark.table(CHECKS_HEADERS)\n",
    "                      .filter(F.col('rtl_txn_dt').between(start_date, end_date))\n",
    "                      .filter((F.col('loyalty_card_no') != '') & (F.col('loyalty_card_no').isNotNull()))\n",
    "                      .filter(F.col('financial_unit_format_dk') == 'D')\n",
    "                      .filter(F.col('rtl_txn_cancel_flg') == 0)\n",
    "                      .select('rtl_txn_id', 'loyalty_card_no', 'store_id')\n",
    "                     )\n"
   ]
  },
  {
   "cell_type": "code",
   "execution_count": 55,
   "id": "1605ec3d",
   "metadata": {},
   "outputs": [],
   "source": [
    "checks_headers_tc5 = checks_headers.filter(F.col('store_id').isin(plants)) #оставили чеки только с нужными магазинами"
   ]
  },
  {
   "cell_type": "code",
   "execution_count": 56,
   "id": "1dcb94e7",
   "metadata": {},
   "outputs": [],
   "source": [
    "loyalty_cards = (spark\n",
    "                    .table(LOYALTY_CARDS)\n",
    "                    .withColumnRenamed(\"loyalty_card_id\", \"loyalty_card_no\")\n",
    "                    .withColumnRenamed(\"loyalty_account_id\", \"account_no\")\n",
    "                    .withColumnRenamed(\"loyalty_account_acrm_id\", \"account_rk\")\n",
    "                    .select('account_no', 'loyalty_card_no')\n",
    "                )\n",
    "loyalty_cardholders = (spark\n",
    "                        .table(LOYALTY_CARDHOLDERS)\n",
    "                        .withColumnRenamed(\"loyalty_cardholder_acrm_id\", \"customer_rk\")\n",
    "                        .withColumnRenamed(\"loyalty_account_id\", \"account_no\")\n",
    "                        .select('account_no', 'customer_rk')\n",
    "                      )\n",
    "clients_info = loyalty_cards.join(loyalty_cardholders, on='account_no', how='inner')\n",
    "clients_info = clients_info.join(customers_usecase, on=['account_no', 'customer_rk'], how='inner')"
   ]
  },
  {
   "cell_type": "code",
   "execution_count": 57,
   "id": "efe61467",
   "metadata": {},
   "outputs": [],
   "source": [
    "checks_headers_tc5 = checks_headers_tc5.join(clients_info, on='loyalty_card_no') #оставили чеки только нужных гостей"
   ]
  },
  {
   "cell_type": "code",
   "execution_count": 58,
   "id": "86dfd716",
   "metadata": {},
   "outputs": [],
   "source": [
    "checks_items = (spark.table(CHECKS_ITEMS) \n",
    "                    .withColumnRenamed('plu_id', 'plu_code')\n",
    "                    .withColumnRenamed('turnover_no_vat_amt', 'zsalnovat')\n",
    "                    .withColumnRenamed('turnover_vat_rub_amt', 'zsale_vat')\n",
    "                    .withColumnRenamed('prime_cost_no_vat_amt', 'zcst_n')\n",
    "                    .withColumnRenamed('turnover_base_uom_amt', 'base_qty')\n",
    "                    .withColumnRenamed('discount_amt', 'zdiscount')\n",
    "                    .withColumnRenamed('fact_regular_promo_flg', 'zpromofl')\n",
    "                    .filter(F.col('rtl_txn_dt').between(start_date, end_date))\n",
    "                    .filter((F.col('zsalnovat') >= 0) & (F.col('base_qty') >= 0) & (F.col('zcst_n') > 0)) #keep only correct data\n",
    "                        .select('plu_code' #items id\n",
    "                                , 'rtl_txn_id' #cheques id\n",
    "                                , 'base_qty' #count\n",
    "                               )\n",
    "                   )\n"
   ]
  },
  {
   "cell_type": "code",
   "execution_count": 60,
   "id": "4edba964",
   "metadata": {},
   "outputs": [
    {
     "name": "stderr",
     "output_type": "stream",
     "text": [
      "                                                                                \r"
     ]
    }
   ],
   "source": [
    "plu_codes_cat = (spark\n",
    "                 .table(PRODUCTS)\n",
    "#                  .filter(F.col('plu_hierarchy_lvl_4_dk') == plu_hierarchy_lvl_4_dk)\n",
    "                 .filter(F.col('plu_brand_code').isin(plu_brand_code))\n",
    "                 .filter(F.col('syntethic_category_id').isin(syntethic_category_id))\n",
    "                 .filter(F.col('plu_netto_weight_amt').between(plu_netto_weight_amt_min, plu_netto_weight_amt_max))\n",
    "                 .select('plu_id')\n",
    "                 .distinct()\n",
    "                 .toPandas()['plu_id']\n",
    "                 .tolist()\n",
    "                )"
   ]
  },
  {
   "cell_type": "code",
   "execution_count": 61,
   "id": "1a9b34e4",
   "metadata": {},
   "outputs": [],
   "source": [
    "checks_items = checks_items.filter(F.col('plu_code').isin(plu_codes_cat)) # только чеки с нужными plu"
   ]
  },
  {
   "cell_type": "code",
   "execution_count": 62,
   "id": "857dc539",
   "metadata": {},
   "outputs": [],
   "source": [
    "checks_tc5 = checks_items.join(checks_headers_tc5, 'rtl_txn_id', how='inner')"
   ]
  },
  {
   "cell_type": "code",
   "execution_count": 63,
   "id": "059b380c",
   "metadata": {},
   "outputs": [],
   "source": [
    "accs = ['account_no']\n",
    "pdf = checks_tc5.groupby(accs).agg(F.sum('base_qty').alias('base_qty_per_period'))\n",
    "pdf = pdf.filter(F.col('base_qty_per_period') >= base_qty_per_period)\n",
    "checks_tc5 = checks_tc5.join(pdf, on=accs)"
   ]
  },
  {
   "cell_type": "code",
   "execution_count": 64,
   "id": "3be46af7",
   "metadata": {},
   "outputs": [],
   "source": [
    "seg = (checks_tc5.select('customer_rk')\n",
    "                  .distinct()\n",
    "      )"
   ]
  },
  {
   "cell_type": "code",
   "execution_count": 65,
   "id": "268b941a",
   "metadata": {},
   "outputs": [
    {
     "name": "stderr",
     "output_type": "stream",
     "text": [
      "                                                                                6901]]]]\r"
     ]
    }
   ],
   "source": [
    "seg.write.parquet('temp', mode='overwrite')\n",
    "seg = spark.read.parquet('temp')"
   ]
  },
  {
   "cell_type": "markdown",
   "id": "90c01ab0",
   "metadata": {},
   "source": [
    "### Проверяем на доступность отобранных гостей в определенную дату"
   ]
  },
  {
   "cell_type": "code",
   "execution_count": 66,
   "id": "0d1f5400",
   "metadata": {},
   "outputs": [],
   "source": [
    "check_date = '2021-12-06'"
   ]
  },
  {
   "cell_type": "code",
   "execution_count": 67,
   "id": "a5f5ecde",
   "metadata": {},
   "outputs": [
    {
     "name": "stdout",
     "output_type": "stream",
     "text": [
      "\u001b[93m Время выполнения: 0:00:07\n"
     ]
    }
   ],
   "source": [
    "seg_sms1 = (sms_channel_filters_glowbyte(spark=spark,\n",
    "                                         guests=seg, \n",
    "                                         usecase_name=usecase[0], \n",
    "                                         check_date=check_date, \n",
    "                                         debug_mode=False)\n",
    "                                    .select('customer_rk')\n",
    "                                    .distinct()\n",
    "           )"
   ]
  },
  {
   "cell_type": "code",
   "execution_count": 68,
   "id": "6c88bab6",
   "metadata": {},
   "outputs": [
    {
     "name": "stdout",
     "output_type": "stream",
     "text": [
      "\u001b[93m Время выполнения: 0:00:06\n"
     ]
    }
   ],
   "source": [
    "seg_sms2 = (sms_channel_filters_glowbyte(spark=spark,\n",
    "                                         guests=seg, \n",
    "                                         usecase_name=usecase[1], \n",
    "                                         check_date=check_date, \n",
    "                                         debug_mode=False)\n",
    "                                    .select('customer_rk')\n",
    "                                    .distinct()\n",
    "           )"
   ]
  },
  {
   "cell_type": "code",
   "execution_count": 69,
   "id": "fd777a6f",
   "metadata": {},
   "outputs": [
    {
     "name": "stdout",
     "output_type": "stream",
     "text": [
      "\u001b[93m Время выполнения: 0:00:06\n"
     ]
    }
   ],
   "source": [
    "seg_sms3 = (sms_channel_filters_glowbyte(spark=spark,\n",
    "                                         guests=seg, \n",
    "                                         usecase_name=usecase[2], \n",
    "                                         check_date=check_date, \n",
    "                                         debug_mode=False)\n",
    "                                    .select('customer_rk')\n",
    "                                    .distinct()\n",
    "           )"
   ]
  },
  {
   "cell_type": "code",
   "execution_count": 70,
   "id": "4ea7b330",
   "metadata": {},
   "outputs": [],
   "source": [
    "seg_sms = seg_sms1.union(seg_sms2).union(seg_sms3).distinct()"
   ]
  },
  {
   "cell_type": "code",
   "execution_count": 71,
   "id": "592e1d3d",
   "metadata": {},
   "outputs": [
    {
     "name": "stderr",
     "output_type": "stream",
     "text": [
      "                                                                                300]]]]]\r"
     ]
    }
   ],
   "source": [
    "seg_sms.write.parquet('temp01', mode='overwrite')\n",
    "seg_sms = spark.read.parquet('temp01')"
   ]
  },
  {
   "cell_type": "code",
   "execution_count": 72,
   "id": "8b0d211a",
   "metadata": {},
   "outputs": [],
   "source": [
    "segm = (seg.join(seg_sms, on='customer_rk', how='inner')\n",
    "                .select('customer_rk')\n",
    "                .distinct())"
   ]
  },
  {
   "cell_type": "code",
   "execution_count": 73,
   "id": "fc5fb5a0",
   "metadata": {},
   "outputs": [
    {
     "name": "stderr",
     "output_type": "stream",
     "text": [
      "                                                                                \r"
     ]
    }
   ],
   "source": [
    "seg_sms_pd = segm.toPandas()"
   ]
  },
  {
   "cell_type": "code",
   "execution_count": 74,
   "id": "cd230216",
   "metadata": {},
   "outputs": [
    {
     "data": {
      "text/plain": [
       "139980"
      ]
     },
     "execution_count": 74,
     "metadata": {},
     "output_type": "execute_result"
    }
   ],
   "source": [
    "len(seg_sms_pd)"
   ]
  },
  {
   "cell_type": "code",
   "execution_count": 75,
   "id": "6f8f2c7a",
   "metadata": {},
   "outputs": [],
   "source": [
    "seg_sms_pd.to_csv(name + '_' + seg_no + '_All_uc' + str(dt) + '.csv', index=False)"
   ]
  },
  {
   "cell_type": "code",
   "execution_count": 76,
   "id": "b31a2577",
   "metadata": {},
   "outputs": [],
   "source": [
    "seg_sms_pd = seg_sms_pd.astype('str')"
   ]
  },
  {
   "cell_type": "code",
   "execution_count": 77,
   "id": "f70f0e80",
   "metadata": {},
   "outputs": [],
   "source": [
    "cross = seg_sms_pd.loc[(seg_sms_pd['customer_rk'].str.endswith('1')) | (seg_sms_pd['customer_rk'].str.endswith('2'))\n",
    "              | (seg_sms_pd['customer_rk'].str.endswith('3')) | (seg_sms_pd['customer_rk'].str.endswith('4'))].reset_index(drop=True).copy()"
   ]
  },
  {
   "cell_type": "code",
   "execution_count": 78,
   "id": "ad9f9cb4",
   "metadata": {},
   "outputs": [],
   "source": [
    "upgrade = seg_sms_pd.loc[(seg_sms_pd['customer_rk'].str.endswith('5')) | (seg_sms_pd['customer_rk'].str.endswith('6'))\n",
    "              | (seg_sms_pd['customer_rk'].str.endswith('7')) | (seg_sms_pd['customer_rk'].str.endswith('8'))].reset_index(drop=True).copy()"
   ]
  },
  {
   "cell_type": "code",
   "execution_count": 79,
   "id": "f449e1bf",
   "metadata": {},
   "outputs": [],
   "source": [
    "ump = seg_sms_pd.loc[(seg_sms_pd['customer_rk'].str.endswith('0'))\n",
    "              | (seg_sms_pd['customer_rk'].str.endswith('9'))].reset_index(drop=True).copy()"
   ]
  },
  {
   "cell_type": "code",
   "execution_count": 80,
   "id": "f96b9c8b",
   "metadata": {},
   "outputs": [],
   "source": [
    "cross.to_csv(name + '_' + seg_no + '_' + usecase[0] + '_' + str(dt) + '.csv', index=False)"
   ]
  },
  {
   "cell_type": "code",
   "execution_count": 81,
   "id": "60a919c9",
   "metadata": {},
   "outputs": [],
   "source": [
    "upgrade.to_csv(name + '_' + seg_no + '_' + usecase[1] + '_' + str(dt) + '.csv', index=False)"
   ]
  },
  {
   "cell_type": "code",
   "execution_count": 82,
   "id": "dd00a45f",
   "metadata": {},
   "outputs": [],
   "source": [
    "ump.to_csv(name + '_' + seg_no + '_' + usecase[2] + '_' + str(dt) + '.csv', index=False)"
   ]
  },
  {
   "cell_type": "code",
   "execution_count": 83,
   "id": "bcd45413",
   "metadata": {},
   "outputs": [
    {
     "name": "stdout",
     "output_type": "stream",
     "text": [
      "cross: 46789, upgrade: 61892, ump: 31299\n"
     ]
    },
    {
     "name": "stderr",
     "output_type": "stream",
     "text": [
      "21/11/16 06:11:15 ERROR cluster.YarnClientSchedulerBackend: YARN application has exited unexpectedly with state FAILED! Check the YARN application logs for more details.\n",
      "21/11/16 06:11:15 ERROR cluster.YarnClientSchedulerBackend: Diagnostics message: Attempt recovered after RM restartDue to executor failures all available nodes are blacklisted\n",
      "21/11/16 06:11:15 ERROR client.TransportClient: Failed to send RPC RPC 5238084258498323121 to /192.168.234.60:44176: java.nio.channels.ClosedChannelException\n",
      "java.nio.channels.ClosedChannelException\n",
      "\tat io.netty.channel.AbstractChannel$AbstractUnsafe.write(...)(Unknown Source)\n",
      "21/11/16 06:11:15 ERROR cluster.YarnSchedulerBackend$YarnSchedulerEndpoint: Sending RequestExecutors(0,0,Map(),Set()) to AM was unsuccessful\n",
      "java.io.IOException: Failed to send RPC RPC 5238084258498323121 to /192.168.234.60:44176: java.nio.channels.ClosedChannelException\n",
      "\tat org.apache.spark.network.client.TransportClient$RpcChannelListener.handleFailure(TransportClient.java:362)\n",
      "\tat org.apache.spark.network.client.TransportClient$StdChannelListener.operationComplete(TransportClient.java:339)\n",
      "\tat io.netty.util.concurrent.DefaultPromise.notifyListener0(DefaultPromise.java:507)\n",
      "\tat io.netty.util.concurrent.DefaultPromise.notifyListenersNow(DefaultPromise.java:481)\n",
      "\tat io.netty.util.concurrent.DefaultPromise.notifyListeners(DefaultPromise.java:420)\n",
      "\tat io.netty.util.concurrent.DefaultPromise.tryFailure(DefaultPromise.java:122)\n",
      "\tat io.netty.channel.AbstractChannel$AbstractUnsafe.safeSetFailure(AbstractChannel.java:987)\n",
      "\tat io.netty.channel.AbstractChannel$AbstractUnsafe.write(AbstractChannel.java:869)\n",
      "\tat io.netty.channel.DefaultChannelPipeline$HeadContext.write(DefaultChannelPipeline.java:1316)\n",
      "\tat io.netty.channel.AbstractChannelHandlerContext.invokeWrite0(AbstractChannelHandlerContext.java:738)\n",
      "\tat io.netty.channel.AbstractChannelHandlerContext.invokeWrite(AbstractChannelHandlerContext.java:730)\n",
      "\tat io.netty.channel.AbstractChannelHandlerContext.access$1900(AbstractChannelHandlerContext.java:38)\n",
      "\tat io.netty.channel.AbstractChannelHandlerContext$AbstractWriteTask.write(AbstractChannelHandlerContext.java:1081)\n",
      "\tat io.netty.channel.AbstractChannelHandlerContext$WriteAndFlushTask.write(AbstractChannelHandlerContext.java:1128)\n",
      "\tat io.netty.channel.AbstractChannelHandlerContext$AbstractWriteTask.run(AbstractChannelHandlerContext.java:1070)\n",
      "\tat io.netty.util.concurrent.AbstractEventExecutor.safeExecute(AbstractEventExecutor.java:163)\n",
      "\tat io.netty.util.concurrent.SingleThreadEventExecutor.runAllTasks(SingleThreadEventExecutor.java:403)\n",
      "\tat io.netty.channel.nio.NioEventLoop.run(NioEventLoop.java:463)\n",
      "\tat io.netty.util.concurrent.SingleThreadEventExecutor$5.run(SingleThreadEventExecutor.java:858)\n",
      "\tat io.netty.util.concurrent.DefaultThreadFactory$DefaultRunnableDecorator.run(DefaultThreadFactory.java:138)\n",
      "\tat java.lang.Thread.run(Thread.java:748)\n",
      "Caused by: java.nio.channels.ClosedChannelException\n",
      "\tat io.netty.channel.AbstractChannel$AbstractUnsafe.write(...)(Unknown Source)\n",
      "21/11/16 06:11:15 ERROR util.Utils: Uncaught exception in thread YARN application state monitor\n",
      "org.apache.spark.SparkException: Exception thrown in awaitResult: \n",
      "\tat org.apache.spark.util.ThreadUtils$.awaitResult(ThreadUtils.scala:226)\n",
      "\tat org.apache.spark.rpc.RpcTimeout.awaitResult(RpcTimeout.scala:75)\n",
      "\tat org.apache.spark.scheduler.cluster.CoarseGrainedSchedulerBackend.requestTotalExecutors(CoarseGrainedSchedulerBackend.scala:574)\n",
      "\tat org.apache.spark.scheduler.cluster.YarnSchedulerBackend.stop(YarnSchedulerBackend.scala:98)\n",
      "\tat org.apache.spark.scheduler.cluster.YarnClientSchedulerBackend.stop(YarnClientSchedulerBackend.scala:164)\n",
      "\tat org.apache.spark.scheduler.TaskSchedulerImpl.stop(TaskSchedulerImpl.scala:653)\n",
      "\tat org.apache.spark.scheduler.DAGScheduler.stop(DAGScheduler.scala:2042)\n",
      "\tat org.apache.spark.SparkContext$$anonfun$stop$6.apply$mcV$sp(SparkContext.scala:1949)\n",
      "\tat org.apache.spark.util.Utils$.tryLogNonFatalError(Utils.scala:1340)\n",
      "\tat org.apache.spark.SparkContext.stop(SparkContext.scala:1948)\n",
      "\tat org.apache.spark.scheduler.cluster.YarnClientSchedulerBackend$MonitorThread.run(YarnClientSchedulerBackend.scala:121)\n",
      "Caused by: java.io.IOException: Failed to send RPC RPC 5238084258498323121 to /192.168.234.60:44176: java.nio.channels.ClosedChannelException\n",
      "\tat org.apache.spark.network.client.TransportClient$RpcChannelListener.handleFailure(TransportClient.java:362)\n",
      "\tat org.apache.spark.network.client.TransportClient$StdChannelListener.operationComplete(TransportClient.java:339)\n",
      "\tat io.netty.util.concurrent.DefaultPromise.notifyListener0(DefaultPromise.java:507)\n",
      "\tat io.netty.util.concurrent.DefaultPromise.notifyListenersNow(DefaultPromise.java:481)\n",
      "\tat io.netty.util.concurrent.DefaultPromise.notifyListeners(DefaultPromise.java:420)\n",
      "\tat io.netty.util.concurrent.DefaultPromise.tryFailure(DefaultPromise.java:122)\n",
      "\tat io.netty.channel.AbstractChannel$AbstractUnsafe.safeSetFailure(AbstractChannel.java:987)\n",
      "\tat io.netty.channel.AbstractChannel$AbstractUnsafe.write(AbstractChannel.java:869)\n",
      "\tat io.netty.channel.DefaultChannelPipeline$HeadContext.write(DefaultChannelPipeline.java:1316)\n",
      "\tat io.netty.channel.AbstractChannelHandlerContext.invokeWrite0(AbstractChannelHandlerContext.java:738)\n",
      "\tat io.netty.channel.AbstractChannelHandlerContext.invokeWrite(AbstractChannelHandlerContext.java:730)\n",
      "\tat io.netty.channel.AbstractChannelHandlerContext.access$1900(AbstractChannelHandlerContext.java:38)\n",
      "\tat io.netty.channel.AbstractChannelHandlerContext$AbstractWriteTask.write(AbstractChannelHandlerContext.java:1081)\n",
      "\tat io.netty.channel.AbstractChannelHandlerContext$WriteAndFlushTask.write(AbstractChannelHandlerContext.java:1128)\n",
      "\tat io.netty.channel.AbstractChannelHandlerContext$AbstractWriteTask.run(AbstractChannelHandlerContext.java:1070)\n",
      "\tat io.netty.util.concurrent.AbstractEventExecutor.safeExecute(AbstractEventExecutor.java:163)\n",
      "\tat io.netty.util.concurrent.SingleThreadEventExecutor.runAllTasks(SingleThreadEventExecutor.java:403)\n",
      "\tat io.netty.channel.nio.NioEventLoop.run(NioEventLoop.java:463)\n",
      "\tat io.netty.util.concurrent.SingleThreadEventExecutor$5.run(SingleThreadEventExecutor.java:858)\n",
      "\tat io.netty.util.concurrent.DefaultThreadFactory$DefaultRunnableDecorator.run(DefaultThreadFactory.java:138)\n",
      "\tat java.lang.Thread.run(Thread.java:748)\n",
      "Caused by: java.nio.channels.ClosedChannelException\n",
      "\tat io.netty.channel.AbstractChannel$AbstractUnsafe.write(...)(Unknown Source)\n"
     ]
    }
   ],
   "source": [
    "print('cross: {}, upgrade: {}, ump: {}'.format(len(cross), len(upgrade), len(ump)))"
   ]
  },
  {
   "cell_type": "code",
   "execution_count": null,
   "id": "3485928f",
   "metadata": {},
   "outputs": [],
   "source": []
  }
 ],
 "metadata": {
  "kernelspec": {
   "display_name": "Python 3 (ipykernel)",
   "language": "python",
   "name": "python3"
  },
  "language_info": {
   "codemirror_mode": {
    "name": "ipython",
    "version": 3
   },
   "file_extension": ".py",
   "mimetype": "text/x-python",
   "name": "python",
   "nbconvert_exporter": "python",
   "pygments_lexer": "ipython3",
   "version": "3.7.10"
  }
 },
 "nbformat": 4,
 "nbformat_minor": 5
}
