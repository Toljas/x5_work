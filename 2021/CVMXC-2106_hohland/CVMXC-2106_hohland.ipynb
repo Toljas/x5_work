{
 "cells": [
  {
   "cell_type": "markdown",
   "id": "85d56337",
   "metadata": {},
   "source": [
    "https://jira.x5.ru/browse/CVMXC-2106"
   ]
  },
  {
   "cell_type": "code",
   "execution_count": 1,
   "id": "e82e9c89",
   "metadata": {},
   "outputs": [],
   "source": [
    "name = 'CVMXC-2106_hohland'"
   ]
  },
  {
   "cell_type": "code",
   "execution_count": 2,
   "id": "03eaeecf",
   "metadata": {},
   "outputs": [],
   "source": [
    "import os\n",
    "import re\n",
    "from pyspark.sql import SparkSession\n",
    "from typing import List, Dict, Callable\n",
    "import socket\n",
    "\n",
    "spark = None\n",
    "\n",
    "EXECUTOR_ENV = 'hdfs:///share/products/cvm5/lib/python/anaconda_2.4.4_ds.tar.gz'  # 2.4.4 \n",
    "SPARK_ARCHIVE = 'hdfs:///share/lib/spark/sparkjars-2.4.4.zip'                     # 2.4.4\n",
    "#EXECUTOR_ENV = 'hdfs:///share/lib/python/env/anaconda-2019.07.tar.gz'\n",
    "#SPARK_ARCHIVE = 'hdfs:///share/lib/spark/sparkjars-2.3.1.zip'\n",
    "\n",
    "os.environ[\"ARROW_LIBHDFS_DIR\"] = \"/usr/hdp/2.6.5.0-292/usr/lib\"\n",
    "os.environ['HADOOP_HOME'] = '/usr/hdp/current/hadoop-client/'\n",
    "os.environ['JAVA_HOME'] = '/usr/lib/jvm/java-8-openjdk-amd64/'\n",
    "os.environ['HADOOP_CONF_DIR'] = '/etc/hadoop/conf/'\n",
    "os.environ['SPARK_HOME'] = '/opt/conda/lib/python3.7/site-packages/pyspark'\n",
    "os.environ['PYSPARK_PYTHON'] = 'anaconda_2.4.4_ds.tar.gz/bin/python3'             # 2.4.4\n",
    "#os.environ['PYSPARK_PYTHON'] = 'anaconda-2019.07.tar.gz/bin/python3'\n",
    "\n",
    "\n",
    "\n",
    "\n",
    "\n",
    "\n",
    "def restart_spark(task_name: str, num_executors: int, executor_memory='4G', executor_cores=2,\n",
    "                  driver_memory='2G', queue='cvm5-rnd', additional_params: Dict[str, str] = None):\n",
    "    global spark\n",
    "\n",
    "    if spark:\n",
    "        sc = spark.sparkContext\n",
    "        if sc and sc._jsc:\n",
    "            if not sc._jsc.sc().isStopped():\n",
    "                print('Using cached spark')\n",
    "                return sc, spark\n",
    "\n",
    "    need_ports_for_app = 3\n",
    "    user_tcp_ports = _get_user_tcp_ports()\n",
    "    free_ports = _get_free_ports(user_tcp_ports)\n",
    "    assert len(free_ports) >= need_ports_for_app, \\\n",
    "        f\"Not enough free ports ({len(free_ports)}), need {need_ports_for_app}, stop other apps\"\n",
    "    app_ports = free_ports[:need_ports_for_app]\n",
    "\n",
    "    host_ip = os.getenv('HOST_IP')\n",
    "    \n",
    "    spark_session = (\n",
    "        SparkSession\n",
    "        .builder\n",
    "        .appName(task_name)\n",
    "        .master('yarn')\n",
    "        .config('spark.driver.memory', driver_memory)\n",
    "        .config('spark.driver.maxResultSize', driver_memory)\n",
    "        .config('spark.executor.cores', executor_cores)\n",
    "        .config('spark.executor.memory', executor_memory)\n",
    "        .config('spark.executor.memoryOverhead', '1G')\n",
    "        .config('spark.dynamicAllocation.enabled', 'true')\n",
    "        .config('spark.dynamicAllocation.maxExecutors', num_executors)\n",
    "        .config('spark.sql.broadcastTimeout', '36000')\n",
    "        .config('spark.dynamicAllocation.cachedExecutorIdleTimeout', '1200s')\n",
    "        .config('spark.ui.port', app_ports[0])\n",
    "        .config('spark.blockManager.port', app_ports[1])\n",
    "        .config('spark.driver.port', app_ports[2])\n",
    "        .config('spark.driver.host', host_ip)\n",
    "        .config('spark.driver.bindAddress', '0.0.0.0')\n",
    "        .config('spark.driver.extraLibraryPath', '/usr/hdp/2.6.5.0-292/hadoop/lib/native')\n",
    "        .config('spark.driver.extraJavaOptions', '-Dhdp.version=current')\n",
    "        .config('spark.debug.maxToStringFields', '50')\n",
    "        .config('spark.yarn.queue', queue)\n",
    "        .config('spark.yarn.dist.archives', EXECUTOR_ENV)\n",
    "        .config('spark.yarn.archive', SPARK_ARCHIVE)\n",
    "        .config('spark.yarn.am.extraJavaOptions', '-Dhdp.version=current')\n",
    "        .config('spark.rpc.message.maxSize', '1024')\n",
    "        .config('spark.sql.warehouse.dir', '/apps/hive/warehouse')\n",
    "        .config('spark.sql.execution.pandas.respectSessionTimeZone', 'false')\n",
    "        .config('spark.sql.orc.filterPushdown', 'true')\n",
    "        .config('spark.sql.hive.convertMetastoreOrc', 'true')\n",
    "        .config('spark.shuffle.service.enabled', 'true')\n",
    "        .config('spark.hadoop.yarn.timeline-service.enabled', 'false')\n",
    "        .config('spark.hadoop.yarn.client.failover-proxy-provider',\n",
    "                'org.apache.hadoop.yarn.client.ConfiguredRMFailoverProxyProvider')\n",
    "        .config('spark.serializer', 'org.apache.spark.serializer.KryoSerializer')\n",
    "        .config('spark.kryoserializer.buffer.max', '128m')\n",
    "        .config('spark.executor.extraLibraryPath', '/usr/hdp/2.6.5.0-292/hadoop/lib/native')\n",
    "    )\n",
    "\n",
    "    if additional_params:\n",
    "        for key, value in additional_params.items():\n",
    "            spark_session = spark_session.config(key, value)\n",
    "\n",
    "    spark = (\n",
    "        spark_session\n",
    "        .enableHiveSupport()\n",
    "        .getOrCreate()\n",
    "    )\n",
    "    sc = spark.sparkContext\n",
    "\n",
    "    return sc, spark\n",
    "\n",
    "\n",
    "def _get_user_tcp_ports() -> List[str]:\n",
    "    regexp = re.compile(r'-2e')\n",
    "    envuser= os.getenv('HOSTNAME')\n",
    "    if regexp.search(envuser):       \n",
    "      _, user_name, user_surname = envuser.upper().split('-')\n",
    "      user_full_name = '_'.join([user_name, user_surname])\n",
    "    else:\n",
    "      _, user_name  = envuser.upper().split('-') \n",
    "      user_full_name = user_name\n",
    "    user_tcp_ports = [v for k, v in os.environ.items() if user_full_name in k and k.endswith('TCP_PORT')]\n",
    "    return user_tcp_ports\n",
    "\n",
    "\n",
    "def _get_free_ports(ports: List[str]):\n",
    "    free_ports = []\n",
    "    for port in ports:\n",
    "        with socket.socket(socket.AF_INET, socket.SOCK_STREAM) as s:\n",
    "            if s.connect_ex(('0.0.0.0', int(port))) != 0:\n",
    "                free_ports.append(port)\n",
    "    return free_ports\n"
   ]
  },
  {
   "cell_type": "code",
   "execution_count": 3,
   "id": "5b181c01",
   "metadata": {},
   "outputs": [
    {
     "name": "stderr",
     "output_type": "stream",
     "text": [
      "Setting default log level to \"WARN\".\n",
      "To adjust logging level use sc.setLogLevel(newLevel). For SparkR, use setLogLevel(newLevel).\n"
     ]
    }
   ],
   "source": [
    "sc, spark = restart_spark(\n",
    "                    name, \n",
    "                    21, \n",
    "                    executor_memory='5G', \n",
    "                    executor_cores=3, \n",
    "                    driver_memory='7G', \n",
    "                    additional_params={\"spark.sql.shuffle.partitions\": \"300\"})"
   ]
  },
  {
   "cell_type": "code",
   "execution_count": 4,
   "id": "763a37ee",
   "metadata": {},
   "outputs": [],
   "source": [
    "sc.setLogLevel('ERROR')"
   ]
  },
  {
   "cell_type": "code",
   "execution_count": 5,
   "id": "4c2a7580",
   "metadata": {},
   "outputs": [],
   "source": [
    "import pandas as pd\n",
    "import sys\n",
    "from pyspark.sql import functions as F\n",
    "import datetime\n",
    "from datetime import timedelta\n",
    "\n",
    "sys.path.append('/home/jovyan/glow-byte-filters-pyspark')\n",
    "from logic_filters import * \n",
    "from segmentation import *"
   ]
  },
  {
   "cell_type": "code",
   "execution_count": 6,
   "id": "83c85f27",
   "metadata": {},
   "outputs": [],
   "source": [
    "LOYALTY_CARDS = \"hive_ssa_tc5.loyalty_card\"\n",
    "LOYALTY_CARDHOLDERS = \"hive_ssa_tc5.loyalty_cardholder\"\n",
    "ACCOUNTS = \"hive_ssa_tc5.account\"\n",
    "CVM5_GUESTS = \"hive_cvm_acrm.cvm5_guests\"\n",
    "\n",
    "DIM_STORE = \"hive_ssa_main.dim_store\"\n",
    "CHECKS_HEADERS = \"hive_ssa_main.fct_rtl_txn\"\n",
    "CHECKS_ITEMS = \"hive_ssa_main.fct_rtl_txn_item\"\n",
    "PRODUCTS = \"hive_ssa_tc5.cvm_product\""
   ]
  },
  {
   "cell_type": "markdown",
   "id": "ed2df3b3",
   "metadata": {},
   "source": [
    "### Проверка на доступность плю в магазинах"
   ]
  },
  {
   "cell_type": "markdown",
   "id": "cd8bea25",
   "metadata": {},
   "source": [
    "GEO - RF"
   ]
  },
  {
   "cell_type": "code",
   "execution_count": 7,
   "id": "e7b70f81",
   "metadata": {},
   "outputs": [],
   "source": [
    "# federal_subject = 77"
   ]
  },
  {
   "cell_type": "code",
   "execution_count": 8,
   "id": "22010a70",
   "metadata": {},
   "outputs": [],
   "source": [
    "# plu_codes = [4150433,4150434]"
   ]
  },
  {
   "cell_type": "code",
   "execution_count": 9,
   "id": "19ed5702",
   "metadata": {},
   "outputs": [],
   "source": [
    "# pplu = spark.createDataFrame(pd.DataFrame({\"plu_code\": plu_codes}))\n",
    "\n",
    "# shops = (spark.table(DIM_STORE)\n",
    "#             .filter(F.col('valid_to_dttm')== datetime.datetime(5999, 1, 1, 0, 0))\n",
    "#             .filter(F.col('federal_subject_dk').isin(federal_subject1))\n",
    "# #             .filter(F.col('macroregion_dk').isin(macroregion_dk))\n",
    "#             .selectExpr('store_id as plant')\n",
    "#             .distinct()\n",
    "#             #.toPandas()['plant']\n",
    "#             #.tolist()\n",
    "#             )\n",
    "\n",
    "\n",
    "# tc5_stores_assort = (\n",
    "#     spark.table('HIVE_SSA_MAIN.ASSORTMENT_X_PLU_X_STORE')\n",
    "#     .withColumnRenamed('plu_id', 'plu_code')\n",
    "#     .withColumnRenamed('store_id', 'plant')\n",
    "#     .filter(F.col(\"plu_negate_flg\") != 1)\n",
    "#     .selectExpr('plu_code', 'plant')\n",
    "#     .join(F.broadcast(pplu), 'plu_code', 'inner')\n",
    "# )\n",
    "\n",
    "# plants = (shops.join(tc5_stores_assort, on='plant', how='inner')\n",
    "#                 .select('plant')\n",
    "#                 .distinct()\n",
    "#                 .toPandas()['plant']\n",
    "#                 .tolist()\n",
    "#          )\n",
    "\n",
    "# len(plants)"
   ]
  },
  {
   "cell_type": "markdown",
   "id": "b2d25008",
   "metadata": {},
   "source": [
    "### Выбираем гостей нужного юзкейса"
   ]
  },
  {
   "cell_type": "code",
   "execution_count": 10,
   "id": "da24ad2f",
   "metadata": {},
   "outputs": [],
   "source": [
    "usecase = ['cross', 'upgrade', 'ump']\n",
    "lifetime = 90\n",
    "freq = 1\n",
    "dt = datetime.date.today()\n",
    "start_date = datetime.date(2021, 8, 22)\n",
    "end_date = datetime.date(2021, 11, 21)\n",
    "base_qty_per_period = 1"
   ]
  },
  {
   "cell_type": "code",
   "execution_count": 11,
   "id": "f207cb04",
   "metadata": {},
   "outputs": [],
   "source": [
    "customers_usecase = (spark\n",
    "                     .table(CVM5_GUESTS)\n",
    "                     .filter(F.col('calculation_dt') >= dt)\n",
    "                     .filter(F.col('usecase').isin(usecase))\n",
    "                     .filter(F.col('lifetime') >= lifetime)\n",
    "                     .filter(F.col('frequency') >= freq)\n",
    "                     .select('account_no', 'customer_rk')\n",
    "                            )"
   ]
  },
  {
   "cell_type": "code",
   "execution_count": 12,
   "id": "6df056d8",
   "metadata": {},
   "outputs": [
    {
     "name": "stderr",
     "output_type": "stream",
     "text": [
      "                                                                                \r"
     ]
    },
    {
     "data": {
      "text/plain": [
       "15916450"
      ]
     },
     "execution_count": 12,
     "metadata": {},
     "output_type": "execute_result"
    }
   ],
   "source": [
    "customers_usecase.count()"
   ]
  },
  {
   "cell_type": "markdown",
   "id": "fe628f53",
   "metadata": {},
   "source": [
    "### Проверяем на доступность отобранных гостей в определенную дату"
   ]
  },
  {
   "cell_type": "code",
   "execution_count": 13,
   "id": "1579c76f",
   "metadata": {},
   "outputs": [],
   "source": [
    "check_date = '2021-12-03'"
   ]
  },
  {
   "cell_type": "code",
   "execution_count": 14,
   "id": "bc22d043",
   "metadata": {},
   "outputs": [
    {
     "name": "stdout",
     "output_type": "stream",
     "text": [
      "\u001b[93m Время выполнения: 0:00:13\n"
     ]
    }
   ],
   "source": [
    "seg_sms1 = (sms_channel_filters_glowbyte(spark=spark,\n",
    "                                         guests=customers_usecase, \n",
    "                                         usecase_name=usecase[0], \n",
    "                                         check_date=check_date, \n",
    "                                         debug_mode=False)\n",
    "                                    .select('customer_rk')\n",
    "                                    .distinct()\n",
    "           )"
   ]
  },
  {
   "cell_type": "code",
   "execution_count": 15,
   "id": "dbf4a9fa",
   "metadata": {},
   "outputs": [
    {
     "name": "stdout",
     "output_type": "stream",
     "text": [
      "\u001b[93m Время выполнения: 0:00:08\n"
     ]
    }
   ],
   "source": [
    "seg_sms2 = (sms_channel_filters_glowbyte(spark=spark,\n",
    "                                         guests=customers_usecase, \n",
    "                                         usecase_name=usecase[1], \n",
    "                                         check_date=check_date, \n",
    "                                         debug_mode=False)\n",
    "                                    .select('customer_rk')\n",
    "                                    .distinct()\n",
    "           )"
   ]
  },
  {
   "cell_type": "code",
   "execution_count": 16,
   "id": "b5289794",
   "metadata": {},
   "outputs": [
    {
     "name": "stdout",
     "output_type": "stream",
     "text": [
      "\u001b[93m Время выполнения: 0:00:05\n"
     ]
    }
   ],
   "source": [
    "seg_sms3 = (sms_channel_filters_glowbyte(spark=spark,\n",
    "                                         guests=customers_usecase, \n",
    "                                         usecase_name=usecase[2], \n",
    "                                         check_date=check_date, \n",
    "                                         debug_mode=False)\n",
    "                                    .select('customer_rk')\n",
    "                                    .distinct()\n",
    "           )"
   ]
  },
  {
   "cell_type": "code",
   "execution_count": 17,
   "id": "00f3c038",
   "metadata": {},
   "outputs": [],
   "source": [
    "seg_sms = seg_sms1.union(seg_sms2).union(seg_sms3).distinct()"
   ]
  },
  {
   "cell_type": "code",
   "execution_count": 18,
   "id": "be33d2c0",
   "metadata": {},
   "outputs": [
    {
     "name": "stderr",
     "output_type": "stream",
     "text": [
      "                                                                                0]]]\r"
     ]
    }
   ],
   "source": [
    "seg_sms.write.parquet('temp21', mode='overwrite')\n",
    "seg_sms = spark.read.parquet('temp21')"
   ]
  },
  {
   "cell_type": "code",
   "execution_count": 21,
   "id": "e2fb34f6",
   "metadata": {},
   "outputs": [
    {
     "name": "stderr",
     "output_type": "stream",
     "text": [
      "                                                                                \r"
     ]
    },
    {
     "data": {
      "text/plain": [
       "3128193"
      ]
     },
     "execution_count": 21,
     "metadata": {},
     "output_type": "execute_result"
    }
   ],
   "source": [
    "seg_sms.count()"
   ]
  },
  {
   "cell_type": "markdown",
   "id": "9643c7b2",
   "metadata": {},
   "source": [
    "# seg1"
   ]
  },
  {
   "cell_type": "markdown",
   "id": "a26d5b5b",
   "metadata": {},
   "source": [
    "### Собираем чеки этих гостей и оставляем тех, кто покупал продукты с synthetic_catalog_id"
   ]
  },
  {
   "cell_type": "code",
   "execution_count": 19,
   "id": "d07638cd",
   "metadata": {},
   "outputs": [],
   "source": [
    "checks_headers = (spark.table(CHECKS_HEADERS)\n",
    "                      .filter(F.col('rtl_txn_dt').between(start_date, end_date))\n",
    "                      .filter((F.col('loyalty_card_no') != '') & (F.col('loyalty_card_no').isNotNull()))\n",
    "                      .filter(F.col('financial_unit_format_dk') == 'D')\n",
    "                      .filter(F.col('rtl_txn_cancel_flg') == 0)\n",
    "                      .select('rtl_txn_id', 'loyalty_card_no', 'store_id')\n",
    "                     )\n"
   ]
  },
  {
   "cell_type": "code",
   "execution_count": 20,
   "id": "dc236c76",
   "metadata": {},
   "outputs": [],
   "source": [
    "# checks_headers_tc5 = checks_headers.filter(F.col('store_id').isin(plants)) #оставили чеки только с нужными магазинами"
   ]
  },
  {
   "cell_type": "code",
   "execution_count": 28,
   "id": "8227f04a",
   "metadata": {},
   "outputs": [],
   "source": [
    "loyalty_cards = (spark\n",
    "                    .table(LOYALTY_CARDS)\n",
    "                    .withColumnRenamed(\"loyalty_card_id\", \"loyalty_card_no\")\n",
    "                    .withColumnRenamed(\"loyalty_account_id\", \"account_no\")\n",
    "                    .withColumnRenamed(\"loyalty_account_acrm_id\", \"account_rk\")\n",
    "                    .select('account_no', 'loyalty_card_no')\n",
    "                )\n",
    "loyalty_cardholders = (spark\n",
    "                        .table(LOYALTY_CARDHOLDERS)\n",
    "                        .filter(F.col('gender_dk').isin(['F', 'U']))\n",
    "                        .withColumnRenamed(\"loyalty_cardholder_acrm_id\", \"customer_rk\")\n",
    "                        .withColumnRenamed(\"loyalty_account_id\", \"account_no\")\n",
    "                        .select('account_no', 'customer_rk')\n",
    "                      )\n",
    "clients_info = loyalty_cards.join(loyalty_cardholders, on='account_no', how='inner')\n",
    "clients_info = clients_info.join(seg_sms, on='customer_rk', how='inner')"
   ]
  },
  {
   "cell_type": "code",
   "execution_count": 30,
   "id": "29357131",
   "metadata": {},
   "outputs": [],
   "source": [
    "checks_headers_tc5 = checks_headers.join(clients_info, on='loyalty_card_no') #оставили чеки только нужных гостей"
   ]
  },
  {
   "cell_type": "code",
   "execution_count": 31,
   "id": "5a61dbe3",
   "metadata": {},
   "outputs": [],
   "source": [
    "checks_items = (spark.table(CHECKS_ITEMS) \n",
    "                    .withColumnRenamed('plu_id', 'plu_code')\n",
    "                    .withColumnRenamed('turnover_no_vat_amt', 'zsalnovat')\n",
    "                    .withColumnRenamed('turnover_vat_rub_amt', 'zsale_vat')\n",
    "                    .withColumnRenamed('prime_cost_no_vat_amt', 'zcst_n')\n",
    "                    .withColumnRenamed('turnover_base_uom_amt', 'base_qty')\n",
    "                    .withColumnRenamed('discount_amt', 'zdiscount')\n",
    "                    .withColumnRenamed('fact_regular_promo_flg', 'zpromofl')\n",
    "                    .filter(F.col('rtl_txn_dt').between(start_date, end_date))\n",
    "                    .filter((F.col('zsalnovat') >= 0) & (F.col('base_qty') >= 0) & (F.col('zcst_n') > 0)) #keep only correct data\n",
    "                        .select('plu_code' #items id\n",
    "                                , 'rtl_txn_id' #cheques id\n",
    "                                , 'base_qty' #count\n",
    "                               )\n",
    "                   )\n"
   ]
  },
  {
   "cell_type": "code",
   "execution_count": 32,
   "id": "550536e5",
   "metadata": {},
   "outputs": [],
   "source": [
    "plu_hierarchy_lvl_4_dk = ['FR0606003', 'FR0606009']\n",
    "# syntethic_category_id = [51,26,52]\n",
    "# plu_brand_code = ['2572','3403','O899','2268','1120','2325','0844','2251']\n",
    "# plu_not_in = [4138521]"
   ]
  },
  {
   "cell_type": "code",
   "execution_count": 33,
   "id": "8b558e8f",
   "metadata": {},
   "outputs": [
    {
     "name": "stderr",
     "output_type": "stream",
     "text": [
      "                                                                                \r"
     ]
    }
   ],
   "source": [
    "plu_codes_cat = (spark\n",
    "                 .table(PRODUCTS)\n",
    "                 .filter(F.col('plu_hierarchy_lvl_4_dk').isin(plu_hierarchy_lvl_4_dk))\n",
    "#                  .filter(F.col('plu_brand_code').isin(plu_brand_code))\n",
    "#                  .filter(F.col('syntethic_category_id').isin(syntethic_category_id))\n",
    "#                  .filter(~F.col('plu_id').isin(plu_not_in))\n",
    "                 .select('plu_id')\n",
    "                 .distinct()\n",
    "                 .toPandas()['plu_id']\n",
    "                 .tolist()\n",
    "                )"
   ]
  },
  {
   "cell_type": "code",
   "execution_count": 34,
   "id": "fc61f39f",
   "metadata": {},
   "outputs": [],
   "source": [
    "checks_items = checks_items.filter(F.col('plu_code').isin(plu_codes_cat)) # только чеки с нужными plu"
   ]
  },
  {
   "cell_type": "code",
   "execution_count": 35,
   "id": "ddcb768e",
   "metadata": {},
   "outputs": [],
   "source": [
    "checks_tc5 = checks_items.join(checks_headers_tc5, 'rtl_txn_id', how='inner')"
   ]
  },
  {
   "cell_type": "code",
   "execution_count": 36,
   "id": "4eb46a63",
   "metadata": {},
   "outputs": [],
   "source": [
    "accs = ['account_no']\n",
    "pdf = checks_tc5.groupby(accs).agg(F.sum('base_qty').alias('base_qty_per_period'))\n",
    "pdf = pdf.filter(F.col('base_qty_per_period') >= base_qty_per_period)\n",
    "checks_tc5 = checks_tc5.join(pdf, on=accs)"
   ]
  },
  {
   "cell_type": "code",
   "execution_count": 37,
   "id": "17c963bb",
   "metadata": {},
   "outputs": [],
   "source": [
    "seg1 = (checks_tc5.select('customer_rk')\n",
    "                  .distinct()\n",
    "      )"
   ]
  },
  {
   "cell_type": "code",
   "execution_count": 38,
   "id": "dd657311",
   "metadata": {},
   "outputs": [
    {
     "name": "stderr",
     "output_type": "stream",
     "text": [
      "                                                                                6]]]\r"
     ]
    }
   ],
   "source": [
    "seg1.write.parquet('temp22', mode='overwrite')\n",
    "seg1 = spark.read.parquet('temp22')"
   ]
  },
  {
   "cell_type": "code",
   "execution_count": 39,
   "id": "824f6c84",
   "metadata": {},
   "outputs": [
    {
     "name": "stderr",
     "output_type": "stream",
     "text": [
      "                                                                                \r"
     ]
    },
    {
     "data": {
      "text/plain": [
       "379687"
      ]
     },
     "execution_count": 39,
     "metadata": {},
     "output_type": "execute_result"
    }
   ],
   "source": [
    "seg1.count()"
   ]
  },
  {
   "cell_type": "code",
   "execution_count": 40,
   "id": "db81f381",
   "metadata": {},
   "outputs": [
    {
     "name": "stderr",
     "output_type": "stream",
     "text": [
      "                                                                                \r"
     ]
    }
   ],
   "source": [
    "seg_pd = seg1.toPandas()"
   ]
  },
  {
   "cell_type": "code",
   "execution_count": 41,
   "id": "6bfd4102",
   "metadata": {},
   "outputs": [
    {
     "data": {
      "text/plain": [
       "379687"
      ]
     },
     "execution_count": 41,
     "metadata": {},
     "output_type": "execute_result"
    }
   ],
   "source": [
    "len(seg_pd)"
   ]
  },
  {
   "cell_type": "code",
   "execution_count": 42,
   "id": "aa27f3fa",
   "metadata": {},
   "outputs": [],
   "source": [
    "seg_no = 'seg1'"
   ]
  },
  {
   "cell_type": "code",
   "execution_count": 43,
   "id": "49a75d33",
   "metadata": {},
   "outputs": [],
   "source": [
    "seg_pd.to_csv(name + '_' + seg_no + '_All_uc' + str(dt) + '.csv', index=False)\n",
    "seg_pd = seg_pd.astype('str')\n",
    "cross, upgrade, ump = on_usecases(seg_pd)\n",
    "cross.to_csv(name + '_' + seg_no + '_' + usecase[0] + '_' + str(dt) + '.csv', index=False)\n",
    "upgrade.to_csv(name + '_' + seg_no + '_' + usecase[1] + '_' + str(dt) + '.csv', index=False)\n",
    "ump.to_csv(name + '_' + seg_no + '_' + usecase[2] + '_' + str(dt) + '.csv', index=False)"
   ]
  },
  {
   "cell_type": "code",
   "execution_count": 44,
   "id": "b80f33f2",
   "metadata": {},
   "outputs": [
    {
     "name": "stdout",
     "output_type": "stream",
     "text": [
      "cross: 148688, upgrade: 152634, ump: 78365\n"
     ]
    }
   ],
   "source": [
    "print('cross: {}, upgrade: {}, ump: {}'.format(len(cross), len(upgrade), len(ump)))"
   ]
  },
  {
   "cell_type": "markdown",
   "id": "53590f03",
   "metadata": {},
   "source": [
    "# seg3"
   ]
  },
  {
   "cell_type": "markdown",
   "id": "eaa6c648",
   "metadata": {},
   "source": [
    "### Собираем чеки этих гостей и оставляем тех, кто покупал продукты с synthetic_catalog_id"
   ]
  },
  {
   "cell_type": "code",
   "execution_count": 46,
   "id": "5f806c06",
   "metadata": {},
   "outputs": [],
   "source": [
    "checks_headers = (spark.table(CHECKS_HEADERS)\n",
    "                      .filter(F.col('rtl_txn_dt').between(start_date, end_date))\n",
    "                      .filter((F.col('loyalty_card_no') != '') & (F.col('loyalty_card_no').isNotNull()))\n",
    "                      .filter(F.col('financial_unit_format_dk') == 'D')\n",
    "                      .filter(F.col('rtl_txn_cancel_flg') == 0)\n",
    "                      .select('rtl_txn_id', 'loyalty_card_no', 'store_id')\n",
    "                     )\n"
   ]
  },
  {
   "cell_type": "code",
   "execution_count": 47,
   "id": "7fff07e3",
   "metadata": {},
   "outputs": [],
   "source": [
    "# checks_headers_tc5 = checks_headers.filter(F.col('store_id').isin(plants)) #оставили чеки только с нужными магазинами"
   ]
  },
  {
   "cell_type": "code",
   "execution_count": 48,
   "id": "56980a31",
   "metadata": {},
   "outputs": [],
   "source": [
    "loyalty_cards = (spark\n",
    "                    .table(LOYALTY_CARDS)\n",
    "                    .withColumnRenamed(\"loyalty_card_id\", \"loyalty_card_no\")\n",
    "                    .withColumnRenamed(\"loyalty_account_id\", \"account_no\")\n",
    "                    .withColumnRenamed(\"loyalty_account_acrm_id\", \"account_rk\")\n",
    "                    .select('account_no', 'loyalty_card_no')\n",
    "                )\n",
    "loyalty_cardholders = (spark\n",
    "                        .table(LOYALTY_CARDHOLDERS)\n",
    "                        .filter(F.col('gender_dk').isin(['F', 'U']))\n",
    "                        .withColumnRenamed(\"loyalty_cardholder_acrm_id\", \"customer_rk\")\n",
    "                        .withColumnRenamed(\"loyalty_account_id\", \"account_no\")\n",
    "                        .select('account_no', 'customer_rk')\n",
    "                      )\n",
    "clients_info = loyalty_cards.join(loyalty_cardholders, on='account_no', how='inner')\n",
    "clients_info = clients_info.join(seg_sms, on='customer_rk', how='inner')"
   ]
  },
  {
   "cell_type": "code",
   "execution_count": 49,
   "id": "94ea0bb0",
   "metadata": {},
   "outputs": [],
   "source": [
    "checks_headers_tc5 = checks_headers.join(clients_info, on='loyalty_card_no') #оставили чеки только нужных гостей"
   ]
  },
  {
   "cell_type": "code",
   "execution_count": 50,
   "id": "3d731fb4",
   "metadata": {},
   "outputs": [],
   "source": [
    "checks_items = (spark.table(CHECKS_ITEMS) \n",
    "                    .withColumnRenamed('plu_id', 'plu_code')\n",
    "                    .withColumnRenamed('turnover_no_vat_amt', 'zsalnovat')\n",
    "                    .withColumnRenamed('turnover_vat_rub_amt', 'zsale_vat')\n",
    "                    .withColumnRenamed('prime_cost_no_vat_amt', 'zcst_n')\n",
    "                    .withColumnRenamed('turnover_base_uom_amt', 'base_qty')\n",
    "                    .withColumnRenamed('discount_amt', 'zdiscount')\n",
    "                    .withColumnRenamed('fact_regular_promo_flg', 'zpromofl')\n",
    "                    .filter(F.col('rtl_txn_dt').between(start_date, end_date))\n",
    "                    .filter((F.col('zsalnovat') >= 0) & (F.col('base_qty') >= 0) & (F.col('zcst_n') > 0)) #keep only correct data\n",
    "                        .select('plu_code' #items id\n",
    "                                , 'rtl_txn_id' #cheques id\n",
    "                                , 'base_qty' #count\n",
    "                               )\n",
    "                   )\n"
   ]
  },
  {
   "cell_type": "code",
   "execution_count": 51,
   "id": "309db32b",
   "metadata": {},
   "outputs": [],
   "source": [
    "plu_hierarchy_lvl_4_dk = ['FR0606005','FR0606011']\n",
    "# syntethic_category_id = [51,26,52]\n",
    "# plu_brand_code = ['2572','3403','O899','2268','1120','2325','0844','2251']\n",
    "# plu_not_in = [4138521]"
   ]
  },
  {
   "cell_type": "code",
   "execution_count": 52,
   "id": "e422c0b8",
   "metadata": {},
   "outputs": [
    {
     "name": "stderr",
     "output_type": "stream",
     "text": [
      "                                                                                \r"
     ]
    }
   ],
   "source": [
    "plu_codes_cat = (spark\n",
    "                 .table(PRODUCTS)\n",
    "                 .filter(F.col('plu_hierarchy_lvl_4_dk').isin(plu_hierarchy_lvl_4_dk))\n",
    "#                  .filter(F.col('plu_brand_code').isin(plu_brand_code))\n",
    "#                  .filter(F.col('syntethic_category_id').isin(syntethic_category_id))\n",
    "#                  .filter(~F.col('plu_id').isin(plu_not_in))\n",
    "                 .select('plu_id')\n",
    "                 .distinct()\n",
    "                 .toPandas()['plu_id']\n",
    "                 .tolist()\n",
    "                )"
   ]
  },
  {
   "cell_type": "code",
   "execution_count": 53,
   "id": "3fc49f26",
   "metadata": {},
   "outputs": [],
   "source": [
    "checks_items = checks_items.filter(F.col('plu_code').isin(plu_codes_cat)) # только чеки с нужными plu"
   ]
  },
  {
   "cell_type": "code",
   "execution_count": 54,
   "id": "2e9d9428",
   "metadata": {},
   "outputs": [],
   "source": [
    "checks_tc5 = checks_items.join(checks_headers_tc5, 'rtl_txn_id', how='inner')"
   ]
  },
  {
   "cell_type": "code",
   "execution_count": 55,
   "id": "cd25d03f",
   "metadata": {},
   "outputs": [],
   "source": [
    "accs = ['account_no']\n",
    "pdf = checks_tc5.groupby(accs).agg(F.sum('base_qty').alias('base_qty_per_period'))\n",
    "pdf = pdf.filter(F.col('base_qty_per_period') >= base_qty_per_period)\n",
    "checks_tc5 = checks_tc5.join(pdf, on=accs)"
   ]
  },
  {
   "cell_type": "code",
   "execution_count": 56,
   "id": "d8da4953",
   "metadata": {},
   "outputs": [],
   "source": [
    "seg1 = (checks_tc5.select('customer_rk')\n",
    "                  .distinct()\n",
    "      )"
   ]
  },
  {
   "cell_type": "code",
   "execution_count": 57,
   "id": "733b71b0",
   "metadata": {},
   "outputs": [
    {
     "name": "stderr",
     "output_type": "stream",
     "text": [
      "                                                                                 300]]]\r"
     ]
    }
   ],
   "source": [
    "seg1.write.parquet('temp23', mode='overwrite')\n",
    "seg1 = spark.read.parquet('temp23')"
   ]
  },
  {
   "cell_type": "code",
   "execution_count": 58,
   "id": "4fca95d6",
   "metadata": {},
   "outputs": [
    {
     "name": "stderr",
     "output_type": "stream",
     "text": [
      "                                                                                \r"
     ]
    },
    {
     "data": {
      "text/plain": [
       "1131230"
      ]
     },
     "execution_count": 58,
     "metadata": {},
     "output_type": "execute_result"
    }
   ],
   "source": [
    "seg1.count()"
   ]
  },
  {
   "cell_type": "code",
   "execution_count": 59,
   "id": "802a4a1b",
   "metadata": {},
   "outputs": [
    {
     "name": "stderr",
     "output_type": "stream",
     "text": [
      "                                                                                \r"
     ]
    }
   ],
   "source": [
    "seg_pd = seg1.toPandas()"
   ]
  },
  {
   "cell_type": "code",
   "execution_count": 60,
   "id": "c4bb717f",
   "metadata": {},
   "outputs": [
    {
     "data": {
      "text/plain": [
       "1131230"
      ]
     },
     "execution_count": 60,
     "metadata": {},
     "output_type": "execute_result"
    }
   ],
   "source": [
    "len(seg_pd)"
   ]
  },
  {
   "cell_type": "code",
   "execution_count": 61,
   "id": "c6412e75",
   "metadata": {},
   "outputs": [],
   "source": [
    "seg_no = 'seg3'"
   ]
  },
  {
   "cell_type": "code",
   "execution_count": 62,
   "id": "f530af6b",
   "metadata": {},
   "outputs": [],
   "source": [
    "seg_pd.to_csv(name + '_' + seg_no + '_All_uc' + str(dt) + '.csv', index=False)\n",
    "seg_pd = seg_pd.astype('str')\n",
    "cross, upgrade, ump = on_usecases(seg_pd)\n",
    "cross.to_csv(name + '_' + seg_no + '_' + usecase[0] + '_' + str(dt) + '.csv', index=False)\n",
    "upgrade.to_csv(name + '_' + seg_no + '_' + usecase[1] + '_' + str(dt) + '.csv', index=False)\n",
    "ump.to_csv(name + '_' + seg_no + '_' + usecase[2] + '_' + str(dt) + '.csv', index=False)"
   ]
  },
  {
   "cell_type": "code",
   "execution_count": 63,
   "id": "68667840",
   "metadata": {},
   "outputs": [
    {
     "name": "stdout",
     "output_type": "stream",
     "text": [
      "cross: 405815, upgrade: 482696, ump: 242719\n"
     ]
    }
   ],
   "source": [
    "print('cross: {}, upgrade: {}, ump: {}'.format(len(cross), len(upgrade), len(ump)))"
   ]
  },
  {
   "cell_type": "markdown",
   "id": "ea3825eb",
   "metadata": {},
   "source": [
    "# seg2"
   ]
  },
  {
   "cell_type": "markdown",
   "id": "772c400c",
   "metadata": {},
   "source": [
    "### Проверяем на доступность отобранных гостей в определенную дату"
   ]
  },
  {
   "cell_type": "code",
   "execution_count": 64,
   "id": "b1258920",
   "metadata": {},
   "outputs": [],
   "source": [
    "check_date = '2021-12-07'"
   ]
  },
  {
   "cell_type": "code",
   "execution_count": 65,
   "id": "f8df0aba",
   "metadata": {},
   "outputs": [
    {
     "name": "stdout",
     "output_type": "stream",
     "text": [
      "\u001b[93m Время выполнения: 0:00:06\n"
     ]
    }
   ],
   "source": [
    "seg_sms1 = (sms_channel_filters_glowbyte(spark=spark,\n",
    "                                         guests=customers_usecase, \n",
    "                                         usecase_name=usecase[0], \n",
    "                                         check_date=check_date, \n",
    "                                         debug_mode=False)\n",
    "                                    .select('customer_rk')\n",
    "                                    .distinct()\n",
    "           )"
   ]
  },
  {
   "cell_type": "code",
   "execution_count": 66,
   "id": "58aa9715",
   "metadata": {},
   "outputs": [
    {
     "name": "stdout",
     "output_type": "stream",
     "text": [
      "\u001b[93m Время выполнения: 0:00:07\n"
     ]
    }
   ],
   "source": [
    "seg_sms2 = (sms_channel_filters_glowbyte(spark=spark,\n",
    "                                         guests=customers_usecase, \n",
    "                                         usecase_name=usecase[1], \n",
    "                                         check_date=check_date, \n",
    "                                         debug_mode=False)\n",
    "                                    .select('customer_rk')\n",
    "                                    .distinct()\n",
    "           )"
   ]
  },
  {
   "cell_type": "code",
   "execution_count": 67,
   "id": "616cbde8",
   "metadata": {},
   "outputs": [
    {
     "name": "stdout",
     "output_type": "stream",
     "text": [
      "\u001b[93m Время выполнения: 0:00:09\n"
     ]
    }
   ],
   "source": [
    "seg_sms3 = (sms_channel_filters_glowbyte(spark=spark,\n",
    "                                         guests=customers_usecase, \n",
    "                                         usecase_name=usecase[2], \n",
    "                                         check_date=check_date, \n",
    "                                         debug_mode=False)\n",
    "                                    .select('customer_rk')\n",
    "                                    .distinct()\n",
    "           )"
   ]
  },
  {
   "cell_type": "code",
   "execution_count": 68,
   "id": "2be5ec88",
   "metadata": {},
   "outputs": [],
   "source": [
    "seg_sms = seg_sms1.union(seg_sms2).union(seg_sms3).distinct()"
   ]
  },
  {
   "cell_type": "code",
   "execution_count": 69,
   "id": "695d3fb8",
   "metadata": {},
   "outputs": [
    {
     "name": "stderr",
     "output_type": "stream",
     "text": [
      "                                                                                / 1800]\r"
     ]
    }
   ],
   "source": [
    "seg_sms.write.parquet('temp24', mode='overwrite')\n",
    "seg_sms = spark.read.parquet('temp24')"
   ]
  },
  {
   "cell_type": "code",
   "execution_count": 70,
   "id": "5f84b136",
   "metadata": {},
   "outputs": [
    {
     "data": {
      "text/plain": [
       "3924219"
      ]
     },
     "execution_count": 70,
     "metadata": {},
     "output_type": "execute_result"
    }
   ],
   "source": [
    "seg_sms.count()"
   ]
  },
  {
   "cell_type": "markdown",
   "id": "153e7c24",
   "metadata": {},
   "source": [
    "### Собираем чеки этих гостей и оставляем тех, кто покупал продукты с synthetic_catalog_id"
   ]
  },
  {
   "cell_type": "code",
   "execution_count": 71,
   "id": "ef9fe0d5",
   "metadata": {},
   "outputs": [],
   "source": [
    "checks_headers = (spark.table(CHECKS_HEADERS)\n",
    "                      .filter(F.col('rtl_txn_dt').between(start_date, end_date))\n",
    "                      .filter((F.col('loyalty_card_no') != '') & (F.col('loyalty_card_no').isNotNull()))\n",
    "                      .filter(F.col('financial_unit_format_dk') == 'D')\n",
    "                      .filter(F.col('rtl_txn_cancel_flg') == 0)\n",
    "                      .select('rtl_txn_id', 'loyalty_card_no', 'store_id')\n",
    "                     )\n"
   ]
  },
  {
   "cell_type": "code",
   "execution_count": 72,
   "id": "062e5a45",
   "metadata": {},
   "outputs": [],
   "source": [
    "# checks_headers_tc5 = checks_headers.filter(F.col('store_id').isin(plants)) #оставили чеки только с нужными магазинами"
   ]
  },
  {
   "cell_type": "code",
   "execution_count": 73,
   "id": "7bcbdc21",
   "metadata": {},
   "outputs": [],
   "source": [
    "loyalty_cards = (spark\n",
    "                    .table(LOYALTY_CARDS)\n",
    "                    .withColumnRenamed(\"loyalty_card_id\", \"loyalty_card_no\")\n",
    "                    .withColumnRenamed(\"loyalty_account_id\", \"account_no\")\n",
    "                    .withColumnRenamed(\"loyalty_account_acrm_id\", \"account_rk\")\n",
    "                    .select('account_no', 'loyalty_card_no')\n",
    "                )\n",
    "loyalty_cardholders = (spark\n",
    "                        .table(LOYALTY_CARDHOLDERS)\n",
    "                        .filter(F.col('gender_dk').isin(['F', 'U']))\n",
    "                        .withColumnRenamed(\"loyalty_cardholder_acrm_id\", \"customer_rk\")\n",
    "                        .withColumnRenamed(\"loyalty_account_id\", \"account_no\")\n",
    "                        .select('account_no', 'customer_rk')\n",
    "                      )\n",
    "clients_info = loyalty_cards.join(loyalty_cardholders, on='account_no', how='inner')\n",
    "clients_info = clients_info.join(seg_sms, on='customer_rk', how='inner')"
   ]
  },
  {
   "cell_type": "code",
   "execution_count": 74,
   "id": "f846baf3",
   "metadata": {},
   "outputs": [],
   "source": [
    "checks_headers_tc5 = checks_headers.join(clients_info, on='loyalty_card_no') #оставили чеки только нужных гостей"
   ]
  },
  {
   "cell_type": "code",
   "execution_count": 75,
   "id": "eae2de75",
   "metadata": {},
   "outputs": [],
   "source": [
    "checks_items = (spark.table(CHECKS_ITEMS) \n",
    "                    .withColumnRenamed('plu_id', 'plu_code')\n",
    "                    .withColumnRenamed('turnover_no_vat_amt', 'zsalnovat')\n",
    "                    .withColumnRenamed('turnover_vat_rub_amt', 'zsale_vat')\n",
    "                    .withColumnRenamed('prime_cost_no_vat_amt', 'zcst_n')\n",
    "                    .withColumnRenamed('turnover_base_uom_amt', 'base_qty')\n",
    "                    .withColumnRenamed('discount_amt', 'zdiscount')\n",
    "                    .withColumnRenamed('fact_regular_promo_flg', 'zpromofl')\n",
    "                    .filter(F.col('rtl_txn_dt').between(start_date, end_date))\n",
    "                    .filter((F.col('zsalnovat') >= 0) & (F.col('base_qty') >= 0) & (F.col('zcst_n') > 0)) #keep only correct data\n",
    "                        .select('plu_code' #items id\n",
    "                                , 'rtl_txn_id' #cheques id\n",
    "                                , 'base_qty' #count\n",
    "                               )\n",
    "                   )\n"
   ]
  },
  {
   "cell_type": "code",
   "execution_count": 76,
   "id": "36f19297",
   "metadata": {},
   "outputs": [],
   "source": [
    "plu_hierarchy_lvl_4_dk = ['FR0606006']\n",
    "# syntethic_category_id = [51,26,52]\n",
    "# plu_brand_code = ['2572','3403','O899','2268','1120','2325','0844','2251']\n",
    "# plu_not_in = [4138521]"
   ]
  },
  {
   "cell_type": "code",
   "execution_count": 77,
   "id": "b6ace547",
   "metadata": {},
   "outputs": [
    {
     "name": "stderr",
     "output_type": "stream",
     "text": [
      "                                                                                \r"
     ]
    }
   ],
   "source": [
    "plu_codes_cat = (spark\n",
    "                 .table(PRODUCTS)\n",
    "                 .filter(F.col('plu_hierarchy_lvl_4_dk').isin(plu_hierarchy_lvl_4_dk))\n",
    "#                  .filter(F.col('plu_brand_code').isin(plu_brand_code))\n",
    "#                  .filter(F.col('syntethic_category_id').isin(syntethic_category_id))\n",
    "#                  .filter(~F.col('plu_id').isin(plu_not_in))\n",
    "                 .select('plu_id')\n",
    "                 .distinct()\n",
    "                 .toPandas()['plu_id']\n",
    "                 .tolist()\n",
    "                )"
   ]
  },
  {
   "cell_type": "code",
   "execution_count": 78,
   "id": "06464810",
   "metadata": {},
   "outputs": [],
   "source": [
    "checks_items = checks_items.filter(F.col('plu_code').isin(plu_codes_cat)) # только чеки с нужными plu"
   ]
  },
  {
   "cell_type": "code",
   "execution_count": 79,
   "id": "9a219e9f",
   "metadata": {},
   "outputs": [],
   "source": [
    "checks_tc5 = checks_items.join(checks_headers_tc5, 'rtl_txn_id', how='inner')"
   ]
  },
  {
   "cell_type": "code",
   "execution_count": 80,
   "id": "f011df8e",
   "metadata": {},
   "outputs": [],
   "source": [
    "accs = ['account_no']\n",
    "pdf = checks_tc5.groupby(accs).agg(F.sum('base_qty').alias('base_qty_per_period'))\n",
    "pdf = pdf.filter(F.col('base_qty_per_period') >= base_qty_per_period)\n",
    "checks_tc5 = checks_tc5.join(pdf, on=accs)"
   ]
  },
  {
   "cell_type": "code",
   "execution_count": 81,
   "id": "5663e278",
   "metadata": {},
   "outputs": [],
   "source": [
    "seg1 = (checks_tc5.select('customer_rk')\n",
    "                  .distinct()\n",
    "      )"
   ]
  },
  {
   "cell_type": "code",
   "execution_count": 82,
   "id": "82d4f7dd",
   "metadata": {},
   "outputs": [
    {
     "name": "stderr",
     "output_type": "stream",
     "text": [
      "                                                                                00]]]]\r"
     ]
    }
   ],
   "source": [
    "seg1.write.parquet('temp25', mode='overwrite')\n",
    "seg1 = spark.read.parquet('temp25')"
   ]
  },
  {
   "cell_type": "code",
   "execution_count": 83,
   "id": "a018f733",
   "metadata": {},
   "outputs": [
    {
     "name": "stderr",
     "output_type": "stream",
     "text": [
      "                                                                                \r"
     ]
    },
    {
     "data": {
      "text/plain": [
       "613935"
      ]
     },
     "execution_count": 83,
     "metadata": {},
     "output_type": "execute_result"
    }
   ],
   "source": [
    "seg1.count()"
   ]
  },
  {
   "cell_type": "code",
   "execution_count": 84,
   "id": "2a81f025",
   "metadata": {},
   "outputs": [
    {
     "name": "stderr",
     "output_type": "stream",
     "text": [
      "                                                                                \r"
     ]
    }
   ],
   "source": [
    "seg_pd = seg1.toPandas()"
   ]
  },
  {
   "cell_type": "code",
   "execution_count": 85,
   "id": "456c6c05",
   "metadata": {},
   "outputs": [
    {
     "data": {
      "text/plain": [
       "613935"
      ]
     },
     "execution_count": 85,
     "metadata": {},
     "output_type": "execute_result"
    }
   ],
   "source": [
    "len(seg_pd)"
   ]
  },
  {
   "cell_type": "code",
   "execution_count": 86,
   "id": "b7d5cea3",
   "metadata": {},
   "outputs": [],
   "source": [
    "seg_no = 'seg2'"
   ]
  },
  {
   "cell_type": "code",
   "execution_count": 87,
   "id": "0b22cd2e",
   "metadata": {},
   "outputs": [],
   "source": [
    "seg_pd.to_csv(name + '_' + seg_no + '_All_uc' + str(dt) + '.csv', index=False)\n",
    "seg_pd = seg_pd.astype('str')\n",
    "cross, upgrade, ump = on_usecases(seg_pd)\n",
    "cross.to_csv(name + '_' + seg_no + '_' + usecase[0] + '_' + str(dt) + '.csv', index=False)\n",
    "upgrade.to_csv(name + '_' + seg_no + '_' + usecase[1] + '_' + str(dt) + '.csv', index=False)\n",
    "ump.to_csv(name + '_' + seg_no + '_' + usecase[2] + '_' + str(dt) + '.csv', index=False)"
   ]
  },
  {
   "cell_type": "code",
   "execution_count": 88,
   "id": "88f00192",
   "metadata": {},
   "outputs": [
    {
     "name": "stdout",
     "output_type": "stream",
     "text": [
      "cross: 187267, upgrade: 319162, ump: 107506\n"
     ]
    }
   ],
   "source": [
    "print('cross: {}, upgrade: {}, ump: {}'.format(len(cross), len(upgrade), len(ump)))"
   ]
  },
  {
   "cell_type": "markdown",
   "id": "3a1c5bdf",
   "metadata": {},
   "source": [
    "# seg4"
   ]
  },
  {
   "cell_type": "markdown",
   "id": "95cd9f46",
   "metadata": {},
   "source": [
    "### Проверяем на доступность отобранных гостей в определенную дату"
   ]
  },
  {
   "cell_type": "code",
   "execution_count": 89,
   "id": "b8f949a8",
   "metadata": {},
   "outputs": [],
   "source": [
    "check_date = '2021-12-14'"
   ]
  },
  {
   "cell_type": "code",
   "execution_count": 90,
   "id": "66738c8d",
   "metadata": {},
   "outputs": [
    {
     "name": "stdout",
     "output_type": "stream",
     "text": [
      "\u001b[93m Время выполнения: 0:00:06\n"
     ]
    }
   ],
   "source": [
    "seg_sms1 = (sms_channel_filters_glowbyte(spark=spark,\n",
    "                                         guests=customers_usecase, \n",
    "                                         usecase_name=usecase[0], \n",
    "                                         check_date=check_date, \n",
    "                                         debug_mode=False)\n",
    "                                    .select('customer_rk')\n",
    "                                    .distinct()\n",
    "           )"
   ]
  },
  {
   "cell_type": "code",
   "execution_count": 91,
   "id": "a7b12678",
   "metadata": {},
   "outputs": [
    {
     "name": "stdout",
     "output_type": "stream",
     "text": [
      "\u001b[93m Время выполнения: 0:00:10\n"
     ]
    }
   ],
   "source": [
    "seg_sms2 = (sms_channel_filters_glowbyte(spark=spark,\n",
    "                                         guests=customers_usecase, \n",
    "                                         usecase_name=usecase[1], \n",
    "                                         check_date=check_date, \n",
    "                                         debug_mode=False)\n",
    "                                    .select('customer_rk')\n",
    "                                    .distinct()\n",
    "           )"
   ]
  },
  {
   "cell_type": "code",
   "execution_count": 92,
   "id": "7976110e",
   "metadata": {},
   "outputs": [
    {
     "name": "stdout",
     "output_type": "stream",
     "text": [
      "\u001b[93m Время выполнения: 0:00:07\n"
     ]
    }
   ],
   "source": [
    "seg_sms3 = (sms_channel_filters_glowbyte(spark=spark,\n",
    "                                         guests=customers_usecase, \n",
    "                                         usecase_name=usecase[2], \n",
    "                                         check_date=check_date, \n",
    "                                         debug_mode=False)\n",
    "                                    .select('customer_rk')\n",
    "                                    .distinct()\n",
    "           )"
   ]
  },
  {
   "cell_type": "code",
   "execution_count": 93,
   "id": "838da446",
   "metadata": {},
   "outputs": [],
   "source": [
    "seg_sms = seg_sms1.union(seg_sms2).union(seg_sms3).distinct()"
   ]
  },
  {
   "cell_type": "code",
   "execution_count": 94,
   "id": "49153298",
   "metadata": {},
   "outputs": [
    {
     "name": "stderr",
     "output_type": "stream",
     "text": [
      "                                                                                1800]]\r"
     ]
    }
   ],
   "source": [
    "seg_sms.write.parquet('temp26', mode='overwrite')\n",
    "seg_sms = spark.read.parquet('temp26')"
   ]
  },
  {
   "cell_type": "code",
   "execution_count": 95,
   "id": "765dd408",
   "metadata": {},
   "outputs": [
    {
     "data": {
      "text/plain": [
       "4090218"
      ]
     },
     "execution_count": 95,
     "metadata": {},
     "output_type": "execute_result"
    }
   ],
   "source": [
    "seg_sms.count()"
   ]
  },
  {
   "cell_type": "markdown",
   "id": "15fa7fcc",
   "metadata": {},
   "source": [
    "### Собираем чеки этих гостей и оставляем тех, кто покупал продукты с synthetic_catalog_id"
   ]
  },
  {
   "cell_type": "code",
   "execution_count": 96,
   "id": "da46b253",
   "metadata": {},
   "outputs": [],
   "source": [
    "checks_headers = (spark.table(CHECKS_HEADERS)\n",
    "                      .filter(F.col('rtl_txn_dt').between(start_date, end_date))\n",
    "                      .filter((F.col('loyalty_card_no') != '') & (F.col('loyalty_card_no').isNotNull()))\n",
    "                      .filter(F.col('financial_unit_format_dk') == 'D')\n",
    "                      .filter(F.col('rtl_txn_cancel_flg') == 0)\n",
    "                      .select('rtl_txn_id', 'loyalty_card_no', 'store_id')\n",
    "                     )\n"
   ]
  },
  {
   "cell_type": "code",
   "execution_count": 97,
   "id": "3641eccc",
   "metadata": {},
   "outputs": [],
   "source": [
    "# checks_headers_tc5 = checks_headers.filter(F.col('store_id').isin(plants)) #оставили чеки только с нужными магазинами"
   ]
  },
  {
   "cell_type": "code",
   "execution_count": 98,
   "id": "4339cbc8",
   "metadata": {},
   "outputs": [],
   "source": [
    "loyalty_cards = (spark\n",
    "                    .table(LOYALTY_CARDS)\n",
    "                    .withColumnRenamed(\"loyalty_card_id\", \"loyalty_card_no\")\n",
    "                    .withColumnRenamed(\"loyalty_account_id\", \"account_no\")\n",
    "                    .withColumnRenamed(\"loyalty_account_acrm_id\", \"account_rk\")\n",
    "                    .select('account_no', 'loyalty_card_no')\n",
    "                )\n",
    "loyalty_cardholders = (spark\n",
    "                        .table(LOYALTY_CARDHOLDERS)\n",
    "#                         .filter(F.col('gender_dk').isin(['F', 'U']))\n",
    "                        .withColumnRenamed(\"loyalty_cardholder_acrm_id\", \"customer_rk\")\n",
    "                        .withColumnRenamed(\"loyalty_account_id\", \"account_no\")\n",
    "                        .select('account_no', 'customer_rk')\n",
    "                      )\n",
    "clients_info = loyalty_cards.join(loyalty_cardholders, on='account_no', how='inner')\n",
    "clients_info = clients_info.join(seg_sms, on='customer_rk', how='inner')"
   ]
  },
  {
   "cell_type": "code",
   "execution_count": 99,
   "id": "98ce9bdc",
   "metadata": {},
   "outputs": [],
   "source": [
    "checks_headers_tc5 = checks_headers.join(clients_info, on='loyalty_card_no') #оставили чеки только нужных гостей"
   ]
  },
  {
   "cell_type": "code",
   "execution_count": 100,
   "id": "5f5ba080",
   "metadata": {},
   "outputs": [],
   "source": [
    "checks_items = (spark.table(CHECKS_ITEMS) \n",
    "                    .withColumnRenamed('plu_id', 'plu_code')\n",
    "                    .withColumnRenamed('turnover_no_vat_amt', 'zsalnovat')\n",
    "                    .withColumnRenamed('turnover_vat_rub_amt', 'zsale_vat')\n",
    "                    .withColumnRenamed('prime_cost_no_vat_amt', 'zcst_n')\n",
    "                    .withColumnRenamed('turnover_base_uom_amt', 'base_qty')\n",
    "                    .withColumnRenamed('discount_amt', 'zdiscount')\n",
    "                    .withColumnRenamed('fact_regular_promo_flg', 'zpromofl')\n",
    "                    .filter(F.col('rtl_txn_dt').between(start_date, end_date))\n",
    "                    .filter((F.col('zsalnovat') >= 0) & (F.col('base_qty') >= 0) & (F.col('zcst_n') > 0)) #keep only correct data\n",
    "                        .select('plu_code' #items id\n",
    "                                , 'rtl_txn_id' #cheques id\n",
    "                                , 'base_qty' #count\n",
    "                               )\n",
    "                   )\n"
   ]
  },
  {
   "cell_type": "code",
   "execution_count": 101,
   "id": "fb7e25d8",
   "metadata": {},
   "outputs": [],
   "source": [
    "plu_hierarchy_lvl_4_dk = ['FR0606008','FR0606002']\n",
    "# syntethic_category_id = [51,26,52]\n",
    "plu_brand_code = ['3534','4484','L057','L061','6290']\n",
    "# plu_not_in = [4138521]"
   ]
  },
  {
   "cell_type": "code",
   "execution_count": 102,
   "id": "023c00b1",
   "metadata": {},
   "outputs": [],
   "source": [
    "plu_codes_cat = (spark\n",
    "                 .table(PRODUCTS)\n",
    "                 .filter(F.col('plu_hierarchy_lvl_4_dk').isin(plu_hierarchy_lvl_4_dk))\n",
    "                 .filter(F.col('plu_brand_code').isin(plu_brand_code))\n",
    "#                  .filter(F.col('syntethic_category_id').isin(syntethic_category_id))\n",
    "#                  .filter(~F.col('plu_id').isin(plu_not_in))\n",
    "                 .select('plu_id')\n",
    "                 .distinct()\n",
    "                 .toPandas()['plu_id']\n",
    "                 .tolist()\n",
    "                )"
   ]
  },
  {
   "cell_type": "code",
   "execution_count": 103,
   "id": "581f5f2e",
   "metadata": {},
   "outputs": [],
   "source": [
    "checks_items = checks_items.filter(F.col('plu_code').isin(plu_codes_cat)) # только чеки с нужными plu"
   ]
  },
  {
   "cell_type": "code",
   "execution_count": 104,
   "id": "9eb55c5a",
   "metadata": {},
   "outputs": [],
   "source": [
    "checks_tc5 = checks_items.join(checks_headers_tc5, 'rtl_txn_id', how='inner')"
   ]
  },
  {
   "cell_type": "code",
   "execution_count": 105,
   "id": "9fa59239",
   "metadata": {},
   "outputs": [],
   "source": [
    "accs = ['account_no']\n",
    "pdf = checks_tc5.groupby(accs).agg(F.sum('base_qty').alias('base_qty_per_period'))\n",
    "pdf = pdf.filter(F.col('base_qty_per_period') >= base_qty_per_period)\n",
    "checks_tc5 = checks_tc5.join(pdf, on=accs)"
   ]
  },
  {
   "cell_type": "code",
   "execution_count": 106,
   "id": "0a0e3d55",
   "metadata": {},
   "outputs": [],
   "source": [
    "seg1 = (checks_tc5.select('customer_rk')\n",
    "                  .distinct()\n",
    "      )"
   ]
  },
  {
   "cell_type": "code",
   "execution_count": 107,
   "id": "85945e3c",
   "metadata": {},
   "outputs": [
    {
     "name": "stderr",
     "output_type": "stream",
     "text": [
      "                                                                                946]]]\r"
     ]
    }
   ],
   "source": [
    "seg1.write.parquet('temp27', mode='overwrite')\n",
    "seg1 = spark.read.parquet('temp27')"
   ]
  },
  {
   "cell_type": "code",
   "execution_count": 108,
   "id": "2b166c01",
   "metadata": {},
   "outputs": [
    {
     "name": "stderr",
     "output_type": "stream",
     "text": [
      "                                                                                \r"
     ]
    },
    {
     "data": {
      "text/plain": [
       "797720"
      ]
     },
     "execution_count": 108,
     "metadata": {},
     "output_type": "execute_result"
    }
   ],
   "source": [
    "seg1.count()"
   ]
  },
  {
   "cell_type": "code",
   "execution_count": 109,
   "id": "79f7f323",
   "metadata": {},
   "outputs": [
    {
     "name": "stderr",
     "output_type": "stream",
     "text": [
      "                                                                                \r"
     ]
    }
   ],
   "source": [
    "seg_pd = seg1.toPandas()"
   ]
  },
  {
   "cell_type": "code",
   "execution_count": 110,
   "id": "aa6ce46e",
   "metadata": {},
   "outputs": [
    {
     "data": {
      "text/plain": [
       "797720"
      ]
     },
     "execution_count": 110,
     "metadata": {},
     "output_type": "execute_result"
    }
   ],
   "source": [
    "len(seg_pd)"
   ]
  },
  {
   "cell_type": "code",
   "execution_count": 112,
   "id": "d4c9190a",
   "metadata": {},
   "outputs": [],
   "source": [
    "seg_no = 'seg4'"
   ]
  },
  {
   "cell_type": "code",
   "execution_count": 113,
   "id": "7a50eb79",
   "metadata": {},
   "outputs": [],
   "source": [
    "seg_pd.to_csv(name + '_' + seg_no + '_All_uc' + str(dt) + '.csv', index=False)\n",
    "seg_pd = seg_pd.astype('str')\n",
    "cross, upgrade, ump = on_usecases(seg_pd)\n",
    "cross.to_csv(name + '_' + seg_no + '_' + usecase[0] + '_' + str(dt) + '.csv', index=False)\n",
    "upgrade.to_csv(name + '_' + seg_no + '_' + usecase[1] + '_' + str(dt) + '.csv', index=False)\n",
    "ump.to_csv(name + '_' + seg_no + '_' + usecase[2] + '_' + str(dt) + '.csv', index=False)"
   ]
  },
  {
   "cell_type": "code",
   "execution_count": 114,
   "id": "3e79a86d",
   "metadata": {},
   "outputs": [
    {
     "name": "stdout",
     "output_type": "stream",
     "text": [
      "cross: 260119, upgrade: 397203, ump: 140398\n"
     ]
    }
   ],
   "source": [
    "print('cross: {}, upgrade: {}, ump: {}'.format(len(cross), len(upgrade), len(ump)))"
   ]
  }
 ],
 "metadata": {
  "kernelspec": {
   "display_name": "Python 3 (ipykernel)",
   "language": "python",
   "name": "python3"
  },
  "language_info": {
   "codemirror_mode": {
    "name": "ipython",
    "version": 3
   },
   "file_extension": ".py",
   "mimetype": "text/x-python",
   "name": "python",
   "nbconvert_exporter": "python",
   "pygments_lexer": "ipython3",
   "version": "3.7.10"
  }
 },
 "nbformat": 4,
 "nbformat_minor": 5
}
