{
 "cells": [
  {
   "cell_type": "markdown",
   "id": "96e81e93",
   "metadata": {},
   "source": [
    "uncorrect_plu"
   ]
  },
  {
   "cell_type": "code",
   "execution_count": 1,
   "id": "0951ac0c",
   "metadata": {},
   "outputs": [],
   "source": [
    "name = 'uncorrect_plu'"
   ]
  },
  {
   "cell_type": "code",
   "execution_count": 2,
   "id": "b7fbcc1f",
   "metadata": {},
   "outputs": [],
   "source": [
    "import os\n",
    "import re\n",
    "from pyspark.sql import SparkSession\n",
    "from typing import List, Dict, Callable\n",
    "import socket\n",
    "\n",
    "spark = None\n",
    "\n",
    "EXECUTOR_ENV = 'hdfs:///share/products/cvm5/lib/python/anaconda_2.4.4_ds.tar.gz'  # 2.4.4 \n",
    "SPARK_ARCHIVE = 'hdfs:///share/lib/spark/sparkjars-2.4.4.zip'                     # 2.4.4\n",
    "#EXECUTOR_ENV = 'hdfs:///share/lib/python/env/anaconda-2019.07.tar.gz'\n",
    "#SPARK_ARCHIVE = 'hdfs:///share/lib/spark/sparkjars-2.3.1.zip'\n",
    "\n",
    "os.environ[\"ARROW_LIBHDFS_DIR\"] = \"/usr/hdp/2.6.5.0-292/usr/lib\"\n",
    "os.environ['HADOOP_HOME'] = '/usr/hdp/current/hadoop-client/'\n",
    "os.environ['JAVA_HOME'] = '/usr/lib/jvm/java-8-openjdk-amd64/'\n",
    "os.environ['HADOOP_CONF_DIR'] = '/etc/hadoop/conf/'\n",
    "os.environ['SPARK_HOME'] = '/opt/conda/lib/python3.7/site-packages/pyspark'\n",
    "os.environ['PYSPARK_PYTHON'] = 'anaconda_2.4.4_ds.tar.gz/bin/python3'             # 2.4.4\n",
    "#os.environ['PYSPARK_PYTHON'] = 'anaconda-2019.07.tar.gz/bin/python3'\n",
    "\n",
    "\n",
    "\n",
    "\n",
    "\n",
    "\n",
    "def restart_spark(task_name: str, num_executors: int, executor_memory='4G', executor_cores=2,\n",
    "                  driver_memory='2G', queue='cvm5-rnd', additional_params: Dict[str, str] = None):\n",
    "    global spark\n",
    "\n",
    "    if spark:\n",
    "        sc = spark.sparkContext\n",
    "        if sc and sc._jsc:\n",
    "            if not sc._jsc.sc().isStopped():\n",
    "                print('Using cached spark')\n",
    "                return sc, spark\n",
    "\n",
    "    need_ports_for_app = 3\n",
    "    user_tcp_ports = _get_user_tcp_ports()\n",
    "    free_ports = _get_free_ports(user_tcp_ports)\n",
    "    assert len(free_ports) >= need_ports_for_app, \\\n",
    "        f\"Not enough free ports ({len(free_ports)}), need {need_ports_for_app}, stop other apps\"\n",
    "    app_ports = free_ports[:need_ports_for_app]\n",
    "\n",
    "    host_ip = os.getenv('HOST_IP')\n",
    "    \n",
    "    spark_session = (\n",
    "        SparkSession\n",
    "        .builder\n",
    "        .appName(task_name)\n",
    "        .master('yarn')\n",
    "        .config('spark.driver.memory', driver_memory)\n",
    "        .config('spark.driver.maxResultSize', driver_memory)\n",
    "        .config('spark.executor.cores', executor_cores)\n",
    "        .config('spark.executor.memory', executor_memory)\n",
    "        .config('spark.executor.memoryOverhead', '1G')\n",
    "        .config('spark.dynamicAllocation.enabled', 'true')\n",
    "        .config('spark.dynamicAllocation.maxExecutors', num_executors)\n",
    "        .config('spark.sql.broadcastTimeout', '36000')\n",
    "        .config('spark.dynamicAllocation.cachedExecutorIdleTimeout', '1200s')\n",
    "        .config('spark.ui.port', app_ports[0])\n",
    "        .config('spark.blockManager.port', app_ports[1])\n",
    "        .config('spark.driver.port', app_ports[2])\n",
    "        .config('spark.driver.host', host_ip)\n",
    "        .config('spark.driver.bindAddress', '0.0.0.0')\n",
    "        .config('spark.driver.extraLibraryPath', '/usr/hdp/2.6.5.0-292/hadoop/lib/native')\n",
    "        .config('spark.driver.extraJavaOptions', '-Dhdp.version=current')\n",
    "        .config('spark.debug.maxToStringFields', '50')\n",
    "        .config('spark.yarn.queue', queue)\n",
    "        .config('spark.yarn.dist.archives', EXECUTOR_ENV)\n",
    "        .config('spark.yarn.archive', SPARK_ARCHIVE)\n",
    "        .config('spark.yarn.am.extraJavaOptions', '-Dhdp.version=current')\n",
    "        .config('spark.rpc.message.maxSize', '1024')\n",
    "        .config('spark.sql.warehouse.dir', '/apps/hive/warehouse')\n",
    "        .config('spark.sql.execution.pandas.respectSessionTimeZone', 'false')\n",
    "        .config('spark.sql.orc.filterPushdown', 'true')\n",
    "        .config('spark.sql.hive.convertMetastoreOrc', 'true')\n",
    "        .config('spark.shuffle.service.enabled', 'true')\n",
    "        .config('spark.hadoop.yarn.timeline-service.enabled', 'false')\n",
    "        .config('spark.hadoop.yarn.client.failover-proxy-provider',\n",
    "                'org.apache.hadoop.yarn.client.ConfiguredRMFailoverProxyProvider')\n",
    "        .config('spark.serializer', 'org.apache.spark.serializer.KryoSerializer')\n",
    "        .config('spark.kryoserializer.buffer.max', '128m')\n",
    "        .config('spark.executor.extraLibraryPath', '/usr/hdp/2.6.5.0-292/hadoop/lib/native')\n",
    "    )\n",
    "\n",
    "    if additional_params:\n",
    "        for key, value in additional_params.items():\n",
    "            spark_session = spark_session.config(key, value)\n",
    "\n",
    "    spark = (\n",
    "        spark_session\n",
    "        .enableHiveSupport()\n",
    "        .getOrCreate()\n",
    "    )\n",
    "    sc = spark.sparkContext\n",
    "\n",
    "    return sc, spark\n",
    "\n",
    "\n",
    "def _get_user_tcp_ports() -> List[str]:\n",
    "    regexp = re.compile(r'-2e')\n",
    "    envuser= os.getenv('HOSTNAME')\n",
    "    if regexp.search(envuser):       \n",
    "      _, user_name, user_surname = envuser.upper().split('-')\n",
    "      user_full_name = '_'.join([user_name, user_surname])\n",
    "    else:\n",
    "      _, user_name  = envuser.upper().split('-') \n",
    "      user_full_name = user_name\n",
    "    user_tcp_ports = [v for k, v in os.environ.items() if user_full_name in k and k.endswith('TCP_PORT')]\n",
    "    return user_tcp_ports\n",
    "\n",
    "\n",
    "def _get_free_ports(ports: List[str]):\n",
    "    free_ports = []\n",
    "    for port in ports:\n",
    "        with socket.socket(socket.AF_INET, socket.SOCK_STREAM) as s:\n",
    "            if s.connect_ex(('0.0.0.0', int(port))) != 0:\n",
    "                free_ports.append(port)\n",
    "    return free_ports\n"
   ]
  },
  {
   "cell_type": "code",
   "execution_count": 3,
   "id": "e80c8c58",
   "metadata": {},
   "outputs": [
    {
     "name": "stderr",
     "output_type": "stream",
     "text": [
      "Setting default log level to \"WARN\".\n",
      "To adjust logging level use sc.setLogLevel(newLevel). For SparkR, use setLogLevel(newLevel).\n",
      "21/12/09 14:21:23 WARN cluster.YarnSchedulerBackend$YarnSchedulerEndpoint: Attempted to request executors before the AM has registered!\n"
     ]
    }
   ],
   "source": [
    "sc, spark = restart_spark(\n",
    "                    name, \n",
    "                    21, \n",
    "                    executor_memory='5G', \n",
    "                    executor_cores=3, \n",
    "                    driver_memory='7G', \n",
    "                    additional_params={\"spark.sql.shuffle.partitions\": \"300\"})"
   ]
  },
  {
   "cell_type": "code",
   "execution_count": 4,
   "id": "590221f6",
   "metadata": {},
   "outputs": [],
   "source": [
    "sc.setLogLevel('ERROR')"
   ]
  },
  {
   "cell_type": "code",
   "execution_count": 5,
   "id": "88ef3916",
   "metadata": {},
   "outputs": [],
   "source": [
    "import pandas as pd\n",
    "import sys\n",
    "from pyspark.sql import functions as F\n",
    "import datetime\n",
    "from datetime import timedelta\n",
    "\n",
    "sys.path.append('/home/jovyan/glow-byte-filters-pyspark')\n",
    "from logic_filters import * \n",
    "from segmentation import *"
   ]
  },
  {
   "cell_type": "code",
   "execution_count": 6,
   "id": "35e7650a",
   "metadata": {},
   "outputs": [],
   "source": [
    "LOYALTY_CARDS = \"hive_ssa_tc5.loyalty_card\"\n",
    "LOYALTY_CARDHOLDERS = \"hive_ssa_tc5.loyalty_cardholder\"\n",
    "ACCOUNTS = \"hive_ssa_tc5.account\"\n",
    "CVM5_GUESTS = \"hive_cvm_acrm.cvm5_guests\"\n",
    "\n",
    "DIM_STORE = \"hive_ssa_main.dim_store\"\n",
    "CHECKS_HEADERS = \"hive_ssa_main.fct_rtl_txn\"\n",
    "CHECKS_ITEMS = \"hive_ssa_main.fct_rtl_txn_item\"\n",
    "PRODUCTS = \"hive_ssa_tc5.cvm_product\""
   ]
  },
  {
   "cell_type": "code",
   "execution_count": 11,
   "id": "f674ef29",
   "metadata": {},
   "outputs": [],
   "source": [
    "seg1 = ((\n",
    "    spark.table('transactional_tbls_regular_copies.acrm_dwh_dds_tc5_campaign_wave')\n",
    "    .filter(F.to_date(F.col('valid_to_dttm')) == datetime.date(9999, 12, 31))\n",
    "    .select('camp_wave_id', 'camp_wave_rk')\n",
    "    .filter(F.col('camp_wave_id') == 69952)\n",
    "    .distinct()\n",
    "    .join(\n",
    "        spark.table('transactional_tbls_regular_copies.acrm_dwh_dds_tc5_offer')\n",
    "        .filter(F.to_date(F.col(\"valid_to_dttm\")) == datetime.date(9999, 12, 31))\n",
    "        .select('camp_wave_rk', 'offer_rk')\n",
    "        .distinct()\n",
    "        , on='camp_wave_rk', how='inner'\n",
    "    )\n",
    "    .join(\n",
    "        spark.table('transactional_tbls_regular_copies.acrm_dwh_dds_tc5_participant')\n",
    "        .filter(F.to_date(F.col('valid_to_dttm')) == datetime.date(9999, 12, 31))\n",
    "        .select('offer_rk', 'customer_rk', 'control_group_flg')\n",
    "        , on='offer_rk', how='inner'\n",
    "    )\n",
    " ).filter(F.col('control_group_flg') == 0)\n",
    "    .select('customer_rk')\n",
    ")"
   ]
  },
  {
   "cell_type": "code",
   "execution_count": 12,
   "id": "c485ace7",
   "metadata": {},
   "outputs": [],
   "source": [
    "seg2 = ((\n",
    "    spark.table('transactional_tbls_regular_copies.acrm_dwh_dds_tc5_campaign_wave')\n",
    "    .filter(F.to_date(F.col('valid_to_dttm')) == datetime.date(9999, 12, 31))\n",
    "    .select('camp_wave_id', 'camp_wave_rk')\n",
    "    .filter(F.col('camp_wave_id') == 70079)\n",
    "    .distinct()\n",
    "    .join(\n",
    "        spark.table('transactional_tbls_regular_copies.acrm_dwh_dds_tc5_offer')\n",
    "        .filter(F.to_date(F.col(\"valid_to_dttm\")) == datetime.date(9999, 12, 31))\n",
    "        .select('camp_wave_rk', 'offer_rk')\n",
    "        .distinct()\n",
    "        , on='camp_wave_rk', how='inner'\n",
    "    )\n",
    "    .join(\n",
    "        spark.table('transactional_tbls_regular_copies.acrm_dwh_dds_tc5_participant')\n",
    "        .filter(F.to_date(F.col('valid_to_dttm')) == datetime.date(9999, 12, 31))\n",
    "        .select('offer_rk', 'customer_rk', 'control_group_flg')\n",
    "        , on='offer_rk', how='inner'\n",
    "    )\n",
    " ).filter(F.col('control_group_flg') == 0)\n",
    "    .select('customer_rk')\n",
    ")"
   ]
  },
  {
   "cell_type": "code",
   "execution_count": 15,
   "id": "5cedfc13",
   "metadata": {},
   "outputs": [],
   "source": [
    "seg = seg1.union(seg2).distinct()"
   ]
  },
  {
   "cell_type": "code",
   "execution_count": 16,
   "id": "29be3080",
   "metadata": {},
   "outputs": [
    {
     "name": "stderr",
     "output_type": "stream",
     "text": [
      "                                                                                \r"
     ]
    }
   ],
   "source": [
    "seg.write.parquet('temp_plu', mode='overwrite')\n",
    "seg = spark.read.parquet('temp_plu')"
   ]
  },
  {
   "cell_type": "code",
   "execution_count": 17,
   "id": "5054a383",
   "metadata": {},
   "outputs": [
    {
     "name": "stderr",
     "output_type": "stream",
     "text": [
      "                                                                                \r"
     ]
    },
    {
     "data": {
      "text/plain": [
       "251188"
      ]
     },
     "execution_count": 17,
     "metadata": {},
     "output_type": "execute_result"
    }
   ],
   "source": [
    "seg.count()"
   ]
  },
  {
   "cell_type": "markdown",
   "id": "6d15bb81",
   "metadata": {},
   "source": [
    "# seg1"
   ]
  },
  {
   "cell_type": "markdown",
   "id": "85a69161",
   "metadata": {},
   "source": [
    "### Собираем чеки этих гостей"
   ]
  },
  {
   "cell_type": "code",
   "execution_count": 18,
   "id": "b94a6539",
   "metadata": {},
   "outputs": [],
   "source": [
    "start_date = datetime.date(2021, 11, 16)\n",
    "end_date = datetime.date(2021, 11, 22)"
   ]
  },
  {
   "cell_type": "code",
   "execution_count": 19,
   "id": "da02cfbe",
   "metadata": {},
   "outputs": [],
   "source": [
    "checks_headers = (spark.table(CHECKS_HEADERS)\n",
    "                      .filter(F.col('rtl_txn_dt').between(start_date, end_date))\n",
    "                      .filter((F.col('loyalty_card_no') != '') & (F.col('loyalty_card_no').isNotNull()))\n",
    "                      .filter(F.col('financial_unit_format_dk') == 'D')\n",
    "                      .filter(F.col('rtl_txn_cancel_flg') == 0)\n",
    "                      .select('rtl_txn_id', 'loyalty_card_no')\n",
    "                     )\n"
   ]
  },
  {
   "cell_type": "code",
   "execution_count": 20,
   "id": "82ef1f4c",
   "metadata": {},
   "outputs": [],
   "source": [
    "loyalty_cards = (spark\n",
    "                    .table(LOYALTY_CARDS)\n",
    "                    .withColumnRenamed(\"loyalty_card_id\", \"loyalty_card_no\")\n",
    "                    .withColumnRenamed(\"loyalty_account_id\", \"account_no\")\n",
    "                    .withColumnRenamed(\"loyalty_account_acrm_id\", \"account_rk\")\n",
    "                    .select('account_no', 'loyalty_card_no')\n",
    "                )\n",
    "loyalty_cardholders = (spark\n",
    "                        .table(LOYALTY_CARDHOLDERS)\n",
    "                        .withColumnRenamed(\"loyalty_cardholder_acrm_id\", \"customer_rk\")\n",
    "                        .withColumnRenamed(\"loyalty_account_id\", \"account_no\")\n",
    "                        .select('account_no', 'customer_rk')\n",
    "                      )\n",
    "clients_info = loyalty_cards.join(loyalty_cardholders, on='account_no', how='inner')\n",
    "clients_info = clients_info.join(seg, on='customer_rk', how='inner')"
   ]
  },
  {
   "cell_type": "code",
   "execution_count": 21,
   "id": "e1d6cc7c",
   "metadata": {},
   "outputs": [],
   "source": [
    "checks_headers_tc5 = checks_headers.join(clients_info, on='loyalty_card_no') #оставили чеки только нужных гостей"
   ]
  },
  {
   "cell_type": "code",
   "execution_count": 22,
   "id": "5924d387",
   "metadata": {},
   "outputs": [],
   "source": [
    "checks_items = (spark.table(CHECKS_ITEMS) \n",
    "                    .withColumnRenamed('plu_id', 'plu_code')\n",
    "                    .withColumnRenamed('turnover_no_vat_amt', 'zsalnovat')\n",
    "                    .withColumnRenamed('turnover_vat_rub_amt', 'zsale_vat')\n",
    "                    .withColumnRenamed('prime_cost_no_vat_amt', 'zcst_n')\n",
    "                    .withColumnRenamed('turnover_base_uom_amt', 'base_qty')\n",
    "                    .withColumnRenamed('discount_amt', 'zdiscount')\n",
    "                    .withColumnRenamed('fact_regular_promo_flg', 'zpromofl')\n",
    "                    .filter(F.col('rtl_txn_dt').between(start_date, end_date))\n",
    "                    .filter((F.col('zsalnovat') >= 0) & (F.col('base_qty') >= 0) & (F.col('zcst_n') > 0)) #keep only correct data\n",
    "                        .select('plu_code' #items id\n",
    "                                , 'rtl_txn_id' #cheques id\n",
    "                               )\n",
    "                   )\n"
   ]
  },
  {
   "cell_type": "markdown",
   "id": "6535f668",
   "metadata": {},
   "source": [
    "#### Отбираем тех, кто покупал продукты в категории масло"
   ]
  },
  {
   "cell_type": "markdown",
   "id": "7c9b47fa",
   "metadata": {},
   "source": [
    "##### Отбираем PLU определенной категории (масло растительное) 1 л"
   ]
  },
  {
   "cell_type": "code",
   "execution_count": 23,
   "id": "b77bab7b",
   "metadata": {},
   "outputs": [],
   "source": [
    "# plu_hierarchy_lvl_4_dk = ['FD0212003']\n",
    "# syntethic_category_id = [51,26,52]\n",
    "# plu_brand_code = ['5256']\n",
    "# plu_not_in = [4138521]\n",
    "plu_id = [3466978]"
   ]
  },
  {
   "cell_type": "code",
   "execution_count": 24,
   "id": "674a08c9",
   "metadata": {},
   "outputs": [
    {
     "name": "stderr",
     "output_type": "stream",
     "text": [
      "                                                                                \r"
     ]
    }
   ],
   "source": [
    "plu_codes_cat = (spark\n",
    "                 .table(PRODUCTS)\n",
    "#                  .filter(F.col('plu_hierarchy_lvl_4_dk').isin(plu_hierarchy_lvl_4_dk))\n",
    "#                  .filter(F.col('plu_brand_code').isin(plu_brand_code))\n",
    "#                  .filter(F.col('syntethic_category_id').isin([74]))\n",
    "#                  .filter(~F.col('plu_id').isin(plu_not_in))\n",
    "                 .filter(F.col('plu_id').isin(plu_id))\n",
    "                 .select('plu_id')\n",
    "                 .distinct()\n",
    "                 .toPandas()['plu_id']\n",
    "                 .tolist()\n",
    "                )"
   ]
  },
  {
   "cell_type": "code",
   "execution_count": 25,
   "id": "45bc8460",
   "metadata": {},
   "outputs": [],
   "source": [
    "checks_items = checks_items.filter(F.col('plu_code').isin(plu_codes_cat)) # только чеки с нужными plu"
   ]
  },
  {
   "cell_type": "code",
   "execution_count": 26,
   "id": "64c8ec51",
   "metadata": {},
   "outputs": [],
   "source": [
    "checks_tc5 = checks_items.join(checks_headers_tc5, on='rtl_txn_id', how='inner')"
   ]
  },
  {
   "cell_type": "code",
   "execution_count": 27,
   "id": "06ffc638",
   "metadata": {},
   "outputs": [],
   "source": [
    "accs = ['account_no']\n",
    "pdf = checks_tc5.groupby(accs).agg(F.countDistinct('rtl_txn_id').alias('qty_checks'))\n",
    "checks_tc5 = checks_tc5.join(pdf, on=accs)"
   ]
  },
  {
   "cell_type": "code",
   "execution_count": 29,
   "id": "7789ddb8",
   "metadata": {},
   "outputs": [],
   "source": [
    "seg1 = (checks_tc5\n",
    "           .select('customer_rk', 'qty_checks')\n",
    "           .distinct()\n",
    "      )"
   ]
  },
  {
   "cell_type": "code",
   "execution_count": 30,
   "id": "2d09cfa1",
   "metadata": {
    "scrolled": true
   },
   "outputs": [
    {
     "name": "stderr",
     "output_type": "stream",
     "text": [
      "                                                                                \r"
     ]
    }
   ],
   "source": [
    "seg1.write.parquet('temp_plu2', mode='overwrite')\n",
    "seg1 = spark.read.parquet('temp_plu2')"
   ]
  },
  {
   "cell_type": "code",
   "execution_count": 31,
   "id": "a4212002",
   "metadata": {},
   "outputs": [
    {
     "name": "stderr",
     "output_type": "stream",
     "text": [
      "                                                                                \r"
     ]
    }
   ],
   "source": [
    "seg_pd = seg1.toPandas()"
   ]
  },
  {
   "cell_type": "code",
   "execution_count": 32,
   "id": "3b09d878",
   "metadata": {},
   "outputs": [
    {
     "data": {
      "text/plain": [
       "553"
      ]
     },
     "execution_count": 32,
     "metadata": {},
     "output_type": "execute_result"
    }
   ],
   "source": [
    "len(seg_pd)"
   ]
  },
  {
   "cell_type": "code",
   "execution_count": 52,
   "id": "0a75d29c",
   "metadata": {},
   "outputs": [],
   "source": [
    "seg_pd = seg_pd.astype('str')"
   ]
  },
  {
   "cell_type": "code",
   "execution_count": 61,
   "id": "3cfa8579",
   "metadata": {},
   "outputs": [],
   "source": [
    "from segmentation import *"
   ]
  },
  {
   "cell_type": "code",
   "execution_count": 73,
   "id": "c570753a",
   "metadata": {},
   "outputs": [
    {
     "ename": "UnboundLocalError",
     "evalue": "local variable 'cross' referenced before assignment",
     "output_type": "error",
     "traceback": [
      "\u001b[0;31m---------------------------------------------------------------------------\u001b[0m",
      "\u001b[0;31mUnboundLocalError\u001b[0m                         Traceback (most recent call last)",
      "\u001b[0;32m/tmp/ipykernel_2109/1713562983.py\u001b[0m in \u001b[0;36m<module>\u001b[0;34m\u001b[0m\n\u001b[0;32m----> 1\u001b[0;31m \u001b[0mcross\u001b[0m\u001b[0;34m,\u001b[0m \u001b[0mupgrade\u001b[0m \u001b[0;34m=\u001b[0m \u001b[0mget_usecases\u001b[0m\u001b[0;34m(\u001b[0m\u001b[0mseg_pd\u001b[0m\u001b[0;34m,\u001b[0m \u001b[0musecases\u001b[0m\u001b[0;34m=\u001b[0m\u001b[0;34m'short'\u001b[0m\u001b[0;34m)\u001b[0m\u001b[0;34m\u001b[0m\u001b[0;34m\u001b[0m\u001b[0m\n\u001b[0m",
      "\u001b[0;32m~/glow-byte-filters-pyspark/segmentation.py\u001b[0m in \u001b[0;36mget_usecases\u001b[0;34m(df, usecases)\u001b[0m\n\u001b[1;32m    230\u001b[0m         \u001b[0mump\u001b[0m \u001b[0;34m=\u001b[0m \u001b[0mdf\u001b[0m\u001b[0;34m.\u001b[0m\u001b[0mloc\u001b[0m\u001b[0;34m[\u001b[0m\u001b[0;34m(\u001b[0m\u001b[0mdf\u001b[0m\u001b[0;34m[\u001b[0m\u001b[0;34m'customer_rk'\u001b[0m\u001b[0;34m]\u001b[0m\u001b[0;34m.\u001b[0m\u001b[0mstr\u001b[0m\u001b[0;34m.\u001b[0m\u001b[0mendswith\u001b[0m\u001b[0;34m(\u001b[0m\u001b[0;34m'0'\u001b[0m\u001b[0;34m)\u001b[0m\u001b[0;34m)\u001b[0m \u001b[0;34m|\u001b[0m \u001b[0;34m(\u001b[0m\u001b[0mdf\u001b[0m\u001b[0;34m[\u001b[0m\u001b[0;34m'customer_rk'\u001b[0m\u001b[0;34m]\u001b[0m\u001b[0;34m.\u001b[0m\u001b[0mstr\u001b[0m\u001b[0;34m.\u001b[0m\u001b[0mendswith\u001b[0m\u001b[0;34m(\u001b[0m\u001b[0;34m'9'\u001b[0m\u001b[0;34m)\u001b[0m\u001b[0;34m)\u001b[0m\u001b[0;34m]\u001b[0m\u001b[0;34m.\u001b[0m\u001b[0mreset_index\u001b[0m\u001b[0;34m(\u001b[0m\u001b[0mdrop\u001b[0m\u001b[0;34m=\u001b[0m\u001b[0;32mTrue\u001b[0m\u001b[0;34m)\u001b[0m\u001b[0;34m\u001b[0m\u001b[0;34m\u001b[0m\u001b[0m\n\u001b[1;32m    231\u001b[0m         \u001b[0;32mreturn\u001b[0m \u001b[0mcross\u001b[0m\u001b[0;34m,\u001b[0m \u001b[0mupgrade\u001b[0m\u001b[0;34m,\u001b[0m \u001b[0mump\u001b[0m\u001b[0;34m\u001b[0m\u001b[0;34m\u001b[0m\u001b[0m\n\u001b[0;32m--> 232\u001b[0;31m     \u001b[0;32melif\u001b[0m \u001b[0musecases\u001b[0m \u001b[0;34m==\u001b[0m \u001b[0;34m'short'\u001b[0m\u001b[0;34m:\u001b[0m\u001b[0;34m\u001b[0m\u001b[0;34m\u001b[0m\u001b[0m\n\u001b[0m\u001b[1;32m    233\u001b[0m         cross = (df.loc[(df['customer_rk'].str.endswith('1')) | (df['customer_rk'].str.endswith('2'))\n\u001b[1;32m    234\u001b[0m                   | (df['customer_rk'].str.endswith('3')) | (df['customer_rk'].str.endswith('4'))].reset_index(drop=True))\n",
      "\u001b[0;31mUnboundLocalError\u001b[0m: local variable 'cross' referenced before assignment"
     ]
    }
   ],
   "source": [
    "cross, upgrade = get_usecases(seg_pd, usecases='short')"
   ]
  },
  {
   "cell_type": "code",
   "execution_count": 74,
   "id": "9e2eb37c",
   "metadata": {},
   "outputs": [],
   "source": [
    "seg_no= 'seg1'"
   ]
  },
  {
   "cell_type": "code",
   "execution_count": 76,
   "id": "d3b844ed",
   "metadata": {},
   "outputs": [],
   "source": [
    "usecase = ['cross', 'upgrade']"
   ]
  },
  {
   "cell_type": "code",
   "execution_count": 79,
   "id": "97f03f62",
   "metadata": {},
   "outputs": [],
   "source": [
    "dt = datetime.datetime.now()"
   ]
  },
  {
   "cell_type": "code",
   "execution_count": 80,
   "id": "5ed36c1d",
   "metadata": {},
   "outputs": [],
   "source": [
    "cross.to_csv(name + '_' + seg_no + '_' + usecase[0] + '_' + str(dt) + '.csv', index=False)\n",
    "upgrade.to_csv(name + '_' + seg_no + '_' + usecase[1] + '_' + str(dt) + '.csv', index=False)"
   ]
  },
  {
   "cell_type": "code",
   "execution_count": 83,
   "id": "7adda0c5",
   "metadata": {},
   "outputs": [
    {
     "name": "stdout",
     "output_type": "stream",
     "text": [
      "seg_no: seg1, cross: 216, upgrade: 208\n"
     ]
    }
   ],
   "source": [
    "print('seg_no: {}, cross: {}, upgrade: {}'.format(seg_no, len(cross), len(upgrade)))"
   ]
  },
  {
   "cell_type": "code",
   "execution_count": 86,
   "id": "c61cb70a",
   "metadata": {},
   "outputs": [],
   "source": [
    "test = (spark.table('transactional_tbls_regular_copies.acrm_dwh_dds_tc5_contact_history')\n",
    "    .filter(F.col('wave_id').isin([70199, 70218]))\n",
    "    .select('customer_rk', 'wave_id', 'delivery_status'))"
   ]
  },
  {
   "cell_type": "code",
   "execution_count": 87,
   "id": "787bb86d",
   "metadata": {},
   "outputs": [
    {
     "name": "stderr",
     "output_type": "stream",
     "text": [
      "                                                                                \r"
     ]
    },
    {
     "data": {
      "text/plain": [
       "251069"
      ]
     },
     "execution_count": 87,
     "metadata": {},
     "output_type": "execute_result"
    }
   ],
   "source": [
    "test.count()"
   ]
  },
  {
   "cell_type": "code",
   "execution_count": 88,
   "id": "602d171f",
   "metadata": {},
   "outputs": [],
   "source": [
    "equal = test.join(seg, on='customer_rk', how='inner')"
   ]
  },
  {
   "cell_type": "code",
   "execution_count": 89,
   "id": "59dd175e",
   "metadata": {},
   "outputs": [
    {
     "name": "stderr",
     "output_type": "stream",
     "text": [
      "                                                                                \r"
     ]
    },
    {
     "data": {
      "text/plain": [
       "553"
      ]
     },
     "execution_count": 89,
     "metadata": {},
     "output_type": "execute_result"
    }
   ],
   "source": [
    "equal.count()"
   ]
  }
 ],
 "metadata": {
  "kernelspec": {
   "display_name": "Python 3 (ipykernel)",
   "language": "python",
   "name": "python3"
  },
  "language_info": {
   "codemirror_mode": {
    "name": "ipython",
    "version": 3
   },
   "file_extension": ".py",
   "mimetype": "text/x-python",
   "name": "python",
   "nbconvert_exporter": "python",
   "pygments_lexer": "ipython3",
   "version": "3.7.10"
  }
 },
 "nbformat": 4,
 "nbformat_minor": 5
}
