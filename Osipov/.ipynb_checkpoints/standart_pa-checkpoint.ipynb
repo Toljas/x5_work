{
 "cells": [
  {
   "cell_type": "markdown",
   "id": "53a7e416",
   "metadata": {},
   "source": [
    "# Standart PA"
   ]
  },
  {
   "cell_type": "markdown",
   "id": "98b38d82",
   "metadata": {},
   "source": [
    "https://jira.x5.ru/browse/CVMUPG-1141"
   ]
  },
  {
   "cell_type": "code",
   "execution_count": null,
   "id": "c02562c5",
   "metadata": {},
   "outputs": [],
   "source": [
    "name = 'CVMXC-2801' + '_' + 'danone' + '_pa'"
   ]
  },
  {
   "cell_type": "code",
   "execution_count": null,
   "id": "981286ee",
   "metadata": {},
   "outputs": [],
   "source": [
    "import sys\n",
    "import pandas as pd\n",
    "import pyspark.sql.functions as F\n",
    "sys.path.append('/home/jovyan/cvm_upgrade/')\n",
    "sys.path.append('/home/jovyan/cvm_upgrade/upgrade/')\n",
    "sys.path.append('/home/jovyan/glow-byte-filters-pyspark')\n",
    "sys.path.append('/home/jovyan/x5_some_tasks/Osipov/')\n",
    "from upgrade.post_analysis2.tools.groups_metrics_aggregation import GroupsMetricsAggregation\n",
    "from upgrade.post_analysis2.tools.guests_metrics_preprocessing import GuestsMetricsPreprocessing\n",
    "from upgrade.post_analysis2.tools.post_analysis_params import PostAnalysisParams\n",
    "from upgrade.post_analysis2.tools.metric_names_mapper import map_col_names_to_russian\n",
    "from upgrade.post_analysis2.tools.experiment_participants import ExperimentParticipants\n",
    "from upgrade.post_analysis2.tools.experiment_params import ExperimentParams\n",
    "import datetime\n",
    "from datetime import timedelta\n",
    "from spark import *\n",
    "from utils_osipov import *\n",
    "\n",
    "%load_ext autoreload\n",
    "%autoreload 2\n",
    "\n",
    "pd.options.display.float_format = '{:,.2f}'.format\n",
    "pd.options.display.max_rows = 500"
   ]
  },
  {
   "cell_type": "code",
   "execution_count": null,
   "id": "f8bfdb8b",
   "metadata": {
    "collapsed": false,
    "jupyter": {
     "outputs_hidden": false
    },
    "pycharm": {
     "name": "#%%\n"
    }
   },
   "outputs": [],
   "source": [
    "sc, spark = restart_spark(name, 100, executor_memory=\"3G\", executor_cores=5, driver_memory=\"12G\",\n",
    "                          additional_params={\"spark.sql.shuffle.partitions\": \"200\"})\n",
    "sc.setLogLevel('ERROR')"
   ]
  },
  {
   "cell_type": "markdown",
   "id": "81e45042",
   "metadata": {},
   "source": [
    "### 1: X-28-42-Mareven-BigBon-sof"
   ]
  },
  {
   "cell_type": "code",
   "execution_count": null,
   "id": "74f2fa9c",
   "metadata": {
    "collapsed": false,
    "jupyter": {
     "outputs_hidden": false
    },
    "pycharm": {
     "name": "#%%\n"
    }
   },
   "outputs": [],
   "source": [
    "campaign_id = 'X-28-42-Mareven-BigBon-sof'\n",
    "output_fin_report = f'{campaign_id}_fin_report.csv'\n",
    "output_main_report = f'{campaign_id}_main_report.csv'\n",
    "\n",
    "experiment_params = ExperimentParams(**{\n",
    "    # Camp wave id нужно записать в виде мапы из id в префиксы.\n",
    "    # Префиксы ни на что не влияют, просто для более красивого названия групп\n",
    "    # Заполняются camp_wave_id. Если для контроля и теста одинаковый, то пишем два раза\n",
    "    'map_camp_wave_ids_to_suffixes': {\n",
    "        80782: \"sms_viber_tg\",\n",
    "        80782: \"sms_viber_cg\"\n",
    "    },\n",
    "\n",
    "    # communication period with guest (sending sms, push, etc.)\n",
    "    'date_communication_from': '2022-01-25',\n",
    "    'date_communication_to': '2022-01-31',\n",
    "\n",
    "    'wave_ids': [\n",
    "        81240 #если нет, то -1\n",
    "    ],\n",
    "\n",
    "    'communication_costs': {\n",
    "        'sms': 1.38,\n",
    "        'viber': 1.32,\n",
    "        'email': 0.0083\n",
    "    }\n",
    "})\n",
    "\n",
    "post_analysis_params = PostAnalysisParams(**{\n",
    "    'spark': spark,\n",
    "    'date_from': '2022-01-25',\n",
    "    'date_to': '2022-01-31', #дата постпериода\n",
    "    'control_camp_wave_id': 80782,\n",
    "    'plu_list': list(map(str, [3003111,2082200,4025330,4059568,4063579,4025331,2082204,4025363,4115113,\n",
    "                               3368169,3003110,2082206,4113988,3368168,3468665,3468666,4115114,4113990])),\n",
    "    'threshold_item_condition': 'plu_list', #есть категория еще\n",
    "    'count_for_plu_list': 2 #механика от 2-х штук\n",
    "})\n",
    "\n",
    "\n",
    "assert post_analysis_params.control_camp_wave_id in experiment_params.map_camp_wave_ids_to_suffixes.keys()"
   ]
  },
  {
   "cell_type": "code",
   "execution_count": null,
   "id": "78f5da0a",
   "metadata": {
    "collapsed": false,
    "jupyter": {
     "outputs_hidden": false
    },
    "pycharm": {
     "name": "#%%\n"
    },
    "scrolled": true
   },
   "outputs": [],
   "source": [
    "experiment_guests = ExperimentParticipants(spark, experiment_params)\n",
    "experiment_guests_communications = experiment_guests.extract()"
   ]
  },
  {
   "cell_type": "code",
   "execution_count": null,
   "id": "919c5650",
   "metadata": {
    "collapsed": false,
    "jupyter": {
     "outputs_hidden": false
    },
    "pycharm": {
     "name": "#%%\n"
    },
    "scrolled": true
   },
   "outputs": [],
   "source": [
    "guest_metrics_preparation = GuestsMetricsPreprocessing(spark, experiment_guests_communications, post_analysis_params)\n",
    "experiment_guests_with_metrics = guest_metrics_preparation.evaluate()"
   ]
  },
  {
   "cell_type": "code",
   "execution_count": null,
   "id": "d695b20a",
   "metadata": {
    "collapsed": false,
    "jupyter": {
     "outputs_hidden": false
    },
    "pycharm": {
     "name": "#%%\n"
    }
   },
   "outputs": [],
   "source": [
    "groups_metrics_aggregation = GroupsMetricsAggregation(spark, experiment_guests_with_metrics, post_analysis_params)\n",
    "groups_metrics, map_to_effects_table = groups_metrics_aggregation.evaluate()"
   ]
  },
  {
   "cell_type": "code",
   "execution_count": null,
   "id": "c89871e9",
   "metadata": {
    "collapsed": false,
    "jupyter": {
     "outputs_hidden": false
    },
    "pycharm": {
     "name": "#%%\n"
    }
   },
   "outputs": [],
   "source": [
    "fin_report = map_col_names_to_russian(groups_metrics)\n",
    "fin_report"
   ]
  },
  {
   "cell_type": "code",
   "execution_count": null,
   "id": "6eaf5fa2",
   "metadata": {
    "collapsed": false,
    "jupyter": {
     "outputs_hidden": false
    },
    "pycharm": {
     "name": "#%%\n"
    },
    "scrolled": true
   },
   "outputs": [],
   "source": [
    "fin_report['meta_post_analysis'] = str(post_analysis_params.__dict__)\n",
    "fin_report['meta_experiment_params'] = str(experiment_params.__dict__)\n",
    "groups_metrics['meta_post_analysis'] = str(post_analysis_params.__dict__)\n",
    "groups_metrics['meta_experiment_params'] = str(experiment_params.__dict__)\n",
    "\n",
    "groups_metrics.T.to_csv(output_main_report, encoding='utf-8-sig', sep=';')\n",
    "fin_report.T.to_csv(output_fin_report, encoding='utf-8-sig', sep=';')"
   ]
  }
 ],
 "metadata": {
  "kernelspec": {
   "display_name": "Python 3 (ipykernel)",
   "language": "python",
   "name": "python3"
  },
  "language_info": {
   "codemirror_mode": {
    "name": "ipython",
    "version": 3
   },
   "file_extension": ".py",
   "mimetype": "text/x-python",
   "name": "python",
   "nbconvert_exporter": "python",
   "pygments_lexer": "ipython3",
   "version": "3.7.10"
  }
 },
 "nbformat": 4,
 "nbformat_minor": 5
}
