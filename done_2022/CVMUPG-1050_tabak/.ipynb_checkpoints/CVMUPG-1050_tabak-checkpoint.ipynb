{
 "cells": [
  {
   "cell_type": "markdown",
   "id": "41ac95fa",
   "metadata": {},
   "source": [
    "https://jira.x5.ru/browse/CVMUPG-1050"
   ]
  },
  {
   "cell_type": "code",
   "execution_count": 1,
   "id": "6add4bc6",
   "metadata": {},
   "outputs": [],
   "source": [
    "name = 'CVMUPG-1050_tabak'"
   ]
  },
  {
   "cell_type": "code",
   "execution_count": 2,
   "id": "9def64c4",
   "metadata": {},
   "outputs": [],
   "source": [
    "import sys\n",
    "import pandas as pd\n",
    "import pyspark.sql.functions as F\n",
    "import datetime\n",
    "from datetime import timedelta\n",
    "sys.path.append('/home/jovyan/glow-byte-filters-pyspark')\n",
    "from logic_filters import * \n",
    "from segmentation import *\n",
    "from spark import *\n",
    "\n",
    "%load_ext autoreload\n",
    "%autoreload 2\n",
    "\n",
    "pd.options.display.float_format = '{:,.2f}'.format\n",
    "pd.options.display.max_rows = 500"
   ]
  },
  {
   "cell_type": "code",
   "execution_count": 3,
   "id": "8a900d01",
   "metadata": {},
   "outputs": [
    {
     "name": "stderr",
     "output_type": "stream",
     "text": [
      "Setting default log level to \"WARN\".\n",
      "To adjust logging level use sc.setLogLevel(newLevel). For SparkR, use setLogLevel(newLevel).\n"
     ]
    }
   ],
   "source": [
    "sc, spark = restart_spark(name, 100, executor_memory=\"3G\", executor_cores=5, driver_memory=\"12G\",\n",
    "                          additional_params={\"spark.sql.shuffle.partitions\": \"200\"})\n",
    "sc.setLogLevel('ERROR')"
   ]
  },
  {
   "cell_type": "code",
   "execution_count": 4,
   "id": "2a63193c",
   "metadata": {
    "scrolled": true
   },
   "outputs": [],
   "source": [
    "LOYALTY_CARDS = \"hive_ssa_tc5.loyalty_card\"\n",
    "LOYALTY_CARDHOLDERS = \"hive_ssa_tc5.loyalty_cardholder\"\n",
    "ACCOUNTS = \"hive_ssa_tc5.account\"\n",
    "CVM5_GUESTS = \"hive_cvm_acrm.cvm5_guests\"\n",
    "\n",
    "DIM_STORE = \"hive_ssa_main.dim_store\"\n",
    "CHECKS_HEADERS = \"hive_ssa_main.fct_rtl_txn\"\n",
    "CHECKS_ITEMS = \"hive_ssa_main.fct_rtl_txn_item\"\n",
    "PRODUCTS = \"hive_ssa_tc5.cvm_product\""
   ]
  },
  {
   "cell_type": "markdown",
   "id": "ebce6933",
   "metadata": {},
   "source": [
    "### Выбираем гостей нужного юзкейса"
   ]
  },
  {
   "cell_type": "code",
   "execution_count": 5,
   "id": "8d51dcb9",
   "metadata": {},
   "outputs": [],
   "source": [
    "usecase = ['churn', 'frequency', 'cross', 'upgrade', 'ump']\n",
    "dt = datetime.date.today()"
   ]
  },
  {
   "cell_type": "code",
   "execution_count": 6,
   "id": "9c161b83",
   "metadata": {},
   "outputs": [],
   "source": [
    "customers_usecase = (spark\n",
    "                     .table(CVM5_GUESTS)\n",
    "                     .filter(F.to_date('calculation_dt') == dt)\n",
    "                     .filter(F.col('usecase').isin(usecase))\n",
    "                     .select('account_no', 'customer_rk')\n",
    "                            )"
   ]
  },
  {
   "cell_type": "code",
   "execution_count": null,
   "id": "a2018cdf",
   "metadata": {},
   "outputs": [],
   "source": [
    "customers_usecase.count() # 49 523 503"
   ]
  },
  {
   "cell_type": "markdown",
   "id": "8cb229f8",
   "metadata": {},
   "source": [
    "### Для определения сохранения и частоты"
   ]
  },
  {
   "cell_type": "code",
   "execution_count": 7,
   "id": "193800db",
   "metadata": {},
   "outputs": [],
   "source": [
    "usecase1 = ['churn']\n",
    "usecase2 = ['frequency']"
   ]
  },
  {
   "cell_type": "code",
   "execution_count": 8,
   "id": "2f328b04",
   "metadata": {},
   "outputs": [],
   "source": [
    "customers_usecase_churn = (spark\n",
    "                     .table(CVM5_GUESTS)\n",
    "                     .filter(F.to_date('calculation_dt') == dt)\n",
    "                     .filter(F.col('usecase').isin(usecase1))\n",
    "                     .select('customer_rk')\n",
    "                     .distinct()\n",
    "                            )"
   ]
  },
  {
   "cell_type": "code",
   "execution_count": 9,
   "id": "42abb80e",
   "metadata": {},
   "outputs": [],
   "source": [
    "customers_usecase_frequency = (spark\n",
    "                     .table(CVM5_GUESTS)\n",
    "                     .filter(F.to_date('calculation_dt') == dt)\n",
    "                     .filter(F.col('usecase').isin(usecase2))\n",
    "                     .select('customer_rk')\n",
    "                     .distinct()\n",
    "                            )"
   ]
  },
  {
   "cell_type": "code",
   "execution_count": null,
   "id": "73005dde",
   "metadata": {},
   "outputs": [],
   "source": [
    "customers_usecase_churn.count() # 16 031 893"
   ]
  },
  {
   "cell_type": "code",
   "execution_count": null,
   "id": "7be22398",
   "metadata": {},
   "outputs": [],
   "source": [
    "customers_usecase_frequency.count() # 17 518 878"
   ]
  },
  {
   "cell_type": "markdown",
   "id": "32e822c0",
   "metadata": {},
   "source": [
    "### Проверяем на доступность отобранных гостей в определенную дату"
   ]
  },
  {
   "cell_type": "code",
   "execution_count": null,
   "id": "b801a6e7",
   "metadata": {},
   "outputs": [],
   "source": [
    "check_date = '2022-03-01'"
   ]
  },
  {
   "cell_type": "code",
   "execution_count": null,
   "id": "0fca5537",
   "metadata": {},
   "outputs": [],
   "source": [
    "seg_sms1 = (sms_channel_filters_glowbyte(spark=spark,\n",
    "                                         guests=customers_usecase, \n",
    "                                         usecase_name=usecase[0], \n",
    "                                         check_date=check_date, \n",
    "                                         debug_mode=False)\n",
    "                                    .select('customer_rk')\n",
    "                                    .distinct()\n",
    "           )"
   ]
  },
  {
   "cell_type": "code",
   "execution_count": null,
   "id": "5b6486ba",
   "metadata": {},
   "outputs": [],
   "source": [
    "seg_sms2 = (sms_channel_filters_glowbyte(spark=spark,\n",
    "                                         guests=customers_usecase, \n",
    "                                         usecase_name=usecase[1], \n",
    "                                         check_date=check_date, \n",
    "                                         debug_mode=False)\n",
    "                                    .select('customer_rk')\n",
    "                                    .distinct()\n",
    "           )"
   ]
  },
  {
   "cell_type": "code",
   "execution_count": null,
   "id": "66d2fdaf",
   "metadata": {},
   "outputs": [],
   "source": [
    "seg_sms3 = (sms_channel_filters_glowbyte(spark=spark,\n",
    "                                         guests=customers_usecase, \n",
    "                                         usecase_name=usecase[2], \n",
    "                                         check_date=check_date, \n",
    "                                         debug_mode=False)\n",
    "                                    .select('customer_rk')\n",
    "                                    .distinct()\n",
    "           )"
   ]
  },
  {
   "cell_type": "code",
   "execution_count": null,
   "id": "32a1f151",
   "metadata": {},
   "outputs": [],
   "source": [
    "seg_sms4 = (sms_channel_filters_glowbyte(spark=spark,\n",
    "                                         guests=customers_usecase, \n",
    "                                         usecase_name=usecase[3], \n",
    "                                         check_date=check_date, \n",
    "                                         debug_mode=False)\n",
    "                                    .select('customer_rk')\n",
    "                                    .distinct()\n",
    "           )"
   ]
  },
  {
   "cell_type": "code",
   "execution_count": null,
   "id": "2b66c74c",
   "metadata": {},
   "outputs": [],
   "source": [
    "seg_sms5 = (sms_channel_filters_glowbyte(spark=spark,\n",
    "                                         guests=customers_usecase, \n",
    "                                         usecase_name=usecase[4], \n",
    "                                         check_date=check_date, \n",
    "                                         debug_mode=False)\n",
    "                                    .select('customer_rk')\n",
    "                                    .distinct()\n",
    "           )"
   ]
  },
  {
   "cell_type": "code",
   "execution_count": null,
   "id": "87f5ee9b",
   "metadata": {},
   "outputs": [],
   "source": [
    "seg_sms = seg_sms1.union(seg_sms2).union(seg_sms3).union(seg_sms4).union(seg_sms5).distinct()"
   ]
  },
  {
   "cell_type": "code",
   "execution_count": 10,
   "id": "536c7b4c",
   "metadata": {},
   "outputs": [
    {
     "name": "stderr",
     "output_type": "stream",
     "text": [
      "                                                                                \r"
     ]
    }
   ],
   "source": [
    "# seg_sms.write.parquet('temp1050_1', mode='overwrite')\n",
    "seg_sms = spark.read.parquet('temp1050_1')"
   ]
  },
  {
   "cell_type": "code",
   "execution_count": null,
   "id": "3ec01952",
   "metadata": {},
   "outputs": [],
   "source": [
    "seg_sms.count() # 27 245 812"
   ]
  },
  {
   "cell_type": "markdown",
   "id": "4dd3e5cb",
   "metadata": {},
   "source": [
    "### Исследование plu"
   ]
  },
  {
   "cell_type": "code",
   "execution_count": null,
   "id": "5c0e9b02",
   "metadata": {},
   "outputs": [],
   "source": [
    "start_date = datetime.date(2021, 10, 16)\n",
    "end_date = datetime.date(2022, 1, 15)"
   ]
  },
  {
   "cell_type": "code",
   "execution_count": null,
   "id": "c0f5a23e",
   "metadata": {},
   "outputs": [],
   "source": [
    "checks_headers = (spark.table(CHECKS_HEADERS)\n",
    "                      .filter(F.col('rtl_txn_dt').between(start_date, end_date))\n",
    "                      .filter((F.col('loyalty_card_no') != '') & (F.col('loyalty_card_no').isNotNull()))\n",
    "                      .filter(F.col('financial_unit_format_dk') == 'D')\n",
    "                      .filter(F.col('rtl_txn_cancel_flg') == 0)\n",
    "                      .select('rtl_txn_id', 'loyalty_card_no')\n",
    "                     )\n"
   ]
  },
  {
   "cell_type": "code",
   "execution_count": null,
   "id": "4e943c47",
   "metadata": {},
   "outputs": [],
   "source": [
    "loyalty_cards = (spark\n",
    "                    .table(LOYALTY_CARDS)\n",
    "                    .withColumnRenamed(\"loyalty_card_id\", \"loyalty_card_no\")\n",
    "                    .withColumnRenamed(\"loyalty_account_id\", \"account_no\")\n",
    "                    .withColumnRenamed(\"loyalty_account_acrm_id\", \"account_rk\")\n",
    "                    .select('account_no', 'loyalty_card_no')\n",
    "                )\n",
    "loyalty_cardholders = (spark\n",
    "                        .table(LOYALTY_CARDHOLDERS)\n",
    "                        .withColumnRenamed(\"loyalty_cardholder_acrm_id\", \"customer_rk\")\n",
    "                        .withColumnRenamed(\"loyalty_account_id\", \"account_no\")\n",
    "                        .select('account_no', 'customer_rk')\n",
    "                      )\n",
    "clients_info = loyalty_cards.join(loyalty_cardholders, on='account_no', how='inner')\n",
    "clients_info = clients_info.join(seg_sms, on='customer_rk', how='inner')"
   ]
  },
  {
   "cell_type": "code",
   "execution_count": null,
   "id": "0405beac",
   "metadata": {},
   "outputs": [],
   "source": [
    "checks_headers_tc5 = checks_headers.join(clients_info, on='loyalty_card_no') #оставили чеки только нужных гостей"
   ]
  },
  {
   "cell_type": "code",
   "execution_count": null,
   "id": "2d003198",
   "metadata": {},
   "outputs": [],
   "source": [
    "checks_items = (spark.table(CHECKS_ITEMS) \n",
    "                    .withColumnRenamed('plu_id', 'plu_code')\n",
    "                    .withColumnRenamed('turnover_no_vat_amt', 'zsalnovat')\n",
    "                    .withColumnRenamed('turnover_vat_rub_amt', 'zsale_vat')\n",
    "                    .withColumnRenamed('prime_cost_no_vat_amt', 'zcst_n')\n",
    "                    .withColumnRenamed('turnover_base_uom_amt', 'base_qty')\n",
    "                    .withColumnRenamed('discount_amt', 'zdiscount')\n",
    "                    .withColumnRenamed('fact_regular_promo_flg', 'zpromofl')\n",
    "                    .filter(F.col('rtl_txn_dt').between(start_date, end_date))\n",
    "                    .filter((F.col('zsalnovat') >= 0) & (F.col('base_qty') >= 0) & (F.col('zcst_n') > 0)) #keep only correct data\n",
    "                        .select('plu_code' #items id\n",
    "                                , 'rtl_txn_id' #cheques id\n",
    "                                , 'base_qty'\n",
    "                                , 'zsale_vat' #cost\n",
    "                               )\n",
    "                   )\n"
   ]
  },
  {
   "cell_type": "code",
   "execution_count": null,
   "id": "28607a4f",
   "metadata": {},
   "outputs": [],
   "source": [
    "plu_hierarchy_lvl_4_dk = ['FD1001001']\n",
    "# syntethic_category_id = [51,26,52]\n",
    "# plu_brand_code = ['0989', 'N381', '3422']\n",
    "# plu_not_in = [4138521]"
   ]
  },
  {
   "cell_type": "code",
   "execution_count": null,
   "id": "7f171c7d",
   "metadata": {},
   "outputs": [],
   "source": [
    "plu_codes_cat = (spark\n",
    "                 .table(PRODUCTS)\n",
    "                 .filter(F.col('plu_hierarchy_lvl_4_dk').isin(plu_hierarchy_lvl_4_dk))\n",
    "#                  .filter(F.col('plu_brand_code').isin(plu_brand_code))\n",
    "#                  .filter(F.col('syntethic_category_id').isin(syntethic_category_id))\n",
    "#                  .filter(~F.col('plu_id').isin(plu_not_in))\n",
    "                 .select('plu_id')\n",
    "                 .distinct()\n",
    "                 .toPandas()['plu_id']\n",
    "                 .tolist()\n",
    "                )"
   ]
  },
  {
   "cell_type": "code",
   "execution_count": null,
   "id": "6c2ff0fa",
   "metadata": {},
   "outputs": [],
   "source": [
    "checks_items = checks_items.filter(F.col('plu_code').isin(plu_codes_cat)) # только чеки с нужными plu"
   ]
  },
  {
   "cell_type": "code",
   "execution_count": null,
   "id": "4d722aa0",
   "metadata": {},
   "outputs": [],
   "source": [
    "checks_tc5 = checks_items.join(checks_headers_tc5, 'rtl_txn_id', how='inner')"
   ]
  },
  {
   "cell_type": "code",
   "execution_count": null,
   "id": "feb5857d",
   "metadata": {},
   "outputs": [],
   "source": [
    "items_costs = checks_tc5.groupby('plu_code').agg(F.avg('zsale_vat').alias('cost'), F.sum('base_qty').alias('qty'))"
   ]
  },
  {
   "cell_type": "code",
   "execution_count": null,
   "id": "b9b03eb2",
   "metadata": {},
   "outputs": [],
   "source": [
    "buyed_plu = (checks_tc5.select('plu_code').distinct())"
   ]
  },
  {
   "cell_type": "code",
   "execution_count": null,
   "id": "1330898a",
   "metadata": {},
   "outputs": [],
   "source": [
    "information_plu = (spark.table(PRODUCTS)\n",
    "                    .withColumnRenamed('plu_id', 'plu_code')\n",
    "                    .join(buyed_plu, 'plu_code', 'inner')\n",
    "                    .join(items_costs, 'plu_code', 'inner').toPandas()\n",
    "                  )"
   ]
  },
  {
   "cell_type": "code",
   "execution_count": null,
   "id": "a1a8c4d5",
   "metadata": {},
   "outputs": [],
   "source": [
    "information_plu.to_csv('buyed_plu.csv', index=False)"
   ]
  },
  {
   "cell_type": "code",
   "execution_count": null,
   "id": "5cfc60e4",
   "metadata": {},
   "outputs": [],
   "source": [
    "information_plu.to_excel('buyed_plu.xlsx', index=False)"
   ]
  },
  {
   "cell_type": "code",
   "execution_count": 52,
   "id": "4a582152",
   "metadata": {},
   "outputs": [],
   "source": [
    "information_plu = pd.read_csv('buyed_plu.csv')"
   ]
  },
  {
   "cell_type": "code",
   "execution_count": 54,
   "id": "dd3edc82",
   "metadata": {},
   "outputs": [],
   "source": [
    "plu_codes1 = information_plu[information_plu['cost'] < 140]['plu_code'].tolist()"
   ]
  },
  {
   "cell_type": "code",
   "execution_count": 55,
   "id": "519ff47f",
   "metadata": {},
   "outputs": [],
   "source": [
    "plu_codes2 = information_plu[information_plu['cost'] >= 140]['plu_code'].tolist()"
   ]
  },
  {
   "cell_type": "markdown",
   "id": "d7bcff94",
   "metadata": {},
   "source": [
    "## Группы"
   ]
  },
  {
   "cell_type": "code",
   "execution_count": 66,
   "id": "4ee20e16",
   "metadata": {},
   "outputs": [],
   "source": [
    "start_date = datetime.date(2021, 10, 16)\n",
    "end_date = datetime.date(2022, 1, 15)"
   ]
  },
  {
   "cell_type": "markdown",
   "id": "5c90bdf5",
   "metadata": {},
   "source": [
    "### 1 аудитория (< 140 рублей)"
   ]
  },
  {
   "cell_type": "code",
   "execution_count": 67,
   "id": "ae53c994",
   "metadata": {},
   "outputs": [],
   "source": [
    "checks_headers = (spark.table(CHECKS_HEADERS)\n",
    "                      .filter(F.col('rtl_txn_dt').between(start_date, end_date))\n",
    "                      .filter((F.col('loyalty_card_no') != '') & (F.col('loyalty_card_no').isNotNull()))\n",
    "                      .filter(F.col('financial_unit_format_dk') == 'D')\n",
    "                      .filter(F.col('rtl_txn_cancel_flg') == 0)\n",
    "                      .select('rtl_txn_id', 'loyalty_card_no')\n",
    "                     )\n"
   ]
  },
  {
   "cell_type": "code",
   "execution_count": 68,
   "id": "99827778",
   "metadata": {},
   "outputs": [],
   "source": [
    "loyalty_cards = (spark\n",
    "                    .table(LOYALTY_CARDS)\n",
    "                    .withColumnRenamed(\"loyalty_card_id\", \"loyalty_card_no\")\n",
    "                    .withColumnRenamed(\"loyalty_account_id\", \"account_no\")\n",
    "                    .withColumnRenamed(\"loyalty_account_acrm_id\", \"account_rk\")\n",
    "                    .select('account_no', 'loyalty_card_no')\n",
    "                )\n",
    "loyalty_cardholders = (spark\n",
    "                        .table(LOYALTY_CARDHOLDERS)\n",
    "                        .filter(F.col('loyalty_cardholder_age_yrs') >= 18)\n",
    "                        .withColumnRenamed(\"loyalty_cardholder_acrm_id\", \"customer_rk\")\n",
    "                        .withColumnRenamed(\"loyalty_account_id\", \"account_no\")\n",
    "                        .select('account_no', 'customer_rk')\n",
    "                      )\n",
    "clients_info = loyalty_cards.join(loyalty_cardholders, on='account_no', how='inner')\n",
    "clients_info = clients_info.join(seg_sms, on='customer_rk', how='inner')"
   ]
  },
  {
   "cell_type": "code",
   "execution_count": 69,
   "id": "040a7e91",
   "metadata": {},
   "outputs": [],
   "source": [
    "checks_headers_tc5 = checks_headers.join(clients_info, on='loyalty_card_no') #оставили чеки только доступных гостей"
   ]
  },
  {
   "cell_type": "code",
   "execution_count": 70,
   "id": "a05708a6",
   "metadata": {},
   "outputs": [],
   "source": [
    "checks_items = (spark.table(CHECKS_ITEMS) \n",
    "                    .withColumnRenamed('plu_id', 'plu_code')\n",
    "                    .withColumnRenamed('turnover_no_vat_amt', 'zsalnovat')\n",
    "                    .withColumnRenamed('turnover_vat_rub_amt', 'zsale_vat')\n",
    "                    .withColumnRenamed('prime_cost_no_vat_amt', 'zcst_n')\n",
    "                    .withColumnRenamed('turnover_base_uom_amt', 'base_qty')\n",
    "                    .withColumnRenamed('discount_amt', 'zdiscount')\n",
    "                    .withColumnRenamed('fact_regular_promo_flg', 'zpromofl')\n",
    "                    .filter(F.col('rtl_txn_dt').between(start_date, end_date))\n",
    "                    .filter((F.col('zsalnovat') >= 0) & (F.col('base_qty') >= 0) & (F.col('zcst_n') > 0)) #keep only correct data\n",
    "                        .select('plu_code' #items id\n",
    "                                , 'rtl_txn_id' #cheques id\n",
    "                                , 'base_qty'\n",
    "                               )\n",
    "                   )\n"
   ]
  },
  {
   "cell_type": "code",
   "execution_count": 71,
   "id": "00b2d616",
   "metadata": {},
   "outputs": [],
   "source": [
    "checks_items = checks_items.filter(F.col('plu_code').isin(plu_codes1)) # только чеки с нужными plu"
   ]
  },
  {
   "cell_type": "code",
   "execution_count": 72,
   "id": "30bda6ad",
   "metadata": {},
   "outputs": [],
   "source": [
    "checks_tc5 = checks_items.join(checks_headers_tc5, 'rtl_txn_id', how='inner')"
   ]
  },
  {
   "cell_type": "code",
   "execution_count": 73,
   "id": "35328b2a",
   "metadata": {},
   "outputs": [],
   "source": [
    "accs = ['account_no']\n",
    "pdf = checks_tc5.groupby(accs).agg(F.sum('base_qty').alias('base_qty_per_period'))\n",
    "pdf = pdf.filter(F.col('base_qty_per_period') >= 3)\n",
    "checks_tc5 = checks_tc5.join(pdf, on=accs)"
   ]
  },
  {
   "cell_type": "code",
   "execution_count": 74,
   "id": "57ed1a89",
   "metadata": {},
   "outputs": [],
   "source": [
    "seg1 = (checks_tc5.withColumn('group', F.lit('1'))\n",
    "                  .select('customer_rk', 'group')\n",
    "                  .distinct()\n",
    "      )"
   ]
  },
  {
   "cell_type": "markdown",
   "id": "e0fba169",
   "metadata": {},
   "source": [
    "### 2 аудитория (>= 140 рублей)"
   ]
  },
  {
   "cell_type": "code",
   "execution_count": 75,
   "id": "4373f3b9",
   "metadata": {},
   "outputs": [],
   "source": [
    "checks_headers2 = (spark.table(CHECKS_HEADERS)\n",
    "                      .filter(F.col('rtl_txn_dt').between(start_date, end_date))\n",
    "                      .filter((F.col('loyalty_card_no') != '') & (F.col('loyalty_card_no').isNotNull()))\n",
    "                      .filter(F.col('financial_unit_format_dk') == 'D')\n",
    "                      .filter(F.col('rtl_txn_cancel_flg') == 0)\n",
    "                      .select('rtl_txn_id', 'loyalty_card_no')\n",
    "                     )\n"
   ]
  },
  {
   "cell_type": "code",
   "execution_count": 76,
   "id": "bd393272",
   "metadata": {},
   "outputs": [],
   "source": [
    "loyalty_cards2 = (spark\n",
    "                    .table(LOYALTY_CARDS)\n",
    "                    .withColumnRenamed(\"loyalty_card_id\", \"loyalty_card_no\")\n",
    "                    .withColumnRenamed(\"loyalty_account_id\", \"account_no\")\n",
    "                    .withColumnRenamed(\"loyalty_account_acrm_id\", \"account_rk\")\n",
    "                    .select('account_no', 'loyalty_card_no')\n",
    "                )\n",
    "loyalty_cardholders2 = (spark\n",
    "                        .table(LOYALTY_CARDHOLDERS)\n",
    "                        .filter(F.col('loyalty_cardholder_age_yrs') >= 18)\n",
    "                        .withColumnRenamed(\"loyalty_cardholder_acrm_id\", \"customer_rk\")\n",
    "                        .withColumnRenamed(\"loyalty_account_id\", \"account_no\")\n",
    "                        .select('account_no', 'customer_rk')\n",
    "                      )\n",
    "clients_info2 = loyalty_cards2.join(loyalty_cardholders2, on='account_no', how='inner')\n",
    "clients_info2 = clients_info2.join(seg_sms, on='customer_rk', how='inner')"
   ]
  },
  {
   "cell_type": "code",
   "execution_count": 77,
   "id": "86b5840a",
   "metadata": {},
   "outputs": [],
   "source": [
    "checks_headers_tc52 = checks_headers2.join(clients_info2, on='loyalty_card_no') #оставили чеки только доступных гостей"
   ]
  },
  {
   "cell_type": "code",
   "execution_count": 78,
   "id": "0447b1ef",
   "metadata": {},
   "outputs": [],
   "source": [
    "checks_items2 = (spark.table(CHECKS_ITEMS) \n",
    "                    .withColumnRenamed('plu_id', 'plu_code')\n",
    "                    .withColumnRenamed('turnover_no_vat_amt', 'zsalnovat')\n",
    "                    .withColumnRenamed('turnover_vat_rub_amt', 'zsale_vat')\n",
    "                    .withColumnRenamed('prime_cost_no_vat_amt', 'zcst_n')\n",
    "                    .withColumnRenamed('turnover_base_uom_amt', 'base_qty')\n",
    "                    .withColumnRenamed('discount_amt', 'zdiscount')\n",
    "                    .withColumnRenamed('fact_regular_promo_flg', 'zpromofl')\n",
    "                    .filter(F.col('rtl_txn_dt').between(start_date, end_date))\n",
    "                    .filter((F.col('zsalnovat') >= 0) & (F.col('base_qty') >= 0) & (F.col('zcst_n') > 0)) #keep only correct data\n",
    "                        .select('plu_code' #items id\n",
    "                                , 'rtl_txn_id' #cheques id\n",
    "                                , 'base_qty'\n",
    "                               )\n",
    "                   )\n"
   ]
  },
  {
   "cell_type": "code",
   "execution_count": 79,
   "id": "6d556629",
   "metadata": {},
   "outputs": [],
   "source": [
    "checks_items2 = checks_items2.filter(F.col('plu_code').isin(plu_codes2)) # только чеки с нужными plu"
   ]
  },
  {
   "cell_type": "code",
   "execution_count": 80,
   "id": "8acc7674",
   "metadata": {},
   "outputs": [],
   "source": [
    "checks_tc52 = checks_items2.join(checks_headers_tc52, 'rtl_txn_id', how='inner')"
   ]
  },
  {
   "cell_type": "code",
   "execution_count": 81,
   "id": "e1d3b231",
   "metadata": {},
   "outputs": [],
   "source": [
    "pdf2 = checks_tc52.groupby(accs).agg(F.sum('base_qty').alias('base_qty_per_period'))\n",
    "pdf2 = pdf2.filter(F.col('base_qty_per_period') >= 3)\n",
    "checks_tc52 = checks_tc52.join(pdf, on=accs)"
   ]
  },
  {
   "cell_type": "code",
   "execution_count": 82,
   "id": "35e75346",
   "metadata": {},
   "outputs": [],
   "source": [
    "seg2 = (checks_tc52.withColumn('group', F.lit('2'))\n",
    "                  .select('customer_rk', 'group')\n",
    "                  .distinct()\n",
    "      )"
   ]
  },
  {
   "cell_type": "code",
   "execution_count": 83,
   "id": "6125e9af",
   "metadata": {},
   "outputs": [],
   "source": [
    "seg = seg1.union(seg2)"
   ]
  },
  {
   "cell_type": "code",
   "execution_count": 84,
   "id": "bb84e3ad",
   "metadata": {},
   "outputs": [
    {
     "name": "stderr",
     "output_type": "stream",
     "text": [
      "                                                                                48]]]]]\r"
     ]
    }
   ],
   "source": [
    "seg.write.parquet('temp1050_seg1', mode='overwrite')\n",
    "seg = spark.read.parquet('temp1050_seg1')"
   ]
  },
  {
   "cell_type": "code",
   "execution_count": 85,
   "id": "621aebad",
   "metadata": {},
   "outputs": [
    {
     "name": "stderr",
     "output_type": "stream",
     "text": [
      "                                                                                \r"
     ]
    }
   ],
   "source": [
    "seg_pd = seg.toPandas()"
   ]
  },
  {
   "cell_type": "code",
   "execution_count": 86,
   "id": "5384ca64",
   "metadata": {},
   "outputs": [
    {
     "name": "stdout",
     "output_type": "stream",
     "text": [
      "1649407\n",
      "632845\n",
      "2282252\n"
     ]
    }
   ],
   "source": [
    "print(len(seg_pd[seg_pd['group'] == '1']))\n",
    "print(len(seg_pd[seg_pd['group'] == '2']))\n",
    "print(len(seg_pd))"
   ]
  },
  {
   "cell_type": "markdown",
   "id": "a2b81a5e",
   "metadata": {},
   "source": [
    "### 3 аудитория (стики Heets или Fiit)"
   ]
  },
  {
   "cell_type": "code",
   "execution_count": 33,
   "id": "d7e24bf3",
   "metadata": {},
   "outputs": [],
   "source": [
    "checks_headers = (spark.table(CHECKS_HEADERS)\n",
    "                      .filter(F.col('rtl_txn_dt').between(start_date, end_date))\n",
    "                      .filter((F.col('loyalty_card_no') != '') & (F.col('loyalty_card_no').isNotNull()))\n",
    "                      .filter(F.col('financial_unit_format_dk') == 'D')\n",
    "                      .filter(F.col('rtl_txn_cancel_flg') == 0)\n",
    "                      .select('rtl_txn_id', 'loyalty_card_no')\n",
    "                     )\n"
   ]
  },
  {
   "cell_type": "code",
   "execution_count": 34,
   "id": "fb923937",
   "metadata": {},
   "outputs": [],
   "source": [
    "loyalty_cards = (spark\n",
    "                    .table(LOYALTY_CARDS)\n",
    "                    .withColumnRenamed(\"loyalty_card_id\", \"loyalty_card_no\")\n",
    "                    .withColumnRenamed(\"loyalty_account_id\", \"account_no\")\n",
    "                    .withColumnRenamed(\"loyalty_account_acrm_id\", \"account_rk\")\n",
    "                    .select('account_no', 'loyalty_card_no')\n",
    "                )\n",
    "loyalty_cardholders = (spark\n",
    "                        .table(LOYALTY_CARDHOLDERS)\n",
    "                        .filter(F.col('loyalty_cardholder_age_yrs') >= 18)\n",
    "                        .withColumnRenamed(\"loyalty_cardholder_acrm_id\", \"customer_rk\")\n",
    "                        .withColumnRenamed(\"loyalty_account_id\", \"account_no\")\n",
    "                        .select('account_no', 'customer_rk')\n",
    "                      )\n",
    "clients_info = loyalty_cards.join(loyalty_cardholders, on='account_no', how='inner')\n",
    "clients_info = clients_info.join(seg_sms, on='customer_rk', how='inner')"
   ]
  },
  {
   "cell_type": "code",
   "execution_count": 35,
   "id": "59fc1278",
   "metadata": {},
   "outputs": [],
   "source": [
    "checks_headers_tc5 = checks_headers.join(clients_info, on='loyalty_card_no') #оставили чеки только доступных гостей"
   ]
  },
  {
   "cell_type": "code",
   "execution_count": 36,
   "id": "b17e044a",
   "metadata": {},
   "outputs": [],
   "source": [
    "checks_items = (spark.table(CHECKS_ITEMS) \n",
    "                    .withColumnRenamed('plu_id', 'plu_code')\n",
    "                    .withColumnRenamed('turnover_no_vat_amt', 'zsalnovat')\n",
    "                    .withColumnRenamed('turnover_vat_rub_amt', 'zsale_vat')\n",
    "                    .withColumnRenamed('prime_cost_no_vat_amt', 'zcst_n')\n",
    "                    .withColumnRenamed('turnover_base_uom_amt', 'base_qty')\n",
    "                    .withColumnRenamed('discount_amt', 'zdiscount')\n",
    "                    .withColumnRenamed('fact_regular_promo_flg', 'zpromofl')\n",
    "                    .filter(F.col('rtl_txn_dt').between(start_date, end_date))\n",
    "                    .filter((F.col('zsalnovat') >= 0) & (F.col('base_qty') >= 0) & (F.col('zcst_n') > 0)) #keep only correct data\n",
    "                        .select('plu_code' #items id\n",
    "                                , 'rtl_txn_id' #cheques id\n",
    "                                , 'base_qty'\n",
    "                               )\n",
    "                   )\n"
   ]
  },
  {
   "cell_type": "code",
   "execution_count": 37,
   "id": "3d667e4b",
   "metadata": {},
   "outputs": [],
   "source": [
    "plu_codes = [3937807,3938504,4077685,3937810,4002855,3662978,3981554,3981553,3981552,3981559,3937806,4043654,4043653,\n",
    "3981557,3937808,4144430,3937805,4043650,3981550,3663201,4077680,3981560,4126042,3665683,3981551,4002857,4063395,4043651,\n",
    "3662977,4126044,4077683,3981556,3937811,3938503,3981558]"
   ]
  },
  {
   "cell_type": "code",
   "execution_count": 38,
   "id": "8e460138",
   "metadata": {},
   "outputs": [],
   "source": [
    "checks_items = checks_items.filter(F.col('plu_code').isin(plu_codes)) # только чеки с нужными plu"
   ]
  },
  {
   "cell_type": "code",
   "execution_count": 39,
   "id": "3ab89b7e",
   "metadata": {},
   "outputs": [],
   "source": [
    "checks_tc5 = checks_items.join(checks_headers_tc5, 'rtl_txn_id', how='inner')"
   ]
  },
  {
   "cell_type": "code",
   "execution_count": 40,
   "id": "231a48d2",
   "metadata": {},
   "outputs": [],
   "source": [
    "accs = ['account_no']\n",
    "pdf = checks_tc5.groupby(accs).agg(F.sum('base_qty').alias('base_qty_per_period'))\n",
    "pdf = pdf.filter(F.col('base_qty_per_period') > 2)\n",
    "checks_tc5 = checks_tc5.join(pdf, on=accs)"
   ]
  },
  {
   "cell_type": "code",
   "execution_count": 41,
   "id": "906b594f",
   "metadata": {},
   "outputs": [],
   "source": [
    "seg1 = (checks_tc5.select('customer_rk')\n",
    "                  .distinct()\n",
    "      )"
   ]
  },
  {
   "cell_type": "code",
   "execution_count": 42,
   "id": "c0bf536a",
   "metadata": {},
   "outputs": [
    {
     "name": "stderr",
     "output_type": "stream",
     "text": [
      "                                                                                48]]]]]\r"
     ]
    }
   ],
   "source": [
    "seg1.write.parquet('temp1050_seg3', mode='overwrite')\n",
    "seg1 = spark.read.parquet('temp1050_seg3')"
   ]
  },
  {
   "cell_type": "code",
   "execution_count": 43,
   "id": "54efed79",
   "metadata": {},
   "outputs": [
    {
     "name": "stderr",
     "output_type": "stream",
     "text": [
      "                                                                                \r"
     ]
    }
   ],
   "source": [
    "seg1_pd = seg1.toPandas()"
   ]
  },
  {
   "cell_type": "markdown",
   "id": "4575b138",
   "metadata": {},
   "source": [
    "### 4 аудитория (стики Heets или Fiit и сигареты)"
   ]
  },
  {
   "cell_type": "code",
   "execution_count": 47,
   "id": "590b0b15",
   "metadata": {},
   "outputs": [],
   "source": [
    "checks_headers = (spark.table(CHECKS_HEADERS)\n",
    "                      .filter(F.col('rtl_txn_dt').between(start_date, end_date))\n",
    "                      .filter((F.col('loyalty_card_no') != '') & (F.col('loyalty_card_no').isNotNull()))\n",
    "                      .filter(F.col('financial_unit_format_dk') == 'D')\n",
    "                      .filter(F.col('rtl_txn_cancel_flg') == 0)\n",
    "                      .select('rtl_txn_id', 'loyalty_card_no')\n",
    "                     )\n"
   ]
  },
  {
   "cell_type": "code",
   "execution_count": 48,
   "id": "02666e22",
   "metadata": {},
   "outputs": [],
   "source": [
    "loyalty_cards = (spark\n",
    "                    .table(LOYALTY_CARDS)\n",
    "                    .withColumnRenamed(\"loyalty_card_id\", \"loyalty_card_no\")\n",
    "                    .withColumnRenamed(\"loyalty_account_id\", \"account_no\")\n",
    "                    .withColumnRenamed(\"loyalty_account_acrm_id\", \"account_rk\")\n",
    "                    .select('account_no', 'loyalty_card_no')\n",
    "                )\n",
    "loyalty_cardholders = (spark\n",
    "                        .table(LOYALTY_CARDHOLDERS)\n",
    "                        .filter(F.col('loyalty_cardholder_age_yrs') >= 18)\n",
    "                        .withColumnRenamed(\"loyalty_cardholder_acrm_id\", \"customer_rk\")\n",
    "                        .withColumnRenamed(\"loyalty_account_id\", \"account_no\")\n",
    "                        .select('account_no', 'customer_rk')\n",
    "                      )\n",
    "clients_info = loyalty_cards.join(loyalty_cardholders, on='account_no', how='inner')\n",
    "clients_info = clients_info.join(seg_sms, on='customer_rk', how='inner')"
   ]
  },
  {
   "cell_type": "code",
   "execution_count": 49,
   "id": "8d8a9ca3",
   "metadata": {},
   "outputs": [],
   "source": [
    "checks_headers_tc5 = checks_headers.join(clients_info, on='loyalty_card_no') #оставили чеки только доступных гостей"
   ]
  },
  {
   "cell_type": "code",
   "execution_count": 50,
   "id": "37fe8e58",
   "metadata": {},
   "outputs": [],
   "source": [
    "checks_items = (spark.table(CHECKS_ITEMS) \n",
    "                    .withColumnRenamed('plu_id', 'plu_code')\n",
    "                    .withColumnRenamed('turnover_no_vat_amt', 'zsalnovat')\n",
    "                    .withColumnRenamed('turnover_vat_rub_amt', 'zsale_vat')\n",
    "                    .withColumnRenamed('prime_cost_no_vat_amt', 'zcst_n')\n",
    "                    .withColumnRenamed('turnover_base_uom_amt', 'base_qty')\n",
    "                    .withColumnRenamed('discount_amt', 'zdiscount')\n",
    "                    .withColumnRenamed('fact_regular_promo_flg', 'zpromofl')\n",
    "                    .filter(F.col('rtl_txn_dt').between(start_date, end_date))\n",
    "                    .filter((F.col('zsalnovat') >= 0) & (F.col('base_qty') >= 0) & (F.col('zcst_n') > 0)) #keep only correct data\n",
    "                        .select('plu_code' #items id\n",
    "                                , 'rtl_txn_id' #cheques id\n",
    "                                , 'base_qty'\n",
    "                               )\n",
    "                   )\n"
   ]
  },
  {
   "cell_type": "code",
   "execution_count": 56,
   "id": "56e9d232",
   "metadata": {},
   "outputs": [],
   "source": [
    "plu_codes = plu_codes1 + plu_codes2"
   ]
  },
  {
   "cell_type": "code",
   "execution_count": 57,
   "id": "e8bf3cb0",
   "metadata": {},
   "outputs": [],
   "source": [
    "checks_items = checks_items.filter(F.col('plu_code').isin(plu_codes)) # только чеки с нужными plu"
   ]
  },
  {
   "cell_type": "code",
   "execution_count": 58,
   "id": "a40c619c",
   "metadata": {},
   "outputs": [],
   "source": [
    "checks_tc5 = checks_items.join(checks_headers_tc5, 'rtl_txn_id', how='inner')"
   ]
  },
  {
   "cell_type": "code",
   "execution_count": 59,
   "id": "c416da10",
   "metadata": {},
   "outputs": [],
   "source": [
    "accs = ['account_no']\n",
    "pdf = checks_tc5.groupby(accs).agg(F.sum('base_qty').alias('base_qty_per_period'))\n",
    "pdf = pdf.filter(F.col('base_qty_per_period') > 2)\n",
    "checks_tc5 = checks_tc5.join(pdf, on=accs)"
   ]
  },
  {
   "cell_type": "code",
   "execution_count": 60,
   "id": "56e7f550",
   "metadata": {},
   "outputs": [],
   "source": [
    "seg2 = (checks_tc5.select('customer_rk')\n",
    "                  .distinct()\n",
    "      )"
   ]
  },
  {
   "cell_type": "code",
   "execution_count": 61,
   "id": "0e19395e",
   "metadata": {},
   "outputs": [],
   "source": [
    "seg2 = seg2.join(seg1, 'customer_rk', 'inner')"
   ]
  },
  {
   "cell_type": "code",
   "execution_count": 62,
   "id": "26d2ab7f",
   "metadata": {},
   "outputs": [
    {
     "name": "stderr",
     "output_type": "stream",
     "text": [
      "                                                                                ]]]]]]]\r"
     ]
    }
   ],
   "source": [
    "seg2.write.parquet('temp1050_seg4', mode='overwrite')\n",
    "seg2 = spark.read.parquet('temp1050_seg4')"
   ]
  },
  {
   "cell_type": "code",
   "execution_count": 63,
   "id": "3255da2f",
   "metadata": {},
   "outputs": [
    {
     "name": "stderr",
     "output_type": "stream",
     "text": [
      "                                                                                \r"
     ]
    }
   ],
   "source": [
    "seg2_pd = seg2.toPandas()"
   ]
  },
  {
   "cell_type": "code",
   "execution_count": 65,
   "id": "d596d24c",
   "metadata": {},
   "outputs": [
    {
     "data": {
      "text/plain": [
       "136888"
      ]
     },
     "execution_count": 65,
     "metadata": {},
     "output_type": "execute_result"
    }
   ],
   "source": [
    "len(seg2_pd)"
   ]
  },
  {
   "cell_type": "markdown",
   "id": "079e5add",
   "metadata": {},
   "source": [
    "## Исключение из групп"
   ]
  },
  {
   "cell_type": "code",
   "execution_count": 140,
   "id": "6f09022c",
   "metadata": {},
   "outputs": [
    {
     "data": {
      "text/plain": [
       "set()"
      ]
     },
     "execution_count": 140,
     "metadata": {},
     "output_type": "execute_result"
    }
   ],
   "source": [
    "set(seg_pd[seg_pd['group'] == '2']['customer_rk']) - set(seg_pd[seg_pd['group'] == '1']['customer_rk'])"
   ]
  },
  {
   "cell_type": "code",
   "execution_count": null,
   "id": "b49da1a9",
   "metadata": {},
   "outputs": [],
   "source": [
    "seg_pd \n",
    "seg1_pd # (seg1)\n",
    "seg2_pd # (seg2)"
   ]
  },
  {
   "cell_type": "code",
   "execution_count": 102,
   "id": "1a1ffa36",
   "metadata": {},
   "outputs": [],
   "source": [
    "seg_smokers1 = seg_pd[seg_pd['group'] == '1']['customer_rk']\n",
    "seg_smokers2 = seg_pd[seg_pd['group'] == '2']['customer_rk']"
   ]
  },
  {
   "cell_type": "code",
   "execution_count": 103,
   "id": "ac9c4fa4",
   "metadata": {},
   "outputs": [],
   "source": [
    "seg_smokers1 = seg_smokers1.astype('int')"
   ]
  },
  {
   "cell_type": "code",
   "execution_count": 104,
   "id": "2e889971",
   "metadata": {},
   "outputs": [],
   "source": [
    "seg_smokers2 = seg_smokers2.astype('int')"
   ]
  },
  {
   "cell_type": "code",
   "execution_count": 108,
   "id": "7ea9689a",
   "metadata": {},
   "outputs": [],
   "source": [
    "seg1_smoke = pd.DataFrame(list(set(seg_smokers1) - set(seg_smokers2)), columns=['customer_rk'])"
   ]
  },
  {
   "cell_type": "code",
   "execution_count": 110,
   "id": "e73f9c25",
   "metadata": {},
   "outputs": [],
   "source": [
    "seg2_smoke = pd.DataFrame(list(set(seg_smokers2) - set(seg_smokers1)), columns=['customer_rk'])"
   ]
  },
  {
   "cell_type": "code",
   "execution_count": 111,
   "id": "81e39cdc",
   "metadata": {},
   "outputs": [],
   "source": [
    "seg1_pd = seg1_pd.astype('int')\n",
    "seg2_pd = seg2_pd.astype('int')"
   ]
  },
  {
   "cell_type": "code",
   "execution_count": 116,
   "id": "19653f61",
   "metadata": {},
   "outputs": [],
   "source": [
    "seg_stiks = pd.DataFrame(list(set(seg1_pd['customer_rk']) - set(seg2_pd['customer_rk'])), columns=['customer_rk'])"
   ]
  },
  {
   "cell_type": "code",
   "execution_count": 117,
   "id": "90119111",
   "metadata": {},
   "outputs": [],
   "source": [
    "seg_stiki_smoke = seg2_pd"
   ]
  },
  {
   "cell_type": "markdown",
   "id": "6a6c7df6",
   "metadata": {},
   "source": [
    "### Определение юз-кейсов"
   ]
  },
  {
   "cell_type": "code",
   "execution_count": 133,
   "id": "7972f30b",
   "metadata": {},
   "outputs": [],
   "source": [
    "var1 = spark.createDataFrame(seg1_smoke)\n",
    "var3 = spark.createDataFrame(seg_stiks)\n",
    "var4 = spark.createDataFrame(seg_stiki_smoke)"
   ]
  },
  {
   "cell_type": "code",
   "execution_count": 147,
   "id": "a04e9e20",
   "metadata": {},
   "outputs": [],
   "source": [
    "churn1_df = customers_usecase_churn.join(var1, 'customer_rk', 'inner')\n",
    "frequency1_df = customers_usecase_frequency.join(var1, 'customer_rk', 'inner')\n",
    "others1_df = var1.join(churn1_df, 'customer_rk', 'left_anti').join(frequency1_df, 'customer_rk', 'left_anti')"
   ]
  },
  {
   "cell_type": "code",
   "execution_count": 142,
   "id": "01f79a3a",
   "metadata": {},
   "outputs": [
    {
     "name": "stderr",
     "output_type": "stream",
     "text": [
      "                                                                                \r"
     ]
    }
   ],
   "source": [
    "churn1 = churn1_df.toPandas()"
   ]
  },
  {
   "cell_type": "code",
   "execution_count": 143,
   "id": "66ba3b27",
   "metadata": {},
   "outputs": [
    {
     "name": "stderr",
     "output_type": "stream",
     "text": [
      "                                                                                \r"
     ]
    }
   ],
   "source": [
    "frequency1 = frequency1_df.toPandas()"
   ]
  },
  {
   "cell_type": "code",
   "execution_count": 148,
   "id": "abc4c387",
   "metadata": {},
   "outputs": [
    {
     "name": "stderr",
     "output_type": "stream",
     "text": [
      "                                                                                \r"
     ]
    }
   ],
   "source": [
    "others1 = others1_df.toPandas()"
   ]
  },
  {
   "cell_type": "code",
   "execution_count": 149,
   "id": "cafa0658",
   "metadata": {},
   "outputs": [],
   "source": [
    "others1 = others1.astype('str')"
   ]
  },
  {
   "cell_type": "code",
   "execution_count": 150,
   "id": "b030d3d2",
   "metadata": {},
   "outputs": [],
   "source": [
    "cross1, upgrade1, ump1 = get_usecases(others1)"
   ]
  },
  {
   "cell_type": "code",
   "execution_count": 152,
   "id": "7e2b80ed",
   "metadata": {},
   "outputs": [
    {
     "name": "stdout",
     "output_type": "stream",
     "text": [
      "churn: 81221, frequency: 298082, cross: 250797, upgrade: 239302, ump: 147160 (all: 1016562)\n"
     ]
    }
   ],
   "source": [
    "print('churn: {}, frequency: {}, cross: {}, upgrade: {}, ump: {} (all: {})'\n",
    "      .format(len(churn1), len(frequency1), len(cross1), len(upgrade1), len(ump1), \n",
    "              len(churn1)+len(frequency1)+len(cross1)+len(upgrade1)+len(ump1)))"
   ]
  },
  {
   "cell_type": "code",
   "execution_count": 153,
   "id": "561d8b21",
   "metadata": {},
   "outputs": [],
   "source": [
    "churn3_df = customers_usecase_churn.join(var3, 'customer_rk', 'inner')\n",
    "frequency3_df = customers_usecase_frequency.join(var3, 'customer_rk', 'inner')\n",
    "others3_df = var3.join(churn3_df, 'customer_rk', 'left_anti').join(frequency3_df, 'customer_rk', 'left_anti')"
   ]
  },
  {
   "cell_type": "code",
   "execution_count": 154,
   "id": "7d84d51b",
   "metadata": {},
   "outputs": [
    {
     "name": "stderr",
     "output_type": "stream",
     "text": [
      "                                                                                \r"
     ]
    }
   ],
   "source": [
    "churn3 = churn3_df.toPandas()"
   ]
  },
  {
   "cell_type": "code",
   "execution_count": 155,
   "id": "af605587",
   "metadata": {},
   "outputs": [
    {
     "name": "stderr",
     "output_type": "stream",
     "text": [
      "                                                                                \r"
     ]
    }
   ],
   "source": [
    "frequency3 = frequency3_df.toPandas()"
   ]
  },
  {
   "cell_type": "code",
   "execution_count": 156,
   "id": "68687cb9",
   "metadata": {},
   "outputs": [
    {
     "name": "stderr",
     "output_type": "stream",
     "text": [
      "                                                                                \r"
     ]
    }
   ],
   "source": [
    "others3 = others3_df.toPandas()"
   ]
  },
  {
   "cell_type": "code",
   "execution_count": 157,
   "id": "880eb309",
   "metadata": {},
   "outputs": [],
   "source": [
    "others3 = others3.astype('str')"
   ]
  },
  {
   "cell_type": "code",
   "execution_count": 158,
   "id": "852c0cff",
   "metadata": {},
   "outputs": [],
   "source": [
    "cross3, upgrade3, ump3 = get_usecases(others3)"
   ]
  },
  {
   "cell_type": "code",
   "execution_count": 159,
   "id": "b9da0681",
   "metadata": {},
   "outputs": [
    {
     "name": "stdout",
     "output_type": "stream",
     "text": [
      "churn: 17925, frequency: 84685, cross: 71027, upgrade: 66419, ump: 41549 (all: 281605)\n"
     ]
    }
   ],
   "source": [
    "print('churn: {}, frequency: {}, cross: {}, upgrade: {}, ump: {} (all: {})'\n",
    "      .format(len(churn3), len(frequency3), len(cross3), len(upgrade3), len(ump3), \n",
    "              len(churn3)+len(frequency3)+len(cross3)+len(upgrade3)+len(ump3)))"
   ]
  },
  {
   "cell_type": "code",
   "execution_count": 160,
   "id": "2dcb073c",
   "metadata": {},
   "outputs": [],
   "source": [
    "churn4_df = customers_usecase_churn.join(var4, 'customer_rk', 'inner')\n",
    "frequency4_df = customers_usecase_frequency.join(var4, 'customer_rk', 'inner')\n",
    "others4_df = var4.join(churn4_df, 'customer_rk', 'left_anti').join(frequency4_df, 'customer_rk', 'left_anti')"
   ]
  },
  {
   "cell_type": "code",
   "execution_count": 161,
   "id": "257a86a6",
   "metadata": {},
   "outputs": [
    {
     "name": "stderr",
     "output_type": "stream",
     "text": [
      "                                                                                \r"
     ]
    }
   ],
   "source": [
    "churn4 = churn4_df.toPandas()"
   ]
  },
  {
   "cell_type": "code",
   "execution_count": 162,
   "id": "fc0d1d80",
   "metadata": {},
   "outputs": [
    {
     "name": "stderr",
     "output_type": "stream",
     "text": [
      "                                                                                \r"
     ]
    }
   ],
   "source": [
    "frequency4 = frequency4_df.toPandas()"
   ]
  },
  {
   "cell_type": "code",
   "execution_count": 163,
   "id": "e53feb3c",
   "metadata": {},
   "outputs": [
    {
     "name": "stderr",
     "output_type": "stream",
     "text": [
      "                                                                                \r"
     ]
    }
   ],
   "source": [
    "others4 = others4_df.toPandas()"
   ]
  },
  {
   "cell_type": "code",
   "execution_count": 164,
   "id": "7b5aa68c",
   "metadata": {},
   "outputs": [],
   "source": [
    "others4 = others4.astype('str')"
   ]
  },
  {
   "cell_type": "code",
   "execution_count": 165,
   "id": "71b65a1e",
   "metadata": {},
   "outputs": [],
   "source": [
    "cross4, upgrade4, ump4 = get_usecases(others4)"
   ]
  },
  {
   "cell_type": "code",
   "execution_count": 166,
   "id": "f9a1f908",
   "metadata": {},
   "outputs": [
    {
     "name": "stdout",
     "output_type": "stream",
     "text": [
      "churn: 5738, frequency: 17123, cross: 44397, upgrade: 42406, ump: 27224 (all: 136888)\n"
     ]
    }
   ],
   "source": [
    "print('churn: {}, frequency: {}, cross: {}, upgrade: {}, ump: {} (all: {})'\n",
    "      .format(len(churn4), len(frequency4), len(cross4), len(upgrade4), len(ump4), \n",
    "              len(churn4)+len(frequency4)+len(cross4)+len(upgrade4)+len(ump4)))"
   ]
  },
  {
   "cell_type": "markdown",
   "id": "624fa87e",
   "metadata": {},
   "source": [
    "#### Совершеннолетние курильщики. Те, кто покупал сигареты 3 и более раз за последние 3 месяца с применением карты лояльности, доступные в вайбер и смс."
   ]
  },
  {
   "cell_type": "code",
   "execution_count": 11,
   "id": "d968c609",
   "metadata": {},
   "outputs": [],
   "source": [
    "start_date = datetime.date(2021, 11, 3)\n",
    "end_date = datetime.date(2022, 2, 2)"
   ]
  },
  {
   "cell_type": "code",
   "execution_count": 12,
   "id": "99cd4d29",
   "metadata": {},
   "outputs": [],
   "source": [
    "checks_headers = (spark.table(CHECKS_HEADERS)\n",
    "                      .filter(F.col('rtl_txn_dt').between(start_date, end_date))\n",
    "                      .filter((F.col('loyalty_card_no') != '') & (F.col('loyalty_card_no').isNotNull()))\n",
    "                      .filter(F.col('financial_unit_format_dk') == 'D')\n",
    "                      .filter(F.col('rtl_txn_cancel_flg') == 0)\n",
    "                      .select('rtl_txn_id', 'loyalty_card_no')\n",
    "                     )\n"
   ]
  },
  {
   "cell_type": "code",
   "execution_count": 13,
   "id": "4a415df3",
   "metadata": {},
   "outputs": [],
   "source": [
    "loyalty_cards = (spark\n",
    "                    .table(LOYALTY_CARDS)\n",
    "                    .withColumnRenamed(\"loyalty_card_id\", \"loyalty_card_no\")\n",
    "                    .withColumnRenamed(\"loyalty_account_id\", \"account_no\")\n",
    "                    .withColumnRenamed(\"loyalty_account_acrm_id\", \"account_rk\")\n",
    "                    .select('account_no', 'loyalty_card_no')\n",
    "                )\n",
    "loyalty_cardholders = (spark\n",
    "                        .table(LOYALTY_CARDHOLDERS)\n",
    "                        .filter(F.col('loyalty_cardholder_age_yrs') >= 18)\n",
    "                        .withColumnRenamed(\"loyalty_cardholder_acrm_id\", \"customer_rk\")\n",
    "                        .withColumnRenamed(\"loyalty_account_id\", \"account_no\")\n",
    "                        .select('account_no', 'customer_rk')\n",
    "                      )\n",
    "clients_info = loyalty_cards.join(loyalty_cardholders, on='account_no', how='inner')\n",
    "clients_info = clients_info.join(seg_sms, on='customer_rk', how='inner')"
   ]
  },
  {
   "cell_type": "code",
   "execution_count": 14,
   "id": "f74bb79c",
   "metadata": {},
   "outputs": [],
   "source": [
    "checks_headers_tc5 = checks_headers.join(clients_info, on='loyalty_card_no') #оставили чеки только доступных гостей"
   ]
  },
  {
   "cell_type": "code",
   "execution_count": 15,
   "id": "8d5362e3",
   "metadata": {},
   "outputs": [],
   "source": [
    "checks_items = (spark.table(CHECKS_ITEMS) \n",
    "                    .withColumnRenamed('plu_id', 'plu_code')\n",
    "                    .withColumnRenamed('turnover_no_vat_amt', 'zsalnovat')\n",
    "                    .withColumnRenamed('turnover_vat_rub_amt', 'zsale_vat')\n",
    "                    .withColumnRenamed('prime_cost_no_vat_amt', 'zcst_n')\n",
    "                    .withColumnRenamed('turnover_base_uom_amt', 'base_qty')\n",
    "                    .withColumnRenamed('discount_amt', 'zdiscount')\n",
    "                    .withColumnRenamed('fact_regular_promo_flg', 'zpromofl')\n",
    "                    .filter(F.col('rtl_txn_dt').between(start_date, end_date))\n",
    "                    .filter((F.col('zsalnovat') >= 0) & (F.col('base_qty') >= 0) & (F.col('zcst_n') > 0)) #keep only correct data\n",
    "                        .select('plu_code' #items id\n",
    "                                , 'rtl_txn_id' #cheques id\n",
    "                                , 'base_qty'\n",
    "                               )\n",
    "                   )\n"
   ]
  },
  {
   "cell_type": "code",
   "execution_count": 16,
   "id": "f3887e28",
   "metadata": {},
   "outputs": [],
   "source": [
    "plu_hierarchy_lvl_4_dk = ['FD1001001']\n",
    "# syntethic_category_id = [51,26,52]\n",
    "# plu_brand_code = ['0989', 'N381', '3422']\n",
    "# plu_not_in = [4138521]"
   ]
  },
  {
   "cell_type": "code",
   "execution_count": 17,
   "id": "c8dbac44",
   "metadata": {},
   "outputs": [
    {
     "name": "stderr",
     "output_type": "stream",
     "text": [
      "                                                                                \r"
     ]
    }
   ],
   "source": [
    "plu_codes_cat = (spark\n",
    "                 .table(PRODUCTS)\n",
    "                 .filter(F.col('plu_hierarchy_lvl_4_dk').isin(plu_hierarchy_lvl_4_dk))\n",
    "#                  .filter(F.col('plu_brand_code').isin(plu_brand_code))\n",
    "#                  .filter(F.col('syntethic_category_id').isin(syntethic_category_id))\n",
    "#                  .filter(~F.col('plu_id').isin(plu_not_in))\n",
    "                 .select('plu_id')\n",
    "                 .distinct()\n",
    "                 .toPandas()['plu_id']\n",
    "                 .tolist()\n",
    "                )"
   ]
  },
  {
   "cell_type": "code",
   "execution_count": 18,
   "id": "5815c030",
   "metadata": {},
   "outputs": [],
   "source": [
    "checks_items = checks_items.filter(F.col('plu_code').isin(plu_codes_cat)) # только чеки с нужными plu"
   ]
  },
  {
   "cell_type": "code",
   "execution_count": 19,
   "id": "bb1cbef1",
   "metadata": {},
   "outputs": [],
   "source": [
    "checks_tc5 = checks_items.join(checks_headers_tc5, 'rtl_txn_id', how='inner')"
   ]
  },
  {
   "cell_type": "code",
   "execution_count": 20,
   "id": "89e06b29",
   "metadata": {},
   "outputs": [],
   "source": [
    "accs = ['account_no']\n",
    "pdf = checks_tc5.groupby(accs).agg(F.sum('base_qty').alias('base_qty_per_period'))\n",
    "pdf = pdf.filter(F.col('base_qty_per_period') >= 3)\n",
    "checks_tc5 = checks_tc5.join(pdf, on=accs)"
   ]
  },
  {
   "cell_type": "code",
   "execution_count": 21,
   "id": "57822066",
   "metadata": {},
   "outputs": [],
   "source": [
    "seg = (checks_tc5.select('customer_rk')\n",
    "                 .distinct()\n",
    "      )"
   ]
  },
  {
   "cell_type": "code",
   "execution_count": 22,
   "id": "d2f90841",
   "metadata": {},
   "outputs": [
    {
     "name": "stderr",
     "output_type": "stream",
     "text": [
      "                                                                                095]]]]\r"
     ]
    }
   ],
   "source": [
    "seg.write.parquet('temp1050_seg', mode='overwrite')\n",
    "seg = spark.read.parquet('temp1050_seg')"
   ]
  },
  {
   "cell_type": "code",
   "execution_count": 23,
   "id": "d4d95e41",
   "metadata": {},
   "outputs": [
    {
     "name": "stderr",
     "output_type": "stream",
     "text": [
      "                                                                                \r"
     ]
    },
    {
     "data": {
      "text/plain": [
       "2910989"
      ]
     },
     "execution_count": 23,
     "metadata": {},
     "output_type": "execute_result"
    }
   ],
   "source": [
    "seg.count()"
   ]
  },
  {
   "cell_type": "markdown",
   "id": "4c0305ba",
   "metadata": {},
   "source": [
    "### Определение юз-кейсов"
   ]
  },
  {
   "cell_type": "code",
   "execution_count": 24,
   "id": "0fda08ab",
   "metadata": {},
   "outputs": [],
   "source": [
    "churn1_df = customers_usecase_churn.join(seg, 'customer_rk', 'inner')\n",
    "frequency1_df = customers_usecase_frequency.join(seg, 'customer_rk', 'inner')\n",
    "others1_df = seg.join(churn1_df, 'customer_rk', 'left_anti').join(frequency1_df, 'customer_rk', 'left_anti')"
   ]
  },
  {
   "cell_type": "code",
   "execution_count": 25,
   "id": "1971e48b",
   "metadata": {},
   "outputs": [
    {
     "name": "stderr",
     "output_type": "stream",
     "text": [
      "                                                                                \r"
     ]
    }
   ],
   "source": [
    "churn1 = churn1_df.toPandas()"
   ]
  },
  {
   "cell_type": "code",
   "execution_count": 26,
   "id": "4698e812",
   "metadata": {},
   "outputs": [
    {
     "name": "stderr",
     "output_type": "stream",
     "text": [
      "                                                                                \r"
     ]
    }
   ],
   "source": [
    "frequency1 = frequency1_df.toPandas()"
   ]
  },
  {
   "cell_type": "code",
   "execution_count": 27,
   "id": "dc483970",
   "metadata": {},
   "outputs": [
    {
     "name": "stderr",
     "output_type": "stream",
     "text": [
      "                                                                                \r"
     ]
    }
   ],
   "source": [
    "others1 = others1_df.toPandas()"
   ]
  },
  {
   "cell_type": "code",
   "execution_count": 28,
   "id": "e72275b7",
   "metadata": {},
   "outputs": [],
   "source": [
    "others1 = others1.astype('str')"
   ]
  },
  {
   "cell_type": "code",
   "execution_count": 29,
   "id": "dbec39c3",
   "metadata": {},
   "outputs": [],
   "source": [
    "cross1, upgrade1, ump1 = get_usecases(others1)"
   ]
  },
  {
   "cell_type": "code",
   "execution_count": 30,
   "id": "7d481400",
   "metadata": {},
   "outputs": [
    {
     "name": "stdout",
     "output_type": "stream",
     "text": [
      "churn: 220617, frequency: 728059, cross: 768790, upgrade: 738249, ump: 455274 (all: 2910989)\n"
     ]
    }
   ],
   "source": [
    "print('churn: {}, frequency: {}, cross: {}, upgrade: {}, ump: {} (all: {})'\n",
    "      .format(len(churn1), len(frequency1), len(cross1), len(upgrade1), len(ump1), \n",
    "              len(churn1)+len(frequency1)+len(cross1)+len(upgrade1)+len(ump1)))"
   ]
  },
  {
   "cell_type": "code",
   "execution_count": null,
   "id": "05e13190",
   "metadata": {},
   "outputs": [],
   "source": []
  }
 ],
 "metadata": {
  "kernelspec": {
   "display_name": "Python 3 (ipykernel)",
   "language": "python",
   "name": "python3"
  },
  "language_info": {
   "codemirror_mode": {
    "name": "ipython",
    "version": 3
   },
   "file_extension": ".py",
   "mimetype": "text/x-python",
   "name": "python",
   "nbconvert_exporter": "python",
   "pygments_lexer": "ipython3",
   "version": "3.7.10"
  }
 },
 "nbformat": 4,
 "nbformat_minor": 5
}
