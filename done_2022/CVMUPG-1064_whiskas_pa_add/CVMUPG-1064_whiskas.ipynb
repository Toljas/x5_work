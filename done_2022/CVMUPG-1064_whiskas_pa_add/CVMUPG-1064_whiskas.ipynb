{
 "cells": [
  {
   "cell_type": "markdown",
   "id": "1d09dc06",
   "metadata": {},
   "source": [
    "https://jira.x5.ru/browse/CVMUPG-1064"
   ]
  },
  {
   "cell_type": "code",
   "execution_count": 1,
   "id": "511389c6",
   "metadata": {},
   "outputs": [],
   "source": [
    "name = 'CVMUPG-1064_whiskas_pa_add'"
   ]
  },
  {
   "cell_type": "code",
   "execution_count": 2,
   "id": "22ff3b76",
   "metadata": {},
   "outputs": [],
   "source": [
    "import sys\n",
    "import pandas as pd\n",
    "import pyspark.sql.functions as F\n",
    "sys.path.append('/home/jovyan/cvm_upgrade/')\n",
    "sys.path.append('/home/jovyan/cvm_upgrade/upgrade/')\n",
    "sys.path.append('/home/jovyan/glow-byte-filters-pyspark')\n",
    "sys.path.append('/home/jovyan/x5_some_tasks/Osipov/')\n",
    "from upgrade.post_analysis2.tools.groups_metrics_aggregation import GroupsMetricsAggregation\n",
    "from upgrade.post_analysis2.tools.guests_metrics_preprocessing import GuestsMetricsPreprocessing\n",
    "from upgrade.post_analysis2.tools.post_analysis_params import PostAnalysisParams\n",
    "from upgrade.post_analysis2.tools.metric_names_mapper import map_col_names_to_russian\n",
    "from upgrade.post_analysis2.tools.experiment_participants import ExperimentParticipants\n",
    "from upgrade.post_analysis2.tools.experiment_params import ExperimentParams\n",
    "import datetime\n",
    "from datetime import timedelta\n",
    "from spark import *\n",
    "from utils_osipov import *\n",
    "\n",
    "%load_ext autoreload\n",
    "%autoreload 2\n",
    "\n",
    "pd.options.display.float_format = '{:,.2f}'.format\n",
    "pd.options.display.max_rows = 500"
   ]
  },
  {
   "cell_type": "code",
   "execution_count": 3,
   "id": "4271a422",
   "metadata": {
    "collapsed": false,
    "jupyter": {
     "outputs_hidden": false
    },
    "pycharm": {
     "name": "#%%\n"
    }
   },
   "outputs": [
    {
     "name": "stderr",
     "output_type": "stream",
     "text": [
      "Setting default log level to \"WARN\".\n",
      "To adjust logging level use sc.setLogLevel(newLevel). For SparkR, use setLogLevel(newLevel).\n",
      "22/02/11 14:15:51 WARN cluster.YarnSchedulerBackend$YarnSchedulerEndpoint: Attempted to request executors before the AM has registered!\n"
     ]
    }
   ],
   "source": [
    "sc, spark = restart_spark(name, 100, executor_memory=\"3G\", executor_cores=5, driver_memory=\"12G\",\n",
    "                          additional_params={\"spark.sql.shuffle.partitions\": \"200\"})\n",
    "sc.setLogLevel('ERROR')"
   ]
  },
  {
   "cell_type": "code",
   "execution_count": 4,
   "id": "dd79843c",
   "metadata": {
    "scrolled": true
   },
   "outputs": [],
   "source": [
    "LOYALTY_CARDS = \"hive_ssa_tc5.loyalty_card\"\n",
    "LOYALTY_CARDHOLDERS = \"hive_ssa_tc5.loyalty_cardholder\"\n",
    "ACCOUNTS = \"hive_ssa_tc5.account\"\n",
    "CVM5_GUESTS = \"hive_cvm_acrm.cvm5_guests\"\n",
    "\n",
    "DIM_STORE = \"hive_ssa_main.dim_store\"\n",
    "CHECKS_HEADERS = \"hive_ssa_main.fct_rtl_txn\"\n",
    "CHECKS_ITEMS = \"hive_ssa_main.fct_rtl_txn_item\"\n",
    "PRODUCTS = \"hive_ssa_tc5.cvm_product\""
   ]
  },
  {
   "cell_type": "code",
   "execution_count": 138,
   "id": "6cd3ccf9",
   "metadata": {},
   "outputs": [],
   "source": [
    "val = pd.DataFrame({'label': ['label' + str(i) for i in range(1, 8)]})"
   ]
  },
  {
   "cell_type": "code",
   "execution_count": 139,
   "id": "783559aa",
   "metadata": {},
   "outputs": [
    {
     "data": {
      "text/html": [
       "<div>\n",
       "<style scoped>\n",
       "    .dataframe tbody tr th:only-of-type {\n",
       "        vertical-align: middle;\n",
       "    }\n",
       "\n",
       "    .dataframe tbody tr th {\n",
       "        vertical-align: top;\n",
       "    }\n",
       "\n",
       "    .dataframe thead th {\n",
       "        text-align: right;\n",
       "    }\n",
       "</style>\n",
       "<table border=\"1\" class=\"dataframe\">\n",
       "  <thead>\n",
       "    <tr style=\"text-align: right;\">\n",
       "      <th></th>\n",
       "      <th>label</th>\n",
       "    </tr>\n",
       "  </thead>\n",
       "  <tbody>\n",
       "    <tr>\n",
       "      <th>0</th>\n",
       "      <td>label1</td>\n",
       "    </tr>\n",
       "    <tr>\n",
       "      <th>1</th>\n",
       "      <td>label2</td>\n",
       "    </tr>\n",
       "    <tr>\n",
       "      <th>2</th>\n",
       "      <td>label3</td>\n",
       "    </tr>\n",
       "    <tr>\n",
       "      <th>3</th>\n",
       "      <td>label4</td>\n",
       "    </tr>\n",
       "    <tr>\n",
       "      <th>4</th>\n",
       "      <td>label5</td>\n",
       "    </tr>\n",
       "    <tr>\n",
       "      <th>5</th>\n",
       "      <td>label6</td>\n",
       "    </tr>\n",
       "    <tr>\n",
       "      <th>6</th>\n",
       "      <td>label7</td>\n",
       "    </tr>\n",
       "  </tbody>\n",
       "</table>\n",
       "</div>"
      ],
      "text/plain": [
       "    label\n",
       "0  label1\n",
       "1  label2\n",
       "2  label3\n",
       "3  label4\n",
       "4  label5\n",
       "5  label6\n",
       "6  label7"
      ]
     },
     "execution_count": 139,
     "metadata": {},
     "output_type": "execute_result"
    }
   ],
   "source": [
    "val"
   ]
  },
  {
   "cell_type": "markdown",
   "id": "e4781852",
   "metadata": {},
   "source": [
    "### U-27-11-mars-whiskas-postavschik-group7"
   ]
  },
  {
   "cell_type": "code",
   "execution_count": 140,
   "id": "040bc56d",
   "metadata": {
    "collapsed": false,
    "jupyter": {
     "outputs_hidden": false
    },
    "pycharm": {
     "name": "#%%\n"
    }
   },
   "outputs": [],
   "source": [
    "camp_id = 'U-27-11-mars-whiskas-postavschik-group7'\n",
    "\n",
    "experiment_params = ExperimentParams(**{\n",
    "    # Camp wave id нужно записать в виде мапы из id в префиксы.\n",
    "    # Префиксы ни на что не влияют, просто для более красивого названия групп\n",
    "    # Заполняются camp_wave_id. Если для контроля и теста одинаковый, то пишем два раза\n",
    "    'map_camp_wave_ids_to_suffixes': {\n",
    "        75531: \"sms_viber_tg\",\n",
    "        75531: \"sms_viber_cg\"\n",
    "    },\n",
    "\n",
    "    # communication period with guest (sending sms, push, etc.)\n",
    "    'date_communication_from': '2021-12-14',\n",
    "    'date_communication_to': '2021-12-20',\n",
    "\n",
    "    'wave_ids': [\n",
    "        75693 #если нет, то -1\n",
    "    ],\n",
    "    \n",
    "    'communication_costs': {\n",
    "        'sms': 1.38,\n",
    "        'viber': 1.32,\n",
    "        'email': 0.0083\n",
    "    }\n",
    "})\n",
    "#0_ + camp_wave_id +_sms_viber_ + cg (если номера волн равны) / tg (если номера волн разные)"
   ]
  },
  {
   "cell_type": "code",
   "execution_count": 141,
   "id": "db492025",
   "metadata": {
    "collapsed": false,
    "jupyter": {
     "outputs_hidden": false
    },
    "pycharm": {
     "name": "#%%\n"
    },
    "scrolled": true
   },
   "outputs": [],
   "source": [
    "experiment_guests = ExperimentParticipants(spark, experiment_params)\n",
    "experiment_guests_communications = experiment_guests.extract()"
   ]
  },
  {
   "cell_type": "code",
   "execution_count": 142,
   "id": "c251082f",
   "metadata": {},
   "outputs": [],
   "source": [
    "if len(list(experiment_params.map_camp_wave_ids_to_suffixes.keys())) > 1:\n",
    "    if str(list(experiment_params.map_camp_wave_ids_to_suffixes.keys())[0]) != str(list(experiment_params.map_camp_wave_ids_to_suffixes.keys())[1]):\n",
    "        guests_tg = (experiment_guests_communications\n",
    "                  .filter(F.col('group_name') == '0_' +\n",
    "                        str(list(experiment_params.map_camp_wave_ids_to_suffixes.keys())[0]) + '_' +\n",
    "                        list(experiment_params.map_camp_wave_ids_to_suffixes.values())[0])\n",
    "                  .select('customer_rk').distinct()\n",
    "                 )\n",
    "\n",
    "        guests_cg = (experiment_guests_communications\n",
    "                  .filter(F.col('group_name') == '0_' +\n",
    "                        str(list(experiment_params.map_camp_wave_ids_to_suffixes.keys())[1]) + '_' +\n",
    "                        list(experiment_params.map_camp_wave_ids_to_suffixes.values())[1])\n",
    "                  .select('customer_rk').distinct()\n",
    "                 )\n",
    "    else:\n",
    "        print(\"Error - check the camp waves ids\")\n",
    "else:\n",
    "    guests_tg = (experiment_guests_communications\n",
    "              .filter(F.col('group_name') == '0_' +\n",
    "                    str(list(experiment_params.map_camp_wave_ids_to_suffixes.keys())[0]) + '_' +\n",
    "                    list(experiment_params.map_camp_wave_ids_to_suffixes.values())[0])\n",
    "              .select('customer_rk').distinct()\n",
    "             )\n",
    "\n",
    "    guests_cg = (experiment_guests_communications\n",
    "              .filter(F.col('group_name') == '1_' +\n",
    "                    str(list(experiment_params.map_camp_wave_ids_to_suffixes.keys())[0]) + '_' +\n",
    "                    list(experiment_params.map_camp_wave_ids_to_suffixes.values())[0])\n",
    "              .select('customer_rk').distinct()\n",
    "             )"
   ]
  },
  {
   "cell_type": "code",
   "execution_count": 143,
   "id": "54360a6e",
   "metadata": {},
   "outputs": [],
   "source": [
    "dt1 = datetime.datetime.strptime(experiment_params.date_communication_from, '%Y-%m-%d')\n",
    "dt2 = datetime.datetime.strptime(experiment_params.date_communication_to, '%Y-%m-%d')\n",
    "start_date = datetime.date(dt1.year, dt1.month, dt1.day)\n",
    "end_date = datetime.date(dt2.year, dt2.month, dt2.day)"
   ]
  },
  {
   "cell_type": "code",
   "execution_count": 1,
   "id": "6e8b7cfd",
   "metadata": {},
   "outputs": [],
   "source": [
    "plu_codes = [4118758,4118759,4118761,4118763,4118765,4118766,4118770,4118771,4118772,4118773,4118774,\n",
    "             4118775,4118780,4118781,4118782,4121237,4121239,4118764,4118779]"
   ]
  },
  {
   "cell_type": "code",
   "execution_count": 145,
   "id": "ebb13128",
   "metadata": {},
   "outputs": [
    {
     "name": "stderr",
     "output_type": "stream",
     "text": [
      "[Stage 244:(829 + 225) / 3915][Stage 245:(45 + 69) / 1221][Stage 247:(79 + 47) / 3915]22/02/11 19:24:08 ERROR cluster.YarnScheduler: Lost executor 542 on mn-hd0171.x5.ru: Unable to create executor due to Unable to register with external shuffle server due to : java.util.concurrent.TimeoutException: Timeout waiting for task.\n",
      "22/02/11 19:24:08 ERROR cluster.YarnScheduler: Lost executor 533 on mn-hd0171.x5.ru: Unable to create executor due to Unable to register with external shuffle server due to : java.util.concurrent.TimeoutException: Timeout waiting for task.\n",
      "[Stage 244:(830 + 219) / 3915][Stage 245:(45 + 69) / 1221][Stage 247:(79 + 47) / 3915]22/02/11 19:24:08 ERROR cluster.YarnScheduler: Lost executor 534 on mn-hd0171.x5.ru: Unable to create executor due to Unable to register with external shuffle server due to : java.util.concurrent.TimeoutException: Timeout waiting for task.\n",
      "[Stage 244:(876 + 201) / 3915][Stage 245:(49 + 75) / 1221][Stage 247:(86 + 50) / 3915]22/02/11 19:24:10 ERROR cluster.YarnScheduler: Lost executor 540 on mn-hd0171.x5.ru: Unable to create executor due to Unable to register with external shuffle server due to : java.util.concurrent.TimeoutException: Timeout waiting for task.\n",
      "                                                                                 200]]5]]]]]\r"
     ]
    }
   ],
   "source": [
    "seg_pd_cg = get_segment_grouped_several_plu(spark, \n",
    "                    start_date, \n",
    "                    end_date, \n",
    "                    plu_codes,\n",
    "                    guests=guests_cg)"
   ]
  },
  {
   "cell_type": "code",
   "execution_count": 146,
   "id": "31b4aae0",
   "metadata": {},
   "outputs": [],
   "source": [
    "seg_pd_cg = seg_pd_cg.sort_values('label').reset_index(drop=True)"
   ]
  },
  {
   "cell_type": "code",
   "execution_count": 147,
   "id": "76d8d62a",
   "metadata": {},
   "outputs": [],
   "source": [
    "val = pd.merge(val, seg_pd_cg, 'left', 'label')"
   ]
  },
  {
   "cell_type": "code",
   "execution_count": 148,
   "id": "aa19aa16",
   "metadata": {},
   "outputs": [
    {
     "data": {
      "text/html": [
       "<div>\n",
       "<style scoped>\n",
       "    .dataframe tbody tr th:only-of-type {\n",
       "        vertical-align: middle;\n",
       "    }\n",
       "\n",
       "    .dataframe tbody tr th {\n",
       "        vertical-align: top;\n",
       "    }\n",
       "\n",
       "    .dataframe thead th {\n",
       "        text-align: right;\n",
       "    }\n",
       "</style>\n",
       "<table border=\"1\" class=\"dataframe\">\n",
       "  <thead>\n",
       "    <tr style=\"text-align: right;\">\n",
       "      <th></th>\n",
       "      <th>label</th>\n",
       "      <th>qty_checks</th>\n",
       "    </tr>\n",
       "  </thead>\n",
       "  <tbody>\n",
       "    <tr>\n",
       "      <th>0</th>\n",
       "      <td>label1</td>\n",
       "      <td>42</td>\n",
       "    </tr>\n",
       "    <tr>\n",
       "      <th>1</th>\n",
       "      <td>label2</td>\n",
       "      <td>15</td>\n",
       "    </tr>\n",
       "    <tr>\n",
       "      <th>2</th>\n",
       "      <td>label3</td>\n",
       "      <td>7</td>\n",
       "    </tr>\n",
       "    <tr>\n",
       "      <th>3</th>\n",
       "      <td>label4</td>\n",
       "      <td>7</td>\n",
       "    </tr>\n",
       "    <tr>\n",
       "      <th>4</th>\n",
       "      <td>label5</td>\n",
       "      <td>5</td>\n",
       "    </tr>\n",
       "    <tr>\n",
       "      <th>5</th>\n",
       "      <td>label6</td>\n",
       "      <td>2</td>\n",
       "    </tr>\n",
       "    <tr>\n",
       "      <th>6</th>\n",
       "      <td>label7</td>\n",
       "      <td>4</td>\n",
       "    </tr>\n",
       "  </tbody>\n",
       "</table>\n",
       "</div>"
      ],
      "text/plain": [
       "    label  qty_checks\n",
       "0  label1          42\n",
       "1  label2          15\n",
       "2  label3           7\n",
       "3  label4           7\n",
       "4  label5           5\n",
       "5  label6           2\n",
       "6  label7           4"
      ]
     },
     "execution_count": 148,
     "metadata": {},
     "output_type": "execute_result"
    }
   ],
   "source": [
    "val"
   ]
  },
  {
   "cell_type": "markdown",
   "id": "e2694e7f",
   "metadata": {},
   "source": [
    "### U-27-11-mars-whiskas-postavschik-group6"
   ]
  },
  {
   "cell_type": "code",
   "execution_count": 149,
   "id": "7600c64f",
   "metadata": {
    "collapsed": false,
    "jupyter": {
     "outputs_hidden": false
    },
    "pycharm": {
     "name": "#%%\n"
    }
   },
   "outputs": [],
   "source": [
    "camp_id = 'U-27-11-mars-whiskas-postavschik-group6'\n",
    "\n",
    "experiment_params = ExperimentParams(**{\n",
    "    # Camp wave id нужно записать в виде мапы из id в префиксы.\n",
    "    # Префиксы ни на что не влияют, просто для более красивого названия групп\n",
    "    # Заполняются camp_wave_id. Если для контроля и теста одинаковый, то пишем два раза\n",
    "    'map_camp_wave_ids_to_suffixes': {\n",
    "        75494: \"sms_viber_tg\",\n",
    "        75494: \"sms_viber_cg\"\n",
    "    },\n",
    "\n",
    "    # communication period with guest (sending sms, push, etc.)\n",
    "    'date_communication_from': '2021-12-14',\n",
    "    'date_communication_to': '2021-12-20',\n",
    "\n",
    "    'wave_ids': [\n",
    "        75663 #если нет, то -1\n",
    "    ],\n",
    "    \n",
    "    'communication_costs': {\n",
    "        'sms': 1.38,\n",
    "        'viber': 1.32,\n",
    "        'email': 0.0083\n",
    "    }\n",
    "})\n",
    "#0_ + camp_wave_id +_sms_viber_ + cg (если номера волн равны) / tg (если номера волн разные)"
   ]
  },
  {
   "cell_type": "code",
   "execution_count": 150,
   "id": "44b86a3a",
   "metadata": {
    "collapsed": false,
    "jupyter": {
     "outputs_hidden": false
    },
    "pycharm": {
     "name": "#%%\n"
    },
    "scrolled": true
   },
   "outputs": [],
   "source": [
    "experiment_guests = ExperimentParticipants(spark, experiment_params)\n",
    "experiment_guests_communications = experiment_guests.extract()"
   ]
  },
  {
   "cell_type": "code",
   "execution_count": 151,
   "id": "2e87e9ab",
   "metadata": {},
   "outputs": [],
   "source": [
    "if len(list(experiment_params.map_camp_wave_ids_to_suffixes.keys())) > 1:\n",
    "    if str(list(experiment_params.map_camp_wave_ids_to_suffixes.keys())[0]) != str(list(experiment_params.map_camp_wave_ids_to_suffixes.keys())[1]):\n",
    "        guests_tg = (experiment_guests_communications\n",
    "                  .filter(F.col('group_name') == '0_' +\n",
    "                        str(list(experiment_params.map_camp_wave_ids_to_suffixes.keys())[0]) + '_' +\n",
    "                        list(experiment_params.map_camp_wave_ids_to_suffixes.values())[0])\n",
    "                  .select('customer_rk').distinct()\n",
    "                 )\n",
    "\n",
    "        guests_cg = (experiment_guests_communications\n",
    "                  .filter(F.col('group_name') == '0_' +\n",
    "                        str(list(experiment_params.map_camp_wave_ids_to_suffixes.keys())[1]) + '_' +\n",
    "                        list(experiment_params.map_camp_wave_ids_to_suffixes.values())[1])\n",
    "                  .select('customer_rk').distinct()\n",
    "                 )\n",
    "    else:\n",
    "        print(\"Error - check the camp waves ids\")\n",
    "else:\n",
    "    guests_tg = (experiment_guests_communications\n",
    "              .filter(F.col('group_name') == '0_' +\n",
    "                    str(list(experiment_params.map_camp_wave_ids_to_suffixes.keys())[0]) + '_' +\n",
    "                    list(experiment_params.map_camp_wave_ids_to_suffixes.values())[0])\n",
    "              .select('customer_rk').distinct()\n",
    "             )\n",
    "\n",
    "    guests_cg = (experiment_guests_communications\n",
    "              .filter(F.col('group_name') == '1_' +\n",
    "                    str(list(experiment_params.map_camp_wave_ids_to_suffixes.keys())[0]) + '_' +\n",
    "                    list(experiment_params.map_camp_wave_ids_to_suffixes.values())[0])\n",
    "              .select('customer_rk').distinct()\n",
    "             )"
   ]
  },
  {
   "cell_type": "code",
   "execution_count": 152,
   "id": "05787204",
   "metadata": {},
   "outputs": [],
   "source": [
    "dt1 = datetime.datetime.strptime(experiment_params.date_communication_from, '%Y-%m-%d')\n",
    "dt2 = datetime.datetime.strptime(experiment_params.date_communication_to, '%Y-%m-%d')\n",
    "start_date = datetime.date(dt1.year, dt1.month, dt1.day)\n",
    "end_date = datetime.date(dt2.year, dt2.month, dt2.day)"
   ]
  },
  {
   "cell_type": "code",
   "execution_count": 153,
   "id": "64ee76e1",
   "metadata": {},
   "outputs": [
    {
     "name": "stderr",
     "output_type": "stream",
     "text": [
      "                                                                                557]]]]]]]]\r"
     ]
    }
   ],
   "source": [
    "seg_pd_cg = get_segment_grouped_several_plu(spark, \n",
    "                    start_date, \n",
    "                    end_date, \n",
    "                    plu_codes,\n",
    "                    guests=guests_cg)"
   ]
  },
  {
   "cell_type": "code",
   "execution_count": 154,
   "id": "ea7de00f",
   "metadata": {},
   "outputs": [],
   "source": [
    "seg_pd_cg = seg_pd_cg.sort_values('label').reset_index(drop=True)"
   ]
  },
  {
   "cell_type": "code",
   "execution_count": 155,
   "id": "1d279958",
   "metadata": {},
   "outputs": [],
   "source": [
    "val = pd.merge(val, seg_pd_cg, 'left', 'label')"
   ]
  },
  {
   "cell_type": "code",
   "execution_count": 156,
   "id": "625d6e7f",
   "metadata": {},
   "outputs": [
    {
     "data": {
      "text/html": [
       "<div>\n",
       "<style scoped>\n",
       "    .dataframe tbody tr th:only-of-type {\n",
       "        vertical-align: middle;\n",
       "    }\n",
       "\n",
       "    .dataframe tbody tr th {\n",
       "        vertical-align: top;\n",
       "    }\n",
       "\n",
       "    .dataframe thead th {\n",
       "        text-align: right;\n",
       "    }\n",
       "</style>\n",
       "<table border=\"1\" class=\"dataframe\">\n",
       "  <thead>\n",
       "    <tr style=\"text-align: right;\">\n",
       "      <th></th>\n",
       "      <th>label</th>\n",
       "      <th>qty_checks_x</th>\n",
       "      <th>qty_checks_y</th>\n",
       "    </tr>\n",
       "  </thead>\n",
       "  <tbody>\n",
       "    <tr>\n",
       "      <th>0</th>\n",
       "      <td>label1</td>\n",
       "      <td>42</td>\n",
       "      <td>489</td>\n",
       "    </tr>\n",
       "    <tr>\n",
       "      <th>1</th>\n",
       "      <td>label2</td>\n",
       "      <td>15</td>\n",
       "      <td>35</td>\n",
       "    </tr>\n",
       "    <tr>\n",
       "      <th>2</th>\n",
       "      <td>label3</td>\n",
       "      <td>7</td>\n",
       "      <td>11</td>\n",
       "    </tr>\n",
       "    <tr>\n",
       "      <th>3</th>\n",
       "      <td>label4</td>\n",
       "      <td>7</td>\n",
       "      <td>2</td>\n",
       "    </tr>\n",
       "    <tr>\n",
       "      <th>4</th>\n",
       "      <td>label5</td>\n",
       "      <td>5</td>\n",
       "      <td>4</td>\n",
       "    </tr>\n",
       "    <tr>\n",
       "      <th>5</th>\n",
       "      <td>label6</td>\n",
       "      <td>2</td>\n",
       "      <td>1</td>\n",
       "    </tr>\n",
       "    <tr>\n",
       "      <th>6</th>\n",
       "      <td>label7</td>\n",
       "      <td>4</td>\n",
       "      <td>1</td>\n",
       "    </tr>\n",
       "  </tbody>\n",
       "</table>\n",
       "</div>"
      ],
      "text/plain": [
       "    label  qty_checks_x  qty_checks_y\n",
       "0  label1            42           489\n",
       "1  label2            15            35\n",
       "2  label3             7            11\n",
       "3  label4             7             2\n",
       "4  label5             5             4\n",
       "5  label6             2             1\n",
       "6  label7             4             1"
      ]
     },
     "execution_count": 156,
     "metadata": {},
     "output_type": "execute_result"
    }
   ],
   "source": [
    "val"
   ]
  },
  {
   "cell_type": "markdown",
   "id": "4540b819",
   "metadata": {},
   "source": [
    "### U-27-11-mars-whiskas-postavschik-group5"
   ]
  },
  {
   "cell_type": "code",
   "execution_count": 157,
   "id": "006b90ec",
   "metadata": {
    "collapsed": false,
    "jupyter": {
     "outputs_hidden": false
    },
    "pycharm": {
     "name": "#%%\n"
    }
   },
   "outputs": [],
   "source": [
    "camp_id = 'U-27-11-mars-whiskas-postavschik-group5'\n",
    "\n",
    "experiment_params = ExperimentParams(**{\n",
    "    # Camp wave id нужно записать в виде мапы из id в префиксы.\n",
    "    # Префиксы ни на что не влияют, просто для более красивого названия групп\n",
    "    # Заполняются camp_wave_id. Если для контроля и теста одинаковый, то пишем два раза\n",
    "    'map_camp_wave_ids_to_suffixes': {\n",
    "        75498: \"sms_viber_tg\",\n",
    "        75498: \"sms_viber_cg\"\n",
    "    },\n",
    "\n",
    "    # communication period with guest (sending sms, push, etc.)\n",
    "    'date_communication_from': '2021-12-14',\n",
    "    'date_communication_to': '2021-12-20',\n",
    "\n",
    "    'wave_ids': [\n",
    "        75667 #если нет, то -1\n",
    "    ],\n",
    "    \n",
    "    'communication_costs': {\n",
    "        'sms': 1.38,\n",
    "        'viber': 1.32,\n",
    "        'email': 0.0083\n",
    "    }\n",
    "})\n",
    "#0_ + camp_wave_id +_sms_viber_ + cg (если номера волн равны) / tg (если номера волн разные)"
   ]
  },
  {
   "cell_type": "code",
   "execution_count": 158,
   "id": "ecbc3a03",
   "metadata": {
    "collapsed": false,
    "jupyter": {
     "outputs_hidden": false
    },
    "pycharm": {
     "name": "#%%\n"
    },
    "scrolled": true
   },
   "outputs": [],
   "source": [
    "experiment_guests = ExperimentParticipants(spark, experiment_params)\n",
    "experiment_guests_communications = experiment_guests.extract()"
   ]
  },
  {
   "cell_type": "code",
   "execution_count": 159,
   "id": "e73b4e38",
   "metadata": {},
   "outputs": [],
   "source": [
    "if len(list(experiment_params.map_camp_wave_ids_to_suffixes.keys())) > 1:\n",
    "    if str(list(experiment_params.map_camp_wave_ids_to_suffixes.keys())[0]) != str(list(experiment_params.map_camp_wave_ids_to_suffixes.keys())[1]):\n",
    "        guests_tg = (experiment_guests_communications\n",
    "                  .filter(F.col('group_name') == '0_' +\n",
    "                        str(list(experiment_params.map_camp_wave_ids_to_suffixes.keys())[0]) + '_' +\n",
    "                        list(experiment_params.map_camp_wave_ids_to_suffixes.values())[0])\n",
    "                  .select('customer_rk').distinct()\n",
    "                 )\n",
    "\n",
    "        guests_cg = (experiment_guests_communications\n",
    "                  .filter(F.col('group_name') == '0_' +\n",
    "                        str(list(experiment_params.map_camp_wave_ids_to_suffixes.keys())[1]) + '_' +\n",
    "                        list(experiment_params.map_camp_wave_ids_to_suffixes.values())[1])\n",
    "                  .select('customer_rk').distinct()\n",
    "                 )\n",
    "    else:\n",
    "        print(\"Error - check the camp waves ids\")\n",
    "else:\n",
    "    guests_tg = (experiment_guests_communications\n",
    "              .filter(F.col('group_name') == '0_' +\n",
    "                    str(list(experiment_params.map_camp_wave_ids_to_suffixes.keys())[0]) + '_' +\n",
    "                    list(experiment_params.map_camp_wave_ids_to_suffixes.values())[0])\n",
    "              .select('customer_rk').distinct()\n",
    "             )\n",
    "\n",
    "    guests_cg = (experiment_guests_communications\n",
    "              .filter(F.col('group_name') == '1_' +\n",
    "                    str(list(experiment_params.map_camp_wave_ids_to_suffixes.keys())[0]) + '_' +\n",
    "                    list(experiment_params.map_camp_wave_ids_to_suffixes.values())[0])\n",
    "              .select('customer_rk').distinct()\n",
    "             )"
   ]
  },
  {
   "cell_type": "code",
   "execution_count": 160,
   "id": "1ea5e5eb",
   "metadata": {},
   "outputs": [],
   "source": [
    "dt1 = datetime.datetime.strptime(experiment_params.date_communication_from, '%Y-%m-%d')\n",
    "dt2 = datetime.datetime.strptime(experiment_params.date_communication_to, '%Y-%m-%d')\n",
    "start_date = datetime.date(dt1.year, dt1.month, dt1.day)\n",
    "end_date = datetime.date(dt2.year, dt2.month, dt2.day)"
   ]
  },
  {
   "cell_type": "code",
   "execution_count": 161,
   "id": "f61d1ca6",
   "metadata": {},
   "outputs": [],
   "source": [
    "plu_codes = [4118758,4118759,4118761,4118763,4118765,4118766,4118770,4118771,4118772,4118773,4118774,\n",
    "             4118775,4118780,4118781,4118782,4121237,4121239,4118764,4118779]"
   ]
  },
  {
   "cell_type": "code",
   "execution_count": 162,
   "id": "e5d1f36e",
   "metadata": {},
   "outputs": [
    {
     "name": "stderr",
     "output_type": "stream",
     "text": [
      "                                                                                557]]0]]]\r"
     ]
    }
   ],
   "source": [
    "seg_pd_cg = get_segment_grouped_several_plu(spark, \n",
    "                    start_date, \n",
    "                    end_date, \n",
    "                    plu_codes,\n",
    "                    guests=guests_cg)"
   ]
  },
  {
   "cell_type": "code",
   "execution_count": 163,
   "id": "714e0234",
   "metadata": {},
   "outputs": [],
   "source": [
    "seg_pd_cg = seg_pd_cg.sort_values('label').reset_index(drop=True)"
   ]
  },
  {
   "cell_type": "code",
   "execution_count": 164,
   "id": "9fd5eadf",
   "metadata": {},
   "outputs": [],
   "source": [
    "val = pd.merge(val, seg_pd_cg, 'left', 'label')"
   ]
  },
  {
   "cell_type": "code",
   "execution_count": 165,
   "id": "a9587382",
   "metadata": {},
   "outputs": [
    {
     "data": {
      "text/html": [
       "<div>\n",
       "<style scoped>\n",
       "    .dataframe tbody tr th:only-of-type {\n",
       "        vertical-align: middle;\n",
       "    }\n",
       "\n",
       "    .dataframe tbody tr th {\n",
       "        vertical-align: top;\n",
       "    }\n",
       "\n",
       "    .dataframe thead th {\n",
       "        text-align: right;\n",
       "    }\n",
       "</style>\n",
       "<table border=\"1\" class=\"dataframe\">\n",
       "  <thead>\n",
       "    <tr style=\"text-align: right;\">\n",
       "      <th></th>\n",
       "      <th>label</th>\n",
       "      <th>qty_checks_x</th>\n",
       "      <th>qty_checks_y</th>\n",
       "      <th>qty_checks</th>\n",
       "    </tr>\n",
       "  </thead>\n",
       "  <tbody>\n",
       "    <tr>\n",
       "      <th>0</th>\n",
       "      <td>label1</td>\n",
       "      <td>42</td>\n",
       "      <td>489</td>\n",
       "      <td>1006</td>\n",
       "    </tr>\n",
       "    <tr>\n",
       "      <th>1</th>\n",
       "      <td>label2</td>\n",
       "      <td>15</td>\n",
       "      <td>35</td>\n",
       "      <td>340</td>\n",
       "    </tr>\n",
       "    <tr>\n",
       "      <th>2</th>\n",
       "      <td>label3</td>\n",
       "      <td>7</td>\n",
       "      <td>11</td>\n",
       "      <td>173</td>\n",
       "    </tr>\n",
       "    <tr>\n",
       "      <th>3</th>\n",
       "      <td>label4</td>\n",
       "      <td>7</td>\n",
       "      <td>2</td>\n",
       "      <td>172</td>\n",
       "    </tr>\n",
       "    <tr>\n",
       "      <th>4</th>\n",
       "      <td>label5</td>\n",
       "      <td>5</td>\n",
       "      <td>4</td>\n",
       "      <td>89</td>\n",
       "    </tr>\n",
       "    <tr>\n",
       "      <th>5</th>\n",
       "      <td>label6</td>\n",
       "      <td>2</td>\n",
       "      <td>1</td>\n",
       "      <td>41</td>\n",
       "    </tr>\n",
       "    <tr>\n",
       "      <th>6</th>\n",
       "      <td>label7</td>\n",
       "      <td>4</td>\n",
       "      <td>1</td>\n",
       "      <td>31</td>\n",
       "    </tr>\n",
       "  </tbody>\n",
       "</table>\n",
       "</div>"
      ],
      "text/plain": [
       "    label  qty_checks_x  qty_checks_y  qty_checks\n",
       "0  label1            42           489        1006\n",
       "1  label2            15            35         340\n",
       "2  label3             7            11         173\n",
       "3  label4             7             2         172\n",
       "4  label5             5             4          89\n",
       "5  label6             2             1          41\n",
       "6  label7             4             1          31"
      ]
     },
     "execution_count": 165,
     "metadata": {},
     "output_type": "execute_result"
    }
   ],
   "source": [
    "val"
   ]
  },
  {
   "cell_type": "markdown",
   "id": "58fbfad5",
   "metadata": {},
   "source": [
    "### U-27-11-mars-whiskas-postavschik-group4"
   ]
  },
  {
   "cell_type": "code",
   "execution_count": 166,
   "id": "a044203b",
   "metadata": {
    "collapsed": false,
    "jupyter": {
     "outputs_hidden": false
    },
    "pycharm": {
     "name": "#%%\n"
    }
   },
   "outputs": [],
   "source": [
    "camp_id = 'U-27-11-mars-whiskas-postavschik-group4'\n",
    "\n",
    "experiment_params = ExperimentParams(**{\n",
    "    # Camp wave id нужно записать в виде мапы из id в префиксы.\n",
    "    # Префиксы ни на что не влияют, просто для более красивого названия групп\n",
    "    # Заполняются camp_wave_id. Если для контроля и теста одинаковый, то пишем два раза\n",
    "    'map_camp_wave_ids_to_suffixes': {\n",
    "        75516: \"sms_viber_tg\",\n",
    "        75516: \"sms_viber_cg\"\n",
    "    },\n",
    "\n",
    "    # communication period with guest (sending sms, push, etc.)\n",
    "    'date_communication_from': '2021-12-14',\n",
    "    'date_communication_to': '2021-12-20',\n",
    "\n",
    "    'wave_ids': [\n",
    "        75655 #если нет, то -1\n",
    "    ],\n",
    "    \n",
    "    'communication_costs': {\n",
    "        'sms': 1.38,\n",
    "        'viber': 1.32,\n",
    "        'email': 0.0083\n",
    "    }\n",
    "})\n",
    "#0_ + camp_wave_id +_sms_viber_ + cg (если номера волн равны) / tg (если номера волн разные)"
   ]
  },
  {
   "cell_type": "code",
   "execution_count": 167,
   "id": "17467b5a",
   "metadata": {
    "collapsed": false,
    "jupyter": {
     "outputs_hidden": false
    },
    "pycharm": {
     "name": "#%%\n"
    },
    "scrolled": true
   },
   "outputs": [],
   "source": [
    "experiment_guests = ExperimentParticipants(spark, experiment_params)\n",
    "experiment_guests_communications = experiment_guests.extract()"
   ]
  },
  {
   "cell_type": "code",
   "execution_count": 168,
   "id": "a694d28e",
   "metadata": {},
   "outputs": [],
   "source": [
    "if len(list(experiment_params.map_camp_wave_ids_to_suffixes.keys())) > 1:\n",
    "    if str(list(experiment_params.map_camp_wave_ids_to_suffixes.keys())[0]) != str(list(experiment_params.map_camp_wave_ids_to_suffixes.keys())[1]):\n",
    "        guests_tg = (experiment_guests_communications\n",
    "                  .filter(F.col('group_name') == '0_' +\n",
    "                        str(list(experiment_params.map_camp_wave_ids_to_suffixes.keys())[0]) + '_' +\n",
    "                        list(experiment_params.map_camp_wave_ids_to_suffixes.values())[0])\n",
    "                  .select('customer_rk').distinct()\n",
    "                 )\n",
    "\n",
    "        guests_cg = (experiment_guests_communications\n",
    "                  .filter(F.col('group_name') == '0_' +\n",
    "                        str(list(experiment_params.map_camp_wave_ids_to_suffixes.keys())[1]) + '_' +\n",
    "                        list(experiment_params.map_camp_wave_ids_to_suffixes.values())[1])\n",
    "                  .select('customer_rk').distinct()\n",
    "                 )\n",
    "    else:\n",
    "        print(\"Error - check the camp waves ids\")\n",
    "else:\n",
    "    guests_tg = (experiment_guests_communications\n",
    "              .filter(F.col('group_name') == '0_' +\n",
    "                    str(list(experiment_params.map_camp_wave_ids_to_suffixes.keys())[0]) + '_' +\n",
    "                    list(experiment_params.map_camp_wave_ids_to_suffixes.values())[0])\n",
    "              .select('customer_rk').distinct()\n",
    "             )\n",
    "\n",
    "    guests_cg = (experiment_guests_communications\n",
    "              .filter(F.col('group_name') == '1_' +\n",
    "                    str(list(experiment_params.map_camp_wave_ids_to_suffixes.keys())[0]) + '_' +\n",
    "                    list(experiment_params.map_camp_wave_ids_to_suffixes.values())[0])\n",
    "              .select('customer_rk').distinct()\n",
    "             )"
   ]
  },
  {
   "cell_type": "code",
   "execution_count": 169,
   "id": "8e646f0d",
   "metadata": {},
   "outputs": [],
   "source": [
    "dt1 = datetime.datetime.strptime(experiment_params.date_communication_from, '%Y-%m-%d')\n",
    "dt2 = datetime.datetime.strptime(experiment_params.date_communication_to, '%Y-%m-%d')\n",
    "start_date = datetime.date(dt1.year, dt1.month, dt1.day)\n",
    "end_date = datetime.date(dt2.year, dt2.month, dt2.day)"
   ]
  },
  {
   "cell_type": "code",
   "execution_count": 170,
   "id": "0861519c",
   "metadata": {},
   "outputs": [],
   "source": [
    "plu_codes = [4118758,4118759,4118761,4118763,4118765,4118766,4118770,4118771,4118772,4118773,4118774,\n",
    "             4118775,4118780,4118781,4118782,4121237,4121239,4118764,4118779]"
   ]
  },
  {
   "cell_type": "code",
   "execution_count": 171,
   "id": "3a75148b",
   "metadata": {},
   "outputs": [
    {
     "name": "stderr",
     "output_type": "stream",
     "text": [
      "                                                                                / 200]]]]\r"
     ]
    }
   ],
   "source": [
    "seg_pd_cg = get_segment_grouped_several_plu(spark, \n",
    "                    start_date, \n",
    "                    end_date, \n",
    "                    plu_codes,\n",
    "                    guests=guests_cg)"
   ]
  },
  {
   "cell_type": "code",
   "execution_count": 172,
   "id": "e3cdfa76",
   "metadata": {},
   "outputs": [],
   "source": [
    "seg_pd_cg = seg_pd_cg.sort_values('label').reset_index(drop=True)"
   ]
  },
  {
   "cell_type": "code",
   "execution_count": 173,
   "id": "69c81d5b",
   "metadata": {},
   "outputs": [
    {
     "name": "stderr",
     "output_type": "stream",
     "text": [
      "/opt/conda/lib/python3.7/site-packages/ipykernel_launcher.py:1: FutureWarning: Passing 'suffixes' which cause duplicate columns {'qty_checks_x'} in the result is deprecated and will raise a MergeError in a future version.\n",
      "  \"\"\"Entry point for launching an IPython kernel.\n"
     ]
    }
   ],
   "source": [
    "val = pd.merge(val, seg_pd_cg, 'left', 'label')"
   ]
  },
  {
   "cell_type": "code",
   "execution_count": 174,
   "id": "dd71ac61",
   "metadata": {},
   "outputs": [
    {
     "data": {
      "text/html": [
       "<div>\n",
       "<style scoped>\n",
       "    .dataframe tbody tr th:only-of-type {\n",
       "        vertical-align: middle;\n",
       "    }\n",
       "\n",
       "    .dataframe tbody tr th {\n",
       "        vertical-align: top;\n",
       "    }\n",
       "\n",
       "    .dataframe thead th {\n",
       "        text-align: right;\n",
       "    }\n",
       "</style>\n",
       "<table border=\"1\" class=\"dataframe\">\n",
       "  <thead>\n",
       "    <tr style=\"text-align: right;\">\n",
       "      <th></th>\n",
       "      <th>label</th>\n",
       "      <th>qty_checks_x</th>\n",
       "      <th>qty_checks_y</th>\n",
       "      <th>qty_checks_x</th>\n",
       "      <th>qty_checks_y</th>\n",
       "    </tr>\n",
       "  </thead>\n",
       "  <tbody>\n",
       "    <tr>\n",
       "      <th>0</th>\n",
       "      <td>label1</td>\n",
       "      <td>42</td>\n",
       "      <td>489</td>\n",
       "      <td>1006</td>\n",
       "      <td>977.00</td>\n",
       "    </tr>\n",
       "    <tr>\n",
       "      <th>1</th>\n",
       "      <td>label2</td>\n",
       "      <td>15</td>\n",
       "      <td>35</td>\n",
       "      <td>340</td>\n",
       "      <td>93.00</td>\n",
       "    </tr>\n",
       "    <tr>\n",
       "      <th>2</th>\n",
       "      <td>label3</td>\n",
       "      <td>7</td>\n",
       "      <td>11</td>\n",
       "      <td>173</td>\n",
       "      <td>15.00</td>\n",
       "    </tr>\n",
       "    <tr>\n",
       "      <th>3</th>\n",
       "      <td>label4</td>\n",
       "      <td>7</td>\n",
       "      <td>2</td>\n",
       "      <td>172</td>\n",
       "      <td>6.00</td>\n",
       "    </tr>\n",
       "    <tr>\n",
       "      <th>4</th>\n",
       "      <td>label5</td>\n",
       "      <td>5</td>\n",
       "      <td>4</td>\n",
       "      <td>89</td>\n",
       "      <td>4.00</td>\n",
       "    </tr>\n",
       "    <tr>\n",
       "      <th>5</th>\n",
       "      <td>label6</td>\n",
       "      <td>2</td>\n",
       "      <td>1</td>\n",
       "      <td>41</td>\n",
       "      <td>NaN</td>\n",
       "    </tr>\n",
       "    <tr>\n",
       "      <th>6</th>\n",
       "      <td>label7</td>\n",
       "      <td>4</td>\n",
       "      <td>1</td>\n",
       "      <td>31</td>\n",
       "      <td>NaN</td>\n",
       "    </tr>\n",
       "  </tbody>\n",
       "</table>\n",
       "</div>"
      ],
      "text/plain": [
       "    label  qty_checks_x  qty_checks_y  qty_checks_x  qty_checks_y\n",
       "0  label1            42           489          1006        977.00\n",
       "1  label2            15            35           340         93.00\n",
       "2  label3             7            11           173         15.00\n",
       "3  label4             7             2           172          6.00\n",
       "4  label5             5             4            89          4.00\n",
       "5  label6             2             1            41           NaN\n",
       "6  label7             4             1            31           NaN"
      ]
     },
     "execution_count": 174,
     "metadata": {},
     "output_type": "execute_result"
    }
   ],
   "source": [
    "val"
   ]
  },
  {
   "cell_type": "markdown",
   "id": "97731494",
   "metadata": {},
   "source": [
    "### U-27-11-mars-whiskas-postavschik-group3"
   ]
  },
  {
   "cell_type": "code",
   "execution_count": 175,
   "id": "a7114b72",
   "metadata": {
    "collapsed": false,
    "jupyter": {
     "outputs_hidden": false
    },
    "pycharm": {
     "name": "#%%\n"
    }
   },
   "outputs": [],
   "source": [
    "camp_id = 'U-27-11-mars-whiskas-postavschik-group3'\n",
    "\n",
    "experiment_params = ExperimentParams(**{\n",
    "    # Camp wave id нужно записать в виде мапы из id в префиксы.\n",
    "    # Префиксы ни на что не влияют, просто для более красивого названия групп\n",
    "    # Заполняются camp_wave_id. Если для контроля и теста одинаковый, то пишем два раза\n",
    "    'map_camp_wave_ids_to_suffixes': {\n",
    "        75518: \"sms_viber_tg\",\n",
    "        75518: \"sms_viber_cg\"\n",
    "    },\n",
    "\n",
    "    # communication period with guest (sending sms, push, etc.)\n",
    "    'date_communication_from': '2021-12-14',\n",
    "    'date_communication_to': '2021-12-20',\n",
    "\n",
    "    'wave_ids': [\n",
    "        75659 #если нет, то -1\n",
    "    ],\n",
    "    \n",
    "    'communication_costs': {\n",
    "        'sms': 1.38,\n",
    "        'viber': 1.32,\n",
    "        'email': 0.0083\n",
    "    }\n",
    "})\n",
    "#0_ + camp_wave_id +_sms_viber_ + cg (если номера волн равны) / tg (если номера волн разные)"
   ]
  },
  {
   "cell_type": "code",
   "execution_count": 176,
   "id": "e571f87b",
   "metadata": {
    "collapsed": false,
    "jupyter": {
     "outputs_hidden": false
    },
    "pycharm": {
     "name": "#%%\n"
    },
    "scrolled": true
   },
   "outputs": [],
   "source": [
    "experiment_guests = ExperimentParticipants(spark, experiment_params)\n",
    "experiment_guests_communications = experiment_guests.extract()"
   ]
  },
  {
   "cell_type": "code",
   "execution_count": 177,
   "id": "5b56cd1b",
   "metadata": {},
   "outputs": [],
   "source": [
    "if len(list(experiment_params.map_camp_wave_ids_to_suffixes.keys())) > 1:\n",
    "    if str(list(experiment_params.map_camp_wave_ids_to_suffixes.keys())[0]) != str(list(experiment_params.map_camp_wave_ids_to_suffixes.keys())[1]):\n",
    "        guests_tg = (experiment_guests_communications\n",
    "                  .filter(F.col('group_name') == '0_' +\n",
    "                        str(list(experiment_params.map_camp_wave_ids_to_suffixes.keys())[0]) + '_' +\n",
    "                        list(experiment_params.map_camp_wave_ids_to_suffixes.values())[0])\n",
    "                  .select('customer_rk').distinct()\n",
    "                 )\n",
    "\n",
    "        guests_cg = (experiment_guests_communications\n",
    "                  .filter(F.col('group_name') == '0_' +\n",
    "                        str(list(experiment_params.map_camp_wave_ids_to_suffixes.keys())[1]) + '_' +\n",
    "                        list(experiment_params.map_camp_wave_ids_to_suffixes.values())[1])\n",
    "                  .select('customer_rk').distinct()\n",
    "                 )\n",
    "    else:\n",
    "        print(\"Error - check the camp waves ids\")\n",
    "else:\n",
    "    guests_tg = (experiment_guests_communications\n",
    "              .filter(F.col('group_name') == '0_' +\n",
    "                    str(list(experiment_params.map_camp_wave_ids_to_suffixes.keys())[0]) + '_' +\n",
    "                    list(experiment_params.map_camp_wave_ids_to_suffixes.values())[0])\n",
    "              .select('customer_rk').distinct()\n",
    "             )\n",
    "\n",
    "    guests_cg = (experiment_guests_communications\n",
    "              .filter(F.col('group_name') == '1_' +\n",
    "                    str(list(experiment_params.map_camp_wave_ids_to_suffixes.keys())[0]) + '_' +\n",
    "                    list(experiment_params.map_camp_wave_ids_to_suffixes.values())[0])\n",
    "              .select('customer_rk').distinct()\n",
    "             )"
   ]
  },
  {
   "cell_type": "code",
   "execution_count": 178,
   "id": "1fcc7a3d",
   "metadata": {},
   "outputs": [],
   "source": [
    "dt1 = datetime.datetime.strptime(experiment_params.date_communication_from, '%Y-%m-%d')\n",
    "dt2 = datetime.datetime.strptime(experiment_params.date_communication_to, '%Y-%m-%d')\n",
    "start_date = datetime.date(dt1.year, dt1.month, dt1.day)\n",
    "end_date = datetime.date(dt2.year, dt2.month, dt2.day)"
   ]
  },
  {
   "cell_type": "code",
   "execution_count": 179,
   "id": "7a9ba894",
   "metadata": {},
   "outputs": [],
   "source": [
    "plu_codes = [4118758,4118759,4118761,4118763,4118765,4118766,4118770,4118771,4118772,4118773,4118774,\n",
    "             4118775,4118780,4118781,4118782,4121237,4121239,4118764,4118779]"
   ]
  },
  {
   "cell_type": "code",
   "execution_count": 180,
   "id": "3020d82a",
   "metadata": {},
   "outputs": [
    {
     "name": "stderr",
     "output_type": "stream",
     "text": [
      "                                                                                 557]]]]]]]\r"
     ]
    }
   ],
   "source": [
    "seg_pd_cg = get_segment_grouped_several_plu(spark, \n",
    "                    start_date, \n",
    "                    end_date, \n",
    "                    plu_codes,\n",
    "                    guests=guests_cg)"
   ]
  },
  {
   "cell_type": "code",
   "execution_count": 181,
   "id": "a741ace0",
   "metadata": {},
   "outputs": [],
   "source": [
    "seg_pd_cg = seg_pd_cg.sort_values('label').reset_index(drop=True)"
   ]
  },
  {
   "cell_type": "code",
   "execution_count": 182,
   "id": "c54d5982",
   "metadata": {},
   "outputs": [],
   "source": [
    "val = pd.merge(val, seg_pd_cg, 'left', 'label')"
   ]
  },
  {
   "cell_type": "code",
   "execution_count": 183,
   "id": "b5d63cd9",
   "metadata": {},
   "outputs": [
    {
     "data": {
      "text/html": [
       "<div>\n",
       "<style scoped>\n",
       "    .dataframe tbody tr th:only-of-type {\n",
       "        vertical-align: middle;\n",
       "    }\n",
       "\n",
       "    .dataframe tbody tr th {\n",
       "        vertical-align: top;\n",
       "    }\n",
       "\n",
       "    .dataframe thead th {\n",
       "        text-align: right;\n",
       "    }\n",
       "</style>\n",
       "<table border=\"1\" class=\"dataframe\">\n",
       "  <thead>\n",
       "    <tr style=\"text-align: right;\">\n",
       "      <th></th>\n",
       "      <th>label</th>\n",
       "      <th>qty_checks_x</th>\n",
       "      <th>qty_checks_y</th>\n",
       "      <th>qty_checks_x</th>\n",
       "      <th>qty_checks_y</th>\n",
       "      <th>qty_checks</th>\n",
       "    </tr>\n",
       "  </thead>\n",
       "  <tbody>\n",
       "    <tr>\n",
       "      <th>0</th>\n",
       "      <td>label1</td>\n",
       "      <td>42</td>\n",
       "      <td>489</td>\n",
       "      <td>1006</td>\n",
       "      <td>977.00</td>\n",
       "      <td>217.00</td>\n",
       "    </tr>\n",
       "    <tr>\n",
       "      <th>1</th>\n",
       "      <td>label2</td>\n",
       "      <td>15</td>\n",
       "      <td>35</td>\n",
       "      <td>340</td>\n",
       "      <td>93.00</td>\n",
       "      <td>38.00</td>\n",
       "    </tr>\n",
       "    <tr>\n",
       "      <th>2</th>\n",
       "      <td>label3</td>\n",
       "      <td>7</td>\n",
       "      <td>11</td>\n",
       "      <td>173</td>\n",
       "      <td>15.00</td>\n",
       "      <td>14.00</td>\n",
       "    </tr>\n",
       "    <tr>\n",
       "      <th>3</th>\n",
       "      <td>label4</td>\n",
       "      <td>7</td>\n",
       "      <td>2</td>\n",
       "      <td>172</td>\n",
       "      <td>6.00</td>\n",
       "      <td>9.00</td>\n",
       "    </tr>\n",
       "    <tr>\n",
       "      <th>4</th>\n",
       "      <td>label5</td>\n",
       "      <td>5</td>\n",
       "      <td>4</td>\n",
       "      <td>89</td>\n",
       "      <td>4.00</td>\n",
       "      <td>1.00</td>\n",
       "    </tr>\n",
       "    <tr>\n",
       "      <th>5</th>\n",
       "      <td>label6</td>\n",
       "      <td>2</td>\n",
       "      <td>1</td>\n",
       "      <td>41</td>\n",
       "      <td>NaN</td>\n",
       "      <td>1.00</td>\n",
       "    </tr>\n",
       "    <tr>\n",
       "      <th>6</th>\n",
       "      <td>label7</td>\n",
       "      <td>4</td>\n",
       "      <td>1</td>\n",
       "      <td>31</td>\n",
       "      <td>NaN</td>\n",
       "      <td>NaN</td>\n",
       "    </tr>\n",
       "  </tbody>\n",
       "</table>\n",
       "</div>"
      ],
      "text/plain": [
       "    label  qty_checks_x  qty_checks_y  qty_checks_x  qty_checks_y  qty_checks\n",
       "0  label1            42           489          1006        977.00      217.00\n",
       "1  label2            15            35           340         93.00       38.00\n",
       "2  label3             7            11           173         15.00       14.00\n",
       "3  label4             7             2           172          6.00        9.00\n",
       "4  label5             5             4            89          4.00        1.00\n",
       "5  label6             2             1            41           NaN        1.00\n",
       "6  label7             4             1            31           NaN         NaN"
      ]
     },
     "execution_count": 183,
     "metadata": {},
     "output_type": "execute_result"
    }
   ],
   "source": [
    "val"
   ]
  },
  {
   "cell_type": "markdown",
   "id": "1817168c",
   "metadata": {},
   "source": [
    "### U-27-11-mars-whiskas-postavschik-group2"
   ]
  },
  {
   "cell_type": "code",
   "execution_count": 184,
   "id": "cbc0d64b",
   "metadata": {
    "collapsed": false,
    "jupyter": {
     "outputs_hidden": false
    },
    "pycharm": {
     "name": "#%%\n"
    }
   },
   "outputs": [],
   "source": [
    "camp_id = 'U-27-11-mars-whiskas-postavschik-group2'\n",
    "\n",
    "experiment_params = ExperimentParams(**{\n",
    "    # Camp wave id нужно записать в виде мапы из id в префиксы.\n",
    "    # Префиксы ни на что не влияют, просто для более красивого названия групп\n",
    "    # Заполняются camp_wave_id. Если для контроля и теста одинаковый, то пишем два раза\n",
    "    'map_camp_wave_ids_to_suffixes': {\n",
    "        75525: \"sms_viber_tg\",\n",
    "        75662: \"sms_viber_cg\"\n",
    "    },\n",
    "\n",
    "    # communication period with guest (sending sms, push, etc.)\n",
    "    'date_communication_from': '2021-12-14',\n",
    "    'date_communication_to': '2021-12-20',\n",
    "\n",
    "    'wave_ids': [\n",
    "        75676 #если нет, то -1\n",
    "    ],\n",
    "    \n",
    "    'communication_costs': {\n",
    "        'sms': 1.38,\n",
    "        'viber': 1.32,\n",
    "        'email': 0.0083\n",
    "    }\n",
    "})\n",
    "#0_ + camp_wave_id +_sms_viber_ + cg (если номера волн равны) / tg (если номера волн разные)"
   ]
  },
  {
   "cell_type": "code",
   "execution_count": 185,
   "id": "0f59dbcb",
   "metadata": {
    "collapsed": false,
    "jupyter": {
     "outputs_hidden": false
    },
    "pycharm": {
     "name": "#%%\n"
    },
    "scrolled": true
   },
   "outputs": [],
   "source": [
    "experiment_guests = ExperimentParticipants(spark, experiment_params)\n",
    "experiment_guests_communications = experiment_guests.extract()"
   ]
  },
  {
   "cell_type": "code",
   "execution_count": 186,
   "id": "c446f7f1",
   "metadata": {},
   "outputs": [],
   "source": [
    "if len(list(experiment_params.map_camp_wave_ids_to_suffixes.keys())) > 1:\n",
    "    if str(list(experiment_params.map_camp_wave_ids_to_suffixes.keys())[0]) != str(list(experiment_params.map_camp_wave_ids_to_suffixes.keys())[1]):\n",
    "        guests_tg = (experiment_guests_communications\n",
    "                  .filter(F.col('group_name') == '0_' +\n",
    "                        str(list(experiment_params.map_camp_wave_ids_to_suffixes.keys())[0]) + '_' +\n",
    "                        list(experiment_params.map_camp_wave_ids_to_suffixes.values())[0])\n",
    "                  .select('customer_rk').distinct()\n",
    "                 )\n",
    "\n",
    "        guests_cg = (experiment_guests_communications\n",
    "                  .filter(F.col('group_name') == '0_' +\n",
    "                        str(list(experiment_params.map_camp_wave_ids_to_suffixes.keys())[1]) + '_' +\n",
    "                        list(experiment_params.map_camp_wave_ids_to_suffixes.values())[1])\n",
    "                  .select('customer_rk').distinct()\n",
    "                 )\n",
    "    else:\n",
    "        print(\"Error - check the camp waves ids\")\n",
    "else:\n",
    "    guests_tg = (experiment_guests_communications\n",
    "              .filter(F.col('group_name') == '0_' +\n",
    "                    str(list(experiment_params.map_camp_wave_ids_to_suffixes.keys())[0]) + '_' +\n",
    "                    list(experiment_params.map_camp_wave_ids_to_suffixes.values())[0])\n",
    "              .select('customer_rk').distinct()\n",
    "             )\n",
    "\n",
    "    guests_cg = (experiment_guests_communications\n",
    "              .filter(F.col('group_name') == '1_' +\n",
    "                    str(list(experiment_params.map_camp_wave_ids_to_suffixes.keys())[0]) + '_' +\n",
    "                    list(experiment_params.map_camp_wave_ids_to_suffixes.values())[0])\n",
    "              .select('customer_rk').distinct()\n",
    "             )"
   ]
  },
  {
   "cell_type": "code",
   "execution_count": 187,
   "id": "37c204c3",
   "metadata": {},
   "outputs": [],
   "source": [
    "dt1 = datetime.datetime.strptime(experiment_params.date_communication_from, '%Y-%m-%d')\n",
    "dt2 = datetime.datetime.strptime(experiment_params.date_communication_to, '%Y-%m-%d')\n",
    "start_date = datetime.date(dt1.year, dt1.month, dt1.day)\n",
    "end_date = datetime.date(dt2.year, dt2.month, dt2.day)"
   ]
  },
  {
   "cell_type": "code",
   "execution_count": 188,
   "id": "2bb6dc9d",
   "metadata": {},
   "outputs": [],
   "source": [
    "plu_codes = [4118758,4118759,4118761,4118763,4118765,4118766,4118770,4118771,4118772,4118773,4118774,\n",
    "             4118775,4118780,4118781,4118782,4121237,4121239,4118764,4118779]"
   ]
  },
  {
   "cell_type": "code",
   "execution_count": 189,
   "id": "9e2641d1",
   "metadata": {},
   "outputs": [
    {
     "name": "stderr",
     "output_type": "stream",
     "text": [
      "                                                                                / 200]]]]\r"
     ]
    }
   ],
   "source": [
    "seg_pd_cg = get_segment_grouped_several_plu(spark, \n",
    "                    start_date, \n",
    "                    end_date, \n",
    "                    plu_codes,\n",
    "                    guests=guests_cg)"
   ]
  },
  {
   "cell_type": "code",
   "execution_count": 190,
   "id": "59de6d6b",
   "metadata": {},
   "outputs": [],
   "source": [
    "seg_pd_cg = seg_pd_cg.sort_values('label').reset_index(drop=True)"
   ]
  },
  {
   "cell_type": "code",
   "execution_count": 191,
   "id": "18c14a81",
   "metadata": {},
   "outputs": [
    {
     "name": "stderr",
     "output_type": "stream",
     "text": [
      "/opt/conda/lib/python3.7/site-packages/ipykernel_launcher.py:1: FutureWarning: Passing 'suffixes' which cause duplicate columns {'qty_checks_x'} in the result is deprecated and will raise a MergeError in a future version.\n",
      "  \"\"\"Entry point for launching an IPython kernel.\n"
     ]
    }
   ],
   "source": [
    "val = pd.merge(val, seg_pd_cg, 'left', 'label')"
   ]
  },
  {
   "cell_type": "code",
   "execution_count": 192,
   "id": "365c4ee1",
   "metadata": {},
   "outputs": [
    {
     "data": {
      "text/html": [
       "<div>\n",
       "<style scoped>\n",
       "    .dataframe tbody tr th:only-of-type {\n",
       "        vertical-align: middle;\n",
       "    }\n",
       "\n",
       "    .dataframe tbody tr th {\n",
       "        vertical-align: top;\n",
       "    }\n",
       "\n",
       "    .dataframe thead th {\n",
       "        text-align: right;\n",
       "    }\n",
       "</style>\n",
       "<table border=\"1\" class=\"dataframe\">\n",
       "  <thead>\n",
       "    <tr style=\"text-align: right;\">\n",
       "      <th></th>\n",
       "      <th>label</th>\n",
       "      <th>qty_checks_x</th>\n",
       "      <th>qty_checks_y</th>\n",
       "      <th>qty_checks_x</th>\n",
       "      <th>qty_checks_y</th>\n",
       "      <th>qty_checks_x</th>\n",
       "      <th>qty_checks_y</th>\n",
       "    </tr>\n",
       "  </thead>\n",
       "  <tbody>\n",
       "    <tr>\n",
       "      <th>0</th>\n",
       "      <td>label1</td>\n",
       "      <td>42</td>\n",
       "      <td>489</td>\n",
       "      <td>1006</td>\n",
       "      <td>977.00</td>\n",
       "      <td>217.00</td>\n",
       "      <td>864</td>\n",
       "    </tr>\n",
       "    <tr>\n",
       "      <th>1</th>\n",
       "      <td>label2</td>\n",
       "      <td>15</td>\n",
       "      <td>35</td>\n",
       "      <td>340</td>\n",
       "      <td>93.00</td>\n",
       "      <td>38.00</td>\n",
       "      <td>150</td>\n",
       "    </tr>\n",
       "    <tr>\n",
       "      <th>2</th>\n",
       "      <td>label3</td>\n",
       "      <td>7</td>\n",
       "      <td>11</td>\n",
       "      <td>173</td>\n",
       "      <td>15.00</td>\n",
       "      <td>14.00</td>\n",
       "      <td>56</td>\n",
       "    </tr>\n",
       "    <tr>\n",
       "      <th>3</th>\n",
       "      <td>label4</td>\n",
       "      <td>7</td>\n",
       "      <td>2</td>\n",
       "      <td>172</td>\n",
       "      <td>6.00</td>\n",
       "      <td>9.00</td>\n",
       "      <td>40</td>\n",
       "    </tr>\n",
       "    <tr>\n",
       "      <th>4</th>\n",
       "      <td>label5</td>\n",
       "      <td>5</td>\n",
       "      <td>4</td>\n",
       "      <td>89</td>\n",
       "      <td>4.00</td>\n",
       "      <td>1.00</td>\n",
       "      <td>33</td>\n",
       "    </tr>\n",
       "    <tr>\n",
       "      <th>5</th>\n",
       "      <td>label6</td>\n",
       "      <td>2</td>\n",
       "      <td>1</td>\n",
       "      <td>41</td>\n",
       "      <td>NaN</td>\n",
       "      <td>1.00</td>\n",
       "      <td>6</td>\n",
       "    </tr>\n",
       "    <tr>\n",
       "      <th>6</th>\n",
       "      <td>label7</td>\n",
       "      <td>4</td>\n",
       "      <td>1</td>\n",
       "      <td>31</td>\n",
       "      <td>NaN</td>\n",
       "      <td>NaN</td>\n",
       "      <td>7</td>\n",
       "    </tr>\n",
       "  </tbody>\n",
       "</table>\n",
       "</div>"
      ],
      "text/plain": [
       "    label  qty_checks_x  qty_checks_y  qty_checks_x  qty_checks_y  \\\n",
       "0  label1            42           489          1006        977.00   \n",
       "1  label2            15            35           340         93.00   \n",
       "2  label3             7            11           173         15.00   \n",
       "3  label4             7             2           172          6.00   \n",
       "4  label5             5             4            89          4.00   \n",
       "5  label6             2             1            41           NaN   \n",
       "6  label7             4             1            31           NaN   \n",
       "\n",
       "   qty_checks_x  qty_checks_y  \n",
       "0        217.00           864  \n",
       "1         38.00           150  \n",
       "2         14.00            56  \n",
       "3          9.00            40  \n",
       "4          1.00            33  \n",
       "5          1.00             6  \n",
       "6           NaN             7  "
      ]
     },
     "execution_count": 192,
     "metadata": {},
     "output_type": "execute_result"
    }
   ],
   "source": [
    "val"
   ]
  },
  {
   "cell_type": "markdown",
   "id": "09377e2b",
   "metadata": {},
   "source": [
    "### U-27-11-mars-whiskas-postavschik-group1"
   ]
  },
  {
   "cell_type": "code",
   "execution_count": 193,
   "id": "9efe3279",
   "metadata": {
    "collapsed": false,
    "jupyter": {
     "outputs_hidden": false
    },
    "pycharm": {
     "name": "#%%\n"
    }
   },
   "outputs": [],
   "source": [
    "camp_id = 'U-27-11-mars-whiskas-postavschik-group1'\n",
    "\n",
    "experiment_params = ExperimentParams(**{\n",
    "    # Camp wave id нужно записать в виде мапы из id в префиксы.\n",
    "    # Префиксы ни на что не влияют, просто для более красивого названия групп\n",
    "    # Заполняются camp_wave_id. Если для контроля и теста одинаковый, то пишем два раза\n",
    "    'map_camp_wave_ids_to_suffixes': {\n",
    "        75507: \"sms_viber_tg\",\n",
    "        75662: \"sms_viber_cg\"\n",
    "    },\n",
    "\n",
    "    # communication period with guest (sending sms, push, etc.)\n",
    "    'date_communication_from': '2021-12-14',\n",
    "    'date_communication_to': '2021-12-20',\n",
    "\n",
    "    'wave_ids': [\n",
    "        75678 #если нет, то -1\n",
    "    ],\n",
    "    \n",
    "    'communication_costs': {\n",
    "        'sms': 1.38,\n",
    "        'viber': 1.32,\n",
    "        'email': 0.0083\n",
    "    }\n",
    "})\n",
    "#0_ + camp_wave_id +_sms_viber_ + cg (если номера волн равны) / tg (если номера волн разные)"
   ]
  },
  {
   "cell_type": "code",
   "execution_count": 194,
   "id": "375b6fd9",
   "metadata": {
    "collapsed": false,
    "jupyter": {
     "outputs_hidden": false
    },
    "pycharm": {
     "name": "#%%\n"
    },
    "scrolled": true
   },
   "outputs": [],
   "source": [
    "experiment_guests = ExperimentParticipants(spark, experiment_params)\n",
    "experiment_guests_communications = experiment_guests.extract()"
   ]
  },
  {
   "cell_type": "code",
   "execution_count": 195,
   "id": "9b8cc3db",
   "metadata": {},
   "outputs": [],
   "source": [
    "if len(list(experiment_params.map_camp_wave_ids_to_suffixes.keys())) > 1:\n",
    "    if str(list(experiment_params.map_camp_wave_ids_to_suffixes.keys())[0]) != str(list(experiment_params.map_camp_wave_ids_to_suffixes.keys())[1]):\n",
    "        guests_tg = (experiment_guests_communications\n",
    "                  .filter(F.col('group_name') == '0_' +\n",
    "                        str(list(experiment_params.map_camp_wave_ids_to_suffixes.keys())[0]) + '_' +\n",
    "                        list(experiment_params.map_camp_wave_ids_to_suffixes.values())[0])\n",
    "                  .select('customer_rk').distinct()\n",
    "                 )\n",
    "\n",
    "        guests_cg = (experiment_guests_communications\n",
    "                  .filter(F.col('group_name') == '0_' +\n",
    "                        str(list(experiment_params.map_camp_wave_ids_to_suffixes.keys())[1]) + '_' +\n",
    "                        list(experiment_params.map_camp_wave_ids_to_suffixes.values())[1])\n",
    "                  .select('customer_rk').distinct()\n",
    "                 )\n",
    "    else:\n",
    "        print(\"Error - check the camp waves ids\")\n",
    "else:\n",
    "    guests_tg = (experiment_guests_communications\n",
    "              .filter(F.col('group_name') == '0_' +\n",
    "                    str(list(experiment_params.map_camp_wave_ids_to_suffixes.keys())[0]) + '_' +\n",
    "                    list(experiment_params.map_camp_wave_ids_to_suffixes.values())[0])\n",
    "              .select('customer_rk').distinct()\n",
    "             )\n",
    "\n",
    "    guests_cg = (experiment_guests_communications\n",
    "              .filter(F.col('group_name') == '1_' +\n",
    "                    str(list(experiment_params.map_camp_wave_ids_to_suffixes.keys())[0]) + '_' +\n",
    "                    list(experiment_params.map_camp_wave_ids_to_suffixes.values())[0])\n",
    "              .select('customer_rk').distinct()\n",
    "             )"
   ]
  },
  {
   "cell_type": "code",
   "execution_count": 196,
   "id": "89b9af3f",
   "metadata": {},
   "outputs": [],
   "source": [
    "dt1 = datetime.datetime.strptime(experiment_params.date_communication_from, '%Y-%m-%d')\n",
    "dt2 = datetime.datetime.strptime(experiment_params.date_communication_to, '%Y-%m-%d')\n",
    "start_date = datetime.date(dt1.year, dt1.month, dt1.day)\n",
    "end_date = datetime.date(dt2.year, dt2.month, dt2.day)"
   ]
  },
  {
   "cell_type": "code",
   "execution_count": 197,
   "id": "241f59de",
   "metadata": {},
   "outputs": [],
   "source": [
    "plu_codes = [4118758,4118759,4118761,4118763,4118765,4118766,4118770,4118771,4118772,4118773,4118774,\n",
    "             4118775,4118780,4118781,4118782,4121237,4121239,4118764,4118779]"
   ]
  },
  {
   "cell_type": "code",
   "execution_count": 198,
   "id": "7e2ab317",
   "metadata": {},
   "outputs": [
    {
     "name": "stderr",
     "output_type": "stream",
     "text": [
      "                                                                                / 200]]]]\r"
     ]
    }
   ],
   "source": [
    "seg_pd_cg = get_segment_grouped_several_plu(spark, \n",
    "                    start_date, \n",
    "                    end_date, \n",
    "                    plu_codes,\n",
    "                    guests=guests_cg)"
   ]
  },
  {
   "cell_type": "code",
   "execution_count": 199,
   "id": "86729b0c",
   "metadata": {},
   "outputs": [],
   "source": [
    "seg_pd_cg = seg_pd_cg.sort_values('label').reset_index(drop=True)"
   ]
  },
  {
   "cell_type": "code",
   "execution_count": 200,
   "id": "2abbc969",
   "metadata": {},
   "outputs": [],
   "source": [
    "val = pd.merge(val, seg_pd_cg, 'left', 'label')"
   ]
  },
  {
   "cell_type": "code",
   "execution_count": 201,
   "id": "10ea098b",
   "metadata": {},
   "outputs": [
    {
     "data": {
      "text/html": [
       "<div>\n",
       "<style scoped>\n",
       "    .dataframe tbody tr th:only-of-type {\n",
       "        vertical-align: middle;\n",
       "    }\n",
       "\n",
       "    .dataframe tbody tr th {\n",
       "        vertical-align: top;\n",
       "    }\n",
       "\n",
       "    .dataframe thead th {\n",
       "        text-align: right;\n",
       "    }\n",
       "</style>\n",
       "<table border=\"1\" class=\"dataframe\">\n",
       "  <thead>\n",
       "    <tr style=\"text-align: right;\">\n",
       "      <th></th>\n",
       "      <th>label</th>\n",
       "      <th>qty_checks_x</th>\n",
       "      <th>qty_checks_y</th>\n",
       "      <th>qty_checks_x</th>\n",
       "      <th>qty_checks_y</th>\n",
       "      <th>qty_checks_x</th>\n",
       "      <th>qty_checks_y</th>\n",
       "      <th>qty_checks</th>\n",
       "    </tr>\n",
       "  </thead>\n",
       "  <tbody>\n",
       "    <tr>\n",
       "      <th>0</th>\n",
       "      <td>label1</td>\n",
       "      <td>42</td>\n",
       "      <td>489</td>\n",
       "      <td>1006</td>\n",
       "      <td>977.00</td>\n",
       "      <td>217.00</td>\n",
       "      <td>864</td>\n",
       "      <td>864</td>\n",
       "    </tr>\n",
       "    <tr>\n",
       "      <th>1</th>\n",
       "      <td>label2</td>\n",
       "      <td>15</td>\n",
       "      <td>35</td>\n",
       "      <td>340</td>\n",
       "      <td>93.00</td>\n",
       "      <td>38.00</td>\n",
       "      <td>150</td>\n",
       "      <td>150</td>\n",
       "    </tr>\n",
       "    <tr>\n",
       "      <th>2</th>\n",
       "      <td>label3</td>\n",
       "      <td>7</td>\n",
       "      <td>11</td>\n",
       "      <td>173</td>\n",
       "      <td>15.00</td>\n",
       "      <td>14.00</td>\n",
       "      <td>56</td>\n",
       "      <td>56</td>\n",
       "    </tr>\n",
       "    <tr>\n",
       "      <th>3</th>\n",
       "      <td>label4</td>\n",
       "      <td>7</td>\n",
       "      <td>2</td>\n",
       "      <td>172</td>\n",
       "      <td>6.00</td>\n",
       "      <td>9.00</td>\n",
       "      <td>40</td>\n",
       "      <td>40</td>\n",
       "    </tr>\n",
       "    <tr>\n",
       "      <th>4</th>\n",
       "      <td>label5</td>\n",
       "      <td>5</td>\n",
       "      <td>4</td>\n",
       "      <td>89</td>\n",
       "      <td>4.00</td>\n",
       "      <td>1.00</td>\n",
       "      <td>33</td>\n",
       "      <td>33</td>\n",
       "    </tr>\n",
       "    <tr>\n",
       "      <th>5</th>\n",
       "      <td>label6</td>\n",
       "      <td>2</td>\n",
       "      <td>1</td>\n",
       "      <td>41</td>\n",
       "      <td>NaN</td>\n",
       "      <td>1.00</td>\n",
       "      <td>6</td>\n",
       "      <td>6</td>\n",
       "    </tr>\n",
       "    <tr>\n",
       "      <th>6</th>\n",
       "      <td>label7</td>\n",
       "      <td>4</td>\n",
       "      <td>1</td>\n",
       "      <td>31</td>\n",
       "      <td>NaN</td>\n",
       "      <td>NaN</td>\n",
       "      <td>7</td>\n",
       "      <td>7</td>\n",
       "    </tr>\n",
       "  </tbody>\n",
       "</table>\n",
       "</div>"
      ],
      "text/plain": [
       "    label  qty_checks_x  qty_checks_y  qty_checks_x  qty_checks_y  \\\n",
       "0  label1            42           489          1006        977.00   \n",
       "1  label2            15            35           340         93.00   \n",
       "2  label3             7            11           173         15.00   \n",
       "3  label4             7             2           172          6.00   \n",
       "4  label5             5             4            89          4.00   \n",
       "5  label6             2             1            41           NaN   \n",
       "6  label7             4             1            31           NaN   \n",
       "\n",
       "   qty_checks_x  qty_checks_y  qty_checks  \n",
       "0        217.00           864         864  \n",
       "1         38.00           150         150  \n",
       "2         14.00            56          56  \n",
       "3          9.00            40          40  \n",
       "4          1.00            33          33  \n",
       "5          1.00             6           6  \n",
       "6           NaN             7           7  "
      ]
     },
     "execution_count": 201,
     "metadata": {},
     "output_type": "execute_result"
    }
   ],
   "source": [
    "val"
   ]
  },
  {
   "cell_type": "markdown",
   "id": "9b5eecc8",
   "metadata": {},
   "source": [
    "### X-27-25-Mars-Whiskas-7-sof"
   ]
  },
  {
   "cell_type": "code",
   "execution_count": 202,
   "id": "2d8b8e82",
   "metadata": {
    "collapsed": false,
    "jupyter": {
     "outputs_hidden": false
    },
    "pycharm": {
     "name": "#%%\n"
    }
   },
   "outputs": [],
   "source": [
    "camp_id = 'X-27-25-Mars-Whiskas-7-sof'\n",
    "\n",
    "experiment_params = ExperimentParams(**{\n",
    "    # Camp wave id нужно записать в виде мапы из id в префиксы.\n",
    "    # Префиксы ни на что не влияют, просто для более красивого названия групп\n",
    "    # Заполняются camp_wave_id. Если для контроля и теста одинаковый, то пишем два раза\n",
    "    'map_camp_wave_ids_to_suffixes': {\n",
    "        74131: \"sms_viber_tg\",\n",
    "        74131: \"sms_viber_cg\"\n",
    "    },\n",
    "\n",
    "    # communication period with guest (sending sms, push, etc.)\n",
    "    'date_communication_from': '2021-12-07',\n",
    "    'date_communication_to': '2021-12-13',\n",
    "\n",
    "    'wave_ids': [\n",
    "        74293 #если нет, то -1\n",
    "    ],\n",
    "    \n",
    "    'communication_costs': {\n",
    "        'sms': 1.38,\n",
    "        'viber': 1.32,\n",
    "        'email': 0.0083\n",
    "    }\n",
    "})\n",
    "#0_ + camp_wave_id +_sms_viber_ + cg (если номера волн равны) / tg (если номера волн разные)"
   ]
  },
  {
   "cell_type": "code",
   "execution_count": 203,
   "id": "ee10445e",
   "metadata": {
    "collapsed": false,
    "jupyter": {
     "outputs_hidden": false
    },
    "pycharm": {
     "name": "#%%\n"
    },
    "scrolled": true
   },
   "outputs": [],
   "source": [
    "experiment_guests = ExperimentParticipants(spark, experiment_params)\n",
    "experiment_guests_communications = experiment_guests.extract()"
   ]
  },
  {
   "cell_type": "code",
   "execution_count": 204,
   "id": "73515848",
   "metadata": {},
   "outputs": [],
   "source": [
    "if len(list(experiment_params.map_camp_wave_ids_to_suffixes.keys())) > 1:\n",
    "    if str(list(experiment_params.map_camp_wave_ids_to_suffixes.keys())[0]) != str(list(experiment_params.map_camp_wave_ids_to_suffixes.keys())[1]):\n",
    "        guests_tg = (experiment_guests_communications\n",
    "                  .filter(F.col('group_name') == '0_' +\n",
    "                        str(list(experiment_params.map_camp_wave_ids_to_suffixes.keys())[0]) + '_' +\n",
    "                        list(experiment_params.map_camp_wave_ids_to_suffixes.values())[0])\n",
    "                  .select('customer_rk').distinct()\n",
    "                 )\n",
    "\n",
    "        guests_cg = (experiment_guests_communications\n",
    "                  .filter(F.col('group_name') == '0_' +\n",
    "                        str(list(experiment_params.map_camp_wave_ids_to_suffixes.keys())[1]) + '_' +\n",
    "                        list(experiment_params.map_camp_wave_ids_to_suffixes.values())[1])\n",
    "                  .select('customer_rk').distinct()\n",
    "                 )\n",
    "    else:\n",
    "        print(\"Error - check the camp waves ids\")\n",
    "else:\n",
    "    guests_tg = (experiment_guests_communications\n",
    "              .filter(F.col('group_name') == '0_' +\n",
    "                    str(list(experiment_params.map_camp_wave_ids_to_suffixes.keys())[0]) + '_' +\n",
    "                    list(experiment_params.map_camp_wave_ids_to_suffixes.values())[0])\n",
    "              .select('customer_rk').distinct()\n",
    "             )\n",
    "\n",
    "    guests_cg = (experiment_guests_communications\n",
    "              .filter(F.col('group_name') == '1_' +\n",
    "                    str(list(experiment_params.map_camp_wave_ids_to_suffixes.keys())[0]) + '_' +\n",
    "                    list(experiment_params.map_camp_wave_ids_to_suffixes.values())[0])\n",
    "              .select('customer_rk').distinct()\n",
    "             )"
   ]
  },
  {
   "cell_type": "code",
   "execution_count": 205,
   "id": "626e67c6",
   "metadata": {},
   "outputs": [],
   "source": [
    "dt1 = datetime.datetime.strptime(experiment_params.date_communication_from, '%Y-%m-%d')\n",
    "dt2 = datetime.datetime.strptime(experiment_params.date_communication_to, '%Y-%m-%d')\n",
    "start_date = datetime.date(dt1.year, dt1.month, dt1.day)\n",
    "end_date = datetime.date(dt2.year, dt2.month, dt2.day)"
   ]
  },
  {
   "cell_type": "code",
   "execution_count": 206,
   "id": "d21ef3ad",
   "metadata": {},
   "outputs": [],
   "source": [
    "plu_codes = [4118758,4118759,4118761,4118763,4118765,4118766,4118770,4118771,4118772,4118773,4118774,\n",
    "             4118775,4118780,4118781,4118782,4121237,4121239,4118764,4118779]"
   ]
  },
  {
   "cell_type": "code",
   "execution_count": 207,
   "id": "2df2f181",
   "metadata": {},
   "outputs": [
    {
     "name": "stderr",
     "output_type": "stream",
     "text": [
      "                                                                                / 200]]]]]]\r"
     ]
    }
   ],
   "source": [
    "seg_pd_cg = get_segment_grouped_several_plu(spark, \n",
    "                    start_date, \n",
    "                    end_date, \n",
    "                    plu_codes,\n",
    "                    guests=guests_cg)"
   ]
  },
  {
   "cell_type": "code",
   "execution_count": 208,
   "id": "2dfd167f",
   "metadata": {},
   "outputs": [],
   "source": [
    "seg_pd_cg = seg_pd_cg.sort_values('label').reset_index(drop=True)"
   ]
  },
  {
   "cell_type": "code",
   "execution_count": 209,
   "id": "f6d7a30b",
   "metadata": {},
   "outputs": [
    {
     "name": "stderr",
     "output_type": "stream",
     "text": [
      "/opt/conda/lib/python3.7/site-packages/ipykernel_launcher.py:1: FutureWarning: Passing 'suffixes' which cause duplicate columns {'qty_checks_x'} in the result is deprecated and will raise a MergeError in a future version.\n",
      "  \"\"\"Entry point for launching an IPython kernel.\n"
     ]
    }
   ],
   "source": [
    "val = pd.merge(val, seg_pd_cg, 'left', 'label')"
   ]
  },
  {
   "cell_type": "code",
   "execution_count": 210,
   "id": "98a9ecbd",
   "metadata": {},
   "outputs": [
    {
     "data": {
      "text/html": [
       "<div>\n",
       "<style scoped>\n",
       "    .dataframe tbody tr th:only-of-type {\n",
       "        vertical-align: middle;\n",
       "    }\n",
       "\n",
       "    .dataframe tbody tr th {\n",
       "        vertical-align: top;\n",
       "    }\n",
       "\n",
       "    .dataframe thead th {\n",
       "        text-align: right;\n",
       "    }\n",
       "</style>\n",
       "<table border=\"1\" class=\"dataframe\">\n",
       "  <thead>\n",
       "    <tr style=\"text-align: right;\">\n",
       "      <th></th>\n",
       "      <th>label</th>\n",
       "      <th>qty_checks_x</th>\n",
       "      <th>qty_checks_y</th>\n",
       "      <th>qty_checks_x</th>\n",
       "      <th>qty_checks_y</th>\n",
       "      <th>qty_checks_x</th>\n",
       "      <th>qty_checks_y</th>\n",
       "      <th>qty_checks_x</th>\n",
       "      <th>qty_checks_y</th>\n",
       "    </tr>\n",
       "  </thead>\n",
       "  <tbody>\n",
       "    <tr>\n",
       "      <th>0</th>\n",
       "      <td>label1</td>\n",
       "      <td>42</td>\n",
       "      <td>489</td>\n",
       "      <td>1006</td>\n",
       "      <td>977.00</td>\n",
       "      <td>217.00</td>\n",
       "      <td>864</td>\n",
       "      <td>864</td>\n",
       "      <td>2624</td>\n",
       "    </tr>\n",
       "    <tr>\n",
       "      <th>1</th>\n",
       "      <td>label2</td>\n",
       "      <td>15</td>\n",
       "      <td>35</td>\n",
       "      <td>340</td>\n",
       "      <td>93.00</td>\n",
       "      <td>38.00</td>\n",
       "      <td>150</td>\n",
       "      <td>150</td>\n",
       "      <td>952</td>\n",
       "    </tr>\n",
       "    <tr>\n",
       "      <th>2</th>\n",
       "      <td>label3</td>\n",
       "      <td>7</td>\n",
       "      <td>11</td>\n",
       "      <td>173</td>\n",
       "      <td>15.00</td>\n",
       "      <td>14.00</td>\n",
       "      <td>56</td>\n",
       "      <td>56</td>\n",
       "      <td>539</td>\n",
       "    </tr>\n",
       "    <tr>\n",
       "      <th>3</th>\n",
       "      <td>label4</td>\n",
       "      <td>7</td>\n",
       "      <td>2</td>\n",
       "      <td>172</td>\n",
       "      <td>6.00</td>\n",
       "      <td>9.00</td>\n",
       "      <td>40</td>\n",
       "      <td>40</td>\n",
       "      <td>737</td>\n",
       "    </tr>\n",
       "    <tr>\n",
       "      <th>4</th>\n",
       "      <td>label5</td>\n",
       "      <td>5</td>\n",
       "      <td>4</td>\n",
       "      <td>89</td>\n",
       "      <td>4.00</td>\n",
       "      <td>1.00</td>\n",
       "      <td>33</td>\n",
       "      <td>33</td>\n",
       "      <td>454</td>\n",
       "    </tr>\n",
       "    <tr>\n",
       "      <th>5</th>\n",
       "      <td>label6</td>\n",
       "      <td>2</td>\n",
       "      <td>1</td>\n",
       "      <td>41</td>\n",
       "      <td>NaN</td>\n",
       "      <td>1.00</td>\n",
       "      <td>6</td>\n",
       "      <td>6</td>\n",
       "      <td>297</td>\n",
       "    </tr>\n",
       "    <tr>\n",
       "      <th>6</th>\n",
       "      <td>label7</td>\n",
       "      <td>4</td>\n",
       "      <td>1</td>\n",
       "      <td>31</td>\n",
       "      <td>NaN</td>\n",
       "      <td>NaN</td>\n",
       "      <td>7</td>\n",
       "      <td>7</td>\n",
       "      <td>275</td>\n",
       "    </tr>\n",
       "  </tbody>\n",
       "</table>\n",
       "</div>"
      ],
      "text/plain": [
       "    label  qty_checks_x  qty_checks_y  qty_checks_x  qty_checks_y  \\\n",
       "0  label1            42           489          1006        977.00   \n",
       "1  label2            15            35           340         93.00   \n",
       "2  label3             7            11           173         15.00   \n",
       "3  label4             7             2           172          6.00   \n",
       "4  label5             5             4            89          4.00   \n",
       "5  label6             2             1            41           NaN   \n",
       "6  label7             4             1            31           NaN   \n",
       "\n",
       "   qty_checks_x  qty_checks_y  qty_checks_x  qty_checks_y  \n",
       "0        217.00           864           864          2624  \n",
       "1         38.00           150           150           952  \n",
       "2         14.00            56            56           539  \n",
       "3          9.00            40            40           737  \n",
       "4          1.00            33            33           454  \n",
       "5          1.00             6             6           297  \n",
       "6           NaN             7             7           275  "
      ]
     },
     "execution_count": 210,
     "metadata": {},
     "output_type": "execute_result"
    }
   ],
   "source": [
    "val"
   ]
  },
  {
   "cell_type": "markdown",
   "id": "839f3b19",
   "metadata": {},
   "source": [
    "### X-27-24-Mars-Whiskas-6-sof"
   ]
  },
  {
   "cell_type": "code",
   "execution_count": 211,
   "id": "114851ce",
   "metadata": {
    "collapsed": false,
    "jupyter": {
     "outputs_hidden": false
    },
    "pycharm": {
     "name": "#%%\n"
    }
   },
   "outputs": [],
   "source": [
    "camp_id = 'X-27-24-Mars-Whiskas-6-sof'\n",
    "\n",
    "experiment_params = ExperimentParams(**{\n",
    "    # Camp wave id нужно записать в виде мапы из id в префиксы.\n",
    "    # Префиксы ни на что не влияют, просто для более красивого названия групп\n",
    "    # Заполняются camp_wave_id. Если для контроля и теста одинаковый, то пишем два раза\n",
    "    'map_camp_wave_ids_to_suffixes': {\n",
    "        74611: \"sms_viber_tg\",\n",
    "        74611: \"sms_viber_cg\"\n",
    "    },\n",
    "\n",
    "    # communication period with guest (sending sms, push, etc.)\n",
    "    'date_communication_from': '2021-12-08',\n",
    "    'date_communication_to': '2021-12-13',\n",
    "\n",
    "    'wave_ids': [\n",
    "        74716 #если нет, то -1\n",
    "    ],\n",
    "    \n",
    "    'communication_costs': {\n",
    "        'sms': 1.38,\n",
    "        'viber': 1.32,\n",
    "        'email': 0.0083\n",
    "    }\n",
    "})\n",
    "#0_ + camp_wave_id +_sms_viber_ + cg (если номера волн равны) / tg (если номера волн разные)"
   ]
  },
  {
   "cell_type": "code",
   "execution_count": 212,
   "id": "89b9f774",
   "metadata": {
    "collapsed": false,
    "jupyter": {
     "outputs_hidden": false
    },
    "pycharm": {
     "name": "#%%\n"
    },
    "scrolled": true
   },
   "outputs": [],
   "source": [
    "experiment_guests = ExperimentParticipants(spark, experiment_params)\n",
    "experiment_guests_communications = experiment_guests.extract()"
   ]
  },
  {
   "cell_type": "code",
   "execution_count": 213,
   "id": "45197318",
   "metadata": {},
   "outputs": [],
   "source": [
    "if len(list(experiment_params.map_camp_wave_ids_to_suffixes.keys())) > 1:\n",
    "    if str(list(experiment_params.map_camp_wave_ids_to_suffixes.keys())[0]) != str(list(experiment_params.map_camp_wave_ids_to_suffixes.keys())[1]):\n",
    "        guests_tg = (experiment_guests_communications\n",
    "                  .filter(F.col('group_name') == '0_' +\n",
    "                        str(list(experiment_params.map_camp_wave_ids_to_suffixes.keys())[0]) + '_' +\n",
    "                        list(experiment_params.map_camp_wave_ids_to_suffixes.values())[0])\n",
    "                  .select('customer_rk').distinct()\n",
    "                 )\n",
    "\n",
    "        guests_cg = (experiment_guests_communications\n",
    "                  .filter(F.col('group_name') == '0_' +\n",
    "                        str(list(experiment_params.map_camp_wave_ids_to_suffixes.keys())[1]) + '_' +\n",
    "                        list(experiment_params.map_camp_wave_ids_to_suffixes.values())[1])\n",
    "                  .select('customer_rk').distinct()\n",
    "                 )\n",
    "    else:\n",
    "        print(\"Error - check the camp waves ids\")\n",
    "else:\n",
    "    guests_tg = (experiment_guests_communications\n",
    "              .filter(F.col('group_name') == '0_' +\n",
    "                    str(list(experiment_params.map_camp_wave_ids_to_suffixes.keys())[0]) + '_' +\n",
    "                    list(experiment_params.map_camp_wave_ids_to_suffixes.values())[0])\n",
    "              .select('customer_rk').distinct()\n",
    "             )\n",
    "\n",
    "    guests_cg = (experiment_guests_communications\n",
    "              .filter(F.col('group_name') == '1_' +\n",
    "                    str(list(experiment_params.map_camp_wave_ids_to_suffixes.keys())[0]) + '_' +\n",
    "                    list(experiment_params.map_camp_wave_ids_to_suffixes.values())[0])\n",
    "              .select('customer_rk').distinct()\n",
    "             )"
   ]
  },
  {
   "cell_type": "code",
   "execution_count": 214,
   "id": "7799f513",
   "metadata": {},
   "outputs": [],
   "source": [
    "dt1 = datetime.datetime.strptime(experiment_params.date_communication_from, '%Y-%m-%d')\n",
    "dt2 = datetime.datetime.strptime(experiment_params.date_communication_to, '%Y-%m-%d')\n",
    "start_date = datetime.date(dt1.year, dt1.month, dt1.day)\n",
    "end_date = datetime.date(dt2.year, dt2.month, dt2.day)"
   ]
  },
  {
   "cell_type": "code",
   "execution_count": 215,
   "id": "6d3ed2a2",
   "metadata": {},
   "outputs": [],
   "source": [
    "plu_codes = [4118758,4118759,4118761,4118763,4118765,4118766,4118770,4118771,4118772,4118773,4118774,\n",
    "             4118775,4118780,4118781,4118782,4121237,4121239,4118764,4118779]"
   ]
  },
  {
   "cell_type": "code",
   "execution_count": 216,
   "id": "1f5de944",
   "metadata": {},
   "outputs": [
    {
     "name": "stderr",
     "output_type": "stream",
     "text": [
      "                                                                                 / 3915]]5]\r"
     ]
    }
   ],
   "source": [
    "seg_pd_cg = get_segment_grouped_several_plu(spark, \n",
    "                    start_date, \n",
    "                    end_date, \n",
    "                    plu_codes,\n",
    "                    guests=guests_cg)"
   ]
  },
  {
   "cell_type": "code",
   "execution_count": 217,
   "id": "4d940524",
   "metadata": {},
   "outputs": [],
   "source": [
    "seg_pd_cg = seg_pd_cg.sort_values('label').reset_index(drop=True)"
   ]
  },
  {
   "cell_type": "code",
   "execution_count": 218,
   "id": "daad6c6d",
   "metadata": {},
   "outputs": [],
   "source": [
    "val = pd.merge(val, seg_pd_cg, 'left', 'label')"
   ]
  },
  {
   "cell_type": "code",
   "execution_count": 219,
   "id": "33668e7a",
   "metadata": {},
   "outputs": [
    {
     "data": {
      "text/html": [
       "<div>\n",
       "<style scoped>\n",
       "    .dataframe tbody tr th:only-of-type {\n",
       "        vertical-align: middle;\n",
       "    }\n",
       "\n",
       "    .dataframe tbody tr th {\n",
       "        vertical-align: top;\n",
       "    }\n",
       "\n",
       "    .dataframe thead th {\n",
       "        text-align: right;\n",
       "    }\n",
       "</style>\n",
       "<table border=\"1\" class=\"dataframe\">\n",
       "  <thead>\n",
       "    <tr style=\"text-align: right;\">\n",
       "      <th></th>\n",
       "      <th>label</th>\n",
       "      <th>qty_checks_x</th>\n",
       "      <th>qty_checks_y</th>\n",
       "      <th>qty_checks_x</th>\n",
       "      <th>qty_checks_y</th>\n",
       "      <th>qty_checks_x</th>\n",
       "      <th>qty_checks_y</th>\n",
       "      <th>qty_checks_x</th>\n",
       "      <th>qty_checks_y</th>\n",
       "      <th>qty_checks</th>\n",
       "    </tr>\n",
       "  </thead>\n",
       "  <tbody>\n",
       "    <tr>\n",
       "      <th>0</th>\n",
       "      <td>label1</td>\n",
       "      <td>42</td>\n",
       "      <td>489</td>\n",
       "      <td>1006</td>\n",
       "      <td>977.00</td>\n",
       "      <td>217.00</td>\n",
       "      <td>864</td>\n",
       "      <td>864</td>\n",
       "      <td>2624</td>\n",
       "      <td>1563</td>\n",
       "    </tr>\n",
       "    <tr>\n",
       "      <th>1</th>\n",
       "      <td>label2</td>\n",
       "      <td>15</td>\n",
       "      <td>35</td>\n",
       "      <td>340</td>\n",
       "      <td>93.00</td>\n",
       "      <td>38.00</td>\n",
       "      <td>150</td>\n",
       "      <td>150</td>\n",
       "      <td>952</td>\n",
       "      <td>394</td>\n",
       "    </tr>\n",
       "    <tr>\n",
       "      <th>2</th>\n",
       "      <td>label3</td>\n",
       "      <td>7</td>\n",
       "      <td>11</td>\n",
       "      <td>173</td>\n",
       "      <td>15.00</td>\n",
       "      <td>14.00</td>\n",
       "      <td>56</td>\n",
       "      <td>56</td>\n",
       "      <td>539</td>\n",
       "      <td>179</td>\n",
       "    </tr>\n",
       "    <tr>\n",
       "      <th>3</th>\n",
       "      <td>label4</td>\n",
       "      <td>7</td>\n",
       "      <td>2</td>\n",
       "      <td>172</td>\n",
       "      <td>6.00</td>\n",
       "      <td>9.00</td>\n",
       "      <td>40</td>\n",
       "      <td>40</td>\n",
       "      <td>737</td>\n",
       "      <td>268</td>\n",
       "    </tr>\n",
       "    <tr>\n",
       "      <th>4</th>\n",
       "      <td>label5</td>\n",
       "      <td>5</td>\n",
       "      <td>4</td>\n",
       "      <td>89</td>\n",
       "      <td>4.00</td>\n",
       "      <td>1.00</td>\n",
       "      <td>33</td>\n",
       "      <td>33</td>\n",
       "      <td>454</td>\n",
       "      <td>155</td>\n",
       "    </tr>\n",
       "    <tr>\n",
       "      <th>5</th>\n",
       "      <td>label6</td>\n",
       "      <td>2</td>\n",
       "      <td>1</td>\n",
       "      <td>41</td>\n",
       "      <td>NaN</td>\n",
       "      <td>1.00</td>\n",
       "      <td>6</td>\n",
       "      <td>6</td>\n",
       "      <td>297</td>\n",
       "      <td>86</td>\n",
       "    </tr>\n",
       "    <tr>\n",
       "      <th>6</th>\n",
       "      <td>label7</td>\n",
       "      <td>4</td>\n",
       "      <td>1</td>\n",
       "      <td>31</td>\n",
       "      <td>NaN</td>\n",
       "      <td>NaN</td>\n",
       "      <td>7</td>\n",
       "      <td>7</td>\n",
       "      <td>275</td>\n",
       "      <td>90</td>\n",
       "    </tr>\n",
       "  </tbody>\n",
       "</table>\n",
       "</div>"
      ],
      "text/plain": [
       "    label  qty_checks_x  qty_checks_y  qty_checks_x  qty_checks_y  \\\n",
       "0  label1            42           489          1006        977.00   \n",
       "1  label2            15            35           340         93.00   \n",
       "2  label3             7            11           173         15.00   \n",
       "3  label4             7             2           172          6.00   \n",
       "4  label5             5             4            89          4.00   \n",
       "5  label6             2             1            41           NaN   \n",
       "6  label7             4             1            31           NaN   \n",
       "\n",
       "   qty_checks_x  qty_checks_y  qty_checks_x  qty_checks_y  qty_checks  \n",
       "0        217.00           864           864          2624        1563  \n",
       "1         38.00           150           150           952         394  \n",
       "2         14.00            56            56           539         179  \n",
       "3          9.00            40            40           737         268  \n",
       "4          1.00            33            33           454         155  \n",
       "5          1.00             6             6           297          86  \n",
       "6           NaN             7             7           275          90  "
      ]
     },
     "execution_count": 219,
     "metadata": {},
     "output_type": "execute_result"
    }
   ],
   "source": [
    "val"
   ]
  },
  {
   "cell_type": "markdown",
   "id": "12a5c6f8",
   "metadata": {},
   "source": [
    "### X-27-23-Mars-Whiskas-5-sof"
   ]
  },
  {
   "cell_type": "code",
   "execution_count": 220,
   "id": "04ea3719",
   "metadata": {
    "collapsed": false,
    "jupyter": {
     "outputs_hidden": false
    },
    "pycharm": {
     "name": "#%%\n"
    }
   },
   "outputs": [],
   "source": [
    "camp_id = 'X-27-23-Mars-Whiskas-5-sof'\n",
    "\n",
    "experiment_params = ExperimentParams(**{\n",
    "    # Camp wave id нужно записать в виде мапы из id в префиксы.\n",
    "    # Префиксы ни на что не влияют, просто для более красивого названия групп\n",
    "    # Заполняются camp_wave_id. Если для контроля и теста одинаковый, то пишем два раза\n",
    "    'map_camp_wave_ids_to_suffixes': {\n",
    "        74153: \"sms_viber_tg\",\n",
    "        74153: \"sms_viber_cg\"\n",
    "    },\n",
    "\n",
    "    # communication period with guest (sending sms, push, etc.)\n",
    "    'date_communication_from': '2021-12-07',\n",
    "    'date_communication_to': '2021-12-13',\n",
    "\n",
    "    'wave_ids': [\n",
    "        74319 #если нет, то -1\n",
    "    ],\n",
    "    \n",
    "    'communication_costs': {\n",
    "        'sms': 1.38,\n",
    "        'viber': 1.32,\n",
    "        'email': 0.0083\n",
    "    }\n",
    "})\n",
    "#0_ + camp_wave_id +_sms_viber_ + cg (если номера волн равны) / tg (если номера волн разные)"
   ]
  },
  {
   "cell_type": "code",
   "execution_count": 221,
   "id": "8c817f95",
   "metadata": {
    "collapsed": false,
    "jupyter": {
     "outputs_hidden": false
    },
    "pycharm": {
     "name": "#%%\n"
    },
    "scrolled": true
   },
   "outputs": [],
   "source": [
    "experiment_guests = ExperimentParticipants(spark, experiment_params)\n",
    "experiment_guests_communications = experiment_guests.extract()"
   ]
  },
  {
   "cell_type": "code",
   "execution_count": 222,
   "id": "4f11914d",
   "metadata": {},
   "outputs": [],
   "source": [
    "if len(list(experiment_params.map_camp_wave_ids_to_suffixes.keys())) > 1:\n",
    "    if str(list(experiment_params.map_camp_wave_ids_to_suffixes.keys())[0]) != str(list(experiment_params.map_camp_wave_ids_to_suffixes.keys())[1]):\n",
    "        guests_tg = (experiment_guests_communications\n",
    "                  .filter(F.col('group_name') == '0_' +\n",
    "                        str(list(experiment_params.map_camp_wave_ids_to_suffixes.keys())[0]) + '_' +\n",
    "                        list(experiment_params.map_camp_wave_ids_to_suffixes.values())[0])\n",
    "                  .select('customer_rk').distinct()\n",
    "                 )\n",
    "\n",
    "        guests_cg = (experiment_guests_communications\n",
    "                  .filter(F.col('group_name') == '0_' +\n",
    "                        str(list(experiment_params.map_camp_wave_ids_to_suffixes.keys())[1]) + '_' +\n",
    "                        list(experiment_params.map_camp_wave_ids_to_suffixes.values())[1])\n",
    "                  .select('customer_rk').distinct()\n",
    "                 )\n",
    "    else:\n",
    "        print(\"Error - check the camp waves ids\")\n",
    "else:\n",
    "    guests_tg = (experiment_guests_communications\n",
    "              .filter(F.col('group_name') == '0_' +\n",
    "                    str(list(experiment_params.map_camp_wave_ids_to_suffixes.keys())[0]) + '_' +\n",
    "                    list(experiment_params.map_camp_wave_ids_to_suffixes.values())[0])\n",
    "              .select('customer_rk').distinct()\n",
    "             )\n",
    "\n",
    "    guests_cg = (experiment_guests_communications\n",
    "              .filter(F.col('group_name') == '1_' +\n",
    "                    str(list(experiment_params.map_camp_wave_ids_to_suffixes.keys())[0]) + '_' +\n",
    "                    list(experiment_params.map_camp_wave_ids_to_suffixes.values())[0])\n",
    "              .select('customer_rk').distinct()\n",
    "             )"
   ]
  },
  {
   "cell_type": "code",
   "execution_count": 223,
   "id": "58068b2b",
   "metadata": {},
   "outputs": [],
   "source": [
    "dt1 = datetime.datetime.strptime(experiment_params.date_communication_from, '%Y-%m-%d')\n",
    "dt2 = datetime.datetime.strptime(experiment_params.date_communication_to, '%Y-%m-%d')\n",
    "start_date = datetime.date(dt1.year, dt1.month, dt1.day)\n",
    "end_date = datetime.date(dt2.year, dt2.month, dt2.day)"
   ]
  },
  {
   "cell_type": "code",
   "execution_count": 224,
   "id": "eeabbeda",
   "metadata": {},
   "outputs": [],
   "source": [
    "plu_codes = [4118758,4118759,4118761,4118763,4118765,4118766,4118770,4118771,4118772,4118773,4118774,\n",
    "             4118775,4118780,4118781,4118782,4121237,4121239,4118764,4118779]"
   ]
  },
  {
   "cell_type": "code",
   "execution_count": 225,
   "id": "0e1cb4ef",
   "metadata": {},
   "outputs": [
    {
     "name": "stderr",
     "output_type": "stream",
     "text": [
      "                                                                                / 3915]]]]]\r"
     ]
    }
   ],
   "source": [
    "seg_pd_cg = get_segment_grouped_several_plu(spark, \n",
    "                    start_date, \n",
    "                    end_date, \n",
    "                    plu_codes,\n",
    "                    guests=guests_cg)"
   ]
  },
  {
   "cell_type": "code",
   "execution_count": 226,
   "id": "faa70d30",
   "metadata": {},
   "outputs": [],
   "source": [
    "seg_pd_cg = seg_pd_cg.sort_values('label').reset_index(drop=True)"
   ]
  },
  {
   "cell_type": "code",
   "execution_count": 227,
   "id": "9d70b5e4",
   "metadata": {},
   "outputs": [
    {
     "name": "stderr",
     "output_type": "stream",
     "text": [
      "/opt/conda/lib/python3.7/site-packages/ipykernel_launcher.py:1: FutureWarning: Passing 'suffixes' which cause duplicate columns {'qty_checks_x'} in the result is deprecated and will raise a MergeError in a future version.\n",
      "  \"\"\"Entry point for launching an IPython kernel.\n"
     ]
    }
   ],
   "source": [
    "val = pd.merge(val, seg_pd_cg, 'left', 'label')"
   ]
  },
  {
   "cell_type": "code",
   "execution_count": 228,
   "id": "fa07bc22",
   "metadata": {},
   "outputs": [
    {
     "data": {
      "text/html": [
       "<div>\n",
       "<style scoped>\n",
       "    .dataframe tbody tr th:only-of-type {\n",
       "        vertical-align: middle;\n",
       "    }\n",
       "\n",
       "    .dataframe tbody tr th {\n",
       "        vertical-align: top;\n",
       "    }\n",
       "\n",
       "    .dataframe thead th {\n",
       "        text-align: right;\n",
       "    }\n",
       "</style>\n",
       "<table border=\"1\" class=\"dataframe\">\n",
       "  <thead>\n",
       "    <tr style=\"text-align: right;\">\n",
       "      <th></th>\n",
       "      <th>label</th>\n",
       "      <th>qty_checks_x</th>\n",
       "      <th>qty_checks_y</th>\n",
       "      <th>qty_checks_x</th>\n",
       "      <th>qty_checks_y</th>\n",
       "      <th>qty_checks_x</th>\n",
       "      <th>qty_checks_y</th>\n",
       "      <th>qty_checks_x</th>\n",
       "      <th>qty_checks_y</th>\n",
       "      <th>qty_checks_x</th>\n",
       "      <th>qty_checks_y</th>\n",
       "    </tr>\n",
       "  </thead>\n",
       "  <tbody>\n",
       "    <tr>\n",
       "      <th>0</th>\n",
       "      <td>label1</td>\n",
       "      <td>42</td>\n",
       "      <td>489</td>\n",
       "      <td>1006</td>\n",
       "      <td>977.00</td>\n",
       "      <td>217.00</td>\n",
       "      <td>864</td>\n",
       "      <td>864</td>\n",
       "      <td>2624</td>\n",
       "      <td>1563</td>\n",
       "      <td>2756</td>\n",
       "    </tr>\n",
       "    <tr>\n",
       "      <th>1</th>\n",
       "      <td>label2</td>\n",
       "      <td>15</td>\n",
       "      <td>35</td>\n",
       "      <td>340</td>\n",
       "      <td>93.00</td>\n",
       "      <td>38.00</td>\n",
       "      <td>150</td>\n",
       "      <td>150</td>\n",
       "      <td>952</td>\n",
       "      <td>394</td>\n",
       "      <td>963</td>\n",
       "    </tr>\n",
       "    <tr>\n",
       "      <th>2</th>\n",
       "      <td>label3</td>\n",
       "      <td>7</td>\n",
       "      <td>11</td>\n",
       "      <td>173</td>\n",
       "      <td>15.00</td>\n",
       "      <td>14.00</td>\n",
       "      <td>56</td>\n",
       "      <td>56</td>\n",
       "      <td>539</td>\n",
       "      <td>179</td>\n",
       "      <td>504</td>\n",
       "    </tr>\n",
       "    <tr>\n",
       "      <th>3</th>\n",
       "      <td>label4</td>\n",
       "      <td>7</td>\n",
       "      <td>2</td>\n",
       "      <td>172</td>\n",
       "      <td>6.00</td>\n",
       "      <td>9.00</td>\n",
       "      <td>40</td>\n",
       "      <td>40</td>\n",
       "      <td>737</td>\n",
       "      <td>268</td>\n",
       "      <td>532</td>\n",
       "    </tr>\n",
       "    <tr>\n",
       "      <th>4</th>\n",
       "      <td>label5</td>\n",
       "      <td>5</td>\n",
       "      <td>4</td>\n",
       "      <td>89</td>\n",
       "      <td>4.00</td>\n",
       "      <td>1.00</td>\n",
       "      <td>33</td>\n",
       "      <td>33</td>\n",
       "      <td>454</td>\n",
       "      <td>155</td>\n",
       "      <td>389</td>\n",
       "    </tr>\n",
       "    <tr>\n",
       "      <th>5</th>\n",
       "      <td>label6</td>\n",
       "      <td>2</td>\n",
       "      <td>1</td>\n",
       "      <td>41</td>\n",
       "      <td>NaN</td>\n",
       "      <td>1.00</td>\n",
       "      <td>6</td>\n",
       "      <td>6</td>\n",
       "      <td>297</td>\n",
       "      <td>86</td>\n",
       "      <td>204</td>\n",
       "    </tr>\n",
       "    <tr>\n",
       "      <th>6</th>\n",
       "      <td>label7</td>\n",
       "      <td>4</td>\n",
       "      <td>1</td>\n",
       "      <td>31</td>\n",
       "      <td>NaN</td>\n",
       "      <td>NaN</td>\n",
       "      <td>7</td>\n",
       "      <td>7</td>\n",
       "      <td>275</td>\n",
       "      <td>90</td>\n",
       "      <td>169</td>\n",
       "    </tr>\n",
       "  </tbody>\n",
       "</table>\n",
       "</div>"
      ],
      "text/plain": [
       "    label  qty_checks_x  qty_checks_y  qty_checks_x  qty_checks_y  \\\n",
       "0  label1            42           489          1006        977.00   \n",
       "1  label2            15            35           340         93.00   \n",
       "2  label3             7            11           173         15.00   \n",
       "3  label4             7             2           172          6.00   \n",
       "4  label5             5             4            89          4.00   \n",
       "5  label6             2             1            41           NaN   \n",
       "6  label7             4             1            31           NaN   \n",
       "\n",
       "   qty_checks_x  qty_checks_y  qty_checks_x  qty_checks_y  qty_checks_x  \\\n",
       "0        217.00           864           864          2624          1563   \n",
       "1         38.00           150           150           952           394   \n",
       "2         14.00            56            56           539           179   \n",
       "3          9.00            40            40           737           268   \n",
       "4          1.00            33            33           454           155   \n",
       "5          1.00             6             6           297            86   \n",
       "6           NaN             7             7           275            90   \n",
       "\n",
       "   qty_checks_y  \n",
       "0          2756  \n",
       "1           963  \n",
       "2           504  \n",
       "3           532  \n",
       "4           389  \n",
       "5           204  \n",
       "6           169  "
      ]
     },
     "execution_count": 228,
     "metadata": {},
     "output_type": "execute_result"
    }
   ],
   "source": [
    "val"
   ]
  },
  {
   "cell_type": "markdown",
   "id": "91b75166",
   "metadata": {},
   "source": [
    "### X-27-22-Mars-Whiskas-4-sof"
   ]
  },
  {
   "cell_type": "code",
   "execution_count": 229,
   "id": "3ef93e94",
   "metadata": {
    "collapsed": false,
    "jupyter": {
     "outputs_hidden": false
    },
    "pycharm": {
     "name": "#%%\n"
    }
   },
   "outputs": [],
   "source": [
    "camp_id = 'X-27-22-Mars-Whiskas-4-sof'\n",
    "\n",
    "experiment_params = ExperimentParams(**{\n",
    "    # Camp wave id нужно записать в виде мапы из id в префиксы.\n",
    "    # Префиксы ни на что не влияют, просто для более красивого названия групп\n",
    "    # Заполняются camp_wave_id. Если для контроля и теста одинаковый, то пишем два раза\n",
    "    'map_camp_wave_ids_to_suffixes': {\n",
    "        74139: \"sms_viber_tg\",\n",
    "        74139: \"sms_viber_cg\"\n",
    "    },\n",
    "\n",
    "    # communication period with guest (sending sms, push, etc.)\n",
    "    'date_communication_from': '2021-12-07',\n",
    "    'date_communication_to': '2021-12-13',\n",
    "\n",
    "    'wave_ids': [\n",
    "        74313 #если нет, то -1\n",
    "    ],\n",
    "    \n",
    "    'communication_costs': {\n",
    "        'sms': 1.38,\n",
    "        'viber': 1.32,\n",
    "        'email': 0.0083\n",
    "    }\n",
    "})\n",
    "#0_ + camp_wave_id +_sms_viber_ + cg (если номера волн равны) / tg (если номера волн разные)"
   ]
  },
  {
   "cell_type": "code",
   "execution_count": 230,
   "id": "aee5bdcc",
   "metadata": {
    "collapsed": false,
    "jupyter": {
     "outputs_hidden": false
    },
    "pycharm": {
     "name": "#%%\n"
    },
    "scrolled": true
   },
   "outputs": [],
   "source": [
    "experiment_guests = ExperimentParticipants(spark, experiment_params)\n",
    "experiment_guests_communications = experiment_guests.extract()"
   ]
  },
  {
   "cell_type": "code",
   "execution_count": 231,
   "id": "dc0356bd",
   "metadata": {},
   "outputs": [],
   "source": [
    "if len(list(experiment_params.map_camp_wave_ids_to_suffixes.keys())) > 1:\n",
    "    if str(list(experiment_params.map_camp_wave_ids_to_suffixes.keys())[0]) != str(list(experiment_params.map_camp_wave_ids_to_suffixes.keys())[1]):\n",
    "        guests_tg = (experiment_guests_communications\n",
    "                  .filter(F.col('group_name') == '0_' +\n",
    "                        str(list(experiment_params.map_camp_wave_ids_to_suffixes.keys())[0]) + '_' +\n",
    "                        list(experiment_params.map_camp_wave_ids_to_suffixes.values())[0])\n",
    "                  .select('customer_rk').distinct()\n",
    "                 )\n",
    "\n",
    "        guests_cg = (experiment_guests_communications\n",
    "                  .filter(F.col('group_name') == '0_' +\n",
    "                        str(list(experiment_params.map_camp_wave_ids_to_suffixes.keys())[1]) + '_' +\n",
    "                        list(experiment_params.map_camp_wave_ids_to_suffixes.values())[1])\n",
    "                  .select('customer_rk').distinct()\n",
    "                 )\n",
    "    else:\n",
    "        print(\"Error - check the camp waves ids\")\n",
    "else:\n",
    "    guests_tg = (experiment_guests_communications\n",
    "              .filter(F.col('group_name') == '0_' +\n",
    "                    str(list(experiment_params.map_camp_wave_ids_to_suffixes.keys())[0]) + '_' +\n",
    "                    list(experiment_params.map_camp_wave_ids_to_suffixes.values())[0])\n",
    "              .select('customer_rk').distinct()\n",
    "             )\n",
    "\n",
    "    guests_cg = (experiment_guests_communications\n",
    "              .filter(F.col('group_name') == '1_' +\n",
    "                    str(list(experiment_params.map_camp_wave_ids_to_suffixes.keys())[0]) + '_' +\n",
    "                    list(experiment_params.map_camp_wave_ids_to_suffixes.values())[0])\n",
    "              .select('customer_rk').distinct()\n",
    "             )"
   ]
  },
  {
   "cell_type": "code",
   "execution_count": 232,
   "id": "9ea33bfa",
   "metadata": {},
   "outputs": [],
   "source": [
    "dt1 = datetime.datetime.strptime(experiment_params.date_communication_from, '%Y-%m-%d')\n",
    "dt2 = datetime.datetime.strptime(experiment_params.date_communication_to, '%Y-%m-%d')\n",
    "start_date = datetime.date(dt1.year, dt1.month, dt1.day)\n",
    "end_date = datetime.date(dt2.year, dt2.month, dt2.day)"
   ]
  },
  {
   "cell_type": "code",
   "execution_count": 233,
   "id": "e36c47b4",
   "metadata": {},
   "outputs": [],
   "source": [
    "plu_codes = [4118758,4118759,4118761,4118763,4118765,4118766,4118770,4118771,4118772,4118773,4118774,\n",
    "             4118775,4118780,4118781,4118782,4121237,4121239,4118764,4118779]"
   ]
  },
  {
   "cell_type": "code",
   "execution_count": 234,
   "id": "420d08e4",
   "metadata": {},
   "outputs": [
    {
     "name": "stderr",
     "output_type": "stream",
     "text": [
      "                                                                                / 3915]]]]]\r"
     ]
    }
   ],
   "source": [
    "seg_pd_cg = get_segment_grouped_several_plu(spark, \n",
    "                    start_date, \n",
    "                    end_date, \n",
    "                    plu_codes,\n",
    "                    guests=guests_cg)"
   ]
  },
  {
   "cell_type": "code",
   "execution_count": 235,
   "id": "a44a83e0",
   "metadata": {},
   "outputs": [],
   "source": [
    "seg_pd_cg = seg_pd_cg.sort_values('label').reset_index(drop=True)"
   ]
  },
  {
   "cell_type": "code",
   "execution_count": 236,
   "id": "706fb0ff",
   "metadata": {},
   "outputs": [],
   "source": [
    "val = pd.merge(val, seg_pd_cg, 'left', 'label')"
   ]
  },
  {
   "cell_type": "code",
   "execution_count": 237,
   "id": "25d42502",
   "metadata": {},
   "outputs": [
    {
     "data": {
      "text/html": [
       "<div>\n",
       "<style scoped>\n",
       "    .dataframe tbody tr th:only-of-type {\n",
       "        vertical-align: middle;\n",
       "    }\n",
       "\n",
       "    .dataframe tbody tr th {\n",
       "        vertical-align: top;\n",
       "    }\n",
       "\n",
       "    .dataframe thead th {\n",
       "        text-align: right;\n",
       "    }\n",
       "</style>\n",
       "<table border=\"1\" class=\"dataframe\">\n",
       "  <thead>\n",
       "    <tr style=\"text-align: right;\">\n",
       "      <th></th>\n",
       "      <th>label</th>\n",
       "      <th>qty_checks_x</th>\n",
       "      <th>qty_checks_y</th>\n",
       "      <th>qty_checks_x</th>\n",
       "      <th>qty_checks_y</th>\n",
       "      <th>qty_checks_x</th>\n",
       "      <th>qty_checks_y</th>\n",
       "      <th>qty_checks_x</th>\n",
       "      <th>qty_checks_y</th>\n",
       "      <th>qty_checks_x</th>\n",
       "      <th>qty_checks_y</th>\n",
       "      <th>qty_checks</th>\n",
       "    </tr>\n",
       "  </thead>\n",
       "  <tbody>\n",
       "    <tr>\n",
       "      <th>0</th>\n",
       "      <td>label1</td>\n",
       "      <td>42</td>\n",
       "      <td>489</td>\n",
       "      <td>1006</td>\n",
       "      <td>977.00</td>\n",
       "      <td>217.00</td>\n",
       "      <td>864</td>\n",
       "      <td>864</td>\n",
       "      <td>2624</td>\n",
       "      <td>1563</td>\n",
       "      <td>2756</td>\n",
       "      <td>2575</td>\n",
       "    </tr>\n",
       "    <tr>\n",
       "      <th>1</th>\n",
       "      <td>label2</td>\n",
       "      <td>15</td>\n",
       "      <td>35</td>\n",
       "      <td>340</td>\n",
       "      <td>93.00</td>\n",
       "      <td>38.00</td>\n",
       "      <td>150</td>\n",
       "      <td>150</td>\n",
       "      <td>952</td>\n",
       "      <td>394</td>\n",
       "      <td>963</td>\n",
       "      <td>558</td>\n",
       "    </tr>\n",
       "    <tr>\n",
       "      <th>2</th>\n",
       "      <td>label3</td>\n",
       "      <td>7</td>\n",
       "      <td>11</td>\n",
       "      <td>173</td>\n",
       "      <td>15.00</td>\n",
       "      <td>14.00</td>\n",
       "      <td>56</td>\n",
       "      <td>56</td>\n",
       "      <td>539</td>\n",
       "      <td>179</td>\n",
       "      <td>504</td>\n",
       "      <td>251</td>\n",
       "    </tr>\n",
       "    <tr>\n",
       "      <th>3</th>\n",
       "      <td>label4</td>\n",
       "      <td>7</td>\n",
       "      <td>2</td>\n",
       "      <td>172</td>\n",
       "      <td>6.00</td>\n",
       "      <td>9.00</td>\n",
       "      <td>40</td>\n",
       "      <td>40</td>\n",
       "      <td>737</td>\n",
       "      <td>268</td>\n",
       "      <td>532</td>\n",
       "      <td>245</td>\n",
       "    </tr>\n",
       "    <tr>\n",
       "      <th>4</th>\n",
       "      <td>label5</td>\n",
       "      <td>5</td>\n",
       "      <td>4</td>\n",
       "      <td>89</td>\n",
       "      <td>4.00</td>\n",
       "      <td>1.00</td>\n",
       "      <td>33</td>\n",
       "      <td>33</td>\n",
       "      <td>454</td>\n",
       "      <td>155</td>\n",
       "      <td>389</td>\n",
       "      <td>168</td>\n",
       "    </tr>\n",
       "    <tr>\n",
       "      <th>5</th>\n",
       "      <td>label6</td>\n",
       "      <td>2</td>\n",
       "      <td>1</td>\n",
       "      <td>41</td>\n",
       "      <td>NaN</td>\n",
       "      <td>1.00</td>\n",
       "      <td>6</td>\n",
       "      <td>6</td>\n",
       "      <td>297</td>\n",
       "      <td>86</td>\n",
       "      <td>204</td>\n",
       "      <td>85</td>\n",
       "    </tr>\n",
       "    <tr>\n",
       "      <th>6</th>\n",
       "      <td>label7</td>\n",
       "      <td>4</td>\n",
       "      <td>1</td>\n",
       "      <td>31</td>\n",
       "      <td>NaN</td>\n",
       "      <td>NaN</td>\n",
       "      <td>7</td>\n",
       "      <td>7</td>\n",
       "      <td>275</td>\n",
       "      <td>90</td>\n",
       "      <td>169</td>\n",
       "      <td>90</td>\n",
       "    </tr>\n",
       "  </tbody>\n",
       "</table>\n",
       "</div>"
      ],
      "text/plain": [
       "    label  qty_checks_x  qty_checks_y  qty_checks_x  qty_checks_y  \\\n",
       "0  label1            42           489          1006        977.00   \n",
       "1  label2            15            35           340         93.00   \n",
       "2  label3             7            11           173         15.00   \n",
       "3  label4             7             2           172          6.00   \n",
       "4  label5             5             4            89          4.00   \n",
       "5  label6             2             1            41           NaN   \n",
       "6  label7             4             1            31           NaN   \n",
       "\n",
       "   qty_checks_x  qty_checks_y  qty_checks_x  qty_checks_y  qty_checks_x  \\\n",
       "0        217.00           864           864          2624          1563   \n",
       "1         38.00           150           150           952           394   \n",
       "2         14.00            56            56           539           179   \n",
       "3          9.00            40            40           737           268   \n",
       "4          1.00            33            33           454           155   \n",
       "5          1.00             6             6           297            86   \n",
       "6           NaN             7             7           275            90   \n",
       "\n",
       "   qty_checks_y  qty_checks  \n",
       "0          2756        2575  \n",
       "1           963         558  \n",
       "2           504         251  \n",
       "3           532         245  \n",
       "4           389         168  \n",
       "5           204          85  \n",
       "6           169          90  "
      ]
     },
     "execution_count": 237,
     "metadata": {},
     "output_type": "execute_result"
    }
   ],
   "source": [
    "val"
   ]
  },
  {
   "cell_type": "markdown",
   "id": "12d050bb",
   "metadata": {},
   "source": [
    "### X-27-21-Mars-Whiskas-3-sof"
   ]
  },
  {
   "cell_type": "code",
   "execution_count": 238,
   "id": "a3a890cc",
   "metadata": {
    "collapsed": false,
    "jupyter": {
     "outputs_hidden": false
    },
    "pycharm": {
     "name": "#%%\n"
    }
   },
   "outputs": [],
   "source": [
    "camp_id = 'X-27-21-Mars-Whiskas-3-sof'\n",
    "\n",
    "experiment_params = ExperimentParams(**{\n",
    "    # Camp wave id нужно записать в виде мапы из id в префиксы.\n",
    "    # Префиксы ни на что не влияют, просто для более красивого названия групп\n",
    "    # Заполняются camp_wave_id. Если для контроля и теста одинаковый, то пишем два раза\n",
    "    'map_camp_wave_ids_to_suffixes': {\n",
    "        74606: \"sms_viber_tg\",\n",
    "        74606: \"sms_viber_cg\"\n",
    "    },\n",
    "\n",
    "    # communication period with guest (sending sms, push, etc.)\n",
    "    'date_communication_from': '2021-12-08',\n",
    "    'date_communication_to': '2021-12-13',\n",
    "\n",
    "    'wave_ids': [\n",
    "        74704 #если нет, то -1\n",
    "    ],\n",
    "    \n",
    "    'communication_costs': {\n",
    "        'sms': 1.38,\n",
    "        'viber': 1.32,\n",
    "        'email': 0.0083\n",
    "    }\n",
    "})\n",
    "#0_ + camp_wave_id +_sms_viber_ + cg (если номера волн равны) / tg (если номера волн разные)"
   ]
  },
  {
   "cell_type": "code",
   "execution_count": 239,
   "id": "fcbccaf8",
   "metadata": {
    "collapsed": false,
    "jupyter": {
     "outputs_hidden": false
    },
    "pycharm": {
     "name": "#%%\n"
    },
    "scrolled": true
   },
   "outputs": [],
   "source": [
    "experiment_guests = ExperimentParticipants(spark, experiment_params)\n",
    "experiment_guests_communications = experiment_guests.extract()"
   ]
  },
  {
   "cell_type": "code",
   "execution_count": 240,
   "id": "5c69fa1e",
   "metadata": {},
   "outputs": [],
   "source": [
    "if len(list(experiment_params.map_camp_wave_ids_to_suffixes.keys())) > 1:\n",
    "    if str(list(experiment_params.map_camp_wave_ids_to_suffixes.keys())[0]) != str(list(experiment_params.map_camp_wave_ids_to_suffixes.keys())[1]):\n",
    "        guests_tg = (experiment_guests_communications\n",
    "                  .filter(F.col('group_name') == '0_' +\n",
    "                        str(list(experiment_params.map_camp_wave_ids_to_suffixes.keys())[0]) + '_' +\n",
    "                        list(experiment_params.map_camp_wave_ids_to_suffixes.values())[0])\n",
    "                  .select('customer_rk').distinct()\n",
    "                 )\n",
    "\n",
    "        guests_cg = (experiment_guests_communications\n",
    "                  .filter(F.col('group_name') == '0_' +\n",
    "                        str(list(experiment_params.map_camp_wave_ids_to_suffixes.keys())[1]) + '_' +\n",
    "                        list(experiment_params.map_camp_wave_ids_to_suffixes.values())[1])\n",
    "                  .select('customer_rk').distinct()\n",
    "                 )\n",
    "    else:\n",
    "        print(\"Error - check the camp waves ids\")\n",
    "else:\n",
    "    guests_tg = (experiment_guests_communications\n",
    "              .filter(F.col('group_name') == '0_' +\n",
    "                    str(list(experiment_params.map_camp_wave_ids_to_suffixes.keys())[0]) + '_' +\n",
    "                    list(experiment_params.map_camp_wave_ids_to_suffixes.values())[0])\n",
    "              .select('customer_rk').distinct()\n",
    "             )\n",
    "\n",
    "    guests_cg = (experiment_guests_communications\n",
    "              .filter(F.col('group_name') == '1_' +\n",
    "                    str(list(experiment_params.map_camp_wave_ids_to_suffixes.keys())[0]) + '_' +\n",
    "                    list(experiment_params.map_camp_wave_ids_to_suffixes.values())[0])\n",
    "              .select('customer_rk').distinct()\n",
    "             )"
   ]
  },
  {
   "cell_type": "code",
   "execution_count": 241,
   "id": "d19f22a3",
   "metadata": {},
   "outputs": [],
   "source": [
    "dt1 = datetime.datetime.strptime(experiment_params.date_communication_from, '%Y-%m-%d')\n",
    "dt2 = datetime.datetime.strptime(experiment_params.date_communication_to, '%Y-%m-%d')\n",
    "start_date = datetime.date(dt1.year, dt1.month, dt1.day)\n",
    "end_date = datetime.date(dt2.year, dt2.month, dt2.day)"
   ]
  },
  {
   "cell_type": "code",
   "execution_count": 242,
   "id": "984c9fe2",
   "metadata": {},
   "outputs": [],
   "source": [
    "plu_codes = [4118758,4118759,4118761,4118763,4118765,4118766,4118770,4118771,4118772,4118773,4118774,\n",
    "             4118775,4118780,4118781,4118782,4121237,4121239,4118764,4118779]"
   ]
  },
  {
   "cell_type": "code",
   "execution_count": 243,
   "id": "fb92bf7a",
   "metadata": {},
   "outputs": [
    {
     "name": "stderr",
     "output_type": "stream",
     "text": [
      "                                                                                / 506]1]]]\r"
     ]
    }
   ],
   "source": [
    "seg_pd_cg = get_segment_grouped_several_plu(spark, \n",
    "                    start_date, \n",
    "                    end_date, \n",
    "                    plu_codes,\n",
    "                    guests=guests_cg)"
   ]
  },
  {
   "cell_type": "code",
   "execution_count": 244,
   "id": "b4e39aa8",
   "metadata": {},
   "outputs": [],
   "source": [
    "seg_pd_cg = seg_pd_cg.sort_values('label').reset_index(drop=True)"
   ]
  },
  {
   "cell_type": "code",
   "execution_count": 245,
   "id": "9ba399b8",
   "metadata": {},
   "outputs": [
    {
     "name": "stderr",
     "output_type": "stream",
     "text": [
      "/opt/conda/lib/python3.7/site-packages/ipykernel_launcher.py:1: FutureWarning: Passing 'suffixes' which cause duplicate columns {'qty_checks_x'} in the result is deprecated and will raise a MergeError in a future version.\n",
      "  \"\"\"Entry point for launching an IPython kernel.\n"
     ]
    }
   ],
   "source": [
    "val = pd.merge(val, seg_pd_cg, 'left', 'label')"
   ]
  },
  {
   "cell_type": "code",
   "execution_count": 246,
   "id": "f6e7a08b",
   "metadata": {},
   "outputs": [
    {
     "data": {
      "text/html": [
       "<div>\n",
       "<style scoped>\n",
       "    .dataframe tbody tr th:only-of-type {\n",
       "        vertical-align: middle;\n",
       "    }\n",
       "\n",
       "    .dataframe tbody tr th {\n",
       "        vertical-align: top;\n",
       "    }\n",
       "\n",
       "    .dataframe thead th {\n",
       "        text-align: right;\n",
       "    }\n",
       "</style>\n",
       "<table border=\"1\" class=\"dataframe\">\n",
       "  <thead>\n",
       "    <tr style=\"text-align: right;\">\n",
       "      <th></th>\n",
       "      <th>label</th>\n",
       "      <th>qty_checks_x</th>\n",
       "      <th>qty_checks_y</th>\n",
       "      <th>qty_checks_x</th>\n",
       "      <th>qty_checks_y</th>\n",
       "      <th>qty_checks_x</th>\n",
       "      <th>qty_checks_y</th>\n",
       "      <th>qty_checks_x</th>\n",
       "      <th>qty_checks_y</th>\n",
       "      <th>qty_checks_x</th>\n",
       "      <th>qty_checks_y</th>\n",
       "      <th>qty_checks_x</th>\n",
       "      <th>qty_checks_y</th>\n",
       "    </tr>\n",
       "  </thead>\n",
       "  <tbody>\n",
       "    <tr>\n",
       "      <th>0</th>\n",
       "      <td>label1</td>\n",
       "      <td>42</td>\n",
       "      <td>489</td>\n",
       "      <td>1006</td>\n",
       "      <td>977.00</td>\n",
       "      <td>217.00</td>\n",
       "      <td>864</td>\n",
       "      <td>864</td>\n",
       "      <td>2624</td>\n",
       "      <td>1563</td>\n",
       "      <td>2756</td>\n",
       "      <td>2575</td>\n",
       "      <td>1327</td>\n",
       "    </tr>\n",
       "    <tr>\n",
       "      <th>1</th>\n",
       "      <td>label2</td>\n",
       "      <td>15</td>\n",
       "      <td>35</td>\n",
       "      <td>340</td>\n",
       "      <td>93.00</td>\n",
       "      <td>38.00</td>\n",
       "      <td>150</td>\n",
       "      <td>150</td>\n",
       "      <td>952</td>\n",
       "      <td>394</td>\n",
       "      <td>963</td>\n",
       "      <td>558</td>\n",
       "      <td>349</td>\n",
       "    </tr>\n",
       "    <tr>\n",
       "      <th>2</th>\n",
       "      <td>label3</td>\n",
       "      <td>7</td>\n",
       "      <td>11</td>\n",
       "      <td>173</td>\n",
       "      <td>15.00</td>\n",
       "      <td>14.00</td>\n",
       "      <td>56</td>\n",
       "      <td>56</td>\n",
       "      <td>539</td>\n",
       "      <td>179</td>\n",
       "      <td>504</td>\n",
       "      <td>251</td>\n",
       "      <td>158</td>\n",
       "    </tr>\n",
       "    <tr>\n",
       "      <th>3</th>\n",
       "      <td>label4</td>\n",
       "      <td>7</td>\n",
       "      <td>2</td>\n",
       "      <td>172</td>\n",
       "      <td>6.00</td>\n",
       "      <td>9.00</td>\n",
       "      <td>40</td>\n",
       "      <td>40</td>\n",
       "      <td>737</td>\n",
       "      <td>268</td>\n",
       "      <td>532</td>\n",
       "      <td>245</td>\n",
       "      <td>265</td>\n",
       "    </tr>\n",
       "    <tr>\n",
       "      <th>4</th>\n",
       "      <td>label5</td>\n",
       "      <td>5</td>\n",
       "      <td>4</td>\n",
       "      <td>89</td>\n",
       "      <td>4.00</td>\n",
       "      <td>1.00</td>\n",
       "      <td>33</td>\n",
       "      <td>33</td>\n",
       "      <td>454</td>\n",
       "      <td>155</td>\n",
       "      <td>389</td>\n",
       "      <td>168</td>\n",
       "      <td>145</td>\n",
       "    </tr>\n",
       "    <tr>\n",
       "      <th>5</th>\n",
       "      <td>label6</td>\n",
       "      <td>2</td>\n",
       "      <td>1</td>\n",
       "      <td>41</td>\n",
       "      <td>NaN</td>\n",
       "      <td>1.00</td>\n",
       "      <td>6</td>\n",
       "      <td>6</td>\n",
       "      <td>297</td>\n",
       "      <td>86</td>\n",
       "      <td>204</td>\n",
       "      <td>85</td>\n",
       "      <td>73</td>\n",
       "    </tr>\n",
       "    <tr>\n",
       "      <th>6</th>\n",
       "      <td>label7</td>\n",
       "      <td>4</td>\n",
       "      <td>1</td>\n",
       "      <td>31</td>\n",
       "      <td>NaN</td>\n",
       "      <td>NaN</td>\n",
       "      <td>7</td>\n",
       "      <td>7</td>\n",
       "      <td>275</td>\n",
       "      <td>90</td>\n",
       "      <td>169</td>\n",
       "      <td>90</td>\n",
       "      <td>84</td>\n",
       "    </tr>\n",
       "  </tbody>\n",
       "</table>\n",
       "</div>"
      ],
      "text/plain": [
       "    label  qty_checks_x  qty_checks_y  qty_checks_x  qty_checks_y  \\\n",
       "0  label1            42           489          1006        977.00   \n",
       "1  label2            15            35           340         93.00   \n",
       "2  label3             7            11           173         15.00   \n",
       "3  label4             7             2           172          6.00   \n",
       "4  label5             5             4            89          4.00   \n",
       "5  label6             2             1            41           NaN   \n",
       "6  label7             4             1            31           NaN   \n",
       "\n",
       "   qty_checks_x  qty_checks_y  qty_checks_x  qty_checks_y  qty_checks_x  \\\n",
       "0        217.00           864           864          2624          1563   \n",
       "1         38.00           150           150           952           394   \n",
       "2         14.00            56            56           539           179   \n",
       "3          9.00            40            40           737           268   \n",
       "4          1.00            33            33           454           155   \n",
       "5          1.00             6             6           297            86   \n",
       "6           NaN             7             7           275            90   \n",
       "\n",
       "   qty_checks_y  qty_checks_x  qty_checks_y  \n",
       "0          2756          2575          1327  \n",
       "1           963           558           349  \n",
       "2           504           251           158  \n",
       "3           532           245           265  \n",
       "4           389           168           145  \n",
       "5           204            85            73  \n",
       "6           169            90            84  "
      ]
     },
     "execution_count": 246,
     "metadata": {},
     "output_type": "execute_result"
    }
   ],
   "source": [
    "val"
   ]
  },
  {
   "cell_type": "markdown",
   "id": "7046a453",
   "metadata": {},
   "source": [
    "### X-27-20-Mars-Whiskas-2-sof"
   ]
  },
  {
   "cell_type": "code",
   "execution_count": 247,
   "id": "6c5c536d",
   "metadata": {
    "collapsed": false,
    "jupyter": {
     "outputs_hidden": false
    },
    "pycharm": {
     "name": "#%%\n"
    }
   },
   "outputs": [],
   "source": [
    "camp_id = 'X-27-20-Mars-Whiskas-2-sof'\n",
    "\n",
    "experiment_params = ExperimentParams(**{\n",
    "    # Camp wave id нужно записать в виде мапы из id в префиксы.\n",
    "    # Префиксы ни на что не влияют, просто для более красивого названия групп\n",
    "    # Заполняются camp_wave_id. Если для контроля и теста одинаковый, то пишем два раза\n",
    "    'map_camp_wave_ids_to_suffixes': {\n",
    "        74124: \"sms_viber_tg\",\n",
    "        74124: \"sms_viber_cg\"\n",
    "    },\n",
    "\n",
    "    # communication period with guest (sending sms, push, etc.)\n",
    "    'date_communication_from': '2021-12-07',\n",
    "    'date_communication_to': '2021-12-13',\n",
    "\n",
    "    'wave_ids': [\n",
    "        74355 #если нет, то -1\n",
    "    ],\n",
    "    \n",
    "    'communication_costs': {\n",
    "        'sms': 1.38,\n",
    "        'viber': 1.32,\n",
    "        'email': 0.0083\n",
    "    }\n",
    "})\n",
    "#0_ + camp_wave_id +_sms_viber_ + cg (если номера волн равны) / tg (если номера волн разные)"
   ]
  },
  {
   "cell_type": "code",
   "execution_count": 248,
   "id": "e1df482e",
   "metadata": {
    "collapsed": false,
    "jupyter": {
     "outputs_hidden": false
    },
    "pycharm": {
     "name": "#%%\n"
    },
    "scrolled": true
   },
   "outputs": [],
   "source": [
    "experiment_guests = ExperimentParticipants(spark, experiment_params)\n",
    "experiment_guests_communications = experiment_guests.extract()"
   ]
  },
  {
   "cell_type": "code",
   "execution_count": 249,
   "id": "e4fcee2a",
   "metadata": {},
   "outputs": [],
   "source": [
    "if len(list(experiment_params.map_camp_wave_ids_to_suffixes.keys())) > 1:\n",
    "    if str(list(experiment_params.map_camp_wave_ids_to_suffixes.keys())[0]) != str(list(experiment_params.map_camp_wave_ids_to_suffixes.keys())[1]):\n",
    "        guests_tg = (experiment_guests_communications\n",
    "                  .filter(F.col('group_name') == '0_' +\n",
    "                        str(list(experiment_params.map_camp_wave_ids_to_suffixes.keys())[0]) + '_' +\n",
    "                        list(experiment_params.map_camp_wave_ids_to_suffixes.values())[0])\n",
    "                  .select('customer_rk').distinct()\n",
    "                 )\n",
    "\n",
    "        guests_cg = (experiment_guests_communications\n",
    "                  .filter(F.col('group_name') == '0_' +\n",
    "                        str(list(experiment_params.map_camp_wave_ids_to_suffixes.keys())[1]) + '_' +\n",
    "                        list(experiment_params.map_camp_wave_ids_to_suffixes.values())[1])\n",
    "                  .select('customer_rk').distinct()\n",
    "                 )\n",
    "    else:\n",
    "        print(\"Error - check the camp waves ids\")\n",
    "else:\n",
    "    guests_tg = (experiment_guests_communications\n",
    "              .filter(F.col('group_name') == '0_' +\n",
    "                    str(list(experiment_params.map_camp_wave_ids_to_suffixes.keys())[0]) + '_' +\n",
    "                    list(experiment_params.map_camp_wave_ids_to_suffixes.values())[0])\n",
    "              .select('customer_rk').distinct()\n",
    "             )\n",
    "\n",
    "    guests_cg = (experiment_guests_communications\n",
    "              .filter(F.col('group_name') == '1_' +\n",
    "                    str(list(experiment_params.map_camp_wave_ids_to_suffixes.keys())[0]) + '_' +\n",
    "                    list(experiment_params.map_camp_wave_ids_to_suffixes.values())[0])\n",
    "              .select('customer_rk').distinct()\n",
    "             )"
   ]
  },
  {
   "cell_type": "code",
   "execution_count": 250,
   "id": "09bd9d1b",
   "metadata": {},
   "outputs": [],
   "source": [
    "dt1 = datetime.datetime.strptime(experiment_params.date_communication_from, '%Y-%m-%d')\n",
    "dt2 = datetime.datetime.strptime(experiment_params.date_communication_to, '%Y-%m-%d')\n",
    "start_date = datetime.date(dt1.year, dt1.month, dt1.day)\n",
    "end_date = datetime.date(dt2.year, dt2.month, dt2.day)"
   ]
  },
  {
   "cell_type": "code",
   "execution_count": 251,
   "id": "4c6678fd",
   "metadata": {},
   "outputs": [],
   "source": [
    "plu_codes = [4118758,4118759,4118761,4118763,4118765,4118766,4118770,4118771,4118772,4118773,4118774,\n",
    "             4118775,4118780,4118781,4118782,4121237,4121239,4118764,4118779]"
   ]
  },
  {
   "cell_type": "code",
   "execution_count": 252,
   "id": "b635d0fe",
   "metadata": {},
   "outputs": [
    {
     "name": "stderr",
     "output_type": "stream",
     "text": [
      "                                                                                / 200]]]]]\r"
     ]
    }
   ],
   "source": [
    "seg_pd_cg = get_segment_grouped_several_plu(spark, \n",
    "                    start_date, \n",
    "                    end_date, \n",
    "                    plu_codes,\n",
    "                    guests=guests_cg)"
   ]
  },
  {
   "cell_type": "code",
   "execution_count": 253,
   "id": "bd39c858",
   "metadata": {},
   "outputs": [],
   "source": [
    "seg_pd_cg = seg_pd_cg.sort_values('label').reset_index(drop=True)"
   ]
  },
  {
   "cell_type": "code",
   "execution_count": 254,
   "id": "d01a41a6",
   "metadata": {},
   "outputs": [],
   "source": [
    "val = pd.merge(val, seg_pd_cg, 'left', 'label')"
   ]
  },
  {
   "cell_type": "code",
   "execution_count": 255,
   "id": "c31fdcac",
   "metadata": {},
   "outputs": [
    {
     "data": {
      "text/html": [
       "<div>\n",
       "<style scoped>\n",
       "    .dataframe tbody tr th:only-of-type {\n",
       "        vertical-align: middle;\n",
       "    }\n",
       "\n",
       "    .dataframe tbody tr th {\n",
       "        vertical-align: top;\n",
       "    }\n",
       "\n",
       "    .dataframe thead th {\n",
       "        text-align: right;\n",
       "    }\n",
       "</style>\n",
       "<table border=\"1\" class=\"dataframe\">\n",
       "  <thead>\n",
       "    <tr style=\"text-align: right;\">\n",
       "      <th></th>\n",
       "      <th>label</th>\n",
       "      <th>qty_checks_x</th>\n",
       "      <th>qty_checks_y</th>\n",
       "      <th>qty_checks_x</th>\n",
       "      <th>qty_checks_y</th>\n",
       "      <th>qty_checks_x</th>\n",
       "      <th>qty_checks_y</th>\n",
       "      <th>qty_checks_x</th>\n",
       "      <th>qty_checks_y</th>\n",
       "      <th>qty_checks_x</th>\n",
       "      <th>qty_checks_y</th>\n",
       "      <th>qty_checks_x</th>\n",
       "      <th>qty_checks_y</th>\n",
       "      <th>qty_checks</th>\n",
       "    </tr>\n",
       "  </thead>\n",
       "  <tbody>\n",
       "    <tr>\n",
       "      <th>0</th>\n",
       "      <td>label1</td>\n",
       "      <td>42</td>\n",
       "      <td>489</td>\n",
       "      <td>1006</td>\n",
       "      <td>977.00</td>\n",
       "      <td>217.00</td>\n",
       "      <td>864</td>\n",
       "      <td>864</td>\n",
       "      <td>2624</td>\n",
       "      <td>1563</td>\n",
       "      <td>2756</td>\n",
       "      <td>2575</td>\n",
       "      <td>1327</td>\n",
       "      <td>2941</td>\n",
       "    </tr>\n",
       "    <tr>\n",
       "      <th>1</th>\n",
       "      <td>label2</td>\n",
       "      <td>15</td>\n",
       "      <td>35</td>\n",
       "      <td>340</td>\n",
       "      <td>93.00</td>\n",
       "      <td>38.00</td>\n",
       "      <td>150</td>\n",
       "      <td>150</td>\n",
       "      <td>952</td>\n",
       "      <td>394</td>\n",
       "      <td>963</td>\n",
       "      <td>558</td>\n",
       "      <td>349</td>\n",
       "      <td>720</td>\n",
       "    </tr>\n",
       "    <tr>\n",
       "      <th>2</th>\n",
       "      <td>label3</td>\n",
       "      <td>7</td>\n",
       "      <td>11</td>\n",
       "      <td>173</td>\n",
       "      <td>15.00</td>\n",
       "      <td>14.00</td>\n",
       "      <td>56</td>\n",
       "      <td>56</td>\n",
       "      <td>539</td>\n",
       "      <td>179</td>\n",
       "      <td>504</td>\n",
       "      <td>251</td>\n",
       "      <td>158</td>\n",
       "      <td>361</td>\n",
       "    </tr>\n",
       "    <tr>\n",
       "      <th>3</th>\n",
       "      <td>label4</td>\n",
       "      <td>7</td>\n",
       "      <td>2</td>\n",
       "      <td>172</td>\n",
       "      <td>6.00</td>\n",
       "      <td>9.00</td>\n",
       "      <td>40</td>\n",
       "      <td>40</td>\n",
       "      <td>737</td>\n",
       "      <td>268</td>\n",
       "      <td>532</td>\n",
       "      <td>245</td>\n",
       "      <td>265</td>\n",
       "      <td>444</td>\n",
       "    </tr>\n",
       "    <tr>\n",
       "      <th>4</th>\n",
       "      <td>label5</td>\n",
       "      <td>5</td>\n",
       "      <td>4</td>\n",
       "      <td>89</td>\n",
       "      <td>4.00</td>\n",
       "      <td>1.00</td>\n",
       "      <td>33</td>\n",
       "      <td>33</td>\n",
       "      <td>454</td>\n",
       "      <td>155</td>\n",
       "      <td>389</td>\n",
       "      <td>168</td>\n",
       "      <td>145</td>\n",
       "      <td>261</td>\n",
       "    </tr>\n",
       "    <tr>\n",
       "      <th>5</th>\n",
       "      <td>label6</td>\n",
       "      <td>2</td>\n",
       "      <td>1</td>\n",
       "      <td>41</td>\n",
       "      <td>NaN</td>\n",
       "      <td>1.00</td>\n",
       "      <td>6</td>\n",
       "      <td>6</td>\n",
       "      <td>297</td>\n",
       "      <td>86</td>\n",
       "      <td>204</td>\n",
       "      <td>85</td>\n",
       "      <td>73</td>\n",
       "      <td>154</td>\n",
       "    </tr>\n",
       "    <tr>\n",
       "      <th>6</th>\n",
       "      <td>label7</td>\n",
       "      <td>4</td>\n",
       "      <td>1</td>\n",
       "      <td>31</td>\n",
       "      <td>NaN</td>\n",
       "      <td>NaN</td>\n",
       "      <td>7</td>\n",
       "      <td>7</td>\n",
       "      <td>275</td>\n",
       "      <td>90</td>\n",
       "      <td>169</td>\n",
       "      <td>90</td>\n",
       "      <td>84</td>\n",
       "      <td>119</td>\n",
       "    </tr>\n",
       "  </tbody>\n",
       "</table>\n",
       "</div>"
      ],
      "text/plain": [
       "    label  qty_checks_x  qty_checks_y  qty_checks_x  qty_checks_y  \\\n",
       "0  label1            42           489          1006        977.00   \n",
       "1  label2            15            35           340         93.00   \n",
       "2  label3             7            11           173         15.00   \n",
       "3  label4             7             2           172          6.00   \n",
       "4  label5             5             4            89          4.00   \n",
       "5  label6             2             1            41           NaN   \n",
       "6  label7             4             1            31           NaN   \n",
       "\n",
       "   qty_checks_x  qty_checks_y  qty_checks_x  qty_checks_y  qty_checks_x  \\\n",
       "0        217.00           864           864          2624          1563   \n",
       "1         38.00           150           150           952           394   \n",
       "2         14.00            56            56           539           179   \n",
       "3          9.00            40            40           737           268   \n",
       "4          1.00            33            33           454           155   \n",
       "5          1.00             6             6           297            86   \n",
       "6           NaN             7             7           275            90   \n",
       "\n",
       "   qty_checks_y  qty_checks_x  qty_checks_y  qty_checks  \n",
       "0          2756          2575          1327        2941  \n",
       "1           963           558           349         720  \n",
       "2           504           251           158         361  \n",
       "3           532           245           265         444  \n",
       "4           389           168           145         261  \n",
       "5           204            85            73         154  \n",
       "6           169            90            84         119  "
      ]
     },
     "execution_count": 255,
     "metadata": {},
     "output_type": "execute_result"
    }
   ],
   "source": [
    "val"
   ]
  },
  {
   "cell_type": "markdown",
   "id": "045e050b",
   "metadata": {},
   "source": [
    "### X-27-19-Mars-Whiskas-1-sof"
   ]
  },
  {
   "cell_type": "code",
   "execution_count": 256,
   "id": "15cf1c7d",
   "metadata": {
    "collapsed": false,
    "jupyter": {
     "outputs_hidden": false
    },
    "pycharm": {
     "name": "#%%\n"
    }
   },
   "outputs": [],
   "source": [
    "camp_id = 'X-27-19-Mars-Whiskas-1-sof'\n",
    "\n",
    "experiment_params = ExperimentParams(**{\n",
    "    # Camp wave id нужно записать в виде мапы из id в префиксы.\n",
    "    # Префиксы ни на что не влияют, просто для более красивого названия групп\n",
    "    # Заполняются camp_wave_id. Если для контроля и теста одинаковый, то пишем два раза\n",
    "    'map_camp_wave_ids_to_suffixes': {\n",
    "        74138: \"sms_viber_tg\",\n",
    "        74140: \"sms_viber_cg\"\n",
    "    },\n",
    "\n",
    "    # communication period with guest (sending sms, push, etc.)\n",
    "    'date_communication_from': '2021-12-07',\n",
    "    'date_communication_to': '2021-12-13',\n",
    "\n",
    "    'wave_ids': [\n",
    "        74301 #если нет, то -1\n",
    "    ],\n",
    "    \n",
    "    'communication_costs': {\n",
    "        'sms': 1.38,\n",
    "        'viber': 1.32,\n",
    "        'email': 0.0083\n",
    "    }\n",
    "})\n",
    "#0_ + camp_wave_id +_sms_viber_ + cg (если номера волн равны) / tg (если номера волн разные)"
   ]
  },
  {
   "cell_type": "code",
   "execution_count": 257,
   "id": "1d3090d8",
   "metadata": {
    "collapsed": false,
    "jupyter": {
     "outputs_hidden": false
    },
    "pycharm": {
     "name": "#%%\n"
    },
    "scrolled": true
   },
   "outputs": [],
   "source": [
    "experiment_guests = ExperimentParticipants(spark, experiment_params)\n",
    "experiment_guests_communications = experiment_guests.extract()"
   ]
  },
  {
   "cell_type": "code",
   "execution_count": 258,
   "id": "0ac16ba5",
   "metadata": {},
   "outputs": [],
   "source": [
    "if len(list(experiment_params.map_camp_wave_ids_to_suffixes.keys())) > 1:\n",
    "    if str(list(experiment_params.map_camp_wave_ids_to_suffixes.keys())[0]) != str(list(experiment_params.map_camp_wave_ids_to_suffixes.keys())[1]):\n",
    "        guests_tg = (experiment_guests_communications\n",
    "                  .filter(F.col('group_name') == '0_' +\n",
    "                        str(list(experiment_params.map_camp_wave_ids_to_suffixes.keys())[0]) + '_' +\n",
    "                        list(experiment_params.map_camp_wave_ids_to_suffixes.values())[0])\n",
    "                  .select('customer_rk').distinct()\n",
    "                 )\n",
    "\n",
    "        guests_cg = (experiment_guests_communications\n",
    "                  .filter(F.col('group_name') == '0_' +\n",
    "                        str(list(experiment_params.map_camp_wave_ids_to_suffixes.keys())[1]) + '_' +\n",
    "                        list(experiment_params.map_camp_wave_ids_to_suffixes.values())[1])\n",
    "                  .select('customer_rk').distinct()\n",
    "                 )\n",
    "    else:\n",
    "        print(\"Error - check the camp waves ids\")\n",
    "else:\n",
    "    guests_tg = (experiment_guests_communications\n",
    "              .filter(F.col('group_name') == '0_' +\n",
    "                    str(list(experiment_params.map_camp_wave_ids_to_suffixes.keys())[0]) + '_' +\n",
    "                    list(experiment_params.map_camp_wave_ids_to_suffixes.values())[0])\n",
    "              .select('customer_rk').distinct()\n",
    "             )\n",
    "\n",
    "    guests_cg = (experiment_guests_communications\n",
    "              .filter(F.col('group_name') == '1_' +\n",
    "                    str(list(experiment_params.map_camp_wave_ids_to_suffixes.keys())[0]) + '_' +\n",
    "                    list(experiment_params.map_camp_wave_ids_to_suffixes.values())[0])\n",
    "              .select('customer_rk').distinct()\n",
    "             )"
   ]
  },
  {
   "cell_type": "code",
   "execution_count": 259,
   "id": "7c1b204e",
   "metadata": {},
   "outputs": [],
   "source": [
    "dt1 = datetime.datetime.strptime(experiment_params.date_communication_from, '%Y-%m-%d')\n",
    "dt2 = datetime.datetime.strptime(experiment_params.date_communication_to, '%Y-%m-%d')\n",
    "start_date = datetime.date(dt1.year, dt1.month, dt1.day)\n",
    "end_date = datetime.date(dt2.year, dt2.month, dt2.day)"
   ]
  },
  {
   "cell_type": "code",
   "execution_count": 260,
   "id": "f9075375",
   "metadata": {},
   "outputs": [],
   "source": [
    "plu_codes = [4118758,4118759,4118761,4118763,4118765,4118766,4118770,4118771,4118772,4118773,4118774,\n",
    "             4118775,4118780,4118781,4118782,4121237,4121239,4118764,4118779]"
   ]
  },
  {
   "cell_type": "code",
   "execution_count": 261,
   "id": "cd14cdb2",
   "metadata": {},
   "outputs": [
    {
     "name": "stderr",
     "output_type": "stream",
     "text": [
      "                                                                                ) / 1221]]]]\r"
     ]
    }
   ],
   "source": [
    "seg_pd_cg = get_segment_grouped_several_plu(spark, \n",
    "                    start_date, \n",
    "                    end_date, \n",
    "                    plu_codes,\n",
    "                    guests=guests_cg)"
   ]
  },
  {
   "cell_type": "code",
   "execution_count": 262,
   "id": "f7cbf4b4",
   "metadata": {},
   "outputs": [],
   "source": [
    "seg_pd_cg = seg_pd_cg.sort_values('label').reset_index(drop=True)"
   ]
  },
  {
   "cell_type": "code",
   "execution_count": 263,
   "id": "93bf443e",
   "metadata": {},
   "outputs": [
    {
     "name": "stderr",
     "output_type": "stream",
     "text": [
      "/opt/conda/lib/python3.7/site-packages/ipykernel_launcher.py:1: FutureWarning: Passing 'suffixes' which cause duplicate columns {'qty_checks_x'} in the result is deprecated and will raise a MergeError in a future version.\n",
      "  \"\"\"Entry point for launching an IPython kernel.\n"
     ]
    }
   ],
   "source": [
    "val = pd.merge(val, seg_pd_cg, 'left', 'label')"
   ]
  },
  {
   "cell_type": "code",
   "execution_count": 264,
   "id": "6e405b5a",
   "metadata": {},
   "outputs": [
    {
     "data": {
      "text/html": [
       "<div>\n",
       "<style scoped>\n",
       "    .dataframe tbody tr th:only-of-type {\n",
       "        vertical-align: middle;\n",
       "    }\n",
       "\n",
       "    .dataframe tbody tr th {\n",
       "        vertical-align: top;\n",
       "    }\n",
       "\n",
       "    .dataframe thead th {\n",
       "        text-align: right;\n",
       "    }\n",
       "</style>\n",
       "<table border=\"1\" class=\"dataframe\">\n",
       "  <thead>\n",
       "    <tr style=\"text-align: right;\">\n",
       "      <th></th>\n",
       "      <th>label</th>\n",
       "      <th>qty_checks_x</th>\n",
       "      <th>qty_checks_y</th>\n",
       "      <th>qty_checks_x</th>\n",
       "      <th>qty_checks_y</th>\n",
       "      <th>qty_checks_x</th>\n",
       "      <th>qty_checks_y</th>\n",
       "      <th>qty_checks_x</th>\n",
       "      <th>qty_checks_y</th>\n",
       "      <th>qty_checks_x</th>\n",
       "      <th>qty_checks_y</th>\n",
       "      <th>qty_checks_x</th>\n",
       "      <th>qty_checks_y</th>\n",
       "      <th>qty_checks_x</th>\n",
       "      <th>qty_checks_y</th>\n",
       "    </tr>\n",
       "  </thead>\n",
       "  <tbody>\n",
       "    <tr>\n",
       "      <th>0</th>\n",
       "      <td>label1</td>\n",
       "      <td>42</td>\n",
       "      <td>489</td>\n",
       "      <td>1006</td>\n",
       "      <td>977.00</td>\n",
       "      <td>217.00</td>\n",
       "      <td>864</td>\n",
       "      <td>864</td>\n",
       "      <td>2624</td>\n",
       "      <td>1563</td>\n",
       "      <td>2756</td>\n",
       "      <td>2575</td>\n",
       "      <td>1327</td>\n",
       "      <td>2941</td>\n",
       "      <td>2586</td>\n",
       "    </tr>\n",
       "    <tr>\n",
       "      <th>1</th>\n",
       "      <td>label2</td>\n",
       "      <td>15</td>\n",
       "      <td>35</td>\n",
       "      <td>340</td>\n",
       "      <td>93.00</td>\n",
       "      <td>38.00</td>\n",
       "      <td>150</td>\n",
       "      <td>150</td>\n",
       "      <td>952</td>\n",
       "      <td>394</td>\n",
       "      <td>963</td>\n",
       "      <td>558</td>\n",
       "      <td>349</td>\n",
       "      <td>720</td>\n",
       "      <td>629</td>\n",
       "    </tr>\n",
       "    <tr>\n",
       "      <th>2</th>\n",
       "      <td>label3</td>\n",
       "      <td>7</td>\n",
       "      <td>11</td>\n",
       "      <td>173</td>\n",
       "      <td>15.00</td>\n",
       "      <td>14.00</td>\n",
       "      <td>56</td>\n",
       "      <td>56</td>\n",
       "      <td>539</td>\n",
       "      <td>179</td>\n",
       "      <td>504</td>\n",
       "      <td>251</td>\n",
       "      <td>158</td>\n",
       "      <td>361</td>\n",
       "      <td>306</td>\n",
       "    </tr>\n",
       "    <tr>\n",
       "      <th>3</th>\n",
       "      <td>label4</td>\n",
       "      <td>7</td>\n",
       "      <td>2</td>\n",
       "      <td>172</td>\n",
       "      <td>6.00</td>\n",
       "      <td>9.00</td>\n",
       "      <td>40</td>\n",
       "      <td>40</td>\n",
       "      <td>737</td>\n",
       "      <td>268</td>\n",
       "      <td>532</td>\n",
       "      <td>245</td>\n",
       "      <td>265</td>\n",
       "      <td>444</td>\n",
       "      <td>258</td>\n",
       "    </tr>\n",
       "    <tr>\n",
       "      <th>4</th>\n",
       "      <td>label5</td>\n",
       "      <td>5</td>\n",
       "      <td>4</td>\n",
       "      <td>89</td>\n",
       "      <td>4.00</td>\n",
       "      <td>1.00</td>\n",
       "      <td>33</td>\n",
       "      <td>33</td>\n",
       "      <td>454</td>\n",
       "      <td>155</td>\n",
       "      <td>389</td>\n",
       "      <td>168</td>\n",
       "      <td>145</td>\n",
       "      <td>261</td>\n",
       "      <td>184</td>\n",
       "    </tr>\n",
       "    <tr>\n",
       "      <th>5</th>\n",
       "      <td>label6</td>\n",
       "      <td>2</td>\n",
       "      <td>1</td>\n",
       "      <td>41</td>\n",
       "      <td>NaN</td>\n",
       "      <td>1.00</td>\n",
       "      <td>6</td>\n",
       "      <td>6</td>\n",
       "      <td>297</td>\n",
       "      <td>86</td>\n",
       "      <td>204</td>\n",
       "      <td>85</td>\n",
       "      <td>73</td>\n",
       "      <td>154</td>\n",
       "      <td>110</td>\n",
       "    </tr>\n",
       "    <tr>\n",
       "      <th>6</th>\n",
       "      <td>label7</td>\n",
       "      <td>4</td>\n",
       "      <td>1</td>\n",
       "      <td>31</td>\n",
       "      <td>NaN</td>\n",
       "      <td>NaN</td>\n",
       "      <td>7</td>\n",
       "      <td>7</td>\n",
       "      <td>275</td>\n",
       "      <td>90</td>\n",
       "      <td>169</td>\n",
       "      <td>90</td>\n",
       "      <td>84</td>\n",
       "      <td>119</td>\n",
       "      <td>80</td>\n",
       "    </tr>\n",
       "  </tbody>\n",
       "</table>\n",
       "</div>"
      ],
      "text/plain": [
       "    label  qty_checks_x  qty_checks_y  qty_checks_x  qty_checks_y  \\\n",
       "0  label1            42           489          1006        977.00   \n",
       "1  label2            15            35           340         93.00   \n",
       "2  label3             7            11           173         15.00   \n",
       "3  label4             7             2           172          6.00   \n",
       "4  label5             5             4            89          4.00   \n",
       "5  label6             2             1            41           NaN   \n",
       "6  label7             4             1            31           NaN   \n",
       "\n",
       "   qty_checks_x  qty_checks_y  qty_checks_x  qty_checks_y  qty_checks_x  \\\n",
       "0        217.00           864           864          2624          1563   \n",
       "1         38.00           150           150           952           394   \n",
       "2         14.00            56            56           539           179   \n",
       "3          9.00            40            40           737           268   \n",
       "4          1.00            33            33           454           155   \n",
       "5          1.00             6             6           297            86   \n",
       "6           NaN             7             7           275            90   \n",
       "\n",
       "   qty_checks_y  qty_checks_x  qty_checks_y  qty_checks_x  qty_checks_y  \n",
       "0          2756          2575          1327          2941          2586  \n",
       "1           963           558           349           720           629  \n",
       "2           504           251           158           361           306  \n",
       "3           532           245           265           444           258  \n",
       "4           389           168           145           261           184  \n",
       "5           204            85            73           154           110  \n",
       "6           169            90            84           119            80  "
      ]
     },
     "execution_count": 264,
     "metadata": {},
     "output_type": "execute_result"
    }
   ],
   "source": [
    "val"
   ]
  },
  {
   "cell_type": "code",
   "execution_count": 265,
   "id": "f2974d7b",
   "metadata": {},
   "outputs": [],
   "source": [
    "list_columns = ['label',\n",
    "'U-27-11-mars-whiskas-postavschik-group7',\n",
    "'U-27-11-mars-whiskas-postavschik-group6',\n",
    "'U-27-11-mars-whiskas-postavschik-group5',\n",
    "'U-27-11-mars-whiskas-postavschik-group4',\n",
    "'U-27-11-mars-whiskas-postavschik-group3',\n",
    "'U-27-11-mars-whiskas-postavschik-group2',\n",
    "'U-27-11-mars-whiskas-postavschik-group1',\n",
    "'X-27-25-Mars-Whiskas-7-sof',\n",
    "'X-27-24-Mars-Whiskas-6-sof',\n",
    "'X-27-23-Mars-Whiskas-5-sof',\n",
    "'X-27-22-Mars-Whiskas-4-sof',\n",
    "'X-27-21-Mars-Whiskas-3-sof',\n",
    "'X-27-20-Mars-Whiskas-2-sof',\n",
    "'X-27-19-Mars-Whiskas-1-sof']"
   ]
  },
  {
   "cell_type": "code",
   "execution_count": 266,
   "id": "802be5d7",
   "metadata": {},
   "outputs": [],
   "source": [
    "val.columns = list_columns"
   ]
  },
  {
   "cell_type": "code",
   "execution_count": 267,
   "id": "439cf33b",
   "metadata": {},
   "outputs": [],
   "source": [
    "val.to_excel('cg_labels_whiskas.xlsx', index=False)"
   ]
  },
  {
   "cell_type": "code",
   "execution_count": 268,
   "id": "29b88c8b",
   "metadata": {},
   "outputs": [
    {
     "data": {
      "text/html": [
       "<div>\n",
       "<style scoped>\n",
       "    .dataframe tbody tr th:only-of-type {\n",
       "        vertical-align: middle;\n",
       "    }\n",
       "\n",
       "    .dataframe tbody tr th {\n",
       "        vertical-align: top;\n",
       "    }\n",
       "\n",
       "    .dataframe thead th {\n",
       "        text-align: right;\n",
       "    }\n",
       "</style>\n",
       "<table border=\"1\" class=\"dataframe\">\n",
       "  <thead>\n",
       "    <tr style=\"text-align: right;\">\n",
       "      <th></th>\n",
       "      <th>label</th>\n",
       "      <th>U-27-11-mars-whiskas-postavschik-group7</th>\n",
       "      <th>U-27-11-mars-whiskas-postavschik-group6</th>\n",
       "      <th>U-27-11-mars-whiskas-postavschik-group5</th>\n",
       "      <th>U-27-11-mars-whiskas-postavschik-group4</th>\n",
       "      <th>U-27-11-mars-whiskas-postavschik-group3</th>\n",
       "      <th>U-27-11-mars-whiskas-postavschik-group2</th>\n",
       "      <th>U-27-11-mars-whiskas-postavschik-group1</th>\n",
       "      <th>X-27-25-Mars-Whiskas-7-sof</th>\n",
       "      <th>X-27-24-Mars-Whiskas-6-sof</th>\n",
       "      <th>X-27-23-Mars-Whiskas-5-sof</th>\n",
       "      <th>X-27-22-Mars-Whiskas-4-sof</th>\n",
       "      <th>X-27-21-Mars-Whiskas-3-sof</th>\n",
       "      <th>X-27-20-Mars-Whiskas-2-sof</th>\n",
       "      <th>X-27-19-Mars-Whiskas-1-sof</th>\n",
       "    </tr>\n",
       "  </thead>\n",
       "  <tbody>\n",
       "    <tr>\n",
       "      <th>0</th>\n",
       "      <td>label1</td>\n",
       "      <td>42</td>\n",
       "      <td>489</td>\n",
       "      <td>1006</td>\n",
       "      <td>977.00</td>\n",
       "      <td>217.00</td>\n",
       "      <td>864</td>\n",
       "      <td>864</td>\n",
       "      <td>2624</td>\n",
       "      <td>1563</td>\n",
       "      <td>2756</td>\n",
       "      <td>2575</td>\n",
       "      <td>1327</td>\n",
       "      <td>2941</td>\n",
       "      <td>2586</td>\n",
       "    </tr>\n",
       "    <tr>\n",
       "      <th>1</th>\n",
       "      <td>label2</td>\n",
       "      <td>15</td>\n",
       "      <td>35</td>\n",
       "      <td>340</td>\n",
       "      <td>93.00</td>\n",
       "      <td>38.00</td>\n",
       "      <td>150</td>\n",
       "      <td>150</td>\n",
       "      <td>952</td>\n",
       "      <td>394</td>\n",
       "      <td>963</td>\n",
       "      <td>558</td>\n",
       "      <td>349</td>\n",
       "      <td>720</td>\n",
       "      <td>629</td>\n",
       "    </tr>\n",
       "    <tr>\n",
       "      <th>2</th>\n",
       "      <td>label3</td>\n",
       "      <td>7</td>\n",
       "      <td>11</td>\n",
       "      <td>173</td>\n",
       "      <td>15.00</td>\n",
       "      <td>14.00</td>\n",
       "      <td>56</td>\n",
       "      <td>56</td>\n",
       "      <td>539</td>\n",
       "      <td>179</td>\n",
       "      <td>504</td>\n",
       "      <td>251</td>\n",
       "      <td>158</td>\n",
       "      <td>361</td>\n",
       "      <td>306</td>\n",
       "    </tr>\n",
       "    <tr>\n",
       "      <th>3</th>\n",
       "      <td>label4</td>\n",
       "      <td>7</td>\n",
       "      <td>2</td>\n",
       "      <td>172</td>\n",
       "      <td>6.00</td>\n",
       "      <td>9.00</td>\n",
       "      <td>40</td>\n",
       "      <td>40</td>\n",
       "      <td>737</td>\n",
       "      <td>268</td>\n",
       "      <td>532</td>\n",
       "      <td>245</td>\n",
       "      <td>265</td>\n",
       "      <td>444</td>\n",
       "      <td>258</td>\n",
       "    </tr>\n",
       "    <tr>\n",
       "      <th>4</th>\n",
       "      <td>label5</td>\n",
       "      <td>5</td>\n",
       "      <td>4</td>\n",
       "      <td>89</td>\n",
       "      <td>4.00</td>\n",
       "      <td>1.00</td>\n",
       "      <td>33</td>\n",
       "      <td>33</td>\n",
       "      <td>454</td>\n",
       "      <td>155</td>\n",
       "      <td>389</td>\n",
       "      <td>168</td>\n",
       "      <td>145</td>\n",
       "      <td>261</td>\n",
       "      <td>184</td>\n",
       "    </tr>\n",
       "    <tr>\n",
       "      <th>5</th>\n",
       "      <td>label6</td>\n",
       "      <td>2</td>\n",
       "      <td>1</td>\n",
       "      <td>41</td>\n",
       "      <td>NaN</td>\n",
       "      <td>1.00</td>\n",
       "      <td>6</td>\n",
       "      <td>6</td>\n",
       "      <td>297</td>\n",
       "      <td>86</td>\n",
       "      <td>204</td>\n",
       "      <td>85</td>\n",
       "      <td>73</td>\n",
       "      <td>154</td>\n",
       "      <td>110</td>\n",
       "    </tr>\n",
       "    <tr>\n",
       "      <th>6</th>\n",
       "      <td>label7</td>\n",
       "      <td>4</td>\n",
       "      <td>1</td>\n",
       "      <td>31</td>\n",
       "      <td>NaN</td>\n",
       "      <td>NaN</td>\n",
       "      <td>7</td>\n",
       "      <td>7</td>\n",
       "      <td>275</td>\n",
       "      <td>90</td>\n",
       "      <td>169</td>\n",
       "      <td>90</td>\n",
       "      <td>84</td>\n",
       "      <td>119</td>\n",
       "      <td>80</td>\n",
       "    </tr>\n",
       "  </tbody>\n",
       "</table>\n",
       "</div>"
      ],
      "text/plain": [
       "    label  U-27-11-mars-whiskas-postavschik-group7  \\\n",
       "0  label1                                       42   \n",
       "1  label2                                       15   \n",
       "2  label3                                        7   \n",
       "3  label4                                        7   \n",
       "4  label5                                        5   \n",
       "5  label6                                        2   \n",
       "6  label7                                        4   \n",
       "\n",
       "   U-27-11-mars-whiskas-postavschik-group6  \\\n",
       "0                                      489   \n",
       "1                                       35   \n",
       "2                                       11   \n",
       "3                                        2   \n",
       "4                                        4   \n",
       "5                                        1   \n",
       "6                                        1   \n",
       "\n",
       "   U-27-11-mars-whiskas-postavschik-group5  \\\n",
       "0                                     1006   \n",
       "1                                      340   \n",
       "2                                      173   \n",
       "3                                      172   \n",
       "4                                       89   \n",
       "5                                       41   \n",
       "6                                       31   \n",
       "\n",
       "   U-27-11-mars-whiskas-postavschik-group4  \\\n",
       "0                                   977.00   \n",
       "1                                    93.00   \n",
       "2                                    15.00   \n",
       "3                                     6.00   \n",
       "4                                     4.00   \n",
       "5                                      NaN   \n",
       "6                                      NaN   \n",
       "\n",
       "   U-27-11-mars-whiskas-postavschik-group3  \\\n",
       "0                                   217.00   \n",
       "1                                    38.00   \n",
       "2                                    14.00   \n",
       "3                                     9.00   \n",
       "4                                     1.00   \n",
       "5                                     1.00   \n",
       "6                                      NaN   \n",
       "\n",
       "   U-27-11-mars-whiskas-postavschik-group2  \\\n",
       "0                                      864   \n",
       "1                                      150   \n",
       "2                                       56   \n",
       "3                                       40   \n",
       "4                                       33   \n",
       "5                                        6   \n",
       "6                                        7   \n",
       "\n",
       "   U-27-11-mars-whiskas-postavschik-group1  X-27-25-Mars-Whiskas-7-sof  \\\n",
       "0                                      864                        2624   \n",
       "1                                      150                         952   \n",
       "2                                       56                         539   \n",
       "3                                       40                         737   \n",
       "4                                       33                         454   \n",
       "5                                        6                         297   \n",
       "6                                        7                         275   \n",
       "\n",
       "   X-27-24-Mars-Whiskas-6-sof  X-27-23-Mars-Whiskas-5-sof  \\\n",
       "0                        1563                        2756   \n",
       "1                         394                         963   \n",
       "2                         179                         504   \n",
       "3                         268                         532   \n",
       "4                         155                         389   \n",
       "5                          86                         204   \n",
       "6                          90                         169   \n",
       "\n",
       "   X-27-22-Mars-Whiskas-4-sof  X-27-21-Mars-Whiskas-3-sof  \\\n",
       "0                        2575                        1327   \n",
       "1                         558                         349   \n",
       "2                         251                         158   \n",
       "3                         245                         265   \n",
       "4                         168                         145   \n",
       "5                          85                          73   \n",
       "6                          90                          84   \n",
       "\n",
       "   X-27-20-Mars-Whiskas-2-sof  X-27-19-Mars-Whiskas-1-sof  \n",
       "0                        2941                        2586  \n",
       "1                         720                         629  \n",
       "2                         361                         306  \n",
       "3                         444                         258  \n",
       "4                         261                         184  \n",
       "5                         154                         110  \n",
       "6                         119                          80  "
      ]
     },
     "execution_count": 268,
     "metadata": {},
     "output_type": "execute_result"
    },
    {
     "name": "stderr",
     "output_type": "stream",
     "text": [
      "22/02/12 03:44:08 ERROR cluster.YarnClientSchedulerBackend: YARN application has exited unexpectedly with state FAILED! Check the YARN application logs for more details.\n",
      "22/02/12 03:44:08 ERROR cluster.YarnClientSchedulerBackend: Diagnostics message: Attempt recovered after RM restartDue to executor failures all available nodes are blacklisted\n",
      "22/02/12 03:44:08 ERROR client.TransportClient: Failed to send RPC RPC 8376267621400154747 to /192.168.234.57:52504: java.nio.channels.ClosedChannelException\n",
      "java.nio.channels.ClosedChannelException\n",
      "\tat io.netty.channel.AbstractChannel$AbstractUnsafe.write(...)(Unknown Source)\n",
      "22/02/12 03:44:08 ERROR cluster.YarnSchedulerBackend$YarnSchedulerEndpoint: Sending RequestExecutors(0,0,Map(),Set()) to AM was unsuccessful\n",
      "java.io.IOException: Failed to send RPC RPC 8376267621400154747 to /192.168.234.57:52504: java.nio.channels.ClosedChannelException\n",
      "\tat org.apache.spark.network.client.TransportClient$RpcChannelListener.handleFailure(TransportClient.java:362)\n",
      "\tat org.apache.spark.network.client.TransportClient$StdChannelListener.operationComplete(TransportClient.java:339)\n",
      "\tat io.netty.util.concurrent.DefaultPromise.notifyListener0(DefaultPromise.java:507)\n",
      "\tat io.netty.util.concurrent.DefaultPromise.notifyListenersNow(DefaultPromise.java:481)\n",
      "\tat io.netty.util.concurrent.DefaultPromise.notifyListeners(DefaultPromise.java:420)\n",
      "\tat io.netty.util.concurrent.DefaultPromise.tryFailure(DefaultPromise.java:122)\n",
      "\tat io.netty.channel.AbstractChannel$AbstractUnsafe.safeSetFailure(AbstractChannel.java:987)\n",
      "\tat io.netty.channel.AbstractChannel$AbstractUnsafe.write(AbstractChannel.java:869)\n",
      "\tat io.netty.channel.DefaultChannelPipeline$HeadContext.write(DefaultChannelPipeline.java:1316)\n",
      "\tat io.netty.channel.AbstractChannelHandlerContext.invokeWrite0(AbstractChannelHandlerContext.java:738)\n",
      "\tat io.netty.channel.AbstractChannelHandlerContext.invokeWrite(AbstractChannelHandlerContext.java:730)\n",
      "\tat io.netty.channel.AbstractChannelHandlerContext.access$1900(AbstractChannelHandlerContext.java:38)\n",
      "\tat io.netty.channel.AbstractChannelHandlerContext$AbstractWriteTask.write(AbstractChannelHandlerContext.java:1081)\n",
      "\tat io.netty.channel.AbstractChannelHandlerContext$WriteAndFlushTask.write(AbstractChannelHandlerContext.java:1128)\n",
      "\tat io.netty.channel.AbstractChannelHandlerContext$AbstractWriteTask.run(AbstractChannelHandlerContext.java:1070)\n",
      "\tat io.netty.util.concurrent.AbstractEventExecutor.safeExecute(AbstractEventExecutor.java:163)\n",
      "\tat io.netty.util.concurrent.SingleThreadEventExecutor.runAllTasks(SingleThreadEventExecutor.java:403)\n",
      "\tat io.netty.channel.nio.NioEventLoop.run(NioEventLoop.java:463)\n",
      "\tat io.netty.util.concurrent.SingleThreadEventExecutor$5.run(SingleThreadEventExecutor.java:858)\n",
      "\tat io.netty.util.concurrent.DefaultThreadFactory$DefaultRunnableDecorator.run(DefaultThreadFactory.java:138)\n",
      "\tat java.lang.Thread.run(Thread.java:748)\n",
      "Caused by: java.nio.channels.ClosedChannelException\n",
      "\tat io.netty.channel.AbstractChannel$AbstractUnsafe.write(...)(Unknown Source)\n",
      "22/02/12 03:44:08 ERROR util.Utils: Uncaught exception in thread YARN application state monitor\n",
      "org.apache.spark.SparkException: Exception thrown in awaitResult: \n",
      "\tat org.apache.spark.util.ThreadUtils$.awaitResult(ThreadUtils.scala:226)\n",
      "\tat org.apache.spark.rpc.RpcTimeout.awaitResult(RpcTimeout.scala:75)\n",
      "\tat org.apache.spark.scheduler.cluster.CoarseGrainedSchedulerBackend.requestTotalExecutors(CoarseGrainedSchedulerBackend.scala:574)\n",
      "\tat org.apache.spark.scheduler.cluster.YarnSchedulerBackend.stop(YarnSchedulerBackend.scala:98)\n",
      "\tat org.apache.spark.scheduler.cluster.YarnClientSchedulerBackend.stop(YarnClientSchedulerBackend.scala:164)\n",
      "\tat org.apache.spark.scheduler.TaskSchedulerImpl.stop(TaskSchedulerImpl.scala:653)\n",
      "\tat org.apache.spark.scheduler.DAGScheduler.stop(DAGScheduler.scala:2042)\n",
      "\tat org.apache.spark.SparkContext$$anonfun$stop$6.apply$mcV$sp(SparkContext.scala:1949)\n",
      "\tat org.apache.spark.util.Utils$.tryLogNonFatalError(Utils.scala:1340)\n",
      "\tat org.apache.spark.SparkContext.stop(SparkContext.scala:1948)\n",
      "\tat org.apache.spark.scheduler.cluster.YarnClientSchedulerBackend$MonitorThread.run(YarnClientSchedulerBackend.scala:121)\n",
      "Caused by: java.io.IOException: Failed to send RPC RPC 8376267621400154747 to /192.168.234.57:52504: java.nio.channels.ClosedChannelException\n",
      "\tat org.apache.spark.network.client.TransportClient$RpcChannelListener.handleFailure(TransportClient.java:362)\n",
      "\tat org.apache.spark.network.client.TransportClient$StdChannelListener.operationComplete(TransportClient.java:339)\n",
      "\tat io.netty.util.concurrent.DefaultPromise.notifyListener0(DefaultPromise.java:507)\n",
      "\tat io.netty.util.concurrent.DefaultPromise.notifyListenersNow(DefaultPromise.java:481)\n",
      "\tat io.netty.util.concurrent.DefaultPromise.notifyListeners(DefaultPromise.java:420)\n",
      "\tat io.netty.util.concurrent.DefaultPromise.tryFailure(DefaultPromise.java:122)\n",
      "\tat io.netty.channel.AbstractChannel$AbstractUnsafe.safeSetFailure(AbstractChannel.java:987)\n",
      "\tat io.netty.channel.AbstractChannel$AbstractUnsafe.write(AbstractChannel.java:869)\n",
      "\tat io.netty.channel.DefaultChannelPipeline$HeadContext.write(DefaultChannelPipeline.java:1316)\n",
      "\tat io.netty.channel.AbstractChannelHandlerContext.invokeWrite0(AbstractChannelHandlerContext.java:738)\n",
      "\tat io.netty.channel.AbstractChannelHandlerContext.invokeWrite(AbstractChannelHandlerContext.java:730)\n",
      "\tat io.netty.channel.AbstractChannelHandlerContext.access$1900(AbstractChannelHandlerContext.java:38)\n",
      "\tat io.netty.channel.AbstractChannelHandlerContext$AbstractWriteTask.write(AbstractChannelHandlerContext.java:1081)\n",
      "\tat io.netty.channel.AbstractChannelHandlerContext$WriteAndFlushTask.write(AbstractChannelHandlerContext.java:1128)\n",
      "\tat io.netty.channel.AbstractChannelHandlerContext$AbstractWriteTask.run(AbstractChannelHandlerContext.java:1070)\n",
      "\tat io.netty.util.concurrent.AbstractEventExecutor.safeExecute(AbstractEventExecutor.java:163)\n",
      "\tat io.netty.util.concurrent.SingleThreadEventExecutor.runAllTasks(SingleThreadEventExecutor.java:403)\n",
      "\tat io.netty.channel.nio.NioEventLoop.run(NioEventLoop.java:463)\n",
      "\tat io.netty.util.concurrent.SingleThreadEventExecutor$5.run(SingleThreadEventExecutor.java:858)\n",
      "\tat io.netty.util.concurrent.DefaultThreadFactory$DefaultRunnableDecorator.run(DefaultThreadFactory.java:138)\n",
      "\tat java.lang.Thread.run(Thread.java:748)\n",
      "Caused by: java.nio.channels.ClosedChannelException\n",
      "\tat io.netty.channel.AbstractChannel$AbstractUnsafe.write(...)(Unknown Source)\n"
     ]
    }
   ],
   "source": [
    "val"
   ]
  }
 ],
 "metadata": {
  "kernelspec": {
   "display_name": "Python 3 (ipykernel)",
   "language": "python",
   "name": "python3"
  },
  "language_info": {
   "codemirror_mode": {
    "name": "ipython",
    "version": 3
   },
   "file_extension": ".py",
   "mimetype": "text/x-python",
   "name": "python",
   "nbconvert_exporter": "python",
   "pygments_lexer": "ipython3",
   "version": "3.7.10"
  }
 },
 "nbformat": 4,
 "nbformat_minor": 5
}
