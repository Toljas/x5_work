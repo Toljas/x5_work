{
 "cells": [
  {
   "cell_type": "markdown",
   "id": "6b75cf7f",
   "metadata": {},
   "source": [
    "https://jira.x5.ru/browse/CVMUPG-1066"
   ]
  },
  {
   "cell_type": "code",
   "execution_count": 1,
   "id": "2f21c26d",
   "metadata": {},
   "outputs": [],
   "source": [
    "name = 'CVMUPG-1066_savushkin_add'"
   ]
  },
  {
   "cell_type": "code",
   "execution_count": 4,
   "id": "c4d8b344",
   "metadata": {},
   "outputs": [],
   "source": [
    "import sys\n",
    "import pandas as pd\n",
    "import pyspark.sql.functions as F\n",
    "sys.path.append('/home/jovyan/cvm_upgrade/')\n",
    "sys.path.append('/home/jovyan/cvm_upgrade/upgrade/')\n",
    "sys.path.append('/home/jovyan/glow-byte-filters-pyspark')\n",
    "sys.path.append('/home/jovyan/x5_some_tasks/Osipov/')\n",
    "from upgrade.post_analysis2.tools.groups_metrics_aggregation import GroupsMetricsAggregation\n",
    "from upgrade.post_analysis2.tools.guests_metrics_preprocessing import GuestsMetricsPreprocessing\n",
    "from upgrade.post_analysis2.tools.post_analysis_params import PostAnalysisParams\n",
    "from upgrade.post_analysis2.tools.metric_names_mapper import map_col_names_to_russian\n",
    "from upgrade.post_analysis2.tools.experiment_participants import ExperimentParticipants\n",
    "from upgrade.post_analysis2.tools.experiment_params import ExperimentParams\n",
    "import datetime\n",
    "from logic_filters import *\n",
    "from datetime import timedelta\n",
    "from spark import *\n",
    "from utils_osipov import *\n",
    "from segmentation import *\n",
    "\n",
    "%load_ext autoreload\n",
    "%autoreload 2\n",
    "\n",
    "pd.options.display.float_format = '{:,.2f}'.format\n",
    "pd.options.display.max_rows = 500"
   ]
  },
  {
   "cell_type": "code",
   "execution_count": 5,
   "id": "de3189c9",
   "metadata": {
    "collapsed": false,
    "jupyter": {
     "outputs_hidden": false
    },
    "pycharm": {
     "name": "#%%\n"
    }
   },
   "outputs": [
    {
     "name": "stderr",
     "output_type": "stream",
     "text": [
      "Setting default log level to \"WARN\".\n",
      "To adjust logging level use sc.setLogLevel(newLevel). For SparkR, use setLogLevel(newLevel).\n",
      "22/02/21 14:41:38 WARN cluster.YarnSchedulerBackend$YarnSchedulerEndpoint: Attempted to request executors before the AM has registered!\n"
     ]
    }
   ],
   "source": [
    "sc, spark = restart_spark(name, 100, executor_memory=\"3G\", executor_cores=5, driver_memory=\"12G\",\n",
    "                          additional_params={\"spark.sql.shuffle.partitions\": \"200\"})\n",
    "sc.setLogLevel('ERROR')"
   ]
  },
  {
   "cell_type": "code",
   "execution_count": 6,
   "id": "96769eea",
   "metadata": {},
   "outputs": [],
   "source": [
    "LOYALTY_CARDS = \"hive_ssa_tc5.loyalty_card\"\n",
    "LOYALTY_CARDHOLDERS = \"hive_ssa_tc5.loyalty_cardholder\"\n",
    "ACCOUNTS = \"hive_ssa_tc5.account\"\n",
    "CVM5_GUESTS = \"hive_cvm_acrm.cvm5_guests\"\n",
    "\n",
    "DIM_STORE = \"hive_ssa_main.dim_store\"\n",
    "CHECKS_HEADERS = \"hive_ssa_main.fct_rtl_txn\"\n",
    "CHECKS_ITEMS = \"hive_ssa_main.fct_rtl_txn_item\"\n",
    "PRODUCTS = \"hive_ssa_tc5.cvm_product\""
   ]
  },
  {
   "cell_type": "code",
   "execution_count": 5,
   "id": "b443edd7",
   "metadata": {
    "collapsed": false,
    "jupyter": {
     "outputs_hidden": false
    },
    "pycharm": {
     "name": "#%%\n"
    }
   },
   "outputs": [],
   "source": [
    "experiment_params = ExperimentParams(**{\n",
    "    # Camp wave id нужно записать в виде мапы из id в префиксы.\n",
    "    # Префиксы ни на что не влияют, просто для более красивого названия групп\n",
    "    # Заполняются camp_wave_id. Если для контроля и теста одинаковый, то пишем два раза\n",
    "    'map_camp_wave_ids_to_suffixes': {\n",
    "        77113: \"sms_viber_tg\",\n",
    "        77113: \"sms_viber_cg\"\n",
    "    },\n",
    "\n",
    "    # communication period with guest (sending sms, push, etc.)\n",
    "    'date_communication_from': '2021-12-23',\n",
    "    'date_communication_to': '2021-12-29',\n",
    "\n",
    "    'wave_ids': [\n",
    "        -1 #если нет, то -1\n",
    "    ],\n",
    "\n",
    "    'communication_costs': {\n",
    "        'sms': 1.38,\n",
    "        'viber': 1.32,\n",
    "        'email': 0.0083\n",
    "    }\n",
    "})\n",
    "#0_ + camp_wave_id +_sms_viber_ + cg (если номера волн равны) / tg (если номера волн разные)"
   ]
  },
  {
   "cell_type": "code",
   "execution_count": 6,
   "id": "8c8d6c7c",
   "metadata": {
    "collapsed": false,
    "jupyter": {
     "outputs_hidden": false
    },
    "pycharm": {
     "name": "#%%\n"
    },
    "scrolled": true
   },
   "outputs": [],
   "source": [
    "experiment_guests = ExperimentParticipants(spark, experiment_params)\n",
    "experiment_guests_communications = experiment_guests.extract()"
   ]
  },
  {
   "cell_type": "code",
   "execution_count": 7,
   "id": "3e5e22db",
   "metadata": {},
   "outputs": [],
   "source": [
    "guests_tg1 = (experiment_guests_communications\n",
    "          .filter(F.col('group_name') == '0_' +\n",
    "                str(list(experiment_params.map_camp_wave_ids_to_suffixes.keys())[0]) + '_' +\n",
    "                list(experiment_params.map_camp_wave_ids_to_suffixes.values())[0])\n",
    "          .select('customer_rk').distinct()\n",
    "         )"
   ]
  },
  {
   "cell_type": "code",
   "execution_count": 8,
   "id": "0fee131d",
   "metadata": {},
   "outputs": [],
   "source": [
    "guests_cg1 = (experiment_guests_communications\n",
    "          .filter(F.col('group_name') == '1_' +\n",
    "                str(list(experiment_params.map_camp_wave_ids_to_suffixes.keys())[0]) + '_' +\n",
    "                list(experiment_params.map_camp_wave_ids_to_suffixes.values())[0])\n",
    "          .select('customer_rk').distinct()\n",
    "         )"
   ]
  },
  {
   "cell_type": "code",
   "execution_count": 9,
   "id": "5b682303",
   "metadata": {
    "collapsed": false,
    "jupyter": {
     "outputs_hidden": false
    },
    "pycharm": {
     "name": "#%%\n"
    }
   },
   "outputs": [],
   "source": [
    "experiment_params = ExperimentParams(**{\n",
    "    # Camp wave id нужно записать в виде мапы из id в префиксы.\n",
    "    # Префиксы ни на что не влияют, просто для более красивого названия групп\n",
    "    # Заполняются camp_wave_id. Если для контроля и теста одинаковый, то пишем два раза\n",
    "    'map_camp_wave_ids_to_suffixes': {\n",
    "        76934: \"sms_viber_tg\",\n",
    "        76934: \"sms_viber_cg\"\n",
    "    },\n",
    "\n",
    "    # communication period with guest (sending sms, push, etc.)\n",
    "    'date_communication_from': '2021-12-23',\n",
    "    'date_communication_to': '2021-12-29',\n",
    "\n",
    "    'wave_ids': [\n",
    "        77054 #если нет, то -1\n",
    "    ],\n",
    "\n",
    "    'communication_costs': {\n",
    "        'sms': 1.38,\n",
    "        'viber': 1.32,\n",
    "        'email': 0.0083\n",
    "    }\n",
    "})\n",
    "#0_ + camp_wave_id +_sms_viber_ + cg (если номера волн равны) / tg (если номера волн разные)"
   ]
  },
  {
   "cell_type": "code",
   "execution_count": 10,
   "id": "394cf547",
   "metadata": {
    "collapsed": false,
    "jupyter": {
     "outputs_hidden": false
    },
    "pycharm": {
     "name": "#%%\n"
    },
    "scrolled": true
   },
   "outputs": [],
   "source": [
    "experiment_guests = ExperimentParticipants(spark, experiment_params)\n",
    "experiment_guests_communications = experiment_guests.extract()"
   ]
  },
  {
   "cell_type": "code",
   "execution_count": 11,
   "id": "9c00e210",
   "metadata": {},
   "outputs": [],
   "source": [
    "guests_tg2 = (experiment_guests_communications\n",
    "          .filter(F.col('group_name') == '0_' +\n",
    "                str(list(experiment_params.map_camp_wave_ids_to_suffixes.keys())[0]) + '_' +\n",
    "                list(experiment_params.map_camp_wave_ids_to_suffixes.values())[0])\n",
    "          .select('customer_rk').distinct()\n",
    "         )"
   ]
  },
  {
   "cell_type": "code",
   "execution_count": 12,
   "id": "0628ebcc",
   "metadata": {},
   "outputs": [],
   "source": [
    "guests_cg2 = (experiment_guests_communications\n",
    "          .filter(F.col('group_name') == '1_' +\n",
    "                str(list(experiment_params.map_camp_wave_ids_to_suffixes.keys())[0]) + '_' +\n",
    "                list(experiment_params.map_camp_wave_ids_to_suffixes.values())[0])\n",
    "          .select('customer_rk').distinct()\n",
    "         )"
   ]
  },
  {
   "cell_type": "code",
   "execution_count": 13,
   "id": "4e7dff8e",
   "metadata": {},
   "outputs": [],
   "source": [
    "dt1 = datetime.datetime.strptime(experiment_params.date_communication_from, '%Y-%m-%d')\n",
    "dt2 = datetime.datetime.strptime(experiment_params.date_communication_to, '%Y-%m-%d')"
   ]
  },
  {
   "cell_type": "code",
   "execution_count": 14,
   "id": "0857d351",
   "metadata": {},
   "outputs": [],
   "source": [
    "start_date = datetime.date(dt1.year, dt1.month, dt1.day)\n",
    "end_date = datetime.date(dt2.year, dt2.month, dt2.day)"
   ]
  },
  {
   "cell_type": "code",
   "execution_count": 15,
   "id": "c42223b7",
   "metadata": {},
   "outputs": [],
   "source": [
    "plu_codes = [3367104,3388814,3672506,3919797,3926055,4046891,4046892,4046893,4118966,4137277]"
   ]
  },
  {
   "cell_type": "code",
   "execution_count": 16,
   "id": "49ae45cc",
   "metadata": {},
   "outputs": [],
   "source": [
    "guests_all = (guests_tg1.withColumn('group', F.lit('tg1'))\n",
    "              .union(guests_tg2.withColumn('group', F.lit('tg2')))\n",
    "              .union(guests_cg1.withColumn('group', F.lit('cg1')))\n",
    "              .union(guests_cg2.withColumn('group', F.lit('cg2'))).distinct()\n",
    "             )"
   ]
  },
  {
   "cell_type": "code",
   "execution_count": 17,
   "id": "f1a31c53",
   "metadata": {},
   "outputs": [
    {
     "name": "stderr",
     "output_type": "stream",
     "text": [
      "                                                                                \r"
     ]
    }
   ],
   "source": [
    "# guests_all.write.parquet('temp1066_guests_all', mode='overwrite')\n",
    "guests_all = spark.read.parquet('temp1066_guests_all')"
   ]
  },
  {
   "cell_type": "markdown",
   "id": "ea8d273f",
   "metadata": {},
   "source": [
    "### 1. Сегментация на персон откликнувшихся гостей."
   ]
  },
  {
   "cell_type": "code",
   "execution_count": 21,
   "id": "db44fe23",
   "metadata": {},
   "outputs": [],
   "source": [
    "checks_headers = (spark.table(CHECKS_HEADERS)\n",
    "                      .filter(F.col('rtl_txn_dt').between(start_date, end_date))\n",
    "                      .filter((F.col('loyalty_card_no') != '') & (F.col('loyalty_card_no').isNotNull()))\n",
    "                      .filter(F.col('financial_unit_format_dk') == 'D')\n",
    "                      .filter(F.col('rtl_txn_cancel_flg') == 0)\n",
    "                      .select('rtl_txn_id', 'loyalty_card_no')\n",
    "                     )"
   ]
  },
  {
   "cell_type": "code",
   "execution_count": 22,
   "id": "283c42c4",
   "metadata": {},
   "outputs": [],
   "source": [
    "loyalty_cards = (spark\n",
    "                .table(LOYALTY_CARDS)\n",
    "                .withColumnRenamed(\"loyalty_card_id\", \"loyalty_card_no\")\n",
    "                .withColumnRenamed(\"loyalty_account_id\", \"account_no\")\n",
    "                .withColumnRenamed(\"loyalty_account_acrm_id\", \"account_rk\")\n",
    "                .select('account_no', 'loyalty_card_no')\n",
    "            )\n",
    "loyalty_cardholders = (spark\n",
    "                        .table(LOYALTY_CARDHOLDERS)\n",
    "                        .withColumnRenamed(\"loyalty_cardholder_acrm_id\", \"customer_rk\")\n",
    "                        .withColumnRenamed(\"loyalty_account_id\", \"account_no\")\n",
    "                        .select('account_no', 'customer_rk')\n",
    "                      )\n",
    "clients_info = loyalty_cards.join(loyalty_cardholders, on='account_no', how='inner')\n",
    "clients_info = clients_info.join(guests_all, on='customer_rk', how='inner')"
   ]
  },
  {
   "cell_type": "code",
   "execution_count": 23,
   "id": "1e82d53c",
   "metadata": {},
   "outputs": [],
   "source": [
    "checks_headers_tc5 = checks_headers.join(clients_info, on='loyalty_card_no') #оставили чеки только доступных госте"
   ]
  },
  {
   "cell_type": "code",
   "execution_count": 24,
   "id": "3fe70928",
   "metadata": {},
   "outputs": [],
   "source": [
    "checks_items = (spark.table(CHECKS_ITEMS) \n",
    "                .withColumnRenamed('plu_id', 'plu_code')\n",
    "                .withColumnRenamed('turnover_no_vat_amt', 'zsalnovat')\n",
    "                .withColumnRenamed('turnover_vat_rub_amt', 'zsale_vat')\n",
    "                .withColumnRenamed('prime_cost_no_vat_amt', 'zcst_n')\n",
    "                .withColumnRenamed('turnover_base_uom_amt', 'base_qty')\n",
    "                .withColumnRenamed('discount_amt', 'zdiscount')\n",
    "                .withColumnRenamed('fact_regular_promo_flg', 'zpromofl')\n",
    "                .filter(F.col('rtl_txn_dt').between(start_date, end_date))\n",
    "                .filter((F.col('zsalnovat') >= 0) & (F.col('base_qty') >= 0) & (F.col('zcst_n') > 0)) #keep only correct data\n",
    "                    .select('plu_code' #items id\n",
    "                            , 'rtl_txn_id' #cheques id\n",
    "                            , 'base_qty'\n",
    "                           )\n",
    "               )"
   ]
  },
  {
   "cell_type": "code",
   "execution_count": 25,
   "id": "16114e63",
   "metadata": {},
   "outputs": [],
   "source": [
    "checks_items = checks_items.filter(F.col('plu_code').isin(plu_codes)) # только чеки с нужными plu"
   ]
  },
  {
   "cell_type": "code",
   "execution_count": 26,
   "id": "bd155605",
   "metadata": {},
   "outputs": [],
   "source": [
    "checks_tc5 = checks_items.join(checks_headers_tc5, 'rtl_txn_id', how='inner')"
   ]
  },
  {
   "cell_type": "code",
   "execution_count": 30,
   "id": "5336f1a5",
   "metadata": {},
   "outputs": [
    {
     "name": "stderr",
     "output_type": "stream",
     "text": [
      "[Stage 27:(10 + 21) / 210][Stage 28:> (8 + 4) / 156][Stage 29:> (7 + 8) / 159]9]"
     ]
    }
   ],
   "source": [
    "seg = (checks_tc5.select('customer_rk', 'group')\n",
    "                  .distinct()\n",
    "      )"
   ]
  },
  {
   "cell_type": "code",
   "execution_count": 50,
   "id": "260d2b7d",
   "metadata": {},
   "outputs": [
    {
     "name": "stderr",
     "output_type": "stream",
     "text": [
      "                                                                                \r"
     ]
    }
   ],
   "source": [
    "# seg.write.parquet('temp1066_1', mode='overwrite')\n",
    "seg = spark.read.parquet('temp1066_1')"
   ]
  },
  {
   "cell_type": "code",
   "execution_count": 32,
   "id": "58be6cba",
   "metadata": {},
   "outputs": [
    {
     "name": "stderr",
     "output_type": "stream",
     "text": [
      "                                                                                \r"
     ]
    },
    {
     "data": {
      "text/plain": [
       "6420"
      ]
     },
     "execution_count": 32,
     "metadata": {},
     "output_type": "execute_result"
    }
   ],
   "source": [
    "seg.count()"
   ]
  },
  {
   "cell_type": "code",
   "execution_count": 45,
   "id": "87668fc5",
   "metadata": {},
   "outputs": [],
   "source": [
    "client_segmentation = (spark.table('tc5_analytics_sanbox.t_TX_transform_client_segmentation')\n",
    "                            .withColumnRenamed('curr_acc_no','account_no')\n",
    "                            .filter(F.col('dt')==('2022-02-01'))\n",
    "                            .select(['account_no','segment_person']))"
   ]
  },
  {
   "cell_type": "code",
   "execution_count": 46,
   "id": "d258a6b7",
   "metadata": {},
   "outputs": [],
   "source": [
    "loyalty_cardholders = (spark\n",
    "                        .table(LOYALTY_CARDHOLDERS)\n",
    "                        .withColumnRenamed(\"loyalty_cardholder_acrm_id\", \"customer_rk\")\n",
    "                        .withColumnRenamed(\"loyalty_account_id\", \"account_no\")\n",
    "                        .select('account_no', 'customer_rk')\n",
    "                      )\n",
    "client_segmentation = loyalty_cardholders.join(client_segmentation, on='account_no', how='inner')"
   ]
  },
  {
   "cell_type": "code",
   "execution_count": 47,
   "id": "d68c2593",
   "metadata": {},
   "outputs": [],
   "source": [
    "client_segmentation = client_segmentation.select(['customer_rk', 'segment_person']).distinct()"
   ]
  },
  {
   "cell_type": "code",
   "execution_count": 36,
   "id": "bbbff474",
   "metadata": {},
   "outputs": [],
   "source": [
    "seg_segmentation = seg.join(client_segmentation, 'customer_rk', 'inner')"
   ]
  },
  {
   "cell_type": "code",
   "execution_count": 37,
   "id": "aff7058a",
   "metadata": {},
   "outputs": [
    {
     "name": "stderr",
     "output_type": "stream",
     "text": [
      "                                                                                \r"
     ]
    }
   ],
   "source": [
    "seg_segmentation_pd = seg_segmentation.toPandas()"
   ]
  },
  {
   "cell_type": "code",
   "execution_count": 38,
   "id": "c48a070c",
   "metadata": {},
   "outputs": [
    {
     "data": {
      "text/html": [
       "<div>\n",
       "<style scoped>\n",
       "    .dataframe tbody tr th:only-of-type {\n",
       "        vertical-align: middle;\n",
       "    }\n",
       "\n",
       "    .dataframe tbody tr th {\n",
       "        vertical-align: top;\n",
       "    }\n",
       "\n",
       "    .dataframe thead th {\n",
       "        text-align: right;\n",
       "    }\n",
       "</style>\n",
       "<table border=\"1\" class=\"dataframe\">\n",
       "  <thead>\n",
       "    <tr style=\"text-align: right;\">\n",
       "      <th></th>\n",
       "      <th>customer_rk</th>\n",
       "      <th>segment_person</th>\n",
       "    </tr>\n",
       "  </thead>\n",
       "  <tbody>\n",
       "    <tr>\n",
       "      <th>0</th>\n",
       "      <td>47793256</td>\n",
       "      <td>46-60, не мало НЦС</td>\n",
       "    </tr>\n",
       "    <tr>\n",
       "      <th>1</th>\n",
       "      <td>47793256</td>\n",
       "      <td>46-60, не мало НЦС</td>\n",
       "    </tr>\n",
       "    <tr>\n",
       "      <th>2</th>\n",
       "      <td>13689087</td>\n",
       "      <td>46-60, не мало НЦС</td>\n",
       "    </tr>\n",
       "    <tr>\n",
       "      <th>3</th>\n",
       "      <td>13689087</td>\n",
       "      <td>46-60, не мало НЦС</td>\n",
       "    </tr>\n",
       "    <tr>\n",
       "      <th>4</th>\n",
       "      <td>47362655</td>\n",
       "      <td>61+</td>\n",
       "    </tr>\n",
       "  </tbody>\n",
       "</table>\n",
       "</div>"
      ],
      "text/plain": [
       "  customer_rk      segment_person\n",
       "0    47793256  46-60, не мало НЦС\n",
       "1    47793256  46-60, не мало НЦС\n",
       "2    13689087  46-60, не мало НЦС\n",
       "3    13689087  46-60, не мало НЦС\n",
       "4    47362655                 61+"
      ]
     },
     "execution_count": 38,
     "metadata": {},
     "output_type": "execute_result"
    }
   ],
   "source": [
    "seg_segmentation_pd.head()"
   ]
  },
  {
   "cell_type": "code",
   "execution_count": 39,
   "id": "1fc9542d",
   "metadata": {},
   "outputs": [],
   "source": [
    "groups = seg_segmentation_pd.groupby('segment_person')['customer_rk'].count().reset_index()"
   ]
  },
  {
   "cell_type": "code",
   "execution_count": 40,
   "id": "da5541d6",
   "metadata": {
    "scrolled": true
   },
   "outputs": [
    {
     "data": {
      "text/html": [
       "<div>\n",
       "<style scoped>\n",
       "    .dataframe tbody tr th:only-of-type {\n",
       "        vertical-align: middle;\n",
       "    }\n",
       "\n",
       "    .dataframe tbody tr th {\n",
       "        vertical-align: top;\n",
       "    }\n",
       "\n",
       "    .dataframe thead th {\n",
       "        text-align: right;\n",
       "    }\n",
       "</style>\n",
       "<table border=\"1\" class=\"dataframe\">\n",
       "  <thead>\n",
       "    <tr style=\"text-align: right;\">\n",
       "      <th></th>\n",
       "      <th>segment_person</th>\n",
       "      <th>customer_rk</th>\n",
       "    </tr>\n",
       "  </thead>\n",
       "  <tbody>\n",
       "    <tr>\n",
       "      <th>0</th>\n",
       "      <td>21-, мало НЦС</td>\n",
       "      <td>62</td>\n",
       "    </tr>\n",
       "    <tr>\n",
       "      <th>1</th>\n",
       "      <td>21-, не мало НЦС</td>\n",
       "      <td>108</td>\n",
       "    </tr>\n",
       "    <tr>\n",
       "      <th>2</th>\n",
       "      <td>22-35, мало НЦС, есть дети</td>\n",
       "      <td>182</td>\n",
       "    </tr>\n",
       "    <tr>\n",
       "      <th>3</th>\n",
       "      <td>22-35, мало НЦС, нет детей</td>\n",
       "      <td>630</td>\n",
       "    </tr>\n",
       "    <tr>\n",
       "      <th>4</th>\n",
       "      <td>22-35, не мало НЦС, без вредных привычек</td>\n",
       "      <td>372</td>\n",
       "    </tr>\n",
       "  </tbody>\n",
       "</table>\n",
       "</div>"
      ],
      "text/plain": [
       "                             segment_person  customer_rk\n",
       "0                             21-, мало НЦС           62\n",
       "1                          21-, не мало НЦС          108\n",
       "2                22-35, мало НЦС, есть дети          182\n",
       "3                22-35, мало НЦС, нет детей          630\n",
       "4  22-35, не мало НЦС, без вредных привычек          372"
      ]
     },
     "execution_count": 40,
     "metadata": {},
     "output_type": "execute_result"
    }
   ],
   "source": [
    "groups.head()"
   ]
  },
  {
   "cell_type": "code",
   "execution_count": 42,
   "id": "f5454a5f",
   "metadata": {},
   "outputs": [],
   "source": [
    "groups.to_excel('grouped_guests.xlsx', index=False)"
   ]
  },
  {
   "cell_type": "markdown",
   "id": "b3de070c",
   "metadata": {},
   "source": [
    "### 2. Кто из гостей купил в период акции, хотя до этого перестал покупать."
   ]
  },
  {
   "cell_type": "code",
   "execution_count": 9,
   "id": "fef60e50",
   "metadata": {},
   "outputs": [],
   "source": [
    "start_date1 = datetime.date(2021, 6, 23)\n",
    "end_date1 = datetime.date(2021, 10, 22)\n",
    "start_date2 = datetime.date(2021, 10, 23)\n",
    "end_date2 = datetime.date(2021, 12, 22)"
   ]
  },
  {
   "cell_type": "code",
   "execution_count": 10,
   "id": "a56f79ba",
   "metadata": {},
   "outputs": [],
   "source": [
    "checks_headers = (spark.table(CHECKS_HEADERS)\n",
    "                      .filter(F.col('rtl_txn_dt').between(start_date1, end_date1))\n",
    "                      .filter((F.col('loyalty_card_no') != '') & (F.col('loyalty_card_no').isNotNull()))\n",
    "                      .filter(F.col('financial_unit_format_dk') == 'D')\n",
    "                      .filter(F.col('rtl_txn_cancel_flg') == 0)\n",
    "                      .select('rtl_txn_id', 'loyalty_card_no', 'store_id')\n",
    "                     )\n"
   ]
  },
  {
   "cell_type": "code",
   "execution_count": 11,
   "id": "82952040",
   "metadata": {},
   "outputs": [],
   "source": [
    "loyalty_cards = (spark\n",
    "                    .table(LOYALTY_CARDS)\n",
    "                    .withColumnRenamed(\"loyalty_card_id\", \"loyalty_card_no\")\n",
    "                    .withColumnRenamed(\"loyalty_account_id\", \"account_no\")\n",
    "                    .withColumnRenamed(\"loyalty_account_acrm_id\", \"account_rk\")\n",
    "                    .select('account_no', 'loyalty_card_no')\n",
    "                )\n",
    "loyalty_cardholders = (spark\n",
    "                        .table(LOYALTY_CARDHOLDERS)\n",
    "                        .withColumnRenamed(\"loyalty_cardholder_acrm_id\", \"customer_rk\")\n",
    "                        .withColumnRenamed(\"loyalty_account_id\", \"account_no\")\n",
    "                        .select('account_no', 'customer_rk')\n",
    "                      )\n",
    "clients_info = loyalty_cards.join(loyalty_cardholders, on='account_no', how='inner')\n",
    "clients_info = clients_info.join(guests_all, on='customer_rk', how='inner')"
   ]
  },
  {
   "cell_type": "code",
   "execution_count": 12,
   "id": "eb947c6e",
   "metadata": {},
   "outputs": [],
   "source": [
    "checks_headers_tc5 = checks_headers.join(clients_info, on='loyalty_card_no') #оставили чеки только нужных гостей"
   ]
  },
  {
   "cell_type": "code",
   "execution_count": 13,
   "id": "39e6b56a",
   "metadata": {},
   "outputs": [],
   "source": [
    "checks_items = (spark.table(CHECKS_ITEMS) \n",
    "                    .withColumnRenamed('plu_id', 'plu_code')\n",
    "                    .withColumnRenamed('turnover_no_vat_amt', 'zsalnovat')\n",
    "                    .withColumnRenamed('turnover_vat_rub_amt', 'zsale_vat')\n",
    "                    .withColumnRenamed('prime_cost_no_vat_amt', 'zcst_n')\n",
    "                    .withColumnRenamed('turnover_base_uom_amt', 'base_qty')\n",
    "                    .withColumnRenamed('discount_amt', 'zdiscount')\n",
    "                    .withColumnRenamed('fact_regular_promo_flg', 'zpromofl')\n",
    "                    .filter(F.col('rtl_txn_dt').between(start_date1, end_date1))\n",
    "                    .filter((F.col('zsalnovat') >= 0) & (F.col('base_qty') >= 0) & (F.col('zcst_n') > 0)) #keep only correct data\n",
    "                        .select('plu_code' #items id\n",
    "                                , 'rtl_txn_id' #cheques id\n",
    "                               , 'base_qty'\n",
    "                                , 'zsalnovat'\n",
    "                               )\n",
    "                   )\n"
   ]
  },
  {
   "cell_type": "code",
   "execution_count": 14,
   "id": "4fb5a57f",
   "metadata": {},
   "outputs": [],
   "source": [
    "# plu_hierarchy_lvl_4_dk = ['FR0604001', 'FR0608005', 'FR0604002', 'FR0608001'] #сметана, молоко, кефир\n",
    "syntethic_category_id = [102, 103]\n",
    "# plu_brand_code = ['2452']\n",
    "# plu_vendor_nm = ['Данон']\n",
    "# plu_not_in = [4138521]"
   ]
  },
  {
   "cell_type": "code",
   "execution_count": 15,
   "id": "480ff4b6",
   "metadata": {},
   "outputs": [
    {
     "name": "stderr",
     "output_type": "stream",
     "text": [
      "                                                                                \r"
     ]
    }
   ],
   "source": [
    "plu_codes_cat = (spark\n",
    "                 .table(PRODUCTS)\n",
    "#                  .filter(F.col('plu_hierarchy_lvl_4_dk').isin(plu_hierarchy_lvl_4_dk))\n",
    "#                  .filter(F.col('plu_vendor_nm').isin(plu_vendor_nm))\n",
    "                 .filter(F.col('syntethic_category_id').isin(syntethic_category_id))\n",
    "#                  .filter(F.col('plu_brand_code').isin(plu_brand_code))\n",
    "#                  .filter(~F.col('plu_id').isin(plu_not_in))\n",
    "                 .select('plu_id')\n",
    "                 .distinct()\n",
    "                 .toPandas()['plu_id']\n",
    "                 .tolist()\n",
    "                )"
   ]
  },
  {
   "cell_type": "code",
   "execution_count": 16,
   "id": "fd11c2c9",
   "metadata": {},
   "outputs": [],
   "source": [
    "checks_items = checks_items.filter(F.col('plu_code').isin(plu_codes_cat)) # только чеки с нужными plu"
   ]
  },
  {
   "cell_type": "code",
   "execution_count": 17,
   "id": "c9c95f0c",
   "metadata": {},
   "outputs": [],
   "source": [
    "category = (spark.table(PRODUCTS).withColumnRenamed('plu_id', 'plu_code')\n",
    "            .select('plu_code', 'syntethic_category_id').distinct())"
   ]
  },
  {
   "cell_type": "code",
   "execution_count": 18,
   "id": "639fd786",
   "metadata": {},
   "outputs": [],
   "source": [
    "checks_tc5 = checks_items.join(checks_headers_tc5, 'rtl_txn_id', how='inner')"
   ]
  },
  {
   "cell_type": "code",
   "execution_count": 19,
   "id": "289bd300",
   "metadata": {},
   "outputs": [],
   "source": [
    "checks_tc5 = checks_tc5.join(category, 'plu_code', 'inner')"
   ]
  },
  {
   "cell_type": "code",
   "execution_count": 20,
   "id": "f5fc880c",
   "metadata": {},
   "outputs": [],
   "source": [
    "pdf = (checks_tc5.groupby('syntethic_category_id').agg(F.sum('base_qty').alias('base_qty'),\n",
    "                                     F.sum('zsalnovat').alias('novat'),\n",
    "                                     F.countDistinct('rtl_txn_id').alias('checks_qty'),\n",
    "                                     F.countDistinct('account_no').alias('guests_qty')))"
   ]
  },
  {
   "cell_type": "code",
   "execution_count": 21,
   "id": "d4120353",
   "metadata": {},
   "outputs": [
    {
     "name": "stderr",
     "output_type": "stream",
     "text": [
      "                                                                                 7644]\r"
     ]
    }
   ],
   "source": [
    "pdf.write.parquet('temp1066_2', mode='overwrite')\n",
    "pdf = spark.read.parquet('temp1066_2')"
   ]
  },
  {
   "cell_type": "code",
   "execution_count": 22,
   "id": "f7ff8006",
   "metadata": {
    "scrolled": true
   },
   "outputs": [
    {
     "name": "stderr",
     "output_type": "stream",
     "text": [
      "                                                                                \r"
     ]
    }
   ],
   "source": [
    "summary = pdf.toPandas()"
   ]
  },
  {
   "cell_type": "code",
   "execution_count": 23,
   "id": "e1c93908",
   "metadata": {},
   "outputs": [
    {
     "data": {
      "text/html": [
       "<div>\n",
       "<style scoped>\n",
       "    .dataframe tbody tr th:only-of-type {\n",
       "        vertical-align: middle;\n",
       "    }\n",
       "\n",
       "    .dataframe tbody tr th {\n",
       "        vertical-align: top;\n",
       "    }\n",
       "\n",
       "    .dataframe thead th {\n",
       "        text-align: right;\n",
       "    }\n",
       "</style>\n",
       "<table border=\"1\" class=\"dataframe\">\n",
       "  <thead>\n",
       "    <tr style=\"text-align: right;\">\n",
       "      <th></th>\n",
       "      <th>syntethic_category_id</th>\n",
       "      <th>base_qty</th>\n",
       "      <th>novat</th>\n",
       "      <th>checks_qty</th>\n",
       "      <th>guests_qty</th>\n",
       "    </tr>\n",
       "  </thead>\n",
       "  <tbody>\n",
       "    <tr>\n",
       "      <th>0</th>\n",
       "      <td>102</td>\n",
       "      <td>991984.428</td>\n",
       "      <td>90774385.74</td>\n",
       "      <td>780624</td>\n",
       "      <td>202058</td>\n",
       "    </tr>\n",
       "    <tr>\n",
       "      <th>1</th>\n",
       "      <td>103</td>\n",
       "      <td>1267166.694</td>\n",
       "      <td>215715126.09</td>\n",
       "      <td>1347917</td>\n",
       "      <td>284171</td>\n",
       "    </tr>\n",
       "  </tbody>\n",
       "</table>\n",
       "</div>"
      ],
      "text/plain": [
       "  syntethic_category_id     base_qty         novat  checks_qty  guests_qty\n",
       "0                   102   991984.428   90774385.74      780624      202058\n",
       "1                   103  1267166.694  215715126.09     1347917      284171"
      ]
     },
     "execution_count": 23,
     "metadata": {},
     "output_type": "execute_result"
    }
   ],
   "source": [
    "summary"
   ]
  },
  {
   "cell_type": "code",
   "execution_count": 90,
   "id": "935f1dcc",
   "metadata": {},
   "outputs": [],
   "source": [
    "summary.to_excel('summary_category.xlsx', index=False)"
   ]
  },
  {
   "cell_type": "markdown",
   "id": "4b098f4e",
   "metadata": {},
   "source": [
    "### 3. Анализ продаж магазинов в категории твердых сыров"
   ]
  },
  {
   "cell_type": "code",
   "execution_count": 18,
   "id": "e0e6c339",
   "metadata": {},
   "outputs": [],
   "source": [
    "only_target = guests_all.filter(F.col('group').isin(['tg1', 'tg2']))"
   ]
  },
  {
   "cell_type": "code",
   "execution_count": 19,
   "id": "bad33367",
   "metadata": {},
   "outputs": [],
   "source": [
    "start_date1 = datetime.date(2021, 12, 2)\n",
    "end_date1 = datetime.date(2021, 12, 29)\n",
    "start_date2 = datetime.date(2021, 9, 29)\n",
    "end_date2 = datetime.date(2021, 12, 29)"
   ]
  },
  {
   "cell_type": "markdown",
   "id": "eb548ffd",
   "metadata": {},
   "source": [
    "#### Отбор магазинов"
   ]
  },
  {
   "cell_type": "code",
   "execution_count": 20,
   "id": "33879860",
   "metadata": {},
   "outputs": [],
   "source": [
    "checks_headers = (spark.table(CHECKS_HEADERS)\n",
    "                      .filter(F.col('rtl_txn_dt').between(start_date2, end_date2))\n",
    "                      .filter((F.col('loyalty_card_no') != '') & (F.col('loyalty_card_no').isNotNull()))\n",
    "                      .filter(F.col('financial_unit_format_dk') == 'D')\n",
    "                      .filter(F.col('rtl_txn_cancel_flg') == 0)\n",
    "                      .select('rtl_txn_id', 'loyalty_card_no', 'store_id')\n",
    "                     )\n"
   ]
  },
  {
   "cell_type": "code",
   "execution_count": 21,
   "id": "0938628c",
   "metadata": {},
   "outputs": [],
   "source": [
    "loyalty_cards = (spark\n",
    "                    .table(LOYALTY_CARDS)\n",
    "                    .withColumnRenamed(\"loyalty_card_id\", \"loyalty_card_no\")\n",
    "                    .withColumnRenamed(\"loyalty_account_id\", \"account_no\")\n",
    "                    .withColumnRenamed(\"loyalty_account_acrm_id\", \"account_rk\")\n",
    "                    .select('account_no', 'loyalty_card_no')\n",
    "                )\n",
    "loyalty_cardholders = (spark\n",
    "                        .table(LOYALTY_CARDHOLDERS)\n",
    "                        .withColumnRenamed(\"loyalty_cardholder_acrm_id\", \"customer_rk\")\n",
    "                        .withColumnRenamed(\"loyalty_account_id\", \"account_no\")\n",
    "                        .select('account_no', 'customer_rk')\n",
    "                      )\n",
    "clients_info = loyalty_cards.join(loyalty_cardholders, on='account_no', how='inner')\n",
    "clients_info = clients_info.join(only_target, on='customer_rk', how='inner')"
   ]
  },
  {
   "cell_type": "code",
   "execution_count": 22,
   "id": "f8be125c",
   "metadata": {},
   "outputs": [],
   "source": [
    "checks_headers_tc5 = checks_headers.join(clients_info, on='loyalty_card_no') #оставили чеки только нужных гостей"
   ]
  },
  {
   "cell_type": "code",
   "execution_count": 23,
   "id": "55f96486",
   "metadata": {},
   "outputs": [
    {
     "name": "stderr",
     "output_type": "stream",
     "text": [
      "                                                                                \r"
     ]
    }
   ],
   "source": [
    "stores = checks_headers_tc5.select('store_id').distinct().toPandas()['store_id'].to_list()"
   ]
  },
  {
   "cell_type": "markdown",
   "id": "46798188",
   "metadata": {},
   "source": [
    "#### Подсчет"
   ]
  },
  {
   "cell_type": "code",
   "execution_count": 24,
   "id": "712127a2",
   "metadata": {},
   "outputs": [],
   "source": [
    "checks_headers = (spark.table(CHECKS_HEADERS)\n",
    "                      .filter(F.col('rtl_txn_dt').between(start_date1, end_date1))\n",
    "                      .filter((F.col('loyalty_card_no') != '') & (F.col('loyalty_card_no').isNotNull()))\n",
    "                      .filter(F.col('financial_unit_format_dk') == 'D')\n",
    "                      .filter(F.col('rtl_txn_cancel_flg') == 0)\n",
    "                      .select('rtl_txn_id', 'loyalty_card_no', 'rtl_txn_dt', 'store_id')\n",
    "                     )\n"
   ]
  },
  {
   "cell_type": "code",
   "execution_count": 25,
   "id": "15aa235e",
   "metadata": {},
   "outputs": [],
   "source": [
    "checks_headers_tc5 = checks_headers.filter(F.col('store_id').isin(stores))"
   ]
  },
  {
   "cell_type": "code",
   "execution_count": 26,
   "id": "8496e569",
   "metadata": {},
   "outputs": [],
   "source": [
    "loyalty_cards = (spark\n",
    "                    .table(LOYALTY_CARDS)\n",
    "                    .withColumnRenamed(\"loyalty_card_id\", \"loyalty_card_no\")\n",
    "                    .withColumnRenamed(\"loyalty_account_id\", \"account_no\")\n",
    "                    .withColumnRenamed(\"loyalty_account_acrm_id\", \"account_rk\")\n",
    "                    .select('account_no', 'loyalty_card_no')\n",
    "                )\n",
    "loyalty_cardholders = (spark\n",
    "                        .table(LOYALTY_CARDHOLDERS)\n",
    "                        .withColumnRenamed(\"loyalty_cardholder_acrm_id\", \"customer_rk\")\n",
    "                        .withColumnRenamed(\"loyalty_account_id\", \"account_no\")\n",
    "                        .select('account_no', 'customer_rk')\n",
    "                      )\n",
    "clients_info = loyalty_cards.join(loyalty_cardholders, on='account_no', how='inner')"
   ]
  },
  {
   "cell_type": "code",
   "execution_count": 27,
   "id": "5c131ce8",
   "metadata": {},
   "outputs": [],
   "source": [
    "checks_headers_tc5 = checks_headers_tc5.join(clients_info, on='loyalty_card_no') #оставили чеки только нужных гостей"
   ]
  },
  {
   "cell_type": "code",
   "execution_count": 28,
   "id": "911e0dd6",
   "metadata": {},
   "outputs": [],
   "source": [
    "checks_items = (spark.table(CHECKS_ITEMS) \n",
    "                    .withColumnRenamed('plu_id', 'plu_code')\n",
    "                    .withColumnRenamed('turnover_no_vat_amt', 'zsalnovat')\n",
    "                    .withColumnRenamed('turnover_vat_rub_amt', 'zsale_vat')\n",
    "                    .withColumnRenamed('prime_cost_no_vat_amt', 'zcst_n')\n",
    "                    .withColumnRenamed('turnover_base_uom_amt', 'base_qty')\n",
    "                    .withColumnRenamed('discount_amt', 'zdiscount')\n",
    "                    .withColumnRenamed('fact_regular_promo_flg', 'zpromofl')\n",
    "                    .filter(F.col('rtl_txn_dt').between(start_date1, end_date1))\n",
    "                    .filter((F.col('zsalnovat') >= 0) & (F.col('base_qty') >= 0) & (F.col('zcst_n') > 0)) #keep only correct data\n",
    "                        .select('plu_code' #items id\n",
    "                                , 'rtl_txn_id' #cheques id\n",
    "                                , 'zsalnovat'\n",
    "                               )\n",
    "                   )\n"
   ]
  },
  {
   "cell_type": "code",
   "execution_count": 37,
   "id": "a617cce1",
   "metadata": {},
   "outputs": [],
   "source": [
    "# plu_hierarchy_lvl_4_dk = ['FR0604001', 'FR0608005', 'FR0604002', 'FR0608001'] #сметана, молоко, кефир\n",
    "syntethic_category_id = [103]\n",
    "# plu_brand_code = ['2452']\n",
    "# plu_vendor_nm = ['Данон']\n",
    "# plu_not_in = [4138521]"
   ]
  },
  {
   "cell_type": "code",
   "execution_count": 38,
   "id": "bb9ff8ee",
   "metadata": {},
   "outputs": [
    {
     "name": "stderr",
     "output_type": "stream",
     "text": [
      "                                                                                \r"
     ]
    }
   ],
   "source": [
    "plu_codes_cat = (spark\n",
    "                 .table(PRODUCTS)\n",
    "#                  .filter(F.col('plu_hierarchy_lvl_4_dk').isin(plu_hierarchy_lvl_4_dk))\n",
    "#                  .filter(F.col('plu_vendor_nm').isin(plu_vendor_nm))\n",
    "                 .filter(F.col('syntethic_category_id').isin(syntethic_category_id))\n",
    "#                  .filter(F.col('plu_brand_code').isin(plu_brand_code))\n",
    "#                  .filter(~F.col('plu_id').isin(plu_not_in))\n",
    "                 .select('plu_id')\n",
    "                 .distinct()\n",
    "                 .toPandas()['plu_id']\n",
    "                 .tolist()\n",
    "                )"
   ]
  },
  {
   "cell_type": "code",
   "execution_count": 29,
   "id": "4e20ca8b",
   "metadata": {},
   "outputs": [],
   "source": [
    "plu_codes_cat = [3367104,3388814,3672506,3919797,3926055,4046891,4046892,4046893,4118966,4137277]"
   ]
  },
  {
   "cell_type": "code",
   "execution_count": 30,
   "id": "ae47d3b7",
   "metadata": {},
   "outputs": [],
   "source": [
    "checks_items = checks_items.filter(F.col('plu_code').isin(plu_codes_cat)) # только чеки с нужными plu"
   ]
  },
  {
   "cell_type": "code",
   "execution_count": 31,
   "id": "0f220e05",
   "metadata": {},
   "outputs": [],
   "source": [
    "checks_tc5 = checks_items.join(checks_headers_tc5, 'rtl_txn_id', how='inner')"
   ]
  },
  {
   "cell_type": "code",
   "execution_count": 32,
   "id": "651af97d",
   "metadata": {},
   "outputs": [],
   "source": [
    "week1_start = datetime.date(2021, 12, 2)\n",
    "week1_end = datetime.date(2021, 12, 8)\n",
    "week2_start = datetime.date(2021, 12, 9)\n",
    "week2_end = datetime.date(2021, 12, 15)\n",
    "week3_start = datetime.date(2021, 12, 16)\n",
    "week3_end = datetime.date(2021, 12, 22)\n",
    "week4_start = datetime.date(2021, 12, 23)\n",
    "week4_end = datetime.date(2021, 12, 29)"
   ]
  },
  {
   "cell_type": "code",
   "execution_count": 33,
   "id": "8240ac13",
   "metadata": {},
   "outputs": [],
   "source": [
    "checks_tc5 = (checks_tc5.withColumn('week', F.when(F.col('rtl_txn_dt').between(week1_start, week1_end), \"week1\")\n",
    "                                             .when(F.col('rtl_txn_dt').between(week2_start, week2_end), \"week2\")\n",
    "                                             .when(F.col('rtl_txn_dt').between(week3_start, week3_end), \"week3\")\n",
    "                                             .when(F.col('rtl_txn_dt').between(week4_start, week4_end), \"week4\")\n",
    "                                   ))"
   ]
  },
  {
   "cell_type": "code",
   "execution_count": 34,
   "id": "01572812",
   "metadata": {},
   "outputs": [],
   "source": [
    "in_sum = (checks_tc5.groupby('week').agg(F.sum('zsalnovat').alias('sum_in_target_plu')))"
   ]
  },
  {
   "cell_type": "code",
   "execution_count": 35,
   "id": "c839c6b5",
   "metadata": {},
   "outputs": [
    {
     "name": "stderr",
     "output_type": "stream",
     "text": [
      "                                                                                ]\r"
     ]
    }
   ],
   "source": [
    "in_sum_pd_target_plu = in_sum.toPandas()"
   ]
  },
  {
   "cell_type": "code",
   "execution_count": 36,
   "id": "0b35911a",
   "metadata": {},
   "outputs": [
    {
     "name": "stderr",
     "output_type": "stream",
     "text": [
      "22/02/19 03:38:13 ERROR cluster.YarnClientSchedulerBackend: YARN application has exited unexpectedly with state FAILED! Check the YARN application logs for more details.\n",
      "22/02/19 03:38:13 ERROR cluster.YarnClientSchedulerBackend: Diagnostics message: Attempt recovered after RM restartDue to executor failures all available nodes are blacklisted\n",
      "22/02/19 03:38:13 ERROR client.TransportClient: Failed to send RPC RPC 7444852934509808288 to /192.168.234.58:45590: java.nio.channels.ClosedChannelException\n",
      "java.nio.channels.ClosedChannelException\n",
      "\tat io.netty.channel.AbstractChannel$AbstractUnsafe.write(...)(Unknown Source)\n",
      "22/02/19 03:38:13 ERROR cluster.YarnSchedulerBackend$YarnSchedulerEndpoint: Sending RequestExecutors(0,0,Map(),Set()) to AM was unsuccessful\n",
      "java.io.IOException: Failed to send RPC RPC 7444852934509808288 to /192.168.234.58:45590: java.nio.channels.ClosedChannelException\n",
      "\tat org.apache.spark.network.client.TransportClient$RpcChannelListener.handleFailure(TransportClient.java:362)\n",
      "\tat org.apache.spark.network.client.TransportClient$StdChannelListener.operationComplete(TransportClient.java:339)\n",
      "\tat io.netty.util.concurrent.DefaultPromise.notifyListener0(DefaultPromise.java:507)\n",
      "\tat io.netty.util.concurrent.DefaultPromise.notifyListenersNow(DefaultPromise.java:481)\n",
      "\tat io.netty.util.concurrent.DefaultPromise.notifyListeners(DefaultPromise.java:420)\n",
      "\tat io.netty.util.concurrent.DefaultPromise.tryFailure(DefaultPromise.java:122)\n",
      "\tat io.netty.channel.AbstractChannel$AbstractUnsafe.safeSetFailure(AbstractChannel.java:987)\n",
      "\tat io.netty.channel.AbstractChannel$AbstractUnsafe.write(AbstractChannel.java:869)\n",
      "\tat io.netty.channel.DefaultChannelPipeline$HeadContext.write(DefaultChannelPipeline.java:1316)\n",
      "\tat io.netty.channel.AbstractChannelHandlerContext.invokeWrite0(AbstractChannelHandlerContext.java:738)\n",
      "\tat io.netty.channel.AbstractChannelHandlerContext.invokeWrite(AbstractChannelHandlerContext.java:730)\n",
      "\tat io.netty.channel.AbstractChannelHandlerContext.access$1900(AbstractChannelHandlerContext.java:38)\n",
      "\tat io.netty.channel.AbstractChannelHandlerContext$AbstractWriteTask.write(AbstractChannelHandlerContext.java:1081)\n",
      "\tat io.netty.channel.AbstractChannelHandlerContext$WriteAndFlushTask.write(AbstractChannelHandlerContext.java:1128)\n",
      "\tat io.netty.channel.AbstractChannelHandlerContext$AbstractWriteTask.run(AbstractChannelHandlerContext.java:1070)\n",
      "\tat io.netty.util.concurrent.AbstractEventExecutor.safeExecute(AbstractEventExecutor.java:163)\n",
      "\tat io.netty.util.concurrent.SingleThreadEventExecutor.runAllTasks(SingleThreadEventExecutor.java:403)\n",
      "\tat io.netty.channel.nio.NioEventLoop.run(NioEventLoop.java:463)\n",
      "\tat io.netty.util.concurrent.SingleThreadEventExecutor$5.run(SingleThreadEventExecutor.java:858)\n",
      "\tat io.netty.util.concurrent.DefaultThreadFactory$DefaultRunnableDecorator.run(DefaultThreadFactory.java:138)\n",
      "\tat java.lang.Thread.run(Thread.java:748)\n",
      "Caused by: java.nio.channels.ClosedChannelException\n",
      "\tat io.netty.channel.AbstractChannel$AbstractUnsafe.write(...)(Unknown Source)\n",
      "22/02/19 03:38:13 ERROR util.Utils: Uncaught exception in thread YARN application state monitor\n",
      "org.apache.spark.SparkException: Exception thrown in awaitResult: \n",
      "\tat org.apache.spark.util.ThreadUtils$.awaitResult(ThreadUtils.scala:226)\n",
      "\tat org.apache.spark.rpc.RpcTimeout.awaitResult(RpcTimeout.scala:75)\n",
      "\tat org.apache.spark.scheduler.cluster.CoarseGrainedSchedulerBackend.requestTotalExecutors(CoarseGrainedSchedulerBackend.scala:574)\n",
      "\tat org.apache.spark.scheduler.cluster.YarnSchedulerBackend.stop(YarnSchedulerBackend.scala:98)\n",
      "\tat org.apache.spark.scheduler.cluster.YarnClientSchedulerBackend.stop(YarnClientSchedulerBackend.scala:164)\n",
      "\tat org.apache.spark.scheduler.TaskSchedulerImpl.stop(TaskSchedulerImpl.scala:653)\n",
      "\tat org.apache.spark.scheduler.DAGScheduler.stop(DAGScheduler.scala:2042)\n",
      "\tat org.apache.spark.SparkContext$$anonfun$stop$6.apply$mcV$sp(SparkContext.scala:1949)\n",
      "\tat org.apache.spark.util.Utils$.tryLogNonFatalError(Utils.scala:1340)\n",
      "\tat org.apache.spark.SparkContext.stop(SparkContext.scala:1948)\n",
      "\tat org.apache.spark.scheduler.cluster.YarnClientSchedulerBackend$MonitorThread.run(YarnClientSchedulerBackend.scala:121)\n",
      "Caused by: java.io.IOException: Failed to send RPC RPC 7444852934509808288 to /192.168.234.58:45590: java.nio.channels.ClosedChannelException\n",
      "\tat org.apache.spark.network.client.TransportClient$RpcChannelListener.handleFailure(TransportClient.java:362)\n",
      "\tat org.apache.spark.network.client.TransportClient$StdChannelListener.operationComplete(TransportClient.java:339)\n",
      "\tat io.netty.util.concurrent.DefaultPromise.notifyListener0(DefaultPromise.java:507)\n",
      "\tat io.netty.util.concurrent.DefaultPromise.notifyListenersNow(DefaultPromise.java:481)\n",
      "\tat io.netty.util.concurrent.DefaultPromise.notifyListeners(DefaultPromise.java:420)\n",
      "\tat io.netty.util.concurrent.DefaultPromise.tryFailure(DefaultPromise.java:122)\n",
      "\tat io.netty.channel.AbstractChannel$AbstractUnsafe.safeSetFailure(AbstractChannel.java:987)\n",
      "\tat io.netty.channel.AbstractChannel$AbstractUnsafe.write(AbstractChannel.java:869)\n",
      "\tat io.netty.channel.DefaultChannelPipeline$HeadContext.write(DefaultChannelPipeline.java:1316)\n",
      "\tat io.netty.channel.AbstractChannelHandlerContext.invokeWrite0(AbstractChannelHandlerContext.java:738)\n",
      "\tat io.netty.channel.AbstractChannelHandlerContext.invokeWrite(AbstractChannelHandlerContext.java:730)\n",
      "\tat io.netty.channel.AbstractChannelHandlerContext.access$1900(AbstractChannelHandlerContext.java:38)\n",
      "\tat io.netty.channel.AbstractChannelHandlerContext$AbstractWriteTask.write(AbstractChannelHandlerContext.java:1081)\n",
      "\tat io.netty.channel.AbstractChannelHandlerContext$WriteAndFlushTask.write(AbstractChannelHandlerContext.java:1128)\n",
      "\tat io.netty.channel.AbstractChannelHandlerContext$AbstractWriteTask.run(AbstractChannelHandlerContext.java:1070)\n",
      "\tat io.netty.util.concurrent.AbstractEventExecutor.safeExecute(AbstractEventExecutor.java:163)\n",
      "\tat io.netty.util.concurrent.SingleThreadEventExecutor.runAllTasks(SingleThreadEventExecutor.java:403)\n",
      "\tat io.netty.channel.nio.NioEventLoop.run(NioEventLoop.java:463)\n",
      "\tat io.netty.util.concurrent.SingleThreadEventExecutor$5.run(SingleThreadEventExecutor.java:858)\n",
      "\tat io.netty.util.concurrent.DefaultThreadFactory$DefaultRunnableDecorator.run(DefaultThreadFactory.java:138)\n",
      "\tat java.lang.Thread.run(Thread.java:748)\n",
      "Caused by: java.nio.channels.ClosedChannelException\n",
      "\tat io.netty.channel.AbstractChannel$AbstractUnsafe.write(...)(Unknown Source)\n"
     ]
    }
   ],
   "source": [
    "in_sum_pd_target_plu.loc[0, 'start_dt'] = '02-12-2021'\n",
    "in_sum_pd_target_plu.loc[0, 'end_dt'] = '08-12-2021'\n",
    "in_sum_pd_target_plu.loc[1, 'start_dt'] = '09-12-2021'\n",
    "in_sum_pd_target_plu.loc[1, 'end_dt'] = '15-12-2021'\n",
    "in_sum_pd_target_plu.loc[2, 'start_dt'] = '16-12-2021'\n",
    "in_sum_pd_target_plu.loc[2, 'end_dt'] = '22-12-2021'\n",
    "in_sum_pd_target_plu.loc[3, 'start_dt'] = '23-12-2021'\n",
    "in_sum_pd_target_plu.loc[3, 'end_dt'] = '29-12-2021'"
   ]
  },
  {
   "cell_type": "code",
   "execution_count": 51,
   "id": "2fef22aa",
   "metadata": {},
   "outputs": [],
   "source": [
    "in_sum_pd['prev'] = 0"
   ]
  },
  {
   "cell_type": "code",
   "execution_count": 84,
   "id": "e3b9c5ee",
   "metadata": {},
   "outputs": [],
   "source": [
    "for i in range(1, len(in_sum_pd)):\n",
    "    in_sum_pd.loc[i, 'prev'] = in_sum_pd.loc[i-1, 'sum_in']"
   ]
  },
  {
   "cell_type": "code",
   "execution_count": 56,
   "id": "9f3fe352",
   "metadata": {},
   "outputs": [],
   "source": [
    "in_sum_pd.loc[0, 'prev'] = in_sum_pd.loc[0, 'sum_in']"
   ]
  },
  {
   "cell_type": "code",
   "execution_count": 57,
   "id": "dcbdd228",
   "metadata": {},
   "outputs": [
    {
     "data": {
      "text/html": [
       "<div>\n",
       "<style scoped>\n",
       "    .dataframe tbody tr th:only-of-type {\n",
       "        vertical-align: middle;\n",
       "    }\n",
       "\n",
       "    .dataframe tbody tr th {\n",
       "        vertical-align: top;\n",
       "    }\n",
       "\n",
       "    .dataframe thead th {\n",
       "        text-align: right;\n",
       "    }\n",
       "</style>\n",
       "<table border=\"1\" class=\"dataframe\">\n",
       "  <thead>\n",
       "    <tr style=\"text-align: right;\">\n",
       "      <th></th>\n",
       "      <th>week</th>\n",
       "      <th>sum_in</th>\n",
       "      <th>start_dt</th>\n",
       "      <th>end_dt</th>\n",
       "      <th>prev</th>\n",
       "    </tr>\n",
       "  </thead>\n",
       "  <tbody>\n",
       "    <tr>\n",
       "      <th>0</th>\n",
       "      <td>week1</td>\n",
       "      <td>585873299.58</td>\n",
       "      <td>02-12-2021</td>\n",
       "      <td>08-12-2021</td>\n",
       "      <td>585873299.58</td>\n",
       "    </tr>\n",
       "    <tr>\n",
       "      <th>1</th>\n",
       "      <td>week2</td>\n",
       "      <td>615642748.44</td>\n",
       "      <td>09-12-2021</td>\n",
       "      <td>15-12-2021</td>\n",
       "      <td>585873299.58</td>\n",
       "    </tr>\n",
       "    <tr>\n",
       "      <th>2</th>\n",
       "      <td>week3</td>\n",
       "      <td>606345691.39</td>\n",
       "      <td>16-12-2021</td>\n",
       "      <td>22-12-2021</td>\n",
       "      <td>615642748.44</td>\n",
       "    </tr>\n",
       "    <tr>\n",
       "      <th>3</th>\n",
       "      <td>week4</td>\n",
       "      <td>770352075.36</td>\n",
       "      <td>23-12-2021</td>\n",
       "      <td>29-12-2021</td>\n",
       "      <td>606345691.39</td>\n",
       "    </tr>\n",
       "  </tbody>\n",
       "</table>\n",
       "</div>"
      ],
      "text/plain": [
       "    week        sum_in    start_dt      end_dt          prev\n",
       "0  week1  585873299.58  02-12-2021  08-12-2021  585873299.58\n",
       "1  week2  615642748.44  09-12-2021  15-12-2021  585873299.58\n",
       "2  week3  606345691.39  16-12-2021  22-12-2021  615642748.44\n",
       "3  week4  770352075.36  23-12-2021  29-12-2021  606345691.39"
      ]
     },
     "execution_count": 57,
     "metadata": {},
     "output_type": "execute_result"
    }
   ],
   "source": [
    "in_sum_pd"
   ]
  },
  {
   "cell_type": "code",
   "execution_count": 63,
   "id": "5f9e837c",
   "metadata": {},
   "outputs": [],
   "source": [
    "in_sum_pd.loc[:, ['prev', 'sum_in']] = in_sum_pd[['prev', 'sum_in']].astype('float')"
   ]
  },
  {
   "cell_type": "code",
   "execution_count": 80,
   "id": "7b85944c",
   "metadata": {},
   "outputs": [],
   "source": [
    "in_sum_pd['%_prev'] = ((in_sum_pd['sum_in'] - in_sum_pd['prev']) * 100 / in_sum_pd['prev'])"
   ]
  },
  {
   "cell_type": "code",
   "execution_count": 82,
   "id": "5f674865",
   "metadata": {},
   "outputs": [],
   "source": [
    "in_sum_pd = in_sum_pd.drop('prev', axis=1)"
   ]
  },
  {
   "cell_type": "code",
   "execution_count": 86,
   "id": "c7421f8a",
   "metadata": {},
   "outputs": [],
   "source": [
    "in_sum_pd['prev'] = in_sum_pd.sum_in - in_sum_pd.prev"
   ]
  },
  {
   "cell_type": "code",
   "execution_count": 87,
   "id": "22ea04aa",
   "metadata": {},
   "outputs": [
    {
     "data": {
      "text/html": [
       "<div>\n",
       "<style scoped>\n",
       "    .dataframe tbody tr th:only-of-type {\n",
       "        vertical-align: middle;\n",
       "    }\n",
       "\n",
       "    .dataframe tbody tr th {\n",
       "        vertical-align: top;\n",
       "    }\n",
       "\n",
       "    .dataframe thead th {\n",
       "        text-align: right;\n",
       "    }\n",
       "</style>\n",
       "<table border=\"1\" class=\"dataframe\">\n",
       "  <thead>\n",
       "    <tr style=\"text-align: right;\">\n",
       "      <th></th>\n",
       "      <th>week</th>\n",
       "      <th>sum_in</th>\n",
       "      <th>start_dt</th>\n",
       "      <th>end_dt</th>\n",
       "      <th>%_prev</th>\n",
       "      <th>prev</th>\n",
       "    </tr>\n",
       "  </thead>\n",
       "  <tbody>\n",
       "    <tr>\n",
       "      <th>0</th>\n",
       "      <td>week1</td>\n",
       "      <td>585,873,299.58</td>\n",
       "      <td>02-12-2021</td>\n",
       "      <td>08-12-2021</td>\n",
       "      <td>0.00</td>\n",
       "      <td>NaN</td>\n",
       "    </tr>\n",
       "    <tr>\n",
       "      <th>1</th>\n",
       "      <td>week2</td>\n",
       "      <td>615,642,748.44</td>\n",
       "      <td>09-12-2021</td>\n",
       "      <td>15-12-2021</td>\n",
       "      <td>5.08</td>\n",
       "      <td>29,769,448.86</td>\n",
       "    </tr>\n",
       "    <tr>\n",
       "      <th>2</th>\n",
       "      <td>week3</td>\n",
       "      <td>606,345,691.39</td>\n",
       "      <td>16-12-2021</td>\n",
       "      <td>22-12-2021</td>\n",
       "      <td>-1.51</td>\n",
       "      <td>-9,297,057.05</td>\n",
       "    </tr>\n",
       "    <tr>\n",
       "      <th>3</th>\n",
       "      <td>week4</td>\n",
       "      <td>770,352,075.36</td>\n",
       "      <td>23-12-2021</td>\n",
       "      <td>29-12-2021</td>\n",
       "      <td>27.05</td>\n",
       "      <td>164,006,383.97</td>\n",
       "    </tr>\n",
       "  </tbody>\n",
       "</table>\n",
       "</div>"
      ],
      "text/plain": [
       "    week         sum_in    start_dt      end_dt %_prev           prev\n",
       "0  week1 585,873,299.58  02-12-2021  08-12-2021   0.00            NaN\n",
       "1  week2 615,642,748.44  09-12-2021  15-12-2021   5.08  29,769,448.86\n",
       "2  week3 606,345,691.39  16-12-2021  22-12-2021  -1.51  -9,297,057.05\n",
       "3  week4 770,352,075.36  23-12-2021  29-12-2021  27.05 164,006,383.97"
      ]
     },
     "execution_count": 87,
     "metadata": {},
     "output_type": "execute_result"
    }
   ],
   "source": [
    "in_sum_pd"
   ]
  },
  {
   "cell_type": "code",
   "execution_count": 88,
   "id": "4963ce10",
   "metadata": {},
   "outputs": [],
   "source": [
    "in_sum_pd.to_excel('in_sum_stores.xlsx', index=False)"
   ]
  },
  {
   "cell_type": "markdown",
   "id": "7c8862a0",
   "metadata": {},
   "source": [
    "### Средние чеки КГ и ЦГ в период до кампании и во время кампании"
   ]
  },
  {
   "cell_type": "code",
   "execution_count": 91,
   "id": "ddf55487",
   "metadata": {},
   "outputs": [],
   "source": [
    "only_control = guests_all.filter(F.col('group').isin(['cg1', 'cg2']))"
   ]
  },
  {
   "cell_type": "code",
   "execution_count": 92,
   "id": "a7f44c2e",
   "metadata": {},
   "outputs": [],
   "source": [
    "start_date1 = datetime.date(2021, 12, 16)\n",
    "end_date1 = datetime.date(2021, 12, 22)\n",
    "start_date2 = datetime.date(2021, 12, 23)\n",
    "end_date2 = datetime.date(2021, 12, 29)"
   ]
  },
  {
   "cell_type": "code",
   "execution_count": 93,
   "id": "abbd6376",
   "metadata": {},
   "outputs": [],
   "source": [
    "checks_headers = (spark.table(CHECKS_HEADERS)\n",
    "                      .filter(F.col('rtl_txn_dt').between(start_date1, end_date1))\n",
    "                      .filter((F.col('loyalty_card_no') != '') & (F.col('loyalty_card_no').isNotNull()))\n",
    "                      .filter(F.col('financial_unit_format_dk') == 'D')\n",
    "                      .filter(F.col('rtl_txn_cancel_flg') == 0)\n",
    "                      .select('rtl_txn_id', 'loyalty_card_no', 'store_id')\n",
    "                     )\n"
   ]
  },
  {
   "cell_type": "code",
   "execution_count": 94,
   "id": "2d2580d0",
   "metadata": {},
   "outputs": [],
   "source": [
    "loyalty_cards = (spark\n",
    "                    .table(LOYALTY_CARDS)\n",
    "                    .withColumnRenamed(\"loyalty_card_id\", \"loyalty_card_no\")\n",
    "                    .withColumnRenamed(\"loyalty_account_id\", \"account_no\")\n",
    "                    .withColumnRenamed(\"loyalty_account_acrm_id\", \"account_rk\")\n",
    "                    .select('account_no', 'loyalty_card_no')\n",
    "                )\n",
    "loyalty_cardholders = (spark\n",
    "                        .table(LOYALTY_CARDHOLDERS)\n",
    "                        .withColumnRenamed(\"loyalty_cardholder_acrm_id\", \"customer_rk\")\n",
    "                        .withColumnRenamed(\"loyalty_account_id\", \"account_no\")\n",
    "                        .select('account_no', 'customer_rk')\n",
    "                      )\n",
    "clients_info = loyalty_cards.join(loyalty_cardholders, on='account_no', how='inner')\n",
    "clients_info = clients_info.join(only_target, on='customer_rk', how='inner')\n",
    "clients_info2 = loyalty_cards.join(loyalty_cardholders, on='account_no', how='inner')\n",
    "clients_info2 = clients_info2.join(only_control, on='customer_rk', how='inner')"
   ]
  },
  {
   "cell_type": "code",
   "execution_count": 95,
   "id": "0dcb80b7",
   "metadata": {},
   "outputs": [],
   "source": [
    "checks_headers_tc5 = checks_headers.join(clients_info, on='loyalty_card_no') #оставили чеки только нужных гостей"
   ]
  },
  {
   "cell_type": "code",
   "execution_count": 96,
   "id": "45c4aedd",
   "metadata": {},
   "outputs": [],
   "source": [
    "checks_headers_tc52 = checks_headers.join(clients_info2, on='loyalty_card_no') #оставили чеки только нужных гостей"
   ]
  },
  {
   "cell_type": "code",
   "execution_count": 97,
   "id": "659217e8",
   "metadata": {},
   "outputs": [],
   "source": [
    "checks_items = (spark.table(CHECKS_ITEMS) \n",
    "                    .withColumnRenamed('plu_id', 'plu_code')\n",
    "                    .withColumnRenamed('turnover_no_vat_amt', 'zsalnovat')\n",
    "                    .withColumnRenamed('turnover_vat_rub_amt', 'zsale_vat')\n",
    "                    .withColumnRenamed('prime_cost_no_vat_amt', 'zcst_n')\n",
    "                    .withColumnRenamed('turnover_base_uom_amt', 'base_qty')\n",
    "                    .withColumnRenamed('discount_amt', 'zdiscount')\n",
    "                    .withColumnRenamed('fact_regular_promo_flg', 'zpromofl')\n",
    "                    .filter(F.col('rtl_txn_dt').between(start_date1, end_date1))\n",
    "                    .filter((F.col('zsalnovat') >= 0) & (F.col('base_qty') >= 0) & (F.col('zcst_n') > 0)) #keep only correct data\n",
    "                        .select('plu_code' #items id\n",
    "                                , 'rtl_txn_id' #cheques id\n",
    "                               , 'base_qty'\n",
    "                                , 'zsale_vat'\n",
    "                               )\n",
    "                   )\n"
   ]
  },
  {
   "cell_type": "code",
   "execution_count": 98,
   "id": "c21118be",
   "metadata": {},
   "outputs": [],
   "source": [
    "checks_tc5 = checks_items.join(checks_headers_tc5, 'rtl_txn_id', how='inner')"
   ]
  },
  {
   "cell_type": "code",
   "execution_count": 108,
   "id": "ab7f35fb",
   "metadata": {},
   "outputs": [],
   "source": [
    "checks_tc52 = checks_items.join(checks_headers_tc52, 'rtl_txn_id', how='inner')"
   ]
  },
  {
   "cell_type": "code",
   "execution_count": 104,
   "id": "82e58ecd",
   "metadata": {},
   "outputs": [],
   "source": [
    "avg_checks_until_camp = (checks_tc5.groupby('account_no')\n",
    "                         .agg((F.sum('zsale_vat') / F.countDistinct('rtl_txn_id')).alias('avg_checks'))\n",
    "                         ).agg((F.sum('avg_checks') / F.countDistinct('account_no')).alias('avg_check'))"
   ]
  },
  {
   "cell_type": "code",
   "execution_count": 109,
   "id": "d1439c4f",
   "metadata": {},
   "outputs": [],
   "source": [
    "avg_checks_until_camp2 = (checks_tc52.groupby('account_no')\n",
    "                         .agg((F.sum('zsale_vat') / F.countDistinct('rtl_txn_id')).alias('avg_checks'))\n",
    "                         ).agg((F.sum('avg_checks') / F.countDistinct('account_no')).alias('avg_check'))"
   ]
  },
  {
   "cell_type": "code",
   "execution_count": 106,
   "id": "8e1b630a",
   "metadata": {},
   "outputs": [
    {
     "name": "stderr",
     "output_type": "stream",
     "text": [
      "                                                                                \r"
     ]
    }
   ],
   "source": [
    "avg_checks_until_camp_pd = avg_checks_until_camp.toPandas()"
   ]
  },
  {
   "cell_type": "code",
   "execution_count": 110,
   "id": "1e293d5c",
   "metadata": {},
   "outputs": [
    {
     "name": "stderr",
     "output_type": "stream",
     "text": [
      "                                                                                \r"
     ]
    }
   ],
   "source": [
    "avg_checks_until_camp_pd2 = avg_checks_until_camp2.toPandas()"
   ]
  },
  {
   "cell_type": "code",
   "execution_count": 111,
   "id": "965f50f8",
   "metadata": {},
   "outputs": [
    {
     "data": {
      "text/html": [
       "<div>\n",
       "<style scoped>\n",
       "    .dataframe tbody tr th:only-of-type {\n",
       "        vertical-align: middle;\n",
       "    }\n",
       "\n",
       "    .dataframe tbody tr th {\n",
       "        vertical-align: top;\n",
       "    }\n",
       "\n",
       "    .dataframe thead th {\n",
       "        text-align: right;\n",
       "    }\n",
       "</style>\n",
       "<table border=\"1\" class=\"dataframe\">\n",
       "  <thead>\n",
       "    <tr style=\"text-align: right;\">\n",
       "      <th></th>\n",
       "      <th>avg_check</th>\n",
       "    </tr>\n",
       "  </thead>\n",
       "  <tbody>\n",
       "    <tr>\n",
       "      <th>0</th>\n",
       "      <td>657.53798804323</td>\n",
       "    </tr>\n",
       "  </tbody>\n",
       "</table>\n",
       "</div>"
      ],
      "text/plain": [
       "         avg_check\n",
       "0  657.53798804323"
      ]
     },
     "execution_count": 111,
     "metadata": {},
     "output_type": "execute_result"
    }
   ],
   "source": [
    "avg_checks_until_camp_pd"
   ]
  },
  {
   "cell_type": "code",
   "execution_count": 112,
   "id": "6c445659",
   "metadata": {},
   "outputs": [
    {
     "data": {
      "text/html": [
       "<div>\n",
       "<style scoped>\n",
       "    .dataframe tbody tr th:only-of-type {\n",
       "        vertical-align: middle;\n",
       "    }\n",
       "\n",
       "    .dataframe tbody tr th {\n",
       "        vertical-align: top;\n",
       "    }\n",
       "\n",
       "    .dataframe thead th {\n",
       "        text-align: right;\n",
       "    }\n",
       "</style>\n",
       "<table border=\"1\" class=\"dataframe\">\n",
       "  <thead>\n",
       "    <tr style=\"text-align: right;\">\n",
       "      <th></th>\n",
       "      <th>avg_check</th>\n",
       "    </tr>\n",
       "  </thead>\n",
       "  <tbody>\n",
       "    <tr>\n",
       "      <th>0</th>\n",
       "      <td>652.50187005801</td>\n",
       "    </tr>\n",
       "  </tbody>\n",
       "</table>\n",
       "</div>"
      ],
      "text/plain": [
       "         avg_check\n",
       "0  652.50187005801"
      ]
     },
     "execution_count": 112,
     "metadata": {},
     "output_type": "execute_result"
    }
   ],
   "source": [
    "avg_checks_until_camp_pd2"
   ]
  },
  {
   "cell_type": "code",
   "execution_count": 113,
   "id": "0967a728",
   "metadata": {},
   "outputs": [],
   "source": [
    "checks_headers = (spark.table(CHECKS_HEADERS)\n",
    "                      .filter(F.col('rtl_txn_dt').between(start_date2, end_date2))\n",
    "                      .filter((F.col('loyalty_card_no') != '') & (F.col('loyalty_card_no').isNotNull()))\n",
    "                      .filter(F.col('financial_unit_format_dk') == 'D')\n",
    "                      .filter(F.col('rtl_txn_cancel_flg') == 0)\n",
    "                      .select('rtl_txn_id', 'loyalty_card_no', 'store_id')\n",
    "                     )\n"
   ]
  },
  {
   "cell_type": "code",
   "execution_count": 114,
   "id": "383ecb61",
   "metadata": {},
   "outputs": [],
   "source": [
    "loyalty_cards = (spark\n",
    "                    .table(LOYALTY_CARDS)\n",
    "                    .withColumnRenamed(\"loyalty_card_id\", \"loyalty_card_no\")\n",
    "                    .withColumnRenamed(\"loyalty_account_id\", \"account_no\")\n",
    "                    .withColumnRenamed(\"loyalty_account_acrm_id\", \"account_rk\")\n",
    "                    .select('account_no', 'loyalty_card_no')\n",
    "                )\n",
    "loyalty_cardholders = (spark\n",
    "                        .table(LOYALTY_CARDHOLDERS)\n",
    "                        .withColumnRenamed(\"loyalty_cardholder_acrm_id\", \"customer_rk\")\n",
    "                        .withColumnRenamed(\"loyalty_account_id\", \"account_no\")\n",
    "                        .select('account_no', 'customer_rk')\n",
    "                      )\n",
    "clients_info = loyalty_cards.join(loyalty_cardholders, on='account_no', how='inner')\n",
    "clients_info = clients_info.join(only_target, on='customer_rk', how='inner')\n",
    "clients_info2 = loyalty_cards.join(loyalty_cardholders, on='account_no', how='inner')\n",
    "clients_info2 = clients_info2.join(only_control, on='customer_rk', how='inner')"
   ]
  },
  {
   "cell_type": "code",
   "execution_count": 115,
   "id": "5e06bd0f",
   "metadata": {},
   "outputs": [],
   "source": [
    "checks_headers_tc5 = checks_headers.join(clients_info, on='loyalty_card_no') #оставили чеки только нужных гостей"
   ]
  },
  {
   "cell_type": "code",
   "execution_count": 116,
   "id": "61f2b8bc",
   "metadata": {},
   "outputs": [],
   "source": [
    "checks_headers_tc52 = checks_headers.join(clients_info2, on='loyalty_card_no') #оставили чеки только нужных гостей"
   ]
  },
  {
   "cell_type": "code",
   "execution_count": 117,
   "id": "23ae33dc",
   "metadata": {},
   "outputs": [],
   "source": [
    "checks_items = (spark.table(CHECKS_ITEMS) \n",
    "                    .withColumnRenamed('plu_id', 'plu_code')\n",
    "                    .withColumnRenamed('turnover_no_vat_amt', 'zsalnovat')\n",
    "                    .withColumnRenamed('turnover_vat_rub_amt', 'zsale_vat')\n",
    "                    .withColumnRenamed('prime_cost_no_vat_amt', 'zcst_n')\n",
    "                    .withColumnRenamed('turnover_base_uom_amt', 'base_qty')\n",
    "                    .withColumnRenamed('discount_amt', 'zdiscount')\n",
    "                    .withColumnRenamed('fact_regular_promo_flg', 'zpromofl')\n",
    "                    .filter(F.col('rtl_txn_dt').between(start_date2, end_date2))\n",
    "                    .filter((F.col('zsalnovat') >= 0) & (F.col('base_qty') >= 0) & (F.col('zcst_n') > 0)) #keep only correct data\n",
    "                        .select('plu_code' #items id\n",
    "                                , 'rtl_txn_id' #cheques id\n",
    "                               , 'base_qty'\n",
    "                                , 'zsale_vat'\n",
    "                               )\n",
    "                   )\n"
   ]
  },
  {
   "cell_type": "code",
   "execution_count": 118,
   "id": "2458446b",
   "metadata": {},
   "outputs": [],
   "source": [
    "checks_tc5 = checks_items.join(checks_headers_tc5, 'rtl_txn_id', how='inner')"
   ]
  },
  {
   "cell_type": "code",
   "execution_count": 119,
   "id": "6f1a9658",
   "metadata": {},
   "outputs": [],
   "source": [
    "checks_tc52 = checks_items.join(checks_headers_tc52, 'rtl_txn_id', how='inner')"
   ]
  },
  {
   "cell_type": "code",
   "execution_count": 120,
   "id": "688b1dfc",
   "metadata": {},
   "outputs": [],
   "source": [
    "avg_checks_in_camp = (checks_tc5.groupby('account_no')\n",
    "                         .agg((F.sum('zsale_vat') / F.countDistinct('rtl_txn_id')).alias('avg_checks'))\n",
    "                         ).agg((F.sum('avg_checks') / F.countDistinct('account_no')).alias('avg_check'))"
   ]
  },
  {
   "cell_type": "code",
   "execution_count": 121,
   "id": "071f9fe4",
   "metadata": {},
   "outputs": [],
   "source": [
    "avg_checks_in_camp2 = (checks_tc52.groupby('account_no')\n",
    "                         .agg((F.sum('zsale_vat') / F.countDistinct('rtl_txn_id')).alias('avg_checks'))\n",
    "                         ).agg((F.sum('avg_checks') / F.countDistinct('account_no')).alias('avg_check'))"
   ]
  },
  {
   "cell_type": "code",
   "execution_count": 122,
   "id": "004b70da",
   "metadata": {},
   "outputs": [
    {
     "name": "stderr",
     "output_type": "stream",
     "text": [
      "                                                                                ]\r"
     ]
    }
   ],
   "source": [
    "avg_checks_in_camp_pd = avg_checks_in_camp.toPandas()"
   ]
  },
  {
   "cell_type": "code",
   "execution_count": 126,
   "id": "df022475",
   "metadata": {
    "scrolled": true
   },
   "outputs": [
    {
     "name": "stderr",
     "output_type": "stream",
     "text": [
      "                                                                                \r"
     ]
    }
   ],
   "source": [
    "avg_checks_in_camp_pd2 = avg_checks_in_camp2.toPandas()"
   ]
  },
  {
   "cell_type": "code",
   "execution_count": 124,
   "id": "28e9c5ef",
   "metadata": {},
   "outputs": [
    {
     "data": {
      "text/html": [
       "<div>\n",
       "<style scoped>\n",
       "    .dataframe tbody tr th:only-of-type {\n",
       "        vertical-align: middle;\n",
       "    }\n",
       "\n",
       "    .dataframe tbody tr th {\n",
       "        vertical-align: top;\n",
       "    }\n",
       "\n",
       "    .dataframe thead th {\n",
       "        text-align: right;\n",
       "    }\n",
       "</style>\n",
       "<table border=\"1\" class=\"dataframe\">\n",
       "  <thead>\n",
       "    <tr style=\"text-align: right;\">\n",
       "      <th></th>\n",
       "      <th>avg_check</th>\n",
       "    </tr>\n",
       "  </thead>\n",
       "  <tbody>\n",
       "    <tr>\n",
       "      <th>0</th>\n",
       "      <td>735.18779490930</td>\n",
       "    </tr>\n",
       "  </tbody>\n",
       "</table>\n",
       "</div>"
      ],
      "text/plain": [
       "         avg_check\n",
       "0  735.18779490930"
      ]
     },
     "execution_count": 124,
     "metadata": {},
     "output_type": "execute_result"
    }
   ],
   "source": [
    "avg_checks_in_camp_pd"
   ]
  },
  {
   "cell_type": "code",
   "execution_count": 127,
   "id": "9a58a548",
   "metadata": {},
   "outputs": [
    {
     "data": {
      "text/html": [
       "<div>\n",
       "<style scoped>\n",
       "    .dataframe tbody tr th:only-of-type {\n",
       "        vertical-align: middle;\n",
       "    }\n",
       "\n",
       "    .dataframe tbody tr th {\n",
       "        vertical-align: top;\n",
       "    }\n",
       "\n",
       "    .dataframe thead th {\n",
       "        text-align: right;\n",
       "    }\n",
       "</style>\n",
       "<table border=\"1\" class=\"dataframe\">\n",
       "  <thead>\n",
       "    <tr style=\"text-align: right;\">\n",
       "      <th></th>\n",
       "      <th>avg_check</th>\n",
       "    </tr>\n",
       "  </thead>\n",
       "  <tbody>\n",
       "    <tr>\n",
       "      <th>0</th>\n",
       "      <td>723.03533688746</td>\n",
       "    </tr>\n",
       "  </tbody>\n",
       "</table>\n",
       "</div>"
      ],
      "text/plain": [
       "         avg_check\n",
       "0  723.03533688746"
      ]
     },
     "execution_count": 127,
     "metadata": {},
     "output_type": "execute_result"
    }
   ],
   "source": [
    "avg_checks_in_camp_pd2"
   ]
  },
  {
   "cell_type": "code",
   "execution_count": 144,
   "id": "b52ec41c",
   "metadata": {},
   "outputs": [],
   "source": [
    "avg_checks = avg_checks_until_camp_pd.append(avg_checks_until_camp_pd2).append(avg_checks_in_camp_pd).append(avg_checks_in_camp_pd2).reset_index(drop=True)"
   ]
  },
  {
   "cell_type": "code",
   "execution_count": 145,
   "id": "adbe1900",
   "metadata": {},
   "outputs": [],
   "source": [
    "avg_checks = avg_checks.astype('float')"
   ]
  },
  {
   "cell_type": "code",
   "execution_count": 146,
   "id": "6ac6fba4",
   "metadata": {},
   "outputs": [],
   "source": [
    "avg_checks = round(avg_checks, 2)"
   ]
  },
  {
   "cell_type": "code",
   "execution_count": 148,
   "id": "df633052",
   "metadata": {},
   "outputs": [],
   "source": [
    "avg_checks.loc[0, 'label'] = 'until_target'\n",
    "avg_checks.loc[1, 'label'] = 'until_control'\n",
    "avg_checks.loc[2, 'label'] = 'in_target'\n",
    "avg_checks.loc[3, 'label'] = 'in_control'"
   ]
  },
  {
   "cell_type": "code",
   "execution_count": 150,
   "id": "1b075c9a",
   "metadata": {},
   "outputs": [],
   "source": [
    "avg_checks.loc[2, '+%'] = (avg_checks.iloc[2, 0] - avg_checks.iloc[0, 0]) * 100 / avg_checks.iloc[0, 0]\n",
    "avg_checks.loc[3, '+%'] = (avg_checks.iloc[3, 0] - avg_checks.iloc[1, 0]) * 100 / avg_checks.iloc[1, 0]"
   ]
  },
  {
   "cell_type": "code",
   "execution_count": 151,
   "id": "08ddfc01",
   "metadata": {},
   "outputs": [
    {
     "data": {
      "text/html": [
       "<div>\n",
       "<style scoped>\n",
       "    .dataframe tbody tr th:only-of-type {\n",
       "        vertical-align: middle;\n",
       "    }\n",
       "\n",
       "    .dataframe tbody tr th {\n",
       "        vertical-align: top;\n",
       "    }\n",
       "\n",
       "    .dataframe thead th {\n",
       "        text-align: right;\n",
       "    }\n",
       "</style>\n",
       "<table border=\"1\" class=\"dataframe\">\n",
       "  <thead>\n",
       "    <tr style=\"text-align: right;\">\n",
       "      <th></th>\n",
       "      <th>avg_check</th>\n",
       "      <th>label</th>\n",
       "      <th>+%</th>\n",
       "    </tr>\n",
       "  </thead>\n",
       "  <tbody>\n",
       "    <tr>\n",
       "      <th>0</th>\n",
       "      <td>657.54</td>\n",
       "      <td>until_target</td>\n",
       "      <td>NaN</td>\n",
       "    </tr>\n",
       "    <tr>\n",
       "      <th>1</th>\n",
       "      <td>652.50</td>\n",
       "      <td>until_control</td>\n",
       "      <td>NaN</td>\n",
       "    </tr>\n",
       "    <tr>\n",
       "      <th>2</th>\n",
       "      <td>735.19</td>\n",
       "      <td>in_target</td>\n",
       "      <td>11.81</td>\n",
       "    </tr>\n",
       "    <tr>\n",
       "      <th>3</th>\n",
       "      <td>723.04</td>\n",
       "      <td>in_control</td>\n",
       "      <td>10.81</td>\n",
       "    </tr>\n",
       "  </tbody>\n",
       "</table>\n",
       "</div>"
      ],
      "text/plain": [
       "   avg_check          label    +%\n",
       "0     657.54   until_target   NaN\n",
       "1     652.50  until_control   NaN\n",
       "2     735.19      in_target 11.81\n",
       "3     723.04     in_control 10.81"
      ]
     },
     "execution_count": 151,
     "metadata": {},
     "output_type": "execute_result"
    }
   ],
   "source": [
    "avg_checks"
   ]
  },
  {
   "cell_type": "code",
   "execution_count": 152,
   "id": "317b90c3",
   "metadata": {},
   "outputs": [],
   "source": [
    "avg_checks.to_excel('avg_checks.xlsx', index=False)"
   ]
  },
  {
   "cell_type": "markdown",
   "id": "adadebd0",
   "metadata": {},
   "source": [
    "### 5. Разложить по персонам тех, кому была коммуникация."
   ]
  },
  {
   "cell_type": "code",
   "execution_count": 43,
   "id": "c29545fd",
   "metadata": {},
   "outputs": [],
   "source": [
    "commun_second_camp = experiment_guests_communications.filter(F.col('is_communicated') == 1).select('customer_rk')"
   ]
  },
  {
   "cell_type": "code",
   "execution_count": 48,
   "id": "4a54d012",
   "metadata": {},
   "outputs": [],
   "source": [
    "seg_segmentation_2_camp = commun_second_camp.join(client_segmentation, 'customer_rk', 'inner')"
   ]
  },
  {
   "cell_type": "code",
   "execution_count": 49,
   "id": "6d4afb1b",
   "metadata": {},
   "outputs": [
    {
     "name": "stderr",
     "output_type": "stream",
     "text": [
      "                                                                                0]]]]\r"
     ]
    }
   ],
   "source": [
    "seg_segmentation_2_camp_pd = seg_segmentation_2_camp.toPandas()"
   ]
  },
  {
   "cell_type": "code",
   "execution_count": 56,
   "id": "0365ba8e",
   "metadata": {},
   "outputs": [],
   "source": [
    "seg_segmentation_1_camp = guests_tg1.join(client_segmentation, 'customer_rk', 'inner')"
   ]
  },
  {
   "cell_type": "code",
   "execution_count": null,
   "id": "aec4b209",
   "metadata": {},
   "outputs": [],
   "source": [
    "seg_segmentation_1_camp_pd = seg_segmentation_1_camp.toPandas()"
   ]
  },
  {
   "cell_type": "code",
   "execution_count": 63,
   "id": "ba195b66",
   "metadata": {},
   "outputs": [],
   "source": [
    "grouped_1 = seg_segmentation_1_camp_pd.groupby('segment_person')['customer_rk'].count().reset_index()\n",
    "grouped_2 = seg_segmentation_2_camp_pd.groupby('segment_person')['customer_rk'].count().reset_index()"
   ]
  },
  {
   "cell_type": "code",
   "execution_count": 69,
   "id": "b51c04b1",
   "metadata": {},
   "outputs": [],
   "source": [
    "grouped_1.to_excel('grouped_camp1.xlsx', index=False)\n",
    "grouped_2.to_excel('grouped_camp2.xlsx', index=False)"
   ]
  },
  {
   "cell_type": "markdown",
   "id": "320fec1e",
   "metadata": {},
   "source": [
    "### 6. Еще раз отобрать гостей в категории сыров"
   ]
  },
  {
   "cell_type": "markdown",
   "id": "44f06249",
   "metadata": {},
   "source": [
    "##### Выбираем гостей нужного юзкейса"
   ]
  },
  {
   "cell_type": "code",
   "execution_count": 7,
   "id": "e19c7ed7",
   "metadata": {},
   "outputs": [],
   "source": [
    "usecase = ['churn', 'frequency', 'upgrade', 'cross', 'ump']\n",
    "dt = datetime.date.today()"
   ]
  },
  {
   "cell_type": "code",
   "execution_count": 8,
   "id": "7e9df8e9",
   "metadata": {},
   "outputs": [],
   "source": [
    "customers_usecase = (spark\n",
    "                     .table(CVM5_GUESTS)\n",
    "                     .filter(F.to_date('calculation_dt') == dt)\n",
    "                     .filter(F.col('usecase').isin(usecase))\n",
    "                     .select('account_no', 'customer_rk')\n",
    "                            )\n"
   ]
  },
  {
   "cell_type": "code",
   "execution_count": 9,
   "id": "8d3b348a",
   "metadata": {},
   "outputs": [
    {
     "name": "stderr",
     "output_type": "stream",
     "text": [
      "[Stage 0:=============================>                            (5 + 5) / 10]22/02/21 14:43:31 ERROR cluster.YarnScheduler: Lost executor 2 on mn-hd0149.x5.ru: Container container_e1331_1645433512905_3051_01_000004 on host: mn-hd0149.x5.ru was preempted.\n",
      "[Stage 0:====================================================>     (9 + 1) / 10]"
     ]
    },
    {
     "name": "stdout",
     "output_type": "stream",
     "text": [
      "49592598\n"
     ]
    },
    {
     "name": "stderr",
     "output_type": "stream",
     "text": [
      "                                                                                \r"
     ]
    }
   ],
   "source": [
    "print(customers_usecase.count()) #"
   ]
  },
  {
   "cell_type": "markdown",
   "id": "b38f821a",
   "metadata": {},
   "source": [
    "### 1 проверяем на доступность отобранных гостей в определенную дату"
   ]
  },
  {
   "cell_type": "code",
   "execution_count": 74,
   "id": "0bfec26b",
   "metadata": {},
   "outputs": [],
   "source": [
    "check_date = '2022-04-01'"
   ]
  },
  {
   "cell_type": "code",
   "execution_count": 75,
   "id": "e1658405",
   "metadata": {},
   "outputs": [
    {
     "name": "stdout",
     "output_type": "stream",
     "text": [
      "\u001b[93m Время выполнения: 0:00:04\n"
     ]
    }
   ],
   "source": [
    "seg_sms1 = (sms_channel_filters_glowbyte(spark=spark,\n",
    "                                         guests=customers_usecase, \n",
    "                                         usecase_name=usecase[0], \n",
    "                                         check_date=check_date, \n",
    "                                         debug_mode=False\n",
    "                                        )\n",
    "                                    .select('customer_rk')\n",
    "                                    .distinct()\n",
    "           )"
   ]
  },
  {
   "cell_type": "code",
   "execution_count": 76,
   "id": "6002e041",
   "metadata": {},
   "outputs": [
    {
     "name": "stdout",
     "output_type": "stream",
     "text": [
      "\u001b[93m Время выполнения: 0:00:05\n"
     ]
    }
   ],
   "source": [
    "seg_sms2 = (sms_channel_filters_glowbyte(spark=spark,\n",
    "                                         guests=customers_usecase, \n",
    "                                         usecase_name=usecase[1], \n",
    "                                         check_date=check_date, \n",
    "                                         debug_mode=False)\n",
    "                                    .select('customer_rk')\n",
    "                                    .distinct()\n",
    "           )"
   ]
  },
  {
   "cell_type": "code",
   "execution_count": 77,
   "id": "aa686669",
   "metadata": {},
   "outputs": [
    {
     "name": "stdout",
     "output_type": "stream",
     "text": [
      "\u001b[93m Время выполнения: 0:00:05\n"
     ]
    }
   ],
   "source": [
    "seg_sms3 = (sms_channel_filters_glowbyte(spark=spark,\n",
    "                                         guests=customers_usecase, \n",
    "                                         usecase_name=usecase[2], \n",
    "                                         check_date=check_date, \n",
    "                                         debug_mode=False)\n",
    "                                    .select('customer_rk')\n",
    "                                    .distinct()\n",
    "           )"
   ]
  },
  {
   "cell_type": "code",
   "execution_count": 78,
   "id": "291c803a",
   "metadata": {},
   "outputs": [
    {
     "name": "stdout",
     "output_type": "stream",
     "text": [
      "\u001b[93m Время выполнения: 0:00:03\n"
     ]
    }
   ],
   "source": [
    "seg_sms4 = (sms_channel_filters_glowbyte(spark=spark,\n",
    "                                         guests=customers_usecase, \n",
    "                                         usecase_name=usecase[3], \n",
    "                                         check_date=check_date, \n",
    "                                         debug_mode=False)\n",
    "                                    .select('customer_rk')\n",
    "                                    .distinct()\n",
    "           )"
   ]
  },
  {
   "cell_type": "code",
   "execution_count": 79,
   "id": "b244bc74",
   "metadata": {},
   "outputs": [
    {
     "name": "stdout",
     "output_type": "stream",
     "text": [
      "\u001b[93m Время выполнения: 0:00:04\n"
     ]
    }
   ],
   "source": [
    "seg_sms5 = (sms_channel_filters_glowbyte(spark=spark,\n",
    "                                         guests=customers_usecase, \n",
    "                                         usecase_name=usecase[4], \n",
    "                                         check_date=check_date, \n",
    "                                         debug_mode=False)\n",
    "                                    .select('customer_rk')\n",
    "                                    .distinct()\n",
    "           )"
   ]
  },
  {
   "cell_type": "code",
   "execution_count": 80,
   "id": "34406d0f",
   "metadata": {},
   "outputs": [],
   "source": [
    "seg_sms = seg_sms1.union(seg_sms2).union(seg_sms3).union(seg_sms4).union(seg_sms5).distinct()"
   ]
  },
  {
   "cell_type": "code",
   "execution_count": 10,
   "id": "c4fc645c",
   "metadata": {},
   "outputs": [
    {
     "name": "stderr",
     "output_type": "stream",
     "text": [
      "                                                                                \r"
     ]
    }
   ],
   "source": [
    "# seg_sms.write.parquet('temp1066_seg_sms', mode='overwrite')\n",
    "seg_sms = spark.read.parquet('temp1066_seg_sms')"
   ]
  },
  {
   "cell_type": "code",
   "execution_count": 83,
   "id": "6faa27af",
   "metadata": {},
   "outputs": [
    {
     "name": "stderr",
     "output_type": "stream",
     "text": [
      "                                                                                \r"
     ]
    },
    {
     "data": {
      "text/plain": [
       "25431517"
      ]
     },
     "execution_count": 83,
     "metadata": {},
     "output_type": "execute_result"
    }
   ],
   "source": [
    "seg_sms.count() #"
   ]
  },
  {
   "cell_type": "code",
   "execution_count": 84,
   "id": "104225e1",
   "metadata": {},
   "outputs": [
    {
     "name": "stdout",
     "output_type": "stream",
     "text": [
      "\u001b[93m Время выполнения: 0:00:03\n"
     ]
    }
   ],
   "source": [
    "slip1 = (slip_check_channel_filters_glowbyte(spark=spark,\n",
    "                                         guests=customers_usecase, \n",
    "                                         usecase_name=usecase[0], \n",
    "                                         check_date=check_date, \n",
    "                                         debug_mode=False\n",
    "                                        )\n",
    "                                    .select('customer_rk')\n",
    "                                    .distinct()\n",
    "           )"
   ]
  },
  {
   "cell_type": "code",
   "execution_count": 85,
   "id": "8fd3715d",
   "metadata": {},
   "outputs": [
    {
     "name": "stderr",
     "output_type": "stream",
     "text": [
      "22/02/17 15:22:41 ERROR client.TransportResponseHandler: Still have 1 requests outstanding when connection from /192.168.234.58:42370 is closed\n"
     ]
    },
    {
     "name": "stdout",
     "output_type": "stream",
     "text": [
      "\u001b[93m Время выполнения: 0:00:02\n"
     ]
    }
   ],
   "source": [
    "slip2 = (slip_check_channel_filters_glowbyte(spark=spark,\n",
    "                                         guests=customers_usecase, \n",
    "                                         usecase_name=usecase[1], \n",
    "                                         check_date=check_date, \n",
    "                                         debug_mode=False)\n",
    "                                    .select('customer_rk')\n",
    "                                    .distinct()\n",
    "           )"
   ]
  },
  {
   "cell_type": "code",
   "execution_count": 86,
   "id": "b6fa6e0e",
   "metadata": {},
   "outputs": [
    {
     "name": "stdout",
     "output_type": "stream",
     "text": [
      "\u001b[93m Время выполнения: 0:00:02\n"
     ]
    }
   ],
   "source": [
    "slip3 = (slip_check_channel_filters_glowbyte(spark=spark,\n",
    "                                         guests=customers_usecase, \n",
    "                                         usecase_name=usecase[2], \n",
    "                                         check_date=check_date, \n",
    "                                         debug_mode=False)\n",
    "                                    .select('customer_rk')\n",
    "                                    .distinct()\n",
    "           )"
   ]
  },
  {
   "cell_type": "code",
   "execution_count": 87,
   "id": "cba9fe07",
   "metadata": {},
   "outputs": [
    {
     "name": "stdout",
     "output_type": "stream",
     "text": [
      "\u001b[93m Время выполнения: 0:00:05\n"
     ]
    }
   ],
   "source": [
    "slip4 = (slip_check_channel_filters_glowbyte(spark=spark,\n",
    "                                         guests=customers_usecase, \n",
    "                                         usecase_name=usecase[3], \n",
    "                                         check_date=check_date, \n",
    "                                         debug_mode=False)\n",
    "                                    .select('customer_rk')\n",
    "                                    .distinct()\n",
    "           )"
   ]
  },
  {
   "cell_type": "code",
   "execution_count": 88,
   "id": "bb4da006",
   "metadata": {},
   "outputs": [
    {
     "name": "stdout",
     "output_type": "stream",
     "text": [
      "\u001b[93m Время выполнения: 0:00:04\n"
     ]
    }
   ],
   "source": [
    "slip5 = (slip_check_channel_filters_glowbyte(spark=spark,\n",
    "                                         guests=customers_usecase, \n",
    "                                         usecase_name=usecase[4], \n",
    "                                         check_date=check_date, \n",
    "                                         debug_mode=False)\n",
    "                                    .select('customer_rk')\n",
    "                                    .distinct()\n",
    "           )"
   ]
  },
  {
   "cell_type": "code",
   "execution_count": 89,
   "id": "3f6c3ef9",
   "metadata": {},
   "outputs": [],
   "source": [
    "slip = slip1.union(slip2).union(slip3).union(slip4).union(slip5).distinct()"
   ]
  },
  {
   "cell_type": "code",
   "execution_count": 11,
   "id": "ff9e73cc",
   "metadata": {},
   "outputs": [],
   "source": [
    "# slip.write.parquet('temp1066_slip', mode='overwrite')\n",
    "slip = spark.read.parquet('temp1066_slip')"
   ]
  },
  {
   "cell_type": "code",
   "execution_count": 91,
   "id": "468f4ce9",
   "metadata": {},
   "outputs": [
    {
     "name": "stderr",
     "output_type": "stream",
     "text": [
      "                                                                                \r"
     ]
    },
    {
     "data": {
      "text/plain": [
       "44036344"
      ]
     },
     "execution_count": 91,
     "metadata": {},
     "output_type": "execute_result"
    }
   ],
   "source": [
    "slip.count() #"
   ]
  },
  {
   "cell_type": "markdown",
   "id": "d4e99325",
   "metadata": {},
   "source": [
    "## Отбор магазинов из таблицы Excel"
   ]
  },
  {
   "cell_type": "code",
   "execution_count": 12,
   "id": "8a54c746",
   "metadata": {},
   "outputs": [],
   "source": [
    "stores = pd.read_excel('need_info_stores.xlsx')"
   ]
  },
  {
   "cell_type": "code",
   "execution_count": 13,
   "id": "9b4c3df3",
   "metadata": {},
   "outputs": [],
   "source": [
    "stores = stores['financial_unit_id'].tolist()"
   ]
  },
  {
   "cell_type": "code",
   "execution_count": 14,
   "id": "448a1211",
   "metadata": {},
   "outputs": [
    {
     "data": {
      "text/plain": [
       "2583"
      ]
     },
     "execution_count": 14,
     "metadata": {},
     "output_type": "execute_result"
    }
   ],
   "source": [
    "len(stores)"
   ]
  },
  {
   "cell_type": "code",
   "execution_count": 15,
   "id": "211eff10",
   "metadata": {},
   "outputs": [
    {
     "name": "stderr",
     "output_type": "stream",
     "text": [
      "                                                                                \r"
     ]
    },
    {
     "data": {
      "text/plain": [
       "3010"
      ]
     },
     "execution_count": 15,
     "metadata": {},
     "output_type": "execute_result"
    }
   ],
   "source": [
    "plants = (spark.table(DIM_STORE)\n",
    "            .filter(F.col('valid_to_dttm')== datetime.datetime(5999, 1, 1, 0, 0))\n",
    "            .filter(F.col('financial_unit_id').isin(stores))\n",
    "            .selectExpr('store_id as plant')\n",
    "            .distinct()\n",
    "            .toPandas()['plant']\n",
    "            .tolist()\n",
    "            )\n",
    "\n",
    "len(plants)"
   ]
  },
  {
   "cell_type": "markdown",
   "id": "a334c58a",
   "metadata": {},
   "source": [
    "### Собираем чеки этих гостей и оставляем тех, кто покупал продукты с synthetic_catalog_id"
   ]
  },
  {
   "cell_type": "code",
   "execution_count": 16,
   "id": "8a47192f",
   "metadata": {},
   "outputs": [],
   "source": [
    "start_date = datetime.date(2021, 11, 16)\n",
    "end_date = datetime.date(2022, 2, 15)"
   ]
  },
  {
   "cell_type": "code",
   "execution_count": 17,
   "id": "7e1cf983",
   "metadata": {},
   "outputs": [],
   "source": [
    "checks_headers = (spark.table(CHECKS_HEADERS)\n",
    "                      .filter(F.col('rtl_txn_dt').between(start_date, end_date))\n",
    "                      .filter((F.col('loyalty_card_no') != '') & (F.col('loyalty_card_no').isNotNull()))\n",
    "                      .filter(F.col('financial_unit_format_dk') == 'D')\n",
    "                      .filter(F.col('rtl_txn_cancel_flg') == 0)\n",
    "                      .select('rtl_txn_id', 'loyalty_card_no', 'store_id')\n",
    "                     )\n"
   ]
  },
  {
   "cell_type": "code",
   "execution_count": 18,
   "id": "f5feb3b2",
   "metadata": {},
   "outputs": [],
   "source": [
    "checks_headers_tc5 = checks_headers.filter(F.col('store_id').isin(plants)) #оставили чеки только с нужными магазинами"
   ]
  },
  {
   "cell_type": "code",
   "execution_count": 19,
   "id": "989ad7ac",
   "metadata": {},
   "outputs": [],
   "source": [
    "checks_headers_tc52 = checks_headers.filter(F.col('store_id').isin(plants)) #оставили чеки только с нужными магазинами"
   ]
  },
  {
   "cell_type": "code",
   "execution_count": 20,
   "id": "7f036975",
   "metadata": {},
   "outputs": [],
   "source": [
    "loyalty_cards = (spark\n",
    "                    .table(LOYALTY_CARDS)\n",
    "                    .withColumnRenamed(\"loyalty_card_id\", \"loyalty_card_no\")\n",
    "                    .withColumnRenamed(\"loyalty_account_id\", \"account_no\")\n",
    "                    .withColumnRenamed(\"loyalty_account_acrm_id\", \"account_rk\")\n",
    "                    .select('account_no', 'loyalty_card_no')\n",
    "                )\n",
    "loyalty_cardholders = (spark\n",
    "                        .table(LOYALTY_CARDHOLDERS)\n",
    "                        .withColumnRenamed(\"loyalty_cardholder_acrm_id\", \"customer_rk\")\n",
    "                        .withColumnRenamed(\"loyalty_account_id\", \"account_no\")\n",
    "                        .select('account_no', 'customer_rk')\n",
    "                      )\n",
    "clients_info = loyalty_cards.join(loyalty_cardholders, on='account_no', how='inner')\n",
    "clients_info = clients_info.join(seg_sms, on='customer_rk', how='inner')\n",
    "clients_info2 = loyalty_cards.join(loyalty_cardholders, on='account_no', how='inner')\n",
    "clients_info2 = clients_info2.join(slip, on='customer_rk', how='inner')"
   ]
  },
  {
   "cell_type": "code",
   "execution_count": 21,
   "id": "4b28bd36",
   "metadata": {},
   "outputs": [],
   "source": [
    "checks_headers_tc5 = checks_headers_tc5.join(clients_info, on='loyalty_card_no') #оставили чеки только нужных гостей"
   ]
  },
  {
   "cell_type": "code",
   "execution_count": 22,
   "id": "8c9d26e1",
   "metadata": {},
   "outputs": [],
   "source": [
    "checks_headers_tc52 = checks_headers_tc52.join(clients_info2, on='loyalty_card_no') #оставили чеки только нужных гостей"
   ]
  },
  {
   "cell_type": "code",
   "execution_count": 23,
   "id": "5c064c94",
   "metadata": {},
   "outputs": [],
   "source": [
    "checks_items = (spark.table(CHECKS_ITEMS) \n",
    "                    .withColumnRenamed('plu_id', 'plu_code')\n",
    "                    .withColumnRenamed('turnover_no_vat_amt', 'zsalnovat')\n",
    "                    .withColumnRenamed('turnover_vat_rub_amt', 'zsale_vat')\n",
    "                    .withColumnRenamed('prime_cost_no_vat_amt', 'zcst_n')\n",
    "                    .withColumnRenamed('turnover_base_uom_amt', 'base_qty')\n",
    "                    .withColumnRenamed('discount_amt', 'zdiscount')\n",
    "                    .withColumnRenamed('fact_regular_promo_flg', 'zpromofl')\n",
    "                    .filter(F.col('rtl_txn_dt').between(start_date, end_date))\n",
    "                    .filter((F.col('zsalnovat') >= 0) & (F.col('base_qty') >= 0) & (F.col('zcst_n') > 0)) #keep only correct data\n",
    "                        .select('plu_code' #items id\n",
    "                                , 'rtl_txn_id' #cheques id\n",
    "                               , 'base_qty'\n",
    "                               )\n",
    "                   )\n"
   ]
  },
  {
   "cell_type": "code",
   "execution_count": 24,
   "id": "e0568d33",
   "metadata": {},
   "outputs": [],
   "source": [
    "# plu_hierarchy_lvl_4_dk = ['FR0604001', 'FR0608005', 'FR0604002', 'FR0608001'] #сметана, молоко, кефир\n",
    "syntethic_category_id = [103]\n",
    "# plu_brand_code = ['2452']\n",
    "# plu_vendor_nm = ['Данон']\n",
    "# plu_not_in = [4138521]"
   ]
  },
  {
   "cell_type": "code",
   "execution_count": 25,
   "id": "5793bcea",
   "metadata": {},
   "outputs": [
    {
     "name": "stderr",
     "output_type": "stream",
     "text": [
      "                                                                                \r"
     ]
    }
   ],
   "source": [
    "plu_codes_cat = (spark\n",
    "                 .table(PRODUCTS)\n",
    "#                  .filter(F.col('plu_hierarchy_lvl_4_dk').isin(plu_hierarchy_lvl_4_dk))\n",
    "#                  .filter(F.col('plu_vendor_nm').isin(plu_vendor_nm))\n",
    "                 .filter(F.col('syntethic_category_id').isin(syntethic_category_id))\n",
    "#                  .filter(F.col('plu_brand_code').isin(plu_brand_code))\n",
    "#                  .filter(~F.col('plu_id').isin(plu_not_in))\n",
    "                 .select('plu_id')\n",
    "                 .distinct()\n",
    "                 .toPandas()['plu_id']\n",
    "                 .tolist()\n",
    "                )"
   ]
  },
  {
   "cell_type": "code",
   "execution_count": 26,
   "id": "1a1d303f",
   "metadata": {},
   "outputs": [],
   "source": [
    "checks_items = checks_items.filter(F.col('plu_code').isin(plu_codes_cat)) # только чеки с нужными plu"
   ]
  },
  {
   "cell_type": "code",
   "execution_count": 27,
   "id": "c98071ff",
   "metadata": {},
   "outputs": [],
   "source": [
    "checks_tc5 = checks_items.join(checks_headers_tc5, 'rtl_txn_id', how='inner')"
   ]
  },
  {
   "cell_type": "code",
   "execution_count": 28,
   "id": "575e4d67",
   "metadata": {},
   "outputs": [],
   "source": [
    "checks_tc52 = checks_items.join(checks_headers_tc52, 'rtl_txn_id', how='inner')"
   ]
  },
  {
   "cell_type": "code",
   "execution_count": 29,
   "id": "afb33e82",
   "metadata": {},
   "outputs": [],
   "source": [
    "seg1 = (checks_tc5.withColumn('group', F.lit('sms'))\n",
    "                  .select('customer_rk', 'group')\n",
    "                  .distinct()\n",
    "      )"
   ]
  },
  {
   "cell_type": "code",
   "execution_count": 30,
   "id": "e2c4a451",
   "metadata": {},
   "outputs": [],
   "source": [
    "seg2 = (checks_tc52.withColumn('group', F.lit('slip'))\n",
    "                  .select('customer_rk', 'group')\n",
    "                  .distinct()\n",
    "      )"
   ]
  },
  {
   "cell_type": "code",
   "execution_count": 31,
   "id": "496421dd",
   "metadata": {},
   "outputs": [],
   "source": [
    "seg = seg1.union(seg2).distinct()"
   ]
  },
  {
   "cell_type": "code",
   "execution_count": 95,
   "id": "2e80cdd4",
   "metadata": {},
   "outputs": [
    {
     "name": "stderr",
     "output_type": "stream",
     "text": [
      "                                                                                ]2]\r"
     ]
    }
   ],
   "source": [
    "seg.write.parquet('temp1066_seg_all_cheese', mode='overwrite')\n",
    "seg = spark.read.parquet('temp1066_seg_all_cheese')"
   ]
  },
  {
   "cell_type": "code",
   "execution_count": 96,
   "id": "5e77d1e5",
   "metadata": {
    "scrolled": true
   },
   "outputs": [
    {
     "name": "stderr",
     "output_type": "stream",
     "text": [
      "                                                                                \r"
     ]
    },
    {
     "data": {
      "text/plain": [
       "4152460"
      ]
     },
     "execution_count": 96,
     "metadata": {},
     "output_type": "execute_result"
    }
   ],
   "source": [
    "seg.count()"
   ]
  },
  {
   "cell_type": "code",
   "execution_count": 76,
   "id": "29f62c0c",
   "metadata": {},
   "outputs": [],
   "source": [
    "customers_churn = (spark\n",
    "                     .table(CVM5_GUESTS)\n",
    "                     .filter(F.to_date('calculation_dt') == dt)\n",
    "                     .filter(F.col('usecase').isin([usecase[0]]))\n",
    "                     .select('account_no', 'customer_rk')\n",
    "                            )\n",
    "customers_freq = (spark\n",
    "                     .table(CVM5_GUESTS)\n",
    "                     .filter(F.to_date('calculation_dt') == dt)\n",
    "                     .filter(F.col('usecase').isin([usecase[1]]))\n",
    "                     .select('account_no', 'customer_rk')\n",
    "                            )\n"
   ]
  },
  {
   "cell_type": "code",
   "execution_count": 98,
   "id": "119acf16",
   "metadata": {},
   "outputs": [],
   "source": [
    "seg_churn = seg.join(customers_churn, 'customer_rk', 'inner')\n",
    "seg_freq = seg.join(customers_freq, 'customer_rk', 'inner')\n",
    "seg_others = seg.join(seg_churn, 'customer_rk', 'left_anti').join(seg_freq, 'customer_rk', 'left_anti')"
   ]
  },
  {
   "cell_type": "code",
   "execution_count": 99,
   "id": "462d27e5",
   "metadata": {},
   "outputs": [
    {
     "name": "stderr",
     "output_type": "stream",
     "text": [
      "                                                                                \r"
     ]
    }
   ],
   "source": [
    "seg_churn_pd = seg_churn.toPandas()"
   ]
  },
  {
   "cell_type": "code",
   "execution_count": 100,
   "id": "19708b35",
   "metadata": {},
   "outputs": [
    {
     "name": "stderr",
     "output_type": "stream",
     "text": [
      "                                                                                \r"
     ]
    }
   ],
   "source": [
    "seg_freq_pd = seg_freq.toPandas()"
   ]
  },
  {
   "cell_type": "code",
   "execution_count": 101,
   "id": "aa0811a9",
   "metadata": {},
   "outputs": [
    {
     "name": "stderr",
     "output_type": "stream",
     "text": [
      "                                                                                ]]\r"
     ]
    }
   ],
   "source": [
    "seg_others_pd = seg_others.toPandas()"
   ]
  },
  {
   "cell_type": "code",
   "execution_count": 106,
   "id": "a57993d3",
   "metadata": {},
   "outputs": [],
   "source": [
    "seg_others_pd['customer_rk'] = seg_others_pd['customer_rk'].astype('str')"
   ]
  },
  {
   "cell_type": "code",
   "execution_count": 107,
   "id": "da682fa5",
   "metadata": {},
   "outputs": [],
   "source": [
    "seg_churn_sms = seg_churn_pd[seg_churn_pd.group == 'sms']\n",
    "seg_churn_slip = seg_churn_pd[seg_churn_pd.group == 'slip']\n",
    "seg_freq_sms = seg_freq_pd[seg_freq_pd.group == 'sms']\n",
    "seg_freq_slip = seg_freq_pd[seg_freq_pd.group == 'slip']\n",
    "seg_others_sms = seg_others_pd[seg_others_pd.group == 'sms']\n",
    "seg_others_slip = seg_others_pd[seg_others_pd.group == 'slip']"
   ]
  },
  {
   "cell_type": "code",
   "execution_count": 108,
   "id": "edb2a072",
   "metadata": {},
   "outputs": [],
   "source": [
    "cross, upgrade, ump = get_usecases(seg_others_sms)"
   ]
  },
  {
   "cell_type": "code",
   "execution_count": 109,
   "id": "98902393",
   "metadata": {},
   "outputs": [
    {
     "name": "stdout",
     "output_type": "stream",
     "text": [
      "churn: 110800, frequency: 478115, cross: 332251, upgrade: 399312, ump: 157623 (all: 1478101)\n"
     ]
    }
   ],
   "source": [
    "print('churn: {}, frequency: {}, cross: {}, upgrade: {}, ump: {} (all: {})'.format(len(seg_churn_sms), len(seg_freq_sms), len(cross), len(upgrade), len(ump), len(seg_churn_sms) + len(seg_freq_sms) + len(cross)+len(upgrade)+len(ump)))"
   ]
  },
  {
   "cell_type": "code",
   "execution_count": 110,
   "id": "b8fe76fa",
   "metadata": {},
   "outputs": [],
   "source": [
    "cross, upgrade, ump = get_usecases(seg_others_slip)"
   ]
  },
  {
   "cell_type": "code",
   "execution_count": 111,
   "id": "667d0571",
   "metadata": {},
   "outputs": [
    {
     "name": "stdout",
     "output_type": "stream",
     "text": [
      "churn: 187967, frequency: 758962, cross: 690200, upgrade: 689064, ump: 348166 (all: 2674359)\n"
     ]
    }
   ],
   "source": [
    "print('churn: {}, frequency: {}, cross: {}, upgrade: {}, ump: {} (all: {})'.format(len(seg_churn_slip), len(seg_freq_slip), len(cross), len(upgrade), len(ump), len(seg_churn_slip) + len(seg_freq_slip) + len(cross)+len(upgrade)+len(ump)))"
   ]
  },
  {
   "cell_type": "markdown",
   "id": "a6798083",
   "metadata": {},
   "source": [
    "#### Отбор тех, кто 6 месяцев назад покупал сыр 4 месяца, но 2 месяца уже не покупает"
   ]
  },
  {
   "cell_type": "code",
   "execution_count": 32,
   "id": "922b25cb",
   "metadata": {},
   "outputs": [],
   "source": [
    "start_date1 = datetime.date(2021, 8, 10)\n",
    "end_date1 = datetime.date(2022, 11, 15)\n",
    "start_date2 = datetime.date(2021, 11, 16)\n",
    "end_date2 = datetime.date(2022, 2, 9)"
   ]
  },
  {
   "cell_type": "code",
   "execution_count": 33,
   "id": "16a58285",
   "metadata": {},
   "outputs": [],
   "source": [
    "checks_headers = (spark.table(CHECKS_HEADERS)\n",
    "                      .filter(F.col('rtl_txn_dt').between(start_date1, end_date1))\n",
    "                      .filter((F.col('loyalty_card_no') != '') & (F.col('loyalty_card_no').isNotNull()))\n",
    "                      .filter(F.col('financial_unit_format_dk') == 'D')\n",
    "                      .filter(F.col('rtl_txn_cancel_flg') == 0)\n",
    "                      .select('rtl_txn_id', 'loyalty_card_no', 'store_id')\n",
    "                     )\n"
   ]
  },
  {
   "cell_type": "code",
   "execution_count": 45,
   "id": "a5f68e00",
   "metadata": {},
   "outputs": [],
   "source": [
    "checks_headers = checks_headers.filter(F.col('store_id').isin(plants))"
   ]
  },
  {
   "cell_type": "code",
   "execution_count": 46,
   "id": "1f2dda02",
   "metadata": {},
   "outputs": [],
   "source": [
    "loyalty_cards = (spark\n",
    "                    .table(LOYALTY_CARDS)\n",
    "                    .withColumnRenamed(\"loyalty_card_id\", \"loyalty_card_no\")\n",
    "                    .withColumnRenamed(\"loyalty_account_id\", \"account_no\")\n",
    "                    .withColumnRenamed(\"loyalty_account_acrm_id\", \"account_rk\")\n",
    "                    .select('account_no', 'loyalty_card_no')\n",
    "                )\n",
    "loyalty_cardholders = (spark\n",
    "                        .table(LOYALTY_CARDHOLDERS)\n",
    "                        .withColumnRenamed(\"loyalty_cardholder_acrm_id\", \"customer_rk\")\n",
    "                        .withColumnRenamed(\"loyalty_account_id\", \"account_no\")\n",
    "                        .select('account_no', 'customer_rk')\n",
    "                      )\n",
    "clients_info = loyalty_cards.join(loyalty_cardholders, on='account_no', how='inner')\n",
    "clients_info = clients_info.join(seg_sms, on='customer_rk', how='inner')\n",
    "clients_info2 = loyalty_cards.join(loyalty_cardholders, on='account_no', how='inner')\n",
    "clients_info2 = clients_info2.join(slip, on='customer_rk', how='inner')"
   ]
  },
  {
   "cell_type": "code",
   "execution_count": 47,
   "id": "169f3364",
   "metadata": {},
   "outputs": [],
   "source": [
    "checks_headers_tc5 = checks_headers.join(clients_info, on='loyalty_card_no') #оставили чеки только нужных гостей"
   ]
  },
  {
   "cell_type": "code",
   "execution_count": 48,
   "id": "16bbda10",
   "metadata": {},
   "outputs": [],
   "source": [
    "checks_headers_tc52 = checks_headers.join(clients_info2, on='loyalty_card_no') #оставили чеки только нужных гостей"
   ]
  },
  {
   "cell_type": "code",
   "execution_count": 49,
   "id": "9dbfd108",
   "metadata": {},
   "outputs": [],
   "source": [
    "checks_items = (spark.table(CHECKS_ITEMS) \n",
    "                    .withColumnRenamed('plu_id', 'plu_code')\n",
    "                    .withColumnRenamed('turnover_no_vat_amt', 'zsalnovat')\n",
    "                    .withColumnRenamed('turnover_vat_rub_amt', 'zsale_vat')\n",
    "                    .withColumnRenamed('prime_cost_no_vat_amt', 'zcst_n')\n",
    "                    .withColumnRenamed('turnover_base_uom_amt', 'base_qty')\n",
    "                    .withColumnRenamed('discount_amt', 'zdiscount')\n",
    "                    .withColumnRenamed('fact_regular_promo_flg', 'zpromofl')\n",
    "                    .filter(F.col('rtl_txn_dt').between(start_date1, end_date1))\n",
    "                    .filter((F.col('zsalnovat') >= 0) & (F.col('base_qty') >= 0) & (F.col('zcst_n') > 0)) #keep only correct data\n",
    "                        .select('plu_code' #items id\n",
    "                                , 'rtl_txn_id' #cheques id\n",
    "                               , 'base_qty'\n",
    "                               )\n",
    "                   )\n"
   ]
  },
  {
   "cell_type": "code",
   "execution_count": 50,
   "id": "ff4be9b6",
   "metadata": {},
   "outputs": [],
   "source": [
    "# plu_hierarchy_lvl_4_dk = ['FR0604001', 'FR0608005', 'FR0604002', 'FR0608001'] #сметана, молоко, кефир\n",
    "syntethic_category_id = [103]\n",
    "# plu_brand_code = ['2452']\n",
    "# plu_vendor_nm = ['Данон']\n",
    "# plu_not_in = [4138521]"
   ]
  },
  {
   "cell_type": "code",
   "execution_count": 51,
   "id": "d67f6d79",
   "metadata": {},
   "outputs": [
    {
     "name": "stderr",
     "output_type": "stream",
     "text": [
      "                                                                                \r"
     ]
    }
   ],
   "source": [
    "plu_codes_cat = (spark\n",
    "                 .table(PRODUCTS)\n",
    "#                  .filter(F.col('plu_hierarchy_lvl_4_dk').isin(plu_hierarchy_lvl_4_dk))\n",
    "#                  .filter(F.col('plu_vendor_nm').isin(plu_vendor_nm))\n",
    "                 .filter(F.col('syntethic_category_id').isin(syntethic_category_id))\n",
    "#                  .filter(F.col('plu_brand_code').isin(plu_brand_code))\n",
    "#                  .filter(~F.col('plu_id').isin(plu_not_in))\n",
    "                 .select('plu_id')\n",
    "                 .distinct()\n",
    "                 .toPandas()['plu_id']\n",
    "                 .tolist()\n",
    "                )"
   ]
  },
  {
   "cell_type": "code",
   "execution_count": 52,
   "id": "04a95ed9",
   "metadata": {},
   "outputs": [],
   "source": [
    "checks_items = checks_items.filter(F.col('plu_code').isin(plu_codes_cat)) # только чеки с нужными plu"
   ]
  },
  {
   "cell_type": "code",
   "execution_count": 53,
   "id": "4ce3e76f",
   "metadata": {},
   "outputs": [],
   "source": [
    "checks_tc5 = checks_items.join(checks_headers_tc5, 'rtl_txn_id', how='inner')"
   ]
  },
  {
   "cell_type": "code",
   "execution_count": 54,
   "id": "77638a65",
   "metadata": {},
   "outputs": [],
   "source": [
    "checks_tc52 = checks_items.join(checks_headers_tc52, 'rtl_txn_id', how='inner')"
   ]
  },
  {
   "cell_type": "code",
   "execution_count": 55,
   "id": "5ad8bfe3",
   "metadata": {},
   "outputs": [],
   "source": [
    "seg1 = (checks_tc5.withColumn('group', F.lit('sms'))\n",
    "                  .select('customer_rk', 'group')\n",
    "                  .distinct()\n",
    "      )"
   ]
  },
  {
   "cell_type": "code",
   "execution_count": 56,
   "id": "2c86af38",
   "metadata": {},
   "outputs": [],
   "source": [
    "seg2 = (checks_tc5.withColumn('group', F.lit('slip'))\n",
    "                  .select('customer_rk', 'group')\n",
    "                  .distinct()\n",
    "      )"
   ]
  },
  {
   "cell_type": "code",
   "execution_count": 57,
   "id": "8a03e83d",
   "metadata": {},
   "outputs": [],
   "source": [
    "checks_headers3 = (spark.table(CHECKS_HEADERS)\n",
    "                      .filter(F.col('rtl_txn_dt').between(start_date2, end_date2))\n",
    "                      .filter((F.col('loyalty_card_no') != '') & (F.col('loyalty_card_no').isNotNull()))\n",
    "                      .filter(F.col('financial_unit_format_dk') == 'D')\n",
    "                      .filter(F.col('rtl_txn_cancel_flg') == 0)\n",
    "                      .select('rtl_txn_id', 'loyalty_card_no', 'store_id')\n",
    "                     )\n"
   ]
  },
  {
   "cell_type": "code",
   "execution_count": 58,
   "id": "438350af",
   "metadata": {},
   "outputs": [],
   "source": [
    "checks_headers3 = checks_headers3.filter(F.col('store_id').isin(plants))"
   ]
  },
  {
   "cell_type": "code",
   "execution_count": 59,
   "id": "e83fbea2",
   "metadata": {},
   "outputs": [],
   "source": [
    "loyalty_cards3 = (spark\n",
    "                    .table(LOYALTY_CARDS)\n",
    "                    .withColumnRenamed(\"loyalty_card_id\", \"loyalty_card_no\")\n",
    "                    .withColumnRenamed(\"loyalty_account_id\", \"account_no\")\n",
    "                    .withColumnRenamed(\"loyalty_account_acrm_id\", \"account_rk\")\n",
    "                    .select('account_no', 'loyalty_card_no')\n",
    "                )\n",
    "loyalty_cardholders3 = (spark\n",
    "                        .table(LOYALTY_CARDHOLDERS)\n",
    "                        .withColumnRenamed(\"loyalty_cardholder_acrm_id\", \"customer_rk\")\n",
    "                        .withColumnRenamed(\"loyalty_account_id\", \"account_no\")\n",
    "                        .select('account_no', 'customer_rk')\n",
    "                      )\n",
    "clients_info3 = loyalty_cards3.join(loyalty_cardholders3, on='account_no', how='inner')\n",
    "clients_info3 = clients_info3.join(seg_sms, on='customer_rk', how='inner')\n",
    "clients_info4 = loyalty_cards3.join(loyalty_cardholders3, on='account_no', how='inner')\n",
    "clients_info4 = clients_info4.join(slip, on='customer_rk', how='inner')"
   ]
  },
  {
   "cell_type": "code",
   "execution_count": 60,
   "id": "e5c14360",
   "metadata": {},
   "outputs": [],
   "source": [
    "checks_headers_tc53 = checks_headers3.join(clients_info3, on='loyalty_card_no') #оставили чеки только нужных гостей"
   ]
  },
  {
   "cell_type": "code",
   "execution_count": 61,
   "id": "f1ad1393",
   "metadata": {},
   "outputs": [],
   "source": [
    "checks_headers_tc54 = checks_headers3.join(clients_info4, on='loyalty_card_no') #оставили чеки только нужных гостей"
   ]
  },
  {
   "cell_type": "code",
   "execution_count": 62,
   "id": "1e52f8b6",
   "metadata": {},
   "outputs": [],
   "source": [
    "checks_items3 = (spark.table(CHECKS_ITEMS) \n",
    "                    .withColumnRenamed('plu_id', 'plu_code')\n",
    "                    .withColumnRenamed('turnover_no_vat_amt', 'zsalnovat')\n",
    "                    .withColumnRenamed('turnover_vat_rub_amt', 'zsale_vat')\n",
    "                    .withColumnRenamed('prime_cost_no_vat_amt', 'zcst_n')\n",
    "                    .withColumnRenamed('turnover_base_uom_amt', 'base_qty')\n",
    "                    .withColumnRenamed('discount_amt', 'zdiscount')\n",
    "                    .withColumnRenamed('fact_regular_promo_flg', 'zpromofl')\n",
    "                    .filter(F.col('rtl_txn_dt').between(start_date2, end_date2))\n",
    "                    .filter((F.col('zsalnovat') >= 0) & (F.col('base_qty') >= 0) & (F.col('zcst_n') > 0)) #keep only correct data\n",
    "                        .select('plu_code' #items id\n",
    "                                , 'rtl_txn_id' #cheques id\n",
    "                               , 'base_qty'\n",
    "                               )\n",
    "                   )\n"
   ]
  },
  {
   "cell_type": "code",
   "execution_count": 63,
   "id": "76f8a56a",
   "metadata": {},
   "outputs": [],
   "source": [
    "checks_items3 = checks_items3.filter(F.col('plu_code').isin(plu_codes_cat)) # только чеки с нужными plu"
   ]
  },
  {
   "cell_type": "code",
   "execution_count": 64,
   "id": "0191557f",
   "metadata": {},
   "outputs": [],
   "source": [
    "checks_tc53 = checks_items3.join(checks_headers_tc53, 'rtl_txn_id', how='inner')"
   ]
  },
  {
   "cell_type": "code",
   "execution_count": 65,
   "id": "6eeacfa7",
   "metadata": {},
   "outputs": [],
   "source": [
    "checks_tc54 = checks_items3.join(checks_headers_tc54, 'rtl_txn_id', how='inner')"
   ]
  },
  {
   "cell_type": "code",
   "execution_count": 66,
   "id": "978d97aa",
   "metadata": {},
   "outputs": [],
   "source": [
    "seg3 = (checks_tc53.withColumn('group', F.lit('sms'))\n",
    "                  .select('customer_rk', 'group')\n",
    "                  .distinct()\n",
    "      )"
   ]
  },
  {
   "cell_type": "code",
   "execution_count": 67,
   "id": "555cdae7",
   "metadata": {},
   "outputs": [],
   "source": [
    "seg_no_cheese_1 = seg_sms.join(seg3, 'customer_rk', 'left_anti')"
   ]
  },
  {
   "cell_type": "code",
   "execution_count": 68,
   "id": "d384bb68",
   "metadata": {},
   "outputs": [],
   "source": [
    "seg4 = (checks_tc54.withColumn('group', F.lit('slip'))\n",
    "                  .select('customer_rk', 'group')\n",
    "                  .distinct()\n",
    "      )"
   ]
  },
  {
   "cell_type": "code",
   "execution_count": 69,
   "id": "35ccd45c",
   "metadata": {},
   "outputs": [],
   "source": [
    "seg_no_cheese_2 = slip.join(seg4, 'customer_rk', 'left_anti')"
   ]
  },
  {
   "cell_type": "code",
   "execution_count": 70,
   "id": "c49942f8",
   "metadata": {},
   "outputs": [],
   "source": [
    "seg_1 = seg_no_cheese_1.join(seg1, 'customer_rk', 'inner')"
   ]
  },
  {
   "cell_type": "code",
   "execution_count": 71,
   "id": "6a99089c",
   "metadata": {},
   "outputs": [],
   "source": [
    "seg_2 = seg_no_cheese_2.join(seg2, 'customer_rk', 'inner')"
   ]
  },
  {
   "cell_type": "code",
   "execution_count": 72,
   "id": "d564de7c",
   "metadata": {},
   "outputs": [],
   "source": [
    "seg = seg_1.union(seg_2).distinct()"
   ]
  },
  {
   "cell_type": "code",
   "execution_count": 73,
   "id": "7c08701f",
   "metadata": {
    "scrolled": true
   },
   "outputs": [
    {
     "name": "stderr",
     "output_type": "stream",
     "text": [
      "                                                                                ]53]]]]]]\r"
     ]
    }
   ],
   "source": [
    "seg.write.parquet('temp1066_ottok_new', mode='overwrite')\n",
    "seg = spark.read.parquet('temp1066_ottok_new')"
   ]
  },
  {
   "cell_type": "code",
   "execution_count": 74,
   "id": "7a91e8be",
   "metadata": {},
   "outputs": [
    {
     "name": "stderr",
     "output_type": "stream",
     "text": [
      "                                                                                \r"
     ]
    },
    {
     "data": {
      "text/plain": [
       "1868840"
      ]
     },
     "execution_count": 74,
     "metadata": {},
     "output_type": "execute_result"
    }
   ],
   "source": [
    "seg.count()"
   ]
  },
  {
   "cell_type": "code",
   "execution_count": 78,
   "id": "62ed4b1f",
   "metadata": {},
   "outputs": [],
   "source": [
    "seg_churn = seg.join(customers_churn, 'customer_rk', 'inner')\n",
    "seg_freq = seg.join(customers_freq, 'customer_rk', 'inner')\n",
    "seg_others = seg.join(seg_churn, 'customer_rk', 'left_anti').join(seg_freq, 'customer_rk', 'left_anti')"
   ]
  },
  {
   "cell_type": "code",
   "execution_count": 79,
   "id": "29b288c8",
   "metadata": {},
   "outputs": [
    {
     "name": "stderr",
     "output_type": "stream",
     "text": [
      "                                                                                \r"
     ]
    }
   ],
   "source": [
    "seg_churn_pd = seg_churn.toPandas()"
   ]
  },
  {
   "cell_type": "code",
   "execution_count": 80,
   "id": "93d76468",
   "metadata": {},
   "outputs": [
    {
     "name": "stderr",
     "output_type": "stream",
     "text": [
      "                                                                                \r"
     ]
    }
   ],
   "source": [
    "seg_freq_pd = seg_freq.toPandas()"
   ]
  },
  {
   "cell_type": "code",
   "execution_count": 81,
   "id": "ee2f4bfe",
   "metadata": {},
   "outputs": [
    {
     "name": "stderr",
     "output_type": "stream",
     "text": [
      "                                                                                \r"
     ]
    }
   ],
   "source": [
    "seg_others_pd = seg_others.toPandas()"
   ]
  },
  {
   "cell_type": "code",
   "execution_count": 89,
   "id": "6d8beca3",
   "metadata": {},
   "outputs": [],
   "source": [
    "seg_churn_sms = seg_churn_pd[seg_churn_pd.group == 'sms']\n",
    "seg_churn_slip = seg_churn_pd[seg_churn_pd.group == 'slip']\n",
    "seg_freq_sms = seg_freq_pd[seg_freq_pd.group == 'sms']\n",
    "seg_freq_slip = seg_freq_pd[seg_freq_pd.group == 'slip']\n",
    "seg_others_sms = seg_others_pd[seg_others_pd.group == 'sms']\n",
    "seg_others_slip = seg_others_pd[seg_others_pd.group == 'slip']"
   ]
  },
  {
   "cell_type": "code",
   "execution_count": 87,
   "id": "3ca2e346",
   "metadata": {},
   "outputs": [],
   "source": [
    "seg_others_pd['customer_rk'] = seg_others_pd['customer_rk'].astype('str')"
   ]
  },
  {
   "cell_type": "code",
   "execution_count": 90,
   "id": "7541634c",
   "metadata": {},
   "outputs": [],
   "source": [
    "cross, upgrade, ump = get_usecases(seg_others_sms)"
   ]
  },
  {
   "cell_type": "code",
   "execution_count": 91,
   "id": "c707d582",
   "metadata": {},
   "outputs": [
    {
     "name": "stdout",
     "output_type": "stream",
     "text": [
      "churn: 175486, frequency: 367737, cross: 151515, upgrade: 173622, ump: 72511 (all: 940871)\n"
     ]
    }
   ],
   "source": [
    "print('churn: {}, frequency: {}, cross: {}, upgrade: {}, ump: {} (all: {})'.format(len(seg_churn_sms), len(seg_freq_sms), len(cross), len(upgrade), len(ump), len(seg_churn_sms) + len(seg_freq_sms) + len(cross)+len(upgrade)+len(ump)))"
   ]
  },
  {
   "cell_type": "code",
   "execution_count": 92,
   "id": "8a6ec093",
   "metadata": {},
   "outputs": [],
   "source": [
    "cross, upgrade, ump = get_usecases(seg_others_slip)"
   ]
  },
  {
   "cell_type": "code",
   "execution_count": 93,
   "id": "c16d86c0",
   "metadata": {},
   "outputs": [
    {
     "name": "stdout",
     "output_type": "stream",
     "text": [
      "churn: 164815, frequency: 365547, cross: 151502, upgrade: 173603, ump: 72502 (all: 927969)\n"
     ]
    }
   ],
   "source": [
    "print('churn: {}, frequency: {}, cross: {}, upgrade: {}, ump: {} (all: {})'.format(len(seg_churn_slip), len(seg_freq_slip), len(cross), len(upgrade), len(ump), len(seg_churn_slip) + len(seg_freq_slip) + len(cross)+len(upgrade)+len(ump)))"
   ]
  }
 ],
 "metadata": {
  "kernelspec": {
   "display_name": "Python 3 (ipykernel)",
   "language": "python",
   "name": "python3"
  },
  "language_info": {
   "codemirror_mode": {
    "name": "ipython",
    "version": 3
   },
   "file_extension": ".py",
   "mimetype": "text/x-python",
   "name": "python",
   "nbconvert_exporter": "python",
   "pygments_lexer": "ipython3",
   "version": "3.7.10"
  }
 },
 "nbformat": 4,
 "nbformat_minor": 5
}
