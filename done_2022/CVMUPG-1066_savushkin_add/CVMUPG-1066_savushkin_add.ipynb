{
 "cells": [
  {
   "cell_type": "markdown",
   "id": "6993cab5",
   "metadata": {},
   "source": [
    "https://jira.x5.ru/browse/CVMUPG-1066"
   ]
  },
  {
   "cell_type": "code",
   "execution_count": 1,
   "id": "eb0823bd",
   "metadata": {},
   "outputs": [],
   "source": [
    "name = 'CVMUPG-1066_savushkin_add'"
   ]
  },
  {
   "cell_type": "code",
   "execution_count": 2,
   "id": "34b29262",
   "metadata": {},
   "outputs": [],
   "source": [
    "import sys\n",
    "import pandas as pd\n",
    "import pyspark.sql.functions as F\n",
    "sys.path.append('/home/jovyan/cvm_upgrade/')\n",
    "sys.path.append('/home/jovyan/cvm_upgrade/upgrade/')\n",
    "sys.path.append('/home/jovyan/glow-byte-filters-pyspark')\n",
    "sys.path.append('/home/jovyan/x5_some_tasks/Osipov/')\n",
    "from upgrade.post_analysis2.tools.groups_metrics_aggregation import GroupsMetricsAggregation\n",
    "from upgrade.post_analysis2.tools.guests_metrics_preprocessing import GuestsMetricsPreprocessing\n",
    "from upgrade.post_analysis2.tools.post_analysis_params import PostAnalysisParams\n",
    "from upgrade.post_analysis2.tools.metric_names_mapper import map_col_names_to_russian\n",
    "from upgrade.post_analysis2.tools.experiment_participants import ExperimentParticipants\n",
    "from upgrade.post_analysis2.tools.experiment_params import ExperimentParams\n",
    "import datetime\n",
    "from logic_filters import *\n",
    "from datetime import timedelta\n",
    "from spark import *\n",
    "from utils_osipov import *\n",
    "from segmentation import *\n",
    "\n",
    "%load_ext autoreload\n",
    "%autoreload 2\n",
    "\n",
    "pd.options.display.float_format = '{:,.2f}'.format\n",
    "pd.options.display.max_rows = 500"
   ]
  },
  {
   "cell_type": "code",
   "execution_count": 3,
   "id": "0167bd5c",
   "metadata": {
    "collapsed": false,
    "jupyter": {
     "outputs_hidden": false
    },
    "pycharm": {
     "name": "#%%\n"
    }
   },
   "outputs": [
    {
     "name": "stderr",
     "output_type": "stream",
     "text": [
      "Setting default log level to \"WARN\".\n",
      "To adjust logging level use sc.setLogLevel(newLevel). For SparkR, use setLogLevel(newLevel).\n"
     ]
    }
   ],
   "source": [
    "sc, spark = restart_spark(name, 100, executor_memory=\"3G\", executor_cores=5, driver_memory=\"12G\",\n",
    "                          additional_params={\"spark.sql.shuffle.partitions\": \"200\"})\n",
    "sc.setLogLevel('ERROR')"
   ]
  },
  {
   "cell_type": "code",
   "execution_count": 4,
   "id": "34c1e84c",
   "metadata": {},
   "outputs": [],
   "source": [
    "LOYALTY_CARDS = \"hive_ssa_tc5.loyalty_card\"\n",
    "LOYALTY_CARDHOLDERS = \"hive_ssa_tc5.loyalty_cardholder\"\n",
    "ACCOUNTS = \"hive_ssa_tc5.account\"\n",
    "CVM5_GUESTS = \"hive_cvm_acrm.cvm5_guests\"\n",
    "\n",
    "DIM_STORE = \"hive_ssa_main.dim_store\"\n",
    "CHECKS_HEADERS = \"hive_ssa_main.fct_rtl_txn\"\n",
    "CHECKS_ITEMS = \"hive_ssa_main.fct_rtl_txn_item\"\n",
    "PRODUCTS = \"hive_ssa_tc5.cvm_product\""
   ]
  },
  {
   "cell_type": "code",
   "execution_count": 5,
   "id": "ac609bd7",
   "metadata": {
    "collapsed": false,
    "jupyter": {
     "outputs_hidden": false
    },
    "pycharm": {
     "name": "#%%\n"
    }
   },
   "outputs": [],
   "source": [
    "experiment_params = ExperimentParams(**{\n",
    "    # Camp wave id нужно записать в виде мапы из id в префиксы.\n",
    "    # Префиксы ни на что не влияют, просто для более красивого названия групп\n",
    "    # Заполняются camp_wave_id. Если для контроля и теста одинаковый, то пишем два раза\n",
    "    'map_camp_wave_ids_to_suffixes': {\n",
    "        77113: \"sms_viber_tg\",\n",
    "        77113: \"sms_viber_cg\"\n",
    "    },\n",
    "\n",
    "    # communication period with guest (sending sms, push, etc.)\n",
    "    'date_communication_from': '2021-12-23',\n",
    "    'date_communication_to': '2021-12-29',\n",
    "\n",
    "    'wave_ids': [\n",
    "        -1 #если нет, то -1\n",
    "    ],\n",
    "\n",
    "    'communication_costs': {\n",
    "        'sms': 1.38,\n",
    "        'viber': 1.32,\n",
    "        'email': 0.0083\n",
    "    }\n",
    "})\n",
    "#0_ + camp_wave_id +_sms_viber_ + cg (если номера волн равны) / tg (если номера волн разные)"
   ]
  },
  {
   "cell_type": "code",
   "execution_count": 6,
   "id": "618ca784",
   "metadata": {
    "collapsed": false,
    "jupyter": {
     "outputs_hidden": false
    },
    "pycharm": {
     "name": "#%%\n"
    },
    "scrolled": true
   },
   "outputs": [],
   "source": [
    "experiment_guests = ExperimentParticipants(spark, experiment_params)\n",
    "experiment_guests_communications = experiment_guests.extract()"
   ]
  },
  {
   "cell_type": "code",
   "execution_count": 7,
   "id": "7926e66a",
   "metadata": {},
   "outputs": [],
   "source": [
    "guests_tg1 = (experiment_guests_communications\n",
    "          .filter(F.col('group_name') == '0_' +\n",
    "                str(list(experiment_params.map_camp_wave_ids_to_suffixes.keys())[0]) + '_' +\n",
    "                list(experiment_params.map_camp_wave_ids_to_suffixes.values())[0])\n",
    "          .select('customer_rk').distinct()\n",
    "         )"
   ]
  },
  {
   "cell_type": "code",
   "execution_count": 8,
   "id": "bf416556",
   "metadata": {},
   "outputs": [],
   "source": [
    "guests_cg1 = (experiment_guests_communications\n",
    "          .filter(F.col('group_name') == '1_' +\n",
    "                str(list(experiment_params.map_camp_wave_ids_to_suffixes.keys())[0]) + '_' +\n",
    "                list(experiment_params.map_camp_wave_ids_to_suffixes.values())[0])\n",
    "          .select('customer_rk').distinct()\n",
    "         )"
   ]
  },
  {
   "cell_type": "code",
   "execution_count": 9,
   "id": "5886dfc6",
   "metadata": {
    "collapsed": false,
    "jupyter": {
     "outputs_hidden": false
    },
    "pycharm": {
     "name": "#%%\n"
    }
   },
   "outputs": [],
   "source": [
    "experiment_params = ExperimentParams(**{\n",
    "    # Camp wave id нужно записать в виде мапы из id в префиксы.\n",
    "    # Префиксы ни на что не влияют, просто для более красивого названия групп\n",
    "    # Заполняются camp_wave_id. Если для контроля и теста одинаковый, то пишем два раза\n",
    "    'map_camp_wave_ids_to_suffixes': {\n",
    "        76934: \"sms_viber_tg\",\n",
    "        76934: \"sms_viber_cg\"\n",
    "    },\n",
    "\n",
    "    # communication period with guest (sending sms, push, etc.)\n",
    "    'date_communication_from': '2021-12-23',\n",
    "    'date_communication_to': '2021-12-29',\n",
    "\n",
    "    'wave_ids': [\n",
    "        77054 #если нет, то -1\n",
    "    ],\n",
    "\n",
    "    'communication_costs': {\n",
    "        'sms': 1.38,\n",
    "        'viber': 1.32,\n",
    "        'email': 0.0083\n",
    "    }\n",
    "})\n",
    "#0_ + camp_wave_id +_sms_viber_ + cg (если номера волн равны) / tg (если номера волн разные)"
   ]
  },
  {
   "cell_type": "code",
   "execution_count": 10,
   "id": "c42e1c61",
   "metadata": {
    "collapsed": false,
    "jupyter": {
     "outputs_hidden": false
    },
    "pycharm": {
     "name": "#%%\n"
    },
    "scrolled": true
   },
   "outputs": [],
   "source": [
    "experiment_guests = ExperimentParticipants(spark, experiment_params)\n",
    "experiment_guests_communications = experiment_guests.extract()"
   ]
  },
  {
   "cell_type": "code",
   "execution_count": 11,
   "id": "19c25da3",
   "metadata": {},
   "outputs": [],
   "source": [
    "guests_tg2 = (experiment_guests_communications\n",
    "          .filter(F.col('group_name') == '0_' +\n",
    "                str(list(experiment_params.map_camp_wave_ids_to_suffixes.keys())[0]) + '_' +\n",
    "                list(experiment_params.map_camp_wave_ids_to_suffixes.values())[0])\n",
    "          .select('customer_rk').distinct()\n",
    "         )"
   ]
  },
  {
   "cell_type": "code",
   "execution_count": 12,
   "id": "7642e24a",
   "metadata": {},
   "outputs": [],
   "source": [
    "guests_cg2 = (experiment_guests_communications\n",
    "          .filter(F.col('group_name') == '1_' +\n",
    "                str(list(experiment_params.map_camp_wave_ids_to_suffixes.keys())[0]) + '_' +\n",
    "                list(experiment_params.map_camp_wave_ids_to_suffixes.values())[0])\n",
    "          .select('customer_rk').distinct()\n",
    "         )"
   ]
  },
  {
   "cell_type": "code",
   "execution_count": 13,
   "id": "87fc073c",
   "metadata": {},
   "outputs": [],
   "source": [
    "dt1 = datetime.datetime.strptime(experiment_params.date_communication_from, '%Y-%m-%d')\n",
    "dt2 = datetime.datetime.strptime(experiment_params.date_communication_to, '%Y-%m-%d')"
   ]
  },
  {
   "cell_type": "code",
   "execution_count": 14,
   "id": "14b7afd2",
   "metadata": {},
   "outputs": [],
   "source": [
    "start_date = datetime.date(dt1.year, dt1.month, dt1.day)\n",
    "end_date = datetime.date(dt2.year, dt2.month, dt2.day)"
   ]
  },
  {
   "cell_type": "code",
   "execution_count": 15,
   "id": "c2fbe9a6",
   "metadata": {},
   "outputs": [],
   "source": [
    "plu_codes = [3367104,3388814,3672506,3919797,3926055,4046891,4046892,4046893,4118966,4137277]"
   ]
  },
  {
   "cell_type": "code",
   "execution_count": 16,
   "id": "c5609171",
   "metadata": {},
   "outputs": [],
   "source": [
    "guests_all = (guests_tg1.withColumn('group', F.lit('tg1'))\n",
    "              .union(guests_tg2.withColumn('group', F.lit('tg2')))\n",
    "              .union(guests_cg1.withColumn('group', F.lit('cg1')))\n",
    "              .union(guests_cg2.withColumn('group', F.lit('cg2'))).distinct()\n",
    "             )"
   ]
  },
  {
   "cell_type": "code",
   "execution_count": 5,
   "id": "22d7408b",
   "metadata": {},
   "outputs": [
    {
     "name": "stderr",
     "output_type": "stream",
     "text": [
      "                                                                                \r"
     ]
    }
   ],
   "source": [
    "# guests_all.write.parquet('temp1066_guests_all', mode='overwrite')\n",
    "guests_all = spark.read.parquet('temp1066_guests_all')"
   ]
  },
  {
   "cell_type": "markdown",
   "id": "4c15908f",
   "metadata": {},
   "source": [
    "### 1. Сегментация на персон откликнувшихся гостей."
   ]
  },
  {
   "cell_type": "code",
   "execution_count": 21,
   "id": "09cb32fd",
   "metadata": {},
   "outputs": [],
   "source": [
    "checks_headers = (spark.table(CHECKS_HEADERS)\n",
    "                      .filter(F.col('rtl_txn_dt').between(start_date, end_date))\n",
    "                      .filter((F.col('loyalty_card_no') != '') & (F.col('loyalty_card_no').isNotNull()))\n",
    "                      .filter(F.col('financial_unit_format_dk') == 'D')\n",
    "                      .filter(F.col('rtl_txn_cancel_flg') == 0)\n",
    "                      .select('rtl_txn_id', 'loyalty_card_no')\n",
    "                     )"
   ]
  },
  {
   "cell_type": "code",
   "execution_count": 22,
   "id": "d0958e4e",
   "metadata": {},
   "outputs": [],
   "source": [
    "loyalty_cards = (spark\n",
    "                .table(LOYALTY_CARDS)\n",
    "                .withColumnRenamed(\"loyalty_card_id\", \"loyalty_card_no\")\n",
    "                .withColumnRenamed(\"loyalty_account_id\", \"account_no\")\n",
    "                .withColumnRenamed(\"loyalty_account_acrm_id\", \"account_rk\")\n",
    "                .select('account_no', 'loyalty_card_no')\n",
    "            )\n",
    "loyalty_cardholders = (spark\n",
    "                        .table(LOYALTY_CARDHOLDERS)\n",
    "                        .withColumnRenamed(\"loyalty_cardholder_acrm_id\", \"customer_rk\")\n",
    "                        .withColumnRenamed(\"loyalty_account_id\", \"account_no\")\n",
    "                        .select('account_no', 'customer_rk')\n",
    "                      )\n",
    "clients_info = loyalty_cards.join(loyalty_cardholders, on='account_no', how='inner')\n",
    "clients_info = clients_info.join(guests_all, on='customer_rk', how='inner')"
   ]
  },
  {
   "cell_type": "code",
   "execution_count": 23,
   "id": "9d7bec72",
   "metadata": {},
   "outputs": [],
   "source": [
    "checks_headers_tc5 = checks_headers.join(clients_info, on='loyalty_card_no') #оставили чеки только доступных госте"
   ]
  },
  {
   "cell_type": "code",
   "execution_count": 24,
   "id": "7ad1abc0",
   "metadata": {},
   "outputs": [],
   "source": [
    "checks_items = (spark.table(CHECKS_ITEMS) \n",
    "                .withColumnRenamed('plu_id', 'plu_code')\n",
    "                .withColumnRenamed('turnover_no_vat_amt', 'zsalnovat')\n",
    "                .withColumnRenamed('turnover_vat_rub_amt', 'zsale_vat')\n",
    "                .withColumnRenamed('prime_cost_no_vat_amt', 'zcst_n')\n",
    "                .withColumnRenamed('turnover_base_uom_amt', 'base_qty')\n",
    "                .withColumnRenamed('discount_amt', 'zdiscount')\n",
    "                .withColumnRenamed('fact_regular_promo_flg', 'zpromofl')\n",
    "                .filter(F.col('rtl_txn_dt').between(start_date, end_date))\n",
    "                .filter((F.col('zsalnovat') >= 0) & (F.col('base_qty') >= 0) & (F.col('zcst_n') > 0)) #keep only correct data\n",
    "                    .select('plu_code' #items id\n",
    "                            , 'rtl_txn_id' #cheques id\n",
    "                            , 'base_qty'\n",
    "                           )\n",
    "               )"
   ]
  },
  {
   "cell_type": "code",
   "execution_count": 25,
   "id": "1c776e3f",
   "metadata": {},
   "outputs": [],
   "source": [
    "checks_items = checks_items.filter(F.col('plu_code').isin(plu_codes)) # только чеки с нужными plu"
   ]
  },
  {
   "cell_type": "code",
   "execution_count": 26,
   "id": "98b45419",
   "metadata": {},
   "outputs": [],
   "source": [
    "checks_tc5 = checks_items.join(checks_headers_tc5, 'rtl_txn_id', how='inner')"
   ]
  },
  {
   "cell_type": "code",
   "execution_count": 30,
   "id": "ce28db67",
   "metadata": {},
   "outputs": [
    {
     "name": "stderr",
     "output_type": "stream",
     "text": [
      "[Stage 27:(10 + 21) / 210][Stage 28:> (8 + 4) / 156][Stage 29:> (7 + 8) / 159]9]"
     ]
    }
   ],
   "source": [
    "seg = (checks_tc5.select('customer_rk', 'group')\n",
    "                  .distinct()\n",
    "      )"
   ]
  },
  {
   "cell_type": "code",
   "execution_count": 50,
   "id": "76c3fbff",
   "metadata": {},
   "outputs": [
    {
     "name": "stderr",
     "output_type": "stream",
     "text": [
      "                                                                                \r"
     ]
    }
   ],
   "source": [
    "# seg.write.parquet('temp1066_1', mode='overwrite')\n",
    "seg = spark.read.parquet('temp1066_1')"
   ]
  },
  {
   "cell_type": "code",
   "execution_count": 32,
   "id": "75c70ce9",
   "metadata": {},
   "outputs": [
    {
     "name": "stderr",
     "output_type": "stream",
     "text": [
      "                                                                                \r"
     ]
    },
    {
     "data": {
      "text/plain": [
       "6420"
      ]
     },
     "execution_count": 32,
     "metadata": {},
     "output_type": "execute_result"
    }
   ],
   "source": [
    "seg.count()"
   ]
  },
  {
   "cell_type": "code",
   "execution_count": 45,
   "id": "b08a7652",
   "metadata": {},
   "outputs": [],
   "source": [
    "client_segmentation = (spark.table('tc5_analytics_sanbox.t_TX_transform_client_segmentation')\n",
    "                            .withColumnRenamed('curr_acc_no','account_no')\n",
    "                            .filter(F.col('dt')==('2022-02-01'))\n",
    "                            .select(['account_no','segment_person']))"
   ]
  },
  {
   "cell_type": "code",
   "execution_count": 46,
   "id": "d3709a89",
   "metadata": {},
   "outputs": [],
   "source": [
    "loyalty_cardholders = (spark\n",
    "                        .table(LOYALTY_CARDHOLDERS)\n",
    "                        .withColumnRenamed(\"loyalty_cardholder_acrm_id\", \"customer_rk\")\n",
    "                        .withColumnRenamed(\"loyalty_account_id\", \"account_no\")\n",
    "                        .select('account_no', 'customer_rk')\n",
    "                      )\n",
    "client_segmentation = loyalty_cardholders.join(client_segmentation, on='account_no', how='inner')"
   ]
  },
  {
   "cell_type": "code",
   "execution_count": 47,
   "id": "fbca37f2",
   "metadata": {},
   "outputs": [],
   "source": [
    "client_segmentation = client_segmentation.select(['customer_rk', 'segment_person']).distinct()"
   ]
  },
  {
   "cell_type": "code",
   "execution_count": 36,
   "id": "5ee000ce",
   "metadata": {},
   "outputs": [],
   "source": [
    "seg_segmentation = seg.join(client_segmentation, 'customer_rk', 'inner')"
   ]
  },
  {
   "cell_type": "code",
   "execution_count": 37,
   "id": "ad607731",
   "metadata": {},
   "outputs": [
    {
     "name": "stderr",
     "output_type": "stream",
     "text": [
      "                                                                                \r"
     ]
    }
   ],
   "source": [
    "seg_segmentation_pd = seg_segmentation.toPandas()"
   ]
  },
  {
   "cell_type": "code",
   "execution_count": 38,
   "id": "9f7414e6",
   "metadata": {},
   "outputs": [
    {
     "data": {
      "text/html": [
       "<div>\n",
       "<style scoped>\n",
       "    .dataframe tbody tr th:only-of-type {\n",
       "        vertical-align: middle;\n",
       "    }\n",
       "\n",
       "    .dataframe tbody tr th {\n",
       "        vertical-align: top;\n",
       "    }\n",
       "\n",
       "    .dataframe thead th {\n",
       "        text-align: right;\n",
       "    }\n",
       "</style>\n",
       "<table border=\"1\" class=\"dataframe\">\n",
       "  <thead>\n",
       "    <tr style=\"text-align: right;\">\n",
       "      <th></th>\n",
       "      <th>customer_rk</th>\n",
       "      <th>segment_person</th>\n",
       "    </tr>\n",
       "  </thead>\n",
       "  <tbody>\n",
       "    <tr>\n",
       "      <th>0</th>\n",
       "      <td>47793256</td>\n",
       "      <td>46-60, не мало НЦС</td>\n",
       "    </tr>\n",
       "    <tr>\n",
       "      <th>1</th>\n",
       "      <td>47793256</td>\n",
       "      <td>46-60, не мало НЦС</td>\n",
       "    </tr>\n",
       "    <tr>\n",
       "      <th>2</th>\n",
       "      <td>13689087</td>\n",
       "      <td>46-60, не мало НЦС</td>\n",
       "    </tr>\n",
       "    <tr>\n",
       "      <th>3</th>\n",
       "      <td>13689087</td>\n",
       "      <td>46-60, не мало НЦС</td>\n",
       "    </tr>\n",
       "    <tr>\n",
       "      <th>4</th>\n",
       "      <td>47362655</td>\n",
       "      <td>61+</td>\n",
       "    </tr>\n",
       "  </tbody>\n",
       "</table>\n",
       "</div>"
      ],
      "text/plain": [
       "  customer_rk      segment_person\n",
       "0    47793256  46-60, не мало НЦС\n",
       "1    47793256  46-60, не мало НЦС\n",
       "2    13689087  46-60, не мало НЦС\n",
       "3    13689087  46-60, не мало НЦС\n",
       "4    47362655                 61+"
      ]
     },
     "execution_count": 38,
     "metadata": {},
     "output_type": "execute_result"
    }
   ],
   "source": [
    "seg_segmentation_pd.head()"
   ]
  },
  {
   "cell_type": "code",
   "execution_count": 39,
   "id": "9971fd5e",
   "metadata": {},
   "outputs": [],
   "source": [
    "groups = seg_segmentation_pd.groupby('segment_person')['customer_rk'].count().reset_index()"
   ]
  },
  {
   "cell_type": "code",
   "execution_count": 40,
   "id": "67727e3a",
   "metadata": {
    "scrolled": true
   },
   "outputs": [
    {
     "data": {
      "text/html": [
       "<div>\n",
       "<style scoped>\n",
       "    .dataframe tbody tr th:only-of-type {\n",
       "        vertical-align: middle;\n",
       "    }\n",
       "\n",
       "    .dataframe tbody tr th {\n",
       "        vertical-align: top;\n",
       "    }\n",
       "\n",
       "    .dataframe thead th {\n",
       "        text-align: right;\n",
       "    }\n",
       "</style>\n",
       "<table border=\"1\" class=\"dataframe\">\n",
       "  <thead>\n",
       "    <tr style=\"text-align: right;\">\n",
       "      <th></th>\n",
       "      <th>segment_person</th>\n",
       "      <th>customer_rk</th>\n",
       "    </tr>\n",
       "  </thead>\n",
       "  <tbody>\n",
       "    <tr>\n",
       "      <th>0</th>\n",
       "      <td>21-, мало НЦС</td>\n",
       "      <td>62</td>\n",
       "    </tr>\n",
       "    <tr>\n",
       "      <th>1</th>\n",
       "      <td>21-, не мало НЦС</td>\n",
       "      <td>108</td>\n",
       "    </tr>\n",
       "    <tr>\n",
       "      <th>2</th>\n",
       "      <td>22-35, мало НЦС, есть дети</td>\n",
       "      <td>182</td>\n",
       "    </tr>\n",
       "    <tr>\n",
       "      <th>3</th>\n",
       "      <td>22-35, мало НЦС, нет детей</td>\n",
       "      <td>630</td>\n",
       "    </tr>\n",
       "    <tr>\n",
       "      <th>4</th>\n",
       "      <td>22-35, не мало НЦС, без вредных привычек</td>\n",
       "      <td>372</td>\n",
       "    </tr>\n",
       "  </tbody>\n",
       "</table>\n",
       "</div>"
      ],
      "text/plain": [
       "                             segment_person  customer_rk\n",
       "0                             21-, мало НЦС           62\n",
       "1                          21-, не мало НЦС          108\n",
       "2                22-35, мало НЦС, есть дети          182\n",
       "3                22-35, мало НЦС, нет детей          630\n",
       "4  22-35, не мало НЦС, без вредных привычек          372"
      ]
     },
     "execution_count": 40,
     "metadata": {},
     "output_type": "execute_result"
    }
   ],
   "source": [
    "groups.head()"
   ]
  },
  {
   "cell_type": "code",
   "execution_count": 42,
   "id": "faa21570",
   "metadata": {},
   "outputs": [],
   "source": [
    "groups.to_excel('grouped_guests.xlsx', index=False)"
   ]
  },
  {
   "cell_type": "markdown",
   "id": "2c818deb",
   "metadata": {},
   "source": [
    "### 2. Кто из гостей купил в период акции, хотя до этого перестал покупать."
   ]
  },
  {
   "cell_type": "code",
   "execution_count": 9,
   "id": "6e4971fa",
   "metadata": {},
   "outputs": [],
   "source": [
    "start_date1 = datetime.date(2021, 6, 23)\n",
    "end_date1 = datetime.date(2021, 10, 22)\n",
    "start_date2 = datetime.date(2021, 10, 23)\n",
    "end_date2 = datetime.date(2021, 12, 22)"
   ]
  },
  {
   "cell_type": "code",
   "execution_count": 10,
   "id": "3ead91a3",
   "metadata": {},
   "outputs": [],
   "source": [
    "checks_headers = (spark.table(CHECKS_HEADERS)\n",
    "                      .filter(F.col('rtl_txn_dt').between(start_date1, end_date1))\n",
    "                      .filter((F.col('loyalty_card_no') != '') & (F.col('loyalty_card_no').isNotNull()))\n",
    "                      .filter(F.col('financial_unit_format_dk') == 'D')\n",
    "                      .filter(F.col('rtl_txn_cancel_flg') == 0)\n",
    "                      .select('rtl_txn_id', 'loyalty_card_no', 'store_id')\n",
    "                     )\n"
   ]
  },
  {
   "cell_type": "code",
   "execution_count": 11,
   "id": "b4dc9bbd",
   "metadata": {},
   "outputs": [],
   "source": [
    "loyalty_cards = (spark\n",
    "                    .table(LOYALTY_CARDS)\n",
    "                    .withColumnRenamed(\"loyalty_card_id\", \"loyalty_card_no\")\n",
    "                    .withColumnRenamed(\"loyalty_account_id\", \"account_no\")\n",
    "                    .withColumnRenamed(\"loyalty_account_acrm_id\", \"account_rk\")\n",
    "                    .select('account_no', 'loyalty_card_no')\n",
    "                )\n",
    "loyalty_cardholders = (spark\n",
    "                        .table(LOYALTY_CARDHOLDERS)\n",
    "                        .withColumnRenamed(\"loyalty_cardholder_acrm_id\", \"customer_rk\")\n",
    "                        .withColumnRenamed(\"loyalty_account_id\", \"account_no\")\n",
    "                        .select('account_no', 'customer_rk')\n",
    "                      )\n",
    "clients_info = loyalty_cards.join(loyalty_cardholders, on='account_no', how='inner')\n",
    "clients_info = clients_info.join(guests_all, on='customer_rk', how='inner')"
   ]
  },
  {
   "cell_type": "code",
   "execution_count": 12,
   "id": "7286c866",
   "metadata": {},
   "outputs": [],
   "source": [
    "checks_headers_tc5 = checks_headers.join(clients_info, on='loyalty_card_no') #оставили чеки только нужных гостей"
   ]
  },
  {
   "cell_type": "code",
   "execution_count": 13,
   "id": "cd90467f",
   "metadata": {},
   "outputs": [],
   "source": [
    "checks_items = (spark.table(CHECKS_ITEMS) \n",
    "                    .withColumnRenamed('plu_id', 'plu_code')\n",
    "                    .withColumnRenamed('turnover_no_vat_amt', 'zsalnovat')\n",
    "                    .withColumnRenamed('turnover_vat_rub_amt', 'zsale_vat')\n",
    "                    .withColumnRenamed('prime_cost_no_vat_amt', 'zcst_n')\n",
    "                    .withColumnRenamed('turnover_base_uom_amt', 'base_qty')\n",
    "                    .withColumnRenamed('discount_amt', 'zdiscount')\n",
    "                    .withColumnRenamed('fact_regular_promo_flg', 'zpromofl')\n",
    "                    .filter(F.col('rtl_txn_dt').between(start_date1, end_date1))\n",
    "                    .filter((F.col('zsalnovat') >= 0) & (F.col('base_qty') >= 0) & (F.col('zcst_n') > 0)) #keep only correct data\n",
    "                        .select('plu_code' #items id\n",
    "                                , 'rtl_txn_id' #cheques id\n",
    "                               , 'base_qty'\n",
    "                                , 'zsalnovat'\n",
    "                               )\n",
    "                   )\n"
   ]
  },
  {
   "cell_type": "code",
   "execution_count": 14,
   "id": "50c2f1a8",
   "metadata": {},
   "outputs": [],
   "source": [
    "# plu_hierarchy_lvl_4_dk = ['FR0604001', 'FR0608005', 'FR0604002', 'FR0608001'] #сметана, молоко, кефир\n",
    "syntethic_category_id = [102, 103]\n",
    "# plu_brand_code = ['2452']\n",
    "# plu_vendor_nm = ['Данон']\n",
    "# plu_not_in = [4138521]"
   ]
  },
  {
   "cell_type": "code",
   "execution_count": 15,
   "id": "17504cae",
   "metadata": {},
   "outputs": [
    {
     "name": "stderr",
     "output_type": "stream",
     "text": [
      "                                                                                \r"
     ]
    }
   ],
   "source": [
    "plu_codes_cat = (spark\n",
    "                 .table(PRODUCTS)\n",
    "#                  .filter(F.col('plu_hierarchy_lvl_4_dk').isin(plu_hierarchy_lvl_4_dk))\n",
    "#                  .filter(F.col('plu_vendor_nm').isin(plu_vendor_nm))\n",
    "                 .filter(F.col('syntethic_category_id').isin(syntethic_category_id))\n",
    "#                  .filter(F.col('plu_brand_code').isin(plu_brand_code))\n",
    "#                  .filter(~F.col('plu_id').isin(plu_not_in))\n",
    "                 .select('plu_id')\n",
    "                 .distinct()\n",
    "                 .toPandas()['plu_id']\n",
    "                 .tolist()\n",
    "                )"
   ]
  },
  {
   "cell_type": "code",
   "execution_count": 16,
   "id": "d14d76f1",
   "metadata": {},
   "outputs": [],
   "source": [
    "checks_items = checks_items.filter(F.col('plu_code').isin(plu_codes_cat)) # только чеки с нужными plu"
   ]
  },
  {
   "cell_type": "code",
   "execution_count": 17,
   "id": "2263cf7f",
   "metadata": {},
   "outputs": [],
   "source": [
    "category = (spark.table(PRODUCTS).withColumnRenamed('plu_id', 'plu_code')\n",
    "            .select('plu_code', 'syntethic_category_id').distinct())"
   ]
  },
  {
   "cell_type": "code",
   "execution_count": 18,
   "id": "92a0183e",
   "metadata": {},
   "outputs": [],
   "source": [
    "checks_tc5 = checks_items.join(checks_headers_tc5, 'rtl_txn_id', how='inner')"
   ]
  },
  {
   "cell_type": "code",
   "execution_count": 19,
   "id": "392e73ca",
   "metadata": {},
   "outputs": [],
   "source": [
    "checks_tc5 = checks_tc5.join(category, 'plu_code', 'inner')"
   ]
  },
  {
   "cell_type": "code",
   "execution_count": 20,
   "id": "d5cd3be2",
   "metadata": {},
   "outputs": [],
   "source": [
    "pdf = (checks_tc5.groupby('syntethic_category_id').agg(F.sum('base_qty').alias('base_qty'),\n",
    "                                     F.sum('zsalnovat').alias('novat'),\n",
    "                                     F.countDistinct('rtl_txn_id').alias('checks_qty'),\n",
    "                                     F.countDistinct('account_no').alias('guests_qty')))"
   ]
  },
  {
   "cell_type": "code",
   "execution_count": 21,
   "id": "963e073c",
   "metadata": {},
   "outputs": [
    {
     "name": "stderr",
     "output_type": "stream",
     "text": [
      "                                                                                 7644]\r"
     ]
    }
   ],
   "source": [
    "pdf.write.parquet('temp1066_2', mode='overwrite')\n",
    "pdf = spark.read.parquet('temp1066_2')"
   ]
  },
  {
   "cell_type": "code",
   "execution_count": 22,
   "id": "71427207",
   "metadata": {
    "scrolled": true
   },
   "outputs": [
    {
     "name": "stderr",
     "output_type": "stream",
     "text": [
      "                                                                                \r"
     ]
    }
   ],
   "source": [
    "summary = pdf.toPandas()"
   ]
  },
  {
   "cell_type": "code",
   "execution_count": 23,
   "id": "2af02bf9",
   "metadata": {},
   "outputs": [
    {
     "data": {
      "text/html": [
       "<div>\n",
       "<style scoped>\n",
       "    .dataframe tbody tr th:only-of-type {\n",
       "        vertical-align: middle;\n",
       "    }\n",
       "\n",
       "    .dataframe tbody tr th {\n",
       "        vertical-align: top;\n",
       "    }\n",
       "\n",
       "    .dataframe thead th {\n",
       "        text-align: right;\n",
       "    }\n",
       "</style>\n",
       "<table border=\"1\" class=\"dataframe\">\n",
       "  <thead>\n",
       "    <tr style=\"text-align: right;\">\n",
       "      <th></th>\n",
       "      <th>syntethic_category_id</th>\n",
       "      <th>base_qty</th>\n",
       "      <th>novat</th>\n",
       "      <th>checks_qty</th>\n",
       "      <th>guests_qty</th>\n",
       "    </tr>\n",
       "  </thead>\n",
       "  <tbody>\n",
       "    <tr>\n",
       "      <th>0</th>\n",
       "      <td>102</td>\n",
       "      <td>991984.428</td>\n",
       "      <td>90774385.74</td>\n",
       "      <td>780624</td>\n",
       "      <td>202058</td>\n",
       "    </tr>\n",
       "    <tr>\n",
       "      <th>1</th>\n",
       "      <td>103</td>\n",
       "      <td>1267166.694</td>\n",
       "      <td>215715126.09</td>\n",
       "      <td>1347917</td>\n",
       "      <td>284171</td>\n",
       "    </tr>\n",
       "  </tbody>\n",
       "</table>\n",
       "</div>"
      ],
      "text/plain": [
       "  syntethic_category_id     base_qty         novat  checks_qty  guests_qty\n",
       "0                   102   991984.428   90774385.74      780624      202058\n",
       "1                   103  1267166.694  215715126.09     1347917      284171"
      ]
     },
     "execution_count": 23,
     "metadata": {},
     "output_type": "execute_result"
    }
   ],
   "source": [
    "summary"
   ]
  },
  {
   "cell_type": "code",
   "execution_count": 90,
   "id": "8f889f96",
   "metadata": {},
   "outputs": [],
   "source": [
    "summary.to_excel('summary_category.xlsx', index=False)"
   ]
  },
  {
   "cell_type": "markdown",
   "id": "d3356406",
   "metadata": {},
   "source": [
    "### 3. Анализ продаж магазинов в категории твердых сыров"
   ]
  },
  {
   "cell_type": "code",
   "execution_count": 6,
   "id": "bbd33d4d",
   "metadata": {},
   "outputs": [],
   "source": [
    "only_target = guests_all.filter(F.col('group').isin(['tg1', 'tg2']))"
   ]
  },
  {
   "cell_type": "code",
   "execution_count": 7,
   "id": "ccedd7a0",
   "metadata": {},
   "outputs": [],
   "source": [
    "start_date1 = datetime.date(2021, 12, 2)\n",
    "end_date1 = datetime.date(2021, 12, 29)\n",
    "start_date2 = datetime.date(2021, 9, 29)\n",
    "end_date2 = datetime.date(2021, 12, 29)"
   ]
  },
  {
   "cell_type": "markdown",
   "id": "222d0c68",
   "metadata": {},
   "source": [
    "#### Отбор магазинов"
   ]
  },
  {
   "cell_type": "code",
   "execution_count": 8,
   "id": "440a8ac1",
   "metadata": {},
   "outputs": [],
   "source": [
    "checks_headers = (spark.table(CHECKS_HEADERS)\n",
    "                      .filter(F.col('rtl_txn_dt').between(start_date2, end_date2))\n",
    "                      .filter((F.col('loyalty_card_no') != '') & (F.col('loyalty_card_no').isNotNull()))\n",
    "                      .filter(F.col('financial_unit_format_dk') == 'D')\n",
    "                      .filter(F.col('rtl_txn_cancel_flg') == 0)\n",
    "                      .select('rtl_txn_id', 'loyalty_card_no', 'store_id')\n",
    "                     )\n"
   ]
  },
  {
   "cell_type": "code",
   "execution_count": 9,
   "id": "9f63e0e7",
   "metadata": {},
   "outputs": [],
   "source": [
    "loyalty_cards = (spark\n",
    "                    .table(LOYALTY_CARDS)\n",
    "                    .withColumnRenamed(\"loyalty_card_id\", \"loyalty_card_no\")\n",
    "                    .withColumnRenamed(\"loyalty_account_id\", \"account_no\")\n",
    "                    .withColumnRenamed(\"loyalty_account_acrm_id\", \"account_rk\")\n",
    "                    .select('account_no', 'loyalty_card_no')\n",
    "                )\n",
    "loyalty_cardholders = (spark\n",
    "                        .table(LOYALTY_CARDHOLDERS)\n",
    "                        .withColumnRenamed(\"loyalty_cardholder_acrm_id\", \"customer_rk\")\n",
    "                        .withColumnRenamed(\"loyalty_account_id\", \"account_no\")\n",
    "                        .select('account_no', 'customer_rk')\n",
    "                      )\n",
    "clients_info = loyalty_cards.join(loyalty_cardholders, on='account_no', how='inner')\n",
    "clients_info = clients_info.join(only_target, on='customer_rk', how='inner')"
   ]
  },
  {
   "cell_type": "code",
   "execution_count": 10,
   "id": "26a6fe95",
   "metadata": {},
   "outputs": [],
   "source": [
    "checks_headers_tc5 = checks_headers.join(clients_info, on='loyalty_card_no') #оставили чеки только нужных гостей"
   ]
  },
  {
   "cell_type": "code",
   "execution_count": 11,
   "id": "3e041cad",
   "metadata": {},
   "outputs": [
    {
     "name": "stderr",
     "output_type": "stream",
     "text": [
      "                                                                                \r"
     ]
    }
   ],
   "source": [
    "stores = checks_headers_tc5.select('store_id').distinct().toPandas()['store_id'].to_list()"
   ]
  },
  {
   "cell_type": "markdown",
   "id": "273d89d6",
   "metadata": {},
   "source": [
    "#### Подсчет по бренду БЛ"
   ]
  },
  {
   "cell_type": "code",
   "execution_count": 32,
   "id": "9a01961c",
   "metadata": {},
   "outputs": [],
   "source": [
    "checks_headers = (spark.table(CHECKS_HEADERS)\n",
    "                      .filter(F.col('rtl_txn_dt').between(start_date1, end_date1))\n",
    "                      .filter((F.col('loyalty_card_no') != '') & (F.col('loyalty_card_no').isNotNull()))\n",
    "                      .filter(F.col('financial_unit_format_dk') == 'D')\n",
    "                      .filter(F.col('rtl_txn_cancel_flg') == 0)\n",
    "                      .select('rtl_txn_id', 'loyalty_card_no', 'rtl_txn_dt', 'store_id')\n",
    "                     )\n"
   ]
  },
  {
   "cell_type": "code",
   "execution_count": 33,
   "id": "7334302a",
   "metadata": {},
   "outputs": [],
   "source": [
    "checks_headers_tc5 = checks_headers.filter(F.col('store_id').isin(stores))"
   ]
  },
  {
   "cell_type": "code",
   "execution_count": 34,
   "id": "8397120c",
   "metadata": {},
   "outputs": [],
   "source": [
    "loyalty_cards = (spark\n",
    "                    .table(LOYALTY_CARDS)\n",
    "                    .withColumnRenamed(\"loyalty_card_id\", \"loyalty_card_no\")\n",
    "                    .withColumnRenamed(\"loyalty_account_id\", \"account_no\")\n",
    "                    .withColumnRenamed(\"loyalty_account_acrm_id\", \"account_rk\")\n",
    "                    .select('account_no', 'loyalty_card_no')\n",
    "                )\n",
    "loyalty_cardholders = (spark\n",
    "                        .table(LOYALTY_CARDHOLDERS)\n",
    "                        .withColumnRenamed(\"loyalty_cardholder_acrm_id\", \"customer_rk\")\n",
    "                        .withColumnRenamed(\"loyalty_account_id\", \"account_no\")\n",
    "                        .select('account_no', 'customer_rk')\n",
    "                      )\n",
    "clients_info = loyalty_cards.join(loyalty_cardholders, on='account_no', how='inner')"
   ]
  },
  {
   "cell_type": "code",
   "execution_count": 35,
   "id": "af580552",
   "metadata": {},
   "outputs": [],
   "source": [
    "checks_headers_tc5 = checks_headers_tc5.join(clients_info, on='loyalty_card_no') #оставили чеки только нужных гостей"
   ]
  },
  {
   "cell_type": "code",
   "execution_count": 66,
   "id": "edab205a",
   "metadata": {},
   "outputs": [],
   "source": [
    "checks_items = (spark.table(CHECKS_ITEMS) \n",
    "                    .withColumnRenamed('plu_id', 'plu_code')\n",
    "                    .withColumnRenamed('turnover_no_vat_amt', 'zsalnovat')\n",
    "                    .withColumnRenamed('turnover_vat_rub_amt', 'zsale_vat')\n",
    "                    .withColumnRenamed('prime_cost_no_vat_amt', 'zcst_n')\n",
    "                    .withColumnRenamed('turnover_base_uom_amt', 'base_qty')\n",
    "                    .withColumnRenamed('discount_amt', 'zdiscount')\n",
    "                    .withColumnRenamed('fact_regular_promo_flg', 'zpromofl')\n",
    "                    .filter(F.col('rtl_txn_dt').between(start_date1, end_date1))\n",
    "                    .filter((F.col('zsalnovat') >= 0) & (F.col('base_qty') >= 0) & (F.col('zcst_n') > 0)) #keep only correct data\n",
    "                        .select('plu_code' #items id\n",
    "                                , 'rtl_txn_id' #cheques id\n",
    "                                , 'zsalnovat'\n",
    "                               )\n",
    "                   )\n"
   ]
  },
  {
   "cell_type": "code",
   "execution_count": 67,
   "id": "de1b07ab",
   "metadata": {},
   "outputs": [],
   "source": [
    "# plu_hierarchy_lvl_4_dk = ['FR0604001', 'FR0608005', 'FR0604002', 'FR0608001'] #сметана, молоко, кефир\n",
    "syntethic_category_id = [103]\n",
    "plu_brand_code = ['5330', 'D754']\n",
    "# plu_vendor_nm = ['Данон']\n",
    "# plu_not_in = [4138521]"
   ]
  },
  {
   "cell_type": "code",
   "execution_count": 68,
   "id": "31997413",
   "metadata": {},
   "outputs": [
    {
     "name": "stderr",
     "output_type": "stream",
     "text": [
      "                                                                                \r"
     ]
    }
   ],
   "source": [
    "plu_codes_cat = (spark\n",
    "                 .table(PRODUCTS)\n",
    "#                  .filter(F.col('plu_hierarchy_lvl_4_dk').isin(plu_hierarchy_lvl_4_dk))\n",
    "#                  .filter(F.col('plu_vendor_nm').isin(plu_vendor_nm))\n",
    "                 .filter(F.col('syntethic_category_id').isin(syntethic_category_id))\n",
    "                 .filter(F.col('plu_brand_code').isin(plu_brand_code))\n",
    "#                  .filter(~F.col('plu_id').isin(plu_not_in))\n",
    "                 .select('plu_id')\n",
    "                 .distinct()\n",
    "                 .toPandas()['plu_id']\n",
    "                 .tolist()\n",
    "                )"
   ]
  },
  {
   "cell_type": "code",
   "execution_count": 69,
   "id": "74e73e44",
   "metadata": {},
   "outputs": [],
   "source": [
    "checks_items = checks_items.filter(F.col('plu_code').isin(plu_codes_cat)) # только чеки с нужными plu"
   ]
  },
  {
   "cell_type": "code",
   "execution_count": 70,
   "id": "0565bf98",
   "metadata": {},
   "outputs": [],
   "source": [
    "checks_tc5 = checks_items.join(checks_headers_tc5, 'rtl_txn_id', how='inner')"
   ]
  },
  {
   "cell_type": "code",
   "execution_count": 71,
   "id": "7e423e79",
   "metadata": {},
   "outputs": [],
   "source": [
    "week1_start = datetime.date(2021, 12, 2)\n",
    "week1_end = datetime.date(2021, 12, 8)\n",
    "week2_start = datetime.date(2021, 12, 9)\n",
    "week2_end = datetime.date(2021, 12, 15)\n",
    "week3_start = datetime.date(2021, 12, 16)\n",
    "week3_end = datetime.date(2021, 12, 22)\n",
    "week4_start = datetime.date(2021, 12, 23)\n",
    "week4_end = datetime.date(2021, 12, 29)"
   ]
  },
  {
   "cell_type": "code",
   "execution_count": 72,
   "id": "74b97c3c",
   "metadata": {},
   "outputs": [],
   "source": [
    "checks_tc5_with_week = (checks_tc5.withColumn('week', F.when(F.col('rtl_txn_dt').between(week1_start, week1_end), \"week1\")\n",
    "                                             .when(F.col('rtl_txn_dt').between(week2_start, week2_end), \"week2\")\n",
    "                                             .when(F.col('rtl_txn_dt').between(week3_start, week3_end), \"week3\")\n",
    "                                             .when(F.col('rtl_txn_dt').between(week4_start, week4_end), \"week4\")\n",
    "                                   ))"
   ]
  },
  {
   "cell_type": "code",
   "execution_count": 73,
   "id": "b78bf91c",
   "metadata": {},
   "outputs": [],
   "source": [
    "in_sum = (checks_tc5_with_week.groupby('week').agg(F.sum('zsalnovat').alias('sum_in_target_plu')))"
   ]
  },
  {
   "cell_type": "code",
   "execution_count": 74,
   "id": "1495a795",
   "metadata": {},
   "outputs": [
    {
     "name": "stderr",
     "output_type": "stream",
     "text": [
      "                                                                                ]]]\r"
     ]
    }
   ],
   "source": [
    "in_sum_pd_target_plu = in_sum.toPandas()"
   ]
  },
  {
   "cell_type": "code",
   "execution_count": 75,
   "id": "b9aa903d",
   "metadata": {},
   "outputs": [
    {
     "data": {
      "text/html": [
       "<div>\n",
       "<style scoped>\n",
       "    .dataframe tbody tr th:only-of-type {\n",
       "        vertical-align: middle;\n",
       "    }\n",
       "\n",
       "    .dataframe tbody tr th {\n",
       "        vertical-align: top;\n",
       "    }\n",
       "\n",
       "    .dataframe thead th {\n",
       "        text-align: right;\n",
       "    }\n",
       "</style>\n",
       "<table border=\"1\" class=\"dataframe\">\n",
       "  <thead>\n",
       "    <tr style=\"text-align: right;\">\n",
       "      <th></th>\n",
       "      <th>week</th>\n",
       "      <th>sum_in_target_plu</th>\n",
       "    </tr>\n",
       "  </thead>\n",
       "  <tbody>\n",
       "    <tr>\n",
       "      <th>0</th>\n",
       "      <td>week1</td>\n",
       "      <td>62056418.82</td>\n",
       "    </tr>\n",
       "    <tr>\n",
       "      <th>1</th>\n",
       "      <td>week2</td>\n",
       "      <td>66098553.57</td>\n",
       "    </tr>\n",
       "    <tr>\n",
       "      <th>2</th>\n",
       "      <td>week3</td>\n",
       "      <td>78179713.67</td>\n",
       "    </tr>\n",
       "    <tr>\n",
       "      <th>3</th>\n",
       "      <td>week4</td>\n",
       "      <td>91866727.78</td>\n",
       "    </tr>\n",
       "  </tbody>\n",
       "</table>\n",
       "</div>"
      ],
      "text/plain": [
       "    week sum_in_target_plu\n",
       "0  week1       62056418.82\n",
       "1  week2       66098553.57\n",
       "2  week3       78179713.67\n",
       "3  week4       91866727.78"
      ]
     },
     "execution_count": 75,
     "metadata": {},
     "output_type": "execute_result"
    }
   ],
   "source": [
    "in_sum_pd_target_plu"
   ]
  },
  {
   "cell_type": "code",
   "execution_count": 76,
   "id": "19089eeb",
   "metadata": {},
   "outputs": [],
   "source": [
    "in_sum_pd_target_plu.loc[0, 'start_dt'] = '02-12-2021'\n",
    "in_sum_pd_target_plu.loc[0, 'end_dt'] = '08-12-2021'\n",
    "in_sum_pd_target_plu.loc[1, 'start_dt'] = '09-12-2021'\n",
    "in_sum_pd_target_plu.loc[1, 'end_dt'] = '15-12-2021'\n",
    "in_sum_pd_target_plu.loc[2, 'start_dt'] = '16-12-2021'\n",
    "in_sum_pd_target_plu.loc[2, 'end_dt'] = '22-12-2021'\n",
    "in_sum_pd_target_plu.loc[3, 'start_dt'] = '23-12-2021'\n",
    "in_sum_pd_target_plu.loc[3, 'end_dt'] = '29-12-2021'"
   ]
  },
  {
   "cell_type": "code",
   "execution_count": 77,
   "id": "30cd44c6",
   "metadata": {},
   "outputs": [
    {
     "data": {
      "text/html": [
       "<div>\n",
       "<style scoped>\n",
       "    .dataframe tbody tr th:only-of-type {\n",
       "        vertical-align: middle;\n",
       "    }\n",
       "\n",
       "    .dataframe tbody tr th {\n",
       "        vertical-align: top;\n",
       "    }\n",
       "\n",
       "    .dataframe thead th {\n",
       "        text-align: right;\n",
       "    }\n",
       "</style>\n",
       "<table border=\"1\" class=\"dataframe\">\n",
       "  <thead>\n",
       "    <tr style=\"text-align: right;\">\n",
       "      <th></th>\n",
       "      <th>week</th>\n",
       "      <th>sum_in_target_plu</th>\n",
       "      <th>start_dt</th>\n",
       "      <th>end_dt</th>\n",
       "    </tr>\n",
       "  </thead>\n",
       "  <tbody>\n",
       "    <tr>\n",
       "      <th>0</th>\n",
       "      <td>week1</td>\n",
       "      <td>62056418.82</td>\n",
       "      <td>02-12-2021</td>\n",
       "      <td>08-12-2021</td>\n",
       "    </tr>\n",
       "    <tr>\n",
       "      <th>1</th>\n",
       "      <td>week2</td>\n",
       "      <td>66098553.57</td>\n",
       "      <td>09-12-2021</td>\n",
       "      <td>15-12-2021</td>\n",
       "    </tr>\n",
       "    <tr>\n",
       "      <th>2</th>\n",
       "      <td>week3</td>\n",
       "      <td>78179713.67</td>\n",
       "      <td>16-12-2021</td>\n",
       "      <td>22-12-2021</td>\n",
       "    </tr>\n",
       "    <tr>\n",
       "      <th>3</th>\n",
       "      <td>week4</td>\n",
       "      <td>91866727.78</td>\n",
       "      <td>23-12-2021</td>\n",
       "      <td>29-12-2021</td>\n",
       "    </tr>\n",
       "  </tbody>\n",
       "</table>\n",
       "</div>"
      ],
      "text/plain": [
       "    week sum_in_target_plu    start_dt      end_dt\n",
       "0  week1       62056418.82  02-12-2021  08-12-2021\n",
       "1  week2       66098553.57  09-12-2021  15-12-2021\n",
       "2  week3       78179713.67  16-12-2021  22-12-2021\n",
       "3  week4       91866727.78  23-12-2021  29-12-2021"
      ]
     },
     "execution_count": 77,
     "metadata": {},
     "output_type": "execute_result"
    }
   ],
   "source": [
    "in_sum_pd_target_plu"
   ]
  },
  {
   "cell_type": "code",
   "execution_count": 79,
   "id": "59b6a0e1",
   "metadata": {},
   "outputs": [],
   "source": [
    "in_sum_pd_target_plu['prev'] = 0"
   ]
  },
  {
   "cell_type": "code",
   "execution_count": 80,
   "id": "0866c6dc",
   "metadata": {},
   "outputs": [],
   "source": [
    "for i in range(1, len(in_sum_pd_target_plu)):\n",
    "    in_sum_pd_target_plu.loc[i, 'prev'] = in_sum_pd_target_plu.loc[i-1, 'sum_in_target_plu']"
   ]
  },
  {
   "cell_type": "code",
   "execution_count": 82,
   "id": "31468f6a",
   "metadata": {},
   "outputs": [],
   "source": [
    "in_sum_pd_target_plu.loc[0, 'prev'] = in_sum_pd_target_plu.loc[0, 'sum_in_target_plu']"
   ]
  },
  {
   "cell_type": "code",
   "execution_count": 84,
   "id": "11323ac2",
   "metadata": {},
   "outputs": [
    {
     "data": {
      "text/html": [
       "<div>\n",
       "<style scoped>\n",
       "    .dataframe tbody tr th:only-of-type {\n",
       "        vertical-align: middle;\n",
       "    }\n",
       "\n",
       "    .dataframe tbody tr th {\n",
       "        vertical-align: top;\n",
       "    }\n",
       "\n",
       "    .dataframe thead th {\n",
       "        text-align: right;\n",
       "    }\n",
       "</style>\n",
       "<table border=\"1\" class=\"dataframe\">\n",
       "  <thead>\n",
       "    <tr style=\"text-align: right;\">\n",
       "      <th></th>\n",
       "      <th>week</th>\n",
       "      <th>sum_in_target_plu</th>\n",
       "      <th>start_dt</th>\n",
       "      <th>end_dt</th>\n",
       "      <th>prev</th>\n",
       "    </tr>\n",
       "  </thead>\n",
       "  <tbody>\n",
       "    <tr>\n",
       "      <th>0</th>\n",
       "      <td>week1</td>\n",
       "      <td>62056418.82</td>\n",
       "      <td>02-12-2021</td>\n",
       "      <td>08-12-2021</td>\n",
       "      <td>62056418.82</td>\n",
       "    </tr>\n",
       "    <tr>\n",
       "      <th>1</th>\n",
       "      <td>week2</td>\n",
       "      <td>66098553.57</td>\n",
       "      <td>09-12-2021</td>\n",
       "      <td>15-12-2021</td>\n",
       "      <td>62056418.82</td>\n",
       "    </tr>\n",
       "    <tr>\n",
       "      <th>2</th>\n",
       "      <td>week3</td>\n",
       "      <td>78179713.67</td>\n",
       "      <td>16-12-2021</td>\n",
       "      <td>22-12-2021</td>\n",
       "      <td>66098553.57</td>\n",
       "    </tr>\n",
       "    <tr>\n",
       "      <th>3</th>\n",
       "      <td>week4</td>\n",
       "      <td>91866727.78</td>\n",
       "      <td>23-12-2021</td>\n",
       "      <td>29-12-2021</td>\n",
       "      <td>78179713.67</td>\n",
       "    </tr>\n",
       "  </tbody>\n",
       "</table>\n",
       "</div>"
      ],
      "text/plain": [
       "    week sum_in_target_plu    start_dt      end_dt         prev\n",
       "0  week1       62056418.82  02-12-2021  08-12-2021  62056418.82\n",
       "1  week2       66098553.57  09-12-2021  15-12-2021  62056418.82\n",
       "2  week3       78179713.67  16-12-2021  22-12-2021  66098553.57\n",
       "3  week4       91866727.78  23-12-2021  29-12-2021  78179713.67"
      ]
     },
     "execution_count": 84,
     "metadata": {},
     "output_type": "execute_result"
    }
   ],
   "source": [
    "in_sum_pd_target_plu"
   ]
  },
  {
   "cell_type": "code",
   "execution_count": 85,
   "id": "c5a30ada",
   "metadata": {},
   "outputs": [],
   "source": [
    "in_sum_pd_target_plu.loc[:, ['prev', 'sum_in_target_plu']] = in_sum_pd_target_plu[['prev', 'sum_in_target_plu']].astype('float')"
   ]
  },
  {
   "cell_type": "code",
   "execution_count": 86,
   "id": "6cb3b5ca",
   "metadata": {},
   "outputs": [],
   "source": [
    "in_sum_pd_target_plu['%_prev'] = ((in_sum_pd_target_plu['sum_in_target_plu'] - in_sum_pd_target_plu['prev']) * 100 / in_sum_pd_target_plu['prev'])"
   ]
  },
  {
   "cell_type": "code",
   "execution_count": 88,
   "id": "01fefb4f",
   "metadata": {},
   "outputs": [],
   "source": [
    "in_sum_pd_target_plu['prev'] = in_sum_pd_target_plu.sum_in_target_plu - in_sum_pd_target_plu.prev"
   ]
  },
  {
   "cell_type": "code",
   "execution_count": 89,
   "id": "2fd3ca2d",
   "metadata": {},
   "outputs": [
    {
     "data": {
      "text/html": [
       "<div>\n",
       "<style scoped>\n",
       "    .dataframe tbody tr th:only-of-type {\n",
       "        vertical-align: middle;\n",
       "    }\n",
       "\n",
       "    .dataframe tbody tr th {\n",
       "        vertical-align: top;\n",
       "    }\n",
       "\n",
       "    .dataframe thead th {\n",
       "        text-align: right;\n",
       "    }\n",
       "</style>\n",
       "<table border=\"1\" class=\"dataframe\">\n",
       "  <thead>\n",
       "    <tr style=\"text-align: right;\">\n",
       "      <th></th>\n",
       "      <th>week</th>\n",
       "      <th>sum_in_target_plu</th>\n",
       "      <th>start_dt</th>\n",
       "      <th>end_dt</th>\n",
       "      <th>prev</th>\n",
       "      <th>%_prev</th>\n",
       "    </tr>\n",
       "  </thead>\n",
       "  <tbody>\n",
       "    <tr>\n",
       "      <th>0</th>\n",
       "      <td>week1</td>\n",
       "      <td>62,056,418.82</td>\n",
       "      <td>02-12-2021</td>\n",
       "      <td>08-12-2021</td>\n",
       "      <td>0.00</td>\n",
       "      <td>0.00</td>\n",
       "    </tr>\n",
       "    <tr>\n",
       "      <th>1</th>\n",
       "      <td>week2</td>\n",
       "      <td>66,098,553.57</td>\n",
       "      <td>09-12-2021</td>\n",
       "      <td>15-12-2021</td>\n",
       "      <td>4,042,134.75</td>\n",
       "      <td>6.51</td>\n",
       "    </tr>\n",
       "    <tr>\n",
       "      <th>2</th>\n",
       "      <td>week3</td>\n",
       "      <td>78,179,713.67</td>\n",
       "      <td>16-12-2021</td>\n",
       "      <td>22-12-2021</td>\n",
       "      <td>12,081,160.10</td>\n",
       "      <td>18.28</td>\n",
       "    </tr>\n",
       "    <tr>\n",
       "      <th>3</th>\n",
       "      <td>week4</td>\n",
       "      <td>91,866,727.78</td>\n",
       "      <td>23-12-2021</td>\n",
       "      <td>29-12-2021</td>\n",
       "      <td>13,687,014.11</td>\n",
       "      <td>17.51</td>\n",
       "    </tr>\n",
       "  </tbody>\n",
       "</table>\n",
       "</div>"
      ],
      "text/plain": [
       "    week sum_in_target_plu    start_dt      end_dt          prev %_prev\n",
       "0  week1     62,056,418.82  02-12-2021  08-12-2021          0.00   0.00\n",
       "1  week2     66,098,553.57  09-12-2021  15-12-2021  4,042,134.75   6.51\n",
       "2  week3     78,179,713.67  16-12-2021  22-12-2021 12,081,160.10  18.28\n",
       "3  week4     91,866,727.78  23-12-2021  29-12-2021 13,687,014.11  17.51"
      ]
     },
     "execution_count": 89,
     "metadata": {},
     "output_type": "execute_result"
    }
   ],
   "source": [
    "in_sum_pd_target_plu"
   ]
  },
  {
   "cell_type": "code",
   "execution_count": 91,
   "id": "4adb8ea5",
   "metadata": {},
   "outputs": [],
   "source": [
    "in_sum_pd_target_plu.to_excel('in_sum_stores_brest_litovsk.xlsx', index=False)"
   ]
  },
  {
   "cell_type": "markdown",
   "id": "ada44379",
   "metadata": {},
   "source": [
    "#### Подсчет по целевым PLU"
   ]
  },
  {
   "cell_type": "code",
   "execution_count": 12,
   "id": "9492c8bd",
   "metadata": {},
   "outputs": [],
   "source": [
    "checks_headers = (spark.table(CHECKS_HEADERS)\n",
    "                      .filter(F.col('rtl_txn_dt').between(start_date1, end_date1))\n",
    "                      .filter((F.col('loyalty_card_no') != '') & (F.col('loyalty_card_no').isNotNull()))\n",
    "                      .filter(F.col('financial_unit_format_dk') == 'D')\n",
    "                      .filter(F.col('rtl_txn_cancel_flg') == 0)\n",
    "                      .select('rtl_txn_id', 'loyalty_card_no', 'rtl_txn_dt', 'store_id')\n",
    "                     )\n"
   ]
  },
  {
   "cell_type": "code",
   "execution_count": 13,
   "id": "0d2ff4ff",
   "metadata": {},
   "outputs": [],
   "source": [
    "checks_headers_tc5 = checks_headers.filter(F.col('store_id').isin(stores))"
   ]
  },
  {
   "cell_type": "code",
   "execution_count": 14,
   "id": "e4440162",
   "metadata": {},
   "outputs": [],
   "source": [
    "loyalty_cards = (spark\n",
    "                    .table(LOYALTY_CARDS)\n",
    "                    .withColumnRenamed(\"loyalty_card_id\", \"loyalty_card_no\")\n",
    "                    .withColumnRenamed(\"loyalty_account_id\", \"account_no\")\n",
    "                    .withColumnRenamed(\"loyalty_account_acrm_id\", \"account_rk\")\n",
    "                    .select('account_no', 'loyalty_card_no')\n",
    "                )\n",
    "loyalty_cardholders = (spark\n",
    "                        .table(LOYALTY_CARDHOLDERS)\n",
    "                        .withColumnRenamed(\"loyalty_cardholder_acrm_id\", \"customer_rk\")\n",
    "                        .withColumnRenamed(\"loyalty_account_id\", \"account_no\")\n",
    "                        .select('account_no', 'customer_rk')\n",
    "                      )\n",
    "clients_info = loyalty_cards.join(loyalty_cardholders, on='account_no', how='inner')"
   ]
  },
  {
   "cell_type": "code",
   "execution_count": 15,
   "id": "4e6a2795",
   "metadata": {},
   "outputs": [],
   "source": [
    "checks_headers_tc5 = checks_headers_tc5.join(clients_info, on='loyalty_card_no') #оставили чеки только нужных гостей"
   ]
  },
  {
   "cell_type": "code",
   "execution_count": 16,
   "id": "7d7ab40d",
   "metadata": {},
   "outputs": [],
   "source": [
    "checks_items = (spark.table(CHECKS_ITEMS) \n",
    "                    .withColumnRenamed('plu_id', 'plu_code')\n",
    "                    .withColumnRenamed('turnover_no_vat_amt', 'zsalnovat')\n",
    "                    .withColumnRenamed('turnover_vat_rub_amt', 'zsale_vat')\n",
    "                    .withColumnRenamed('prime_cost_no_vat_amt', 'zcst_n')\n",
    "                    .withColumnRenamed('turnover_base_uom_amt', 'base_qty')\n",
    "                    .withColumnRenamed('discount_amt', 'zdiscount')\n",
    "                    .withColumnRenamed('fact_regular_promo_flg', 'zpromofl')\n",
    "                    .filter(F.col('rtl_txn_dt').between(start_date1, end_date1))\n",
    "                    .filter((F.col('zsalnovat') >= 0) & (F.col('base_qty') >= 0) & (F.col('zcst_n') > 0)) #keep only correct data\n",
    "                        .select('plu_code' #items id\n",
    "                                , 'rtl_txn_id' #cheques id\n",
    "                                , 'zsalnovat'\n",
    "                               )\n",
    "                   )\n"
   ]
  },
  {
   "cell_type": "code",
   "execution_count": 17,
   "id": "8bde147b",
   "metadata": {},
   "outputs": [],
   "source": [
    "plu_codes_cat = [3367104,3388814,3672506,3919797,3926055,4046891,4046892,4046893,4118966,4137277]"
   ]
  },
  {
   "cell_type": "code",
   "execution_count": 18,
   "id": "b944c3f3",
   "metadata": {},
   "outputs": [],
   "source": [
    "checks_items = checks_items.filter(F.col('plu_code').isin(plu_codes_cat)) # только чеки с нужными plu"
   ]
  },
  {
   "cell_type": "code",
   "execution_count": 19,
   "id": "fadb5b7c",
   "metadata": {},
   "outputs": [],
   "source": [
    "checks_tc5 = checks_items.join(checks_headers_tc5, 'rtl_txn_id', how='inner')"
   ]
  },
  {
   "cell_type": "code",
   "execution_count": 20,
   "id": "fb093e0e",
   "metadata": {},
   "outputs": [],
   "source": [
    "week1_start = datetime.date(2021, 12, 2)\n",
    "week1_end = datetime.date(2021, 12, 8)\n",
    "week2_start = datetime.date(2021, 12, 9)\n",
    "week2_end = datetime.date(2021, 12, 15)\n",
    "week3_start = datetime.date(2021, 12, 16)\n",
    "week3_end = datetime.date(2021, 12, 22)\n",
    "week4_start = datetime.date(2021, 12, 23)\n",
    "week4_end = datetime.date(2021, 12, 29)"
   ]
  },
  {
   "cell_type": "code",
   "execution_count": 21,
   "id": "5eb0db85",
   "metadata": {},
   "outputs": [],
   "source": [
    "checks_tc5_with_week = (checks_tc5.withColumn('week', F.when(F.col('rtl_txn_dt').between(week1_start, week1_end), \"week1\")\n",
    "                                             .when(F.col('rtl_txn_dt').between(week2_start, week2_end), \"week2\")\n",
    "                                             .when(F.col('rtl_txn_dt').between(week3_start, week3_end), \"week3\")\n",
    "                                             .when(F.col('rtl_txn_dt').between(week4_start, week4_end), \"week4\")\n",
    "                                   ))"
   ]
  },
  {
   "cell_type": "code",
   "execution_count": 22,
   "id": "a834600f",
   "metadata": {},
   "outputs": [],
   "source": [
    "in_sum = (checks_tc5_with_week.groupby('week').agg(F.sum('zsalnovat').alias('sum_in_target_plu')))"
   ]
  },
  {
   "cell_type": "code",
   "execution_count": 23,
   "id": "291617af",
   "metadata": {},
   "outputs": [
    {
     "name": "stderr",
     "output_type": "stream",
     "text": [
      "                                                                                ]\r"
     ]
    }
   ],
   "source": [
    "in_sum_pd_target_plu = in_sum.toPandas()"
   ]
  },
  {
   "cell_type": "code",
   "execution_count": 24,
   "id": "634f6e76",
   "metadata": {},
   "outputs": [],
   "source": [
    "in_sum_pd_target_plu.loc[0, 'start_dt'] = '02-12-2021'\n",
    "in_sum_pd_target_plu.loc[0, 'end_dt'] = '08-12-2021'\n",
    "in_sum_pd_target_plu.loc[1, 'start_dt'] = '09-12-2021'\n",
    "in_sum_pd_target_plu.loc[1, 'end_dt'] = '15-12-2021'\n",
    "in_sum_pd_target_plu.loc[2, 'start_dt'] = '16-12-2021'\n",
    "in_sum_pd_target_plu.loc[2, 'end_dt'] = '22-12-2021'\n",
    "in_sum_pd_target_plu.loc[3, 'start_dt'] = '23-12-2021'\n",
    "in_sum_pd_target_plu.loc[3, 'end_dt'] = '29-12-2021'"
   ]
  },
  {
   "cell_type": "code",
   "execution_count": 25,
   "id": "f4c679ac",
   "metadata": {},
   "outputs": [
    {
     "data": {
      "text/html": [
       "<div>\n",
       "<style scoped>\n",
       "    .dataframe tbody tr th:only-of-type {\n",
       "        vertical-align: middle;\n",
       "    }\n",
       "\n",
       "    .dataframe tbody tr th {\n",
       "        vertical-align: top;\n",
       "    }\n",
       "\n",
       "    .dataframe thead th {\n",
       "        text-align: right;\n",
       "    }\n",
       "</style>\n",
       "<table border=\"1\" class=\"dataframe\">\n",
       "  <thead>\n",
       "    <tr style=\"text-align: right;\">\n",
       "      <th></th>\n",
       "      <th>week</th>\n",
       "      <th>sum_in_target_plu</th>\n",
       "      <th>start_dt</th>\n",
       "      <th>end_dt</th>\n",
       "    </tr>\n",
       "  </thead>\n",
       "  <tbody>\n",
       "    <tr>\n",
       "      <th>0</th>\n",
       "      <td>NaN</td>\n",
       "      <td>NaN</td>\n",
       "      <td>02-12-2021</td>\n",
       "      <td>08-12-2021</td>\n",
       "    </tr>\n",
       "    <tr>\n",
       "      <th>1</th>\n",
       "      <td>NaN</td>\n",
       "      <td>NaN</td>\n",
       "      <td>09-12-2021</td>\n",
       "      <td>15-12-2021</td>\n",
       "    </tr>\n",
       "    <tr>\n",
       "      <th>2</th>\n",
       "      <td>NaN</td>\n",
       "      <td>NaN</td>\n",
       "      <td>16-12-2021</td>\n",
       "      <td>22-12-2021</td>\n",
       "    </tr>\n",
       "    <tr>\n",
       "      <th>3</th>\n",
       "      <td>NaN</td>\n",
       "      <td>NaN</td>\n",
       "      <td>23-12-2021</td>\n",
       "      <td>29-12-2021</td>\n",
       "    </tr>\n",
       "  </tbody>\n",
       "</table>\n",
       "</div>"
      ],
      "text/plain": [
       "  week sum_in_target_plu    start_dt      end_dt\n",
       "0  NaN               NaN  02-12-2021  08-12-2021\n",
       "1  NaN               NaN  09-12-2021  15-12-2021\n",
       "2  NaN               NaN  16-12-2021  22-12-2021\n",
       "3  NaN               NaN  23-12-2021  29-12-2021"
      ]
     },
     "execution_count": 25,
     "metadata": {},
     "output_type": "execute_result"
    }
   ],
   "source": [
    "in_sum_pd_target_plu"
   ]
  },
  {
   "cell_type": "code",
   "execution_count": 26,
   "id": "9ab81410",
   "metadata": {},
   "outputs": [],
   "source": [
    "in_sum_pd_target_plu['prev'] = 0"
   ]
  },
  {
   "cell_type": "code",
   "execution_count": 27,
   "id": "d828adc8",
   "metadata": {},
   "outputs": [],
   "source": [
    "for i in range(1, len(in_sum_pd_target_plu)):\n",
    "    in_sum_pd_target_plu.loc[i, 'prev'] = in_sum_pd_target_plu.loc[i-1, 'sum_in_target_plu']"
   ]
  },
  {
   "cell_type": "code",
   "execution_count": 28,
   "id": "ac855854",
   "metadata": {},
   "outputs": [],
   "source": [
    "in_sum_pd_target_plu.loc[0, 'prev'] = in_sum_pd_target_plu.loc[0, 'sum_in_target_plu']"
   ]
  },
  {
   "cell_type": "code",
   "execution_count": 29,
   "id": "2255f228",
   "metadata": {},
   "outputs": [
    {
     "data": {
      "text/html": [
       "<div>\n",
       "<style scoped>\n",
       "    .dataframe tbody tr th:only-of-type {\n",
       "        vertical-align: middle;\n",
       "    }\n",
       "\n",
       "    .dataframe tbody tr th {\n",
       "        vertical-align: top;\n",
       "    }\n",
       "\n",
       "    .dataframe thead th {\n",
       "        text-align: right;\n",
       "    }\n",
       "</style>\n",
       "<table border=\"1\" class=\"dataframe\">\n",
       "  <thead>\n",
       "    <tr style=\"text-align: right;\">\n",
       "      <th></th>\n",
       "      <th>week</th>\n",
       "      <th>sum_in_target_plu</th>\n",
       "      <th>start_dt</th>\n",
       "      <th>end_dt</th>\n",
       "      <th>prev</th>\n",
       "    </tr>\n",
       "  </thead>\n",
       "  <tbody>\n",
       "    <tr>\n",
       "      <th>0</th>\n",
       "      <td>NaN</td>\n",
       "      <td>NaN</td>\n",
       "      <td>02-12-2021</td>\n",
       "      <td>08-12-2021</td>\n",
       "      <td>NaN</td>\n",
       "    </tr>\n",
       "    <tr>\n",
       "      <th>1</th>\n",
       "      <td>NaN</td>\n",
       "      <td>NaN</td>\n",
       "      <td>09-12-2021</td>\n",
       "      <td>15-12-2021</td>\n",
       "      <td>NaN</td>\n",
       "    </tr>\n",
       "    <tr>\n",
       "      <th>2</th>\n",
       "      <td>NaN</td>\n",
       "      <td>NaN</td>\n",
       "      <td>16-12-2021</td>\n",
       "      <td>22-12-2021</td>\n",
       "      <td>NaN</td>\n",
       "    </tr>\n",
       "    <tr>\n",
       "      <th>3</th>\n",
       "      <td>NaN</td>\n",
       "      <td>NaN</td>\n",
       "      <td>23-12-2021</td>\n",
       "      <td>29-12-2021</td>\n",
       "      <td>NaN</td>\n",
       "    </tr>\n",
       "  </tbody>\n",
       "</table>\n",
       "</div>"
      ],
      "text/plain": [
       "  week sum_in_target_plu    start_dt      end_dt  prev\n",
       "0  NaN               NaN  02-12-2021  08-12-2021   NaN\n",
       "1  NaN               NaN  09-12-2021  15-12-2021   NaN\n",
       "2  NaN               NaN  16-12-2021  22-12-2021   NaN\n",
       "3  NaN               NaN  23-12-2021  29-12-2021   NaN"
      ]
     },
     "execution_count": 29,
     "metadata": {},
     "output_type": "execute_result"
    }
   ],
   "source": [
    "in_sum_pd_target_plu"
   ]
  },
  {
   "cell_type": "code",
   "execution_count": 30,
   "id": "e4725e72",
   "metadata": {},
   "outputs": [],
   "source": [
    "in_sum_pd_target_plu.loc[:, ['prev', 'sum_in_target_plu']] = in_sum_pd_target_plu[['prev', 'sum_in_target_plu']].astype('float')"
   ]
  },
  {
   "cell_type": "code",
   "execution_count": 31,
   "id": "a463dcb1",
   "metadata": {},
   "outputs": [],
   "source": [
    "in_sum_pd_target_plu['%_prev'] = ((in_sum_pd_target_plu['sum_in_target_plu'] - in_sum_pd_target_plu['prev']) * 100 / in_sum_pd_target_plu['prev'])"
   ]
  },
  {
   "cell_type": "code",
   "execution_count": 32,
   "id": "66c82edc",
   "metadata": {},
   "outputs": [],
   "source": [
    "in_sum_pd_target_plu['prev'] = in_sum_pd_target_plu.sum_in_target_plu - in_sum_pd_target_plu.prev"
   ]
  },
  {
   "cell_type": "code",
   "execution_count": 33,
   "id": "f030ee19",
   "metadata": {},
   "outputs": [
    {
     "data": {
      "text/html": [
       "<div>\n",
       "<style scoped>\n",
       "    .dataframe tbody tr th:only-of-type {\n",
       "        vertical-align: middle;\n",
       "    }\n",
       "\n",
       "    .dataframe tbody tr th {\n",
       "        vertical-align: top;\n",
       "    }\n",
       "\n",
       "    .dataframe thead th {\n",
       "        text-align: right;\n",
       "    }\n",
       "</style>\n",
       "<table border=\"1\" class=\"dataframe\">\n",
       "  <thead>\n",
       "    <tr style=\"text-align: right;\">\n",
       "      <th></th>\n",
       "      <th>week</th>\n",
       "      <th>sum_in_target_plu</th>\n",
       "      <th>start_dt</th>\n",
       "      <th>end_dt</th>\n",
       "      <th>prev</th>\n",
       "      <th>%_prev</th>\n",
       "    </tr>\n",
       "  </thead>\n",
       "  <tbody>\n",
       "    <tr>\n",
       "      <th>0</th>\n",
       "      <td>NaN</td>\n",
       "      <td>NaN</td>\n",
       "      <td>02-12-2021</td>\n",
       "      <td>08-12-2021</td>\n",
       "      <td>NaN</td>\n",
       "      <td>NaN</td>\n",
       "    </tr>\n",
       "    <tr>\n",
       "      <th>1</th>\n",
       "      <td>NaN</td>\n",
       "      <td>NaN</td>\n",
       "      <td>09-12-2021</td>\n",
       "      <td>15-12-2021</td>\n",
       "      <td>NaN</td>\n",
       "      <td>NaN</td>\n",
       "    </tr>\n",
       "    <tr>\n",
       "      <th>2</th>\n",
       "      <td>NaN</td>\n",
       "      <td>NaN</td>\n",
       "      <td>16-12-2021</td>\n",
       "      <td>22-12-2021</td>\n",
       "      <td>NaN</td>\n",
       "      <td>NaN</td>\n",
       "    </tr>\n",
       "    <tr>\n",
       "      <th>3</th>\n",
       "      <td>NaN</td>\n",
       "      <td>NaN</td>\n",
       "      <td>23-12-2021</td>\n",
       "      <td>29-12-2021</td>\n",
       "      <td>NaN</td>\n",
       "      <td>NaN</td>\n",
       "    </tr>\n",
       "  </tbody>\n",
       "</table>\n",
       "</div>"
      ],
      "text/plain": [
       "  week  sum_in_target_plu    start_dt      end_dt  prev  %_prev\n",
       "0  NaN                NaN  02-12-2021  08-12-2021   NaN     NaN\n",
       "1  NaN                NaN  09-12-2021  15-12-2021   NaN     NaN\n",
       "2  NaN                NaN  16-12-2021  22-12-2021   NaN     NaN\n",
       "3  NaN                NaN  23-12-2021  29-12-2021   NaN     NaN"
      ]
     },
     "execution_count": 33,
     "metadata": {},
     "output_type": "execute_result"
    }
   ],
   "source": [
    "in_sum_pd_target_plu"
   ]
  },
  {
   "cell_type": "code",
   "execution_count": 34,
   "id": "75b1cfeb",
   "metadata": {},
   "outputs": [],
   "source": [
    "in_sum_pd_target_plu.to_excel('in_sum_stores_target_plu.xlsx', index=False)"
   ]
  },
  {
   "cell_type": "markdown",
   "id": "f381dc1e",
   "metadata": {},
   "source": [
    "#### Подсчет по бренду БЛ"
   ]
  },
  {
   "cell_type": "code",
   "execution_count": 35,
   "id": "d942d323",
   "metadata": {},
   "outputs": [],
   "source": [
    "checks_headers = (spark.table(CHECKS_HEADERS)\n",
    "                      .filter(F.col('rtl_txn_dt').between(start_date1, end_date1))\n",
    "                      .filter((F.col('loyalty_card_no') != '') & (F.col('loyalty_card_no').isNotNull()))\n",
    "                      .filter(F.col('financial_unit_format_dk') == 'D')\n",
    "                      .filter(F.col('rtl_txn_cancel_flg') == 0)\n",
    "                      .select('rtl_txn_id', 'loyalty_card_no', 'rtl_txn_dt', 'store_id')\n",
    "                     )\n"
   ]
  },
  {
   "cell_type": "code",
   "execution_count": 36,
   "id": "9f952359",
   "metadata": {},
   "outputs": [],
   "source": [
    "checks_headers_tc5 = checks_headers.filter(F.col('store_id').isin(stores))"
   ]
  },
  {
   "cell_type": "code",
   "execution_count": 37,
   "id": "4a58cc6c",
   "metadata": {},
   "outputs": [],
   "source": [
    "loyalty_cards = (spark\n",
    "                    .table(LOYALTY_CARDS)\n",
    "                    .withColumnRenamed(\"loyalty_card_id\", \"loyalty_card_no\")\n",
    "                    .withColumnRenamed(\"loyalty_account_id\", \"account_no\")\n",
    "                    .withColumnRenamed(\"loyalty_account_acrm_id\", \"account_rk\")\n",
    "                    .select('account_no', 'loyalty_card_no')\n",
    "                )\n",
    "loyalty_cardholders = (spark\n",
    "                        .table(LOYALTY_CARDHOLDERS)\n",
    "                        .withColumnRenamed(\"loyalty_cardholder_acrm_id\", \"customer_rk\")\n",
    "                        .withColumnRenamed(\"loyalty_account_id\", \"account_no\")\n",
    "                        .select('account_no', 'customer_rk')\n",
    "                      )\n",
    "clients_info = loyalty_cards.join(loyalty_cardholders, on='account_no', how='inner')\n",
    "clients_info = clients_info.join(guests_all, on='customer_rk', how='inner')"
   ]
  },
  {
   "cell_type": "code",
   "execution_count": 38,
   "id": "54533326",
   "metadata": {},
   "outputs": [],
   "source": [
    "checks_headers_tc5 = checks_headers_tc5.join(clients_info, on='loyalty_card_no') #оставили чеки только нужных гостей"
   ]
  },
  {
   "cell_type": "code",
   "execution_count": 39,
   "id": "b094765c",
   "metadata": {},
   "outputs": [],
   "source": [
    "checks_items = (spark.table(CHECKS_ITEMS) \n",
    "                    .withColumnRenamed('plu_id', 'plu_code')\n",
    "                    .withColumnRenamed('turnover_no_vat_amt', 'zsalnovat')\n",
    "                    .withColumnRenamed('turnover_vat_rub_amt', 'zsale_vat')\n",
    "                    .withColumnRenamed('prime_cost_no_vat_amt', 'zcst_n')\n",
    "                    .withColumnRenamed('turnover_base_uom_amt', 'base_qty')\n",
    "                    .withColumnRenamed('discount_amt', 'zdiscount')\n",
    "                    .withColumnRenamed('fact_regular_promo_flg', 'zpromofl')\n",
    "                    .filter(F.col('rtl_txn_dt').between(start_date1, end_date1))\n",
    "                    .filter((F.col('zsalnovat') >= 0) & (F.col('base_qty') >= 0) & (F.col('zcst_n') > 0)) #keep only correct data\n",
    "                        .select('plu_code' #items id\n",
    "                                , 'rtl_txn_id' #cheques id\n",
    "                                , 'zsalnovat'\n",
    "                               )\n",
    "                   )\n"
   ]
  },
  {
   "cell_type": "code",
   "execution_count": 40,
   "id": "96a63338",
   "metadata": {},
   "outputs": [],
   "source": [
    "plu_codes_cat = [3367104,3388814,3672506,3919797,3926055,4046891,4046892,4046893,4118966,4137277]"
   ]
  },
  {
   "cell_type": "code",
   "execution_count": 41,
   "id": "3b4ba453",
   "metadata": {},
   "outputs": [],
   "source": [
    "checks_items = checks_items.filter(F.col('plu_code').isin(plu_codes_cat)) # только чеки с нужными plu"
   ]
  },
  {
   "cell_type": "code",
   "execution_count": 42,
   "id": "bc9bf2e3",
   "metadata": {},
   "outputs": [],
   "source": [
    "checks_tc5 = checks_items.join(checks_headers_tc5, 'rtl_txn_id', how='inner')"
   ]
  },
  {
   "cell_type": "code",
   "execution_count": 43,
   "id": "c5465ecf",
   "metadata": {},
   "outputs": [],
   "source": [
    "week1_start = datetime.date(2021, 12, 2)\n",
    "week1_end = datetime.date(2021, 12, 8)\n",
    "week2_start = datetime.date(2021, 12, 9)\n",
    "week2_end = datetime.date(2021, 12, 15)\n",
    "week3_start = datetime.date(2021, 12, 16)\n",
    "week3_end = datetime.date(2021, 12, 22)\n",
    "week4_start = datetime.date(2021, 12, 23)\n",
    "week4_end = datetime.date(2021, 12, 29)"
   ]
  },
  {
   "cell_type": "code",
   "execution_count": 44,
   "id": "99d9c947",
   "metadata": {},
   "outputs": [],
   "source": [
    "checks_tc5_with_week = (checks_tc5.withColumn('week', F.when(F.col('rtl_txn_dt').between(week1_start, week1_end), \"week1\")\n",
    "                                             .when(F.col('rtl_txn_dt').between(week2_start, week2_end), \"week2\")\n",
    "                                             .when(F.col('rtl_txn_dt').between(week3_start, week3_end), \"week3\")\n",
    "                                             .when(F.col('rtl_txn_dt').between(week4_start, week4_end), \"week4\")\n",
    "                                   ))"
   ]
  },
  {
   "cell_type": "code",
   "execution_count": 45,
   "id": "8760abd5",
   "metadata": {},
   "outputs": [],
   "source": [
    "in_sum = (checks_tc5_with_week.groupby('week').agg(F.sum('zsalnovat').alias('sum_in_target_plu')))"
   ]
  },
  {
   "cell_type": "code",
   "execution_count": 47,
   "id": "a13985a5",
   "metadata": {},
   "outputs": [
    {
     "name": "stderr",
     "output_type": "stream",
     "text": [
      "                                                                                \r"
     ]
    }
   ],
   "source": [
    "in_sum_pd_target_plu = in_sum.toPandas()"
   ]
  },
  {
   "cell_type": "code",
   "execution_count": null,
   "id": "bb5a3e39",
   "metadata": {},
   "outputs": [],
   "source": [
    "in_sum_pd_target_plu.loc[0, 'start_dt'] = '02-12-2021'\n",
    "in_sum_pd_target_plu.loc[0, 'end_dt'] = '08-12-2021'\n",
    "in_sum_pd_target_plu.loc[1, 'start_dt'] = '09-12-2021'\n",
    "in_sum_pd_target_plu.loc[1, 'end_dt'] = '15-12-2021'\n",
    "in_sum_pd_target_plu.loc[2, 'start_dt'] = '16-12-2021'\n",
    "in_sum_pd_target_plu.loc[2, 'end_dt'] = '22-12-2021'\n",
    "in_sum_pd_target_plu.loc[3, 'start_dt'] = '23-12-2021'\n",
    "in_sum_pd_target_plu.loc[3, 'end_dt'] = '29-12-2021'"
   ]
  },
  {
   "cell_type": "code",
   "execution_count": null,
   "id": "293fd657",
   "metadata": {},
   "outputs": [],
   "source": [
    "in_sum_pd_target_plu"
   ]
  },
  {
   "cell_type": "code",
   "execution_count": null,
   "id": "c3ce5192",
   "metadata": {},
   "outputs": [],
   "source": [
    "in_sum_pd_target_plu['prev'] = 0"
   ]
  },
  {
   "cell_type": "code",
   "execution_count": null,
   "id": "ce56894a",
   "metadata": {},
   "outputs": [],
   "source": [
    "for i in range(1, len(in_sum_pd_target_plu)):\n",
    "    in_sum_pd_target_plu.loc[i, 'prev'] = in_sum_pd_target_plu.loc[i-1, 'sum_in_target_plu']"
   ]
  },
  {
   "cell_type": "code",
   "execution_count": null,
   "id": "5c5fc8e6",
   "metadata": {},
   "outputs": [],
   "source": [
    "in_sum_pd_target_plu.loc[0, 'prev'] = in_sum_pd_target_plu.loc[0, 'sum_in_target_plu']"
   ]
  },
  {
   "cell_type": "code",
   "execution_count": null,
   "id": "75576a54",
   "metadata": {},
   "outputs": [],
   "source": [
    "in_sum_pd_target_plu"
   ]
  },
  {
   "cell_type": "code",
   "execution_count": null,
   "id": "aa59533b",
   "metadata": {},
   "outputs": [],
   "source": [
    "in_sum_pd_target_plu.loc[:, ['prev', 'sum_in_target_plu']] = in_sum_pd_target_plu[['prev', 'sum_in_target_plu']].astype('float')"
   ]
  },
  {
   "cell_type": "code",
   "execution_count": null,
   "id": "4a7fa8bd",
   "metadata": {},
   "outputs": [],
   "source": [
    "in_sum_pd_target_plu['%_prev'] = ((in_sum_pd_target_plu['sum_in_target_plu'] - in_sum_pd_target_plu['prev']) * 100 / in_sum_pd_target_plu['prev'])"
   ]
  },
  {
   "cell_type": "code",
   "execution_count": null,
   "id": "ce491ef8",
   "metadata": {},
   "outputs": [],
   "source": [
    "in_sum_pd_target_plu['prev'] = in_sum_pd_target_plu.sum_in_target_plu - in_sum_pd_target_plu.prev"
   ]
  },
  {
   "cell_type": "code",
   "execution_count": null,
   "id": "cb5ce232",
   "metadata": {},
   "outputs": [],
   "source": [
    "in_sum_pd_target_plu"
   ]
  },
  {
   "cell_type": "code",
   "execution_count": null,
   "id": "409190b8",
   "metadata": {},
   "outputs": [],
   "source": [
    "in_sum_pd_target_plu.to_excel('in_sum_stores_target_plu.xlsx', index=False)"
   ]
  },
  {
   "cell_type": "markdown",
   "id": "a49db49d",
   "metadata": {},
   "source": [
    "### Средние чеки КГ и ЦГ в период до кампании и во время кампании"
   ]
  },
  {
   "cell_type": "code",
   "execution_count": 91,
   "id": "d7772eb4",
   "metadata": {},
   "outputs": [],
   "source": [
    "only_control = guests_all.filter(F.col('group').isin(['cg1', 'cg2']))"
   ]
  },
  {
   "cell_type": "code",
   "execution_count": 92,
   "id": "ceece0f3",
   "metadata": {},
   "outputs": [],
   "source": [
    "start_date1 = datetime.date(2021, 12, 16)\n",
    "end_date1 = datetime.date(2021, 12, 22)\n",
    "start_date2 = datetime.date(2021, 12, 23)\n",
    "end_date2 = datetime.date(2021, 12, 29)"
   ]
  },
  {
   "cell_type": "code",
   "execution_count": 93,
   "id": "189959e1",
   "metadata": {},
   "outputs": [],
   "source": [
    "checks_headers = (spark.table(CHECKS_HEADERS)\n",
    "                      .filter(F.col('rtl_txn_dt').between(start_date1, end_date1))\n",
    "                      .filter((F.col('loyalty_card_no') != '') & (F.col('loyalty_card_no').isNotNull()))\n",
    "                      .filter(F.col('financial_unit_format_dk') == 'D')\n",
    "                      .filter(F.col('rtl_txn_cancel_flg') == 0)\n",
    "                      .select('rtl_txn_id', 'loyalty_card_no', 'store_id')\n",
    "                     )\n"
   ]
  },
  {
   "cell_type": "code",
   "execution_count": 94,
   "id": "c74c3bc4",
   "metadata": {},
   "outputs": [],
   "source": [
    "loyalty_cards = (spark\n",
    "                    .table(LOYALTY_CARDS)\n",
    "                    .withColumnRenamed(\"loyalty_card_id\", \"loyalty_card_no\")\n",
    "                    .withColumnRenamed(\"loyalty_account_id\", \"account_no\")\n",
    "                    .withColumnRenamed(\"loyalty_account_acrm_id\", \"account_rk\")\n",
    "                    .select('account_no', 'loyalty_card_no')\n",
    "                )\n",
    "loyalty_cardholders = (spark\n",
    "                        .table(LOYALTY_CARDHOLDERS)\n",
    "                        .withColumnRenamed(\"loyalty_cardholder_acrm_id\", \"customer_rk\")\n",
    "                        .withColumnRenamed(\"loyalty_account_id\", \"account_no\")\n",
    "                        .select('account_no', 'customer_rk')\n",
    "                      )\n",
    "clients_info = loyalty_cards.join(loyalty_cardholders, on='account_no', how='inner')\n",
    "clients_info = clients_info.join(only_target, on='customer_rk', how='inner')\n",
    "clients_info2 = loyalty_cards.join(loyalty_cardholders, on='account_no', how='inner')\n",
    "clients_info2 = clients_info2.join(only_control, on='customer_rk', how='inner')"
   ]
  },
  {
   "cell_type": "code",
   "execution_count": 95,
   "id": "5c687338",
   "metadata": {},
   "outputs": [],
   "source": [
    "checks_headers_tc5 = checks_headers.join(clients_info, on='loyalty_card_no') #оставили чеки только нужных гостей"
   ]
  },
  {
   "cell_type": "code",
   "execution_count": 96,
   "id": "4afe1650",
   "metadata": {},
   "outputs": [],
   "source": [
    "checks_headers_tc52 = checks_headers.join(clients_info2, on='loyalty_card_no') #оставили чеки только нужных гостей"
   ]
  },
  {
   "cell_type": "code",
   "execution_count": 97,
   "id": "a07ed7ed",
   "metadata": {},
   "outputs": [],
   "source": [
    "checks_items = (spark.table(CHECKS_ITEMS) \n",
    "                    .withColumnRenamed('plu_id', 'plu_code')\n",
    "                    .withColumnRenamed('turnover_no_vat_amt', 'zsalnovat')\n",
    "                    .withColumnRenamed('turnover_vat_rub_amt', 'zsale_vat')\n",
    "                    .withColumnRenamed('prime_cost_no_vat_amt', 'zcst_n')\n",
    "                    .withColumnRenamed('turnover_base_uom_amt', 'base_qty')\n",
    "                    .withColumnRenamed('discount_amt', 'zdiscount')\n",
    "                    .withColumnRenamed('fact_regular_promo_flg', 'zpromofl')\n",
    "                    .filter(F.col('rtl_txn_dt').between(start_date1, end_date1))\n",
    "                    .filter((F.col('zsalnovat') >= 0) & (F.col('base_qty') >= 0) & (F.col('zcst_n') > 0)) #keep only correct data\n",
    "                        .select('plu_code' #items id\n",
    "                                , 'rtl_txn_id' #cheques id\n",
    "                               , 'base_qty'\n",
    "                                , 'zsale_vat'\n",
    "                               )\n",
    "                   )\n"
   ]
  },
  {
   "cell_type": "code",
   "execution_count": 98,
   "id": "eabd52dd",
   "metadata": {},
   "outputs": [],
   "source": [
    "checks_tc5 = checks_items.join(checks_headers_tc5, 'rtl_txn_id', how='inner')"
   ]
  },
  {
   "cell_type": "code",
   "execution_count": 108,
   "id": "ced5ccd4",
   "metadata": {},
   "outputs": [],
   "source": [
    "checks_tc52 = checks_items.join(checks_headers_tc52, 'rtl_txn_id', how='inner')"
   ]
  },
  {
   "cell_type": "code",
   "execution_count": 104,
   "id": "c2d16271",
   "metadata": {},
   "outputs": [],
   "source": [
    "avg_checks_until_camp = (checks_tc5.groupby('account_no')\n",
    "                         .agg((F.sum('zsale_vat') / F.countDistinct('rtl_txn_id')).alias('avg_checks'))\n",
    "                         ).agg((F.sum('avg_checks') / F.countDistinct('account_no')).alias('avg_check'))"
   ]
  },
  {
   "cell_type": "code",
   "execution_count": 109,
   "id": "e768e54c",
   "metadata": {},
   "outputs": [],
   "source": [
    "avg_checks_until_camp2 = (checks_tc52.groupby('account_no')\n",
    "                         .agg((F.sum('zsale_vat') / F.countDistinct('rtl_txn_id')).alias('avg_checks'))\n",
    "                         ).agg((F.sum('avg_checks') / F.countDistinct('account_no')).alias('avg_check'))"
   ]
  },
  {
   "cell_type": "code",
   "execution_count": 106,
   "id": "14b97348",
   "metadata": {},
   "outputs": [
    {
     "name": "stderr",
     "output_type": "stream",
     "text": [
      "                                                                                \r"
     ]
    }
   ],
   "source": [
    "avg_checks_until_camp_pd = avg_checks_until_camp.toPandas()"
   ]
  },
  {
   "cell_type": "code",
   "execution_count": 110,
   "id": "29ac8f18",
   "metadata": {},
   "outputs": [
    {
     "name": "stderr",
     "output_type": "stream",
     "text": [
      "                                                                                \r"
     ]
    }
   ],
   "source": [
    "avg_checks_until_camp_pd2 = avg_checks_until_camp2.toPandas()"
   ]
  },
  {
   "cell_type": "code",
   "execution_count": 111,
   "id": "98aa3bd0",
   "metadata": {},
   "outputs": [
    {
     "data": {
      "text/html": [
       "<div>\n",
       "<style scoped>\n",
       "    .dataframe tbody tr th:only-of-type {\n",
       "        vertical-align: middle;\n",
       "    }\n",
       "\n",
       "    .dataframe tbody tr th {\n",
       "        vertical-align: top;\n",
       "    }\n",
       "\n",
       "    .dataframe thead th {\n",
       "        text-align: right;\n",
       "    }\n",
       "</style>\n",
       "<table border=\"1\" class=\"dataframe\">\n",
       "  <thead>\n",
       "    <tr style=\"text-align: right;\">\n",
       "      <th></th>\n",
       "      <th>avg_check</th>\n",
       "    </tr>\n",
       "  </thead>\n",
       "  <tbody>\n",
       "    <tr>\n",
       "      <th>0</th>\n",
       "      <td>657.53798804323</td>\n",
       "    </tr>\n",
       "  </tbody>\n",
       "</table>\n",
       "</div>"
      ],
      "text/plain": [
       "         avg_check\n",
       "0  657.53798804323"
      ]
     },
     "execution_count": 111,
     "metadata": {},
     "output_type": "execute_result"
    }
   ],
   "source": [
    "avg_checks_until_camp_pd"
   ]
  },
  {
   "cell_type": "code",
   "execution_count": 112,
   "id": "e6e24781",
   "metadata": {},
   "outputs": [
    {
     "data": {
      "text/html": [
       "<div>\n",
       "<style scoped>\n",
       "    .dataframe tbody tr th:only-of-type {\n",
       "        vertical-align: middle;\n",
       "    }\n",
       "\n",
       "    .dataframe tbody tr th {\n",
       "        vertical-align: top;\n",
       "    }\n",
       "\n",
       "    .dataframe thead th {\n",
       "        text-align: right;\n",
       "    }\n",
       "</style>\n",
       "<table border=\"1\" class=\"dataframe\">\n",
       "  <thead>\n",
       "    <tr style=\"text-align: right;\">\n",
       "      <th></th>\n",
       "      <th>avg_check</th>\n",
       "    </tr>\n",
       "  </thead>\n",
       "  <tbody>\n",
       "    <tr>\n",
       "      <th>0</th>\n",
       "      <td>652.50187005801</td>\n",
       "    </tr>\n",
       "  </tbody>\n",
       "</table>\n",
       "</div>"
      ],
      "text/plain": [
       "         avg_check\n",
       "0  652.50187005801"
      ]
     },
     "execution_count": 112,
     "metadata": {},
     "output_type": "execute_result"
    }
   ],
   "source": [
    "avg_checks_until_camp_pd2"
   ]
  },
  {
   "cell_type": "code",
   "execution_count": 113,
   "id": "25d82ef7",
   "metadata": {},
   "outputs": [],
   "source": [
    "checks_headers = (spark.table(CHECKS_HEADERS)\n",
    "                      .filter(F.col('rtl_txn_dt').between(start_date2, end_date2))\n",
    "                      .filter((F.col('loyalty_card_no') != '') & (F.col('loyalty_card_no').isNotNull()))\n",
    "                      .filter(F.col('financial_unit_format_dk') == 'D')\n",
    "                      .filter(F.col('rtl_txn_cancel_flg') == 0)\n",
    "                      .select('rtl_txn_id', 'loyalty_card_no', 'store_id')\n",
    "                     )\n"
   ]
  },
  {
   "cell_type": "code",
   "execution_count": 114,
   "id": "916effd1",
   "metadata": {},
   "outputs": [],
   "source": [
    "loyalty_cards = (spark\n",
    "                    .table(LOYALTY_CARDS)\n",
    "                    .withColumnRenamed(\"loyalty_card_id\", \"loyalty_card_no\")\n",
    "                    .withColumnRenamed(\"loyalty_account_id\", \"account_no\")\n",
    "                    .withColumnRenamed(\"loyalty_account_acrm_id\", \"account_rk\")\n",
    "                    .select('account_no', 'loyalty_card_no')\n",
    "                )\n",
    "loyalty_cardholders = (spark\n",
    "                        .table(LOYALTY_CARDHOLDERS)\n",
    "                        .withColumnRenamed(\"loyalty_cardholder_acrm_id\", \"customer_rk\")\n",
    "                        .withColumnRenamed(\"loyalty_account_id\", \"account_no\")\n",
    "                        .select('account_no', 'customer_rk')\n",
    "                      )\n",
    "clients_info = loyalty_cards.join(loyalty_cardholders, on='account_no', how='inner')\n",
    "clients_info = clients_info.join(only_target, on='customer_rk', how='inner')\n",
    "clients_info2 = loyalty_cards.join(loyalty_cardholders, on='account_no', how='inner')\n",
    "clients_info2 = clients_info2.join(only_control, on='customer_rk', how='inner')"
   ]
  },
  {
   "cell_type": "code",
   "execution_count": 115,
   "id": "33748ca8",
   "metadata": {},
   "outputs": [],
   "source": [
    "checks_headers_tc5 = checks_headers.join(clients_info, on='loyalty_card_no') #оставили чеки только нужных гостей"
   ]
  },
  {
   "cell_type": "code",
   "execution_count": 116,
   "id": "efa47fe7",
   "metadata": {},
   "outputs": [],
   "source": [
    "checks_headers_tc52 = checks_headers.join(clients_info2, on='loyalty_card_no') #оставили чеки только нужных гостей"
   ]
  },
  {
   "cell_type": "code",
   "execution_count": 117,
   "id": "d6f2f828",
   "metadata": {},
   "outputs": [],
   "source": [
    "checks_items = (spark.table(CHECKS_ITEMS) \n",
    "                    .withColumnRenamed('plu_id', 'plu_code')\n",
    "                    .withColumnRenamed('turnover_no_vat_amt', 'zsalnovat')\n",
    "                    .withColumnRenamed('turnover_vat_rub_amt', 'zsale_vat')\n",
    "                    .withColumnRenamed('prime_cost_no_vat_amt', 'zcst_n')\n",
    "                    .withColumnRenamed('turnover_base_uom_amt', 'base_qty')\n",
    "                    .withColumnRenamed('discount_amt', 'zdiscount')\n",
    "                    .withColumnRenamed('fact_regular_promo_flg', 'zpromofl')\n",
    "                    .filter(F.col('rtl_txn_dt').between(start_date2, end_date2))\n",
    "                    .filter((F.col('zsalnovat') >= 0) & (F.col('base_qty') >= 0) & (F.col('zcst_n') > 0)) #keep only correct data\n",
    "                        .select('plu_code' #items id\n",
    "                                , 'rtl_txn_id' #cheques id\n",
    "                               , 'base_qty'\n",
    "                                , 'zsale_vat'\n",
    "                               )\n",
    "                   )\n"
   ]
  },
  {
   "cell_type": "code",
   "execution_count": 118,
   "id": "bdaec063",
   "metadata": {},
   "outputs": [],
   "source": [
    "checks_tc5 = checks_items.join(checks_headers_tc5, 'rtl_txn_id', how='inner')"
   ]
  },
  {
   "cell_type": "code",
   "execution_count": 119,
   "id": "15714d75",
   "metadata": {},
   "outputs": [],
   "source": [
    "checks_tc52 = checks_items.join(checks_headers_tc52, 'rtl_txn_id', how='inner')"
   ]
  },
  {
   "cell_type": "code",
   "execution_count": 120,
   "id": "bcad5b0d",
   "metadata": {},
   "outputs": [],
   "source": [
    "avg_checks_in_camp = (checks_tc5.groupby('account_no')\n",
    "                         .agg((F.sum('zsale_vat') / F.countDistinct('rtl_txn_id')).alias('avg_checks'))\n",
    "                         ).agg((F.sum('avg_checks') / F.countDistinct('account_no')).alias('avg_check'))"
   ]
  },
  {
   "cell_type": "code",
   "execution_count": 121,
   "id": "22b6b7cf",
   "metadata": {},
   "outputs": [],
   "source": [
    "avg_checks_in_camp2 = (checks_tc52.groupby('account_no')\n",
    "                         .agg((F.sum('zsale_vat') / F.countDistinct('rtl_txn_id')).alias('avg_checks'))\n",
    "                         ).agg((F.sum('avg_checks') / F.countDistinct('account_no')).alias('avg_check'))"
   ]
  },
  {
   "cell_type": "code",
   "execution_count": 122,
   "id": "128c5619",
   "metadata": {},
   "outputs": [
    {
     "name": "stderr",
     "output_type": "stream",
     "text": [
      "                                                                                ]\r"
     ]
    }
   ],
   "source": [
    "avg_checks_in_camp_pd = avg_checks_in_camp.toPandas()"
   ]
  },
  {
   "cell_type": "code",
   "execution_count": 126,
   "id": "ebdbdc85",
   "metadata": {
    "scrolled": true
   },
   "outputs": [
    {
     "name": "stderr",
     "output_type": "stream",
     "text": [
      "                                                                                \r"
     ]
    }
   ],
   "source": [
    "avg_checks_in_camp_pd2 = avg_checks_in_camp2.toPandas()"
   ]
  },
  {
   "cell_type": "code",
   "execution_count": 124,
   "id": "26e0dcd7",
   "metadata": {},
   "outputs": [
    {
     "data": {
      "text/html": [
       "<div>\n",
       "<style scoped>\n",
       "    .dataframe tbody tr th:only-of-type {\n",
       "        vertical-align: middle;\n",
       "    }\n",
       "\n",
       "    .dataframe tbody tr th {\n",
       "        vertical-align: top;\n",
       "    }\n",
       "\n",
       "    .dataframe thead th {\n",
       "        text-align: right;\n",
       "    }\n",
       "</style>\n",
       "<table border=\"1\" class=\"dataframe\">\n",
       "  <thead>\n",
       "    <tr style=\"text-align: right;\">\n",
       "      <th></th>\n",
       "      <th>avg_check</th>\n",
       "    </tr>\n",
       "  </thead>\n",
       "  <tbody>\n",
       "    <tr>\n",
       "      <th>0</th>\n",
       "      <td>735.18779490930</td>\n",
       "    </tr>\n",
       "  </tbody>\n",
       "</table>\n",
       "</div>"
      ],
      "text/plain": [
       "         avg_check\n",
       "0  735.18779490930"
      ]
     },
     "execution_count": 124,
     "metadata": {},
     "output_type": "execute_result"
    }
   ],
   "source": [
    "avg_checks_in_camp_pd"
   ]
  },
  {
   "cell_type": "code",
   "execution_count": 127,
   "id": "6b37c90c",
   "metadata": {},
   "outputs": [
    {
     "data": {
      "text/html": [
       "<div>\n",
       "<style scoped>\n",
       "    .dataframe tbody tr th:only-of-type {\n",
       "        vertical-align: middle;\n",
       "    }\n",
       "\n",
       "    .dataframe tbody tr th {\n",
       "        vertical-align: top;\n",
       "    }\n",
       "\n",
       "    .dataframe thead th {\n",
       "        text-align: right;\n",
       "    }\n",
       "</style>\n",
       "<table border=\"1\" class=\"dataframe\">\n",
       "  <thead>\n",
       "    <tr style=\"text-align: right;\">\n",
       "      <th></th>\n",
       "      <th>avg_check</th>\n",
       "    </tr>\n",
       "  </thead>\n",
       "  <tbody>\n",
       "    <tr>\n",
       "      <th>0</th>\n",
       "      <td>723.03533688746</td>\n",
       "    </tr>\n",
       "  </tbody>\n",
       "</table>\n",
       "</div>"
      ],
      "text/plain": [
       "         avg_check\n",
       "0  723.03533688746"
      ]
     },
     "execution_count": 127,
     "metadata": {},
     "output_type": "execute_result"
    }
   ],
   "source": [
    "avg_checks_in_camp_pd2"
   ]
  },
  {
   "cell_type": "code",
   "execution_count": 144,
   "id": "0ddd28eb",
   "metadata": {},
   "outputs": [],
   "source": [
    "avg_checks = avg_checks_until_camp_pd.append(avg_checks_until_camp_pd2).append(avg_checks_in_camp_pd).append(avg_checks_in_camp_pd2).reset_index(drop=True)"
   ]
  },
  {
   "cell_type": "code",
   "execution_count": 145,
   "id": "fa3ad6e7",
   "metadata": {},
   "outputs": [],
   "source": [
    "avg_checks = avg_checks.astype('float')"
   ]
  },
  {
   "cell_type": "code",
   "execution_count": 146,
   "id": "f09d36e6",
   "metadata": {},
   "outputs": [],
   "source": [
    "avg_checks = round(avg_checks, 2)"
   ]
  },
  {
   "cell_type": "code",
   "execution_count": 148,
   "id": "ee479eeb",
   "metadata": {},
   "outputs": [],
   "source": [
    "avg_checks.loc[0, 'label'] = 'until_target'\n",
    "avg_checks.loc[1, 'label'] = 'until_control'\n",
    "avg_checks.loc[2, 'label'] = 'in_target'\n",
    "avg_checks.loc[3, 'label'] = 'in_control'"
   ]
  },
  {
   "cell_type": "code",
   "execution_count": 150,
   "id": "2bff6f3b",
   "metadata": {},
   "outputs": [],
   "source": [
    "avg_checks.loc[2, '+%'] = (avg_checks.iloc[2, 0] - avg_checks.iloc[0, 0]) * 100 / avg_checks.iloc[0, 0]\n",
    "avg_checks.loc[3, '+%'] = (avg_checks.iloc[3, 0] - avg_checks.iloc[1, 0]) * 100 / avg_checks.iloc[1, 0]"
   ]
  },
  {
   "cell_type": "code",
   "execution_count": 151,
   "id": "5194a748",
   "metadata": {},
   "outputs": [
    {
     "data": {
      "text/html": [
       "<div>\n",
       "<style scoped>\n",
       "    .dataframe tbody tr th:only-of-type {\n",
       "        vertical-align: middle;\n",
       "    }\n",
       "\n",
       "    .dataframe tbody tr th {\n",
       "        vertical-align: top;\n",
       "    }\n",
       "\n",
       "    .dataframe thead th {\n",
       "        text-align: right;\n",
       "    }\n",
       "</style>\n",
       "<table border=\"1\" class=\"dataframe\">\n",
       "  <thead>\n",
       "    <tr style=\"text-align: right;\">\n",
       "      <th></th>\n",
       "      <th>avg_check</th>\n",
       "      <th>label</th>\n",
       "      <th>+%</th>\n",
       "    </tr>\n",
       "  </thead>\n",
       "  <tbody>\n",
       "    <tr>\n",
       "      <th>0</th>\n",
       "      <td>657.54</td>\n",
       "      <td>until_target</td>\n",
       "      <td>NaN</td>\n",
       "    </tr>\n",
       "    <tr>\n",
       "      <th>1</th>\n",
       "      <td>652.50</td>\n",
       "      <td>until_control</td>\n",
       "      <td>NaN</td>\n",
       "    </tr>\n",
       "    <tr>\n",
       "      <th>2</th>\n",
       "      <td>735.19</td>\n",
       "      <td>in_target</td>\n",
       "      <td>11.81</td>\n",
       "    </tr>\n",
       "    <tr>\n",
       "      <th>3</th>\n",
       "      <td>723.04</td>\n",
       "      <td>in_control</td>\n",
       "      <td>10.81</td>\n",
       "    </tr>\n",
       "  </tbody>\n",
       "</table>\n",
       "</div>"
      ],
      "text/plain": [
       "   avg_check          label    +%\n",
       "0     657.54   until_target   NaN\n",
       "1     652.50  until_control   NaN\n",
       "2     735.19      in_target 11.81\n",
       "3     723.04     in_control 10.81"
      ]
     },
     "execution_count": 151,
     "metadata": {},
     "output_type": "execute_result"
    }
   ],
   "source": [
    "avg_checks"
   ]
  },
  {
   "cell_type": "code",
   "execution_count": 152,
   "id": "a6787dda",
   "metadata": {},
   "outputs": [],
   "source": [
    "avg_checks.to_excel('avg_checks.xlsx', index=False)"
   ]
  },
  {
   "cell_type": "markdown",
   "id": "ef37b6d6",
   "metadata": {},
   "source": [
    "### 5. Разложить по персонам тех, кому была коммуникация."
   ]
  },
  {
   "cell_type": "code",
   "execution_count": 43,
   "id": "89cbf169",
   "metadata": {},
   "outputs": [],
   "source": [
    "commun_second_camp = experiment_guests_communications.filter(F.col('is_communicated') == 1).select('customer_rk')"
   ]
  },
  {
   "cell_type": "code",
   "execution_count": 48,
   "id": "606f0c6d",
   "metadata": {},
   "outputs": [],
   "source": [
    "seg_segmentation_2_camp = commun_second_camp.join(client_segmentation, 'customer_rk', 'inner')"
   ]
  },
  {
   "cell_type": "code",
   "execution_count": 49,
   "id": "ca4083c1",
   "metadata": {},
   "outputs": [
    {
     "name": "stderr",
     "output_type": "stream",
     "text": [
      "                                                                                0]]]]\r"
     ]
    }
   ],
   "source": [
    "seg_segmentation_2_camp_pd = seg_segmentation_2_camp.toPandas()"
   ]
  },
  {
   "cell_type": "code",
   "execution_count": 56,
   "id": "db2d3281",
   "metadata": {},
   "outputs": [],
   "source": [
    "seg_segmentation_1_camp = guests_tg1.join(client_segmentation, 'customer_rk', 'inner')"
   ]
  },
  {
   "cell_type": "code",
   "execution_count": null,
   "id": "ea8a7200",
   "metadata": {},
   "outputs": [],
   "source": [
    "seg_segmentation_1_camp_pd = seg_segmentation_1_camp.toPandas()"
   ]
  },
  {
   "cell_type": "code",
   "execution_count": 63,
   "id": "da967e2c",
   "metadata": {},
   "outputs": [],
   "source": [
    "grouped_1 = seg_segmentation_1_camp_pd.groupby('segment_person')['customer_rk'].count().reset_index()\n",
    "grouped_2 = seg_segmentation_2_camp_pd.groupby('segment_person')['customer_rk'].count().reset_index()"
   ]
  },
  {
   "cell_type": "code",
   "execution_count": 69,
   "id": "fcfc6ba8",
   "metadata": {},
   "outputs": [],
   "source": [
    "grouped_1.to_excel('grouped_camp1.xlsx', index=False)\n",
    "grouped_2.to_excel('grouped_camp2.xlsx', index=False)"
   ]
  },
  {
   "cell_type": "markdown",
   "id": "8722090a",
   "metadata": {},
   "source": [
    "### 6. Еще раз отобрать гостей в категории сыров"
   ]
  },
  {
   "cell_type": "markdown",
   "id": "8ea89b41",
   "metadata": {},
   "source": [
    "##### Выбираем гостей нужного юзкейса"
   ]
  },
  {
   "cell_type": "code",
   "execution_count": 7,
   "id": "0c9c017b",
   "metadata": {},
   "outputs": [],
   "source": [
    "usecase = ['churn', 'frequency', 'upgrade', 'cross', 'ump']\n",
    "dt = datetime.date.today()"
   ]
  },
  {
   "cell_type": "code",
   "execution_count": 8,
   "id": "1a30534d",
   "metadata": {},
   "outputs": [],
   "source": [
    "customers_usecase = (spark\n",
    "                     .table(CVM5_GUESTS)\n",
    "                     .filter(F.to_date('calculation_dt') == dt)\n",
    "                     .filter(F.col('usecase').isin(usecase))\n",
    "                     .select('account_no', 'customer_rk')\n",
    "                            )\n"
   ]
  },
  {
   "cell_type": "code",
   "execution_count": 9,
   "id": "a8891224",
   "metadata": {},
   "outputs": [
    {
     "name": "stderr",
     "output_type": "stream",
     "text": [
      "[Stage 0:=============================>                            (5 + 5) / 10]22/02/21 14:43:31 ERROR cluster.YarnScheduler: Lost executor 2 on mn-hd0149.x5.ru: Container container_e1331_1645433512905_3051_01_000004 on host: mn-hd0149.x5.ru was preempted.\n",
      "[Stage 0:====================================================>     (9 + 1) / 10]"
     ]
    },
    {
     "name": "stdout",
     "output_type": "stream",
     "text": [
      "49592598\n"
     ]
    },
    {
     "name": "stderr",
     "output_type": "stream",
     "text": [
      "                                                                                \r"
     ]
    }
   ],
   "source": [
    "print(customers_usecase.count()) #"
   ]
  },
  {
   "cell_type": "markdown",
   "id": "157a425b",
   "metadata": {},
   "source": [
    "### 1 проверяем на доступность отобранных гостей в определенную дату"
   ]
  },
  {
   "cell_type": "code",
   "execution_count": 74,
   "id": "ae0f2204",
   "metadata": {},
   "outputs": [],
   "source": [
    "check_date = '2022-04-01'"
   ]
  },
  {
   "cell_type": "code",
   "execution_count": 75,
   "id": "4c1ddb02",
   "metadata": {},
   "outputs": [
    {
     "name": "stdout",
     "output_type": "stream",
     "text": [
      "\u001b[93m Время выполнения: 0:00:04\n"
     ]
    }
   ],
   "source": [
    "seg_sms1 = (sms_channel_filters_glowbyte(spark=spark,\n",
    "                                         guests=customers_usecase, \n",
    "                                         usecase_name=usecase[0], \n",
    "                                         check_date=check_date, \n",
    "                                         debug_mode=False\n",
    "                                        )\n",
    "                                    .select('customer_rk')\n",
    "                                    .distinct()\n",
    "           )"
   ]
  },
  {
   "cell_type": "code",
   "execution_count": 76,
   "id": "72469dc1",
   "metadata": {},
   "outputs": [
    {
     "name": "stdout",
     "output_type": "stream",
     "text": [
      "\u001b[93m Время выполнения: 0:00:05\n"
     ]
    }
   ],
   "source": [
    "seg_sms2 = (sms_channel_filters_glowbyte(spark=spark,\n",
    "                                         guests=customers_usecase, \n",
    "                                         usecase_name=usecase[1], \n",
    "                                         check_date=check_date, \n",
    "                                         debug_mode=False)\n",
    "                                    .select('customer_rk')\n",
    "                                    .distinct()\n",
    "           )"
   ]
  },
  {
   "cell_type": "code",
   "execution_count": 77,
   "id": "446aa332",
   "metadata": {},
   "outputs": [
    {
     "name": "stdout",
     "output_type": "stream",
     "text": [
      "\u001b[93m Время выполнения: 0:00:05\n"
     ]
    }
   ],
   "source": [
    "seg_sms3 = (sms_channel_filters_glowbyte(spark=spark,\n",
    "                                         guests=customers_usecase, \n",
    "                                         usecase_name=usecase[2], \n",
    "                                         check_date=check_date, \n",
    "                                         debug_mode=False)\n",
    "                                    .select('customer_rk')\n",
    "                                    .distinct()\n",
    "           )"
   ]
  },
  {
   "cell_type": "code",
   "execution_count": 78,
   "id": "34315086",
   "metadata": {},
   "outputs": [
    {
     "name": "stdout",
     "output_type": "stream",
     "text": [
      "\u001b[93m Время выполнения: 0:00:03\n"
     ]
    }
   ],
   "source": [
    "seg_sms4 = (sms_channel_filters_glowbyte(spark=spark,\n",
    "                                         guests=customers_usecase, \n",
    "                                         usecase_name=usecase[3], \n",
    "                                         check_date=check_date, \n",
    "                                         debug_mode=False)\n",
    "                                    .select('customer_rk')\n",
    "                                    .distinct()\n",
    "           )"
   ]
  },
  {
   "cell_type": "code",
   "execution_count": 79,
   "id": "f93191a1",
   "metadata": {},
   "outputs": [
    {
     "name": "stdout",
     "output_type": "stream",
     "text": [
      "\u001b[93m Время выполнения: 0:00:04\n"
     ]
    }
   ],
   "source": [
    "seg_sms5 = (sms_channel_filters_glowbyte(spark=spark,\n",
    "                                         guests=customers_usecase, \n",
    "                                         usecase_name=usecase[4], \n",
    "                                         check_date=check_date, \n",
    "                                         debug_mode=False)\n",
    "                                    .select('customer_rk')\n",
    "                                    .distinct()\n",
    "           )"
   ]
  },
  {
   "cell_type": "code",
   "execution_count": 80,
   "id": "05c3381d",
   "metadata": {},
   "outputs": [],
   "source": [
    "seg_sms = seg_sms1.union(seg_sms2).union(seg_sms3).union(seg_sms4).union(seg_sms5).distinct()"
   ]
  },
  {
   "cell_type": "code",
   "execution_count": 10,
   "id": "25f2021e",
   "metadata": {},
   "outputs": [
    {
     "name": "stderr",
     "output_type": "stream",
     "text": [
      "                                                                                \r"
     ]
    }
   ],
   "source": [
    "# seg_sms.write.parquet('temp1066_seg_sms', mode='overwrite')\n",
    "seg_sms = spark.read.parquet('temp1066_seg_sms')"
   ]
  },
  {
   "cell_type": "code",
   "execution_count": 83,
   "id": "476d26fd",
   "metadata": {},
   "outputs": [
    {
     "name": "stderr",
     "output_type": "stream",
     "text": [
      "                                                                                \r"
     ]
    },
    {
     "data": {
      "text/plain": [
       "25431517"
      ]
     },
     "execution_count": 83,
     "metadata": {},
     "output_type": "execute_result"
    }
   ],
   "source": [
    "seg_sms.count() #"
   ]
  },
  {
   "cell_type": "code",
   "execution_count": 84,
   "id": "fb07b821",
   "metadata": {},
   "outputs": [
    {
     "name": "stdout",
     "output_type": "stream",
     "text": [
      "\u001b[93m Время выполнения: 0:00:03\n"
     ]
    }
   ],
   "source": [
    "slip1 = (slip_check_channel_filters_glowbyte(spark=spark,\n",
    "                                         guests=customers_usecase, \n",
    "                                         usecase_name=usecase[0], \n",
    "                                         check_date=check_date, \n",
    "                                         debug_mode=False\n",
    "                                        )\n",
    "                                    .select('customer_rk')\n",
    "                                    .distinct()\n",
    "           )"
   ]
  },
  {
   "cell_type": "code",
   "execution_count": 85,
   "id": "60d45f34",
   "metadata": {},
   "outputs": [
    {
     "name": "stderr",
     "output_type": "stream",
     "text": [
      "22/02/17 15:22:41 ERROR client.TransportResponseHandler: Still have 1 requests outstanding when connection from /192.168.234.58:42370 is closed\n"
     ]
    },
    {
     "name": "stdout",
     "output_type": "stream",
     "text": [
      "\u001b[93m Время выполнения: 0:00:02\n"
     ]
    }
   ],
   "source": [
    "slip2 = (slip_check_channel_filters_glowbyte(spark=spark,\n",
    "                                         guests=customers_usecase, \n",
    "                                         usecase_name=usecase[1], \n",
    "                                         check_date=check_date, \n",
    "                                         debug_mode=False)\n",
    "                                    .select('customer_rk')\n",
    "                                    .distinct()\n",
    "           )"
   ]
  },
  {
   "cell_type": "code",
   "execution_count": 86,
   "id": "9e90e28a",
   "metadata": {},
   "outputs": [
    {
     "name": "stdout",
     "output_type": "stream",
     "text": [
      "\u001b[93m Время выполнения: 0:00:02\n"
     ]
    }
   ],
   "source": [
    "slip3 = (slip_check_channel_filters_glowbyte(spark=spark,\n",
    "                                         guests=customers_usecase, \n",
    "                                         usecase_name=usecase[2], \n",
    "                                         check_date=check_date, \n",
    "                                         debug_mode=False)\n",
    "                                    .select('customer_rk')\n",
    "                                    .distinct()\n",
    "           )"
   ]
  },
  {
   "cell_type": "code",
   "execution_count": 87,
   "id": "c04cac9b",
   "metadata": {},
   "outputs": [
    {
     "name": "stdout",
     "output_type": "stream",
     "text": [
      "\u001b[93m Время выполнения: 0:00:05\n"
     ]
    }
   ],
   "source": [
    "slip4 = (slip_check_channel_filters_glowbyte(spark=spark,\n",
    "                                         guests=customers_usecase, \n",
    "                                         usecase_name=usecase[3], \n",
    "                                         check_date=check_date, \n",
    "                                         debug_mode=False)\n",
    "                                    .select('customer_rk')\n",
    "                                    .distinct()\n",
    "           )"
   ]
  },
  {
   "cell_type": "code",
   "execution_count": 88,
   "id": "14be64d1",
   "metadata": {},
   "outputs": [
    {
     "name": "stdout",
     "output_type": "stream",
     "text": [
      "\u001b[93m Время выполнения: 0:00:04\n"
     ]
    }
   ],
   "source": [
    "slip5 = (slip_check_channel_filters_glowbyte(spark=spark,\n",
    "                                         guests=customers_usecase, \n",
    "                                         usecase_name=usecase[4], \n",
    "                                         check_date=check_date, \n",
    "                                         debug_mode=False)\n",
    "                                    .select('customer_rk')\n",
    "                                    .distinct()\n",
    "           )"
   ]
  },
  {
   "cell_type": "code",
   "execution_count": 89,
   "id": "43b755e4",
   "metadata": {},
   "outputs": [],
   "source": [
    "slip = slip1.union(slip2).union(slip3).union(slip4).union(slip5).distinct()"
   ]
  },
  {
   "cell_type": "code",
   "execution_count": 11,
   "id": "d59e8ef7",
   "metadata": {},
   "outputs": [],
   "source": [
    "# slip.write.parquet('temp1066_slip', mode='overwrite')\n",
    "slip = spark.read.parquet('temp1066_slip')"
   ]
  },
  {
   "cell_type": "code",
   "execution_count": 91,
   "id": "4c6a9823",
   "metadata": {},
   "outputs": [
    {
     "name": "stderr",
     "output_type": "stream",
     "text": [
      "                                                                                \r"
     ]
    },
    {
     "data": {
      "text/plain": [
       "44036344"
      ]
     },
     "execution_count": 91,
     "metadata": {},
     "output_type": "execute_result"
    }
   ],
   "source": [
    "slip.count() #"
   ]
  },
  {
   "cell_type": "markdown",
   "id": "54c15ac0",
   "metadata": {},
   "source": [
    "## Отбор магазинов из таблицы Excel"
   ]
  },
  {
   "cell_type": "code",
   "execution_count": 12,
   "id": "56637989",
   "metadata": {},
   "outputs": [],
   "source": [
    "stores = pd.read_excel('need_info_stores.xlsx')"
   ]
  },
  {
   "cell_type": "code",
   "execution_count": 13,
   "id": "d2105256",
   "metadata": {},
   "outputs": [],
   "source": [
    "stores = stores['financial_unit_id'].tolist()"
   ]
  },
  {
   "cell_type": "code",
   "execution_count": 14,
   "id": "0b91422b",
   "metadata": {},
   "outputs": [
    {
     "data": {
      "text/plain": [
       "2583"
      ]
     },
     "execution_count": 14,
     "metadata": {},
     "output_type": "execute_result"
    }
   ],
   "source": [
    "len(stores)"
   ]
  },
  {
   "cell_type": "code",
   "execution_count": 15,
   "id": "0f6a662d",
   "metadata": {},
   "outputs": [
    {
     "name": "stderr",
     "output_type": "stream",
     "text": [
      "                                                                                \r"
     ]
    },
    {
     "data": {
      "text/plain": [
       "3010"
      ]
     },
     "execution_count": 15,
     "metadata": {},
     "output_type": "execute_result"
    }
   ],
   "source": [
    "plants = (spark.table(DIM_STORE)\n",
    "            .filter(F.col('valid_to_dttm')== datetime.datetime(5999, 1, 1, 0, 0))\n",
    "            .filter(F.col('financial_unit_id').isin(stores))\n",
    "            .selectExpr('store_id as plant')\n",
    "            .distinct()\n",
    "            .toPandas()['plant']\n",
    "            .tolist()\n",
    "            )\n",
    "\n",
    "len(plants)"
   ]
  },
  {
   "cell_type": "markdown",
   "id": "c45f889b",
   "metadata": {},
   "source": [
    "### Собираем чеки этих гостей и оставляем тех, кто покупал продукты с synthetic_catalog_id"
   ]
  },
  {
   "cell_type": "code",
   "execution_count": 16,
   "id": "734f0976",
   "metadata": {},
   "outputs": [],
   "source": [
    "start_date = datetime.date(2021, 11, 16)\n",
    "end_date = datetime.date(2022, 2, 15)"
   ]
  },
  {
   "cell_type": "code",
   "execution_count": 17,
   "id": "f5adc537",
   "metadata": {},
   "outputs": [],
   "source": [
    "checks_headers = (spark.table(CHECKS_HEADERS)\n",
    "                      .filter(F.col('rtl_txn_dt').between(start_date, end_date))\n",
    "                      .filter((F.col('loyalty_card_no') != '') & (F.col('loyalty_card_no').isNotNull()))\n",
    "                      .filter(F.col('financial_unit_format_dk') == 'D')\n",
    "                      .filter(F.col('rtl_txn_cancel_flg') == 0)\n",
    "                      .select('rtl_txn_id', 'loyalty_card_no', 'store_id')\n",
    "                     )\n"
   ]
  },
  {
   "cell_type": "code",
   "execution_count": 18,
   "id": "7589ab61",
   "metadata": {},
   "outputs": [],
   "source": [
    "checks_headers_tc5 = checks_headers.filter(F.col('store_id').isin(plants)) #оставили чеки только с нужными магазинами"
   ]
  },
  {
   "cell_type": "code",
   "execution_count": 19,
   "id": "cbb58a21",
   "metadata": {},
   "outputs": [],
   "source": [
    "checks_headers_tc52 = checks_headers.filter(F.col('store_id').isin(plants)) #оставили чеки только с нужными магазинами"
   ]
  },
  {
   "cell_type": "code",
   "execution_count": 20,
   "id": "c2af884f",
   "metadata": {},
   "outputs": [],
   "source": [
    "loyalty_cards = (spark\n",
    "                    .table(LOYALTY_CARDS)\n",
    "                    .withColumnRenamed(\"loyalty_card_id\", \"loyalty_card_no\")\n",
    "                    .withColumnRenamed(\"loyalty_account_id\", \"account_no\")\n",
    "                    .withColumnRenamed(\"loyalty_account_acrm_id\", \"account_rk\")\n",
    "                    .select('account_no', 'loyalty_card_no')\n",
    "                )\n",
    "loyalty_cardholders = (spark\n",
    "                        .table(LOYALTY_CARDHOLDERS)\n",
    "                        .withColumnRenamed(\"loyalty_cardholder_acrm_id\", \"customer_rk\")\n",
    "                        .withColumnRenamed(\"loyalty_account_id\", \"account_no\")\n",
    "                        .select('account_no', 'customer_rk')\n",
    "                      )\n",
    "clients_info = loyalty_cards.join(loyalty_cardholders, on='account_no', how='inner')\n",
    "clients_info = clients_info.join(seg_sms, on='customer_rk', how='inner')\n",
    "clients_info2 = loyalty_cards.join(loyalty_cardholders, on='account_no', how='inner')\n",
    "clients_info2 = clients_info2.join(slip, on='customer_rk', how='inner')"
   ]
  },
  {
   "cell_type": "code",
   "execution_count": 21,
   "id": "6f8e078a",
   "metadata": {},
   "outputs": [],
   "source": [
    "checks_headers_tc5 = checks_headers_tc5.join(clients_info, on='loyalty_card_no') #оставили чеки только нужных гостей"
   ]
  },
  {
   "cell_type": "code",
   "execution_count": 22,
   "id": "f9b36f53",
   "metadata": {},
   "outputs": [],
   "source": [
    "checks_headers_tc52 = checks_headers_tc52.join(clients_info2, on='loyalty_card_no') #оставили чеки только нужных гостей"
   ]
  },
  {
   "cell_type": "code",
   "execution_count": 23,
   "id": "6313bd48",
   "metadata": {},
   "outputs": [],
   "source": [
    "checks_items = (spark.table(CHECKS_ITEMS) \n",
    "                    .withColumnRenamed('plu_id', 'plu_code')\n",
    "                    .withColumnRenamed('turnover_no_vat_amt', 'zsalnovat')\n",
    "                    .withColumnRenamed('turnover_vat_rub_amt', 'zsale_vat')\n",
    "                    .withColumnRenamed('prime_cost_no_vat_amt', 'zcst_n')\n",
    "                    .withColumnRenamed('turnover_base_uom_amt', 'base_qty')\n",
    "                    .withColumnRenamed('discount_amt', 'zdiscount')\n",
    "                    .withColumnRenamed('fact_regular_promo_flg', 'zpromofl')\n",
    "                    .filter(F.col('rtl_txn_dt').between(start_date, end_date))\n",
    "                    .filter((F.col('zsalnovat') >= 0) & (F.col('base_qty') >= 0) & (F.col('zcst_n') > 0)) #keep only correct data\n",
    "                        .select('plu_code' #items id\n",
    "                                , 'rtl_txn_id' #cheques id\n",
    "                               , 'base_qty'\n",
    "                               )\n",
    "                   )\n"
   ]
  },
  {
   "cell_type": "code",
   "execution_count": 24,
   "id": "38a068c9",
   "metadata": {},
   "outputs": [],
   "source": [
    "# plu_hierarchy_lvl_4_dk = ['FR0604001', 'FR0608005', 'FR0604002', 'FR0608001'] #сметана, молоко, кефир\n",
    "syntethic_category_id = [103]\n",
    "# plu_brand_code = ['2452']\n",
    "# plu_vendor_nm = ['Данон']\n",
    "# plu_not_in = [4138521]"
   ]
  },
  {
   "cell_type": "code",
   "execution_count": 25,
   "id": "c13d9e60",
   "metadata": {},
   "outputs": [
    {
     "name": "stderr",
     "output_type": "stream",
     "text": [
      "                                                                                \r"
     ]
    }
   ],
   "source": [
    "plu_codes_cat = (spark\n",
    "                 .table(PRODUCTS)\n",
    "#                  .filter(F.col('plu_hierarchy_lvl_4_dk').isin(plu_hierarchy_lvl_4_dk))\n",
    "#                  .filter(F.col('plu_vendor_nm').isin(plu_vendor_nm))\n",
    "                 .filter(F.col('syntethic_category_id').isin(syntethic_category_id))\n",
    "#                  .filter(F.col('plu_brand_code').isin(plu_brand_code))\n",
    "#                  .filter(~F.col('plu_id').isin(plu_not_in))\n",
    "                 .select('plu_id')\n",
    "                 .distinct()\n",
    "                 .toPandas()['plu_id']\n",
    "                 .tolist()\n",
    "                )"
   ]
  },
  {
   "cell_type": "code",
   "execution_count": 26,
   "id": "552975f9",
   "metadata": {},
   "outputs": [],
   "source": [
    "checks_items = checks_items.filter(F.col('plu_code').isin(plu_codes_cat)) # только чеки с нужными plu"
   ]
  },
  {
   "cell_type": "code",
   "execution_count": 27,
   "id": "dd40d755",
   "metadata": {},
   "outputs": [],
   "source": [
    "checks_tc5 = checks_items.join(checks_headers_tc5, 'rtl_txn_id', how='inner')"
   ]
  },
  {
   "cell_type": "code",
   "execution_count": 28,
   "id": "4cc485b1",
   "metadata": {},
   "outputs": [],
   "source": [
    "checks_tc52 = checks_items.join(checks_headers_tc52, 'rtl_txn_id', how='inner')"
   ]
  },
  {
   "cell_type": "code",
   "execution_count": 29,
   "id": "a94e8249",
   "metadata": {},
   "outputs": [],
   "source": [
    "seg1 = (checks_tc5.withColumn('group', F.lit('sms'))\n",
    "                  .select('customer_rk', 'group')\n",
    "                  .distinct()\n",
    "      )"
   ]
  },
  {
   "cell_type": "code",
   "execution_count": 30,
   "id": "464bd0b8",
   "metadata": {},
   "outputs": [],
   "source": [
    "seg2 = (checks_tc52.withColumn('group', F.lit('slip'))\n",
    "                  .select('customer_rk', 'group')\n",
    "                  .distinct()\n",
    "      )"
   ]
  },
  {
   "cell_type": "code",
   "execution_count": 31,
   "id": "296b0696",
   "metadata": {},
   "outputs": [],
   "source": [
    "seg = seg1.union(seg2).distinct()"
   ]
  },
  {
   "cell_type": "code",
   "execution_count": 95,
   "id": "6e4d6e17",
   "metadata": {},
   "outputs": [
    {
     "name": "stderr",
     "output_type": "stream",
     "text": [
      "                                                                                ]2]\r"
     ]
    }
   ],
   "source": [
    "seg.write.parquet('temp1066_seg_all_cheese', mode='overwrite')\n",
    "seg = spark.read.parquet('temp1066_seg_all_cheese')"
   ]
  },
  {
   "cell_type": "code",
   "execution_count": 96,
   "id": "b72d2ba0",
   "metadata": {
    "scrolled": true
   },
   "outputs": [
    {
     "name": "stderr",
     "output_type": "stream",
     "text": [
      "                                                                                \r"
     ]
    },
    {
     "data": {
      "text/plain": [
       "4152460"
      ]
     },
     "execution_count": 96,
     "metadata": {},
     "output_type": "execute_result"
    }
   ],
   "source": [
    "seg.count()"
   ]
  },
  {
   "cell_type": "code",
   "execution_count": 76,
   "id": "71948fae",
   "metadata": {},
   "outputs": [],
   "source": [
    "customers_churn = (spark\n",
    "                     .table(CVM5_GUESTS)\n",
    "                     .filter(F.to_date('calculation_dt') == dt)\n",
    "                     .filter(F.col('usecase').isin([usecase[0]]))\n",
    "                     .select('account_no', 'customer_rk')\n",
    "                            )\n",
    "customers_freq = (spark\n",
    "                     .table(CVM5_GUESTS)\n",
    "                     .filter(F.to_date('calculation_dt') == dt)\n",
    "                     .filter(F.col('usecase').isin([usecase[1]]))\n",
    "                     .select('account_no', 'customer_rk')\n",
    "                            )\n"
   ]
  },
  {
   "cell_type": "code",
   "execution_count": 98,
   "id": "927bd847",
   "metadata": {},
   "outputs": [],
   "source": [
    "seg_churn = seg.join(customers_churn, 'customer_rk', 'inner')\n",
    "seg_freq = seg.join(customers_freq, 'customer_rk', 'inner')\n",
    "seg_others = seg.join(seg_churn, 'customer_rk', 'left_anti').join(seg_freq, 'customer_rk', 'left_anti')"
   ]
  },
  {
   "cell_type": "code",
   "execution_count": 99,
   "id": "fbb8d4ef",
   "metadata": {},
   "outputs": [
    {
     "name": "stderr",
     "output_type": "stream",
     "text": [
      "                                                                                \r"
     ]
    }
   ],
   "source": [
    "seg_churn_pd = seg_churn.toPandas()"
   ]
  },
  {
   "cell_type": "code",
   "execution_count": 100,
   "id": "b1a94cc5",
   "metadata": {},
   "outputs": [
    {
     "name": "stderr",
     "output_type": "stream",
     "text": [
      "                                                                                \r"
     ]
    }
   ],
   "source": [
    "seg_freq_pd = seg_freq.toPandas()"
   ]
  },
  {
   "cell_type": "code",
   "execution_count": 101,
   "id": "7f425621",
   "metadata": {},
   "outputs": [
    {
     "name": "stderr",
     "output_type": "stream",
     "text": [
      "                                                                                ]]\r"
     ]
    }
   ],
   "source": [
    "seg_others_pd = seg_others.toPandas()"
   ]
  },
  {
   "cell_type": "code",
   "execution_count": 106,
   "id": "400ec764",
   "metadata": {},
   "outputs": [],
   "source": [
    "seg_others_pd['customer_rk'] = seg_others_pd['customer_rk'].astype('str')"
   ]
  },
  {
   "cell_type": "code",
   "execution_count": 107,
   "id": "34c36a2a",
   "metadata": {},
   "outputs": [],
   "source": [
    "seg_churn_sms = seg_churn_pd[seg_churn_pd.group == 'sms']\n",
    "seg_churn_slip = seg_churn_pd[seg_churn_pd.group == 'slip']\n",
    "seg_freq_sms = seg_freq_pd[seg_freq_pd.group == 'sms']\n",
    "seg_freq_slip = seg_freq_pd[seg_freq_pd.group == 'slip']\n",
    "seg_others_sms = seg_others_pd[seg_others_pd.group == 'sms']\n",
    "seg_others_slip = seg_others_pd[seg_others_pd.group == 'slip']"
   ]
  },
  {
   "cell_type": "code",
   "execution_count": 108,
   "id": "26a8a9b2",
   "metadata": {},
   "outputs": [],
   "source": [
    "cross, upgrade, ump = get_usecases(seg_others_sms)"
   ]
  },
  {
   "cell_type": "code",
   "execution_count": 109,
   "id": "0bef522d",
   "metadata": {},
   "outputs": [
    {
     "name": "stdout",
     "output_type": "stream",
     "text": [
      "churn: 110800, frequency: 478115, cross: 332251, upgrade: 399312, ump: 157623 (all: 1478101)\n"
     ]
    }
   ],
   "source": [
    "print('churn: {}, frequency: {}, cross: {}, upgrade: {}, ump: {} (all: {})'.format(len(seg_churn_sms), len(seg_freq_sms), len(cross), len(upgrade), len(ump), len(seg_churn_sms) + len(seg_freq_sms) + len(cross)+len(upgrade)+len(ump)))"
   ]
  },
  {
   "cell_type": "code",
   "execution_count": 110,
   "id": "198b94fe",
   "metadata": {},
   "outputs": [],
   "source": [
    "cross, upgrade, ump = get_usecases(seg_others_slip)"
   ]
  },
  {
   "cell_type": "code",
   "execution_count": 111,
   "id": "a59ae956",
   "metadata": {},
   "outputs": [
    {
     "name": "stdout",
     "output_type": "stream",
     "text": [
      "churn: 187967, frequency: 758962, cross: 690200, upgrade: 689064, ump: 348166 (all: 2674359)\n"
     ]
    }
   ],
   "source": [
    "print('churn: {}, frequency: {}, cross: {}, upgrade: {}, ump: {} (all: {})'.format(len(seg_churn_slip), len(seg_freq_slip), len(cross), len(upgrade), len(ump), len(seg_churn_slip) + len(seg_freq_slip) + len(cross)+len(upgrade)+len(ump)))"
   ]
  },
  {
   "cell_type": "markdown",
   "id": "31597118",
   "metadata": {},
   "source": [
    "#### Отбор тех, кто 6 месяцев назад покупал сыр 4 месяца, но 2 месяца уже не покупает"
   ]
  },
  {
   "cell_type": "code",
   "execution_count": 32,
   "id": "67f241e4",
   "metadata": {},
   "outputs": [],
   "source": [
    "start_date1 = datetime.date(2021, 8, 10)\n",
    "end_date1 = datetime.date(2022, 11, 15)\n",
    "start_date2 = datetime.date(2021, 11, 16)\n",
    "end_date2 = datetime.date(2022, 2, 9)"
   ]
  },
  {
   "cell_type": "code",
   "execution_count": 33,
   "id": "4a430ef7",
   "metadata": {},
   "outputs": [],
   "source": [
    "checks_headers = (spark.table(CHECKS_HEADERS)\n",
    "                      .filter(F.col('rtl_txn_dt').between(start_date1, end_date1))\n",
    "                      .filter((F.col('loyalty_card_no') != '') & (F.col('loyalty_card_no').isNotNull()))\n",
    "                      .filter(F.col('financial_unit_format_dk') == 'D')\n",
    "                      .filter(F.col('rtl_txn_cancel_flg') == 0)\n",
    "                      .select('rtl_txn_id', 'loyalty_card_no', 'store_id')\n",
    "                     )\n"
   ]
  },
  {
   "cell_type": "code",
   "execution_count": 45,
   "id": "d650724f",
   "metadata": {},
   "outputs": [],
   "source": [
    "checks_headers = checks_headers.filter(F.col('store_id').isin(plants))"
   ]
  },
  {
   "cell_type": "code",
   "execution_count": 46,
   "id": "c5b9a3fa",
   "metadata": {},
   "outputs": [],
   "source": [
    "loyalty_cards = (spark\n",
    "                    .table(LOYALTY_CARDS)\n",
    "                    .withColumnRenamed(\"loyalty_card_id\", \"loyalty_card_no\")\n",
    "                    .withColumnRenamed(\"loyalty_account_id\", \"account_no\")\n",
    "                    .withColumnRenamed(\"loyalty_account_acrm_id\", \"account_rk\")\n",
    "                    .select('account_no', 'loyalty_card_no')\n",
    "                )\n",
    "loyalty_cardholders = (spark\n",
    "                        .table(LOYALTY_CARDHOLDERS)\n",
    "                        .withColumnRenamed(\"loyalty_cardholder_acrm_id\", \"customer_rk\")\n",
    "                        .withColumnRenamed(\"loyalty_account_id\", \"account_no\")\n",
    "                        .select('account_no', 'customer_rk')\n",
    "                      )\n",
    "clients_info = loyalty_cards.join(loyalty_cardholders, on='account_no', how='inner')\n",
    "clients_info = clients_info.join(seg_sms, on='customer_rk', how='inner')\n",
    "clients_info2 = loyalty_cards.join(loyalty_cardholders, on='account_no', how='inner')\n",
    "clients_info2 = clients_info2.join(slip, on='customer_rk', how='inner')"
   ]
  },
  {
   "cell_type": "code",
   "execution_count": 47,
   "id": "8be0dc98",
   "metadata": {},
   "outputs": [],
   "source": [
    "checks_headers_tc5 = checks_headers.join(clients_info, on='loyalty_card_no') #оставили чеки только нужных гостей"
   ]
  },
  {
   "cell_type": "code",
   "execution_count": 48,
   "id": "0dfd9618",
   "metadata": {},
   "outputs": [],
   "source": [
    "checks_headers_tc52 = checks_headers.join(clients_info2, on='loyalty_card_no') #оставили чеки только нужных гостей"
   ]
  },
  {
   "cell_type": "code",
   "execution_count": 49,
   "id": "63fe5641",
   "metadata": {},
   "outputs": [],
   "source": [
    "checks_items = (spark.table(CHECKS_ITEMS) \n",
    "                    .withColumnRenamed('plu_id', 'plu_code')\n",
    "                    .withColumnRenamed('turnover_no_vat_amt', 'zsalnovat')\n",
    "                    .withColumnRenamed('turnover_vat_rub_amt', 'zsale_vat')\n",
    "                    .withColumnRenamed('prime_cost_no_vat_amt', 'zcst_n')\n",
    "                    .withColumnRenamed('turnover_base_uom_amt', 'base_qty')\n",
    "                    .withColumnRenamed('discount_amt', 'zdiscount')\n",
    "                    .withColumnRenamed('fact_regular_promo_flg', 'zpromofl')\n",
    "                    .filter(F.col('rtl_txn_dt').between(start_date1, end_date1))\n",
    "                    .filter((F.col('zsalnovat') >= 0) & (F.col('base_qty') >= 0) & (F.col('zcst_n') > 0)) #keep only correct data\n",
    "                        .select('plu_code' #items id\n",
    "                                , 'rtl_txn_id' #cheques id\n",
    "                               , 'base_qty'\n",
    "                               )\n",
    "                   )\n"
   ]
  },
  {
   "cell_type": "code",
   "execution_count": 50,
   "id": "2bb2d05e",
   "metadata": {},
   "outputs": [],
   "source": [
    "# plu_hierarchy_lvl_4_dk = ['FR0604001', 'FR0608005', 'FR0604002', 'FR0608001'] #сметана, молоко, кефир\n",
    "syntethic_category_id = [103]\n",
    "# plu_brand_code = ['2452']\n",
    "# plu_vendor_nm = ['Данон']\n",
    "# plu_not_in = [4138521]"
   ]
  },
  {
   "cell_type": "code",
   "execution_count": 51,
   "id": "55931d65",
   "metadata": {},
   "outputs": [
    {
     "name": "stderr",
     "output_type": "stream",
     "text": [
      "                                                                                \r"
     ]
    }
   ],
   "source": [
    "plu_codes_cat = (spark\n",
    "                 .table(PRODUCTS)\n",
    "#                  .filter(F.col('plu_hierarchy_lvl_4_dk').isin(plu_hierarchy_lvl_4_dk))\n",
    "#                  .filter(F.col('plu_vendor_nm').isin(plu_vendor_nm))\n",
    "                 .filter(F.col('syntethic_category_id').isin(syntethic_category_id))\n",
    "#                  .filter(F.col('plu_brand_code').isin(plu_brand_code))\n",
    "#                  .filter(~F.col('plu_id').isin(plu_not_in))\n",
    "                 .select('plu_id')\n",
    "                 .distinct()\n",
    "                 .toPandas()['plu_id']\n",
    "                 .tolist()\n",
    "                )"
   ]
  },
  {
   "cell_type": "code",
   "execution_count": 52,
   "id": "b294e86a",
   "metadata": {},
   "outputs": [],
   "source": [
    "checks_items = checks_items.filter(F.col('plu_code').isin(plu_codes_cat)) # только чеки с нужными plu"
   ]
  },
  {
   "cell_type": "code",
   "execution_count": 53,
   "id": "73a6c0c0",
   "metadata": {},
   "outputs": [],
   "source": [
    "checks_tc5 = checks_items.join(checks_headers_tc5, 'rtl_txn_id', how='inner')"
   ]
  },
  {
   "cell_type": "code",
   "execution_count": 54,
   "id": "8c013a8f",
   "metadata": {},
   "outputs": [],
   "source": [
    "checks_tc52 = checks_items.join(checks_headers_tc52, 'rtl_txn_id', how='inner')"
   ]
  },
  {
   "cell_type": "code",
   "execution_count": 55,
   "id": "7d649966",
   "metadata": {},
   "outputs": [],
   "source": [
    "seg1 = (checks_tc5.withColumn('group', F.lit('sms'))\n",
    "                  .select('customer_rk', 'group')\n",
    "                  .distinct()\n",
    "      )"
   ]
  },
  {
   "cell_type": "code",
   "execution_count": 56,
   "id": "b9f78aaf",
   "metadata": {},
   "outputs": [],
   "source": [
    "seg2 = (checks_tc5.withColumn('group', F.lit('slip'))\n",
    "                  .select('customer_rk', 'group')\n",
    "                  .distinct()\n",
    "      )"
   ]
  },
  {
   "cell_type": "code",
   "execution_count": 57,
   "id": "308a5dbc",
   "metadata": {},
   "outputs": [],
   "source": [
    "checks_headers3 = (spark.table(CHECKS_HEADERS)\n",
    "                      .filter(F.col('rtl_txn_dt').between(start_date2, end_date2))\n",
    "                      .filter((F.col('loyalty_card_no') != '') & (F.col('loyalty_card_no').isNotNull()))\n",
    "                      .filter(F.col('financial_unit_format_dk') == 'D')\n",
    "                      .filter(F.col('rtl_txn_cancel_flg') == 0)\n",
    "                      .select('rtl_txn_id', 'loyalty_card_no', 'store_id')\n",
    "                     )\n"
   ]
  },
  {
   "cell_type": "code",
   "execution_count": 58,
   "id": "2c1d15ac",
   "metadata": {},
   "outputs": [],
   "source": [
    "checks_headers3 = checks_headers3.filter(F.col('store_id').isin(plants))"
   ]
  },
  {
   "cell_type": "code",
   "execution_count": 59,
   "id": "ec4fac55",
   "metadata": {},
   "outputs": [],
   "source": [
    "loyalty_cards3 = (spark\n",
    "                    .table(LOYALTY_CARDS)\n",
    "                    .withColumnRenamed(\"loyalty_card_id\", \"loyalty_card_no\")\n",
    "                    .withColumnRenamed(\"loyalty_account_id\", \"account_no\")\n",
    "                    .withColumnRenamed(\"loyalty_account_acrm_id\", \"account_rk\")\n",
    "                    .select('account_no', 'loyalty_card_no')\n",
    "                )\n",
    "loyalty_cardholders3 = (spark\n",
    "                        .table(LOYALTY_CARDHOLDERS)\n",
    "                        .withColumnRenamed(\"loyalty_cardholder_acrm_id\", \"customer_rk\")\n",
    "                        .withColumnRenamed(\"loyalty_account_id\", \"account_no\")\n",
    "                        .select('account_no', 'customer_rk')\n",
    "                      )\n",
    "clients_info3 = loyalty_cards3.join(loyalty_cardholders3, on='account_no', how='inner')\n",
    "clients_info3 = clients_info3.join(seg_sms, on='customer_rk', how='inner')\n",
    "clients_info4 = loyalty_cards3.join(loyalty_cardholders3, on='account_no', how='inner')\n",
    "clients_info4 = clients_info4.join(slip, on='customer_rk', how='inner')"
   ]
  },
  {
   "cell_type": "code",
   "execution_count": 60,
   "id": "6f6c9a37",
   "metadata": {},
   "outputs": [],
   "source": [
    "checks_headers_tc53 = checks_headers3.join(clients_info3, on='loyalty_card_no') #оставили чеки только нужных гостей"
   ]
  },
  {
   "cell_type": "code",
   "execution_count": 61,
   "id": "54e93d87",
   "metadata": {},
   "outputs": [],
   "source": [
    "checks_headers_tc54 = checks_headers3.join(clients_info4, on='loyalty_card_no') #оставили чеки только нужных гостей"
   ]
  },
  {
   "cell_type": "code",
   "execution_count": 62,
   "id": "4fd02b3c",
   "metadata": {},
   "outputs": [],
   "source": [
    "checks_items3 = (spark.table(CHECKS_ITEMS) \n",
    "                    .withColumnRenamed('plu_id', 'plu_code')\n",
    "                    .withColumnRenamed('turnover_no_vat_amt', 'zsalnovat')\n",
    "                    .withColumnRenamed('turnover_vat_rub_amt', 'zsale_vat')\n",
    "                    .withColumnRenamed('prime_cost_no_vat_amt', 'zcst_n')\n",
    "                    .withColumnRenamed('turnover_base_uom_amt', 'base_qty')\n",
    "                    .withColumnRenamed('discount_amt', 'zdiscount')\n",
    "                    .withColumnRenamed('fact_regular_promo_flg', 'zpromofl')\n",
    "                    .filter(F.col('rtl_txn_dt').between(start_date2, end_date2))\n",
    "                    .filter((F.col('zsalnovat') >= 0) & (F.col('base_qty') >= 0) & (F.col('zcst_n') > 0)) #keep only correct data\n",
    "                        .select('plu_code' #items id\n",
    "                                , 'rtl_txn_id' #cheques id\n",
    "                               , 'base_qty'\n",
    "                               )\n",
    "                   )\n"
   ]
  },
  {
   "cell_type": "code",
   "execution_count": 63,
   "id": "3d0c4169",
   "metadata": {},
   "outputs": [],
   "source": [
    "checks_items3 = checks_items3.filter(F.col('plu_code').isin(plu_codes_cat)) # только чеки с нужными plu"
   ]
  },
  {
   "cell_type": "code",
   "execution_count": 64,
   "id": "18afcdcc",
   "metadata": {},
   "outputs": [],
   "source": [
    "checks_tc53 = checks_items3.join(checks_headers_tc53, 'rtl_txn_id', how='inner')"
   ]
  },
  {
   "cell_type": "code",
   "execution_count": 65,
   "id": "1dd12888",
   "metadata": {},
   "outputs": [],
   "source": [
    "checks_tc54 = checks_items3.join(checks_headers_tc54, 'rtl_txn_id', how='inner')"
   ]
  },
  {
   "cell_type": "code",
   "execution_count": 66,
   "id": "2a8a49d4",
   "metadata": {},
   "outputs": [],
   "source": [
    "seg3 = (checks_tc53.withColumn('group', F.lit('sms'))\n",
    "                  .select('customer_rk', 'group')\n",
    "                  .distinct()\n",
    "      )"
   ]
  },
  {
   "cell_type": "code",
   "execution_count": 67,
   "id": "b048308d",
   "metadata": {},
   "outputs": [],
   "source": [
    "seg_no_cheese_1 = seg_sms.join(seg3, 'customer_rk', 'left_anti')"
   ]
  },
  {
   "cell_type": "code",
   "execution_count": 68,
   "id": "dccf08c2",
   "metadata": {},
   "outputs": [],
   "source": [
    "seg4 = (checks_tc54.withColumn('group', F.lit('slip'))\n",
    "                  .select('customer_rk', 'group')\n",
    "                  .distinct()\n",
    "      )"
   ]
  },
  {
   "cell_type": "code",
   "execution_count": 69,
   "id": "952622c6",
   "metadata": {},
   "outputs": [],
   "source": [
    "seg_no_cheese_2 = slip.join(seg4, 'customer_rk', 'left_anti')"
   ]
  },
  {
   "cell_type": "code",
   "execution_count": 70,
   "id": "d797b5a5",
   "metadata": {},
   "outputs": [],
   "source": [
    "seg_1 = seg_no_cheese_1.join(seg1, 'customer_rk', 'inner')"
   ]
  },
  {
   "cell_type": "code",
   "execution_count": 71,
   "id": "5464f521",
   "metadata": {},
   "outputs": [],
   "source": [
    "seg_2 = seg_no_cheese_2.join(seg2, 'customer_rk', 'inner')"
   ]
  },
  {
   "cell_type": "code",
   "execution_count": 72,
   "id": "ef6fe19f",
   "metadata": {},
   "outputs": [],
   "source": [
    "seg = seg_1.union(seg_2).distinct()"
   ]
  },
  {
   "cell_type": "code",
   "execution_count": 73,
   "id": "504d494d",
   "metadata": {
    "scrolled": true
   },
   "outputs": [
    {
     "name": "stderr",
     "output_type": "stream",
     "text": [
      "                                                                                ]53]]]]]]\r"
     ]
    }
   ],
   "source": [
    "seg.write.parquet('temp1066_ottok_new', mode='overwrite')\n",
    "seg = spark.read.parquet('temp1066_ottok_new')"
   ]
  },
  {
   "cell_type": "code",
   "execution_count": 74,
   "id": "c16e7458",
   "metadata": {},
   "outputs": [
    {
     "name": "stderr",
     "output_type": "stream",
     "text": [
      "                                                                                \r"
     ]
    },
    {
     "data": {
      "text/plain": [
       "1868840"
      ]
     },
     "execution_count": 74,
     "metadata": {},
     "output_type": "execute_result"
    }
   ],
   "source": [
    "seg.count()"
   ]
  },
  {
   "cell_type": "code",
   "execution_count": 78,
   "id": "d04f7c4c",
   "metadata": {},
   "outputs": [],
   "source": [
    "seg_churn = seg.join(customers_churn, 'customer_rk', 'inner')\n",
    "seg_freq = seg.join(customers_freq, 'customer_rk', 'inner')\n",
    "seg_others = seg.join(seg_churn, 'customer_rk', 'left_anti').join(seg_freq, 'customer_rk', 'left_anti')"
   ]
  },
  {
   "cell_type": "code",
   "execution_count": 79,
   "id": "45798491",
   "metadata": {},
   "outputs": [
    {
     "name": "stderr",
     "output_type": "stream",
     "text": [
      "                                                                                \r"
     ]
    }
   ],
   "source": [
    "seg_churn_pd = seg_churn.toPandas()"
   ]
  },
  {
   "cell_type": "code",
   "execution_count": 80,
   "id": "62528af8",
   "metadata": {},
   "outputs": [
    {
     "name": "stderr",
     "output_type": "stream",
     "text": [
      "                                                                                \r"
     ]
    }
   ],
   "source": [
    "seg_freq_pd = seg_freq.toPandas()"
   ]
  },
  {
   "cell_type": "code",
   "execution_count": 81,
   "id": "621d1325",
   "metadata": {},
   "outputs": [
    {
     "name": "stderr",
     "output_type": "stream",
     "text": [
      "                                                                                \r"
     ]
    }
   ],
   "source": [
    "seg_others_pd = seg_others.toPandas()"
   ]
  },
  {
   "cell_type": "code",
   "execution_count": 89,
   "id": "f8a296e3",
   "metadata": {},
   "outputs": [],
   "source": [
    "seg_churn_sms = seg_churn_pd[seg_churn_pd.group == 'sms']\n",
    "seg_churn_slip = seg_churn_pd[seg_churn_pd.group == 'slip']\n",
    "seg_freq_sms = seg_freq_pd[seg_freq_pd.group == 'sms']\n",
    "seg_freq_slip = seg_freq_pd[seg_freq_pd.group == 'slip']\n",
    "seg_others_sms = seg_others_pd[seg_others_pd.group == 'sms']\n",
    "seg_others_slip = seg_others_pd[seg_others_pd.group == 'slip']"
   ]
  },
  {
   "cell_type": "code",
   "execution_count": 87,
   "id": "08d9c5e4",
   "metadata": {},
   "outputs": [],
   "source": [
    "seg_others_pd['customer_rk'] = seg_others_pd['customer_rk'].astype('str')"
   ]
  },
  {
   "cell_type": "code",
   "execution_count": 90,
   "id": "522e307e",
   "metadata": {},
   "outputs": [],
   "source": [
    "cross, upgrade, ump = get_usecases(seg_others_sms)"
   ]
  },
  {
   "cell_type": "code",
   "execution_count": 91,
   "id": "0f104e9a",
   "metadata": {},
   "outputs": [
    {
     "name": "stdout",
     "output_type": "stream",
     "text": [
      "churn: 175486, frequency: 367737, cross: 151515, upgrade: 173622, ump: 72511 (all: 940871)\n"
     ]
    }
   ],
   "source": [
    "print('churn: {}, frequency: {}, cross: {}, upgrade: {}, ump: {} (all: {})'.format(len(seg_churn_sms), len(seg_freq_sms), len(cross), len(upgrade), len(ump), len(seg_churn_sms) + len(seg_freq_sms) + len(cross)+len(upgrade)+len(ump)))"
   ]
  },
  {
   "cell_type": "code",
   "execution_count": 92,
   "id": "05131090",
   "metadata": {},
   "outputs": [],
   "source": [
    "cross, upgrade, ump = get_usecases(seg_others_slip)"
   ]
  },
  {
   "cell_type": "code",
   "execution_count": 93,
   "id": "02f203f4",
   "metadata": {},
   "outputs": [
    {
     "name": "stdout",
     "output_type": "stream",
     "text": [
      "churn: 164815, frequency: 365547, cross: 151502, upgrade: 173603, ump: 72502 (all: 927969)\n"
     ]
    }
   ],
   "source": [
    "print('churn: {}, frequency: {}, cross: {}, upgrade: {}, ump: {} (all: {})'.format(len(seg_churn_slip), len(seg_freq_slip), len(cross), len(upgrade), len(ump), len(seg_churn_slip) + len(seg_freq_slip) + len(cross)+len(upgrade)+len(ump)))"
   ]
  }
 ],
 "metadata": {
  "kernelspec": {
   "display_name": "Python 3 (ipykernel)",
   "language": "python",
   "name": "python3"
  },
  "language_info": {
   "codemirror_mode": {
    "name": "ipython",
    "version": 3
   },
   "file_extension": ".py",
   "mimetype": "text/x-python",
   "name": "python",
   "nbconvert_exporter": "python",
   "pygments_lexer": "ipython3",
   "version": "3.7.10"
  }
 },
 "nbformat": 4,
 "nbformat_minor": 5
}
