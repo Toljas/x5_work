{
 "cells": [
  {
   "cell_type": "code",
   "execution_count": 1,
   "id": "0ed5c4e9",
   "metadata": {},
   "outputs": [],
   "source": [
    "name = 'savushkin_add'"
   ]
  },
  {
   "cell_type": "code",
   "execution_count": 2,
   "id": "6cb2725d",
   "metadata": {},
   "outputs": [
    {
     "name": "stdout",
     "output_type": "stream",
     "text": [
      "Looking in indexes: https://repo-dmp.do.x5.ru/repository/pypi/simple\n",
      "Requirement already satisfied: pydantic in /opt/conda/lib/python3.7/site-packages (1.9.0)\n",
      "Requirement already satisfied: typing-extensions>=3.7.4.3 in /opt/conda/lib/python3.7/site-packages (from pydantic) (3.7.4.3)\n"
     ]
    }
   ],
   "source": [
    "!pip install pydantic\n",
    "import sys\n",
    "import pandas as pd\n",
    "import pyspark.sql.functions as F\n",
    "sys.path.append('/home/jovyan/cvm_upgrade/')\n",
    "sys.path.append('/home/jovyan/cvm_upgrade/upgrade/')\n",
    "sys.path.append('/home/jovyan/glow-byte-filters-pyspark')\n",
    "sys.path.append('/home/jovyan/x5_some_tasks/Osipov/')\n",
    "from upgrade.post_analysis2.tools.groups_metrics_aggregation import GroupsMetricsAggregation\n",
    "from upgrade.post_analysis2.tools.guests_metrics_preprocessing import GuestsMetricsPreprocessing\n",
    "from upgrade.post_analysis2.tools.post_analysis_params import PostAnalysisParams\n",
    "from upgrade.post_analysis2.tools.metric_names_mapper import map_col_names_to_russian\n",
    "from upgrade.post_analysis2.tools.experiment_participants import ExperimentParticipants\n",
    "from upgrade.post_analysis2.tools.experiment_params import ExperimentParams\n",
    "import datetime\n",
    "from logic_filters import *\n",
    "from datetime import timedelta\n",
    "from spark import *\n",
    "from utils_osipov import *\n",
    "from segmentation import *\n",
    "\n",
    "%load_ext autoreload\n",
    "%autoreload 2\n",
    "\n",
    "pd.options.display.float_format = '{:,.2f}'.format\n",
    "pd.options.display.max_rows = 500"
   ]
  },
  {
   "cell_type": "code",
   "execution_count": 3,
   "id": "8f8a2197",
   "metadata": {
    "collapsed": false,
    "jupyter": {
     "outputs_hidden": false
    },
    "pycharm": {
     "name": "#%%\n"
    }
   },
   "outputs": [
    {
     "name": "stderr",
     "output_type": "stream",
     "text": [
      "Setting default log level to \"WARN\".\n",
      "To adjust logging level use sc.setLogLevel(newLevel). For SparkR, use setLogLevel(newLevel).\n",
      "22/02/24 10:53:03 WARN cluster.YarnSchedulerBackend$YarnSchedulerEndpoint: Attempted to request executors before the AM has registered!\n"
     ]
    }
   ],
   "source": [
    "sc, spark = restart_spark(name, 100, executor_memory=\"3G\", executor_cores=5, driver_memory=\"12G\",\n",
    "                          additional_params={\"spark.sql.shuffle.partitions\": \"200\"})\n",
    "sc.setLogLevel('ERROR')"
   ]
  },
  {
   "cell_type": "code",
   "execution_count": 4,
   "id": "c4cd4c01",
   "metadata": {},
   "outputs": [],
   "source": [
    "LOYALTY_CARDS = \"hive_ssa_tc5.loyalty_card\"\n",
    "LOYALTY_CARDHOLDERS = \"hive_ssa_tc5.loyalty_cardholder\"\n",
    "ACCOUNTS = \"hive_ssa_tc5.account\"\n",
    "CVM5_GUESTS = \"hive_cvm_acrm.cvm5_guests\"\n",
    "\n",
    "DIM_STORE = \"hive_ssa_main.dim_store\"\n",
    "CHECKS_HEADERS = \"hive_ssa_main.fct_rtl_txn\"\n",
    "CHECKS_ITEMS = \"hive_ssa_main.fct_rtl_txn_item\"\n",
    "PRODUCTS = \"hive_ssa_tc5.cvm_product\""
   ]
  },
  {
   "cell_type": "code",
   "execution_count": 5,
   "id": "f7d6d38b",
   "metadata": {},
   "outputs": [],
   "source": [
    "plu_codes = [3367104,3388814,3672506,3919797,3926055,4046891,4046892,4046893,4118966,4137277]"
   ]
  },
  {
   "cell_type": "code",
   "execution_count": 6,
   "id": "0d75b65b",
   "metadata": {},
   "outputs": [
    {
     "name": "stderr",
     "output_type": "stream",
     "text": [
      "                                                                                \r"
     ]
    }
   ],
   "source": [
    "# guests_all.write.parquet('temp1066_guests_all', mode='overwrite')\n",
    "guests_all = spark.read.parquet('temp1066_guests_all')"
   ]
  },
  {
   "cell_type": "code",
   "execution_count": 7,
   "id": "e40b0dfb",
   "metadata": {},
   "outputs": [
    {
     "name": "stderr",
     "output_type": "stream",
     "text": [
      "                                                                                \r"
     ]
    },
    {
     "data": {
      "text/plain": [
       "291608"
      ]
     },
     "execution_count": 7,
     "metadata": {},
     "output_type": "execute_result"
    }
   ],
   "source": [
    "guests_all.count()"
   ]
  },
  {
   "cell_type": "markdown",
   "id": "2fee2b1c",
   "metadata": {},
   "source": [
    "### 3. Анализ продаж магазинов в категории твердых сыров"
   ]
  },
  {
   "cell_type": "code",
   "execution_count": 8,
   "id": "857f6c2f",
   "metadata": {},
   "outputs": [],
   "source": [
    "only_target = guests_all.filter(F.col('group').isin(['tg1', 'tg2']))"
   ]
  },
  {
   "cell_type": "code",
   "execution_count": 9,
   "id": "5f8385ae",
   "metadata": {},
   "outputs": [],
   "source": [
    "start_date1 = datetime.date(2021, 12, 2)\n",
    "end_date1 = datetime.date(2021, 12, 29)\n",
    "start_date2 = datetime.date(2021, 9, 29)\n",
    "end_date2 = datetime.date(2021, 12, 29)"
   ]
  },
  {
   "cell_type": "markdown",
   "id": "5de329e7",
   "metadata": {},
   "source": [
    "#### Отбор магазинов"
   ]
  },
  {
   "cell_type": "code",
   "execution_count": 10,
   "id": "c1586053",
   "metadata": {},
   "outputs": [
    {
     "name": "stderr",
     "output_type": "stream",
     "text": [
      "                                                                                \r"
     ]
    }
   ],
   "source": [
    "checks_headers = (spark.table(CHECKS_HEADERS)\n",
    "                      .filter(F.col('rtl_txn_dt').between(start_date2, end_date2))\n",
    "                      .filter((F.col('loyalty_card_no') != '') & (F.col('loyalty_card_no').isNotNull()))\n",
    "                      .filter(F.col('financial_unit_format_dk') == 'D')\n",
    "                      .filter(F.col('rtl_txn_cancel_flg') == 0)\n",
    "                      .select('rtl_txn_id', 'loyalty_card_no', 'store_id')\n",
    "                     )\n"
   ]
  },
  {
   "cell_type": "code",
   "execution_count": 11,
   "id": "fd3bb125",
   "metadata": {},
   "outputs": [],
   "source": [
    "loyalty_cards = (spark\n",
    "                    .table(LOYALTY_CARDS)\n",
    "                    .withColumnRenamed(\"loyalty_card_id\", \"loyalty_card_no\")\n",
    "                    .withColumnRenamed(\"loyalty_account_id\", \"account_no\")\n",
    "                    .withColumnRenamed(\"loyalty_account_acrm_id\", \"account_rk\")\n",
    "                    .select('account_no', 'loyalty_card_no')\n",
    "                )\n",
    "loyalty_cardholders = (spark\n",
    "                        .table(LOYALTY_CARDHOLDERS)\n",
    "                        .withColumnRenamed(\"loyalty_cardholder_acrm_id\", \"customer_rk\")\n",
    "                        .withColumnRenamed(\"loyalty_account_id\", \"account_no\")\n",
    "                        .select('account_no', 'customer_rk')\n",
    "                      )\n",
    "clients_info = loyalty_cards.join(loyalty_cardholders, on='account_no', how='inner')\n",
    "clients_info = clients_info.join(only_target, on='customer_rk', how='inner')"
   ]
  },
  {
   "cell_type": "code",
   "execution_count": 12,
   "id": "463ca7c9",
   "metadata": {},
   "outputs": [],
   "source": [
    "checks_headers_tc5 = checks_headers.join(clients_info, on='loyalty_card_no') #оставили чеки только нужных гостей"
   ]
  },
  {
   "cell_type": "code",
   "execution_count": 13,
   "id": "4be080b6",
   "metadata": {},
   "outputs": [
    {
     "name": "stderr",
     "output_type": "stream",
     "text": [
      "                                                                                ]\r"
     ]
    }
   ],
   "source": [
    "stores = checks_headers_tc5.select('store_id').distinct().toPandas()['store_id'].to_list()"
   ]
  },
  {
   "cell_type": "markdown",
   "id": "82ea7ed0",
   "metadata": {},
   "source": [
    "#### Подсчет по целевым PLU"
   ]
  },
  {
   "cell_type": "code",
   "execution_count": 14,
   "id": "19c14320",
   "metadata": {},
   "outputs": [],
   "source": [
    "checks_headers = (spark.table(CHECKS_HEADERS)\n",
    "                      .filter(F.col('rtl_txn_dt').between(start_date1, end_date1))\n",
    "                      .filter((F.col('loyalty_card_no') != '') & (F.col('loyalty_card_no').isNotNull()))\n",
    "                      .filter(F.col('financial_unit_format_dk') == 'D')\n",
    "                      .filter(F.col('rtl_txn_cancel_flg') == 0)\n",
    "                      .select('rtl_txn_id', 'loyalty_card_no', 'rtl_txn_dt', 'store_id')\n",
    "                     )\n"
   ]
  },
  {
   "cell_type": "code",
   "execution_count": 15,
   "id": "7f2aef49",
   "metadata": {},
   "outputs": [],
   "source": [
    "checks_headers_tc5 = checks_headers.filter(F.col('store_id').isin(stores))"
   ]
  },
  {
   "cell_type": "code",
   "execution_count": 16,
   "id": "697c9b22",
   "metadata": {},
   "outputs": [],
   "source": [
    "loyalty_cards = (spark\n",
    "                    .table(LOYALTY_CARDS)\n",
    "                    .withColumnRenamed(\"loyalty_card_id\", \"loyalty_card_no\")\n",
    "                    .withColumnRenamed(\"loyalty_account_id\", \"account_no\")\n",
    "                    .withColumnRenamed(\"loyalty_account_acrm_id\", \"account_rk\")\n",
    "                    .select('account_no', 'loyalty_card_no')\n",
    "                )\n",
    "loyalty_cardholders = (spark\n",
    "                        .table(LOYALTY_CARDHOLDERS)\n",
    "                        .withColumnRenamed(\"loyalty_cardholder_acrm_id\", \"customer_rk\")\n",
    "                        .withColumnRenamed(\"loyalty_account_id\", \"account_no\")\n",
    "                        .select('account_no', 'customer_rk')\n",
    "                      )\n",
    "clients_info = loyalty_cards.join(loyalty_cardholders, on='account_no', how='inner')"
   ]
  },
  {
   "cell_type": "code",
   "execution_count": 17,
   "id": "7ab9248e",
   "metadata": {},
   "outputs": [],
   "source": [
    "checks_headers_tc5 = checks_headers_tc5.join(clients_info, on='loyalty_card_no') #оставили чеки только нужных гостей"
   ]
  },
  {
   "cell_type": "code",
   "execution_count": 18,
   "id": "4911edf1",
   "metadata": {},
   "outputs": [],
   "source": [
    "checks_items = (spark.table(CHECKS_ITEMS) \n",
    "                    .withColumnRenamed('plu_id', 'plu_code')\n",
    "                    .withColumnRenamed('turnover_no_vat_amt', 'zsalnovat')\n",
    "                    .withColumnRenamed('turnover_vat_rub_amt', 'zsale_vat')\n",
    "                    .withColumnRenamed('prime_cost_no_vat_amt', 'zcst_n')\n",
    "                    .withColumnRenamed('turnover_base_uom_amt', 'base_qty')\n",
    "                    .withColumnRenamed('discount_amt', 'zdiscount')\n",
    "                    .withColumnRenamed('fact_regular_promo_flg', 'zpromofl')\n",
    "                    .filter(F.col('rtl_txn_dt').between(start_date1, end_date1))\n",
    "                    .filter((F.col('zsalnovat') >= 0) & (F.col('base_qty') >= 0) & (F.col('zcst_n') > 0)) #keep only correct data\n",
    "                        .select('plu_code' #items id\n",
    "                                , 'rtl_txn_id' #cheques id\n",
    "                                , 'zsalnovat'\n",
    "                               )\n",
    "                   )\n"
   ]
  },
  {
   "cell_type": "code",
   "execution_count": 19,
   "id": "c4d88e1f",
   "metadata": {},
   "outputs": [],
   "source": [
    "checks_items = checks_items.filter(F.col('plu_code').isin(plu_codes)) # только чеки с нужными plu"
   ]
  },
  {
   "cell_type": "code",
   "execution_count": 20,
   "id": "15a0af27",
   "metadata": {},
   "outputs": [],
   "source": [
    "checks_tc5 = checks_items.join(checks_headers_tc5, 'rtl_txn_id', how='inner')"
   ]
  },
  {
   "cell_type": "code",
   "execution_count": 21,
   "id": "1a19a0f4",
   "metadata": {},
   "outputs": [],
   "source": [
    "week1_start = datetime.date(2021, 12, 2)\n",
    "week1_end = datetime.date(2021, 12, 8)\n",
    "week2_start = datetime.date(2021, 12, 9)\n",
    "week2_end = datetime.date(2021, 12, 15)\n",
    "week3_start = datetime.date(2021, 12, 16)\n",
    "week3_end = datetime.date(2021, 12, 22)\n",
    "week4_start = datetime.date(2021, 12, 23)\n",
    "week4_end = datetime.date(2021, 12, 29)"
   ]
  },
  {
   "cell_type": "code",
   "execution_count": 22,
   "id": "880b627a",
   "metadata": {},
   "outputs": [],
   "source": [
    "checks_tc5_with_week = (checks_tc5.withColumn('week', F.when(F.col('rtl_txn_dt').between(week1_start, week1_end), \"week1\")\n",
    "                                             .when(F.col('rtl_txn_dt').between(week2_start, week2_end), \"week2\")\n",
    "                                             .when(F.col('rtl_txn_dt').between(week3_start, week3_end), \"week3\")\n",
    "                                             .when(F.col('rtl_txn_dt').between(week4_start, week4_end), \"week4\")\n",
    "                                   ))"
   ]
  },
  {
   "cell_type": "code",
   "execution_count": 23,
   "id": "96061d42",
   "metadata": {},
   "outputs": [],
   "source": [
    "in_sum = (checks_tc5_with_week.groupby('week').agg(F.sum('zsalnovat').alias('sum_in_target_plu')))"
   ]
  },
  {
   "cell_type": "code",
   "execution_count": 24,
   "id": "b347478e",
   "metadata": {},
   "outputs": [
    {
     "name": "stderr",
     "output_type": "stream",
     "text": [
      "                                                                                ]]]\r"
     ]
    }
   ],
   "source": [
    "in_sum_pd_target_plu = in_sum.toPandas()"
   ]
  },
  {
   "cell_type": "code",
   "execution_count": 25,
   "id": "533c7918",
   "metadata": {},
   "outputs": [
    {
     "data": {
      "text/html": [
       "<div>\n",
       "<style scoped>\n",
       "    .dataframe tbody tr th:only-of-type {\n",
       "        vertical-align: middle;\n",
       "    }\n",
       "\n",
       "    .dataframe tbody tr th {\n",
       "        vertical-align: top;\n",
       "    }\n",
       "\n",
       "    .dataframe thead th {\n",
       "        text-align: right;\n",
       "    }\n",
       "</style>\n",
       "<table border=\"1\" class=\"dataframe\">\n",
       "  <thead>\n",
       "    <tr style=\"text-align: right;\">\n",
       "      <th></th>\n",
       "      <th>week</th>\n",
       "      <th>sum_in_target_plu</th>\n",
       "    </tr>\n",
       "  </thead>\n",
       "  <tbody>\n",
       "    <tr>\n",
       "      <th>0</th>\n",
       "      <td>week1</td>\n",
       "      <td>23958425.01</td>\n",
       "    </tr>\n",
       "    <tr>\n",
       "      <th>1</th>\n",
       "      <td>week2</td>\n",
       "      <td>34530520.62</td>\n",
       "    </tr>\n",
       "    <tr>\n",
       "      <th>2</th>\n",
       "      <td>week3</td>\n",
       "      <td>47697196.75</td>\n",
       "    </tr>\n",
       "    <tr>\n",
       "      <th>3</th>\n",
       "      <td>week4</td>\n",
       "      <td>28858369.52</td>\n",
       "    </tr>\n",
       "  </tbody>\n",
       "</table>\n",
       "</div>"
      ],
      "text/plain": [
       "    week sum_in_target_plu\n",
       "0  week1       23958425.01\n",
       "1  week2       34530520.62\n",
       "2  week3       47697196.75\n",
       "3  week4       28858369.52"
      ]
     },
     "execution_count": 25,
     "metadata": {},
     "output_type": "execute_result"
    }
   ],
   "source": [
    "in_sum_pd_target_plu"
   ]
  },
  {
   "cell_type": "code",
   "execution_count": 26,
   "id": "65db2872",
   "metadata": {},
   "outputs": [],
   "source": [
    "in_sum_pd_target_plu.loc[0, 'start_dt'] = '02-12-2021'\n",
    "in_sum_pd_target_plu.loc[0, 'end_dt'] = '08-12-2021'\n",
    "in_sum_pd_target_plu.loc[1, 'start_dt'] = '09-12-2021'\n",
    "in_sum_pd_target_plu.loc[1, 'end_dt'] = '15-12-2021'\n",
    "in_sum_pd_target_plu.loc[2, 'start_dt'] = '16-12-2021'\n",
    "in_sum_pd_target_plu.loc[2, 'end_dt'] = '22-12-2021'\n",
    "in_sum_pd_target_plu.loc[3, 'start_dt'] = '23-12-2021'\n",
    "in_sum_pd_target_plu.loc[3, 'end_dt'] = '29-12-2021'"
   ]
  },
  {
   "cell_type": "code",
   "execution_count": 27,
   "id": "2c4ebbac",
   "metadata": {},
   "outputs": [
    {
     "data": {
      "text/html": [
       "<div>\n",
       "<style scoped>\n",
       "    .dataframe tbody tr th:only-of-type {\n",
       "        vertical-align: middle;\n",
       "    }\n",
       "\n",
       "    .dataframe tbody tr th {\n",
       "        vertical-align: top;\n",
       "    }\n",
       "\n",
       "    .dataframe thead th {\n",
       "        text-align: right;\n",
       "    }\n",
       "</style>\n",
       "<table border=\"1\" class=\"dataframe\">\n",
       "  <thead>\n",
       "    <tr style=\"text-align: right;\">\n",
       "      <th></th>\n",
       "      <th>week</th>\n",
       "      <th>sum_in_target_plu</th>\n",
       "      <th>start_dt</th>\n",
       "      <th>end_dt</th>\n",
       "    </tr>\n",
       "  </thead>\n",
       "  <tbody>\n",
       "    <tr>\n",
       "      <th>0</th>\n",
       "      <td>week1</td>\n",
       "      <td>23958425.01</td>\n",
       "      <td>02-12-2021</td>\n",
       "      <td>08-12-2021</td>\n",
       "    </tr>\n",
       "    <tr>\n",
       "      <th>1</th>\n",
       "      <td>week2</td>\n",
       "      <td>34530520.62</td>\n",
       "      <td>09-12-2021</td>\n",
       "      <td>15-12-2021</td>\n",
       "    </tr>\n",
       "    <tr>\n",
       "      <th>2</th>\n",
       "      <td>week3</td>\n",
       "      <td>47697196.75</td>\n",
       "      <td>16-12-2021</td>\n",
       "      <td>22-12-2021</td>\n",
       "    </tr>\n",
       "    <tr>\n",
       "      <th>3</th>\n",
       "      <td>week4</td>\n",
       "      <td>28858369.52</td>\n",
       "      <td>23-12-2021</td>\n",
       "      <td>29-12-2021</td>\n",
       "    </tr>\n",
       "  </tbody>\n",
       "</table>\n",
       "</div>"
      ],
      "text/plain": [
       "    week sum_in_target_plu    start_dt      end_dt\n",
       "0  week1       23958425.01  02-12-2021  08-12-2021\n",
       "1  week2       34530520.62  09-12-2021  15-12-2021\n",
       "2  week3       47697196.75  16-12-2021  22-12-2021\n",
       "3  week4       28858369.52  23-12-2021  29-12-2021"
      ]
     },
     "execution_count": 27,
     "metadata": {},
     "output_type": "execute_result"
    }
   ],
   "source": [
    "in_sum_pd_target_plu"
   ]
  },
  {
   "cell_type": "code",
   "execution_count": 28,
   "id": "8c8cb19d",
   "metadata": {},
   "outputs": [],
   "source": [
    "in_sum_pd_target_plu['prev'] = 0"
   ]
  },
  {
   "cell_type": "code",
   "execution_count": 29,
   "id": "6af6a2e6",
   "metadata": {},
   "outputs": [],
   "source": [
    "for i in range(1, len(in_sum_pd_target_plu)):\n",
    "    in_sum_pd_target_plu.loc[i, 'prev'] = in_sum_pd_target_plu.loc[i-1, 'sum_in_target_plu']"
   ]
  },
  {
   "cell_type": "code",
   "execution_count": 30,
   "id": "fb9a0f53",
   "metadata": {},
   "outputs": [],
   "source": [
    "in_sum_pd_target_plu.loc[0, 'prev'] = in_sum_pd_target_plu.loc[0, 'sum_in_target_plu']"
   ]
  },
  {
   "cell_type": "code",
   "execution_count": 31,
   "id": "15d06a3f",
   "metadata": {},
   "outputs": [
    {
     "data": {
      "text/html": [
       "<div>\n",
       "<style scoped>\n",
       "    .dataframe tbody tr th:only-of-type {\n",
       "        vertical-align: middle;\n",
       "    }\n",
       "\n",
       "    .dataframe tbody tr th {\n",
       "        vertical-align: top;\n",
       "    }\n",
       "\n",
       "    .dataframe thead th {\n",
       "        text-align: right;\n",
       "    }\n",
       "</style>\n",
       "<table border=\"1\" class=\"dataframe\">\n",
       "  <thead>\n",
       "    <tr style=\"text-align: right;\">\n",
       "      <th></th>\n",
       "      <th>week</th>\n",
       "      <th>sum_in_target_plu</th>\n",
       "      <th>start_dt</th>\n",
       "      <th>end_dt</th>\n",
       "      <th>prev</th>\n",
       "    </tr>\n",
       "  </thead>\n",
       "  <tbody>\n",
       "    <tr>\n",
       "      <th>0</th>\n",
       "      <td>week1</td>\n",
       "      <td>23958425.01</td>\n",
       "      <td>02-12-2021</td>\n",
       "      <td>08-12-2021</td>\n",
       "      <td>23958425.01</td>\n",
       "    </tr>\n",
       "    <tr>\n",
       "      <th>1</th>\n",
       "      <td>week2</td>\n",
       "      <td>34530520.62</td>\n",
       "      <td>09-12-2021</td>\n",
       "      <td>15-12-2021</td>\n",
       "      <td>23958425.01</td>\n",
       "    </tr>\n",
       "    <tr>\n",
       "      <th>2</th>\n",
       "      <td>week3</td>\n",
       "      <td>47697196.75</td>\n",
       "      <td>16-12-2021</td>\n",
       "      <td>22-12-2021</td>\n",
       "      <td>34530520.62</td>\n",
       "    </tr>\n",
       "    <tr>\n",
       "      <th>3</th>\n",
       "      <td>week4</td>\n",
       "      <td>28858369.52</td>\n",
       "      <td>23-12-2021</td>\n",
       "      <td>29-12-2021</td>\n",
       "      <td>47697196.75</td>\n",
       "    </tr>\n",
       "  </tbody>\n",
       "</table>\n",
       "</div>"
      ],
      "text/plain": [
       "    week sum_in_target_plu    start_dt      end_dt         prev\n",
       "0  week1       23958425.01  02-12-2021  08-12-2021  23958425.01\n",
       "1  week2       34530520.62  09-12-2021  15-12-2021  23958425.01\n",
       "2  week3       47697196.75  16-12-2021  22-12-2021  34530520.62\n",
       "3  week4       28858369.52  23-12-2021  29-12-2021  47697196.75"
      ]
     },
     "execution_count": 31,
     "metadata": {},
     "output_type": "execute_result"
    }
   ],
   "source": [
    "in_sum_pd_target_plu"
   ]
  },
  {
   "cell_type": "code",
   "execution_count": 32,
   "id": "f1411a28",
   "metadata": {},
   "outputs": [],
   "source": [
    "in_sum_pd_target_plu.loc[:, ['prev', 'sum_in_target_plu']] = in_sum_pd_target_plu[['prev', 'sum_in_target_plu']].astype('float')"
   ]
  },
  {
   "cell_type": "code",
   "execution_count": 33,
   "id": "f75ccd9b",
   "metadata": {},
   "outputs": [],
   "source": [
    "in_sum_pd_target_plu['%_prev'] = ((in_sum_pd_target_plu['sum_in_target_plu'] - in_sum_pd_target_plu['prev']) * 100 / in_sum_pd_target_plu['prev'])"
   ]
  },
  {
   "cell_type": "code",
   "execution_count": 34,
   "id": "ee6dfd0b",
   "metadata": {},
   "outputs": [],
   "source": [
    "in_sum_pd_target_plu['prev'] = in_sum_pd_target_plu.sum_in_target_plu - in_sum_pd_target_plu.prev"
   ]
  },
  {
   "cell_type": "code",
   "execution_count": 35,
   "id": "b2412ce8",
   "metadata": {},
   "outputs": [
    {
     "data": {
      "text/html": [
       "<div>\n",
       "<style scoped>\n",
       "    .dataframe tbody tr th:only-of-type {\n",
       "        vertical-align: middle;\n",
       "    }\n",
       "\n",
       "    .dataframe tbody tr th {\n",
       "        vertical-align: top;\n",
       "    }\n",
       "\n",
       "    .dataframe thead th {\n",
       "        text-align: right;\n",
       "    }\n",
       "</style>\n",
       "<table border=\"1\" class=\"dataframe\">\n",
       "  <thead>\n",
       "    <tr style=\"text-align: right;\">\n",
       "      <th></th>\n",
       "      <th>week</th>\n",
       "      <th>sum_in_target_plu</th>\n",
       "      <th>start_dt</th>\n",
       "      <th>end_dt</th>\n",
       "      <th>prev</th>\n",
       "      <th>%_prev</th>\n",
       "    </tr>\n",
       "  </thead>\n",
       "  <tbody>\n",
       "    <tr>\n",
       "      <th>0</th>\n",
       "      <td>week1</td>\n",
       "      <td>23,958,425.01</td>\n",
       "      <td>02-12-2021</td>\n",
       "      <td>08-12-2021</td>\n",
       "      <td>0.00</td>\n",
       "      <td>0.00</td>\n",
       "    </tr>\n",
       "    <tr>\n",
       "      <th>1</th>\n",
       "      <td>week2</td>\n",
       "      <td>34,530,520.62</td>\n",
       "      <td>09-12-2021</td>\n",
       "      <td>15-12-2021</td>\n",
       "      <td>10,572,095.61</td>\n",
       "      <td>44.13</td>\n",
       "    </tr>\n",
       "    <tr>\n",
       "      <th>2</th>\n",
       "      <td>week3</td>\n",
       "      <td>47,697,196.75</td>\n",
       "      <td>16-12-2021</td>\n",
       "      <td>22-12-2021</td>\n",
       "      <td>13,166,676.13</td>\n",
       "      <td>38.13</td>\n",
       "    </tr>\n",
       "    <tr>\n",
       "      <th>3</th>\n",
       "      <td>week4</td>\n",
       "      <td>28,858,369.52</td>\n",
       "      <td>23-12-2021</td>\n",
       "      <td>29-12-2021</td>\n",
       "      <td>-18,838,827.23</td>\n",
       "      <td>-39.50</td>\n",
       "    </tr>\n",
       "  </tbody>\n",
       "</table>\n",
       "</div>"
      ],
      "text/plain": [
       "    week sum_in_target_plu    start_dt      end_dt           prev %_prev\n",
       "0  week1     23,958,425.01  02-12-2021  08-12-2021           0.00   0.00\n",
       "1  week2     34,530,520.62  09-12-2021  15-12-2021  10,572,095.61  44.13\n",
       "2  week3     47,697,196.75  16-12-2021  22-12-2021  13,166,676.13  38.13\n",
       "3  week4     28,858,369.52  23-12-2021  29-12-2021 -18,838,827.23 -39.50"
      ]
     },
     "execution_count": 35,
     "metadata": {},
     "output_type": "execute_result"
    }
   ],
   "source": [
    "in_sum_pd_target_plu"
   ]
  },
  {
   "cell_type": "code",
   "execution_count": 36,
   "id": "f9069261",
   "metadata": {},
   "outputs": [],
   "source": [
    "in_sum_pd_target_plu.to_excel('in_sum_stores_brest_litovsk.xlsx', index=False)"
   ]
  },
  {
   "cell_type": "markdown",
   "id": "dbc77936",
   "metadata": {},
   "source": [
    "### 2"
   ]
  },
  {
   "cell_type": "markdown",
   "id": "cd9c63ae",
   "metadata": {},
   "source": [
    "#### Подсчет по целевым PLU гостей из кампании"
   ]
  },
  {
   "cell_type": "code",
   "execution_count": 14,
   "id": "bf469de4",
   "metadata": {},
   "outputs": [],
   "source": [
    "checks_headers = (spark.table(CHECKS_HEADERS)\n",
    "                      .filter(F.col('rtl_txn_dt').between(start_date1, end_date1))\n",
    "                      .filter((F.col('loyalty_card_no') != '') & (F.col('loyalty_card_no').isNotNull()))\n",
    "                      .filter(F.col('financial_unit_format_dk') == 'D')\n",
    "                      .filter(F.col('rtl_txn_cancel_flg') == 0)\n",
    "                      .select('rtl_txn_id', 'loyalty_card_no', 'rtl_txn_dt', 'store_id')\n",
    "                     )\n"
   ]
  },
  {
   "cell_type": "code",
   "execution_count": 15,
   "id": "eafefe6a",
   "metadata": {},
   "outputs": [],
   "source": [
    "checks_headers_tc5 = checks_headers.filter(F.col('store_id').isin(stores))"
   ]
  },
  {
   "cell_type": "code",
   "execution_count": 16,
   "id": "4a7a6c2f",
   "metadata": {},
   "outputs": [],
   "source": [
    "loyalty_cards = (spark\n",
    "                    .table(LOYALTY_CARDS)\n",
    "                    .withColumnRenamed(\"loyalty_card_id\", \"loyalty_card_no\")\n",
    "                    .withColumnRenamed(\"loyalty_account_id\", \"account_no\")\n",
    "                    .withColumnRenamed(\"loyalty_account_acrm_id\", \"account_rk\")\n",
    "                    .select('account_no', 'loyalty_card_no')\n",
    "                )\n",
    "loyalty_cardholders = (spark\n",
    "                        .table(LOYALTY_CARDHOLDERS)\n",
    "                        .withColumnRenamed(\"loyalty_cardholder_acrm_id\", \"customer_rk\")\n",
    "                        .withColumnRenamed(\"loyalty_account_id\", \"account_no\")\n",
    "                        .select('account_no', 'customer_rk')\n",
    "                      )\n",
    "clients_info = loyalty_cards.join(loyalty_cardholders, on='account_no', how='inner')\n",
    "clients_info = clients_info.join(guests_all, on='customer_rk', how='inner')"
   ]
  },
  {
   "cell_type": "code",
   "execution_count": 17,
   "id": "53444daf",
   "metadata": {},
   "outputs": [],
   "source": [
    "checks_headers_tc5 = checks_headers_tc5.join(clients_info, on='loyalty_card_no') #оставили чеки только нужных гостей"
   ]
  },
  {
   "cell_type": "code",
   "execution_count": 18,
   "id": "338892f8",
   "metadata": {},
   "outputs": [],
   "source": [
    "checks_items = (spark.table(CHECKS_ITEMS) \n",
    "                    .withColumnRenamed('plu_id', 'plu_code')\n",
    "                    .withColumnRenamed('turnover_no_vat_amt', 'zsalnovat')\n",
    "                    .withColumnRenamed('turnover_vat_rub_amt', 'zsale_vat')\n",
    "                    .withColumnRenamed('prime_cost_no_vat_amt', 'zcst_n')\n",
    "                    .withColumnRenamed('turnover_base_uom_amt', 'base_qty')\n",
    "                    .withColumnRenamed('discount_amt', 'zdiscount')\n",
    "                    .withColumnRenamed('fact_regular_promo_flg', 'zpromofl')\n",
    "                    .filter(F.col('rtl_txn_dt').between(start_date1, end_date1))\n",
    "                    .filter((F.col('zsalnovat') >= 0) & (F.col('base_qty') >= 0) & (F.col('zcst_n') > 0)) #keep only correct data\n",
    "                        .select('plu_code' #items id\n",
    "                                , 'rtl_txn_id' #cheques id\n",
    "                                , 'zsalnovat'\n",
    "                               )\n",
    "                   )\n"
   ]
  },
  {
   "cell_type": "code",
   "execution_count": 19,
   "id": "4dba7486",
   "metadata": {},
   "outputs": [],
   "source": [
    "checks_items = checks_items.filter(F.col('plu_code').isin(plu_codes)) # только чеки с нужными plu"
   ]
  },
  {
   "cell_type": "code",
   "execution_count": 20,
   "id": "8c297a33",
   "metadata": {},
   "outputs": [],
   "source": [
    "checks_tc5 = checks_items.join(checks_headers_tc5, 'rtl_txn_id', how='inner')"
   ]
  },
  {
   "cell_type": "code",
   "execution_count": 21,
   "id": "03436370",
   "metadata": {},
   "outputs": [],
   "source": [
    "week1_start = datetime.date(2021, 12, 2)\n",
    "week1_end = datetime.date(2021, 12, 8)\n",
    "week2_start = datetime.date(2021, 12, 9)\n",
    "week2_end = datetime.date(2021, 12, 15)\n",
    "week3_start = datetime.date(2021, 12, 16)\n",
    "week3_end = datetime.date(2021, 12, 22)\n",
    "week4_start = datetime.date(2021, 12, 23)\n",
    "week4_end = datetime.date(2021, 12, 29)"
   ]
  },
  {
   "cell_type": "code",
   "execution_count": 22,
   "id": "1a685153",
   "metadata": {},
   "outputs": [],
   "source": [
    "checks_tc5_with_week = (checks_tc5.withColumn('week', F.when(F.col('rtl_txn_dt').between(week1_start, week1_end), \"week1\")\n",
    "                                             .when(F.col('rtl_txn_dt').between(week2_start, week2_end), \"week2\")\n",
    "                                             .when(F.col('rtl_txn_dt').between(week3_start, week3_end), \"week3\")\n",
    "                                             .when(F.col('rtl_txn_dt').between(week4_start, week4_end), \"week4\")\n",
    "                                   ))"
   ]
  },
  {
   "cell_type": "code",
   "execution_count": 23,
   "id": "edb9315e",
   "metadata": {},
   "outputs": [],
   "source": [
    "in_sum = (checks_tc5_with_week.groupby('week').agg(F.sum('zsalnovat').alias('sum_in_target_plu')))"
   ]
  },
  {
   "cell_type": "code",
   "execution_count": 24,
   "id": "155a92d7",
   "metadata": {},
   "outputs": [
    {
     "name": "stderr",
     "output_type": "stream",
     "text": [
      "                                                                                69]]\r"
     ]
    }
   ],
   "source": [
    "in_sum_pd_target_plu = in_sum.toPandas()"
   ]
  },
  {
   "cell_type": "code",
   "execution_count": 25,
   "id": "080d3b7c",
   "metadata": {},
   "outputs": [
    {
     "data": {
      "text/html": [
       "<div>\n",
       "<style scoped>\n",
       "    .dataframe tbody tr th:only-of-type {\n",
       "        vertical-align: middle;\n",
       "    }\n",
       "\n",
       "    .dataframe tbody tr th {\n",
       "        vertical-align: top;\n",
       "    }\n",
       "\n",
       "    .dataframe thead th {\n",
       "        text-align: right;\n",
       "    }\n",
       "</style>\n",
       "<table border=\"1\" class=\"dataframe\">\n",
       "  <thead>\n",
       "    <tr style=\"text-align: right;\">\n",
       "      <th></th>\n",
       "      <th>week</th>\n",
       "      <th>sum_in_target_plu</th>\n",
       "    </tr>\n",
       "  </thead>\n",
       "  <tbody>\n",
       "    <tr>\n",
       "      <th>0</th>\n",
       "      <td>week1</td>\n",
       "      <td>343510.65</td>\n",
       "    </tr>\n",
       "    <tr>\n",
       "      <th>1</th>\n",
       "      <td>week2</td>\n",
       "      <td>569828.58</td>\n",
       "    </tr>\n",
       "    <tr>\n",
       "      <th>2</th>\n",
       "      <td>week3</td>\n",
       "      <td>891751.16</td>\n",
       "    </tr>\n",
       "    <tr>\n",
       "      <th>3</th>\n",
       "      <td>week4</td>\n",
       "      <td>507134.61</td>\n",
       "    </tr>\n",
       "  </tbody>\n",
       "</table>\n",
       "</div>"
      ],
      "text/plain": [
       "    week sum_in_target_plu\n",
       "0  week1         343510.65\n",
       "1  week2         569828.58\n",
       "2  week3         891751.16\n",
       "3  week4         507134.61"
      ]
     },
     "execution_count": 25,
     "metadata": {},
     "output_type": "execute_result"
    }
   ],
   "source": [
    "in_sum_pd_target_plu"
   ]
  },
  {
   "cell_type": "code",
   "execution_count": null,
   "id": "35c948e3",
   "metadata": {},
   "outputs": [],
   "source": [
    "in_sum_pd_target_plu.loc[0, 'start_dt'] = '02-12-2021'\n",
    "in_sum_pd_target_plu.loc[0, 'end_dt'] = '08-12-2021'\n",
    "in_sum_pd_target_plu.loc[1, 'start_dt'] = '09-12-2021'\n",
    "in_sum_pd_target_plu.loc[1, 'end_dt'] = '15-12-2021'\n",
    "in_sum_pd_target_plu.loc[2, 'start_dt'] = '16-12-2021'\n",
    "in_sum_pd_target_plu.loc[2, 'end_dt'] = '22-12-2021'\n",
    "in_sum_pd_target_plu.loc[3, 'start_dt'] = '23-12-2021'\n",
    "in_sum_pd_target_plu.loc[3, 'end_dt'] = '29-12-2021'"
   ]
  },
  {
   "cell_type": "code",
   "execution_count": 26,
   "id": "b8da635d",
   "metadata": {},
   "outputs": [
    {
     "data": {
      "text/html": [
       "<div>\n",
       "<style scoped>\n",
       "    .dataframe tbody tr th:only-of-type {\n",
       "        vertical-align: middle;\n",
       "    }\n",
       "\n",
       "    .dataframe tbody tr th {\n",
       "        vertical-align: top;\n",
       "    }\n",
       "\n",
       "    .dataframe thead th {\n",
       "        text-align: right;\n",
       "    }\n",
       "</style>\n",
       "<table border=\"1\" class=\"dataframe\">\n",
       "  <thead>\n",
       "    <tr style=\"text-align: right;\">\n",
       "      <th></th>\n",
       "      <th>week</th>\n",
       "      <th>sum_in_target_plu</th>\n",
       "    </tr>\n",
       "  </thead>\n",
       "  <tbody>\n",
       "    <tr>\n",
       "      <th>0</th>\n",
       "      <td>week1</td>\n",
       "      <td>343510.65</td>\n",
       "    </tr>\n",
       "    <tr>\n",
       "      <th>1</th>\n",
       "      <td>week2</td>\n",
       "      <td>569828.58</td>\n",
       "    </tr>\n",
       "    <tr>\n",
       "      <th>2</th>\n",
       "      <td>week3</td>\n",
       "      <td>891751.16</td>\n",
       "    </tr>\n",
       "    <tr>\n",
       "      <th>3</th>\n",
       "      <td>week4</td>\n",
       "      <td>507134.61</td>\n",
       "    </tr>\n",
       "  </tbody>\n",
       "</table>\n",
       "</div>"
      ],
      "text/plain": [
       "    week sum_in_target_plu\n",
       "0  week1         343510.65\n",
       "1  week2         569828.58\n",
       "2  week3         891751.16\n",
       "3  week4         507134.61"
      ]
     },
     "execution_count": 26,
     "metadata": {},
     "output_type": "execute_result"
    }
   ],
   "source": [
    "in_sum_pd_target_plu"
   ]
  },
  {
   "cell_type": "code",
   "execution_count": 27,
   "id": "b3d4d878",
   "metadata": {},
   "outputs": [],
   "source": [
    "in_sum_pd_target_plu['prev'] = 0"
   ]
  },
  {
   "cell_type": "code",
   "execution_count": 28,
   "id": "e8f47e76",
   "metadata": {},
   "outputs": [],
   "source": [
    "for i in range(1, len(in_sum_pd_target_plu)):\n",
    "    in_sum_pd_target_plu.loc[i, 'prev'] = in_sum_pd_target_plu.loc[i-1, 'sum_in_target_plu']"
   ]
  },
  {
   "cell_type": "code",
   "execution_count": 29,
   "id": "77add860",
   "metadata": {},
   "outputs": [],
   "source": [
    "in_sum_pd_target_plu.loc[0, 'prev'] = in_sum_pd_target_plu.loc[0, 'sum_in_target_plu']"
   ]
  },
  {
   "cell_type": "code",
   "execution_count": 30,
   "id": "100b0759",
   "metadata": {},
   "outputs": [
    {
     "data": {
      "text/html": [
       "<div>\n",
       "<style scoped>\n",
       "    .dataframe tbody tr th:only-of-type {\n",
       "        vertical-align: middle;\n",
       "    }\n",
       "\n",
       "    .dataframe tbody tr th {\n",
       "        vertical-align: top;\n",
       "    }\n",
       "\n",
       "    .dataframe thead th {\n",
       "        text-align: right;\n",
       "    }\n",
       "</style>\n",
       "<table border=\"1\" class=\"dataframe\">\n",
       "  <thead>\n",
       "    <tr style=\"text-align: right;\">\n",
       "      <th></th>\n",
       "      <th>week</th>\n",
       "      <th>sum_in_target_plu</th>\n",
       "      <th>prev</th>\n",
       "    </tr>\n",
       "  </thead>\n",
       "  <tbody>\n",
       "    <tr>\n",
       "      <th>0</th>\n",
       "      <td>week1</td>\n",
       "      <td>343510.65</td>\n",
       "      <td>343510.65</td>\n",
       "    </tr>\n",
       "    <tr>\n",
       "      <th>1</th>\n",
       "      <td>week2</td>\n",
       "      <td>569828.58</td>\n",
       "      <td>343510.65</td>\n",
       "    </tr>\n",
       "    <tr>\n",
       "      <th>2</th>\n",
       "      <td>week3</td>\n",
       "      <td>891751.16</td>\n",
       "      <td>569828.58</td>\n",
       "    </tr>\n",
       "    <tr>\n",
       "      <th>3</th>\n",
       "      <td>week4</td>\n",
       "      <td>507134.61</td>\n",
       "      <td>891751.16</td>\n",
       "    </tr>\n",
       "  </tbody>\n",
       "</table>\n",
       "</div>"
      ],
      "text/plain": [
       "    week sum_in_target_plu       prev\n",
       "0  week1         343510.65  343510.65\n",
       "1  week2         569828.58  343510.65\n",
       "2  week3         891751.16  569828.58\n",
       "3  week4         507134.61  891751.16"
      ]
     },
     "execution_count": 30,
     "metadata": {},
     "output_type": "execute_result"
    }
   ],
   "source": [
    "in_sum_pd_target_plu"
   ]
  },
  {
   "cell_type": "code",
   "execution_count": 31,
   "id": "178fc3e3",
   "metadata": {},
   "outputs": [],
   "source": [
    "in_sum_pd_target_plu.loc[:, ['prev', 'sum_in_target_plu']] = in_sum_pd_target_plu[['prev', 'sum_in_target_plu']].astype('float')"
   ]
  },
  {
   "cell_type": "code",
   "execution_count": 32,
   "id": "20580440",
   "metadata": {},
   "outputs": [],
   "source": [
    "in_sum_pd_target_plu['%_prev'] = ((in_sum_pd_target_plu['sum_in_target_plu'] - in_sum_pd_target_plu['prev']) * 100 / in_sum_pd_target_plu['prev'])"
   ]
  },
  {
   "cell_type": "code",
   "execution_count": 33,
   "id": "1411c0b9",
   "metadata": {},
   "outputs": [],
   "source": [
    "in_sum_pd_target_plu['prev'] = in_sum_pd_target_plu.sum_in_target_plu - in_sum_pd_target_plu.prev"
   ]
  },
  {
   "cell_type": "code",
   "execution_count": 34,
   "id": "89717f26",
   "metadata": {},
   "outputs": [
    {
     "data": {
      "text/html": [
       "<div>\n",
       "<style scoped>\n",
       "    .dataframe tbody tr th:only-of-type {\n",
       "        vertical-align: middle;\n",
       "    }\n",
       "\n",
       "    .dataframe tbody tr th {\n",
       "        vertical-align: top;\n",
       "    }\n",
       "\n",
       "    .dataframe thead th {\n",
       "        text-align: right;\n",
       "    }\n",
       "</style>\n",
       "<table border=\"1\" class=\"dataframe\">\n",
       "  <thead>\n",
       "    <tr style=\"text-align: right;\">\n",
       "      <th></th>\n",
       "      <th>week</th>\n",
       "      <th>sum_in_target_plu</th>\n",
       "      <th>prev</th>\n",
       "      <th>%_prev</th>\n",
       "    </tr>\n",
       "  </thead>\n",
       "  <tbody>\n",
       "    <tr>\n",
       "      <th>0</th>\n",
       "      <td>week1</td>\n",
       "      <td>343,510.65</td>\n",
       "      <td>0.00</td>\n",
       "      <td>0.00</td>\n",
       "    </tr>\n",
       "    <tr>\n",
       "      <th>1</th>\n",
       "      <td>week2</td>\n",
       "      <td>569,828.58</td>\n",
       "      <td>226,317.93</td>\n",
       "      <td>65.88</td>\n",
       "    </tr>\n",
       "    <tr>\n",
       "      <th>2</th>\n",
       "      <td>week3</td>\n",
       "      <td>891,751.16</td>\n",
       "      <td>321,922.58</td>\n",
       "      <td>56.49</td>\n",
       "    </tr>\n",
       "    <tr>\n",
       "      <th>3</th>\n",
       "      <td>week4</td>\n",
       "      <td>507,134.61</td>\n",
       "      <td>-384,616.55</td>\n",
       "      <td>-43.13</td>\n",
       "    </tr>\n",
       "  </tbody>\n",
       "</table>\n",
       "</div>"
      ],
      "text/plain": [
       "    week sum_in_target_plu        prev %_prev\n",
       "0  week1        343,510.65        0.00   0.00\n",
       "1  week2        569,828.58  226,317.93  65.88\n",
       "2  week3        891,751.16  321,922.58  56.49\n",
       "3  week4        507,134.61 -384,616.55 -43.13"
      ]
     },
     "execution_count": 34,
     "metadata": {},
     "output_type": "execute_result"
    }
   ],
   "source": [
    "in_sum_pd_target_plu"
   ]
  },
  {
   "cell_type": "code",
   "execution_count": 35,
   "id": "6bb9458a",
   "metadata": {},
   "outputs": [],
   "source": [
    "in_sum_pd_target_plu.to_excel('in_sum_stores_plu_guest_camp.xlsx', index=False)"
   ]
  }
 ],
 "metadata": {
  "kernelspec": {
   "display_name": "Python 3 (ipykernel)",
   "language": "python",
   "name": "python3"
  },
  "language_info": {
   "codemirror_mode": {
    "name": "ipython",
    "version": 3
   },
   "file_extension": ".py",
   "mimetype": "text/x-python",
   "name": "python",
   "nbconvert_exporter": "python",
   "pygments_lexer": "ipython3",
   "version": "3.7.10"
  }
 },
 "nbformat": 4,
 "nbformat_minor": 5
}
