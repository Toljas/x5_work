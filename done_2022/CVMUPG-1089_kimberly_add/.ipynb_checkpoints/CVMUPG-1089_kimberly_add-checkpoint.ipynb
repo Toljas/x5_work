{
 "cells": [
  {
   "cell_type": "markdown",
   "id": "ed288f5a",
   "metadata": {},
   "source": [
    "https://jira.x5.ru/browse/CVMUPG-1089"
   ]
  },
  {
   "cell_type": "code",
   "execution_count": 1,
   "id": "33b5281a",
   "metadata": {},
   "outputs": [],
   "source": [
    "name = 'CVMUPG-1089_kimberly_add'"
   ]
  },
  {
   "cell_type": "code",
   "execution_count": 2,
   "id": "1f1462a4",
   "metadata": {},
   "outputs": [],
   "source": [
    "import sys\n",
    "import pandas as pd\n",
    "import pyspark.sql.functions as F\n",
    "sys.path.append('/home/jovyan/cvm_upgrade/')\n",
    "sys.path.append('/home/jovyan/cvm_upgrade/upgrade/')\n",
    "sys.path.append('/home/jovyan/glow-byte-filters-pyspark')\n",
    "sys.path.append('/home/jovyan/x5_some_tasks/Osipov/')\n",
    "from upgrade.post_analysis2.tools.groups_metrics_aggregation import GroupsMetricsAggregation\n",
    "from upgrade.post_analysis2.tools.guests_metrics_preprocessing import GuestsMetricsPreprocessing\n",
    "from upgrade.post_analysis2.tools.post_analysis_params import PostAnalysisParams\n",
    "from upgrade.post_analysis2.tools.metric_names_mapper import map_col_names_to_russian\n",
    "from upgrade.post_analysis2.tools.experiment_participants import ExperimentParticipants\n",
    "from upgrade.post_analysis2.tools.experiment_params import ExperimentParams\n",
    "import datetime\n",
    "from datetime import timedelta\n",
    "from spark import *\n",
    "from utils_osipov import *\n",
    "\n",
    "%load_ext autoreload\n",
    "%autoreload 2\n",
    "\n",
    "pd.options.display.float_format = '{:,.2f}'.format\n",
    "pd.options.display.max_rows = 500"
   ]
  },
  {
   "cell_type": "code",
   "execution_count": 3,
   "id": "db9e9946",
   "metadata": {
    "collapsed": false,
    "jupyter": {
     "outputs_hidden": false
    },
    "pycharm": {
     "name": "#%%\n"
    }
   },
   "outputs": [
    {
     "name": "stderr",
     "output_type": "stream",
     "text": [
      "Setting default log level to \"WARN\".\n",
      "To adjust logging level use sc.setLogLevel(newLevel). For SparkR, use setLogLevel(newLevel).\n",
      "22/02/08 03:17:59 WARN cluster.YarnSchedulerBackend$YarnSchedulerEndpoint: Attempted to request executors before the AM has registered!\n"
     ]
    }
   ],
   "source": [
    "sc, spark = restart_spark(name, 100, executor_memory=\"3G\", executor_cores=5, driver_memory=\"12G\",\n",
    "                          additional_params={\"spark.sql.shuffle.partitions\": \"200\"})\n",
    "sc.setLogLevel('ERROR')"
   ]
  },
  {
   "cell_type": "markdown",
   "id": "ca2fc2f5",
   "metadata": {},
   "source": [
    "### A-24-17-recurrent-Kimberly-clark-brand-w2-no"
   ]
  },
  {
   "cell_type": "code",
   "execution_count": 4,
   "id": "e367b94a",
   "metadata": {
    "collapsed": false,
    "jupyter": {
     "outputs_hidden": false
    },
    "pycharm": {
     "name": "#%%\n"
    }
   },
   "outputs": [],
   "source": [
    "camp_id = 'A-24-17-recurrent-Kimberly-clark-brand-w2-no'\n",
    "\n",
    "experiment_params = ExperimentParams(**{\n",
    "    # Camp wave id нужно записать в виде мапы из id в префиксы.\n",
    "    # Префиксы ни на что не влияют, просто для более красивого названия групп\n",
    "    # Заполняются camp_wave_id. Если для контроля и теста одинаковый, то пишем два раза\n",
    "    'map_camp_wave_ids_to_suffixes': {\n",
    "        65307: \"sms_viber_tg\",\n",
    "        63797: \"sms_viber_cg\"\n",
    "    },\n",
    "\n",
    "    # communication period with guest (sending sms, push, etc.)\n",
    "    'date_communication_from': '2021-10-20',\n",
    "    'date_communication_to': '2021-10-26',\n",
    "\n",
    "    'wave_ids': [\n",
    "        65380 #если нет, то -1\n",
    "    ],\n",
    "\n",
    "    'communication_costs': {\n",
    "        'sms': 1.38,\n",
    "        'viber': 1.32,\n",
    "        'email': 0.0083\n",
    "    }\n",
    "})\n",
    "#0_ + camp_wave_id +_sms_viber_ + cg (если номера волн равны) / tg (если номера волн разные)"
   ]
  },
  {
   "cell_type": "code",
   "execution_count": 5,
   "id": "8769af65",
   "metadata": {
    "collapsed": false,
    "jupyter": {
     "outputs_hidden": false
    },
    "pycharm": {
     "name": "#%%\n"
    },
    "scrolled": true
   },
   "outputs": [],
   "source": [
    "experiment_guests = ExperimentParticipants(spark, experiment_params)\n",
    "experiment_guests_communications = experiment_guests.extract()"
   ]
  },
  {
   "cell_type": "code",
   "execution_count": 13,
   "id": "9411c58a",
   "metadata": {},
   "outputs": [],
   "source": [
    "guests = (experiment_guests_communications\n",
    "#           .filter(F.col('group_name') == '0_' +\n",
    "#                 str(list(experiment_params.map_camp_wave_ids_to_suffixes.keys())[0]) + '_' +\n",
    "#                 list(experiment_params.map_camp_wave_ids_to_suffixes.values())[0])\n",
    "#           .select('customer_rk').distinct()\n",
    "         )"
   ]
  },
  {
   "cell_type": "code",
   "execution_count": 14,
   "id": "95eaf8d3",
   "metadata": {},
   "outputs": [],
   "source": [
    "dt1 = datetime.datetime.strptime(experiment_params.date_communication_from, '%Y-%m-%d')\n",
    "dt2 = datetime.datetime.strptime(experiment_params.date_communication_to, '%Y-%m-%d')"
   ]
  },
  {
   "cell_type": "code",
   "execution_count": 15,
   "id": "cebc6e2a",
   "metadata": {},
   "outputs": [],
   "source": [
    "start_date = datetime.date(dt1.year, dt1.month, dt1.day)\n",
    "end_date = datetime.date(dt2.year, dt2.month, dt2.day)"
   ]
  },
  {
   "cell_type": "code",
   "execution_count": 16,
   "id": "3cc2419d",
   "metadata": {},
   "outputs": [],
   "source": [
    "plu_codes = [3364389, 3017398, 3364386, 3647605, 3647604, 3923304, 3364392]"
   ]
  },
  {
   "cell_type": "code",
   "execution_count": 17,
   "id": "a60599d7",
   "metadata": {},
   "outputs": [
    {
     "name": "stderr",
     "output_type": "stream",
     "text": [
      "                                                                                0]]]]]\r"
     ]
    }
   ],
   "source": [
    "seg_pd1 = get_segment_grouped_one_plu(spark, \n",
    "                    start_date, \n",
    "                    end_date, \n",
    "                    plu_codes,\n",
    "                    guests=guests)"
   ]
  },
  {
   "cell_type": "code",
   "execution_count": 18,
   "id": "928108f5",
   "metadata": {},
   "outputs": [],
   "source": [
    "seg_pd1['qty'] = seg_pd1['qty'].astype('float')"
   ]
  },
  {
   "cell_type": "code",
   "execution_count": 19,
   "id": "2df50626",
   "metadata": {},
   "outputs": [
    {
     "data": {
      "text/html": [
       "<div>\n",
       "<style scoped>\n",
       "    .dataframe tbody tr th:only-of-type {\n",
       "        vertical-align: middle;\n",
       "    }\n",
       "\n",
       "    .dataframe tbody tr th {\n",
       "        vertical-align: top;\n",
       "    }\n",
       "\n",
       "    .dataframe thead th {\n",
       "        text-align: right;\n",
       "    }\n",
       "</style>\n",
       "<table border=\"1\" class=\"dataframe\">\n",
       "  <thead>\n",
       "    <tr style=\"text-align: right;\">\n",
       "      <th></th>\n",
       "      <th>plu_code</th>\n",
       "      <th>qty</th>\n",
       "      <th>plu_nm</th>\n",
       "    </tr>\n",
       "  </thead>\n",
       "  <tbody>\n",
       "    <tr>\n",
       "      <th>0</th>\n",
       "      <td>3364386</td>\n",
       "      <td>12.00</td>\n",
       "      <td>KOTEX Прокладки Ультра нормал 10шт</td>\n",
       "    </tr>\n",
       "    <tr>\n",
       "      <th>1</th>\n",
       "      <td>3017398</td>\n",
       "      <td>225.00</td>\n",
       "      <td>KOTEX Прокл.УЛЬТРА НАЙТ гигиен.жен.7шт</td>\n",
       "    </tr>\n",
       "    <tr>\n",
       "      <th>2</th>\n",
       "      <td>3364392</td>\n",
       "      <td>33.00</td>\n",
       "      <td>KOTEX Прокладки Ультра Драй супер 16шт</td>\n",
       "    </tr>\n",
       "    <tr>\n",
       "      <th>3</th>\n",
       "      <td>3647604</td>\n",
       "      <td>236.00</td>\n",
       "      <td>KOTEX Прокл.ULTRA SOFT гиг.нормал 10шт</td>\n",
       "    </tr>\n",
       "  </tbody>\n",
       "</table>\n",
       "</div>"
      ],
      "text/plain": [
       "  plu_code    qty                                  plu_nm\n",
       "0  3364386  12.00      KOTEX Прокладки Ультра нормал 10шт\n",
       "1  3017398 225.00  KOTEX Прокл.УЛЬТРА НАЙТ гигиен.жен.7шт\n",
       "2  3364392  33.00  KOTEX Прокладки Ультра Драй супер 16шт\n",
       "3  3647604 236.00  KOTEX Прокл.ULTRA SOFT гиг.нормал 10шт"
      ]
     },
     "execution_count": 19,
     "metadata": {},
     "output_type": "execute_result"
    }
   ],
   "source": [
    "seg_pd1"
   ]
  },
  {
   "cell_type": "markdown",
   "id": "cb9dde74",
   "metadata": {},
   "source": [
    "### A-24-17-recurrent-Kimberly-clark-brand-w2-yes"
   ]
  },
  {
   "cell_type": "code",
   "execution_count": 20,
   "id": "724b8eac",
   "metadata": {
    "collapsed": false,
    "jupyter": {
     "outputs_hidden": false
    },
    "pycharm": {
     "name": "#%%\n"
    }
   },
   "outputs": [],
   "source": [
    "camp_id = 'A-24-17-recurrent-Kimberly-clark-brand-w2-yes'\n",
    "\n",
    "experiment_params = ExperimentParams(**{\n",
    "    # Camp wave id нужно записать в виде мапы из id в префиксы.\n",
    "    # Префиксы ни на что не влияют, просто для более красивого названия групп\n",
    "    # Заполняются camp_wave_id. Если для контроля и теста одинаковый, то пишем два раза\n",
    "    'map_camp_wave_ids_to_suffixes': {\n",
    "        65300: \"sms_viber_tg\",\n",
    "        63797: \"sms_viber_cg\"\n",
    "    },\n",
    "\n",
    "    # communication period with guest (sending sms, push, etc.)\n",
    "    'date_communication_from': '2021-10-20',\n",
    "    'date_communication_to': '2021-10-26',\n",
    "\n",
    "    'wave_ids': [\n",
    "        65365 #если нет, то -1\n",
    "    ],\n",
    "\n",
    "    'communication_costs': {\n",
    "        'sms': 1.38,\n",
    "        'viber': 1.32,\n",
    "        'email': 0.0083\n",
    "    }\n",
    "})\n",
    "#0_ + camp_wave_id +_sms_viber_ + cg (если номера волн равны) / tg (если номера волн разные)"
   ]
  },
  {
   "cell_type": "code",
   "execution_count": 21,
   "id": "3ed46b87",
   "metadata": {
    "collapsed": false,
    "jupyter": {
     "outputs_hidden": false
    },
    "pycharm": {
     "name": "#%%\n"
    },
    "scrolled": true
   },
   "outputs": [],
   "source": [
    "experiment_guests = ExperimentParticipants(spark, experiment_params)\n",
    "experiment_guests_communications = experiment_guests.extract()"
   ]
  },
  {
   "cell_type": "code",
   "execution_count": 22,
   "id": "4b6adc2f",
   "metadata": {},
   "outputs": [],
   "source": [
    "guests = (experiment_guests_communications\n",
    "#           .filter(F.col('group_name') == '0_' +\n",
    "#                 str(list(experiment_params.map_camp_wave_ids_to_suffixes.keys())[0]) + '_' +\n",
    "#                 list(experiment_params.map_camp_wave_ids_to_suffixes.values())[0])\n",
    "#           .select('customer_rk').distinct()\n",
    "         )"
   ]
  },
  {
   "cell_type": "code",
   "execution_count": 23,
   "id": "98910252",
   "metadata": {},
   "outputs": [],
   "source": [
    "dt1 = datetime.datetime.strptime(experiment_params.date_communication_from, '%Y-%m-%d')\n",
    "dt2 = datetime.datetime.strptime(experiment_params.date_communication_to, '%Y-%m-%d')"
   ]
  },
  {
   "cell_type": "code",
   "execution_count": 24,
   "id": "2f0f207b",
   "metadata": {},
   "outputs": [],
   "source": [
    "start_date = datetime.date(dt1.year, dt1.month, dt1.day)\n",
    "end_date = datetime.date(dt2.year, dt2.month, dt2.day)"
   ]
  },
  {
   "cell_type": "code",
   "execution_count": 25,
   "id": "1c434295",
   "metadata": {},
   "outputs": [],
   "source": [
    "plu_codes = [3364389, 3017398, 3364386, 3647605, 3647604, 3923304, 3364392]"
   ]
  },
  {
   "cell_type": "code",
   "execution_count": 26,
   "id": "f1af88ef",
   "metadata": {},
   "outputs": [
    {
     "name": "stderr",
     "output_type": "stream",
     "text": [
      "                                                                                ]]]]]]\r"
     ]
    }
   ],
   "source": [
    "seg_pd2 = get_segment_grouped_one_plu(spark, \n",
    "                    start_date, \n",
    "                    end_date, \n",
    "                    plu_codes,\n",
    "                    guests=guests)"
   ]
  },
  {
   "cell_type": "code",
   "execution_count": 27,
   "id": "28ba7509",
   "metadata": {},
   "outputs": [],
   "source": [
    "seg_pd2['qty'] = seg_pd2['qty'].astype('float')"
   ]
  },
  {
   "cell_type": "code",
   "execution_count": 28,
   "id": "beb15381",
   "metadata": {},
   "outputs": [
    {
     "data": {
      "text/html": [
       "<div>\n",
       "<style scoped>\n",
       "    .dataframe tbody tr th:only-of-type {\n",
       "        vertical-align: middle;\n",
       "    }\n",
       "\n",
       "    .dataframe tbody tr th {\n",
       "        vertical-align: top;\n",
       "    }\n",
       "\n",
       "    .dataframe thead th {\n",
       "        text-align: right;\n",
       "    }\n",
       "</style>\n",
       "<table border=\"1\" class=\"dataframe\">\n",
       "  <thead>\n",
       "    <tr style=\"text-align: right;\">\n",
       "      <th></th>\n",
       "      <th>plu_code</th>\n",
       "      <th>qty</th>\n",
       "      <th>plu_nm</th>\n",
       "    </tr>\n",
       "  </thead>\n",
       "  <tbody>\n",
       "    <tr>\n",
       "      <th>0</th>\n",
       "      <td>3364386</td>\n",
       "      <td>7.00</td>\n",
       "      <td>KOTEX Прокладки Ультра нормал 10шт</td>\n",
       "    </tr>\n",
       "    <tr>\n",
       "      <th>1</th>\n",
       "      <td>3017398</td>\n",
       "      <td>225.00</td>\n",
       "      <td>KOTEX Прокл.УЛЬТРА НАЙТ гигиен.жен.7шт</td>\n",
       "    </tr>\n",
       "    <tr>\n",
       "      <th>2</th>\n",
       "      <td>3647604</td>\n",
       "      <td>287.00</td>\n",
       "      <td>KOTEX Прокл.ULTRA SOFT гиг.нормал 10шт</td>\n",
       "    </tr>\n",
       "    <tr>\n",
       "      <th>3</th>\n",
       "      <td>3364392</td>\n",
       "      <td>29.00</td>\n",
       "      <td>KOTEX Прокладки Ультра Драй супер 16шт</td>\n",
       "    </tr>\n",
       "  </tbody>\n",
       "</table>\n",
       "</div>"
      ],
      "text/plain": [
       "  plu_code    qty                                  plu_nm\n",
       "0  3364386   7.00      KOTEX Прокладки Ультра нормал 10шт\n",
       "1  3017398 225.00  KOTEX Прокл.УЛЬТРА НАЙТ гигиен.жен.7шт\n",
       "2  3647604 287.00  KOTEX Прокл.ULTRA SOFT гиг.нормал 10шт\n",
       "3  3364392  29.00  KOTEX Прокладки Ультра Драй супер 16шт"
      ]
     },
     "execution_count": 28,
     "metadata": {},
     "output_type": "execute_result"
    }
   ],
   "source": [
    "seg_pd2"
   ]
  },
  {
   "cell_type": "markdown",
   "id": "3744c120",
   "metadata": {},
   "source": [
    "### A-24-16-recurrent-Kimberly-clark-all-w2-no"
   ]
  },
  {
   "cell_type": "code",
   "execution_count": 29,
   "id": "b69e457e",
   "metadata": {
    "collapsed": false,
    "jupyter": {
     "outputs_hidden": false
    },
    "pycharm": {
     "name": "#%%\n"
    }
   },
   "outputs": [],
   "source": [
    "camp_id = 'A-24-16-recurrent-Kimberly-clark-all-w2-no'\n",
    "\n",
    "experiment_params = ExperimentParams(**{\n",
    "    # Camp wave id нужно записать в виде мапы из id в префиксы.\n",
    "    # Префиксы ни на что не влияют, просто для более красивого названия групп\n",
    "    # Заполняются camp_wave_id. Если для контроля и теста одинаковый, то пишем два раза\n",
    "    'map_camp_wave_ids_to_suffixes': {\n",
    "        65289: \"sms_viber_tg\",\n",
    "        63796: \"sms_viber_cg\"\n",
    "    },\n",
    "\n",
    "    # communication period with guest (sending sms, push, etc.)\n",
    "    'date_communication_from': '2021-10-20',\n",
    "    'date_communication_to': '2021-10-26',\n",
    "\n",
    "    'wave_ids': [\n",
    "        65401 #если нет, то -1\n",
    "    ],\n",
    "\n",
    "    'communication_costs': {\n",
    "        'sms': 1.38,\n",
    "        'viber': 1.32,\n",
    "        'email': 0.0083\n",
    "    }\n",
    "})\n",
    "#0_ + camp_wave_id +_sms_viber_ + cg (если номера волн равны) / tg (если номера волн разные)"
   ]
  },
  {
   "cell_type": "code",
   "execution_count": 30,
   "id": "885fc75d",
   "metadata": {
    "collapsed": false,
    "jupyter": {
     "outputs_hidden": false
    },
    "pycharm": {
     "name": "#%%\n"
    },
    "scrolled": true
   },
   "outputs": [],
   "source": [
    "experiment_guests = ExperimentParticipants(spark, experiment_params)\n",
    "experiment_guests_communications = experiment_guests.extract()"
   ]
  },
  {
   "cell_type": "code",
   "execution_count": 31,
   "id": "35c86707",
   "metadata": {},
   "outputs": [],
   "source": [
    "guests = (experiment_guests_communications\n",
    "#           .filter(F.col('group_name') == '0_' +\n",
    "#                 str(list(experiment_params.map_camp_wave_ids_to_suffixes.keys())[0]) + '_' +\n",
    "#                 list(experiment_params.map_camp_wave_ids_to_suffixes.values())[0])\n",
    "#           .select('customer_rk').distinct()\n",
    "         )"
   ]
  },
  {
   "cell_type": "code",
   "execution_count": 32,
   "id": "50764945",
   "metadata": {},
   "outputs": [],
   "source": [
    "dt1 = datetime.datetime.strptime(experiment_params.date_communication_from, '%Y-%m-%d')\n",
    "dt2 = datetime.datetime.strptime(experiment_params.date_communication_to, '%Y-%m-%d')"
   ]
  },
  {
   "cell_type": "code",
   "execution_count": 33,
   "id": "f92e40bc",
   "metadata": {},
   "outputs": [],
   "source": [
    "start_date = datetime.date(dt1.year, dt1.month, dt1.day)\n",
    "end_date = datetime.date(dt2.year, dt2.month, dt2.day)"
   ]
  },
  {
   "cell_type": "code",
   "execution_count": 34,
   "id": "9018739e",
   "metadata": {},
   "outputs": [],
   "source": [
    "plu_codes = [3364389, 3017398, 3364386, 3647605, 3647604, 3923304, 3364392]"
   ]
  },
  {
   "cell_type": "code",
   "execution_count": 35,
   "id": "058aff83",
   "metadata": {},
   "outputs": [
    {
     "name": "stderr",
     "output_type": "stream",
     "text": [
      "                                                                                ]]]]]]\r"
     ]
    }
   ],
   "source": [
    "seg_pd3 = get_segment_grouped_one_plu(spark, \n",
    "                    start_date, \n",
    "                    end_date, \n",
    "                    plu_codes,\n",
    "                    guests=guests)"
   ]
  },
  {
   "cell_type": "code",
   "execution_count": 36,
   "id": "df1f95f6",
   "metadata": {},
   "outputs": [],
   "source": [
    "seg_pd3['qty'] = seg_pd3['qty'].astype('float')"
   ]
  },
  {
   "cell_type": "code",
   "execution_count": 37,
   "id": "0c645a7d",
   "metadata": {},
   "outputs": [
    {
     "data": {
      "text/html": [
       "<div>\n",
       "<style scoped>\n",
       "    .dataframe tbody tr th:only-of-type {\n",
       "        vertical-align: middle;\n",
       "    }\n",
       "\n",
       "    .dataframe tbody tr th {\n",
       "        vertical-align: top;\n",
       "    }\n",
       "\n",
       "    .dataframe thead th {\n",
       "        text-align: right;\n",
       "    }\n",
       "</style>\n",
       "<table border=\"1\" class=\"dataframe\">\n",
       "  <thead>\n",
       "    <tr style=\"text-align: right;\">\n",
       "      <th></th>\n",
       "      <th>plu_code</th>\n",
       "      <th>qty</th>\n",
       "      <th>plu_nm</th>\n",
       "    </tr>\n",
       "  </thead>\n",
       "  <tbody>\n",
       "    <tr>\n",
       "      <th>0</th>\n",
       "      <td>3364386</td>\n",
       "      <td>1.00</td>\n",
       "      <td>KOTEX Прокладки Ультра нормал 10шт</td>\n",
       "    </tr>\n",
       "    <tr>\n",
       "      <th>1</th>\n",
       "      <td>3017398</td>\n",
       "      <td>126.00</td>\n",
       "      <td>KOTEX Прокл.УЛЬТРА НАЙТ гигиен.жен.7шт</td>\n",
       "    </tr>\n",
       "    <tr>\n",
       "      <th>2</th>\n",
       "      <td>3364389</td>\n",
       "      <td>3.00</td>\n",
       "      <td>KOTEX Прокладки Ультра Драй нормал 20шт</td>\n",
       "    </tr>\n",
       "    <tr>\n",
       "      <th>3</th>\n",
       "      <td>3647604</td>\n",
       "      <td>135.00</td>\n",
       "      <td>KOTEX Прокл.ULTRA SOFT гиг.нормал 10шт</td>\n",
       "    </tr>\n",
       "    <tr>\n",
       "      <th>4</th>\n",
       "      <td>3364392</td>\n",
       "      <td>21.00</td>\n",
       "      <td>KOTEX Прокладки Ультра Драй супер 16шт</td>\n",
       "    </tr>\n",
       "  </tbody>\n",
       "</table>\n",
       "</div>"
      ],
      "text/plain": [
       "  plu_code    qty                                   plu_nm\n",
       "0  3364386   1.00       KOTEX Прокладки Ультра нормал 10шт\n",
       "1  3017398 126.00   KOTEX Прокл.УЛЬТРА НАЙТ гигиен.жен.7шт\n",
       "2  3364389   3.00  KOTEX Прокладки Ультра Драй нормал 20шт\n",
       "3  3647604 135.00   KOTEX Прокл.ULTRA SOFT гиг.нормал 10шт\n",
       "4  3364392  21.00   KOTEX Прокладки Ультра Драй супер 16шт"
      ]
     },
     "execution_count": 37,
     "metadata": {},
     "output_type": "execute_result"
    }
   ],
   "source": [
    "seg_pd3"
   ]
  },
  {
   "cell_type": "markdown",
   "id": "b5cb11bf",
   "metadata": {},
   "source": [
    "### A-24-16-recurrent-Kimberly-clark-all-w2-yes"
   ]
  },
  {
   "cell_type": "code",
   "execution_count": 38,
   "id": "abf95935",
   "metadata": {
    "collapsed": false,
    "jupyter": {
     "outputs_hidden": false
    },
    "pycharm": {
     "name": "#%%\n"
    }
   },
   "outputs": [],
   "source": [
    "camp_id = 'A-24-16-recurrent-Kimberly-clark-all-w2-yes'\n",
    "\n",
    "experiment_params = ExperimentParams(**{\n",
    "    # Camp wave id нужно записать в виде мапы из id в префиксы.\n",
    "    # Префиксы ни на что не влияют, просто для более красивого названия групп\n",
    "    # Заполняются camp_wave_id. Если для контроля и теста одинаковый, то пишем два раза\n",
    "    'map_camp_wave_ids_to_suffixes': {\n",
    "        65291: \"sms_viber_tg\",\n",
    "        63796: \"sms_viber_cg\"\n",
    "    },\n",
    "\n",
    "    # communication period with guest (sending sms, push, etc.)\n",
    "    'date_communication_from': '2021-10-20',\n",
    "    'date_communication_to': '2021-10-26',\n",
    "\n",
    "    'wave_ids': [\n",
    "        65398 #если нет, то -1\n",
    "    ],\n",
    "\n",
    "    'communication_costs': {\n",
    "        'sms': 1.38,\n",
    "        'viber': 1.32,\n",
    "        'email': 0.0083\n",
    "    }\n",
    "})\n",
    "#0_ + camp_wave_id +_sms_viber_ + cg (если номера волн равны) / tg (если номера волн разные)"
   ]
  },
  {
   "cell_type": "code",
   "execution_count": 39,
   "id": "08fc6792",
   "metadata": {
    "collapsed": false,
    "jupyter": {
     "outputs_hidden": false
    },
    "pycharm": {
     "name": "#%%\n"
    },
    "scrolled": true
   },
   "outputs": [],
   "source": [
    "experiment_guests = ExperimentParticipants(spark, experiment_params)\n",
    "experiment_guests_communications = experiment_guests.extract()"
   ]
  },
  {
   "cell_type": "code",
   "execution_count": 40,
   "id": "5852a835",
   "metadata": {},
   "outputs": [],
   "source": [
    "guests = (experiment_guests_communications\n",
    "#           .filter(F.col('group_name') == '0_' +\n",
    "#                 str(list(experiment_params.map_camp_wave_ids_to_suffixes.keys())[0]) + '_' +\n",
    "#                 list(experiment_params.map_camp_wave_ids_to_suffixes.values())[0])\n",
    "#           .select('customer_rk').distinct()\n",
    "         )"
   ]
  },
  {
   "cell_type": "code",
   "execution_count": 41,
   "id": "7f19dca7",
   "metadata": {},
   "outputs": [],
   "source": [
    "dt1 = datetime.datetime.strptime(experiment_params.date_communication_from, '%Y-%m-%d')\n",
    "dt2 = datetime.datetime.strptime(experiment_params.date_communication_to, '%Y-%m-%d')"
   ]
  },
  {
   "cell_type": "code",
   "execution_count": 42,
   "id": "79f89cbb",
   "metadata": {},
   "outputs": [],
   "source": [
    "start_date = datetime.date(dt1.year, dt1.month, dt1.day)\n",
    "end_date = datetime.date(dt2.year, dt2.month, dt2.day)"
   ]
  },
  {
   "cell_type": "code",
   "execution_count": 43,
   "id": "f143b236",
   "metadata": {},
   "outputs": [],
   "source": [
    "plu_codes = [3364389, 3017398, 3364386, 3647605, 3647604, 3923304, 3364392]"
   ]
  },
  {
   "cell_type": "code",
   "execution_count": 44,
   "id": "f6b6442d",
   "metadata": {},
   "outputs": [
    {
     "name": "stderr",
     "output_type": "stream",
     "text": [
      "                                                                                ]]]]]\r"
     ]
    }
   ],
   "source": [
    "seg_pd4 = get_segment_grouped_one_plu(spark, \n",
    "                    start_date, \n",
    "                    end_date, \n",
    "                    plu_codes,\n",
    "                    guests=guests)"
   ]
  },
  {
   "cell_type": "code",
   "execution_count": 45,
   "id": "7f55ac17",
   "metadata": {},
   "outputs": [],
   "source": [
    "seg_pd4['qty'] = seg_pd4['qty'].astype('float')"
   ]
  },
  {
   "cell_type": "code",
   "execution_count": 46,
   "id": "064fc6f0",
   "metadata": {},
   "outputs": [
    {
     "data": {
      "text/html": [
       "<div>\n",
       "<style scoped>\n",
       "    .dataframe tbody tr th:only-of-type {\n",
       "        vertical-align: middle;\n",
       "    }\n",
       "\n",
       "    .dataframe tbody tr th {\n",
       "        vertical-align: top;\n",
       "    }\n",
       "\n",
       "    .dataframe thead th {\n",
       "        text-align: right;\n",
       "    }\n",
       "</style>\n",
       "<table border=\"1\" class=\"dataframe\">\n",
       "  <thead>\n",
       "    <tr style=\"text-align: right;\">\n",
       "      <th></th>\n",
       "      <th>plu_code</th>\n",
       "      <th>qty</th>\n",
       "      <th>plu_nm</th>\n",
       "    </tr>\n",
       "  </thead>\n",
       "  <tbody>\n",
       "    <tr>\n",
       "      <th>0</th>\n",
       "      <td>3364386</td>\n",
       "      <td>2.00</td>\n",
       "      <td>KOTEX Прокладки Ультра нормал 10шт</td>\n",
       "    </tr>\n",
       "    <tr>\n",
       "      <th>1</th>\n",
       "      <td>3017398</td>\n",
       "      <td>79.00</td>\n",
       "      <td>KOTEX Прокл.УЛЬТРА НАЙТ гигиен.жен.7шт</td>\n",
       "    </tr>\n",
       "    <tr>\n",
       "      <th>2</th>\n",
       "      <td>3647604</td>\n",
       "      <td>124.00</td>\n",
       "      <td>KOTEX Прокл.ULTRA SOFT гиг.нормал 10шт</td>\n",
       "    </tr>\n",
       "    <tr>\n",
       "      <th>3</th>\n",
       "      <td>3364392</td>\n",
       "      <td>15.00</td>\n",
       "      <td>KOTEX Прокладки Ультра Драй супер 16шт</td>\n",
       "    </tr>\n",
       "  </tbody>\n",
       "</table>\n",
       "</div>"
      ],
      "text/plain": [
       "  plu_code    qty                                  plu_nm\n",
       "0  3364386   2.00      KOTEX Прокладки Ультра нормал 10шт\n",
       "1  3017398  79.00  KOTEX Прокл.УЛЬТРА НАЙТ гигиен.жен.7шт\n",
       "2  3647604 124.00  KOTEX Прокл.ULTRA SOFT гиг.нормал 10шт\n",
       "3  3364392  15.00  KOTEX Прокладки Ультра Драй супер 16шт"
      ]
     },
     "execution_count": 46,
     "metadata": {},
     "output_type": "execute_result"
    }
   ],
   "source": [
    "seg_pd4"
   ]
  },
  {
   "cell_type": "markdown",
   "id": "304ad5c9",
   "metadata": {},
   "source": [
    "### X-24-18-KimberlyClark-Kotex-Competitors-2-sof"
   ]
  },
  {
   "cell_type": "code",
   "execution_count": 47,
   "id": "04647100",
   "metadata": {
    "collapsed": false,
    "jupyter": {
     "outputs_hidden": false
    },
    "pycharm": {
     "name": "#%%\n"
    }
   },
   "outputs": [],
   "source": [
    "camp_id = 'X-24-18-KimberlyClark-Kotex-Competitors-2-sof'\n",
    "\n",
    "experiment_params = ExperimentParams(**{\n",
    "    # Camp wave id нужно записать в виде мапы из id в префиксы.\n",
    "    # Префиксы ни на что не влияют, просто для более красивого названия групп\n",
    "    # Заполняются camp_wave_id. Если для контроля и теста одинаковый, то пишем два раза\n",
    "    'map_camp_wave_ids_to_suffixes': {\n",
    "        63969: \"sms_viber_tg\",\n",
    "        63970: \"sms_viber_cg\"\n",
    "    },\n",
    "\n",
    "    # communication period with guest (sending sms, push, etc.)\n",
    "    'date_communication_from': '2021-10-07',\n",
    "    'date_communication_to': '2021-10-17',\n",
    "\n",
    "    'wave_ids': [\n",
    "        64054 #если нет, то -1\n",
    "    ],\n",
    "\n",
    "    'communication_costs': {\n",
    "        'sms': 1.38,\n",
    "        'viber': 1.32,\n",
    "        'email': 0.0083\n",
    "    }\n",
    "})\n",
    "#0_ + camp_wave_id +_sms_viber_ + cg (если номера волн равны) / tg (если номера волн разные)"
   ]
  },
  {
   "cell_type": "code",
   "execution_count": 48,
   "id": "ae511b36",
   "metadata": {
    "collapsed": false,
    "jupyter": {
     "outputs_hidden": false
    },
    "pycharm": {
     "name": "#%%\n"
    },
    "scrolled": true
   },
   "outputs": [],
   "source": [
    "experiment_guests = ExperimentParticipants(spark, experiment_params)\n",
    "experiment_guests_communications = experiment_guests.extract()"
   ]
  },
  {
   "cell_type": "code",
   "execution_count": 49,
   "id": "f76626be",
   "metadata": {},
   "outputs": [],
   "source": [
    "guests = (experiment_guests_communications\n",
    "#           .filter(F.col('group_name') == '0_' +\n",
    "#                 str(list(experiment_params.map_camp_wave_ids_to_suffixes.keys())[0]) + '_' +\n",
    "#                 list(experiment_params.map_camp_wave_ids_to_suffixes.values())[0])\n",
    "#           .select('customer_rk').distinct()\n",
    "         )"
   ]
  },
  {
   "cell_type": "code",
   "execution_count": 50,
   "id": "8d9130d6",
   "metadata": {},
   "outputs": [],
   "source": [
    "dt1 = datetime.datetime.strptime(experiment_params.date_communication_from, '%Y-%m-%d')\n",
    "dt2 = datetime.datetime.strptime(experiment_params.date_communication_to, '%Y-%m-%d')"
   ]
  },
  {
   "cell_type": "code",
   "execution_count": 51,
   "id": "16e9fcfe",
   "metadata": {},
   "outputs": [],
   "source": [
    "start_date = datetime.date(dt1.year, dt1.month, dt1.day)\n",
    "end_date = datetime.date(dt2.year, dt2.month, dt2.day)"
   ]
  },
  {
   "cell_type": "code",
   "execution_count": 52,
   "id": "8d7c1a9c",
   "metadata": {},
   "outputs": [],
   "source": [
    "plu_codes = [3364389, 3017398, 3364386, 3647605, 3647604, 3923304, 3364392]"
   ]
  },
  {
   "cell_type": "code",
   "execution_count": 53,
   "id": "09fb58a3",
   "metadata": {},
   "outputs": [
    {
     "name": "stderr",
     "output_type": "stream",
     "text": [
      "                                                                                ]]]]]]]\r"
     ]
    }
   ],
   "source": [
    "seg_pd5 = get_segment_grouped_one_plu(spark, \n",
    "                    start_date, \n",
    "                    end_date, \n",
    "                    plu_codes,\n",
    "                    guests=guests)"
   ]
  },
  {
   "cell_type": "code",
   "execution_count": 54,
   "id": "ddb6ff07",
   "metadata": {},
   "outputs": [],
   "source": [
    "seg_pd5['qty'] = seg_pd5['qty'].astype('float')"
   ]
  },
  {
   "cell_type": "code",
   "execution_count": 55,
   "id": "f79265c6",
   "metadata": {},
   "outputs": [
    {
     "data": {
      "text/html": [
       "<div>\n",
       "<style scoped>\n",
       "    .dataframe tbody tr th:only-of-type {\n",
       "        vertical-align: middle;\n",
       "    }\n",
       "\n",
       "    .dataframe tbody tr th {\n",
       "        vertical-align: top;\n",
       "    }\n",
       "\n",
       "    .dataframe thead th {\n",
       "        text-align: right;\n",
       "    }\n",
       "</style>\n",
       "<table border=\"1\" class=\"dataframe\">\n",
       "  <thead>\n",
       "    <tr style=\"text-align: right;\">\n",
       "      <th></th>\n",
       "      <th>plu_code</th>\n",
       "      <th>qty</th>\n",
       "      <th>plu_nm</th>\n",
       "    </tr>\n",
       "  </thead>\n",
       "  <tbody>\n",
       "    <tr>\n",
       "      <th>0</th>\n",
       "      <td>3364386</td>\n",
       "      <td>50.00</td>\n",
       "      <td>KOTEX Прокладки Ультра нормал 10шт</td>\n",
       "    </tr>\n",
       "    <tr>\n",
       "      <th>1</th>\n",
       "      <td>3017398</td>\n",
       "      <td>155.00</td>\n",
       "      <td>KOTEX Прокл.УЛЬТРА НАЙТ гигиен.жен.7шт</td>\n",
       "    </tr>\n",
       "    <tr>\n",
       "      <th>2</th>\n",
       "      <td>3923304</td>\n",
       "      <td>1.00</td>\n",
       "      <td>KOTEX Прокладки УЛЬТРА жен.гиг.ноч.14шт</td>\n",
       "    </tr>\n",
       "    <tr>\n",
       "      <th>3</th>\n",
       "      <td>3364389</td>\n",
       "      <td>5.00</td>\n",
       "      <td>KOTEX Прокладки Ультра Драй нормал 20шт</td>\n",
       "    </tr>\n",
       "    <tr>\n",
       "      <th>4</th>\n",
       "      <td>3647604</td>\n",
       "      <td>234.00</td>\n",
       "      <td>KOTEX Прокл.ULTRA SOFT гиг.нормал 10шт</td>\n",
       "    </tr>\n",
       "    <tr>\n",
       "      <th>5</th>\n",
       "      <td>3364392</td>\n",
       "      <td>407.00</td>\n",
       "      <td>KOTEX Прокладки Ультра Драй супер 16шт</td>\n",
       "    </tr>\n",
       "  </tbody>\n",
       "</table>\n",
       "</div>"
      ],
      "text/plain": [
       "  plu_code    qty                                   plu_nm\n",
       "0  3364386  50.00       KOTEX Прокладки Ультра нормал 10шт\n",
       "1  3017398 155.00   KOTEX Прокл.УЛЬТРА НАЙТ гигиен.жен.7шт\n",
       "2  3923304   1.00  KOTEX Прокладки УЛЬТРА жен.гиг.ноч.14шт\n",
       "3  3364389   5.00  KOTEX Прокладки Ультра Драй нормал 20шт\n",
       "4  3647604 234.00   KOTEX Прокл.ULTRA SOFT гиг.нормал 10шт\n",
       "5  3364392 407.00   KOTEX Прокладки Ультра Драй супер 16шт"
      ]
     },
     "execution_count": 55,
     "metadata": {},
     "output_type": "execute_result"
    }
   ],
   "source": [
    "seg_pd5"
   ]
  },
  {
   "cell_type": "markdown",
   "id": "6526b579",
   "metadata": {},
   "source": [
    "### X-24-19-KimberlyClark-Kotex-Loyal-2-sof"
   ]
  },
  {
   "cell_type": "code",
   "execution_count": 56,
   "id": "7097b868",
   "metadata": {
    "collapsed": false,
    "jupyter": {
     "outputs_hidden": false
    },
    "pycharm": {
     "name": "#%%\n"
    }
   },
   "outputs": [],
   "source": [
    "camp_id = 'X-24-19-KimberlyClark-Kotex-Loyal-2-sof'\n",
    "\n",
    "experiment_params = ExperimentParams(**{\n",
    "    # Camp wave id нужно записать в виде мапы из id в префиксы.\n",
    "    # Префиксы ни на что не влияют, просто для более красивого названия групп\n",
    "    # Заполняются camp_wave_id. Если для контроля и теста одинаковый, то пишем два раза\n",
    "    'map_camp_wave_ids_to_suffixes': {\n",
    "        63965: \"sms_viber_tg\",\n",
    "        63782: \"sms_viber_cg\"\n",
    "    },\n",
    "\n",
    "    # communication period with guest (sending sms, push, etc.)\n",
    "    'date_communication_from': '2021-10-07',\n",
    "    'date_communication_to': '2021-10-17',\n",
    "\n",
    "    'wave_ids': [\n",
    "        64055 #если нет, то -1\n",
    "    ],\n",
    "\n",
    "    'communication_costs': {\n",
    "        'sms': 1.38,\n",
    "        'viber': 1.32,\n",
    "        'email': 0.0083\n",
    "    }\n",
    "})\n",
    "#0_ + camp_wave_id +_sms_viber_ + cg (если номера волн равны) / tg (если номера волн разные)"
   ]
  },
  {
   "cell_type": "code",
   "execution_count": 57,
   "id": "427befd6",
   "metadata": {
    "collapsed": false,
    "jupyter": {
     "outputs_hidden": false
    },
    "pycharm": {
     "name": "#%%\n"
    },
    "scrolled": true
   },
   "outputs": [],
   "source": [
    "experiment_guests = ExperimentParticipants(spark, experiment_params)\n",
    "experiment_guests_communications = experiment_guests.extract()"
   ]
  },
  {
   "cell_type": "code",
   "execution_count": 58,
   "id": "45f0f2ce",
   "metadata": {},
   "outputs": [],
   "source": [
    "guests = (experiment_guests_communications\n",
    "#           .filter(F.col('group_name') == '0_' +\n",
    "#                 str(list(experiment_params.map_camp_wave_ids_to_suffixes.keys())[0]) + '_' +\n",
    "#                 list(experiment_params.map_camp_wave_ids_to_suffixes.values())[0])\n",
    "#           .select('customer_rk').distinct()\n",
    "         )"
   ]
  },
  {
   "cell_type": "code",
   "execution_count": 59,
   "id": "7a65e16d",
   "metadata": {},
   "outputs": [],
   "source": [
    "dt1 = datetime.datetime.strptime(experiment_params.date_communication_from, '%Y-%m-%d')\n",
    "dt2 = datetime.datetime.strptime(experiment_params.date_communication_to, '%Y-%m-%d')"
   ]
  },
  {
   "cell_type": "code",
   "execution_count": 60,
   "id": "b0c697b2",
   "metadata": {},
   "outputs": [],
   "source": [
    "start_date = datetime.date(dt1.year, dt1.month, dt1.day)\n",
    "end_date = datetime.date(dt2.year, dt2.month, dt2.day)"
   ]
  },
  {
   "cell_type": "code",
   "execution_count": 61,
   "id": "d54dac9b",
   "metadata": {},
   "outputs": [],
   "source": [
    "plu_codes = [3364389, 3017398, 3364386, 3647605, 3647604, 3923304, 3364392]"
   ]
  },
  {
   "cell_type": "code",
   "execution_count": 62,
   "id": "11d57931",
   "metadata": {},
   "outputs": [
    {
     "name": "stderr",
     "output_type": "stream",
     "text": [
      "                                                                                42]42]]]]\r"
     ]
    }
   ],
   "source": [
    "seg_pd6 = get_segment_grouped_one_plu(spark, \n",
    "                    start_date, \n",
    "                    end_date, \n",
    "                    plu_codes,\n",
    "                    guests=guests)"
   ]
  },
  {
   "cell_type": "code",
   "execution_count": 63,
   "id": "7ff51df1",
   "metadata": {},
   "outputs": [],
   "source": [
    "seg_pd6['qty'] = seg_pd6['qty'].astype('float')"
   ]
  },
  {
   "cell_type": "code",
   "execution_count": 64,
   "id": "89240a83",
   "metadata": {},
   "outputs": [
    {
     "data": {
      "text/html": [
       "<div>\n",
       "<style scoped>\n",
       "    .dataframe tbody tr th:only-of-type {\n",
       "        vertical-align: middle;\n",
       "    }\n",
       "\n",
       "    .dataframe tbody tr th {\n",
       "        vertical-align: top;\n",
       "    }\n",
       "\n",
       "    .dataframe thead th {\n",
       "        text-align: right;\n",
       "    }\n",
       "</style>\n",
       "<table border=\"1\" class=\"dataframe\">\n",
       "  <thead>\n",
       "    <tr style=\"text-align: right;\">\n",
       "      <th></th>\n",
       "      <th>plu_code</th>\n",
       "      <th>qty</th>\n",
       "      <th>plu_nm</th>\n",
       "    </tr>\n",
       "  </thead>\n",
       "  <tbody>\n",
       "    <tr>\n",
       "      <th>0</th>\n",
       "      <td>3364386</td>\n",
       "      <td>59.00</td>\n",
       "      <td>KOTEX Прокладки Ультра нормал 10шт</td>\n",
       "    </tr>\n",
       "    <tr>\n",
       "      <th>1</th>\n",
       "      <td>3017398</td>\n",
       "      <td>221.00</td>\n",
       "      <td>KOTEX Прокл.УЛЬТРА НАЙТ гигиен.жен.7шт</td>\n",
       "    </tr>\n",
       "    <tr>\n",
       "      <th>2</th>\n",
       "      <td>3364389</td>\n",
       "      <td>5.00</td>\n",
       "      <td>KOTEX Прокладки Ультра Драй нормал 20шт</td>\n",
       "    </tr>\n",
       "    <tr>\n",
       "      <th>3</th>\n",
       "      <td>3647604</td>\n",
       "      <td>258.00</td>\n",
       "      <td>KOTEX Прокл.ULTRA SOFT гиг.нормал 10шт</td>\n",
       "    </tr>\n",
       "    <tr>\n",
       "      <th>4</th>\n",
       "      <td>3364392</td>\n",
       "      <td>448.00</td>\n",
       "      <td>KOTEX Прокладки Ультра Драй супер 16шт</td>\n",
       "    </tr>\n",
       "  </tbody>\n",
       "</table>\n",
       "</div>"
      ],
      "text/plain": [
       "  plu_code    qty                                   plu_nm\n",
       "0  3364386  59.00       KOTEX Прокладки Ультра нормал 10шт\n",
       "1  3017398 221.00   KOTEX Прокл.УЛЬТРА НАЙТ гигиен.жен.7шт\n",
       "2  3364389   5.00  KOTEX Прокладки Ультра Драй нормал 20шт\n",
       "3  3647604 258.00   KOTEX Прокл.ULTRA SOFT гиг.нормал 10шт\n",
       "4  3364392 448.00   KOTEX Прокладки Ультра Драй супер 16шт"
      ]
     },
     "execution_count": 64,
     "metadata": {},
     "output_type": "execute_result"
    }
   ],
   "source": [
    "seg_pd6"
   ]
  },
  {
   "cell_type": "markdown",
   "id": "b2b0d510",
   "metadata": {},
   "source": [
    "### A-24-17-recurrent-Kimberly-clark-brand"
   ]
  },
  {
   "cell_type": "code",
   "execution_count": 65,
   "id": "fe9aff47",
   "metadata": {
    "collapsed": false,
    "jupyter": {
     "outputs_hidden": false
    },
    "pycharm": {
     "name": "#%%\n"
    }
   },
   "outputs": [],
   "source": [
    "camp_id = 'A-24-17-recurrent-Kimberly-clark-brand'\n",
    "\n",
    "experiment_params = ExperimentParams(**{\n",
    "    # Camp wave id нужно записать в виде мапы из id в префиксы.\n",
    "    # Префиксы ни на что не влияют, просто для более красивого названия групп\n",
    "    # Заполняются camp_wave_id. Если для контроля и теста одинаковый, то пишем два раза\n",
    "    'map_camp_wave_ids_to_suffixes': {\n",
    "        63795: \"sms_viber_tg\",\n",
    "        63797: \"sms_viber_cg\"\n",
    "    },\n",
    "\n",
    "    # communication period with guest (sending sms, push, etc.)\n",
    "    'date_communication_from': '2021-10-06',\n",
    "    'date_communication_to': '2021-10-17',\n",
    "\n",
    "    'wave_ids': [\n",
    "        65380 #если нет, то -1\n",
    "    ],\n",
    "\n",
    "    'communication_costs': {\n",
    "        'sms': 1.38,\n",
    "        'viber': 1.32,\n",
    "        'email': 0.0083\n",
    "    }\n",
    "})\n",
    "#0_ + camp_wave_id +_sms_viber_ + cg (если номера волн равны) / tg (если номера волн разные)"
   ]
  },
  {
   "cell_type": "code",
   "execution_count": 66,
   "id": "65e8970d",
   "metadata": {
    "collapsed": false,
    "jupyter": {
     "outputs_hidden": false
    },
    "pycharm": {
     "name": "#%%\n"
    },
    "scrolled": true
   },
   "outputs": [],
   "source": [
    "experiment_guests = ExperimentParticipants(spark, experiment_params)\n",
    "experiment_guests_communications = experiment_guests.extract()"
   ]
  },
  {
   "cell_type": "code",
   "execution_count": 67,
   "id": "98b57c6a",
   "metadata": {},
   "outputs": [],
   "source": [
    "guests = (experiment_guests_communications\n",
    "#           .filter(F.col('group_name') == '0_' +\n",
    "#                 str(list(experiment_params.map_camp_wave_ids_to_suffixes.keys())[0]) + '_' +\n",
    "#                 list(experiment_params.map_camp_wave_ids_to_suffixes.values())[0])\n",
    "#           .select('customer_rk').distinct()\n",
    "         )"
   ]
  },
  {
   "cell_type": "code",
   "execution_count": 68,
   "id": "b8e34256",
   "metadata": {},
   "outputs": [],
   "source": [
    "dt1 = datetime.datetime.strptime(experiment_params.date_communication_from, '%Y-%m-%d')\n",
    "dt2 = datetime.datetime.strptime(experiment_params.date_communication_to, '%Y-%m-%d')"
   ]
  },
  {
   "cell_type": "code",
   "execution_count": 69,
   "id": "3d791335",
   "metadata": {},
   "outputs": [],
   "source": [
    "start_date = datetime.date(dt1.year, dt1.month, dt1.day)\n",
    "end_date = datetime.date(dt2.year, dt2.month, dt2.day)"
   ]
  },
  {
   "cell_type": "code",
   "execution_count": 70,
   "id": "59f5f285",
   "metadata": {},
   "outputs": [],
   "source": [
    "plu_codes = [3364389, 3017398, 3364386, 3647605, 3647604, 3923304, 3364392]"
   ]
  },
  {
   "cell_type": "code",
   "execution_count": 71,
   "id": "fb8a04d2",
   "metadata": {},
   "outputs": [
    {
     "name": "stderr",
     "output_type": "stream",
     "text": [
      "                                                                                ]]]0]]]]\r"
     ]
    }
   ],
   "source": [
    "seg_pd7 = get_segment_grouped_one_plu(spark, \n",
    "                    start_date, \n",
    "                    end_date, \n",
    "                    plu_codes,\n",
    "                    guests=guests)"
   ]
  },
  {
   "cell_type": "code",
   "execution_count": 72,
   "id": "e1fa8d8f",
   "metadata": {},
   "outputs": [],
   "source": [
    "seg_pd7['qty'] = seg_pd7['qty'].astype('float')"
   ]
  },
  {
   "cell_type": "code",
   "execution_count": 73,
   "id": "67bdafaf",
   "metadata": {},
   "outputs": [
    {
     "data": {
      "text/html": [
       "<div>\n",
       "<style scoped>\n",
       "    .dataframe tbody tr th:only-of-type {\n",
       "        vertical-align: middle;\n",
       "    }\n",
       "\n",
       "    .dataframe tbody tr th {\n",
       "        vertical-align: top;\n",
       "    }\n",
       "\n",
       "    .dataframe thead th {\n",
       "        text-align: right;\n",
       "    }\n",
       "</style>\n",
       "<table border=\"1\" class=\"dataframe\">\n",
       "  <thead>\n",
       "    <tr style=\"text-align: right;\">\n",
       "      <th></th>\n",
       "      <th>plu_code</th>\n",
       "      <th>qty</th>\n",
       "      <th>plu_nm</th>\n",
       "    </tr>\n",
       "  </thead>\n",
       "  <tbody>\n",
       "    <tr>\n",
       "      <th>0</th>\n",
       "      <td>3364386</td>\n",
       "      <td>13.00</td>\n",
       "      <td>KOTEX Прокладки Ультра нормал 10шт</td>\n",
       "    </tr>\n",
       "    <tr>\n",
       "      <th>1</th>\n",
       "      <td>3017398</td>\n",
       "      <td>92.00</td>\n",
       "      <td>KOTEX Прокл.УЛЬТРА НАЙТ гигиен.жен.7шт</td>\n",
       "    </tr>\n",
       "    <tr>\n",
       "      <th>2</th>\n",
       "      <td>3364389</td>\n",
       "      <td>2.00</td>\n",
       "      <td>KOTEX Прокладки Ультра Драй нормал 20шт</td>\n",
       "    </tr>\n",
       "    <tr>\n",
       "      <th>3</th>\n",
       "      <td>3364392</td>\n",
       "      <td>163.00</td>\n",
       "      <td>KOTEX Прокладки Ультра Драй супер 16шт</td>\n",
       "    </tr>\n",
       "    <tr>\n",
       "      <th>4</th>\n",
       "      <td>3647604</td>\n",
       "      <td>103.00</td>\n",
       "      <td>KOTEX Прокл.ULTRA SOFT гиг.нормал 10шт</td>\n",
       "    </tr>\n",
       "  </tbody>\n",
       "</table>\n",
       "</div>"
      ],
      "text/plain": [
       "  plu_code    qty                                   plu_nm\n",
       "0  3364386  13.00       KOTEX Прокладки Ультра нормал 10шт\n",
       "1  3017398  92.00   KOTEX Прокл.УЛЬТРА НАЙТ гигиен.жен.7шт\n",
       "2  3364389   2.00  KOTEX Прокладки Ультра Драй нормал 20шт\n",
       "3  3364392 163.00   KOTEX Прокладки Ультра Драй супер 16шт\n",
       "4  3647604 103.00   KOTEX Прокл.ULTRA SOFT гиг.нормал 10шт"
      ]
     },
     "execution_count": 73,
     "metadata": {},
     "output_type": "execute_result"
    }
   ],
   "source": [
    "seg_pd7"
   ]
  },
  {
   "cell_type": "markdown",
   "id": "15746fa7",
   "metadata": {},
   "source": [
    "### A-24-16-recurrent-Kimberly-clark-all"
   ]
  },
  {
   "cell_type": "code",
   "execution_count": 74,
   "id": "4e2625eb",
   "metadata": {
    "collapsed": false,
    "jupyter": {
     "outputs_hidden": false
    },
    "pycharm": {
     "name": "#%%\n"
    }
   },
   "outputs": [],
   "source": [
    "camp_id = 'A-24-16-recurrent-Kimberly-clark-all'\n",
    "\n",
    "experiment_params = ExperimentParams(**{\n",
    "    # Camp wave id нужно записать в виде мапы из id в префиксы.\n",
    "    # Префиксы ни на что не влияют, просто для более красивого названия групп\n",
    "    # Заполняются camp_wave_id. Если для контроля и теста одинаковый, то пишем два раза\n",
    "    'map_camp_wave_ids_to_suffixes': {\n",
    "        63794: \"sms_viber_tg\",\n",
    "        63796: \"sms_viber_cg\"\n",
    "    },\n",
    "\n",
    "    # communication period with guest (sending sms, push, etc.)\n",
    "    'date_communication_from': '2021-10-06',\n",
    "    'date_communication_to': '2021-10-17',\n",
    "\n",
    "    'wave_ids': [\n",
    "        63866 #если нет, то -1\n",
    "    ],\n",
    "\n",
    "    'communication_costs': {\n",
    "        'sms': 1.38,\n",
    "        'viber': 1.32,\n",
    "        'email': 0.0083\n",
    "    }\n",
    "})\n",
    "#0_ + camp_wave_id +_sms_viber_ + cg (если номера волн равны) / tg (если номера волн разные)"
   ]
  },
  {
   "cell_type": "code",
   "execution_count": 75,
   "id": "e0883811",
   "metadata": {
    "collapsed": false,
    "jupyter": {
     "outputs_hidden": false
    },
    "pycharm": {
     "name": "#%%\n"
    },
    "scrolled": true
   },
   "outputs": [],
   "source": [
    "experiment_guests = ExperimentParticipants(spark, experiment_params)\n",
    "experiment_guests_communications = experiment_guests.extract()"
   ]
  },
  {
   "cell_type": "code",
   "execution_count": 76,
   "id": "3b5fef9f",
   "metadata": {},
   "outputs": [],
   "source": [
    "guests = (experiment_guests_communications\n",
    "#           .filter(F.col('group_name') == '0_' +\n",
    "#                 str(list(experiment_params.map_camp_wave_ids_to_suffixes.keys())[0]) + '_' +\n",
    "#                 list(experiment_params.map_camp_wave_ids_to_suffixes.values())[0])\n",
    "#           .select('customer_rk').distinct()\n",
    "         )"
   ]
  },
  {
   "cell_type": "code",
   "execution_count": 77,
   "id": "be086bab",
   "metadata": {},
   "outputs": [],
   "source": [
    "dt1 = datetime.datetime.strptime(experiment_params.date_communication_from, '%Y-%m-%d')\n",
    "dt2 = datetime.datetime.strptime(experiment_params.date_communication_to, '%Y-%m-%d')"
   ]
  },
  {
   "cell_type": "code",
   "execution_count": 78,
   "id": "f8bc0700",
   "metadata": {},
   "outputs": [],
   "source": [
    "start_date = datetime.date(dt1.year, dt1.month, dt1.day)\n",
    "end_date = datetime.date(dt2.year, dt2.month, dt2.day)"
   ]
  },
  {
   "cell_type": "code",
   "execution_count": 79,
   "id": "edf543b8",
   "metadata": {},
   "outputs": [],
   "source": [
    "plu_codes = [3364389, 3017398, 3364386, 3647605, 3647604, 3923304, 3364392]"
   ]
  },
  {
   "cell_type": "code",
   "execution_count": 80,
   "id": "517252ee",
   "metadata": {},
   "outputs": [
    {
     "name": "stderr",
     "output_type": "stream",
     "text": [
      "                                                                                19]]]]]\r"
     ]
    }
   ],
   "source": [
    "seg_pd8 = get_segment_grouped_one_plu(spark, \n",
    "                    start_date, \n",
    "                    end_date, \n",
    "                    plu_codes,\n",
    "                    guests=guests)"
   ]
  },
  {
   "cell_type": "code",
   "execution_count": 81,
   "id": "9f691af7",
   "metadata": {},
   "outputs": [],
   "source": [
    "seg_pd8['qty'] = seg_pd8['qty'].astype('float')"
   ]
  },
  {
   "cell_type": "code",
   "execution_count": 82,
   "id": "c30c77ea",
   "metadata": {},
   "outputs": [
    {
     "data": {
      "text/html": [
       "<div>\n",
       "<style scoped>\n",
       "    .dataframe tbody tr th:only-of-type {\n",
       "        vertical-align: middle;\n",
       "    }\n",
       "\n",
       "    .dataframe tbody tr th {\n",
       "        vertical-align: top;\n",
       "    }\n",
       "\n",
       "    .dataframe thead th {\n",
       "        text-align: right;\n",
       "    }\n",
       "</style>\n",
       "<table border=\"1\" class=\"dataframe\">\n",
       "  <thead>\n",
       "    <tr style=\"text-align: right;\">\n",
       "      <th></th>\n",
       "      <th>plu_code</th>\n",
       "      <th>qty</th>\n",
       "      <th>plu_nm</th>\n",
       "    </tr>\n",
       "  </thead>\n",
       "  <tbody>\n",
       "    <tr>\n",
       "      <th>0</th>\n",
       "      <td>3364386</td>\n",
       "      <td>13.00</td>\n",
       "      <td>KOTEX Прокладки Ультра нормал 10шт</td>\n",
       "    </tr>\n",
       "    <tr>\n",
       "      <th>1</th>\n",
       "      <td>3017398</td>\n",
       "      <td>35.00</td>\n",
       "      <td>KOTEX Прокл.УЛЬТРА НАЙТ гигиен.жен.7шт</td>\n",
       "    </tr>\n",
       "    <tr>\n",
       "      <th>2</th>\n",
       "      <td>3364389</td>\n",
       "      <td>1.00</td>\n",
       "      <td>KOTEX Прокладки Ультра Драй нормал 20шт</td>\n",
       "    </tr>\n",
       "    <tr>\n",
       "      <th>3</th>\n",
       "      <td>3647604</td>\n",
       "      <td>48.00</td>\n",
       "      <td>KOTEX Прокл.ULTRA SOFT гиг.нормал 10шт</td>\n",
       "    </tr>\n",
       "    <tr>\n",
       "      <th>4</th>\n",
       "      <td>3364392</td>\n",
       "      <td>70.00</td>\n",
       "      <td>KOTEX Прокладки Ультра Драй супер 16шт</td>\n",
       "    </tr>\n",
       "  </tbody>\n",
       "</table>\n",
       "</div>"
      ],
      "text/plain": [
       "  plu_code   qty                                   plu_nm\n",
       "0  3364386 13.00       KOTEX Прокладки Ультра нормал 10шт\n",
       "1  3017398 35.00   KOTEX Прокл.УЛЬТРА НАЙТ гигиен.жен.7шт\n",
       "2  3364389  1.00  KOTEX Прокладки Ультра Драй нормал 20шт\n",
       "3  3647604 48.00   KOTEX Прокл.ULTRA SOFT гиг.нормал 10шт\n",
       "4  3364392 70.00   KOTEX Прокладки Ультра Драй супер 16шт"
      ]
     },
     "execution_count": 82,
     "metadata": {},
     "output_type": "execute_result"
    }
   ],
   "source": [
    "seg_pd8"
   ]
  },
  {
   "cell_type": "markdown",
   "id": "cd29c1c6",
   "metadata": {},
   "source": [
    "### X-24-16-KimberlyClark-Kotex-Competitors-sof"
   ]
  },
  {
   "cell_type": "code",
   "execution_count": 83,
   "id": "24e3f892",
   "metadata": {
    "collapsed": false,
    "jupyter": {
     "outputs_hidden": false
    },
    "pycharm": {
     "name": "#%%\n"
    }
   },
   "outputs": [],
   "source": [
    "camp_id = 'X-24-16-KimberlyClark-Kotex-Competitors-sof'\n",
    "\n",
    "experiment_params = ExperimentParams(**{\n",
    "    # Camp wave id нужно записать в виде мапы из id в префиксы.\n",
    "    # Префиксы ни на что не влияют, просто для более красивого названия групп\n",
    "    # Заполняются camp_wave_id. Если для контроля и теста одинаковый, то пишем два раза\n",
    "    'map_camp_wave_ids_to_suffixes': {\n",
    "        63780: \"sms_viber_tg\",\n",
    "        63785: \"sms_viber_cg\"\n",
    "    },\n",
    "\n",
    "    # communication period with guest (sending sms, push, etc.)\n",
    "    'date_communication_from': '2021-10-06',\n",
    "    'date_communication_to': '2021-10-17',\n",
    "\n",
    "    'wave_ids': [\n",
    "        63873 #если нет, то -1\n",
    "    ],\n",
    "\n",
    "    'communication_costs': {\n",
    "        'sms': 1.38,\n",
    "        'viber': 1.32,\n",
    "        'email': 0.0083\n",
    "    }\n",
    "})\n",
    "#0_ + camp_wave_id +_sms_viber_ + cg (если номера волн равны) / tg (если номера волн разные)"
   ]
  },
  {
   "cell_type": "code",
   "execution_count": 84,
   "id": "18336eec",
   "metadata": {
    "collapsed": false,
    "jupyter": {
     "outputs_hidden": false
    },
    "pycharm": {
     "name": "#%%\n"
    },
    "scrolled": true
   },
   "outputs": [],
   "source": [
    "experiment_guests = ExperimentParticipants(spark, experiment_params)\n",
    "experiment_guests_communications = experiment_guests.extract()"
   ]
  },
  {
   "cell_type": "code",
   "execution_count": 85,
   "id": "9a925dcf",
   "metadata": {},
   "outputs": [],
   "source": [
    "guests = (experiment_guests_communications\n",
    "#           .filter(F.col('group_name') == '0_' +\n",
    "#                 str(list(experiment_params.map_camp_wave_ids_to_suffixes.keys())[0]) + '_' +\n",
    "#                 list(experiment_params.map_camp_wave_ids_to_suffixes.values())[0])\n",
    "#           .select('customer_rk').distinct()\n",
    "         )"
   ]
  },
  {
   "cell_type": "code",
   "execution_count": 86,
   "id": "4cdc5884",
   "metadata": {},
   "outputs": [],
   "source": [
    "dt1 = datetime.datetime.strptime(experiment_params.date_communication_from, '%Y-%m-%d')\n",
    "dt2 = datetime.datetime.strptime(experiment_params.date_communication_to, '%Y-%m-%d')"
   ]
  },
  {
   "cell_type": "code",
   "execution_count": 87,
   "id": "0421dd2a",
   "metadata": {},
   "outputs": [],
   "source": [
    "start_date = datetime.date(dt1.year, dt1.month, dt1.day)\n",
    "end_date = datetime.date(dt2.year, dt2.month, dt2.day)"
   ]
  },
  {
   "cell_type": "code",
   "execution_count": 88,
   "id": "8e3df665",
   "metadata": {},
   "outputs": [],
   "source": [
    "plu_codes = [3364389, 3017398, 3364386, 3647605, 3647604, 3923304, 3364392]"
   ]
  },
  {
   "cell_type": "code",
   "execution_count": 89,
   "id": "3924c312",
   "metadata": {},
   "outputs": [
    {
     "name": "stderr",
     "output_type": "stream",
     "text": [
      "                                                                                9]]]]]]]]\r"
     ]
    }
   ],
   "source": [
    "seg_pd9 = get_segment_grouped_one_plu(spark, \n",
    "                    start_date, \n",
    "                    end_date, \n",
    "                    plu_codes,\n",
    "                    guests=guests)"
   ]
  },
  {
   "cell_type": "code",
   "execution_count": 90,
   "id": "3b4c08f4",
   "metadata": {},
   "outputs": [],
   "source": [
    "seg_pd9['qty'] = seg_pd9['qty'].astype('float')"
   ]
  },
  {
   "cell_type": "code",
   "execution_count": 91,
   "id": "f8ad0f4b",
   "metadata": {},
   "outputs": [
    {
     "data": {
      "text/html": [
       "<div>\n",
       "<style scoped>\n",
       "    .dataframe tbody tr th:only-of-type {\n",
       "        vertical-align: middle;\n",
       "    }\n",
       "\n",
       "    .dataframe tbody tr th {\n",
       "        vertical-align: top;\n",
       "    }\n",
       "\n",
       "    .dataframe thead th {\n",
       "        text-align: right;\n",
       "    }\n",
       "</style>\n",
       "<table border=\"1\" class=\"dataframe\">\n",
       "  <thead>\n",
       "    <tr style=\"text-align: right;\">\n",
       "      <th></th>\n",
       "      <th>plu_code</th>\n",
       "      <th>qty</th>\n",
       "      <th>plu_nm</th>\n",
       "    </tr>\n",
       "  </thead>\n",
       "  <tbody>\n",
       "    <tr>\n",
       "      <th>0</th>\n",
       "      <td>3364386</td>\n",
       "      <td>98.00</td>\n",
       "      <td>KOTEX Прокладки Ультра нормал 10шт</td>\n",
       "    </tr>\n",
       "    <tr>\n",
       "      <th>1</th>\n",
       "      <td>3017398</td>\n",
       "      <td>215.00</td>\n",
       "      <td>KOTEX Прокл.УЛЬТРА НАЙТ гигиен.жен.7шт</td>\n",
       "    </tr>\n",
       "    <tr>\n",
       "      <th>2</th>\n",
       "      <td>3364389</td>\n",
       "      <td>14.00</td>\n",
       "      <td>KOTEX Прокладки Ультра Драй нормал 20шт</td>\n",
       "    </tr>\n",
       "    <tr>\n",
       "      <th>3</th>\n",
       "      <td>3647604</td>\n",
       "      <td>389.00</td>\n",
       "      <td>KOTEX Прокл.ULTRA SOFT гиг.нормал 10шт</td>\n",
       "    </tr>\n",
       "    <tr>\n",
       "      <th>4</th>\n",
       "      <td>3364392</td>\n",
       "      <td>660.00</td>\n",
       "      <td>KOTEX Прокладки Ультра Драй супер 16шт</td>\n",
       "    </tr>\n",
       "  </tbody>\n",
       "</table>\n",
       "</div>"
      ],
      "text/plain": [
       "  plu_code    qty                                   plu_nm\n",
       "0  3364386  98.00       KOTEX Прокладки Ультра нормал 10шт\n",
       "1  3017398 215.00   KOTEX Прокл.УЛЬТРА НАЙТ гигиен.жен.7шт\n",
       "2  3364389  14.00  KOTEX Прокладки Ультра Драй нормал 20шт\n",
       "3  3647604 389.00   KOTEX Прокл.ULTRA SOFT гиг.нормал 10шт\n",
       "4  3364392 660.00   KOTEX Прокладки Ультра Драй супер 16шт"
      ]
     },
     "execution_count": 91,
     "metadata": {},
     "output_type": "execute_result"
    }
   ],
   "source": [
    "seg_pd9"
   ]
  },
  {
   "cell_type": "markdown",
   "id": "b0a1c959",
   "metadata": {},
   "source": [
    "### X-24-15-KimberlyClark-Kotex-Loyal-sof"
   ]
  },
  {
   "cell_type": "code",
   "execution_count": 92,
   "id": "b7d72e2d",
   "metadata": {
    "collapsed": false,
    "jupyter": {
     "outputs_hidden": false
    },
    "pycharm": {
     "name": "#%%\n"
    }
   },
   "outputs": [],
   "source": [
    "camp_id = 'X-24-15-KimberlyClark-Kotex-Loyal-sof'\n",
    "\n",
    "experiment_params = ExperimentParams(**{\n",
    "    # Camp wave id нужно записать в виде мапы из id в префиксы.\n",
    "    # Префиксы ни на что не влияют, просто для более красивого названия групп\n",
    "    # Заполняются camp_wave_id. Если для контроля и теста одинаковый, то пишем два раза\n",
    "    'map_camp_wave_ids_to_suffixes': {\n",
    "        63771: \"sms_viber_tg\",\n",
    "        63782: \"sms_viber_cg\"\n",
    "    },\n",
    "\n",
    "    # communication period with guest (sending sms, push, etc.)\n",
    "    'date_communication_from': '2021-10-06',\n",
    "    'date_communication_to': '2021-10-17',\n",
    "\n",
    "    'wave_ids': [\n",
    "        63870 #если нет, то -1\n",
    "    ],\n",
    "\n",
    "    'communication_costs': {\n",
    "        'sms': 1.38,\n",
    "        'viber': 1.32,\n",
    "        'email': 0.0083\n",
    "    }\n",
    "})\n",
    "#0_ + camp_wave_id +_sms_viber_ + cg (если номера волн равны) / tg (если номера волн разные)"
   ]
  },
  {
   "cell_type": "code",
   "execution_count": 93,
   "id": "62dd85ab",
   "metadata": {
    "collapsed": false,
    "jupyter": {
     "outputs_hidden": false
    },
    "pycharm": {
     "name": "#%%\n"
    },
    "scrolled": true
   },
   "outputs": [],
   "source": [
    "experiment_guests = ExperimentParticipants(spark, experiment_params)\n",
    "experiment_guests_communications = experiment_guests.extract()"
   ]
  },
  {
   "cell_type": "code",
   "execution_count": 94,
   "id": "0e8accbe",
   "metadata": {},
   "outputs": [],
   "source": [
    "guests = (experiment_guests_communications\n",
    "#           .filter(F.col('group_name') == '0_' +\n",
    "#                 str(list(experiment_params.map_camp_wave_ids_to_suffixes.keys())[0]) + '_' +\n",
    "#                 list(experiment_params.map_camp_wave_ids_to_suffixes.values())[0])\n",
    "#           .select('customer_rk').distinct()\n",
    "         )"
   ]
  },
  {
   "cell_type": "code",
   "execution_count": 95,
   "id": "e75aef6e",
   "metadata": {},
   "outputs": [],
   "source": [
    "dt1 = datetime.datetime.strptime(experiment_params.date_communication_from, '%Y-%m-%d')\n",
    "dt2 = datetime.datetime.strptime(experiment_params.date_communication_to, '%Y-%m-%d')"
   ]
  },
  {
   "cell_type": "code",
   "execution_count": 96,
   "id": "9957708f",
   "metadata": {},
   "outputs": [],
   "source": [
    "start_date = datetime.date(dt1.year, dt1.month, dt1.day)\n",
    "end_date = datetime.date(dt2.year, dt2.month, dt2.day)"
   ]
  },
  {
   "cell_type": "code",
   "execution_count": 97,
   "id": "7b1d1cbd",
   "metadata": {},
   "outputs": [],
   "source": [
    "plu_codes = [3364389, 3017398, 3364386, 3647605, 3647604, 3923304, 3364392]"
   ]
  },
  {
   "cell_type": "code",
   "execution_count": 98,
   "id": "c40d4e06",
   "metadata": {},
   "outputs": [
    {
     "name": "stderr",
     "output_type": "stream",
     "text": [
      "                                                                                515]]]]]\r"
     ]
    }
   ],
   "source": [
    "seg_pd10 = get_segment_grouped_one_plu(spark, \n",
    "                    start_date, \n",
    "                    end_date, \n",
    "                    plu_codes,\n",
    "                    guests=guests)"
   ]
  },
  {
   "cell_type": "code",
   "execution_count": 99,
   "id": "47790ad6",
   "metadata": {},
   "outputs": [],
   "source": [
    "seg_pd10['qty'] = seg_pd10['qty'].astype('float')"
   ]
  },
  {
   "cell_type": "code",
   "execution_count": 100,
   "id": "f38164bd",
   "metadata": {},
   "outputs": [
    {
     "data": {
      "text/html": [
       "<div>\n",
       "<style scoped>\n",
       "    .dataframe tbody tr th:only-of-type {\n",
       "        vertical-align: middle;\n",
       "    }\n",
       "\n",
       "    .dataframe tbody tr th {\n",
       "        vertical-align: top;\n",
       "    }\n",
       "\n",
       "    .dataframe thead th {\n",
       "        text-align: right;\n",
       "    }\n",
       "</style>\n",
       "<table border=\"1\" class=\"dataframe\">\n",
       "  <thead>\n",
       "    <tr style=\"text-align: right;\">\n",
       "      <th></th>\n",
       "      <th>plu_code</th>\n",
       "      <th>qty</th>\n",
       "      <th>plu_nm</th>\n",
       "    </tr>\n",
       "  </thead>\n",
       "  <tbody>\n",
       "    <tr>\n",
       "      <th>0</th>\n",
       "      <td>3364386</td>\n",
       "      <td>269.00</td>\n",
       "      <td>KOTEX Прокладки Ультра нормал 10шт</td>\n",
       "    </tr>\n",
       "    <tr>\n",
       "      <th>1</th>\n",
       "      <td>3017398</td>\n",
       "      <td>756.00</td>\n",
       "      <td>KOTEX Прокл.УЛЬТРА НАЙТ гигиен.жен.7шт</td>\n",
       "    </tr>\n",
       "    <tr>\n",
       "      <th>2</th>\n",
       "      <td>3923304</td>\n",
       "      <td>3.00</td>\n",
       "      <td>KOTEX Прокладки УЛЬТРА жен.гиг.ноч.14шт</td>\n",
       "    </tr>\n",
       "    <tr>\n",
       "      <th>3</th>\n",
       "      <td>3364389</td>\n",
       "      <td>13.00</td>\n",
       "      <td>KOTEX Прокладки Ультра Драй нормал 20шт</td>\n",
       "    </tr>\n",
       "    <tr>\n",
       "      <th>4</th>\n",
       "      <td>3647604</td>\n",
       "      <td>1,082.00</td>\n",
       "      <td>KOTEX Прокл.ULTRA SOFT гиг.нормал 10шт</td>\n",
       "    </tr>\n",
       "    <tr>\n",
       "      <th>5</th>\n",
       "      <td>3364392</td>\n",
       "      <td>1,702.00</td>\n",
       "      <td>KOTEX Прокладки Ультра Драй супер 16шт</td>\n",
       "    </tr>\n",
       "  </tbody>\n",
       "</table>\n",
       "</div>"
      ],
      "text/plain": [
       "  plu_code      qty                                   plu_nm\n",
       "0  3364386   269.00       KOTEX Прокладки Ультра нормал 10шт\n",
       "1  3017398   756.00   KOTEX Прокл.УЛЬТРА НАЙТ гигиен.жен.7шт\n",
       "2  3923304     3.00  KOTEX Прокладки УЛЬТРА жен.гиг.ноч.14шт\n",
       "3  3364389    13.00  KOTEX Прокладки Ультра Драй нормал 20шт\n",
       "4  3647604 1,082.00   KOTEX Прокл.ULTRA SOFT гиг.нормал 10шт\n",
       "5  3364392 1,702.00   KOTEX Прокладки Ультра Драй супер 16шт"
      ]
     },
     "execution_count": 100,
     "metadata": {},
     "output_type": "execute_result"
    }
   ],
   "source": [
    "seg_pd10"
   ]
  },
  {
   "cell_type": "markdown",
   "id": "4f0631c0",
   "metadata": {},
   "source": [
    "### f24_freq24_Kimberly_Clark"
   ]
  },
  {
   "cell_type": "code",
   "execution_count": 101,
   "id": "832607b8",
   "metadata": {
    "collapsed": false,
    "jupyter": {
     "outputs_hidden": false
    },
    "pycharm": {
     "name": "#%%\n"
    }
   },
   "outputs": [],
   "source": [
    "camp_id = 'f24_freq24_Kimberly_Clark'\n",
    "\n",
    "experiment_params = ExperimentParams(**{\n",
    "    # Camp wave id нужно записать в виде мапы из id в префиксы.\n",
    "    # Префиксы ни на что не влияют, просто для более красивого названия групп\n",
    "    # Заполняются camp_wave_id. Если для контроля и теста одинаковый, то пишем два раза\n",
    "    'map_camp_wave_ids_to_suffixes': {\n",
    "        63744: \"sms_viber_tg\",\n",
    "        63744: \"sms_viber_cg\"\n",
    "    },\n",
    "\n",
    "    # communication period with guest (sending sms, push, etc.)\n",
    "    'date_communication_from': '2021-10-06',\n",
    "    'date_communication_to': '2021-10-17',\n",
    "\n",
    "    'wave_ids': [\n",
    "        -1 #если нет, то -1\n",
    "    ],\n",
    "\n",
    "    'communication_costs': {\n",
    "        'sms': 1.38,\n",
    "        'viber': 1.32,\n",
    "        'email': 0.0083\n",
    "    }\n",
    "})\n",
    "#0_ + camp_wave_id +_sms_viber_ + cg (если номера волн равны) / tg (если номера волн разные)"
   ]
  },
  {
   "cell_type": "code",
   "execution_count": 102,
   "id": "a5ff3afc",
   "metadata": {
    "collapsed": false,
    "jupyter": {
     "outputs_hidden": false
    },
    "pycharm": {
     "name": "#%%\n"
    },
    "scrolled": true
   },
   "outputs": [],
   "source": [
    "experiment_guests = ExperimentParticipants(spark, experiment_params)\n",
    "experiment_guests_communications = experiment_guests.extract()"
   ]
  },
  {
   "cell_type": "code",
   "execution_count": 103,
   "id": "a626ae78",
   "metadata": {},
   "outputs": [],
   "source": [
    "guests = (experiment_guests_communications\n",
    "#           .filter(F.col('group_name') == '0_' +\n",
    "#                 str(list(experiment_params.map_camp_wave_ids_to_suffixes.keys())[0]) + '_' +\n",
    "#                 list(experiment_params.map_camp_wave_ids_to_suffixes.values())[0])\n",
    "#           .select('customer_rk').distinct()\n",
    "         )"
   ]
  },
  {
   "cell_type": "code",
   "execution_count": 104,
   "id": "89c1bbc1",
   "metadata": {},
   "outputs": [],
   "source": [
    "dt1 = datetime.datetime.strptime(experiment_params.date_communication_from, '%Y-%m-%d')\n",
    "dt2 = datetime.datetime.strptime(experiment_params.date_communication_to, '%Y-%m-%d')"
   ]
  },
  {
   "cell_type": "code",
   "execution_count": 105,
   "id": "76d51865",
   "metadata": {},
   "outputs": [],
   "source": [
    "start_date = datetime.date(dt1.year, dt1.month, dt1.day)\n",
    "end_date = datetime.date(dt2.year, dt2.month, dt2.day)"
   ]
  },
  {
   "cell_type": "code",
   "execution_count": 106,
   "id": "f299701f",
   "metadata": {},
   "outputs": [],
   "source": [
    "plu_codes = [3364389, 3017398, 3364386, 3647605, 3647604, 3923304, 3364392]"
   ]
  },
  {
   "cell_type": "code",
   "execution_count": 107,
   "id": "c1dc003e",
   "metadata": {},
   "outputs": [
    {
     "name": "stderr",
     "output_type": "stream",
     "text": [
      "                                                                                0]]0]]]]]\r"
     ]
    }
   ],
   "source": [
    "seg_pd11 = get_segment_grouped_one_plu(spark, \n",
    "                    start_date, \n",
    "                    end_date, \n",
    "                    plu_codes,\n",
    "                    guests=guests)"
   ]
  },
  {
   "cell_type": "code",
   "execution_count": 108,
   "id": "3165c8c6",
   "metadata": {},
   "outputs": [],
   "source": [
    "seg_pd11['qty'] = seg_pd11['qty'].astype('float')"
   ]
  },
  {
   "cell_type": "code",
   "execution_count": 109,
   "id": "fc6425da",
   "metadata": {},
   "outputs": [
    {
     "data": {
      "text/html": [
       "<div>\n",
       "<style scoped>\n",
       "    .dataframe tbody tr th:only-of-type {\n",
       "        vertical-align: middle;\n",
       "    }\n",
       "\n",
       "    .dataframe tbody tr th {\n",
       "        vertical-align: top;\n",
       "    }\n",
       "\n",
       "    .dataframe thead th {\n",
       "        text-align: right;\n",
       "    }\n",
       "</style>\n",
       "<table border=\"1\" class=\"dataframe\">\n",
       "  <thead>\n",
       "    <tr style=\"text-align: right;\">\n",
       "      <th></th>\n",
       "      <th>plu_code</th>\n",
       "      <th>qty</th>\n",
       "      <th>plu_nm</th>\n",
       "    </tr>\n",
       "  </thead>\n",
       "  <tbody>\n",
       "    <tr>\n",
       "      <th>0</th>\n",
       "      <td>3364386</td>\n",
       "      <td>47.00</td>\n",
       "      <td>KOTEX Прокладки Ультра нормал 10шт</td>\n",
       "    </tr>\n",
       "    <tr>\n",
       "      <th>1</th>\n",
       "      <td>3017398</td>\n",
       "      <td>106.00</td>\n",
       "      <td>KOTEX Прокл.УЛЬТРА НАЙТ гигиен.жен.7шт</td>\n",
       "    </tr>\n",
       "    <tr>\n",
       "      <th>2</th>\n",
       "      <td>3364389</td>\n",
       "      <td>2.00</td>\n",
       "      <td>KOTEX Прокладки Ультра Драй нормал 20шт</td>\n",
       "    </tr>\n",
       "    <tr>\n",
       "      <th>3</th>\n",
       "      <td>3647604</td>\n",
       "      <td>181.00</td>\n",
       "      <td>KOTEX Прокл.ULTRA SOFT гиг.нормал 10шт</td>\n",
       "    </tr>\n",
       "    <tr>\n",
       "      <th>4</th>\n",
       "      <td>3364392</td>\n",
       "      <td>294.00</td>\n",
       "      <td>KOTEX Прокладки Ультра Драй супер 16шт</td>\n",
       "    </tr>\n",
       "  </tbody>\n",
       "</table>\n",
       "</div>"
      ],
      "text/plain": [
       "  plu_code    qty                                   plu_nm\n",
       "0  3364386  47.00       KOTEX Прокладки Ультра нормал 10шт\n",
       "1  3017398 106.00   KOTEX Прокл.УЛЬТРА НАЙТ гигиен.жен.7шт\n",
       "2  3364389   2.00  KOTEX Прокладки Ультра Драй нормал 20шт\n",
       "3  3647604 181.00   KOTEX Прокл.ULTRA SOFT гиг.нормал 10шт\n",
       "4  3364392 294.00   KOTEX Прокладки Ультра Драй супер 16шт"
      ]
     },
     "execution_count": 109,
     "metadata": {},
     "output_type": "execute_result"
    }
   ],
   "source": [
    "seg_pd11"
   ]
  },
  {
   "cell_type": "markdown",
   "id": "f0843ffc",
   "metadata": {},
   "source": [
    "### U-24-12-kotex-loyal-viber-sms"
   ]
  },
  {
   "cell_type": "code",
   "execution_count": 110,
   "id": "113dbe70",
   "metadata": {
    "collapsed": false,
    "jupyter": {
     "outputs_hidden": false
    },
    "pycharm": {
     "name": "#%%\n"
    }
   },
   "outputs": [],
   "source": [
    "camp_id = 'U-24-12-kotex-loyal-viber-sms'\n",
    "\n",
    "experiment_params = ExperimentParams(**{\n",
    "    # Camp wave id нужно записать в виде мапы из id в префиксы.\n",
    "    # Префиксы ни на что не влияют, просто для более красивого названия групп\n",
    "    # Заполняются camp_wave_id. Если для контроля и теста одинаковый, то пишем два раза\n",
    "    'map_camp_wave_ids_to_suffixes': {\n",
    "        63779: \"sms_viber_tg\",\n",
    "        63783: \"sms_viber_cg\"\n",
    "    },\n",
    "\n",
    "    # communication period with guest (sending sms, push, etc.)\n",
    "    'date_communication_from': '2021-10-06',\n",
    "    'date_communication_to': '2021-10-17',\n",
    "\n",
    "    'wave_ids': [\n",
    "        63865 #если нет, то -1\n",
    "    ],\n",
    "\n",
    "    'communication_costs': {\n",
    "        'sms': 1.38,\n",
    "        'viber': 1.32,\n",
    "        'email': 0.0083\n",
    "    }\n",
    "})\n",
    "#0_ + camp_wave_id +_sms_viber_ + cg (если номера волн равны) / tg (если номера волн разные)"
   ]
  },
  {
   "cell_type": "code",
   "execution_count": 111,
   "id": "39064aef",
   "metadata": {
    "collapsed": false,
    "jupyter": {
     "outputs_hidden": false
    },
    "pycharm": {
     "name": "#%%\n"
    },
    "scrolled": true
   },
   "outputs": [],
   "source": [
    "experiment_guests = ExperimentParticipants(spark, experiment_params)\n",
    "experiment_guests_communications = experiment_guests.extract()"
   ]
  },
  {
   "cell_type": "code",
   "execution_count": 112,
   "id": "4a381d0e",
   "metadata": {},
   "outputs": [],
   "source": [
    "guests = (experiment_guests_communications\n",
    "#           .filter(F.col('group_name') == '0_' +\n",
    "#                 str(list(experiment_params.map_camp_wave_ids_to_suffixes.keys())[0]) + '_' +\n",
    "#                 list(experiment_params.map_camp_wave_ids_to_suffixes.values())[0])\n",
    "#           .select('customer_rk').distinct()\n",
    "         )"
   ]
  },
  {
   "cell_type": "code",
   "execution_count": 113,
   "id": "4092130e",
   "metadata": {},
   "outputs": [],
   "source": [
    "dt1 = datetime.datetime.strptime(experiment_params.date_communication_from, '%Y-%m-%d')\n",
    "dt2 = datetime.datetime.strptime(experiment_params.date_communication_to, '%Y-%m-%d')"
   ]
  },
  {
   "cell_type": "code",
   "execution_count": 114,
   "id": "fdce2ab5",
   "metadata": {},
   "outputs": [],
   "source": [
    "start_date = datetime.date(dt1.year, dt1.month, dt1.day)\n",
    "end_date = datetime.date(dt2.year, dt2.month, dt2.day)"
   ]
  },
  {
   "cell_type": "code",
   "execution_count": 115,
   "id": "91d238f5",
   "metadata": {},
   "outputs": [],
   "source": [
    "plu_codes = [3364389, 3017398, 3364386, 3647605, 3647604, 3923304, 3364392]"
   ]
  },
  {
   "cell_type": "code",
   "execution_count": 116,
   "id": "98d69de7",
   "metadata": {},
   "outputs": [
    {
     "name": "stderr",
     "output_type": "stream",
     "text": [
      "                                                                                ]]]]]]]]]\r"
     ]
    }
   ],
   "source": [
    "seg_pd12 = get_segment_grouped_one_plu(spark, \n",
    "                    start_date, \n",
    "                    end_date, \n",
    "                    plu_codes,\n",
    "                    guests=guests)"
   ]
  },
  {
   "cell_type": "code",
   "execution_count": 117,
   "id": "0b1b12b4",
   "metadata": {},
   "outputs": [],
   "source": [
    "seg_pd12['qty'] = seg_pd12['qty'].astype('float')"
   ]
  },
  {
   "cell_type": "code",
   "execution_count": 118,
   "id": "90981bbe",
   "metadata": {},
   "outputs": [
    {
     "data": {
      "text/html": [
       "<div>\n",
       "<style scoped>\n",
       "    .dataframe tbody tr th:only-of-type {\n",
       "        vertical-align: middle;\n",
       "    }\n",
       "\n",
       "    .dataframe tbody tr th {\n",
       "        vertical-align: top;\n",
       "    }\n",
       "\n",
       "    .dataframe thead th {\n",
       "        text-align: right;\n",
       "    }\n",
       "</style>\n",
       "<table border=\"1\" class=\"dataframe\">\n",
       "  <thead>\n",
       "    <tr style=\"text-align: right;\">\n",
       "      <th></th>\n",
       "      <th>plu_code</th>\n",
       "      <th>qty</th>\n",
       "      <th>plu_nm</th>\n",
       "    </tr>\n",
       "  </thead>\n",
       "  <tbody>\n",
       "    <tr>\n",
       "      <th>0</th>\n",
       "      <td>3364386</td>\n",
       "      <td>432.00</td>\n",
       "      <td>KOTEX Прокладки Ультра нормал 10шт</td>\n",
       "    </tr>\n",
       "    <tr>\n",
       "      <th>1</th>\n",
       "      <td>3017398</td>\n",
       "      <td>1,367.00</td>\n",
       "      <td>KOTEX Прокл.УЛЬТРА НАЙТ гигиен.жен.7шт</td>\n",
       "    </tr>\n",
       "    <tr>\n",
       "      <th>2</th>\n",
       "      <td>3364389</td>\n",
       "      <td>37.00</td>\n",
       "      <td>KOTEX Прокладки Ультра Драй нормал 20шт</td>\n",
       "    </tr>\n",
       "    <tr>\n",
       "      <th>3</th>\n",
       "      <td>3364392</td>\n",
       "      <td>2,735.00</td>\n",
       "      <td>KOTEX Прокладки Ультра Драй супер 16шт</td>\n",
       "    </tr>\n",
       "    <tr>\n",
       "      <th>4</th>\n",
       "      <td>3647604</td>\n",
       "      <td>2,001.00</td>\n",
       "      <td>KOTEX Прокл.ULTRA SOFT гиг.нормал 10шт</td>\n",
       "    </tr>\n",
       "  </tbody>\n",
       "</table>\n",
       "</div>"
      ],
      "text/plain": [
       "  plu_code      qty                                   plu_nm\n",
       "0  3364386   432.00       KOTEX Прокладки Ультра нормал 10шт\n",
       "1  3017398 1,367.00   KOTEX Прокл.УЛЬТРА НАЙТ гигиен.жен.7шт\n",
       "2  3364389    37.00  KOTEX Прокладки Ультра Драй нормал 20шт\n",
       "3  3364392 2,735.00   KOTEX Прокладки Ультра Драй супер 16шт\n",
       "4  3647604 2,001.00   KOTEX Прокл.ULTRA SOFT гиг.нормал 10шт"
      ]
     },
     "execution_count": 118,
     "metadata": {},
     "output_type": "execute_result"
    }
   ],
   "source": [
    "seg_pd12"
   ]
  },
  {
   "cell_type": "markdown",
   "id": "bb34cfd4",
   "metadata": {},
   "source": [
    "### U-24-12-kotex-competitors-viber-sms"
   ]
  },
  {
   "cell_type": "code",
   "execution_count": 119,
   "id": "8e34b289",
   "metadata": {
    "collapsed": false,
    "jupyter": {
     "outputs_hidden": false
    },
    "pycharm": {
     "name": "#%%\n"
    }
   },
   "outputs": [],
   "source": [
    "camp_id = 'U-24-12-kotex-competitors-viber-sms'\n",
    "\n",
    "experiment_params = ExperimentParams(**{\n",
    "    # Camp wave id нужно записать в виде мапы из id в префиксы.\n",
    "    # Префиксы ни на что не влияют, просто для более красивого названия групп\n",
    "    # Заполняются camp_wave_id. Если для контроля и теста одинаковый, то пишем два раза\n",
    "    'map_camp_wave_ids_to_suffixes': {\n",
    "        63760: \"sms_viber_tg\",\n",
    "        63769: \"sms_viber_cg\"\n",
    "    },\n",
    "\n",
    "    # communication period with guest (sending sms, push, etc.)\n",
    "    'date_communication_from': '2021-10-06',\n",
    "    'date_communication_to': '2021-10-17',\n",
    "\n",
    "    'wave_ids': [\n",
    "        63865 #если нет, то -1\n",
    "    ],\n",
    "\n",
    "    'communication_costs': {\n",
    "        'sms': 1.38,\n",
    "        'viber': 1.32,\n",
    "        'email': 0.0083\n",
    "    }\n",
    "})\n",
    "#0_ + camp_wave_id +_sms_viber_ + cg (если номера волн равны) / tg (если номера волн разные)"
   ]
  },
  {
   "cell_type": "code",
   "execution_count": 120,
   "id": "82b3705c",
   "metadata": {
    "collapsed": false,
    "jupyter": {
     "outputs_hidden": false
    },
    "pycharm": {
     "name": "#%%\n"
    },
    "scrolled": true
   },
   "outputs": [],
   "source": [
    "experiment_guests = ExperimentParticipants(spark, experiment_params)\n",
    "experiment_guests_communications = experiment_guests.extract()"
   ]
  },
  {
   "cell_type": "code",
   "execution_count": 121,
   "id": "4f2db71a",
   "metadata": {},
   "outputs": [],
   "source": [
    "guests = (experiment_guests_communications\n",
    "#           .filter(F.col('group_name') == '0_' +\n",
    "#                 str(list(experiment_params.map_camp_wave_ids_to_suffixes.keys())[0]) + '_' +\n",
    "#                 list(experiment_params.map_camp_wave_ids_to_suffixes.values())[0])\n",
    "#           .select('customer_rk').distinct()\n",
    "         )"
   ]
  },
  {
   "cell_type": "code",
   "execution_count": 122,
   "id": "69b5bc40",
   "metadata": {},
   "outputs": [],
   "source": [
    "dt1 = datetime.datetime.strptime(experiment_params.date_communication_from, '%Y-%m-%d')\n",
    "dt2 = datetime.datetime.strptime(experiment_params.date_communication_to, '%Y-%m-%d')"
   ]
  },
  {
   "cell_type": "code",
   "execution_count": 123,
   "id": "bb39f822",
   "metadata": {},
   "outputs": [],
   "source": [
    "start_date = datetime.date(dt1.year, dt1.month, dt1.day)\n",
    "end_date = datetime.date(dt2.year, dt2.month, dt2.day)"
   ]
  },
  {
   "cell_type": "code",
   "execution_count": 124,
   "id": "9e8eaffa",
   "metadata": {},
   "outputs": [],
   "source": [
    "plu_codes = [3364389, 3017398, 3364386, 3647605, 3647604, 3923304, 3364392]"
   ]
  },
  {
   "cell_type": "code",
   "execution_count": 125,
   "id": "bd521108",
   "metadata": {},
   "outputs": [
    {
     "name": "stderr",
     "output_type": "stream",
     "text": [
      "                                                                                / 919]]]]]\r"
     ]
    }
   ],
   "source": [
    "seg_pd13 = get_segment_grouped_one_plu(spark, \n",
    "                    start_date, \n",
    "                    end_date, \n",
    "                    plu_codes,\n",
    "                    guests=guests)"
   ]
  },
  {
   "cell_type": "code",
   "execution_count": 126,
   "id": "2f463445",
   "metadata": {},
   "outputs": [],
   "source": [
    "seg_pd13['qty'] = seg_pd13['qty'].astype('float')"
   ]
  },
  {
   "cell_type": "code",
   "execution_count": 127,
   "id": "4f846117",
   "metadata": {},
   "outputs": [
    {
     "data": {
      "text/html": [
       "<div>\n",
       "<style scoped>\n",
       "    .dataframe tbody tr th:only-of-type {\n",
       "        vertical-align: middle;\n",
       "    }\n",
       "\n",
       "    .dataframe tbody tr th {\n",
       "        vertical-align: top;\n",
       "    }\n",
       "\n",
       "    .dataframe thead th {\n",
       "        text-align: right;\n",
       "    }\n",
       "</style>\n",
       "<table border=\"1\" class=\"dataframe\">\n",
       "  <thead>\n",
       "    <tr style=\"text-align: right;\">\n",
       "      <th></th>\n",
       "      <th>plu_code</th>\n",
       "      <th>qty</th>\n",
       "      <th>plu_nm</th>\n",
       "    </tr>\n",
       "  </thead>\n",
       "  <tbody>\n",
       "    <tr>\n",
       "      <th>0</th>\n",
       "      <td>3364386</td>\n",
       "      <td>139.00</td>\n",
       "      <td>KOTEX Прокладки Ультра нормал 10шт</td>\n",
       "    </tr>\n",
       "    <tr>\n",
       "      <th>1</th>\n",
       "      <td>3017398</td>\n",
       "      <td>369.00</td>\n",
       "      <td>KOTEX Прокл.УЛЬТРА НАЙТ гигиен.жен.7шт</td>\n",
       "    </tr>\n",
       "    <tr>\n",
       "      <th>2</th>\n",
       "      <td>3364389</td>\n",
       "      <td>21.00</td>\n",
       "      <td>KOTEX Прокладки Ультра Драй нормал 20шт</td>\n",
       "    </tr>\n",
       "    <tr>\n",
       "      <th>3</th>\n",
       "      <td>3647604</td>\n",
       "      <td>627.00</td>\n",
       "      <td>KOTEX Прокл.ULTRA SOFT гиг.нормал 10шт</td>\n",
       "    </tr>\n",
       "    <tr>\n",
       "      <th>4</th>\n",
       "      <td>3364392</td>\n",
       "      <td>866.00</td>\n",
       "      <td>KOTEX Прокладки Ультра Драй супер 16шт</td>\n",
       "    </tr>\n",
       "  </tbody>\n",
       "</table>\n",
       "</div>"
      ],
      "text/plain": [
       "  plu_code    qty                                   plu_nm\n",
       "0  3364386 139.00       KOTEX Прокладки Ультра нормал 10шт\n",
       "1  3017398 369.00   KOTEX Прокл.УЛЬТРА НАЙТ гигиен.жен.7шт\n",
       "2  3364389  21.00  KOTEX Прокладки Ультра Драй нормал 20шт\n",
       "3  3647604 627.00   KOTEX Прокл.ULTRA SOFT гиг.нормал 10шт\n",
       "4  3364392 866.00   KOTEX Прокладки Ультра Драй супер 16шт"
      ]
     },
     "execution_count": 127,
     "metadata": {},
     "output_type": "execute_result"
    }
   ],
   "source": [
    "seg_pd13"
   ]
  },
  {
   "cell_type": "code",
   "execution_count": 134,
   "id": "1985faa4",
   "metadata": {},
   "outputs": [],
   "source": [
    "seg = pd.DataFrame({'plu_code': plu_codes})"
   ]
  },
  {
   "cell_type": "code",
   "execution_count": 136,
   "id": "d000ddb5",
   "metadata": {},
   "outputs": [],
   "source": [
    "seg = seg.astype('str')"
   ]
  },
  {
   "cell_type": "code",
   "execution_count": 138,
   "id": "fe3feef3",
   "metadata": {},
   "outputs": [],
   "source": [
    "val = pd.merge(seg, seg_pd1, how='left', on='plu_code')"
   ]
  },
  {
   "cell_type": "code",
   "execution_count": 139,
   "id": "054d4a72",
   "metadata": {},
   "outputs": [
    {
     "data": {
      "text/html": [
       "<div>\n",
       "<style scoped>\n",
       "    .dataframe tbody tr th:only-of-type {\n",
       "        vertical-align: middle;\n",
       "    }\n",
       "\n",
       "    .dataframe tbody tr th {\n",
       "        vertical-align: top;\n",
       "    }\n",
       "\n",
       "    .dataframe thead th {\n",
       "        text-align: right;\n",
       "    }\n",
       "</style>\n",
       "<table border=\"1\" class=\"dataframe\">\n",
       "  <thead>\n",
       "    <tr style=\"text-align: right;\">\n",
       "      <th></th>\n",
       "      <th>plu_code</th>\n",
       "      <th>qty</th>\n",
       "      <th>plu_nm</th>\n",
       "    </tr>\n",
       "  </thead>\n",
       "  <tbody>\n",
       "    <tr>\n",
       "      <th>0</th>\n",
       "      <td>3364389</td>\n",
       "      <td>NaN</td>\n",
       "      <td>NaN</td>\n",
       "    </tr>\n",
       "    <tr>\n",
       "      <th>1</th>\n",
       "      <td>3017398</td>\n",
       "      <td>225.00</td>\n",
       "      <td>KOTEX Прокл.УЛЬТРА НАЙТ гигиен.жен.7шт</td>\n",
       "    </tr>\n",
       "    <tr>\n",
       "      <th>2</th>\n",
       "      <td>3364386</td>\n",
       "      <td>12.00</td>\n",
       "      <td>KOTEX Прокладки Ультра нормал 10шт</td>\n",
       "    </tr>\n",
       "    <tr>\n",
       "      <th>3</th>\n",
       "      <td>3647605</td>\n",
       "      <td>NaN</td>\n",
       "      <td>NaN</td>\n",
       "    </tr>\n",
       "    <tr>\n",
       "      <th>4</th>\n",
       "      <td>3647604</td>\n",
       "      <td>236.00</td>\n",
       "      <td>KOTEX Прокл.ULTRA SOFT гиг.нормал 10шт</td>\n",
       "    </tr>\n",
       "    <tr>\n",
       "      <th>5</th>\n",
       "      <td>3923304</td>\n",
       "      <td>NaN</td>\n",
       "      <td>NaN</td>\n",
       "    </tr>\n",
       "    <tr>\n",
       "      <th>6</th>\n",
       "      <td>3364392</td>\n",
       "      <td>33.00</td>\n",
       "      <td>KOTEX Прокладки Ультра Драй супер 16шт</td>\n",
       "    </tr>\n",
       "  </tbody>\n",
       "</table>\n",
       "</div>"
      ],
      "text/plain": [
       "  plu_code    qty                                  plu_nm\n",
       "0  3364389    NaN                                     NaN\n",
       "1  3017398 225.00  KOTEX Прокл.УЛЬТРА НАЙТ гигиен.жен.7шт\n",
       "2  3364386  12.00      KOTEX Прокладки Ультра нормал 10шт\n",
       "3  3647605    NaN                                     NaN\n",
       "4  3647604 236.00  KOTEX Прокл.ULTRA SOFT гиг.нормал 10шт\n",
       "5  3923304    NaN                                     NaN\n",
       "6  3364392  33.00  KOTEX Прокладки Ультра Драй супер 16шт"
      ]
     },
     "execution_count": 139,
     "metadata": {},
     "output_type": "execute_result"
    }
   ],
   "source": [
    "val"
   ]
  },
  {
   "cell_type": "code",
   "execution_count": 143,
   "id": "832b5096",
   "metadata": {},
   "outputs": [
    {
     "data": {
      "text/html": [
       "<div>\n",
       "<style scoped>\n",
       "    .dataframe tbody tr th:only-of-type {\n",
       "        vertical-align: middle;\n",
       "    }\n",
       "\n",
       "    .dataframe tbody tr th {\n",
       "        vertical-align: top;\n",
       "    }\n",
       "\n",
       "    .dataframe thead th {\n",
       "        text-align: right;\n",
       "    }\n",
       "</style>\n",
       "<table border=\"1\" class=\"dataframe\">\n",
       "  <thead>\n",
       "    <tr style=\"text-align: right;\">\n",
       "      <th></th>\n",
       "      <th>plu_code</th>\n",
       "      <th>qty_1</th>\n",
       "      <th>plu_nm</th>\n",
       "      <th>qty_2</th>\n",
       "    </tr>\n",
       "  </thead>\n",
       "  <tbody>\n",
       "    <tr>\n",
       "      <th>0</th>\n",
       "      <td>3364389</td>\n",
       "      <td>NaN</td>\n",
       "      <td>NaN</td>\n",
       "      <td>NaN</td>\n",
       "    </tr>\n",
       "    <tr>\n",
       "      <th>1</th>\n",
       "      <td>3017398</td>\n",
       "      <td>225.00</td>\n",
       "      <td>KOTEX Прокл.УЛЬТРА НАЙТ гигиен.жен.7шт</td>\n",
       "      <td>225.00</td>\n",
       "    </tr>\n",
       "    <tr>\n",
       "      <th>2</th>\n",
       "      <td>3364386</td>\n",
       "      <td>12.00</td>\n",
       "      <td>KOTEX Прокладки Ультра нормал 10шт</td>\n",
       "      <td>7.00</td>\n",
       "    </tr>\n",
       "    <tr>\n",
       "      <th>3</th>\n",
       "      <td>3647605</td>\n",
       "      <td>NaN</td>\n",
       "      <td>NaN</td>\n",
       "      <td>NaN</td>\n",
       "    </tr>\n",
       "    <tr>\n",
       "      <th>4</th>\n",
       "      <td>3647604</td>\n",
       "      <td>236.00</td>\n",
       "      <td>KOTEX Прокл.ULTRA SOFT гиг.нормал 10шт</td>\n",
       "      <td>287.00</td>\n",
       "    </tr>\n",
       "    <tr>\n",
       "      <th>5</th>\n",
       "      <td>3923304</td>\n",
       "      <td>NaN</td>\n",
       "      <td>NaN</td>\n",
       "      <td>NaN</td>\n",
       "    </tr>\n",
       "    <tr>\n",
       "      <th>6</th>\n",
       "      <td>3364392</td>\n",
       "      <td>33.00</td>\n",
       "      <td>KOTEX Прокладки Ультра Драй супер 16шт</td>\n",
       "      <td>29.00</td>\n",
       "    </tr>\n",
       "  </tbody>\n",
       "</table>\n",
       "</div>"
      ],
      "text/plain": [
       "  plu_code  qty_1                                  plu_nm  qty_2\n",
       "0  3364389    NaN                                     NaN    NaN\n",
       "1  3017398 225.00  KOTEX Прокл.УЛЬТРА НАЙТ гигиен.жен.7шт 225.00\n",
       "2  3364386  12.00      KOTEX Прокладки Ультра нормал 10шт   7.00\n",
       "3  3647605    NaN                                     NaN    NaN\n",
       "4  3647604 236.00  KOTEX Прокл.ULTRA SOFT гиг.нормал 10шт 287.00\n",
       "5  3923304    NaN                                     NaN    NaN\n",
       "6  3364392  33.00  KOTEX Прокладки Ультра Драй супер 16шт  29.00"
      ]
     },
     "execution_count": 143,
     "metadata": {},
     "output_type": "execute_result"
    }
   ],
   "source": [
    "val1 = pd.merge(val, seg_pd2, how='left', on=['plu_code', 'plu_nm'], suffixes=('_1', '_2'))\n",
    "val1"
   ]
  },
  {
   "cell_type": "code",
   "execution_count": 147,
   "id": "91318cfc",
   "metadata": {},
   "outputs": [
    {
     "name": "stderr",
     "output_type": "stream",
     "text": [
      "/opt/conda/lib/python3.7/site-packages/ipykernel_launcher.py:4: FutureWarning: Passing 'suffixes' which cause duplicate columns {'qty_x'} in the result is deprecated and will raise a MergeError in a future version.\n",
      "  after removing the cwd from sys.path.\n",
      "/opt/conda/lib/python3.7/site-packages/ipykernel_launcher.py:6: FutureWarning: Passing 'suffixes' which cause duplicate columns {'qty_x'} in the result is deprecated and will raise a MergeError in a future version.\n",
      "  \n",
      "/opt/conda/lib/python3.7/site-packages/ipykernel_launcher.py:8: FutureWarning: Passing 'suffixes' which cause duplicate columns {'qty_x'} in the result is deprecated and will raise a MergeError in a future version.\n",
      "  \n",
      "/opt/conda/lib/python3.7/site-packages/ipykernel_launcher.py:10: FutureWarning: Passing 'suffixes' which cause duplicate columns {'qty_x'} in the result is deprecated and will raise a MergeError in a future version.\n",
      "  # Remove the CWD from sys.path while we load stuff.\n"
     ]
    }
   ],
   "source": [
    "val2 = pd.merge(val1, seg_pd3, how='left', on=['plu_code', 'plu_nm'])\n",
    "val3 = pd.merge(val2, seg_pd4, how='left', on=['plu_code', 'plu_nm'])\n",
    "val4 = pd.merge(val3, seg_pd5, how='left', on=['plu_code', 'plu_nm'])\n",
    "val5 = pd.merge(val4, seg_pd6, how='left', on=['plu_code', 'plu_nm'])\n",
    "val6 = pd.merge(val5, seg_pd7, how='left', on=['plu_code', 'plu_nm'])\n",
    "val7 = pd.merge(val6, seg_pd8, how='left', on=['plu_code', 'plu_nm'])\n",
    "val8 = pd.merge(val7, seg_pd9, how='left', on=['plu_code', 'plu_nm'])\n",
    "val9 = pd.merge(val8, seg_pd10, how='left', on=['plu_code', 'plu_nm'])\n",
    "val10 = pd.merge(val9, seg_pd11, how='left', on=['plu_code', 'plu_nm'])\n",
    "val11 = pd.merge(val10, seg_pd12, how='left', on=['plu_code', 'plu_nm'])\n",
    "val12 = pd.merge(val11, seg_pd13, how='left', on=['plu_code', 'plu_nm'])"
   ]
  },
  {
   "cell_type": "code",
   "execution_count": 149,
   "id": "790b5931",
   "metadata": {},
   "outputs": [],
   "source": [
    "val12 = val12.drop(columns='plu_nm')"
   ]
  },
  {
   "cell_type": "code",
   "execution_count": 151,
   "id": "5a390bd1",
   "metadata": {},
   "outputs": [],
   "source": [
    "val12 = val12.fillna(0)"
   ]
  },
  {
   "cell_type": "code",
   "execution_count": 154,
   "id": "6cc04371",
   "metadata": {},
   "outputs": [],
   "source": [
    "list_columns = ['plu_code',\n",
    "'A-24-17-recurrent-Kimberly-clark-brand-w2-no',\n",
    "'A-24-17-recurrent-Kimberly-clark-brand-w2-yes',\n",
    "'A-24-16-recurrent-Kimberly-clark-all-w2-no',\n",
    "'A-24-16-recurrent-Kimberly-clark-all-w2-yes',\n",
    "'X-24-18-KimberlyClark-Kotex-Competitors-2-sof',\n",
    "'X-24-19-KimberlyClark-Kotex-Loyal-2-sof',\n",
    "'A-24-17-recurrent-Kimberly-clark-brand',\n",
    "'A-24-16-recurrent-Kimberly-clark-all',\n",
    "'X-24-16-KimberlyClark-Kotex-Competitors-sof',\n",
    "'X-24-15-KimberlyClark-Kotex-Loyal-sof',\n",
    "'f24_freq24_Kimberly_Clark',\n",
    "'U-24-12-kotex-loyal-viber-sms',\n",
    "'U-24-12-kotex-competitors-viber-sms']"
   ]
  },
  {
   "cell_type": "code",
   "execution_count": 155,
   "id": "61a5dd9f",
   "metadata": {},
   "outputs": [],
   "source": [
    "val12.columns = list_columns"
   ]
  },
  {
   "cell_type": "code",
   "execution_count": 158,
   "id": "1e152e94",
   "metadata": {},
   "outputs": [],
   "source": [
    "val12 = val12.T"
   ]
  },
  {
   "cell_type": "code",
   "execution_count": 160,
   "id": "bb060f09",
   "metadata": {},
   "outputs": [],
   "source": [
    "val12.to_excel('all_camp_kimberly' +'.xlsx')"
   ]
  }
 ],
 "metadata": {
  "kernelspec": {
   "display_name": "Python 3 (ipykernel)",
   "language": "python",
   "name": "python3"
  },
  "language_info": {
   "codemirror_mode": {
    "name": "ipython",
    "version": 3
   },
   "file_extension": ".py",
   "mimetype": "text/x-python",
   "name": "python",
   "nbconvert_exporter": "python",
   "pygments_lexer": "ipython3",
   "version": "3.7.10"
  }
 },
 "nbformat": 4,
 "nbformat_minor": 5
}
