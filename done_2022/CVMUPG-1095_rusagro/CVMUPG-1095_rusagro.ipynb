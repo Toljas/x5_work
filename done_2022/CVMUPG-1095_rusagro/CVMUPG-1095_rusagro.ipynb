{
 "cells": [
  {
   "cell_type": "markdown",
   "id": "af5f6665",
   "metadata": {},
   "source": [
    "https://jira.x5.ru/browse/CVMUPG-1095"
   ]
  },
  {
   "cell_type": "code",
   "execution_count": 1,
   "id": "791dca12",
   "metadata": {},
   "outputs": [],
   "source": [
    "name = 'CVMUPG-1095_rusagro'"
   ]
  },
  {
   "cell_type": "code",
   "execution_count": 2,
   "id": "2e16be30",
   "metadata": {},
   "outputs": [],
   "source": [
    "import sys\n",
    "import pandas as pd\n",
    "import pyspark.sql.functions as F\n",
    "sys.path.append('/home/jovyan/cvm_upgrade/')\n",
    "sys.path.append('/home/jovyan/cvm_upgrade/upgrade/')\n",
    "sys.path.append('/home/jovyan/glow-byte-filters-pyspark')\n",
    "sys.path.append('/home/jovyan/x5_some_tasks/Osipov/')\n",
    "from upgrade.post_analysis2.tools.groups_metrics_aggregation import GroupsMetricsAggregation\n",
    "from upgrade.post_analysis2.tools.guests_metrics_preprocessing import GuestsMetricsPreprocessing\n",
    "from upgrade.post_analysis2.tools.post_analysis_params import PostAnalysisParams\n",
    "from upgrade.post_analysis2.tools.metric_names_mapper import map_col_names_to_russian\n",
    "from upgrade.post_analysis2.tools.experiment_participants import ExperimentParticipants\n",
    "from upgrade.post_analysis2.tools.experiment_params import ExperimentParams\n",
    "import datetime\n",
    "from datetime import timedelta\n",
    "from spark import *\n",
    "from utils_osipov import *\n",
    "from logic_filters import *\n",
    "from segmentation import *\n",
    "\n",
    "%load_ext autoreload\n",
    "%autoreload 2\n",
    "\n",
    "pd.options.display.float_format = '{:,.2f}'.format\n",
    "pd.options.display.max_rows = 500"
   ]
  },
  {
   "cell_type": "code",
   "execution_count": 3,
   "id": "a6e0b8cf",
   "metadata": {
    "collapsed": false,
    "jupyter": {
     "outputs_hidden": false
    },
    "pycharm": {
     "name": "#%%\n"
    }
   },
   "outputs": [
    {
     "name": "stderr",
     "output_type": "stream",
     "text": [
      "Setting default log level to \"WARN\".\n",
      "To adjust logging level use sc.setLogLevel(newLevel). For SparkR, use setLogLevel(newLevel).\n",
      "22/02/08 14:43:33 WARN cluster.YarnSchedulerBackend$YarnSchedulerEndpoint: Attempted to request executors before the AM has registered!\n"
     ]
    }
   ],
   "source": [
    "sc, spark = restart_spark(name, 100, executor_memory=\"3G\", executor_cores=5, driver_memory=\"12G\",\n",
    "                          additional_params={\"spark.sql.shuffle.partitions\": \"200\"})\n",
    "sc.setLogLevel('ERROR')"
   ]
  },
  {
   "cell_type": "code",
   "execution_count": 4,
   "id": "f3bd8803",
   "metadata": {},
   "outputs": [],
   "source": [
    "LOYALTY_CARDS = \"hive_ssa_tc5.loyalty_card\"\n",
    "LOYALTY_CARDHOLDERS = \"hive_ssa_tc5.loyalty_cardholder\"\n",
    "ACCOUNTS = \"hive_ssa_tc5.account\"\n",
    "CVM5_GUESTS = \"hive_cvm_acrm.cvm5_guests\"\n",
    "\n",
    "DIM_STORE = \"hive_ssa_main.dim_store\"\n",
    "CHECKS_HEADERS = \"hive_ssa_main.fct_rtl_txn\"\n",
    "CHECKS_ITEMS = \"hive_ssa_main.fct_rtl_txn_item\"\n",
    "PRODUCTS = \"hive_ssa_tc5.cvm_product\""
   ]
  },
  {
   "cell_type": "markdown",
   "id": "cc1cdd67",
   "metadata": {},
   "source": [
    "### Выбираем гостей нужного юзкейса"
   ]
  },
  {
   "cell_type": "code",
   "execution_count": 5,
   "id": "48c54878",
   "metadata": {},
   "outputs": [],
   "source": [
    "usecase = ['cross', 'upgrade', 'ump']\n",
    "dt = datetime.date.today()"
   ]
  },
  {
   "cell_type": "code",
   "execution_count": 6,
   "id": "6c68af69",
   "metadata": {},
   "outputs": [],
   "source": [
    "customers_usecase = (spark\n",
    "                     .table(CVM5_GUESTS)\n",
    "                     .filter(F.to_date('calculation_dt') == dt)\n",
    "                     .filter(F.col('usecase').isin(usecase))\n",
    "                     .select('account_no', 'customer_rk')\n",
    "                            )"
   ]
  },
  {
   "cell_type": "code",
   "execution_count": 7,
   "id": "c3fc48bf",
   "metadata": {},
   "outputs": [
    {
     "name": "stderr",
     "output_type": "stream",
     "text": [
      "                                                                                \r"
     ]
    },
    {
     "data": {
      "text/plain": [
       "15862299"
      ]
     },
     "execution_count": 7,
     "metadata": {},
     "output_type": "execute_result"
    }
   ],
   "source": [
    "customers_usecase.count() # 15 862 299"
   ]
  },
  {
   "cell_type": "markdown",
   "id": "4755ca3a",
   "metadata": {},
   "source": [
    "### 1 проверяем на доступность отобранных гостей в определенную дату"
   ]
  },
  {
   "cell_type": "code",
   "execution_count": 8,
   "id": "f44b800a",
   "metadata": {},
   "outputs": [],
   "source": [
    "check_date = '2022-02-22'"
   ]
  },
  {
   "cell_type": "code",
   "execution_count": 13,
   "id": "1f83e94f",
   "metadata": {},
   "outputs": [
    {
     "name": "stdout",
     "output_type": "stream",
     "text": [
      "\u001b[93m Время выполнения: 0:00:07\n"
     ]
    }
   ],
   "source": [
    "seg_sms1 = (sms_channel_filters_glowbyte(spark=spark,\n",
    "                                         guests=customers_usecase, \n",
    "                                         usecase_name=usecase[0], \n",
    "                                         check_date=check_date, \n",
    "                                         debug_mode=False)\n",
    "                                    .select('customer_rk')\n",
    "                                    .distinct()\n",
    "           )"
   ]
  },
  {
   "cell_type": "code",
   "execution_count": 14,
   "id": "4eb3b3c5",
   "metadata": {},
   "outputs": [
    {
     "name": "stdout",
     "output_type": "stream",
     "text": [
      "\u001b[93m Время выполнения: 0:00:03\n"
     ]
    }
   ],
   "source": [
    "seg_sms2 = (sms_channel_filters_glowbyte(spark=spark,\n",
    "                                         guests=customers_usecase, \n",
    "                                         usecase_name=usecase[1], \n",
    "                                         check_date=check_date, \n",
    "                                         debug_mode=False)\n",
    "                                    .select('customer_rk')\n",
    "                                    .distinct()\n",
    "           )"
   ]
  },
  {
   "cell_type": "code",
   "execution_count": 15,
   "id": "02416a47",
   "metadata": {},
   "outputs": [
    {
     "name": "stdout",
     "output_type": "stream",
     "text": [
      "\u001b[93m Время выполнения: 0:00:04\n"
     ]
    }
   ],
   "source": [
    "seg_sms3 = (sms_channel_filters_glowbyte(spark=spark,\n",
    "                                         guests=customers_usecase, \n",
    "                                         usecase_name=usecase[2], \n",
    "                                         check_date=check_date, \n",
    "                                         debug_mode=False)\n",
    "                                    .select('customer_rk')\n",
    "                                    .distinct()\n",
    "           )"
   ]
  },
  {
   "cell_type": "code",
   "execution_count": 16,
   "id": "aa3732fd",
   "metadata": {},
   "outputs": [],
   "source": [
    "seg_sms_1 = seg_sms1.union(seg_sms2).union(seg_sms3).distinct()"
   ]
  },
  {
   "cell_type": "code",
   "execution_count": 17,
   "id": "f8d620f3",
   "metadata": {},
   "outputs": [
    {
     "name": "stderr",
     "output_type": "stream",
     "text": [
      "                                                                                0]]]1]]]\r"
     ]
    }
   ],
   "source": [
    "seg_sms_1.write.parquet('temp1095_1', mode='overwrite')\n",
    "seg_sms_1 = spark.read.parquet('temp1095_1')"
   ]
  },
  {
   "cell_type": "code",
   "execution_count": 18,
   "id": "fb02c8cb",
   "metadata": {},
   "outputs": [
    {
     "name": "stderr",
     "output_type": "stream",
     "text": [
      "                                                                                \r"
     ]
    },
    {
     "data": {
      "text/plain": [
       "5980552"
      ]
     },
     "execution_count": 18,
     "metadata": {},
     "output_type": "execute_result"
    }
   ],
   "source": [
    "seg_sms_1.count() # 5 980 552"
   ]
  },
  {
   "cell_type": "markdown",
   "id": "1bbeeb16",
   "metadata": {},
   "source": [
    "### 2 проверяем на доступность отобранных гостей в определенную дату"
   ]
  },
  {
   "cell_type": "code",
   "execution_count": 19,
   "id": "0fcd89ad",
   "metadata": {},
   "outputs": [],
   "source": [
    "check_date = '2022-03-08'"
   ]
  },
  {
   "cell_type": "code",
   "execution_count": 20,
   "id": "6dede2f1",
   "metadata": {},
   "outputs": [
    {
     "name": "stdout",
     "output_type": "stream",
     "text": [
      "\u001b[93m Время выполнения: 0:00:21\n"
     ]
    }
   ],
   "source": [
    "seg_sms1 = (sms_channel_filters_glowbyte(spark=spark,\n",
    "                                         guests=customers_usecase, \n",
    "                                         usecase_name=usecase[0], \n",
    "                                         check_date=check_date, \n",
    "                                         debug_mode=False)\n",
    "                                    .select('customer_rk')\n",
    "                                    .distinct()\n",
    "           )"
   ]
  },
  {
   "cell_type": "code",
   "execution_count": 21,
   "id": "389fad09",
   "metadata": {},
   "outputs": [
    {
     "name": "stdout",
     "output_type": "stream",
     "text": [
      "\u001b[93m Время выполнения: 0:00:10\n"
     ]
    }
   ],
   "source": [
    "seg_sms2 = (sms_channel_filters_glowbyte(spark=spark,\n",
    "                                         guests=customers_usecase, \n",
    "                                         usecase_name=usecase[1], \n",
    "                                         check_date=check_date, \n",
    "                                         debug_mode=False)\n",
    "                                    .select('customer_rk')\n",
    "                                    .distinct()\n",
    "           )"
   ]
  },
  {
   "cell_type": "code",
   "execution_count": 22,
   "id": "4808eb19",
   "metadata": {},
   "outputs": [
    {
     "name": "stdout",
     "output_type": "stream",
     "text": [
      "\u001b[93m Время выполнения: 0:00:16\n"
     ]
    }
   ],
   "source": [
    "seg_sms3 = (sms_channel_filters_glowbyte(spark=spark,\n",
    "                                         guests=customers_usecase, \n",
    "                                         usecase_name=usecase[2], \n",
    "                                         check_date=check_date, \n",
    "                                         debug_mode=False)\n",
    "                                    .select('customer_rk')\n",
    "                                    .distinct()\n",
    "           )"
   ]
  },
  {
   "cell_type": "code",
   "execution_count": 23,
   "id": "a2591322",
   "metadata": {},
   "outputs": [],
   "source": [
    "seg_sms_2 = seg_sms1.union(seg_sms2).union(seg_sms3).distinct()"
   ]
  },
  {
   "cell_type": "code",
   "execution_count": 24,
   "id": "7c495a39",
   "metadata": {},
   "outputs": [
    {
     "name": "stderr",
     "output_type": "stream",
     "text": [
      "                                                                                21]]]1]]\r"
     ]
    }
   ],
   "source": [
    "seg_sms_2.write.parquet('temp1095_2', mode='overwrite')\n",
    "seg_sms_2 = spark.read.parquet('temp1095_2')"
   ]
  },
  {
   "cell_type": "code",
   "execution_count": 25,
   "id": "f974d660",
   "metadata": {},
   "outputs": [
    {
     "name": "stderr",
     "output_type": "stream",
     "text": [
      "                                                                                \r"
     ]
    },
    {
     "data": {
      "text/plain": [
       "8736926"
      ]
     },
     "execution_count": 25,
     "metadata": {},
     "output_type": "execute_result"
    }
   ],
   "source": [
    "seg_sms_2.count() # 8 736 926"
   ]
  },
  {
   "cell_type": "markdown",
   "id": "09a938ff",
   "metadata": {},
   "source": [
    "### Проверка на доступность плю в магазинах"
   ]
  },
  {
   "cell_type": "markdown",
   "id": "eec8e8ab",
   "metadata": {},
   "source": [
    "Мск, ЦФО, СЗФО"
   ]
  },
  {
   "cell_type": "code",
   "execution_count": 26,
   "id": "6e540ded",
   "metadata": {},
   "outputs": [],
   "source": [
    "macroregion_dk = ['MRDCT', 'MRDCN', 'MRDND']"
   ]
  },
  {
   "cell_type": "code",
   "execution_count": 27,
   "id": "c9cbe3e1",
   "metadata": {},
   "outputs": [
    {
     "name": "stderr",
     "output_type": "stream",
     "text": [
      "                                                                                \r"
     ]
    },
    {
     "data": {
      "text/plain": [
       "9902"
      ]
     },
     "execution_count": 27,
     "metadata": {},
     "output_type": "execute_result"
    }
   ],
   "source": [
    "shops = (spark.table(DIM_STORE)\n",
    "            .filter(F.col('valid_to_dttm')== datetime.datetime(5999, 1, 1, 0, 0))\n",
    "            #.filter(F.col('federal_subject_dk').isin([23, 93, 123, 193, 74, 174,\n",
    "             #                                         774, 16, 116, 716, 71, 32]))\n",
    "            .filter(F.col('macroregion_dk').isin(macroregion_dk))\n",
    "            .selectExpr('store_id as plant')\n",
    "            .distinct()\n",
    "            #.toPandas()['plant']\n",
    "            #.tolist()\n",
    "            )\n",
    "\n",
    "plants = (shops.select('plant')\n",
    "                .distinct()\n",
    "                .toPandas()['plant']\n",
    "                .tolist()\n",
    "         )\n",
    "\n",
    "len(plants)"
   ]
  },
  {
   "cell_type": "markdown",
   "id": "58ffd684",
   "metadata": {},
   "source": [
    "### Heavy users"
   ]
  },
  {
   "cell_type": "markdown",
   "id": "f202ba4f",
   "metadata": {},
   "source": [
    "### Собираем чеки этих гостей и оставляем тех, кто покупал продукты с synthetic_catalog_id"
   ]
  },
  {
   "cell_type": "code",
   "execution_count": 28,
   "id": "bda0a229",
   "metadata": {},
   "outputs": [],
   "source": [
    "start_date = datetime.date(2021, 11, 3)\n",
    "end_date = datetime.date(2022, 2, 2)"
   ]
  },
  {
   "cell_type": "code",
   "execution_count": 29,
   "id": "cc654403",
   "metadata": {},
   "outputs": [],
   "source": [
    "checks_headers = (spark.table(CHECKS_HEADERS)\n",
    "                      .filter(F.col('rtl_txn_dt').between(start_date, end_date))\n",
    "                      .filter((F.col('loyalty_card_no') != '') & (F.col('loyalty_card_no').isNotNull()))\n",
    "                      .filter(F.col('financial_unit_format_dk') == 'D')\n",
    "                      .filter(F.col('rtl_txn_cancel_flg') == 0)\n",
    "                      .select('rtl_txn_id', 'loyalty_card_no', 'store_id')\n",
    "                     )\n"
   ]
  },
  {
   "cell_type": "code",
   "execution_count": 44,
   "id": "59969b8f",
   "metadata": {},
   "outputs": [],
   "source": [
    "checks_headers_tc5 = checks_headers.filter(F.col('store_id').isin(plants)) #оставили чеки только с нужными магазинами"
   ]
  },
  {
   "cell_type": "code",
   "execution_count": 45,
   "id": "8a2398bb",
   "metadata": {},
   "outputs": [],
   "source": [
    "loyalty_cards = (spark\n",
    "                    .table(LOYALTY_CARDS)\n",
    "                    .withColumnRenamed(\"loyalty_card_id\", \"loyalty_card_no\")\n",
    "                    .withColumnRenamed(\"loyalty_account_id\", \"account_no\")\n",
    "                    .withColumnRenamed(\"loyalty_account_acrm_id\", \"account_rk\")\n",
    "                    .select('account_no', 'loyalty_card_no')\n",
    "                )\n",
    "loyalty_cardholders = (spark\n",
    "                        .table(LOYALTY_CARDHOLDERS)\n",
    "                        .withColumnRenamed(\"loyalty_cardholder_acrm_id\", \"customer_rk\")\n",
    "                        .withColumnRenamed(\"loyalty_account_id\", \"account_no\")\n",
    "                        .select('account_no', 'customer_rk')\n",
    "                      )\n",
    "clients_info1 = loyalty_cards.join(loyalty_cardholders, on='account_no', how='inner')\n",
    "clients_info1 = clients_info1.join(seg_sms_1, on='customer_rk', how='inner')\n",
    "clients_info2 = loyalty_cards.join(loyalty_cardholders, on='account_no', how='inner')\n",
    "clients_info2 = clients_info2.join(seg_sms_2, on='customer_rk', how='inner')"
   ]
  },
  {
   "cell_type": "code",
   "execution_count": 46,
   "id": "41d34143",
   "metadata": {},
   "outputs": [],
   "source": [
    "checks_headers_tc51 = checks_headers_tc5.join(clients_info1, on='loyalty_card_no') #оставили чеки только нужных гостей"
   ]
  },
  {
   "cell_type": "code",
   "execution_count": 47,
   "id": "592b522f",
   "metadata": {},
   "outputs": [],
   "source": [
    "checks_headers_tc52 = checks_headers_tc5.join(clients_info2, on='loyalty_card_no') #оставили чеки только нужных гостей"
   ]
  },
  {
   "cell_type": "code",
   "execution_count": 48,
   "id": "58a5a55a",
   "metadata": {},
   "outputs": [],
   "source": [
    "checks_items = (spark.table(CHECKS_ITEMS) \n",
    "                    .withColumnRenamed('plu_id', 'plu_code')\n",
    "                    .withColumnRenamed('turnover_no_vat_amt', 'zsalnovat')\n",
    "                    .withColumnRenamed('turnover_vat_rub_amt', 'zsale_vat')\n",
    "                    .withColumnRenamed('prime_cost_no_vat_amt', 'zcst_n')\n",
    "                    .withColumnRenamed('turnover_base_uom_amt', 'base_qty')\n",
    "                    .withColumnRenamed('discount_amt', 'zdiscount')\n",
    "                    .withColumnRenamed('fact_regular_promo_flg', 'zpromofl')\n",
    "                    .filter(F.col('rtl_txn_dt').between(start_date, end_date))\n",
    "                    .filter((F.col('zsalnovat') >= 0) & (F.col('base_qty') >= 0) & (F.col('zcst_n') > 0)) #keep only correct data\n",
    "                        .select('plu_code' #items id\n",
    "                                , 'rtl_txn_id' #cheques id\n",
    "                               , 'base_qty'\n",
    "                               )\n",
    "                   )\n"
   ]
  },
  {
   "cell_type": "code",
   "execution_count": 18,
   "id": "90dbefde",
   "metadata": {},
   "outputs": [],
   "source": [
    "# plu_hierarchy_lvl_4_dk = ['FR0604001', 'FR0608005', 'FR0604002', 'FR0608001'] #сметана, молоко, кефир\n",
    "syntethic_category_id = [96,57,75,73,101,55,56,22]\n",
    "# plu_brand_code = ['5727','M082','M083','5728']\n",
    "# plu_vendor_nm = ['Данон']\n",
    "# plu_not_in = [4138521]"
   ]
  },
  {
   "cell_type": "code",
   "execution_count": 19,
   "id": "49535a91",
   "metadata": {},
   "outputs": [
    {
     "name": "stderr",
     "output_type": "stream",
     "text": [
      "                                                                                \r"
     ]
    }
   ],
   "source": [
    "plu_codes_cat = (spark\n",
    "                 .table(PRODUCTS)\n",
    "#                  .filter(F.col('plu_hierarchy_lvl_4_dk').isin(plu_hierarchy_lvl_4_dk))\n",
    "#                  .filter(F.col('plu_vendor_nm').isin(plu_vendor_nm))\n",
    "                 .filter(F.col('syntethic_category_id').isin(syntethic_category_id))\n",
    "#                  .filter(~F.col('plu_id').isin(plu_not_in))\n",
    "                 .select('plu_id')\n",
    "                 .distinct()\n",
    "                 .toPandas()['plu_id']\n",
    "                 .tolist()\n",
    "                )"
   ]
  },
  {
   "cell_type": "code",
   "execution_count": 35,
   "id": "4ba558d4",
   "metadata": {},
   "outputs": [],
   "source": [
    "plu_codes_cat = [3017503,3195297,3444609,3444610,3495835,3503399,3693488,3695167,3982578,4102644,\n",
    "4105769,4112954,4093072,4175547,4182900,4182902]"
   ]
  },
  {
   "cell_type": "code",
   "execution_count": 49,
   "id": "16e917e0",
   "metadata": {},
   "outputs": [],
   "source": [
    "checks_items = checks_items.filter(F.col('plu_code').isin(plu_codes_cat)) # только чеки с нужными plu"
   ]
  },
  {
   "cell_type": "code",
   "execution_count": 50,
   "id": "7e220747",
   "metadata": {},
   "outputs": [],
   "source": [
    "checks_tc51 = checks_items.join(checks_headers_tc51, 'rtl_txn_id', how='inner')"
   ]
  },
  {
   "cell_type": "code",
   "execution_count": 51,
   "id": "5b0deec7",
   "metadata": {},
   "outputs": [],
   "source": [
    "checks_tc52 = checks_items.join(checks_headers_tc52, 'rtl_txn_id', how='inner')"
   ]
  },
  {
   "cell_type": "code",
   "execution_count": 52,
   "id": "a501cbf4",
   "metadata": {},
   "outputs": [],
   "source": [
    "accs = ['account_no']\n",
    "pdf = checks_tc51.groupby(accs).agg(F.sum('base_qty').alias('base_qty_per_period'))\n",
    "pdf = pdf.filter(F.col('base_qty_per_period') >= 2)\n",
    "checks_tc51 = checks_tc51.join(pdf, on=accs)"
   ]
  },
  {
   "cell_type": "code",
   "execution_count": 53,
   "id": "50eff21d",
   "metadata": {},
   "outputs": [],
   "source": [
    "pdf2 = checks_tc52.groupby(accs).agg(F.sum('base_qty').alias('base_qty_per_period'))\n",
    "pdf2 = pdf2.filter(F.col('base_qty_per_period') >= 2)\n",
    "checks_tc52 = checks_tc52.join(pdf2, on=accs)"
   ]
  },
  {
   "cell_type": "code",
   "execution_count": 54,
   "id": "2a1b9a28",
   "metadata": {},
   "outputs": [],
   "source": [
    "seg1 = (checks_tc51.withColumn('group', F.lit('1'))\n",
    "                  .select('customer_rk', 'group')\n",
    "                  .distinct()\n",
    "      )"
   ]
  },
  {
   "cell_type": "code",
   "execution_count": 55,
   "id": "09d0520c",
   "metadata": {},
   "outputs": [],
   "source": [
    "seg2 = (checks_tc52.withColumn('group', F.lit('2'))\n",
    "                  .select('customer_rk', 'group')\n",
    "                  .distinct()\n",
    "      )"
   ]
  },
  {
   "cell_type": "code",
   "execution_count": 56,
   "id": "788c2231",
   "metadata": {},
   "outputs": [],
   "source": [
    "seg = seg1.union(seg2)"
   ]
  },
  {
   "cell_type": "code",
   "execution_count": 57,
   "id": "a00feaa0",
   "metadata": {},
   "outputs": [
    {
     "name": "stderr",
     "output_type": "stream",
     "text": [
      "                                                                                 200]]]]]]]]\r"
     ]
    }
   ],
   "source": [
    "seg.write.parquet('temp1095_seg1', mode='overwrite')\n",
    "seg = spark.read.parquet('temp1095_seg1')"
   ]
  },
  {
   "cell_type": "code",
   "execution_count": 58,
   "id": "be4a82e3",
   "metadata": {},
   "outputs": [
    {
     "name": "stderr",
     "output_type": "stream",
     "text": [
      "                                                                                \r"
     ]
    },
    {
     "data": {
      "text/plain": [
       "600362"
      ]
     },
     "execution_count": 58,
     "metadata": {},
     "output_type": "execute_result"
    }
   ],
   "source": [
    "seg.count()"
   ]
  },
  {
   "cell_type": "code",
   "execution_count": 59,
   "id": "367f6c17",
   "metadata": {},
   "outputs": [],
   "source": [
    "seg_pd1 = seg.toPandas()"
   ]
  },
  {
   "cell_type": "code",
   "execution_count": 60,
   "id": "2b7aaa76",
   "metadata": {},
   "outputs": [],
   "source": [
    "seg_pd1_seg1 = seg_pd1[seg_pd1.group == '1']\n",
    "seg_pd1_seg2 = seg_pd1[seg_pd1.group == '2']"
   ]
  },
  {
   "cell_type": "code",
   "execution_count": 61,
   "id": "18fbef1c",
   "metadata": {},
   "outputs": [
    {
     "name": "stdout",
     "output_type": "stream",
     "text": [
      "244174\n",
      "356188\n"
     ]
    }
   ],
   "source": [
    "print(len(seg_pd1_seg1))\n",
    "print(len(seg_pd1_seg2))"
   ]
  },
  {
   "cell_type": "code",
   "execution_count": 341,
   "id": "bdc4759a",
   "metadata": {},
   "outputs": [],
   "source": [
    "seg_pd1_seg1 = seg_pd1_seg1.astype('str')\n",
    "seg_pd1_seg2 = seg_pd1_seg2.astype('str')"
   ]
  },
  {
   "cell_type": "code",
   "execution_count": 344,
   "id": "5c8b515a",
   "metadata": {},
   "outputs": [],
   "source": [
    "cross11, upgrade11, ump11 = get_usecases(seg_pd1_seg1)\n",
    "cross12, upgrade12, ump12 = get_usecases(seg_pd1_seg2)"
   ]
  },
  {
   "cell_type": "code",
   "execution_count": 346,
   "id": "b960d709",
   "metadata": {},
   "outputs": [
    {
     "name": "stdout",
     "output_type": "stream",
     "text": [
      "cross: 77577, upgrade: 89108, ump: 77489 (all: 244174)\n",
      "cross: 133387, upgrade: 144644, ump: 78157 (all: 356188)\n"
     ]
    },
    {
     "name": "stderr",
     "output_type": "stream",
     "text": [
      "22/02/08 21:23:27 ERROR cluster.YarnScheduler: Lost executor 1924 on mn-hd0176.x5.ru: Unable to create executor due to Unable to register with external shuffle server due to : java.util.concurrent.TimeoutException: Timeout waiting for task.\n",
      "22/02/08 21:24:57 ERROR cluster.YarnScheduler: Lost executor 1925 on mn-hd0176.x5.ru: Unable to create executor due to Unable to register with external shuffle server due to : java.util.concurrent.TimeoutException: Timeout waiting for task.\n"
     ]
    }
   ],
   "source": [
    "print('cross: {}, upgrade: {}, ump: {} (all: {})'\n",
    "      .format(len(cross11), len(upgrade11), len(ump11), \n",
    "              len(cross11)+len(upgrade11)+len(ump11)))\n",
    "print('cross: {}, upgrade: {}, ump: {} (all: {})'\n",
    "      .format(len(cross12), len(upgrade12), len(ump12), \n",
    "              len(cross12)+len(upgrade12)+len(ump12)))"
   ]
  },
  {
   "cell_type": "code",
   "execution_count": null,
   "id": "0c6dea88",
   "metadata": {},
   "outputs": [],
   "source": []
  },
  {
   "cell_type": "markdown",
   "id": "c4d65dcb",
   "metadata": {},
   "source": [
    "### Конкуренты"
   ]
  },
  {
   "cell_type": "markdown",
   "id": "31ff2260",
   "metadata": {},
   "source": [
    "### Собираем чеки этих гостей и оставляем тех, кто покупал продукты с synthetic_catalog_id"
   ]
  },
  {
   "cell_type": "code",
   "execution_count": 62,
   "id": "d8f1dce9",
   "metadata": {},
   "outputs": [],
   "source": [
    "start_date = datetime.date(2021, 11, 3)\n",
    "end_date = datetime.date(2022, 2, 2)"
   ]
  },
  {
   "cell_type": "code",
   "execution_count": 63,
   "id": "5af52a8f",
   "metadata": {},
   "outputs": [],
   "source": [
    "checks_headers = (spark.table(CHECKS_HEADERS)\n",
    "                      .filter(F.col('rtl_txn_dt').between(start_date, end_date))\n",
    "                      .filter((F.col('loyalty_card_no') != '') & (F.col('loyalty_card_no').isNotNull()))\n",
    "                      .filter(F.col('financial_unit_format_dk') == 'D')\n",
    "                      .filter(F.col('rtl_txn_cancel_flg') == 0)\n",
    "                      .select('rtl_txn_id', 'loyalty_card_no', 'store_id')\n",
    "                     )\n"
   ]
  },
  {
   "cell_type": "code",
   "execution_count": 64,
   "id": "e4dcea46",
   "metadata": {},
   "outputs": [],
   "source": [
    "checks_headers_tc5 = checks_headers.filter(F.col('store_id').isin(plants)) #оставили чеки только с нужными магазинами"
   ]
  },
  {
   "cell_type": "code",
   "execution_count": 65,
   "id": "64da5da3",
   "metadata": {},
   "outputs": [],
   "source": [
    "loyalty_cards = (spark\n",
    "                    .table(LOYALTY_CARDS)\n",
    "                    .withColumnRenamed(\"loyalty_card_id\", \"loyalty_card_no\")\n",
    "                    .withColumnRenamed(\"loyalty_account_id\", \"account_no\")\n",
    "                    .withColumnRenamed(\"loyalty_account_acrm_id\", \"account_rk\")\n",
    "                    .select('account_no', 'loyalty_card_no')\n",
    "                )\n",
    "loyalty_cardholders = (spark\n",
    "                        .table(LOYALTY_CARDHOLDERS)\n",
    "                        .withColumnRenamed(\"loyalty_cardholder_acrm_id\", \"customer_rk\")\n",
    "                        .withColumnRenamed(\"loyalty_account_id\", \"account_no\")\n",
    "                        .select('account_no', 'customer_rk')\n",
    "                      )\n",
    "clients_info1 = loyalty_cards.join(loyalty_cardholders, on='account_no', how='inner')\n",
    "clients_info1 = clients_info1.join(seg_sms_1, on='customer_rk', how='inner')\n",
    "clients_info2 = loyalty_cards.join(loyalty_cardholders, on='account_no', how='inner')\n",
    "clients_info2 = clients_info2.join(seg_sms_2, on='customer_rk', how='inner')"
   ]
  },
  {
   "cell_type": "code",
   "execution_count": 66,
   "id": "a3195c53",
   "metadata": {},
   "outputs": [],
   "source": [
    "checks_headers_tc51 = checks_headers_tc5.join(clients_info1, on='loyalty_card_no') #оставили чеки только нужных гостей"
   ]
  },
  {
   "cell_type": "code",
   "execution_count": 67,
   "id": "82bb5868",
   "metadata": {},
   "outputs": [],
   "source": [
    "checks_headers_tc52 = checks_headers_tc5.join(clients_info2, on='loyalty_card_no') #оставили чеки только нужных гостей"
   ]
  },
  {
   "cell_type": "code",
   "execution_count": 68,
   "id": "41da23ae",
   "metadata": {},
   "outputs": [],
   "source": [
    "checks_items = (spark.table(CHECKS_ITEMS) \n",
    "                    .withColumnRenamed('plu_id', 'plu_code')\n",
    "                    .withColumnRenamed('turnover_no_vat_amt', 'zsalnovat')\n",
    "                    .withColumnRenamed('turnover_vat_rub_amt', 'zsale_vat')\n",
    "                    .withColumnRenamed('prime_cost_no_vat_amt', 'zcst_n')\n",
    "                    .withColumnRenamed('turnover_base_uom_amt', 'base_qty')\n",
    "                    .withColumnRenamed('discount_amt', 'zdiscount')\n",
    "                    .withColumnRenamed('fact_regular_promo_flg', 'zpromofl')\n",
    "                    .filter(F.col('rtl_txn_dt').between(start_date, end_date))\n",
    "                    .filter((F.col('zsalnovat') >= 0) & (F.col('base_qty') >= 0) & (F.col('zcst_n') > 0)) #keep only correct data\n",
    "                        .select('plu_code' #items id\n",
    "                                , 'rtl_txn_id' #cheques id\n",
    "                               , 'base_qty'\n",
    "                               )\n",
    "                   )\n"
   ]
  },
  {
   "cell_type": "code",
   "execution_count": 69,
   "id": "ce1b2aad",
   "metadata": {},
   "outputs": [],
   "source": [
    "# plu_hierarchy_lvl_4_dk = ['FR0604001', 'FR0608005', 'FR0604002', 'FR0608001'] #сметана, молоко, кефир\n",
    "syntethic_category_id = [75, 22]\n",
    "plu_brand_code_not_in = ['O119', 'P927']\n",
    "# plu_vendor_nm = ['Данон']\n",
    "# plu_not_in = [4138521]"
   ]
  },
  {
   "cell_type": "code",
   "execution_count": 70,
   "id": "67eec52a",
   "metadata": {},
   "outputs": [
    {
     "name": "stderr",
     "output_type": "stream",
     "text": [
      "                                                                                \r"
     ]
    }
   ],
   "source": [
    "plu_codes_cat = (spark\n",
    "                 .table(PRODUCTS)\n",
    "#                  .filter(F.col('plu_hierarchy_lvl_4_dk').isin(plu_hierarchy_lvl_4_dk))\n",
    "#                  .filter(F.col('plu_vendor_nm').isin(plu_vendor_nm))\n",
    "                 .filter(F.col('syntethic_category_id').isin(syntethic_category_id))\n",
    "                 .filter(~F.col('plu_brand_code').isin(plu_brand_code_not_in))\n",
    "#                  .filter(~F.col('plu_id').isin(plu_not_in))\n",
    "                 .select('plu_id')\n",
    "                 .distinct()\n",
    "                 .toPandas()['plu_id']\n",
    "                 .tolist()\n",
    "                )"
   ]
  },
  {
   "cell_type": "code",
   "execution_count": 71,
   "id": "e4dd3c5f",
   "metadata": {},
   "outputs": [],
   "source": [
    "checks_items = checks_items.filter(F.col('plu_code').isin(plu_codes_cat)) # только чеки с нужными plu"
   ]
  },
  {
   "cell_type": "code",
   "execution_count": 137,
   "id": "8b14a985",
   "metadata": {},
   "outputs": [],
   "source": [
    "checks_tc51 = checks_items.join(checks_headers_tc51, 'rtl_txn_id', how='inner')"
   ]
  },
  {
   "cell_type": "code",
   "execution_count": 138,
   "id": "75ad26db",
   "metadata": {},
   "outputs": [],
   "source": [
    "checks_tc52 = checks_items.join(checks_headers_tc52, 'rtl_txn_id', how='inner')"
   ]
  },
  {
   "cell_type": "code",
   "execution_count": 139,
   "id": "6cfd09d0",
   "metadata": {},
   "outputs": [],
   "source": [
    "accs = ['account_no']\n",
    "pdf = checks_tc51.groupby(accs).agg(F.sum('base_qty').alias('base_qty_per_period'))\n",
    "pdf = pdf.filter(F.col('base_qty_per_period') >= 1)\n",
    "checks_tc51 = checks_tc51.join(pdf, on=accs)"
   ]
  },
  {
   "cell_type": "code",
   "execution_count": 140,
   "id": "965ef830",
   "metadata": {},
   "outputs": [],
   "source": [
    "pdf2 = checks_tc52.groupby(accs).agg(F.sum('base_qty').alias('base_qty_per_period'))\n",
    "pdf2 = pdf2.filter(F.col('base_qty_per_period') >= 1)\n",
    "checks_tc52 = checks_tc52.join(pdf2, on=accs)"
   ]
  },
  {
   "cell_type": "code",
   "execution_count": 141,
   "id": "70253cec",
   "metadata": {},
   "outputs": [],
   "source": [
    "seg1 = (checks_tc51.withColumn('group', F.lit('1'))\n",
    "                  .select('customer_rk', 'group')\n",
    "                  .distinct()\n",
    "      )"
   ]
  },
  {
   "cell_type": "code",
   "execution_count": 142,
   "id": "ae5d39f8",
   "metadata": {},
   "outputs": [],
   "source": [
    "seg2 = (checks_tc52.withColumn('group', F.lit('2'))\n",
    "                  .select('customer_rk', 'group')\n",
    "                  .distinct()\n",
    "      )"
   ]
  },
  {
   "cell_type": "code",
   "execution_count": 143,
   "id": "4911d85e",
   "metadata": {},
   "outputs": [],
   "source": [
    "seg_2 = seg1.union(seg2)"
   ]
  },
  {
   "cell_type": "code",
   "execution_count": 144,
   "id": "d8ed95f4",
   "metadata": {},
   "outputs": [
    {
     "name": "stderr",
     "output_type": "stream",
     "text": [
      "                                                                                200]]]5]]]]\r"
     ]
    }
   ],
   "source": [
    "seg_2.write.parquet('temp1095_seg2', mode='overwrite')\n",
    "seg_2 = spark.read.parquet('temp1095_seg2')"
   ]
  },
  {
   "cell_type": "code",
   "execution_count": 145,
   "id": "5da8598b",
   "metadata": {},
   "outputs": [
    {
     "name": "stderr",
     "output_type": "stream",
     "text": [
      "                                                                                \r"
     ]
    },
    {
     "data": {
      "text/plain": [
       "423730"
      ]
     },
     "execution_count": 145,
     "metadata": {},
     "output_type": "execute_result"
    }
   ],
   "source": [
    "seg_2.count()"
   ]
  },
  {
   "cell_type": "code",
   "execution_count": 146,
   "id": "483d3a97",
   "metadata": {},
   "outputs": [
    {
     "name": "stderr",
     "output_type": "stream",
     "text": [
      "                                                                                \r"
     ]
    }
   ],
   "source": [
    "seg_pd2 = seg_2.toPandas()"
   ]
  },
  {
   "cell_type": "code",
   "execution_count": 147,
   "id": "2431971d",
   "metadata": {},
   "outputs": [],
   "source": [
    "seg_pd2_seg1 = seg_pd2[seg_pd2.group == '1']\n",
    "seg_pd2_seg2 = seg_pd2[seg_pd2.group == '2']"
   ]
  },
  {
   "cell_type": "code",
   "execution_count": 148,
   "id": "71450ada",
   "metadata": {},
   "outputs": [
    {
     "name": "stdout",
     "output_type": "stream",
     "text": [
      "171585\n",
      "252145\n"
     ]
    }
   ],
   "source": [
    "print(len(seg_pd2_seg1))\n",
    "print(len(seg_pd2_seg2))"
   ]
  },
  {
   "cell_type": "markdown",
   "id": "fd66fec9",
   "metadata": {},
   "source": [
    "### Гео2"
   ]
  },
  {
   "cell_type": "markdown",
   "id": "76779245",
   "metadata": {},
   "source": [
    "Свердловская область"
   ]
  },
  {
   "cell_type": "code",
   "execution_count": 84,
   "id": "bada82ca",
   "metadata": {},
   "outputs": [],
   "source": [
    "federal_subject_dk = [66]"
   ]
  },
  {
   "cell_type": "code",
   "execution_count": 85,
   "id": "1ea73a40",
   "metadata": {},
   "outputs": [
    {
     "name": "stderr",
     "output_type": "stream",
     "text": [
      "                                                                                \r"
     ]
    },
    {
     "data": {
      "text/plain": [
       "916"
      ]
     },
     "execution_count": 85,
     "metadata": {},
     "output_type": "execute_result"
    }
   ],
   "source": [
    "shops = (spark.table(DIM_STORE)\n",
    "            .filter(F.col('valid_to_dttm')== datetime.datetime(5999, 1, 1, 0, 0))\n",
    "            .filter(F.col('federal_subject_dk').isin(federal_subject_dk))\n",
    "#             .filter(F.col('macroregion_dk').isin(macroregion_dk))\n",
    "            .selectExpr('store_id as plant')\n",
    "            .distinct()\n",
    "            #.toPandas()['plant']\n",
    "            #.tolist()\n",
    "            )\n",
    "\n",
    "plants = (shops.select('plant')\n",
    "                .distinct()\n",
    "                .toPandas()['plant']\n",
    "                .tolist()\n",
    "         )\n",
    "\n",
    "len(plants)"
   ]
  },
  {
   "cell_type": "markdown",
   "id": "f193c70f",
   "metadata": {},
   "source": [
    "### Heavy users"
   ]
  },
  {
   "cell_type": "markdown",
   "id": "8f170767",
   "metadata": {},
   "source": [
    "### Собираем чеки этих гостей и оставляем тех, кто покупал продукты с synthetic_catalog_id"
   ]
  },
  {
   "cell_type": "code",
   "execution_count": 86,
   "id": "4e8fbe79",
   "metadata": {},
   "outputs": [],
   "source": [
    "start_date = datetime.date(2021, 11, 3)\n",
    "end_date = datetime.date(2022, 2, 2)"
   ]
  },
  {
   "cell_type": "code",
   "execution_count": 87,
   "id": "01e44620",
   "metadata": {},
   "outputs": [],
   "source": [
    "checks_headers = (spark.table(CHECKS_HEADERS)\n",
    "                      .filter(F.col('rtl_txn_dt').between(start_date, end_date))\n",
    "                      .filter((F.col('loyalty_card_no') != '') & (F.col('loyalty_card_no').isNotNull()))\n",
    "                      .filter(F.col('financial_unit_format_dk') == 'D')\n",
    "                      .filter(F.col('rtl_txn_cancel_flg') == 0)\n",
    "                      .select('rtl_txn_id', 'loyalty_card_no', 'store_id')\n",
    "                     )\n"
   ]
  },
  {
   "cell_type": "code",
   "execution_count": 88,
   "id": "50f5cebc",
   "metadata": {},
   "outputs": [],
   "source": [
    "checks_headers_tc5 = checks_headers.filter(F.col('store_id').isin(plants)) #оставили чеки только с нужными магазинами"
   ]
  },
  {
   "cell_type": "code",
   "execution_count": 89,
   "id": "d4bc40dc",
   "metadata": {},
   "outputs": [],
   "source": [
    "loyalty_cards = (spark\n",
    "                    .table(LOYALTY_CARDS)\n",
    "                    .withColumnRenamed(\"loyalty_card_id\", \"loyalty_card_no\")\n",
    "                    .withColumnRenamed(\"loyalty_account_id\", \"account_no\")\n",
    "                    .withColumnRenamed(\"loyalty_account_acrm_id\", \"account_rk\")\n",
    "                    .select('account_no', 'loyalty_card_no')\n",
    "                )\n",
    "loyalty_cardholders = (spark\n",
    "                        .table(LOYALTY_CARDHOLDERS)\n",
    "                        .withColumnRenamed(\"loyalty_cardholder_acrm_id\", \"customer_rk\")\n",
    "                        .withColumnRenamed(\"loyalty_account_id\", \"account_no\")\n",
    "                        .select('account_no', 'customer_rk')\n",
    "                      )\n",
    "clients_info1 = loyalty_cards.join(loyalty_cardholders, on='account_no', how='inner')\n",
    "clients_info1 = clients_info1.join(seg_sms_1, on='customer_rk', how='inner')\n",
    "clients_info2 = loyalty_cards.join(loyalty_cardholders, on='account_no', how='inner')\n",
    "clients_info2 = clients_info2.join(seg_sms_2, on='customer_rk', how='inner')"
   ]
  },
  {
   "cell_type": "code",
   "execution_count": 90,
   "id": "7be1b6a3",
   "metadata": {},
   "outputs": [],
   "source": [
    "checks_headers_tc51 = checks_headers_tc5.join(clients_info1, on='loyalty_card_no') #оставили чеки только нужных гостей"
   ]
  },
  {
   "cell_type": "code",
   "execution_count": 91,
   "id": "74f38fbe",
   "metadata": {},
   "outputs": [],
   "source": [
    "checks_headers_tc52 = checks_headers_tc5.join(clients_info2, on='loyalty_card_no') #оставили чеки только нужных гостей"
   ]
  },
  {
   "cell_type": "code",
   "execution_count": 92,
   "id": "075c2473",
   "metadata": {},
   "outputs": [],
   "source": [
    "checks_items = (spark.table(CHECKS_ITEMS) \n",
    "                    .withColumnRenamed('plu_id', 'plu_code')\n",
    "                    .withColumnRenamed('turnover_no_vat_amt', 'zsalnovat')\n",
    "                    .withColumnRenamed('turnover_vat_rub_amt', 'zsale_vat')\n",
    "                    .withColumnRenamed('prime_cost_no_vat_amt', 'zcst_n')\n",
    "                    .withColumnRenamed('turnover_base_uom_amt', 'base_qty')\n",
    "                    .withColumnRenamed('discount_amt', 'zdiscount')\n",
    "                    .withColumnRenamed('fact_regular_promo_flg', 'zpromofl')\n",
    "                    .filter(F.col('rtl_txn_dt').between(start_date, end_date))\n",
    "                    .filter((F.col('zsalnovat') >= 0) & (F.col('base_qty') >= 0) & (F.col('zcst_n') > 0)) #keep only correct data\n",
    "                        .select('plu_code' #items id\n",
    "                                , 'rtl_txn_id' #cheques id\n",
    "                               , 'base_qty'\n",
    "                               )\n",
    "                   )\n"
   ]
  },
  {
   "cell_type": "code",
   "execution_count": 93,
   "id": "c2f22aea",
   "metadata": {},
   "outputs": [],
   "source": [
    "plu_codes_cat = [2146174,3170510,3672055,4009123,4017707,4072721,4072722,4181490]"
   ]
  },
  {
   "cell_type": "code",
   "execution_count": 94,
   "id": "4adb6365",
   "metadata": {},
   "outputs": [],
   "source": [
    "checks_items = checks_items.filter(F.col('plu_code').isin(plu_codes_cat)) # только чеки с нужными plu"
   ]
  },
  {
   "cell_type": "code",
   "execution_count": 95,
   "id": "f18c9335",
   "metadata": {},
   "outputs": [],
   "source": [
    "checks_tc51 = checks_items.join(checks_headers_tc51, 'rtl_txn_id', how='inner')"
   ]
  },
  {
   "cell_type": "code",
   "execution_count": 96,
   "id": "142b7ebd",
   "metadata": {},
   "outputs": [],
   "source": [
    "checks_tc52 = checks_items.join(checks_headers_tc52, 'rtl_txn_id', how='inner')"
   ]
  },
  {
   "cell_type": "code",
   "execution_count": 97,
   "id": "9533f8f2",
   "metadata": {},
   "outputs": [],
   "source": [
    "accs = ['account_no']\n",
    "pdf = checks_tc51.groupby(accs).agg(F.sum('base_qty').alias('base_qty_per_period'))\n",
    "pdf = pdf.filter(F.col('base_qty_per_period') >= 2)\n",
    "checks_tc51 = checks_tc51.join(pdf, on=accs)"
   ]
  },
  {
   "cell_type": "code",
   "execution_count": 98,
   "id": "5aee1c8b",
   "metadata": {},
   "outputs": [],
   "source": [
    "pdf2 = checks_tc52.groupby(accs).agg(F.sum('base_qty').alias('base_qty_per_period'))\n",
    "pdf2 = pdf2.filter(F.col('base_qty_per_period') >= 2)\n",
    "checks_tc52 = checks_tc52.join(pdf2, on=accs)"
   ]
  },
  {
   "cell_type": "code",
   "execution_count": 99,
   "id": "0996557b",
   "metadata": {},
   "outputs": [],
   "source": [
    "seg1 = (checks_tc51.withColumn('group', F.lit('1'))\n",
    "                  .select('customer_rk', 'group')\n",
    "                  .distinct()\n",
    "      )"
   ]
  },
  {
   "cell_type": "code",
   "execution_count": 100,
   "id": "b72ed9bc",
   "metadata": {},
   "outputs": [],
   "source": [
    "seg2 = (checks_tc52.withColumn('group', F.lit('2'))\n",
    "                  .select('customer_rk', 'group')\n",
    "                  .distinct()\n",
    "      )"
   ]
  },
  {
   "cell_type": "code",
   "execution_count": 102,
   "id": "21d0edb6",
   "metadata": {},
   "outputs": [],
   "source": [
    "seg_3 = seg1.union(seg2)"
   ]
  },
  {
   "cell_type": "code",
   "execution_count": 103,
   "id": "cf08531f",
   "metadata": {},
   "outputs": [
    {
     "name": "stderr",
     "output_type": "stream",
     "text": [
      "[Stage 220:===================================================> (195 + 5) / 200]]]]]]0]]95]]22/02/08 17:48:16 ERROR client.TransportResponseHandler: Still have 1 requests outstanding when connection from /192.168.234.55:40444 is closed\n",
      "                                                                                \r"
     ]
    }
   ],
   "source": [
    "seg_3.write.parquet('temp1095_seg3', mode='overwrite')\n",
    "seg_3 = spark.read.parquet('temp1095_seg3')"
   ]
  },
  {
   "cell_type": "code",
   "execution_count": 104,
   "id": "8b9a9b13",
   "metadata": {},
   "outputs": [
    {
     "name": "stderr",
     "output_type": "stream",
     "text": [
      "                                                                                \r"
     ]
    },
    {
     "data": {
      "text/plain": [
       "164169"
      ]
     },
     "execution_count": 104,
     "metadata": {},
     "output_type": "execute_result"
    }
   ],
   "source": [
    "seg_3.count()"
   ]
  },
  {
   "cell_type": "code",
   "execution_count": 106,
   "id": "8a0b0939",
   "metadata": {},
   "outputs": [
    {
     "name": "stderr",
     "output_type": "stream",
     "text": [
      "                                                                                \r"
     ]
    }
   ],
   "source": [
    "seg_pd3 = seg_3.toPandas()"
   ]
  },
  {
   "cell_type": "code",
   "execution_count": 107,
   "id": "42e4d67b",
   "metadata": {},
   "outputs": [],
   "source": [
    "seg_pd3_seg1 = seg_pd3[seg_pd3.group == '1']\n",
    "seg_pd3_seg2 = seg_pd3[seg_pd3.group == '2']"
   ]
  },
  {
   "cell_type": "code",
   "execution_count": 108,
   "id": "2ba32f66",
   "metadata": {},
   "outputs": [
    {
     "name": "stdout",
     "output_type": "stream",
     "text": [
      "66550\n",
      "97619\n"
     ]
    }
   ],
   "source": [
    "print(len(seg_pd3_seg1))\n",
    "print(len(seg_pd3_seg2))"
   ]
  },
  {
   "cell_type": "markdown",
   "id": "3c30f9d7",
   "metadata": {},
   "source": [
    "### Конкуренты"
   ]
  },
  {
   "cell_type": "markdown",
   "id": "2f047b74",
   "metadata": {},
   "source": [
    "### Собираем чеки этих гостей и оставляем тех, кто покупал продукты с synthetic_catalog_id"
   ]
  },
  {
   "cell_type": "code",
   "execution_count": 109,
   "id": "5164eef6",
   "metadata": {},
   "outputs": [],
   "source": [
    "start_date = datetime.date(2021, 11, 3)\n",
    "end_date = datetime.date(2022, 2, 2)"
   ]
  },
  {
   "cell_type": "code",
   "execution_count": 110,
   "id": "fc3e925c",
   "metadata": {},
   "outputs": [],
   "source": [
    "checks_headers = (spark.table(CHECKS_HEADERS)\n",
    "                      .filter(F.col('rtl_txn_dt').between(start_date, end_date))\n",
    "                      .filter((F.col('loyalty_card_no') != '') & (F.col('loyalty_card_no').isNotNull()))\n",
    "                      .filter(F.col('financial_unit_format_dk') == 'D')\n",
    "                      .filter(F.col('rtl_txn_cancel_flg') == 0)\n",
    "                      .select('rtl_txn_id', 'loyalty_card_no', 'store_id')\n",
    "                     )\n"
   ]
  },
  {
   "cell_type": "code",
   "execution_count": 111,
   "id": "f555fc76",
   "metadata": {},
   "outputs": [],
   "source": [
    "checks_headers_tc5 = checks_headers.filter(F.col('store_id').isin(plants)) #оставили чеки только с нужными магазинами"
   ]
  },
  {
   "cell_type": "code",
   "execution_count": 112,
   "id": "a2dca85e",
   "metadata": {},
   "outputs": [],
   "source": [
    "loyalty_cards = (spark\n",
    "                    .table(LOYALTY_CARDS)\n",
    "                    .withColumnRenamed(\"loyalty_card_id\", \"loyalty_card_no\")\n",
    "                    .withColumnRenamed(\"loyalty_account_id\", \"account_no\")\n",
    "                    .withColumnRenamed(\"loyalty_account_acrm_id\", \"account_rk\")\n",
    "                    .select('account_no', 'loyalty_card_no')\n",
    "                )\n",
    "loyalty_cardholders = (spark\n",
    "                        .table(LOYALTY_CARDHOLDERS)\n",
    "                        .withColumnRenamed(\"loyalty_cardholder_acrm_id\", \"customer_rk\")\n",
    "                        .withColumnRenamed(\"loyalty_account_id\", \"account_no\")\n",
    "                        .select('account_no', 'customer_rk')\n",
    "                      )\n",
    "clients_info1 = loyalty_cards.join(loyalty_cardholders, on='account_no', how='inner')\n",
    "clients_info1 = clients_info1.join(seg_sms_1, on='customer_rk', how='inner')\n",
    "clients_info2 = loyalty_cards.join(loyalty_cardholders, on='account_no', how='inner')\n",
    "clients_info2 = clients_info2.join(seg_sms_2, on='customer_rk', how='inner')"
   ]
  },
  {
   "cell_type": "code",
   "execution_count": 113,
   "id": "97b53b1b",
   "metadata": {},
   "outputs": [],
   "source": [
    "checks_headers_tc51 = checks_headers_tc5.join(clients_info1, on='loyalty_card_no') #оставили чеки только нужных гостей"
   ]
  },
  {
   "cell_type": "code",
   "execution_count": 114,
   "id": "251eb438",
   "metadata": {},
   "outputs": [],
   "source": [
    "checks_headers_tc52 = checks_headers_tc5.join(clients_info2, on='loyalty_card_no') #оставили чеки только нужных гостей"
   ]
  },
  {
   "cell_type": "code",
   "execution_count": 115,
   "id": "3276c35d",
   "metadata": {},
   "outputs": [],
   "source": [
    "checks_items = (spark.table(CHECKS_ITEMS) \n",
    "                    .withColumnRenamed('plu_id', 'plu_code')\n",
    "                    .withColumnRenamed('turnover_no_vat_amt', 'zsalnovat')\n",
    "                    .withColumnRenamed('turnover_vat_rub_amt', 'zsale_vat')\n",
    "                    .withColumnRenamed('prime_cost_no_vat_amt', 'zcst_n')\n",
    "                    .withColumnRenamed('turnover_base_uom_amt', 'base_qty')\n",
    "                    .withColumnRenamed('discount_amt', 'zdiscount')\n",
    "                    .withColumnRenamed('fact_regular_promo_flg', 'zpromofl')\n",
    "                    .filter(F.col('rtl_txn_dt').between(start_date, end_date))\n",
    "                    .filter((F.col('zsalnovat') >= 0) & (F.col('base_qty') >= 0) & (F.col('zcst_n') > 0)) #keep only correct data\n",
    "                        .select('plu_code' #items id\n",
    "                                , 'rtl_txn_id' #cheques id\n",
    "                               , 'base_qty'\n",
    "                               )\n",
    "                   )\n"
   ]
  },
  {
   "cell_type": "code",
   "execution_count": 116,
   "id": "b05d0d91",
   "metadata": {},
   "outputs": [],
   "source": [
    "# plu_hierarchy_lvl_4_dk = ['FR0604001', 'FR0608005', 'FR0604002', 'FR0608001'] #сметана, молоко, кефир\n",
    "syntethic_category_id = [75, 22]\n",
    "plu_brand_code_not_in = ['O119', 'P927']\n",
    "# plu_vendor_nm = ['Данон']\n",
    "# plu_not_in = [4138521]"
   ]
  },
  {
   "cell_type": "code",
   "execution_count": 117,
   "id": "654f25e9",
   "metadata": {},
   "outputs": [
    {
     "name": "stderr",
     "output_type": "stream",
     "text": [
      "                                                                                \r"
     ]
    }
   ],
   "source": [
    "plu_codes_cat = (spark\n",
    "                 .table(PRODUCTS)\n",
    "#                  .filter(F.col('plu_hierarchy_lvl_4_dk').isin(plu_hierarchy_lvl_4_dk))\n",
    "#                  .filter(F.col('plu_vendor_nm').isin(plu_vendor_nm))\n",
    "                 .filter(F.col('syntethic_category_id').isin(syntethic_category_id))\n",
    "                 .filter(~F.col('plu_brand_code').isin(plu_brand_code_not_in))\n",
    "#                  .filter(~F.col('plu_id').isin(plu_not_in))\n",
    "                 .select('plu_id')\n",
    "                 .distinct()\n",
    "                 .toPandas()['plu_id']\n",
    "                 .tolist()\n",
    "                )"
   ]
  },
  {
   "cell_type": "code",
   "execution_count": 118,
   "id": "21a99ec5",
   "metadata": {},
   "outputs": [],
   "source": [
    "checks_items = checks_items.filter(F.col('plu_code').isin(plu_codes_cat)) # только чеки с нужными plu"
   ]
  },
  {
   "cell_type": "code",
   "execution_count": 149,
   "id": "6711af00",
   "metadata": {},
   "outputs": [],
   "source": [
    "checks_tc51 = checks_items.join(checks_headers_tc51, 'rtl_txn_id', how='inner')"
   ]
  },
  {
   "cell_type": "code",
   "execution_count": 150,
   "id": "c8bc60b0",
   "metadata": {},
   "outputs": [],
   "source": [
    "checks_tc52 = checks_items.join(checks_headers_tc52, 'rtl_txn_id', how='inner')"
   ]
  },
  {
   "cell_type": "code",
   "execution_count": 151,
   "id": "4130c443",
   "metadata": {},
   "outputs": [],
   "source": [
    "accs = ['account_no']\n",
    "pdf = checks_tc51.groupby(accs).agg(F.sum('base_qty').alias('base_qty_per_period'))\n",
    "pdf = pdf.filter(F.col('base_qty_per_period') >= 1)\n",
    "checks_tc51 = checks_tc51.join(pdf, on=accs)"
   ]
  },
  {
   "cell_type": "code",
   "execution_count": 152,
   "id": "64d47d5e",
   "metadata": {},
   "outputs": [],
   "source": [
    "pdf2 = checks_tc52.groupby(accs).agg(F.sum('base_qty').alias('base_qty_per_period'))\n",
    "pdf2 = pdf2.filter(F.col('base_qty_per_period') >= 1)\n",
    "checks_tc52 = checks_tc52.join(pdf2, on=accs)"
   ]
  },
  {
   "cell_type": "code",
   "execution_count": 153,
   "id": "1d69f42f",
   "metadata": {},
   "outputs": [],
   "source": [
    "seg1 = (checks_tc51.withColumn('group', F.lit('1'))\n",
    "                  .select('customer_rk', 'group')\n",
    "                  .distinct()\n",
    "      )"
   ]
  },
  {
   "cell_type": "code",
   "execution_count": 154,
   "id": "06dd13cb",
   "metadata": {},
   "outputs": [],
   "source": [
    "seg2 = (checks_tc52.withColumn('group', F.lit('2'))\n",
    "                  .select('customer_rk', 'group')\n",
    "                  .distinct()\n",
    "      )"
   ]
  },
  {
   "cell_type": "code",
   "execution_count": 155,
   "id": "ee33df3c",
   "metadata": {},
   "outputs": [],
   "source": [
    "seg_4 = seg1.union(seg2)"
   ]
  },
  {
   "cell_type": "code",
   "execution_count": 156,
   "id": "43d00204",
   "metadata": {},
   "outputs": [
    {
     "name": "stderr",
     "output_type": "stream",
     "text": [
      "                                                                                00]]]]]]]]\r"
     ]
    }
   ],
   "source": [
    "seg_4.write.parquet('temp1095_seg4', mode='overwrite')\n",
    "seg_4 = spark.read.parquet('temp1095_seg4')"
   ]
  },
  {
   "cell_type": "code",
   "execution_count": 157,
   "id": "2ff908f6",
   "metadata": {},
   "outputs": [
    {
     "name": "stderr",
     "output_type": "stream",
     "text": [
      "                                                                                \r"
     ]
    },
    {
     "data": {
      "text/plain": [
       "423730"
      ]
     },
     "execution_count": 157,
     "metadata": {},
     "output_type": "execute_result"
    }
   ],
   "source": [
    "seg_4.count()"
   ]
  },
  {
   "cell_type": "code",
   "execution_count": 158,
   "id": "ec85758f",
   "metadata": {},
   "outputs": [
    {
     "name": "stderr",
     "output_type": "stream",
     "text": [
      "                                                                                \r"
     ]
    }
   ],
   "source": [
    "seg_pd4 = seg_4.toPandas()"
   ]
  },
  {
   "cell_type": "code",
   "execution_count": 159,
   "id": "8a05eafe",
   "metadata": {},
   "outputs": [],
   "source": [
    "seg_pd4_seg1 = seg_pd4[seg_pd4.group == '1']\n",
    "seg_pd4_seg2 = seg_pd4[seg_pd4.group == '2']"
   ]
  },
  {
   "cell_type": "code",
   "execution_count": 160,
   "id": "253f4012",
   "metadata": {},
   "outputs": [
    {
     "name": "stdout",
     "output_type": "stream",
     "text": [
      "171585\n",
      "252145\n"
     ]
    }
   ],
   "source": [
    "print(len(seg_pd4_seg1))\n",
    "print(len(seg_pd4_seg2))"
   ]
  },
  {
   "cell_type": "markdown",
   "id": "56b7bf07",
   "metadata": {},
   "source": [
    "### Гео3"
   ]
  },
  {
   "cell_type": "markdown",
   "id": "6b48e15b",
   "metadata": {},
   "source": [
    "Саратовская область"
   ]
  },
  {
   "cell_type": "code",
   "execution_count": 251,
   "id": "7219b6f3",
   "metadata": {},
   "outputs": [],
   "source": [
    "federal_subject_dk = [64]"
   ]
  },
  {
   "cell_type": "code",
   "execution_count": 252,
   "id": "26578c1d",
   "metadata": {},
   "outputs": [
    {
     "name": "stderr",
     "output_type": "stream",
     "text": [
      "                                                                                \r"
     ]
    },
    {
     "data": {
      "text/plain": [
       "378"
      ]
     },
     "execution_count": 252,
     "metadata": {},
     "output_type": "execute_result"
    }
   ],
   "source": [
    "shops = (spark.table(DIM_STORE)\n",
    "            .filter(F.col('valid_to_dttm')== datetime.datetime(5999, 1, 1, 0, 0))\n",
    "            .filter(F.col('federal_subject_dk').isin(federal_subject_dk))\n",
    "#             .filter(F.col('macroregion_dk').isin(macroregion_dk))\n",
    "            .selectExpr('store_id as plant')\n",
    "            .distinct()\n",
    "            #.toPandas()['plant']\n",
    "            #.tolist()\n",
    "            )\n",
    "\n",
    "plants = (shops.select('plant')\n",
    "                .distinct()\n",
    "                .toPandas()['plant']\n",
    "                .tolist()\n",
    "         )\n",
    "\n",
    "len(plants)"
   ]
  },
  {
   "cell_type": "markdown",
   "id": "c7cf914b",
   "metadata": {},
   "source": [
    "### Heavy users"
   ]
  },
  {
   "cell_type": "markdown",
   "id": "bd50ce20",
   "metadata": {},
   "source": [
    "### Собираем чеки этих гостей и оставляем тех, кто покупал продукты с synthetic_catalog_id"
   ]
  },
  {
   "cell_type": "code",
   "execution_count": 253,
   "id": "1929f68b",
   "metadata": {},
   "outputs": [],
   "source": [
    "start_date = datetime.date(2021, 11, 3)\n",
    "end_date = datetime.date(2022, 2, 2)"
   ]
  },
  {
   "cell_type": "code",
   "execution_count": 254,
   "id": "0c4835a7",
   "metadata": {},
   "outputs": [],
   "source": [
    "checks_headers = (spark.table(CHECKS_HEADERS)\n",
    "                      .filter(F.col('rtl_txn_dt').between(start_date, end_date))\n",
    "                      .filter((F.col('loyalty_card_no') != '') & (F.col('loyalty_card_no').isNotNull()))\n",
    "                      .filter(F.col('financial_unit_format_dk') == 'D')\n",
    "                      .filter(F.col('rtl_txn_cancel_flg') == 0)\n",
    "                      .select('rtl_txn_id', 'loyalty_card_no', 'store_id')\n",
    "                     )\n"
   ]
  },
  {
   "cell_type": "code",
   "execution_count": 255,
   "id": "ec073103",
   "metadata": {},
   "outputs": [],
   "source": [
    "checks_headers_tc5 = checks_headers.filter(F.col('store_id').isin(plants)) #оставили чеки только с нужными магазинами"
   ]
  },
  {
   "cell_type": "code",
   "execution_count": 256,
   "id": "eeb38eaf",
   "metadata": {},
   "outputs": [],
   "source": [
    "loyalty_cards = (spark\n",
    "                    .table(LOYALTY_CARDS)\n",
    "                    .withColumnRenamed(\"loyalty_card_id\", \"loyalty_card_no\")\n",
    "                    .withColumnRenamed(\"loyalty_account_id\", \"account_no\")\n",
    "                    .withColumnRenamed(\"loyalty_account_acrm_id\", \"account_rk\")\n",
    "                    .select('account_no', 'loyalty_card_no')\n",
    "                )\n",
    "loyalty_cardholders = (spark\n",
    "                        .table(LOYALTY_CARDHOLDERS)\n",
    "                        .withColumnRenamed(\"loyalty_cardholder_acrm_id\", \"customer_rk\")\n",
    "                        .withColumnRenamed(\"loyalty_account_id\", \"account_no\")\n",
    "                        .select('account_no', 'customer_rk')\n",
    "                      )\n",
    "clients_info1 = loyalty_cards.join(loyalty_cardholders, on='account_no', how='inner')\n",
    "clients_info1 = clients_info1.join(seg_sms_1, on='customer_rk', how='inner')\n",
    "clients_info2 = loyalty_cards.join(loyalty_cardholders, on='account_no', how='inner')\n",
    "clients_info2 = clients_info2.join(seg_sms_2, on='customer_rk', how='inner')"
   ]
  },
  {
   "cell_type": "code",
   "execution_count": 257,
   "id": "8b1020cb",
   "metadata": {},
   "outputs": [],
   "source": [
    "checks_headers_tc51 = checks_headers_tc5.join(clients_info1, on='loyalty_card_no') #оставили чеки только нужных гостей"
   ]
  },
  {
   "cell_type": "code",
   "execution_count": 258,
   "id": "c15b0e7d",
   "metadata": {},
   "outputs": [],
   "source": [
    "checks_headers_tc52 = checks_headers_tc5.join(clients_info2, on='loyalty_card_no') #оставили чеки только нужных гостей"
   ]
  },
  {
   "cell_type": "code",
   "execution_count": 259,
   "id": "49554849",
   "metadata": {},
   "outputs": [],
   "source": [
    "checks_items = (spark.table(CHECKS_ITEMS) \n",
    "                    .withColumnRenamed('plu_id', 'plu_code')\n",
    "                    .withColumnRenamed('turnover_no_vat_amt', 'zsalnovat')\n",
    "                    .withColumnRenamed('turnover_vat_rub_amt', 'zsale_vat')\n",
    "                    .withColumnRenamed('prime_cost_no_vat_amt', 'zcst_n')\n",
    "                    .withColumnRenamed('turnover_base_uom_amt', 'base_qty')\n",
    "                    .withColumnRenamed('discount_amt', 'zdiscount')\n",
    "                    .withColumnRenamed('fact_regular_promo_flg', 'zpromofl')\n",
    "                    .filter(F.col('rtl_txn_dt').between(start_date, end_date))\n",
    "                    .filter((F.col('zsalnovat') >= 0) & (F.col('base_qty') >= 0) & (F.col('zcst_n') > 0)) #keep only correct data\n",
    "                        .select('plu_code' #items id\n",
    "                                , 'rtl_txn_id' #cheques id\n",
    "                               , 'base_qty'\n",
    "                               )\n",
    "                   )\n"
   ]
  },
  {
   "cell_type": "code",
   "execution_count": 260,
   "id": "1008a92a",
   "metadata": {},
   "outputs": [],
   "source": [
    "plu_codes_cat = [3170888,3170890,3170891,3357823,3670061,4082170,4082171,4082172]"
   ]
  },
  {
   "cell_type": "code",
   "execution_count": 261,
   "id": "8d5719f7",
   "metadata": {},
   "outputs": [],
   "source": [
    "checks_items = checks_items.filter(F.col('plu_code').isin(plu_codes_cat)) # только чеки с нужными plu"
   ]
  },
  {
   "cell_type": "code",
   "execution_count": 262,
   "id": "5ed92308",
   "metadata": {},
   "outputs": [],
   "source": [
    "checks_tc51 = checks_items.join(checks_headers_tc51, 'rtl_txn_id', how='inner')"
   ]
  },
  {
   "cell_type": "code",
   "execution_count": 263,
   "id": "301bdb2c",
   "metadata": {},
   "outputs": [],
   "source": [
    "checks_tc52 = checks_items.join(checks_headers_tc52, 'rtl_txn_id', how='inner')"
   ]
  },
  {
   "cell_type": "code",
   "execution_count": 264,
   "id": "9cf48f55",
   "metadata": {},
   "outputs": [],
   "source": [
    "accs = ['account_no']\n",
    "pdf = checks_tc51.groupby(accs).agg(F.sum('base_qty').alias('base_qty_per_period'))\n",
    "pdf = pdf.filter(F.col('base_qty_per_period') >= 2)\n",
    "checks_tc51 = checks_tc51.join(pdf, on=accs)"
   ]
  },
  {
   "cell_type": "code",
   "execution_count": 265,
   "id": "c5b411bb",
   "metadata": {},
   "outputs": [],
   "source": [
    "pdf2 = checks_tc52.groupby(accs).agg(F.sum('base_qty').alias('base_qty_per_period'))\n",
    "pdf2 = pdf2.filter(F.col('base_qty_per_period') >= 2)\n",
    "checks_tc52 = checks_tc52.join(pdf2, on=accs)"
   ]
  },
  {
   "cell_type": "code",
   "execution_count": 266,
   "id": "3e658ae7",
   "metadata": {},
   "outputs": [],
   "source": [
    "seg1 = (checks_tc51.withColumn('group', F.lit('1'))\n",
    "                  .select('customer_rk', 'group')\n",
    "                  .distinct()\n",
    "      )"
   ]
  },
  {
   "cell_type": "code",
   "execution_count": 267,
   "id": "7cffcef6",
   "metadata": {},
   "outputs": [],
   "source": [
    "seg2 = (checks_tc52.withColumn('group', F.lit('2'))\n",
    "                  .select('customer_rk', 'group')\n",
    "                  .distinct()\n",
    "      )"
   ]
  },
  {
   "cell_type": "code",
   "execution_count": 268,
   "id": "81a022ec",
   "metadata": {},
   "outputs": [],
   "source": [
    "seg_5 = seg1.union(seg2)"
   ]
  },
  {
   "cell_type": "code",
   "execution_count": 269,
   "id": "bac1bf3d",
   "metadata": {},
   "outputs": [
    {
     "name": "stderr",
     "output_type": "stream",
     "text": [
      "                                                                                0]]]]]]]]\r"
     ]
    }
   ],
   "source": [
    "seg_5.write.parquet('temp1095_seg5', mode='overwrite')\n",
    "seg_5 = spark.read.parquet('temp1095_seg5')"
   ]
  },
  {
   "cell_type": "code",
   "execution_count": 270,
   "id": "2281ed71",
   "metadata": {},
   "outputs": [
    {
     "name": "stderr",
     "output_type": "stream",
     "text": [
      "                                                                                \r"
     ]
    },
    {
     "data": {
      "text/plain": [
       "32449"
      ]
     },
     "execution_count": 270,
     "metadata": {},
     "output_type": "execute_result"
    }
   ],
   "source": [
    "seg_5.count()"
   ]
  },
  {
   "cell_type": "code",
   "execution_count": 271,
   "id": "5d33a888",
   "metadata": {},
   "outputs": [
    {
     "name": "stderr",
     "output_type": "stream",
     "text": [
      "                                                                                \r"
     ]
    }
   ],
   "source": [
    "seg_pd5 = seg_5.toPandas()"
   ]
  },
  {
   "cell_type": "code",
   "execution_count": 272,
   "id": "b5cb8a48",
   "metadata": {},
   "outputs": [],
   "source": [
    "seg_pd5_seg1 = seg_pd5[seg_pd5.group == '1']\n",
    "seg_pd5_seg2 = seg_pd5[seg_pd5.group == '2']"
   ]
  },
  {
   "cell_type": "code",
   "execution_count": 273,
   "id": "c0feff5d",
   "metadata": {},
   "outputs": [
    {
     "name": "stdout",
     "output_type": "stream",
     "text": [
      "13270\n",
      "19179\n"
     ]
    }
   ],
   "source": [
    "print(len(seg_pd5_seg1))\n",
    "print(len(seg_pd5_seg2))"
   ]
  },
  {
   "cell_type": "markdown",
   "id": "3e5649f6",
   "metadata": {},
   "source": [
    "### Конкуренты"
   ]
  },
  {
   "cell_type": "markdown",
   "id": "b45a8660",
   "metadata": {},
   "source": [
    "### Собираем чеки этих гостей и оставляем тех, кто покупал продукты с synthetic_catalog_id"
   ]
  },
  {
   "cell_type": "code",
   "execution_count": 274,
   "id": "326c3711",
   "metadata": {},
   "outputs": [],
   "source": [
    "start_date = datetime.date(2021, 11, 3)\n",
    "end_date = datetime.date(2022, 2, 2)"
   ]
  },
  {
   "cell_type": "code",
   "execution_count": 275,
   "id": "cc049d64",
   "metadata": {},
   "outputs": [],
   "source": [
    "checks_headers = (spark.table(CHECKS_HEADERS)\n",
    "                      .filter(F.col('rtl_txn_dt').between(start_date, end_date))\n",
    "                      .filter((F.col('loyalty_card_no') != '') & (F.col('loyalty_card_no').isNotNull()))\n",
    "                      .filter(F.col('financial_unit_format_dk') == 'D')\n",
    "                      .filter(F.col('rtl_txn_cancel_flg') == 0)\n",
    "                      .select('rtl_txn_id', 'loyalty_card_no', 'store_id')\n",
    "                     )\n"
   ]
  },
  {
   "cell_type": "code",
   "execution_count": 276,
   "id": "2d4305a8",
   "metadata": {},
   "outputs": [],
   "source": [
    "checks_headers_tc5 = checks_headers.filter(F.col('store_id').isin(plants)) #оставили чеки только с нужными магазинами"
   ]
  },
  {
   "cell_type": "code",
   "execution_count": 277,
   "id": "018c19fa",
   "metadata": {},
   "outputs": [],
   "source": [
    "loyalty_cards = (spark\n",
    "                    .table(LOYALTY_CARDS)\n",
    "                    .withColumnRenamed(\"loyalty_card_id\", \"loyalty_card_no\")\n",
    "                    .withColumnRenamed(\"loyalty_account_id\", \"account_no\")\n",
    "                    .withColumnRenamed(\"loyalty_account_acrm_id\", \"account_rk\")\n",
    "                    .select('account_no', 'loyalty_card_no')\n",
    "                )\n",
    "loyalty_cardholders = (spark\n",
    "                        .table(LOYALTY_CARDHOLDERS)\n",
    "                        .withColumnRenamed(\"loyalty_cardholder_acrm_id\", \"customer_rk\")\n",
    "                        .withColumnRenamed(\"loyalty_account_id\", \"account_no\")\n",
    "                        .select('account_no', 'customer_rk')\n",
    "                      )\n",
    "clients_info1 = loyalty_cards.join(loyalty_cardholders, on='account_no', how='inner')\n",
    "clients_info1 = clients_info1.join(seg_sms_1, on='customer_rk', how='inner')\n",
    "clients_info2 = loyalty_cards.join(loyalty_cardholders, on='account_no', how='inner')\n",
    "clients_info2 = clients_info2.join(seg_sms_2, on='customer_rk', how='inner')"
   ]
  },
  {
   "cell_type": "code",
   "execution_count": 278,
   "id": "ea8b321a",
   "metadata": {},
   "outputs": [],
   "source": [
    "checks_headers_tc51 = checks_headers_tc5.join(clients_info1, on='loyalty_card_no') #оставили чеки только нужных гостей"
   ]
  },
  {
   "cell_type": "code",
   "execution_count": 279,
   "id": "2482dc4e",
   "metadata": {},
   "outputs": [],
   "source": [
    "checks_headers_tc52 = checks_headers_tc5.join(clients_info2, on='loyalty_card_no') #оставили чеки только нужных гостей"
   ]
  },
  {
   "cell_type": "code",
   "execution_count": 280,
   "id": "c99c2a3f",
   "metadata": {},
   "outputs": [],
   "source": [
    "checks_items = (spark.table(CHECKS_ITEMS) \n",
    "                    .withColumnRenamed('plu_id', 'plu_code')\n",
    "                    .withColumnRenamed('turnover_no_vat_amt', 'zsalnovat')\n",
    "                    .withColumnRenamed('turnover_vat_rub_amt', 'zsale_vat')\n",
    "                    .withColumnRenamed('prime_cost_no_vat_amt', 'zcst_n')\n",
    "                    .withColumnRenamed('turnover_base_uom_amt', 'base_qty')\n",
    "                    .withColumnRenamed('discount_amt', 'zdiscount')\n",
    "                    .withColumnRenamed('fact_regular_promo_flg', 'zpromofl')\n",
    "                    .filter(F.col('rtl_txn_dt').between(start_date, end_date))\n",
    "                    .filter((F.col('zsalnovat') >= 0) & (F.col('base_qty') >= 0) & (F.col('zcst_n') > 0)) #keep only correct data\n",
    "                        .select('plu_code' #items id\n",
    "                                , 'rtl_txn_id' #cheques id\n",
    "                               , 'base_qty'\n",
    "                               )\n",
    "                   )\n"
   ]
  },
  {
   "cell_type": "code",
   "execution_count": 281,
   "id": "07b3b44a",
   "metadata": {},
   "outputs": [],
   "source": [
    "# plu_hierarchy_lvl_4_dk = ['FR0604001', 'FR0608005', 'FR0604002', 'FR0608001'] #сметана, молоко, кефир\n",
    "syntethic_category_id = [75, 22]\n",
    "plu_brand_code_not_in = ['O119', 'P927']\n",
    "# plu_vendor_nm = ['Данон']\n",
    "# plu_not_in = [4138521]"
   ]
  },
  {
   "cell_type": "code",
   "execution_count": 282,
   "id": "b7c3189d",
   "metadata": {},
   "outputs": [
    {
     "name": "stderr",
     "output_type": "stream",
     "text": [
      "                                                                                \r"
     ]
    }
   ],
   "source": [
    "plu_codes_cat = (spark\n",
    "                 .table(PRODUCTS)\n",
    "#                  .filter(F.col('plu_hierarchy_lvl_4_dk').isin(plu_hierarchy_lvl_4_dk))\n",
    "#                  .filter(F.col('plu_vendor_nm').isin(plu_vendor_nm))\n",
    "                 .filter(F.col('syntethic_category_id').isin(syntethic_category_id))\n",
    "                 .filter(~F.col('plu_brand_code').isin(plu_brand_code_not_in))\n",
    "#                  .filter(~F.col('plu_id').isin(plu_not_in))\n",
    "                 .select('plu_id')\n",
    "                 .distinct()\n",
    "                 .toPandas()['plu_id']\n",
    "                 .tolist()\n",
    "                )"
   ]
  },
  {
   "cell_type": "code",
   "execution_count": 283,
   "id": "f4fe8e17",
   "metadata": {},
   "outputs": [],
   "source": [
    "checks_items = checks_items.filter(F.col('plu_code').isin(plu_codes_cat)) # только чеки с нужными plu"
   ]
  },
  {
   "cell_type": "code",
   "execution_count": 284,
   "id": "e19ceec1",
   "metadata": {},
   "outputs": [],
   "source": [
    "checks_tc51 = checks_items.join(checks_headers_tc51, 'rtl_txn_id', how='inner')"
   ]
  },
  {
   "cell_type": "code",
   "execution_count": 285,
   "id": "d337a335",
   "metadata": {},
   "outputs": [],
   "source": [
    "checks_tc52 = checks_items.join(checks_headers_tc52, 'rtl_txn_id', how='inner')"
   ]
  },
  {
   "cell_type": "code",
   "execution_count": 286,
   "id": "f6dc2ad3",
   "metadata": {},
   "outputs": [],
   "source": [
    "accs = ['account_no']\n",
    "pdf = checks_tc51.groupby(accs).agg(F.sum('base_qty').alias('base_qty_per_period'))\n",
    "pdf = pdf.filter(F.col('base_qty_per_period') >= 1)\n",
    "checks_tc51 = checks_tc51.join(pdf, on=accs)"
   ]
  },
  {
   "cell_type": "code",
   "execution_count": 287,
   "id": "60f57a72",
   "metadata": {},
   "outputs": [],
   "source": [
    "pdf2 = checks_tc52.groupby(accs).agg(F.sum('base_qty').alias('base_qty_per_period'))\n",
    "pdf2 = pdf2.filter(F.col('base_qty_per_period') >= 1)\n",
    "checks_tc52 = checks_tc52.join(pdf2, on=accs)"
   ]
  },
  {
   "cell_type": "code",
   "execution_count": 288,
   "id": "012f9cda",
   "metadata": {},
   "outputs": [],
   "source": [
    "seg1 = (checks_tc51.withColumn('group', F.lit('1'))\n",
    "                  .select('customer_rk', 'group')\n",
    "                  .distinct()\n",
    "      )"
   ]
  },
  {
   "cell_type": "code",
   "execution_count": 289,
   "id": "8290243d",
   "metadata": {},
   "outputs": [],
   "source": [
    "seg2 = (checks_tc52.withColumn('group', F.lit('2'))\n",
    "                  .select('customer_rk', 'group')\n",
    "                  .distinct()\n",
    "      )"
   ]
  },
  {
   "cell_type": "code",
   "execution_count": 290,
   "id": "867f8bcb",
   "metadata": {},
   "outputs": [],
   "source": [
    "seg_6 = seg1.union(seg2)"
   ]
  },
  {
   "cell_type": "code",
   "execution_count": 291,
   "id": "50c709c5",
   "metadata": {},
   "outputs": [
    {
     "name": "stderr",
     "output_type": "stream",
     "text": [
      "                                                                                ]]]]]]]]]]\r"
     ]
    }
   ],
   "source": [
    "seg_6.write.parquet('temp1095_seg6', mode='overwrite')\n",
    "seg_6 = spark.read.parquet('temp1095_seg6')"
   ]
  },
  {
   "cell_type": "code",
   "execution_count": 292,
   "id": "68a11324",
   "metadata": {},
   "outputs": [
    {
     "name": "stderr",
     "output_type": "stream",
     "text": [
      "                                                                                \r"
     ]
    },
    {
     "data": {
      "text/plain": [
       "175878"
      ]
     },
     "execution_count": 292,
     "metadata": {},
     "output_type": "execute_result"
    }
   ],
   "source": [
    "seg_6.count()"
   ]
  },
  {
   "cell_type": "code",
   "execution_count": 293,
   "id": "c614dc52",
   "metadata": {},
   "outputs": [
    {
     "name": "stderr",
     "output_type": "stream",
     "text": [
      "                                                                                \r"
     ]
    }
   ],
   "source": [
    "seg_pd6 = seg_6.toPandas()"
   ]
  },
  {
   "cell_type": "code",
   "execution_count": 294,
   "id": "645b496a",
   "metadata": {},
   "outputs": [],
   "source": [
    "seg_pd6_seg1 = seg_pd6[seg_pd6.group == '1']\n",
    "seg_pd6_seg2 = seg_pd6[seg_pd6.group == '2']"
   ]
  },
  {
   "cell_type": "code",
   "execution_count": 295,
   "id": "4d1b4adb",
   "metadata": {},
   "outputs": [
    {
     "name": "stdout",
     "output_type": "stream",
     "text": [
      "71785\n",
      "104093\n"
     ]
    }
   ],
   "source": [
    "print(len(seg_pd6_seg1))\n",
    "print(len(seg_pd6_seg2))"
   ]
  },
  {
   "cell_type": "markdown",
   "id": "bf3c2975",
   "metadata": {},
   "source": [
    "### Гео4"
   ]
  },
  {
   "cell_type": "markdown",
   "id": "82a80078",
   "metadata": {},
   "source": [
    "Новосибирск"
   ]
  },
  {
   "cell_type": "code",
   "execution_count": 296,
   "id": "ad59530b",
   "metadata": {},
   "outputs": [],
   "source": [
    "city_nm = ['Новосибирск г']"
   ]
  },
  {
   "cell_type": "code",
   "execution_count": 297,
   "id": "c6229772",
   "metadata": {},
   "outputs": [
    {
     "name": "stderr",
     "output_type": "stream",
     "text": [
      "                                                                                \r"
     ]
    },
    {
     "data": {
      "text/plain": [
       "204"
      ]
     },
     "execution_count": 297,
     "metadata": {},
     "output_type": "execute_result"
    }
   ],
   "source": [
    "shops = (spark.table(DIM_STORE)\n",
    "            .filter(F.col('valid_to_dttm')== datetime.datetime(5999, 1, 1, 0, 0))\n",
    "#             .filter(F.col('federal_subject_dk').isin(federal_subject_dk))\n",
    "#             .filter(F.col('macroregion_dk').isin(macroregion_dk))\n",
    "            .filter(F.col('city_nm').isin(city_nm))\n",
    "            .selectExpr('store_id as plant')\n",
    "            .distinct()\n",
    "            #.toPandas()['plant']\n",
    "            #.tolist()\n",
    "            )\n",
    "\n",
    "plants = (shops.select('plant')\n",
    "                .distinct()\n",
    "                .toPandas()['plant']\n",
    "                .tolist()\n",
    "         )\n",
    "\n",
    "len(plants)"
   ]
  },
  {
   "cell_type": "markdown",
   "id": "49656744",
   "metadata": {},
   "source": [
    "### Heavy users"
   ]
  },
  {
   "cell_type": "markdown",
   "id": "4f816a1d",
   "metadata": {},
   "source": [
    "### Собираем чеки этих гостей и оставляем тех, кто покупал продукты с synthetic_catalog_id"
   ]
  },
  {
   "cell_type": "code",
   "execution_count": 298,
   "id": "3c0c0a7c",
   "metadata": {},
   "outputs": [],
   "source": [
    "start_date = datetime.date(2021, 11, 3)\n",
    "end_date = datetime.date(2022, 2, 2)"
   ]
  },
  {
   "cell_type": "code",
   "execution_count": 299,
   "id": "17b0d7f7",
   "metadata": {},
   "outputs": [],
   "source": [
    "checks_headers = (spark.table(CHECKS_HEADERS)\n",
    "                      .filter(F.col('rtl_txn_dt').between(start_date, end_date))\n",
    "                      .filter((F.col('loyalty_card_no') != '') & (F.col('loyalty_card_no').isNotNull()))\n",
    "                      .filter(F.col('financial_unit_format_dk') == 'D')\n",
    "                      .filter(F.col('rtl_txn_cancel_flg') == 0)\n",
    "                      .select('rtl_txn_id', 'loyalty_card_no', 'store_id')\n",
    "                     )\n"
   ]
  },
  {
   "cell_type": "code",
   "execution_count": 300,
   "id": "5e6540fd",
   "metadata": {},
   "outputs": [],
   "source": [
    "checks_headers_tc5 = checks_headers.filter(F.col('store_id').isin(plants)) #оставили чеки только с нужными магазинами"
   ]
  },
  {
   "cell_type": "code",
   "execution_count": 301,
   "id": "fa5ead28",
   "metadata": {},
   "outputs": [],
   "source": [
    "loyalty_cards = (spark\n",
    "                    .table(LOYALTY_CARDS)\n",
    "                    .withColumnRenamed(\"loyalty_card_id\", \"loyalty_card_no\")\n",
    "                    .withColumnRenamed(\"loyalty_account_id\", \"account_no\")\n",
    "                    .withColumnRenamed(\"loyalty_account_acrm_id\", \"account_rk\")\n",
    "                    .select('account_no', 'loyalty_card_no')\n",
    "                )\n",
    "loyalty_cardholders = (spark\n",
    "                        .table(LOYALTY_CARDHOLDERS)\n",
    "                        .withColumnRenamed(\"loyalty_cardholder_acrm_id\", \"customer_rk\")\n",
    "                        .withColumnRenamed(\"loyalty_account_id\", \"account_no\")\n",
    "                        .select('account_no', 'customer_rk')\n",
    "                      )\n",
    "clients_info1 = loyalty_cards.join(loyalty_cardholders, on='account_no', how='inner')\n",
    "clients_info1 = clients_info1.join(seg_sms_1, on='customer_rk', how='inner')\n",
    "clients_info2 = loyalty_cards.join(loyalty_cardholders, on='account_no', how='inner')\n",
    "clients_info2 = clients_info2.join(seg_sms_2, on='customer_rk', how='inner')"
   ]
  },
  {
   "cell_type": "code",
   "execution_count": 302,
   "id": "a31023ce",
   "metadata": {},
   "outputs": [],
   "source": [
    "checks_headers_tc51 = checks_headers_tc5.join(clients_info1, on='loyalty_card_no') #оставили чеки только нужных гостей"
   ]
  },
  {
   "cell_type": "code",
   "execution_count": 303,
   "id": "9b10f0a8",
   "metadata": {},
   "outputs": [],
   "source": [
    "checks_headers_tc52 = checks_headers_tc5.join(clients_info2, on='loyalty_card_no') #оставили чеки только нужных гостей"
   ]
  },
  {
   "cell_type": "code",
   "execution_count": 304,
   "id": "1aaed304",
   "metadata": {},
   "outputs": [],
   "source": [
    "checks_items = (spark.table(CHECKS_ITEMS) \n",
    "                    .withColumnRenamed('plu_id', 'plu_code')\n",
    "                    .withColumnRenamed('turnover_no_vat_amt', 'zsalnovat')\n",
    "                    .withColumnRenamed('turnover_vat_rub_amt', 'zsale_vat')\n",
    "                    .withColumnRenamed('prime_cost_no_vat_amt', 'zcst_n')\n",
    "                    .withColumnRenamed('turnover_base_uom_amt', 'base_qty')\n",
    "                    .withColumnRenamed('discount_amt', 'zdiscount')\n",
    "                    .withColumnRenamed('fact_regular_promo_flg', 'zpromofl')\n",
    "                    .filter(F.col('rtl_txn_dt').between(start_date, end_date))\n",
    "                    .filter((F.col('zsalnovat') >= 0) & (F.col('base_qty') >= 0) & (F.col('zcst_n') > 0)) #keep only correct data\n",
    "                        .select('plu_code' #items id\n",
    "                                , 'rtl_txn_id' #cheques id\n",
    "                               , 'base_qty'\n",
    "                               )\n",
    "                   )\n"
   ]
  },
  {
   "cell_type": "code",
   "execution_count": 305,
   "id": "9ec7be90",
   "metadata": {},
   "outputs": [],
   "source": [
    "plu_codes_cat = [4085881,3606802,3606803,3623403,3623402,3606804]"
   ]
  },
  {
   "cell_type": "code",
   "execution_count": 306,
   "id": "72260498",
   "metadata": {},
   "outputs": [],
   "source": [
    "checks_items = checks_items.filter(F.col('plu_code').isin(plu_codes_cat)) # только чеки с нужными plu"
   ]
  },
  {
   "cell_type": "code",
   "execution_count": 307,
   "id": "2a5ddbce",
   "metadata": {},
   "outputs": [],
   "source": [
    "checks_tc51 = checks_items.join(checks_headers_tc51, 'rtl_txn_id', how='inner')"
   ]
  },
  {
   "cell_type": "code",
   "execution_count": 308,
   "id": "cb7bcf8c",
   "metadata": {},
   "outputs": [],
   "source": [
    "checks_tc52 = checks_items.join(checks_headers_tc52, 'rtl_txn_id', how='inner')"
   ]
  },
  {
   "cell_type": "code",
   "execution_count": 309,
   "id": "7a38c30e",
   "metadata": {},
   "outputs": [],
   "source": [
    "accs = ['account_no']\n",
    "pdf = checks_tc51.groupby(accs).agg(F.sum('base_qty').alias('base_qty_per_period'))\n",
    "pdf = pdf.filter(F.col('base_qty_per_period') >= 2)\n",
    "checks_tc51 = checks_tc51.join(pdf, on=accs)"
   ]
  },
  {
   "cell_type": "code",
   "execution_count": 310,
   "id": "b711e23a",
   "metadata": {},
   "outputs": [],
   "source": [
    "pdf2 = checks_tc52.groupby(accs).agg(F.sum('base_qty').alias('base_qty_per_period'))\n",
    "pdf2 = pdf2.filter(F.col('base_qty_per_period') >= 2)\n",
    "checks_tc52 = checks_tc52.join(pdf2, on=accs)"
   ]
  },
  {
   "cell_type": "code",
   "execution_count": 311,
   "id": "029faa0e",
   "metadata": {},
   "outputs": [],
   "source": [
    "seg1 = (checks_tc51.withColumn('group', F.lit('1'))\n",
    "                  .select('customer_rk', 'group')\n",
    "                  .distinct()\n",
    "      )"
   ]
  },
  {
   "cell_type": "code",
   "execution_count": 312,
   "id": "4ebaf106",
   "metadata": {},
   "outputs": [],
   "source": [
    "seg2 = (checks_tc52.withColumn('group', F.lit('2'))\n",
    "                  .select('customer_rk', 'group')\n",
    "                  .distinct()\n",
    "      )"
   ]
  },
  {
   "cell_type": "code",
   "execution_count": 313,
   "id": "14bb1d1a",
   "metadata": {},
   "outputs": [],
   "source": [
    "seg_7 = seg1.union(seg2)"
   ]
  },
  {
   "cell_type": "code",
   "execution_count": 314,
   "id": "6eef7e51",
   "metadata": {},
   "outputs": [
    {
     "name": "stderr",
     "output_type": "stream",
     "text": [
      "                                                                                0]]95]]]]\r"
     ]
    }
   ],
   "source": [
    "seg_7.write.parquet('temp1095_seg7', mode='overwrite')\n",
    "seg_7 = spark.read.parquet('temp1095_seg7')"
   ]
  },
  {
   "cell_type": "code",
   "execution_count": 315,
   "id": "822c23a9",
   "metadata": {},
   "outputs": [
    {
     "name": "stderr",
     "output_type": "stream",
     "text": [
      "                                                                                \r"
     ]
    },
    {
     "data": {
      "text/plain": [
       "17688"
      ]
     },
     "execution_count": 315,
     "metadata": {},
     "output_type": "execute_result"
    }
   ],
   "source": [
    "seg_7.count()"
   ]
  },
  {
   "cell_type": "code",
   "execution_count": 316,
   "id": "06060c26",
   "metadata": {},
   "outputs": [
    {
     "name": "stderr",
     "output_type": "stream",
     "text": [
      "                                                                                \r"
     ]
    }
   ],
   "source": [
    "seg_pd7 = seg_7.toPandas()"
   ]
  },
  {
   "cell_type": "code",
   "execution_count": 317,
   "id": "8a92c64a",
   "metadata": {},
   "outputs": [],
   "source": [
    "seg_pd7_seg1 = seg_pd7[seg_pd7.group == '1']\n",
    "seg_pd7_seg2 = seg_pd7[seg_pd7.group == '2']"
   ]
  },
  {
   "cell_type": "code",
   "execution_count": 318,
   "id": "e6a13ab4",
   "metadata": {},
   "outputs": [
    {
     "name": "stdout",
     "output_type": "stream",
     "text": [
      "7264\n",
      "10424\n"
     ]
    }
   ],
   "source": [
    "print(len(seg_pd7_seg1))\n",
    "print(len(seg_pd7_seg2))"
   ]
  },
  {
   "cell_type": "markdown",
   "id": "3dae923a",
   "metadata": {},
   "source": [
    "### Конкуренты"
   ]
  },
  {
   "cell_type": "markdown",
   "id": "8e8aa63c",
   "metadata": {},
   "source": [
    "### Собираем чеки этих гостей и оставляем тех, кто покупал продукты с synthetic_catalog_id"
   ]
  },
  {
   "cell_type": "code",
   "execution_count": 319,
   "id": "1eefb5e5",
   "metadata": {},
   "outputs": [],
   "source": [
    "start_date = datetime.date(2021, 11, 3)\n",
    "end_date = datetime.date(2022, 2, 2)"
   ]
  },
  {
   "cell_type": "code",
   "execution_count": 320,
   "id": "2588326b",
   "metadata": {},
   "outputs": [],
   "source": [
    "checks_headers = (spark.table(CHECKS_HEADERS)\n",
    "                      .filter(F.col('rtl_txn_dt').between(start_date, end_date))\n",
    "                      .filter((F.col('loyalty_card_no') != '') & (F.col('loyalty_card_no').isNotNull()))\n",
    "                      .filter(F.col('financial_unit_format_dk') == 'D')\n",
    "                      .filter(F.col('rtl_txn_cancel_flg') == 0)\n",
    "                      .select('rtl_txn_id', 'loyalty_card_no', 'store_id')\n",
    "                     )\n"
   ]
  },
  {
   "cell_type": "code",
   "execution_count": 321,
   "id": "774251ea",
   "metadata": {},
   "outputs": [],
   "source": [
    "checks_headers_tc5 = checks_headers.filter(F.col('store_id').isin(plants)) #оставили чеки только с нужными магазинами"
   ]
  },
  {
   "cell_type": "code",
   "execution_count": 322,
   "id": "5d86e729",
   "metadata": {},
   "outputs": [],
   "source": [
    "loyalty_cards = (spark\n",
    "                    .table(LOYALTY_CARDS)\n",
    "                    .withColumnRenamed(\"loyalty_card_id\", \"loyalty_card_no\")\n",
    "                    .withColumnRenamed(\"loyalty_account_id\", \"account_no\")\n",
    "                    .withColumnRenamed(\"loyalty_account_acrm_id\", \"account_rk\")\n",
    "                    .select('account_no', 'loyalty_card_no')\n",
    "                )\n",
    "loyalty_cardholders = (spark\n",
    "                        .table(LOYALTY_CARDHOLDERS)\n",
    "                        .withColumnRenamed(\"loyalty_cardholder_acrm_id\", \"customer_rk\")\n",
    "                        .withColumnRenamed(\"loyalty_account_id\", \"account_no\")\n",
    "                        .select('account_no', 'customer_rk')\n",
    "                      )\n",
    "clients_info1 = loyalty_cards.join(loyalty_cardholders, on='account_no', how='inner')\n",
    "clients_info1 = clients_info1.join(seg_sms_1, on='customer_rk', how='inner')\n",
    "clients_info2 = loyalty_cards.join(loyalty_cardholders, on='account_no', how='inner')\n",
    "clients_info2 = clients_info2.join(seg_sms_2, on='customer_rk', how='inner')"
   ]
  },
  {
   "cell_type": "code",
   "execution_count": 323,
   "id": "51e42e21",
   "metadata": {},
   "outputs": [],
   "source": [
    "checks_headers_tc51 = checks_headers_tc5.join(clients_info1, on='loyalty_card_no') #оставили чеки только нужных гостей"
   ]
  },
  {
   "cell_type": "code",
   "execution_count": 324,
   "id": "722f5731",
   "metadata": {},
   "outputs": [],
   "source": [
    "checks_headers_tc52 = checks_headers_tc5.join(clients_info2, on='loyalty_card_no') #оставили чеки только нужных гостей"
   ]
  },
  {
   "cell_type": "code",
   "execution_count": 325,
   "id": "f74492e3",
   "metadata": {},
   "outputs": [],
   "source": [
    "checks_items = (spark.table(CHECKS_ITEMS) \n",
    "                    .withColumnRenamed('plu_id', 'plu_code')\n",
    "                    .withColumnRenamed('turnover_no_vat_amt', 'zsalnovat')\n",
    "                    .withColumnRenamed('turnover_vat_rub_amt', 'zsale_vat')\n",
    "                    .withColumnRenamed('prime_cost_no_vat_amt', 'zcst_n')\n",
    "                    .withColumnRenamed('turnover_base_uom_amt', 'base_qty')\n",
    "                    .withColumnRenamed('discount_amt', 'zdiscount')\n",
    "                    .withColumnRenamed('fact_regular_promo_flg', 'zpromofl')\n",
    "                    .filter(F.col('rtl_txn_dt').between(start_date, end_date))\n",
    "                    .filter((F.col('zsalnovat') >= 0) & (F.col('base_qty') >= 0) & (F.col('zcst_n') > 0)) #keep only correct data\n",
    "                        .select('plu_code' #items id\n",
    "                                , 'rtl_txn_id' #cheques id\n",
    "                               , 'base_qty'\n",
    "                               )\n",
    "                   )\n"
   ]
  },
  {
   "cell_type": "code",
   "execution_count": 326,
   "id": "100f9198",
   "metadata": {},
   "outputs": [],
   "source": [
    "# plu_hierarchy_lvl_4_dk = ['FR0604001', 'FR0608005', 'FR0604002', 'FR0608001'] #сметана, молоко, кефир\n",
    "syntethic_category_id = [75, 22]\n",
    "plu_brand_code_not_in = ['O119', 'P927']\n",
    "# plu_vendor_nm = ['Данон']\n",
    "# plu_not_in = [4138521]"
   ]
  },
  {
   "cell_type": "code",
   "execution_count": 327,
   "id": "60d93817",
   "metadata": {},
   "outputs": [
    {
     "name": "stderr",
     "output_type": "stream",
     "text": [
      "                                                                                \r"
     ]
    }
   ],
   "source": [
    "plu_codes_cat = (spark\n",
    "                 .table(PRODUCTS)\n",
    "#                  .filter(F.col('plu_hierarchy_lvl_4_dk').isin(plu_hierarchy_lvl_4_dk))\n",
    "#                  .filter(F.col('plu_vendor_nm').isin(plu_vendor_nm))\n",
    "                 .filter(F.col('syntethic_category_id').isin(syntethic_category_id))\n",
    "                 .filter(~F.col('plu_brand_code').isin(plu_brand_code_not_in))\n",
    "#                  .filter(~F.col('plu_id').isin(plu_not_in))\n",
    "                 .select('plu_id')\n",
    "                 .distinct()\n",
    "                 .toPandas()['plu_id']\n",
    "                 .tolist()\n",
    "                )"
   ]
  },
  {
   "cell_type": "code",
   "execution_count": 328,
   "id": "15130c4f",
   "metadata": {},
   "outputs": [],
   "source": [
    "checks_items = checks_items.filter(F.col('plu_code').isin(plu_codes_cat)) # только чеки с нужными plu"
   ]
  },
  {
   "cell_type": "code",
   "execution_count": 329,
   "id": "021d0658",
   "metadata": {},
   "outputs": [],
   "source": [
    "checks_tc51 = checks_items.join(checks_headers_tc51, 'rtl_txn_id', how='inner')"
   ]
  },
  {
   "cell_type": "code",
   "execution_count": 330,
   "id": "141cba68",
   "metadata": {},
   "outputs": [],
   "source": [
    "checks_tc52 = checks_items.join(checks_headers_tc52, 'rtl_txn_id', how='inner')"
   ]
  },
  {
   "cell_type": "code",
   "execution_count": 331,
   "id": "5406a31e",
   "metadata": {},
   "outputs": [],
   "source": [
    "accs = ['account_no']\n",
    "pdf = checks_tc51.groupby(accs).agg(F.sum('base_qty').alias('base_qty_per_period'))\n",
    "pdf = pdf.filter(F.col('base_qty_per_period') >= 1)\n",
    "checks_tc51 = checks_tc51.join(pdf, on=accs)"
   ]
  },
  {
   "cell_type": "code",
   "execution_count": 332,
   "id": "86ab6ba2",
   "metadata": {},
   "outputs": [],
   "source": [
    "pdf2 = checks_tc52.groupby(accs).agg(F.sum('base_qty').alias('base_qty_per_period'))\n",
    "pdf2 = pdf2.filter(F.col('base_qty_per_period') >= 1)\n",
    "checks_tc52 = checks_tc52.join(pdf2, on=accs)"
   ]
  },
  {
   "cell_type": "code",
   "execution_count": 333,
   "id": "e31ebaf5",
   "metadata": {},
   "outputs": [],
   "source": [
    "seg1 = (checks_tc51.withColumn('group', F.lit('1'))\n",
    "                  .select('customer_rk', 'group')\n",
    "                  .distinct()\n",
    "      )"
   ]
  },
  {
   "cell_type": "code",
   "execution_count": 334,
   "id": "3ef43df1",
   "metadata": {},
   "outputs": [],
   "source": [
    "seg2 = (checks_tc52.withColumn('group', F.lit('2'))\n",
    "                  .select('customer_rk', 'group')\n",
    "                  .distinct()\n",
    "      )"
   ]
  },
  {
   "cell_type": "code",
   "execution_count": 335,
   "id": "c41d354d",
   "metadata": {},
   "outputs": [],
   "source": [
    "seg_8 = seg1.union(seg2)"
   ]
  },
  {
   "cell_type": "code",
   "execution_count": 336,
   "id": "0e5285d8",
   "metadata": {},
   "outputs": [
    {
     "name": "stderr",
     "output_type": "stream",
     "text": [
      "                                                                                ]]]]]]]]]\r"
     ]
    }
   ],
   "source": [
    "seg_8.write.parquet('temp1095_seg8', mode='overwrite')\n",
    "seg_8 = spark.read.parquet('temp1095_seg8')"
   ]
  },
  {
   "cell_type": "code",
   "execution_count": 337,
   "id": "0fffb634",
   "metadata": {},
   "outputs": [
    {
     "name": "stderr",
     "output_type": "stream",
     "text": [
      "                                                                                \r"
     ]
    },
    {
     "data": {
      "text/plain": [
       "107486"
      ]
     },
     "execution_count": 337,
     "metadata": {},
     "output_type": "execute_result"
    }
   ],
   "source": [
    "seg_8.count()"
   ]
  },
  {
   "cell_type": "code",
   "execution_count": 338,
   "id": "60541abf",
   "metadata": {},
   "outputs": [
    {
     "name": "stderr",
     "output_type": "stream",
     "text": [
      "                                                                                \r"
     ]
    }
   ],
   "source": [
    "seg_pd8 = seg_8.toPandas()"
   ]
  },
  {
   "cell_type": "code",
   "execution_count": 339,
   "id": "3f86df9a",
   "metadata": {},
   "outputs": [],
   "source": [
    "seg_pd8_seg1 = seg_pd8[seg_pd8.group == '1']\n",
    "seg_pd8_seg2 = seg_pd8[seg_pd8.group == '2']"
   ]
  },
  {
   "cell_type": "code",
   "execution_count": 340,
   "id": "c21c4e6a",
   "metadata": {},
   "outputs": [
    {
     "name": "stdout",
     "output_type": "stream",
     "text": [
      "43929\n",
      "63557\n"
     ]
    }
   ],
   "source": [
    "print(len(seg_pd8_seg1))\n",
    "print(len(seg_pd8_seg2))"
   ]
  },
  {
   "cell_type": "code",
   "execution_count": null,
   "id": "b0b0f9ec",
   "metadata": {},
   "outputs": [],
   "source": []
  },
  {
   "cell_type": "code",
   "execution_count": 347,
   "id": "d230bd83",
   "metadata": {},
   "outputs": [],
   "source": [
    "seg_pd2_seg1 = seg_pd2_seg1.astype('str')\n",
    "seg_pd2_seg2 = seg_pd2_seg2.astype('str')"
   ]
  },
  {
   "cell_type": "code",
   "execution_count": 348,
   "id": "dbcd9d98",
   "metadata": {},
   "outputs": [],
   "source": [
    "cross21, upgrade21, ump21 = get_usecases(seg_pd2_seg1)\n",
    "cross22, upgrade22, ump22 = get_usecases(seg_pd2_seg2)"
   ]
  },
  {
   "cell_type": "code",
   "execution_count": 349,
   "id": "5790b28f",
   "metadata": {},
   "outputs": [
    {
     "name": "stdout",
     "output_type": "stream",
     "text": [
      "cross: 56210, upgrade: 62058, ump: 53317 (all: 171585)\n",
      "cross: 96360, upgrade: 101905, ump: 53880 (all: 252145)\n"
     ]
    }
   ],
   "source": [
    "print('cross: {}, upgrade: {}, ump: {} (all: {})'\n",
    "      .format(len(cross21), len(upgrade21), len(ump21), \n",
    "              len(cross21)+len(upgrade21)+len(ump21)))\n",
    "print('cross: {}, upgrade: {}, ump: {} (all: {})'\n",
    "      .format(len(cross22), len(upgrade22), len(ump22), \n",
    "              len(cross22)+len(upgrade22)+len(ump22)))"
   ]
  },
  {
   "cell_type": "code",
   "execution_count": 350,
   "id": "f2c7b14a",
   "metadata": {},
   "outputs": [],
   "source": [
    "seg_pd3_seg1 = seg_pd3_seg1.astype('str')\n",
    "seg_pd3_seg2 = seg_pd3_seg2.astype('str')"
   ]
  },
  {
   "cell_type": "code",
   "execution_count": 351,
   "id": "bca0dbc7",
   "metadata": {},
   "outputs": [],
   "source": [
    "cross31, upgrade31, ump31 = get_usecases(seg_pd3_seg1)\n",
    "cross32, upgrade32, ump32 = get_usecases(seg_pd3_seg2)"
   ]
  },
  {
   "cell_type": "code",
   "execution_count": 352,
   "id": "3eacb6e5",
   "metadata": {},
   "outputs": [
    {
     "name": "stdout",
     "output_type": "stream",
     "text": [
      "cross: 21660, upgrade: 24101, ump: 20789 (all: 66550)\n",
      "cross: 37008, upgrade: 39616, ump: 20995 (all: 97619)\n"
     ]
    }
   ],
   "source": [
    "print('cross: {}, upgrade: {}, ump: {} (all: {})'\n",
    "      .format(len(cross31), len(upgrade31), len(ump31), \n",
    "              len(cross31)+len(upgrade31)+len(ump31)))\n",
    "print('cross: {}, upgrade: {}, ump: {} (all: {})'\n",
    "      .format(len(cross32), len(upgrade32), len(ump32), \n",
    "              len(cross32)+len(upgrade32)+len(ump32)))"
   ]
  },
  {
   "cell_type": "code",
   "execution_count": 353,
   "id": "1e2b9580",
   "metadata": {},
   "outputs": [],
   "source": [
    "seg_pd4_seg1 = seg_pd4_seg1.astype('str')\n",
    "seg_pd4_seg2 = seg_pd4_seg2.astype('str')"
   ]
  },
  {
   "cell_type": "code",
   "execution_count": 354,
   "id": "dc98da30",
   "metadata": {},
   "outputs": [],
   "source": [
    "cross41, upgrade41, ump41 = get_usecases(seg_pd4_seg1)\n",
    "cross42, upgrade42, ump42 = get_usecases(seg_pd4_seg2)"
   ]
  },
  {
   "cell_type": "code",
   "execution_count": 355,
   "id": "713fa356",
   "metadata": {},
   "outputs": [
    {
     "name": "stdout",
     "output_type": "stream",
     "text": [
      "cross: 56210, upgrade: 62058, ump: 53317 (all: 171585)\n",
      "cross: 96360, upgrade: 101905, ump: 53880 (all: 252145)\n"
     ]
    }
   ],
   "source": [
    "print('cross: {}, upgrade: {}, ump: {} (all: {})'\n",
    "      .format(len(cross41), len(upgrade41), len(ump41), \n",
    "              len(cross41)+len(upgrade41)+len(ump41)))\n",
    "print('cross: {}, upgrade: {}, ump: {} (all: {})'\n",
    "      .format(len(cross42), len(upgrade42), len(ump42), \n",
    "              len(cross42)+len(upgrade42)+len(ump42)))"
   ]
  },
  {
   "cell_type": "code",
   "execution_count": 356,
   "id": "43ccec3e",
   "metadata": {},
   "outputs": [],
   "source": [
    "seg_pd5_seg1 = seg_pd5_seg1.astype('str')\n",
    "seg_pd5_seg2 = seg_pd5_seg2.astype('str')"
   ]
  },
  {
   "cell_type": "code",
   "execution_count": 357,
   "id": "dcac2bb5",
   "metadata": {},
   "outputs": [],
   "source": [
    "cross51, upgrade51, ump51 = get_usecases(seg_pd5_seg1)\n",
    "cross52, upgrade52, ump52 = get_usecases(seg_pd5_seg2)"
   ]
  },
  {
   "cell_type": "code",
   "execution_count": 358,
   "id": "2ee7c10e",
   "metadata": {},
   "outputs": [
    {
     "name": "stdout",
     "output_type": "stream",
     "text": [
      "cross: 4380, upgrade: 4750, ump: 4140 (all: 13270)\n",
      "cross: 7356, upgrade: 7646, ump: 4177 (all: 19179)\n"
     ]
    }
   ],
   "source": [
    "print('cross: {}, upgrade: {}, ump: {} (all: {})'\n",
    "      .format(len(cross51), len(upgrade51), len(ump51), \n",
    "              len(cross51)+len(upgrade51)+len(ump51)))\n",
    "print('cross: {}, upgrade: {}, ump: {} (all: {})'\n",
    "      .format(len(cross52), len(upgrade52), len(ump52), \n",
    "              len(cross52)+len(upgrade52)+len(ump52)))"
   ]
  },
  {
   "cell_type": "code",
   "execution_count": 359,
   "id": "462d89a8",
   "metadata": {},
   "outputs": [],
   "source": [
    "seg_pd6_seg1 = seg_pd6_seg1.astype('str')\n",
    "seg_pd6_seg2 = seg_pd6_seg2.astype('str')"
   ]
  },
  {
   "cell_type": "code",
   "execution_count": 360,
   "id": "168b535b",
   "metadata": {},
   "outputs": [],
   "source": [
    "cross61, upgrade61, ump61 = get_usecases(seg_pd6_seg1)\n",
    "cross62, upgrade62, ump62 = get_usecases(seg_pd6_seg2)"
   ]
  },
  {
   "cell_type": "code",
   "execution_count": 361,
   "id": "b3cbd130",
   "metadata": {},
   "outputs": [
    {
     "name": "stdout",
     "output_type": "stream",
     "text": [
      "cross: 23705, upgrade: 25666, ump: 22414 (all: 71785)\n",
      "cross: 39932, upgrade: 41523, ump: 22638 (all: 104093)\n"
     ]
    }
   ],
   "source": [
    "print('cross: {}, upgrade: {}, ump: {} (all: {})'\n",
    "      .format(len(cross61), len(upgrade61), len(ump61), \n",
    "              len(cross61)+len(upgrade61)+len(ump61)))\n",
    "print('cross: {}, upgrade: {}, ump: {} (all: {})'\n",
    "      .format(len(cross62), len(upgrade62), len(ump62), \n",
    "              len(cross62)+len(upgrade62)+len(ump62)))"
   ]
  },
  {
   "cell_type": "code",
   "execution_count": 362,
   "id": "1390fa71",
   "metadata": {},
   "outputs": [],
   "source": [
    "seg_pd7_seg1 = seg_pd7_seg1.astype('str')\n",
    "seg_pd7_seg2 = seg_pd7_seg2.astype('str')"
   ]
  },
  {
   "cell_type": "code",
   "execution_count": 363,
   "id": "da31ab9a",
   "metadata": {},
   "outputs": [],
   "source": [
    "cross71, upgrade71, ump71 = get_usecases(seg_pd7_seg1)\n",
    "cross72, upgrade72, ump72 = get_usecases(seg_pd7_seg2)"
   ]
  },
  {
   "cell_type": "code",
   "execution_count": 364,
   "id": "c8e973e7",
   "metadata": {},
   "outputs": [
    {
     "name": "stdout",
     "output_type": "stream",
     "text": [
      "cross: 2380, upgrade: 2589, ump: 2295 (all: 7264)\n",
      "cross: 3972, upgrade: 4140, ump: 2312 (all: 10424)\n"
     ]
    }
   ],
   "source": [
    "print('cross: {}, upgrade: {}, ump: {} (all: {})'\n",
    "      .format(len(cross71), len(upgrade71), len(ump71), \n",
    "              len(cross71)+len(upgrade71)+len(ump71)))\n",
    "print('cross: {}, upgrade: {}, ump: {} (all: {})'\n",
    "      .format(len(cross72), len(upgrade72), len(ump72), \n",
    "              len(cross72)+len(upgrade72)+len(ump72)))"
   ]
  },
  {
   "cell_type": "code",
   "execution_count": 365,
   "id": "08286eae",
   "metadata": {},
   "outputs": [],
   "source": [
    "seg_pd8_seg1 = seg_pd8_seg1.astype('str')\n",
    "seg_pd8_seg2 = seg_pd8_seg2.astype('str')"
   ]
  },
  {
   "cell_type": "code",
   "execution_count": 366,
   "id": "abf55156",
   "metadata": {},
   "outputs": [],
   "source": [
    "cross81, upgrade81, ump81 = get_usecases(seg_pd8_seg1)\n",
    "cross82, upgrade82, ump82 = get_usecases(seg_pd8_seg2)"
   ]
  },
  {
   "cell_type": "code",
   "execution_count": 367,
   "id": "abc9d01b",
   "metadata": {},
   "outputs": [
    {
     "name": "stdout",
     "output_type": "stream",
     "text": [
      "cross: 14583, upgrade: 15562, ump: 13784 (all: 43929)\n",
      "cross: 24423, upgrade: 25213, ump: 13921 (all: 63557)\n"
     ]
    }
   ],
   "source": [
    "print('cross: {}, upgrade: {}, ump: {} (all: {})'\n",
    "      .format(len(cross81), len(upgrade81), len(ump81), \n",
    "              len(cross81)+len(upgrade81)+len(ump81)))\n",
    "print('cross: {}, upgrade: {}, ump: {} (all: {})'\n",
    "      .format(len(cross82), len(upgrade82), len(ump82), \n",
    "              len(cross82)+len(upgrade82)+len(ump82)))"
   ]
  }
 ],
 "metadata": {
  "kernelspec": {
   "display_name": "Python 3 (ipykernel)",
   "language": "python",
   "name": "python3"
  },
  "language_info": {
   "codemirror_mode": {
    "name": "ipython",
    "version": 3
   },
   "file_extension": ".py",
   "mimetype": "text/x-python",
   "name": "python",
   "nbconvert_exporter": "python",
   "pygments_lexer": "ipython3",
   "version": "3.7.10"
  }
 },
 "nbformat": 4,
 "nbformat_minor": 5
}
