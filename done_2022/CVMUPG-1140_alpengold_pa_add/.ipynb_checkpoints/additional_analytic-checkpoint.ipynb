{
 "cells": [
  {
   "cell_type": "code",
   "execution_count": 1,
   "id": "2f723e71",
   "metadata": {},
   "outputs": [],
   "source": [
    "name = 'alpengold_pa_add'"
   ]
  },
  {
   "cell_type": "code",
   "execution_count": 2,
   "id": "242af186",
   "metadata": {},
   "outputs": [
    {
     "name": "stdout",
     "output_type": "stream",
     "text": [
      "Looking in indexes: https://repo-dmp.do.x5.ru/repository/pypi/simple\n",
      "Requirement already satisfied: pydantic in /opt/conda/lib/python3.7/site-packages (1.9.0)\n",
      "Requirement already satisfied: typing-extensions>=3.7.4.3 in /opt/conda/lib/python3.7/site-packages (from pydantic) (3.7.4.3)\n"
     ]
    }
   ],
   "source": [
    "!pip install pydantic\n",
    "import sys\n",
    "import pandas as pd\n",
    "import pyspark.sql.functions as F\n",
    "sys.path.append('/home/jovyan/cvm_upgrade/')\n",
    "sys.path.append('/home/jovyan/cvm_upgrade/upgrade/')\n",
    "sys.path.append('/home/jovyan/glow-byte-filters-pyspark')\n",
    "sys.path.append('/home/jovyan/x5_some_tasks/Osipov/')\n",
    "from upgrade.post_analysis2.tools.groups_metrics_aggregation import GroupsMetricsAggregation\n",
    "from upgrade.post_analysis2.tools.guests_metrics_preprocessing import GuestsMetricsPreprocessing\n",
    "from upgrade.post_analysis2.tools.post_analysis_params import PostAnalysisParams\n",
    "from upgrade.post_analysis2.tools.metric_names_mapper import map_col_names_to_russian\n",
    "from upgrade.post_analysis2.tools.experiment_participants import ExperimentParticipants\n",
    "from upgrade.post_analysis2.tools.experiment_params import ExperimentParams\n",
    "import datetime\n",
    "from datetime import timedelta\n",
    "from spark import *\n",
    "from utils_osipov import *\n",
    "from segmentation import *\n",
    "\n",
    "%load_ext autoreload\n",
    "%autoreload 2\n",
    "\n",
    "pd.options.display.float_format = '{:,.2f}'.format\n",
    "pd.options.display.max_rows = 500"
   ]
  },
  {
   "cell_type": "code",
   "execution_count": 3,
   "id": "0f4d7ee7",
   "metadata": {
    "collapsed": false,
    "jupyter": {
     "outputs_hidden": false
    },
    "pycharm": {
     "name": "#%%\n"
    }
   },
   "outputs": [
    {
     "name": "stderr",
     "output_type": "stream",
     "text": [
      "Setting default log level to \"WARN\".\n",
      "To adjust logging level use sc.setLogLevel(newLevel). For SparkR, use setLogLevel(newLevel).\n"
     ]
    }
   ],
   "source": [
    "sc, spark = restart_spark(name, 100, executor_memory=\"3G\", executor_cores=5, driver_memory=\"12G\",\n",
    "                          additional_params={\"spark.sql.shuffle.partitions\": \"200\"})\n",
    "sc.setLogLevel('ERROR')"
   ]
  },
  {
   "cell_type": "code",
   "execution_count": 4,
   "id": "5c773263",
   "metadata": {},
   "outputs": [],
   "source": [
    "LOYALTY_CARDS = \"hive_ssa_tc5.loyalty_card\"\n",
    "LOYALTY_CARDHOLDERS = \"hive_ssa_tc5.loyalty_cardholder\"\n",
    "ACCOUNTS = \"hive_ssa_tc5.account\"\n",
    "CVM5_GUESTS = \"hive_cvm_acrm.cvm5_guests\"\n",
    "\n",
    "DIM_STORE = \"hive_ssa_main.dim_store\"\n",
    "CHECKS_HEADERS = \"hive_ssa_main.fct_rtl_txn\"\n",
    "CHECKS_ITEMS = \"hive_ssa_main.fct_rtl_txn_item\"\n",
    "PRODUCTS = \"hive_ssa_tc5.cvm_product\""
   ]
  },
  {
   "cell_type": "code",
   "execution_count": 5,
   "id": "e3a3b2d9",
   "metadata": {},
   "outputs": [],
   "source": [
    "plu_codes = [4053805,3468823,4021002,4053803,3426966,4053802,3920528,4053801,4053597,4053758,3383916,4053732,\n",
    "             4090347,4078354,4053537,4090344,4053800,4053806,4081840,3957242,3641631,4087612,3626894,4053804,\n",
    "             4053995,4053798,4081838,4053799,4053658,4053663,3499535,4078353,4053724,3383918,4090345,4053760,\n",
    "             4052671,4167604]"
   ]
  },
  {
   "cell_type": "markdown",
   "id": "3bd87c5a",
   "metadata": {},
   "source": [
    "### 10. X-24-36-Mondelez-AlpenGold-Milk-sof"
   ]
  },
  {
   "cell_type": "code",
   "execution_count": 6,
   "id": "0a99de7a",
   "metadata": {
    "collapsed": false,
    "jupyter": {
     "outputs_hidden": false
    },
    "pycharm": {
     "name": "#%%\n"
    }
   },
   "outputs": [],
   "source": [
    "camp_id = 'X-24-36-Mondelez-AlpenGold-Milk-sof'\n",
    "\n",
    "experiment_params = ExperimentParams(**{\n",
    "    # Camp wave id нужно записать в виде мапы из id в префиксы.\n",
    "    # Префиксы ни на что не влияют, просто для более красивого названия групп\n",
    "    # Заполняются camp_wave_id. Если для контроля и теста одинаковый, то пишем два раза\n",
    "    'map_camp_wave_ids_to_suffixes': {\n",
    "        64840 : \"sms_viber_tg\",\n",
    "        65046: \"sms_viber_tg\",\n",
    "        64840: \"sms_viber_cg\",\n",
    "        65046: \"sms_viber_cg\"\n",
    "    },\n",
    "\n",
    "    # communication period with guest (sending sms, push, etc.)\n",
    "    'date_communication_from': '2021-10-19',\n",
    "    'date_communication_to': '2021-10-25',\n",
    "\n",
    "    'wave_ids': [\n",
    "        65261 #если нет, то -1\n",
    "    ],\n",
    "\n",
    "    'communication_costs': {\n",
    "        'sms': 1.38,\n",
    "        'viber': 1.32,\n",
    "        'email': 0.0083\n",
    "    }\n",
    "})\n",
    "#0_ + camp_wave_id +_sms_viber_ + cg (если номера волн равны) / tg (если номера волн разные)\n",
    "experiment_guests = ExperimentParticipants(spark, experiment_params)\n",
    "experiment_guests_communications = experiment_guests.extract()\n",
    "#1 - cg, 0 - tg"
   ]
  },
  {
   "cell_type": "code",
   "execution_count": 23,
   "id": "009fdf81",
   "metadata": {},
   "outputs": [],
   "source": [
    "guests_tg = (experiment_guests_communications\n",
    "                  .filter(F.col('group_name').isin(['0_64840_sms_viber_cg', '0_65046_sms_viber_cg']))\n",
    "                  .select('customer_rk').distinct()\n",
    "                 )\n",
    "\n",
    "guests_cg = (experiment_guests_communications\n",
    "                  .filter(F.col('group_name').isin(['1_64840_sms_viber_cg', '1_65046_sms_viber_cg']))\n",
    "                  .select('customer_rk').distinct()\n",
    "                 )"
   ]
  },
  {
   "cell_type": "code",
   "execution_count": 24,
   "id": "4ce0ccc0",
   "metadata": {},
   "outputs": [],
   "source": [
    "dt1 = datetime.datetime.strptime(experiment_params.date_communication_from, '%Y-%m-%d')\n",
    "dt2 = datetime.datetime.strptime(experiment_params.date_communication_to, '%Y-%m-%d')\n",
    "start_date = datetime.date(dt1.year, dt1.month, dt1.day)\n",
    "end_date = datetime.date(dt2.year, dt2.month, dt2.day)\n",
    "start_date_pre = start_date - datetime.timedelta(days=29.3)\n",
    "end_date_pre = start_date - datetime.timedelta(days=1)\n",
    "start_date_post = end_date + datetime.timedelta(days=1)\n",
    "end_date_post = end_date + datetime.timedelta(days=29.3)"
   ]
  },
  {
   "cell_type": "code",
   "execution_count": 25,
   "id": "0a7e3bcf",
   "metadata": {},
   "outputs": [
    {
     "name": "stderr",
     "output_type": "stream",
     "text": [
      "                                                                                00]]]]]]]\r"
     ]
    }
   ],
   "source": [
    "param_pd_period_tg = get_param_general(spark, \n",
    "                    start_date, \n",
    "                    end_date, \n",
    "                    plu_codes,\n",
    "                    guests=guests_tg)\n",
    "param_pd_period_cg = get_param_general(spark, \n",
    "                    start_date, \n",
    "                    end_date, \n",
    "                    plu_codes,\n",
    "                    guests=guests_cg)"
   ]
  },
  {
   "cell_type": "code",
   "execution_count": 26,
   "id": "23163634",
   "metadata": {},
   "outputs": [
    {
     "name": "stderr",
     "output_type": "stream",
     "text": [
      "                                                                                36]]]]]]]\r"
     ]
    }
   ],
   "source": [
    "param_pd_pre_tg = get_param_general(spark, \n",
    "                    start_date_pre, \n",
    "                    end_date_pre, \n",
    "                    plu_codes,\n",
    "                    guests=guests_tg)\n",
    "param_pd_pre_cg = get_param_general(spark, \n",
    "                    start_date_pre, \n",
    "                    end_date_pre, \n",
    "                    plu_codes,\n",
    "                    guests=guests_cg)"
   ]
  },
  {
   "cell_type": "code",
   "execution_count": 27,
   "id": "961856c4",
   "metadata": {},
   "outputs": [
    {
     "name": "stderr",
     "output_type": "stream",
     "text": [
      "                                                                                / 1803]]]]]]\r"
     ]
    }
   ],
   "source": [
    "param_pd_post_tg = get_param_general(spark, \n",
    "                    start_date_post, \n",
    "                    end_date_post, \n",
    "                    plu_codes,\n",
    "                    guests=guests_tg)\n",
    "param_pd_post_cg = get_param_general(spark, \n",
    "                    start_date_post, \n",
    "                    end_date_post, \n",
    "                    plu_codes,\n",
    "                    guests=guests_cg)"
   ]
  },
  {
   "cell_type": "code",
   "execution_count": 28,
   "id": "9d52b9e5",
   "metadata": {},
   "outputs": [],
   "source": [
    "val = param_pd_period_tg.append(param_pd_period_cg)"
   ]
  },
  {
   "cell_type": "code",
   "execution_count": 29,
   "id": "049937a5",
   "metadata": {},
   "outputs": [],
   "source": [
    "val = val.append(param_pd_pre_tg)\n",
    "val = val.append(param_pd_pre_cg)\n",
    "val = val.append(param_pd_post_tg)\n",
    "val = val.append(param_pd_post_cg)"
   ]
  },
  {
   "cell_type": "markdown",
   "id": "1bf92af8",
   "metadata": {},
   "source": [
    "### 11. X-24-34-Mondelez-AlpenGold-Cookies-sof"
   ]
  },
  {
   "cell_type": "code",
   "execution_count": 30,
   "id": "36fe4829",
   "metadata": {
    "collapsed": false,
    "jupyter": {
     "outputs_hidden": false
    },
    "pycharm": {
     "name": "#%%\n"
    }
   },
   "outputs": [],
   "source": [
    "camp_id = 'X-24-34-Mondelez-AlpenGold-Cookies-sof'\n",
    "\n",
    "experiment_params = ExperimentParams(**{\n",
    "    # Camp wave id нужно записать в виде мапы из id в префиксы.\n",
    "    # Префиксы ни на что не влияют, просто для более красивого названия групп\n",
    "    # Заполняются camp_wave_id. Если для контроля и теста одинаковый, то пишем два раза\n",
    "    'map_camp_wave_ids_to_suffixes': {\n",
    "        64841: \"sms_viber_tg\",\n",
    "        65034: \"sms_viber_tg\",\n",
    "        64841: \"sms_viber_cg\",\n",
    "        65034: \"sms_viber_cg\"\n",
    "    },\n",
    "\n",
    "    # communication period with guest (sending sms, push, etc.)\n",
    "    'date_communication_from': '2021-10-19',\n",
    "    'date_communication_to': '2021-10-25',\n",
    "\n",
    "    'wave_ids': [\n",
    "        65258 #если нет, то -1\n",
    "    ],\n",
    "\n",
    "    'communication_costs': {\n",
    "        'sms': 1.38,\n",
    "        'viber': 1.32,\n",
    "        'email': 0.0083\n",
    "    }\n",
    "})\n",
    "#0_ + camp_wave_id +_sms_viber_ + cg (если номера волн равны) / tg (если номера волн разные)\n",
    "experiment_guests = ExperimentParticipants(spark, experiment_params)\n",
    "experiment_guests_communications = experiment_guests.extract()"
   ]
  },
  {
   "cell_type": "code",
   "execution_count": 31,
   "id": "4dd8d858",
   "metadata": {},
   "outputs": [],
   "source": [
    "guests_tg = (experiment_guests_communications\n",
    "                  .filter(F.col('group_name').isin(['0_64841_sms_viber_cg', '0_65034_sms_viber_cg']))\n",
    "                  .select('customer_rk').distinct()\n",
    "                 )\n",
    "\n",
    "guests_cg = (experiment_guests_communications\n",
    "                  .filter(F.col('group_name').isin(['1_64841_sms_viber_cg', '1_65034_sms_viber_cg']))\n",
    "                  .select('customer_rk').distinct()\n",
    "                 )"
   ]
  },
  {
   "cell_type": "code",
   "execution_count": 32,
   "id": "2958db6a",
   "metadata": {},
   "outputs": [],
   "source": [
    "dt1 = datetime.datetime.strptime(experiment_params.date_communication_from, '%Y-%m-%d')\n",
    "dt2 = datetime.datetime.strptime(experiment_params.date_communication_to, '%Y-%m-%d')\n",
    "start_date = datetime.date(dt1.year, dt1.month, dt1.day)\n",
    "end_date = datetime.date(dt2.year, dt2.month, dt2.day)\n",
    "start_date_pre = start_date - datetime.timedelta(days=29.3)\n",
    "end_date_pre = start_date - datetime.timedelta(days=1)\n",
    "start_date_post = end_date + datetime.timedelta(days=1)\n",
    "end_date_post = end_date + datetime.timedelta(days=29.3)"
   ]
  },
  {
   "cell_type": "code",
   "execution_count": 33,
   "id": "eb87b52d",
   "metadata": {},
   "outputs": [
    {
     "name": "stderr",
     "output_type": "stream",
     "text": [
      "                                                                                 / 200]7]]\r"
     ]
    }
   ],
   "source": [
    "param_pd_period_tg = get_param_general(spark, \n",
    "                    start_date, \n",
    "                    end_date, \n",
    "                    plu_codes,\n",
    "                    guests=guests_tg)\n",
    "param_pd_period_cg = get_param_general(spark, \n",
    "                    start_date, \n",
    "                    end_date, \n",
    "                    plu_codes,\n",
    "                    guests=guests_cg)"
   ]
  },
  {
   "cell_type": "code",
   "execution_count": 34,
   "id": "ade6b4a0",
   "metadata": {},
   "outputs": [
    {
     "name": "stderr",
     "output_type": "stream",
     "text": [
      "                                                                                ) / 1736]]]]\r"
     ]
    }
   ],
   "source": [
    "param_pd_pre_tg = get_param_general(spark, \n",
    "                    start_date_pre, \n",
    "                    end_date_pre, \n",
    "                    plu_codes,\n",
    "                    guests=guests_tg)\n",
    "param_pd_pre_cg = get_param_general(spark, \n",
    "                    start_date_pre, \n",
    "                    end_date_pre, \n",
    "                    plu_codes,\n",
    "                    guests=guests_cg)"
   ]
  },
  {
   "cell_type": "code",
   "execution_count": 35,
   "id": "383cb7a3",
   "metadata": {},
   "outputs": [
    {
     "name": "stderr",
     "output_type": "stream",
     "text": [
      "                                                                                / 1803]]]]]\r"
     ]
    }
   ],
   "source": [
    "param_pd_post_tg = get_param_general(spark, \n",
    "                    start_date_post, \n",
    "                    end_date_post, \n",
    "                    plu_codes,\n",
    "                    guests=guests_tg)\n",
    "param_pd_post_cg = get_param_general(spark, \n",
    "                    start_date_post, \n",
    "                    end_date_post, \n",
    "                    plu_codes,\n",
    "                    guests=guests_cg)"
   ]
  },
  {
   "cell_type": "code",
   "execution_count": 36,
   "id": "2508af10",
   "metadata": {},
   "outputs": [],
   "source": [
    "val = val.append(param_pd_period_tg)\n",
    "val = val.append(param_pd_period_cg)\n",
    "val = val.append(param_pd_pre_tg)\n",
    "val = val.append(param_pd_pre_cg)\n",
    "val = val.append(param_pd_post_tg)\n",
    "val = val.append(param_pd_post_cg)"
   ]
  },
  {
   "cell_type": "code",
   "execution_count": 40,
   "id": "df5d3117",
   "metadata": {},
   "outputs": [],
   "source": [
    "val = val.T"
   ]
  },
  {
   "cell_type": "code",
   "execution_count": 43,
   "id": "443c3cd9",
   "metadata": {},
   "outputs": [],
   "source": [
    "val.columns = ['X-24-36-Mondelez-AlpenGold-Milk-sof_period_tg',\n",
    "              'X-24-36-Mondelez-AlpenGold-Milk-sof_period_cg',\n",
    "              'X-24-36-Mondelez-AlpenGold-Milk-sof_pre_tg',\n",
    "              'X-24-36-Mondelez-AlpenGold-Milk-sof_pre_cg',\n",
    "              'X-24-36-Mondelez-AlpenGold-Milk-sof_post_tg',\n",
    "              'X-24-36-Mondelez-AlpenGold-Milk-sof_post_cg',\n",
    "              'X-24-34-Mondelez-AlpenGold-Cookies-sof_period_tg',\n",
    "              'X-24-34-Mondelez-AlpenGold-Cookies-sof_period_cg',\n",
    "              'X-24-34-Mondelez-AlpenGold-Cookies-sof_pre_tg',\n",
    "              'X-24-34-Mondelez-AlpenGold-Cookies-sof_pre_cg',\n",
    "              'X-24-34-Mondelez-AlpenGold-Cookies-sof_post_tg',\n",
    "              'X-24-34-Mondelez-AlpenGold-Cookies-sof_post_cg']"
   ]
  },
  {
   "cell_type": "code",
   "execution_count": 46,
   "id": "912c44a1",
   "metadata": {},
   "outputs": [],
   "source": [
    "val.to_excel('camp_data_values_true.xlsx')"
   ]
  }
 ],
 "metadata": {
  "kernelspec": {
   "display_name": "Python 3 (ipykernel)",
   "language": "python",
   "name": "python3"
  },
  "language_info": {
   "codemirror_mode": {
    "name": "ipython",
    "version": 3
   },
   "file_extension": ".py",
   "mimetype": "text/x-python",
   "name": "python",
   "nbconvert_exporter": "python",
   "pygments_lexer": "ipython3",
   "version": "3.7.10"
  }
 },
 "nbformat": 4,
 "nbformat_minor": 5
}
