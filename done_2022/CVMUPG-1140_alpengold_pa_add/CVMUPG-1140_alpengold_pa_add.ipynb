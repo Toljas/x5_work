{
 "cells": [
  {
   "cell_type": "markdown",
   "id": "51e3e9ef",
   "metadata": {},
   "source": [
    "https://jira.x5.ru/browse/CVMUPG-1140"
   ]
  },
  {
   "cell_type": "code",
   "execution_count": 1,
   "id": "8658f185",
   "metadata": {},
   "outputs": [],
   "source": [
    "name = 'CVMUPG-1140_alpengold_pa_add'"
   ]
  },
  {
   "cell_type": "code",
   "execution_count": 2,
   "id": "7abd501d",
   "metadata": {},
   "outputs": [
    {
     "name": "stdout",
     "output_type": "stream",
     "text": [
      "Looking in indexes: https://repo-dmp.do.x5.ru/repository/pypi/simple\n",
      "Requirement already satisfied: pydantic in /opt/conda/lib/python3.7/site-packages (1.9.0)\n",
      "Requirement already satisfied: typing-extensions>=3.7.4.3 in /opt/conda/lib/python3.7/site-packages (from pydantic) (3.7.4.3)\n"
     ]
    }
   ],
   "source": [
    "!pip install pydantic\n",
    "import sys\n",
    "import pandas as pd\n",
    "import pyspark.sql.functions as F\n",
    "sys.path.append('/home/jovyan/cvm_upgrade/')\n",
    "sys.path.append('/home/jovyan/cvm_upgrade/upgrade/')\n",
    "sys.path.append('/home/jovyan/glow-byte-filters-pyspark')\n",
    "sys.path.append('/home/jovyan/x5_some_tasks/Osipov/')\n",
    "from upgrade.post_analysis2.tools.groups_metrics_aggregation import GroupsMetricsAggregation\n",
    "from upgrade.post_analysis2.tools.guests_metrics_preprocessing import GuestsMetricsPreprocessing\n",
    "from upgrade.post_analysis2.tools.post_analysis_params import PostAnalysisParams\n",
    "from upgrade.post_analysis2.tools.metric_names_mapper import map_col_names_to_russian\n",
    "from upgrade.post_analysis2.tools.experiment_participants import ExperimentParticipants\n",
    "from upgrade.post_analysis2.tools.experiment_params import ExperimentParams\n",
    "import datetime\n",
    "from datetime import timedelta\n",
    "from spark import *\n",
    "from utils_osipov import *\n",
    "from segmentation import *\n",
    "\n",
    "%load_ext autoreload\n",
    "%autoreload 2\n",
    "\n",
    "pd.options.display.float_format = '{:,.2f}'.format\n",
    "pd.options.display.max_rows = 500"
   ]
  },
  {
   "cell_type": "code",
   "execution_count": 3,
   "id": "33e83715",
   "metadata": {
    "collapsed": false,
    "jupyter": {
     "outputs_hidden": false
    },
    "pycharm": {
     "name": "#%%\n"
    }
   },
   "outputs": [
    {
     "name": "stderr",
     "output_type": "stream",
     "text": [
      "Setting default log level to \"WARN\".\n",
      "To adjust logging level use sc.setLogLevel(newLevel). For SparkR, use setLogLevel(newLevel).\n",
      "22/03/03 11:05:35 WARN cluster.YarnSchedulerBackend$YarnSchedulerEndpoint: Attempted to request executors before the AM has registered!\n"
     ]
    }
   ],
   "source": [
    "sc, spark = restart_spark(name, 100, executor_memory=\"3G\", executor_cores=5, driver_memory=\"12G\",\n",
    "                          additional_params={\"spark.sql.shuffle.partitions\": \"200\"})\n",
    "sc.setLogLevel('ERROR')"
   ]
  },
  {
   "cell_type": "code",
   "execution_count": 4,
   "id": "55d64a73",
   "metadata": {},
   "outputs": [],
   "source": [
    "LOYALTY_CARDS = \"hive_ssa_tc5.loyalty_card\"\n",
    "LOYALTY_CARDHOLDERS = \"hive_ssa_tc5.loyalty_cardholder\"\n",
    "ACCOUNTS = \"hive_ssa_tc5.account\"\n",
    "CVM5_GUESTS = \"hive_cvm_acrm.cvm5_guests\"\n",
    "\n",
    "DIM_STORE = \"hive_ssa_main.dim_store\"\n",
    "CHECKS_HEADERS = \"hive_ssa_main.fct_rtl_txn\"\n",
    "CHECKS_ITEMS = \"hive_ssa_main.fct_rtl_txn_item\"\n",
    "PRODUCTS = \"hive_ssa_tc5.cvm_product\""
   ]
  },
  {
   "cell_type": "code",
   "execution_count": 5,
   "id": "cf3df03f",
   "metadata": {},
   "outputs": [],
   "source": [
    "plu_codes = [4053805,3468823,4021002,4053803,3426966,4053802,3920528,4053801,4053597,4053758,3383916,4053732,\n",
    "             4090347,4078354,4053537,4090344,4053800,4053806,4081840,3957242,3641631,4087612,3626894,4053804,\n",
    "             4053995,4053798,4081838,4053799,4053658,4053663,3499535,4078353,4053724,3383918,4090345,4053760,\n",
    "             4052671,4167604]"
   ]
  },
  {
   "cell_type": "markdown",
   "id": "53389daf",
   "metadata": {},
   "source": [
    "### 1. U-27-10-alpengold-slip-postavschik-2"
   ]
  },
  {
   "cell_type": "code",
   "execution_count": 9,
   "id": "d3fb80c6",
   "metadata": {
    "collapsed": false,
    "jupyter": {
     "outputs_hidden": false
    },
    "pycharm": {
     "name": "#%%\n"
    }
   },
   "outputs": [],
   "source": [
    "camp_id = 'U-27-10-alpengold-slip-postavschik-2'\n",
    "\n",
    "experiment_params = ExperimentParams(**{\n",
    "    # Camp wave id нужно записать в виде мапы из id в префиксы.\n",
    "    # Префиксы ни на что не влияют, просто для более красивого названия групп\n",
    "    # Заполняются camp_wave_id. Если для контроля и теста одинаковый, то пишем два раза\n",
    "    'map_camp_wave_ids_to_suffixes': {\n",
    "        76930: \"sms_viber_tg\",\n",
    "        76930: \"sms_viber_cg\"\n",
    "    },\n",
    "\n",
    "    # communication period with guest (sending sms, push, etc.)\n",
    "    'date_communication_from': '2021-12-23',\n",
    "    'date_communication_to': '2021-12-29',\n",
    "\n",
    "    'wave_ids': [\n",
    "        -1 #если нет, то -1\n",
    "    ],\n",
    "\n",
    "    'communication_costs': {\n",
    "        'sms': 1.38,\n",
    "        'viber': 1.32,\n",
    "        'email': 0.0083\n",
    "    }\n",
    "})\n",
    "#0_ + camp_wave_id +_sms_viber_ + cg (если номера волн равны) / tg (если номера волн разные)\n",
    "experiment_guests = ExperimentParticipants(spark, experiment_params)\n",
    "experiment_guests_communications = experiment_guests.extract()"
   ]
  },
  {
   "cell_type": "code",
   "execution_count": 10,
   "id": "0f41e512",
   "metadata": {},
   "outputs": [],
   "source": [
    "if len(list(experiment_params.map_camp_wave_ids_to_suffixes.keys())) > 1:\n",
    "    if str(list(experiment_params.map_camp_wave_ids_to_suffixes.keys())[0]) != str(list(experiment_params.map_camp_wave_ids_to_suffixes.keys())[1]):\n",
    "        guests_tg = (experiment_guests_communications\n",
    "                  .filter(F.col('group_name') == '0_' +\n",
    "                        str(list(experiment_params.map_camp_wave_ids_to_suffixes.keys())[0]) + '_' +\n",
    "                        list(experiment_params.map_camp_wave_ids_to_suffixes.values())[0])\n",
    "                  .select('customer_rk').distinct()\n",
    "                 )\n",
    "\n",
    "        guests_cg = (experiment_guests_communications\n",
    "                  .filter(F.col('group_name') == '0_' +\n",
    "                        str(list(experiment_params.map_camp_wave_ids_to_suffixes.keys())[1]) + '_' +\n",
    "                        list(experiment_params.map_camp_wave_ids_to_suffixes.values())[1])\n",
    "                  .select('customer_rk').distinct()\n",
    "                 )\n",
    "    else:\n",
    "        print(\"Error - check the camp waves ids\")\n",
    "else:\n",
    "    guests_tg = (experiment_guests_communications\n",
    "              .filter(F.col('group_name') == '0_' +\n",
    "                    str(list(experiment_params.map_camp_wave_ids_to_suffixes.keys())[0]) + '_' +\n",
    "                    list(experiment_params.map_camp_wave_ids_to_suffixes.values())[0])\n",
    "              .select('customer_rk').distinct()\n",
    "             )\n",
    "\n",
    "    guests_cg = (experiment_guests_communications\n",
    "              .filter(F.col('group_name') == '1_' +\n",
    "                    str(list(experiment_params.map_camp_wave_ids_to_suffixes.keys())[0]) + '_' +\n",
    "                    list(experiment_params.map_camp_wave_ids_to_suffixes.values())[0])\n",
    "              .select('customer_rk').distinct()\n",
    "             )"
   ]
  },
  {
   "cell_type": "code",
   "execution_count": 11,
   "id": "11ab99d2",
   "metadata": {},
   "outputs": [],
   "source": [
    "dt1 = datetime.datetime.strptime(experiment_params.date_communication_from, '%Y-%m-%d')\n",
    "dt2 = datetime.datetime.strptime(experiment_params.date_communication_to, '%Y-%m-%d')\n",
    "start_date = datetime.date(dt1.year, dt1.month, dt1.day)\n",
    "end_date = datetime.date(dt2.year, dt2.month, dt2.day)\n",
    "start_date_pre = start_date - datetime.timedelta(days=29.3)\n",
    "end_date_pre = start_date - datetime.timedelta(days=1)\n",
    "start_date_post = end_date + datetime.timedelta(days=1)\n",
    "end_date_post = end_date + datetime.timedelta(days=29.3)"
   ]
  },
  {
   "cell_type": "code",
   "execution_count": 14,
   "id": "137e17ec",
   "metadata": {},
   "outputs": [
    {
     "name": "stderr",
     "output_type": "stream",
     "text": [
      "                                                                                3]]]]]]\r"
     ]
    }
   ],
   "source": [
    "param_pd_period_tg = get_param_general(spark, \n",
    "                    start_date, \n",
    "                    end_date, \n",
    "                    plu_codes,\n",
    "                    guests=guests_tg)\n",
    "param_pd_period_cg = get_param_general(spark, \n",
    "                    start_date, \n",
    "                    end_date, \n",
    "                    plu_codes,\n",
    "                    guests=guests_cg)"
   ]
  },
  {
   "cell_type": "code",
   "execution_count": 15,
   "id": "713c48ff",
   "metadata": {},
   "outputs": [
    {
     "name": "stderr",
     "output_type": "stream",
     "text": [
      "                                                                                ]]]]]3]]]\r"
     ]
    }
   ],
   "source": [
    "param_pd_pre_tg = get_param_general(spark, \n",
    "                    start_date_pre, \n",
    "                    end_date_pre, \n",
    "                    plu_codes,\n",
    "                    guests=guests_tg)\n",
    "param_pd_pre_cg = get_param_general(spark, \n",
    "                    start_date_pre, \n",
    "                    end_date_pre, \n",
    "                    plu_codes,\n",
    "                    guests=guests_cg)"
   ]
  },
  {
   "cell_type": "code",
   "execution_count": 16,
   "id": "c74bcef9",
   "metadata": {},
   "outputs": [
    {
     "name": "stderr",
     "output_type": "stream",
     "text": [
      "                                                                                1840]]0]\r"
     ]
    }
   ],
   "source": [
    "param_pd_post_tg = get_param_general(spark, \n",
    "                    start_date_post, \n",
    "                    end_date_post, \n",
    "                    plu_codes,\n",
    "                    guests=guests_tg)\n",
    "param_pd_post_cg = get_param_general(spark, \n",
    "                    start_date_post, \n",
    "                    end_date_post, \n",
    "                    plu_codes,\n",
    "                    guests=guests_cg)"
   ]
  },
  {
   "cell_type": "code",
   "execution_count": 25,
   "id": "69f10716",
   "metadata": {},
   "outputs": [],
   "source": [
    "val = param_pd_period_tg.append(param_pd_period_cg)"
   ]
  },
  {
   "cell_type": "code",
   "execution_count": 28,
   "id": "a1120ecc",
   "metadata": {},
   "outputs": [],
   "source": [
    "val = val.append(param_pd_pre_tg)\n",
    "val = val.append(param_pd_pre_cg)\n",
    "val = val.append(param_pd_post_tg)\n",
    "val = val.append(param_pd_post_cg)"
   ]
  },
  {
   "cell_type": "markdown",
   "id": "dc9e4c6f",
   "metadata": {},
   "source": [
    "### 2. U-27-10-alpengold-viber-sms-postavschik-2"
   ]
  },
  {
   "cell_type": "code",
   "execution_count": 30,
   "id": "57f9b57d",
   "metadata": {
    "collapsed": false,
    "jupyter": {
     "outputs_hidden": false
    },
    "pycharm": {
     "name": "#%%\n"
    }
   },
   "outputs": [],
   "source": [
    "camp_id = 'U-27-10-alpengold-viber-sms-postavschik-2'\n",
    "\n",
    "experiment_params = ExperimentParams(**{\n",
    "    # Camp wave id нужно записать в виде мапы из id в префиксы.\n",
    "    # Префиксы ни на что не влияют, просто для более красивого названия групп\n",
    "    # Заполняются camp_wave_id. Если для контроля и теста одинаковый, то пишем два раза\n",
    "    'map_camp_wave_ids_to_suffixes': {\n",
    "        76925: \"sms_viber_tg\",\n",
    "        76925: \"sms_viber_cg\"\n",
    "    },\n",
    "\n",
    "    # communication period with guest (sending sms, push, etc.)\n",
    "    'date_communication_from': '2021-12-23',\n",
    "    'date_communication_to': '2021-12-29',\n",
    "\n",
    "    'wave_ids': [\n",
    "        77299 #если нет, то -1\n",
    "    ],\n",
    "\n",
    "    'communication_costs': {\n",
    "        'sms': 1.38,\n",
    "        'viber': 1.32,\n",
    "        'email': 0.0083\n",
    "    }\n",
    "})\n",
    "#0_ + camp_wave_id +_sms_viber_ + cg (если номера волн равны) / tg (если номера волн разные)\n",
    "experiment_guests = ExperimentParticipants(spark, experiment_params)\n",
    "experiment_guests_communications = experiment_guests.extract()"
   ]
  },
  {
   "cell_type": "code",
   "execution_count": 31,
   "id": "2b4c2a78",
   "metadata": {},
   "outputs": [],
   "source": [
    "if len(list(experiment_params.map_camp_wave_ids_to_suffixes.keys())) > 1:\n",
    "    if str(list(experiment_params.map_camp_wave_ids_to_suffixes.keys())[0]) != str(list(experiment_params.map_camp_wave_ids_to_suffixes.keys())[1]):\n",
    "        guests_tg = (experiment_guests_communications\n",
    "                  .filter(F.col('group_name') == '0_' +\n",
    "                        str(list(experiment_params.map_camp_wave_ids_to_suffixes.keys())[0]) + '_' +\n",
    "                        list(experiment_params.map_camp_wave_ids_to_suffixes.values())[0])\n",
    "                  .select('customer_rk').distinct()\n",
    "                 )\n",
    "\n",
    "        guests_cg = (experiment_guests_communications\n",
    "                  .filter(F.col('group_name') == '0_' +\n",
    "                        str(list(experiment_params.map_camp_wave_ids_to_suffixes.keys())[1]) + '_' +\n",
    "                        list(experiment_params.map_camp_wave_ids_to_suffixes.values())[1])\n",
    "                  .select('customer_rk').distinct()\n",
    "                 )\n",
    "    else:\n",
    "        print(\"Error - check the camp waves ids\")\n",
    "else:\n",
    "    guests_tg = (experiment_guests_communications\n",
    "              .filter(F.col('group_name') == '0_' +\n",
    "                    str(list(experiment_params.map_camp_wave_ids_to_suffixes.keys())[0]) + '_' +\n",
    "                    list(experiment_params.map_camp_wave_ids_to_suffixes.values())[0])\n",
    "              .select('customer_rk').distinct()\n",
    "             )\n",
    "\n",
    "    guests_cg = (experiment_guests_communications\n",
    "              .filter(F.col('group_name') == '1_' +\n",
    "                    str(list(experiment_params.map_camp_wave_ids_to_suffixes.keys())[0]) + '_' +\n",
    "                    list(experiment_params.map_camp_wave_ids_to_suffixes.values())[0])\n",
    "              .select('customer_rk').distinct()\n",
    "             )"
   ]
  },
  {
   "cell_type": "code",
   "execution_count": 32,
   "id": "490c8ec7",
   "metadata": {},
   "outputs": [],
   "source": [
    "dt1 = datetime.datetime.strptime(experiment_params.date_communication_from, '%Y-%m-%d')\n",
    "dt2 = datetime.datetime.strptime(experiment_params.date_communication_to, '%Y-%m-%d')\n",
    "start_date = datetime.date(dt1.year, dt1.month, dt1.day)\n",
    "end_date = datetime.date(dt2.year, dt2.month, dt2.day)\n",
    "start_date_pre = start_date - datetime.timedelta(days=29.3)\n",
    "end_date_pre = start_date - datetime.timedelta(days=1)\n",
    "start_date_post = end_date + datetime.timedelta(days=1)\n",
    "end_date_post = end_date + datetime.timedelta(days=29.3)"
   ]
  },
  {
   "cell_type": "code",
   "execution_count": 33,
   "id": "5d678581",
   "metadata": {},
   "outputs": [
    {
     "name": "stderr",
     "output_type": "stream",
     "text": [
      "[Stage 143:===================>                                (75 + 125) / 200]/ 481]]1]]22/03/02 19:19:29 ERROR cluster.YarnScheduler: Lost executor 321 on mn-hd0174.x5.ru: Unable to create executor due to Unable to register with external shuffle server due to : java.util.concurrent.TimeoutException: Timeout waiting for task.\n",
      "                                                                                \r"
     ]
    }
   ],
   "source": [
    "param_pd_period_tg = get_param_general(spark, \n",
    "                    start_date, \n",
    "                    end_date, \n",
    "                    plu_codes,\n",
    "                    guests=guests_tg)\n",
    "param_pd_period_cg = get_param_general(spark, \n",
    "                    start_date, \n",
    "                    end_date, \n",
    "                    plu_codes,\n",
    "                    guests=guests_cg)"
   ]
  },
  {
   "cell_type": "code",
   "execution_count": 34,
   "id": "cc6937ed",
   "metadata": {},
   "outputs": [
    {
     "name": "stderr",
     "output_type": "stream",
     "text": [
      "                                                                                1779]9]]]]]\r"
     ]
    }
   ],
   "source": [
    "param_pd_pre_tg = get_param_general(spark, \n",
    "                    start_date_pre, \n",
    "                    end_date_pre, \n",
    "                    plu_codes,\n",
    "                    guests=guests_tg)\n",
    "param_pd_pre_cg = get_param_general(spark, \n",
    "                    start_date_pre, \n",
    "                    end_date_pre, \n",
    "                    plu_codes,\n",
    "                    guests=guests_cg)"
   ]
  },
  {
   "cell_type": "code",
   "execution_count": 35,
   "id": "7d8e7271",
   "metadata": {},
   "outputs": [
    {
     "name": "stderr",
     "output_type": "stream",
     "text": [
      "                                                                                 1840]]]]]]\r"
     ]
    }
   ],
   "source": [
    "param_pd_post_tg = get_param_general(spark, \n",
    "                    start_date_post, \n",
    "                    end_date_post, \n",
    "                    plu_codes,\n",
    "                    guests=guests_tg)\n",
    "param_pd_post_cg = get_param_general(spark, \n",
    "                    start_date_post, \n",
    "                    end_date_post, \n",
    "                    plu_codes,\n",
    "                    guests=guests_cg)"
   ]
  },
  {
   "cell_type": "code",
   "execution_count": 36,
   "id": "20fdfc9e",
   "metadata": {},
   "outputs": [],
   "source": [
    "val = val.append(param_pd_period_tg)\n",
    "val = val.append(param_pd_period_cg)\n",
    "val = val.append(param_pd_pre_tg)\n",
    "val = val.append(param_pd_pre_cg)\n",
    "val = val.append(param_pd_post_tg)\n",
    "val = val.append(param_pd_post_cg)"
   ]
  },
  {
   "cell_type": "code",
   "execution_count": 23,
   "id": "8c35fe8b",
   "metadata": {},
   "outputs": [],
   "source": [
    "val = pd.read_csv('val.csv')"
   ]
  },
  {
   "cell_type": "code",
   "execution_count": 24,
   "id": "61f88bef",
   "metadata": {},
   "outputs": [
    {
     "data": {
      "text/html": [
       "<div>\n",
       "<style scoped>\n",
       "    .dataframe tbody tr th:only-of-type {\n",
       "        vertical-align: middle;\n",
       "    }\n",
       "\n",
       "    .dataframe tbody tr th {\n",
       "        vertical-align: top;\n",
       "    }\n",
       "\n",
       "    .dataframe thead th {\n",
       "        text-align: right;\n",
       "    }\n",
       "</style>\n",
       "<table border=\"1\" class=\"dataframe\">\n",
       "  <thead>\n",
       "    <tr style=\"text-align: right;\">\n",
       "      <th></th>\n",
       "      <th>guest_qty</th>\n",
       "      <th>product_qty</th>\n",
       "      <th>rto_vat</th>\n",
       "      <th>rto_novat</th>\n",
       "    </tr>\n",
       "  </thead>\n",
       "  <tbody>\n",
       "    <tr>\n",
       "      <th>0</th>\n",
       "      <td>52592</td>\n",
       "      <td>115,454.00</td>\n",
       "      <td>5,434,428.79</td>\n",
       "      <td>4,528,808.31</td>\n",
       "    </tr>\n",
       "    <tr>\n",
       "      <th>1</th>\n",
       "      <td>4329</td>\n",
       "      <td>9,166.00</td>\n",
       "      <td>444,662.55</td>\n",
       "      <td>370,562.44</td>\n",
       "    </tr>\n",
       "    <tr>\n",
       "      <th>2</th>\n",
       "      <td>144062</td>\n",
       "      <td>331,325.00</td>\n",
       "      <td>16,531,790.72</td>\n",
       "      <td>13,776,537.99</td>\n",
       "    </tr>\n",
       "    <tr>\n",
       "      <th>3</th>\n",
       "      <td>14068</td>\n",
       "      <td>32,927.00</td>\n",
       "      <td>1,632,362.96</td>\n",
       "      <td>1,360,305.28</td>\n",
       "    </tr>\n",
       "    <tr>\n",
       "      <th>4</th>\n",
       "      <td>97251</td>\n",
       "      <td>219,265.00</td>\n",
       "      <td>11,479,642.38</td>\n",
       "      <td>9,566,617.90</td>\n",
       "    </tr>\n",
       "    <tr>\n",
       "      <th>5</th>\n",
       "      <td>9412</td>\n",
       "      <td>21,401.00</td>\n",
       "      <td>1,124,409.65</td>\n",
       "      <td>937,031.56</td>\n",
       "    </tr>\n",
       "    <tr>\n",
       "      <th>6</th>\n",
       "      <td>49920</td>\n",
       "      <td>109,312.00</td>\n",
       "      <td>5,121,530.59</td>\n",
       "      <td>4,268,050.17</td>\n",
       "    </tr>\n",
       "    <tr>\n",
       "      <th>7</th>\n",
       "      <td>6053</td>\n",
       "      <td>14,065.00</td>\n",
       "      <td>663,120.20</td>\n",
       "      <td>552,614.63</td>\n",
       "    </tr>\n",
       "    <tr>\n",
       "      <th>8</th>\n",
       "      <td>120813</td>\n",
       "      <td>285,642.00</td>\n",
       "      <td>14,192,577.04</td>\n",
       "      <td>11,827,191.50</td>\n",
       "    </tr>\n",
       "    <tr>\n",
       "      <th>9</th>\n",
       "      <td>16642</td>\n",
       "      <td>39,408.00</td>\n",
       "      <td>1,963,348.06</td>\n",
       "      <td>1,636,126.44</td>\n",
       "    </tr>\n",
       "    <tr>\n",
       "      <th>10</th>\n",
       "      <td>85505</td>\n",
       "      <td>197,461.00</td>\n",
       "      <td>10,162,540.58</td>\n",
       "      <td>8,469,002.71</td>\n",
       "    </tr>\n",
       "    <tr>\n",
       "      <th>11</th>\n",
       "      <td>11861</td>\n",
       "      <td>27,156.00</td>\n",
       "      <td>1,417,735.66</td>\n",
       "      <td>1,181,477.02</td>\n",
       "    </tr>\n",
       "  </tbody>\n",
       "</table>\n",
       "</div>"
      ],
      "text/plain": [
       "    guest_qty  product_qty       rto_vat     rto_novat\n",
       "0       52592   115,454.00  5,434,428.79  4,528,808.31\n",
       "1        4329     9,166.00    444,662.55    370,562.44\n",
       "2      144062   331,325.00 16,531,790.72 13,776,537.99\n",
       "3       14068    32,927.00  1,632,362.96  1,360,305.28\n",
       "4       97251   219,265.00 11,479,642.38  9,566,617.90\n",
       "5        9412    21,401.00  1,124,409.65    937,031.56\n",
       "6       49920   109,312.00  5,121,530.59  4,268,050.17\n",
       "7        6053    14,065.00    663,120.20    552,614.63\n",
       "8      120813   285,642.00 14,192,577.04 11,827,191.50\n",
       "9       16642    39,408.00  1,963,348.06  1,636,126.44\n",
       "10      85505   197,461.00 10,162,540.58  8,469,002.71\n",
       "11      11861    27,156.00  1,417,735.66  1,181,477.02"
      ]
     },
     "execution_count": 24,
     "metadata": {},
     "output_type": "execute_result"
    }
   ],
   "source": [
    "val"
   ]
  },
  {
   "cell_type": "markdown",
   "id": "a8bd8ccb",
   "metadata": {},
   "source": [
    "### 3. X-27-43-Mondelez-AlpenGold-Slip-sof"
   ]
  },
  {
   "cell_type": "code",
   "execution_count": 25,
   "id": "79c11604",
   "metadata": {
    "collapsed": false,
    "jupyter": {
     "outputs_hidden": false
    },
    "pycharm": {
     "name": "#%%\n"
    }
   },
   "outputs": [],
   "source": [
    "camp_id = 'X-27-43-Mondelez-AlpenGold-Slip-sof'\n",
    "\n",
    "experiment_params = ExperimentParams(**{\n",
    "    # Camp wave id нужно записать в виде мапы из id в префиксы.\n",
    "    # Префиксы ни на что не влияют, просто для более красивого названия групп\n",
    "    # Заполняются camp_wave_id. Если для контроля и теста одинаковый, то пишем два раза\n",
    "    'map_camp_wave_ids_to_suffixes': {\n",
    "        75755: \"sms_viber_tg\",\n",
    "        75770: \"sms_viber_tg\",\n",
    "        75753: \"sms_viber_cg\"\n",
    "    },\n",
    "\n",
    "    # communication period with guest (sending sms, push, etc.)\n",
    "    'date_communication_from': '2021-12-15',\n",
    "    'date_communication_to': '2021-12-22',\n",
    "\n",
    "    'wave_ids': [\n",
    "        -1 #если нет, то -1\n",
    "    ],\n",
    "\n",
    "    'communication_costs': {\n",
    "        'sms': 1.38,\n",
    "        'viber': 1.32,\n",
    "        'email': 0.0083\n",
    "    }\n",
    "})\n",
    "#0_ + camp_wave_id +_sms_viber_ + cg (если номера волн равны) / tg (если номера волн разные)\n",
    "experiment_guests = ExperimentParticipants(spark, experiment_params)\n",
    "experiment_guests_communications = experiment_guests.extract()"
   ]
  },
  {
   "cell_type": "code",
   "execution_count": 26,
   "id": "6b3577ad",
   "metadata": {},
   "outputs": [],
   "source": [
    "guests_tg = (experiment_guests_communications\n",
    "                  .filter(F.col('group_name').isin(['0_75770_sms_viber_tg', '0_75755_sms_viber_tg']))\n",
    "                  .select('customer_rk').distinct()\n",
    "                 )\n",
    "\n",
    "guests_cg = (experiment_guests_communications\n",
    "                  .filter(F.col('group_name').isin(['0_75753_sms_viber_cg']))\n",
    "                  .select('customer_rk').distinct()\n",
    "                 )"
   ]
  },
  {
   "cell_type": "code",
   "execution_count": 27,
   "id": "aeb2c640",
   "metadata": {},
   "outputs": [],
   "source": [
    "# if len(list(experiment_params.map_camp_wave_ids_to_suffixes.keys())) > 1:\n",
    "#     if str(list(experiment_params.map_camp_wave_ids_to_suffixes.keys())[0]) != str(list(experiment_params.map_camp_wave_ids_to_suffixes.keys())[1]):\n",
    "#         guests_tg = (experiment_guests_communications\n",
    "#                   .filter(F.col('group_name') == '0_' +\n",
    "#                         str(list(experiment_params.map_camp_wave_ids_to_suffixes.keys())[0]) + '_' +\n",
    "#                         list(experiment_params.map_camp_wave_ids_to_suffixes.values())[0])\n",
    "#                   .select('customer_rk').distinct()\n",
    "#                  )\n",
    "\n",
    "#         guests_cg = (experiment_guests_communications\n",
    "#                   .filter(F.col('group_name') == '0_' +\n",
    "#                         str(list(experiment_params.map_camp_wave_ids_to_suffixes.keys())[1]) + '_' +\n",
    "#                         list(experiment_params.map_camp_wave_ids_to_suffixes.values())[1])\n",
    "#                   .select('customer_rk').distinct()\n",
    "#                  )\n",
    "#     else:\n",
    "#         print(\"Error - check the camp waves ids\")\n",
    "# else:\n",
    "#     guests_tg = (experiment_guests_communications\n",
    "#               .filter(F.col('group_name') == '0_' +\n",
    "#                     str(list(experiment_params.map_camp_wave_ids_to_suffixes.keys())[0]) + '_' +\n",
    "#                     list(experiment_params.map_camp_wave_ids_to_suffixes.values())[0])\n",
    "#               .select('customer_rk').distinct()\n",
    "#              )\n",
    "\n",
    "#     guests_cg = (experiment_guests_communications\n",
    "#               .filter(F.col('group_name') == '1_' +\n",
    "#                     str(list(experiment_params.map_camp_wave_ids_to_suffixes.keys())[0]) + '_' +\n",
    "#                     list(experiment_params.map_camp_wave_ids_to_suffixes.values())[0])\n",
    "#               .select('customer_rk').distinct()\n",
    "#              )"
   ]
  },
  {
   "cell_type": "code",
   "execution_count": 28,
   "id": "58bdf4e2",
   "metadata": {},
   "outputs": [],
   "source": [
    "dt1 = datetime.datetime.strptime(experiment_params.date_communication_from, '%Y-%m-%d')\n",
    "dt2 = datetime.datetime.strptime(experiment_params.date_communication_to, '%Y-%m-%d')\n",
    "start_date = datetime.date(dt1.year, dt1.month, dt1.day)\n",
    "end_date = datetime.date(dt2.year, dt2.month, dt2.day)\n",
    "start_date_pre = start_date - datetime.timedelta(days=29.3)\n",
    "end_date_pre = start_date - datetime.timedelta(days=1)\n",
    "start_date_post = end_date + datetime.timedelta(days=1)\n",
    "end_date_post = end_date + datetime.timedelta(days=29.3)"
   ]
  },
  {
   "cell_type": "code",
   "execution_count": 29,
   "id": "10f7a540",
   "metadata": {},
   "outputs": [
    {
     "name": "stderr",
     "output_type": "stream",
     "text": [
      "[Stage 6:=====================================================> (196 + 4) / 200]21]]]]22/03/03 11:35:07 ERROR cluster.YarnScheduler: Lost executor 16 on mn-hd0289.x5.ru: Executor heartbeat timed out after 152114 ms\n",
      "22/03/03 11:35:07 ERROR cluster.YarnScheduler: Lost executor 31 on mn-hd0289.x5.ru: Executor heartbeat timed out after 165089 ms\n",
      "[Stage 6:=====================================================> (196 + 4) / 200]22/03/03 11:38:49 ERROR cluster.YarnScheduler: Lost executor 16 on mn-hd0289.x5.ru: Container container_e1417_1646277014121_4117_01_000024 exited from explicit termination request.\n",
      "[Stage 6:=====================================================> (196 + 1) / 200]22/03/03 11:38:50 ERROR cluster.YarnScheduler: Lost executor 31 on mn-hd0289.x5.ru: Container container_e1417_1646277014121_4117_01_000043 exited from explicit termination request.\n",
      "                                                                                221]]]]]]\r"
     ]
    }
   ],
   "source": [
    "param_pd_period_tg = get_param_general(spark, \n",
    "                    start_date, \n",
    "                    end_date, \n",
    "                    plu_codes,\n",
    "                    guests=guests_tg)\n",
    "param_pd_period_cg = get_param_general(spark, \n",
    "                    start_date, \n",
    "                    end_date, \n",
    "                    plu_codes,\n",
    "                    guests=guests_cg)"
   ]
  },
  {
   "cell_type": "code",
   "execution_count": 30,
   "id": "6dff5c6c",
   "metadata": {},
   "outputs": [
    {
     "name": "stderr",
     "output_type": "stream",
     "text": [
      "                                                                                779]]]]]]\r"
     ]
    }
   ],
   "source": [
    "param_pd_pre_tg = get_param_general(spark, \n",
    "                    start_date_pre, \n",
    "                    end_date_pre, \n",
    "                    plu_codes,\n",
    "                    guests=guests_tg)\n",
    "param_pd_pre_cg = get_param_general(spark, \n",
    "                    start_date_pre, \n",
    "                    end_date_pre, \n",
    "                    plu_codes,\n",
    "                    guests=guests_cg)"
   ]
  },
  {
   "cell_type": "code",
   "execution_count": 31,
   "id": "c1a7c7a4",
   "metadata": {},
   "outputs": [
    {
     "name": "stderr",
     "output_type": "stream",
     "text": [
      "                                                                                797]]]]]\r"
     ]
    }
   ],
   "source": [
    "param_pd_post_tg = get_param_general(spark, \n",
    "                    start_date_post, \n",
    "                    end_date_post, \n",
    "                    plu_codes,\n",
    "                    guests=guests_tg)\n",
    "param_pd_post_cg = get_param_general(spark, \n",
    "                    start_date_post, \n",
    "                    end_date_post, \n",
    "                    plu_codes,\n",
    "                    guests=guests_cg)"
   ]
  },
  {
   "cell_type": "code",
   "execution_count": 32,
   "id": "983adfbf",
   "metadata": {},
   "outputs": [],
   "source": [
    "val = val.append(param_pd_period_tg)\n",
    "val = val.append(param_pd_period_cg)\n",
    "val = val.append(param_pd_pre_tg)\n",
    "val = val.append(param_pd_pre_cg)\n",
    "val = val.append(param_pd_post_tg)\n",
    "val = val.append(param_pd_post_cg)"
   ]
  },
  {
   "cell_type": "code",
   "execution_count": 35,
   "id": "32d8c15d",
   "metadata": {},
   "outputs": [],
   "source": [
    "val.to_csv('val.csv', index=False)"
   ]
  },
  {
   "cell_type": "markdown",
   "id": "d691ad00",
   "metadata": {},
   "source": [
    "### 4. X-27-36-Mondelez-AlpenGold-sof"
   ]
  },
  {
   "cell_type": "code",
   "execution_count": 36,
   "id": "3c22b06a",
   "metadata": {
    "collapsed": false,
    "jupyter": {
     "outputs_hidden": false
    },
    "pycharm": {
     "name": "#%%\n"
    }
   },
   "outputs": [],
   "source": [
    "camp_id = 'X-27-36-Mondelez-AlpenGold-sof'\n",
    "\n",
    "experiment_params = ExperimentParams(**{\n",
    "    # Camp wave id нужно записать в виде мапы из id в префиксы.\n",
    "    # Префиксы ни на что не влияют, просто для более красивого названия групп\n",
    "    # Заполняются camp_wave_id. Если для контроля и теста одинаковый, то пишем два раза\n",
    "    'map_camp_wave_ids_to_suffixes': {\n",
    "        75054: \"sms_viber_tg\",\n",
    "        75056: \"sms_viber_tg\",\n",
    "        75057: \"sms_viber_tg\",\n",
    "        75058: \"sms_viber_tg\",\n",
    "        75061: \"sms_viber_tg\",\n",
    "        75052: \"sms_viber_cg\"\n",
    "    },\n",
    "\n",
    "    # communication period with guest (sending sms, push, etc.)\n",
    "    'date_communication_from': '2021-12-13',\n",
    "    'date_communication_to': '2021-12-22',\n",
    "\n",
    "    'wave_ids': [\n",
    "        75427, 75444, 75452 #если нет, то -1\n",
    "    ],\n",
    "\n",
    "    'communication_costs': {\n",
    "        'sms': 1.38,\n",
    "        'viber': 1.32,\n",
    "        'email': 0.0083\n",
    "    }\n",
    "})\n",
    "#0_ + camp_wave_id +_sms_viber_ + cg (если номера волн равны) / tg (если номера волн разные)\n",
    "experiment_guests = ExperimentParticipants(spark, experiment_params)\n",
    "experiment_guests_communications = experiment_guests.extract()"
   ]
  },
  {
   "cell_type": "code",
   "execution_count": 37,
   "id": "7dc5d88f",
   "metadata": {},
   "outputs": [],
   "source": [
    "guests_tg = (experiment_guests_communications\n",
    "                  .filter(F.col('group_name').isin(['0_75054_sms_viber_tg', '0_75056_sms_viber_tg', '0_75057_sms_viber_tg',\n",
    "                                                   '0_75058_sms_viber_tg', '0_75061_sms_viber_tg']))\n",
    "                  .select('customer_rk').distinct()\n",
    "                 )\n",
    "\n",
    "guests_cg = (experiment_guests_communications\n",
    "                  .filter(F.col('group_name').isin(['0_75052_sms_viber_cg']))\n",
    "                  .select('customer_rk').distinct()\n",
    "                 )"
   ]
  },
  {
   "cell_type": "code",
   "execution_count": null,
   "id": "3956883c",
   "metadata": {},
   "outputs": [],
   "source": [
    "# if len(list(experiment_params.map_camp_wave_ids_to_suffixes.keys())) > 1:\n",
    "#     if str(list(experiment_params.map_camp_wave_ids_to_suffixes.keys())[0]) != str(list(experiment_params.map_camp_wave_ids_to_suffixes.keys())[1]):\n",
    "#         guests_tg = (experiment_guests_communications\n",
    "#                   .filter(F.col('group_name') == '0_' +\n",
    "#                         str(list(experiment_params.map_camp_wave_ids_to_suffixes.keys())[0]) + '_' +\n",
    "#                         list(experiment_params.map_camp_wave_ids_to_suffixes.values())[0])\n",
    "#                   .select('customer_rk').distinct()\n",
    "#                  )\n",
    "\n",
    "#         guests_cg = (experiment_guests_communications\n",
    "#                   .filter(F.col('group_name') == '0_' +\n",
    "#                         str(list(experiment_params.map_camp_wave_ids_to_suffixes.keys())[1]) + '_' +\n",
    "#                         list(experiment_params.map_camp_wave_ids_to_suffixes.values())[1])\n",
    "#                   .select('customer_rk').distinct()\n",
    "#                  )\n",
    "#     else:\n",
    "#         print(\"Error - check the camp waves ids\")\n",
    "# else:\n",
    "#     guests_tg = (experiment_guests_communications\n",
    "#               .filter(F.col('group_name') == '0_' +\n",
    "#                     str(list(experiment_params.map_camp_wave_ids_to_suffixes.keys())[0]) + '_' +\n",
    "#                     list(experiment_params.map_camp_wave_ids_to_suffixes.values())[0])\n",
    "#               .select('customer_rk').distinct()\n",
    "#              )\n",
    "\n",
    "#     guests_cg = (experiment_guests_communications\n",
    "#               .filter(F.col('group_name') == '1_' +\n",
    "#                     str(list(experiment_params.map_camp_wave_ids_to_suffixes.keys())[0]) + '_' +\n",
    "#                     list(experiment_params.map_camp_wave_ids_to_suffixes.values())[0])\n",
    "#               .select('customer_rk').distinct()\n",
    "#              )"
   ]
  },
  {
   "cell_type": "code",
   "execution_count": 38,
   "id": "70ce2207",
   "metadata": {},
   "outputs": [],
   "source": [
    "dt1 = datetime.datetime.strptime(experiment_params.date_communication_from, '%Y-%m-%d')\n",
    "dt2 = datetime.datetime.strptime(experiment_params.date_communication_to, '%Y-%m-%d')\n",
    "start_date = datetime.date(dt1.year, dt1.month, dt1.day)\n",
    "end_date = datetime.date(dt2.year, dt2.month, dt2.day)\n",
    "start_date_pre = start_date - datetime.timedelta(days=29.3)\n",
    "end_date_pre = start_date - datetime.timedelta(days=1)\n",
    "start_date_post = end_date + datetime.timedelta(days=1)\n",
    "end_date_post = end_date + datetime.timedelta(days=29.3)"
   ]
  },
  {
   "cell_type": "code",
   "execution_count": 39,
   "id": "8d1b43da",
   "metadata": {},
   "outputs": [
    {
     "name": "stderr",
     "output_type": "stream",
     "text": [
      "                                                                                / 200]]]]]]\r"
     ]
    }
   ],
   "source": [
    "param_pd_period_tg = get_param_general(spark, \n",
    "                    start_date, \n",
    "                    end_date, \n",
    "                    plu_codes,\n",
    "                    guests=guests_tg)\n",
    "param_pd_period_cg = get_param_general(spark, \n",
    "                    start_date, \n",
    "                    end_date, \n",
    "                    plu_codes,\n",
    "                    guests=guests_cg)"
   ]
  },
  {
   "cell_type": "code",
   "execution_count": 40,
   "id": "bd1a4f50",
   "metadata": {},
   "outputs": [
    {
     "name": "stderr",
     "output_type": "stream",
     "text": [
      "                                                                                779]]779]]]]\r"
     ]
    }
   ],
   "source": [
    "param_pd_pre_tg = get_param_general(spark, \n",
    "                    start_date_pre, \n",
    "                    end_date_pre, \n",
    "                    plu_codes,\n",
    "                    guests=guests_tg)\n",
    "param_pd_pre_cg = get_param_general(spark, \n",
    "                    start_date_pre, \n",
    "                    end_date_pre, \n",
    "                    plu_codes,\n",
    "                    guests=guests_cg)"
   ]
  },
  {
   "cell_type": "code",
   "execution_count": 41,
   "id": "f29d7e67",
   "metadata": {},
   "outputs": [
    {
     "name": "stderr",
     "output_type": "stream",
     "text": [
      "                                                                                 1797]]]]]]]\r"
     ]
    }
   ],
   "source": [
    "param_pd_post_tg = get_param_general(spark, \n",
    "                    start_date_post, \n",
    "                    end_date_post, \n",
    "                    plu_codes,\n",
    "                    guests=guests_tg)\n",
    "param_pd_post_cg = get_param_general(spark, \n",
    "                    start_date_post, \n",
    "                    end_date_post, \n",
    "                    plu_codes,\n",
    "                    guests=guests_cg)"
   ]
  },
  {
   "cell_type": "code",
   "execution_count": 42,
   "id": "24dc2c84",
   "metadata": {},
   "outputs": [],
   "source": [
    "val = val.append(param_pd_period_tg)\n",
    "val = val.append(param_pd_period_cg)\n",
    "val = val.append(param_pd_pre_tg)\n",
    "val = val.append(param_pd_pre_cg)\n",
    "val = val.append(param_pd_post_tg)\n",
    "val = val.append(param_pd_post_cg)"
   ]
  },
  {
   "cell_type": "markdown",
   "id": "72226736",
   "metadata": {},
   "source": [
    "### 5. A-27-15-alpengold-chocolate"
   ]
  },
  {
   "cell_type": "code",
   "execution_count": 44,
   "id": "39e7e9df",
   "metadata": {
    "collapsed": false,
    "jupyter": {
     "outputs_hidden": false
    },
    "pycharm": {
     "name": "#%%\n"
    }
   },
   "outputs": [],
   "source": [
    "camp_id = 'A-27-15-alpengold-chocolate'\n",
    "\n",
    "experiment_params = ExperimentParams(**{\n",
    "    # Camp wave id нужно записать в виде мапы из id в префиксы.\n",
    "    # Префиксы ни на что не влияют, просто для более красивого названия групп\n",
    "    # Заполняются camp_wave_id. Если для контроля и теста одинаковый, то пишем два раза\n",
    "    'map_camp_wave_ids_to_suffixes': {\n",
    "        75019: \"sms_viber_tg\",\n",
    "        75025: \"sms_viber_cg\"\n",
    "    },\n",
    "\n",
    "    # communication period with guest (sending sms, push, etc.)\n",
    "    'date_communication_from': '2021-12-13',\n",
    "    'date_communication_to': '2021-12-22',\n",
    "\n",
    "    'wave_ids': [\n",
    "        75419 #если нет, то -1\n",
    "    ],\n",
    "\n",
    "    'communication_costs': {\n",
    "        'sms': 1.38,\n",
    "        'viber': 1.32,\n",
    "        'email': 0.0083\n",
    "    }\n",
    "})\n",
    "#0_ + camp_wave_id +_sms_viber_ + cg (если номера волн равны) / tg (если номера волн разные)\n",
    "experiment_guests = ExperimentParticipants(spark, experiment_params)\n",
    "experiment_guests_communications = experiment_guests.extract()"
   ]
  },
  {
   "cell_type": "code",
   "execution_count": 45,
   "id": "9fd9cd1c",
   "metadata": {},
   "outputs": [],
   "source": [
    "# guests_tg = (experiment_guests_communications\n",
    "#                   .filter(F.col('group_name').isin(['0_75054_sms_viber_tg', '0_75056_sms_viber_tg', '0_75057_sms_viber_tg',\n",
    "#                                                    '0_75058_sms_viber_tg', '0_75061_sms_viber_tg']))\n",
    "#                   .select('customer_rk').distinct()\n",
    "#                  )\n",
    "\n",
    "# guests_cg = (experiment_guests_communications\n",
    "#                   .filter(F.col('group_name').isin(['0_75052_sms_viber_cg']))\n",
    "#                   .select('customer_rk').distinct()\n",
    "#                  )"
   ]
  },
  {
   "cell_type": "code",
   "execution_count": 46,
   "id": "63e0dd05",
   "metadata": {},
   "outputs": [],
   "source": [
    "if len(list(experiment_params.map_camp_wave_ids_to_suffixes.keys())) > 1:\n",
    "    if str(list(experiment_params.map_camp_wave_ids_to_suffixes.keys())[0]) != str(list(experiment_params.map_camp_wave_ids_to_suffixes.keys())[1]):\n",
    "        guests_tg = (experiment_guests_communications\n",
    "                  .filter(F.col('group_name') == '0_' +\n",
    "                        str(list(experiment_params.map_camp_wave_ids_to_suffixes.keys())[0]) + '_' +\n",
    "                        list(experiment_params.map_camp_wave_ids_to_suffixes.values())[0])\n",
    "                  .select('customer_rk').distinct()\n",
    "                 )\n",
    "\n",
    "        guests_cg = (experiment_guests_communications\n",
    "                  .filter(F.col('group_name') == '0_' +\n",
    "                        str(list(experiment_params.map_camp_wave_ids_to_suffixes.keys())[1]) + '_' +\n",
    "                        list(experiment_params.map_camp_wave_ids_to_suffixes.values())[1])\n",
    "                  .select('customer_rk').distinct()\n",
    "                 )\n",
    "    else:\n",
    "        print(\"Error - check the camp waves ids\")\n",
    "else:\n",
    "    guests_tg = (experiment_guests_communications\n",
    "              .filter(F.col('group_name') == '0_' +\n",
    "                    str(list(experiment_params.map_camp_wave_ids_to_suffixes.keys())[0]) + '_' +\n",
    "                    list(experiment_params.map_camp_wave_ids_to_suffixes.values())[0])\n",
    "              .select('customer_rk').distinct()\n",
    "             )\n",
    "\n",
    "    guests_cg = (experiment_guests_communications\n",
    "              .filter(F.col('group_name') == '1_' +\n",
    "                    str(list(experiment_params.map_camp_wave_ids_to_suffixes.keys())[0]) + '_' +\n",
    "                    list(experiment_params.map_camp_wave_ids_to_suffixes.values())[0])\n",
    "              .select('customer_rk').distinct()\n",
    "             )"
   ]
  },
  {
   "cell_type": "code",
   "execution_count": 47,
   "id": "d93aaa88",
   "metadata": {},
   "outputs": [],
   "source": [
    "dt1 = datetime.datetime.strptime(experiment_params.date_communication_from, '%Y-%m-%d')\n",
    "dt2 = datetime.datetime.strptime(experiment_params.date_communication_to, '%Y-%m-%d')\n",
    "start_date = datetime.date(dt1.year, dt1.month, dt1.day)\n",
    "end_date = datetime.date(dt2.year, dt2.month, dt2.day)\n",
    "start_date_pre = start_date - datetime.timedelta(days=29.3)\n",
    "end_date_pre = start_date - datetime.timedelta(days=1)\n",
    "start_date_post = end_date + datetime.timedelta(days=1)\n",
    "end_date_post = end_date + datetime.timedelta(days=29.3)"
   ]
  },
  {
   "cell_type": "code",
   "execution_count": 48,
   "id": "d4f5b947",
   "metadata": {},
   "outputs": [
    {
     "name": "stderr",
     "output_type": "stream",
     "text": [
      "[Stage 234:=============================>                      (114 + 30) / 200]22/03/03 13:40:08 ERROR client.TransportClient: Failed to send RPC RPC 7469533293447730863 to /192.168.234.74:49958: java.nio.channels.ClosedChannelException\n",
      "java.nio.channels.ClosedChannelException\n",
      "\tat io.netty.channel.AbstractChannel$AbstractUnsafe.write(...)(Unknown Source)\n",
      "22/03/03 13:40:08 ERROR cluster.YarnSchedulerBackend$YarnSchedulerEndpoint: Sending RequestExecutors(14,200,Map(mn-hd0144.x5.ru -> 200),Set()) to AM was unsuccessful\n",
      "java.io.IOException: Failed to send RPC RPC 7469533293447730863 to /192.168.234.74:49958: java.nio.channels.ClosedChannelException\n",
      "\tat org.apache.spark.network.client.TransportClient$RpcChannelListener.handleFailure(TransportClient.java:362)\n",
      "\tat org.apache.spark.network.client.TransportClient$StdChannelListener.operationComplete(TransportClient.java:339)\n",
      "\tat io.netty.util.concurrent.DefaultPromise.notifyListener0(DefaultPromise.java:507)\n",
      "\tat io.netty.util.concurrent.DefaultPromise.notifyListenersNow(DefaultPromise.java:481)\n",
      "\tat io.netty.util.concurrent.DefaultPromise.notifyListeners(DefaultPromise.java:420)\n",
      "\tat io.netty.util.concurrent.DefaultPromise.tryFailure(DefaultPromise.java:122)\n",
      "\tat io.netty.channel.AbstractChannel$AbstractUnsafe.safeSetFailure(AbstractChannel.java:987)\n",
      "\tat io.netty.channel.AbstractChannel$AbstractUnsafe.write(AbstractChannel.java:869)\n",
      "\tat io.netty.channel.DefaultChannelPipeline$HeadContext.write(DefaultChannelPipeline.java:1316)\n",
      "\tat io.netty.channel.AbstractChannelHandlerContext.invokeWrite0(AbstractChannelHandlerContext.java:738)\n",
      "\tat io.netty.channel.AbstractChannelHandlerContext.invokeWrite(AbstractChannelHandlerContext.java:730)\n",
      "\tat io.netty.channel.AbstractChannelHandlerContext.access$1900(AbstractChannelHandlerContext.java:38)\n",
      "\tat io.netty.channel.AbstractChannelHandlerContext$AbstractWriteTask.write(AbstractChannelHandlerContext.java:1081)\n",
      "\tat io.netty.channel.AbstractChannelHandlerContext$WriteAndFlushTask.write(AbstractChannelHandlerContext.java:1128)\n",
      "\tat io.netty.channel.AbstractChannelHandlerContext$AbstractWriteTask.run(AbstractChannelHandlerContext.java:1070)\n",
      "\tat io.netty.util.concurrent.AbstractEventExecutor.safeExecute(AbstractEventExecutor.java:163)\n",
      "\tat io.netty.util.concurrent.SingleThreadEventExecutor.runAllTasks(SingleThreadEventExecutor.java:403)\n",
      "\tat io.netty.channel.nio.NioEventLoop.run(NioEventLoop.java:463)\n",
      "\tat io.netty.util.concurrent.SingleThreadEventExecutor$5.run(SingleThreadEventExecutor.java:858)\n",
      "\tat io.netty.util.concurrent.DefaultThreadFactory$DefaultRunnableDecorator.run(DefaultThreadFactory.java:138)\n",
      "\tat java.lang.Thread.run(Thread.java:748)\n",
      "Caused by: java.nio.channels.ClosedChannelException\n",
      "\tat io.netty.channel.AbstractChannel$AbstractUnsafe.write(...)(Unknown Source)\n",
      "[Stage 234:================================>                   (125 + 30) / 200]22/03/03 13:40:09 ERROR client.TransportClient: Failed to send RPC RPC 8017540414799045440 to /192.168.234.74:49958: java.nio.channels.ClosedChannelException\n",
      "java.nio.channels.ClosedChannelException\n",
      "\tat io.netty.channel.AbstractChannel$AbstractUnsafe.write(...)(Unknown Source)\n",
      "22/03/03 13:40:09 ERROR cluster.YarnSchedulerBackend$YarnSchedulerEndpoint: Sending RequestExecutors(14,200,Map(mn-hd0144.x5.ru -> 200),Set()) to AM was unsuccessful\n",
      "java.io.IOException: Failed to send RPC RPC 8017540414799045440 to /192.168.234.74:49958: java.nio.channels.ClosedChannelException\n",
      "\tat org.apache.spark.network.client.TransportClient$RpcChannelListener.handleFailure(TransportClient.java:362)\n",
      "\tat org.apache.spark.network.client.TransportClient$StdChannelListener.operationComplete(TransportClient.java:339)\n",
      "\tat io.netty.util.concurrent.DefaultPromise.notifyListener0(DefaultPromise.java:507)\n",
      "\tat io.netty.util.concurrent.DefaultPromise.notifyListenersNow(DefaultPromise.java:481)\n",
      "\tat io.netty.util.concurrent.DefaultPromise.notifyListeners(DefaultPromise.java:420)\n",
      "\tat io.netty.util.concurrent.DefaultPromise.tryFailure(DefaultPromise.java:122)\n",
      "\tat io.netty.channel.AbstractChannel$AbstractUnsafe.safeSetFailure(AbstractChannel.java:987)\n",
      "\tat io.netty.channel.AbstractChannel$AbstractUnsafe.write(AbstractChannel.java:869)\n",
      "\tat io.netty.channel.DefaultChannelPipeline$HeadContext.write(DefaultChannelPipeline.java:1316)\n",
      "\tat io.netty.channel.AbstractChannelHandlerContext.invokeWrite0(AbstractChannelHandlerContext.java:738)\n",
      "\tat io.netty.channel.AbstractChannelHandlerContext.invokeWrite(AbstractChannelHandlerContext.java:730)\n",
      "\tat io.netty.channel.AbstractChannelHandlerContext.access$1900(AbstractChannelHandlerContext.java:38)\n",
      "\tat io.netty.channel.AbstractChannelHandlerContext$AbstractWriteTask.write(AbstractChannelHandlerContext.java:1081)\n",
      "\tat io.netty.channel.AbstractChannelHandlerContext$WriteAndFlushTask.write(AbstractChannelHandlerContext.java:1128)\n",
      "\tat io.netty.channel.AbstractChannelHandlerContext$AbstractWriteTask.run(AbstractChannelHandlerContext.java:1070)\n",
      "\tat io.netty.util.concurrent.AbstractEventExecutor.safeExecute(AbstractEventExecutor.java:163)\n",
      "\tat io.netty.util.concurrent.SingleThreadEventExecutor.runAllTasks(SingleThreadEventExecutor.java:403)\n",
      "\tat io.netty.channel.nio.NioEventLoop.run(NioEventLoop.java:463)\n",
      "\tat io.netty.util.concurrent.SingleThreadEventExecutor$5.run(SingleThreadEventExecutor.java:858)\n",
      "\tat io.netty.util.concurrent.DefaultThreadFactory$DefaultRunnableDecorator.run(DefaultThreadFactory.java:138)\n",
      "\tat java.lang.Thread.run(Thread.java:748)\n",
      "Caused by: java.nio.channels.ClosedChannelException\n",
      "\tat io.netty.channel.AbstractChannel$AbstractUnsafe.write(...)(Unknown Source)\n",
      "[Stage 234:==================================>                 (133 + 30) / 200]22/03/03 13:40:10 ERROR client.TransportClient: Failed to send RPC RPC 5682130059447044873 to /192.168.234.74:49958: java.nio.channels.ClosedChannelException\n",
      "java.nio.channels.ClosedChannelException\n",
      "\tat io.netty.channel.AbstractChannel$AbstractUnsafe.write(...)(Unknown Source)\n",
      "22/03/03 13:40:10 ERROR cluster.YarnSchedulerBackend$YarnSchedulerEndpoint: Sending RequestExecutors(13,200,Map(mn-hd0144.x5.ru -> 200),Set()) to AM was unsuccessful\n",
      "java.io.IOException: Failed to send RPC RPC 5682130059447044873 to /192.168.234.74:49958: java.nio.channels.ClosedChannelException\n",
      "\tat org.apache.spark.network.client.TransportClient$RpcChannelListener.handleFailure(TransportClient.java:362)\n",
      "\tat org.apache.spark.network.client.TransportClient$StdChannelListener.operationComplete(TransportClient.java:339)\n",
      "\tat io.netty.util.concurrent.DefaultPromise.notifyListener0(DefaultPromise.java:507)\n",
      "\tat io.netty.util.concurrent.DefaultPromise.notifyListenersNow(DefaultPromise.java:481)\n",
      "\tat io.netty.util.concurrent.DefaultPromise.notifyListeners(DefaultPromise.java:420)\n",
      "\tat io.netty.util.concurrent.DefaultPromise.tryFailure(DefaultPromise.java:122)\n",
      "\tat io.netty.channel.AbstractChannel$AbstractUnsafe.safeSetFailure(AbstractChannel.java:987)\n",
      "\tat io.netty.channel.AbstractChannel$AbstractUnsafe.write(AbstractChannel.java:869)\n",
      "\tat io.netty.channel.DefaultChannelPipeline$HeadContext.write(DefaultChannelPipeline.java:1316)\n",
      "\tat io.netty.channel.AbstractChannelHandlerContext.invokeWrite0(AbstractChannelHandlerContext.java:738)\n",
      "\tat io.netty.channel.AbstractChannelHandlerContext.invokeWrite(AbstractChannelHandlerContext.java:730)\n",
      "\tat io.netty.channel.AbstractChannelHandlerContext.access$1900(AbstractChannelHandlerContext.java:38)\n",
      "\tat io.netty.channel.AbstractChannelHandlerContext$AbstractWriteTask.write(AbstractChannelHandlerContext.java:1081)\n",
      "\tat io.netty.channel.AbstractChannelHandlerContext$WriteAndFlushTask.write(AbstractChannelHandlerContext.java:1128)\n",
      "\tat io.netty.channel.AbstractChannelHandlerContext$AbstractWriteTask.run(AbstractChannelHandlerContext.java:1070)\n",
      "\tat io.netty.util.concurrent.AbstractEventExecutor.safeExecute(AbstractEventExecutor.java:163)\n",
      "\tat io.netty.util.concurrent.SingleThreadEventExecutor.runAllTasks(SingleThreadEventExecutor.java:403)\n",
      "\tat io.netty.channel.nio.NioEventLoop.run(NioEventLoop.java:463)\n",
      "\tat io.netty.util.concurrent.SingleThreadEventExecutor$5.run(SingleThreadEventExecutor.java:858)\n",
      "\tat io.netty.util.concurrent.DefaultThreadFactory$DefaultRunnableDecorator.run(DefaultThreadFactory.java:138)\n",
      "\tat java.lang.Thread.run(Thread.java:748)\n",
      "Caused by: java.nio.channels.ClosedChannelException\n",
      "\tat io.netty.channel.AbstractChannel$AbstractUnsafe.write(...)(Unknown Source)\n",
      "[Stage 234:========================================>           (154 + 30) / 200]22/03/03 13:40:11 ERROR client.TransportClient: Failed to send RPC RPC 7049929611629284619 to /192.168.234.74:49958: java.nio.channels.ClosedChannelException\n",
      "java.nio.channels.ClosedChannelException\n",
      "\tat io.netty.channel.AbstractChannel$AbstractUnsafe.write(...)(Unknown Source)\n",
      "22/03/03 13:40:11 ERROR cluster.YarnSchedulerBackend$YarnSchedulerEndpoint: Sending RequestExecutors(9,200,Map(mn-hd0144.x5.ru -> 200),Set()) to AM was unsuccessful\n",
      "java.io.IOException: Failed to send RPC RPC 7049929611629284619 to /192.168.234.74:49958: java.nio.channels.ClosedChannelException\n",
      "\tat org.apache.spark.network.client.TransportClient$RpcChannelListener.handleFailure(TransportClient.java:362)\n",
      "\tat org.apache.spark.network.client.TransportClient$StdChannelListener.operationComplete(TransportClient.java:339)\n",
      "\tat io.netty.util.concurrent.DefaultPromise.notifyListener0(DefaultPromise.java:507)\n",
      "\tat io.netty.util.concurrent.DefaultPromise.notifyListenersNow(DefaultPromise.java:481)\n",
      "\tat io.netty.util.concurrent.DefaultPromise.notifyListeners(DefaultPromise.java:420)\n",
      "\tat io.netty.util.concurrent.DefaultPromise.tryFailure(DefaultPromise.java:122)\n",
      "\tat io.netty.channel.AbstractChannel$AbstractUnsafe.safeSetFailure(AbstractChannel.java:987)\n",
      "\tat io.netty.channel.AbstractChannel$AbstractUnsafe.write(AbstractChannel.java:869)\n",
      "\tat io.netty.channel.DefaultChannelPipeline$HeadContext.write(DefaultChannelPipeline.java:1316)\n",
      "\tat io.netty.channel.AbstractChannelHandlerContext.invokeWrite0(AbstractChannelHandlerContext.java:738)\n",
      "\tat io.netty.channel.AbstractChannelHandlerContext.invokeWrite(AbstractChannelHandlerContext.java:730)\n",
      "\tat io.netty.channel.AbstractChannelHandlerContext.access$1900(AbstractChannelHandlerContext.java:38)\n",
      "\tat io.netty.channel.AbstractChannelHandlerContext$AbstractWriteTask.write(AbstractChannelHandlerContext.java:1081)\n",
      "\tat io.netty.channel.AbstractChannelHandlerContext$WriteAndFlushTask.write(AbstractChannelHandlerContext.java:1128)\n",
      "\tat io.netty.channel.AbstractChannelHandlerContext$AbstractWriteTask.run(AbstractChannelHandlerContext.java:1070)\n",
      "\tat io.netty.util.concurrent.AbstractEventExecutor.safeExecute(AbstractEventExecutor.java:163)\n",
      "\tat io.netty.util.concurrent.SingleThreadEventExecutor.runAllTasks(SingleThreadEventExecutor.java:403)\n",
      "\tat io.netty.channel.nio.NioEventLoop.run(NioEventLoop.java:463)\n",
      "\tat io.netty.util.concurrent.SingleThreadEventExecutor$5.run(SingleThreadEventExecutor.java:858)\n",
      "\tat io.netty.util.concurrent.DefaultThreadFactory$DefaultRunnableDecorator.run(DefaultThreadFactory.java:138)\n",
      "\tat java.lang.Thread.run(Thread.java:748)\n",
      "Caused by: java.nio.channels.ClosedChannelException\n",
      "\tat io.netty.channel.AbstractChannel$AbstractUnsafe.write(...)(Unknown Source)\n",
      "[Stage 234:=========================================>          (158 + 30) / 200]22/03/03 13:40:12 ERROR client.TransportClient: Failed to send RPC RPC 6394701006827187065 to /192.168.234.74:49958: java.nio.channels.ClosedChannelException\n",
      "java.nio.channels.ClosedChannelException\n",
      "\tat io.netty.channel.AbstractChannel$AbstractUnsafe.write(...)(Unknown Source)\n",
      "22/03/03 13:40:12 ERROR cluster.YarnSchedulerBackend$YarnSchedulerEndpoint: Sending RequestExecutors(8,200,Map(mn-hd0144.x5.ru -> 200),Set()) to AM was unsuccessful\n",
      "java.io.IOException: Failed to send RPC RPC 6394701006827187065 to /192.168.234.74:49958: java.nio.channels.ClosedChannelException\n",
      "\tat org.apache.spark.network.client.TransportClient$RpcChannelListener.handleFailure(TransportClient.java:362)\n",
      "\tat org.apache.spark.network.client.TransportClient$StdChannelListener.operationComplete(TransportClient.java:339)\n",
      "\tat io.netty.util.concurrent.DefaultPromise.notifyListener0(DefaultPromise.java:507)\n",
      "\tat io.netty.util.concurrent.DefaultPromise.notifyListenersNow(DefaultPromise.java:481)\n",
      "\tat io.netty.util.concurrent.DefaultPromise.notifyListeners(DefaultPromise.java:420)\n",
      "\tat io.netty.util.concurrent.DefaultPromise.tryFailure(DefaultPromise.java:122)\n",
      "\tat io.netty.channel.AbstractChannel$AbstractUnsafe.safeSetFailure(AbstractChannel.java:987)\n",
      "\tat io.netty.channel.AbstractChannel$AbstractUnsafe.write(AbstractChannel.java:869)\n",
      "\tat io.netty.channel.DefaultChannelPipeline$HeadContext.write(DefaultChannelPipeline.java:1316)\n",
      "\tat io.netty.channel.AbstractChannelHandlerContext.invokeWrite0(AbstractChannelHandlerContext.java:738)\n",
      "\tat io.netty.channel.AbstractChannelHandlerContext.invokeWrite(AbstractChannelHandlerContext.java:730)\n",
      "\tat io.netty.channel.AbstractChannelHandlerContext.access$1900(AbstractChannelHandlerContext.java:38)\n",
      "\tat io.netty.channel.AbstractChannelHandlerContext$AbstractWriteTask.write(AbstractChannelHandlerContext.java:1081)\n",
      "\tat io.netty.channel.AbstractChannelHandlerContext$WriteAndFlushTask.write(AbstractChannelHandlerContext.java:1128)\n",
      "\tat io.netty.channel.AbstractChannelHandlerContext$AbstractWriteTask.run(AbstractChannelHandlerContext.java:1070)\n",
      "\tat io.netty.util.concurrent.AbstractEventExecutor.safeExecute(AbstractEventExecutor.java:163)\n",
      "\tat io.netty.util.concurrent.SingleThreadEventExecutor.runAllTasks(SingleThreadEventExecutor.java:403)\n",
      "\tat io.netty.channel.nio.NioEventLoop.run(NioEventLoop.java:463)\n",
      "\tat io.netty.util.concurrent.SingleThreadEventExecutor$5.run(SingleThreadEventExecutor.java:858)\n",
      "\tat io.netty.util.concurrent.DefaultThreadFactory$DefaultRunnableDecorator.run(DefaultThreadFactory.java:138)\n",
      "\tat java.lang.Thread.run(Thread.java:748)\n",
      "Caused by: java.nio.channels.ClosedChannelException\n",
      "\tat io.netty.channel.AbstractChannel$AbstractUnsafe.write(...)(Unknown Source)\n",
      "[Stage 234:==========================================>         (162 + 30) / 200]22/03/03 13:40:12 ERROR client.TransportClient: Failed to send RPC RPC 6594533939566421780 to /192.168.234.74:49958: java.nio.channels.ClosedChannelException\n",
      "java.nio.channels.ClosedChannelException\n",
      "\tat io.netty.channel.AbstractChannel$AbstractUnsafe.write(...)(Unknown Source)\n",
      "22/03/03 13:40:12 ERROR cluster.YarnSchedulerBackend$YarnSchedulerEndpoint: Sending RequestExecutors(7,200,Map(mn-hd0144.x5.ru -> 200),Set()) to AM was unsuccessful\n",
      "java.io.IOException: Failed to send RPC RPC 6594533939566421780 to /192.168.234.74:49958: java.nio.channels.ClosedChannelException\n",
      "\tat org.apache.spark.network.client.TransportClient$RpcChannelListener.handleFailure(TransportClient.java:362)\n",
      "\tat org.apache.spark.network.client.TransportClient$StdChannelListener.operationComplete(TransportClient.java:339)\n",
      "\tat io.netty.util.concurrent.DefaultPromise.notifyListener0(DefaultPromise.java:507)\n",
      "\tat io.netty.util.concurrent.DefaultPromise.notifyListenersNow(DefaultPromise.java:481)\n",
      "\tat io.netty.util.concurrent.DefaultPromise.notifyListeners(DefaultPromise.java:420)\n",
      "\tat io.netty.util.concurrent.DefaultPromise.tryFailure(DefaultPromise.java:122)\n",
      "\tat io.netty.channel.AbstractChannel$AbstractUnsafe.safeSetFailure(AbstractChannel.java:987)\n",
      "\tat io.netty.channel.AbstractChannel$AbstractUnsafe.write(AbstractChannel.java:869)\n",
      "\tat io.netty.channel.DefaultChannelPipeline$HeadContext.write(DefaultChannelPipeline.java:1316)\n",
      "\tat io.netty.channel.AbstractChannelHandlerContext.invokeWrite0(AbstractChannelHandlerContext.java:738)\n",
      "\tat io.netty.channel.AbstractChannelHandlerContext.invokeWrite(AbstractChannelHandlerContext.java:730)\n",
      "\tat io.netty.channel.AbstractChannelHandlerContext.access$1900(AbstractChannelHandlerContext.java:38)\n",
      "\tat io.netty.channel.AbstractChannelHandlerContext$AbstractWriteTask.write(AbstractChannelHandlerContext.java:1081)\n",
      "\tat io.netty.channel.AbstractChannelHandlerContext$WriteAndFlushTask.write(AbstractChannelHandlerContext.java:1128)\n",
      "\tat io.netty.channel.AbstractChannelHandlerContext$AbstractWriteTask.run(AbstractChannelHandlerContext.java:1070)\n",
      "\tat io.netty.util.concurrent.AbstractEventExecutor.safeExecute(AbstractEventExecutor.java:163)\n",
      "\tat io.netty.util.concurrent.SingleThreadEventExecutor.runAllTasks(SingleThreadEventExecutor.java:403)\n",
      "\tat io.netty.channel.nio.NioEventLoop.run(NioEventLoop.java:463)\n",
      "\tat io.netty.util.concurrent.SingleThreadEventExecutor$5.run(SingleThreadEventExecutor.java:858)\n",
      "\tat io.netty.util.concurrent.DefaultThreadFactory$DefaultRunnableDecorator.run(DefaultThreadFactory.java:138)\n",
      "\tat java.lang.Thread.run(Thread.java:748)\n",
      "Caused by: java.nio.channels.ClosedChannelException\n",
      "\tat io.netty.channel.AbstractChannel$AbstractUnsafe.write(...)(Unknown Source)\n",
      "[Stage 234:===========================================>        (168 + 32) / 200]22/03/03 13:40:12 ERROR client.TransportClient: Failed to send RPC RPC 8723292505727718586 to /192.168.234.74:49958: java.nio.channels.ClosedChannelException\n",
      "java.nio.channels.ClosedChannelException\n",
      "\tat io.netty.channel.AbstractChannel$AbstractUnsafe.write(...)(Unknown Source)\n",
      "22/03/03 13:40:12 ERROR cluster.YarnSchedulerBackend$YarnSchedulerEndpoint: Sending RequestExecutors(6,200,Map(mn-hd0144.x5.ru -> 200),Set()) to AM was unsuccessful\n",
      "java.io.IOException: Failed to send RPC RPC 8723292505727718586 to /192.168.234.74:49958: java.nio.channels.ClosedChannelException\n",
      "\tat org.apache.spark.network.client.TransportClient$RpcChannelListener.handleFailure(TransportClient.java:362)\n",
      "\tat org.apache.spark.network.client.TransportClient$StdChannelListener.operationComplete(TransportClient.java:339)\n",
      "\tat io.netty.util.concurrent.DefaultPromise.notifyListener0(DefaultPromise.java:507)\n",
      "\tat io.netty.util.concurrent.DefaultPromise.notifyListenersNow(DefaultPromise.java:481)\n",
      "\tat io.netty.util.concurrent.DefaultPromise.notifyListeners(DefaultPromise.java:420)\n",
      "\tat io.netty.util.concurrent.DefaultPromise.tryFailure(DefaultPromise.java:122)\n",
      "\tat io.netty.channel.AbstractChannel$AbstractUnsafe.safeSetFailure(AbstractChannel.java:987)\n",
      "\tat io.netty.channel.AbstractChannel$AbstractUnsafe.write(AbstractChannel.java:869)\n",
      "\tat io.netty.channel.DefaultChannelPipeline$HeadContext.write(DefaultChannelPipeline.java:1316)\n",
      "\tat io.netty.channel.AbstractChannelHandlerContext.invokeWrite0(AbstractChannelHandlerContext.java:738)\n",
      "\tat io.netty.channel.AbstractChannelHandlerContext.invokeWrite(AbstractChannelHandlerContext.java:730)\n",
      "\tat io.netty.channel.AbstractChannelHandlerContext.access$1900(AbstractChannelHandlerContext.java:38)\n",
      "\tat io.netty.channel.AbstractChannelHandlerContext$AbstractWriteTask.write(AbstractChannelHandlerContext.java:1081)\n",
      "\tat io.netty.channel.AbstractChannelHandlerContext$WriteAndFlushTask.write(AbstractChannelHandlerContext.java:1128)\n",
      "\tat io.netty.channel.AbstractChannelHandlerContext$AbstractWriteTask.run(AbstractChannelHandlerContext.java:1070)\n",
      "\tat io.netty.util.concurrent.AbstractEventExecutor.safeExecute(AbstractEventExecutor.java:163)\n",
      "\tat io.netty.util.concurrent.SingleThreadEventExecutor.runAllTasks(SingleThreadEventExecutor.java:403)\n",
      "\tat io.netty.channel.nio.NioEventLoop.run(NioEventLoop.java:463)\n",
      "\tat io.netty.util.concurrent.SingleThreadEventExecutor$5.run(SingleThreadEventExecutor.java:858)\n",
      "\tat io.netty.util.concurrent.DefaultThreadFactory$DefaultRunnableDecorator.run(DefaultThreadFactory.java:138)\n",
      "\tat java.lang.Thread.run(Thread.java:748)\n",
      "Caused by: java.nio.channels.ClosedChannelException\n",
      "\tat io.netty.channel.AbstractChannel$AbstractUnsafe.write(...)(Unknown Source)\n",
      "[Stage 234:============================================>       (172 + 28) / 200]22/03/03 13:40:13 ERROR client.TransportClient: Failed to send RPC RPC 5444052179244375422 to /192.168.234.74:49958: java.nio.channels.ClosedChannelException\n",
      "java.nio.channels.ClosedChannelException\n",
      "\tat io.netty.channel.AbstractChannel$AbstractUnsafe.write(...)(Unknown Source)\n",
      "22/03/03 13:40:13 ERROR cluster.YarnSchedulerBackend$YarnSchedulerEndpoint: Sending RequestExecutors(5,200,Map(mn-hd0144.x5.ru -> 200),Set()) to AM was unsuccessful\n",
      "java.io.IOException: Failed to send RPC RPC 5444052179244375422 to /192.168.234.74:49958: java.nio.channels.ClosedChannelException\n",
      "\tat org.apache.spark.network.client.TransportClient$RpcChannelListener.handleFailure(TransportClient.java:362)\n",
      "\tat org.apache.spark.network.client.TransportClient$StdChannelListener.operationComplete(TransportClient.java:339)\n",
      "\tat io.netty.util.concurrent.DefaultPromise.notifyListener0(DefaultPromise.java:507)\n",
      "\tat io.netty.util.concurrent.DefaultPromise.notifyListenersNow(DefaultPromise.java:481)\n",
      "\tat io.netty.util.concurrent.DefaultPromise.notifyListeners(DefaultPromise.java:420)\n",
      "\tat io.netty.util.concurrent.DefaultPromise.tryFailure(DefaultPromise.java:122)\n",
      "\tat io.netty.channel.AbstractChannel$AbstractUnsafe.safeSetFailure(AbstractChannel.java:987)\n",
      "\tat io.netty.channel.AbstractChannel$AbstractUnsafe.write(AbstractChannel.java:869)\n",
      "\tat io.netty.channel.DefaultChannelPipeline$HeadContext.write(DefaultChannelPipeline.java:1316)\n",
      "\tat io.netty.channel.AbstractChannelHandlerContext.invokeWrite0(AbstractChannelHandlerContext.java:738)\n",
      "\tat io.netty.channel.AbstractChannelHandlerContext.invokeWrite(AbstractChannelHandlerContext.java:730)\n",
      "\tat io.netty.channel.AbstractChannelHandlerContext.access$1900(AbstractChannelHandlerContext.java:38)\n",
      "\tat io.netty.channel.AbstractChannelHandlerContext$AbstractWriteTask.write(AbstractChannelHandlerContext.java:1081)\n",
      "\tat io.netty.channel.AbstractChannelHandlerContext$WriteAndFlushTask.write(AbstractChannelHandlerContext.java:1128)\n",
      "\tat io.netty.channel.AbstractChannelHandlerContext$AbstractWriteTask.run(AbstractChannelHandlerContext.java:1070)\n",
      "\tat io.netty.util.concurrent.AbstractEventExecutor.safeExecute(AbstractEventExecutor.java:163)\n",
      "\tat io.netty.util.concurrent.SingleThreadEventExecutor.runAllTasks(SingleThreadEventExecutor.java:403)\n",
      "\tat io.netty.channel.nio.NioEventLoop.run(NioEventLoop.java:463)\n",
      "\tat io.netty.util.concurrent.SingleThreadEventExecutor$5.run(SingleThreadEventExecutor.java:858)\n",
      "\tat io.netty.util.concurrent.DefaultThreadFactory$DefaultRunnableDecorator.run(DefaultThreadFactory.java:138)\n",
      "\tat java.lang.Thread.run(Thread.java:748)\n",
      "Caused by: java.nio.channels.ClosedChannelException\n",
      "\tat io.netty.channel.AbstractChannel$AbstractUnsafe.write(...)(Unknown Source)\n",
      "[Stage 234:==============================================>     (178 + 22) / 200]22/03/03 13:40:13 ERROR client.TransportClient: Failed to send RPC RPC 4657123913849197101 to /192.168.234.74:49958: java.nio.channels.ClosedChannelException\n",
      "java.nio.channels.ClosedChannelException\n",
      "\tat io.netty.channel.AbstractChannel$AbstractUnsafe.write(...)(Unknown Source)\n",
      "22/03/03 13:40:13 ERROR cluster.YarnSchedulerBackend$YarnSchedulerEndpoint: Sending RequestExecutors(4,200,Map(mn-hd0144.x5.ru -> 200),Set()) to AM was unsuccessful\n",
      "java.io.IOException: Failed to send RPC RPC 4657123913849197101 to /192.168.234.74:49958: java.nio.channels.ClosedChannelException\n",
      "\tat org.apache.spark.network.client.TransportClient$RpcChannelListener.handleFailure(TransportClient.java:362)\n",
      "\tat org.apache.spark.network.client.TransportClient$StdChannelListener.operationComplete(TransportClient.java:339)\n",
      "\tat io.netty.util.concurrent.DefaultPromise.notifyListener0(DefaultPromise.java:507)\n",
      "\tat io.netty.util.concurrent.DefaultPromise.notifyListenersNow(DefaultPromise.java:481)\n",
      "\tat io.netty.util.concurrent.DefaultPromise.notifyListeners(DefaultPromise.java:420)\n",
      "\tat io.netty.util.concurrent.DefaultPromise.tryFailure(DefaultPromise.java:122)\n",
      "\tat io.netty.channel.AbstractChannel$AbstractUnsafe.safeSetFailure(AbstractChannel.java:987)\n",
      "\tat io.netty.channel.AbstractChannel$AbstractUnsafe.write(AbstractChannel.java:869)\n",
      "\tat io.netty.channel.DefaultChannelPipeline$HeadContext.write(DefaultChannelPipeline.java:1316)\n",
      "\tat io.netty.channel.AbstractChannelHandlerContext.invokeWrite0(AbstractChannelHandlerContext.java:738)\n",
      "\tat io.netty.channel.AbstractChannelHandlerContext.invokeWrite(AbstractChannelHandlerContext.java:730)\n",
      "\tat io.netty.channel.AbstractChannelHandlerContext.access$1900(AbstractChannelHandlerContext.java:38)\n",
      "\tat io.netty.channel.AbstractChannelHandlerContext$AbstractWriteTask.write(AbstractChannelHandlerContext.java:1081)\n",
      "\tat io.netty.channel.AbstractChannelHandlerContext$WriteAndFlushTask.write(AbstractChannelHandlerContext.java:1128)\n",
      "\tat io.netty.channel.AbstractChannelHandlerContext$AbstractWriteTask.run(AbstractChannelHandlerContext.java:1070)\n",
      "\tat io.netty.util.concurrent.AbstractEventExecutor.safeExecute(AbstractEventExecutor.java:163)\n",
      "\tat io.netty.util.concurrent.SingleThreadEventExecutor.runAllTasks(SingleThreadEventExecutor.java:403)\n",
      "\tat io.netty.channel.nio.NioEventLoop.run(NioEventLoop.java:463)\n",
      "\tat io.netty.util.concurrent.SingleThreadEventExecutor$5.run(SingleThreadEventExecutor.java:858)\n",
      "\tat io.netty.util.concurrent.DefaultThreadFactory$DefaultRunnableDecorator.run(DefaultThreadFactory.java:138)\n",
      "\tat java.lang.Thread.run(Thread.java:748)\n",
      "Caused by: java.nio.channels.ClosedChannelException\n",
      "\tat io.netty.channel.AbstractChannel$AbstractUnsafe.write(...)(Unknown Source)\n",
      "[Stage 234:===============================================>    (183 + 17) / 200]22/03/03 13:40:13 ERROR client.TransportClient: Failed to send RPC RPC 9176319343264537117 to /192.168.234.74:49958: java.nio.channels.ClosedChannelException\n",
      "java.nio.channels.ClosedChannelException\n",
      "\tat io.netty.channel.AbstractChannel$AbstractUnsafe.write(...)(Unknown Source)\n",
      "22/03/03 13:40:13 ERROR cluster.YarnSchedulerBackend$YarnSchedulerEndpoint: Sending RequestExecutors(3,200,Map(mn-hd0144.x5.ru -> 200),Set()) to AM was unsuccessful\n",
      "java.io.IOException: Failed to send RPC RPC 9176319343264537117 to /192.168.234.74:49958: java.nio.channels.ClosedChannelException\n",
      "\tat org.apache.spark.network.client.TransportClient$RpcChannelListener.handleFailure(TransportClient.java:362)\n",
      "\tat org.apache.spark.network.client.TransportClient$StdChannelListener.operationComplete(TransportClient.java:339)\n",
      "\tat io.netty.util.concurrent.DefaultPromise.notifyListener0(DefaultPromise.java:507)\n",
      "\tat io.netty.util.concurrent.DefaultPromise.notifyListenersNow(DefaultPromise.java:481)\n",
      "\tat io.netty.util.concurrent.DefaultPromise.notifyListeners(DefaultPromise.java:420)\n",
      "\tat io.netty.util.concurrent.DefaultPromise.tryFailure(DefaultPromise.java:122)\n",
      "\tat io.netty.channel.AbstractChannel$AbstractUnsafe.safeSetFailure(AbstractChannel.java:987)\n",
      "\tat io.netty.channel.AbstractChannel$AbstractUnsafe.write(AbstractChannel.java:869)\n",
      "\tat io.netty.channel.DefaultChannelPipeline$HeadContext.write(DefaultChannelPipeline.java:1316)\n",
      "\tat io.netty.channel.AbstractChannelHandlerContext.invokeWrite0(AbstractChannelHandlerContext.java:738)\n",
      "\tat io.netty.channel.AbstractChannelHandlerContext.invokeWrite(AbstractChannelHandlerContext.java:730)\n",
      "\tat io.netty.channel.AbstractChannelHandlerContext.access$1900(AbstractChannelHandlerContext.java:38)\n",
      "\tat io.netty.channel.AbstractChannelHandlerContext$AbstractWriteTask.write(AbstractChannelHandlerContext.java:1081)\n",
      "\tat io.netty.channel.AbstractChannelHandlerContext$WriteAndFlushTask.write(AbstractChannelHandlerContext.java:1128)\n",
      "\tat io.netty.channel.AbstractChannelHandlerContext$AbstractWriteTask.run(AbstractChannelHandlerContext.java:1070)\n",
      "\tat io.netty.util.concurrent.AbstractEventExecutor.safeExecute(AbstractEventExecutor.java:163)\n",
      "\tat io.netty.util.concurrent.SingleThreadEventExecutor.runAllTasks(SingleThreadEventExecutor.java:403)\n",
      "\tat io.netty.channel.nio.NioEventLoop.run(NioEventLoop.java:463)\n",
      "\tat io.netty.util.concurrent.SingleThreadEventExecutor$5.run(SingleThreadEventExecutor.java:858)\n",
      "\tat io.netty.util.concurrent.DefaultThreadFactory$DefaultRunnableDecorator.run(DefaultThreadFactory.java:138)\n",
      "\tat java.lang.Thread.run(Thread.java:748)\n",
      "Caused by: java.nio.channels.ClosedChannelException\n",
      "\tat io.netty.channel.AbstractChannel$AbstractUnsafe.write(...)(Unknown Source)\n",
      "[Stage 234:================================================>   (188 + 12) / 200]22/03/03 13:40:14 ERROR client.TransportClient: Failed to send RPC RPC 9160358953706187275 to /192.168.234.74:49958: java.nio.channels.ClosedChannelException\n",
      "java.nio.channels.ClosedChannelException\n",
      "\tat io.netty.channel.AbstractChannel$AbstractUnsafe.write(...)(Unknown Source)\n",
      "22/03/03 13:40:14 ERROR cluster.YarnSchedulerBackend$YarnSchedulerEndpoint: Sending RequestExecutors(2,200,Map(mn-hd0144.x5.ru -> 200),Set()) to AM was unsuccessful\n",
      "java.io.IOException: Failed to send RPC RPC 9160358953706187275 to /192.168.234.74:49958: java.nio.channels.ClosedChannelException\n",
      "\tat org.apache.spark.network.client.TransportClient$RpcChannelListener.handleFailure(TransportClient.java:362)\n",
      "\tat org.apache.spark.network.client.TransportClient$StdChannelListener.operationComplete(TransportClient.java:339)\n",
      "\tat io.netty.util.concurrent.DefaultPromise.notifyListener0(DefaultPromise.java:507)\n",
      "\tat io.netty.util.concurrent.DefaultPromise.notifyListenersNow(DefaultPromise.java:481)\n",
      "\tat io.netty.util.concurrent.DefaultPromise.notifyListeners(DefaultPromise.java:420)\n",
      "\tat io.netty.util.concurrent.DefaultPromise.tryFailure(DefaultPromise.java:122)\n",
      "\tat io.netty.channel.AbstractChannel$AbstractUnsafe.safeSetFailure(AbstractChannel.java:987)\n",
      "\tat io.netty.channel.AbstractChannel$AbstractUnsafe.write(AbstractChannel.java:869)\n",
      "\tat io.netty.channel.DefaultChannelPipeline$HeadContext.write(DefaultChannelPipeline.java:1316)\n",
      "\tat io.netty.channel.AbstractChannelHandlerContext.invokeWrite0(AbstractChannelHandlerContext.java:738)\n",
      "\tat io.netty.channel.AbstractChannelHandlerContext.invokeWrite(AbstractChannelHandlerContext.java:730)\n",
      "\tat io.netty.channel.AbstractChannelHandlerContext.access$1900(AbstractChannelHandlerContext.java:38)\n",
      "\tat io.netty.channel.AbstractChannelHandlerContext$AbstractWriteTask.write(AbstractChannelHandlerContext.java:1081)\n",
      "\tat io.netty.channel.AbstractChannelHandlerContext$WriteAndFlushTask.write(AbstractChannelHandlerContext.java:1128)\n",
      "\tat io.netty.channel.AbstractChannelHandlerContext$AbstractWriteTask.run(AbstractChannelHandlerContext.java:1070)\n",
      "\tat io.netty.util.concurrent.AbstractEventExecutor.safeExecute(AbstractEventExecutor.java:163)\n",
      "\tat io.netty.util.concurrent.SingleThreadEventExecutor.runAllTasks(SingleThreadEventExecutor.java:403)\n",
      "\tat io.netty.channel.nio.NioEventLoop.run(NioEventLoop.java:463)\n",
      "\tat io.netty.util.concurrent.SingleThreadEventExecutor$5.run(SingleThreadEventExecutor.java:858)\n",
      "\tat io.netty.util.concurrent.DefaultThreadFactory$DefaultRunnableDecorator.run(DefaultThreadFactory.java:138)\n",
      "\tat java.lang.Thread.run(Thread.java:748)\n",
      "Caused by: java.nio.channels.ClosedChannelException\n",
      "\tat io.netty.channel.AbstractChannel$AbstractUnsafe.write(...)(Unknown Source)\n",
      "[Stage 234:===================================================> (194 + 6) / 200]22/03/03 13:40:15 ERROR client.TransportClient: Failed to send RPC RPC 9166667334257095827 to /192.168.234.74:49958: java.nio.channels.ClosedChannelException\n",
      "java.nio.channels.ClosedChannelException\n",
      "\tat io.netty.channel.AbstractChannel$AbstractUnsafe.write(...)(Unknown Source)\n",
      "22/03/03 13:40:15 ERROR cluster.YarnSchedulerBackend$YarnSchedulerEndpoint: Sending RequestExecutors(1,200,Map(mn-hd0144.x5.ru -> 200),Set()) to AM was unsuccessful\n",
      "java.io.IOException: Failed to send RPC RPC 9166667334257095827 to /192.168.234.74:49958: java.nio.channels.ClosedChannelException\n",
      "\tat org.apache.spark.network.client.TransportClient$RpcChannelListener.handleFailure(TransportClient.java:362)\n",
      "\tat org.apache.spark.network.client.TransportClient$StdChannelListener.operationComplete(TransportClient.java:339)\n",
      "\tat io.netty.util.concurrent.DefaultPromise.notifyListener0(DefaultPromise.java:507)\n",
      "\tat io.netty.util.concurrent.DefaultPromise.notifyListenersNow(DefaultPromise.java:481)\n",
      "\tat io.netty.util.concurrent.DefaultPromise.notifyListeners(DefaultPromise.java:420)\n",
      "\tat io.netty.util.concurrent.DefaultPromise.tryFailure(DefaultPromise.java:122)\n",
      "\tat io.netty.channel.AbstractChannel$AbstractUnsafe.safeSetFailure(AbstractChannel.java:987)\n",
      "\tat io.netty.channel.AbstractChannel$AbstractUnsafe.write(AbstractChannel.java:869)\n",
      "\tat io.netty.channel.DefaultChannelPipeline$HeadContext.write(DefaultChannelPipeline.java:1316)\n",
      "\tat io.netty.channel.AbstractChannelHandlerContext.invokeWrite0(AbstractChannelHandlerContext.java:738)\n",
      "\tat io.netty.channel.AbstractChannelHandlerContext.invokeWrite(AbstractChannelHandlerContext.java:730)\n",
      "\tat io.netty.channel.AbstractChannelHandlerContext.access$1900(AbstractChannelHandlerContext.java:38)\n",
      "\tat io.netty.channel.AbstractChannelHandlerContext$AbstractWriteTask.write(AbstractChannelHandlerContext.java:1081)\n",
      "\tat io.netty.channel.AbstractChannelHandlerContext$WriteAndFlushTask.write(AbstractChannelHandlerContext.java:1128)\n",
      "\tat io.netty.channel.AbstractChannelHandlerContext$AbstractWriteTask.run(AbstractChannelHandlerContext.java:1070)\n",
      "\tat io.netty.util.concurrent.AbstractEventExecutor.safeExecute(AbstractEventExecutor.java:163)\n",
      "\tat io.netty.util.concurrent.SingleThreadEventExecutor.runAllTasks(SingleThreadEventExecutor.java:403)\n",
      "\tat io.netty.channel.nio.NioEventLoop.run(NioEventLoop.java:463)\n",
      "\tat io.netty.util.concurrent.SingleThreadEventExecutor$5.run(SingleThreadEventExecutor.java:858)\n",
      "\tat io.netty.util.concurrent.DefaultThreadFactory$DefaultRunnableDecorator.run(DefaultThreadFactory.java:138)\n",
      "\tat java.lang.Thread.run(Thread.java:748)\n",
      "Caused by: java.nio.channels.ClosedChannelException\n",
      "\tat io.netty.channel.AbstractChannel$AbstractUnsafe.write(...)(Unknown Source)\n",
      "[Stage 234:===================================================> (195 + 5) / 200]22/03/03 13:40:15 ERROR client.TransportClient: Failed to send RPC RPC 5594386430940839129 to /192.168.234.74:49958: java.nio.channels.ClosedChannelException\n",
      "java.nio.channels.ClosedChannelException\n",
      "\tat io.netty.channel.AbstractChannel$AbstractUnsafe.write(...)(Unknown Source)\n",
      "22/03/03 13:40:15 ERROR cluster.YarnScheduler: Lost executor 982 on mn-hd0158.x5.ru: Slave lost\n",
      "22/03/03 13:40:15 ERROR client.TransportClient: Failed to send RPC RPC 5570932898002988412 to /192.168.234.74:49958: java.nio.channels.ClosedChannelException\n",
      "java.nio.channels.ClosedChannelException\n",
      "\tat io.netty.channel.AbstractChannel$AbstractUnsafe.write(...)(Unknown Source)\n",
      "22/03/03 13:40:15 ERROR cluster.YarnScheduler: Lost executor 976 on mn-hd0204.x5.ru: Slave lost\n",
      "22/03/03 13:40:15 ERROR client.TransportClient: Failed to send RPC RPC 4813981477025345006 to /192.168.234.74:49958: java.nio.channels.ClosedChannelException\n",
      "java.nio.channels.ClosedChannelException\n",
      "\tat io.netty.channel.AbstractChannel$AbstractUnsafe.write(...)(Unknown Source)\n",
      "22/03/03 13:40:15 ERROR cluster.YarnScheduler: Lost executor 990 on mn-hd0204.x5.ru: Slave lost\n",
      "22/03/03 13:40:15 ERROR client.TransportClient: Failed to send RPC RPC 8232977150332196066 to /192.168.234.74:49958: java.nio.channels.ClosedChannelException\n",
      "java.nio.channels.ClosedChannelException\n",
      "\tat io.netty.channel.AbstractChannel$AbstractUnsafe.write(...)(Unknown Source)\n",
      "22/03/03 13:40:15 ERROR cluster.YarnScheduler: Lost executor 979 on mn-hd0273.x5.ru: Slave lost\n",
      "22/03/03 13:40:15 ERROR client.TransportClient: Failed to send RPC RPC 8238177776237465822 to /192.168.234.74:49958: java.nio.channels.ClosedChannelException\n",
      "java.nio.channels.ClosedChannelException\n",
      "\tat io.netty.channel.AbstractChannel$AbstractUnsafe.write(...)(Unknown Source)\n",
      "22/03/03 13:40:15 ERROR cluster.YarnScheduler: Lost executor 901 on mn-hd0319.x5.ru: Slave lost\n",
      "[Stage 234:===================================================> (195 + 2) / 200]22/03/03 13:40:15 ERROR client.TransportClient: Failed to send RPC RPC 7489076609349401693 to /192.168.234.74:49958: java.nio.channels.ClosedChannelException\n",
      "java.nio.channels.ClosedChannelException\n",
      "\tat io.netty.channel.AbstractChannel$AbstractUnsafe.write(...)(Unknown Source)\n",
      "22/03/03 13:40:15 ERROR cluster.YarnScheduler: Lost executor 944 on mn-hd0028.x5.ru: Slave lost\n",
      "22/03/03 13:40:15 ERROR client.TransportClient: Failed to send RPC RPC 7988309969456981890 to /192.168.234.74:49958: java.nio.channels.ClosedChannelException\n",
      "java.nio.channels.ClosedChannelException\n",
      "\tat io.netty.channel.AbstractChannel$AbstractUnsafe.write(...)(Unknown Source)\n",
      "22/03/03 13:40:15 ERROR cluster.YarnScheduler: Lost executor 929 on mn-hd0185.x5.ru: Slave lost\n",
      "[Stage 234:===================================================> (195 + 3) / 200]22/03/03 13:40:15 ERROR client.TransportClient: Failed to send RPC RPC 6567908426097162066 to /192.168.234.74:49958: java.nio.channels.ClosedChannelException\n",
      "java.nio.channels.ClosedChannelException\n",
      "\tat io.netty.channel.AbstractChannel$AbstractUnsafe.write(...)(Unknown Source)\n",
      "22/03/03 13:40:15 ERROR cluster.YarnScheduler: Lost executor 958 on mn-hd0134.x5.ru: Slave lost\n",
      "[Stage 236:================================>                   (125 + 75) / 200]22/03/03 13:47:43 ERROR cluster.YarnScheduler: Lost executor 1016 on mn-hd0139.x5.ru: Unable to create executor due to Unable to register with external shuffle server due to : java.util.concurrent.TimeoutException: Timeout waiting for task.\n",
      "                                                                                620]]1]]]]\r"
     ]
    }
   ],
   "source": [
    "param_pd_period_tg = get_param_general(spark, \n",
    "                    start_date, \n",
    "                    end_date, \n",
    "                    plu_codes,\n",
    "                    guests=guests_tg)\n",
    "param_pd_period_cg = get_param_general(spark, \n",
    "                    start_date, \n",
    "                    end_date, \n",
    "                    plu_codes,\n",
    "                    guests=guests_cg)"
   ]
  },
  {
   "cell_type": "code",
   "execution_count": 49,
   "id": "06a5fc06",
   "metadata": {},
   "outputs": [
    {
     "name": "stderr",
     "output_type": "stream",
     "text": [
      "                                                                                779]]]]]]]\r"
     ]
    }
   ],
   "source": [
    "param_pd_pre_tg = get_param_general(spark, \n",
    "                    start_date_pre, \n",
    "                    end_date_pre, \n",
    "                    plu_codes,\n",
    "                    guests=guests_tg)\n",
    "param_pd_pre_cg = get_param_general(spark, \n",
    "                    start_date_pre, \n",
    "                    end_date_pre, \n",
    "                    plu_codes,\n",
    "                    guests=guests_cg)"
   ]
  },
  {
   "cell_type": "code",
   "execution_count": 50,
   "id": "bdd725a0",
   "metadata": {},
   "outputs": [
    {
     "name": "stderr",
     "output_type": "stream",
     "text": [
      "                                                                                0]]]]]]]]]]]\r"
     ]
    }
   ],
   "source": [
    "param_pd_post_tg = get_param_general(spark, \n",
    "                    start_date_post, \n",
    "                    end_date_post, \n",
    "                    plu_codes,\n",
    "                    guests=guests_tg)\n",
    "param_pd_post_cg = get_param_general(spark, \n",
    "                    start_date_post, \n",
    "                    end_date_post, \n",
    "                    plu_codes,\n",
    "                    guests=guests_cg)"
   ]
  },
  {
   "cell_type": "code",
   "execution_count": 51,
   "id": "99ce5a73",
   "metadata": {},
   "outputs": [],
   "source": [
    "val = val.append(param_pd_period_tg)\n",
    "val = val.append(param_pd_period_cg)\n",
    "val = val.append(param_pd_pre_tg)\n",
    "val = val.append(param_pd_pre_cg)\n",
    "val = val.append(param_pd_post_tg)\n",
    "val = val.append(param_pd_post_cg)"
   ]
  },
  {
   "cell_type": "markdown",
   "id": "3f3835bc",
   "metadata": {},
   "source": [
    "### 6. U-27-10-alpengold-slip-postavschik"
   ]
  },
  {
   "cell_type": "code",
   "execution_count": 52,
   "id": "5e8cecc4",
   "metadata": {
    "collapsed": false,
    "jupyter": {
     "outputs_hidden": false
    },
    "pycharm": {
     "name": "#%%\n"
    }
   },
   "outputs": [],
   "source": [
    "camp_id = 'U-27-10-alpengold-slip-postavschik'\n",
    "\n",
    "experiment_params = ExperimentParams(**{\n",
    "    # Camp wave id нужно записать в виде мапы из id в префиксы.\n",
    "    # Префиксы ни на что не влияют, просто для более красивого названия групп\n",
    "    # Заполняются camp_wave_id. Если для контроля и теста одинаковый, то пишем два раза\n",
    "    'map_camp_wave_ids_to_suffixes': {\n",
    "        75767: \"sms_viber_tg\",\n",
    "        75762: \"sms_viber_tg\",\n",
    "        75785: \"sms_viber_cg\"\n",
    "    },\n",
    "\n",
    "    # communication period with guest (sending sms, push, etc.)\n",
    "    'date_communication_from': '2021-12-15',\n",
    "    'date_communication_to': '2021-12-21',\n",
    "\n",
    "    'wave_ids': [\n",
    "        -1 #если нет, то -1\n",
    "    ],\n",
    "\n",
    "    'communication_costs': {\n",
    "        'sms': 1.38,\n",
    "        'viber': 1.32,\n",
    "        'email': 0.0083\n",
    "    }\n",
    "})\n",
    "#0_ + camp_wave_id +_sms_viber_ + cg (если номера волн равны) / tg (если номера волн разные)\n",
    "experiment_guests = ExperimentParticipants(spark, experiment_params)\n",
    "experiment_guests_communications = experiment_guests.extract()"
   ]
  },
  {
   "cell_type": "code",
   "execution_count": 53,
   "id": "f0b7221d",
   "metadata": {},
   "outputs": [],
   "source": [
    "# guests_tg = (experiment_guests_communications\n",
    "#                   .filter(F.col('group_name').isin(['0_75054_sms_viber_tg', '0_75056_sms_viber_tg', '0_75057_sms_viber_tg',\n",
    "#                                                    '0_75058_sms_viber_tg', '0_75061_sms_viber_tg']))\n",
    "#                   .select('customer_rk').distinct()\n",
    "#                  )\n",
    "\n",
    "# guests_cg = (experiment_guests_communications\n",
    "#                   .filter(F.col('group_name').isin(['0_75052_sms_viber_cg']))\n",
    "#                   .select('customer_rk').distinct()\n",
    "#                  )"
   ]
  },
  {
   "cell_type": "code",
   "execution_count": 54,
   "id": "cbdf1470",
   "metadata": {},
   "outputs": [],
   "source": [
    "if len(list(experiment_params.map_camp_wave_ids_to_suffixes.keys())) > 1:\n",
    "    if str(list(experiment_params.map_camp_wave_ids_to_suffixes.keys())[0]) != str(list(experiment_params.map_camp_wave_ids_to_suffixes.keys())[1]):\n",
    "        guests_tg = (experiment_guests_communications\n",
    "                  .filter(F.col('group_name') == '0_' +\n",
    "                        str(list(experiment_params.map_camp_wave_ids_to_suffixes.keys())[0]) + '_' +\n",
    "                        list(experiment_params.map_camp_wave_ids_to_suffixes.values())[0])\n",
    "                  .select('customer_rk').distinct()\n",
    "                 )\n",
    "\n",
    "        guests_cg = (experiment_guests_communications\n",
    "                  .filter(F.col('group_name') == '0_' +\n",
    "                        str(list(experiment_params.map_camp_wave_ids_to_suffixes.keys())[1]) + '_' +\n",
    "                        list(experiment_params.map_camp_wave_ids_to_suffixes.values())[1])\n",
    "                  .select('customer_rk').distinct()\n",
    "                 )\n",
    "    else:\n",
    "        print(\"Error - check the camp waves ids\")\n",
    "else:\n",
    "    guests_tg = (experiment_guests_communications\n",
    "              .filter(F.col('group_name') == '0_' +\n",
    "                    str(list(experiment_params.map_camp_wave_ids_to_suffixes.keys())[0]) + '_' +\n",
    "                    list(experiment_params.map_camp_wave_ids_to_suffixes.values())[0])\n",
    "              .select('customer_rk').distinct()\n",
    "             )\n",
    "\n",
    "    guests_cg = (experiment_guests_communications\n",
    "              .filter(F.col('group_name') == '1_' +\n",
    "                    str(list(experiment_params.map_camp_wave_ids_to_suffixes.keys())[0]) + '_' +\n",
    "                    list(experiment_params.map_camp_wave_ids_to_suffixes.values())[0])\n",
    "              .select('customer_rk').distinct()\n",
    "             )"
   ]
  },
  {
   "cell_type": "code",
   "execution_count": 55,
   "id": "341ac002",
   "metadata": {},
   "outputs": [],
   "source": [
    "dt1 = datetime.datetime.strptime(experiment_params.date_communication_from, '%Y-%m-%d')\n",
    "dt2 = datetime.datetime.strptime(experiment_params.date_communication_to, '%Y-%m-%d')\n",
    "start_date = datetime.date(dt1.year, dt1.month, dt1.day)\n",
    "end_date = datetime.date(dt2.year, dt2.month, dt2.day)\n",
    "start_date_pre = start_date - datetime.timedelta(days=29.3)\n",
    "end_date_pre = start_date - datetime.timedelta(days=1)\n",
    "start_date_post = end_date + datetime.timedelta(days=1)\n",
    "end_date_post = end_date + datetime.timedelta(days=29.3)"
   ]
  },
  {
   "cell_type": "code",
   "execution_count": 56,
   "id": "d4185a39",
   "metadata": {},
   "outputs": [
    {
     "name": "stderr",
     "output_type": "stream",
     "text": [
      "                                                                                / 200]21]]\r"
     ]
    }
   ],
   "source": [
    "param_pd_period_tg = get_param_general(spark, \n",
    "                    start_date, \n",
    "                    end_date, \n",
    "                    plu_codes,\n",
    "                    guests=guests_tg)\n",
    "param_pd_period_cg = get_param_general(spark, \n",
    "                    start_date, \n",
    "                    end_date, \n",
    "                    plu_codes,\n",
    "                    guests=guests_cg)"
   ]
  },
  {
   "cell_type": "code",
   "execution_count": 57,
   "id": "6abe11e3",
   "metadata": {},
   "outputs": [
    {
     "name": "stderr",
     "output_type": "stream",
     "text": [
      "                                                                                 1779]9]]]]\r"
     ]
    }
   ],
   "source": [
    "param_pd_pre_tg = get_param_general(spark, \n",
    "                    start_date_pre, \n",
    "                    end_date_pre, \n",
    "                    plu_codes,\n",
    "                    guests=guests_tg)\n",
    "param_pd_pre_cg = get_param_general(spark, \n",
    "                    start_date_pre, \n",
    "                    end_date_pre, \n",
    "                    plu_codes,\n",
    "                    guests=guests_cg)"
   ]
  },
  {
   "cell_type": "code",
   "execution_count": 58,
   "id": "1e898f6f",
   "metadata": {},
   "outputs": [
    {
     "name": "stderr",
     "output_type": "stream",
     "text": [
      "                                                                                 / 1791]]]]\r"
     ]
    }
   ],
   "source": [
    "param_pd_post_tg = get_param_general(spark, \n",
    "                    start_date_post, \n",
    "                    end_date_post, \n",
    "                    plu_codes,\n",
    "                    guests=guests_tg)\n",
    "param_pd_post_cg = get_param_general(spark, \n",
    "                    start_date_post, \n",
    "                    end_date_post, \n",
    "                    plu_codes,\n",
    "                    guests=guests_cg)"
   ]
  },
  {
   "cell_type": "code",
   "execution_count": 59,
   "id": "0c874153",
   "metadata": {},
   "outputs": [],
   "source": [
    "val = val.append(param_pd_period_tg)\n",
    "val = val.append(param_pd_period_cg)\n",
    "val = val.append(param_pd_pre_tg)\n",
    "val = val.append(param_pd_pre_cg)\n",
    "val = val.append(param_pd_post_tg)\n",
    "val = val.append(param_pd_post_cg)"
   ]
  },
  {
   "cell_type": "markdown",
   "id": "23796adb",
   "metadata": {},
   "source": [
    "### 7. f27_freq27_alpen_gold"
   ]
  },
  {
   "cell_type": "code",
   "execution_count": 60,
   "id": "5135800d",
   "metadata": {
    "collapsed": false,
    "jupyter": {
     "outputs_hidden": false
    },
    "pycharm": {
     "name": "#%%\n"
    }
   },
   "outputs": [],
   "source": [
    "camp_id = 'f27_freq27_alpen_gold'\n",
    "\n",
    "experiment_params = ExperimentParams(**{\n",
    "    # Camp wave id нужно записать в виде мапы из id в префиксы.\n",
    "    # Префиксы ни на что не влияют, просто для более красивого названия групп\n",
    "    # Заполняются camp_wave_id. Если для контроля и теста одинаковый, то пишем два раза\n",
    "    'map_camp_wave_ids_to_suffixes': {\n",
    "        75169: \"sms_viber_tg\",\n",
    "        75182: \"sms_viber_tg\",\n",
    "        75186: \"sms_viber_tg\",\n",
    "        75195: \"sms_viber_tg\",\n",
    "        75202: \"sms_viber_tg\",\n",
    "        75163: \"sms_viber_cg\"\n",
    "    },\n",
    "\n",
    "    # communication period with guest (sending sms, push, etc.)\n",
    "    'date_communication_from': '2021-12-13',\n",
    "    'date_communication_to': '2021-12-22',\n",
    "\n",
    "    'wave_ids': [\n",
    "        75423, 75448, 75461 #если нет, то -1\n",
    "    ],\n",
    "\n",
    "    'communication_costs': {\n",
    "        'sms': 1.38,\n",
    "        'viber': 1.32,\n",
    "        'email': 0.0083\n",
    "    }\n",
    "})\n",
    "#0_ + camp_wave_id +_sms_viber_ + cg (если номера волн равны) / tg (если номера волн разные)\n",
    "experiment_guests = ExperimentParticipants(spark, experiment_params)\n",
    "experiment_guests_communications = experiment_guests.extract()"
   ]
  },
  {
   "cell_type": "code",
   "execution_count": 61,
   "id": "988df4e4",
   "metadata": {},
   "outputs": [],
   "source": [
    "guests_tg = (experiment_guests_communications\n",
    "                  .filter(F.col('group_name').isin(['0_75169_sms_viber_tg', '0_75182_sms_viber_tg', '0_75186_sms_viber_tg',\n",
    "                                                   '0_75195_sms_viber_tg', '0_75202_sms_viber_tg']))\n",
    "                  .select('customer_rk').distinct()\n",
    "                 )\n",
    "\n",
    "guests_cg = (experiment_guests_communications\n",
    "                  .filter(F.col('group_name').isin(['0_75163_sms_viber_cg']))\n",
    "                  .select('customer_rk').distinct()\n",
    "                 )"
   ]
  },
  {
   "cell_type": "code",
   "execution_count": 62,
   "id": "e493a64f",
   "metadata": {},
   "outputs": [],
   "source": [
    "dt1 = datetime.datetime.strptime(experiment_params.date_communication_from, '%Y-%m-%d')\n",
    "dt2 = datetime.datetime.strptime(experiment_params.date_communication_to, '%Y-%m-%d')\n",
    "start_date = datetime.date(dt1.year, dt1.month, dt1.day)\n",
    "end_date = datetime.date(dt2.year, dt2.month, dt2.day)\n",
    "start_date_pre = start_date - datetime.timedelta(days=29.3)\n",
    "end_date_pre = start_date - datetime.timedelta(days=1)\n",
    "start_date_post = end_date + datetime.timedelta(days=1)\n",
    "end_date_post = end_date + datetime.timedelta(days=29.3)"
   ]
  },
  {
   "cell_type": "code",
   "execution_count": 63,
   "id": "ea100ffe",
   "metadata": {},
   "outputs": [
    {
     "name": "stderr",
     "output_type": "stream",
     "text": [
      "                                                                                 3991]]]]]]\r"
     ]
    }
   ],
   "source": [
    "param_pd_period_tg = get_param_general(spark, \n",
    "                    start_date, \n",
    "                    end_date, \n",
    "                    plu_codes,\n",
    "                    guests=guests_tg)\n",
    "param_pd_period_cg = get_param_general(spark, \n",
    "                    start_date, \n",
    "                    end_date, \n",
    "                    plu_codes,\n",
    "                    guests=guests_cg)"
   ]
  },
  {
   "cell_type": "code",
   "execution_count": 64,
   "id": "869b3337",
   "metadata": {},
   "outputs": [
    {
     "name": "stderr",
     "output_type": "stream",
     "text": [
      "                                                                                1779]]]]]\r"
     ]
    }
   ],
   "source": [
    "param_pd_pre_tg = get_param_general(spark, \n",
    "                    start_date_pre, \n",
    "                    end_date_pre, \n",
    "                    plu_codes,\n",
    "                    guests=guests_tg)\n",
    "param_pd_pre_cg = get_param_general(spark, \n",
    "                    start_date_pre, \n",
    "                    end_date_pre, \n",
    "                    plu_codes,\n",
    "                    guests=guests_cg)"
   ]
  },
  {
   "cell_type": "code",
   "execution_count": 65,
   "id": "2696d518",
   "metadata": {},
   "outputs": [
    {
     "name": "stderr",
     "output_type": "stream",
     "text": [
      "                                                                                97]7]0]]]]\r"
     ]
    }
   ],
   "source": [
    "param_pd_post_tg = get_param_general(spark, \n",
    "                    start_date_post, \n",
    "                    end_date_post, \n",
    "                    plu_codes,\n",
    "                    guests=guests_tg)\n",
    "param_pd_post_cg = get_param_general(spark, \n",
    "                    start_date_post, \n",
    "                    end_date_post, \n",
    "                    plu_codes,\n",
    "                    guests=guests_cg)"
   ]
  },
  {
   "cell_type": "code",
   "execution_count": 66,
   "id": "5b2c8cb4",
   "metadata": {},
   "outputs": [],
   "source": [
    "val = val.append(param_pd_period_tg)\n",
    "val = val.append(param_pd_period_cg)\n",
    "val = val.append(param_pd_pre_tg)\n",
    "val = val.append(param_pd_pre_cg)\n",
    "val = val.append(param_pd_post_tg)\n",
    "val = val.append(param_pd_post_cg)"
   ]
  },
  {
   "cell_type": "markdown",
   "id": "714f279c",
   "metadata": {},
   "source": [
    "### 8. U-27-10-alpengold-viber-sms-postavschik"
   ]
  },
  {
   "cell_type": "code",
   "execution_count": 67,
   "id": "a77b62f4",
   "metadata": {
    "collapsed": false,
    "jupyter": {
     "outputs_hidden": false
    },
    "pycharm": {
     "name": "#%%\n"
    }
   },
   "outputs": [],
   "source": [
    "camp_id = 'U-27-10-alpengold-viber-sms-postavschik'\n",
    "\n",
    "experiment_params = ExperimentParams(**{\n",
    "    # Camp wave id нужно записать в виде мапы из id в префиксы.\n",
    "    # Префиксы ни на что не влияют, просто для более красивого названия групп\n",
    "    # Заполняются camp_wave_id. Если для контроля и теста одинаковый, то пишем два раза\n",
    "    'map_camp_wave_ids_to_suffixes': {\n",
    "        75158: \"sms_viber_tg\",\n",
    "        75167: \"sms_viber_tg\",\n",
    "        75154: \"sms_viber_cg\"\n",
    "    },\n",
    "\n",
    "    # communication period with guest (sending sms, push, etc.)\n",
    "    'date_communication_from': '2021-12-13',\n",
    "    'date_communication_to': '2021-12-22',\n",
    "\n",
    "    'wave_ids': [\n",
    "        75412 #если нет, то -1\n",
    "    ],\n",
    "\n",
    "    'communication_costs': {\n",
    "        'sms': 1.38,\n",
    "        'viber': 1.32,\n",
    "        'email': 0.0083\n",
    "    }\n",
    "})\n",
    "#0_ + camp_wave_id +_sms_viber_ + cg (если номера волн равны) / tg (если номера волн разные)\n",
    "experiment_guests = ExperimentParticipants(spark, experiment_params)\n",
    "experiment_guests_communications = experiment_guests.extract()"
   ]
  },
  {
   "cell_type": "code",
   "execution_count": 68,
   "id": "614b9389",
   "metadata": {},
   "outputs": [],
   "source": [
    "guests_tg = (experiment_guests_communications\n",
    "                  .filter(F.col('group_name').isin(['0_75158_sms_viber_tg', '0_75167_sms_viber_tg']))\n",
    "                  .select('customer_rk').distinct()\n",
    "                 )\n",
    "\n",
    "guests_cg = (experiment_guests_communications\n",
    "                  .filter(F.col('group_name').isin(['0_75154_sms_viber_cg']))\n",
    "                  .select('customer_rk').distinct()\n",
    "                 )"
   ]
  },
  {
   "cell_type": "code",
   "execution_count": 69,
   "id": "8a37c0f2",
   "metadata": {},
   "outputs": [],
   "source": [
    "dt1 = datetime.datetime.strptime(experiment_params.date_communication_from, '%Y-%m-%d')\n",
    "dt2 = datetime.datetime.strptime(experiment_params.date_communication_to, '%Y-%m-%d')\n",
    "start_date = datetime.date(dt1.year, dt1.month, dt1.day)\n",
    "end_date = datetime.date(dt2.year, dt2.month, dt2.day)\n",
    "start_date_pre = start_date - datetime.timedelta(days=29.3)\n",
    "end_date_pre = start_date - datetime.timedelta(days=1)\n",
    "start_date_post = end_date + datetime.timedelta(days=1)\n",
    "end_date_post = end_date + datetime.timedelta(days=29.3)"
   ]
  },
  {
   "cell_type": "code",
   "execution_count": 70,
   "id": "4d65ddf5",
   "metadata": {},
   "outputs": [
    {
     "name": "stderr",
     "output_type": "stream",
     "text": [
      "                                                                                / 200]]]1]\r"
     ]
    }
   ],
   "source": [
    "param_pd_period_tg = get_param_general(spark, \n",
    "                    start_date, \n",
    "                    end_date, \n",
    "                    plu_codes,\n",
    "                    guests=guests_tg)\n",
    "param_pd_period_cg = get_param_general(spark, \n",
    "                    start_date, \n",
    "                    end_date, \n",
    "                    plu_codes,\n",
    "                    guests=guests_cg)"
   ]
  },
  {
   "cell_type": "code",
   "execution_count": 71,
   "id": "4282949b",
   "metadata": {},
   "outputs": [
    {
     "name": "stderr",
     "output_type": "stream",
     "text": [
      "                                                                                 / 1779]]]]]\r"
     ]
    }
   ],
   "source": [
    "param_pd_pre_tg = get_param_general(spark, \n",
    "                    start_date_pre, \n",
    "                    end_date_pre, \n",
    "                    plu_codes,\n",
    "                    guests=guests_tg)\n",
    "param_pd_pre_cg = get_param_general(spark, \n",
    "                    start_date_pre, \n",
    "                    end_date_pre, \n",
    "                    plu_codes,\n",
    "                    guests=guests_cg)"
   ]
  },
  {
   "cell_type": "code",
   "execution_count": 72,
   "id": "6f667222",
   "metadata": {},
   "outputs": [
    {
     "name": "stderr",
     "output_type": "stream",
     "text": [
      "[Stage 626:============================>                       (109 + 91) / 200]22/03/03 15:47:22 ERROR client.TransportResponseHandler: Still have 1 requests outstanding when connection from /192.168.234.74:45704 is closed\n",
      "[Stage 626:===============================>                    (121 + 79) / 200]22/03/03 15:47:22 ERROR client.TransportResponseHandler: Still have 1 requests outstanding when connection from /192.168.234.74:39976 is closed\n",
      "22/03/03 15:47:22 ERROR client.TransportResponseHandler: Still have 1 requests outstanding when connection from /192.168.234.74:39972 is closed\n",
      "22/03/03 15:47:22 ERROR client.TransportResponseHandler: Still have 1 requests outstanding when connection from /192.168.234.74:39978 is closed\n",
      "[Stage 639:(3907 + 84) / 3991][Stage 640:(793 + 27) / 3991][Stage 642:(276 + 16) / 1221]22/03/03 15:50:03 ERROR util.Utils: Uncaught exception in thread heartbeat-receiver-event-loop-thread\n",
      "java.lang.NullPointerException\n",
      "\tat org.apache.spark.util.CollectionAccumulator.value(AccumulatorV2.scala:479)\n",
      "\tat org.apache.spark.util.CollectionAccumulator.value(AccumulatorV2.scala:451)\n",
      "\tat org.apache.spark.scheduler.TaskSchedulerImpl$$anonfun$11$$anonfun$12.apply(TaskSchedulerImpl.scala:594)\n",
      "\tat org.apache.spark.scheduler.TaskSchedulerImpl$$anonfun$11$$anonfun$12.apply(TaskSchedulerImpl.scala:594)\n",
      "\tat scala.collection.TraversableLike$$anonfun$map$1.apply(TraversableLike.scala:234)\n",
      "\tat scala.collection.TraversableLike$$anonfun$map$1.apply(TraversableLike.scala:234)\n",
      "\tat scala.collection.Iterator$class.foreach(Iterator.scala:891)\n",
      "\tat scala.collection.AbstractIterator.foreach(Iterator.scala:1334)\n",
      "\tat scala.collection.IterableLike$class.foreach(IterableLike.scala:72)\n",
      "\tat scala.collection.AbstractIterable.foreach(Iterable.scala:54)\n",
      "\tat scala.collection.TraversableLike$class.map(TraversableLike.scala:234)\n",
      "\tat scala.collection.AbstractTraversable.map(Traversable.scala:104)\n",
      "\tat org.apache.spark.scheduler.TaskSchedulerImpl$$anonfun$11.apply(TaskSchedulerImpl.scala:594)\n",
      "\tat org.apache.spark.scheduler.TaskSchedulerImpl$$anonfun$11.apply(TaskSchedulerImpl.scala:593)\n",
      "\tat scala.collection.TraversableLike$$anonfun$flatMap$1.apply(TraversableLike.scala:241)\n",
      "\tat scala.collection.TraversableLike$$anonfun$flatMap$1.apply(TraversableLike.scala:241)\n",
      "\tat scala.collection.IndexedSeqOptimized$class.foreach(IndexedSeqOptimized.scala:33)\n",
      "\tat scala.collection.mutable.ArrayOps$ofRef.foreach(ArrayOps.scala:186)\n",
      "\tat scala.collection.TraversableLike$class.flatMap(TraversableLike.scala:241)\n",
      "\tat scala.collection.mutable.ArrayOps$ofRef.flatMap(ArrayOps.scala:186)\n",
      "\tat org.apache.spark.scheduler.TaskSchedulerImpl.executorHeartbeatReceived(TaskSchedulerImpl.scala:593)\n",
      "\tat org.apache.spark.HeartbeatReceiver$$anonfun$receiveAndReply$1$$anon$2$$anonfun$run$2.apply$mcV$sp(HeartbeatReceiver.scala:128)\n",
      "\tat org.apache.spark.util.Utils$.tryLogNonFatalError(Utils.scala:1340)\n",
      "\tat org.apache.spark.HeartbeatReceiver$$anonfun$receiveAndReply$1$$anon$2.run(HeartbeatReceiver.scala:127)\n",
      "\tat java.util.concurrent.Executors$RunnableAdapter.call(Executors.java:511)\n",
      "\tat java.util.concurrent.FutureTask.run(FutureTask.java:266)\n",
      "\tat java.util.concurrent.ScheduledThreadPoolExecutor$ScheduledFutureTask.access$201(ScheduledThreadPoolExecutor.java:180)\n",
      "\tat java.util.concurrent.ScheduledThreadPoolExecutor$ScheduledFutureTask.run(ScheduledThreadPoolExecutor.java:293)\n",
      "\tat java.util.concurrent.ThreadPoolExecutor.runWorker(ThreadPoolExecutor.java:1149)\n",
      "\tat java.util.concurrent.ThreadPoolExecutor$Worker.run(ThreadPoolExecutor.java:624)\n",
      "\tat java.lang.Thread.run(Thread.java:748)\n",
      "                                                                                1797]]]]]]\r"
     ]
    }
   ],
   "source": [
    "param_pd_post_tg = get_param_general(spark, \n",
    "                    start_date_post, \n",
    "                    end_date_post, \n",
    "                    plu_codes,\n",
    "                    guests=guests_tg)\n",
    "param_pd_post_cg = get_param_general(spark, \n",
    "                    start_date_post, \n",
    "                    end_date_post, \n",
    "                    plu_codes,\n",
    "                    guests=guests_cg)"
   ]
  },
  {
   "cell_type": "code",
   "execution_count": 73,
   "id": "0aacb06b",
   "metadata": {},
   "outputs": [],
   "source": [
    "val = val.append(param_pd_period_tg)\n",
    "val = val.append(param_pd_period_cg)\n",
    "val = val.append(param_pd_pre_tg)\n",
    "val = val.append(param_pd_pre_cg)\n",
    "val = val.append(param_pd_post_tg)\n",
    "val = val.append(param_pd_post_cg)"
   ]
  },
  {
   "cell_type": "markdown",
   "id": "ea9223e9",
   "metadata": {},
   "source": [
    "### 9. A-24-22-recurrent-Alpengold-milk-w3-no"
   ]
  },
  {
   "cell_type": "code",
   "execution_count": 74,
   "id": "60bed9fa",
   "metadata": {
    "collapsed": false,
    "jupyter": {
     "outputs_hidden": false
    },
    "pycharm": {
     "name": "#%%\n"
    }
   },
   "outputs": [],
   "source": [
    "camp_id = 'A-24-22-recurrent-Alpengold-milk-w3-no'\n",
    "\n",
    "experiment_params = ExperimentParams(**{\n",
    "    # Camp wave id нужно записать в виде мапы из id в префиксы.\n",
    "    # Префиксы ни на что не влияют, просто для более красивого названия групп\n",
    "    # Заполняются camp_wave_id. Если для контроля и теста одинаковый, то пишем два раза\n",
    "    'map_camp_wave_ids_to_suffixes': {\n",
    "        65450: \"sms_viber_tg\",\n",
    "        64510: \"sms_viber_cg\"\n",
    "    },\n",
    "\n",
    "    # communication period with guest (sending sms, push, etc.)\n",
    "    'date_communication_from': '2021-10-21',\n",
    "    'date_communication_to': '2021-10-25',\n",
    "\n",
    "    'wave_ids': [\n",
    "        65635 #если нет, то -1\n",
    "    ],\n",
    "\n",
    "    'communication_costs': {\n",
    "        'sms': 1.38,\n",
    "        'viber': 1.32,\n",
    "        'email': 0.0083\n",
    "    }\n",
    "})\n",
    "#0_ + camp_wave_id +_sms_viber_ + cg (если номера волн равны) / tg (если номера волн разные)\n",
    "experiment_guests = ExperimentParticipants(spark, experiment_params)\n",
    "experiment_guests_communications = experiment_guests.extract()"
   ]
  },
  {
   "cell_type": "code",
   "execution_count": 75,
   "id": "a59dcc9f",
   "metadata": {},
   "outputs": [],
   "source": [
    "if len(list(experiment_params.map_camp_wave_ids_to_suffixes.keys())) > 1:\n",
    "    if str(list(experiment_params.map_camp_wave_ids_to_suffixes.keys())[0]) != str(list(experiment_params.map_camp_wave_ids_to_suffixes.keys())[1]):\n",
    "        guests_tg = (experiment_guests_communications\n",
    "                  .filter(F.col('group_name') == '0_' +\n",
    "                        str(list(experiment_params.map_camp_wave_ids_to_suffixes.keys())[0]) + '_' +\n",
    "                        list(experiment_params.map_camp_wave_ids_to_suffixes.values())[0])\n",
    "                  .select('customer_rk').distinct()\n",
    "                 )\n",
    "\n",
    "        guests_cg = (experiment_guests_communications\n",
    "                  .filter(F.col('group_name') == '0_' +\n",
    "                        str(list(experiment_params.map_camp_wave_ids_to_suffixes.keys())[1]) + '_' +\n",
    "                        list(experiment_params.map_camp_wave_ids_to_suffixes.values())[1])\n",
    "                  .select('customer_rk').distinct()\n",
    "                 )\n",
    "    else:\n",
    "        print(\"Error - check the camp waves ids\")\n",
    "else:\n",
    "    guests_tg = (experiment_guests_communications\n",
    "              .filter(F.col('group_name') == '0_' +\n",
    "                    str(list(experiment_params.map_camp_wave_ids_to_suffixes.keys())[0]) + '_' +\n",
    "                    list(experiment_params.map_camp_wave_ids_to_suffixes.values())[0])\n",
    "              .select('customer_rk').distinct()\n",
    "             )\n",
    "\n",
    "    guests_cg = (experiment_guests_communications\n",
    "              .filter(F.col('group_name') == '1_' +\n",
    "                    str(list(experiment_params.map_camp_wave_ids_to_suffixes.keys())[0]) + '_' +\n",
    "                    list(experiment_params.map_camp_wave_ids_to_suffixes.values())[0])\n",
    "              .select('customer_rk').distinct()\n",
    "             )"
   ]
  },
  {
   "cell_type": "code",
   "execution_count": 76,
   "id": "f66f6042",
   "metadata": {},
   "outputs": [],
   "source": [
    "dt1 = datetime.datetime.strptime(experiment_params.date_communication_from, '%Y-%m-%d')\n",
    "dt2 = datetime.datetime.strptime(experiment_params.date_communication_to, '%Y-%m-%d')\n",
    "start_date = datetime.date(dt1.year, dt1.month, dt1.day)\n",
    "end_date = datetime.date(dt2.year, dt2.month, dt2.day)\n",
    "start_date_pre = start_date - datetime.timedelta(days=29.3)\n",
    "end_date_pre = start_date - datetime.timedelta(days=1)\n",
    "start_date_post = end_date + datetime.timedelta(days=1)\n",
    "end_date_post = end_date + datetime.timedelta(days=29.3)"
   ]
  },
  {
   "cell_type": "code",
   "execution_count": 77,
   "id": "1dc5b408",
   "metadata": {},
   "outputs": [
    {
     "name": "stderr",
     "output_type": "stream",
     "text": [
      "                                                                                 / 1221]]]]\r"
     ]
    }
   ],
   "source": [
    "param_pd_period_tg = get_param_general(spark, \n",
    "                    start_date, \n",
    "                    end_date, \n",
    "                    plu_codes,\n",
    "                    guests=guests_tg)\n",
    "param_pd_period_cg = get_param_general(spark, \n",
    "                    start_date, \n",
    "                    end_date, \n",
    "                    plu_codes,\n",
    "                    guests=guests_cg)"
   ]
  },
  {
   "cell_type": "code",
   "execution_count": 78,
   "id": "572cc38a",
   "metadata": {},
   "outputs": [
    {
     "name": "stderr",
     "output_type": "stream",
     "text": [
      "                                                                                / 1742]]]]]]]\r"
     ]
    }
   ],
   "source": [
    "param_pd_pre_tg = get_param_general(spark, \n",
    "                    start_date_pre, \n",
    "                    end_date_pre, \n",
    "                    plu_codes,\n",
    "                    guests=guests_tg)\n",
    "param_pd_pre_cg = get_param_general(spark, \n",
    "                    start_date_pre, \n",
    "                    end_date_pre, \n",
    "                    plu_codes,\n",
    "                    guests=guests_cg)"
   ]
  },
  {
   "cell_type": "code",
   "execution_count": 79,
   "id": "13bc68ce",
   "metadata": {},
   "outputs": [
    {
     "name": "stderr",
     "output_type": "stream",
     "text": [
      "[Stage 748:(2474 + 495) / 3991][Stage 749:(975 + 1) / 1221][Stage 751:(941 + 0) / 3991]22/03/03 16:16:28 ERROR util.Utils: Uncaught exception in thread heartbeat-receiver-event-loop-thread\n",
      "java.lang.NullPointerException\n",
      "\tat org.apache.spark.util.CollectionAccumulator.value(AccumulatorV2.scala:479)\n",
      "\tat org.apache.spark.util.CollectionAccumulator.value(AccumulatorV2.scala:451)\n",
      "\tat org.apache.spark.scheduler.TaskSchedulerImpl$$anonfun$11$$anonfun$12.apply(TaskSchedulerImpl.scala:594)\n",
      "\tat org.apache.spark.scheduler.TaskSchedulerImpl$$anonfun$11$$anonfun$12.apply(TaskSchedulerImpl.scala:594)\n",
      "\tat scala.collection.TraversableLike$$anonfun$map$1.apply(TraversableLike.scala:234)\n",
      "\tat scala.collection.TraversableLike$$anonfun$map$1.apply(TraversableLike.scala:234)\n",
      "\tat scala.collection.Iterator$class.foreach(Iterator.scala:891)\n",
      "\tat scala.collection.AbstractIterator.foreach(Iterator.scala:1334)\n",
      "\tat scala.collection.IterableLike$class.foreach(IterableLike.scala:72)\n",
      "\tat scala.collection.AbstractIterable.foreach(Iterable.scala:54)\n",
      "\tat scala.collection.TraversableLike$class.map(TraversableLike.scala:234)\n",
      "\tat scala.collection.AbstractTraversable.map(Traversable.scala:104)\n",
      "\tat org.apache.spark.scheduler.TaskSchedulerImpl$$anonfun$11.apply(TaskSchedulerImpl.scala:594)\n",
      "\tat org.apache.spark.scheduler.TaskSchedulerImpl$$anonfun$11.apply(TaskSchedulerImpl.scala:593)\n",
      "\tat scala.collection.TraversableLike$$anonfun$flatMap$1.apply(TraversableLike.scala:241)\n",
      "\tat scala.collection.TraversableLike$$anonfun$flatMap$1.apply(TraversableLike.scala:241)\n",
      "\tat scala.collection.IndexedSeqOptimized$class.foreach(IndexedSeqOptimized.scala:33)\n",
      "\tat scala.collection.mutable.ArrayOps$ofRef.foreach(ArrayOps.scala:186)\n",
      "\tat scala.collection.TraversableLike$class.flatMap(TraversableLike.scala:241)\n",
      "\tat scala.collection.mutable.ArrayOps$ofRef.flatMap(ArrayOps.scala:186)\n",
      "\tat org.apache.spark.scheduler.TaskSchedulerImpl.executorHeartbeatReceived(TaskSchedulerImpl.scala:593)\n",
      "\tat org.apache.spark.HeartbeatReceiver$$anonfun$receiveAndReply$1$$anon$2$$anonfun$run$2.apply$mcV$sp(HeartbeatReceiver.scala:128)\n",
      "\tat org.apache.spark.util.Utils$.tryLogNonFatalError(Utils.scala:1340)\n",
      "\tat org.apache.spark.HeartbeatReceiver$$anonfun$receiveAndReply$1$$anon$2.run(HeartbeatReceiver.scala:127)\n",
      "\tat java.util.concurrent.Executors$RunnableAdapter.call(Executors.java:511)\n",
      "\tat java.util.concurrent.FutureTask.run(FutureTask.java:266)\n",
      "\tat java.util.concurrent.ScheduledThreadPoolExecutor$ScheduledFutureTask.access$201(ScheduledThreadPoolExecutor.java:180)\n",
      "\tat java.util.concurrent.ScheduledThreadPoolExecutor$ScheduledFutureTask.run(ScheduledThreadPoolExecutor.java:293)\n",
      "\tat java.util.concurrent.ThreadPoolExecutor.runWorker(ThreadPoolExecutor.java:1149)\n",
      "\tat java.util.concurrent.ThreadPoolExecutor$Worker.run(ThreadPoolExecutor.java:624)\n",
      "\tat java.lang.Thread.run(Thread.java:748)\n",
      "                                                                                ) / 1803]]\r"
     ]
    }
   ],
   "source": [
    "param_pd_post_tg = get_param_general(spark, \n",
    "                    start_date_post, \n",
    "                    end_date_post, \n",
    "                    plu_codes,\n",
    "                    guests=guests_tg)\n",
    "param_pd_post_cg = get_param_general(spark, \n",
    "                    start_date_post, \n",
    "                    end_date_post, \n",
    "                    plu_codes,\n",
    "                    guests=guests_cg)"
   ]
  },
  {
   "cell_type": "code",
   "execution_count": 80,
   "id": "d3dba05b",
   "metadata": {},
   "outputs": [],
   "source": [
    "val = val.append(param_pd_period_tg)\n",
    "val = val.append(param_pd_period_cg)\n",
    "val = val.append(param_pd_pre_tg)\n",
    "val = val.append(param_pd_pre_cg)\n",
    "val = val.append(param_pd_post_tg)\n",
    "val = val.append(param_pd_post_cg)"
   ]
  },
  {
   "cell_type": "markdown",
   "id": "dd25f48a",
   "metadata": {},
   "source": [
    "### 10. X-24-36-Mondelez-AlpenGold-Milk-sof"
   ]
  },
  {
   "cell_type": "code",
   "execution_count": 81,
   "id": "76ec9fb2",
   "metadata": {
    "collapsed": false,
    "jupyter": {
     "outputs_hidden": false
    },
    "pycharm": {
     "name": "#%%\n"
    }
   },
   "outputs": [],
   "source": [
    "camp_id = 'X-24-36-Mondelez-AlpenGold-Milk-sof'\n",
    "\n",
    "experiment_params = ExperimentParams(**{\n",
    "    # Camp wave id нужно записать в виде мапы из id в префиксы.\n",
    "    # Префиксы ни на что не влияют, просто для более красивого названия групп\n",
    "    # Заполняются camp_wave_id. Если для контроля и теста одинаковый, то пишем два раза\n",
    "    'map_camp_wave_ids_to_suffixes': {\n",
    "        64840 : \"sms_viber_tg\",\n",
    "        65046: \"sms_viber_tg\",\n",
    "        64840: \"sms_viber_cg\",\n",
    "        65046: \"sms_viber_cg\"\n",
    "    },\n",
    "\n",
    "    # communication period with guest (sending sms, push, etc.)\n",
    "    'date_communication_from': '2021-10-19',\n",
    "    'date_communication_to': '2021-10-25',\n",
    "\n",
    "    'wave_ids': [\n",
    "        65261 #если нет, то -1\n",
    "    ],\n",
    "\n",
    "    'communication_costs': {\n",
    "        'sms': 1.38,\n",
    "        'viber': 1.32,\n",
    "        'email': 0.0083\n",
    "    }\n",
    "})\n",
    "#0_ + camp_wave_id +_sms_viber_ + cg (если номера волн равны) / tg (если номера волн разные)\n",
    "experiment_guests = ExperimentParticipants(spark, experiment_params)\n",
    "experiment_guests_communications = experiment_guests.extract()"
   ]
  },
  {
   "cell_type": "code",
   "execution_count": 82,
   "id": "8ae5612d",
   "metadata": {},
   "outputs": [],
   "source": [
    "guests_tg = (experiment_guests_communications\n",
    "                  .filter(F.col('group_name').isin(['0_64840_sms_viber_tg', '0_65046_sms_viber_tg']))\n",
    "                  .select('customer_rk').distinct()\n",
    "                 )\n",
    "\n",
    "guests_cg = (experiment_guests_communications\n",
    "                  .filter(F.col('group_name').isin(['0_64840_sms_viber_cg', '0_65046_sms_viber_cg']))\n",
    "                  .select('customer_rk').distinct()\n",
    "                 )"
   ]
  },
  {
   "cell_type": "code",
   "execution_count": 83,
   "id": "4774e63a",
   "metadata": {},
   "outputs": [],
   "source": [
    "dt1 = datetime.datetime.strptime(experiment_params.date_communication_from, '%Y-%m-%d')\n",
    "dt2 = datetime.datetime.strptime(experiment_params.date_communication_to, '%Y-%m-%d')\n",
    "start_date = datetime.date(dt1.year, dt1.month, dt1.day)\n",
    "end_date = datetime.date(dt2.year, dt2.month, dt2.day)\n",
    "start_date_pre = start_date - datetime.timedelta(days=29.3)\n",
    "end_date_pre = start_date - datetime.timedelta(days=1)\n",
    "start_date_post = end_date + datetime.timedelta(days=1)\n",
    "end_date_post = end_date + datetime.timedelta(days=29.3)"
   ]
  },
  {
   "cell_type": "code",
   "execution_count": 84,
   "id": "92b2370b",
   "metadata": {},
   "outputs": [
    {
     "name": "stderr",
     "output_type": "stream",
     "text": [
      "                                                                                 / 517]]]]\r"
     ]
    }
   ],
   "source": [
    "param_pd_period_tg = get_param_general(spark, \n",
    "                    start_date, \n",
    "                    end_date, \n",
    "                    plu_codes,\n",
    "                    guests=guests_tg)\n",
    "param_pd_period_cg = get_param_general(spark, \n",
    "                    start_date, \n",
    "                    end_date, \n",
    "                    plu_codes,\n",
    "                    guests=guests_cg)"
   ]
  },
  {
   "cell_type": "code",
   "execution_count": 85,
   "id": "0d8c760a",
   "metadata": {},
   "outputs": [
    {
     "name": "stderr",
     "output_type": "stream",
     "text": [
      "[Stage 804:(209 + 1) / 210][Stage 805:(918 + 35) / 3991][Stage 806:(206 + 34) / 1221]22/03/03 16:26:48 ERROR cluster.YarnScheduler: Lost executor 1480 on mn-hd0172.x5.ru: Unable to create executor due to Unable to register with external shuffle server due to : java.util.concurrent.TimeoutException: Timeout waiting for task.\n",
      "                                                                                 1736]]]]]]\r"
     ]
    }
   ],
   "source": [
    "param_pd_pre_tg = get_param_general(spark, \n",
    "                    start_date_pre, \n",
    "                    end_date_pre, \n",
    "                    plu_codes,\n",
    "                    guests=guests_tg)\n",
    "param_pd_pre_cg = get_param_general(spark, \n",
    "                    start_date_pre, \n",
    "                    end_date_pre, \n",
    "                    plu_codes,\n",
    "                    guests=guests_cg)"
   ]
  },
  {
   "cell_type": "code",
   "execution_count": 86,
   "id": "a6df8d56",
   "metadata": {},
   "outputs": [
    {
     "name": "stderr",
     "output_type": "stream",
     "text": [
      "                                                                                1803]]3]]]]\r"
     ]
    }
   ],
   "source": [
    "param_pd_post_tg = get_param_general(spark, \n",
    "                    start_date_post, \n",
    "                    end_date_post, \n",
    "                    plu_codes,\n",
    "                    guests=guests_tg)\n",
    "param_pd_post_cg = get_param_general(spark, \n",
    "                    start_date_post, \n",
    "                    end_date_post, \n",
    "                    plu_codes,\n",
    "                    guests=guests_cg)"
   ]
  },
  {
   "cell_type": "code",
   "execution_count": 87,
   "id": "cb866bb9",
   "metadata": {},
   "outputs": [],
   "source": [
    "val = val.append(param_pd_period_tg)\n",
    "val = val.append(param_pd_period_cg)\n",
    "val = val.append(param_pd_pre_tg)\n",
    "val = val.append(param_pd_pre_cg)\n",
    "val = val.append(param_pd_post_tg)\n",
    "val = val.append(param_pd_post_cg)"
   ]
  },
  {
   "cell_type": "markdown",
   "id": "33b533fd",
   "metadata": {},
   "source": [
    "### 11. X-24-34-Mondelez-AlpenGold-Cookies-sof"
   ]
  },
  {
   "cell_type": "code",
   "execution_count": 88,
   "id": "67f14eb8",
   "metadata": {
    "collapsed": false,
    "jupyter": {
     "outputs_hidden": false
    },
    "pycharm": {
     "name": "#%%\n"
    }
   },
   "outputs": [],
   "source": [
    "camp_id = 'X-24-34-Mondelez-AlpenGold-Cookies-sof'\n",
    "\n",
    "experiment_params = ExperimentParams(**{\n",
    "    # Camp wave id нужно записать в виде мапы из id в префиксы.\n",
    "    # Префиксы ни на что не влияют, просто для более красивого названия групп\n",
    "    # Заполняются camp_wave_id. Если для контроля и теста одинаковый, то пишем два раза\n",
    "    'map_camp_wave_ids_to_suffixes': {\n",
    "        64841: \"sms_viber_tg\",\n",
    "        65034: \"sms_viber_tg\",\n",
    "        64841: \"sms_viber_cg\",\n",
    "        65034: \"sms_viber_cg\"\n",
    "    },\n",
    "\n",
    "    # communication period with guest (sending sms, push, etc.)\n",
    "    'date_communication_from': '2021-10-19',\n",
    "    'date_communication_to': '2021-10-25',\n",
    "\n",
    "    'wave_ids': [\n",
    "        65258 #если нет, то -1\n",
    "    ],\n",
    "\n",
    "    'communication_costs': {\n",
    "        'sms': 1.38,\n",
    "        'viber': 1.32,\n",
    "        'email': 0.0083\n",
    "    }\n",
    "})\n",
    "#0_ + camp_wave_id +_sms_viber_ + cg (если номера волн равны) / tg (если номера волн разные)\n",
    "experiment_guests = ExperimentParticipants(spark, experiment_params)\n",
    "experiment_guests_communications = experiment_guests.extract()"
   ]
  },
  {
   "cell_type": "code",
   "execution_count": 89,
   "id": "93af0e0d",
   "metadata": {},
   "outputs": [],
   "source": [
    "guests_tg = (experiment_guests_communications\n",
    "                  .filter(F.col('group_name').isin(['0_64841_sms_viber_tg', '0_65034_sms_viber_tg']))\n",
    "                  .select('customer_rk').distinct()\n",
    "                 )\n",
    "\n",
    "guests_cg = (experiment_guests_communications\n",
    "                  .filter(F.col('group_name').isin(['0_64841_sms_viber_cg', '0_65034_sms_viber_cg']))\n",
    "                  .select('customer_rk').distinct()\n",
    "                 )"
   ]
  },
  {
   "cell_type": "code",
   "execution_count": 90,
   "id": "6b195e11",
   "metadata": {},
   "outputs": [],
   "source": [
    "dt1 = datetime.datetime.strptime(experiment_params.date_communication_from, '%Y-%m-%d')\n",
    "dt2 = datetime.datetime.strptime(experiment_params.date_communication_to, '%Y-%m-%d')\n",
    "start_date = datetime.date(dt1.year, dt1.month, dt1.day)\n",
    "end_date = datetime.date(dt2.year, dt2.month, dt2.day)\n",
    "start_date_pre = start_date - datetime.timedelta(days=29.3)\n",
    "end_date_pre = start_date - datetime.timedelta(days=1)\n",
    "start_date_post = end_date + datetime.timedelta(days=1)\n",
    "end_date_post = end_date + datetime.timedelta(days=29.3)"
   ]
  },
  {
   "cell_type": "code",
   "execution_count": 91,
   "id": "caacfedf",
   "metadata": {},
   "outputs": [
    {
     "name": "stderr",
     "output_type": "stream",
     "text": [
      "                                                                                 3991]]]]]\r"
     ]
    }
   ],
   "source": [
    "param_pd_period_tg = get_param_general(spark, \n",
    "                    start_date, \n",
    "                    end_date, \n",
    "                    plu_codes,\n",
    "                    guests=guests_tg)\n",
    "param_pd_period_cg = get_param_general(spark, \n",
    "                    start_date, \n",
    "                    end_date, \n",
    "                    plu_codes,\n",
    "                    guests=guests_cg)"
   ]
  },
  {
   "cell_type": "code",
   "execution_count": 92,
   "id": "7bdb8e4f",
   "metadata": {},
   "outputs": [
    {
     "name": "stderr",
     "output_type": "stream",
     "text": [
      "                                                                                36]]]]]]]]\r"
     ]
    }
   ],
   "source": [
    "param_pd_pre_tg = get_param_general(spark, \n",
    "                    start_date_pre, \n",
    "                    end_date_pre, \n",
    "                    plu_codes,\n",
    "                    guests=guests_tg)\n",
    "param_pd_pre_cg = get_param_general(spark, \n",
    "                    start_date_pre, \n",
    "                    end_date_pre, \n",
    "                    plu_codes,\n",
    "                    guests=guests_cg)"
   ]
  },
  {
   "cell_type": "code",
   "execution_count": 93,
   "id": "8bc46111",
   "metadata": {},
   "outputs": [
    {
     "name": "stderr",
     "output_type": "stream",
     "text": [
      "                                                                                / 1803]]]]\r"
     ]
    }
   ],
   "source": [
    "param_pd_post_tg = get_param_general(spark, \n",
    "                    start_date_post, \n",
    "                    end_date_post, \n",
    "                    plu_codes,\n",
    "                    guests=guests_tg)\n",
    "param_pd_post_cg = get_param_general(spark, \n",
    "                    start_date_post, \n",
    "                    end_date_post, \n",
    "                    plu_codes,\n",
    "                    guests=guests_cg)"
   ]
  },
  {
   "cell_type": "code",
   "execution_count": 94,
   "id": "fd5a9d35",
   "metadata": {},
   "outputs": [],
   "source": [
    "val = val.append(param_pd_period_tg)\n",
    "val = val.append(param_pd_period_cg)\n",
    "val = val.append(param_pd_pre_tg)\n",
    "val = val.append(param_pd_pre_cg)\n",
    "val = val.append(param_pd_post_tg)\n",
    "val = val.append(param_pd_post_cg)"
   ]
  },
  {
   "cell_type": "markdown",
   "id": "a5e262c8",
   "metadata": {},
   "source": [
    "### 12. A-24-22-recurrent-Alpengold-milk-w3-yes"
   ]
  },
  {
   "cell_type": "code",
   "execution_count": 95,
   "id": "c98bbf61",
   "metadata": {
    "collapsed": false,
    "jupyter": {
     "outputs_hidden": false
    },
    "pycharm": {
     "name": "#%%\n"
    }
   },
   "outputs": [],
   "source": [
    "camp_id = 'A-24-22-recurrent-Alpengold-milk-w3-yes'\n",
    "\n",
    "experiment_params = ExperimentParams(**{\n",
    "    # Camp wave id нужно записать в виде мапы из id в префиксы.\n",
    "    # Префиксы ни на что не влияют, просто для более красивого названия групп\n",
    "    # Заполняются camp_wave_id. Если для контроля и теста одинаковый, то пишем два раза\n",
    "    'map_camp_wave_ids_to_suffixes': {\n",
    "        65444: \"sms_viber_tg\",\n",
    "        64510: \"sms_viber_cg\"\n",
    "    },\n",
    "\n",
    "    # communication period with guest (sending sms, push, etc.)\n",
    "    'date_communication_from': '2021-10-21',\n",
    "    'date_communication_to': '2021-10-25',\n",
    "\n",
    "    'wave_ids': [\n",
    "        65629 #если нет, то -1\n",
    "    ],\n",
    "\n",
    "    'communication_costs': {\n",
    "        'sms': 1.38,\n",
    "        'viber': 1.32,\n",
    "        'email': 0.0083\n",
    "    }\n",
    "})\n",
    "#0_ + camp_wave_id +_sms_viber_ + cg (если номера волн равны) / tg (если номера волн разные)\n",
    "experiment_guests = ExperimentParticipants(spark, experiment_params)\n",
    "experiment_guests_communications = experiment_guests.extract()"
   ]
  },
  {
   "cell_type": "code",
   "execution_count": 96,
   "id": "6dbb2c44",
   "metadata": {},
   "outputs": [],
   "source": [
    "if len(list(experiment_params.map_camp_wave_ids_to_suffixes.keys())) > 1:\n",
    "    if str(list(experiment_params.map_camp_wave_ids_to_suffixes.keys())[0]) != str(list(experiment_params.map_camp_wave_ids_to_suffixes.keys())[1]):\n",
    "        guests_tg = (experiment_guests_communications\n",
    "                  .filter(F.col('group_name') == '0_' +\n",
    "                        str(list(experiment_params.map_camp_wave_ids_to_suffixes.keys())[0]) + '_' +\n",
    "                        list(experiment_params.map_camp_wave_ids_to_suffixes.values())[0])\n",
    "                  .select('customer_rk').distinct()\n",
    "                 )\n",
    "\n",
    "        guests_cg = (experiment_guests_communications\n",
    "                  .filter(F.col('group_name') == '0_' +\n",
    "                        str(list(experiment_params.map_camp_wave_ids_to_suffixes.keys())[1]) + '_' +\n",
    "                        list(experiment_params.map_camp_wave_ids_to_suffixes.values())[1])\n",
    "                  .select('customer_rk').distinct()\n",
    "                 )\n",
    "    else:\n",
    "        print(\"Error - check the camp waves ids\")\n",
    "else:\n",
    "    guests_tg = (experiment_guests_communications\n",
    "              .filter(F.col('group_name') == '0_' +\n",
    "                    str(list(experiment_params.map_camp_wave_ids_to_suffixes.keys())[0]) + '_' +\n",
    "                    list(experiment_params.map_camp_wave_ids_to_suffixes.values())[0])\n",
    "              .select('customer_rk').distinct()\n",
    "             )\n",
    "\n",
    "    guests_cg = (experiment_guests_communications\n",
    "              .filter(F.col('group_name') == '1_' +\n",
    "                    str(list(experiment_params.map_camp_wave_ids_to_suffixes.keys())[0]) + '_' +\n",
    "                    list(experiment_params.map_camp_wave_ids_to_suffixes.values())[0])\n",
    "              .select('customer_rk').distinct()\n",
    "             )"
   ]
  },
  {
   "cell_type": "code",
   "execution_count": 97,
   "id": "542ebd2c",
   "metadata": {},
   "outputs": [],
   "source": [
    "dt1 = datetime.datetime.strptime(experiment_params.date_communication_from, '%Y-%m-%d')\n",
    "dt2 = datetime.datetime.strptime(experiment_params.date_communication_to, '%Y-%m-%d')\n",
    "start_date = datetime.date(dt1.year, dt1.month, dt1.day)\n",
    "end_date = datetime.date(dt2.year, dt2.month, dt2.day)\n",
    "start_date_pre = start_date - datetime.timedelta(days=29.3)\n",
    "end_date_pre = start_date - datetime.timedelta(days=1)\n",
    "start_date_post = end_date + datetime.timedelta(days=1)\n",
    "end_date_post = end_date + datetime.timedelta(days=29.3)"
   ]
  },
  {
   "cell_type": "code",
   "execution_count": 98,
   "id": "0dacf556",
   "metadata": {},
   "outputs": [
    {
     "name": "stderr",
     "output_type": "stream",
     "text": [
      "                                                                                / 200]0]]]]]\r"
     ]
    }
   ],
   "source": [
    "param_pd_period_tg = get_param_general(spark, \n",
    "                    start_date, \n",
    "                    end_date, \n",
    "                    plu_codes,\n",
    "                    guests=guests_tg)\n",
    "param_pd_period_cg = get_param_general(spark, \n",
    "                    start_date, \n",
    "                    end_date, \n",
    "                    plu_codes,\n",
    "                    guests=guests_cg)"
   ]
  },
  {
   "cell_type": "code",
   "execution_count": 99,
   "id": "416a7b8b",
   "metadata": {},
   "outputs": [
    {
     "name": "stderr",
     "output_type": "stream",
     "text": [
      "                                                                                 1742]]]]]]]\r"
     ]
    }
   ],
   "source": [
    "param_pd_pre_tg = get_param_general(spark, \n",
    "                    start_date_pre, \n",
    "                    end_date_pre, \n",
    "                    plu_codes,\n",
    "                    guests=guests_tg)\n",
    "param_pd_pre_cg = get_param_general(spark, \n",
    "                    start_date_pre, \n",
    "                    end_date_pre, \n",
    "                    plu_codes,\n",
    "                    guests=guests_cg)"
   ]
  },
  {
   "cell_type": "code",
   "execution_count": 100,
   "id": "b887d151",
   "metadata": {},
   "outputs": [
    {
     "name": "stderr",
     "output_type": "stream",
     "text": [
      "22/03/03 17:47:57 ERROR client.TransportResponseHandler: Still have 1 requests outstanding when connection from /192.168.234.74:55184 is closed\n",
      "22/03/03 17:47:57 ERROR client.TransportResponseHandler: Still have 1 requests outstanding when connection from /192.168.234.74:35678 is closed\n",
      "22/03/03 17:47:57 ERROR client.TransportResponseHandler: Still have 1 requests outstanding when connection from /192.168.234.74:43328 is closed\n",
      "22/03/03 17:47:57 ERROR client.TransportResponseHandler: Still have 1 requests outstanding when connection from /192.168.234.74:32968 is closed\n",
      "22/03/03 17:47:57 ERROR client.TransportResponseHandler: Still have 1 requests outstanding when connection from /192.168.234.74:55182 is closed\n",
      "22/03/03 17:47:57 ERROR client.TransportResponseHandler: Still have 1 requests outstanding when connection from /192.168.234.74:59164 is closed\n",
      "22/03/03 17:47:57 ERROR client.TransportResponseHandler: Still have 1 requests outstanding when connection from /192.168.234.74:43332 is closed\n",
      "22/03/03 17:47:57 ERROR client.TransportResponseHandler: Still have 1 requests outstanding when connection from /192.168.234.74:43326 is closed\n",
      "22/03/03 17:47:57 ERROR client.TransportResponseHandler: Still have 1 requests outstanding when connection from /192.168.234.74:32946 is closed\n",
      "22/03/03 17:47:57 ERROR client.TransportResponseHandler: Still have 1 requests outstanding when connection from /192.168.234.74:59158 is closed\n",
      "22/03/03 17:47:57 ERROR client.TransportResponseHandler: Still have 1 requests outstanding when connection from /192.168.234.74:35920 is closed\n",
      "22/03/03 17:47:57 ERROR client.TransportResponseHandler: Still have 1 requests outstanding when connection from /192.168.234.74:53374 is closed\n",
      "22/03/03 17:47:57 ERROR client.TransportResponseHandler: Still have 1 requests outstanding when connection from /192.168.234.74:34988 is closed\n",
      "22/03/03 17:47:57 ERROR client.TransportResponseHandler: Still have 1 requests outstanding when connection from /192.168.234.74:42832 is closed\n",
      "22/03/03 17:47:57 ERROR client.TransportResponseHandler: Still have 1 requests outstanding when connection from /192.168.234.74:39992 is closed\n",
      "22/03/03 17:47:57 ERROR client.TransportResponseHandler: Still have 1 requests outstanding when connection from /192.168.234.74:56496 is closed\n",
      "22/03/03 17:47:57 ERROR client.TransportResponseHandler: Still have 1 requests outstanding when connection from /192.168.234.74:56500 is closed\n",
      "22/03/03 17:47:57 ERROR client.TransportResponseHandler: Still have 1 requests outstanding when connection from /192.168.234.74:53372 is closed\n",
      "22/03/03 17:47:57 ERROR client.TransportResponseHandler: Still have 1 requests outstanding when connection from /192.168.234.74:53370 is closed\n",
      "22/03/03 17:47:57 ERROR client.TransportResponseHandler: Still have 1 requests outstanding when connection from /192.168.234.74:34994 is closed\n",
      "22/03/03 17:47:57 ERROR client.TransportResponseHandler: Still have 1 requests outstanding when connection from /192.168.234.74:42844 is closed\n",
      "22/03/03 17:47:57 ERROR client.TransportResponseHandler: Still have 1 requests outstanding when connection from /192.168.234.74:57988 is closed\n",
      "22/03/03 17:47:57 ERROR client.TransportResponseHandler: Still have 1 requests outstanding when connection from /192.168.234.74:34990 is closed\n",
      "22/03/03 17:47:57 ERROR client.TransportResponseHandler: Still have 1 requests outstanding when connection from /192.168.234.74:32958 is closed\n",
      "22/03/03 17:47:57 ERROR client.TransportResponseHandler: Still have 1 requests outstanding when connection from /192.168.234.74:32948 is closed\n",
      "22/03/03 17:47:57 ERROR client.TransportResponseHandler: Still have 1 requests outstanding when connection from /192.168.234.74:34984 is closed\n",
      "22/03/03 17:47:57 ERROR client.TransportResponseHandler: Still have 1 requests outstanding when connection from /192.168.234.74:42800 is closed\n",
      "22/03/03 17:47:57 ERROR client.TransportResponseHandler: Still have 1 requests outstanding when connection from /192.168.234.74:42792 is closed\n",
      "22/03/03 17:47:57 ERROR client.TransportResponseHandler: Still have 1 requests outstanding when connection from /192.168.234.74:34992 is closed\n",
      "22/03/03 17:47:57 ERROR client.TransportResponseHandler: Still have 1 requests outstanding when connection from /192.168.234.74:34986 is closed\n",
      "22/03/03 17:47:58 ERROR client.TransportResponseHandler: Still have 1 requests outstanding when connection from /192.168.234.74:37562 is closed\n",
      "22/03/03 17:47:58 ERROR client.TransportResponseHandler: Still have 1 requests outstanding when connection from /192.168.234.74:42828 is closed\n",
      "22/03/03 17:47:58 ERROR client.TransportResponseHandler: Still have 1 requests outstanding when connection from /192.168.234.74:34996 is closed\n",
      "22/03/03 17:47:58 ERROR client.TransportResponseHandler: Still have 1 requests outstanding when connection from /192.168.234.74:32964 is closed\n",
      "22/03/03 17:47:58 ERROR client.TransportResponseHandler: Still have 1 requests outstanding when connection from /192.168.234.74:32960 is closed\n",
      "22/03/03 17:47:58 ERROR client.TransportResponseHandler: Still have 1 requests outstanding when connection from /192.168.234.74:59162 is closed\n",
      "22/03/03 17:47:58 ERROR client.TransportResponseHandler: Still have 1 requests outstanding when connection from /192.168.234.74:37572 is closed\n",
      "22/03/03 17:47:58 ERROR client.TransportResponseHandler: Still have 1 requests outstanding when connection from /192.168.234.74:37564 is closed\n",
      "22/03/03 17:47:58 ERROR client.TransportResponseHandler: Still have 1 requests outstanding when connection from /192.168.234.74:32952 is closed\n",
      "22/03/03 17:47:58 ERROR client.TransportResponseHandler: Still have 1 requests outstanding when connection from /192.168.234.74:57842 is closed\n",
      "22/03/03 17:47:58 ERROR client.TransportResponseHandler: Still have 1 requests outstanding when connection from /192.168.234.74:42834 is closed\n",
      "22/03/03 17:47:58 ERROR client.TransportResponseHandler: Still have 1 requests outstanding when connection from /192.168.234.74:38368 is closed\n",
      "22/03/03 17:47:58 ERROR client.TransportResponseHandler: Still have 1 requests outstanding when connection from /192.168.234.74:32956 is closed\n",
      "22/03/03 17:47:58 ERROR client.TransportResponseHandler: Still have 1 requests outstanding when connection from /192.168.234.74:42842 is closed\n",
      "22/03/03 17:47:58 ERROR client.TransportResponseHandler: Still have 1 requests outstanding when connection from /192.168.234.74:42838 is closed\n",
      "22/03/03 17:47:58 ERROR client.TransportResponseHandler: Still have 1 requests outstanding when connection from /192.168.234.74:42830 is closed\n",
      "22/03/03 17:47:58 ERROR client.TransportResponseHandler: Still have 1 requests outstanding when connection from /192.168.234.74:32962 is closed\n",
      "22/03/03 17:47:58 ERROR client.TransportResponseHandler: Still have 1 requests outstanding when connection from /192.168.234.74:42836 is closed\n",
      "22/03/03 17:47:58 ERROR client.TransportResponseHandler: Still have 1 requests outstanding when connection from /192.168.234.74:39990 is closed\n",
      "22/03/03 17:47:58 ERROR client.TransportResponseHandler: Still have 1 requests outstanding when connection from /192.168.234.74:39986 is closed\n",
      "22/03/03 17:47:58 ERROR client.TransportResponseHandler: Still have 1 requests outstanding when connection from /192.168.234.74:39976 is closed\n",
      "22/03/03 17:47:58 ERROR client.TransportResponseHandler: Still have 1 requests outstanding when connection from /192.168.234.74:39994 is closed\n",
      "                                                                                ) / 1803]]]]\r"
     ]
    }
   ],
   "source": [
    "param_pd_post_tg = get_param_general(spark, \n",
    "                    start_date_post, \n",
    "                    end_date_post, \n",
    "                    plu_codes,\n",
    "                    guests=guests_tg)\n",
    "param_pd_post_cg = get_param_general(spark, \n",
    "                    start_date_post, \n",
    "                    end_date_post, \n",
    "                    plu_codes,\n",
    "                    guests=guests_cg)"
   ]
  },
  {
   "cell_type": "code",
   "execution_count": 101,
   "id": "78477474",
   "metadata": {},
   "outputs": [],
   "source": [
    "val = val.append(param_pd_period_tg)\n",
    "val = val.append(param_pd_period_cg)\n",
    "val = val.append(param_pd_pre_tg)\n",
    "val = val.append(param_pd_pre_cg)\n",
    "val = val.append(param_pd_post_tg)\n",
    "val = val.append(param_pd_post_cg)"
   ]
  },
  {
   "cell_type": "markdown",
   "id": "e5fc0966",
   "metadata": {},
   "source": [
    "### 13. A-24-22-recurrent-Alpengold-cakes-w3-no"
   ]
  },
  {
   "cell_type": "code",
   "execution_count": 102,
   "id": "aa9d46f1",
   "metadata": {
    "collapsed": false,
    "jupyter": {
     "outputs_hidden": false
    },
    "pycharm": {
     "name": "#%%\n"
    }
   },
   "outputs": [],
   "source": [
    "camp_id = 'A-24-22-recurrent-Alpengold-cakes-w3-no'\n",
    "\n",
    "experiment_params = ExperimentParams(**{\n",
    "    # Camp wave id нужно записать в виде мапы из id в префиксы.\n",
    "    # Префиксы ни на что не влияют, просто для более красивого названия групп\n",
    "    # Заполняются camp_wave_id. Если для контроля и теста одинаковый, то пишем два раза\n",
    "    'map_camp_wave_ids_to_suffixes': {\n",
    "        65448: \"sms_viber_tg\",\n",
    "        64506: \"sms_viber_cg\"\n",
    "    },\n",
    "\n",
    "    # communication period with guest (sending sms, push, etc.)\n",
    "    'date_communication_from': '2021-10-21',\n",
    "    'date_communication_to': '2021-10-25',\n",
    "\n",
    "    'wave_ids': [\n",
    "        65635 #если нет, то -1\n",
    "    ],\n",
    "\n",
    "    'communication_costs': {\n",
    "        'sms': 1.38,\n",
    "        'viber': 1.32,\n",
    "        'email': 0.0083\n",
    "    }\n",
    "})\n",
    "#0_ + camp_wave_id +_sms_viber_ + cg (если номера волн равны) / tg (если номера волн разные)\n",
    "experiment_guests = ExperimentParticipants(spark, experiment_params)\n",
    "experiment_guests_communications = experiment_guests.extract()"
   ]
  },
  {
   "cell_type": "code",
   "execution_count": 103,
   "id": "9a1aa6e5",
   "metadata": {},
   "outputs": [],
   "source": [
    "if len(list(experiment_params.map_camp_wave_ids_to_suffixes.keys())) > 1:\n",
    "    if str(list(experiment_params.map_camp_wave_ids_to_suffixes.keys())[0]) != str(list(experiment_params.map_camp_wave_ids_to_suffixes.keys())[1]):\n",
    "        guests_tg = (experiment_guests_communications\n",
    "                  .filter(F.col('group_name') == '0_' +\n",
    "                        str(list(experiment_params.map_camp_wave_ids_to_suffixes.keys())[0]) + '_' +\n",
    "                        list(experiment_params.map_camp_wave_ids_to_suffixes.values())[0])\n",
    "                  .select('customer_rk').distinct()\n",
    "                 )\n",
    "\n",
    "        guests_cg = (experiment_guests_communications\n",
    "                  .filter(F.col('group_name') == '0_' +\n",
    "                        str(list(experiment_params.map_camp_wave_ids_to_suffixes.keys())[1]) + '_' +\n",
    "                        list(experiment_params.map_camp_wave_ids_to_suffixes.values())[1])\n",
    "                  .select('customer_rk').distinct()\n",
    "                 )\n",
    "    else:\n",
    "        print(\"Error - check the camp waves ids\")\n",
    "else:\n",
    "    guests_tg = (experiment_guests_communications\n",
    "              .filter(F.col('group_name') == '0_' +\n",
    "                    str(list(experiment_params.map_camp_wave_ids_to_suffixes.keys())[0]) + '_' +\n",
    "                    list(experiment_params.map_camp_wave_ids_to_suffixes.values())[0])\n",
    "              .select('customer_rk').distinct()\n",
    "             )\n",
    "\n",
    "    guests_cg = (experiment_guests_communications\n",
    "              .filter(F.col('group_name') == '1_' +\n",
    "                    str(list(experiment_params.map_camp_wave_ids_to_suffixes.keys())[0]) + '_' +\n",
    "                    list(experiment_params.map_camp_wave_ids_to_suffixes.values())[0])\n",
    "              .select('customer_rk').distinct()\n",
    "             )"
   ]
  },
  {
   "cell_type": "code",
   "execution_count": 104,
   "id": "d91299b8",
   "metadata": {},
   "outputs": [],
   "source": [
    "dt1 = datetime.datetime.strptime(experiment_params.date_communication_from, '%Y-%m-%d')\n",
    "dt2 = datetime.datetime.strptime(experiment_params.date_communication_to, '%Y-%m-%d')\n",
    "start_date = datetime.date(dt1.year, dt1.month, dt1.day)\n",
    "end_date = datetime.date(dt2.year, dt2.month, dt2.day)\n",
    "start_date_pre = start_date - datetime.timedelta(days=29.3)\n",
    "end_date_pre = start_date - datetime.timedelta(days=1)\n",
    "start_date_post = end_date + datetime.timedelta(days=1)\n",
    "end_date_post = end_date + datetime.timedelta(days=29.3)"
   ]
  },
  {
   "cell_type": "code",
   "execution_count": 105,
   "id": "af4859ad",
   "metadata": {},
   "outputs": [
    {
     "name": "stderr",
     "output_type": "stream",
     "text": [
      "                                                                                ) / 3991]]]]]]]\r"
     ]
    }
   ],
   "source": [
    "param_pd_period_tg = get_param_general(spark, \n",
    "                    start_date, \n",
    "                    end_date, \n",
    "                    plu_codes,\n",
    "                    guests=guests_tg)\n",
    "param_pd_period_cg = get_param_general(spark, \n",
    "                    start_date, \n",
    "                    end_date, \n",
    "                    plu_codes,\n",
    "                    guests=guests_cg)"
   ]
  },
  {
   "cell_type": "code",
   "execution_count": 106,
   "id": "2d20eeca",
   "metadata": {},
   "outputs": [
    {
     "name": "stderr",
     "output_type": "stream",
     "text": [
      "                                                                                1742]]]]]]]]]]\r"
     ]
    }
   ],
   "source": [
    "param_pd_pre_tg = get_param_general(spark, \n",
    "                    start_date_pre, \n",
    "                    end_date_pre, \n",
    "                    plu_codes,\n",
    "                    guests=guests_tg)\n",
    "param_pd_pre_cg = get_param_general(spark, \n",
    "                    start_date_pre, \n",
    "                    end_date_pre, \n",
    "                    plu_codes,\n",
    "                    guests=guests_cg)"
   ]
  },
  {
   "cell_type": "code",
   "execution_count": 107,
   "id": "4f4455f2",
   "metadata": {},
   "outputs": [
    {
     "name": "stderr",
     "output_type": "stream",
     "text": [
      "                                                                                / 1803]3]]]]]\r"
     ]
    }
   ],
   "source": [
    "param_pd_post_tg = get_param_general(spark, \n",
    "                    start_date_post, \n",
    "                    end_date_post, \n",
    "                    plu_codes,\n",
    "                    guests=guests_tg)\n",
    "param_pd_post_cg = get_param_general(spark, \n",
    "                    start_date_post, \n",
    "                    end_date_post, \n",
    "                    plu_codes,\n",
    "                    guests=guests_cg)"
   ]
  },
  {
   "cell_type": "code",
   "execution_count": 108,
   "id": "08b6eeba",
   "metadata": {},
   "outputs": [],
   "source": [
    "val = val.append(param_pd_period_tg)\n",
    "val = val.append(param_pd_period_cg)\n",
    "val = val.append(param_pd_pre_tg)\n",
    "val = val.append(param_pd_pre_cg)\n",
    "val = val.append(param_pd_post_tg)\n",
    "val = val.append(param_pd_post_cg)"
   ]
  },
  {
   "cell_type": "markdown",
   "id": "e07058d4",
   "metadata": {},
   "source": [
    "### 14. A-24-22-recurrent-Alpengold-cakes-w3-yes"
   ]
  },
  {
   "cell_type": "code",
   "execution_count": 109,
   "id": "b8e0949b",
   "metadata": {
    "collapsed": false,
    "jupyter": {
     "outputs_hidden": false
    },
    "pycharm": {
     "name": "#%%\n"
    }
   },
   "outputs": [],
   "source": [
    "camp_id = 'A-24-22-recurrent-Alpengold-cakes-w3-yes'\n",
    "\n",
    "experiment_params = ExperimentParams(**{\n",
    "    # Camp wave id нужно записать в виде мапы из id в префиксы.\n",
    "    # Префиксы ни на что не влияют, просто для более красивого названия групп\n",
    "    # Заполняются camp_wave_id. Если для контроля и теста одинаковый, то пишем два раза\n",
    "    'map_camp_wave_ids_to_suffixes': {\n",
    "        65448: \"sms_viber_tg\",\n",
    "        64506: \"sms_viber_cg\"\n",
    "    },\n",
    "\n",
    "    # communication period with guest (sending sms, push, etc.)\n",
    "    'date_communication_from': '2021-10-21',\n",
    "    'date_communication_to': '2021-10-25',\n",
    "\n",
    "    'wave_ids': [\n",
    "        65635 #если нет, то -1\n",
    "    ],\n",
    "\n",
    "    'communication_costs': {\n",
    "        'sms': 1.38,\n",
    "        'viber': 1.32,\n",
    "        'email': 0.0083\n",
    "    }\n",
    "})\n",
    "#0_ + camp_wave_id +_sms_viber_ + cg (если номера волн равны) / tg (если номера волн разные)\n",
    "experiment_guests = ExperimentParticipants(spark, experiment_params)\n",
    "experiment_guests_communications = experiment_guests.extract()"
   ]
  },
  {
   "cell_type": "code",
   "execution_count": 110,
   "id": "cd97f049",
   "metadata": {},
   "outputs": [],
   "source": [
    "if len(list(experiment_params.map_camp_wave_ids_to_suffixes.keys())) > 1:\n",
    "    if str(list(experiment_params.map_camp_wave_ids_to_suffixes.keys())[0]) != str(list(experiment_params.map_camp_wave_ids_to_suffixes.keys())[1]):\n",
    "        guests_tg = (experiment_guests_communications\n",
    "                  .filter(F.col('group_name') == '0_' +\n",
    "                        str(list(experiment_params.map_camp_wave_ids_to_suffixes.keys())[0]) + '_' +\n",
    "                        list(experiment_params.map_camp_wave_ids_to_suffixes.values())[0])\n",
    "                  .select('customer_rk').distinct()\n",
    "                 )\n",
    "\n",
    "        guests_cg = (experiment_guests_communications\n",
    "                  .filter(F.col('group_name') == '0_' +\n",
    "                        str(list(experiment_params.map_camp_wave_ids_to_suffixes.keys())[1]) + '_' +\n",
    "                        list(experiment_params.map_camp_wave_ids_to_suffixes.values())[1])\n",
    "                  .select('customer_rk').distinct()\n",
    "                 )\n",
    "    else:\n",
    "        print(\"Error - check the camp waves ids\")\n",
    "else:\n",
    "    guests_tg = (experiment_guests_communications\n",
    "              .filter(F.col('group_name') == '0_' +\n",
    "                    str(list(experiment_params.map_camp_wave_ids_to_suffixes.keys())[0]) + '_' +\n",
    "                    list(experiment_params.map_camp_wave_ids_to_suffixes.values())[0])\n",
    "              .select('customer_rk').distinct()\n",
    "             )\n",
    "\n",
    "    guests_cg = (experiment_guests_communications\n",
    "              .filter(F.col('group_name') == '1_' +\n",
    "                    str(list(experiment_params.map_camp_wave_ids_to_suffixes.keys())[0]) + '_' +\n",
    "                    list(experiment_params.map_camp_wave_ids_to_suffixes.values())[0])\n",
    "              .select('customer_rk').distinct()\n",
    "             )"
   ]
  },
  {
   "cell_type": "code",
   "execution_count": 111,
   "id": "04598c52",
   "metadata": {},
   "outputs": [],
   "source": [
    "dt1 = datetime.datetime.strptime(experiment_params.date_communication_from, '%Y-%m-%d')\n",
    "dt2 = datetime.datetime.strptime(experiment_params.date_communication_to, '%Y-%m-%d')\n",
    "start_date = datetime.date(dt1.year, dt1.month, dt1.day)\n",
    "end_date = datetime.date(dt2.year, dt2.month, dt2.day)\n",
    "start_date_pre = start_date - datetime.timedelta(days=29.3)\n",
    "end_date_pre = start_date - datetime.timedelta(days=1)\n",
    "start_date_post = end_date + datetime.timedelta(days=1)\n",
    "end_date_post = end_date + datetime.timedelta(days=29.3)"
   ]
  },
  {
   "cell_type": "code",
   "execution_count": 112,
   "id": "9614b6f3",
   "metadata": {},
   "outputs": [
    {
     "name": "stderr",
     "output_type": "stream",
     "text": [
      "                                                                                ) / 508]]8]]]]\r"
     ]
    }
   ],
   "source": [
    "param_pd_period_tg = get_param_general(spark, \n",
    "                    start_date, \n",
    "                    end_date, \n",
    "                    plu_codes,\n",
    "                    guests=guests_tg)\n",
    "param_pd_period_cg = get_param_general(spark, \n",
    "                    start_date, \n",
    "                    end_date, \n",
    "                    plu_codes,\n",
    "                    guests=guests_cg)"
   ]
  },
  {
   "cell_type": "code",
   "execution_count": 113,
   "id": "af33bdc8",
   "metadata": {},
   "outputs": [
    {
     "name": "stderr",
     "output_type": "stream",
     "text": [
      "                                                                                / 1742]]]]]]]\r"
     ]
    }
   ],
   "source": [
    "param_pd_pre_tg = get_param_general(spark, \n",
    "                    start_date_pre, \n",
    "                    end_date_pre, \n",
    "                    plu_codes,\n",
    "                    guests=guests_tg)\n",
    "param_pd_pre_cg = get_param_general(spark, \n",
    "                    start_date_pre, \n",
    "                    end_date_pre, \n",
    "                    plu_codes,\n",
    "                    guests=guests_cg)"
   ]
  },
  {
   "cell_type": "code",
   "execution_count": 114,
   "id": "e82c8e1a",
   "metadata": {},
   "outputs": [
    {
     "name": "stderr",
     "output_type": "stream",
     "text": [
      "                                                                                2) / 1803]5]]]\r"
     ]
    }
   ],
   "source": [
    "param_pd_post_tg = get_param_general(spark, \n",
    "                    start_date_post, \n",
    "                    end_date_post, \n",
    "                    plu_codes,\n",
    "                    guests=guests_tg)\n",
    "param_pd_post_cg = get_param_general(spark, \n",
    "                    start_date_post, \n",
    "                    end_date_post, \n",
    "                    plu_codes,\n",
    "                    guests=guests_cg)"
   ]
  },
  {
   "cell_type": "code",
   "execution_count": 115,
   "id": "f2cd0977",
   "metadata": {},
   "outputs": [],
   "source": [
    "val = val.append(param_pd_period_tg)\n",
    "val = val.append(param_pd_period_cg)\n",
    "val = val.append(param_pd_pre_tg)\n",
    "val = val.append(param_pd_pre_cg)\n",
    "val = val.append(param_pd_post_tg)\n",
    "val = val.append(param_pd_post_cg)"
   ]
  },
  {
   "cell_type": "markdown",
   "id": "c2b3da66",
   "metadata": {},
   "source": [
    "### 15. U-24-3_alpengold_milk_viber_sms"
   ]
  },
  {
   "cell_type": "code",
   "execution_count": 116,
   "id": "4b925a33",
   "metadata": {
    "collapsed": false,
    "jupyter": {
     "outputs_hidden": false
    },
    "pycharm": {
     "name": "#%%\n"
    }
   },
   "outputs": [],
   "source": [
    "camp_id = 'U-24-3_alpengold_milk_viber_sms'\n",
    "\n",
    "experiment_params = ExperimentParams(**{\n",
    "    # Camp wave id нужно записать в виде мапы из id в префиксы.\n",
    "    # Префиксы ни на что не влияют, просто для более красивого названия групп\n",
    "    # Заполняются camp_wave_id. Если для контроля и теста одинаковый, то пишем два раза\n",
    "    'map_camp_wave_ids_to_suffixes': {\n",
    "        64511: \"sms_viber_tg\",\n",
    "        64513: \"sms_viber_cg\"\n",
    "    },\n",
    "\n",
    "    # communication period with guest (sending sms, push, etc.)\n",
    "    'date_communication_from': '2021-10-12',\n",
    "    'date_communication_to': '2021-10-18',\n",
    "\n",
    "    'wave_ids': [\n",
    "        64585 #если нет, то -1\n",
    "    ],\n",
    "\n",
    "    'communication_costs': {\n",
    "        'sms': 1.38,\n",
    "        'viber': 1.32,\n",
    "        'email': 0.0083\n",
    "    }\n",
    "})\n",
    "#0_ + camp_wave_id +_sms_viber_ + cg (если номера волн равны) / tg (если номера волн разные)\n",
    "experiment_guests = ExperimentParticipants(spark, experiment_params)\n",
    "experiment_guests_communications = experiment_guests.extract()"
   ]
  },
  {
   "cell_type": "code",
   "execution_count": 117,
   "id": "c75e8bd5",
   "metadata": {},
   "outputs": [],
   "source": [
    "if len(list(experiment_params.map_camp_wave_ids_to_suffixes.keys())) > 1:\n",
    "    if str(list(experiment_params.map_camp_wave_ids_to_suffixes.keys())[0]) != str(list(experiment_params.map_camp_wave_ids_to_suffixes.keys())[1]):\n",
    "        guests_tg = (experiment_guests_communications\n",
    "                  .filter(F.col('group_name') == '0_' +\n",
    "                        str(list(experiment_params.map_camp_wave_ids_to_suffixes.keys())[0]) + '_' +\n",
    "                        list(experiment_params.map_camp_wave_ids_to_suffixes.values())[0])\n",
    "                  .select('customer_rk').distinct()\n",
    "                 )\n",
    "\n",
    "        guests_cg = (experiment_guests_communications\n",
    "                  .filter(F.col('group_name') == '0_' +\n",
    "                        str(list(experiment_params.map_camp_wave_ids_to_suffixes.keys())[1]) + '_' +\n",
    "                        list(experiment_params.map_camp_wave_ids_to_suffixes.values())[1])\n",
    "                  .select('customer_rk').distinct()\n",
    "                 )\n",
    "    else:\n",
    "        print(\"Error - check the camp waves ids\")\n",
    "else:\n",
    "    guests_tg = (experiment_guests_communications\n",
    "              .filter(F.col('group_name') == '0_' +\n",
    "                    str(list(experiment_params.map_camp_wave_ids_to_suffixes.keys())[0]) + '_' +\n",
    "                    list(experiment_params.map_camp_wave_ids_to_suffixes.values())[0])\n",
    "              .select('customer_rk').distinct()\n",
    "             )\n",
    "\n",
    "    guests_cg = (experiment_guests_communications\n",
    "              .filter(F.col('group_name') == '1_' +\n",
    "                    str(list(experiment_params.map_camp_wave_ids_to_suffixes.keys())[0]) + '_' +\n",
    "                    list(experiment_params.map_camp_wave_ids_to_suffixes.values())[0])\n",
    "              .select('customer_rk').distinct()\n",
    "             )"
   ]
  },
  {
   "cell_type": "code",
   "execution_count": 118,
   "id": "872956c8",
   "metadata": {},
   "outputs": [],
   "source": [
    "dt1 = datetime.datetime.strptime(experiment_params.date_communication_from, '%Y-%m-%d')\n",
    "dt2 = datetime.datetime.strptime(experiment_params.date_communication_to, '%Y-%m-%d')\n",
    "start_date = datetime.date(dt1.year, dt1.month, dt1.day)\n",
    "end_date = datetime.date(dt2.year, dt2.month, dt2.day)\n",
    "start_date_pre = start_date - datetime.timedelta(days=29.3)\n",
    "end_date_pre = start_date - datetime.timedelta(days=1)\n",
    "start_date_post = end_date + datetime.timedelta(days=1)\n",
    "end_date_post = end_date + datetime.timedelta(days=29.3)"
   ]
  },
  {
   "cell_type": "code",
   "execution_count": 119,
   "id": "0025d910",
   "metadata": {},
   "outputs": [
    {
     "name": "stderr",
     "output_type": "stream",
     "text": [
      "                                                                                ) / 200]0]1]]\r"
     ]
    }
   ],
   "source": [
    "param_pd_period_tg = get_param_general(spark, \n",
    "                    start_date, \n",
    "                    end_date, \n",
    "                    plu_codes,\n",
    "                    guests=guests_tg)\n",
    "param_pd_period_cg = get_param_general(spark, \n",
    "                    start_date, \n",
    "                    end_date, \n",
    "                    plu_codes,\n",
    "                    guests=guests_cg)"
   ]
  },
  {
   "cell_type": "code",
   "execution_count": 120,
   "id": "3f5e40d2",
   "metadata": {},
   "outputs": [
    {
     "name": "stderr",
     "output_type": "stream",
     "text": [
      "                                                                                ) / 1740]]]]]]\r"
     ]
    }
   ],
   "source": [
    "param_pd_pre_tg = get_param_general(spark, \n",
    "                    start_date_pre, \n",
    "                    end_date_pre, \n",
    "                    plu_codes,\n",
    "                    guests=guests_tg)\n",
    "param_pd_pre_cg = get_param_general(spark, \n",
    "                    start_date_pre, \n",
    "                    end_date_pre, \n",
    "                    plu_codes,\n",
    "                    guests=guests_cg)"
   ]
  },
  {
   "cell_type": "code",
   "execution_count": 121,
   "id": "b454b654",
   "metadata": {},
   "outputs": [
    {
     "name": "stderr",
     "output_type": "stream",
     "text": [
      "                                                                                / 1799]]]]]]]]\r"
     ]
    }
   ],
   "source": [
    "param_pd_post_tg = get_param_general(spark, \n",
    "                    start_date_post, \n",
    "                    end_date_post, \n",
    "                    plu_codes,\n",
    "                    guests=guests_tg)\n",
    "param_pd_post_cg = get_param_general(spark, \n",
    "                    start_date_post, \n",
    "                    end_date_post, \n",
    "                    plu_codes,\n",
    "                    guests=guests_cg)"
   ]
  },
  {
   "cell_type": "code",
   "execution_count": 122,
   "id": "6d57fb7a",
   "metadata": {},
   "outputs": [],
   "source": [
    "val = val.append(param_pd_period_tg)\n",
    "val = val.append(param_pd_period_cg)\n",
    "val = val.append(param_pd_pre_tg)\n",
    "val = val.append(param_pd_pre_cg)\n",
    "val = val.append(param_pd_post_tg)\n",
    "val = val.append(param_pd_post_cg)"
   ]
  },
  {
   "cell_type": "markdown",
   "id": "c10ac59b",
   "metadata": {},
   "source": [
    "### 16. A-24-22-recurrent-Alpengold-milk"
   ]
  },
  {
   "cell_type": "code",
   "execution_count": 123,
   "id": "1bba5e82",
   "metadata": {
    "collapsed": false,
    "jupyter": {
     "outputs_hidden": false
    },
    "pycharm": {
     "name": "#%%\n"
    }
   },
   "outputs": [],
   "source": [
    "camp_id = 'A-24-22-recurrent-Alpengold-milk'\n",
    "\n",
    "experiment_params = ExperimentParams(**{\n",
    "    # Camp wave id нужно записать в виде мапы из id в префиксы.\n",
    "    # Префиксы ни на что не влияют, просто для более красивого названия групп\n",
    "    # Заполняются camp_wave_id. Если для контроля и теста одинаковый, то пишем два раза\n",
    "    'map_camp_wave_ids_to_suffixes': {\n",
    "        64508: \"sms_viber_tg\",\n",
    "        64510: \"sms_viber_cg\"\n",
    "    },\n",
    "\n",
    "    # communication period with guest (sending sms, push, etc.)\n",
    "    'date_communication_from': '2021-10-12',\n",
    "    'date_communication_to': '2021-10-19',\n",
    "\n",
    "    'wave_ids': [\n",
    "        64582, 65635, 65629 #если нет, то -1\n",
    "    ],\n",
    "\n",
    "    'communication_costs': {\n",
    "        'sms': 1.38,\n",
    "        'viber': 1.32,\n",
    "        'email': 0.0083\n",
    "    }\n",
    "})\n",
    "#0_ + camp_wave_id +_sms_viber_ + cg (если номера волн равны) / tg (если номера волн разные)\n",
    "experiment_guests = ExperimentParticipants(spark, experiment_params)\n",
    "experiment_guests_communications = experiment_guests.extract()"
   ]
  },
  {
   "cell_type": "code",
   "execution_count": 124,
   "id": "78f9fe94",
   "metadata": {},
   "outputs": [],
   "source": [
    "if len(list(experiment_params.map_camp_wave_ids_to_suffixes.keys())) > 1:\n",
    "    if str(list(experiment_params.map_camp_wave_ids_to_suffixes.keys())[0]) != str(list(experiment_params.map_camp_wave_ids_to_suffixes.keys())[1]):\n",
    "        guests_tg = (experiment_guests_communications\n",
    "                  .filter(F.col('group_name') == '0_' +\n",
    "                        str(list(experiment_params.map_camp_wave_ids_to_suffixes.keys())[0]) + '_' +\n",
    "                        list(experiment_params.map_camp_wave_ids_to_suffixes.values())[0])\n",
    "                  .select('customer_rk').distinct()\n",
    "                 )\n",
    "\n",
    "        guests_cg = (experiment_guests_communications\n",
    "                  .filter(F.col('group_name') == '0_' +\n",
    "                        str(list(experiment_params.map_camp_wave_ids_to_suffixes.keys())[1]) + '_' +\n",
    "                        list(experiment_params.map_camp_wave_ids_to_suffixes.values())[1])\n",
    "                  .select('customer_rk').distinct()\n",
    "                 )\n",
    "    else:\n",
    "        print(\"Error - check the camp waves ids\")\n",
    "else:\n",
    "    guests_tg = (experiment_guests_communications\n",
    "              .filter(F.col('group_name') == '0_' +\n",
    "                    str(list(experiment_params.map_camp_wave_ids_to_suffixes.keys())[0]) + '_' +\n",
    "                    list(experiment_params.map_camp_wave_ids_to_suffixes.values())[0])\n",
    "              .select('customer_rk').distinct()\n",
    "             )\n",
    "\n",
    "    guests_cg = (experiment_guests_communications\n",
    "              .filter(F.col('group_name') == '1_' +\n",
    "                    str(list(experiment_params.map_camp_wave_ids_to_suffixes.keys())[0]) + '_' +\n",
    "                    list(experiment_params.map_camp_wave_ids_to_suffixes.values())[0])\n",
    "              .select('customer_rk').distinct()\n",
    "             )"
   ]
  },
  {
   "cell_type": "code",
   "execution_count": 125,
   "id": "4479bfc2",
   "metadata": {},
   "outputs": [],
   "source": [
    "dt1 = datetime.datetime.strptime(experiment_params.date_communication_from, '%Y-%m-%d')\n",
    "dt2 = datetime.datetime.strptime(experiment_params.date_communication_to, '%Y-%m-%d')\n",
    "start_date = datetime.date(dt1.year, dt1.month, dt1.day)\n",
    "end_date = datetime.date(dt2.year, dt2.month, dt2.day)\n",
    "start_date_pre = start_date - datetime.timedelta(days=29.3)\n",
    "end_date_pre = start_date - datetime.timedelta(days=1)\n",
    "start_date_post = end_date + datetime.timedelta(days=1)\n",
    "end_date_post = end_date + datetime.timedelta(days=29.3)"
   ]
  },
  {
   "cell_type": "code",
   "execution_count": 126,
   "id": "eee3d980",
   "metadata": {},
   "outputs": [
    {
     "name": "stderr",
     "output_type": "stream",
     "text": [
      "                                                                                ) / 516]]]]]]\r"
     ]
    }
   ],
   "source": [
    "param_pd_period_tg = get_param_general(spark, \n",
    "                    start_date, \n",
    "                    end_date, \n",
    "                    plu_codes,\n",
    "                    guests=guests_tg)\n",
    "param_pd_period_cg = get_param_general(spark, \n",
    "                    start_date, \n",
    "                    end_date, \n",
    "                    plu_codes,\n",
    "                    guests=guests_cg)"
   ]
  },
  {
   "cell_type": "code",
   "execution_count": 127,
   "id": "e71448e6",
   "metadata": {},
   "outputs": [
    {
     "name": "stderr",
     "output_type": "stream",
     "text": [
      "                                                                                ) / 1740]0]]]\r"
     ]
    }
   ],
   "source": [
    "param_pd_pre_tg = get_param_general(spark, \n",
    "                    start_date_pre, \n",
    "                    end_date_pre, \n",
    "                    plu_codes,\n",
    "                    guests=guests_tg)\n",
    "param_pd_pre_cg = get_param_general(spark, \n",
    "                    start_date_pre, \n",
    "                    end_date_pre, \n",
    "                    plu_codes,\n",
    "                    guests=guests_cg)"
   ]
  },
  {
   "cell_type": "code",
   "execution_count": 128,
   "id": "969b38aa",
   "metadata": {},
   "outputs": [
    {
     "name": "stderr",
     "output_type": "stream",
     "text": [
      "                                                                                ) / 1802]]]]]]\r"
     ]
    }
   ],
   "source": [
    "param_pd_post_tg = get_param_general(spark, \n",
    "                    start_date_post, \n",
    "                    end_date_post, \n",
    "                    plu_codes,\n",
    "                    guests=guests_tg)\n",
    "param_pd_post_cg = get_param_general(spark, \n",
    "                    start_date_post, \n",
    "                    end_date_post, \n",
    "                    plu_codes,\n",
    "                    guests=guests_cg)"
   ]
  },
  {
   "cell_type": "code",
   "execution_count": 129,
   "id": "ce6d1af4",
   "metadata": {},
   "outputs": [],
   "source": [
    "val = val.append(param_pd_period_tg)\n",
    "val = val.append(param_pd_period_cg)\n",
    "val = val.append(param_pd_pre_tg)\n",
    "val = val.append(param_pd_pre_cg)\n",
    "val = val.append(param_pd_post_tg)\n",
    "val = val.append(param_pd_post_cg)"
   ]
  },
  {
   "cell_type": "markdown",
   "id": "59dcc9cd",
   "metadata": {},
   "source": [
    "### 17. A-24-22-recurrent-Alpengold-cakes"
   ]
  },
  {
   "cell_type": "code",
   "execution_count": 130,
   "id": "4d09350f",
   "metadata": {
    "collapsed": false,
    "jupyter": {
     "outputs_hidden": false
    },
    "pycharm": {
     "name": "#%%\n"
    }
   },
   "outputs": [],
   "source": [
    "camp_id = 'A-24-22-recurrent-Alpengold-cakes'\n",
    "\n",
    "experiment_params = ExperimentParams(**{\n",
    "    # Camp wave id нужно записать в виде мапы из id в префиксы.\n",
    "    # Префиксы ни на что не влияют, просто для более красивого названия групп\n",
    "    # Заполняются camp_wave_id. Если для контроля и теста одинаковый, то пишем два раза\n",
    "    'map_camp_wave_ids_to_suffixes': {\n",
    "        64505: \"sms_viber_tg\",\n",
    "        64506: \"sms_viber_cg\"\n",
    "    },\n",
    "\n",
    "    # communication period with guest (sending sms, push, etc.)\n",
    "    'date_communication_from': '2021-10-12',\n",
    "    'date_communication_to': '2021-10-18',\n",
    "\n",
    "    'wave_ids': [\n",
    "        64586, 65629, 65635 #если нет, то -1\n",
    "    ],\n",
    "\n",
    "    'communication_costs': {\n",
    "        'sms': 1.38,\n",
    "        'viber': 1.32,\n",
    "        'email': 0.0083\n",
    "    }\n",
    "})\n",
    "#0_ + camp_wave_id +_sms_viber_ + cg (если номера волн равны) / tg (если номера волн разные)\n",
    "experiment_guests = ExperimentParticipants(spark, experiment_params)\n",
    "experiment_guests_communications = experiment_guests.extract()"
   ]
  },
  {
   "cell_type": "code",
   "execution_count": 131,
   "id": "8412a88f",
   "metadata": {},
   "outputs": [],
   "source": [
    "if len(list(experiment_params.map_camp_wave_ids_to_suffixes.keys())) > 1:\n",
    "    if str(list(experiment_params.map_camp_wave_ids_to_suffixes.keys())[0]) != str(list(experiment_params.map_camp_wave_ids_to_suffixes.keys())[1]):\n",
    "        guests_tg = (experiment_guests_communications\n",
    "                  .filter(F.col('group_name') == '0_' +\n",
    "                        str(list(experiment_params.map_camp_wave_ids_to_suffixes.keys())[0]) + '_' +\n",
    "                        list(experiment_params.map_camp_wave_ids_to_suffixes.values())[0])\n",
    "                  .select('customer_rk').distinct()\n",
    "                 )\n",
    "\n",
    "        guests_cg = (experiment_guests_communications\n",
    "                  .filter(F.col('group_name') == '0_' +\n",
    "                        str(list(experiment_params.map_camp_wave_ids_to_suffixes.keys())[1]) + '_' +\n",
    "                        list(experiment_params.map_camp_wave_ids_to_suffixes.values())[1])\n",
    "                  .select('customer_rk').distinct()\n",
    "                 )\n",
    "    else:\n",
    "        print(\"Error - check the camp waves ids\")\n",
    "else:\n",
    "    guests_tg = (experiment_guests_communications\n",
    "              .filter(F.col('group_name') == '0_' +\n",
    "                    str(list(experiment_params.map_camp_wave_ids_to_suffixes.keys())[0]) + '_' +\n",
    "                    list(experiment_params.map_camp_wave_ids_to_suffixes.values())[0])\n",
    "              .select('customer_rk').distinct()\n",
    "             )\n",
    "\n",
    "    guests_cg = (experiment_guests_communications\n",
    "              .filter(F.col('group_name') == '1_' +\n",
    "                    str(list(experiment_params.map_camp_wave_ids_to_suffixes.keys())[0]) + '_' +\n",
    "                    list(experiment_params.map_camp_wave_ids_to_suffixes.values())[0])\n",
    "              .select('customer_rk').distinct()\n",
    "             )"
   ]
  },
  {
   "cell_type": "code",
   "execution_count": 132,
   "id": "4baac90c",
   "metadata": {},
   "outputs": [],
   "source": [
    "dt1 = datetime.datetime.strptime(experiment_params.date_communication_from, '%Y-%m-%d')\n",
    "dt2 = datetime.datetime.strptime(experiment_params.date_communication_to, '%Y-%m-%d')\n",
    "start_date = datetime.date(dt1.year, dt1.month, dt1.day)\n",
    "end_date = datetime.date(dt2.year, dt2.month, dt2.day)\n",
    "start_date_pre = start_date - datetime.timedelta(days=29.3)\n",
    "end_date_pre = start_date - datetime.timedelta(days=1)\n",
    "start_date_post = end_date + datetime.timedelta(days=1)\n",
    "end_date_post = end_date + datetime.timedelta(days=29.3)"
   ]
  },
  {
   "cell_type": "code",
   "execution_count": 133,
   "id": "5819080b",
   "metadata": {},
   "outputs": [
    {
     "name": "stderr",
     "output_type": "stream",
     "text": [
      "                                                                                1) / 200]]]]]]\r"
     ]
    }
   ],
   "source": [
    "param_pd_period_tg = get_param_general(spark, \n",
    "                    start_date, \n",
    "                    end_date, \n",
    "                    plu_codes,\n",
    "                    guests=guests_tg)\n",
    "param_pd_period_cg = get_param_general(spark, \n",
    "                    start_date, \n",
    "                    end_date, \n",
    "                    plu_codes,\n",
    "                    guests=guests_cg)"
   ]
  },
  {
   "cell_type": "code",
   "execution_count": 134,
   "id": "7bb22fa6",
   "metadata": {},
   "outputs": [
    {
     "name": "stderr",
     "output_type": "stream",
     "text": [
      "                                                                                ) / 1740]0]]]]\r"
     ]
    }
   ],
   "source": [
    "param_pd_pre_tg = get_param_general(spark, \n",
    "                    start_date_pre, \n",
    "                    end_date_pre, \n",
    "                    plu_codes,\n",
    "                    guests=guests_tg)\n",
    "param_pd_pre_cg = get_param_general(spark, \n",
    "                    start_date_pre, \n",
    "                    end_date_pre, \n",
    "                    plu_codes,\n",
    "                    guests=guests_cg)"
   ]
  },
  {
   "cell_type": "code",
   "execution_count": 135,
   "id": "ca8c27a2",
   "metadata": {},
   "outputs": [
    {
     "name": "stderr",
     "output_type": "stream",
     "text": [
      "[Stage 1598:(1604 + 72) / 3991][Stage 1599:(973 + 151) / 3991][Stage 1601:(106 + 80) / 1221]22/03/03 19:32:58 ERROR scheduler.AsyncEventQueue: Dropping event from queue executorManagement. This likely means one of the listeners is too slow and cannot keep up with the rate at which tasks are being started by the scheduler.\n",
      "                                                                                7) / 1799]]]]]\r"
     ]
    }
   ],
   "source": [
    "param_pd_post_tg = get_param_general(spark, \n",
    "                    start_date_post, \n",
    "                    end_date_post, \n",
    "                    plu_codes,\n",
    "                    guests=guests_tg)\n",
    "param_pd_post_cg = get_param_general(spark, \n",
    "                    start_date_post, \n",
    "                    end_date_post, \n",
    "                    plu_codes,\n",
    "                    guests=guests_cg)"
   ]
  },
  {
   "cell_type": "code",
   "execution_count": 136,
   "id": "5b15e605",
   "metadata": {},
   "outputs": [],
   "source": [
    "val = val.append(param_pd_period_tg)\n",
    "val = val.append(param_pd_period_cg)\n",
    "val = val.append(param_pd_pre_tg)\n",
    "val = val.append(param_pd_pre_cg)\n",
    "val = val.append(param_pd_post_tg)\n",
    "val = val.append(param_pd_post_cg)"
   ]
  },
  {
   "cell_type": "markdown",
   "id": "5acd5016",
   "metadata": {},
   "source": [
    "### 18. f24_freq24_alpengold_cookies"
   ]
  },
  {
   "cell_type": "code",
   "execution_count": 137,
   "id": "4746747f",
   "metadata": {
    "collapsed": false,
    "jupyter": {
     "outputs_hidden": false
    },
    "pycharm": {
     "name": "#%%\n"
    }
   },
   "outputs": [],
   "source": [
    "camp_id = 'f24_freq24_alpengold_cookies'\n",
    "\n",
    "experiment_params = ExperimentParams(**{\n",
    "    # Camp wave id нужно записать в виде мапы из id в префиксы.\n",
    "    # Префиксы ни на что не влияют, просто для более красивого названия групп\n",
    "    # Заполняются camp_wave_id. Если для контроля и теста одинаковый, то пишем два раза\n",
    "    'map_camp_wave_ids_to_suffixes': {\n",
    "        64472: \"sms_viber_tg\",\n",
    "        64472: \"sms_viber_cg\"\n",
    "    },\n",
    "\n",
    "    # communication period with guest (sending sms, push, etc.)\n",
    "    'date_communication_from': '2021-10-12',\n",
    "    'date_communication_to': '2021-10-18',\n",
    "\n",
    "    'wave_ids': [\n",
    "        64568 #если нет, то -1\n",
    "    ],\n",
    "\n",
    "    'communication_costs': {\n",
    "        'sms': 1.38,\n",
    "        'viber': 1.32,\n",
    "        'email': 0.0083\n",
    "    }\n",
    "})\n",
    "#0_ + camp_wave_id +_sms_viber_ + cg (если номера волн равны) / tg (если номера волн разные)\n",
    "experiment_guests = ExperimentParticipants(spark, experiment_params)\n",
    "experiment_guests_communications = experiment_guests.extract()"
   ]
  },
  {
   "cell_type": "code",
   "execution_count": 138,
   "id": "e51e88ed",
   "metadata": {},
   "outputs": [],
   "source": [
    "if len(list(experiment_params.map_camp_wave_ids_to_suffixes.keys())) > 1:\n",
    "    if str(list(experiment_params.map_camp_wave_ids_to_suffixes.keys())[0]) != str(list(experiment_params.map_camp_wave_ids_to_suffixes.keys())[1]):\n",
    "        guests_tg = (experiment_guests_communications\n",
    "                  .filter(F.col('group_name') == '0_' +\n",
    "                        str(list(experiment_params.map_camp_wave_ids_to_suffixes.keys())[0]) + '_' +\n",
    "                        list(experiment_params.map_camp_wave_ids_to_suffixes.values())[0])\n",
    "                  .select('customer_rk').distinct()\n",
    "                 )\n",
    "\n",
    "        guests_cg = (experiment_guests_communications\n",
    "                  .filter(F.col('group_name') == '0_' +\n",
    "                        str(list(experiment_params.map_camp_wave_ids_to_suffixes.keys())[1]) + '_' +\n",
    "                        list(experiment_params.map_camp_wave_ids_to_suffixes.values())[1])\n",
    "                  .select('customer_rk').distinct()\n",
    "                 )\n",
    "    else:\n",
    "        print(\"Error - check the camp waves ids\")\n",
    "else:\n",
    "    guests_tg = (experiment_guests_communications\n",
    "              .filter(F.col('group_name') == '0_' +\n",
    "                    str(list(experiment_params.map_camp_wave_ids_to_suffixes.keys())[0]) + '_' +\n",
    "                    list(experiment_params.map_camp_wave_ids_to_suffixes.values())[0])\n",
    "              .select('customer_rk').distinct()\n",
    "             )\n",
    "\n",
    "    guests_cg = (experiment_guests_communications\n",
    "              .filter(F.col('group_name') == '1_' +\n",
    "                    str(list(experiment_params.map_camp_wave_ids_to_suffixes.keys())[0]) + '_' +\n",
    "                    list(experiment_params.map_camp_wave_ids_to_suffixes.values())[0])\n",
    "              .select('customer_rk').distinct()\n",
    "             )"
   ]
  },
  {
   "cell_type": "code",
   "execution_count": 139,
   "id": "cf88da58",
   "metadata": {},
   "outputs": [],
   "source": [
    "dt1 = datetime.datetime.strptime(experiment_params.date_communication_from, '%Y-%m-%d')\n",
    "dt2 = datetime.datetime.strptime(experiment_params.date_communication_to, '%Y-%m-%d')\n",
    "start_date = datetime.date(dt1.year, dt1.month, dt1.day)\n",
    "end_date = datetime.date(dt2.year, dt2.month, dt2.day)\n",
    "start_date_pre = start_date - datetime.timedelta(days=29.3)\n",
    "end_date_pre = start_date - datetime.timedelta(days=1)\n",
    "start_date_post = end_date + datetime.timedelta(days=1)\n",
    "end_date_post = end_date + datetime.timedelta(days=29.3)"
   ]
  },
  {
   "cell_type": "code",
   "execution_count": 140,
   "id": "167607b7",
   "metadata": {},
   "outputs": [
    {
     "name": "stderr",
     "output_type": "stream",
     "text": [
      "                                                                                3) / 200]]]]]]\r"
     ]
    }
   ],
   "source": [
    "param_pd_period_tg = get_param_general(spark, \n",
    "                    start_date, \n",
    "                    end_date, \n",
    "                    plu_codes,\n",
    "                    guests=guests_tg)\n",
    "param_pd_period_cg = get_param_general(spark, \n",
    "                    start_date, \n",
    "                    end_date, \n",
    "                    plu_codes,\n",
    "                    guests=guests_cg)"
   ]
  },
  {
   "cell_type": "code",
   "execution_count": 141,
   "id": "d3afb0f6",
   "metadata": {},
   "outputs": [
    {
     "name": "stderr",
     "output_type": "stream",
     "text": [
      "                                                                                ) / 1740]]]]]\r"
     ]
    }
   ],
   "source": [
    "param_pd_pre_tg = get_param_general(spark, \n",
    "                    start_date_pre, \n",
    "                    end_date_pre, \n",
    "                    plu_codes,\n",
    "                    guests=guests_tg)\n",
    "param_pd_pre_cg = get_param_general(spark, \n",
    "                    start_date_pre, \n",
    "                    end_date_pre, \n",
    "                    plu_codes,\n",
    "                    guests=guests_cg)"
   ]
  },
  {
   "cell_type": "code",
   "execution_count": 142,
   "id": "a9170460",
   "metadata": {},
   "outputs": [
    {
     "name": "stderr",
     "output_type": "stream",
     "text": [
      "                                                                                ) / 1799]]]]]]\r"
     ]
    }
   ],
   "source": [
    "param_pd_post_tg = get_param_general(spark, \n",
    "                    start_date_post, \n",
    "                    end_date_post, \n",
    "                    plu_codes,\n",
    "                    guests=guests_tg)\n",
    "param_pd_post_cg = get_param_general(spark, \n",
    "                    start_date_post, \n",
    "                    end_date_post, \n",
    "                    plu_codes,\n",
    "                    guests=guests_cg)"
   ]
  },
  {
   "cell_type": "code",
   "execution_count": 143,
   "id": "405ad786",
   "metadata": {},
   "outputs": [],
   "source": [
    "val = val.append(param_pd_period_tg)\n",
    "val = val.append(param_pd_period_cg)\n",
    "val = val.append(param_pd_pre_tg)\n",
    "val = val.append(param_pd_pre_cg)\n",
    "val = val.append(param_pd_post_tg)\n",
    "val = val.append(param_pd_post_cg)"
   ]
  },
  {
   "cell_type": "code",
   "execution_count": 146,
   "id": "0b136739",
   "metadata": {},
   "outputs": [],
   "source": [
    "val.to_csv('val.csv', index=False)"
   ]
  },
  {
   "cell_type": "code",
   "execution_count": 145,
   "id": "f0580ac0",
   "metadata": {},
   "outputs": [
    {
     "data": {
      "text/plain": [
       "108"
      ]
     },
     "execution_count": 145,
     "metadata": {},
     "output_type": "execute_result"
    }
   ],
   "source": [
    "len(val)"
   ]
  },
  {
   "cell_type": "code",
   "execution_count": 147,
   "id": "bb5f2f94",
   "metadata": {},
   "outputs": [],
   "source": [
    "data = pd.read_excel('companies_data.xlsx')"
   ]
  },
  {
   "cell_type": "code",
   "execution_count": 153,
   "id": "d1974ee9",
   "metadata": {},
   "outputs": [],
   "source": [
    "val = val.T"
   ]
  },
  {
   "cell_type": "code",
   "execution_count": 155,
   "id": "1185e902",
   "metadata": {},
   "outputs": [],
   "source": [
    "temp = []"
   ]
  },
  {
   "cell_type": "code",
   "execution_count": 156,
   "id": "2e3963e4",
   "metadata": {},
   "outputs": [],
   "source": [
    "for i in range(len(data)):\n",
    "    temp.append(data.iloc[:, 4].to_list()[i] + '_period_tg')\n",
    "    temp.append(data.iloc[:, 4].to_list()[i] + '_period_cg')\n",
    "    temp.append(data.iloc[:, 4].to_list()[i] + '_pre_tg')\n",
    "    temp.append(data.iloc[:, 4].to_list()[i] + '_pre_cg')\n",
    "    temp.append(data.iloc[:, 4].to_list()[i] + '_post_tg')\n",
    "    temp.append(data.iloc[:, 4].to_list()[i] + '_post_cg')"
   ]
  },
  {
   "cell_type": "code",
   "execution_count": 163,
   "id": "dadacec4",
   "metadata": {},
   "outputs": [],
   "source": [
    "val.columns = temp"
   ]
  },
  {
   "cell_type": "code",
   "execution_count": 164,
   "id": "4d4693d2",
   "metadata": {},
   "outputs": [
    {
     "data": {
      "text/html": [
       "<div>\n",
       "<style scoped>\n",
       "    .dataframe tbody tr th:only-of-type {\n",
       "        vertical-align: middle;\n",
       "    }\n",
       "\n",
       "    .dataframe tbody tr th {\n",
       "        vertical-align: top;\n",
       "    }\n",
       "\n",
       "    .dataframe thead th {\n",
       "        text-align: right;\n",
       "    }\n",
       "</style>\n",
       "<table border=\"1\" class=\"dataframe\">\n",
       "  <thead>\n",
       "    <tr style=\"text-align: right;\">\n",
       "      <th></th>\n",
       "      <th>U-27-10-alpengold-slip-postavschik-2_period_tg</th>\n",
       "      <th>U-27-10-alpengold-slip-postavschik-2_period_cg</th>\n",
       "      <th>U-27-10-alpengold-slip-postavschik-2_pre_tg</th>\n",
       "      <th>U-27-10-alpengold-slip-postavschik-2_pre_cg</th>\n",
       "      <th>U-27-10-alpengold-slip-postavschik-2_post_tg</th>\n",
       "      <th>U-27-10-alpengold-slip-postavschik-2_post_cg</th>\n",
       "      <th>U-27-10-alpengold-viber-sms-postavschik-2_period_tg</th>\n",
       "      <th>U-27-10-alpengold-viber-sms-postavschik-2_period_cg</th>\n",
       "      <th>U-27-10-alpengold-viber-sms-postavschik-2_pre_tg</th>\n",
       "      <th>U-27-10-alpengold-viber-sms-postavschik-2_pre_cg</th>\n",
       "      <th>...</th>\n",
       "      <th>A-24-22-recurrent-Alpengold-cakes_pre_tg</th>\n",
       "      <th>A-24-22-recurrent-Alpengold-cakes_pre_cg</th>\n",
       "      <th>A-24-22-recurrent-Alpengold-cakes_post_tg</th>\n",
       "      <th>A-24-22-recurrent-Alpengold-cakes_post_cg</th>\n",
       "      <th>f24_freq24_alpengold_cookies_period_tg</th>\n",
       "      <th>f24_freq24_alpengold_cookies_period_cg</th>\n",
       "      <th>f24_freq24_alpengold_cookies_pre_tg</th>\n",
       "      <th>f24_freq24_alpengold_cookies_pre_cg</th>\n",
       "      <th>f24_freq24_alpengold_cookies_post_tg</th>\n",
       "      <th>f24_freq24_alpengold_cookies_post_cg</th>\n",
       "    </tr>\n",
       "  </thead>\n",
       "  <tbody>\n",
       "    <tr>\n",
       "      <th>guest_qty</th>\n",
       "      <td>52592</td>\n",
       "      <td>4329</td>\n",
       "      <td>144062</td>\n",
       "      <td>14068</td>\n",
       "      <td>97251</td>\n",
       "      <td>9412</td>\n",
       "      <td>49920</td>\n",
       "      <td>6053</td>\n",
       "      <td>120813</td>\n",
       "      <td>16642</td>\n",
       "      <td>...</td>\n",
       "      <td>656</td>\n",
       "      <td>320</td>\n",
       "      <td>5676</td>\n",
       "      <td>2844</td>\n",
       "      <td>3578</td>\n",
       "      <td>1285</td>\n",
       "      <td>16063</td>\n",
       "      <td>8697</td>\n",
       "      <td>20861</td>\n",
       "      <td>10771</td>\n",
       "    </tr>\n",
       "    <tr>\n",
       "      <th>product_qty</th>\n",
       "      <td>115,454.00</td>\n",
       "      <td>9,166.00</td>\n",
       "      <td>331,325.00</td>\n",
       "      <td>32,927.00</td>\n",
       "      <td>219,265.00</td>\n",
       "      <td>21,401.00</td>\n",
       "      <td>109,312.00</td>\n",
       "      <td>14,065.00</td>\n",
       "      <td>285,642.00</td>\n",
       "      <td>39,408.00</td>\n",
       "      <td>...</td>\n",
       "      <td>1135.000</td>\n",
       "      <td>563.000</td>\n",
       "      <td>12630.000</td>\n",
       "      <td>6104.000</td>\n",
       "      <td>5361.000</td>\n",
       "      <td>1892.000</td>\n",
       "      <td>31073.000</td>\n",
       "      <td>16973.000</td>\n",
       "      <td>47493.000</td>\n",
       "      <td>24514.000</td>\n",
       "    </tr>\n",
       "    <tr>\n",
       "      <th>rto_vat</th>\n",
       "      <td>5,434,428.79</td>\n",
       "      <td>444,662.55</td>\n",
       "      <td>16,531,790.72</td>\n",
       "      <td>1,632,362.96</td>\n",
       "      <td>11,479,642.38</td>\n",
       "      <td>1,124,409.65</td>\n",
       "      <td>5,121,530.59</td>\n",
       "      <td>663,120.20</td>\n",
       "      <td>14,192,577.04</td>\n",
       "      <td>1,963,348.06</td>\n",
       "      <td>...</td>\n",
       "      <td>62178.83</td>\n",
       "      <td>30442.09</td>\n",
       "      <td>598051.31</td>\n",
       "      <td>289708.98</td>\n",
       "      <td>332028.53</td>\n",
       "      <td>124261.39</td>\n",
       "      <td>1654770.59</td>\n",
       "      <td>904522.62</td>\n",
       "      <td>2226488.32</td>\n",
       "      <td>1146083.22</td>\n",
       "    </tr>\n",
       "    <tr>\n",
       "      <th>rto_novat</th>\n",
       "      <td>4,528,808.31</td>\n",
       "      <td>370,562.44</td>\n",
       "      <td>13,776,537.99</td>\n",
       "      <td>1,360,305.28</td>\n",
       "      <td>9,566,617.90</td>\n",
       "      <td>937,031.56</td>\n",
       "      <td>4,268,050.17</td>\n",
       "      <td>552,614.63</td>\n",
       "      <td>11,827,191.50</td>\n",
       "      <td>1,636,126.44</td>\n",
       "      <td>...</td>\n",
       "      <td>51815.79</td>\n",
       "      <td>25368.47</td>\n",
       "      <td>498398.41</td>\n",
       "      <td>241434.77</td>\n",
       "      <td>276696.65</td>\n",
       "      <td>103553.81</td>\n",
       "      <td>1378969.92</td>\n",
       "      <td>753765.58</td>\n",
       "      <td>1855497.64</td>\n",
       "      <td>955114.66</td>\n",
       "    </tr>\n",
       "  </tbody>\n",
       "</table>\n",
       "<p>4 rows × 108 columns</p>\n",
       "</div>"
      ],
      "text/plain": [
       "            U-27-10-alpengold-slip-postavschik-2_period_tg  \\\n",
       "guest_qty                                            52592   \n",
       "product_qty                                     115,454.00   \n",
       "rto_vat                                       5,434,428.79   \n",
       "rto_novat                                     4,528,808.31   \n",
       "\n",
       "            U-27-10-alpengold-slip-postavschik-2_period_cg  \\\n",
       "guest_qty                                             4329   \n",
       "product_qty                                       9,166.00   \n",
       "rto_vat                                         444,662.55   \n",
       "rto_novat                                       370,562.44   \n",
       "\n",
       "            U-27-10-alpengold-slip-postavschik-2_pre_tg  \\\n",
       "guest_qty                                        144062   \n",
       "product_qty                                  331,325.00   \n",
       "rto_vat                                   16,531,790.72   \n",
       "rto_novat                                 13,776,537.99   \n",
       "\n",
       "            U-27-10-alpengold-slip-postavschik-2_pre_cg  \\\n",
       "guest_qty                                         14068   \n",
       "product_qty                                   32,927.00   \n",
       "rto_vat                                    1,632,362.96   \n",
       "rto_novat                                  1,360,305.28   \n",
       "\n",
       "            U-27-10-alpengold-slip-postavschik-2_post_tg  \\\n",
       "guest_qty                                          97251   \n",
       "product_qty                                   219,265.00   \n",
       "rto_vat                                    11,479,642.38   \n",
       "rto_novat                                   9,566,617.90   \n",
       "\n",
       "            U-27-10-alpengold-slip-postavschik-2_post_cg  \\\n",
       "guest_qty                                           9412   \n",
       "product_qty                                    21,401.00   \n",
       "rto_vat                                     1,124,409.65   \n",
       "rto_novat                                     937,031.56   \n",
       "\n",
       "            U-27-10-alpengold-viber-sms-postavschik-2_period_tg  \\\n",
       "guest_qty                                                49920    \n",
       "product_qty                                         109,312.00    \n",
       "rto_vat                                           5,121,530.59    \n",
       "rto_novat                                         4,268,050.17    \n",
       "\n",
       "            U-27-10-alpengold-viber-sms-postavschik-2_period_cg  \\\n",
       "guest_qty                                                 6053    \n",
       "product_qty                                          14,065.00    \n",
       "rto_vat                                             663,120.20    \n",
       "rto_novat                                           552,614.63    \n",
       "\n",
       "            U-27-10-alpengold-viber-sms-postavschik-2_pre_tg  \\\n",
       "guest_qty                                             120813   \n",
       "product_qty                                       285,642.00   \n",
       "rto_vat                                        14,192,577.04   \n",
       "rto_novat                                      11,827,191.50   \n",
       "\n",
       "            U-27-10-alpengold-viber-sms-postavschik-2_pre_cg  ...  \\\n",
       "guest_qty                                              16642  ...   \n",
       "product_qty                                        39,408.00  ...   \n",
       "rto_vat                                         1,963,348.06  ...   \n",
       "rto_novat                                       1,636,126.44  ...   \n",
       "\n",
       "            A-24-22-recurrent-Alpengold-cakes_pre_tg  \\\n",
       "guest_qty                                        656   \n",
       "product_qty                                 1135.000   \n",
       "rto_vat                                     62178.83   \n",
       "rto_novat                                   51815.79   \n",
       "\n",
       "            A-24-22-recurrent-Alpengold-cakes_pre_cg  \\\n",
       "guest_qty                                        320   \n",
       "product_qty                                  563.000   \n",
       "rto_vat                                     30442.09   \n",
       "rto_novat                                   25368.47   \n",
       "\n",
       "            A-24-22-recurrent-Alpengold-cakes_post_tg  \\\n",
       "guest_qty                                        5676   \n",
       "product_qty                                 12630.000   \n",
       "rto_vat                                     598051.31   \n",
       "rto_novat                                   498398.41   \n",
       "\n",
       "            A-24-22-recurrent-Alpengold-cakes_post_cg  \\\n",
       "guest_qty                                        2844   \n",
       "product_qty                                  6104.000   \n",
       "rto_vat                                     289708.98   \n",
       "rto_novat                                   241434.77   \n",
       "\n",
       "            f24_freq24_alpengold_cookies_period_tg  \\\n",
       "guest_qty                                     3578   \n",
       "product_qty                               5361.000   \n",
       "rto_vat                                  332028.53   \n",
       "rto_novat                                276696.65   \n",
       "\n",
       "            f24_freq24_alpengold_cookies_period_cg  \\\n",
       "guest_qty                                     1285   \n",
       "product_qty                               1892.000   \n",
       "rto_vat                                  124261.39   \n",
       "rto_novat                                103553.81   \n",
       "\n",
       "            f24_freq24_alpengold_cookies_pre_tg  \\\n",
       "guest_qty                                 16063   \n",
       "product_qty                           31073.000   \n",
       "rto_vat                              1654770.59   \n",
       "rto_novat                            1378969.92   \n",
       "\n",
       "            f24_freq24_alpengold_cookies_pre_cg  \\\n",
       "guest_qty                                  8697   \n",
       "product_qty                           16973.000   \n",
       "rto_vat                               904522.62   \n",
       "rto_novat                             753765.58   \n",
       "\n",
       "            f24_freq24_alpengold_cookies_post_tg  \\\n",
       "guest_qty                                  20861   \n",
       "product_qty                            47493.000   \n",
       "rto_vat                               2226488.32   \n",
       "rto_novat                             1855497.64   \n",
       "\n",
       "            f24_freq24_alpengold_cookies_post_cg  \n",
       "guest_qty                                  10771  \n",
       "product_qty                            24514.000  \n",
       "rto_vat                               1146083.22  \n",
       "rto_novat                              955114.66  \n",
       "\n",
       "[4 rows x 108 columns]"
      ]
     },
     "execution_count": 164,
     "metadata": {},
     "output_type": "execute_result"
    }
   ],
   "source": [
    "val"
   ]
  },
  {
   "cell_type": "code",
   "execution_count": 171,
   "id": "fc0a20c3",
   "metadata": {},
   "outputs": [],
   "source": [
    "val.to_excel('camp_data_values.xlsx')"
   ]
  }
 ],
 "metadata": {
  "kernelspec": {
   "display_name": "Python 3 (ipykernel)",
   "language": "python",
   "name": "python3"
  },
  "language_info": {
   "codemirror_mode": {
    "name": "ipython",
    "version": 3
   },
   "file_extension": ".py",
   "mimetype": "text/x-python",
   "name": "python",
   "nbconvert_exporter": "python",
   "pygments_lexer": "ipython3",
   "version": "3.7.10"
  }
 },
 "nbformat": 4,
 "nbformat_minor": 5
}
