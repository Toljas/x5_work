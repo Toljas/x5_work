{
 "cells": [
  {
   "cell_type": "markdown",
   "id": "3ed6cbec",
   "metadata": {},
   "source": [
    "https://jira.x5.ru/browse/CVMUPG-1141"
   ]
  },
  {
   "cell_type": "code",
   "execution_count": 1,
   "id": "f364755a",
   "metadata": {},
   "outputs": [],
   "source": [
    "name = 'CVMUPG-1141_bigbon_pa'"
   ]
  },
  {
   "cell_type": "code",
   "execution_count": 2,
   "id": "822f3aeb",
   "metadata": {},
   "outputs": [],
   "source": [
    "import sys\n",
    "import pandas as pd\n",
    "import pyspark.sql.functions as F\n",
    "sys.path.append('/home/jovyan/cvm_upgrade/')\n",
    "sys.path.append('/home/jovyan/cvm_upgrade/upgrade/')\n",
    "sys.path.append('/home/jovyan/glow-byte-filters-pyspark')\n",
    "sys.path.append('/home/jovyan/x5_some_tasks/Osipov/')\n",
    "from upgrade.post_analysis2.tools.groups_metrics_aggregation import GroupsMetricsAggregation\n",
    "from upgrade.post_analysis2.tools.guests_metrics_preprocessing import GuestsMetricsPreprocessing\n",
    "from upgrade.post_analysis2.tools.post_analysis_params import PostAnalysisParams\n",
    "from upgrade.post_analysis2.tools.metric_names_mapper import map_col_names_to_russian\n",
    "from upgrade.post_analysis2.tools.experiment_participants import ExperimentParticipants\n",
    "from upgrade.post_analysis2.tools.experiment_params import ExperimentParams\n",
    "import datetime\n",
    "from datetime import timedelta\n",
    "from spark import *\n",
    "from utils_osipov import *\n",
    "\n",
    "%load_ext autoreload\n",
    "%autoreload 2\n",
    "\n",
    "pd.options.display.float_format = '{:,.2f}'.format\n",
    "pd.options.display.max_rows = 500"
   ]
  },
  {
   "cell_type": "code",
   "execution_count": 3,
   "id": "1a4bc472",
   "metadata": {
    "collapsed": false,
    "jupyter": {
     "outputs_hidden": false
    },
    "pycharm": {
     "name": "#%%\n"
    }
   },
   "outputs": [
    {
     "name": "stderr",
     "output_type": "stream",
     "text": [
      "Setting default log level to \"WARN\".\n",
      "To adjust logging level use sc.setLogLevel(newLevel). For SparkR, use setLogLevel(newLevel).\n",
      "22/02/18 18:48:35 WARN cluster.YarnSchedulerBackend$YarnSchedulerEndpoint: Attempted to request executors before the AM has registered!\n"
     ]
    }
   ],
   "source": [
    "sc, spark = restart_spark(name, 100, executor_memory=\"3G\", executor_cores=5, driver_memory=\"12G\",\n",
    "                          additional_params={\"spark.sql.shuffle.partitions\": \"200\"})\n",
    "sc.setLogLevel('ERROR')"
   ]
  },
  {
   "cell_type": "markdown",
   "id": "8b9e51c0",
   "metadata": {},
   "source": [
    "### 1: X-28-42-Mareven-BigBon-sof"
   ]
  },
  {
   "cell_type": "code",
   "execution_count": 4,
   "id": "fabba93c",
   "metadata": {
    "collapsed": false,
    "jupyter": {
     "outputs_hidden": false
    },
    "pycharm": {
     "name": "#%%\n"
    }
   },
   "outputs": [
    {
     "name": "stderr",
     "output_type": "stream",
     "text": [
      "                                                                                \r"
     ]
    }
   ],
   "source": [
    "campaign_id = 'X-28-42-Mareven-BigBon-sof'\n",
    "output_fin_report = f'{campaign_id}_fin_report.csv'\n",
    "output_main_report = f'{campaign_id}_main_report.csv'\n",
    "\n",
    "experiment_params = ExperimentParams(**{\n",
    "    # Camp wave id нужно записать в виде мапы из id в префиксы.\n",
    "    # Префиксы ни на что не влияют, просто для более красивого названия групп\n",
    "    # Заполняются camp_wave_id. Если для контроля и теста одинаковый, то пишем два раза\n",
    "    'map_camp_wave_ids_to_suffixes': {\n",
    "        80782: \"sms_viber_tg\",\n",
    "        80782: \"sms_viber_cg\"\n",
    "    },\n",
    "\n",
    "    # communication period with guest (sending sms, push, etc.)\n",
    "    'date_communication_from': '2022-01-25',\n",
    "    'date_communication_to': '2022-01-31',\n",
    "\n",
    "    'wave_ids': [\n",
    "        81240 #если нет, то -1\n",
    "    ],\n",
    "\n",
    "    'communication_costs': {\n",
    "        'sms': 1.38,\n",
    "        'viber': 1.32,\n",
    "        'email': 0.0083\n",
    "    }\n",
    "})\n",
    "\n",
    "post_analysis_params = PostAnalysisParams(**{\n",
    "    'spark': spark,\n",
    "    'date_from': '2022-01-25',\n",
    "    'date_to': '2022-01-31', #дата постпериода\n",
    "    'control_camp_wave_id': 80782,\n",
    "    'plu_list': list(map(str, [3003111,2082200,4025330,4059568,4063579,4025331,2082204,4025363,4115113,\n",
    "                               3368169,3003110,2082206,4113988,3368168,3468665,3468666,4115114,4113990])),\n",
    "    'threshold_item_condition': 'plu_list', #есть категория еще\n",
    "    'count_for_plu_list': 2 #механика от 2-х штук\n",
    "})\n",
    "\n",
    "\n",
    "assert post_analysis_params.control_camp_wave_id in experiment_params.map_camp_wave_ids_to_suffixes.keys()"
   ]
  },
  {
   "cell_type": "code",
   "execution_count": 5,
   "id": "25328c19",
   "metadata": {
    "collapsed": false,
    "jupyter": {
     "outputs_hidden": false
    },
    "pycharm": {
     "name": "#%%\n"
    },
    "scrolled": true
   },
   "outputs": [],
   "source": [
    "experiment_guests = ExperimentParticipants(spark, experiment_params)\n",
    "experiment_guests_communications = experiment_guests.extract()"
   ]
  },
  {
   "cell_type": "code",
   "execution_count": 6,
   "id": "a7e8363b",
   "metadata": {
    "collapsed": false,
    "jupyter": {
     "outputs_hidden": false
    },
    "pycharm": {
     "name": "#%%\n"
    },
    "scrolled": true
   },
   "outputs": [
    {
     "name": "stderr",
     "output_type": "stream",
     "text": [
      "                                                                                1]]]]]\r"
     ]
    }
   ],
   "source": [
    "guest_metrics_preparation = GuestsMetricsPreprocessing(spark, experiment_guests_communications, post_analysis_params)\n",
    "experiment_guests_with_metrics = guest_metrics_preparation.evaluate()"
   ]
  },
  {
   "cell_type": "code",
   "execution_count": 7,
   "id": "2ef835bd",
   "metadata": {
    "collapsed": false,
    "jupyter": {
     "outputs_hidden": false
    },
    "pycharm": {
     "name": "#%%\n"
    }
   },
   "outputs": [
    {
     "name": "stderr",
     "output_type": "stream",
     "text": [
      "/opt/conda/lib/python3.7/site-packages/pandas/core/indexing.py:1684: PerformanceWarning: DataFrame is highly fragmented.  This is usually the result of calling `frame.insert` many times, which has poor performance.  Consider joining all columns at once using pd.concat(axis=1) instead.  To get a de-fragmented frame, use `newframe = frame.copy()`\n",
      "  self.obj[key] = infer_fill_value(value)\n"
     ]
    }
   ],
   "source": [
    "groups_metrics_aggregation = GroupsMetricsAggregation(spark, experiment_guests_with_metrics, post_analysis_params)\n",
    "groups_metrics, map_to_effects_table = groups_metrics_aggregation.evaluate()"
   ]
  },
  {
   "cell_type": "code",
   "execution_count": 8,
   "id": "76dd961c",
   "metadata": {
    "collapsed": false,
    "jupyter": {
     "outputs_hidden": false
    },
    "pycharm": {
     "name": "#%%\n"
    }
   },
   "outputs": [
    {
     "data": {
      "text/html": [
       "<div>\n",
       "<style scoped>\n",
       "    .dataframe tbody tr th:only-of-type {\n",
       "        vertical-align: middle;\n",
       "    }\n",
       "\n",
       "    .dataframe tbody tr th {\n",
       "        vertical-align: top;\n",
       "    }\n",
       "\n",
       "    .dataframe thead th {\n",
       "        text-align: right;\n",
       "    }\n",
       "</style>\n",
       "<table border=\"1\" class=\"dataframe\">\n",
       "  <thead>\n",
       "    <tr style=\"text-align: right;\">\n",
       "      <th></th>\n",
       "      <th>Размер выборки, чел.</th>\n",
       "      <th>Затраты на коммуникацию и на баллы (сумма delta с учетом redemption), руб.</th>\n",
       "      <th>Затраты на коммуникацию, руб./гость</th>\n",
       "      <th>Затраты на коммуникацию, руб.</th>\n",
       "      <th>Софинансирование, руб./гость</th>\n",
       "      <th>Софинансирование, руб.</th>\n",
       "      <th>Покупка предложения(чек), товаров (шт)</th>\n",
       "      <th>Покупка предложения(категория), товаров (шт)</th>\n",
       "      <th>Покупка предложения(набор plu), товаров (шт)</th>\n",
       "      <th>Гостей, купившие что-нибудь</th>\n",
       "      <th>...</th>\n",
       "      <th>Эффект Ebitda софинансирование(чек) на группу, руб.</th>\n",
       "      <th>Эффект Ebitda софинансирование(чек) на группу / Ebitda софинансирование(чек) группы</th>\n",
       "      <th>Значимость Ebitda софинансирование(категория)</th>\n",
       "      <th>Эффект Ebitda софинансирование(категория) на гостя, руб.</th>\n",
       "      <th>Эффект Ebitda софинансирование(категория) на группу, руб.</th>\n",
       "      <th>Эффект Ebitda софинансирование(категория) на группу / Ebitda софинансирование(категория) группы</th>\n",
       "      <th>Значимость Ebitda софинансирование(набор plu)</th>\n",
       "      <th>Эффект Ebitda софинансирование(набор plu) на гостя, руб.</th>\n",
       "      <th>Эффект Ebitda софинансирование(набор plu) на группу, руб.</th>\n",
       "      <th>Эффект Ebitda софинансирование(набор plu) на группу / Ebitda софинансирование(набор plu) группы</th>\n",
       "    </tr>\n",
       "    <tr>\n",
       "      <th>group_name</th>\n",
       "      <th></th>\n",
       "      <th></th>\n",
       "      <th></th>\n",
       "      <th></th>\n",
       "      <th></th>\n",
       "      <th></th>\n",
       "      <th></th>\n",
       "      <th></th>\n",
       "      <th></th>\n",
       "      <th></th>\n",
       "      <th></th>\n",
       "      <th></th>\n",
       "      <th></th>\n",
       "      <th></th>\n",
       "      <th></th>\n",
       "      <th></th>\n",
       "      <th></th>\n",
       "      <th></th>\n",
       "      <th></th>\n",
       "      <th></th>\n",
       "      <th></th>\n",
       "    </tr>\n",
       "  </thead>\n",
       "  <tbody>\n",
       "    <tr>\n",
       "      <th>0_80782_sms_viber_cg</th>\n",
       "      <td>59944</td>\n",
       "      <td>-6,307.20</td>\n",
       "      <td>1.35</td>\n",
       "      <td>80,794.50</td>\n",
       "      <td>1.37</td>\n",
       "      <td>82,041.00</td>\n",
       "      <td>1,473,892.55</td>\n",
       "      <td>29,395.00</td>\n",
       "      <td>259.00</td>\n",
       "      <td>51375</td>\n",
       "      <td>...</td>\n",
       "      <td>168,770.00</td>\n",
       "      <td>0.01</td>\n",
       "      <td>0.00</td>\n",
       "      <td>0.13</td>\n",
       "      <td>7,667.00</td>\n",
       "      <td>0.02</td>\n",
       "      <td>0.00</td>\n",
       "      <td>0.07</td>\n",
       "      <td>4,140.00</td>\n",
       "      <td>0.04</td>\n",
       "    </tr>\n",
       "    <tr>\n",
       "      <th>1_80782_sms_viber_cg</th>\n",
       "      <td>14986</td>\n",
       "      <td>-19,237.44</td>\n",
       "      <td>0.00</td>\n",
       "      <td>0.00</td>\n",
       "      <td>0.00</td>\n",
       "      <td>0.00</td>\n",
       "      <td>367,935.03</td>\n",
       "      <td>7,321.00</td>\n",
       "      <td>21.00</td>\n",
       "      <td>12811</td>\n",
       "      <td>...</td>\n",
       "      <td>NaN</td>\n",
       "      <td>NaN</td>\n",
       "      <td>NaN</td>\n",
       "      <td>NaN</td>\n",
       "      <td>NaN</td>\n",
       "      <td>NaN</td>\n",
       "      <td>NaN</td>\n",
       "      <td>NaN</td>\n",
       "      <td>NaN</td>\n",
       "      <td>NaN</td>\n",
       "    </tr>\n",
       "  </tbody>\n",
       "</table>\n",
       "<p>2 rows × 103 columns</p>\n",
       "</div>"
      ],
      "text/plain": [
       "                      Размер выборки, чел.  \\\n",
       "group_name                                   \n",
       "0_80782_sms_viber_cg                 59944   \n",
       "1_80782_sms_viber_cg                 14986   \n",
       "\n",
       "                      Затраты на коммуникацию и на баллы (сумма delta с учетом redemption), руб.  \\\n",
       "group_name                                                                                         \n",
       "0_80782_sms_viber_cg                                          -6,307.20                            \n",
       "1_80782_sms_viber_cg                                         -19,237.44                            \n",
       "\n",
       "                      Затраты на коммуникацию, руб./гость  \\\n",
       "group_name                                                  \n",
       "0_80782_sms_viber_cg                                 1.35   \n",
       "1_80782_sms_viber_cg                                 0.00   \n",
       "\n",
       "                      Затраты на коммуникацию, руб.  \\\n",
       "group_name                                            \n",
       "0_80782_sms_viber_cg                      80,794.50   \n",
       "1_80782_sms_viber_cg                           0.00   \n",
       "\n",
       "                      Софинансирование, руб./гость  Софинансирование, руб.  \\\n",
       "group_name                                                                   \n",
       "0_80782_sms_viber_cg                          1.37               82,041.00   \n",
       "1_80782_sms_viber_cg                          0.00                    0.00   \n",
       "\n",
       "                      Покупка предложения(чек), товаров (шт)  \\\n",
       "group_name                                                     \n",
       "0_80782_sms_viber_cg                            1,473,892.55   \n",
       "1_80782_sms_viber_cg                              367,935.03   \n",
       "\n",
       "                      Покупка предложения(категория), товаров (шт)  \\\n",
       "group_name                                                           \n",
       "0_80782_sms_viber_cg                                     29,395.00   \n",
       "1_80782_sms_viber_cg                                      7,321.00   \n",
       "\n",
       "                      Покупка предложения(набор plu), товаров (шт)  \\\n",
       "group_name                                                           \n",
       "0_80782_sms_viber_cg                                        259.00   \n",
       "1_80782_sms_viber_cg                                         21.00   \n",
       "\n",
       "                      Гостей, купившие что-нибудь  ...  \\\n",
       "group_name                                         ...   \n",
       "0_80782_sms_viber_cg                        51375  ...   \n",
       "1_80782_sms_viber_cg                        12811  ...   \n",
       "\n",
       "                      Эффект Ebitda софинансирование(чек) на группу, руб.  \\\n",
       "group_name                                                                  \n",
       "0_80782_sms_viber_cg                                         168,770.00     \n",
       "1_80782_sms_viber_cg                                                NaN     \n",
       "\n",
       "                      Эффект Ebitda софинансирование(чек) на группу / Ebitda софинансирование(чек) группы  \\\n",
       "group_name                                                                                                  \n",
       "0_80782_sms_viber_cg                                               0.01                                     \n",
       "1_80782_sms_viber_cg                                                NaN                                     \n",
       "\n",
       "                      Значимость Ebitda софинансирование(категория)  \\\n",
       "group_name                                                            \n",
       "0_80782_sms_viber_cg                                           0.00   \n",
       "1_80782_sms_viber_cg                                            NaN   \n",
       "\n",
       "                      Эффект Ebitda софинансирование(категория) на гостя, руб.  \\\n",
       "group_name                                                                       \n",
       "0_80782_sms_viber_cg                                               0.13          \n",
       "1_80782_sms_viber_cg                                                NaN          \n",
       "\n",
       "                      Эффект Ebitda софинансирование(категория) на группу, руб.  \\\n",
       "group_name                                                                        \n",
       "0_80782_sms_viber_cg                                           7,667.00           \n",
       "1_80782_sms_viber_cg                                                NaN           \n",
       "\n",
       "                      Эффект Ebitda софинансирование(категория) на группу / Ebitda софинансирование(категория) группы  \\\n",
       "group_name                                                                                                              \n",
       "0_80782_sms_viber_cg                                               0.02                                                 \n",
       "1_80782_sms_viber_cg                                                NaN                                                 \n",
       "\n",
       "                      Значимость Ebitda софинансирование(набор plu)  \\\n",
       "group_name                                                            \n",
       "0_80782_sms_viber_cg                                           0.00   \n",
       "1_80782_sms_viber_cg                                            NaN   \n",
       "\n",
       "                      Эффект Ebitda софинансирование(набор plu) на гостя, руб.  \\\n",
       "group_name                                                                       \n",
       "0_80782_sms_viber_cg                                               0.07          \n",
       "1_80782_sms_viber_cg                                                NaN          \n",
       "\n",
       "                      Эффект Ebitda софинансирование(набор plu) на группу, руб.  \\\n",
       "group_name                                                                        \n",
       "0_80782_sms_viber_cg                                           4,140.00           \n",
       "1_80782_sms_viber_cg                                                NaN           \n",
       "\n",
       "                      Эффект Ebitda софинансирование(набор plu) на группу / Ebitda софинансирование(набор plu) группы  \n",
       "group_name                                                                                                             \n",
       "0_80782_sms_viber_cg                                               0.04                                                \n",
       "1_80782_sms_viber_cg                                                NaN                                                \n",
       "\n",
       "[2 rows x 103 columns]"
      ]
     },
     "execution_count": 8,
     "metadata": {},
     "output_type": "execute_result"
    }
   ],
   "source": [
    "fin_report = map_col_names_to_russian(groups_metrics)\n",
    "fin_report"
   ]
  },
  {
   "cell_type": "code",
   "execution_count": 9,
   "id": "7480f764",
   "metadata": {
    "collapsed": false,
    "jupyter": {
     "outputs_hidden": false
    },
    "pycharm": {
     "name": "#%%\n"
    },
    "scrolled": true
   },
   "outputs": [],
   "source": [
    "fin_report['meta_post_analysis'] = str(post_analysis_params.__dict__)\n",
    "fin_report['meta_experiment_params'] = str(experiment_params.__dict__)\n",
    "groups_metrics['meta_post_analysis'] = str(post_analysis_params.__dict__)\n",
    "groups_metrics['meta_experiment_params'] = str(experiment_params.__dict__)\n",
    "\n",
    "groups_metrics.T.to_csv(output_main_report, encoding='utf-8-sig', sep=';')\n",
    "fin_report.T.to_csv(output_fin_report, encoding='utf-8-sig', sep=';')"
   ]
  },
  {
   "cell_type": "markdown",
   "id": "e5f06377",
   "metadata": {},
   "source": [
    "### 2: U-28-BigBon-postavschik"
   ]
  },
  {
   "cell_type": "code",
   "execution_count": 10,
   "id": "3fff68ed",
   "metadata": {
    "collapsed": false,
    "jupyter": {
     "outputs_hidden": false
    },
    "pycharm": {
     "name": "#%%\n"
    }
   },
   "outputs": [
    {
     "name": "stderr",
     "output_type": "stream",
     "text": [
      "                                                                                \r"
     ]
    }
   ],
   "source": [
    "campaign_id = 'U-28-BigBon-postavschik'\n",
    "output_fin_report = f'{campaign_id}_fin_report.csv'\n",
    "output_main_report = f'{campaign_id}_main_report.csv'\n",
    "\n",
    "experiment_params = ExperimentParams(**{\n",
    "    # Camp wave id нужно записать в виде мапы из id в префиксы.\n",
    "    # Префиксы ни на что не влияют, просто для более красивого названия групп\n",
    "    # Заполняются camp_wave_id. Если для контроля и теста одинаковый, то пишем два раза\n",
    "    'map_camp_wave_ids_to_suffixes': {\n",
    "        80928: \"sms_viber_tg\",\n",
    "        80928: \"sms_viber_cg\"\n",
    "    },\n",
    "\n",
    "    # communication period with guest (sending sms, push, etc.)\n",
    "    'date_communication_from': '2022-01-25',\n",
    "    'date_communication_to': '2022-01-31',\n",
    "\n",
    "    'wave_ids': [\n",
    "        81250 #если нет, то -1\n",
    "    ],\n",
    "\n",
    "    'communication_costs': {\n",
    "        'sms': 1.38,\n",
    "        'viber': 1.32,\n",
    "        'email': 0.0083\n",
    "    }\n",
    "})\n",
    "\n",
    "post_analysis_params = PostAnalysisParams(**{\n",
    "    'spark': spark,\n",
    "    'date_from': '2022-01-25',\n",
    "    'date_to': '2022-01-31', #дата постпериода\n",
    "    'control_camp_wave_id': 80928,\n",
    "    'plu_list': list(map(str, [3003111,2082200,4025330,4059568,4063579,4025331,2082204,4025363,4115113,\n",
    "                               3368169,3003110,2082206,4113988,3368168,3468665,3468666,4115114,4113990])),\n",
    "    'threshold_item_condition': 'plu_list', #есть категория еще\n",
    "    'count_for_plu_list': 2 #механика от 2-х штук\n",
    "})\n",
    "\n",
    "\n",
    "assert post_analysis_params.control_camp_wave_id in experiment_params.map_camp_wave_ids_to_suffixes.keys()"
   ]
  },
  {
   "cell_type": "code",
   "execution_count": 11,
   "id": "fc4383c9",
   "metadata": {
    "collapsed": false,
    "jupyter": {
     "outputs_hidden": false
    },
    "pycharm": {
     "name": "#%%\n"
    },
    "scrolled": true
   },
   "outputs": [],
   "source": [
    "experiment_guests = ExperimentParticipants(spark, experiment_params)\n",
    "experiment_guests_communications = experiment_guests.extract()"
   ]
  },
  {
   "cell_type": "code",
   "execution_count": 12,
   "id": "d90642a2",
   "metadata": {
    "collapsed": false,
    "jupyter": {
     "outputs_hidden": false
    },
    "pycharm": {
     "name": "#%%\n"
    },
    "scrolled": true
   },
   "outputs": [
    {
     "name": "stderr",
     "output_type": "stream",
     "text": [
      "                                                                                0]]]]]]]\r"
     ]
    }
   ],
   "source": [
    "guest_metrics_preparation = GuestsMetricsPreprocessing(spark, experiment_guests_communications, post_analysis_params)\n",
    "experiment_guests_with_metrics = guest_metrics_preparation.evaluate()"
   ]
  },
  {
   "cell_type": "code",
   "execution_count": 13,
   "id": "8b3b3242",
   "metadata": {
    "collapsed": false,
    "jupyter": {
     "outputs_hidden": false
    },
    "pycharm": {
     "name": "#%%\n"
    }
   },
   "outputs": [
    {
     "name": "stderr",
     "output_type": "stream",
     "text": [
      "/opt/conda/lib/python3.7/site-packages/pandas/core/indexing.py:1684: PerformanceWarning: DataFrame is highly fragmented.  This is usually the result of calling `frame.insert` many times, which has poor performance.  Consider joining all columns at once using pd.concat(axis=1) instead.  To get a de-fragmented frame, use `newframe = frame.copy()`\n",
      "  self.obj[key] = infer_fill_value(value)\n"
     ]
    }
   ],
   "source": [
    "groups_metrics_aggregation = GroupsMetricsAggregation(spark, experiment_guests_with_metrics, post_analysis_params)\n",
    "groups_metrics, map_to_effects_table = groups_metrics_aggregation.evaluate()"
   ]
  },
  {
   "cell_type": "code",
   "execution_count": 14,
   "id": "c2173376",
   "metadata": {
    "collapsed": false,
    "jupyter": {
     "outputs_hidden": false
    },
    "pycharm": {
     "name": "#%%\n"
    }
   },
   "outputs": [
    {
     "data": {
      "text/html": [
       "<div>\n",
       "<style scoped>\n",
       "    .dataframe tbody tr th:only-of-type {\n",
       "        vertical-align: middle;\n",
       "    }\n",
       "\n",
       "    .dataframe tbody tr th {\n",
       "        vertical-align: top;\n",
       "    }\n",
       "\n",
       "    .dataframe thead th {\n",
       "        text-align: right;\n",
       "    }\n",
       "</style>\n",
       "<table border=\"1\" class=\"dataframe\">\n",
       "  <thead>\n",
       "    <tr style=\"text-align: right;\">\n",
       "      <th></th>\n",
       "      <th>Размер выборки, чел.</th>\n",
       "      <th>Затраты на коммуникацию и на баллы (сумма delta с учетом redemption), руб.</th>\n",
       "      <th>Затраты на коммуникацию, руб./гость</th>\n",
       "      <th>Затраты на коммуникацию, руб.</th>\n",
       "      <th>Софинансирование, руб./гость</th>\n",
       "      <th>Софинансирование, руб.</th>\n",
       "      <th>Покупка предложения(чек), товаров (шт)</th>\n",
       "      <th>Покупка предложения(категория), товаров (шт)</th>\n",
       "      <th>Покупка предложения(набор plu), товаров (шт)</th>\n",
       "      <th>Гостей, купившие что-нибудь</th>\n",
       "      <th>...</th>\n",
       "      <th>Эффект Ebitda софинансирование(чек) на группу, руб.</th>\n",
       "      <th>Эффект Ebitda софинансирование(чек) на группу / Ebitda софинансирование(чек) группы</th>\n",
       "      <th>Значимость Ebitda софинансирование(категория)</th>\n",
       "      <th>Эффект Ebitda софинансирование(категория) на гостя, руб.</th>\n",
       "      <th>Эффект Ebitda софинансирование(категория) на группу, руб.</th>\n",
       "      <th>Эффект Ebitda софинансирование(категория) на группу / Ebitda софинансирование(категория) группы</th>\n",
       "      <th>Значимость Ebitda софинансирование(набор plu)</th>\n",
       "      <th>Эффект Ebitda софинансирование(набор plu) на гостя, руб.</th>\n",
       "      <th>Эффект Ebitda софинансирование(набор plu) на группу, руб.</th>\n",
       "      <th>Эффект Ebitda софинансирование(набор plu) на группу / Ebitda софинансирование(набор plu) группы</th>\n",
       "    </tr>\n",
       "    <tr>\n",
       "      <th>group_name</th>\n",
       "      <th></th>\n",
       "      <th></th>\n",
       "      <th></th>\n",
       "      <th></th>\n",
       "      <th></th>\n",
       "      <th></th>\n",
       "      <th></th>\n",
       "      <th></th>\n",
       "      <th></th>\n",
       "      <th></th>\n",
       "      <th></th>\n",
       "      <th></th>\n",
       "      <th></th>\n",
       "      <th></th>\n",
       "      <th></th>\n",
       "      <th></th>\n",
       "      <th></th>\n",
       "      <th></th>\n",
       "      <th></th>\n",
       "      <th></th>\n",
       "      <th></th>\n",
       "    </tr>\n",
       "  </thead>\n",
       "  <tbody>\n",
       "    <tr>\n",
       "      <th>1_80928_sms_viber_cg</th>\n",
       "      <td>11675</td>\n",
       "      <td>-3,387.52</td>\n",
       "      <td>0.00</td>\n",
       "      <td>0.00</td>\n",
       "      <td>0.00</td>\n",
       "      <td>0.00</td>\n",
       "      <td>170,166.05</td>\n",
       "      <td>652.00</td>\n",
       "      <td>2.00</td>\n",
       "      <td>9155</td>\n",
       "      <td>...</td>\n",
       "      <td>NaN</td>\n",
       "      <td>NaN</td>\n",
       "      <td>NaN</td>\n",
       "      <td>NaN</td>\n",
       "      <td>NaN</td>\n",
       "      <td>NaN</td>\n",
       "      <td>NaN</td>\n",
       "      <td>NaN</td>\n",
       "      <td>NaN</td>\n",
       "      <td>NaN</td>\n",
       "    </tr>\n",
       "    <tr>\n",
       "      <th>0_80928_sms_viber_cg</th>\n",
       "      <td>79953</td>\n",
       "      <td>63,975.55</td>\n",
       "      <td>1.36</td>\n",
       "      <td>108,571.92</td>\n",
       "      <td>1.43</td>\n",
       "      <td>114,697.50</td>\n",
       "      <td>1,205,852.66</td>\n",
       "      <td>4,747.00</td>\n",
       "      <td>210.00</td>\n",
       "      <td>63031</td>\n",
       "      <td>...</td>\n",
       "      <td>-656,606.00</td>\n",
       "      <td>-0.04</td>\n",
       "      <td>0.00</td>\n",
       "      <td>0.38</td>\n",
       "      <td>30,225.00</td>\n",
       "      <td>0.25</td>\n",
       "      <td>0.00</td>\n",
       "      <td>0.40</td>\n",
       "      <td>31,571.00</td>\n",
       "      <td>0.57</td>\n",
       "    </tr>\n",
       "  </tbody>\n",
       "</table>\n",
       "<p>2 rows × 103 columns</p>\n",
       "</div>"
      ],
      "text/plain": [
       "                      Размер выборки, чел.  \\\n",
       "group_name                                   \n",
       "1_80928_sms_viber_cg                 11675   \n",
       "0_80928_sms_viber_cg                 79953   \n",
       "\n",
       "                      Затраты на коммуникацию и на баллы (сумма delta с учетом redemption), руб.  \\\n",
       "group_name                                                                                         \n",
       "1_80928_sms_viber_cg                                          -3,387.52                            \n",
       "0_80928_sms_viber_cg                                          63,975.55                            \n",
       "\n",
       "                      Затраты на коммуникацию, руб./гость  \\\n",
       "group_name                                                  \n",
       "1_80928_sms_viber_cg                                 0.00   \n",
       "0_80928_sms_viber_cg                                 1.36   \n",
       "\n",
       "                      Затраты на коммуникацию, руб.  \\\n",
       "group_name                                            \n",
       "1_80928_sms_viber_cg                           0.00   \n",
       "0_80928_sms_viber_cg                     108,571.92   \n",
       "\n",
       "                      Софинансирование, руб./гость  Софинансирование, руб.  \\\n",
       "group_name                                                                   \n",
       "1_80928_sms_viber_cg                          0.00                    0.00   \n",
       "0_80928_sms_viber_cg                          1.43              114,697.50   \n",
       "\n",
       "                      Покупка предложения(чек), товаров (шт)  \\\n",
       "group_name                                                     \n",
       "1_80928_sms_viber_cg                              170,166.05   \n",
       "0_80928_sms_viber_cg                            1,205,852.66   \n",
       "\n",
       "                      Покупка предложения(категория), товаров (шт)  \\\n",
       "group_name                                                           \n",
       "1_80928_sms_viber_cg                                        652.00   \n",
       "0_80928_sms_viber_cg                                      4,747.00   \n",
       "\n",
       "                      Покупка предложения(набор plu), товаров (шт)  \\\n",
       "group_name                                                           \n",
       "1_80928_sms_viber_cg                                          2.00   \n",
       "0_80928_sms_viber_cg                                        210.00   \n",
       "\n",
       "                      Гостей, купившие что-нибудь  ...  \\\n",
       "group_name                                         ...   \n",
       "1_80928_sms_viber_cg                         9155  ...   \n",
       "0_80928_sms_viber_cg                        63031  ...   \n",
       "\n",
       "                      Эффект Ebitda софинансирование(чек) на группу, руб.  \\\n",
       "group_name                                                                  \n",
       "1_80928_sms_viber_cg                                                NaN     \n",
       "0_80928_sms_viber_cg                                        -656,606.00     \n",
       "\n",
       "                      Эффект Ebitda софинансирование(чек) на группу / Ebitda софинансирование(чек) группы  \\\n",
       "group_name                                                                                                  \n",
       "1_80928_sms_viber_cg                                                NaN                                     \n",
       "0_80928_sms_viber_cg                                              -0.04                                     \n",
       "\n",
       "                      Значимость Ebitda софинансирование(категория)  \\\n",
       "group_name                                                            \n",
       "1_80928_sms_viber_cg                                            NaN   \n",
       "0_80928_sms_viber_cg                                           0.00   \n",
       "\n",
       "                      Эффект Ebitda софинансирование(категория) на гостя, руб.  \\\n",
       "group_name                                                                       \n",
       "1_80928_sms_viber_cg                                                NaN          \n",
       "0_80928_sms_viber_cg                                               0.38          \n",
       "\n",
       "                      Эффект Ebitda софинансирование(категория) на группу, руб.  \\\n",
       "group_name                                                                        \n",
       "1_80928_sms_viber_cg                                                NaN           \n",
       "0_80928_sms_viber_cg                                          30,225.00           \n",
       "\n",
       "                      Эффект Ebitda софинансирование(категория) на группу / Ebitda софинансирование(категория) группы  \\\n",
       "group_name                                                                                                              \n",
       "1_80928_sms_viber_cg                                                NaN                                                 \n",
       "0_80928_sms_viber_cg                                               0.25                                                 \n",
       "\n",
       "                      Значимость Ebitda софинансирование(набор plu)  \\\n",
       "group_name                                                            \n",
       "1_80928_sms_viber_cg                                            NaN   \n",
       "0_80928_sms_viber_cg                                           0.00   \n",
       "\n",
       "                      Эффект Ebitda софинансирование(набор plu) на гостя, руб.  \\\n",
       "group_name                                                                       \n",
       "1_80928_sms_viber_cg                                                NaN          \n",
       "0_80928_sms_viber_cg                                               0.40          \n",
       "\n",
       "                      Эффект Ebitda софинансирование(набор plu) на группу, руб.  \\\n",
       "group_name                                                                        \n",
       "1_80928_sms_viber_cg                                                NaN           \n",
       "0_80928_sms_viber_cg                                          31,571.00           \n",
       "\n",
       "                      Эффект Ebitda софинансирование(набор plu) на группу / Ebitda софинансирование(набор plu) группы  \n",
       "group_name                                                                                                             \n",
       "1_80928_sms_viber_cg                                                NaN                                                \n",
       "0_80928_sms_viber_cg                                               0.57                                                \n",
       "\n",
       "[2 rows x 103 columns]"
      ]
     },
     "execution_count": 14,
     "metadata": {},
     "output_type": "execute_result"
    }
   ],
   "source": [
    "fin_report = map_col_names_to_russian(groups_metrics)\n",
    "fin_report"
   ]
  },
  {
   "cell_type": "code",
   "execution_count": 15,
   "id": "e076b4ac",
   "metadata": {
    "collapsed": false,
    "jupyter": {
     "outputs_hidden": false
    },
    "pycharm": {
     "name": "#%%\n"
    },
    "scrolled": true
   },
   "outputs": [
    {
     "name": "stderr",
     "output_type": "stream",
     "text": [
      "22/02/19 03:37:48 ERROR cluster.YarnClientSchedulerBackend: YARN application has exited unexpectedly with state FAILED! Check the YARN application logs for more details.\n",
      "22/02/19 03:37:48 ERROR cluster.YarnClientSchedulerBackend: Diagnostics message: Attempt recovered after RM restartDue to executor failures all available nodes are blacklisted\n",
      "22/02/19 03:37:48 ERROR client.TransportClient: Failed to send RPC RPC 6536954866604737434 to /192.168.234.58:42066: java.nio.channels.ClosedChannelException\n",
      "java.nio.channels.ClosedChannelException\n",
      "\tat io.netty.channel.AbstractChannel$AbstractUnsafe.write(...)(Unknown Source)\n",
      "22/02/19 03:37:48 ERROR cluster.YarnSchedulerBackend$YarnSchedulerEndpoint: Sending RequestExecutors(0,0,Map(),Set()) to AM was unsuccessful\n",
      "java.io.IOException: Failed to send RPC RPC 6536954866604737434 to /192.168.234.58:42066: java.nio.channels.ClosedChannelException\n",
      "\tat org.apache.spark.network.client.TransportClient$RpcChannelListener.handleFailure(TransportClient.java:362)\n",
      "\tat org.apache.spark.network.client.TransportClient$StdChannelListener.operationComplete(TransportClient.java:339)\n",
      "\tat io.netty.util.concurrent.DefaultPromise.notifyListener0(DefaultPromise.java:507)\n",
      "\tat io.netty.util.concurrent.DefaultPromise.notifyListenersNow(DefaultPromise.java:481)\n",
      "\tat io.netty.util.concurrent.DefaultPromise.notifyListeners(DefaultPromise.java:420)\n",
      "\tat io.netty.util.concurrent.DefaultPromise.tryFailure(DefaultPromise.java:122)\n",
      "\tat io.netty.channel.AbstractChannel$AbstractUnsafe.safeSetFailure(AbstractChannel.java:987)\n",
      "\tat io.netty.channel.AbstractChannel$AbstractUnsafe.write(AbstractChannel.java:869)\n",
      "\tat io.netty.channel.DefaultChannelPipeline$HeadContext.write(DefaultChannelPipeline.java:1316)\n",
      "\tat io.netty.channel.AbstractChannelHandlerContext.invokeWrite0(AbstractChannelHandlerContext.java:738)\n",
      "\tat io.netty.channel.AbstractChannelHandlerContext.invokeWrite(AbstractChannelHandlerContext.java:730)\n",
      "\tat io.netty.channel.AbstractChannelHandlerContext.access$1900(AbstractChannelHandlerContext.java:38)\n",
      "\tat io.netty.channel.AbstractChannelHandlerContext$AbstractWriteTask.write(AbstractChannelHandlerContext.java:1081)\n",
      "\tat io.netty.channel.AbstractChannelHandlerContext$WriteAndFlushTask.write(AbstractChannelHandlerContext.java:1128)\n",
      "\tat io.netty.channel.AbstractChannelHandlerContext$AbstractWriteTask.run(AbstractChannelHandlerContext.java:1070)\n",
      "\tat io.netty.util.concurrent.AbstractEventExecutor.safeExecute(AbstractEventExecutor.java:163)\n",
      "\tat io.netty.util.concurrent.SingleThreadEventExecutor.runAllTasks(SingleThreadEventExecutor.java:403)\n",
      "\tat io.netty.channel.nio.NioEventLoop.run(NioEventLoop.java:463)\n",
      "\tat io.netty.util.concurrent.SingleThreadEventExecutor$5.run(SingleThreadEventExecutor.java:858)\n",
      "\tat io.netty.util.concurrent.DefaultThreadFactory$DefaultRunnableDecorator.run(DefaultThreadFactory.java:138)\n",
      "\tat java.lang.Thread.run(Thread.java:748)\n",
      "Caused by: java.nio.channels.ClosedChannelException\n",
      "\tat io.netty.channel.AbstractChannel$AbstractUnsafe.write(...)(Unknown Source)\n",
      "22/02/19 03:37:48 ERROR util.Utils: Uncaught exception in thread YARN application state monitor\n",
      "org.apache.spark.SparkException: Exception thrown in awaitResult: \n",
      "\tat org.apache.spark.util.ThreadUtils$.awaitResult(ThreadUtils.scala:226)\n",
      "\tat org.apache.spark.rpc.RpcTimeout.awaitResult(RpcTimeout.scala:75)\n",
      "\tat org.apache.spark.scheduler.cluster.CoarseGrainedSchedulerBackend.requestTotalExecutors(CoarseGrainedSchedulerBackend.scala:574)\n",
      "\tat org.apache.spark.scheduler.cluster.YarnSchedulerBackend.stop(YarnSchedulerBackend.scala:98)\n",
      "\tat org.apache.spark.scheduler.cluster.YarnClientSchedulerBackend.stop(YarnClientSchedulerBackend.scala:164)\n",
      "\tat org.apache.spark.scheduler.TaskSchedulerImpl.stop(TaskSchedulerImpl.scala:653)\n",
      "\tat org.apache.spark.scheduler.DAGScheduler.stop(DAGScheduler.scala:2042)\n",
      "\tat org.apache.spark.SparkContext$$anonfun$stop$6.apply$mcV$sp(SparkContext.scala:1949)\n",
      "\tat org.apache.spark.util.Utils$.tryLogNonFatalError(Utils.scala:1340)\n",
      "\tat org.apache.spark.SparkContext.stop(SparkContext.scala:1948)\n",
      "\tat org.apache.spark.scheduler.cluster.YarnClientSchedulerBackend$MonitorThread.run(YarnClientSchedulerBackend.scala:121)\n",
      "Caused by: java.io.IOException: Failed to send RPC RPC 6536954866604737434 to /192.168.234.58:42066: java.nio.channels.ClosedChannelException\n",
      "\tat org.apache.spark.network.client.TransportClient$RpcChannelListener.handleFailure(TransportClient.java:362)\n",
      "\tat org.apache.spark.network.client.TransportClient$StdChannelListener.operationComplete(TransportClient.java:339)\n",
      "\tat io.netty.util.concurrent.DefaultPromise.notifyListener0(DefaultPromise.java:507)\n",
      "\tat io.netty.util.concurrent.DefaultPromise.notifyListenersNow(DefaultPromise.java:481)\n",
      "\tat io.netty.util.concurrent.DefaultPromise.notifyListeners(DefaultPromise.java:420)\n",
      "\tat io.netty.util.concurrent.DefaultPromise.tryFailure(DefaultPromise.java:122)\n",
      "\tat io.netty.channel.AbstractChannel$AbstractUnsafe.safeSetFailure(AbstractChannel.java:987)\n",
      "\tat io.netty.channel.AbstractChannel$AbstractUnsafe.write(AbstractChannel.java:869)\n",
      "\tat io.netty.channel.DefaultChannelPipeline$HeadContext.write(DefaultChannelPipeline.java:1316)\n",
      "\tat io.netty.channel.AbstractChannelHandlerContext.invokeWrite0(AbstractChannelHandlerContext.java:738)\n",
      "\tat io.netty.channel.AbstractChannelHandlerContext.invokeWrite(AbstractChannelHandlerContext.java:730)\n",
      "\tat io.netty.channel.AbstractChannelHandlerContext.access$1900(AbstractChannelHandlerContext.java:38)\n",
      "\tat io.netty.channel.AbstractChannelHandlerContext$AbstractWriteTask.write(AbstractChannelHandlerContext.java:1081)\n",
      "\tat io.netty.channel.AbstractChannelHandlerContext$WriteAndFlushTask.write(AbstractChannelHandlerContext.java:1128)\n",
      "\tat io.netty.channel.AbstractChannelHandlerContext$AbstractWriteTask.run(AbstractChannelHandlerContext.java:1070)\n",
      "\tat io.netty.util.concurrent.AbstractEventExecutor.safeExecute(AbstractEventExecutor.java:163)\n",
      "\tat io.netty.util.concurrent.SingleThreadEventExecutor.runAllTasks(SingleThreadEventExecutor.java:403)\n",
      "\tat io.netty.channel.nio.NioEventLoop.run(NioEventLoop.java:463)\n",
      "\tat io.netty.util.concurrent.SingleThreadEventExecutor$5.run(SingleThreadEventExecutor.java:858)\n",
      "\tat io.netty.util.concurrent.DefaultThreadFactory$DefaultRunnableDecorator.run(DefaultThreadFactory.java:138)\n",
      "\tat java.lang.Thread.run(Thread.java:748)\n",
      "Caused by: java.nio.channels.ClosedChannelException\n",
      "\tat io.netty.channel.AbstractChannel$AbstractUnsafe.write(...)(Unknown Source)\n"
     ]
    }
   ],
   "source": [
    "fin_report['meta_post_analysis'] = str(post_analysis_params.__dict__)\n",
    "fin_report['meta_experiment_params'] = str(experiment_params.__dict__)\n",
    "groups_metrics['meta_post_analysis'] = str(post_analysis_params.__dict__)\n",
    "groups_metrics['meta_experiment_params'] = str(experiment_params.__dict__)\n",
    "\n",
    "groups_metrics.T.to_csv(output_main_report, encoding='utf-8-sig', sep=';')\n",
    "fin_report.T.to_csv(output_fin_report, encoding='utf-8-sig', sep=';')"
   ]
  }
 ],
 "metadata": {
  "kernelspec": {
   "display_name": "Python 3 (ipykernel)",
   "language": "python",
   "name": "python3"
  },
  "language_info": {
   "codemirror_mode": {
    "name": "ipython",
    "version": 3
   },
   "file_extension": ".py",
   "mimetype": "text/x-python",
   "name": "python",
   "nbconvert_exporter": "python",
   "pygments_lexer": "ipython3",
   "version": "3.7.10"
  }
 },
 "nbformat": 4,
 "nbformat_minor": 5
}
