{
 "cells": [
  {
   "cell_type": "markdown",
   "id": "c126b418",
   "metadata": {},
   "source": [
    "https://jira.x5.ru/browse/CVMXC-2583"
   ]
  },
  {
   "cell_type": "code",
   "execution_count": 1,
   "id": "8c503467",
   "metadata": {},
   "outputs": [],
   "source": [
    "name = 'CVMXC-2583_rusagro_pa_add'"
   ]
  },
  {
   "cell_type": "code",
   "execution_count": 2,
   "id": "14d459cb",
   "metadata": {},
   "outputs": [],
   "source": [
    "import sys\n",
    "import pandas as pd\n",
    "import pyspark.sql.functions as F\n",
    "sys.path.append('/home/jovyan/cvm_upgrade/')\n",
    "sys.path.append('/home/jovyan/cvm_upgrade/upgrade/')\n",
    "sys.path.append('/home/jovyan/glow-byte-filters-pyspark')\n",
    "from upgrade.post_analysis2.tools.groups_metrics_aggregation import GroupsMetricsAggregation\n",
    "from upgrade.post_analysis2.tools.guests_metrics_preprocessing import GuestsMetricsPreprocessing\n",
    "from upgrade.post_analysis2.tools.post_analysis_params import PostAnalysisParams\n",
    "from upgrade.post_analysis2.tools.metric_names_mapper import map_col_names_to_russian\n",
    "from upgrade.post_analysis2.tools.experiment_participants import ExperimentParticipants\n",
    "from upgrade.post_analysis2.tools.experiment_params import ExperimentParams\n",
    "import datetime\n",
    "from datetime import timedelta\n",
    "from spark import *\n",
    "\n",
    "%load_ext autoreload\n",
    "%autoreload 2\n",
    "\n",
    "pd.options.display.float_format = '{:,.2f}'.format\n",
    "pd.options.display.max_rows = 500"
   ]
  },
  {
   "cell_type": "code",
   "execution_count": 3,
   "id": "7ed11608",
   "metadata": {
    "collapsed": false,
    "jupyter": {
     "outputs_hidden": false
    },
    "pycharm": {
     "name": "#%%\n"
    }
   },
   "outputs": [
    {
     "name": "stderr",
     "output_type": "stream",
     "text": [
      "Setting default log level to \"WARN\".\n",
      "To adjust logging level use sc.setLogLevel(newLevel). For SparkR, use setLogLevel(newLevel).\n",
      "22/02/02 17:05:52 WARN cluster.YarnSchedulerBackend$YarnSchedulerEndpoint: Attempted to request executors before the AM has registered!\n"
     ]
    }
   ],
   "source": [
    "sc, spark = restart_spark(name, 100, executor_memory=\"3G\", executor_cores=5, driver_memory=\"12G\",\n",
    "                          additional_params={\"spark.sql.shuffle.partitions\": \"200\"})\n",
    "sc.setLogLevel('ERROR')"
   ]
  },
  {
   "cell_type": "code",
   "execution_count": 4,
   "id": "d44750cd",
   "metadata": {
    "scrolled": true
   },
   "outputs": [],
   "source": [
    "LOYALTY_CARDS = \"hive_ssa_tc5.loyalty_card\"\n",
    "LOYALTY_CARDHOLDERS = \"hive_ssa_tc5.loyalty_cardholder\"\n",
    "ACCOUNTS = \"hive_ssa_tc5.account\"\n",
    "CVM5_GUESTS = \"hive_cvm_acrm.cvm5_guests\"\n",
    "\n",
    "DIM_STORE = \"hive_ssa_main.dim_store\"\n",
    "CHECKS_HEADERS = \"hive_ssa_main.fct_rtl_txn\"\n",
    "CHECKS_ITEMS = \"hive_ssa_main.fct_rtl_txn_item\"\n",
    "PRODUCTS = \"hive_ssa_tc5.cvm_product\""
   ]
  },
  {
   "cell_type": "code",
   "execution_count": 5,
   "id": "eba7f51b",
   "metadata": {},
   "outputs": [],
   "source": [
    "def get_segment_grouped_one_plu(spark, start_date, end_date, plu_codes, guests):\n",
    "    checks_headers = (spark.table(CHECKS_HEADERS)\n",
    "                      .filter(F.col('rtl_txn_dt').between(start_date, end_date))\n",
    "                      .filter((F.col('loyalty_card_no') != '') & (F.col('loyalty_card_no').isNotNull()))\n",
    "                      .filter(F.col('financial_unit_format_dk') == 'D')\n",
    "                      .filter(F.col('rtl_txn_cancel_flg') == 0)\n",
    "                      .select('rtl_txn_id', 'loyalty_card_no')\n",
    "                     )\n",
    "    \n",
    "    loyalty_cards = (spark\n",
    "                    .table(LOYALTY_CARDS)\n",
    "                    .withColumnRenamed(\"loyalty_card_id\", \"loyalty_card_no\")\n",
    "                    .withColumnRenamed(\"loyalty_account_id\", \"account_no\")\n",
    "                    .withColumnRenamed(\"loyalty_account_acrm_id\", \"account_rk\")\n",
    "                    .select('account_no', 'loyalty_card_no')\n",
    "                )\n",
    "    loyalty_cardholders = (spark\n",
    "                            .table(LOYALTY_CARDHOLDERS)\n",
    "                            .filter(F.col('loyalty_cardholder_age_yrs') >= 18)\n",
    "                            .withColumnRenamed(\"loyalty_cardholder_acrm_id\", \"customer_rk\")\n",
    "                            .withColumnRenamed(\"loyalty_account_id\", \"account_no\")\n",
    "                            .select('account_no', 'customer_rk')\n",
    "                          )\n",
    "    clients_info = loyalty_cards.join(loyalty_cardholders, on='account_no', how='inner')\n",
    "    clients_info = clients_info.join(guests, on='customer_rk', how='inner')\n",
    "    \n",
    "    checks_headers_tc5 = checks_headers.join(clients_info, on='loyalty_card_no') #оставили чеки только доступных гостей\n",
    "    \n",
    "    checks_items = (spark.table(CHECKS_ITEMS) \n",
    "                    .withColumnRenamed('plu_id', 'plu_code')\n",
    "                    .withColumnRenamed('turnover_no_vat_amt', 'zsalnovat')\n",
    "                    .withColumnRenamed('turnover_vat_rub_amt', 'zsale_vat')\n",
    "                    .withColumnRenamed('prime_cost_no_vat_amt', 'zcst_n')\n",
    "                    .withColumnRenamed('turnover_base_uom_amt', 'base_qty')\n",
    "                    .withColumnRenamed('discount_amt', 'zdiscount')\n",
    "                    .withColumnRenamed('fact_regular_promo_flg', 'zpromofl')\n",
    "                    .filter(F.col('rtl_txn_dt').between(start_date, end_date))\n",
    "                    .filter((F.col('zsalnovat') >= 0) & (F.col('base_qty') >= 0) & (F.col('zcst_n') > 0)) #keep only correct data\n",
    "                        .select('plu_code' #items id\n",
    "                                , 'rtl_txn_id' #cheques id\n",
    "                                , 'base_qty'\n",
    "                               )\n",
    "                   )\n",
    "    checks_items = checks_items.filter(F.col('plu_code').isin(plu_codes)) # только чеки с нужными plu\n",
    "    checks_tc5 = checks_items.join(checks_headers_tc5, 'rtl_txn_id', how='inner')\n",
    "    grouped = checks_tc5.groupby(['plu_code']).agg(F.sum('base_qty').alias('qty'))\n",
    "    \n",
    "    plu_names = (spark.table(PRODUCTS)\n",
    "             .withColumnRenamed('plu_id', 'plu_code')\n",
    "             .select('plu_code', 'plu_nm'))\n",
    "    seg = grouped.join(plu_names, 'plu_code', 'inner')\n",
    "    seg_pd = seg.toPandas()\n",
    "    return seg_pd"
   ]
  },
  {
   "cell_type": "markdown",
   "id": "3df457fa",
   "metadata": {},
   "source": [
    "### X-27-82-Rusagro-Myaso-Set-sof"
   ]
  },
  {
   "cell_type": "code",
   "execution_count": 6,
   "id": "e8ec2cdb",
   "metadata": {
    "collapsed": false,
    "jupyter": {
     "outputs_hidden": false
    },
    "pycharm": {
     "name": "#%%\n"
    }
   },
   "outputs": [],
   "source": [
    "camp_id = 'X-27-82-Rusagro-Myaso-Set-sof'\n",
    "\n",
    "experiment_params = ExperimentParams(**{\n",
    "    # Camp wave id нужно записать в виде мапы из id в префиксы.\n",
    "    # Префиксы ни на что не влияют, просто для более красивого названия групп\n",
    "    # Заполняются camp_wave_id. Если для контроля и теста одинаковый, то пишем два раза\n",
    "    'map_camp_wave_ids_to_suffixes': {\n",
    "        77974: \"sms_viber_tg\",\n",
    "        77974: \"sms_viber_cg\"\n",
    "    },\n",
    "\n",
    "    # communication period with guest (sending sms, push, etc.)\n",
    "    'date_communication_from': '2021-12-28',\n",
    "    'date_communication_to': '2022-01-03',\n",
    "\n",
    "    'wave_ids': [\n",
    "        78177 #если нет, то -1\n",
    "    ],\n",
    "\n",
    "    'communication_costs': {\n",
    "        'sms': 1.38,\n",
    "        'viber': 1.32,\n",
    "        'email': 0.0083\n",
    "    }\n",
    "})\n",
    "#0_ + camp_wave_id +_sms_viber_ + cg (если номера волн равны) / tg (если номера волн разные)"
   ]
  },
  {
   "cell_type": "code",
   "execution_count": 7,
   "id": "1a88aec7",
   "metadata": {
    "collapsed": false,
    "jupyter": {
     "outputs_hidden": false
    },
    "pycharm": {
     "name": "#%%\n"
    },
    "scrolled": true
   },
   "outputs": [],
   "source": [
    "experiment_guests = ExperimentParticipants(spark, experiment_params)\n",
    "experiment_guests_communications = experiment_guests.extract()"
   ]
  },
  {
   "cell_type": "code",
   "execution_count": 8,
   "id": "d7a654b4",
   "metadata": {},
   "outputs": [],
   "source": [
    "guests = (experiment_guests_communications\n",
    "          .filter(F.col('group_name') == '0_' +\n",
    "                str(list(experiment_params.map_camp_wave_ids_to_suffixes.keys())[0]) + '_' +\n",
    "                list(experiment_params.map_camp_wave_ids_to_suffixes.values())[0])\n",
    "          .select('customer_rk').distinct()\n",
    "         )"
   ]
  },
  {
   "cell_type": "code",
   "execution_count": 9,
   "id": "9dc5916b",
   "metadata": {},
   "outputs": [],
   "source": [
    "dt1 = datetime.datetime.strptime(experiment_params.date_communication_from, '%Y-%m-%d')\n",
    "dt2 = datetime.datetime.strptime(experiment_params.date_communication_to, '%Y-%m-%d')"
   ]
  },
  {
   "cell_type": "code",
   "execution_count": 10,
   "id": "fae37771",
   "metadata": {},
   "outputs": [],
   "source": [
    "start_date = datetime.date(dt1.year, dt1.month, dt1.day)\n",
    "end_date = datetime.date(dt2.year, dt2.month, dt2.day)"
   ]
  },
  {
   "cell_type": "code",
   "execution_count": 11,
   "id": "7dd74698",
   "metadata": {},
   "outputs": [],
   "source": [
    "plu_codes = [3017503,3162506,3195297,3444608,3444609,3444610,3495835,3503399,3693488,\n",
    "                               3695167,3982578,4102644,4105769,4112954,4093072,4175547,4182900,4182902,\n",
    "                               3666473,3666472,4059048,3940905,3940906,3666497]"
   ]
  },
  {
   "cell_type": "code",
   "execution_count": 12,
   "id": "b84ef212",
   "metadata": {},
   "outputs": [
    {
     "name": "stderr",
     "output_type": "stream",
     "text": [
      "                                                                                896]]\r"
     ]
    }
   ],
   "source": [
    "seg_pd = get_segment_grouped_one_plu(spark, \n",
    "                    start_date, \n",
    "                    end_date, \n",
    "                    plu_codes,\n",
    "                    guests=guests)"
   ]
  },
  {
   "cell_type": "code",
   "execution_count": 13,
   "id": "0936805f",
   "metadata": {},
   "outputs": [],
   "source": [
    "seg_pd['qty'] = seg_pd['qty'].astype('float')"
   ]
  },
  {
   "cell_type": "code",
   "execution_count": 14,
   "id": "63b87cc7",
   "metadata": {},
   "outputs": [
    {
     "data": {
      "text/html": [
       "<div>\n",
       "<style scoped>\n",
       "    .dataframe tbody tr th:only-of-type {\n",
       "        vertical-align: middle;\n",
       "    }\n",
       "\n",
       "    .dataframe tbody tr th {\n",
       "        vertical-align: top;\n",
       "    }\n",
       "\n",
       "    .dataframe thead th {\n",
       "        text-align: right;\n",
       "    }\n",
       "</style>\n",
       "<table border=\"1\" class=\"dataframe\">\n",
       "  <thead>\n",
       "    <tr style=\"text-align: right;\">\n",
       "      <th></th>\n",
       "      <th>plu_code</th>\n",
       "      <th>qty</th>\n",
       "      <th>plu_nm</th>\n",
       "    </tr>\n",
       "  </thead>\n",
       "  <tbody>\n",
       "    <tr>\n",
       "      <th>0</th>\n",
       "      <td>4059048</td>\n",
       "      <td>629.31</td>\n",
       "      <td>СЛ.МЯСНИКА Ребра свин.с кор.к.В охл.1кг</td>\n",
       "    </tr>\n",
       "    <tr>\n",
       "      <th>1</th>\n",
       "      <td>3666472</td>\n",
       "      <td>8,028.00</td>\n",
       "      <td>СЛ.МЯСНИКА Шейка св.б/к к.Б п/ф охл.800г</td>\n",
       "    </tr>\n",
       "    <tr>\n",
       "      <th>2</th>\n",
       "      <td>4112954</td>\n",
       "      <td>11,660.00</td>\n",
       "      <td>МОС.ПРОВАНС.Майонез КЛАССИЧ.67%д/п 700мл</td>\n",
       "    </tr>\n",
       "    <tr>\n",
       "      <th>3</th>\n",
       "      <td>4105769</td>\n",
       "      <td>5,917.00</td>\n",
       "      <td>МОС.ПРОВАНС.Майонез КЛАССИЧ.67%д/п 390мл</td>\n",
       "    </tr>\n",
       "    <tr>\n",
       "      <th>4</th>\n",
       "      <td>3666497</td>\n",
       "      <td>1,222.00</td>\n",
       "      <td>СЛ.МЯСНИКА Корейка свин.кат.А охл.800г</td>\n",
       "    </tr>\n",
       "    <tr>\n",
       "      <th>5</th>\n",
       "      <td>3495835</td>\n",
       "      <td>736.00</td>\n",
       "      <td>МОС.ПРОВАНС.Майонез ДОМАШ.55% д/п 390мл</td>\n",
       "    </tr>\n",
       "    <tr>\n",
       "      <th>6</th>\n",
       "      <td>3940905</td>\n",
       "      <td>0.91</td>\n",
       "      <td>СЛ.МЯСНИКА Окорок свин.кр/к б/к к.А 1кг</td>\n",
       "    </tr>\n",
       "    <tr>\n",
       "      <th>7</th>\n",
       "      <td>3666473</td>\n",
       "      <td>3,560.00</td>\n",
       "      <td>СЛ.МЯСНИКА Лопатка св.б/к кА п/ф охл800г</td>\n",
       "    </tr>\n",
       "    <tr>\n",
       "      <th>8</th>\n",
       "      <td>3195297</td>\n",
       "      <td>3,605.00</td>\n",
       "      <td>МОС.ПРОВАНС.Майонез КЛАСС.67% 220мл</td>\n",
       "    </tr>\n",
       "    <tr>\n",
       "      <th>9</th>\n",
       "      <td>3982578</td>\n",
       "      <td>296.00</td>\n",
       "      <td>МОС.ПРОВАНС.Майонез оливковый 67% 600мл</td>\n",
       "    </tr>\n",
       "    <tr>\n",
       "      <th>10</th>\n",
       "      <td>3940906</td>\n",
       "      <td>280.27</td>\n",
       "      <td>СЛ.МЯСНИКА Лопатка св.кр/кус.б/к к.А 1кг</td>\n",
       "    </tr>\n",
       "    <tr>\n",
       "      <th>11</th>\n",
       "      <td>3444610</td>\n",
       "      <td>5.00</td>\n",
       "      <td>МОС.ПРОВАНС.Майонез СЛИВОЧНЫЙ 67% 390мл</td>\n",
       "    </tr>\n",
       "    <tr>\n",
       "      <th>12</th>\n",
       "      <td>3503399</td>\n",
       "      <td>39.00</td>\n",
       "      <td>МОС.ПРОВАНС.Майонез СЛИВОЧНЫЙ 67% 600мл</td>\n",
       "    </tr>\n",
       "    <tr>\n",
       "      <th>13</th>\n",
       "      <td>4102644</td>\n",
       "      <td>510.00</td>\n",
       "      <td>МОС.ПРОВАНС.Соус ЛЕГКИЙ май.30%д/п 200мл</td>\n",
       "    </tr>\n",
       "    <tr>\n",
       "      <th>14</th>\n",
       "      <td>3695167</td>\n",
       "      <td>515.00</td>\n",
       "      <td>МОС.ПРОВАНС.Майон.на переп.яйц.67% 600мл</td>\n",
       "    </tr>\n",
       "    <tr>\n",
       "      <th>15</th>\n",
       "      <td>4093072</td>\n",
       "      <td>412.00</td>\n",
       "      <td>Я ЛЮБ.ГОТ.Майон.МОСК.ПР.ДОМ.55%д/п 600мл</td>\n",
       "    </tr>\n",
       "  </tbody>\n",
       "</table>\n",
       "</div>"
      ],
      "text/plain": [
       "   plu_code       qty                                    plu_nm\n",
       "0   4059048    629.31   СЛ.МЯСНИКА Ребра свин.с кор.к.В охл.1кг\n",
       "1   3666472  8,028.00  СЛ.МЯСНИКА Шейка св.б/к к.Б п/ф охл.800г\n",
       "2   4112954 11,660.00  МОС.ПРОВАНС.Майонез КЛАССИЧ.67%д/п 700мл\n",
       "3   4105769  5,917.00  МОС.ПРОВАНС.Майонез КЛАССИЧ.67%д/п 390мл\n",
       "4   3666497  1,222.00    СЛ.МЯСНИКА Корейка свин.кат.А охл.800г\n",
       "5   3495835    736.00   МОС.ПРОВАНС.Майонез ДОМАШ.55% д/п 390мл\n",
       "6   3940905      0.91   СЛ.МЯСНИКА Окорок свин.кр/к б/к к.А 1кг\n",
       "7   3666473  3,560.00  СЛ.МЯСНИКА Лопатка св.б/к кА п/ф охл800г\n",
       "8   3195297  3,605.00       МОС.ПРОВАНС.Майонез КЛАСС.67% 220мл\n",
       "9   3982578    296.00   МОС.ПРОВАНС.Майонез оливковый 67% 600мл\n",
       "10  3940906    280.27  СЛ.МЯСНИКА Лопатка св.кр/кус.б/к к.А 1кг\n",
       "11  3444610      5.00   МОС.ПРОВАНС.Майонез СЛИВОЧНЫЙ 67% 390мл\n",
       "12  3503399     39.00   МОС.ПРОВАНС.Майонез СЛИВОЧНЫЙ 67% 600мл\n",
       "13  4102644    510.00  МОС.ПРОВАНС.Соус ЛЕГКИЙ май.30%д/п 200мл\n",
       "14  3695167    515.00  МОС.ПРОВАНС.Майон.на переп.яйц.67% 600мл\n",
       "15  4093072    412.00  Я ЛЮБ.ГОТ.Майон.МОСК.ПР.ДОМ.55%д/п 600мл"
      ]
     },
     "execution_count": 14,
     "metadata": {},
     "output_type": "execute_result"
    }
   ],
   "source": [
    "seg_pd"
   ]
  },
  {
   "cell_type": "code",
   "execution_count": 15,
   "id": "ebc96d52",
   "metadata": {},
   "outputs": [],
   "source": [
    "seg_pd.to_excel(camp_id +'.xlsx', index=False)"
   ]
  },
  {
   "cell_type": "markdown",
   "id": "98553e96",
   "metadata": {},
   "source": [
    "### U-27-36_rusagro_meat_viber_sms"
   ]
  },
  {
   "cell_type": "code",
   "execution_count": 16,
   "id": "a655c9fe",
   "metadata": {
    "collapsed": false,
    "jupyter": {
     "outputs_hidden": false
    },
    "pycharm": {
     "name": "#%%\n"
    }
   },
   "outputs": [],
   "source": [
    "camp_id = 'U-27-36_rusagro_meat_viber_sms'\n",
    "\n",
    "experiment_params = ExperimentParams(**{\n",
    "    # Camp wave id нужно записать в виде мапы из id в префиксы.\n",
    "    # Префиксы ни на что не влияют, просто для более красивого названия групп\n",
    "    # Заполняются camp_wave_id. Если для контроля и теста одинаковый, то пишем два раза\n",
    "    'map_camp_wave_ids_to_suffixes': {\n",
    "        78301: \"sms_viber_tg\",\n",
    "        78298: \"sms_viber_cg\"\n",
    "    },\n",
    "\n",
    "    # communication period with guest (sending sms, push, etc.)\n",
    "    'date_communication_from': '2021-12-29',\n",
    "    'date_communication_to': '2022-01-04',\n",
    "\n",
    "    'wave_ids': [\n",
    "        78430 #если нет, то -1\n",
    "    ],\n",
    "\n",
    "    'communication_costs': {\n",
    "        'sms': 1.38,\n",
    "        'viber': 1.32,\n",
    "        'email': 0.0083\n",
    "    }\n",
    "})\n",
    "#0_ + camp_wave_id +_sms_viber_ + cg (если номера волн равны) / tg (если номера волн разные)"
   ]
  },
  {
   "cell_type": "code",
   "execution_count": 17,
   "id": "9639a0f3",
   "metadata": {
    "collapsed": false,
    "jupyter": {
     "outputs_hidden": false
    },
    "pycharm": {
     "name": "#%%\n"
    },
    "scrolled": true
   },
   "outputs": [],
   "source": [
    "experiment_guests = ExperimentParticipants(spark, experiment_params)\n",
    "experiment_guests_communications = experiment_guests.extract()"
   ]
  },
  {
   "cell_type": "code",
   "execution_count": 18,
   "id": "aa0949b1",
   "metadata": {},
   "outputs": [],
   "source": [
    "guests = (experiment_guests_communications\n",
    "          .filter(F.col('group_name') == '0_' +\n",
    "                str(list(experiment_params.map_camp_wave_ids_to_suffixes.keys())[0]) + '_' +\n",
    "                list(experiment_params.map_camp_wave_ids_to_suffixes.values())[0])\n",
    "          .select('customer_rk').distinct()\n",
    "         )"
   ]
  },
  {
   "cell_type": "code",
   "execution_count": 19,
   "id": "35b4f6b2",
   "metadata": {},
   "outputs": [],
   "source": [
    "dt1 = datetime.datetime.strptime(experiment_params.date_communication_from, '%Y-%m-%d')\n",
    "dt2 = datetime.datetime.strptime(experiment_params.date_communication_to, '%Y-%m-%d')"
   ]
  },
  {
   "cell_type": "code",
   "execution_count": 20,
   "id": "b37d6628",
   "metadata": {},
   "outputs": [],
   "source": [
    "start_date = datetime.date(dt1.year, dt1.month, dt1.day)\n",
    "end_date = datetime.date(dt2.year, dt2.month, dt2.day)"
   ]
  },
  {
   "cell_type": "code",
   "execution_count": 21,
   "id": "64282011",
   "metadata": {},
   "outputs": [],
   "source": [
    "plu_codes = [3017503,3162506,3195297,3444608,3444609,3444610,3495835,3503399,3693488,\n",
    "                               3695167,3982578,4102644,4105769,4112954,4093072,4175547,4182900,4182902,\n",
    "                               3666473,3666472,4059048,3940905,3940906,3666497]"
   ]
  },
  {
   "cell_type": "code",
   "execution_count": 22,
   "id": "c449323f",
   "metadata": {},
   "outputs": [
    {
     "name": "stderr",
     "output_type": "stream",
     "text": [
      "[Stage 23:(3893 + 3) / 3896][Stage 26:(3883 + 13) / 3896][Stage 32:(491 + 1) / 492]6]]]]]22/02/02 17:28:51 ERROR cluster.YarnScheduler: Lost executor 53 on mn-hd0136.x5.ru: Executor heartbeat timed out after 120567 ms\n",
      "[Stage 30:================================>                    (122 + 78) / 200]]]]22/02/02 17:29:17 ERROR client.TransportResponseHandler: Still have 2 requests outstanding when connection from /192.168.234.56:35454 is closed\n",
      "22/02/02 17:29:17 ERROR cluster.YarnScheduler: Lost executor 53 on mn-hd0136.x5.ru: Container container_e1121_1643806116192_1007_01_000089 exited from explicit termination request.\n",
      "                                                                                \r"
     ]
    }
   ],
   "source": [
    "seg_pd = get_segment_grouped_one_plu(spark, \n",
    "                    start_date, \n",
    "                    end_date, \n",
    "                    plu_codes,\n",
    "                    guests=guests)"
   ]
  },
  {
   "cell_type": "code",
   "execution_count": 23,
   "id": "0b502853",
   "metadata": {},
   "outputs": [],
   "source": [
    "seg_pd['qty'] = seg_pd['qty'].astype('float')"
   ]
  },
  {
   "cell_type": "code",
   "execution_count": 24,
   "id": "f1bb498b",
   "metadata": {},
   "outputs": [
    {
     "data": {
      "text/html": [
       "<div>\n",
       "<style scoped>\n",
       "    .dataframe tbody tr th:only-of-type {\n",
       "        vertical-align: middle;\n",
       "    }\n",
       "\n",
       "    .dataframe tbody tr th {\n",
       "        vertical-align: top;\n",
       "    }\n",
       "\n",
       "    .dataframe thead th {\n",
       "        text-align: right;\n",
       "    }\n",
       "</style>\n",
       "<table border=\"1\" class=\"dataframe\">\n",
       "  <thead>\n",
       "    <tr style=\"text-align: right;\">\n",
       "      <th></th>\n",
       "      <th>plu_code</th>\n",
       "      <th>qty</th>\n",
       "      <th>plu_nm</th>\n",
       "    </tr>\n",
       "  </thead>\n",
       "  <tbody>\n",
       "    <tr>\n",
       "      <th>0</th>\n",
       "      <td>4059048</td>\n",
       "      <td>375.54</td>\n",
       "      <td>СЛ.МЯСНИКА Ребра свин.с кор.к.В охл.1кг</td>\n",
       "    </tr>\n",
       "    <tr>\n",
       "      <th>1</th>\n",
       "      <td>3666472</td>\n",
       "      <td>3,264.00</td>\n",
       "      <td>СЛ.МЯСНИКА Шейка св.б/к к.Б п/ф охл.800г</td>\n",
       "    </tr>\n",
       "    <tr>\n",
       "      <th>2</th>\n",
       "      <td>4112954</td>\n",
       "      <td>5,535.00</td>\n",
       "      <td>МОС.ПРОВАНС.Майонез КЛАССИЧ.67%д/п 700мл</td>\n",
       "    </tr>\n",
       "    <tr>\n",
       "      <th>3</th>\n",
       "      <td>4105769</td>\n",
       "      <td>6,773.00</td>\n",
       "      <td>МОС.ПРОВАНС.Майонез КЛАССИЧ.67%д/п 390мл</td>\n",
       "    </tr>\n",
       "    <tr>\n",
       "      <th>4</th>\n",
       "      <td>3666497</td>\n",
       "      <td>442.00</td>\n",
       "      <td>СЛ.МЯСНИКА Корейка свин.кат.А охл.800г</td>\n",
       "    </tr>\n",
       "    <tr>\n",
       "      <th>5</th>\n",
       "      <td>3495835</td>\n",
       "      <td>304.00</td>\n",
       "      <td>МОС.ПРОВАНС.Майонез ДОМАШ.55% д/п 390мл</td>\n",
       "    </tr>\n",
       "    <tr>\n",
       "      <th>6</th>\n",
       "      <td>3940905</td>\n",
       "      <td>5.00</td>\n",
       "      <td>СЛ.МЯСНИКА Окорок свин.кр/к б/к к.А 1кг</td>\n",
       "    </tr>\n",
       "    <tr>\n",
       "      <th>7</th>\n",
       "      <td>3666473</td>\n",
       "      <td>1,477.00</td>\n",
       "      <td>СЛ.МЯСНИКА Лопатка св.б/к кА п/ф охл800г</td>\n",
       "    </tr>\n",
       "    <tr>\n",
       "      <th>8</th>\n",
       "      <td>3195297</td>\n",
       "      <td>1,699.00</td>\n",
       "      <td>МОС.ПРОВАНС.Майонез КЛАСС.67% 220мл</td>\n",
       "    </tr>\n",
       "    <tr>\n",
       "      <th>9</th>\n",
       "      <td>3982578</td>\n",
       "      <td>139.00</td>\n",
       "      <td>МОС.ПРОВАНС.Майонез оливковый 67% 600мл</td>\n",
       "    </tr>\n",
       "    <tr>\n",
       "      <th>10</th>\n",
       "      <td>3940906</td>\n",
       "      <td>349.31</td>\n",
       "      <td>СЛ.МЯСНИКА Лопатка св.кр/кус.б/к к.А 1кг</td>\n",
       "    </tr>\n",
       "    <tr>\n",
       "      <th>11</th>\n",
       "      <td>3444609</td>\n",
       "      <td>2.00</td>\n",
       "      <td>МОС.ПРОВАНС.Майонез ОЛИВКОВЫЙ 67% 390мл</td>\n",
       "    </tr>\n",
       "    <tr>\n",
       "      <th>12</th>\n",
       "      <td>3444610</td>\n",
       "      <td>103.00</td>\n",
       "      <td>МОС.ПРОВАНС.Майонез СЛИВОЧНЫЙ 67% 390мл</td>\n",
       "    </tr>\n",
       "    <tr>\n",
       "      <th>13</th>\n",
       "      <td>3503399</td>\n",
       "      <td>60.00</td>\n",
       "      <td>МОС.ПРОВАНС.Майонез СЛИВОЧНЫЙ 67% 600мл</td>\n",
       "    </tr>\n",
       "    <tr>\n",
       "      <th>14</th>\n",
       "      <td>4102644</td>\n",
       "      <td>201.00</td>\n",
       "      <td>МОС.ПРОВАНС.Соус ЛЕГКИЙ май.30%д/п 200мл</td>\n",
       "    </tr>\n",
       "    <tr>\n",
       "      <th>15</th>\n",
       "      <td>3695167</td>\n",
       "      <td>296.00</td>\n",
       "      <td>МОС.ПРОВАНС.Майон.на переп.яйц.67% 600мл</td>\n",
       "    </tr>\n",
       "    <tr>\n",
       "      <th>16</th>\n",
       "      <td>4093072</td>\n",
       "      <td>482.00</td>\n",
       "      <td>Я ЛЮБ.ГОТ.Майон.МОСК.ПР.ДОМ.55%д/п 600мл</td>\n",
       "    </tr>\n",
       "  </tbody>\n",
       "</table>\n",
       "</div>"
      ],
      "text/plain": [
       "   plu_code      qty                                    plu_nm\n",
       "0   4059048   375.54   СЛ.МЯСНИКА Ребра свин.с кор.к.В охл.1кг\n",
       "1   3666472 3,264.00  СЛ.МЯСНИКА Шейка св.б/к к.Б п/ф охл.800г\n",
       "2   4112954 5,535.00  МОС.ПРОВАНС.Майонез КЛАССИЧ.67%д/п 700мл\n",
       "3   4105769 6,773.00  МОС.ПРОВАНС.Майонез КЛАССИЧ.67%д/п 390мл\n",
       "4   3666497   442.00    СЛ.МЯСНИКА Корейка свин.кат.А охл.800г\n",
       "5   3495835   304.00   МОС.ПРОВАНС.Майонез ДОМАШ.55% д/п 390мл\n",
       "6   3940905     5.00   СЛ.МЯСНИКА Окорок свин.кр/к б/к к.А 1кг\n",
       "7   3666473 1,477.00  СЛ.МЯСНИКА Лопатка св.б/к кА п/ф охл800г\n",
       "8   3195297 1,699.00       МОС.ПРОВАНС.Майонез КЛАСС.67% 220мл\n",
       "9   3982578   139.00   МОС.ПРОВАНС.Майонез оливковый 67% 600мл\n",
       "10  3940906   349.31  СЛ.МЯСНИКА Лопатка св.кр/кус.б/к к.А 1кг\n",
       "11  3444609     2.00   МОС.ПРОВАНС.Майонез ОЛИВКОВЫЙ 67% 390мл\n",
       "12  3444610   103.00   МОС.ПРОВАНС.Майонез СЛИВОЧНЫЙ 67% 390мл\n",
       "13  3503399    60.00   МОС.ПРОВАНС.Майонез СЛИВОЧНЫЙ 67% 600мл\n",
       "14  4102644   201.00  МОС.ПРОВАНС.Соус ЛЕГКИЙ май.30%д/п 200мл\n",
       "15  3695167   296.00  МОС.ПРОВАНС.Майон.на переп.яйц.67% 600мл\n",
       "16  4093072   482.00  Я ЛЮБ.ГОТ.Майон.МОСК.ПР.ДОМ.55%д/п 600мл"
      ]
     },
     "execution_count": 24,
     "metadata": {},
     "output_type": "execute_result"
    }
   ],
   "source": [
    "seg_pd"
   ]
  },
  {
   "cell_type": "code",
   "execution_count": 25,
   "id": "b9664455",
   "metadata": {},
   "outputs": [],
   "source": [
    "seg_pd.to_excel(camp_id +'.xlsx', index=False)"
   ]
  },
  {
   "cell_type": "markdown",
   "id": "99c48520",
   "metadata": {},
   "source": [
    "### X-27-78-Rusagro-Mayonnaise-Saratov-sof"
   ]
  },
  {
   "cell_type": "code",
   "execution_count": 93,
   "id": "0886b9c7",
   "metadata": {
    "collapsed": false,
    "jupyter": {
     "outputs_hidden": false
    },
    "pycharm": {
     "name": "#%%\n"
    }
   },
   "outputs": [],
   "source": [
    "camp_id = 'X-27-78-Rusagro-Mayonnaise-Saratov-sof'\n",
    "\n",
    "experiment_params = ExperimentParams(**{\n",
    "    # Camp wave id нужно записать в виде мапы из id в префиксы.\n",
    "    # Префиксы ни на что не влияют, просто для более красивого названия групп\n",
    "    # Заполняются camp_wave_id. Если для контроля и теста одинаковый, то пишем два раза\n",
    "    'map_camp_wave_ids_to_suffixes': {\n",
    "        78196: \"sms_viber_tg\",\n",
    "        78203: \"sms_viber_cg\"\n",
    "    },\n",
    "\n",
    "    # communication period with guest (sending sms, push, etc.)\n",
    "    'date_communication_from': '2021-12-28',\n",
    "    'date_communication_to': '2022-01-03',\n",
    "\n",
    "    'wave_ids': [\n",
    "        78427 #если нет, то -1\n",
    "    ],\n",
    "\n",
    "    'communication_costs': {\n",
    "        'sms': 1.38,\n",
    "        'viber': 1.32,\n",
    "        'email': 0.0083\n",
    "    }\n",
    "})"
   ]
  },
  {
   "cell_type": "code",
   "execution_count": 94,
   "id": "d4bc7a87",
   "metadata": {
    "collapsed": false,
    "jupyter": {
     "outputs_hidden": false
    },
    "pycharm": {
     "name": "#%%\n"
    },
    "scrolled": true
   },
   "outputs": [],
   "source": [
    "experiment_guests = ExperimentParticipants(spark, experiment_params)\n",
    "experiment_guests_communications = experiment_guests.extract()"
   ]
  },
  {
   "cell_type": "code",
   "execution_count": 98,
   "id": "29c3671c",
   "metadata": {},
   "outputs": [],
   "source": [
    "guests = experiment_guests_communications.filter(F.col('group_name') == '0_78196_sms_viber_tg').select('customer_rk').distinct()"
   ]
  },
  {
   "cell_type": "code",
   "execution_count": 100,
   "id": "b4e2d85f",
   "metadata": {},
   "outputs": [],
   "source": [
    "start_date = datetime.date(2021, 12, 28)\n",
    "end_date = datetime.date(2022, 1, 3)"
   ]
  },
  {
   "cell_type": "code",
   "execution_count": 101,
   "id": "421ed926",
   "metadata": {},
   "outputs": [],
   "source": [
    "checks_headers = (spark.table(CHECKS_HEADERS)\n",
    "                      .filter(F.col('rtl_txn_dt').between(start_date, end_date))\n",
    "                      .filter((F.col('loyalty_card_no') != '') & (F.col('loyalty_card_no').isNotNull()))\n",
    "                      .filter(F.col('financial_unit_format_dk') == 'D')\n",
    "                      .filter(F.col('rtl_txn_cancel_flg') == 0)\n",
    "                      .select('rtl_txn_id', 'loyalty_card_no')\n",
    "                     )\n"
   ]
  },
  {
   "cell_type": "code",
   "execution_count": 102,
   "id": "d4ebe73b",
   "metadata": {},
   "outputs": [],
   "source": [
    "loyalty_cards = (spark\n",
    "                    .table(LOYALTY_CARDS)\n",
    "                    .withColumnRenamed(\"loyalty_card_id\", \"loyalty_card_no\")\n",
    "                    .withColumnRenamed(\"loyalty_account_id\", \"account_no\")\n",
    "                    .withColumnRenamed(\"loyalty_account_acrm_id\", \"account_rk\")\n",
    "                    .select('account_no', 'loyalty_card_no')\n",
    "                )\n",
    "loyalty_cardholders = (spark\n",
    "                        .table(LOYALTY_CARDHOLDERS)\n",
    "                        .filter(F.col('loyalty_cardholder_age_yrs') >= 18)\n",
    "                        .withColumnRenamed(\"loyalty_cardholder_acrm_id\", \"customer_rk\")\n",
    "                        .withColumnRenamed(\"loyalty_account_id\", \"account_no\")\n",
    "                        .select('account_no', 'customer_rk')\n",
    "                      )\n",
    "clients_info = loyalty_cards.join(loyalty_cardholders, on='account_no', how='inner')\n",
    "clients_info = clients_info.join(guests, on='customer_rk', how='inner')"
   ]
  },
  {
   "cell_type": "code",
   "execution_count": 103,
   "id": "ad1273cd",
   "metadata": {},
   "outputs": [],
   "source": [
    "checks_headers_tc5 = checks_headers.join(clients_info, on='loyalty_card_no') #оставили чеки только доступных гостей"
   ]
  },
  {
   "cell_type": "code",
   "execution_count": 104,
   "id": "cf185d09",
   "metadata": {},
   "outputs": [],
   "source": [
    "checks_items = (spark.table(CHECKS_ITEMS) \n",
    "                    .withColumnRenamed('plu_id', 'plu_code')\n",
    "                    .withColumnRenamed('turnover_no_vat_amt', 'zsalnovat')\n",
    "                    .withColumnRenamed('turnover_vat_rub_amt', 'zsale_vat')\n",
    "                    .withColumnRenamed('prime_cost_no_vat_amt', 'zcst_n')\n",
    "                    .withColumnRenamed('turnover_base_uom_amt', 'base_qty')\n",
    "                    .withColumnRenamed('discount_amt', 'zdiscount')\n",
    "                    .withColumnRenamed('fact_regular_promo_flg', 'zpromofl')\n",
    "                    .filter(F.col('rtl_txn_dt').between(start_date, end_date))\n",
    "                    .filter((F.col('zsalnovat') >= 0) & (F.col('base_qty') >= 0) & (F.col('zcst_n') > 0)) #keep only correct data\n",
    "                        .select('plu_code' #items id\n",
    "                                , 'rtl_txn_id' #cheques id\n",
    "                                , 'base_qty'\n",
    "                               )\n",
    "                   )\n"
   ]
  },
  {
   "cell_type": "code",
   "execution_count": 105,
   "id": "9f71fa2f",
   "metadata": {},
   "outputs": [],
   "source": [
    "plu_codes = [3170888,3170890,3170891,3357823,3670061,4082170,4082171,4082172]"
   ]
  },
  {
   "cell_type": "code",
   "execution_count": 106,
   "id": "47cbb29d",
   "metadata": {},
   "outputs": [],
   "source": [
    "checks_items = checks_items.filter(F.col('plu_code').isin(plu_codes)) # только чеки с нужными plu"
   ]
  },
  {
   "cell_type": "code",
   "execution_count": 107,
   "id": "e0ba8201",
   "metadata": {},
   "outputs": [],
   "source": [
    "checks_tc5 = checks_items.join(checks_headers_tc5, 'rtl_txn_id', how='inner')"
   ]
  },
  {
   "cell_type": "code",
   "execution_count": 109,
   "id": "800cf458",
   "metadata": {},
   "outputs": [],
   "source": [
    "grouped = checks_tc5.groupby(['plu_code']).agg(F.sum('base_qty').alias('qty'))"
   ]
  },
  {
   "cell_type": "code",
   "execution_count": 110,
   "id": "fdce505e",
   "metadata": {},
   "outputs": [],
   "source": [
    "plu_names = (spark.table(PRODUCTS)\n",
    "             .withColumnRenamed('plu_id', 'plu_code')\n",
    "             .select('plu_code', 'plu_nm'))"
   ]
  },
  {
   "cell_type": "code",
   "execution_count": 111,
   "id": "e4dabda4",
   "metadata": {},
   "outputs": [],
   "source": [
    "seg = grouped.join(plu_names, 'plu_code', 'inner')"
   ]
  },
  {
   "cell_type": "code",
   "execution_count": 112,
   "id": "d25abef5",
   "metadata": {},
   "outputs": [
    {
     "name": "stderr",
     "output_type": "stream",
     "text": [
      "                                                                                 / 579]]]]\r"
     ]
    }
   ],
   "source": [
    "seg_pd2 = seg.toPandas()"
   ]
  },
  {
   "cell_type": "code",
   "execution_count": 113,
   "id": "be2e26af",
   "metadata": {},
   "outputs": [
    {
     "data": {
      "text/html": [
       "<div>\n",
       "<style scoped>\n",
       "    .dataframe tbody tr th:only-of-type {\n",
       "        vertical-align: middle;\n",
       "    }\n",
       "\n",
       "    .dataframe tbody tr th {\n",
       "        vertical-align: top;\n",
       "    }\n",
       "\n",
       "    .dataframe thead th {\n",
       "        text-align: right;\n",
       "    }\n",
       "</style>\n",
       "<table border=\"1\" class=\"dataframe\">\n",
       "  <thead>\n",
       "    <tr style=\"text-align: right;\">\n",
       "      <th></th>\n",
       "      <th>plu_code</th>\n",
       "      <th>qty</th>\n",
       "      <th>plu_nm</th>\n",
       "    </tr>\n",
       "  </thead>\n",
       "  <tbody>\n",
       "    <tr>\n",
       "      <th>0</th>\n",
       "      <td>4082172</td>\n",
       "      <td>182.000</td>\n",
       "      <td>Я ЛЮБ.ГОТ.Майон.САРАТ.ПРОВ.КЛАС.67%700мл</td>\n",
       "    </tr>\n",
       "    <tr>\n",
       "      <th>1</th>\n",
       "      <td>3170890</td>\n",
       "      <td>292.000</td>\n",
       "      <td>САРАТ.ПРОВ.Майонез КЛАССИЧ.67% стак.500г</td>\n",
       "    </tr>\n",
       "    <tr>\n",
       "      <th>2</th>\n",
       "      <td>3670061</td>\n",
       "      <td>209.000</td>\n",
       "      <td>САРАТОВ.Майонез ПРОВАНС.клас.67% 250мл</td>\n",
       "    </tr>\n",
       "    <tr>\n",
       "      <th>3</th>\n",
       "      <td>3170891</td>\n",
       "      <td>132.000</td>\n",
       "      <td>САРАТ.ПРОВ.Майонез КЛАССИЧ.67% вед.900г</td>\n",
       "    </tr>\n",
       "    <tr>\n",
       "      <th>4</th>\n",
       "      <td>4082170</td>\n",
       "      <td>84.000</td>\n",
       "      <td>Я ЛЮБ.ГОТ.Майонез САРАТ.ПРОВ.КЛ.67%200мл</td>\n",
       "    </tr>\n",
       "    <tr>\n",
       "      <th>5</th>\n",
       "      <td>4082171</td>\n",
       "      <td>423.000</td>\n",
       "      <td>Я ЛЮБ.ГОТ.Майонез САРАТ.ПРОВ.КЛ.67%400мл</td>\n",
       "    </tr>\n",
       "    <tr>\n",
       "      <th>6</th>\n",
       "      <td>3170888</td>\n",
       "      <td>98.000</td>\n",
       "      <td>САРАТ.ПРОВ.Майонез КЛАССИЧ.67% стак.250г</td>\n",
       "    </tr>\n",
       "  </tbody>\n",
       "</table>\n",
       "</div>"
      ],
      "text/plain": [
       "  plu_code      qty                                    plu_nm\n",
       "0  4082172  182.000  Я ЛЮБ.ГОТ.Майон.САРАТ.ПРОВ.КЛАС.67%700мл\n",
       "1  3170890  292.000  САРАТ.ПРОВ.Майонез КЛАССИЧ.67% стак.500г\n",
       "2  3670061  209.000    САРАТОВ.Майонез ПРОВАНС.клас.67% 250мл\n",
       "3  3170891  132.000   САРАТ.ПРОВ.Майонез КЛАССИЧ.67% вед.900г\n",
       "4  4082170   84.000  Я ЛЮБ.ГОТ.Майонез САРАТ.ПРОВ.КЛ.67%200мл\n",
       "5  4082171  423.000  Я ЛЮБ.ГОТ.Майонез САРАТ.ПРОВ.КЛ.67%400мл\n",
       "6  3170888   98.000  САРАТ.ПРОВ.Майонез КЛАССИЧ.67% стак.250г"
      ]
     },
     "execution_count": 113,
     "metadata": {},
     "output_type": "execute_result"
    }
   ],
   "source": [
    "seg_pd2"
   ]
  },
  {
   "cell_type": "code",
   "execution_count": 114,
   "id": "2b0203f4",
   "metadata": {},
   "outputs": [],
   "source": [
    "seg_pd2.to_excel(camp_id +'.xlsx', index=False)"
   ]
  },
  {
   "cell_type": "markdown",
   "id": "51a99d86",
   "metadata": {},
   "source": [
    "### X-27-45-Rusagro-Mayonnaise-Novosibirsk-sof"
   ]
  },
  {
   "cell_type": "code",
   "execution_count": 4,
   "id": "d0e5746e",
   "metadata": {
    "collapsed": false,
    "jupyter": {
     "outputs_hidden": false
    },
    "pycharm": {
     "name": "#%%\n"
    }
   },
   "outputs": [],
   "source": [
    "camp_id = 'X-27-45-Rusagro-Mayonnaise-Novosibirsk-sof'\n",
    "\n",
    "experiment_params = ExperimentParams(**{\n",
    "    # Camp wave id нужно записать в виде мапы из id в префиксы.\n",
    "    # Префиксы ни на что не влияют, просто для более красивого названия групп\n",
    "    # Заполняются camp_wave_id. Если для контроля и теста одинаковый, то пишем два раза\n",
    "    'map_camp_wave_ids_to_suffixes': {\n",
    "        76168: \"sms_viber_tg\",\n",
    "        76168: \"sms_viber_cg\"\n",
    "    },\n",
    "\n",
    "    # communication period with guest (sending sms, push, etc.)\n",
    "    'date_communication_from': '2021-12-17',\n",
    "    'date_communication_to': '2021-12-23',\n",
    "\n",
    "    'wave_ids': [\n",
    "        76315 #если нет, то -1\n",
    "    ],\n",
    "\n",
    "    'communication_costs': {\n",
    "        'sms': 1.38,\n",
    "        'viber': 1.32,\n",
    "        'email': 0.0083\n",
    "    }\n",
    "})\n",
    "#0_ + camp_wave_id +_sms_viber_ + cg (если номера волн равны) / tg (если номера волн разные)"
   ]
  },
  {
   "cell_type": "code",
   "execution_count": 5,
   "id": "d3ad0c64",
   "metadata": {
    "collapsed": false,
    "jupyter": {
     "outputs_hidden": false
    },
    "pycharm": {
     "name": "#%%\n"
    },
    "scrolled": true
   },
   "outputs": [],
   "source": [
    "experiment_guests = ExperimentParticipants(spark, experiment_params)\n",
    "experiment_guests_communications = experiment_guests.extract()"
   ]
  },
  {
   "cell_type": "code",
   "execution_count": 35,
   "id": "d179fb84",
   "metadata": {},
   "outputs": [],
   "source": [
    "guests = experiment_guests_communications.filter(F.col('group_name') == '0_76168_sms_viber_cg').select('customer_rk').distinct()"
   ]
  },
  {
   "cell_type": "code",
   "execution_count": 36,
   "id": "cbc88990",
   "metadata": {},
   "outputs": [
    {
     "name": "stderr",
     "output_type": "stream",
     "text": [
      "                                                                                ]]]]]]]]\r"
     ]
    }
   ],
   "source": [
    "seg_pd3 = get_segment_grouped(spark, \n",
    "                    start_date=datetime.date(2021, 12, 17), \n",
    "                    end_date=datetime.date(2021, 12, 23), \n",
    "                    plu_codes=[4085881,3606802,3606803,3623403,3623402,3606804],\n",
    "                    guests=guests)"
   ]
  },
  {
   "cell_type": "code",
   "execution_count": 40,
   "id": "a6625253",
   "metadata": {},
   "outputs": [],
   "source": [
    "seg_pd3['qty'] = seg_pd3['qty'].astype('float')"
   ]
  },
  {
   "cell_type": "code",
   "execution_count": 44,
   "id": "abb655e7",
   "metadata": {},
   "outputs": [
    {
     "data": {
      "text/html": [
       "<div>\n",
       "<style scoped>\n",
       "    .dataframe tbody tr th:only-of-type {\n",
       "        vertical-align: middle;\n",
       "    }\n",
       "\n",
       "    .dataframe tbody tr th {\n",
       "        vertical-align: top;\n",
       "    }\n",
       "\n",
       "    .dataframe thead th {\n",
       "        text-align: right;\n",
       "    }\n",
       "</style>\n",
       "<table border=\"1\" class=\"dataframe\">\n",
       "  <thead>\n",
       "    <tr style=\"text-align: right;\">\n",
       "      <th></th>\n",
       "      <th>plu_code</th>\n",
       "      <th>qty</th>\n",
       "      <th>plu_nm</th>\n",
       "    </tr>\n",
       "  </thead>\n",
       "  <tbody>\n",
       "    <tr>\n",
       "      <th>0</th>\n",
       "      <td>4085881</td>\n",
       "      <td>405.00</td>\n",
       "      <td>Я ЛЮБ.ГОТ.Майон.НОВОСИБ.ПРОВ.КЛ.67%200мл</td>\n",
       "    </tr>\n",
       "    <tr>\n",
       "      <th>1</th>\n",
       "      <td>3606802</td>\n",
       "      <td>432.00</td>\n",
       "      <td>Майонез НОВОСИБ.ПРОВАНС.КЛАС.67% 400мл</td>\n",
       "    </tr>\n",
       "    <tr>\n",
       "      <th>2</th>\n",
       "      <td>3623403</td>\n",
       "      <td>98.00</td>\n",
       "      <td>НОВ.ПРОВ.Майон.ДОМАШ.с доз.55% 700мл</td>\n",
       "    </tr>\n",
       "    <tr>\n",
       "      <th>3</th>\n",
       "      <td>3606803</td>\n",
       "      <td>997.00</td>\n",
       "      <td>Майонез НОВОСИБ.ПРОВАНС.КЛАС.67% 700мл</td>\n",
       "    </tr>\n",
       "  </tbody>\n",
       "</table>\n",
       "</div>"
      ],
      "text/plain": [
       "  plu_code    qty                                    plu_nm\n",
       "0  4085881 405.00  Я ЛЮБ.ГОТ.Майон.НОВОСИБ.ПРОВ.КЛ.67%200мл\n",
       "1  3606802 432.00    Майонез НОВОСИБ.ПРОВАНС.КЛАС.67% 400мл\n",
       "2  3623403  98.00      НОВ.ПРОВ.Майон.ДОМАШ.с доз.55% 700мл\n",
       "3  3606803 997.00    Майонез НОВОСИБ.ПРОВАНС.КЛАС.67% 700мл"
      ]
     },
     "execution_count": 44,
     "metadata": {},
     "output_type": "execute_result"
    }
   ],
   "source": [
    "seg_pd3"
   ]
  },
  {
   "cell_type": "code",
   "execution_count": 45,
   "id": "3a6f1731",
   "metadata": {},
   "outputs": [],
   "source": [
    "seg_pd3.to_excel(camp_id +'.xlsx', index=False)"
   ]
  },
  {
   "cell_type": "markdown",
   "id": "839aba92",
   "metadata": {},
   "source": [
    "### X-27-44-Rusagro-Mayonnaise-Ekaterinburg-sof"
   ]
  },
  {
   "cell_type": "code",
   "execution_count": 46,
   "id": "df0e8236",
   "metadata": {
    "collapsed": false,
    "jupyter": {
     "outputs_hidden": false
    },
    "pycharm": {
     "name": "#%%\n"
    }
   },
   "outputs": [],
   "source": [
    "camp_id = 'X-27-44-Rusagro-Mayonnaise-Ekaterinburg-sof'\n",
    "\n",
    "experiment_params = ExperimentParams(**{\n",
    "    # Camp wave id нужно записать в виде мапы из id в префиксы.\n",
    "    # Префиксы ни на что не влияют, просто для более красивого названия групп\n",
    "    # Заполняются camp_wave_id. Если для контроля и теста одинаковый, то пишем два раза\n",
    "    'map_camp_wave_ids_to_suffixes': {\n",
    "        75929: \"sms_viber_tg\",\n",
    "        75929: \"sms_viber_cg\"\n",
    "    },\n",
    "\n",
    "    # communication period with guest (sending sms, push, etc.)\n",
    "    'date_communication_from': '2021-12-16',\n",
    "    'date_communication_to': '2021-12-22',\n",
    "\n",
    "    'wave_ids': [\n",
    "        76015 #если нет, то -1\n",
    "    ],\n",
    "\n",
    "    'communication_costs': {\n",
    "        'sms': 1.38,\n",
    "        'viber': 1.32,\n",
    "        'email': 0.0083\n",
    "    }\n",
    "})\n",
    "#0_ + camp_wave_id +_sms_viber_ + cg (если номера волн равны) / tg (если номера волн разные)"
   ]
  },
  {
   "cell_type": "code",
   "execution_count": 47,
   "id": "3ef54318",
   "metadata": {
    "collapsed": false,
    "jupyter": {
     "outputs_hidden": false
    },
    "pycharm": {
     "name": "#%%\n"
    },
    "scrolled": true
   },
   "outputs": [],
   "source": [
    "experiment_guests = ExperimentParticipants(spark, experiment_params)\n",
    "experiment_guests_communications = experiment_guests.extract()"
   ]
  },
  {
   "cell_type": "code",
   "execution_count": 48,
   "id": "278fcd9b",
   "metadata": {},
   "outputs": [],
   "source": [
    "guests = experiment_guests_communications.filter(F.col('group_name') == '0_75929_sms_viber_cg').select('customer_rk').distinct()"
   ]
  },
  {
   "cell_type": "code",
   "execution_count": 49,
   "id": "3e6814ee",
   "metadata": {},
   "outputs": [
    {
     "name": "stderr",
     "output_type": "stream",
     "text": [
      "                                                                                ]]]]]]\r"
     ]
    }
   ],
   "source": [
    "seg_pd4 = get_segment_grouped(spark, \n",
    "                    start_date=datetime.date(2021, 12, 16), \n",
    "                    end_date=datetime.date(2021, 12, 22), \n",
    "                    plu_codes=[2146174,3170510,3672055,4009123,4017707,4072721,4072722,4181490],\n",
    "                    guests=guests)"
   ]
  },
  {
   "cell_type": "code",
   "execution_count": 50,
   "id": "79b442fd",
   "metadata": {},
   "outputs": [],
   "source": [
    "seg_pd4['qty'] = seg_pd4['qty'].astype('float')"
   ]
  },
  {
   "cell_type": "code",
   "execution_count": 51,
   "id": "fd2007cd",
   "metadata": {},
   "outputs": [
    {
     "data": {
      "text/html": [
       "<div>\n",
       "<style scoped>\n",
       "    .dataframe tbody tr th:only-of-type {\n",
       "        vertical-align: middle;\n",
       "    }\n",
       "\n",
       "    .dataframe tbody tr th {\n",
       "        vertical-align: top;\n",
       "    }\n",
       "\n",
       "    .dataframe thead th {\n",
       "        text-align: right;\n",
       "    }\n",
       "</style>\n",
       "<table border=\"1\" class=\"dataframe\">\n",
       "  <thead>\n",
       "    <tr style=\"text-align: right;\">\n",
       "      <th></th>\n",
       "      <th>plu_code</th>\n",
       "      <th>qty</th>\n",
       "      <th>plu_nm</th>\n",
       "    </tr>\n",
       "  </thead>\n",
       "  <tbody>\n",
       "    <tr>\n",
       "      <th>0</th>\n",
       "      <td>4009123</td>\n",
       "      <td>722.00</td>\n",
       "      <td>ЕЖК Майонез ПРОВАНСАЛЬ 67% д/п 675г</td>\n",
       "    </tr>\n",
       "    <tr>\n",
       "      <th>1</th>\n",
       "      <td>3672055</td>\n",
       "      <td>295.00</td>\n",
       "      <td>ЕЖК Майонез ПРОВАНСАЛЬ 67% д/п 193г</td>\n",
       "    </tr>\n",
       "    <tr>\n",
       "      <th>2</th>\n",
       "      <td>3170510</td>\n",
       "      <td>7,087.00</td>\n",
       "      <td>Майонез ПРОВАНСАЛЬ 67% 250г</td>\n",
       "    </tr>\n",
       "    <tr>\n",
       "      <th>3</th>\n",
       "      <td>2146174</td>\n",
       "      <td>2,973.00</td>\n",
       "      <td>Майонез ПРОВАНС.тара полим. 868г</td>\n",
       "    </tr>\n",
       "    <tr>\n",
       "      <th>4</th>\n",
       "      <td>4017707</td>\n",
       "      <td>63.00</td>\n",
       "      <td>ЕЖК Майонез ПРОВАНС.ДОМАШНИЙ 50,5% 672г</td>\n",
       "    </tr>\n",
       "    <tr>\n",
       "      <th>5</th>\n",
       "      <td>4072722</td>\n",
       "      <td>641.00</td>\n",
       "      <td>ЕЖК Соус ПРОВ.ДОМАШНИЙ май.46% д/п 400мл</td>\n",
       "    </tr>\n",
       "    <tr>\n",
       "      <th>6</th>\n",
       "      <td>4072721</td>\n",
       "      <td>3,472.00</td>\n",
       "      <td>ЕЖК Майонез ПРОВАНСАЛЬ 67% д/п 400мл</td>\n",
       "    </tr>\n",
       "  </tbody>\n",
       "</table>\n",
       "</div>"
      ],
      "text/plain": [
       "  plu_code      qty                                    plu_nm\n",
       "0  4009123   722.00      ЕЖК Майонез ПРОВАНСАЛЬ 67% д/п 675г \n",
       "1  3672055   295.00       ЕЖК Майонез ПРОВАНСАЛЬ 67% д/п 193г\n",
       "2  3170510 7,087.00               Майонез ПРОВАНСАЛЬ 67% 250г\n",
       "3  2146174 2,973.00          Майонез ПРОВАНС.тара полим. 868г\n",
       "4  4017707    63.00   ЕЖК Майонез ПРОВАНС.ДОМАШНИЙ 50,5% 672г\n",
       "5  4072722   641.00  ЕЖК Соус ПРОВ.ДОМАШНИЙ май.46% д/п 400мл\n",
       "6  4072721 3,472.00      ЕЖК Майонез ПРОВАНСАЛЬ 67% д/п 400мл"
      ]
     },
     "execution_count": 51,
     "metadata": {},
     "output_type": "execute_result"
    }
   ],
   "source": [
    "seg_pd4"
   ]
  },
  {
   "cell_type": "code",
   "execution_count": 52,
   "id": "150422db",
   "metadata": {},
   "outputs": [],
   "source": [
    "seg_pd4.to_excel(camp_id +'.xlsx', index=False)"
   ]
  },
  {
   "cell_type": "markdown",
   "id": "028bacff",
   "metadata": {},
   "source": [
    "### X-27-18-Rusagro-Competitors-Moscow-sof"
   ]
  },
  {
   "cell_type": "code",
   "execution_count": 53,
   "id": "8bc3487e",
   "metadata": {
    "collapsed": false,
    "jupyter": {
     "outputs_hidden": false
    },
    "pycharm": {
     "name": "#%%\n"
    }
   },
   "outputs": [],
   "source": [
    "camp_id = 'X-27-18-Rusagro-Competitors-Moscow-sof'\n",
    "\n",
    "experiment_params = ExperimentParams(**{\n",
    "    # Camp wave id нужно записать в виде мапы из id в префиксы.\n",
    "    # Префиксы ни на что не влияют, просто для более красивого названия групп\n",
    "    # Заполняются camp_wave_id. Если для контроля и теста одинаковый, то пишем два раза\n",
    "    'map_camp_wave_ids_to_suffixes': {\n",
    "        74514: \"sms_viber_tg\",\n",
    "        74523: \"sms_viber_cg\"\n",
    "    },\n",
    "\n",
    "    # communication period with guest (sending sms, push, etc.)\n",
    "    'date_communication_from': '2021-12-08',\n",
    "    'date_communication_to': '2021-12-13',\n",
    "\n",
    "    'wave_ids': [\n",
    "        74719 #если нет, то -1\n",
    "    ],\n",
    "\n",
    "    'communication_costs': {\n",
    "        'sms': 1.38,\n",
    "        'viber': 1.32,\n",
    "        'email': 0.0083\n",
    "    }\n",
    "})\n",
    "#0_ + camp_wave_id +_sms_viber_ + cg (если номера волн равны) / tg (если номера волн разные)"
   ]
  },
  {
   "cell_type": "code",
   "execution_count": 54,
   "id": "d60df25b",
   "metadata": {
    "collapsed": false,
    "jupyter": {
     "outputs_hidden": false
    },
    "pycharm": {
     "name": "#%%\n"
    },
    "scrolled": true
   },
   "outputs": [],
   "source": [
    "experiment_guests = ExperimentParticipants(spark, experiment_params)\n",
    "experiment_guests_communications = experiment_guests.extract()"
   ]
  },
  {
   "cell_type": "code",
   "execution_count": 55,
   "id": "32481f67",
   "metadata": {},
   "outputs": [],
   "source": [
    "guests = experiment_guests_communications.filter(F.col('group_name') == '0_74514_sms_viber_tg').select('customer_rk').distinct()"
   ]
  },
  {
   "cell_type": "code",
   "execution_count": 56,
   "id": "a54a1edc",
   "metadata": {},
   "outputs": [
    {
     "name": "stderr",
     "output_type": "stream",
     "text": [
      "                                                                                890]]]]]]\r"
     ]
    }
   ],
   "source": [
    "seg_pd = get_segment_grouped(spark, \n",
    "                    start_date=datetime.date(2021, 12, 8), \n",
    "                    end_date=datetime.date(2021, 12, 13), \n",
    "                    plu_codes=[3017503,3162506,3195297,3444608,3444609,3444610,3495835,3503399,3693488,3695167,\n",
    "                               3982578,4102644,4105769,4112954,4093072,4175547,4182900,4182902],\n",
    "                    guests=guests)"
   ]
  },
  {
   "cell_type": "code",
   "execution_count": 57,
   "id": "55a8666c",
   "metadata": {},
   "outputs": [],
   "source": [
    "seg_pd['qty'] = seg_pd['qty'].astype('float')"
   ]
  },
  {
   "cell_type": "code",
   "execution_count": 58,
   "id": "c2b92d70",
   "metadata": {},
   "outputs": [
    {
     "data": {
      "text/html": [
       "<div>\n",
       "<style scoped>\n",
       "    .dataframe tbody tr th:only-of-type {\n",
       "        vertical-align: middle;\n",
       "    }\n",
       "\n",
       "    .dataframe tbody tr th {\n",
       "        vertical-align: top;\n",
       "    }\n",
       "\n",
       "    .dataframe thead th {\n",
       "        text-align: right;\n",
       "    }\n",
       "</style>\n",
       "<table border=\"1\" class=\"dataframe\">\n",
       "  <thead>\n",
       "    <tr style=\"text-align: right;\">\n",
       "      <th></th>\n",
       "      <th>plu_code</th>\n",
       "      <th>qty</th>\n",
       "      <th>plu_nm</th>\n",
       "    </tr>\n",
       "  </thead>\n",
       "  <tbody>\n",
       "    <tr>\n",
       "      <th>0</th>\n",
       "      <td>4112954</td>\n",
       "      <td>67.00</td>\n",
       "      <td>МОС.ПРОВАНС.Майонез КЛАССИЧ.67%д/п 700мл</td>\n",
       "    </tr>\n",
       "    <tr>\n",
       "      <th>1</th>\n",
       "      <td>4105769</td>\n",
       "      <td>587.00</td>\n",
       "      <td>МОС.ПРОВАНС.Майонез КЛАССИЧ.67%д/п 390мл</td>\n",
       "    </tr>\n",
       "    <tr>\n",
       "      <th>2</th>\n",
       "      <td>3495835</td>\n",
       "      <td>5.00</td>\n",
       "      <td>МОС.ПРОВАНС.Майонез ДОМАШ.55% д/п 390мл</td>\n",
       "    </tr>\n",
       "    <tr>\n",
       "      <th>3</th>\n",
       "      <td>3195297</td>\n",
       "      <td>41.00</td>\n",
       "      <td>МОС.ПРОВАНС.Майонез КЛАСС.67% 220мл</td>\n",
       "    </tr>\n",
       "    <tr>\n",
       "      <th>4</th>\n",
       "      <td>3982578</td>\n",
       "      <td>1.00</td>\n",
       "      <td>МОС.ПРОВАНС.Майонез оливковый 67% 600мл</td>\n",
       "    </tr>\n",
       "    <tr>\n",
       "      <th>5</th>\n",
       "      <td>3444609</td>\n",
       "      <td>3.00</td>\n",
       "      <td>МОС.ПРОВАНС.Майонез ОЛИВКОВЫЙ 67% 390мл</td>\n",
       "    </tr>\n",
       "    <tr>\n",
       "      <th>6</th>\n",
       "      <td>3444610</td>\n",
       "      <td>4.00</td>\n",
       "      <td>МОС.ПРОВАНС.Майонез СЛИВОЧНЫЙ 67% 390мл</td>\n",
       "    </tr>\n",
       "    <tr>\n",
       "      <th>7</th>\n",
       "      <td>3503399</td>\n",
       "      <td>2.00</td>\n",
       "      <td>МОС.ПРОВАНС.Майонез СЛИВОЧНЫЙ 67% 600мл</td>\n",
       "    </tr>\n",
       "    <tr>\n",
       "      <th>8</th>\n",
       "      <td>4102644</td>\n",
       "      <td>33.00</td>\n",
       "      <td>МОС.ПРОВАНС.Соус ЛЕГКИЙ май.30%д/п 200мл</td>\n",
       "    </tr>\n",
       "    <tr>\n",
       "      <th>9</th>\n",
       "      <td>3695167</td>\n",
       "      <td>2.00</td>\n",
       "      <td>МОС.ПРОВАНС.Майон.на переп.яйц.67% 600мл</td>\n",
       "    </tr>\n",
       "    <tr>\n",
       "      <th>10</th>\n",
       "      <td>4093072</td>\n",
       "      <td>2.00</td>\n",
       "      <td>Я ЛЮБ.ГОТ.Майон.МОСК.ПР.ДОМ.55%д/п 600мл</td>\n",
       "    </tr>\n",
       "  </tbody>\n",
       "</table>\n",
       "</div>"
      ],
      "text/plain": [
       "   plu_code    qty                                    plu_nm\n",
       "0   4112954  67.00  МОС.ПРОВАНС.Майонез КЛАССИЧ.67%д/п 700мл\n",
       "1   4105769 587.00  МОС.ПРОВАНС.Майонез КЛАССИЧ.67%д/п 390мл\n",
       "2   3495835   5.00   МОС.ПРОВАНС.Майонез ДОМАШ.55% д/п 390мл\n",
       "3   3195297  41.00       МОС.ПРОВАНС.Майонез КЛАСС.67% 220мл\n",
       "4   3982578   1.00   МОС.ПРОВАНС.Майонез оливковый 67% 600мл\n",
       "5   3444609   3.00   МОС.ПРОВАНС.Майонез ОЛИВКОВЫЙ 67% 390мл\n",
       "6   3444610   4.00   МОС.ПРОВАНС.Майонез СЛИВОЧНЫЙ 67% 390мл\n",
       "7   3503399   2.00   МОС.ПРОВАНС.Майонез СЛИВОЧНЫЙ 67% 600мл\n",
       "8   4102644  33.00  МОС.ПРОВАНС.Соус ЛЕГКИЙ май.30%д/п 200мл\n",
       "9   3695167   2.00  МОС.ПРОВАНС.Майон.на переп.яйц.67% 600мл\n",
       "10  4093072   2.00  Я ЛЮБ.ГОТ.Майон.МОСК.ПР.ДОМ.55%д/п 600мл"
      ]
     },
     "execution_count": 58,
     "metadata": {},
     "output_type": "execute_result"
    }
   ],
   "source": [
    "seg_pd"
   ]
  },
  {
   "cell_type": "code",
   "execution_count": 59,
   "id": "3f472b48",
   "metadata": {},
   "outputs": [],
   "source": [
    "seg_pd.to_excel(camp_id +'.xlsx', index=False)"
   ]
  },
  {
   "cell_type": "markdown",
   "id": "7b3b4f1b",
   "metadata": {},
   "source": [
    "### X-27-17-Rusagro-HeavyUsers-Moscow-sof"
   ]
  },
  {
   "cell_type": "code",
   "execution_count": 60,
   "id": "1d66d1c0",
   "metadata": {
    "collapsed": false,
    "jupyter": {
     "outputs_hidden": false
    },
    "pycharm": {
     "name": "#%%\n"
    }
   },
   "outputs": [],
   "source": [
    "camp_id = 'X-27-17-Rusagro-HeavyUsers-Moscow-sof'\n",
    "\n",
    "experiment_params = ExperimentParams(**{\n",
    "    # Camp wave id нужно записать в виде мапы из id в префиксы.\n",
    "    # Префиксы ни на что не влияют, просто для более красивого названия групп\n",
    "    # Заполняются camp_wave_id. Если для контроля и теста одинаковый, то пишем два раза\n",
    "    'map_camp_wave_ids_to_suffixes': {\n",
    "        74389: \"sms_viber_tg\",\n",
    "        74389: \"sms_viber_cg\"\n",
    "    },\n",
    "\n",
    "    # communication period with guest (sending sms, push, etc.)\n",
    "    'date_communication_from': '2021-12-08',\n",
    "    'date_communication_to': '2021-12-13',\n",
    "\n",
    "    'wave_ids': [\n",
    "        74473 #если нет, то -1\n",
    "    ],\n",
    "\n",
    "    'communication_costs': {\n",
    "        'sms': 1.38,\n",
    "        'viber': 1.32,\n",
    "        'email': 0.0083\n",
    "    }\n",
    "})\n",
    "#0_ + camp_wave_id +_sms_viber_ + cg (если номера волн равны) / tg (если номера волн разные)"
   ]
  },
  {
   "cell_type": "code",
   "execution_count": 61,
   "id": "a30bbdf0",
   "metadata": {
    "collapsed": false,
    "jupyter": {
     "outputs_hidden": false
    },
    "pycharm": {
     "name": "#%%\n"
    },
    "scrolled": true
   },
   "outputs": [],
   "source": [
    "experiment_guests = ExperimentParticipants(spark, experiment_params)\n",
    "experiment_guests_communications = experiment_guests.extract()"
   ]
  },
  {
   "cell_type": "code",
   "execution_count": 62,
   "id": "a779d176",
   "metadata": {},
   "outputs": [],
   "source": [
    "guests = experiment_guests_communications.filter(F.col('group_name') == '0_74389_sms_viber_cg').select('customer_rk').distinct()"
   ]
  },
  {
   "cell_type": "code",
   "execution_count": 63,
   "id": "752b1159",
   "metadata": {},
   "outputs": [
    {
     "name": "stderr",
     "output_type": "stream",
     "text": [
      "                                                                                200]]]]]]]\r"
     ]
    }
   ],
   "source": [
    "seg_pd = get_segment_grouped(spark, \n",
    "                    start_date=datetime.date(2021, 12, 8), \n",
    "                    end_date=datetime.date(2021, 12, 13), \n",
    "                    plu_codes=[3017503,3162506,3195297,3444608,3444609,3444610,3495835,3503399,3693488,\n",
    "                               3695167,3982578,4102644,4105769,4112954,4093072,4175547,4182900,4182902],\n",
    "                    guests=guests)"
   ]
  },
  {
   "cell_type": "code",
   "execution_count": 64,
   "id": "7eb1323c",
   "metadata": {},
   "outputs": [],
   "source": [
    "seg_pd['qty'] = seg_pd['qty'].astype('float')"
   ]
  },
  {
   "cell_type": "code",
   "execution_count": 65,
   "id": "73e918be",
   "metadata": {},
   "outputs": [
    {
     "data": {
      "text/html": [
       "<div>\n",
       "<style scoped>\n",
       "    .dataframe tbody tr th:only-of-type {\n",
       "        vertical-align: middle;\n",
       "    }\n",
       "\n",
       "    .dataframe tbody tr th {\n",
       "        vertical-align: top;\n",
       "    }\n",
       "\n",
       "    .dataframe thead th {\n",
       "        text-align: right;\n",
       "    }\n",
       "</style>\n",
       "<table border=\"1\" class=\"dataframe\">\n",
       "  <thead>\n",
       "    <tr style=\"text-align: right;\">\n",
       "      <th></th>\n",
       "      <th>plu_code</th>\n",
       "      <th>qty</th>\n",
       "      <th>plu_nm</th>\n",
       "    </tr>\n",
       "  </thead>\n",
       "  <tbody>\n",
       "    <tr>\n",
       "      <th>0</th>\n",
       "      <td>4112954</td>\n",
       "      <td>765.00</td>\n",
       "      <td>МОС.ПРОВАНС.Майонез КЛАССИЧ.67%д/п 700мл</td>\n",
       "    </tr>\n",
       "    <tr>\n",
       "      <th>1</th>\n",
       "      <td>4105769</td>\n",
       "      <td>7,102.00</td>\n",
       "      <td>МОС.ПРОВАНС.Майонез КЛАССИЧ.67%д/п 390мл</td>\n",
       "    </tr>\n",
       "    <tr>\n",
       "      <th>2</th>\n",
       "      <td>3495835</td>\n",
       "      <td>58.00</td>\n",
       "      <td>МОС.ПРОВАНС.Майонез ДОМАШ.55% д/п 390мл</td>\n",
       "    </tr>\n",
       "    <tr>\n",
       "      <th>3</th>\n",
       "      <td>3195297</td>\n",
       "      <td>706.00</td>\n",
       "      <td>МОС.ПРОВАНС.Майонез КЛАСС.67% 220мл</td>\n",
       "    </tr>\n",
       "    <tr>\n",
       "      <th>4</th>\n",
       "      <td>3982578</td>\n",
       "      <td>48.00</td>\n",
       "      <td>МОС.ПРОВАНС.Майонез оливковый 67% 600мл</td>\n",
       "    </tr>\n",
       "    <tr>\n",
       "      <th>5</th>\n",
       "      <td>3444609</td>\n",
       "      <td>5.00</td>\n",
       "      <td>МОС.ПРОВАНС.Майонез ОЛИВКОВЫЙ 67% 390мл</td>\n",
       "    </tr>\n",
       "    <tr>\n",
       "      <th>6</th>\n",
       "      <td>3444610</td>\n",
       "      <td>20.00</td>\n",
       "      <td>МОС.ПРОВАНС.Майонез СЛИВОЧНЫЙ 67% 390мл</td>\n",
       "    </tr>\n",
       "    <tr>\n",
       "      <th>7</th>\n",
       "      <td>3503399</td>\n",
       "      <td>34.00</td>\n",
       "      <td>МОС.ПРОВАНС.Майонез СЛИВОЧНЫЙ 67% 600мл</td>\n",
       "    </tr>\n",
       "    <tr>\n",
       "      <th>8</th>\n",
       "      <td>4102644</td>\n",
       "      <td>123.00</td>\n",
       "      <td>МОС.ПРОВАНС.Соус ЛЕГКИЙ май.30%д/п 200мл</td>\n",
       "    </tr>\n",
       "    <tr>\n",
       "      <th>9</th>\n",
       "      <td>3695167</td>\n",
       "      <td>48.00</td>\n",
       "      <td>МОС.ПРОВАНС.Майон.на переп.яйц.67% 600мл</td>\n",
       "    </tr>\n",
       "    <tr>\n",
       "      <th>10</th>\n",
       "      <td>4093072</td>\n",
       "      <td>3.00</td>\n",
       "      <td>Я ЛЮБ.ГОТ.Майон.МОСК.ПР.ДОМ.55%д/п 600мл</td>\n",
       "    </tr>\n",
       "  </tbody>\n",
       "</table>\n",
       "</div>"
      ],
      "text/plain": [
       "   plu_code      qty                                    plu_nm\n",
       "0   4112954   765.00  МОС.ПРОВАНС.Майонез КЛАССИЧ.67%д/п 700мл\n",
       "1   4105769 7,102.00  МОС.ПРОВАНС.Майонез КЛАССИЧ.67%д/п 390мл\n",
       "2   3495835    58.00   МОС.ПРОВАНС.Майонез ДОМАШ.55% д/п 390мл\n",
       "3   3195297   706.00       МОС.ПРОВАНС.Майонез КЛАСС.67% 220мл\n",
       "4   3982578    48.00   МОС.ПРОВАНС.Майонез оливковый 67% 600мл\n",
       "5   3444609     5.00   МОС.ПРОВАНС.Майонез ОЛИВКОВЫЙ 67% 390мл\n",
       "6   3444610    20.00   МОС.ПРОВАНС.Майонез СЛИВОЧНЫЙ 67% 390мл\n",
       "7   3503399    34.00   МОС.ПРОВАНС.Майонез СЛИВОЧНЫЙ 67% 600мл\n",
       "8   4102644   123.00  МОС.ПРОВАНС.Соус ЛЕГКИЙ май.30%д/п 200мл\n",
       "9   3695167    48.00  МОС.ПРОВАНС.Майон.на переп.яйц.67% 600мл\n",
       "10  4093072     3.00  Я ЛЮБ.ГОТ.Майон.МОСК.ПР.ДОМ.55%д/п 600мл"
      ]
     },
     "execution_count": 65,
     "metadata": {},
     "output_type": "execute_result"
    }
   ],
   "source": [
    "seg_pd"
   ]
  },
  {
   "cell_type": "code",
   "execution_count": 66,
   "id": "753c617e",
   "metadata": {},
   "outputs": [],
   "source": [
    "seg_pd.to_excel(camp_id +'.xlsx', index=False)"
   ]
  },
  {
   "cell_type": "markdown",
   "id": "c63e0999",
   "metadata": {},
   "source": [
    "### U-27-5-RussAgro_MoskProvans_viber_sms_gr1"
   ]
  },
  {
   "cell_type": "code",
   "execution_count": 67,
   "id": "836cab1d",
   "metadata": {
    "collapsed": false,
    "jupyter": {
     "outputs_hidden": false
    },
    "pycharm": {
     "name": "#%%\n"
    }
   },
   "outputs": [],
   "source": [
    "camp_id = 'U-27-5-RussAgro_MoskProvans_viber_sms_gr1'\n",
    "\n",
    "experiment_params = ExperimentParams(**{\n",
    "    # Camp wave id нужно записать в виде мапы из id в префиксы.\n",
    "    # Префиксы ни на что не влияют, просто для более красивого названия групп\n",
    "    # Заполняются camp_wave_id. Если для контроля и теста одинаковый, то пишем два раза\n",
    "    'map_camp_wave_ids_to_suffixes': {\n",
    "        74141: \"sms_viber_tg\",\n",
    "        74141: \"sms_viber_cg\"\n",
    "    },\n",
    "\n",
    "    # communication period with guest (sending sms, push, etc.)\n",
    "    'date_communication_from': '2021-12-08',\n",
    "    'date_communication_to': '2021-12-14',\n",
    "\n",
    "    'wave_ids': [\n",
    "        74297 #если нет, то -1\n",
    "    ],\n",
    "\n",
    "    'communication_costs': {\n",
    "        'sms': 1.38,\n",
    "        'viber': 1.32,\n",
    "        'email': 0.0083\n",
    "    }\n",
    "})\n",
    "#0_ + camp_wave_id +_sms_viber_ + cg (если номера волн равны) / tg (если номера волн разные)"
   ]
  },
  {
   "cell_type": "code",
   "execution_count": 68,
   "id": "e2017e70",
   "metadata": {
    "collapsed": false,
    "jupyter": {
     "outputs_hidden": false
    },
    "pycharm": {
     "name": "#%%\n"
    },
    "scrolled": true
   },
   "outputs": [],
   "source": [
    "experiment_guests = ExperimentParticipants(spark, experiment_params)\n",
    "experiment_guests_communications = experiment_guests.extract()"
   ]
  },
  {
   "cell_type": "code",
   "execution_count": 69,
   "id": "461c79dc",
   "metadata": {},
   "outputs": [],
   "source": [
    "guests = experiment_guests_communications.filter(F.col('group_name') == '0_' + '74141' + '_sms_viber_cg').select('customer_rk').distinct()"
   ]
  },
  {
   "cell_type": "code",
   "execution_count": 70,
   "id": "35912baf",
   "metadata": {},
   "outputs": [
    {
     "name": "stderr",
     "output_type": "stream",
     "text": [
      "                                                                                 552]]]]]]\r"
     ]
    }
   ],
   "source": [
    "seg_pd = get_segment_grouped(spark, \n",
    "                    start_date=datetime.date(2021, 12, 8), \n",
    "                    end_date=datetime.date(2021, 12, 14), \n",
    "                    plu_codes=[3017503,3162506,3195297,3444608,3444609,3444610,3495835,3503399,3693488,3695167,\n",
    "                               3982578,4102644,4105769,4112954,4093072,4175547,4182900,4182902],\n",
    "                    guests=guests)"
   ]
  },
  {
   "cell_type": "code",
   "execution_count": 71,
   "id": "18641f1f",
   "metadata": {},
   "outputs": [],
   "source": [
    "seg_pd['qty'] = seg_pd['qty'].astype('float')"
   ]
  },
  {
   "cell_type": "code",
   "execution_count": 72,
   "id": "c5d85a6e",
   "metadata": {},
   "outputs": [
    {
     "data": {
      "text/html": [
       "<div>\n",
       "<style scoped>\n",
       "    .dataframe tbody tr th:only-of-type {\n",
       "        vertical-align: middle;\n",
       "    }\n",
       "\n",
       "    .dataframe tbody tr th {\n",
       "        vertical-align: top;\n",
       "    }\n",
       "\n",
       "    .dataframe thead th {\n",
       "        text-align: right;\n",
       "    }\n",
       "</style>\n",
       "<table border=\"1\" class=\"dataframe\">\n",
       "  <thead>\n",
       "    <tr style=\"text-align: right;\">\n",
       "      <th></th>\n",
       "      <th>plu_code</th>\n",
       "      <th>qty</th>\n",
       "      <th>plu_nm</th>\n",
       "    </tr>\n",
       "  </thead>\n",
       "  <tbody>\n",
       "    <tr>\n",
       "      <th>0</th>\n",
       "      <td>4112954</td>\n",
       "      <td>1,134.00</td>\n",
       "      <td>МОС.ПРОВАНС.Майонез КЛАССИЧ.67%д/п 700мл</td>\n",
       "    </tr>\n",
       "    <tr>\n",
       "      <th>1</th>\n",
       "      <td>4105769</td>\n",
       "      <td>9,653.00</td>\n",
       "      <td>МОС.ПРОВАНС.Майонез КЛАССИЧ.67%д/п 390мл</td>\n",
       "    </tr>\n",
       "    <tr>\n",
       "      <th>2</th>\n",
       "      <td>3495835</td>\n",
       "      <td>99.00</td>\n",
       "      <td>МОС.ПРОВАНС.Майонез ДОМАШ.55% д/п 390мл</td>\n",
       "    </tr>\n",
       "    <tr>\n",
       "      <th>3</th>\n",
       "      <td>3195297</td>\n",
       "      <td>1,017.00</td>\n",
       "      <td>МОС.ПРОВАНС.Майонез КЛАСС.67% 220мл</td>\n",
       "    </tr>\n",
       "    <tr>\n",
       "      <th>4</th>\n",
       "      <td>3982578</td>\n",
       "      <td>47.00</td>\n",
       "      <td>МОС.ПРОВАНС.Майонез оливковый 67% 600мл</td>\n",
       "    </tr>\n",
       "    <tr>\n",
       "      <th>5</th>\n",
       "      <td>3444609</td>\n",
       "      <td>8.00</td>\n",
       "      <td>МОС.ПРОВАНС.Майонез ОЛИВКОВЫЙ 67% 390мл</td>\n",
       "    </tr>\n",
       "    <tr>\n",
       "      <th>6</th>\n",
       "      <td>3444610</td>\n",
       "      <td>40.00</td>\n",
       "      <td>МОС.ПРОВАНС.Майонез СЛИВОЧНЫЙ 67% 390мл</td>\n",
       "    </tr>\n",
       "    <tr>\n",
       "      <th>7</th>\n",
       "      <td>3503399</td>\n",
       "      <td>63.00</td>\n",
       "      <td>МОС.ПРОВАНС.Майонез СЛИВОЧНЫЙ 67% 600мл</td>\n",
       "    </tr>\n",
       "    <tr>\n",
       "      <th>8</th>\n",
       "      <td>4102644</td>\n",
       "      <td>104.00</td>\n",
       "      <td>МОС.ПРОВАНС.Соус ЛЕГКИЙ май.30%д/п 200мл</td>\n",
       "    </tr>\n",
       "    <tr>\n",
       "      <th>9</th>\n",
       "      <td>3695167</td>\n",
       "      <td>58.00</td>\n",
       "      <td>МОС.ПРОВАНС.Майон.на переп.яйц.67% 600мл</td>\n",
       "    </tr>\n",
       "    <tr>\n",
       "      <th>10</th>\n",
       "      <td>4093072</td>\n",
       "      <td>3.00</td>\n",
       "      <td>Я ЛЮБ.ГОТ.Майон.МОСК.ПР.ДОМ.55%д/п 600мл</td>\n",
       "    </tr>\n",
       "  </tbody>\n",
       "</table>\n",
       "</div>"
      ],
      "text/plain": [
       "   plu_code      qty                                    plu_nm\n",
       "0   4112954 1,134.00  МОС.ПРОВАНС.Майонез КЛАССИЧ.67%д/п 700мл\n",
       "1   4105769 9,653.00  МОС.ПРОВАНС.Майонез КЛАССИЧ.67%д/п 390мл\n",
       "2   3495835    99.00   МОС.ПРОВАНС.Майонез ДОМАШ.55% д/п 390мл\n",
       "3   3195297 1,017.00       МОС.ПРОВАНС.Майонез КЛАСС.67% 220мл\n",
       "4   3982578    47.00   МОС.ПРОВАНС.Майонез оливковый 67% 600мл\n",
       "5   3444609     8.00   МОС.ПРОВАНС.Майонез ОЛИВКОВЫЙ 67% 390мл\n",
       "6   3444610    40.00   МОС.ПРОВАНС.Майонез СЛИВОЧНЫЙ 67% 390мл\n",
       "7   3503399    63.00   МОС.ПРОВАНС.Майонез СЛИВОЧНЫЙ 67% 600мл\n",
       "8   4102644   104.00  МОС.ПРОВАНС.Соус ЛЕГКИЙ май.30%д/п 200мл\n",
       "9   3695167    58.00  МОС.ПРОВАНС.Майон.на переп.яйц.67% 600мл\n",
       "10  4093072     3.00  Я ЛЮБ.ГОТ.Майон.МОСК.ПР.ДОМ.55%д/п 600мл"
      ]
     },
     "execution_count": 72,
     "metadata": {},
     "output_type": "execute_result"
    }
   ],
   "source": [
    "seg_pd"
   ]
  },
  {
   "cell_type": "code",
   "execution_count": 73,
   "id": "6f9c9dd2",
   "metadata": {},
   "outputs": [],
   "source": [
    "seg_pd.to_excel(camp_id +'.xlsx', index=False)"
   ]
  },
  {
   "cell_type": "markdown",
   "id": "b69f9c38",
   "metadata": {},
   "source": [
    "### U-27-5-RussAgro_MoskProvans_viber_sms_gr2"
   ]
  },
  {
   "cell_type": "code",
   "execution_count": 74,
   "id": "b5b1d064",
   "metadata": {
    "collapsed": false,
    "jupyter": {
     "outputs_hidden": false
    },
    "pycharm": {
     "name": "#%%\n"
    }
   },
   "outputs": [],
   "source": [
    "camp_id = 'U-27-5-RussAgro_MoskProvans_viber_sms_gr2'\n",
    "\n",
    "experiment_params = ExperimentParams(**{\n",
    "    # Camp wave id нужно записать в виде мапы из id в префиксы.\n",
    "    # Префиксы ни на что не влияют, просто для более красивого названия групп\n",
    "    # Заполняются camp_wave_id. Если для контроля и теста одинаковый, то пишем два раза\n",
    "    'map_camp_wave_ids_to_suffixes': {\n",
    "        74102: \"sms_viber_tg\",\n",
    "        74102: \"sms_viber_cg\"\n",
    "    },\n",
    "\n",
    "    # communication period with guest (sending sms, push, etc.)\n",
    "    'date_communication_from': '2021-12-08',\n",
    "    'date_communication_to': '2021-12-14',\n",
    "\n",
    "    'wave_ids': [\n",
    "        74296 #если нет, то -1\n",
    "    ],\n",
    "\n",
    "    'communication_costs': {\n",
    "        'sms': 1.38,\n",
    "        'viber': 1.32,\n",
    "        'email': 0.0083\n",
    "    }\n",
    "})\n",
    "#0_ + camp_wave_id +_sms_viber_ + cg (если номера волн равны) / tg (если номера волн разные)"
   ]
  },
  {
   "cell_type": "code",
   "execution_count": 75,
   "id": "9a5f7cea",
   "metadata": {
    "collapsed": false,
    "jupyter": {
     "outputs_hidden": false
    },
    "pycharm": {
     "name": "#%%\n"
    },
    "scrolled": true
   },
   "outputs": [],
   "source": [
    "experiment_guests = ExperimentParticipants(spark, experiment_params)\n",
    "experiment_guests_communications = experiment_guests.extract()"
   ]
  },
  {
   "cell_type": "code",
   "execution_count": 76,
   "id": "30d81e09",
   "metadata": {},
   "outputs": [],
   "source": [
    "guests = experiment_guests_communications.filter(F.col('group_name') == '0_74102_sms_viber_cg').select('customer_rk').distinct()"
   ]
  },
  {
   "cell_type": "code",
   "execution_count": 77,
   "id": "4ce4584d",
   "metadata": {},
   "outputs": [
    {
     "name": "stderr",
     "output_type": "stream",
     "text": [
      "                                                                                3890]0]]]\r"
     ]
    }
   ],
   "source": [
    "seg_pd = get_segment_grouped(spark, \n",
    "                    start_date=datetime.date(2021, 12, 8), \n",
    "                    end_date=datetime.date(2021, 12, 14), \n",
    "                    plu_codes=[3017503,3162506,3195297,3444608,3444609,3444610,3495835,3503399,3693488,3695167,\n",
    "                               3982578,4102644,4105769,4112954,4093072,4175547,4182900,4182902],\n",
    "                    guests=guests)"
   ]
  },
  {
   "cell_type": "code",
   "execution_count": 78,
   "id": "83e76df2",
   "metadata": {},
   "outputs": [],
   "source": [
    "seg_pd['qty'] = seg_pd['qty'].astype('float')"
   ]
  },
  {
   "cell_type": "code",
   "execution_count": 79,
   "id": "f6f3202f",
   "metadata": {},
   "outputs": [
    {
     "data": {
      "text/html": [
       "<div>\n",
       "<style scoped>\n",
       "    .dataframe tbody tr th:only-of-type {\n",
       "        vertical-align: middle;\n",
       "    }\n",
       "\n",
       "    .dataframe tbody tr th {\n",
       "        vertical-align: top;\n",
       "    }\n",
       "\n",
       "    .dataframe thead th {\n",
       "        text-align: right;\n",
       "    }\n",
       "</style>\n",
       "<table border=\"1\" class=\"dataframe\">\n",
       "  <thead>\n",
       "    <tr style=\"text-align: right;\">\n",
       "      <th></th>\n",
       "      <th>plu_code</th>\n",
       "      <th>qty</th>\n",
       "      <th>plu_nm</th>\n",
       "    </tr>\n",
       "  </thead>\n",
       "  <tbody>\n",
       "    <tr>\n",
       "      <th>0</th>\n",
       "      <td>4112954</td>\n",
       "      <td>192.00</td>\n",
       "      <td>МОС.ПРОВАНС.Майонез КЛАССИЧ.67%д/п 700мл</td>\n",
       "    </tr>\n",
       "    <tr>\n",
       "      <th>1</th>\n",
       "      <td>4105769</td>\n",
       "      <td>2,101.00</td>\n",
       "      <td>МОС.ПРОВАНС.Майонез КЛАССИЧ.67%д/п 390мл</td>\n",
       "    </tr>\n",
       "    <tr>\n",
       "      <th>2</th>\n",
       "      <td>3495835</td>\n",
       "      <td>9.00</td>\n",
       "      <td>МОС.ПРОВАНС.Майонез ДОМАШ.55% д/п 390мл</td>\n",
       "    </tr>\n",
       "    <tr>\n",
       "      <th>3</th>\n",
       "      <td>3195297</td>\n",
       "      <td>114.00</td>\n",
       "      <td>МОС.ПРОВАНС.Майонез КЛАСС.67% 220мл</td>\n",
       "    </tr>\n",
       "    <tr>\n",
       "      <th>4</th>\n",
       "      <td>3982578</td>\n",
       "      <td>7.00</td>\n",
       "      <td>МОС.ПРОВАНС.Майонез оливковый 67% 600мл</td>\n",
       "    </tr>\n",
       "    <tr>\n",
       "      <th>5</th>\n",
       "      <td>3444609</td>\n",
       "      <td>3.00</td>\n",
       "      <td>МОС.ПРОВАНС.Майонез ОЛИВКОВЫЙ 67% 390мл</td>\n",
       "    </tr>\n",
       "    <tr>\n",
       "      <th>6</th>\n",
       "      <td>3444610</td>\n",
       "      <td>16.00</td>\n",
       "      <td>МОС.ПРОВАНС.Майонез СЛИВОЧНЫЙ 67% 390мл</td>\n",
       "    </tr>\n",
       "    <tr>\n",
       "      <th>7</th>\n",
       "      <td>3503399</td>\n",
       "      <td>13.00</td>\n",
       "      <td>МОС.ПРОВАНС.Майонез СЛИВОЧНЫЙ 67% 600мл</td>\n",
       "    </tr>\n",
       "    <tr>\n",
       "      <th>8</th>\n",
       "      <td>4102644</td>\n",
       "      <td>35.00</td>\n",
       "      <td>МОС.ПРОВАНС.Соус ЛЕГКИЙ май.30%д/п 200мл</td>\n",
       "    </tr>\n",
       "    <tr>\n",
       "      <th>9</th>\n",
       "      <td>3695167</td>\n",
       "      <td>4.00</td>\n",
       "      <td>МОС.ПРОВАНС.Майон.на переп.яйц.67% 600мл</td>\n",
       "    </tr>\n",
       "    <tr>\n",
       "      <th>10</th>\n",
       "      <td>4093072</td>\n",
       "      <td>1.00</td>\n",
       "      <td>Я ЛЮБ.ГОТ.Майон.МОСК.ПР.ДОМ.55%д/п 600мл</td>\n",
       "    </tr>\n",
       "  </tbody>\n",
       "</table>\n",
       "</div>"
      ],
      "text/plain": [
       "   plu_code      qty                                    plu_nm\n",
       "0   4112954   192.00  МОС.ПРОВАНС.Майонез КЛАССИЧ.67%д/п 700мл\n",
       "1   4105769 2,101.00  МОС.ПРОВАНС.Майонез КЛАССИЧ.67%д/п 390мл\n",
       "2   3495835     9.00   МОС.ПРОВАНС.Майонез ДОМАШ.55% д/п 390мл\n",
       "3   3195297   114.00       МОС.ПРОВАНС.Майонез КЛАСС.67% 220мл\n",
       "4   3982578     7.00   МОС.ПРОВАНС.Майонез оливковый 67% 600мл\n",
       "5   3444609     3.00   МОС.ПРОВАНС.Майонез ОЛИВКОВЫЙ 67% 390мл\n",
       "6   3444610    16.00   МОС.ПРОВАНС.Майонез СЛИВОЧНЫЙ 67% 390мл\n",
       "7   3503399    13.00   МОС.ПРОВАНС.Майонез СЛИВОЧНЫЙ 67% 600мл\n",
       "8   4102644    35.00  МОС.ПРОВАНС.Соус ЛЕГКИЙ май.30%д/п 200мл\n",
       "9   3695167     4.00  МОС.ПРОВАНС.Майон.на переп.яйц.67% 600мл\n",
       "10  4093072     1.00  Я ЛЮБ.ГОТ.Майон.МОСК.ПР.ДОМ.55%д/п 600мл"
      ]
     },
     "execution_count": 79,
     "metadata": {},
     "output_type": "execute_result"
    }
   ],
   "source": [
    "seg_pd"
   ]
  },
  {
   "cell_type": "code",
   "execution_count": 80,
   "id": "bf7d17a0",
   "metadata": {},
   "outputs": [],
   "source": [
    "seg_pd.to_excel(camp_id +'.xlsx', index=False)"
   ]
  },
  {
   "cell_type": "code",
   "execution_count": null,
   "id": "065cd44c",
   "metadata": {},
   "outputs": [],
   "source": []
  }
 ],
 "metadata": {
  "kernelspec": {
   "display_name": "Python 3 (ipykernel)",
   "language": "python",
   "name": "python3"
  },
  "language_info": {
   "codemirror_mode": {
    "name": "ipython",
    "version": 3
   },
   "file_extension": ".py",
   "mimetype": "text/x-python",
   "name": "python",
   "nbconvert_exporter": "python",
   "pygments_lexer": "ipython3",
   "version": "3.7.10"
  }
 },
 "nbformat": 4,
 "nbformat_minor": 5
}
