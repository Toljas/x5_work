{
 "cells": [
  {
   "cell_type": "markdown",
   "id": "bf7abfbf",
   "metadata": {},
   "source": [
    "https://jira.x5.ru/browse/CVMXC-2632"
   ]
  },
  {
   "cell_type": "code",
   "execution_count": 1,
   "id": "7cbd7ef7",
   "metadata": {},
   "outputs": [],
   "source": [
    "name = 'CVMXC-2632_nestle_pa'"
   ]
  },
  {
   "cell_type": "code",
   "execution_count": 2,
   "id": "a75f32f0",
   "metadata": {},
   "outputs": [],
   "source": [
    "import sys\n",
    "import pandas as pd\n",
    "import pyspark.sql.functions as F\n",
    "sys.path.append('/home/jovyan/cvm_upgrade/')\n",
    "sys.path.append('/home/jovyan/cvm_upgrade/upgrade/')\n",
    "sys.path.append('/home/jovyan/glow-byte-filters-pyspark')\n",
    "sys.path.append('/home/jovyan/x5_some_tasks/Osipov/')\n",
    "from upgrade.post_analysis2.tools.groups_metrics_aggregation import GroupsMetricsAggregation\n",
    "from upgrade.post_analysis2.tools.guests_metrics_preprocessing import GuestsMetricsPreprocessing\n",
    "from upgrade.post_analysis2.tools.post_analysis_params import PostAnalysisParams\n",
    "from upgrade.post_analysis2.tools.metric_names_mapper import map_col_names_to_russian\n",
    "from upgrade.post_analysis2.tools.experiment_participants import ExperimentParticipants\n",
    "from upgrade.post_analysis2.tools.experiment_params import ExperimentParams\n",
    "import datetime\n",
    "from datetime import timedelta\n",
    "from spark import *\n",
    "from utils_osipov import *\n",
    "\n",
    "%load_ext autoreload\n",
    "%autoreload 2\n",
    "\n",
    "pd.options.display.float_format = '{:,.2f}'.format\n",
    "pd.options.display.max_rows = 500"
   ]
  },
  {
   "cell_type": "code",
   "execution_count": 3,
   "id": "e95ad3a9",
   "metadata": {
    "collapsed": false,
    "jupyter": {
     "outputs_hidden": false
    },
    "pycharm": {
     "name": "#%%\n"
    }
   },
   "outputs": [
    {
     "name": "stderr",
     "output_type": "stream",
     "text": [
      "Setting default log level to \"WARN\".\n",
      "To adjust logging level use sc.setLogLevel(newLevel). For SparkR, use setLogLevel(newLevel).\n",
      "22/02/04 16:10:59 WARN cluster.YarnSchedulerBackend$YarnSchedulerEndpoint: Attempted to request executors before the AM has registered!\n"
     ]
    }
   ],
   "source": [
    "sc, spark = restart_spark(name, 100, executor_memory=\"3G\", executor_cores=5, driver_memory=\"12G\",\n",
    "                          additional_params={\"spark.sql.shuffle.partitions\": \"200\"})\n",
    "sc.setLogLevel('ERROR')"
   ]
  },
  {
   "cell_type": "markdown",
   "id": "45972b06",
   "metadata": {},
   "source": [
    "### X-28-38-Nestle-Purina-Friskies-5days-sof"
   ]
  },
  {
   "cell_type": "code",
   "execution_count": 5,
   "id": "803c0be5",
   "metadata": {
    "collapsed": false,
    "jupyter": {
     "outputs_hidden": false
    },
    "pycharm": {
     "name": "#%%\n"
    }
   },
   "outputs": [
    {
     "name": "stderr",
     "output_type": "stream",
     "text": [
      "                                                                                \r"
     ]
    }
   ],
   "source": [
    "campaign_id = 'X-28-38-Nestle-Purina-Friskies-5days-sof'\n",
    "output_fin_report = f'{campaign_id}_fin_report.csv'\n",
    "output_main_report = f'{campaign_id}_main_report.csv'\n",
    "\n",
    "experiment_params = ExperimentParams(**{\n",
    "    # Camp wave id нужно записать в виде мапы из id в префиксы.\n",
    "    # Префиксы ни на что не влияют, просто для более красивого названия групп\n",
    "    # Заполняются camp_wave_id. Если для контроля и теста одинаковый, то пишем два раза\n",
    "    'map_camp_wave_ids_to_suffixes': {\n",
    "        80401: \"sms_viber_tg\",\n",
    "        80401: \"sms_viber_cg\"\n",
    "    },\n",
    "\n",
    "    # communication period with guest (sending sms, push, etc.)\n",
    "    'date_communication_from': '2022-01-21',\n",
    "    'date_communication_to': '2022-01-27',\n",
    "\n",
    "    'wave_ids': [\n",
    "        80512 #если нет, то -1\n",
    "    ],\n",
    "\n",
    "    'communication_costs': {\n",
    "        'sms': 1.38,\n",
    "        'viber': 1.32,\n",
    "        'email': 0.0083\n",
    "    }\n",
    "})\n",
    "\n",
    "post_analysis_params = PostAnalysisParams(**{\n",
    "    'spark': spark,\n",
    "    'date_from': '2022-01-21',\n",
    "    'date_to': '2022-01-27', #дата постпериода\n",
    "    'control_camp_wave_id': 80401,\n",
    "    'plu_list': list(map(str, [4125613, 4125614])),\n",
    "    'threshold_item_condition': 'plu_list', #есть категория еще\n",
    "    'count_for_plu_list': 2 #механика от 2-х штук\n",
    "})\n",
    "\n",
    "\n",
    "assert post_analysis_params.control_camp_wave_id in experiment_params.map_camp_wave_ids_to_suffixes.keys()"
   ]
  },
  {
   "cell_type": "code",
   "execution_count": 6,
   "id": "889257ff",
   "metadata": {
    "collapsed": false,
    "jupyter": {
     "outputs_hidden": false
    },
    "pycharm": {
     "name": "#%%\n"
    },
    "scrolled": true
   },
   "outputs": [],
   "source": [
    "experiment_guests = ExperimentParticipants(spark, experiment_params)\n",
    "experiment_guests_communications = experiment_guests.extract()"
   ]
  },
  {
   "cell_type": "code",
   "execution_count": 7,
   "id": "59ea3315",
   "metadata": {
    "collapsed": false,
    "jupyter": {
     "outputs_hidden": false
    },
    "pycharm": {
     "name": "#%%\n"
    },
    "scrolled": true
   },
   "outputs": [
    {
     "name": "stderr",
     "output_type": "stream",
     "text": [
      "                                                                                21]]]]]]\r"
     ]
    }
   ],
   "source": [
    "guest_metrics_preparation = GuestsMetricsPreprocessing(spark, experiment_guests_communications, post_analysis_params)\n",
    "experiment_guests_with_metrics = guest_metrics_preparation.evaluate()"
   ]
  },
  {
   "cell_type": "code",
   "execution_count": 8,
   "id": "3d0ad16e",
   "metadata": {
    "collapsed": false,
    "jupyter": {
     "outputs_hidden": false
    },
    "pycharm": {
     "name": "#%%\n"
    }
   },
   "outputs": [
    {
     "name": "stderr",
     "output_type": "stream",
     "text": [
      "/opt/conda/lib/python3.7/site-packages/pandas/core/indexing.py:1684: PerformanceWarning: DataFrame is highly fragmented.  This is usually the result of calling `frame.insert` many times, which has poor performance.  Consider joining all columns at once using pd.concat(axis=1) instead.  To get a de-fragmented frame, use `newframe = frame.copy()`\n",
      "  self.obj[key] = infer_fill_value(value)\n"
     ]
    }
   ],
   "source": [
    "groups_metrics_aggregation = GroupsMetricsAggregation(spark, experiment_guests_with_metrics, post_analysis_params)\n",
    "groups_metrics, map_to_effects_table = groups_metrics_aggregation.evaluate()"
   ]
  },
  {
   "cell_type": "code",
   "execution_count": 9,
   "id": "24d08d08",
   "metadata": {
    "collapsed": false,
    "jupyter": {
     "outputs_hidden": false
    },
    "pycharm": {
     "name": "#%%\n"
    }
   },
   "outputs": [
    {
     "data": {
      "text/html": [
       "<div>\n",
       "<style scoped>\n",
       "    .dataframe tbody tr th:only-of-type {\n",
       "        vertical-align: middle;\n",
       "    }\n",
       "\n",
       "    .dataframe tbody tr th {\n",
       "        vertical-align: top;\n",
       "    }\n",
       "\n",
       "    .dataframe thead th {\n",
       "        text-align: right;\n",
       "    }\n",
       "</style>\n",
       "<table border=\"1\" class=\"dataframe\">\n",
       "  <thead>\n",
       "    <tr style=\"text-align: right;\">\n",
       "      <th></th>\n",
       "      <th>Размер выборки, чел.</th>\n",
       "      <th>Затраты на коммуникацию и на баллы (сумма delta с учетом redemption), руб.</th>\n",
       "      <th>Затраты на коммуникацию, руб./гость</th>\n",
       "      <th>Затраты на коммуникацию, руб.</th>\n",
       "      <th>Софинансирование, руб./гость</th>\n",
       "      <th>Софинансирование, руб.</th>\n",
       "      <th>Покупка предложения(чек), товаров (шт)</th>\n",
       "      <th>Покупка предложения(категория), товаров (шт)</th>\n",
       "      <th>Покупка предложения(набор plu), товаров (шт)</th>\n",
       "      <th>Гостей, купившие что-нибудь</th>\n",
       "      <th>...</th>\n",
       "      <th>Эффект Ebitda софинансирование(чек) на группу, руб.</th>\n",
       "      <th>Эффект Ebitda софинансирование(чек) на группу / Ebitda софинансирование(чек) группы</th>\n",
       "      <th>Значимость Ebitda софинансирование(категория)</th>\n",
       "      <th>Эффект Ebitda софинансирование(категория) на гостя, руб.</th>\n",
       "      <th>Эффект Ebitda софинансирование(категория) на группу, руб.</th>\n",
       "      <th>Эффект Ebitda софинансирование(категория) на группу / Ebitda софинансирование(категория) группы</th>\n",
       "      <th>Значимость Ebitda софинансирование(набор plu)</th>\n",
       "      <th>Эффект Ebitda софинансирование(набор plu) на гостя, руб.</th>\n",
       "      <th>Эффект Ebitda софинансирование(набор plu) на группу, руб.</th>\n",
       "      <th>Эффект Ebitda софинансирование(набор plu) на группу / Ebitda софинансирование(набор plu) группы</th>\n",
       "    </tr>\n",
       "    <tr>\n",
       "      <th>group_name</th>\n",
       "      <th></th>\n",
       "      <th></th>\n",
       "      <th></th>\n",
       "      <th></th>\n",
       "      <th></th>\n",
       "      <th></th>\n",
       "      <th></th>\n",
       "      <th></th>\n",
       "      <th></th>\n",
       "      <th></th>\n",
       "      <th></th>\n",
       "      <th></th>\n",
       "      <th></th>\n",
       "      <th></th>\n",
       "      <th></th>\n",
       "      <th></th>\n",
       "      <th></th>\n",
       "      <th></th>\n",
       "      <th></th>\n",
       "      <th></th>\n",
       "      <th></th>\n",
       "    </tr>\n",
       "  </thead>\n",
       "  <tbody>\n",
       "    <tr>\n",
       "      <th>1_80401_sms_viber_cg</th>\n",
       "      <td>16000</td>\n",
       "      <td>-8,605.17</td>\n",
       "      <td>0.00</td>\n",
       "      <td>0.00</td>\n",
       "      <td>0.00</td>\n",
       "      <td>0.00</td>\n",
       "      <td>408,772.75</td>\n",
       "      <td>43,819.00</td>\n",
       "      <td>31.00</td>\n",
       "      <td>13813</td>\n",
       "      <td>...</td>\n",
       "      <td>NaN</td>\n",
       "      <td>NaN</td>\n",
       "      <td>NaN</td>\n",
       "      <td>NaN</td>\n",
       "      <td>NaN</td>\n",
       "      <td>NaN</td>\n",
       "      <td>NaN</td>\n",
       "      <td>NaN</td>\n",
       "      <td>NaN</td>\n",
       "      <td>NaN</td>\n",
       "    </tr>\n",
       "    <tr>\n",
       "      <th>0_80401_sms_viber_cg</th>\n",
       "      <td>64997</td>\n",
       "      <td>29,222.67</td>\n",
       "      <td>1.36</td>\n",
       "      <td>88,573.98</td>\n",
       "      <td>1.39</td>\n",
       "      <td>90,144.00</td>\n",
       "      <td>1,644,172.33</td>\n",
       "      <td>177,917.00</td>\n",
       "      <td>337.00</td>\n",
       "      <td>55912</td>\n",
       "      <td>...</td>\n",
       "      <td>-252,485.00</td>\n",
       "      <td>-0.01</td>\n",
       "      <td>0.00</td>\n",
       "      <td>0.33</td>\n",
       "      <td>21,688.00</td>\n",
       "      <td>0.19</td>\n",
       "      <td>0.00</td>\n",
       "      <td>0.46</td>\n",
       "      <td>29,636.00</td>\n",
       "      <td>0.48</td>\n",
       "    </tr>\n",
       "  </tbody>\n",
       "</table>\n",
       "<p>2 rows × 103 columns</p>\n",
       "</div>"
      ],
      "text/plain": [
       "                      Размер выборки, чел.  \\\n",
       "group_name                                   \n",
       "1_80401_sms_viber_cg                 16000   \n",
       "0_80401_sms_viber_cg                 64997   \n",
       "\n",
       "                      Затраты на коммуникацию и на баллы (сумма delta с учетом redemption), руб.  \\\n",
       "group_name                                                                                         \n",
       "1_80401_sms_viber_cg                                          -8,605.17                            \n",
       "0_80401_sms_viber_cg                                          29,222.67                            \n",
       "\n",
       "                      Затраты на коммуникацию, руб./гость  \\\n",
       "group_name                                                  \n",
       "1_80401_sms_viber_cg                                 0.00   \n",
       "0_80401_sms_viber_cg                                 1.36   \n",
       "\n",
       "                      Затраты на коммуникацию, руб.  \\\n",
       "group_name                                            \n",
       "1_80401_sms_viber_cg                           0.00   \n",
       "0_80401_sms_viber_cg                      88,573.98   \n",
       "\n",
       "                      Софинансирование, руб./гость  Софинансирование, руб.  \\\n",
       "group_name                                                                   \n",
       "1_80401_sms_viber_cg                          0.00                    0.00   \n",
       "0_80401_sms_viber_cg                          1.39               90,144.00   \n",
       "\n",
       "                      Покупка предложения(чек), товаров (шт)  \\\n",
       "group_name                                                     \n",
       "1_80401_sms_viber_cg                              408,772.75   \n",
       "0_80401_sms_viber_cg                            1,644,172.33   \n",
       "\n",
       "                      Покупка предложения(категория), товаров (шт)  \\\n",
       "group_name                                                           \n",
       "1_80401_sms_viber_cg                                     43,819.00   \n",
       "0_80401_sms_viber_cg                                    177,917.00   \n",
       "\n",
       "                      Покупка предложения(набор plu), товаров (шт)  \\\n",
       "group_name                                                           \n",
       "1_80401_sms_viber_cg                                         31.00   \n",
       "0_80401_sms_viber_cg                                        337.00   \n",
       "\n",
       "                      Гостей, купившие что-нибудь  ...  \\\n",
       "group_name                                         ...   \n",
       "1_80401_sms_viber_cg                        13813  ...   \n",
       "0_80401_sms_viber_cg                        55912  ...   \n",
       "\n",
       "                      Эффект Ebitda софинансирование(чек) на группу, руб.  \\\n",
       "group_name                                                                  \n",
       "1_80401_sms_viber_cg                                                NaN     \n",
       "0_80401_sms_viber_cg                                        -252,485.00     \n",
       "\n",
       "                      Эффект Ebitda софинансирование(чек) на группу / Ebitda софинансирование(чек) группы  \\\n",
       "group_name                                                                                                  \n",
       "1_80401_sms_viber_cg                                                NaN                                     \n",
       "0_80401_sms_viber_cg                                              -0.01                                     \n",
       "\n",
       "                      Значимость Ebitda софинансирование(категория)  \\\n",
       "group_name                                                            \n",
       "1_80401_sms_viber_cg                                            NaN   \n",
       "0_80401_sms_viber_cg                                           0.00   \n",
       "\n",
       "                      Эффект Ebitda софинансирование(категория) на гостя, руб.  \\\n",
       "group_name                                                                       \n",
       "1_80401_sms_viber_cg                                                NaN          \n",
       "0_80401_sms_viber_cg                                               0.33          \n",
       "\n",
       "                      Эффект Ebitda софинансирование(категория) на группу, руб.  \\\n",
       "group_name                                                                        \n",
       "1_80401_sms_viber_cg                                                NaN           \n",
       "0_80401_sms_viber_cg                                          21,688.00           \n",
       "\n",
       "                      Эффект Ebitda софинансирование(категория) на группу / Ebitda софинансирование(категория) группы  \\\n",
       "group_name                                                                                                              \n",
       "1_80401_sms_viber_cg                                                NaN                                                 \n",
       "0_80401_sms_viber_cg                                               0.19                                                 \n",
       "\n",
       "                      Значимость Ebitda софинансирование(набор plu)  \\\n",
       "group_name                                                            \n",
       "1_80401_sms_viber_cg                                            NaN   \n",
       "0_80401_sms_viber_cg                                           0.00   \n",
       "\n",
       "                      Эффект Ebitda софинансирование(набор plu) на гостя, руб.  \\\n",
       "group_name                                                                       \n",
       "1_80401_sms_viber_cg                                                NaN          \n",
       "0_80401_sms_viber_cg                                               0.46          \n",
       "\n",
       "                      Эффект Ebitda софинансирование(набор plu) на группу, руб.  \\\n",
       "group_name                                                                        \n",
       "1_80401_sms_viber_cg                                                NaN           \n",
       "0_80401_sms_viber_cg                                          29,636.00           \n",
       "\n",
       "                      Эффект Ebitda софинансирование(набор plu) на группу / Ebitda софинансирование(набор plu) группы  \n",
       "group_name                                                                                                             \n",
       "1_80401_sms_viber_cg                                                NaN                                                \n",
       "0_80401_sms_viber_cg                                               0.48                                                \n",
       "\n",
       "[2 rows x 103 columns]"
      ]
     },
     "execution_count": 9,
     "metadata": {},
     "output_type": "execute_result"
    }
   ],
   "source": [
    "fin_report = map_col_names_to_russian(groups_metrics)\n",
    "fin_report"
   ]
  },
  {
   "cell_type": "code",
   "execution_count": 10,
   "id": "08064852",
   "metadata": {
    "collapsed": false,
    "jupyter": {
     "outputs_hidden": false
    },
    "pycharm": {
     "name": "#%%\n"
    },
    "scrolled": true
   },
   "outputs": [],
   "source": [
    "fin_report['meta_post_analysis'] = str(post_analysis_params.__dict__)\n",
    "fin_report['meta_experiment_params'] = str(experiment_params.__dict__)\n",
    "groups_metrics['meta_post_analysis'] = str(post_analysis_params.__dict__)\n",
    "groups_metrics['meta_experiment_params'] = str(experiment_params.__dict__)\n",
    "\n",
    "groups_metrics.T.to_csv(output_main_report, encoding='utf-8-sig', sep=';')\n",
    "fin_report.T.to_csv(output_fin_report, encoding='utf-8-sig', sep=';')"
   ]
  },
  {
   "cell_type": "markdown",
   "id": "707be260",
   "metadata": {},
   "source": [
    "### X-28-39-Nestle-Purina-Friskies-10days-sof"
   ]
  },
  {
   "cell_type": "code",
   "execution_count": 11,
   "id": "fa06c833",
   "metadata": {
    "collapsed": false,
    "jupyter": {
     "outputs_hidden": false
    },
    "pycharm": {
     "name": "#%%\n"
    }
   },
   "outputs": [
    {
     "name": "stderr",
     "output_type": "stream",
     "text": [
      "                                                                                \r"
     ]
    }
   ],
   "source": [
    "campaign_id = 'X-28-39-Nestle-Purina-Friskies-10days-sof'\n",
    "output_fin_report = f'{campaign_id}_fin_report.csv'\n",
    "output_main_report = f'{campaign_id}_main_report.csv'\n",
    "\n",
    "experiment_params = ExperimentParams(**{\n",
    "    # Camp wave id нужно записать в виде мапы из id в префиксы.\n",
    "    # Префиксы ни на что не влияют, просто для более красивого названия групп\n",
    "    # Заполняются camp_wave_id. Если для контроля и теста одинаковый, то пишем два раза\n",
    "    'map_camp_wave_ids_to_suffixes': {\n",
    "        80410: \"sms_viber_tg\",\n",
    "        80410: \"sms_viber_cg\"\n",
    "    },\n",
    "\n",
    "    # communication period with guest (sending sms, push, etc.)\n",
    "    'date_communication_from': '2022-01-21',\n",
    "    'date_communication_to': '2022-01-27',\n",
    "\n",
    "    'wave_ids': [\n",
    "        80516 #если нет, то -1\n",
    "    ],\n",
    "\n",
    "    'communication_costs': {\n",
    "        'sms': 1.38,\n",
    "        'viber': 1.32,\n",
    "        'email': 0.0083\n",
    "    }\n",
    "})\n",
    "\n",
    "post_analysis_params = PostAnalysisParams(**{\n",
    "    'spark': spark,\n",
    "    'date_from': '2022-01-21',\n",
    "    'date_to': '2022-01-27', #дата постпериода\n",
    "    'control_camp_wave_id': 80410,\n",
    "    'plu_list': list(map(str, [4125613, 4125614])),\n",
    "    'threshold_item_condition': 'plu_list', #есть категория еще\n",
    "    'count_for_plu_list': 2 #механика от 2-х штук\n",
    "})\n",
    "\n",
    "\n",
    "assert post_analysis_params.control_camp_wave_id in experiment_params.map_camp_wave_ids_to_suffixes.keys()"
   ]
  },
  {
   "cell_type": "code",
   "execution_count": 12,
   "id": "e870e4e2",
   "metadata": {
    "collapsed": false,
    "jupyter": {
     "outputs_hidden": false
    },
    "pycharm": {
     "name": "#%%\n"
    },
    "scrolled": true
   },
   "outputs": [],
   "source": [
    "experiment_guests = ExperimentParticipants(spark, experiment_params)\n",
    "experiment_guests_communications = experiment_guests.extract()"
   ]
  },
  {
   "cell_type": "code",
   "execution_count": 13,
   "id": "37fbfd9f",
   "metadata": {
    "collapsed": false,
    "jupyter": {
     "outputs_hidden": false
    },
    "pycharm": {
     "name": "#%%\n"
    },
    "scrolled": true
   },
   "outputs": [
    {
     "name": "stderr",
     "output_type": "stream",
     "text": [
      "                                                                                0]]]]]]]]]\r"
     ]
    }
   ],
   "source": [
    "guest_metrics_preparation = GuestsMetricsPreprocessing(spark, experiment_guests_communications, post_analysis_params)\n",
    "experiment_guests_with_metrics = guest_metrics_preparation.evaluate()"
   ]
  },
  {
   "cell_type": "code",
   "execution_count": 14,
   "id": "0c720e67",
   "metadata": {
    "collapsed": false,
    "jupyter": {
     "outputs_hidden": false
    },
    "pycharm": {
     "name": "#%%\n"
    }
   },
   "outputs": [
    {
     "name": "stderr",
     "output_type": "stream",
     "text": [
      "/opt/conda/lib/python3.7/site-packages/pandas/core/indexing.py:1684: PerformanceWarning: DataFrame is highly fragmented.  This is usually the result of calling `frame.insert` many times, which has poor performance.  Consider joining all columns at once using pd.concat(axis=1) instead.  To get a de-fragmented frame, use `newframe = frame.copy()`\n",
      "  self.obj[key] = infer_fill_value(value)\n"
     ]
    }
   ],
   "source": [
    "groups_metrics_aggregation = GroupsMetricsAggregation(spark, experiment_guests_with_metrics, post_analysis_params)\n",
    "groups_metrics, map_to_effects_table = groups_metrics_aggregation.evaluate()"
   ]
  },
  {
   "cell_type": "code",
   "execution_count": 15,
   "id": "5fd79442",
   "metadata": {
    "collapsed": false,
    "jupyter": {
     "outputs_hidden": false
    },
    "pycharm": {
     "name": "#%%\n"
    }
   },
   "outputs": [
    {
     "data": {
      "text/html": [
       "<div>\n",
       "<style scoped>\n",
       "    .dataframe tbody tr th:only-of-type {\n",
       "        vertical-align: middle;\n",
       "    }\n",
       "\n",
       "    .dataframe tbody tr th {\n",
       "        vertical-align: top;\n",
       "    }\n",
       "\n",
       "    .dataframe thead th {\n",
       "        text-align: right;\n",
       "    }\n",
       "</style>\n",
       "<table border=\"1\" class=\"dataframe\">\n",
       "  <thead>\n",
       "    <tr style=\"text-align: right;\">\n",
       "      <th></th>\n",
       "      <th>Размер выборки, чел.</th>\n",
       "      <th>Затраты на коммуникацию и на баллы (сумма delta с учетом redemption), руб.</th>\n",
       "      <th>Затраты на коммуникацию, руб./гость</th>\n",
       "      <th>Затраты на коммуникацию, руб.</th>\n",
       "      <th>Софинансирование, руб./гость</th>\n",
       "      <th>Софинансирование, руб.</th>\n",
       "      <th>Покупка предложения(чек), товаров (шт)</th>\n",
       "      <th>Покупка предложения(категория), товаров (шт)</th>\n",
       "      <th>Покупка предложения(набор plu), товаров (шт)</th>\n",
       "      <th>Гостей, купившие что-нибудь</th>\n",
       "      <th>...</th>\n",
       "      <th>Эффект Ebitda софинансирование(чек) на группу, руб.</th>\n",
       "      <th>Эффект Ebitda софинансирование(чек) на группу / Ebitda софинансирование(чек) группы</th>\n",
       "      <th>Значимость Ebitda софинансирование(категория)</th>\n",
       "      <th>Эффект Ebitda софинансирование(категория) на гостя, руб.</th>\n",
       "      <th>Эффект Ebitda софинансирование(категория) на группу, руб.</th>\n",
       "      <th>Эффект Ebitda софинансирование(категория) на группу / Ebitda софинансирование(категория) группы</th>\n",
       "      <th>Значимость Ebitda софинансирование(набор plu)</th>\n",
       "      <th>Эффект Ebitda софинансирование(набор plu) на гостя, руб.</th>\n",
       "      <th>Эффект Ebitda софинансирование(набор plu) на группу, руб.</th>\n",
       "      <th>Эффект Ebitda софинансирование(набор plu) на группу / Ebitda софинансирование(набор plu) группы</th>\n",
       "    </tr>\n",
       "    <tr>\n",
       "      <th>group_name</th>\n",
       "      <th></th>\n",
       "      <th></th>\n",
       "      <th></th>\n",
       "      <th></th>\n",
       "      <th></th>\n",
       "      <th></th>\n",
       "      <th></th>\n",
       "      <th></th>\n",
       "      <th></th>\n",
       "      <th></th>\n",
       "      <th></th>\n",
       "      <th></th>\n",
       "      <th></th>\n",
       "      <th></th>\n",
       "      <th></th>\n",
       "      <th></th>\n",
       "      <th></th>\n",
       "      <th></th>\n",
       "      <th></th>\n",
       "      <th></th>\n",
       "      <th></th>\n",
       "    </tr>\n",
       "  </thead>\n",
       "  <tbody>\n",
       "    <tr>\n",
       "      <th>0_80410_sms_viber_cg</th>\n",
       "      <td>64992</td>\n",
       "      <td>46,001.56</td>\n",
       "      <td>1.36</td>\n",
       "      <td>88,566.48</td>\n",
       "      <td>1.39</td>\n",
       "      <td>90,040.50</td>\n",
       "      <td>1,661,415.55</td>\n",
       "      <td>183,048.00</td>\n",
       "      <td>222.00</td>\n",
       "      <td>56218</td>\n",
       "      <td>...</td>\n",
       "      <td>-231,200.00</td>\n",
       "      <td>-0.01</td>\n",
       "      <td>0.00</td>\n",
       "      <td>-0.18</td>\n",
       "      <td>-11,979.00</td>\n",
       "      <td>-0.10</td>\n",
       "      <td>0.00</td>\n",
       "      <td>-0.51</td>\n",
       "      <td>-32,792.00</td>\n",
       "      <td>-0.74</td>\n",
       "    </tr>\n",
       "    <tr>\n",
       "      <th>1_80410_sms_viber_cg</th>\n",
       "      <td>16000</td>\n",
       "      <td>-19,905.51</td>\n",
       "      <td>0.00</td>\n",
       "      <td>0.00</td>\n",
       "      <td>0.00</td>\n",
       "      <td>0.00</td>\n",
       "      <td>407,116.67</td>\n",
       "      <td>43,660.00</td>\n",
       "      <td>32.00</td>\n",
       "      <td>13846</td>\n",
       "      <td>...</td>\n",
       "      <td>NaN</td>\n",
       "      <td>NaN</td>\n",
       "      <td>NaN</td>\n",
       "      <td>NaN</td>\n",
       "      <td>NaN</td>\n",
       "      <td>NaN</td>\n",
       "      <td>NaN</td>\n",
       "      <td>NaN</td>\n",
       "      <td>NaN</td>\n",
       "      <td>NaN</td>\n",
       "    </tr>\n",
       "  </tbody>\n",
       "</table>\n",
       "<p>2 rows × 103 columns</p>\n",
       "</div>"
      ],
      "text/plain": [
       "                      Размер выборки, чел.  \\\n",
       "group_name                                   \n",
       "0_80410_sms_viber_cg                 64992   \n",
       "1_80410_sms_viber_cg                 16000   \n",
       "\n",
       "                      Затраты на коммуникацию и на баллы (сумма delta с учетом redemption), руб.  \\\n",
       "group_name                                                                                         \n",
       "0_80410_sms_viber_cg                                          46,001.56                            \n",
       "1_80410_sms_viber_cg                                         -19,905.51                            \n",
       "\n",
       "                      Затраты на коммуникацию, руб./гость  \\\n",
       "group_name                                                  \n",
       "0_80410_sms_viber_cg                                 1.36   \n",
       "1_80410_sms_viber_cg                                 0.00   \n",
       "\n",
       "                      Затраты на коммуникацию, руб.  \\\n",
       "group_name                                            \n",
       "0_80410_sms_viber_cg                      88,566.48   \n",
       "1_80410_sms_viber_cg                           0.00   \n",
       "\n",
       "                      Софинансирование, руб./гость  Софинансирование, руб.  \\\n",
       "group_name                                                                   \n",
       "0_80410_sms_viber_cg                          1.39               90,040.50   \n",
       "1_80410_sms_viber_cg                          0.00                    0.00   \n",
       "\n",
       "                      Покупка предложения(чек), товаров (шт)  \\\n",
       "group_name                                                     \n",
       "0_80410_sms_viber_cg                            1,661,415.55   \n",
       "1_80410_sms_viber_cg                              407,116.67   \n",
       "\n",
       "                      Покупка предложения(категория), товаров (шт)  \\\n",
       "group_name                                                           \n",
       "0_80410_sms_viber_cg                                    183,048.00   \n",
       "1_80410_sms_viber_cg                                     43,660.00   \n",
       "\n",
       "                      Покупка предложения(набор plu), товаров (шт)  \\\n",
       "group_name                                                           \n",
       "0_80410_sms_viber_cg                                        222.00   \n",
       "1_80410_sms_viber_cg                                         32.00   \n",
       "\n",
       "                      Гостей, купившие что-нибудь  ...  \\\n",
       "group_name                                         ...   \n",
       "0_80410_sms_viber_cg                        56218  ...   \n",
       "1_80410_sms_viber_cg                        13846  ...   \n",
       "\n",
       "                      Эффект Ebitda софинансирование(чек) на группу, руб.  \\\n",
       "group_name                                                                  \n",
       "0_80410_sms_viber_cg                                        -231,200.00     \n",
       "1_80410_sms_viber_cg                                                NaN     \n",
       "\n",
       "                      Эффект Ebitda софинансирование(чек) на группу / Ebitda софинансирование(чек) группы  \\\n",
       "group_name                                                                                                  \n",
       "0_80410_sms_viber_cg                                              -0.01                                     \n",
       "1_80410_sms_viber_cg                                                NaN                                     \n",
       "\n",
       "                      Значимость Ebitda софинансирование(категория)  \\\n",
       "group_name                                                            \n",
       "0_80410_sms_viber_cg                                           0.00   \n",
       "1_80410_sms_viber_cg                                            NaN   \n",
       "\n",
       "                      Эффект Ebitda софинансирование(категория) на гостя, руб.  \\\n",
       "group_name                                                                       \n",
       "0_80410_sms_viber_cg                                              -0.18          \n",
       "1_80410_sms_viber_cg                                                NaN          \n",
       "\n",
       "                      Эффект Ebitda софинансирование(категория) на группу, руб.  \\\n",
       "group_name                                                                        \n",
       "0_80410_sms_viber_cg                                         -11,979.00           \n",
       "1_80410_sms_viber_cg                                                NaN           \n",
       "\n",
       "                      Эффект Ebitda софинансирование(категория) на группу / Ebitda софинансирование(категория) группы  \\\n",
       "group_name                                                                                                              \n",
       "0_80410_sms_viber_cg                                              -0.10                                                 \n",
       "1_80410_sms_viber_cg                                                NaN                                                 \n",
       "\n",
       "                      Значимость Ebitda софинансирование(набор plu)  \\\n",
       "group_name                                                            \n",
       "0_80410_sms_viber_cg                                           0.00   \n",
       "1_80410_sms_viber_cg                                            NaN   \n",
       "\n",
       "                      Эффект Ebitda софинансирование(набор plu) на гостя, руб.  \\\n",
       "group_name                                                                       \n",
       "0_80410_sms_viber_cg                                              -0.51          \n",
       "1_80410_sms_viber_cg                                                NaN          \n",
       "\n",
       "                      Эффект Ebitda софинансирование(набор plu) на группу, руб.  \\\n",
       "group_name                                                                        \n",
       "0_80410_sms_viber_cg                                         -32,792.00           \n",
       "1_80410_sms_viber_cg                                                NaN           \n",
       "\n",
       "                      Эффект Ebitda софинансирование(набор plu) на группу / Ebitda софинансирование(набор plu) группы  \n",
       "group_name                                                                                                             \n",
       "0_80410_sms_viber_cg                                              -0.74                                                \n",
       "1_80410_sms_viber_cg                                                NaN                                                \n",
       "\n",
       "[2 rows x 103 columns]"
      ]
     },
     "execution_count": 15,
     "metadata": {},
     "output_type": "execute_result"
    }
   ],
   "source": [
    "fin_report = map_col_names_to_russian(groups_metrics)\n",
    "fin_report"
   ]
  },
  {
   "cell_type": "code",
   "execution_count": 16,
   "id": "bab12466",
   "metadata": {
    "collapsed": false,
    "jupyter": {
     "outputs_hidden": false
    },
    "pycharm": {
     "name": "#%%\n"
    },
    "scrolled": true
   },
   "outputs": [],
   "source": [
    "fin_report['meta_post_analysis'] = str(post_analysis_params.__dict__)\n",
    "fin_report['meta_experiment_params'] = str(experiment_params.__dict__)\n",
    "groups_metrics['meta_post_analysis'] = str(post_analysis_params.__dict__)\n",
    "groups_metrics['meta_experiment_params'] = str(experiment_params.__dict__)\n",
    "\n",
    "groups_metrics.T.to_csv(output_main_report, encoding='utf-8-sig', sep=';')\n",
    "fin_report.T.to_csv(output_fin_report, encoding='utf-8-sig', sep=';')"
   ]
  },
  {
   "cell_type": "markdown",
   "id": "4bc7aa03",
   "metadata": {},
   "source": [
    "### U-28-Purina-Friskies-21.01-postavschik"
   ]
  },
  {
   "cell_type": "code",
   "execution_count": 17,
   "id": "2f9d6f41",
   "metadata": {
    "collapsed": false,
    "jupyter": {
     "outputs_hidden": false
    },
    "pycharm": {
     "name": "#%%\n"
    }
   },
   "outputs": [
    {
     "name": "stderr",
     "output_type": "stream",
     "text": [
      "                                                                                \r"
     ]
    }
   ],
   "source": [
    "campaign_id = 'U-28-Purina-Friskies-21.01-postavschik'\n",
    "output_fin_report = f'{campaign_id}_fin_report.csv'\n",
    "output_main_report = f'{campaign_id}_main_report.csv'\n",
    "\n",
    "experiment_params = ExperimentParams(**{\n",
    "    # Camp wave id нужно записать в виде мапы из id в префиксы.\n",
    "    # Префиксы ни на что не влияют, просто для более красивого названия групп\n",
    "    # Заполняются camp_wave_id. Если для контроля и теста одинаковый, то пишем два раза\n",
    "    'map_camp_wave_ids_to_suffixes': {\n",
    "        80359: \"sms_viber_tg\",\n",
    "        80380: \"sms_viber_cg\"\n",
    "    },\n",
    "\n",
    "    # communication period with guest (sending sms, push, etc.)\n",
    "    'date_communication_from': '2022-01-21',\n",
    "    'date_communication_to': '2022-01-27',\n",
    "\n",
    "    'wave_ids': [\n",
    "        80483 #если нет, то -1\n",
    "    ],\n",
    "\n",
    "    'communication_costs': {\n",
    "        'sms': 1.38,\n",
    "        'viber': 1.32,\n",
    "        'email': 0.0083\n",
    "    }\n",
    "})\n",
    "\n",
    "post_analysis_params = PostAnalysisParams(**{\n",
    "    'spark': spark,\n",
    "    'date_from': '2022-01-21',\n",
    "    'date_to': '2022-01-27', #дата постпериода\n",
    "    'control_camp_wave_id': 80380,\n",
    "    'plu_list': list(map(str, [4125613, 4125614])),\n",
    "    'threshold_item_condition': 'plu_list', #есть категория еще\n",
    "    'count_for_plu_list': 2 #механика от 2-х штук\n",
    "})\n",
    "\n",
    "\n",
    "assert post_analysis_params.control_camp_wave_id in experiment_params.map_camp_wave_ids_to_suffixes.keys()"
   ]
  },
  {
   "cell_type": "code",
   "execution_count": 18,
   "id": "cfde34e3",
   "metadata": {
    "collapsed": false,
    "jupyter": {
     "outputs_hidden": false
    },
    "pycharm": {
     "name": "#%%\n"
    },
    "scrolled": true
   },
   "outputs": [],
   "source": [
    "experiment_guests = ExperimentParticipants(spark, experiment_params)\n",
    "experiment_guests_communications = experiment_guests.extract()"
   ]
  },
  {
   "cell_type": "code",
   "execution_count": 19,
   "id": "dc7771f6",
   "metadata": {
    "collapsed": false,
    "jupyter": {
     "outputs_hidden": false
    },
    "pycharm": {
     "name": "#%%\n"
    },
    "scrolled": true
   },
   "outputs": [
    {
     "name": "stderr",
     "output_type": "stream",
     "text": [
      "                                                                                221]]]]]]]]\r"
     ]
    }
   ],
   "source": [
    "guest_metrics_preparation = GuestsMetricsPreprocessing(spark, experiment_guests_communications, post_analysis_params)\n",
    "experiment_guests_with_metrics = guest_metrics_preparation.evaluate()"
   ]
  },
  {
   "cell_type": "code",
   "execution_count": 20,
   "id": "3cc4512e",
   "metadata": {
    "collapsed": false,
    "jupyter": {
     "outputs_hidden": false
    },
    "pycharm": {
     "name": "#%%\n"
    }
   },
   "outputs": [
    {
     "name": "stderr",
     "output_type": "stream",
     "text": [
      "/opt/conda/lib/python3.7/site-packages/pandas/core/indexing.py:1684: PerformanceWarning: DataFrame is highly fragmented.  This is usually the result of calling `frame.insert` many times, which has poor performance.  Consider joining all columns at once using pd.concat(axis=1) instead.  To get a de-fragmented frame, use `newframe = frame.copy()`\n",
      "  self.obj[key] = infer_fill_value(value)\n"
     ]
    }
   ],
   "source": [
    "groups_metrics_aggregation = GroupsMetricsAggregation(spark, experiment_guests_with_metrics, post_analysis_params)\n",
    "groups_metrics, map_to_effects_table = groups_metrics_aggregation.evaluate()"
   ]
  },
  {
   "cell_type": "code",
   "execution_count": 21,
   "id": "623d7451",
   "metadata": {
    "collapsed": false,
    "jupyter": {
     "outputs_hidden": false
    },
    "pycharm": {
     "name": "#%%\n"
    }
   },
   "outputs": [
    {
     "data": {
      "text/html": [
       "<div>\n",
       "<style scoped>\n",
       "    .dataframe tbody tr th:only-of-type {\n",
       "        vertical-align: middle;\n",
       "    }\n",
       "\n",
       "    .dataframe tbody tr th {\n",
       "        vertical-align: top;\n",
       "    }\n",
       "\n",
       "    .dataframe thead th {\n",
       "        text-align: right;\n",
       "    }\n",
       "</style>\n",
       "<table border=\"1\" class=\"dataframe\">\n",
       "  <thead>\n",
       "    <tr style=\"text-align: right;\">\n",
       "      <th></th>\n",
       "      <th>Размер выборки, чел.</th>\n",
       "      <th>Затраты на коммуникацию и на баллы (сумма delta с учетом redemption), руб.</th>\n",
       "      <th>Затраты на коммуникацию, руб./гость</th>\n",
       "      <th>Затраты на коммуникацию, руб.</th>\n",
       "      <th>Софинансирование, руб./гость</th>\n",
       "      <th>Софинансирование, руб.</th>\n",
       "      <th>Покупка предложения(чек), товаров (шт)</th>\n",
       "      <th>Покупка предложения(категория), товаров (шт)</th>\n",
       "      <th>Покупка предложения(набор plu), товаров (шт)</th>\n",
       "      <th>Гостей, купившие что-нибудь</th>\n",
       "      <th>...</th>\n",
       "      <th>Эффект Ebitda софинансирование(чек) на группу, руб.</th>\n",
       "      <th>Эффект Ebitda софинансирование(чек) на группу / Ebitda софинансирование(чек) группы</th>\n",
       "      <th>Значимость Ebitda софинансирование(категория)</th>\n",
       "      <th>Эффект Ebitda софинансирование(категория) на гостя, руб.</th>\n",
       "      <th>Эффект Ebitda софинансирование(категория) на группу, руб.</th>\n",
       "      <th>Эффект Ebitda софинансирование(категория) на группу / Ebitda софинансирование(категория) группы</th>\n",
       "      <th>Значимость Ebitda софинансирование(набор plu)</th>\n",
       "      <th>Эффект Ebitda софинансирование(набор plu) на гостя, руб.</th>\n",
       "      <th>Эффект Ebitda софинансирование(набор plu) на группу, руб.</th>\n",
       "      <th>Эффект Ebitda софинансирование(набор plu) на группу / Ebitda софинансирование(набор plu) группы</th>\n",
       "    </tr>\n",
       "    <tr>\n",
       "      <th>group_name</th>\n",
       "      <th></th>\n",
       "      <th></th>\n",
       "      <th></th>\n",
       "      <th></th>\n",
       "      <th></th>\n",
       "      <th></th>\n",
       "      <th></th>\n",
       "      <th></th>\n",
       "      <th></th>\n",
       "      <th></th>\n",
       "      <th></th>\n",
       "      <th></th>\n",
       "      <th></th>\n",
       "      <th></th>\n",
       "      <th></th>\n",
       "      <th></th>\n",
       "      <th></th>\n",
       "      <th></th>\n",
       "      <th></th>\n",
       "      <th></th>\n",
       "      <th></th>\n",
       "    </tr>\n",
       "  </thead>\n",
       "  <tbody>\n",
       "    <tr>\n",
       "      <th>0_80359_sms_viber_tg</th>\n",
       "      <td>254819</td>\n",
       "      <td>6,220.63</td>\n",
       "      <td>1.36</td>\n",
       "      <td>346,182.96</td>\n",
       "      <td>1.45</td>\n",
       "      <td>370,221.00</td>\n",
       "      <td>5,873,463.89</td>\n",
       "      <td>639,283.00</td>\n",
       "      <td>1,896.00</td>\n",
       "      <td>215477</td>\n",
       "      <td>...</td>\n",
       "      <td>-5,669,820.00</td>\n",
       "      <td>-0.07</td>\n",
       "      <td>0.00</td>\n",
       "      <td>0.06</td>\n",
       "      <td>15,304.00</td>\n",
       "      <td>0.02</td>\n",
       "      <td>0.00</td>\n",
       "      <td>0.20</td>\n",
       "      <td>49,881.00</td>\n",
       "      <td>0.14</td>\n",
       "    </tr>\n",
       "    <tr>\n",
       "      <th>0_80380_sms_viber_cg</th>\n",
       "      <td>46232</td>\n",
       "      <td>-59,869.22</td>\n",
       "      <td>0.00</td>\n",
       "      <td>0.00</td>\n",
       "      <td>0.00</td>\n",
       "      <td>0.00</td>\n",
       "      <td>1,117,576.06</td>\n",
       "      <td>118,331.00</td>\n",
       "      <td>221.00</td>\n",
       "      <td>39223</td>\n",
       "      <td>...</td>\n",
       "      <td>NaN</td>\n",
       "      <td>NaN</td>\n",
       "      <td>NaN</td>\n",
       "      <td>NaN</td>\n",
       "      <td>NaN</td>\n",
       "      <td>NaN</td>\n",
       "      <td>NaN</td>\n",
       "      <td>NaN</td>\n",
       "      <td>NaN</td>\n",
       "      <td>NaN</td>\n",
       "    </tr>\n",
       "  </tbody>\n",
       "</table>\n",
       "<p>2 rows × 103 columns</p>\n",
       "</div>"
      ],
      "text/plain": [
       "                      Размер выборки, чел.  \\\n",
       "group_name                                   \n",
       "0_80359_sms_viber_tg                254819   \n",
       "0_80380_sms_viber_cg                 46232   \n",
       "\n",
       "                      Затраты на коммуникацию и на баллы (сумма delta с учетом redemption), руб.  \\\n",
       "group_name                                                                                         \n",
       "0_80359_sms_viber_tg                                           6,220.63                            \n",
       "0_80380_sms_viber_cg                                         -59,869.22                            \n",
       "\n",
       "                      Затраты на коммуникацию, руб./гость  \\\n",
       "group_name                                                  \n",
       "0_80359_sms_viber_tg                                 1.36   \n",
       "0_80380_sms_viber_cg                                 0.00   \n",
       "\n",
       "                      Затраты на коммуникацию, руб.  \\\n",
       "group_name                                            \n",
       "0_80359_sms_viber_tg                     346,182.96   \n",
       "0_80380_sms_viber_cg                           0.00   \n",
       "\n",
       "                      Софинансирование, руб./гость  Софинансирование, руб.  \\\n",
       "group_name                                                                   \n",
       "0_80359_sms_viber_tg                          1.45              370,221.00   \n",
       "0_80380_sms_viber_cg                          0.00                    0.00   \n",
       "\n",
       "                      Покупка предложения(чек), товаров (шт)  \\\n",
       "group_name                                                     \n",
       "0_80359_sms_viber_tg                            5,873,463.89   \n",
       "0_80380_sms_viber_cg                            1,117,576.06   \n",
       "\n",
       "                      Покупка предложения(категория), товаров (шт)  \\\n",
       "group_name                                                           \n",
       "0_80359_sms_viber_tg                                    639,283.00   \n",
       "0_80380_sms_viber_cg                                    118,331.00   \n",
       "\n",
       "                      Покупка предложения(набор plu), товаров (шт)  \\\n",
       "group_name                                                           \n",
       "0_80359_sms_viber_tg                                      1,896.00   \n",
       "0_80380_sms_viber_cg                                        221.00   \n",
       "\n",
       "                      Гостей, купившие что-нибудь  ...  \\\n",
       "group_name                                         ...   \n",
       "0_80359_sms_viber_tg                       215477  ...   \n",
       "0_80380_sms_viber_cg                        39223  ...   \n",
       "\n",
       "                      Эффект Ebitda софинансирование(чек) на группу, руб.  \\\n",
       "group_name                                                                  \n",
       "0_80359_sms_viber_tg                                      -5,669,820.00     \n",
       "0_80380_sms_viber_cg                                                NaN     \n",
       "\n",
       "                      Эффект Ebitda софинансирование(чек) на группу / Ebitda софинансирование(чек) группы  \\\n",
       "group_name                                                                                                  \n",
       "0_80359_sms_viber_tg                                              -0.07                                     \n",
       "0_80380_sms_viber_cg                                                NaN                                     \n",
       "\n",
       "                      Значимость Ebitda софинансирование(категория)  \\\n",
       "group_name                                                            \n",
       "0_80359_sms_viber_tg                                           0.00   \n",
       "0_80380_sms_viber_cg                                            NaN   \n",
       "\n",
       "                      Эффект Ebitda софинансирование(категория) на гостя, руб.  \\\n",
       "group_name                                                                       \n",
       "0_80359_sms_viber_tg                                               0.06          \n",
       "0_80380_sms_viber_cg                                                NaN          \n",
       "\n",
       "                      Эффект Ebitda софинансирование(категория) на группу, руб.  \\\n",
       "group_name                                                                        \n",
       "0_80359_sms_viber_tg                                          15,304.00           \n",
       "0_80380_sms_viber_cg                                                NaN           \n",
       "\n",
       "                      Эффект Ebitda софинансирование(категория) на группу / Ebitda софинансирование(категория) группы  \\\n",
       "group_name                                                                                                              \n",
       "0_80359_sms_viber_tg                                               0.02                                                 \n",
       "0_80380_sms_viber_cg                                                NaN                                                 \n",
       "\n",
       "                      Значимость Ebitda софинансирование(набор plu)  \\\n",
       "group_name                                                            \n",
       "0_80359_sms_viber_tg                                           0.00   \n",
       "0_80380_sms_viber_cg                                            NaN   \n",
       "\n",
       "                      Эффект Ebitda софинансирование(набор plu) на гостя, руб.  \\\n",
       "group_name                                                                       \n",
       "0_80359_sms_viber_tg                                               0.20          \n",
       "0_80380_sms_viber_cg                                                NaN          \n",
       "\n",
       "                      Эффект Ebitda софинансирование(набор plu) на группу, руб.  \\\n",
       "group_name                                                                        \n",
       "0_80359_sms_viber_tg                                          49,881.00           \n",
       "0_80380_sms_viber_cg                                                NaN           \n",
       "\n",
       "                      Эффект Ebitda софинансирование(набор plu) на группу / Ebitda софинансирование(набор plu) группы  \n",
       "group_name                                                                                                             \n",
       "0_80359_sms_viber_tg                                               0.14                                                \n",
       "0_80380_sms_viber_cg                                                NaN                                                \n",
       "\n",
       "[2 rows x 103 columns]"
      ]
     },
     "execution_count": 21,
     "metadata": {},
     "output_type": "execute_result"
    }
   ],
   "source": [
    "fin_report = map_col_names_to_russian(groups_metrics)\n",
    "fin_report"
   ]
  },
  {
   "cell_type": "code",
   "execution_count": 22,
   "id": "9f9961b0",
   "metadata": {
    "collapsed": false,
    "jupyter": {
     "outputs_hidden": false
    },
    "pycharm": {
     "name": "#%%\n"
    },
    "scrolled": true
   },
   "outputs": [
    {
     "name": "stderr",
     "output_type": "stream",
     "text": [
      "22/02/04 23:03:58 ERROR cluster.YarnClientSchedulerBackend: YARN application has exited unexpectedly with state FAILED! Check the YARN application logs for more details.\n",
      "22/02/04 23:03:58 ERROR cluster.YarnClientSchedulerBackend: Diagnostics message: Attempt recovered after RM restartDue to executor failures all available nodes are blacklisted\n",
      "22/02/04 23:03:58 ERROR client.TransportClient: Failed to send RPC RPC 6330602615737046249 to /192.168.234.56:32998: java.nio.channels.ClosedChannelException\n",
      "java.nio.channels.ClosedChannelException\n",
      "\tat io.netty.channel.AbstractChannel$AbstractUnsafe.write(...)(Unknown Source)\n",
      "22/02/04 23:03:58 ERROR cluster.YarnSchedulerBackend$YarnSchedulerEndpoint: Sending RequestExecutors(0,0,Map(),Set()) to AM was unsuccessful\n",
      "java.io.IOException: Failed to send RPC RPC 6330602615737046249 to /192.168.234.56:32998: java.nio.channels.ClosedChannelException\n",
      "\tat org.apache.spark.network.client.TransportClient$RpcChannelListener.handleFailure(TransportClient.java:362)\n",
      "\tat org.apache.spark.network.client.TransportClient$StdChannelListener.operationComplete(TransportClient.java:339)\n",
      "\tat io.netty.util.concurrent.DefaultPromise.notifyListener0(DefaultPromise.java:507)\n",
      "\tat io.netty.util.concurrent.DefaultPromise.notifyListenersNow(DefaultPromise.java:481)\n",
      "\tat io.netty.util.concurrent.DefaultPromise.notifyListeners(DefaultPromise.java:420)\n",
      "\tat io.netty.util.concurrent.DefaultPromise.tryFailure(DefaultPromise.java:122)\n",
      "\tat io.netty.channel.AbstractChannel$AbstractUnsafe.safeSetFailure(AbstractChannel.java:987)\n",
      "\tat io.netty.channel.AbstractChannel$AbstractUnsafe.write(AbstractChannel.java:869)\n",
      "\tat io.netty.channel.DefaultChannelPipeline$HeadContext.write(DefaultChannelPipeline.java:1316)\n",
      "\tat io.netty.channel.AbstractChannelHandlerContext.invokeWrite0(AbstractChannelHandlerContext.java:738)\n",
      "\tat io.netty.channel.AbstractChannelHandlerContext.invokeWrite(AbstractChannelHandlerContext.java:730)\n",
      "\tat io.netty.channel.AbstractChannelHandlerContext.access$1900(AbstractChannelHandlerContext.java:38)\n",
      "\tat io.netty.channel.AbstractChannelHandlerContext$AbstractWriteTask.write(AbstractChannelHandlerContext.java:1081)\n",
      "\tat io.netty.channel.AbstractChannelHandlerContext$WriteAndFlushTask.write(AbstractChannelHandlerContext.java:1128)\n",
      "\tat io.netty.channel.AbstractChannelHandlerContext$AbstractWriteTask.run(AbstractChannelHandlerContext.java:1070)\n",
      "\tat io.netty.util.concurrent.AbstractEventExecutor.safeExecute(AbstractEventExecutor.java:163)\n",
      "\tat io.netty.util.concurrent.SingleThreadEventExecutor.runAllTasks(SingleThreadEventExecutor.java:403)\n",
      "\tat io.netty.channel.nio.NioEventLoop.run(NioEventLoop.java:463)\n",
      "\tat io.netty.util.concurrent.SingleThreadEventExecutor$5.run(SingleThreadEventExecutor.java:858)\n",
      "\tat io.netty.util.concurrent.DefaultThreadFactory$DefaultRunnableDecorator.run(DefaultThreadFactory.java:138)\n",
      "\tat java.lang.Thread.run(Thread.java:748)\n",
      "Caused by: java.nio.channels.ClosedChannelException\n",
      "\tat io.netty.channel.AbstractChannel$AbstractUnsafe.write(...)(Unknown Source)\n",
      "22/02/04 23:03:58 ERROR util.Utils: Uncaught exception in thread YARN application state monitor\n",
      "org.apache.spark.SparkException: Exception thrown in awaitResult: \n",
      "\tat org.apache.spark.util.ThreadUtils$.awaitResult(ThreadUtils.scala:226)\n",
      "\tat org.apache.spark.rpc.RpcTimeout.awaitResult(RpcTimeout.scala:75)\n",
      "\tat org.apache.spark.scheduler.cluster.CoarseGrainedSchedulerBackend.requestTotalExecutors(CoarseGrainedSchedulerBackend.scala:574)\n",
      "\tat org.apache.spark.scheduler.cluster.YarnSchedulerBackend.stop(YarnSchedulerBackend.scala:98)\n",
      "\tat org.apache.spark.scheduler.cluster.YarnClientSchedulerBackend.stop(YarnClientSchedulerBackend.scala:164)\n",
      "\tat org.apache.spark.scheduler.TaskSchedulerImpl.stop(TaskSchedulerImpl.scala:653)\n",
      "\tat org.apache.spark.scheduler.DAGScheduler.stop(DAGScheduler.scala:2042)\n",
      "\tat org.apache.spark.SparkContext$$anonfun$stop$6.apply$mcV$sp(SparkContext.scala:1949)\n",
      "\tat org.apache.spark.util.Utils$.tryLogNonFatalError(Utils.scala:1340)\n",
      "\tat org.apache.spark.SparkContext.stop(SparkContext.scala:1948)\n",
      "\tat org.apache.spark.scheduler.cluster.YarnClientSchedulerBackend$MonitorThread.run(YarnClientSchedulerBackend.scala:121)\n",
      "Caused by: java.io.IOException: Failed to send RPC RPC 6330602615737046249 to /192.168.234.56:32998: java.nio.channels.ClosedChannelException\n",
      "\tat org.apache.spark.network.client.TransportClient$RpcChannelListener.handleFailure(TransportClient.java:362)\n",
      "\tat org.apache.spark.network.client.TransportClient$StdChannelListener.operationComplete(TransportClient.java:339)\n",
      "\tat io.netty.util.concurrent.DefaultPromise.notifyListener0(DefaultPromise.java:507)\n",
      "\tat io.netty.util.concurrent.DefaultPromise.notifyListenersNow(DefaultPromise.java:481)\n",
      "\tat io.netty.util.concurrent.DefaultPromise.notifyListeners(DefaultPromise.java:420)\n",
      "\tat io.netty.util.concurrent.DefaultPromise.tryFailure(DefaultPromise.java:122)\n",
      "\tat io.netty.channel.AbstractChannel$AbstractUnsafe.safeSetFailure(AbstractChannel.java:987)\n",
      "\tat io.netty.channel.AbstractChannel$AbstractUnsafe.write(AbstractChannel.java:869)\n",
      "\tat io.netty.channel.DefaultChannelPipeline$HeadContext.write(DefaultChannelPipeline.java:1316)\n",
      "\tat io.netty.channel.AbstractChannelHandlerContext.invokeWrite0(AbstractChannelHandlerContext.java:738)\n",
      "\tat io.netty.channel.AbstractChannelHandlerContext.invokeWrite(AbstractChannelHandlerContext.java:730)\n",
      "\tat io.netty.channel.AbstractChannelHandlerContext.access$1900(AbstractChannelHandlerContext.java:38)\n",
      "\tat io.netty.channel.AbstractChannelHandlerContext$AbstractWriteTask.write(AbstractChannelHandlerContext.java:1081)\n",
      "\tat io.netty.channel.AbstractChannelHandlerContext$WriteAndFlushTask.write(AbstractChannelHandlerContext.java:1128)\n",
      "\tat io.netty.channel.AbstractChannelHandlerContext$AbstractWriteTask.run(AbstractChannelHandlerContext.java:1070)\n",
      "\tat io.netty.util.concurrent.AbstractEventExecutor.safeExecute(AbstractEventExecutor.java:163)\n",
      "\tat io.netty.util.concurrent.SingleThreadEventExecutor.runAllTasks(SingleThreadEventExecutor.java:403)\n",
      "\tat io.netty.channel.nio.NioEventLoop.run(NioEventLoop.java:463)\n",
      "\tat io.netty.util.concurrent.SingleThreadEventExecutor$5.run(SingleThreadEventExecutor.java:858)\n",
      "\tat io.netty.util.concurrent.DefaultThreadFactory$DefaultRunnableDecorator.run(DefaultThreadFactory.java:138)\n",
      "\tat java.lang.Thread.run(Thread.java:748)\n",
      "Caused by: java.nio.channels.ClosedChannelException\n",
      "\tat io.netty.channel.AbstractChannel$AbstractUnsafe.write(...)(Unknown Source)\n"
     ]
    }
   ],
   "source": [
    "fin_report['meta_post_analysis'] = str(post_analysis_params.__dict__)\n",
    "fin_report['meta_experiment_params'] = str(experiment_params.__dict__)\n",
    "groups_metrics['meta_post_analysis'] = str(post_analysis_params.__dict__)\n",
    "groups_metrics['meta_experiment_params'] = str(experiment_params.__dict__)\n",
    "\n",
    "groups_metrics.T.to_csv(output_main_report, encoding='utf-8-sig', sep=';')\n",
    "fin_report.T.to_csv(output_fin_report, encoding='utf-8-sig', sep=';')"
   ]
  }
 ],
 "metadata": {
  "kernelspec": {
   "display_name": "Python 3 (ipykernel)",
   "language": "python",
   "name": "python3"
  },
  "language_info": {
   "codemirror_mode": {
    "name": "ipython",
    "version": 3
   },
   "file_extension": ".py",
   "mimetype": "text/x-python",
   "name": "python",
   "nbconvert_exporter": "python",
   "pygments_lexer": "ipython3",
   "version": "3.7.10"
  }
 },
 "nbformat": 4,
 "nbformat_minor": 5
}
