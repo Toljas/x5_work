{
 "cells": [
  {
   "cell_type": "markdown",
   "id": "49953bd7",
   "metadata": {},
   "source": [
    "https://jira.x5.ru/browse/CVMXC-2633"
   ]
  },
  {
   "cell_type": "code",
   "execution_count": 1,
   "id": "07bb3f99",
   "metadata": {},
   "outputs": [],
   "source": [
    "name = 'CVMXC-2633_immunele_pa'"
   ]
  },
  {
   "cell_type": "code",
   "execution_count": 2,
   "id": "a76a220c",
   "metadata": {},
   "outputs": [],
   "source": [
    "import sys\n",
    "import pandas as pd\n",
    "import pyspark.sql.functions as F\n",
    "sys.path.append('/home/jovyan/cvm_upgrade/')\n",
    "sys.path.append('/home/jovyan/cvm_upgrade/upgrade/')\n",
    "sys.path.append('/home/jovyan/glow-byte-filters-pyspark')\n",
    "sys.path.append('/home/jovyan/x5_some_tasks/Osipov/')\n",
    "from upgrade.post_analysis2.tools.groups_metrics_aggregation import GroupsMetricsAggregation\n",
    "from upgrade.post_analysis2.tools.guests_metrics_preprocessing import GuestsMetricsPreprocessing\n",
    "from upgrade.post_analysis2.tools.post_analysis_params import PostAnalysisParams\n",
    "from upgrade.post_analysis2.tools.metric_names_mapper import map_col_names_to_russian\n",
    "from upgrade.post_analysis2.tools.experiment_participants import ExperimentParticipants\n",
    "from upgrade.post_analysis2.tools.experiment_params import ExperimentParams\n",
    "import datetime\n",
    "from datetime import timedelta\n",
    "from spark import *\n",
    "from utils_osipov import *\n",
    "\n",
    "%load_ext autoreload\n",
    "%autoreload 2\n",
    "\n",
    "pd.options.display.float_format = '{:,.2f}'.format\n",
    "pd.options.display.max_rows = 500"
   ]
  },
  {
   "cell_type": "code",
   "execution_count": 3,
   "id": "093f7753",
   "metadata": {
    "collapsed": false,
    "jupyter": {
     "outputs_hidden": false
    },
    "pycharm": {
     "name": "#%%\n"
    }
   },
   "outputs": [
    {
     "name": "stderr",
     "output_type": "stream",
     "text": [
      "Setting default log level to \"WARN\".\n",
      "To adjust logging level use sc.setLogLevel(newLevel). For SparkR, use setLogLevel(newLevel).\n"
     ]
    }
   ],
   "source": [
    "sc, spark = restart_spark(name, 100, executor_memory=\"3G\", executor_cores=5, driver_memory=\"12G\",\n",
    "                          additional_params={\"spark.sql.shuffle.partitions\": \"200\"})\n",
    "sc.setLogLevel('ERROR')"
   ]
  },
  {
   "cell_type": "markdown",
   "id": "191bcb2b",
   "metadata": {},
   "source": [
    "### X-28-26-Pepsi-Imunele-3plu-sof"
   ]
  },
  {
   "cell_type": "code",
   "execution_count": 6,
   "id": "1b923f6d",
   "metadata": {
    "collapsed": false,
    "jupyter": {
     "outputs_hidden": false
    },
    "pycharm": {
     "name": "#%%\n"
    }
   },
   "outputs": [
    {
     "name": "stderr",
     "output_type": "stream",
     "text": [
      "                                                                                \r"
     ]
    }
   ],
   "source": [
    "campaign_id = 'X-28-26-Pepsi-Imunele-3plu-sof'\n",
    "output_fin_report = f'{campaign_id}_fin_report.csv'\n",
    "output_main_report = f'{campaign_id}_main_report.csv'\n",
    "\n",
    "experiment_params = ExperimentParams(**{\n",
    "    # Camp wave id нужно записать в виде мапы из id в префиксы.\n",
    "    # Префиксы ни на что не влияют, просто для более красивого названия групп\n",
    "    # Заполняются camp_wave_id. Если для контроля и теста одинаковый, то пишем два раза\n",
    "    'map_camp_wave_ids_to_suffixes': {\n",
    "        79931: \"sms_viber_tg\",\n",
    "        79931: \"sms_viber_cg\"\n",
    "    },\n",
    "\n",
    "    # communication period with guest (sending sms, push, etc.)\n",
    "    'date_communication_from': '2022-01-18',\n",
    "    'date_communication_to': '2022-01-24',\n",
    "\n",
    "    'wave_ids': [\n",
    "        80030 #если нет, то -1\n",
    "    ],\n",
    "\n",
    "    'communication_costs': {\n",
    "        'sms': 1.38,\n",
    "        'viber': 1.32,\n",
    "        'email': 0.0083\n",
    "    }\n",
    "})\n",
    "\n",
    "post_analysis_params = PostAnalysisParams(**{\n",
    "    'spark': spark,\n",
    "    'date_from': '2022-01-18',\n",
    "    'date_to': '2022-01-24', #дата постпериода\n",
    "    'control_camp_wave_id': 79931,\n",
    "    'plu_list': list(map(str, [3959,4159731,2137009,2137039,3398892,3426770,3426771,4054537,3426773,3373862,\n",
    "                 3270027,3270028,3356409,3004331,3929853,3398891,4150434,3962,3501805,3326481,\n",
    "                 3342907,3270022,3929854,3662340,3270024,4054541,3961,3971,3675339,2137162,\n",
    "                 4054540,3662339,2137159,3675338,3426774,4004,12260,3501804,3675337,4054539,\n",
    "                 3929852,3342908,3426772,2157641,3662341,3229726,4150433,46222])),\n",
    "    'threshold_item_condition': 'plu_list', #есть категория еще\n",
    "    'count_for_plu_list': 3 #механика от 2-х штук\n",
    "})\n",
    "\n",
    "\n",
    "assert post_analysis_params.control_camp_wave_id in experiment_params.map_camp_wave_ids_to_suffixes.keys()"
   ]
  },
  {
   "cell_type": "code",
   "execution_count": 7,
   "id": "99ec74ee",
   "metadata": {
    "collapsed": false,
    "jupyter": {
     "outputs_hidden": false
    },
    "pycharm": {
     "name": "#%%\n"
    },
    "scrolled": true
   },
   "outputs": [],
   "source": [
    "experiment_guests = ExperimentParticipants(spark, experiment_params)\n",
    "experiment_guests_communications = experiment_guests.extract()"
   ]
  },
  {
   "cell_type": "code",
   "execution_count": 8,
   "id": "00d1c22c",
   "metadata": {
    "collapsed": false,
    "jupyter": {
     "outputs_hidden": false
    },
    "pycharm": {
     "name": "#%%\n"
    },
    "scrolled": true
   },
   "outputs": [
    {
     "name": "stderr",
     "output_type": "stream",
     "text": [
      "                                                                                ]]]6]]\r"
     ]
    }
   ],
   "source": [
    "guest_metrics_preparation = GuestsMetricsPreprocessing(spark, experiment_guests_communications, post_analysis_params)\n",
    "experiment_guests_with_metrics = guest_metrics_preparation.evaluate()"
   ]
  },
  {
   "cell_type": "code",
   "execution_count": 9,
   "id": "aeea546e",
   "metadata": {
    "collapsed": false,
    "jupyter": {
     "outputs_hidden": false
    },
    "pycharm": {
     "name": "#%%\n"
    }
   },
   "outputs": [
    {
     "name": "stderr",
     "output_type": "stream",
     "text": [
      "/opt/conda/lib/python3.7/site-packages/pandas/core/indexing.py:1684: PerformanceWarning: DataFrame is highly fragmented.  This is usually the result of calling `frame.insert` many times, which has poor performance.  Consider joining all columns at once using pd.concat(axis=1) instead.  To get a de-fragmented frame, use `newframe = frame.copy()`\n",
      "  self.obj[key] = infer_fill_value(value)\n"
     ]
    }
   ],
   "source": [
    "groups_metrics_aggregation = GroupsMetricsAggregation(spark, experiment_guests_with_metrics, post_analysis_params)\n",
    "groups_metrics, map_to_effects_table = groups_metrics_aggregation.evaluate()"
   ]
  },
  {
   "cell_type": "code",
   "execution_count": 10,
   "id": "85f913b9",
   "metadata": {
    "collapsed": false,
    "jupyter": {
     "outputs_hidden": false
    },
    "pycharm": {
     "name": "#%%\n"
    }
   },
   "outputs": [
    {
     "data": {
      "text/html": [
       "<div>\n",
       "<style scoped>\n",
       "    .dataframe tbody tr th:only-of-type {\n",
       "        vertical-align: middle;\n",
       "    }\n",
       "\n",
       "    .dataframe tbody tr th {\n",
       "        vertical-align: top;\n",
       "    }\n",
       "\n",
       "    .dataframe thead th {\n",
       "        text-align: right;\n",
       "    }\n",
       "</style>\n",
       "<table border=\"1\" class=\"dataframe\">\n",
       "  <thead>\n",
       "    <tr style=\"text-align: right;\">\n",
       "      <th></th>\n",
       "      <th>Размер выборки, чел.</th>\n",
       "      <th>Затраты на коммуникацию и на баллы (сумма delta с учетом redemption), руб.</th>\n",
       "      <th>Затраты на коммуникацию, руб./гость</th>\n",
       "      <th>Затраты на коммуникацию, руб.</th>\n",
       "      <th>Софинансирование, руб./гость</th>\n",
       "      <th>Софинансирование, руб.</th>\n",
       "      <th>Покупка предложения(чек), товаров (шт)</th>\n",
       "      <th>Покупка предложения(категория), товаров (шт)</th>\n",
       "      <th>Покупка предложения(набор plu), товаров (шт)</th>\n",
       "      <th>Гостей, купившие что-нибудь</th>\n",
       "      <th>...</th>\n",
       "      <th>Эффект Ebitda софинансирование(чек) на группу, руб.</th>\n",
       "      <th>Эффект Ebitda софинансирование(чек) на группу / Ebitda софинансирование(чек) группы</th>\n",
       "      <th>Значимость Ebitda софинансирование(категория)</th>\n",
       "      <th>Эффект Ebitda софинансирование(категория) на гостя, руб.</th>\n",
       "      <th>Эффект Ebitda софинансирование(категория) на группу, руб.</th>\n",
       "      <th>Эффект Ebitda софинансирование(категория) на группу / Ebitda софинансирование(категория) группы</th>\n",
       "      <th>Значимость Ebitda софинансирование(набор plu)</th>\n",
       "      <th>Эффект Ebitda софинансирование(набор plu) на гостя, руб.</th>\n",
       "      <th>Эффект Ebitda софинансирование(набор plu) на группу, руб.</th>\n",
       "      <th>Эффект Ebitda софинансирование(набор plu) на группу / Ebitda софинансирование(набор plu) группы</th>\n",
       "    </tr>\n",
       "    <tr>\n",
       "      <th>group_name</th>\n",
       "      <th></th>\n",
       "      <th></th>\n",
       "      <th></th>\n",
       "      <th></th>\n",
       "      <th></th>\n",
       "      <th></th>\n",
       "      <th></th>\n",
       "      <th></th>\n",
       "      <th></th>\n",
       "      <th></th>\n",
       "      <th></th>\n",
       "      <th></th>\n",
       "      <th></th>\n",
       "      <th></th>\n",
       "      <th></th>\n",
       "      <th></th>\n",
       "      <th></th>\n",
       "      <th></th>\n",
       "      <th></th>\n",
       "      <th></th>\n",
       "      <th></th>\n",
       "    </tr>\n",
       "  </thead>\n",
       "  <tbody>\n",
       "    <tr>\n",
       "      <th>1_79931_sms_viber_cg</th>\n",
       "      <td>28947</td>\n",
       "      <td>7,967.98</td>\n",
       "      <td>0.00</td>\n",
       "      <td>0.00</td>\n",
       "      <td>0.00</td>\n",
       "      <td>0.00</td>\n",
       "      <td>773,324.55</td>\n",
       "      <td>18,397.00</td>\n",
       "      <td>6,941.00</td>\n",
       "      <td>24986</td>\n",
       "      <td>...</td>\n",
       "      <td>NaN</td>\n",
       "      <td>NaN</td>\n",
       "      <td>NaN</td>\n",
       "      <td>NaN</td>\n",
       "      <td>NaN</td>\n",
       "      <td>NaN</td>\n",
       "      <td>NaN</td>\n",
       "      <td>NaN</td>\n",
       "      <td>NaN</td>\n",
       "      <td>NaN</td>\n",
       "    </tr>\n",
       "    <tr>\n",
       "      <th>0_79931_sms_viber_cg</th>\n",
       "      <td>115781</td>\n",
       "      <td>148,834.89</td>\n",
       "      <td>1.36</td>\n",
       "      <td>157,653.12</td>\n",
       "      <td>1.38</td>\n",
       "      <td>159,798.00</td>\n",
       "      <td>3,107,168.16</td>\n",
       "      <td>77,511.00</td>\n",
       "      <td>31,494.00</td>\n",
       "      <td>100236</td>\n",
       "      <td>...</td>\n",
       "      <td>276,241.00</td>\n",
       "      <td>0.00</td>\n",
       "      <td>0.00</td>\n",
       "      <td>0.44</td>\n",
       "      <td>50,560.00</td>\n",
       "      <td>0.07</td>\n",
       "      <td>0.00</td>\n",
       "      <td>0.38</td>\n",
       "      <td>44,385.00</td>\n",
       "      <td>0.33</td>\n",
       "    </tr>\n",
       "  </tbody>\n",
       "</table>\n",
       "<p>2 rows × 103 columns</p>\n",
       "</div>"
      ],
      "text/plain": [
       "                      Размер выборки, чел.  \\\n",
       "group_name                                   \n",
       "1_79931_sms_viber_cg                 28947   \n",
       "0_79931_sms_viber_cg                115781   \n",
       "\n",
       "                      Затраты на коммуникацию и на баллы (сумма delta с учетом redemption), руб.  \\\n",
       "group_name                                                                                         \n",
       "1_79931_sms_viber_cg                                           7,967.98                            \n",
       "0_79931_sms_viber_cg                                         148,834.89                            \n",
       "\n",
       "                      Затраты на коммуникацию, руб./гость  \\\n",
       "group_name                                                  \n",
       "1_79931_sms_viber_cg                                 0.00   \n",
       "0_79931_sms_viber_cg                                 1.36   \n",
       "\n",
       "                      Затраты на коммуникацию, руб.  \\\n",
       "group_name                                            \n",
       "1_79931_sms_viber_cg                           0.00   \n",
       "0_79931_sms_viber_cg                     157,653.12   \n",
       "\n",
       "                      Софинансирование, руб./гость  Софинансирование, руб.  \\\n",
       "group_name                                                                   \n",
       "1_79931_sms_viber_cg                          0.00                    0.00   \n",
       "0_79931_sms_viber_cg                          1.38              159,798.00   \n",
       "\n",
       "                      Покупка предложения(чек), товаров (шт)  \\\n",
       "group_name                                                     \n",
       "1_79931_sms_viber_cg                              773,324.55   \n",
       "0_79931_sms_viber_cg                            3,107,168.16   \n",
       "\n",
       "                      Покупка предложения(категория), товаров (шт)  \\\n",
       "group_name                                                           \n",
       "1_79931_sms_viber_cg                                     18,397.00   \n",
       "0_79931_sms_viber_cg                                     77,511.00   \n",
       "\n",
       "                      Покупка предложения(набор plu), товаров (шт)  \\\n",
       "group_name                                                           \n",
       "1_79931_sms_viber_cg                                      6,941.00   \n",
       "0_79931_sms_viber_cg                                     31,494.00   \n",
       "\n",
       "                      Гостей, купившие что-нибудь  ...  \\\n",
       "group_name                                         ...   \n",
       "1_79931_sms_viber_cg                        24986  ...   \n",
       "0_79931_sms_viber_cg                       100236  ...   \n",
       "\n",
       "                      Эффект Ebitda софинансирование(чек) на группу, руб.  \\\n",
       "group_name                                                                  \n",
       "1_79931_sms_viber_cg                                                NaN     \n",
       "0_79931_sms_viber_cg                                         276,241.00     \n",
       "\n",
       "                      Эффект Ebitda софинансирование(чек) на группу / Ebitda софинансирование(чек) группы  \\\n",
       "group_name                                                                                                  \n",
       "1_79931_sms_viber_cg                                                NaN                                     \n",
       "0_79931_sms_viber_cg                                               0.00                                     \n",
       "\n",
       "                      Значимость Ebitda софинансирование(категория)  \\\n",
       "group_name                                                            \n",
       "1_79931_sms_viber_cg                                            NaN   \n",
       "0_79931_sms_viber_cg                                           0.00   \n",
       "\n",
       "                      Эффект Ebitda софинансирование(категория) на гостя, руб.  \\\n",
       "group_name                                                                       \n",
       "1_79931_sms_viber_cg                                                NaN          \n",
       "0_79931_sms_viber_cg                                               0.44          \n",
       "\n",
       "                      Эффект Ebitda софинансирование(категория) на группу, руб.  \\\n",
       "group_name                                                                        \n",
       "1_79931_sms_viber_cg                                                NaN           \n",
       "0_79931_sms_viber_cg                                          50,560.00           \n",
       "\n",
       "                      Эффект Ebitda софинансирование(категория) на группу / Ebitda софинансирование(категория) группы  \\\n",
       "group_name                                                                                                              \n",
       "1_79931_sms_viber_cg                                                NaN                                                 \n",
       "0_79931_sms_viber_cg                                               0.07                                                 \n",
       "\n",
       "                      Значимость Ebitda софинансирование(набор plu)  \\\n",
       "group_name                                                            \n",
       "1_79931_sms_viber_cg                                            NaN   \n",
       "0_79931_sms_viber_cg                                           0.00   \n",
       "\n",
       "                      Эффект Ebitda софинансирование(набор plu) на гостя, руб.  \\\n",
       "group_name                                                                       \n",
       "1_79931_sms_viber_cg                                                NaN          \n",
       "0_79931_sms_viber_cg                                               0.38          \n",
       "\n",
       "                      Эффект Ebitda софинансирование(набор plu) на группу, руб.  \\\n",
       "group_name                                                                        \n",
       "1_79931_sms_viber_cg                                                NaN           \n",
       "0_79931_sms_viber_cg                                          44,385.00           \n",
       "\n",
       "                      Эффект Ebitda софинансирование(набор plu) на группу / Ebitda софинансирование(набор plu) группы  \n",
       "group_name                                                                                                             \n",
       "1_79931_sms_viber_cg                                                NaN                                                \n",
       "0_79931_sms_viber_cg                                               0.33                                                \n",
       "\n",
       "[2 rows x 103 columns]"
      ]
     },
     "execution_count": 10,
     "metadata": {},
     "output_type": "execute_result"
    }
   ],
   "source": [
    "fin_report = map_col_names_to_russian(groups_metrics)\n",
    "fin_report"
   ]
  },
  {
   "cell_type": "code",
   "execution_count": 11,
   "id": "2da565d1",
   "metadata": {
    "collapsed": false,
    "jupyter": {
     "outputs_hidden": false
    },
    "pycharm": {
     "name": "#%%\n"
    },
    "scrolled": true
   },
   "outputs": [],
   "source": [
    "fin_report['meta_post_analysis'] = str(post_analysis_params.__dict__)\n",
    "fin_report['meta_experiment_params'] = str(experiment_params.__dict__)\n",
    "groups_metrics['meta_post_analysis'] = str(post_analysis_params.__dict__)\n",
    "groups_metrics['meta_experiment_params'] = str(experiment_params.__dict__)\n",
    "\n",
    "groups_metrics.T.to_csv(output_main_report, encoding='utf-8-sig', sep=';')\n",
    "fin_report.T.to_csv(output_fin_report, encoding='utf-8-sig', sep=';')"
   ]
  },
  {
   "cell_type": "markdown",
   "id": "1aec2888",
   "metadata": {},
   "source": [
    "### X-28-27-Pepsi-Imunele-6plu-sof"
   ]
  },
  {
   "cell_type": "code",
   "execution_count": 12,
   "id": "e45a5ac0",
   "metadata": {
    "collapsed": false,
    "jupyter": {
     "outputs_hidden": false
    },
    "pycharm": {
     "name": "#%%\n"
    }
   },
   "outputs": [
    {
     "name": "stderr",
     "output_type": "stream",
     "text": [
      "                                                                                \r"
     ]
    }
   ],
   "source": [
    "campaign_id = 'X-28-27-Pepsi-Imunele-6plu-sof'\n",
    "output_fin_report = f'{campaign_id}_fin_report.csv'\n",
    "output_main_report = f'{campaign_id}_main_report.csv'\n",
    "\n",
    "experiment_params = ExperimentParams(**{\n",
    "    # Camp wave id нужно записать в виде мапы из id в префиксы.\n",
    "    # Префиксы ни на что не влияют, просто для более красивого названия групп\n",
    "    # Заполняются camp_wave_id. Если для контроля и теста одинаковый, то пишем два раза\n",
    "    'map_camp_wave_ids_to_suffixes': {\n",
    "        79923: \"sms_viber_tg\",\n",
    "        79923: \"sms_viber_cg\"\n",
    "    },\n",
    "\n",
    "    # communication period with guest (sending sms, push, etc.)\n",
    "    'date_communication_from': '2022-01-18',\n",
    "    'date_communication_to': '2022-01-24',\n",
    "\n",
    "    'wave_ids': [\n",
    "        80069 #если нет, то -1\n",
    "    ],\n",
    "\n",
    "    'communication_costs': {\n",
    "        'sms': 1.38,\n",
    "        'viber': 1.32,\n",
    "        'email': 0.0083\n",
    "    }\n",
    "})\n",
    "\n",
    "post_analysis_params = PostAnalysisParams(**{\n",
    "    'spark': spark,\n",
    "    'date_from': '2022-01-18',\n",
    "    'date_to': '2022-01-24', #дата постпериода\n",
    "    'control_camp_wave_id': 79923,\n",
    "    'plu_list': list(map(str, [3959,4159731,2137009,2137039,3398892,3426770,3426771,4054537,3426773,3373862,\n",
    "                 3270027,3270028,3356409,3004331,3929853,3398891,4150434,3962,3501805,3326481,\n",
    "                 3342907,3270022,3929854,3662340,3270024,4054541,3961,3971,3675339,2137162,\n",
    "                 4054540,3662339,2137159,3675338,3426774,4004,12260,3501804,3675337,4054539,\n",
    "                 3929852,3342908,3426772,2157641,3662341,3229726,4150433,46222])),\n",
    "    'threshold_item_condition': 'plu_list', #есть категория еще\n",
    "    'count_for_plu_list': 6 #механика от 2-х штук\n",
    "})\n",
    "\n",
    "\n",
    "assert post_analysis_params.control_camp_wave_id in experiment_params.map_camp_wave_ids_to_suffixes.keys()"
   ]
  },
  {
   "cell_type": "code",
   "execution_count": 13,
   "id": "6846819f",
   "metadata": {
    "collapsed": false,
    "jupyter": {
     "outputs_hidden": false
    },
    "pycharm": {
     "name": "#%%\n"
    },
    "scrolled": true
   },
   "outputs": [],
   "source": [
    "experiment_guests = ExperimentParticipants(spark, experiment_params)\n",
    "experiment_guests_communications = experiment_guests.extract()"
   ]
  },
  {
   "cell_type": "code",
   "execution_count": 14,
   "id": "fef9e5fb",
   "metadata": {
    "collapsed": false,
    "jupyter": {
     "outputs_hidden": false
    },
    "pycharm": {
     "name": "#%%\n"
    },
    "scrolled": true
   },
   "outputs": [
    {
     "name": "stderr",
     "output_type": "stream",
     "text": [
      "                                                                                1221]]]]]\r"
     ]
    }
   ],
   "source": [
    "guest_metrics_preparation = GuestsMetricsPreprocessing(spark, experiment_guests_communications, post_analysis_params)\n",
    "experiment_guests_with_metrics = guest_metrics_preparation.evaluate()"
   ]
  },
  {
   "cell_type": "code",
   "execution_count": 15,
   "id": "9d286f8d",
   "metadata": {
    "collapsed": false,
    "jupyter": {
     "outputs_hidden": false
    },
    "pycharm": {
     "name": "#%%\n"
    }
   },
   "outputs": [
    {
     "name": "stderr",
     "output_type": "stream",
     "text": [
      "/opt/conda/lib/python3.7/site-packages/pandas/core/indexing.py:1684: PerformanceWarning: DataFrame is highly fragmented.  This is usually the result of calling `frame.insert` many times, which has poor performance.  Consider joining all columns at once using pd.concat(axis=1) instead.  To get a de-fragmented frame, use `newframe = frame.copy()`\n",
      "  self.obj[key] = infer_fill_value(value)\n"
     ]
    }
   ],
   "source": [
    "groups_metrics_aggregation = GroupsMetricsAggregation(spark, experiment_guests_with_metrics, post_analysis_params)\n",
    "groups_metrics, map_to_effects_table = groups_metrics_aggregation.evaluate()"
   ]
  },
  {
   "cell_type": "code",
   "execution_count": 16,
   "id": "67482b49",
   "metadata": {
    "collapsed": false,
    "jupyter": {
     "outputs_hidden": false
    },
    "pycharm": {
     "name": "#%%\n"
    }
   },
   "outputs": [
    {
     "data": {
      "text/html": [
       "<div>\n",
       "<style scoped>\n",
       "    .dataframe tbody tr th:only-of-type {\n",
       "        vertical-align: middle;\n",
       "    }\n",
       "\n",
       "    .dataframe tbody tr th {\n",
       "        vertical-align: top;\n",
       "    }\n",
       "\n",
       "    .dataframe thead th {\n",
       "        text-align: right;\n",
       "    }\n",
       "</style>\n",
       "<table border=\"1\" class=\"dataframe\">\n",
       "  <thead>\n",
       "    <tr style=\"text-align: right;\">\n",
       "      <th></th>\n",
       "      <th>Размер выборки, чел.</th>\n",
       "      <th>Затраты на коммуникацию и на баллы (сумма delta с учетом redemption), руб.</th>\n",
       "      <th>Затраты на коммуникацию, руб./гость</th>\n",
       "      <th>Затраты на коммуникацию, руб.</th>\n",
       "      <th>Софинансирование, руб./гость</th>\n",
       "      <th>Софинансирование, руб.</th>\n",
       "      <th>Покупка предложения(чек), товаров (шт)</th>\n",
       "      <th>Покупка предложения(категория), товаров (шт)</th>\n",
       "      <th>Покупка предложения(набор plu), товаров (шт)</th>\n",
       "      <th>Гостей, купившие что-нибудь</th>\n",
       "      <th>...</th>\n",
       "      <th>Эффект Ebitda софинансирование(чек) на группу, руб.</th>\n",
       "      <th>Эффект Ebitda софинансирование(чек) на группу / Ebitda софинансирование(чек) группы</th>\n",
       "      <th>Значимость Ebitda софинансирование(категория)</th>\n",
       "      <th>Эффект Ebitda софинансирование(категория) на гостя, руб.</th>\n",
       "      <th>Эффект Ebitda софинансирование(категория) на группу, руб.</th>\n",
       "      <th>Эффект Ebitda софинансирование(категория) на группу / Ebitda софинансирование(категория) группы</th>\n",
       "      <th>Значимость Ebitda софинансирование(набор plu)</th>\n",
       "      <th>Эффект Ebitda софинансирование(набор plu) на гостя, руб.</th>\n",
       "      <th>Эффект Ebitda софинансирование(набор plu) на группу, руб.</th>\n",
       "      <th>Эффект Ebitda софинансирование(набор plu) на группу / Ebitda софинансирование(набор plu) группы</th>\n",
       "    </tr>\n",
       "    <tr>\n",
       "      <th>group_name</th>\n",
       "      <th></th>\n",
       "      <th></th>\n",
       "      <th></th>\n",
       "      <th></th>\n",
       "      <th></th>\n",
       "      <th></th>\n",
       "      <th></th>\n",
       "      <th></th>\n",
       "      <th></th>\n",
       "      <th></th>\n",
       "      <th></th>\n",
       "      <th></th>\n",
       "      <th></th>\n",
       "      <th></th>\n",
       "      <th></th>\n",
       "      <th></th>\n",
       "      <th></th>\n",
       "      <th></th>\n",
       "      <th></th>\n",
       "      <th></th>\n",
       "      <th></th>\n",
       "    </tr>\n",
       "  </thead>\n",
       "  <tbody>\n",
       "    <tr>\n",
       "      <th>0_79923_sms_viber_cg</th>\n",
       "      <td>115692</td>\n",
       "      <td>110,970.84</td>\n",
       "      <td>1.36</td>\n",
       "      <td>157,514.88</td>\n",
       "      <td>1.38</td>\n",
       "      <td>159,588.00</td>\n",
       "      <td>3,099,755.85</td>\n",
       "      <td>79,127.00</td>\n",
       "      <td>28,058.00</td>\n",
       "      <td>100350</td>\n",
       "      <td>...</td>\n",
       "      <td>-61,410.00</td>\n",
       "      <td>-0.00</td>\n",
       "      <td>0.00</td>\n",
       "      <td>0.48</td>\n",
       "      <td>55,719.00</td>\n",
       "      <td>0.08</td>\n",
       "      <td>0.00</td>\n",
       "      <td>0.52</td>\n",
       "      <td>60,566.00</td>\n",
       "      <td>0.39</td>\n",
       "    </tr>\n",
       "    <tr>\n",
       "      <th>1_79923_sms_viber_cg</th>\n",
       "      <td>28930</td>\n",
       "      <td>-1,503.62</td>\n",
       "      <td>0.00</td>\n",
       "      <td>0.00</td>\n",
       "      <td>0.00</td>\n",
       "      <td>0.00</td>\n",
       "      <td>775,862.52</td>\n",
       "      <td>19,694.00</td>\n",
       "      <td>6,737.00</td>\n",
       "      <td>25034</td>\n",
       "      <td>...</td>\n",
       "      <td>NaN</td>\n",
       "      <td>NaN</td>\n",
       "      <td>NaN</td>\n",
       "      <td>NaN</td>\n",
       "      <td>NaN</td>\n",
       "      <td>NaN</td>\n",
       "      <td>NaN</td>\n",
       "      <td>NaN</td>\n",
       "      <td>NaN</td>\n",
       "      <td>NaN</td>\n",
       "    </tr>\n",
       "  </tbody>\n",
       "</table>\n",
       "<p>2 rows × 103 columns</p>\n",
       "</div>"
      ],
      "text/plain": [
       "                      Размер выборки, чел.  \\\n",
       "group_name                                   \n",
       "0_79923_sms_viber_cg                115692   \n",
       "1_79923_sms_viber_cg                 28930   \n",
       "\n",
       "                      Затраты на коммуникацию и на баллы (сумма delta с учетом redemption), руб.  \\\n",
       "group_name                                                                                         \n",
       "0_79923_sms_viber_cg                                         110,970.84                            \n",
       "1_79923_sms_viber_cg                                          -1,503.62                            \n",
       "\n",
       "                      Затраты на коммуникацию, руб./гость  \\\n",
       "group_name                                                  \n",
       "0_79923_sms_viber_cg                                 1.36   \n",
       "1_79923_sms_viber_cg                                 0.00   \n",
       "\n",
       "                      Затраты на коммуникацию, руб.  \\\n",
       "group_name                                            \n",
       "0_79923_sms_viber_cg                     157,514.88   \n",
       "1_79923_sms_viber_cg                           0.00   \n",
       "\n",
       "                      Софинансирование, руб./гость  Софинансирование, руб.  \\\n",
       "group_name                                                                   \n",
       "0_79923_sms_viber_cg                          1.38              159,588.00   \n",
       "1_79923_sms_viber_cg                          0.00                    0.00   \n",
       "\n",
       "                      Покупка предложения(чек), товаров (шт)  \\\n",
       "group_name                                                     \n",
       "0_79923_sms_viber_cg                            3,099,755.85   \n",
       "1_79923_sms_viber_cg                              775,862.52   \n",
       "\n",
       "                      Покупка предложения(категория), товаров (шт)  \\\n",
       "group_name                                                           \n",
       "0_79923_sms_viber_cg                                     79,127.00   \n",
       "1_79923_sms_viber_cg                                     19,694.00   \n",
       "\n",
       "                      Покупка предложения(набор plu), товаров (шт)  \\\n",
       "group_name                                                           \n",
       "0_79923_sms_viber_cg                                     28,058.00   \n",
       "1_79923_sms_viber_cg                                      6,737.00   \n",
       "\n",
       "                      Гостей, купившие что-нибудь  ...  \\\n",
       "group_name                                         ...   \n",
       "0_79923_sms_viber_cg                       100350  ...   \n",
       "1_79923_sms_viber_cg                        25034  ...   \n",
       "\n",
       "                      Эффект Ebitda софинансирование(чек) на группу, руб.  \\\n",
       "group_name                                                                  \n",
       "0_79923_sms_viber_cg                                         -61,410.00     \n",
       "1_79923_sms_viber_cg                                                NaN     \n",
       "\n",
       "                      Эффект Ebitda софинансирование(чек) на группу / Ebitda софинансирование(чек) группы  \\\n",
       "group_name                                                                                                  \n",
       "0_79923_sms_viber_cg                                              -0.00                                     \n",
       "1_79923_sms_viber_cg                                                NaN                                     \n",
       "\n",
       "                      Значимость Ebitda софинансирование(категория)  \\\n",
       "group_name                                                            \n",
       "0_79923_sms_viber_cg                                           0.00   \n",
       "1_79923_sms_viber_cg                                            NaN   \n",
       "\n",
       "                      Эффект Ebitda софинансирование(категория) на гостя, руб.  \\\n",
       "group_name                                                                       \n",
       "0_79923_sms_viber_cg                                               0.48          \n",
       "1_79923_sms_viber_cg                                                NaN          \n",
       "\n",
       "                      Эффект Ebitda софинансирование(категория) на группу, руб.  \\\n",
       "group_name                                                                        \n",
       "0_79923_sms_viber_cg                                          55,719.00           \n",
       "1_79923_sms_viber_cg                                                NaN           \n",
       "\n",
       "                      Эффект Ebitda софинансирование(категория) на группу / Ebitda софинансирование(категория) группы  \\\n",
       "group_name                                                                                                              \n",
       "0_79923_sms_viber_cg                                               0.08                                                 \n",
       "1_79923_sms_viber_cg                                                NaN                                                 \n",
       "\n",
       "                      Значимость Ebitda софинансирование(набор plu)  \\\n",
       "group_name                                                            \n",
       "0_79923_sms_viber_cg                                           0.00   \n",
       "1_79923_sms_viber_cg                                            NaN   \n",
       "\n",
       "                      Эффект Ebitda софинансирование(набор plu) на гостя, руб.  \\\n",
       "group_name                                                                       \n",
       "0_79923_sms_viber_cg                                               0.52          \n",
       "1_79923_sms_viber_cg                                                NaN          \n",
       "\n",
       "                      Эффект Ebitda софинансирование(набор plu) на группу, руб.  \\\n",
       "group_name                                                                        \n",
       "0_79923_sms_viber_cg                                          60,566.00           \n",
       "1_79923_sms_viber_cg                                                NaN           \n",
       "\n",
       "                      Эффект Ebitda софинансирование(набор plu) на группу / Ebitda софинансирование(набор plu) группы  \n",
       "group_name                                                                                                             \n",
       "0_79923_sms_viber_cg                                               0.39                                                \n",
       "1_79923_sms_viber_cg                                                NaN                                                \n",
       "\n",
       "[2 rows x 103 columns]"
      ]
     },
     "execution_count": 16,
     "metadata": {},
     "output_type": "execute_result"
    }
   ],
   "source": [
    "fin_report = map_col_names_to_russian(groups_metrics)\n",
    "fin_report"
   ]
  },
  {
   "cell_type": "code",
   "execution_count": 17,
   "id": "268c966f",
   "metadata": {
    "collapsed": false,
    "jupyter": {
     "outputs_hidden": false
    },
    "pycharm": {
     "name": "#%%\n"
    },
    "scrolled": true
   },
   "outputs": [],
   "source": [
    "fin_report['meta_post_analysis'] = str(post_analysis_params.__dict__)\n",
    "fin_report['meta_experiment_params'] = str(experiment_params.__dict__)\n",
    "groups_metrics['meta_post_analysis'] = str(post_analysis_params.__dict__)\n",
    "groups_metrics['meta_experiment_params'] = str(experiment_params.__dict__)\n",
    "\n",
    "groups_metrics.T.to_csv(output_main_report, encoding='utf-8-sig', sep=';')\n",
    "fin_report.T.to_csv(output_fin_report, encoding='utf-8-sig', sep=';')"
   ]
  },
  {
   "cell_type": "markdown",
   "id": "bfb9717b",
   "metadata": {},
   "source": [
    "### U-28-immunele-3ps-postavschik"
   ]
  },
  {
   "cell_type": "code",
   "execution_count": 18,
   "id": "5d65580e",
   "metadata": {
    "collapsed": false,
    "jupyter": {
     "outputs_hidden": false
    },
    "pycharm": {
     "name": "#%%\n"
    }
   },
   "outputs": [
    {
     "name": "stderr",
     "output_type": "stream",
     "text": [
      "                                                                                \r"
     ]
    }
   ],
   "source": [
    "campaign_id = 'U-28-immunele-3ps-postavschik'\n",
    "output_fin_report = f'{campaign_id}_fin_report.csv'\n",
    "output_main_report = f'{campaign_id}_main_report.csv'\n",
    "\n",
    "experiment_params = ExperimentParams(**{\n",
    "    # Camp wave id нужно записать в виде мапы из id в префиксы.\n",
    "    # Префиксы ни на что не влияют, просто для более красивого названия групп\n",
    "    # Заполняются camp_wave_id. Если для контроля и теста одинаковый, то пишем два раза\n",
    "    'map_camp_wave_ids_to_suffixes': {\n",
    "        79909: \"sms_viber_tg\",\n",
    "        79909: \"sms_viber_cg\"\n",
    "    },\n",
    "\n",
    "    # communication period with guest (sending sms, push, etc.)\n",
    "    'date_communication_from': '2022-01-18',\n",
    "    'date_communication_to': '2022-01-24',\n",
    "\n",
    "    'wave_ids': [\n",
    "        80057 #если нет, то -1\n",
    "    ],\n",
    "\n",
    "    'communication_costs': {\n",
    "        'sms': 1.38,\n",
    "        'viber': 1.32,\n",
    "        'email': 0.0083\n",
    "    }\n",
    "})\n",
    "\n",
    "post_analysis_params = PostAnalysisParams(**{\n",
    "    'spark': spark,\n",
    "    'date_from': '2022-01-18',\n",
    "    'date_to': '2022-01-24', #дата постпериода\n",
    "    'control_camp_wave_id': 79909,\n",
    "    'plu_list': list(map(str, [3959,4159731,2137009,2137039,3398892,3426770,3426771,4054537,3426773,3373862,\n",
    "                 3270027,3270028,3356409,3004331,3929853,3398891,4150434,3962,3501805,3326481,\n",
    "                 3342907,3270022,3929854,3662340,3270024,4054541,3961,3971,3675339,2137162,\n",
    "                 4054540,3662339,2137159,3675338,3426774,4004,12260,3501804,3675337,4054539,\n",
    "                 3929852,3342908,3426772,2157641,3662341,3229726,4150433,46222])),\n",
    "    'threshold_item_condition': 'plu_list', #есть категория еще\n",
    "    'count_for_plu_list': 3 #механика от 2-х штук\n",
    "})\n",
    "\n",
    "\n",
    "assert post_analysis_params.control_camp_wave_id in experiment_params.map_camp_wave_ids_to_suffixes.keys()"
   ]
  },
  {
   "cell_type": "code",
   "execution_count": 19,
   "id": "9e28bf6f",
   "metadata": {
    "collapsed": false,
    "jupyter": {
     "outputs_hidden": false
    },
    "pycharm": {
     "name": "#%%\n"
    },
    "scrolled": true
   },
   "outputs": [],
   "source": [
    "experiment_guests = ExperimentParticipants(spark, experiment_params)\n",
    "experiment_guests_communications = experiment_guests.extract()"
   ]
  },
  {
   "cell_type": "code",
   "execution_count": 20,
   "id": "b76b61e9",
   "metadata": {
    "collapsed": false,
    "jupyter": {
     "outputs_hidden": false
    },
    "pycharm": {
     "name": "#%%\n"
    },
    "scrolled": true
   },
   "outputs": [
    {
     "name": "stderr",
     "output_type": "stream",
     "text": [
      "                                                                                ]1]]]]]]]]]\r"
     ]
    }
   ],
   "source": [
    "guest_metrics_preparation = GuestsMetricsPreprocessing(spark, experiment_guests_communications, post_analysis_params)\n",
    "experiment_guests_with_metrics = guest_metrics_preparation.evaluate()"
   ]
  },
  {
   "cell_type": "code",
   "execution_count": 21,
   "id": "2ecc1d7a",
   "metadata": {
    "collapsed": false,
    "jupyter": {
     "outputs_hidden": false
    },
    "pycharm": {
     "name": "#%%\n"
    }
   },
   "outputs": [
    {
     "name": "stderr",
     "output_type": "stream",
     "text": [
      "/opt/conda/lib/python3.7/site-packages/pandas/core/indexing.py:1684: PerformanceWarning: DataFrame is highly fragmented.  This is usually the result of calling `frame.insert` many times, which has poor performance.  Consider joining all columns at once using pd.concat(axis=1) instead.  To get a de-fragmented frame, use `newframe = frame.copy()`\n",
      "  self.obj[key] = infer_fill_value(value)\n"
     ]
    }
   ],
   "source": [
    "groups_metrics_aggregation = GroupsMetricsAggregation(spark, experiment_guests_with_metrics, post_analysis_params)\n",
    "groups_metrics, map_to_effects_table = groups_metrics_aggregation.evaluate()"
   ]
  },
  {
   "cell_type": "code",
   "execution_count": 22,
   "id": "ad298198",
   "metadata": {
    "collapsed": false,
    "jupyter": {
     "outputs_hidden": false
    },
    "pycharm": {
     "name": "#%%\n"
    }
   },
   "outputs": [
    {
     "data": {
      "text/html": [
       "<div>\n",
       "<style scoped>\n",
       "    .dataframe tbody tr th:only-of-type {\n",
       "        vertical-align: middle;\n",
       "    }\n",
       "\n",
       "    .dataframe tbody tr th {\n",
       "        vertical-align: top;\n",
       "    }\n",
       "\n",
       "    .dataframe thead th {\n",
       "        text-align: right;\n",
       "    }\n",
       "</style>\n",
       "<table border=\"1\" class=\"dataframe\">\n",
       "  <thead>\n",
       "    <tr style=\"text-align: right;\">\n",
       "      <th></th>\n",
       "      <th>Размер выборки, чел.</th>\n",
       "      <th>Затраты на коммуникацию и на баллы (сумма delta с учетом redemption), руб.</th>\n",
       "      <th>Затраты на коммуникацию, руб./гость</th>\n",
       "      <th>Затраты на коммуникацию, руб.</th>\n",
       "      <th>Софинансирование, руб./гость</th>\n",
       "      <th>Софинансирование, руб.</th>\n",
       "      <th>Покупка предложения(чек), товаров (шт)</th>\n",
       "      <th>Покупка предложения(категория), товаров (шт)</th>\n",
       "      <th>Покупка предложения(набор plu), товаров (шт)</th>\n",
       "      <th>Гостей, купившие что-нибудь</th>\n",
       "      <th>...</th>\n",
       "      <th>Эффект Ebitda софинансирование(чек) на группу, руб.</th>\n",
       "      <th>Эффект Ebitda софинансирование(чек) на группу / Ebitda софинансирование(чек) группы</th>\n",
       "      <th>Значимость Ebitda софинансирование(категория)</th>\n",
       "      <th>Эффект Ebitda софинансирование(категория) на гостя, руб.</th>\n",
       "      <th>Эффект Ebitda софинансирование(категория) на группу, руб.</th>\n",
       "      <th>Эффект Ebitda софинансирование(категория) на группу / Ebitda софинансирование(категория) группы</th>\n",
       "      <th>Значимость Ebitda софинансирование(набор plu)</th>\n",
       "      <th>Эффект Ebitda софинансирование(набор plu) на гостя, руб.</th>\n",
       "      <th>Эффект Ebitda софинансирование(набор plu) на группу, руб.</th>\n",
       "      <th>Эффект Ebitda софинансирование(набор plu) на группу / Ebitda софинансирование(набор plu) группы</th>\n",
       "    </tr>\n",
       "    <tr>\n",
       "      <th>group_name</th>\n",
       "      <th></th>\n",
       "      <th></th>\n",
       "      <th></th>\n",
       "      <th></th>\n",
       "      <th></th>\n",
       "      <th></th>\n",
       "      <th></th>\n",
       "      <th></th>\n",
       "      <th></th>\n",
       "      <th></th>\n",
       "      <th></th>\n",
       "      <th></th>\n",
       "      <th></th>\n",
       "      <th></th>\n",
       "      <th></th>\n",
       "      <th></th>\n",
       "      <th></th>\n",
       "      <th></th>\n",
       "      <th></th>\n",
       "      <th></th>\n",
       "      <th></th>\n",
       "    </tr>\n",
       "  </thead>\n",
       "  <tbody>\n",
       "    <tr>\n",
       "      <th>0_79909_sms_viber_cg</th>\n",
       "      <td>94437</td>\n",
       "      <td>150,141.61</td>\n",
       "      <td>1.36</td>\n",
       "      <td>128,257.80</td>\n",
       "      <td>1.47</td>\n",
       "      <td>138,516.00</td>\n",
       "      <td>3,355,227.60</td>\n",
       "      <td>69,027.00</td>\n",
       "      <td>24,334.00</td>\n",
       "      <td>86619</td>\n",
       "      <td>...</td>\n",
       "      <td>-371,435.00</td>\n",
       "      <td>-0.01</td>\n",
       "      <td>0.00</td>\n",
       "      <td>0.29</td>\n",
       "      <td>27,529.00</td>\n",
       "      <td>0.04</td>\n",
       "      <td>0.00</td>\n",
       "      <td>0.42</td>\n",
       "      <td>39,137.00</td>\n",
       "      <td>0.47</td>\n",
       "    </tr>\n",
       "    <tr>\n",
       "      <th>1_79909_sms_viber_cg</th>\n",
       "      <td>40603</td>\n",
       "      <td>20,928.89</td>\n",
       "      <td>0.00</td>\n",
       "      <td>0.00</td>\n",
       "      <td>0.00</td>\n",
       "      <td>0.00</td>\n",
       "      <td>1,455,599.63</td>\n",
       "      <td>29,475.00</td>\n",
       "      <td>9,594.00</td>\n",
       "      <td>37304</td>\n",
       "      <td>...</td>\n",
       "      <td>NaN</td>\n",
       "      <td>NaN</td>\n",
       "      <td>NaN</td>\n",
       "      <td>NaN</td>\n",
       "      <td>NaN</td>\n",
       "      <td>NaN</td>\n",
       "      <td>NaN</td>\n",
       "      <td>NaN</td>\n",
       "      <td>NaN</td>\n",
       "      <td>NaN</td>\n",
       "    </tr>\n",
       "  </tbody>\n",
       "</table>\n",
       "<p>2 rows × 103 columns</p>\n",
       "</div>"
      ],
      "text/plain": [
       "                      Размер выборки, чел.  \\\n",
       "group_name                                   \n",
       "0_79909_sms_viber_cg                 94437   \n",
       "1_79909_sms_viber_cg                 40603   \n",
       "\n",
       "                      Затраты на коммуникацию и на баллы (сумма delta с учетом redemption), руб.  \\\n",
       "group_name                                                                                         \n",
       "0_79909_sms_viber_cg                                         150,141.61                            \n",
       "1_79909_sms_viber_cg                                          20,928.89                            \n",
       "\n",
       "                      Затраты на коммуникацию, руб./гость  \\\n",
       "group_name                                                  \n",
       "0_79909_sms_viber_cg                                 1.36   \n",
       "1_79909_sms_viber_cg                                 0.00   \n",
       "\n",
       "                      Затраты на коммуникацию, руб.  \\\n",
       "group_name                                            \n",
       "0_79909_sms_viber_cg                     128,257.80   \n",
       "1_79909_sms_viber_cg                           0.00   \n",
       "\n",
       "                      Софинансирование, руб./гость  Софинансирование, руб.  \\\n",
       "group_name                                                                   \n",
       "0_79909_sms_viber_cg                          1.47              138,516.00   \n",
       "1_79909_sms_viber_cg                          0.00                    0.00   \n",
       "\n",
       "                      Покупка предложения(чек), товаров (шт)  \\\n",
       "group_name                                                     \n",
       "0_79909_sms_viber_cg                            3,355,227.60   \n",
       "1_79909_sms_viber_cg                            1,455,599.63   \n",
       "\n",
       "                      Покупка предложения(категория), товаров (шт)  \\\n",
       "group_name                                                           \n",
       "0_79909_sms_viber_cg                                     69,027.00   \n",
       "1_79909_sms_viber_cg                                     29,475.00   \n",
       "\n",
       "                      Покупка предложения(набор plu), товаров (шт)  \\\n",
       "group_name                                                           \n",
       "0_79909_sms_viber_cg                                     24,334.00   \n",
       "1_79909_sms_viber_cg                                      9,594.00   \n",
       "\n",
       "                      Гостей, купившие что-нибудь  ...  \\\n",
       "group_name                                         ...   \n",
       "0_79909_sms_viber_cg                        86619  ...   \n",
       "1_79909_sms_viber_cg                        37304  ...   \n",
       "\n",
       "                      Эффект Ebitda софинансирование(чек) на группу, руб.  \\\n",
       "group_name                                                                  \n",
       "0_79909_sms_viber_cg                                        -371,435.00     \n",
       "1_79909_sms_viber_cg                                                NaN     \n",
       "\n",
       "                      Эффект Ebitda софинансирование(чек) на группу / Ebitda софинансирование(чек) группы  \\\n",
       "group_name                                                                                                  \n",
       "0_79909_sms_viber_cg                                              -0.01                                     \n",
       "1_79909_sms_viber_cg                                                NaN                                     \n",
       "\n",
       "                      Значимость Ebitda софинансирование(категория)  \\\n",
       "group_name                                                            \n",
       "0_79909_sms_viber_cg                                           0.00   \n",
       "1_79909_sms_viber_cg                                            NaN   \n",
       "\n",
       "                      Эффект Ebitda софинансирование(категория) на гостя, руб.  \\\n",
       "group_name                                                                       \n",
       "0_79909_sms_viber_cg                                               0.29          \n",
       "1_79909_sms_viber_cg                                                NaN          \n",
       "\n",
       "                      Эффект Ebitda софинансирование(категория) на группу, руб.  \\\n",
       "group_name                                                                        \n",
       "0_79909_sms_viber_cg                                          27,529.00           \n",
       "1_79909_sms_viber_cg                                                NaN           \n",
       "\n",
       "                      Эффект Ebitda софинансирование(категория) на группу / Ebitda софинансирование(категория) группы  \\\n",
       "group_name                                                                                                              \n",
       "0_79909_sms_viber_cg                                               0.04                                                 \n",
       "1_79909_sms_viber_cg                                                NaN                                                 \n",
       "\n",
       "                      Значимость Ebitda софинансирование(набор plu)  \\\n",
       "group_name                                                            \n",
       "0_79909_sms_viber_cg                                           0.00   \n",
       "1_79909_sms_viber_cg                                            NaN   \n",
       "\n",
       "                      Эффект Ebitda софинансирование(набор plu) на гостя, руб.  \\\n",
       "group_name                                                                       \n",
       "0_79909_sms_viber_cg                                               0.42          \n",
       "1_79909_sms_viber_cg                                                NaN          \n",
       "\n",
       "                      Эффект Ebitda софинансирование(набор plu) на группу, руб.  \\\n",
       "group_name                                                                        \n",
       "0_79909_sms_viber_cg                                          39,137.00           \n",
       "1_79909_sms_viber_cg                                                NaN           \n",
       "\n",
       "                      Эффект Ebitda софинансирование(набор plu) на группу / Ebitda софинансирование(набор plu) группы  \n",
       "group_name                                                                                                             \n",
       "0_79909_sms_viber_cg                                               0.47                                                \n",
       "1_79909_sms_viber_cg                                                NaN                                                \n",
       "\n",
       "[2 rows x 103 columns]"
      ]
     },
     "execution_count": 22,
     "metadata": {},
     "output_type": "execute_result"
    }
   ],
   "source": [
    "fin_report = map_col_names_to_russian(groups_metrics)\n",
    "fin_report"
   ]
  },
  {
   "cell_type": "code",
   "execution_count": 23,
   "id": "aa6967e5",
   "metadata": {
    "collapsed": false,
    "jupyter": {
     "outputs_hidden": false
    },
    "pycharm": {
     "name": "#%%\n"
    },
    "scrolled": true
   },
   "outputs": [],
   "source": [
    "fin_report['meta_post_analysis'] = str(post_analysis_params.__dict__)\n",
    "fin_report['meta_experiment_params'] = str(experiment_params.__dict__)\n",
    "groups_metrics['meta_post_analysis'] = str(post_analysis_params.__dict__)\n",
    "groups_metrics['meta_experiment_params'] = str(experiment_params.__dict__)\n",
    "\n",
    "groups_metrics.T.to_csv(output_main_report, encoding='utf-8-sig', sep=';')\n",
    "fin_report.T.to_csv(output_fin_report, encoding='utf-8-sig', sep=';')"
   ]
  },
  {
   "cell_type": "markdown",
   "id": "60e9b659",
   "metadata": {},
   "source": [
    "### U-28-immunele-6ps-postavschik"
   ]
  },
  {
   "cell_type": "code",
   "execution_count": 24,
   "id": "f598990a",
   "metadata": {
    "collapsed": false,
    "jupyter": {
     "outputs_hidden": false
    },
    "pycharm": {
     "name": "#%%\n"
    }
   },
   "outputs": [
    {
     "name": "stderr",
     "output_type": "stream",
     "text": [
      "                                                                                \r"
     ]
    }
   ],
   "source": [
    "campaign_id = 'U-28-immunele-6ps-postavschik'\n",
    "output_fin_report = f'{campaign_id}_fin_report.csv'\n",
    "output_main_report = f'{campaign_id}_main_report.csv'\n",
    "\n",
    "experiment_params = ExperimentParams(**{\n",
    "    # Camp wave id нужно записать в виде мапы из id в префиксы.\n",
    "    # Префиксы ни на что не влияют, просто для более красивого названия групп\n",
    "    # Заполняются camp_wave_id. Если для контроля и теста одинаковый, то пишем два раза\n",
    "    'map_camp_wave_ids_to_suffixes': {\n",
    "        79946: \"sms_viber_tg\",\n",
    "        79909: \"sms_viber_cg\"\n",
    "    },\n",
    "\n",
    "    # communication period with guest (sending sms, push, etc.)\n",
    "    'date_communication_from': '2022-01-18',\n",
    "    'date_communication_to': '2022-01-24',\n",
    "\n",
    "    'wave_ids': [\n",
    "        80065 #если нет, то -1\n",
    "    ],\n",
    "\n",
    "    'communication_costs': {\n",
    "        'sms': 1.38,\n",
    "        'viber': 1.32,\n",
    "        'email': 0.0083\n",
    "    }\n",
    "})\n",
    "\n",
    "post_analysis_params = PostAnalysisParams(**{\n",
    "    'spark': spark,\n",
    "    'date_from': '2022-01-18',\n",
    "    'date_to': '2022-01-24', #дата постпериода\n",
    "    'control_camp_wave_id': 79909,\n",
    "    'plu_list': list(map(str, [3959,4159731,2137009,2137039,3398892,3426770,3426771,4054537,3426773,3373862,\n",
    "                 3270027,3270028,3356409,3004331,3929853,3398891,4150434,3962,3501805,3326481,\n",
    "                 3342907,3270022,3929854,3662340,3270024,4054541,3961,3971,3675339,2137162,\n",
    "                 4054540,3662339,2137159,3675338,3426774,4004,12260,3501804,3675337,4054539,\n",
    "                 3929852,3342908,3426772,2157641,3662341,3229726,4150433,46222])),\n",
    "    'threshold_item_condition': 'plu_list', #есть категория еще\n",
    "    'count_for_plu_list': 6 #механика от 2-х штук\n",
    "})\n",
    "\n",
    "\n",
    "assert post_analysis_params.control_camp_wave_id in experiment_params.map_camp_wave_ids_to_suffixes.keys()"
   ]
  },
  {
   "cell_type": "code",
   "execution_count": 25,
   "id": "b5f94d2b",
   "metadata": {
    "collapsed": false,
    "jupyter": {
     "outputs_hidden": false
    },
    "pycharm": {
     "name": "#%%\n"
    },
    "scrolled": true
   },
   "outputs": [],
   "source": [
    "experiment_guests = ExperimentParticipants(spark, experiment_params)\n",
    "experiment_guests_communications = experiment_guests.extract()"
   ]
  },
  {
   "cell_type": "code",
   "execution_count": 26,
   "id": "89d0205b",
   "metadata": {
    "collapsed": false,
    "jupyter": {
     "outputs_hidden": false
    },
    "pycharm": {
     "name": "#%%\n"
    },
    "scrolled": true
   },
   "outputs": [
    {
     "name": "stderr",
     "output_type": "stream",
     "text": [
      "                                                                                00]]]]]]]]]]\r"
     ]
    }
   ],
   "source": [
    "guest_metrics_preparation = GuestsMetricsPreprocessing(spark, experiment_guests_communications, post_analysis_params)\n",
    "experiment_guests_with_metrics = guest_metrics_preparation.evaluate()"
   ]
  },
  {
   "cell_type": "code",
   "execution_count": 27,
   "id": "20370749",
   "metadata": {
    "collapsed": false,
    "jupyter": {
     "outputs_hidden": false
    },
    "pycharm": {
     "name": "#%%\n"
    }
   },
   "outputs": [
    {
     "name": "stderr",
     "output_type": "stream",
     "text": [
      "/opt/conda/lib/python3.7/site-packages/pandas/core/indexing.py:1684: PerformanceWarning: DataFrame is highly fragmented.  This is usually the result of calling `frame.insert` many times, which has poor performance.  Consider joining all columns at once using pd.concat(axis=1) instead.  To get a de-fragmented frame, use `newframe = frame.copy()`\n",
      "  self.obj[key] = infer_fill_value(value)\n"
     ]
    }
   ],
   "source": [
    "groups_metrics_aggregation = GroupsMetricsAggregation(spark, experiment_guests_with_metrics, post_analysis_params)\n",
    "groups_metrics, map_to_effects_table = groups_metrics_aggregation.evaluate()"
   ]
  },
  {
   "cell_type": "code",
   "execution_count": 28,
   "id": "e2fd773f",
   "metadata": {
    "collapsed": false,
    "jupyter": {
     "outputs_hidden": false
    },
    "pycharm": {
     "name": "#%%\n"
    }
   },
   "outputs": [
    {
     "data": {
      "text/html": [
       "<div>\n",
       "<style scoped>\n",
       "    .dataframe tbody tr th:only-of-type {\n",
       "        vertical-align: middle;\n",
       "    }\n",
       "\n",
       "    .dataframe tbody tr th {\n",
       "        vertical-align: top;\n",
       "    }\n",
       "\n",
       "    .dataframe thead th {\n",
       "        text-align: right;\n",
       "    }\n",
       "</style>\n",
       "<table border=\"1\" class=\"dataframe\">\n",
       "  <thead>\n",
       "    <tr style=\"text-align: right;\">\n",
       "      <th></th>\n",
       "      <th>Размер выборки, чел.</th>\n",
       "      <th>Затраты на коммуникацию и на баллы (сумма delta с учетом redemption), руб.</th>\n",
       "      <th>Затраты на коммуникацию, руб./гость</th>\n",
       "      <th>Затраты на коммуникацию, руб.</th>\n",
       "      <th>Софинансирование, руб./гость</th>\n",
       "      <th>Софинансирование, руб.</th>\n",
       "      <th>Покупка предложения(чек), товаров (шт)</th>\n",
       "      <th>Покупка предложения(категория), товаров (шт)</th>\n",
       "      <th>Покупка предложения(набор plu), товаров (шт)</th>\n",
       "      <th>Гостей, купившие что-нибудь</th>\n",
       "      <th>...</th>\n",
       "      <th>Эффект Ebitda софинансирование(чек) на группу, руб.</th>\n",
       "      <th>Эффект Ebitda софинансирование(чек) на группу / Ebitda софинансирование(чек) группы</th>\n",
       "      <th>Значимость Ebitda софинансирование(категория)</th>\n",
       "      <th>Эффект Ebitda софинансирование(категория) на гостя, руб.</th>\n",
       "      <th>Эффект Ebitda софинансирование(категория) на группу, руб.</th>\n",
       "      <th>Эффект Ebitda софинансирование(категория) на группу / Ebitda софинансирование(категория) группы</th>\n",
       "      <th>Значимость Ebitda софинансирование(набор plu)</th>\n",
       "      <th>Эффект Ebitda софинансирование(набор plu) на гостя, руб.</th>\n",
       "      <th>Эффект Ebitda софинансирование(набор plu) на группу, руб.</th>\n",
       "      <th>Эффект Ebitda софинансирование(набор plu) на группу / Ebitda софинансирование(набор plu) группы</th>\n",
       "    </tr>\n",
       "    <tr>\n",
       "      <th>group_name</th>\n",
       "      <th></th>\n",
       "      <th></th>\n",
       "      <th></th>\n",
       "      <th></th>\n",
       "      <th></th>\n",
       "      <th></th>\n",
       "      <th></th>\n",
       "      <th></th>\n",
       "      <th></th>\n",
       "      <th></th>\n",
       "      <th></th>\n",
       "      <th></th>\n",
       "      <th></th>\n",
       "      <th></th>\n",
       "      <th></th>\n",
       "      <th></th>\n",
       "      <th></th>\n",
       "      <th></th>\n",
       "      <th></th>\n",
       "      <th></th>\n",
       "      <th></th>\n",
       "    </tr>\n",
       "  </thead>\n",
       "  <tbody>\n",
       "    <tr>\n",
       "      <th>0_79946_sms_viber_tg</th>\n",
       "      <td>94118</td>\n",
       "      <td>118,546.31</td>\n",
       "      <td>1.36</td>\n",
       "      <td>127,852.44</td>\n",
       "      <td>1.47</td>\n",
       "      <td>137,940.00</td>\n",
       "      <td>3,378,798.95</td>\n",
       "      <td>69,966.00</td>\n",
       "      <td>21,408.00</td>\n",
       "      <td>86560</td>\n",
       "      <td>...</td>\n",
       "      <td>351,281.00</td>\n",
       "      <td>0.01</td>\n",
       "      <td>1.00</td>\n",
       "      <td>0.69</td>\n",
       "      <td>65,036.00</td>\n",
       "      <td>0.10</td>\n",
       "      <td>1.00</td>\n",
       "      <td>0.68</td>\n",
       "      <td>64,219.00</td>\n",
       "      <td>0.63</td>\n",
       "    </tr>\n",
       "    <tr>\n",
       "      <th>0_79909_sms_viber_cg</th>\n",
       "      <td>94437</td>\n",
       "      <td>21,883.81</td>\n",
       "      <td>0.00</td>\n",
       "      <td>0.00</td>\n",
       "      <td>0.00</td>\n",
       "      <td>0.00</td>\n",
       "      <td>3,355,227.60</td>\n",
       "      <td>69,027.00</td>\n",
       "      <td>21,086.00</td>\n",
       "      <td>86619</td>\n",
       "      <td>...</td>\n",
       "      <td>-381,670.00</td>\n",
       "      <td>-0.01</td>\n",
       "      <td>0.00</td>\n",
       "      <td>0.18</td>\n",
       "      <td>17,293.00</td>\n",
       "      <td>0.03</td>\n",
       "      <td>0.00</td>\n",
       "      <td>0.29</td>\n",
       "      <td>27,159.00</td>\n",
       "      <td>0.45</td>\n",
       "    </tr>\n",
       "    <tr>\n",
       "      <th>1_79909_sms_viber_cg</th>\n",
       "      <td>40603</td>\n",
       "      <td>20,928.89</td>\n",
       "      <td>0.00</td>\n",
       "      <td>0.00</td>\n",
       "      <td>0.00</td>\n",
       "      <td>0.00</td>\n",
       "      <td>1,455,599.63</td>\n",
       "      <td>29,475.00</td>\n",
       "      <td>8,427.00</td>\n",
       "      <td>37304</td>\n",
       "      <td>...</td>\n",
       "      <td>NaN</td>\n",
       "      <td>NaN</td>\n",
       "      <td>NaN</td>\n",
       "      <td>NaN</td>\n",
       "      <td>NaN</td>\n",
       "      <td>NaN</td>\n",
       "      <td>NaN</td>\n",
       "      <td>NaN</td>\n",
       "      <td>NaN</td>\n",
       "      <td>NaN</td>\n",
       "    </tr>\n",
       "  </tbody>\n",
       "</table>\n",
       "<p>3 rows × 103 columns</p>\n",
       "</div>"
      ],
      "text/plain": [
       "                      Размер выборки, чел.  \\\n",
       "group_name                                   \n",
       "0_79946_sms_viber_tg                 94118   \n",
       "0_79909_sms_viber_cg                 94437   \n",
       "1_79909_sms_viber_cg                 40603   \n",
       "\n",
       "                      Затраты на коммуникацию и на баллы (сумма delta с учетом redemption), руб.  \\\n",
       "group_name                                                                                         \n",
       "0_79946_sms_viber_tg                                         118,546.31                            \n",
       "0_79909_sms_viber_cg                                          21,883.81                            \n",
       "1_79909_sms_viber_cg                                          20,928.89                            \n",
       "\n",
       "                      Затраты на коммуникацию, руб./гость  \\\n",
       "group_name                                                  \n",
       "0_79946_sms_viber_tg                                 1.36   \n",
       "0_79909_sms_viber_cg                                 0.00   \n",
       "1_79909_sms_viber_cg                                 0.00   \n",
       "\n",
       "                      Затраты на коммуникацию, руб.  \\\n",
       "group_name                                            \n",
       "0_79946_sms_viber_tg                     127,852.44   \n",
       "0_79909_sms_viber_cg                           0.00   \n",
       "1_79909_sms_viber_cg                           0.00   \n",
       "\n",
       "                      Софинансирование, руб./гость  Софинансирование, руб.  \\\n",
       "group_name                                                                   \n",
       "0_79946_sms_viber_tg                          1.47              137,940.00   \n",
       "0_79909_sms_viber_cg                          0.00                    0.00   \n",
       "1_79909_sms_viber_cg                          0.00                    0.00   \n",
       "\n",
       "                      Покупка предложения(чек), товаров (шт)  \\\n",
       "group_name                                                     \n",
       "0_79946_sms_viber_tg                            3,378,798.95   \n",
       "0_79909_sms_viber_cg                            3,355,227.60   \n",
       "1_79909_sms_viber_cg                            1,455,599.63   \n",
       "\n",
       "                      Покупка предложения(категория), товаров (шт)  \\\n",
       "group_name                                                           \n",
       "0_79946_sms_viber_tg                                     69,966.00   \n",
       "0_79909_sms_viber_cg                                     69,027.00   \n",
       "1_79909_sms_viber_cg                                     29,475.00   \n",
       "\n",
       "                      Покупка предложения(набор plu), товаров (шт)  \\\n",
       "group_name                                                           \n",
       "0_79946_sms_viber_tg                                     21,408.00   \n",
       "0_79909_sms_viber_cg                                     21,086.00   \n",
       "1_79909_sms_viber_cg                                      8,427.00   \n",
       "\n",
       "                      Гостей, купившие что-нибудь  ...  \\\n",
       "group_name                                         ...   \n",
       "0_79946_sms_viber_tg                        86560  ...   \n",
       "0_79909_sms_viber_cg                        86619  ...   \n",
       "1_79909_sms_viber_cg                        37304  ...   \n",
       "\n",
       "                      Эффект Ebitda софинансирование(чек) на группу, руб.  \\\n",
       "group_name                                                                  \n",
       "0_79946_sms_viber_tg                                         351,281.00     \n",
       "0_79909_sms_viber_cg                                        -381,670.00     \n",
       "1_79909_sms_viber_cg                                                NaN     \n",
       "\n",
       "                      Эффект Ebitda софинансирование(чек) на группу / Ebitda софинансирование(чек) группы  \\\n",
       "group_name                                                                                                  \n",
       "0_79946_sms_viber_tg                                               0.01                                     \n",
       "0_79909_sms_viber_cg                                              -0.01                                     \n",
       "1_79909_sms_viber_cg                                                NaN                                     \n",
       "\n",
       "                      Значимость Ebitda софинансирование(категория)  \\\n",
       "group_name                                                            \n",
       "0_79946_sms_viber_tg                                           1.00   \n",
       "0_79909_sms_viber_cg                                           0.00   \n",
       "1_79909_sms_viber_cg                                            NaN   \n",
       "\n",
       "                      Эффект Ebitda софинансирование(категория) на гостя, руб.  \\\n",
       "group_name                                                                       \n",
       "0_79946_sms_viber_tg                                               0.69          \n",
       "0_79909_sms_viber_cg                                               0.18          \n",
       "1_79909_sms_viber_cg                                                NaN          \n",
       "\n",
       "                      Эффект Ebitda софинансирование(категория) на группу, руб.  \\\n",
       "group_name                                                                        \n",
       "0_79946_sms_viber_tg                                          65,036.00           \n",
       "0_79909_sms_viber_cg                                          17,293.00           \n",
       "1_79909_sms_viber_cg                                                NaN           \n",
       "\n",
       "                      Эффект Ebitda софинансирование(категория) на группу / Ebitda софинансирование(категория) группы  \\\n",
       "group_name                                                                                                              \n",
       "0_79946_sms_viber_tg                                               0.10                                                 \n",
       "0_79909_sms_viber_cg                                               0.03                                                 \n",
       "1_79909_sms_viber_cg                                                NaN                                                 \n",
       "\n",
       "                      Значимость Ebitda софинансирование(набор plu)  \\\n",
       "group_name                                                            \n",
       "0_79946_sms_viber_tg                                           1.00   \n",
       "0_79909_sms_viber_cg                                           0.00   \n",
       "1_79909_sms_viber_cg                                            NaN   \n",
       "\n",
       "                      Эффект Ebitda софинансирование(набор plu) на гостя, руб.  \\\n",
       "group_name                                                                       \n",
       "0_79946_sms_viber_tg                                               0.68          \n",
       "0_79909_sms_viber_cg                                               0.29          \n",
       "1_79909_sms_viber_cg                                                NaN          \n",
       "\n",
       "                      Эффект Ebitda софинансирование(набор plu) на группу, руб.  \\\n",
       "group_name                                                                        \n",
       "0_79946_sms_viber_tg                                          64,219.00           \n",
       "0_79909_sms_viber_cg                                          27,159.00           \n",
       "1_79909_sms_viber_cg                                                NaN           \n",
       "\n",
       "                      Эффект Ebitda софинансирование(набор plu) на группу / Ebitda софинансирование(набор plu) группы  \n",
       "group_name                                                                                                             \n",
       "0_79946_sms_viber_tg                                               0.63                                                \n",
       "0_79909_sms_viber_cg                                               0.45                                                \n",
       "1_79909_sms_viber_cg                                                NaN                                                \n",
       "\n",
       "[3 rows x 103 columns]"
      ]
     },
     "execution_count": 28,
     "metadata": {},
     "output_type": "execute_result"
    }
   ],
   "source": [
    "fin_report = map_col_names_to_russian(groups_metrics)\n",
    "fin_report"
   ]
  },
  {
   "cell_type": "code",
   "execution_count": 29,
   "id": "daff2e77",
   "metadata": {
    "collapsed": false,
    "jupyter": {
     "outputs_hidden": false
    },
    "pycharm": {
     "name": "#%%\n"
    },
    "scrolled": true
   },
   "outputs": [],
   "source": [
    "fin_report['meta_post_analysis'] = str(post_analysis_params.__dict__)\n",
    "fin_report['meta_experiment_params'] = str(experiment_params.__dict__)\n",
    "groups_metrics['meta_post_analysis'] = str(post_analysis_params.__dict__)\n",
    "groups_metrics['meta_experiment_params'] = str(experiment_params.__dict__)\n",
    "\n",
    "groups_metrics.T.to_csv(output_main_report, encoding='utf-8-sig', sep=';')\n",
    "fin_report.T.to_csv(output_fin_report, encoding='utf-8-sig', sep=';')"
   ]
  }
 ],
 "metadata": {
  "kernelspec": {
   "display_name": "Python 3 (ipykernel)",
   "language": "python",
   "name": "python3"
  },
  "language_info": {
   "codemirror_mode": {
    "name": "ipython",
    "version": 3
   },
   "file_extension": ".py",
   "mimetype": "text/x-python",
   "name": "python",
   "nbconvert_exporter": "python",
   "pygments_lexer": "ipython3",
   "version": "3.7.10"
  }
 },
 "nbformat": 4,
 "nbformat_minor": 5
}
