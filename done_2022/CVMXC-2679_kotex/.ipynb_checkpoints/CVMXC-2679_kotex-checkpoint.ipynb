{
 "cells": [
  {
   "cell_type": "markdown",
   "id": "9c19c095",
   "metadata": {},
   "source": [
    "https://jira.x5.ru/browse/CVMXC-2679"
   ]
  },
  {
   "cell_type": "code",
   "execution_count": 1,
   "id": "fe27fa7e",
   "metadata": {},
   "outputs": [],
   "source": [
    "name = 'CVMXC-2679_kotex'"
   ]
  },
  {
   "cell_type": "code",
   "execution_count": 2,
   "id": "6e91cdac",
   "metadata": {},
   "outputs": [],
   "source": [
    "import sys\n",
    "import pandas as pd\n",
    "import pyspark.sql.functions as F\n",
    "sys.path.append('/home/jovyan/glow-byte-filters-pyspark')\n",
    "sys.path.append('/home/jovyan/x5_some_tasks/Osipov/')\n",
    "import datetime\n",
    "from datetime import timedelta\n",
    "from spark import *\n",
    "from utils_osipov import *\n",
    "from logic_filters import *\n",
    "from segmentation import *\n",
    "\n",
    "%load_ext autoreload\n",
    "%autoreload 2\n",
    "\n",
    "pd.options.display.float_format = '{:,.2f}'.format\n",
    "pd.options.display.max_rows = 500"
   ]
  },
  {
   "cell_type": "code",
   "execution_count": 3,
   "id": "275ef4e0",
   "metadata": {
    "collapsed": false,
    "jupyter": {
     "outputs_hidden": false
    },
    "pycharm": {
     "name": "#%%\n"
    }
   },
   "outputs": [
    {
     "name": "stderr",
     "output_type": "stream",
     "text": [
      "Setting default log level to \"WARN\".\n",
      "To adjust logging level use sc.setLogLevel(newLevel). For SparkR, use setLogLevel(newLevel).\n",
      "22/02/14 14:24:47 WARN cluster.YarnSchedulerBackend$YarnSchedulerEndpoint: Attempted to request executors before the AM has registered!\n"
     ]
    }
   ],
   "source": [
    "sc, spark = restart_spark(name, 100, executor_memory=\"3G\", executor_cores=5, driver_memory=\"12G\",\n",
    "                          additional_params={\"spark.sql.shuffle.partitions\": \"200\"})\n",
    "sc.setLogLevel('ERROR')"
   ]
  },
  {
   "cell_type": "code",
   "execution_count": 4,
   "id": "ed1d869b",
   "metadata": {},
   "outputs": [],
   "source": [
    "LOYALTY_CARDS = \"hive_ssa_tc5.loyalty_card\"\n",
    "LOYALTY_CARDHOLDERS = \"hive_ssa_tc5.loyalty_cardholder\"\n",
    "ACCOUNTS = \"hive_ssa_tc5.account\"\n",
    "CVM5_GUESTS = \"hive_cvm_acrm.cvm5_guests\"\n",
    "\n",
    "DIM_STORE = \"hive_ssa_main.dim_store\"\n",
    "CHECKS_HEADERS = \"hive_ssa_main.fct_rtl_txn\"\n",
    "CHECKS_ITEMS = \"hive_ssa_main.fct_rtl_txn_item\"\n",
    "PRODUCTS = \"hive_ssa_tc5.cvm_product\""
   ]
  },
  {
   "cell_type": "markdown",
   "id": "71dc70ff",
   "metadata": {},
   "source": [
    "### Выбираем гостей нужного юзкейса"
   ]
  },
  {
   "cell_type": "code",
   "execution_count": 7,
   "id": "93a3fd96",
   "metadata": {},
   "outputs": [],
   "source": [
    "usecase = ['churn', 'frequency']\n",
    "dt = datetime.date(2022, 2, 11)"
   ]
  },
  {
   "cell_type": "code",
   "execution_count": 8,
   "id": "c0f453dc",
   "metadata": {},
   "outputs": [],
   "source": [
    "customers_usecase_churn = (spark\n",
    "                     .table(CVM5_GUESTS)\n",
    "                     .filter(F.to_date('calculation_dt') == dt)\n",
    "                     .filter(F.col('usecase').isin(usecase[0]))\n",
    "#                      .filter(F.col('lifetime') >= lifetime)\n",
    "#                      .filter(F.col('frequency') >= freq)\n",
    "                     .select('account_no', 'customer_rk')\n",
    "                            )\n",
    "customers_usecase_freq = (spark\n",
    "                     .table(CVM5_GUESTS)\n",
    "                     .filter(F.to_date('calculation_dt') == dt)\n",
    "                     .filter(F.col('usecase').isin(usecase[1]))\n",
    "#                      .filter(F.col('lifetime') >= lifetime)\n",
    "#                      .filter(F.col('frequency') >= freq)\n",
    "                     .select('account_no', 'customer_rk')\n",
    "                            )"
   ]
  },
  {
   "cell_type": "code",
   "execution_count": 9,
   "id": "2760fad7",
   "metadata": {},
   "outputs": [
    {
     "name": "stderr",
     "output_type": "stream",
     "text": [
      "                                                                                \r"
     ]
    },
    {
     "name": "stdout",
     "output_type": "stream",
     "text": [
      "16775430\n"
     ]
    },
    {
     "name": "stderr",
     "output_type": "stream",
     "text": [
      "[Stage 2:====================================================>     (9 + 1) / 10]"
     ]
    },
    {
     "name": "stdout",
     "output_type": "stream",
     "text": [
      "16952965\n"
     ]
    },
    {
     "name": "stderr",
     "output_type": "stream",
     "text": [
      "                                                                                \r"
     ]
    }
   ],
   "source": [
    "print(customers_usecase_churn.count()) #16775430\n",
    "print(customers_usecase_freq.count()) #16952965"
   ]
  },
  {
   "cell_type": "markdown",
   "id": "4209d6d4",
   "metadata": {},
   "source": [
    "### 1 проверяем на доступность отобранных гостей в определенную дату"
   ]
  },
  {
   "cell_type": "code",
   "execution_count": 8,
   "id": "b5fdf38b",
   "metadata": {},
   "outputs": [],
   "source": [
    "check_date = '2022-03-07'"
   ]
  },
  {
   "cell_type": "code",
   "execution_count": 9,
   "id": "acc1f66d",
   "metadata": {},
   "outputs": [
    {
     "name": "stdout",
     "output_type": "stream",
     "text": [
      "\u001b[93m Время выполнения: 0:00:20\n"
     ]
    }
   ],
   "source": [
    "seg_sms1 = (sms_channel_filters_glowbyte(spark=spark,\n",
    "                                         guests=customers_usecase_churn, \n",
    "                                         usecase_name=usecase[0], \n",
    "                                         check_date=check_date, \n",
    "                                         debug_mode=False\n",
    "                                        )\n",
    "                                    .withColumn('usecase', F.lit('churn'))\n",
    "                                    .select('customer_rk', 'usecase')\n",
    "                                    .distinct()\n",
    "           )"
   ]
  },
  {
   "cell_type": "code",
   "execution_count": 10,
   "id": "0576ae2d",
   "metadata": {},
   "outputs": [
    {
     "name": "stdout",
     "output_type": "stream",
     "text": [
      "\u001b[93m Время выполнения: 0:00:11\n"
     ]
    }
   ],
   "source": [
    "seg_sms2 = (sms_channel_filters_glowbyte(spark=spark,\n",
    "                                         guests=customers_usecase_freq, \n",
    "                                         usecase_name=usecase[1], \n",
    "                                         check_date=check_date, \n",
    "                                         debug_mode=False)\n",
    "                                    .withColumn('usecase', F.lit('freq'))\n",
    "                                    .select('customer_rk', 'usecase')\n",
    "                                    .distinct()\n",
    "           )"
   ]
  },
  {
   "cell_type": "code",
   "execution_count": 11,
   "id": "a5dfcdd9",
   "metadata": {},
   "outputs": [],
   "source": [
    "seg_sms = seg_sms1.union(seg_sms2).distinct()"
   ]
  },
  {
   "cell_type": "code",
   "execution_count": 12,
   "id": "d58704a1",
   "metadata": {},
   "outputs": [
    {
     "name": "stderr",
     "output_type": "stream",
     "text": [
      "[Stage 4:=====================================================> (161 + 5) / 166]22/02/11 15:58:35 ERROR cluster.YarnScheduler: Lost executor 34 on mn-hd0236.x5.ru: Unable to create executor due to Unable to register with external shuffle server due to : java.util.concurrent.TimeoutException: Timeout waiting for task.\n",
      "                                                                                951]]\r"
     ]
    }
   ],
   "source": [
    "seg_sms.write.parquet('temp2679_new1', mode='overwrite')\n",
    "seg_sms = spark.read.parquet('temp2679_new1')"
   ]
  },
  {
   "cell_type": "code",
   "execution_count": 13,
   "id": "de765d3a",
   "metadata": {},
   "outputs": [
    {
     "name": "stderr",
     "output_type": "stream",
     "text": [
      "                                                                                \r"
     ]
    },
    {
     "data": {
      "text/plain": [
       "15055810"
      ]
     },
     "execution_count": 13,
     "metadata": {},
     "output_type": "execute_result"
    }
   ],
   "source": [
    "seg_sms.count() #"
   ]
  },
  {
   "cell_type": "markdown",
   "id": "e63656ef",
   "metadata": {},
   "source": [
    "### 2 проверяем на доступность отобранных гостей в определенную дату"
   ]
  },
  {
   "cell_type": "code",
   "execution_count": 14,
   "id": "d3e0fbcd",
   "metadata": {},
   "outputs": [
    {
     "name": "stdout",
     "output_type": "stream",
     "text": [
      "\u001b[93m Время выполнения: 0:00:01\n"
     ]
    }
   ],
   "source": [
    "slip_check1 = (slip_check_channel_filters_glowbyte(spark=spark,\n",
    "                                         guests=customers_usecase_churn, \n",
    "                                         usecase_name=usecase[0], \n",
    "                                         check_date=check_date, \n",
    "                                         debug_mode=False)\n",
    "                                    .withColumn('usecase', F.lit('churn'))\n",
    "                                    .select('customer_rk', 'usecase')\n",
    "                                    .distinct()\n",
    "           )"
   ]
  },
  {
   "cell_type": "code",
   "execution_count": 15,
   "id": "f5a4a9a0",
   "metadata": {},
   "outputs": [
    {
     "name": "stdout",
     "output_type": "stream",
     "text": [
      "\u001b[93m Время выполнения: 0:00:01\n"
     ]
    }
   ],
   "source": [
    "slip_check2 = (slip_check_channel_filters_glowbyte(spark=spark,\n",
    "                                         guests=customers_usecase_freq, \n",
    "                                         usecase_name=usecase[1], \n",
    "                                         check_date=check_date, \n",
    "                                         debug_mode=False)\n",
    "                                    .withColumn('usecase', F.lit('freq'))\n",
    "                                    .select('customer_rk', 'usecase')\n",
    "                                    .distinct()\n",
    "           )"
   ]
  },
  {
   "cell_type": "code",
   "execution_count": 16,
   "id": "307a4a76",
   "metadata": {},
   "outputs": [],
   "source": [
    "slip_check = slip_check1.union(slip_check2).distinct()"
   ]
  },
  {
   "cell_type": "code",
   "execution_count": 17,
   "id": "b9ba1eaf",
   "metadata": {},
   "outputs": [
    {
     "name": "stderr",
     "output_type": "stream",
     "text": [
      "22/02/11 16:08:39 ERROR client.TransportClient: Failed to send RPC RPC 7987644826857027621 to /192.168.234.57:57280: java.nio.channels.ClosedChannelException\n",
      "java.nio.channels.ClosedChannelException\n",
      "\tat io.netty.channel.AbstractChannel$AbstractUnsafe.write(...)(Unknown Source)\n",
      "                                                                                ]]\r"
     ]
    }
   ],
   "source": [
    "slip_check.write.parquet('temp2679_new2', mode='overwrite')\n",
    "slip_check = spark.read.parquet('temp2679_new2')"
   ]
  },
  {
   "cell_type": "code",
   "execution_count": 18,
   "id": "1b295e0e",
   "metadata": {},
   "outputs": [
    {
     "name": "stderr",
     "output_type": "stream",
     "text": [
      "                                                                                \r"
     ]
    },
    {
     "data": {
      "text/plain": [
       "29218454"
      ]
     },
     "execution_count": 18,
     "metadata": {},
     "output_type": "execute_result"
    }
   ],
   "source": [
    "slip_check.count() #"
   ]
  },
  {
   "cell_type": "code",
   "execution_count": 19,
   "id": "87c90474",
   "metadata": {},
   "outputs": [
    {
     "name": "stderr",
     "output_type": "stream",
     "text": [
      "                                                                                \r"
     ]
    },
    {
     "data": {
      "text/plain": [
       "15055810"
      ]
     },
     "execution_count": 19,
     "metadata": {},
     "output_type": "execute_result"
    }
   ],
   "source": [
    "seg_sms.join(slip_check, 'customer_rk', 'inner').count()"
   ]
  },
  {
   "cell_type": "markdown",
   "id": "9eeb8d58",
   "metadata": {},
   "source": [
    "### Проверка на доступность плю в магазинах"
   ]
  },
  {
   "cell_type": "markdown",
   "id": "1401ba5f",
   "metadata": {},
   "source": [
    "РФ"
   ]
  },
  {
   "cell_type": "code",
   "execution_count": 20,
   "id": "5a6cdf28",
   "metadata": {},
   "outputs": [],
   "source": [
    "plu_codes = [6075, 3364392, 3635965, 3364389, 3647604, 6076, 3017398]"
   ]
  },
  {
   "cell_type": "code",
   "execution_count": 21,
   "id": "901abf39",
   "metadata": {},
   "outputs": [
    {
     "name": "stderr",
     "output_type": "stream",
     "text": [
      "                                                                                \r"
     ]
    },
    {
     "data": {
      "text/plain": [
       "22011"
      ]
     },
     "execution_count": 21,
     "metadata": {},
     "output_type": "execute_result"
    }
   ],
   "source": [
    "pplu = spark.createDataFrame(pd.DataFrame({\"plu_code\": plu_codes}))\n",
    "\n",
    "shops = (spark.table(DIM_STORE)\n",
    "            .filter(F.col('valid_to_dttm')== datetime.datetime(5999, 1, 1, 0, 0))\n",
    "            .selectExpr('store_id as plant')\n",
    "            .distinct()\n",
    "            )\n",
    "\n",
    "\n",
    "tc5_stores_assort = (\n",
    "    spark.table('HIVE_SSA_MAIN.ASSORTMENT_X_PLU_X_STORE')\n",
    "    .withColumnRenamed('plu_id', 'plu_code')\n",
    "    .withColumnRenamed('store_id', 'plant')\n",
    "    .filter(F.col(\"plu_negate_flg\") != 1)\n",
    "    .selectExpr('plu_code', 'plant')\n",
    "    .join(F.broadcast(pplu), 'plu_code', 'inner')\n",
    ")\n",
    "\n",
    "plants = (shops.join(tc5_stores_assort, on='plant', how='inner')\n",
    "                .select('plant')\n",
    "                .distinct()\n",
    "                .toPandas()['plant']\n",
    "                .tolist()\n",
    "         )\n",
    "\n",
    "len(plants)"
   ]
  },
  {
   "cell_type": "markdown",
   "id": "b810144d",
   "metadata": {},
   "source": [
    "### Heavy users"
   ]
  },
  {
   "cell_type": "markdown",
   "id": "a8da3249",
   "metadata": {},
   "source": [
    "### Собираем чеки этих гостей и оставляем тех, кто покупал продукты с synthetic_catalog_id"
   ]
  },
  {
   "cell_type": "code",
   "execution_count": 22,
   "id": "a69b217c",
   "metadata": {},
   "outputs": [],
   "source": [
    "start_date = datetime.date(2021, 9, 8)\n",
    "end_date = datetime.date(2022, 2, 7)"
   ]
  },
  {
   "cell_type": "code",
   "execution_count": 23,
   "id": "55eadd1f",
   "metadata": {},
   "outputs": [],
   "source": [
    "checks_headers = (spark.table(CHECKS_HEADERS)\n",
    "                      .filter(F.col('rtl_txn_dt').between(start_date, end_date))\n",
    "                      .filter((F.col('loyalty_card_no') != '') & (F.col('loyalty_card_no').isNotNull()))\n",
    "                      .filter(F.col('financial_unit_format_dk') == 'D')\n",
    "                      .filter(F.col('rtl_txn_cancel_flg') == 0)\n",
    "                      .select('rtl_txn_id', 'loyalty_card_no', 'store_id')\n",
    "                     )\n"
   ]
  },
  {
   "cell_type": "code",
   "execution_count": 24,
   "id": "a4169d57",
   "metadata": {},
   "outputs": [],
   "source": [
    "checks_headers_tc5 = checks_headers.filter(F.col('store_id').isin(plants)) #оставили чеки только с нужными магазинами"
   ]
  },
  {
   "cell_type": "code",
   "execution_count": 25,
   "id": "055c03bb",
   "metadata": {},
   "outputs": [],
   "source": [
    "loyalty_cards = (spark\n",
    "                    .table(LOYALTY_CARDS)\n",
    "                    .withColumnRenamed(\"loyalty_card_id\", \"loyalty_card_no\")\n",
    "                    .withColumnRenamed(\"loyalty_account_id\", \"account_no\")\n",
    "                    .withColumnRenamed(\"loyalty_account_acrm_id\", \"account_rk\")\n",
    "                    .select('account_no', 'loyalty_card_no')\n",
    "                )\n",
    "loyalty_cardholders = (spark\n",
    "                        .table(LOYALTY_CARDHOLDERS)\n",
    "                        .filter(F.col('loyalty_cardholder_age_yrs') < 40)\n",
    "                        .filter(F.col('gender_dk') == 'F')\n",
    "                        .withColumnRenamed(\"loyalty_cardholder_acrm_id\", \"customer_rk\")\n",
    "                        .withColumnRenamed(\"loyalty_account_id\", \"account_no\")\n",
    "                        .select('account_no', 'customer_rk')\n",
    "                      )\n",
    "clients_info1 = loyalty_cards.join(loyalty_cardholders, on='account_no', how='inner')\n",
    "clients_info1 = clients_info1.join(seg_sms, on='customer_rk', how='inner')\n",
    "clients_info2 = loyalty_cards.join(loyalty_cardholders, on='account_no', how='inner')\n",
    "clients_info2 = clients_info2.join(slip_check, on='customer_rk', how='inner')"
   ]
  },
  {
   "cell_type": "code",
   "execution_count": 26,
   "id": "23a463f5",
   "metadata": {},
   "outputs": [],
   "source": [
    "checks_headers_tc51 = checks_headers_tc5.join(clients_info1, on='loyalty_card_no') #оставили чеки только нужных гостей"
   ]
  },
  {
   "cell_type": "code",
   "execution_count": 27,
   "id": "b8491a95",
   "metadata": {},
   "outputs": [],
   "source": [
    "checks_headers_tc52 = checks_headers_tc5.join(clients_info2, on='loyalty_card_no') #оставили чеки только нужных гостей"
   ]
  },
  {
   "cell_type": "code",
   "execution_count": 28,
   "id": "60fd5229",
   "metadata": {},
   "outputs": [],
   "source": [
    "checks_items = (spark.table(CHECKS_ITEMS) \n",
    "                    .withColumnRenamed('plu_id', 'plu_code')\n",
    "                    .withColumnRenamed('turnover_no_vat_amt', 'zsalnovat')\n",
    "                    .withColumnRenamed('turnover_vat_rub_amt', 'zsale_vat')\n",
    "                    .withColumnRenamed('prime_cost_no_vat_amt', 'zcst_n')\n",
    "                    .withColumnRenamed('turnover_base_uom_amt', 'base_qty')\n",
    "                    .withColumnRenamed('discount_amt', 'zdiscount')\n",
    "                    .withColumnRenamed('fact_regular_promo_flg', 'zpromofl')\n",
    "                    .filter(F.col('rtl_txn_dt').between(start_date, end_date))\n",
    "                    .filter((F.col('zsalnovat') >= 0) & (F.col('base_qty') >= 0) & (F.col('zcst_n') > 0)) #keep only correct data\n",
    "                        .select('plu_code' #items id\n",
    "                                , 'rtl_txn_id' #cheques id\n",
    "                               , 'base_qty'\n",
    "                               )\n",
    "                   )\n"
   ]
  },
  {
   "cell_type": "code",
   "execution_count": 29,
   "id": "3493a2dc",
   "metadata": {},
   "outputs": [],
   "source": [
    "# plu_hierarchy_lvl_4_dk = ['FR0604001', 'FR0608005', 'FR0604002', 'FR0608001'] #сметана, молоко, кефир\n",
    "# syntethic_category_id = [96,57,75,73,101,55,56,22]\n",
    "plu_brand_code = ['2452']\n",
    "# plu_vendor_nm = ['Данон']\n",
    "# plu_not_in = [4138521]"
   ]
  },
  {
   "cell_type": "code",
   "execution_count": 30,
   "id": "b08f3738",
   "metadata": {},
   "outputs": [
    {
     "name": "stderr",
     "output_type": "stream",
     "text": [
      "                                                                                \r"
     ]
    }
   ],
   "source": [
    "plu_codes_cat = (spark\n",
    "                 .table(PRODUCTS)\n",
    "#                  .filter(F.col('plu_hierarchy_lvl_4_dk').isin(plu_hierarchy_lvl_4_dk))\n",
    "#                  .filter(F.col('plu_vendor_nm').isin(plu_vendor_nm))\n",
    "#                  .filter(F.col('syntethic_category_id').isin(syntethic_category_id))\n",
    "                 .filter(F.col('plu_brand_code').isin(plu_brand_code))\n",
    "#                  .filter(~F.col('plu_id').isin(plu_not_in))\n",
    "                 .select('plu_id')\n",
    "                 .distinct()\n",
    "                 .toPandas()['plu_id']\n",
    "                 .tolist()\n",
    "                )"
   ]
  },
  {
   "cell_type": "code",
   "execution_count": 31,
   "id": "2db79f5c",
   "metadata": {},
   "outputs": [],
   "source": [
    "checks_items = checks_items.filter(F.col('plu_code').isin(plu_codes_cat)) # только чеки с нужными plu"
   ]
  },
  {
   "cell_type": "code",
   "execution_count": 32,
   "id": "4cf71b58",
   "metadata": {},
   "outputs": [],
   "source": [
    "checks_tc51 = checks_items.join(checks_headers_tc51, 'rtl_txn_id', how='inner')"
   ]
  },
  {
   "cell_type": "code",
   "execution_count": 33,
   "id": "2532a073",
   "metadata": {},
   "outputs": [],
   "source": [
    "checks_tc52 = checks_items.join(checks_headers_tc52, 'rtl_txn_id', how='inner')"
   ]
  },
  {
   "cell_type": "code",
   "execution_count": 34,
   "id": "aed252dc",
   "metadata": {},
   "outputs": [],
   "source": [
    "accs = ['account_no']\n",
    "pdf = checks_tc51.groupby(accs).agg(F.sum('base_qty').alias('base_qty_per_period'))\n",
    "pdf = pdf.filter(F.col('base_qty_per_period') >= 1)\n",
    "checks_tc51 = checks_tc51.join(pdf, on=accs)"
   ]
  },
  {
   "cell_type": "code",
   "execution_count": 35,
   "id": "b9585174",
   "metadata": {},
   "outputs": [],
   "source": [
    "pdf2 = checks_tc52.groupby(accs).agg(F.sum('base_qty').alias('base_qty_per_period'))\n",
    "pdf2 = pdf2.filter(F.col('base_qty_per_period') >= 1)\n",
    "checks_tc52 = checks_tc52.join(pdf2, on=accs)"
   ]
  },
  {
   "cell_type": "code",
   "execution_count": 38,
   "id": "8c0430e2",
   "metadata": {},
   "outputs": [],
   "source": [
    "seg1 = (checks_tc51.withColumn('group', F.lit('1'))\n",
    "                  .select('customer_rk', 'group', 'usecase')\n",
    "                  .distinct()\n",
    "      )"
   ]
  },
  {
   "cell_type": "code",
   "execution_count": 39,
   "id": "d20b59d8",
   "metadata": {},
   "outputs": [],
   "source": [
    "seg2 = (checks_tc52.withColumn('group', F.lit('2'))\n",
    "                  .select('customer_rk', 'group', 'usecase')\n",
    "                  .distinct()\n",
    "      )"
   ]
  },
  {
   "cell_type": "code",
   "execution_count": 40,
   "id": "3db63fe2",
   "metadata": {},
   "outputs": [],
   "source": [
    "seg = seg1.union(seg2)"
   ]
  },
  {
   "cell_type": "code",
   "execution_count": 10,
   "id": "5690f34b",
   "metadata": {},
   "outputs": [
    {
     "name": "stderr",
     "output_type": "stream",
     "text": [
      "                                                                                \r"
     ]
    }
   ],
   "source": [
    "# seg.write.parquet('temp2679_seg_new1', mode='overwrite')\n",
    "seg = spark.read.parquet('temp2679_seg_new1')"
   ]
  },
  {
   "cell_type": "code",
   "execution_count": 42,
   "id": "e642ae3e",
   "metadata": {},
   "outputs": [
    {
     "name": "stderr",
     "output_type": "stream",
     "text": [
      "                                                                                \r"
     ]
    }
   ],
   "source": [
    "seg_pd1 = seg.toPandas()"
   ]
  },
  {
   "cell_type": "code",
   "execution_count": 44,
   "id": "4dc92cb9",
   "metadata": {},
   "outputs": [
    {
     "data": {
      "text/html": [
       "<div>\n",
       "<style scoped>\n",
       "    .dataframe tbody tr th:only-of-type {\n",
       "        vertical-align: middle;\n",
       "    }\n",
       "\n",
       "    .dataframe tbody tr th {\n",
       "        vertical-align: top;\n",
       "    }\n",
       "\n",
       "    .dataframe thead th {\n",
       "        text-align: right;\n",
       "    }\n",
       "</style>\n",
       "<table border=\"1\" class=\"dataframe\">\n",
       "  <thead>\n",
       "    <tr style=\"text-align: right;\">\n",
       "      <th></th>\n",
       "      <th>customer_rk</th>\n",
       "      <th>group</th>\n",
       "      <th>usecase</th>\n",
       "    </tr>\n",
       "  </thead>\n",
       "  <tbody>\n",
       "    <tr>\n",
       "      <th>0</th>\n",
       "      <td>59046148</td>\n",
       "      <td>2</td>\n",
       "      <td>churn</td>\n",
       "    </tr>\n",
       "    <tr>\n",
       "      <th>1</th>\n",
       "      <td>129306239</td>\n",
       "      <td>2</td>\n",
       "      <td>freq</td>\n",
       "    </tr>\n",
       "    <tr>\n",
       "      <th>2</th>\n",
       "      <td>38972934</td>\n",
       "      <td>2</td>\n",
       "      <td>freq</td>\n",
       "    </tr>\n",
       "    <tr>\n",
       "      <th>3</th>\n",
       "      <td>94737949</td>\n",
       "      <td>2</td>\n",
       "      <td>freq</td>\n",
       "    </tr>\n",
       "    <tr>\n",
       "      <th>4</th>\n",
       "      <td>75138671</td>\n",
       "      <td>2</td>\n",
       "      <td>freq</td>\n",
       "    </tr>\n",
       "  </tbody>\n",
       "</table>\n",
       "</div>"
      ],
      "text/plain": [
       "  customer_rk group usecase\n",
       "0    59046148     2   churn\n",
       "1   129306239     2    freq\n",
       "2    38972934     2    freq\n",
       "3    94737949     2    freq\n",
       "4    75138671     2    freq"
      ]
     },
     "execution_count": 44,
     "metadata": {},
     "output_type": "execute_result"
    }
   ],
   "source": [
    "seg_pd1.head()"
   ]
  },
  {
   "cell_type": "markdown",
   "id": "2a514804",
   "metadata": {},
   "source": [
    "### Конкуренты"
   ]
  },
  {
   "cell_type": "markdown",
   "id": "3ce720cf",
   "metadata": {},
   "source": [
    "### Собираем чеки этих гостей и оставляем тех, кто покупал продукты с synthetic_catalog_id"
   ]
  },
  {
   "cell_type": "code",
   "execution_count": 45,
   "id": "3923f780",
   "metadata": {},
   "outputs": [],
   "source": [
    "start_date = datetime.date(2021, 9, 8)\n",
    "end_date = datetime.date(2022, 2, 7)"
   ]
  },
  {
   "cell_type": "code",
   "execution_count": 46,
   "id": "00b56b20",
   "metadata": {},
   "outputs": [],
   "source": [
    "checks_headers = (spark.table(CHECKS_HEADERS)\n",
    "                      .filter(F.col('rtl_txn_dt').between(start_date, end_date))\n",
    "                      .filter((F.col('loyalty_card_no') != '') & (F.col('loyalty_card_no').isNotNull()))\n",
    "                      .filter(F.col('financial_unit_format_dk') == 'D')\n",
    "                      .filter(F.col('rtl_txn_cancel_flg') == 0)\n",
    "                      .select('rtl_txn_id', 'loyalty_card_no', 'store_id')\n",
    "                     )\n"
   ]
  },
  {
   "cell_type": "code",
   "execution_count": 47,
   "id": "1755a69d",
   "metadata": {},
   "outputs": [],
   "source": [
    "checks_headers_tc5 = checks_headers.filter(F.col('store_id').isin(plants)) #оставили чеки только с нужными магазинами"
   ]
  },
  {
   "cell_type": "code",
   "execution_count": 48,
   "id": "3e977a87",
   "metadata": {},
   "outputs": [],
   "source": [
    "loyalty_cards = (spark\n",
    "                    .table(LOYALTY_CARDS)\n",
    "                    .withColumnRenamed(\"loyalty_card_id\", \"loyalty_card_no\")\n",
    "                    .withColumnRenamed(\"loyalty_account_id\", \"account_no\")\n",
    "                    .withColumnRenamed(\"loyalty_account_acrm_id\", \"account_rk\")\n",
    "                    .select('account_no', 'loyalty_card_no')\n",
    "                )\n",
    "loyalty_cardholders = (spark\n",
    "                        .table(LOYALTY_CARDHOLDERS)\n",
    "                        .filter(F.col('loyalty_cardholder_age_yrs') < 40)\n",
    "                        .filter(F.col('gender_dk') == 'F')\n",
    "                        .withColumnRenamed(\"loyalty_cardholder_acrm_id\", \"customer_rk\")\n",
    "                        .withColumnRenamed(\"loyalty_account_id\", \"account_no\")\n",
    "                        .select('account_no', 'customer_rk')\n",
    "                      )\n",
    "clients_info1 = loyalty_cards.join(loyalty_cardholders, on='account_no', how='inner')\n",
    "clients_info1 = clients_info1.join(seg_sms, on='customer_rk', how='inner')\n",
    "clients_info2 = loyalty_cards.join(loyalty_cardholders, on='account_no', how='inner')\n",
    "clients_info2 = clients_info2.join(slip_check, on='customer_rk', how='inner')"
   ]
  },
  {
   "cell_type": "code",
   "execution_count": 49,
   "id": "49d5a33c",
   "metadata": {},
   "outputs": [],
   "source": [
    "checks_headers_tc51 = checks_headers_tc5.join(clients_info1, on='loyalty_card_no') #оставили чеки только нужных гостей"
   ]
  },
  {
   "cell_type": "code",
   "execution_count": 50,
   "id": "929f22ee",
   "metadata": {},
   "outputs": [],
   "source": [
    "checks_headers_tc52 = checks_headers_tc5.join(clients_info2, on='loyalty_card_no') #оставили чеки только нужных гостей"
   ]
  },
  {
   "cell_type": "code",
   "execution_count": 51,
   "id": "6f279e5d",
   "metadata": {},
   "outputs": [],
   "source": [
    "checks_items = (spark.table(CHECKS_ITEMS) \n",
    "                    .withColumnRenamed('plu_id', 'plu_code')\n",
    "                    .withColumnRenamed('turnover_no_vat_amt', 'zsalnovat')\n",
    "                    .withColumnRenamed('turnover_vat_rub_amt', 'zsale_vat')\n",
    "                    .withColumnRenamed('prime_cost_no_vat_amt', 'zcst_n')\n",
    "                    .withColumnRenamed('turnover_base_uom_amt', 'base_qty')\n",
    "                    .withColumnRenamed('discount_amt', 'zdiscount')\n",
    "                    .withColumnRenamed('fact_regular_promo_flg', 'zpromofl')\n",
    "                    .filter(F.col('rtl_txn_dt').between(start_date, end_date))\n",
    "                    .filter((F.col('zsalnovat') >= 0) & (F.col('base_qty') >= 0) & (F.col('zcst_n') > 0)) #keep only correct data\n",
    "                        .select('plu_code' #items id\n",
    "                                , 'rtl_txn_id' #cheques id\n",
    "                               , 'base_qty'\n",
    "                               )\n",
    "                   )\n"
   ]
  },
  {
   "cell_type": "code",
   "execution_count": 52,
   "id": "4bce94dd",
   "metadata": {},
   "outputs": [],
   "source": [
    "plu_hierarchy_lvl_4_dk = ['FD0911001']\n",
    "# syntethic_category_id = [96,57,75,73,101,55,56,22]\n",
    "# plu_brand_code = ['2452']\n",
    "# plu_vendor_nm = ['Данон']\n",
    "# plu_not_in = [4138521]"
   ]
  },
  {
   "cell_type": "code",
   "execution_count": 53,
   "id": "7be97b15",
   "metadata": {},
   "outputs": [
    {
     "name": "stderr",
     "output_type": "stream",
     "text": [
      "                                                                                \r"
     ]
    }
   ],
   "source": [
    "plu_codes_cat = (spark\n",
    "                 .table(PRODUCTS)\n",
    "                 .filter(F.col('plu_hierarchy_lvl_4_dk').isin(plu_hierarchy_lvl_4_dk))\n",
    "#                  .filter(F.col('plu_vendor_nm').isin(plu_vendor_nm))\n",
    "#                  .filter(F.col('syntethic_category_id').isin(syntethic_category_id))\n",
    "#                  .filter(~F.col('plu_brand_code').isin(plu_brand_code))\n",
    "#                  .filter(~F.col('plu_id').isin(plu_not_in))\n",
    "                 .select('plu_id')\n",
    "                 .distinct()\n",
    "                 .toPandas()['plu_id']\n",
    "                 .tolist()\n",
    "                )"
   ]
  },
  {
   "cell_type": "code",
   "execution_count": 54,
   "id": "d9636207",
   "metadata": {},
   "outputs": [],
   "source": [
    "checks_items = checks_items.filter(F.col('plu_code').isin(plu_codes_cat)) # только чеки с нужными plu"
   ]
  },
  {
   "cell_type": "code",
   "execution_count": 55,
   "id": "87cfb2cd",
   "metadata": {},
   "outputs": [],
   "source": [
    "checks_tc51 = checks_items.join(checks_headers_tc51, 'rtl_txn_id', how='inner')"
   ]
  },
  {
   "cell_type": "code",
   "execution_count": 56,
   "id": "f79b57f5",
   "metadata": {},
   "outputs": [],
   "source": [
    "checks_tc52 = checks_items.join(checks_headers_tc52, 'rtl_txn_id', how='inner')"
   ]
  },
  {
   "cell_type": "code",
   "execution_count": 57,
   "id": "fa0c59d6",
   "metadata": {},
   "outputs": [],
   "source": [
    "accs = ['account_no']\n",
    "pdf = checks_tc51.groupby(accs).agg(F.sum('base_qty').alias('base_qty_per_period'))\n",
    "pdf = pdf.filter(F.col('base_qty_per_period') >= 1)\n",
    "checks_tc51 = checks_tc51.join(pdf, on=accs)"
   ]
  },
  {
   "cell_type": "code",
   "execution_count": 58,
   "id": "fdf5bdce",
   "metadata": {},
   "outputs": [],
   "source": [
    "pdf2 = checks_tc52.groupby(accs).agg(F.sum('base_qty').alias('base_qty_per_period'))\n",
    "pdf2 = pdf2.filter(F.col('base_qty_per_period') >= 1)\n",
    "checks_tc52 = checks_tc52.join(pdf2, on=accs)"
   ]
  },
  {
   "cell_type": "code",
   "execution_count": 59,
   "id": "63517961",
   "metadata": {},
   "outputs": [],
   "source": [
    "seg1 = (checks_tc51.withColumn('group', F.lit('1'))\n",
    "                  .select('customer_rk', 'group', 'usecase')\n",
    "                  .distinct()\n",
    "      )"
   ]
  },
  {
   "cell_type": "code",
   "execution_count": 60,
   "id": "64a73a7f",
   "metadata": {},
   "outputs": [],
   "source": [
    "seg2 = (checks_tc52.withColumn('group', F.lit('2'))\n",
    "                  .select('customer_rk', 'group', 'usecase')\n",
    "                  .distinct()\n",
    "      )"
   ]
  },
  {
   "cell_type": "code",
   "execution_count": 61,
   "id": "24bdfbb7",
   "metadata": {},
   "outputs": [],
   "source": [
    "seg_2 = seg1.union(seg2)"
   ]
  },
  {
   "cell_type": "code",
   "execution_count": 62,
   "id": "ff0f000d",
   "metadata": {},
   "outputs": [
    {
     "name": "stderr",
     "output_type": "stream",
     "text": [
      "                                                                                / 200]]0]]]]\r"
     ]
    }
   ],
   "source": [
    "# seg_2.write.parquet('temp2679_seg_new2', mode='overwrite')\n",
    "seg_2 = spark.read.parquet('temp2679_seg_new2')"
   ]
  },
  {
   "cell_type": "code",
   "execution_count": 63,
   "id": "50acfcd6",
   "metadata": {},
   "outputs": [
    {
     "name": "stderr",
     "output_type": "stream",
     "text": [
      "                                                                                \r"
     ]
    }
   ],
   "source": [
    "seg_pd2 = seg_2.toPandas()"
   ]
  },
  {
   "cell_type": "markdown",
   "id": "4f300207",
   "metadata": {},
   "source": [
    "### Остальные"
   ]
  },
  {
   "cell_type": "markdown",
   "id": "551b9da4",
   "metadata": {},
   "source": [
    "### Собираем чеки этих гостей и оставляем тех, кто покупал продукты с synthetic_catalog_id"
   ]
  },
  {
   "cell_type": "code",
   "execution_count": 64,
   "id": "5b4bf72d",
   "metadata": {},
   "outputs": [],
   "source": [
    "start_date = datetime.date(2021, 9, 8)\n",
    "end_date = datetime.date(2022, 2, 7)"
   ]
  },
  {
   "cell_type": "code",
   "execution_count": 65,
   "id": "26f9f2fd",
   "metadata": {},
   "outputs": [],
   "source": [
    "checks_headers = (spark.table(CHECKS_HEADERS)\n",
    "                      .filter(F.col('rtl_txn_dt').between(start_date, end_date))\n",
    "                      .filter((F.col('loyalty_card_no') != '') & (F.col('loyalty_card_no').isNotNull()))\n",
    "                      .filter(F.col('financial_unit_format_dk') == 'D')\n",
    "                      .filter(F.col('rtl_txn_cancel_flg') == 0)\n",
    "                      .select('rtl_txn_id', 'loyalty_card_no', 'store_id')\n",
    "                     )\n"
   ]
  },
  {
   "cell_type": "code",
   "execution_count": 66,
   "id": "51f68835",
   "metadata": {},
   "outputs": [],
   "source": [
    "checks_headers_tc5 = checks_headers.filter(F.col('store_id').isin(plants)) #оставили чеки только с нужными магазинами"
   ]
  },
  {
   "cell_type": "code",
   "execution_count": 67,
   "id": "e5d0e078",
   "metadata": {},
   "outputs": [],
   "source": [
    "loyalty_cards = (spark\n",
    "                    .table(LOYALTY_CARDS)\n",
    "                    .withColumnRenamed(\"loyalty_card_id\", \"loyalty_card_no\")\n",
    "                    .withColumnRenamed(\"loyalty_account_id\", \"account_no\")\n",
    "                    .withColumnRenamed(\"loyalty_account_acrm_id\", \"account_rk\")\n",
    "                    .select('account_no', 'loyalty_card_no')\n",
    "                )\n",
    "loyalty_cardholders = (spark\n",
    "                        .table(LOYALTY_CARDHOLDERS)\n",
    "                        .filter(F.col('loyalty_cardholder_age_yrs') < 40)\n",
    "                        .filter(F.col('gender_dk') == 'F')\n",
    "                        .withColumnRenamed(\"loyalty_cardholder_acrm_id\", \"customer_rk\")\n",
    "                        .withColumnRenamed(\"loyalty_account_id\", \"account_no\")\n",
    "                        .select('account_no', 'customer_rk')\n",
    "                      )\n",
    "clients_info1 = loyalty_cards.join(loyalty_cardholders, on='account_no', how='inner')\n",
    "clients_info1 = clients_info1.join(seg_sms, on='customer_rk', how='inner')\n",
    "clients_info2 = loyalty_cards.join(loyalty_cardholders, on='account_no', how='inner')\n",
    "clients_info2 = clients_info2.join(slip_check, on='customer_rk', how='inner')"
   ]
  },
  {
   "cell_type": "code",
   "execution_count": 68,
   "id": "249c9cce",
   "metadata": {},
   "outputs": [],
   "source": [
    "checks_headers_tc51 = checks_headers_tc5.join(clients_info1, on='loyalty_card_no') #оставили чеки только нужных гостей"
   ]
  },
  {
   "cell_type": "code",
   "execution_count": 69,
   "id": "7440669c",
   "metadata": {},
   "outputs": [],
   "source": [
    "checks_headers_tc52 = checks_headers_tc5.join(clients_info2, on='loyalty_card_no') #оставили чеки только нужных гостей"
   ]
  },
  {
   "cell_type": "code",
   "execution_count": 70,
   "id": "01450dd0",
   "metadata": {},
   "outputs": [],
   "source": [
    "checks_items = (spark.table(CHECKS_ITEMS) \n",
    "                    .withColumnRenamed('plu_id', 'plu_code')\n",
    "                    .withColumnRenamed('turnover_no_vat_amt', 'zsalnovat')\n",
    "                    .withColumnRenamed('turnover_vat_rub_amt', 'zsale_vat')\n",
    "                    .withColumnRenamed('prime_cost_no_vat_amt', 'zcst_n')\n",
    "                    .withColumnRenamed('turnover_base_uom_amt', 'base_qty')\n",
    "                    .withColumnRenamed('discount_amt', 'zdiscount')\n",
    "                    .withColumnRenamed('fact_regular_promo_flg', 'zpromofl')\n",
    "                    .filter(F.col('rtl_txn_dt').between(start_date, end_date))\n",
    "                    .filter((F.col('zsalnovat') >= 0) & (F.col('base_qty') >= 0) & (F.col('zcst_n') > 0)) #keep only correct data\n",
    "                        .select('plu_code' #items id\n",
    "                                , 'rtl_txn_id' #cheques id\n",
    "                               , 'base_qty'\n",
    "                               )\n",
    "                   )\n"
   ]
  },
  {
   "cell_type": "code",
   "execution_count": 71,
   "id": "c79876a3",
   "metadata": {},
   "outputs": [],
   "source": [
    "checks_tc51 = checks_items.join(checks_headers_tc51, 'rtl_txn_id', how='inner')"
   ]
  },
  {
   "cell_type": "code",
   "execution_count": 72,
   "id": "b4dea5d5",
   "metadata": {},
   "outputs": [],
   "source": [
    "checks_tc52 = checks_items.join(checks_headers_tc52, 'rtl_txn_id', how='inner')"
   ]
  },
  {
   "cell_type": "code",
   "execution_count": 73,
   "id": "b3b33ff4",
   "metadata": {},
   "outputs": [],
   "source": [
    "seg1 = (checks_tc51.withColumn('group', F.lit('1'))\n",
    "                  .select('customer_rk', 'group', 'usecase')\n",
    "                  .distinct()\n",
    "      )"
   ]
  },
  {
   "cell_type": "code",
   "execution_count": 74,
   "id": "a31be48f",
   "metadata": {},
   "outputs": [],
   "source": [
    "seg2 = (checks_tc52.withColumn('group', F.lit('2'))\n",
    "                  .select('customer_rk', 'group', 'usecase')\n",
    "                  .distinct()\n",
    "      )"
   ]
  },
  {
   "cell_type": "code",
   "execution_count": 75,
   "id": "04fad0b2",
   "metadata": {},
   "outputs": [],
   "source": [
    "seg_3 = seg1.union(seg2)"
   ]
  },
  {
   "cell_type": "code",
   "execution_count": 76,
   "id": "559c3e9e",
   "metadata": {},
   "outputs": [
    {
     "name": "stderr",
     "output_type": "stream",
     "text": [
      "                                                                                 / 200]]]]]]\r"
     ]
    }
   ],
   "source": [
    "seg_3.write.parquet('temp2679_seg_new3', mode='overwrite')\n",
    "seg_3 = spark.read.parquet('temp2679_seg_new3')"
   ]
  },
  {
   "cell_type": "code",
   "execution_count": 77,
   "id": "59e115f7",
   "metadata": {},
   "outputs": [
    {
     "name": "stderr",
     "output_type": "stream",
     "text": [
      "                                                                                \r"
     ]
    },
    {
     "data": {
      "text/plain": [
       "3767170"
      ]
     },
     "execution_count": 77,
     "metadata": {},
     "output_type": "execute_result"
    }
   ],
   "source": [
    "seg_3.count()"
   ]
  },
  {
   "cell_type": "code",
   "execution_count": 78,
   "id": "0992efc4",
   "metadata": {},
   "outputs": [
    {
     "name": "stderr",
     "output_type": "stream",
     "text": [
      "                                                                                \r"
     ]
    }
   ],
   "source": [
    "seg_pd3 = seg_3.toPandas()"
   ]
  },
  {
   "cell_type": "markdown",
   "id": "ea08a083",
   "metadata": {},
   "source": [
    "### Все юзкейсы"
   ]
  },
  {
   "cell_type": "markdown",
   "id": "08d67e6c",
   "metadata": {},
   "source": [
    "### Выбираем гостей нужного юзкейса"
   ]
  },
  {
   "cell_type": "code",
   "execution_count": 79,
   "id": "f41d80ba",
   "metadata": {},
   "outputs": [],
   "source": [
    "usecase = ['churn', 'frequency', 'cross', 'upgrade', 'ump']\n",
    "dt = datetime.date.today()"
   ]
  },
  {
   "cell_type": "code",
   "execution_count": 80,
   "id": "35285dc0",
   "metadata": {},
   "outputs": [],
   "source": [
    "customers_usecase_churn = (spark\n",
    "                     .table(CVM5_GUESTS)\n",
    "                     .filter(F.to_date('calculation_dt') == dt)\n",
    "                     .filter(F.col('usecase').isin(usecase[0]))\n",
    "#                      .filter(F.col('lifetime') >= lifetime)\n",
    "#                      .filter(F.col('frequency') >= freq)\n",
    "                     .select('account_no', 'customer_rk')\n",
    "                            )\n",
    "customers_usecase_freq = (spark\n",
    "                     .table(CVM5_GUESTS)\n",
    "                     .filter(F.to_date('calculation_dt') == dt)\n",
    "                     .filter(F.col('usecase').isin(usecase[1]))\n",
    "#                      .filter(F.col('lifetime') >= lifetime)\n",
    "#                      .filter(F.col('frequency') >= freq)\n",
    "                     .select('account_no', 'customer_rk')\n",
    "                            )\n",
    "customers_usecase_all = (spark\n",
    "                     .table(CVM5_GUESTS)\n",
    "                     .filter(F.to_date('calculation_dt') == dt)\n",
    "                     .filter(F.col('usecase').isin(usecase))\n",
    "#                      .filter(F.col('lifetime') >= lifetime)\n",
    "#                      .filter(F.col('frequency') >= freq)\n",
    "                     .select('account_no', 'customer_rk')\n",
    "                            )"
   ]
  },
  {
   "cell_type": "code",
   "execution_count": 81,
   "id": "39282734",
   "metadata": {},
   "outputs": [
    {
     "name": "stderr",
     "output_type": "stream",
     "text": [
      "[Stage 178:====================================================>(259 + 1) / 260]"
     ]
    },
    {
     "name": "stdout",
     "output_type": "stream",
     "text": [
      "49577608\n"
     ]
    },
    {
     "name": "stderr",
     "output_type": "stream",
     "text": [
      "                                                                                \r"
     ]
    }
   ],
   "source": [
    "print(customers_usecase_all.count()) #15 861 048"
   ]
  },
  {
   "cell_type": "markdown",
   "id": "0912a41b",
   "metadata": {},
   "source": [
    "### 1 проверяем на доступность отобранных гостей в определенную дату"
   ]
  },
  {
   "cell_type": "code",
   "execution_count": 82,
   "id": "51697e54",
   "metadata": {},
   "outputs": [],
   "source": [
    "check_date = '2022-03-07'"
   ]
  },
  {
   "cell_type": "code",
   "execution_count": 83,
   "id": "156a4e95",
   "metadata": {},
   "outputs": [
    {
     "name": "stdout",
     "output_type": "stream",
     "text": [
      "\u001b[93m Время выполнения: 0:00:03\n"
     ]
    }
   ],
   "source": [
    "seg_sms1 = (sms_channel_filters_glowbyte(spark=spark,\n",
    "                                         guests=customers_usecase_all, \n",
    "                                         usecase_name=usecase[0], \n",
    "                                         check_date=check_date, \n",
    "                                         debug_mode=False\n",
    "                                        )\n",
    "                                    .select('customer_rk')\n",
    "                                    .distinct()\n",
    "           )"
   ]
  },
  {
   "cell_type": "code",
   "execution_count": 84,
   "id": "60398bed",
   "metadata": {},
   "outputs": [
    {
     "name": "stdout",
     "output_type": "stream",
     "text": [
      "\u001b[93m Время выполнения: 0:00:02\n"
     ]
    }
   ],
   "source": [
    "seg_sms2 = (sms_channel_filters_glowbyte(spark=spark,\n",
    "                                         guests=customers_usecase_all, \n",
    "                                         usecase_name=usecase[1], \n",
    "                                         check_date=check_date, \n",
    "                                         debug_mode=False)\n",
    "                                    .select('customer_rk')\n",
    "                                    .distinct()\n",
    "           )"
   ]
  },
  {
   "cell_type": "code",
   "execution_count": 85,
   "id": "bd58007a",
   "metadata": {},
   "outputs": [
    {
     "name": "stdout",
     "output_type": "stream",
     "text": [
      "\u001b[93m Время выполнения: 0:00:06\n"
     ]
    }
   ],
   "source": [
    "seg_sms3 = (sms_channel_filters_glowbyte(spark=spark,\n",
    "                                         guests=customers_usecase_all, \n",
    "                                         usecase_name=usecase[2], \n",
    "                                         check_date=check_date, \n",
    "                                         debug_mode=False)\n",
    "                                    .select('customer_rk')\n",
    "                                    .distinct()\n",
    "           )"
   ]
  },
  {
   "cell_type": "code",
   "execution_count": 86,
   "id": "69e9d3ed",
   "metadata": {},
   "outputs": [
    {
     "name": "stdout",
     "output_type": "stream",
     "text": [
      "\u001b[93m Время выполнения: 0:00:03\n"
     ]
    }
   ],
   "source": [
    "seg_sms4 = (sms_channel_filters_glowbyte(spark=spark,\n",
    "                                         guests=customers_usecase_all, \n",
    "                                         usecase_name=usecase[3], \n",
    "                                         check_date=check_date, \n",
    "                                         debug_mode=False)\n",
    "                                    .select('customer_rk')\n",
    "                                    .distinct()\n",
    "           )"
   ]
  },
  {
   "cell_type": "code",
   "execution_count": 87,
   "id": "16a5c67f",
   "metadata": {},
   "outputs": [
    {
     "name": "stdout",
     "output_type": "stream",
     "text": [
      "\u001b[93m Время выполнения: 0:00:02\n"
     ]
    }
   ],
   "source": [
    "seg_sms5 = (sms_channel_filters_glowbyte(spark=spark,\n",
    "                                         guests=customers_usecase_all, \n",
    "                                         usecase_name=usecase[4], \n",
    "                                         check_date=check_date, \n",
    "                                         debug_mode=False)\n",
    "                                    .select('customer_rk')\n",
    "                                    .distinct()\n",
    "           )"
   ]
  },
  {
   "cell_type": "code",
   "execution_count": 88,
   "id": "64dcf28a",
   "metadata": {},
   "outputs": [],
   "source": [
    "seg_sms = seg_sms1.union(seg_sms2).union(seg_sms3).union(seg_sms4).union(seg_sms5).distinct()"
   ]
  },
  {
   "cell_type": "code",
   "execution_count": 90,
   "id": "fed01d52",
   "metadata": {},
   "outputs": [
    {
     "name": "stderr",
     "output_type": "stream",
     "text": [
      "                                                                                \r"
     ]
    }
   ],
   "source": [
    "# seg_sms.write.parquet('temp2679_new3', mode='overwrite')\n",
    "seg_sms = spark.read.parquet('temp2679_new3')"
   ]
  },
  {
   "cell_type": "code",
   "execution_count": 90,
   "id": "059b12de",
   "metadata": {},
   "outputs": [
    {
     "data": {
      "text/plain": [
       "20314044"
      ]
     },
     "execution_count": 90,
     "metadata": {},
     "output_type": "execute_result"
    }
   ],
   "source": [
    "seg_sms.count() #"
   ]
  },
  {
   "cell_type": "markdown",
   "id": "79363653",
   "metadata": {},
   "source": [
    "### 2 проверяем на доступность отобранных гостей в определенную дату"
   ]
  },
  {
   "cell_type": "code",
   "execution_count": 91,
   "id": "04382d7b",
   "metadata": {},
   "outputs": [
    {
     "name": "stdout",
     "output_type": "stream",
     "text": [
      "\u001b[93m Время выполнения: 0:00:01\n"
     ]
    }
   ],
   "source": [
    "slip_check1 = (slip_check_channel_filters_glowbyte(spark=spark,\n",
    "                                         guests=customers_usecase_all, \n",
    "                                         usecase_name=usecase[0], \n",
    "                                         check_date=check_date, \n",
    "                                         debug_mode=False)\n",
    "                                    .select('customer_rk')\n",
    "                                    .distinct()\n",
    "           )"
   ]
  },
  {
   "cell_type": "code",
   "execution_count": 92,
   "id": "7175cb13",
   "metadata": {},
   "outputs": [
    {
     "name": "stdout",
     "output_type": "stream",
     "text": [
      "\u001b[93m Время выполнения: 0:00:01\n"
     ]
    }
   ],
   "source": [
    "slip_check2 = (slip_check_channel_filters_glowbyte(spark=spark,\n",
    "                                         guests=customers_usecase_all, \n",
    "                                         usecase_name=usecase[1], \n",
    "                                         check_date=check_date, \n",
    "                                         debug_mode=False)\n",
    "                                    .select('customer_rk')\n",
    "                                    .distinct()\n",
    "           )"
   ]
  },
  {
   "cell_type": "code",
   "execution_count": 93,
   "id": "4ff29917",
   "metadata": {},
   "outputs": [
    {
     "name": "stdout",
     "output_type": "stream",
     "text": [
      "\u001b[93m Время выполнения: 0:00:01\n"
     ]
    }
   ],
   "source": [
    "slip_check3 = (slip_check_channel_filters_glowbyte(spark=spark,\n",
    "                                         guests=customers_usecase_all, \n",
    "                                         usecase_name=usecase[2], \n",
    "                                         check_date=check_date, \n",
    "                                         debug_mode=False)\n",
    "                                    .select('customer_rk')\n",
    "                                    .distinct()\n",
    "           )"
   ]
  },
  {
   "cell_type": "code",
   "execution_count": 94,
   "id": "ad99b9a2",
   "metadata": {},
   "outputs": [
    {
     "name": "stdout",
     "output_type": "stream",
     "text": [
      "\u001b[93m Время выполнения: 0:00:01\n"
     ]
    }
   ],
   "source": [
    "slip_check4 = (slip_check_channel_filters_glowbyte(spark=spark,\n",
    "                                         guests=customers_usecase_all, \n",
    "                                         usecase_name=usecase[3], \n",
    "                                         check_date=check_date, \n",
    "                                         debug_mode=False)\n",
    "                                    .select('customer_rk')\n",
    "                                    .distinct()\n",
    "           )"
   ]
  },
  {
   "cell_type": "code",
   "execution_count": 95,
   "id": "7ee68c1b",
   "metadata": {},
   "outputs": [
    {
     "name": "stdout",
     "output_type": "stream",
     "text": [
      "\u001b[93m Время выполнения: 0:00:01\n"
     ]
    }
   ],
   "source": [
    "slip_check5 = (slip_check_channel_filters_glowbyte(spark=spark,\n",
    "                                         guests=customers_usecase_all, \n",
    "                                         usecase_name=usecase[4], \n",
    "                                         check_date=check_date, \n",
    "                                         debug_mode=False)\n",
    "                                    .select('customer_rk')\n",
    "                                    .distinct()\n",
    "           )"
   ]
  },
  {
   "cell_type": "code",
   "execution_count": 96,
   "id": "8d1de12d",
   "metadata": {},
   "outputs": [],
   "source": [
    "slip_check = slip_check1.union(slip_check2).union(slip_check3).union(slip_check4).union(slip_check5).distinct()"
   ]
  },
  {
   "cell_type": "code",
   "execution_count": 91,
   "id": "f078df51",
   "metadata": {},
   "outputs": [],
   "source": [
    "# slip_check.write.parquet('temp2679_new4', mode='overwrite')\n",
    "slip_check = spark.read.parquet('temp2679_new4')"
   ]
  },
  {
   "cell_type": "code",
   "execution_count": 98,
   "id": "955aa039",
   "metadata": {},
   "outputs": [
    {
     "data": {
      "text/plain": [
       "41150354"
      ]
     },
     "execution_count": 98,
     "metadata": {},
     "output_type": "execute_result"
    }
   ],
   "source": [
    "slip_check.count() #"
   ]
  },
  {
   "cell_type": "code",
   "execution_count": 99,
   "id": "723ac2b0",
   "metadata": {},
   "outputs": [
    {
     "name": "stderr",
     "output_type": "stream",
     "text": [
      "                                                                                \r"
     ]
    },
    {
     "data": {
      "text/plain": [
       "20314044"
      ]
     },
     "execution_count": 99,
     "metadata": {},
     "output_type": "execute_result"
    }
   ],
   "source": [
    "seg_sms.join(slip_check, 'customer_rk', 'inner').count()"
   ]
  },
  {
   "cell_type": "markdown",
   "id": "688d9ff7",
   "metadata": {},
   "source": [
    "### Проверка на доступность плю в магазинах"
   ]
  },
  {
   "cell_type": "markdown",
   "id": "4a069b92",
   "metadata": {},
   "source": [
    "РФ"
   ]
  },
  {
   "cell_type": "code",
   "execution_count": 92,
   "id": "96d26df9",
   "metadata": {},
   "outputs": [],
   "source": [
    "plu_codes = [6075, 3364392, 3635965, 3364389, 3647604, 6076, 3017398]"
   ]
  },
  {
   "cell_type": "code",
   "execution_count": 93,
   "id": "43a12441",
   "metadata": {},
   "outputs": [
    {
     "name": "stderr",
     "output_type": "stream",
     "text": [
      "                                                                                \r"
     ]
    },
    {
     "data": {
      "text/plain": [
       "22017"
      ]
     },
     "execution_count": 93,
     "metadata": {},
     "output_type": "execute_result"
    }
   ],
   "source": [
    "pplu = spark.createDataFrame(pd.DataFrame({\"plu_code\": plu_codes}))\n",
    "\n",
    "shops = (spark.table(DIM_STORE)\n",
    "            .filter(F.col('valid_to_dttm')== datetime.datetime(5999, 1, 1, 0, 0))\n",
    "            .selectExpr('store_id as plant')\n",
    "            .distinct()\n",
    "            )\n",
    "\n",
    "\n",
    "tc5_stores_assort = (\n",
    "    spark.table('HIVE_SSA_MAIN.ASSORTMENT_X_PLU_X_STORE')\n",
    "    .withColumnRenamed('plu_id', 'plu_code')\n",
    "    .withColumnRenamed('store_id', 'plant')\n",
    "    .filter(F.col(\"plu_negate_flg\") != 1)\n",
    "    .selectExpr('plu_code', 'plant')\n",
    "    .join(F.broadcast(pplu), 'plu_code', 'inner')\n",
    ")\n",
    "\n",
    "plants = (shops.join(tc5_stores_assort, on='plant', how='inner')\n",
    "                .select('plant')\n",
    "                .distinct()\n",
    "                .toPandas()['plant']\n",
    "                .tolist()\n",
    "         )\n",
    "\n",
    "len(plants)"
   ]
  },
  {
   "cell_type": "markdown",
   "id": "a74f2262",
   "metadata": {},
   "source": [
    "### Heavy users"
   ]
  },
  {
   "cell_type": "markdown",
   "id": "f726e7d7",
   "metadata": {},
   "source": [
    "### Собираем чеки этих гостей и оставляем тех, кто покупал продукты с synthetic_catalog_id"
   ]
  },
  {
   "cell_type": "code",
   "execution_count": 102,
   "id": "2a2ef70b",
   "metadata": {},
   "outputs": [],
   "source": [
    "start_date = datetime.date(2021, 9, 8)\n",
    "end_date = datetime.date(2022, 2, 7)"
   ]
  },
  {
   "cell_type": "code",
   "execution_count": 103,
   "id": "0ba2ec6e",
   "metadata": {},
   "outputs": [],
   "source": [
    "checks_headers = (spark.table(CHECKS_HEADERS)\n",
    "                      .filter(F.col('rtl_txn_dt').between(start_date, end_date))\n",
    "                      .filter((F.col('loyalty_card_no') != '') & (F.col('loyalty_card_no').isNotNull()))\n",
    "                      .filter(F.col('financial_unit_format_dk') == 'D')\n",
    "                      .filter(F.col('rtl_txn_cancel_flg') == 0)\n",
    "                      .select('rtl_txn_id', 'loyalty_card_no', 'store_id')\n",
    "                     )\n"
   ]
  },
  {
   "cell_type": "code",
   "execution_count": 104,
   "id": "56a774c1",
   "metadata": {},
   "outputs": [],
   "source": [
    "checks_headers_tc5 = checks_headers.filter(F.col('store_id').isin(plants)) #оставили чеки только с нужными магазинами"
   ]
  },
  {
   "cell_type": "code",
   "execution_count": 105,
   "id": "5193f6c8",
   "metadata": {},
   "outputs": [],
   "source": [
    "loyalty_cards = (spark\n",
    "                    .table(LOYALTY_CARDS)\n",
    "                    .withColumnRenamed(\"loyalty_card_id\", \"loyalty_card_no\")\n",
    "                    .withColumnRenamed(\"loyalty_account_id\", \"account_no\")\n",
    "                    .withColumnRenamed(\"loyalty_account_acrm_id\", \"account_rk\")\n",
    "                    .select('account_no', 'loyalty_card_no')\n",
    "                )\n",
    "loyalty_cardholders = (spark\n",
    "                        .table(LOYALTY_CARDHOLDERS)\n",
    "                        .filter(F.col('gender_dk') == 'F')\n",
    "                        .withColumnRenamed(\"loyalty_cardholder_acrm_id\", \"customer_rk\")\n",
    "                        .withColumnRenamed(\"loyalty_account_id\", \"account_no\")\n",
    "                        .select('account_no', 'customer_rk')\n",
    "                      )\n",
    "clients_info1 = loyalty_cards.join(loyalty_cardholders, on='account_no', how='inner')\n",
    "clients_info1 = clients_info1.join(seg_sms, on='customer_rk', how='inner')\n",
    "clients_info2 = loyalty_cards.join(loyalty_cardholders, on='account_no', how='inner')\n",
    "clients_info2 = clients_info2.join(slip_check, on='customer_rk', how='inner')"
   ]
  },
  {
   "cell_type": "code",
   "execution_count": 106,
   "id": "ecbc3a7f",
   "metadata": {},
   "outputs": [],
   "source": [
    "checks_headers_tc51 = checks_headers_tc5.join(clients_info1, on='loyalty_card_no') #оставили чеки только нужных гостей"
   ]
  },
  {
   "cell_type": "code",
   "execution_count": 107,
   "id": "534b6364",
   "metadata": {},
   "outputs": [
    {
     "name": "stderr",
     "output_type": "stream",
     "text": [
      "22/02/11 19:24:25 ERROR client.TransportResponseHandler: Still have 1 requests outstanding when connection from /192.168.234.57:47512 is closed\n"
     ]
    }
   ],
   "source": [
    "checks_headers_tc52 = checks_headers_tc5.join(clients_info2, on='loyalty_card_no') #оставили чеки только нужных гостей"
   ]
  },
  {
   "cell_type": "code",
   "execution_count": 108,
   "id": "01ad0fe4",
   "metadata": {},
   "outputs": [],
   "source": [
    "checks_items = (spark.table(CHECKS_ITEMS) \n",
    "                    .withColumnRenamed('plu_id', 'plu_code')\n",
    "                    .withColumnRenamed('turnover_no_vat_amt', 'zsalnovat')\n",
    "                    .withColumnRenamed('turnover_vat_rub_amt', 'zsale_vat')\n",
    "                    .withColumnRenamed('prime_cost_no_vat_amt', 'zcst_n')\n",
    "                    .withColumnRenamed('turnover_base_uom_amt', 'base_qty')\n",
    "                    .withColumnRenamed('discount_amt', 'zdiscount')\n",
    "                    .withColumnRenamed('fact_regular_promo_flg', 'zpromofl')\n",
    "                    .filter(F.col('rtl_txn_dt').between(start_date, end_date))\n",
    "                    .filter((F.col('zsalnovat') >= 0) & (F.col('base_qty') >= 0) & (F.col('zcst_n') > 0)) #keep only correct data\n",
    "                        .select('plu_code' #items id\n",
    "                                , 'rtl_txn_id' #cheques id\n",
    "                               , 'base_qty'\n",
    "                               )\n",
    "                   )\n"
   ]
  },
  {
   "cell_type": "code",
   "execution_count": 109,
   "id": "16a53c28",
   "metadata": {},
   "outputs": [],
   "source": [
    "# plu_hierarchy_lvl_4_dk = ['FR0604001', 'FR0608005', 'FR0604002', 'FR0608001'] #сметана, молоко, кефир\n",
    "# syntethic_category_id = [96,57,75,73,101,55,56,22]\n",
    "plu_brand_code = ['2452']\n",
    "# plu_vendor_nm = ['Данон']\n",
    "# plu_not_in = [4138521]"
   ]
  },
  {
   "cell_type": "code",
   "execution_count": 110,
   "id": "c146d475",
   "metadata": {},
   "outputs": [
    {
     "name": "stderr",
     "output_type": "stream",
     "text": [
      "                                                                                \r"
     ]
    }
   ],
   "source": [
    "plu_codes_cat = (spark\n",
    "                 .table(PRODUCTS)\n",
    "#                  .filter(F.col('plu_hierarchy_lvl_4_dk').isin(plu_hierarchy_lvl_4_dk))\n",
    "#                  .filter(F.col('plu_vendor_nm').isin(plu_vendor_nm))\n",
    "#                  .filter(F.col('syntethic_category_id').isin(syntethic_category_id))\n",
    "                 .filter(F.col('plu_brand_code').isin(plu_brand_code))\n",
    "#                  .filter(~F.col('plu_id').isin(plu_not_in))\n",
    "                 .select('plu_id')\n",
    "                 .distinct()\n",
    "                 .toPandas()['plu_id']\n",
    "                 .tolist()\n",
    "                )"
   ]
  },
  {
   "cell_type": "code",
   "execution_count": 111,
   "id": "d5b6267f",
   "metadata": {},
   "outputs": [],
   "source": [
    "checks_items = checks_items.filter(F.col('plu_code').isin(plu_codes_cat)) # только чеки с нужными plu"
   ]
  },
  {
   "cell_type": "code",
   "execution_count": 112,
   "id": "190ae64e",
   "metadata": {},
   "outputs": [],
   "source": [
    "checks_tc51 = checks_items.join(checks_headers_tc51, 'rtl_txn_id', how='inner')"
   ]
  },
  {
   "cell_type": "code",
   "execution_count": 113,
   "id": "db3fc69d",
   "metadata": {},
   "outputs": [],
   "source": [
    "checks_tc52 = checks_items.join(checks_headers_tc52, 'rtl_txn_id', how='inner')"
   ]
  },
  {
   "cell_type": "code",
   "execution_count": 114,
   "id": "bd874937",
   "metadata": {},
   "outputs": [],
   "source": [
    "accs = ['account_no']\n",
    "pdf = checks_tc51.groupby(accs).agg(F.sum('base_qty').alias('base_qty_per_period'))\n",
    "pdf = pdf.filter(F.col('base_qty_per_period') >= 1)\n",
    "checks_tc51 = checks_tc51.join(pdf, on=accs)"
   ]
  },
  {
   "cell_type": "code",
   "execution_count": 115,
   "id": "dc02ff60",
   "metadata": {},
   "outputs": [],
   "source": [
    "pdf2 = checks_tc52.groupby(accs).agg(F.sum('base_qty').alias('base_qty_per_period'))\n",
    "pdf2 = pdf2.filter(F.col('base_qty_per_period') >= 1)\n",
    "checks_tc52 = checks_tc52.join(pdf2, on=accs)"
   ]
  },
  {
   "cell_type": "code",
   "execution_count": 116,
   "id": "002542a8",
   "metadata": {},
   "outputs": [],
   "source": [
    "seg1 = (checks_tc51.withColumn('group', F.lit('1'))\n",
    "                  .select('customer_rk', 'group')\n",
    "                  .distinct()\n",
    "      )"
   ]
  },
  {
   "cell_type": "code",
   "execution_count": 117,
   "id": "9cd8030e",
   "metadata": {},
   "outputs": [],
   "source": [
    "seg2 = (checks_tc52.withColumn('group', F.lit('2'))\n",
    "                  .select('customer_rk', 'group')\n",
    "                  .distinct()\n",
    "      )"
   ]
  },
  {
   "cell_type": "code",
   "execution_count": 118,
   "id": "a2accca1",
   "metadata": {},
   "outputs": [],
   "source": [
    "seg_4 = seg1.union(seg2)"
   ]
  },
  {
   "cell_type": "code",
   "execution_count": 11,
   "id": "e7e663f2",
   "metadata": {},
   "outputs": [
    {
     "name": "stderr",
     "output_type": "stream",
     "text": [
      "                                                                                \r"
     ]
    }
   ],
   "source": [
    "# seg_4.write.parquet('temp2679_seg_new4', mode='overwrite')\n",
    "seg_4 = spark.read.parquet('temp2679_seg_new4')"
   ]
  },
  {
   "cell_type": "code",
   "execution_count": 120,
   "id": "678e96d8",
   "metadata": {},
   "outputs": [
    {
     "name": "stderr",
     "output_type": "stream",
     "text": [
      "                                                                                \r"
     ]
    }
   ],
   "source": [
    "seg_pd4 = seg_4.toPandas()"
   ]
  },
  {
   "cell_type": "code",
   "execution_count": 121,
   "id": "73656916",
   "metadata": {},
   "outputs": [
    {
     "data": {
      "text/html": [
       "<div>\n",
       "<style scoped>\n",
       "    .dataframe tbody tr th:only-of-type {\n",
       "        vertical-align: middle;\n",
       "    }\n",
       "\n",
       "    .dataframe tbody tr th {\n",
       "        vertical-align: top;\n",
       "    }\n",
       "\n",
       "    .dataframe thead th {\n",
       "        text-align: right;\n",
       "    }\n",
       "</style>\n",
       "<table border=\"1\" class=\"dataframe\">\n",
       "  <thead>\n",
       "    <tr style=\"text-align: right;\">\n",
       "      <th></th>\n",
       "      <th>customer_rk</th>\n",
       "      <th>group</th>\n",
       "    </tr>\n",
       "  </thead>\n",
       "  <tbody>\n",
       "    <tr>\n",
       "      <th>0</th>\n",
       "      <td>17553201</td>\n",
       "      <td>2</td>\n",
       "    </tr>\n",
       "    <tr>\n",
       "      <th>1</th>\n",
       "      <td>20146819</td>\n",
       "      <td>2</td>\n",
       "    </tr>\n",
       "    <tr>\n",
       "      <th>2</th>\n",
       "      <td>28177697</td>\n",
       "      <td>2</td>\n",
       "    </tr>\n",
       "    <tr>\n",
       "      <th>3</th>\n",
       "      <td>33842372</td>\n",
       "      <td>2</td>\n",
       "    </tr>\n",
       "    <tr>\n",
       "      <th>4</th>\n",
       "      <td>30331254</td>\n",
       "      <td>2</td>\n",
       "    </tr>\n",
       "  </tbody>\n",
       "</table>\n",
       "</div>"
      ],
      "text/plain": [
       "  customer_rk group\n",
       "0    17553201     2\n",
       "1    20146819     2\n",
       "2    28177697     2\n",
       "3    33842372     2\n",
       "4    30331254     2"
      ]
     },
     "execution_count": 121,
     "metadata": {},
     "output_type": "execute_result"
    }
   ],
   "source": [
    "seg_pd4.head()"
   ]
  },
  {
   "cell_type": "markdown",
   "id": "53ff1196",
   "metadata": {},
   "source": [
    "### Конкуренты"
   ]
  },
  {
   "cell_type": "markdown",
   "id": "227a56d5",
   "metadata": {},
   "source": [
    "### Собираем чеки этих гостей и оставляем тех, кто покупал продукты с synthetic_catalog_id"
   ]
  },
  {
   "cell_type": "code",
   "execution_count": 122,
   "id": "3d8faa4d",
   "metadata": {},
   "outputs": [],
   "source": [
    "start_date = datetime.date(2021, 9, 8)\n",
    "end_date = datetime.date(2022, 2, 7)"
   ]
  },
  {
   "cell_type": "code",
   "execution_count": 123,
   "id": "9312a963",
   "metadata": {},
   "outputs": [],
   "source": [
    "checks_headers = (spark.table(CHECKS_HEADERS)\n",
    "                      .filter(F.col('rtl_txn_dt').between(start_date, end_date))\n",
    "                      .filter((F.col('loyalty_card_no') != '') & (F.col('loyalty_card_no').isNotNull()))\n",
    "                      .filter(F.col('financial_unit_format_dk') == 'D')\n",
    "                      .filter(F.col('rtl_txn_cancel_flg') == 0)\n",
    "                      .select('rtl_txn_id', 'loyalty_card_no', 'store_id')\n",
    "                     )\n"
   ]
  },
  {
   "cell_type": "code",
   "execution_count": 124,
   "id": "3c3df404",
   "metadata": {},
   "outputs": [],
   "source": [
    "checks_headers_tc5 = checks_headers.filter(F.col('store_id').isin(plants)) #оставили чеки только с нужными магазинами"
   ]
  },
  {
   "cell_type": "code",
   "execution_count": 125,
   "id": "379f0a73",
   "metadata": {},
   "outputs": [],
   "source": [
    "loyalty_cards = (spark\n",
    "                    .table(LOYALTY_CARDS)\n",
    "                    .withColumnRenamed(\"loyalty_card_id\", \"loyalty_card_no\")\n",
    "                    .withColumnRenamed(\"loyalty_account_id\", \"account_no\")\n",
    "                    .withColumnRenamed(\"loyalty_account_acrm_id\", \"account_rk\")\n",
    "                    .select('account_no', 'loyalty_card_no')\n",
    "                )\n",
    "loyalty_cardholders = (spark\n",
    "                        .table(LOYALTY_CARDHOLDERS)\n",
    "                        .filter(F.col('gender_dk') == 'F')\n",
    "                        .withColumnRenamed(\"loyalty_cardholder_acrm_id\", \"customer_rk\")\n",
    "                        .withColumnRenamed(\"loyalty_account_id\", \"account_no\")\n",
    "                        .select('account_no', 'customer_rk')\n",
    "                      )\n",
    "clients_info1 = loyalty_cards.join(loyalty_cardholders, on='account_no', how='inner')\n",
    "clients_info1 = clients_info1.join(seg_sms, on='customer_rk', how='inner')\n",
    "clients_info2 = loyalty_cards.join(loyalty_cardholders, on='account_no', how='inner')\n",
    "clients_info2 = clients_info2.join(slip_check, on='customer_rk', how='inner')"
   ]
  },
  {
   "cell_type": "code",
   "execution_count": 126,
   "id": "1d50c197",
   "metadata": {},
   "outputs": [],
   "source": [
    "checks_headers_tc51 = checks_headers_tc5.join(clients_info1, on='loyalty_card_no') #оставили чеки только нужных гостей"
   ]
  },
  {
   "cell_type": "code",
   "execution_count": 127,
   "id": "4c76b5b1",
   "metadata": {},
   "outputs": [],
   "source": [
    "checks_headers_tc52 = checks_headers_tc5.join(clients_info2, on='loyalty_card_no') #оставили чеки только нужных гостей"
   ]
  },
  {
   "cell_type": "code",
   "execution_count": 128,
   "id": "7172141f",
   "metadata": {},
   "outputs": [],
   "source": [
    "checks_items = (spark.table(CHECKS_ITEMS) \n",
    "                    .withColumnRenamed('plu_id', 'plu_code')\n",
    "                    .withColumnRenamed('turnover_no_vat_amt', 'zsalnovat')\n",
    "                    .withColumnRenamed('turnover_vat_rub_amt', 'zsale_vat')\n",
    "                    .withColumnRenamed('prime_cost_no_vat_amt', 'zcst_n')\n",
    "                    .withColumnRenamed('turnover_base_uom_amt', 'base_qty')\n",
    "                    .withColumnRenamed('discount_amt', 'zdiscount')\n",
    "                    .withColumnRenamed('fact_regular_promo_flg', 'zpromofl')\n",
    "                    .filter(F.col('rtl_txn_dt').between(start_date, end_date))\n",
    "                    .filter((F.col('zsalnovat') >= 0) & (F.col('base_qty') >= 0) & (F.col('zcst_n') > 0)) #keep only correct data\n",
    "                        .select('plu_code' #items id\n",
    "                                , 'rtl_txn_id' #cheques id\n",
    "                               , 'base_qty'\n",
    "                               )\n",
    "                   )\n"
   ]
  },
  {
   "cell_type": "code",
   "execution_count": 129,
   "id": "13d9123e",
   "metadata": {},
   "outputs": [],
   "source": [
    "plu_hierarchy_lvl_4_dk = ['FD0911001']\n",
    "# syntethic_category_id = [96,57,75,73,101,55,56,22]\n",
    "# plu_brand_code = ['2452']\n",
    "# plu_vendor_nm = ['Данон']\n",
    "# plu_not_in = [4138521]"
   ]
  },
  {
   "cell_type": "code",
   "execution_count": 130,
   "id": "251c28fc",
   "metadata": {},
   "outputs": [
    {
     "name": "stderr",
     "output_type": "stream",
     "text": [
      "                                                                                \r"
     ]
    }
   ],
   "source": [
    "plu_codes_cat = (spark\n",
    "                 .table(PRODUCTS)\n",
    "                 .filter(F.col('plu_hierarchy_lvl_4_dk').isin(plu_hierarchy_lvl_4_dk))\n",
    "#                  .filter(F.col('plu_vendor_nm').isin(plu_vendor_nm))\n",
    "#                  .filter(F.col('syntethic_category_id').isin(syntethic_category_id))\n",
    "#                  .filter(~F.col('plu_brand_code').isin(plu_brand_code))\n",
    "#                  .filter(~F.col('plu_id').isin(plu_not_in))\n",
    "                 .select('plu_id')\n",
    "                 .distinct()\n",
    "                 .toPandas()['plu_id']\n",
    "                 .tolist()\n",
    "                )"
   ]
  },
  {
   "cell_type": "code",
   "execution_count": 131,
   "id": "8b00b0a5",
   "metadata": {},
   "outputs": [],
   "source": [
    "checks_items = checks_items.filter(F.col('plu_code').isin(plu_codes_cat)) # только чеки с нужными plu"
   ]
  },
  {
   "cell_type": "code",
   "execution_count": 132,
   "id": "87f264e8",
   "metadata": {},
   "outputs": [],
   "source": [
    "checks_tc51 = checks_items.join(checks_headers_tc51, 'rtl_txn_id', how='inner')"
   ]
  },
  {
   "cell_type": "code",
   "execution_count": 133,
   "id": "3735bdaa",
   "metadata": {},
   "outputs": [],
   "source": [
    "checks_tc52 = checks_items.join(checks_headers_tc52, 'rtl_txn_id', how='inner')"
   ]
  },
  {
   "cell_type": "code",
   "execution_count": 134,
   "id": "cbea520f",
   "metadata": {},
   "outputs": [],
   "source": [
    "accs = ['account_no']\n",
    "pdf = checks_tc51.groupby(accs).agg(F.sum('base_qty').alias('base_qty_per_period'))\n",
    "pdf = pdf.filter(F.col('base_qty_per_period') >= 1)\n",
    "checks_tc51 = checks_tc51.join(pdf, on=accs)"
   ]
  },
  {
   "cell_type": "code",
   "execution_count": 135,
   "id": "d8848081",
   "metadata": {},
   "outputs": [],
   "source": [
    "pdf2 = checks_tc52.groupby(accs).agg(F.sum('base_qty').alias('base_qty_per_period'))\n",
    "pdf2 = pdf2.filter(F.col('base_qty_per_period') >= 1)\n",
    "checks_tc52 = checks_tc52.join(pdf2, on=accs)"
   ]
  },
  {
   "cell_type": "code",
   "execution_count": 138,
   "id": "a05eedf5",
   "metadata": {},
   "outputs": [],
   "source": [
    "seg1 = (checks_tc51.withColumn('group', F.lit('1'))\n",
    "                  .select('customer_rk', 'group')\n",
    "                  .distinct()\n",
    "      )"
   ]
  },
  {
   "cell_type": "code",
   "execution_count": 139,
   "id": "e51841fc",
   "metadata": {},
   "outputs": [],
   "source": [
    "seg2 = (checks_tc52.withColumn('group', F.lit('2'))\n",
    "                  .select('customer_rk', 'group')\n",
    "                  .distinct()\n",
    "      )"
   ]
  },
  {
   "cell_type": "code",
   "execution_count": 140,
   "id": "f621c396",
   "metadata": {},
   "outputs": [],
   "source": [
    "seg_5 = seg1.union(seg2)"
   ]
  },
  {
   "cell_type": "code",
   "execution_count": 12,
   "id": "a963c2eb",
   "metadata": {},
   "outputs": [
    {
     "name": "stderr",
     "output_type": "stream",
     "text": [
      "                                                                                \r"
     ]
    }
   ],
   "source": [
    "# seg_5.write.parquet('temp2679_seg_new5', mode='overwrite')\n",
    "seg_5 = spark.read.parquet('temp2679_seg_new5')"
   ]
  },
  {
   "cell_type": "code",
   "execution_count": 142,
   "id": "04c95ff1",
   "metadata": {},
   "outputs": [
    {
     "name": "stderr",
     "output_type": "stream",
     "text": [
      "                                                                                \r"
     ]
    }
   ],
   "source": [
    "seg_pd5 = seg_5.toPandas()"
   ]
  },
  {
   "cell_type": "markdown",
   "id": "13bb9c30",
   "metadata": {},
   "source": [
    "### Без пола и без возраста"
   ]
  },
  {
   "cell_type": "markdown",
   "id": "659c78d6",
   "metadata": {},
   "source": [
    "### Heavy users"
   ]
  },
  {
   "cell_type": "markdown",
   "id": "80c55739",
   "metadata": {},
   "source": [
    "### Собираем чеки этих гостей и оставляем тех, кто покупал продукты с synthetic_catalog_id"
   ]
  },
  {
   "cell_type": "code",
   "execution_count": 94,
   "id": "5386bb76",
   "metadata": {},
   "outputs": [],
   "source": [
    "start_date = datetime.date(2021, 9, 8)\n",
    "end_date = datetime.date(2022, 2, 7)"
   ]
  },
  {
   "cell_type": "code",
   "execution_count": 95,
   "id": "ef6400e1",
   "metadata": {},
   "outputs": [],
   "source": [
    "checks_headers = (spark.table(CHECKS_HEADERS)\n",
    "                      .filter(F.col('rtl_txn_dt').between(start_date, end_date))\n",
    "                      .filter((F.col('loyalty_card_no') != '') & (F.col('loyalty_card_no').isNotNull()))\n",
    "                      .filter(F.col('financial_unit_format_dk') == 'D')\n",
    "                      .filter(F.col('rtl_txn_cancel_flg') == 0)\n",
    "                      .select('rtl_txn_id', 'loyalty_card_no', 'store_id')\n",
    "                     )\n"
   ]
  },
  {
   "cell_type": "code",
   "execution_count": 96,
   "id": "2402be5e",
   "metadata": {},
   "outputs": [],
   "source": [
    "checks_headers_tc5 = checks_headers.filter(F.col('store_id').isin(plants)) #оставили чеки только с нужными магазинами"
   ]
  },
  {
   "cell_type": "code",
   "execution_count": 97,
   "id": "d7816bbd",
   "metadata": {},
   "outputs": [],
   "source": [
    "names = ['''Ава, Авгуполинста, Августина, Авдотья, Аврора, Агапия, Агата, Агафия, Агафья, Аглая, Агния, Агриппина, Ада, Аделаида, \n",
    "Аделина, Аделия, Адель, Адриана, Азалия, Аида, Аксинья, Алана, Алевтина, Алекса, Александра, Александрина, Алёна, \n",
    "Алеся, Алина, Алиса, Алла, Альба, Альбина, Аля, Амалия, Амелия, Амина, Анастасия, Ангелина, Анжела, Анжелика, \n",
    "Анисья, Анна, Антонина, Анфиса, Аполлинария, Арабелла, Ариана, Арина, Арсена, Ассоль, Ася, Аэлита, Аюта, Бажена, \n",
    "Беатрис, Бела, Белла, Берта, Богдана, Божена, Бриллиант, Бронислава, Бьянка, Бэлла, Валентина, Валерия, Ванда, \n",
    "Варвара, Василина, Василиса, Васса, Венера, Вера, Вероника, Вета, Викторина, Виктория, Вилена, Виола, Виолетта, \n",
    "Вит, Вита, Виталина, Виталия, Влада, Владана, Владислава, Владлена, Волга, Габриэлла, Галина, Гвоздика, Георгина, \n",
    "Гертруда, Глафира, Грета, Даздраперма, Даниэла, Дания, Дара, Дарина, Дария, Декабрина, Дарья, Дженна, Диамара, \n",
    "Диана, Дина, Долорес, Доминика, Домна, Домника, Дора, Ева, Евангелина, Ева, Евгения, Евдокия, Екатерина, Елен, \n",
    "Алёна, Елена, Елизавета, Есения, Ефросинья, Жаклин, Жанна, Жозефина, Жоржина, Залина, Зара, Зинаида, Зиновия, \n",
    "Зита, Злата, Златослава, Зореслава, Зоя, Иванна, Ивета, Иветта, Ида, Изабелла, Иллирика, Илона, Инесса, Инна, \n",
    "Интерна, Иоанна, Иона, Ира, Ираида, Ирина, Ирма, Искра, Исталина, Иулиания, Июлия, Ия, Калерия, Камилла, \n",
    "Капитолина, Кара, Карина, Кармия, Каролина, Катерина, Кира, Клавдия, Клара, Клёна, Клементина, Кора, Корнелия, \n",
    "Кристина, Ксения, Лада, Лана, Лара, Лариса, Лаура, Ленина, Леокадия, Леона, Лера, Леся, Лета, Лиана, Лидия, \n",
    "Лика, Лили, Лилиана, Лилия, Лина, Лия, Лола, Лолита, Лора, Луиза, Лукерья, Лукина, Лукия, Любава, Любовь, \n",
    "Людмила, Люсиль, Люсьена, Люция, Люче, Ляля, Магда, Магдалена, Мадлен, Майя, Макария, Маргарита, Мариа, \n",
    "Марианна, Марика, Марина, Мария, Марта, Марфа, Марьяна, Мелания, Мила, Милада, Милана, Милен, Милена, Милица,\n",
    "Милослава, Мира, Мирослава, Мирра, Мия, Моника, Муза, Надежда, Нана, Наталия, Наталья, Нева, Нелли, Неонилла, \n",
    "Ника, Николь, Нина, Нинель, Нора, Одетта, Оксана, Октябрина, Олеся, Оливия, Олимпиада, Ольга, Павла, Павлина, \n",
    "Патриция, Паула, Пейтон, Пелагея, Платонида, Победа, Полина, Прасковья, Рада, Раиса, Рамина, Ребекка, Револа, \n",
    "Регина, Резеда, Рена, Рената, Рианна, Рикарда, Римма, Рина, Рита, Рогнеда, Роза, Роксолана, Ростислава, Русалина, \n",
    "Руслана, Руфина, Сабина, Сабрина, Саломея, Сандра, Сара, Сауле, Светлана, Святослава, Севастьяна, Сентябрина, \n",
    "Серафима, Сесилия, Сильвия, Снежана, Соломия, Соня, София, Софья, Союза, Спартакиада, Станислава, Стелла, \n",
    "Стефания, Сусанна, Таисия, Тамара, Тамила, Татьяна, Таяна, Теона, Тереза, Тина, Ульяна, Урсула, Услада, \n",
    "Устинья, Фаина, Фёкла, Флора, Флоренс, Флорентина, Флоренция, Флориана, Фотиния, Хилари, Хома, Цагана, \n",
    "Цветана, Цецилия, Челси, Шарлотта, Шейла, Эвелина, Элеонора, Элиана, Элиза, Элизар, Элина, Элла, Эльвина, \n",
    "Эльвира, Эля, Эмили, Эмилия, Эмма, Эрмина, Эсмеральда, Этель, Юлианна, Юлия, Юния, Ядвига, Яна, Янина, Ярина, \n",
    "Ярослава'''\n",
    "]\n",
    "names = names[0].split(',')\n",
    "for i in range(len(names)):\n",
    "    names[i] = names[i].replace('\\n', '')\n",
    "    names[i] = names[i].replace(' ', '')"
   ]
  },
  {
   "cell_type": "code",
   "execution_count": 98,
   "id": "1676da55",
   "metadata": {},
   "outputs": [],
   "source": [
    "loyalty_cards = (spark\n",
    "                    .table(LOYALTY_CARDS)\n",
    "                    .withColumnRenamed(\"loyalty_card_id\", \"loyalty_card_no\")\n",
    "                    .withColumnRenamed(\"loyalty_account_id\", \"account_no\")\n",
    "                    .withColumnRenamed(\"loyalty_account_acrm_id\", \"account_rk\")\n",
    "                    .select('account_no', 'loyalty_card_no')\n",
    "                )\n",
    "loyalty_cardholders = (spark\n",
    "                        .table(LOYALTY_CARDHOLDERS)\n",
    "                        .filter(F.col('first_nm').isin(names))\n",
    "                        .withColumnRenamed(\"loyalty_cardholder_acrm_id\", \"customer_rk\")\n",
    "                        .withColumnRenamed(\"loyalty_account_id\", \"account_no\")\n",
    "                        .select('account_no', 'customer_rk')\n",
    "                      )\n",
    "clients_info1 = loyalty_cards.join(loyalty_cardholders, on='account_no', how='inner')\n",
    "clients_info1 = clients_info1.join(seg_sms, on='customer_rk', how='inner')\n",
    "clients_info2 = loyalty_cards.join(loyalty_cardholders, on='account_no', how='inner')\n",
    "clients_info2 = clients_info2.join(slip_check, on='customer_rk', how='inner')"
   ]
  },
  {
   "cell_type": "code",
   "execution_count": 99,
   "id": "0d715ff8",
   "metadata": {},
   "outputs": [],
   "source": [
    "checks_headers_tc51 = checks_headers_tc5.join(clients_info1, on='loyalty_card_no') #оставили чеки только нужных гостей"
   ]
  },
  {
   "cell_type": "code",
   "execution_count": 100,
   "id": "2519ceca",
   "metadata": {},
   "outputs": [],
   "source": [
    "checks_headers_tc52 = checks_headers_tc5.join(clients_info2, on='loyalty_card_no') #оставили чеки только нужных гостей"
   ]
  },
  {
   "cell_type": "code",
   "execution_count": 101,
   "id": "45938e7c",
   "metadata": {},
   "outputs": [],
   "source": [
    "checks_items = (spark.table(CHECKS_ITEMS) \n",
    "                    .withColumnRenamed('plu_id', 'plu_code')\n",
    "                    .withColumnRenamed('turnover_no_vat_amt', 'zsalnovat')\n",
    "                    .withColumnRenamed('turnover_vat_rub_amt', 'zsale_vat')\n",
    "                    .withColumnRenamed('prime_cost_no_vat_amt', 'zcst_n')\n",
    "                    .withColumnRenamed('turnover_base_uom_amt', 'base_qty')\n",
    "                    .withColumnRenamed('discount_amt', 'zdiscount')\n",
    "                    .withColumnRenamed('fact_regular_promo_flg', 'zpromofl')\n",
    "                    .filter(F.col('rtl_txn_dt').between(start_date, end_date))\n",
    "                    .filter((F.col('zsalnovat') >= 0) & (F.col('base_qty') >= 0) & (F.col('zcst_n') > 0)) #keep only correct data\n",
    "                        .select('plu_code' #items id\n",
    "                                , 'rtl_txn_id' #cheques id\n",
    "                               , 'base_qty'\n",
    "                               )\n",
    "                   )\n"
   ]
  },
  {
   "cell_type": "code",
   "execution_count": 102,
   "id": "58a2dc1c",
   "metadata": {},
   "outputs": [],
   "source": [
    "# plu_hierarchy_lvl_4_dk = ['FR0604001', 'FR0608005', 'FR0604002', 'FR0608001'] #сметана, молоко, кефир\n",
    "# syntethic_category_id = [96,57,75,73,101,55,56,22]\n",
    "plu_brand_code = ['2452']\n",
    "# plu_vendor_nm = ['Данон']\n",
    "# plu_not_in = [4138521]"
   ]
  },
  {
   "cell_type": "code",
   "execution_count": 103,
   "id": "e88f1fda",
   "metadata": {},
   "outputs": [
    {
     "name": "stderr",
     "output_type": "stream",
     "text": [
      "                                                                                \r"
     ]
    }
   ],
   "source": [
    "plu_codes_cat = (spark\n",
    "                 .table(PRODUCTS)\n",
    "#                  .filter(F.col('plu_hierarchy_lvl_4_dk').isin(plu_hierarchy_lvl_4_dk))\n",
    "#                  .filter(F.col('plu_vendor_nm').isin(plu_vendor_nm))\n",
    "#                  .filter(F.col('syntethic_category_id').isin(syntethic_category_id))\n",
    "                 .filter(F.col('plu_brand_code').isin(plu_brand_code))\n",
    "#                  .filter(~F.col('plu_id').isin(plu_not_in))\n",
    "                 .select('plu_id')\n",
    "                 .distinct()\n",
    "                 .toPandas()['plu_id']\n",
    "                 .tolist()\n",
    "                )"
   ]
  },
  {
   "cell_type": "code",
   "execution_count": 104,
   "id": "1fcdb22f",
   "metadata": {},
   "outputs": [],
   "source": [
    "checks_items = checks_items.filter(F.col('plu_code').isin(plu_codes_cat)) # только чеки с нужными plu"
   ]
  },
  {
   "cell_type": "code",
   "execution_count": 105,
   "id": "ccb835d1",
   "metadata": {},
   "outputs": [],
   "source": [
    "checks_tc51 = checks_items.join(checks_headers_tc51, 'rtl_txn_id', how='inner')"
   ]
  },
  {
   "cell_type": "code",
   "execution_count": 106,
   "id": "66cacbc1",
   "metadata": {},
   "outputs": [],
   "source": [
    "checks_tc52 = checks_items.join(checks_headers_tc52, 'rtl_txn_id', how='inner')"
   ]
  },
  {
   "cell_type": "code",
   "execution_count": 107,
   "id": "f55b1271",
   "metadata": {},
   "outputs": [],
   "source": [
    "accs = ['account_no']\n",
    "pdf = checks_tc51.groupby(accs).agg(F.sum('base_qty').alias('base_qty_per_period'))\n",
    "pdf = pdf.filter(F.col('base_qty_per_period') >= 1)\n",
    "checks_tc51 = checks_tc51.join(pdf, on=accs)"
   ]
  },
  {
   "cell_type": "code",
   "execution_count": 108,
   "id": "b26d7a9f",
   "metadata": {},
   "outputs": [],
   "source": [
    "pdf2 = checks_tc52.groupby(accs).agg(F.sum('base_qty').alias('base_qty_per_period'))\n",
    "pdf2 = pdf2.filter(F.col('base_qty_per_period') >= 1)\n",
    "checks_tc52 = checks_tc52.join(pdf2, on=accs)"
   ]
  },
  {
   "cell_type": "code",
   "execution_count": 109,
   "id": "3de380cc",
   "metadata": {},
   "outputs": [],
   "source": [
    "seg1 = (checks_tc51.withColumn('group', F.lit('1'))\n",
    "                  .select('customer_rk', 'group')\n",
    "                  .distinct()\n",
    "      )"
   ]
  },
  {
   "cell_type": "code",
   "execution_count": 110,
   "id": "43659b8c",
   "metadata": {},
   "outputs": [],
   "source": [
    "seg2 = (checks_tc52.withColumn('group', F.lit('2'))\n",
    "                  .select('customer_rk', 'group')\n",
    "                  .distinct()\n",
    "      )"
   ]
  },
  {
   "cell_type": "code",
   "execution_count": 111,
   "id": "aa15628b",
   "metadata": {},
   "outputs": [],
   "source": [
    "seg_6 = seg1.union(seg2)"
   ]
  },
  {
   "cell_type": "code",
   "execution_count": 112,
   "id": "e0fa73a4",
   "metadata": {},
   "outputs": [
    {
     "name": "stderr",
     "output_type": "stream",
     "text": [
      "                                                                                0]]]]3]]]]\r"
     ]
    }
   ],
   "source": [
    "seg_6.write.parquet('temp2679_seg_new6', mode='overwrite')\n",
    "seg_6 = spark.read.parquet('temp2679_seg_new6')"
   ]
  },
  {
   "cell_type": "code",
   "execution_count": 146,
   "id": "441012bf",
   "metadata": {},
   "outputs": [
    {
     "name": "stderr",
     "output_type": "stream",
     "text": [
      "                                                                                \r"
     ]
    }
   ],
   "source": [
    "seg_pd6 = seg_6.toPandas()"
   ]
  },
  {
   "cell_type": "markdown",
   "id": "dceb9aa1",
   "metadata": {},
   "source": [
    "### Конкуренты"
   ]
  },
  {
   "cell_type": "markdown",
   "id": "810c6fe9",
   "metadata": {},
   "source": [
    "### Собираем чеки этих гостей и оставляем тех, кто покупал продукты с synthetic_catalog_id"
   ]
  },
  {
   "cell_type": "code",
   "execution_count": 113,
   "id": "b19aa562",
   "metadata": {},
   "outputs": [],
   "source": [
    "start_date = datetime.date(2021, 9, 8)\n",
    "end_date = datetime.date(2022, 2, 7)"
   ]
  },
  {
   "cell_type": "code",
   "execution_count": 114,
   "id": "8bff94cc",
   "metadata": {},
   "outputs": [],
   "source": [
    "checks_headers = (spark.table(CHECKS_HEADERS)\n",
    "                      .filter(F.col('rtl_txn_dt').between(start_date, end_date))\n",
    "                      .filter((F.col('loyalty_card_no') != '') & (F.col('loyalty_card_no').isNotNull()))\n",
    "                      .filter(F.col('financial_unit_format_dk') == 'D')\n",
    "                      .filter(F.col('rtl_txn_cancel_flg') == 0)\n",
    "                      .select('rtl_txn_id', 'loyalty_card_no', 'store_id')\n",
    "                     )\n"
   ]
  },
  {
   "cell_type": "code",
   "execution_count": 115,
   "id": "5390209f",
   "metadata": {},
   "outputs": [],
   "source": [
    "checks_headers_tc5 = checks_headers.filter(F.col('store_id').isin(plants)) #оставили чеки только с нужными магазинами"
   ]
  },
  {
   "cell_type": "code",
   "execution_count": 116,
   "id": "ca0919a6",
   "metadata": {},
   "outputs": [],
   "source": [
    "loyalty_cards = (spark\n",
    "                    .table(LOYALTY_CARDS)\n",
    "                    .withColumnRenamed(\"loyalty_card_id\", \"loyalty_card_no\")\n",
    "                    .withColumnRenamed(\"loyalty_account_id\", \"account_no\")\n",
    "                    .withColumnRenamed(\"loyalty_account_acrm_id\", \"account_rk\")\n",
    "                    .select('account_no', 'loyalty_card_no')\n",
    "                )\n",
    "loyalty_cardholders = (spark\n",
    "                        .table(LOYALTY_CARDHOLDERS)\n",
    "                        .filter(F.col('first_nm').isin(names))\n",
    "                        .withColumnRenamed(\"loyalty_cardholder_acrm_id\", \"customer_rk\")\n",
    "                        .withColumnRenamed(\"loyalty_account_id\", \"account_no\")\n",
    "                        .select('account_no', 'customer_rk')\n",
    "                      )\n",
    "clients_info1 = loyalty_cards.join(loyalty_cardholders, on='account_no', how='inner')\n",
    "clients_info1 = clients_info1.join(seg_sms, on='customer_rk', how='inner')\n",
    "clients_info2 = loyalty_cards.join(loyalty_cardholders, on='account_no', how='inner')\n",
    "clients_info2 = clients_info2.join(slip_check, on='customer_rk', how='inner')"
   ]
  },
  {
   "cell_type": "code",
   "execution_count": 117,
   "id": "acf706bb",
   "metadata": {},
   "outputs": [],
   "source": [
    "checks_headers_tc51 = checks_headers_tc5.join(clients_info1, on='loyalty_card_no') #оставили чеки только нужных гостей"
   ]
  },
  {
   "cell_type": "code",
   "execution_count": 118,
   "id": "46b8c525",
   "metadata": {},
   "outputs": [],
   "source": [
    "checks_headers_tc52 = checks_headers_tc5.join(clients_info2, on='loyalty_card_no') #оставили чеки только нужных гостей"
   ]
  },
  {
   "cell_type": "code",
   "execution_count": 119,
   "id": "46d84cea",
   "metadata": {},
   "outputs": [],
   "source": [
    "checks_items = (spark.table(CHECKS_ITEMS) \n",
    "                    .withColumnRenamed('plu_id', 'plu_code')\n",
    "                    .withColumnRenamed('turnover_no_vat_amt', 'zsalnovat')\n",
    "                    .withColumnRenamed('turnover_vat_rub_amt', 'zsale_vat')\n",
    "                    .withColumnRenamed('prime_cost_no_vat_amt', 'zcst_n')\n",
    "                    .withColumnRenamed('turnover_base_uom_amt', 'base_qty')\n",
    "                    .withColumnRenamed('discount_amt', 'zdiscount')\n",
    "                    .withColumnRenamed('fact_regular_promo_flg', 'zpromofl')\n",
    "                    .filter(F.col('rtl_txn_dt').between(start_date, end_date))\n",
    "                    .filter((F.col('zsalnovat') >= 0) & (F.col('base_qty') >= 0) & (F.col('zcst_n') > 0)) #keep only correct data\n",
    "                        .select('plu_code' #items id\n",
    "                                , 'rtl_txn_id' #cheques id\n",
    "                               , 'base_qty'\n",
    "                               )\n",
    "                   )\n"
   ]
  },
  {
   "cell_type": "code",
   "execution_count": 120,
   "id": "b00eecab",
   "metadata": {},
   "outputs": [],
   "source": [
    "plu_hierarchy_lvl_4_dk = ['FD0911001']\n",
    "# syntethic_category_id = [96,57,75,73,101,55,56,22]\n",
    "# plu_brand_code = ['2452']\n",
    "# plu_vendor_nm = ['Данон']\n",
    "# plu_not_in = [4138521]"
   ]
  },
  {
   "cell_type": "code",
   "execution_count": 121,
   "id": "4b8f5325",
   "metadata": {},
   "outputs": [
    {
     "name": "stderr",
     "output_type": "stream",
     "text": [
      "                                                                                \r"
     ]
    }
   ],
   "source": [
    "plu_codes_cat = (spark\n",
    "                 .table(PRODUCTS)\n",
    "                 .filter(F.col('plu_hierarchy_lvl_4_dk').isin(plu_hierarchy_lvl_4_dk))\n",
    "#                  .filter(F.col('plu_vendor_nm').isin(plu_vendor_nm))\n",
    "#                  .filter(F.col('syntethic_category_id').isin(syntethic_category_id))\n",
    "#                  .filter(~F.col('plu_brand_code').isin(plu_brand_code))\n",
    "#                  .filter(~F.col('plu_id').isin(plu_not_in))\n",
    "                 .select('plu_id')\n",
    "                 .distinct()\n",
    "                 .toPandas()['plu_id']\n",
    "                 .tolist()\n",
    "                )"
   ]
  },
  {
   "cell_type": "code",
   "execution_count": 122,
   "id": "8d88c71d",
   "metadata": {},
   "outputs": [],
   "source": [
    "checks_items = checks_items.filter(F.col('plu_code').isin(plu_codes_cat)) # только чеки с нужными plu"
   ]
  },
  {
   "cell_type": "code",
   "execution_count": 123,
   "id": "d326e162",
   "metadata": {},
   "outputs": [],
   "source": [
    "checks_tc51 = checks_items.join(checks_headers_tc51, 'rtl_txn_id', how='inner')"
   ]
  },
  {
   "cell_type": "code",
   "execution_count": 124,
   "id": "6ce65e61",
   "metadata": {},
   "outputs": [],
   "source": [
    "checks_tc52 = checks_items.join(checks_headers_tc52, 'rtl_txn_id', how='inner')"
   ]
  },
  {
   "cell_type": "code",
   "execution_count": 125,
   "id": "3bae9f6e",
   "metadata": {},
   "outputs": [],
   "source": [
    "accs = ['account_no']\n",
    "pdf = checks_tc51.groupby(accs).agg(F.sum('base_qty').alias('base_qty_per_period'))\n",
    "pdf = pdf.filter(F.col('base_qty_per_period') >= 1)\n",
    "checks_tc51 = checks_tc51.join(pdf, on=accs)"
   ]
  },
  {
   "cell_type": "code",
   "execution_count": 126,
   "id": "ff89e2e3",
   "metadata": {},
   "outputs": [],
   "source": [
    "pdf2 = checks_tc52.groupby(accs).agg(F.sum('base_qty').alias('base_qty_per_period'))\n",
    "pdf2 = pdf2.filter(F.col('base_qty_per_period') >= 1)\n",
    "checks_tc52 = checks_tc52.join(pdf2, on=accs)"
   ]
  },
  {
   "cell_type": "code",
   "execution_count": 127,
   "id": "49080182",
   "metadata": {},
   "outputs": [],
   "source": [
    "seg1 = (checks_tc51.withColumn('group', F.lit('1'))\n",
    "                  .select('customer_rk', 'group')\n",
    "                  .distinct()\n",
    "      )"
   ]
  },
  {
   "cell_type": "code",
   "execution_count": 128,
   "id": "23bc2960",
   "metadata": {},
   "outputs": [],
   "source": [
    "seg2 = (checks_tc52.withColumn('group', F.lit('2'))\n",
    "                  .select('customer_rk', 'group')\n",
    "                  .distinct()\n",
    "      )"
   ]
  },
  {
   "cell_type": "code",
   "execution_count": 129,
   "id": "b2cdbdcc",
   "metadata": {},
   "outputs": [],
   "source": [
    "seg_7 = seg1.union(seg2)"
   ]
  },
  {
   "cell_type": "code",
   "execution_count": 130,
   "id": "f1d70c08",
   "metadata": {},
   "outputs": [
    {
     "name": "stderr",
     "output_type": "stream",
     "text": [
      "                                                                                0]]]0]]0]]\r"
     ]
    }
   ],
   "source": [
    "seg_7.write.parquet('temp2679_seg_new7', mode='overwrite')\n",
    "seg_7 = spark.read.parquet('temp2679_seg_new7')"
   ]
  },
  {
   "cell_type": "code",
   "execution_count": 145,
   "id": "443197e6",
   "metadata": {},
   "outputs": [
    {
     "name": "stderr",
     "output_type": "stream",
     "text": [
      "                                                                                \r"
     ]
    }
   ],
   "source": [
    "seg_pd7 = seg_7.toPandas()"
   ]
  },
  {
   "cell_type": "markdown",
   "id": "a6cc51f9",
   "metadata": {},
   "source": [
    "### Остальные"
   ]
  },
  {
   "cell_type": "markdown",
   "id": "88ddef56",
   "metadata": {},
   "source": [
    "### Собираем чеки этих гостей и оставляем тех, кто покупал продукты с synthetic_catalog_id"
   ]
  },
  {
   "cell_type": "code",
   "execution_count": 131,
   "id": "de7d4679",
   "metadata": {},
   "outputs": [],
   "source": [
    "start_date = datetime.date(2021, 9, 8)\n",
    "end_date = datetime.date(2022, 2, 7)"
   ]
  },
  {
   "cell_type": "code",
   "execution_count": 132,
   "id": "fe825777",
   "metadata": {},
   "outputs": [],
   "source": [
    "checks_headers = (spark.table(CHECKS_HEADERS)\n",
    "                      .filter(F.col('rtl_txn_dt').between(start_date, end_date))\n",
    "                      .filter((F.col('loyalty_card_no') != '') & (F.col('loyalty_card_no').isNotNull()))\n",
    "                      .filter(F.col('financial_unit_format_dk') == 'D')\n",
    "                      .filter(F.col('rtl_txn_cancel_flg') == 0)\n",
    "                      .select('rtl_txn_id', 'loyalty_card_no', 'store_id')\n",
    "                     )\n"
   ]
  },
  {
   "cell_type": "code",
   "execution_count": 133,
   "id": "3fd2944a",
   "metadata": {},
   "outputs": [],
   "source": [
    "checks_headers_tc5 = checks_headers.filter(F.col('store_id').isin(plants)) #оставили чеки только с нужными магазинами"
   ]
  },
  {
   "cell_type": "code",
   "execution_count": 134,
   "id": "23df6a6f",
   "metadata": {},
   "outputs": [],
   "source": [
    "loyalty_cards = (spark\n",
    "                    .table(LOYALTY_CARDS)\n",
    "                    .withColumnRenamed(\"loyalty_card_id\", \"loyalty_card_no\")\n",
    "                    .withColumnRenamed(\"loyalty_account_id\", \"account_no\")\n",
    "                    .withColumnRenamed(\"loyalty_account_acrm_id\", \"account_rk\")\n",
    "                    .select('account_no', 'loyalty_card_no')\n",
    "                )\n",
    "loyalty_cardholders = (spark\n",
    "                        .table(LOYALTY_CARDHOLDERS)\n",
    "                        .filter(F.col('first_nm').isin(names))\n",
    "                        .withColumnRenamed(\"loyalty_cardholder_acrm_id\", \"customer_rk\")\n",
    "                        .withColumnRenamed(\"loyalty_account_id\", \"account_no\")\n",
    "                        .select('account_no', 'customer_rk')\n",
    "                      )\n",
    "clients_info1 = loyalty_cards.join(loyalty_cardholders, on='account_no', how='inner')\n",
    "clients_info1 = clients_info1.join(seg_sms, on='customer_rk', how='inner')\n",
    "clients_info2 = loyalty_cards.join(loyalty_cardholders, on='account_no', how='inner')\n",
    "clients_info2 = clients_info2.join(slip_check, on='customer_rk', how='inner')"
   ]
  },
  {
   "cell_type": "code",
   "execution_count": 135,
   "id": "310bfc64",
   "metadata": {},
   "outputs": [],
   "source": [
    "checks_headers_tc51 = checks_headers_tc5.join(clients_info1, on='loyalty_card_no') #оставили чеки только нужных гостей"
   ]
  },
  {
   "cell_type": "code",
   "execution_count": 136,
   "id": "cc017a3f",
   "metadata": {},
   "outputs": [],
   "source": [
    "checks_headers_tc52 = checks_headers_tc5.join(clients_info2, on='loyalty_card_no') #оставили чеки только нужных гостей"
   ]
  },
  {
   "cell_type": "code",
   "execution_count": 137,
   "id": "5ab446e0",
   "metadata": {},
   "outputs": [],
   "source": [
    "checks_items = (spark.table(CHECKS_ITEMS) \n",
    "                    .withColumnRenamed('plu_id', 'plu_code')\n",
    "                    .withColumnRenamed('turnover_no_vat_amt', 'zsalnovat')\n",
    "                    .withColumnRenamed('turnover_vat_rub_amt', 'zsale_vat')\n",
    "                    .withColumnRenamed('prime_cost_no_vat_amt', 'zcst_n')\n",
    "                    .withColumnRenamed('turnover_base_uom_amt', 'base_qty')\n",
    "                    .withColumnRenamed('discount_amt', 'zdiscount')\n",
    "                    .withColumnRenamed('fact_regular_promo_flg', 'zpromofl')\n",
    "                    .filter(F.col('rtl_txn_dt').between(start_date, end_date))\n",
    "                    .filter((F.col('zsalnovat') >= 0) & (F.col('base_qty') >= 0) & (F.col('zcst_n') > 0)) #keep only correct data\n",
    "                        .select('plu_code' #items id\n",
    "                                , 'rtl_txn_id' #cheques id\n",
    "                               , 'base_qty'\n",
    "                               )\n",
    "                   )\n"
   ]
  },
  {
   "cell_type": "code",
   "execution_count": 138,
   "id": "196ade4f",
   "metadata": {},
   "outputs": [],
   "source": [
    "checks_tc51 = checks_items.join(checks_headers_tc51, 'rtl_txn_id', how='inner')"
   ]
  },
  {
   "cell_type": "code",
   "execution_count": 139,
   "id": "1ce0fafc",
   "metadata": {},
   "outputs": [],
   "source": [
    "checks_tc52 = checks_items.join(checks_headers_tc52, 'rtl_txn_id', how='inner')"
   ]
  },
  {
   "cell_type": "code",
   "execution_count": 140,
   "id": "4912a17e",
   "metadata": {},
   "outputs": [],
   "source": [
    "seg1 = (checks_tc51.withColumn('group', F.lit('1'))\n",
    "                  .select('customer_rk', 'group')\n",
    "                  .distinct()\n",
    "      )"
   ]
  },
  {
   "cell_type": "code",
   "execution_count": 141,
   "id": "91fe28d2",
   "metadata": {},
   "outputs": [],
   "source": [
    "seg2 = (checks_tc52.withColumn('group', F.lit('2'))\n",
    "                  .select('customer_rk', 'group')\n",
    "                  .distinct()\n",
    "      )"
   ]
  },
  {
   "cell_type": "code",
   "execution_count": 142,
   "id": "51a6ee01",
   "metadata": {},
   "outputs": [],
   "source": [
    "seg_8 = seg1.union(seg2)"
   ]
  },
  {
   "cell_type": "code",
   "execution_count": 143,
   "id": "0e35885a",
   "metadata": {},
   "outputs": [
    {
     "name": "stderr",
     "output_type": "stream",
     "text": [
      "[Stage 121:>           (10 + 190) / 200][Stage 125:>            (0 + 180) / 200]/ 200]]]]]]22/02/14 17:43:25 ERROR cluster.YarnScheduler: Lost executor 501 on mn-hdcn044.x5.ru: Container killed by YARN for exceeding memory limits.  4.5 GB of 4.5 GB physical memory used. Consider boosting spark.yarn.executor.memoryOverhead or disabling yarn.nodemanager.vmem-check-enabled because of YARN-4714.\n",
      "[Stage 121:>           (10 + 190) / 200][Stage 125:>            (0 + 175) / 200]22/02/14 17:43:26 ERROR cluster.YarnScheduler: Lost executor 509 on mn-hdcn054.x5.ru: Container killed by YARN for exceeding memory limits.  4.5 GB of 4.5 GB physical memory used. Consider boosting spark.yarn.executor.memoryOverhead or disabling yarn.nodemanager.vmem-check-enabled because of YARN-4714.\n",
      "[Stage 121:=>          (32 + 168) / 200][Stage 125:>            (0 + 200) / 200]22/02/14 17:43:50 ERROR cluster.YarnScheduler: Lost executor 491 on mn-hdcn038.x5.ru: Container killed by YARN for exceeding memory limits.  4.5 GB of 4.5 GB physical memory used. Consider boosting spark.yarn.executor.memoryOverhead or disabling yarn.nodemanager.vmem-check-enabled because of YARN-4714.\n",
      "                                                                                \r"
     ]
    }
   ],
   "source": [
    "seg_8.write.parquet('temp2679_seg_new8', mode='overwrite')\n",
    "seg_8 = spark.read.parquet('temp2679_seg_new8')"
   ]
  },
  {
   "cell_type": "code",
   "execution_count": 144,
   "id": "31a34990",
   "metadata": {},
   "outputs": [
    {
     "name": "stderr",
     "output_type": "stream",
     "text": [
      "                                                                                \r"
     ]
    }
   ],
   "source": [
    "seg_pd8 = seg_8.toPandas()"
   ]
  },
  {
   "cell_type": "code",
   "execution_count": null,
   "id": "0bb8525a",
   "metadata": {},
   "outputs": [],
   "source": [
    "seg_pd1.to_csv('seg_pd1.csv', index=False)\n",
    "seg_pd2.to_csv('seg_pd2.csv', index=False)\n",
    "seg_pd3.to_csv('seg_pd3.csv', index=False)\n",
    "seg_pd4.to_csv('seg_pd4.csv', index=False)\n",
    "seg_pd5.to_csv('seg_pd5.csv', index=False)"
   ]
  },
  {
   "cell_type": "code",
   "execution_count": 147,
   "id": "194888d2",
   "metadata": {},
   "outputs": [],
   "source": [
    "seg_pd6.to_csv('seg_pd6.csv', index=False)\n",
    "seg_pd7.to_csv('seg_pd7.csv', index=False)\n",
    "seg_pd8.to_csv('seg_pd8.csv', index=False)"
   ]
  },
  {
   "cell_type": "code",
   "execution_count": 17,
   "id": "46af143f",
   "metadata": {},
   "outputs": [],
   "source": [
    "seg_pd1 = pd.read_csv('seg_pd1.csv')\n",
    "seg_pd2 = pd.read_csv('seg_pd2.csv')\n",
    "seg_pd3 = pd.read_csv('seg_pd3.csv')"
   ]
  },
  {
   "cell_type": "code",
   "execution_count": 32,
   "id": "0300ffc0",
   "metadata": {},
   "outputs": [
    {
     "name": "stdout",
     "output_type": "stream",
     "text": [
      "churn_sms: 19010, churn_slip: 33947, freq_sms: 65527, freq_slip: 102667 (all_sms: 84537, all_slip: 136614)\n"
     ]
    }
   ],
   "source": [
    "seg_pd_1_churn_sms = seg_pd1[(seg_pd1.usecase == 'churn') & (seg_pd1.group == 1)]['customer_rk']\n",
    "seg_pd_1_churn_slip = seg_pd1[(seg_pd1.usecase == 'churn') & (seg_pd1.group == 2)]['customer_rk']\n",
    "seg_pd_1_freq_sms = seg_pd1[(seg_pd1.usecase == 'freq') & (seg_pd1.group == 1)]['customer_rk']\n",
    "seg_pd_1_freq_slip = seg_pd1[(seg_pd1.usecase == 'freq') & (seg_pd1.group == 2)]['customer_rk']\n",
    "print('churn_sms: {}, churn_slip: {}, freq_sms: {}, freq_slip: {} (all_sms: {}, all_slip: {})'.format(len(seg_pd_1_churn_sms),\n",
    "                                                                                                     len(seg_pd_1_churn_slip),\n",
    "                                                                                                     len(seg_pd_1_freq_sms),\n",
    "                                                                                                     len(seg_pd_1_freq_slip),\n",
    "                                                                                                      len(seg_pd_1_churn_sms)+\n",
    "                                                                                                      len(seg_pd_1_freq_sms),\n",
    "                                                                                                      len(seg_pd_1_churn_slip)+\n",
    "                                                                                                      len(seg_pd_1_freq_slip)))"
   ]
  },
  {
   "cell_type": "code",
   "execution_count": 33,
   "id": "cba1dec7",
   "metadata": {},
   "outputs": [
    {
     "name": "stdout",
     "output_type": "stream",
     "text": [
      "churn_sms: 60852, churn_slip: 109539, freq_sms: 202051, freq_slip: 319170 (all_sms: 262903, all_slip: 428709)\n"
     ]
    }
   ],
   "source": [
    "seg_pd_2_churn_sms = list(set(seg_pd2[(seg_pd2.usecase == 'churn') & (seg_pd2.group == 1)]['customer_rk']) - set(seg_pd_1_churn_sms))\n",
    "seg_pd_2_churn_slip = list(set(seg_pd2[(seg_pd2.usecase == 'churn') & (seg_pd2.group == 2)]['customer_rk']) - set(seg_pd_1_churn_slip))\n",
    "seg_pd_2_freq_sms = list(set(seg_pd2[(seg_pd2.usecase == 'freq') & (seg_pd2.group == 1)]['customer_rk']) - set(seg_pd_1_freq_sms))\n",
    "seg_pd_2_freq_slip = list(set(seg_pd2[(seg_pd2.usecase == 'freq') & (seg_pd2.group == 2)]['customer_rk']) - set(seg_pd_1_freq_slip))\n",
    "print('churn_sms: {}, churn_slip: {}, freq_sms: {}, freq_slip: {} (all_sms: {}, all_slip: {})'.format(len(seg_pd_2_churn_sms),\n",
    "                                                                                                     len(seg_pd_2_churn_slip),\n",
    "                                                                                                     len(seg_pd_2_freq_sms),\n",
    "                                                                                                     len(seg_pd_2_freq_slip),\n",
    "                                                                                                      len(seg_pd_2_churn_sms)+\n",
    "                                                                                                      len(seg_pd_2_freq_sms),\n",
    "                                                                                                      len(seg_pd_2_churn_slip)+\n",
    "                                                                                                      len(seg_pd_2_freq_slip)))"
   ]
  },
  {
   "cell_type": "code",
   "execution_count": 34,
   "id": "4589c97e",
   "metadata": {},
   "outputs": [
    {
     "name": "stdout",
     "output_type": "stream",
     "text": [
      "churn_sms: 458145, churn_slip: 775936, freq_sms: 626886, freq_slip: 993440 (all_sms: 1085031, all_slip: 1769376)\n"
     ]
    }
   ],
   "source": [
    "seg_pd_3_churn_sms = list(set(seg_pd3[(seg_pd3.usecase == 'churn') & (seg_pd3.group == 1)]['customer_rk']) - set(seg_pd_2_churn_sms) - set(seg_pd_1_churn_sms))\n",
    "seg_pd_3_churn_slip = list(set(seg_pd3[(seg_pd3.usecase == 'churn') & (seg_pd3.group == 2)]['customer_rk']) - set(seg_pd_2_churn_slip) - set(seg_pd_1_churn_slip))\n",
    "seg_pd_3_freq_sms = list(set(seg_pd3[(seg_pd3.usecase == 'freq') & (seg_pd3.group == 1)]['customer_rk']) - set(seg_pd_2_freq_sms) - set(seg_pd_1_freq_sms))\n",
    "seg_pd_3_freq_slip = list(set(seg_pd3[(seg_pd3.usecase == 'freq') & (seg_pd3.group == 2)]['customer_rk']) - set(seg_pd_2_freq_slip) - set(seg_pd_1_freq_slip))\n",
    "print('churn_sms: {}, churn_slip: {}, freq_sms: {}, freq_slip: {} (all_sms: {}, all_slip: {})'.format(len(seg_pd_3_churn_sms),\n",
    "                                                                                                     len(seg_pd_3_churn_slip),\n",
    "                                                                                                     len(seg_pd_3_freq_sms),\n",
    "                                                                                                     len(seg_pd_3_freq_slip),\n",
    "                                                                                                      len(seg_pd_3_churn_sms)+\n",
    "                                                                                                      len(seg_pd_3_freq_sms),\n",
    "                                                                                                      len(seg_pd_3_churn_slip)+\n",
    "                                                                                                      len(seg_pd_3_freq_slip)))"
   ]
  },
  {
   "cell_type": "code",
   "execution_count": 37,
   "id": "01640503",
   "metadata": {},
   "outputs": [
    {
     "name": "stderr",
     "output_type": "stream",
     "text": [
      "                                                                                \r"
     ]
    }
   ],
   "source": [
    "seg_pd_4_churn = seg_4.join(customers_usecase_churn, 'customer_rk', 'inner').toPandas()\n",
    "seg_pd_4_freq = seg_4.join(customers_usecase_freq, 'customer_rk', 'inner').toPandas()\n",
    "seg_pd_4_others = seg_4.join(customers_usecase_churn, 'customer_rk', 'left_anti').join(customers_usecase_freq, 'customer_rk', 'left_anti').toPandas()"
   ]
  },
  {
   "cell_type": "code",
   "execution_count": 49,
   "id": "39dfbb5c",
   "metadata": {},
   "outputs": [],
   "source": [
    "seg_pd_4_churn_sms = seg_pd_4_churn[seg_pd_4_churn.group == '1']['customer_rk']\n",
    "seg_pd_4_churn_slip = seg_pd_4_churn[seg_pd_4_churn.group == '2']['customer_rk']\n",
    "seg_pd_4_freq_sms = seg_pd_4_freq[seg_pd_4_freq.group == '1']['customer_rk']\n",
    "seg_pd_4_freq_slip = seg_pd_4_freq[seg_pd_4_freq.group == '2']['customer_rk']\n",
    "seg_pd_4_others_sms = seg_pd_4_others[seg_pd_4_others.group == '1']['customer_rk']\n",
    "seg_pd_4_others_slip = seg_pd_4_others[seg_pd_4_others.group == '2']['customer_rk']"
   ]
  },
  {
   "cell_type": "code",
   "execution_count": 52,
   "id": "86083138",
   "metadata": {},
   "outputs": [],
   "source": [
    "seg_pd_4_others_sms = seg_pd_4_others_sms.astype('str')\n",
    "seg_pd_4_others_slip = seg_pd_4_others_slip.astype('str')"
   ]
  },
  {
   "cell_type": "code",
   "execution_count": 53,
   "id": "80c61adc",
   "metadata": {},
   "outputs": [],
   "source": [
    "cross4_sms, upgrade4_sms, ump4_sms = get_usecases(pd.DataFrame({'customer_rk': seg_pd_4_others_sms.to_list()}))\n",
    "cross4_slip, upgrade4_slip, ump4_slip = get_usecases(pd.DataFrame({'customer_rk': seg_pd_4_others_slip.to_list()}))"
   ]
  },
  {
   "cell_type": "code",
   "execution_count": 55,
   "id": "befa53d9",
   "metadata": {},
   "outputs": [
    {
     "name": "stdout",
     "output_type": "stream",
     "text": [
      "churn_sms: 26185, churn_slip: 50406, freq_sms: 97629, freq_slip: 157423, cross_sms: 79373, cross_slip: 161093, upgrade_sms: 54238, upgrade_slip: 127842, ump_sms: 49827, ump_slip: 91174 (all_sms: 307252, all_slip: 587938)\n"
     ]
    }
   ],
   "source": [
    "print('churn_sms: {}, churn_slip: {}, freq_sms: {}, freq_slip: {}, cross_sms: {}, cross_slip: {}, upgrade_sms: {}, upgrade_slip: {}, ump_sms: {}, ump_slip: {} (all_sms: {}, all_slip: {})'\n",
    "      .format(len(seg_pd_4_churn_sms),\n",
    "              len(seg_pd_4_churn_slip), \n",
    "              len(seg_pd_4_freq_sms),\n",
    "             len(seg_pd_4_freq_slip),\n",
    "              len(cross4_sms), \n",
    "              len(cross4_slip),\n",
    "              len(upgrade4_sms),\n",
    "              len(upgrade4_slip),\n",
    "              len(ump4_sms),\n",
    "              len(ump4_slip),\n",
    "              len(seg_pd_4_churn_sms)+len(seg_pd_4_freq_sms) + len(cross4_sms) + len(upgrade4_sms) + len(ump4_sms),\n",
    "              len(seg_pd_4_churn_slip)+len(seg_pd_4_freq_slip) + len(cross4_slip) + len(upgrade4_slip) + len(ump4_slip)))"
   ]
  },
  {
   "cell_type": "code",
   "execution_count": 38,
   "id": "69a93621",
   "metadata": {},
   "outputs": [
    {
     "name": "stderr",
     "output_type": "stream",
     "text": [
      "                                                                                ]\r"
     ]
    }
   ],
   "source": [
    "seg_pd_5_churn = seg_5.join(customers_usecase_churn, 'customer_rk', 'inner').toPandas()\n",
    "seg_pd_5_freq = seg_5.join(customers_usecase_freq, 'customer_rk', 'inner').toPandas()\n",
    "seg_pd_5_others = seg_5.join(customers_usecase_churn, 'customer_rk', 'left_anti').join(customers_usecase_freq, 'customer_rk', 'left_anti').toPandas()"
   ]
  },
  {
   "cell_type": "code",
   "execution_count": 57,
   "id": "dc4d5dce",
   "metadata": {},
   "outputs": [],
   "source": [
    "seg_pd_5_churn_sms = seg_pd_5_churn[seg_pd_5_churn.group == '1']['customer_rk']\n",
    "seg_pd_5_churn_slip = seg_pd_5_churn[seg_pd_5_churn.group == '2']['customer_rk']\n",
    "seg_pd_5_freq_sms = seg_pd_5_freq[seg_pd_5_freq.group == '1']['customer_rk']\n",
    "seg_pd_5_freq_slip = seg_pd_5_freq[seg_pd_5_freq.group == '2']['customer_rk']\n",
    "seg_pd_5_others_sms = seg_pd_5_others[seg_pd_5_others.group == '1']['customer_rk']\n",
    "seg_pd_5_others_slip = seg_pd_5_others[seg_pd_5_others.group == '2']['customer_rk']"
   ]
  },
  {
   "cell_type": "code",
   "execution_count": 58,
   "id": "27bdb686",
   "metadata": {},
   "outputs": [],
   "source": [
    "seg_pd_5_others_sms = seg_pd_5_others_sms.astype('str')\n",
    "seg_pd_5_others_slip = seg_pd_5_others_slip.astype('str')"
   ]
  },
  {
   "cell_type": "code",
   "execution_count": 166,
   "id": "71720e1b",
   "metadata": {},
   "outputs": [],
   "source": [
    "cross5_sms, upgrade5_sms, ump5_sms = get_usecases(pd.DataFrame({'customer_rk': seg_pd_5_others_sms.to_list()}))\n",
    "cross5_slip, upgrade5_slip, ump5_slip = get_usecases(pd.DataFrame({'customer_rk': seg_pd_5_others_slip.to_list()}))"
   ]
  },
  {
   "cell_type": "code",
   "execution_count": 168,
   "id": "186dc932",
   "metadata": {},
   "outputs": [],
   "source": [
    "seg_pd_5_churn_sms = list(set(seg_pd_5_churn_sms) - set(seg_pd_4_churn_sms))\n",
    "seg_pd_5_churn_slip = list(set(seg_pd_5_churn_slip) - set(seg_pd_4_churn_slip))\n",
    "seg_pd_5_freq_sms = list(set(seg_pd_5_freq_sms) - set(seg_pd_4_freq_sms))\n",
    "seg_pd_5_freq_slip = list(set(seg_pd_5_freq_slip) - set(seg_pd_4_freq_slip))\n",
    "cross5_sms = list(set(cross5_sms['customer_rk']) - set(cross4_sms['customer_rk']))\n",
    "cross5_slip = list(set(cross5_slip['customer_rk']) - set(cross4_slip['customer_rk']))\n",
    "upgrade5_sms = list(set(upgrade5_sms['customer_rk']) - set(upgrade4_sms['customer_rk']))\n",
    "upgrade5_slip = list(set(upgrade5_slip['customer_rk']) - set(upgrade4_slip['customer_rk']))\n",
    "ump5_sms = list(set(ump5_sms['customer_rk']) - set(ump4_sms['customer_rk']))\n",
    "ump5_slip = list(set(ump5_slip['customer_rk']) - set(ump4_slip['customer_rk']))"
   ]
  },
  {
   "cell_type": "code",
   "execution_count": 169,
   "id": "956cf7b0",
   "metadata": {},
   "outputs": [
    {
     "name": "stdout",
     "output_type": "stream",
     "text": [
      "churn_sms: 105195, churn_slip: 208630, freq_sms: 398558, freq_slip: 672215, cross_sms: 237348, cross_slip: 486028, upgrade_sms: 174692, upgrade_slip: 404815, ump_sms: 149056, ump_slip: 275858 (all_sms: 1064849, all_slip: 2047546)\n"
     ]
    }
   ],
   "source": [
    "print('churn_sms: {}, churn_slip: {}, freq_sms: {}, freq_slip: {}, cross_sms: {}, cross_slip: {}, upgrade_sms: {}, upgrade_slip: {}, ump_sms: {}, ump_slip: {} (all_sms: {}, all_slip: {})'\n",
    "      .format(len(seg_pd_5_churn_sms),\n",
    "              len(seg_pd_5_churn_slip), \n",
    "              len(seg_pd_5_freq_sms),\n",
    "             len(seg_pd_5_freq_slip),\n",
    "              len(cross5_sms), \n",
    "              len(cross5_slip),\n",
    "              len(upgrade5_sms),\n",
    "              len(upgrade5_slip),\n",
    "              len(ump5_sms),\n",
    "              len(ump5_slip),\n",
    "              len(seg_pd_5_churn_sms)+len(seg_pd_5_freq_sms) + len(cross5_sms) + len(upgrade5_sms) + len(ump5_sms),\n",
    "              len(seg_pd_5_churn_slip)+len(seg_pd_5_freq_slip) + len(cross5_slip) + len(upgrade5_slip) + len(ump5_slip)))"
   ]
  },
  {
   "cell_type": "code",
   "execution_count": 170,
   "id": "35b7a4b5",
   "metadata": {},
   "outputs": [
    {
     "name": "stderr",
     "output_type": "stream",
     "text": [
      "                                                                                \r"
     ]
    }
   ],
   "source": [
    "seg_pd_6_churn = seg_6.join(customers_usecase_churn, 'customer_rk', 'inner').toPandas()\n",
    "seg_pd_6_freq = seg_6.join(customers_usecase_freq, 'customer_rk', 'inner').toPandas()\n",
    "seg_pd_6_others = seg_6.join(customers_usecase_churn, 'customer_rk', 'left_anti').join(customers_usecase_freq, 'customer_rk', 'left_anti').toPandas()"
   ]
  },
  {
   "cell_type": "code",
   "execution_count": 171,
   "id": "0b15967a",
   "metadata": {},
   "outputs": [],
   "source": [
    "seg_pd_6_churn_sms = seg_pd_6_churn[seg_pd_6_churn.group == '1']['customer_rk']\n",
    "seg_pd_6_churn_slip = seg_pd_6_churn[seg_pd_6_churn.group == '2']['customer_rk']\n",
    "seg_pd_6_freq_sms = seg_pd_6_freq[seg_pd_6_freq.group == '1']['customer_rk']\n",
    "seg_pd_6_freq_slip = seg_pd_6_freq[seg_pd_6_freq.group == '2']['customer_rk']\n",
    "seg_pd_6_others_sms = seg_pd_6_others[seg_pd_6_others.group == '1']['customer_rk']\n",
    "seg_pd_6_others_slip = seg_pd_6_others[seg_pd_6_others.group == '2']['customer_rk']"
   ]
  },
  {
   "cell_type": "code",
   "execution_count": 172,
   "id": "811faffb",
   "metadata": {},
   "outputs": [],
   "source": [
    "seg_pd_6_others_sms = seg_pd_6_others_sms.astype('str')\n",
    "seg_pd_6_others_slip = seg_pd_6_others_slip.astype('str')"
   ]
  },
  {
   "cell_type": "code",
   "execution_count": 173,
   "id": "00d668f0",
   "metadata": {},
   "outputs": [],
   "source": [
    "cross6_sms, upgrade6_sms, ump6_sms = get_usecases(pd.DataFrame({'customer_rk': seg_pd_6_others_sms.to_list()}))\n",
    "cross6_slip, upgrade6_slip, ump6_slip = get_usecases(pd.DataFrame({'customer_rk': seg_pd_6_others_slip.to_list()}))"
   ]
  },
  {
   "cell_type": "code",
   "execution_count": 175,
   "id": "078b717c",
   "metadata": {},
   "outputs": [
    {
     "name": "stdout",
     "output_type": "stream",
     "text": [
      "churn_sms: 50421, churn_slip: 98927, freq_sms: 197443, freq_slip: 313947, cross_sms: 140604, cross_slip: 294568, upgrade_sms: 113027, upgrade_slip: 252930, ump_sms: 88890, ump_slip: 169998 (all_sms: 590385, all_slip: 1130370)\n"
     ]
    }
   ],
   "source": [
    "print('churn_sms: {}, churn_slip: {}, freq_sms: {}, freq_slip: {}, cross_sms: {}, cross_slip: {}, upgrade_sms: {}, upgrade_slip: {}, ump_sms: {}, ump_slip: {} (all_sms: {}, all_slip: {})'\n",
    "      .format(len(seg_pd_6_churn_sms),\n",
    "              len(seg_pd_6_churn_slip), \n",
    "              len(seg_pd_6_freq_sms),\n",
    "             len(seg_pd_6_freq_slip),\n",
    "              len(cross6_sms), \n",
    "              len(cross6_slip),\n",
    "              len(upgrade6_sms),\n",
    "              len(upgrade6_slip),\n",
    "              len(ump6_sms),\n",
    "              len(ump6_slip),\n",
    "              len(seg_pd_6_churn_sms)+len(seg_pd_6_freq_sms) + len(cross6_sms) + len(upgrade6_sms) + len(ump6_sms),\n",
    "              len(seg_pd_6_churn_slip)+len(seg_pd_6_freq_slip) + len(cross6_slip) + len(upgrade6_slip) + len(ump6_slip)))"
   ]
  },
  {
   "cell_type": "code",
   "execution_count": 176,
   "id": "55c10c86",
   "metadata": {},
   "outputs": [
    {
     "name": "stderr",
     "output_type": "stream",
     "text": [
      "                                                                                \r"
     ]
    }
   ],
   "source": [
    "seg_pd_7_churn = seg_7.join(customers_usecase_churn, 'customer_rk', 'inner').toPandas()\n",
    "seg_pd_7_freq = seg_7.join(customers_usecase_freq, 'customer_rk', 'inner').toPandas()\n",
    "seg_pd_7_others = seg_7.join(customers_usecase_churn, 'customer_rk', 'left_anti').join(customers_usecase_freq, 'customer_rk', 'left_anti').toPandas()"
   ]
  },
  {
   "cell_type": "code",
   "execution_count": 177,
   "id": "52e6d83d",
   "metadata": {},
   "outputs": [],
   "source": [
    "seg_pd_7_churn_sms = seg_pd_7_churn[seg_pd_7_churn.group == '1']['customer_rk']\n",
    "seg_pd_7_churn_slip = seg_pd_7_churn[seg_pd_7_churn.group == '2']['customer_rk']\n",
    "seg_pd_7_freq_sms = seg_pd_7_freq[seg_pd_7_freq.group == '1']['customer_rk']\n",
    "seg_pd_7_freq_slip = seg_pd_7_freq[seg_pd_7_freq.group == '2']['customer_rk']\n",
    "seg_pd_7_others_sms = seg_pd_7_others[seg_pd_7_others.group == '1']['customer_rk']\n",
    "seg_pd_7_others_slip = seg_pd_7_others[seg_pd_7_others.group == '2']['customer_rk']"
   ]
  },
  {
   "cell_type": "code",
   "execution_count": 178,
   "id": "b1172bec",
   "metadata": {},
   "outputs": [],
   "source": [
    "seg_pd_7_others_sms = seg_pd_7_others_sms.astype('str')\n",
    "seg_pd_7_others_slip = seg_pd_7_others_slip.astype('str')"
   ]
  },
  {
   "cell_type": "code",
   "execution_count": 189,
   "id": "4a7b2833",
   "metadata": {},
   "outputs": [],
   "source": [
    "cross7_sms, upgrade7_sms, ump7_sms = get_usecases(pd.DataFrame({'customer_rk': seg_pd_7_others_sms.to_list()}))\n",
    "cross7_slip, upgrade7_slip, ump7_slip = get_usecases(pd.DataFrame({'customer_rk': seg_pd_7_others_slip.to_list()}))"
   ]
  },
  {
   "cell_type": "code",
   "execution_count": 195,
   "id": "8b2ce027",
   "metadata": {},
   "outputs": [],
   "source": [
    "seg_pd_7_churn_sms = list(set(seg_pd_7_churn_sms) - set(seg_pd_6_churn_sms))\n",
    "seg_pd_7_churn_slip = list(set(seg_pd_7_churn_slip) - set(seg_pd_6_churn_slip))\n",
    "seg_pd_7_freq_sms = list(set(seg_pd_7_freq_sms) - set(seg_pd_6_freq_sms))\n",
    "seg_pd_7_freq_slip = list(set(seg_pd_7_freq_slip) - set(seg_pd_6_freq_slip))\n",
    "cross7_sms = list(set(cross7_sms['customer_rk']) - set(cross6_sms['customer_rk']))\n",
    "cross7_slip = list(set(cross7_slip['customer_rk']) - set(cross6_slip['customer_rk']))\n",
    "upgrade7_sms = list(set(upgrade7_sms['customer_rk']) - set(upgrade6_sms['customer_rk']))\n",
    "upgrade7_slip = list(set(upgrade7_slip['customer_rk']) - set(upgrade6_slip['customer_rk']))\n",
    "ump7_sms = list(set(ump7_sms['customer_rk']) - set(ump6_sms['customer_rk']))\n",
    "ump7_slip = list(set(ump7_slip['customer_rk']) - set(ump6_slip['customer_rk']))"
   ]
  },
  {
   "cell_type": "code",
   "execution_count": 196,
   "id": "f5d984ad",
   "metadata": {},
   "outputs": [
    {
     "name": "stdout",
     "output_type": "stream",
     "text": [
      "churn_sms: 214335, churn_slip: 427963, freq_sms: 852528, freq_slip: 1404411, cross_sms: 438030, cross_slip: 907443, upgrade_sms: 370366, upgrade_slip: 804817, ump_sms: 276906, ump_slip: 524769 (all_sms: 2152165, all_slip: 4069403)\n"
     ]
    }
   ],
   "source": [
    "print('churn_sms: {}, churn_slip: {}, freq_sms: {}, freq_slip: {}, cross_sms: {}, cross_slip: {}, upgrade_sms: {}, upgrade_slip: {}, ump_sms: {}, ump_slip: {} (all_sms: {}, all_slip: {})'\n",
    "      .format(len(seg_pd_7_churn_sms),\n",
    "              len(seg_pd_7_churn_slip), \n",
    "              len(seg_pd_7_freq_sms),\n",
    "             len(seg_pd_7_freq_slip),\n",
    "              len(cross7_sms), \n",
    "              len(cross7_slip),\n",
    "              len(upgrade7_sms),\n",
    "              len(upgrade7_slip),\n",
    "              len(ump7_sms),\n",
    "              len(ump7_slip),\n",
    "              len(seg_pd_7_churn_sms)+len(seg_pd_7_freq_sms) + len(cross7_sms) + len(upgrade7_sms) + len(ump7_sms),\n",
    "              len(seg_pd_7_churn_slip)+len(seg_pd_7_freq_slip) + len(cross7_slip) + len(upgrade7_slip) + len(ump7_slip)))"
   ]
  },
  {
   "cell_type": "code",
   "execution_count": 182,
   "id": "34b6bcfb",
   "metadata": {},
   "outputs": [
    {
     "name": "stderr",
     "output_type": "stream",
     "text": [
      "                                                                                \r"
     ]
    }
   ],
   "source": [
    "seg_pd_8_churn = seg_8.join(customers_usecase_churn, 'customer_rk', 'inner').toPandas()\n",
    "seg_pd_8_freq = seg_8.join(customers_usecase_freq, 'customer_rk', 'inner').toPandas()\n",
    "seg_pd_8_others = seg_8.join(customers_usecase_churn, 'customer_rk', 'left_anti').join(customers_usecase_freq, 'customer_rk', 'left_anti').toPandas()"
   ]
  },
  {
   "cell_type": "code",
   "execution_count": 197,
   "id": "fdd73cc0",
   "metadata": {},
   "outputs": [],
   "source": [
    "seg_pd_8_churn_sms = seg_pd_8_churn[seg_pd_8_churn.group == '1']['customer_rk']\n",
    "seg_pd_8_churn_slip = seg_pd_8_churn[seg_pd_8_churn.group == '2']['customer_rk']\n",
    "seg_pd_8_freq_sms = seg_pd_8_freq[seg_pd_8_freq.group == '1']['customer_rk']\n",
    "seg_pd_8_freq_slip = seg_pd_8_freq[seg_pd_8_freq.group == '2']['customer_rk']\n",
    "seg_pd_8_others_sms = seg_pd_8_others[seg_pd_8_others.group == '1']['customer_rk']\n",
    "seg_pd_8_others_slip = seg_pd_8_others[seg_pd_8_others.group == '2']['customer_rk']"
   ]
  },
  {
   "cell_type": "code",
   "execution_count": 198,
   "id": "aa8d58a1",
   "metadata": {},
   "outputs": [],
   "source": [
    "seg_pd_8_others_sms = seg_pd_8_others_sms.astype('str')\n",
    "seg_pd_8_others_slip = seg_pd_8_others_slip.astype('str')"
   ]
  },
  {
   "cell_type": "code",
   "execution_count": 215,
   "id": "f638c267",
   "metadata": {},
   "outputs": [],
   "source": [
    "cross8_sms, upgrade8_sms, ump8_sms = get_usecases(pd.DataFrame({'customer_rk': seg_pd_8_others_sms.to_list()}))\n",
    "cross8_slip, upgrade8_slip, ump8_slip = get_usecases(pd.DataFrame({'customer_rk': seg_pd_8_others_slip.to_list()}))"
   ]
  },
  {
   "cell_type": "code",
   "execution_count": 216,
   "id": "52436a44",
   "metadata": {},
   "outputs": [],
   "source": [
    "seg_pd_8_churn_sms = list(set(seg_pd_8_churn_sms) - set(seg_pd_7_churn_sms) - set(seg_pd_6_churn_sms))\n",
    "seg_pd_8_churn_slip = list(set(seg_pd_8_churn_slip) - set(seg_pd_7_churn_slip) - set(seg_pd_6_churn_slip))\n",
    "seg_pd_8_freq_sms = list(set(seg_pd_8_freq_sms) - set(seg_pd_7_freq_sms) - set(seg_pd_6_freq_sms))\n",
    "seg_pd_8_freq_slip = list(set(seg_pd_8_freq_slip) - set(seg_pd_7_freq_slip) - set(seg_pd_6_freq_slip))\n",
    "cross8_sms = list(set(cross8_sms['customer_rk']) - set(cross7_sms) - set(cross6_sms['customer_rk']))\n",
    "cross8_slip = list(set(cross8_slip['customer_rk']) - set(cross7_slip) - set(cross6_slip['customer_rk']))\n",
    "upgrade8_sms = list(set(upgrade8_sms['customer_rk']) - set(upgrade7_sms) - set(upgrade6_sms['customer_rk']))\n",
    "upgrade8_slip = list(set(upgrade8_slip['customer_rk']) - set(upgrade7_slip) - set(upgrade6_slip['customer_rk']))\n",
    "ump8_sms = list(set(ump8_sms['customer_rk']) - set(ump7_sms) - set(ump6_sms['customer_rk']))\n",
    "ump8_slip = list(set(ump8_slip['customer_rk']) - set(ump7_slip) - set(ump6_slip['customer_rk']))"
   ]
  },
  {
   "cell_type": "code",
   "execution_count": 217,
   "id": "bcd476ce",
   "metadata": {},
   "outputs": [
    {
     "name": "stdout",
     "output_type": "stream",
     "text": [
      "churn_sms: 2029485, churn_slip: 3808769, freq_sms: 3354453, freq_slip: 5951198, cross_sms: 731468, cross_slip: 1398905, upgrade_sms: 672283, upgrade_slip: 1304247, ump_sms: 424300, ump_slip: 777999 (all_sms: 7211989, all_slip: 13241118)\n"
     ]
    }
   ],
   "source": [
    "print('churn_sms: {}, churn_slip: {}, freq_sms: {}, freq_slip: {}, cross_sms: {}, cross_slip: {}, upgrade_sms: {}, upgrade_slip: {}, ump_sms: {}, ump_slip: {} (all_sms: {}, all_slip: {})'\n",
    "      .format(len(seg_pd_8_churn_sms),\n",
    "              len(seg_pd_8_churn_slip), \n",
    "              len(seg_pd_8_freq_sms),\n",
    "             len(seg_pd_8_freq_slip),\n",
    "              len(cross8_sms), \n",
    "              len(cross8_slip),\n",
    "              len(upgrade8_sms),\n",
    "              len(upgrade8_slip),\n",
    "              len(ump8_sms),\n",
    "              len(ump8_slip),\n",
    "              len(seg_pd_8_churn_sms)+len(seg_pd_8_freq_sms) + len(cross8_sms) + len(upgrade8_sms) + len(ump8_sms),\n",
    "              len(seg_pd_8_churn_slip)+len(seg_pd_8_freq_slip) + len(cross8_slip) + len(upgrade8_slip) + len(ump8_slip)))"
   ]
  }
 ],
 "metadata": {
  "kernelspec": {
   "display_name": "Python 3 (ipykernel)",
   "language": "python",
   "name": "python3"
  },
  "language_info": {
   "codemirror_mode": {
    "name": "ipython",
    "version": 3
   },
   "file_extension": ".py",
   "mimetype": "text/x-python",
   "name": "python",
   "nbconvert_exporter": "python",
   "pygments_lexer": "ipython3",
   "version": "3.7.10"
  }
 },
 "nbformat": 4,
 "nbformat_minor": 5
}
