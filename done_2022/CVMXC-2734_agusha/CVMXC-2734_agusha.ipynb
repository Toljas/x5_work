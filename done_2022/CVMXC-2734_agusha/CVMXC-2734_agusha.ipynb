{
 "cells": [
  {
   "cell_type": "markdown",
   "id": "846d5c8d",
   "metadata": {},
   "source": [
    "https://jira.x5.ru/browse/CVMXC-2734"
   ]
  },
  {
   "cell_type": "code",
   "execution_count": 1,
   "id": "0dcf18c7",
   "metadata": {},
   "outputs": [],
   "source": [
    "name = 'CVMXC-2734_agusha'"
   ]
  },
  {
   "cell_type": "code",
   "execution_count": 2,
   "id": "727cead0",
   "metadata": {},
   "outputs": [],
   "source": [
    "import sys\n",
    "import pandas as pd\n",
    "import pyspark.sql.functions as F\n",
    "sys.path.append('/home/jovyan/glow-byte-filters-pyspark')\n",
    "sys.path.append('/home/jovyan/x5_some_tasks/Osipov/')\n",
    "import datetime\n",
    "from datetime import timedelta\n",
    "from spark import *\n",
    "from utils_osipov import *\n",
    "from logic_filters import *\n",
    "from segmentation import *\n",
    "\n",
    "%load_ext autoreload\n",
    "%autoreload 2\n",
    "\n",
    "pd.options.display.float_format = '{:,.2f}'.format\n",
    "pd.options.display.max_rows = 500"
   ]
  },
  {
   "cell_type": "code",
   "execution_count": 3,
   "id": "55a3f0cb",
   "metadata": {
    "collapsed": false,
    "jupyter": {
     "outputs_hidden": false
    },
    "pycharm": {
     "name": "#%%\n"
    }
   },
   "outputs": [
    {
     "name": "stderr",
     "output_type": "stream",
     "text": [
      "Setting default log level to \"WARN\".\n",
      "To adjust logging level use sc.setLogLevel(newLevel). For SparkR, use setLogLevel(newLevel).\n",
      "22/02/28 14:35:22 WARN hdfs.DFSClient: Slow waitForAckedSeqno took 37831ms (threshold=30000ms)\n",
      "22/02/28 14:35:36 WARN cluster.YarnSchedulerBackend$YarnSchedulerEndpoint: Attempted to request executors before the AM has registered!\n"
     ]
    }
   ],
   "source": [
    "sc, spark = restart_spark(name, 100, executor_memory=\"3G\", executor_cores=5, driver_memory=\"12G\",\n",
    "                          additional_params={\"spark.sql.shuffle.partitions\": \"200\"})\n",
    "sc.setLogLevel('ERROR')"
   ]
  },
  {
   "cell_type": "code",
   "execution_count": 4,
   "id": "981ff62f",
   "metadata": {},
   "outputs": [],
   "source": [
    "LOYALTY_CARDS = \"hive_ssa_tc5.loyalty_card\"\n",
    "LOYALTY_CARDHOLDERS = \"hive_ssa_tc5.loyalty_cardholder\"\n",
    "ACCOUNTS = \"hive_ssa_tc5.account\"\n",
    "CVM5_GUESTS = \"hive_cvm_acrm.cvm5_guests\"\n",
    "\n",
    "DIM_STORE = \"hive_ssa_main.dim_store\"\n",
    "CHECKS_HEADERS = \"hive_ssa_main.fct_rtl_txn\"\n",
    "CHECKS_ITEMS = \"hive_ssa_main.fct_rtl_txn_item\"\n",
    "PRODUCTS = \"hive_ssa_tc5.cvm_product\""
   ]
  },
  {
   "cell_type": "markdown",
   "id": "8337fa51",
   "metadata": {},
   "source": [
    "### Выбираем гостей нужного юзкейса"
   ]
  },
  {
   "cell_type": "code",
   "execution_count": 5,
   "id": "61c4a4c0",
   "metadata": {},
   "outputs": [],
   "source": [
    "usecase = ['upgrade', 'cross', 'ump']\n",
    "if datetime.datetime.today().time().hour > 12:\n",
    "    dt = datetime.date.today()\n",
    "else:\n",
    "    dt = datetime.date.today() - datetime.timedelta(days=1)\n",
    "lifetime = 90\n",
    "freq = 1"
   ]
  },
  {
   "cell_type": "code",
   "execution_count": 6,
   "id": "0e50798a",
   "metadata": {},
   "outputs": [],
   "source": [
    "customers_usecase = (spark\n",
    "                     .table(CVM5_GUESTS)\n",
    "                     .filter(F.to_date('calculation_dt') == dt)\n",
    "                     .filter(F.col('usecase').isin(usecase))\n",
    "                     .filter(F.col('lifetime') >= lifetime)\n",
    "                     .filter(F.col('frequency') >= freq)\n",
    "                     .select('account_no', 'customer_rk')\n",
    "                            )\n"
   ]
  },
  {
   "cell_type": "code",
   "execution_count": 7,
   "id": "6af8f0ab",
   "metadata": {},
   "outputs": [
    {
     "name": "stderr",
     "output_type": "stream",
     "text": [
      "[Stage 0:==============================================>           (8 + 2) / 10]"
     ]
    },
    {
     "name": "stdout",
     "output_type": "stream",
     "text": [
      "15981117\n"
     ]
    },
    {
     "name": "stderr",
     "output_type": "stream",
     "text": [
      "                                                                                \r"
     ]
    }
   ],
   "source": [
    "print(customers_usecase.count()) #"
   ]
  },
  {
   "cell_type": "markdown",
   "id": "b5c9a021",
   "metadata": {},
   "source": [
    "### 1 проверяем на доступность отобранных гостей в определенную дату"
   ]
  },
  {
   "cell_type": "code",
   "execution_count": 8,
   "id": "8aa920a0",
   "metadata": {},
   "outputs": [],
   "source": [
    "check_date = '2022-03-11'"
   ]
  },
  {
   "cell_type": "markdown",
   "id": "22af6d43",
   "metadata": {},
   "source": [
    "#### SMS"
   ]
  },
  {
   "cell_type": "code",
   "execution_count": 9,
   "id": "b1277787",
   "metadata": {},
   "outputs": [
    {
     "name": "stdout",
     "output_type": "stream",
     "text": [
      "\u001b[93m Время выполнения: 0:00:10\n"
     ]
    }
   ],
   "source": [
    "seg_sms1 = (sms_channel_filters_glowbyte(spark=spark,\n",
    "                                         guests=customers_usecase, \n",
    "                                         usecase_name=usecase[0], \n",
    "                                         check_date=check_date, \n",
    "                                         debug_mode=False\n",
    "                                        )\n",
    "                                    .select('customer_rk')\n",
    "                                    .distinct()\n",
    "           )"
   ]
  },
  {
   "cell_type": "code",
   "execution_count": 10,
   "id": "3e4832c7",
   "metadata": {},
   "outputs": [
    {
     "name": "stdout",
     "output_type": "stream",
     "text": [
      "\u001b[93m Время выполнения: 0:00:03\n"
     ]
    }
   ],
   "source": [
    "seg_sms2 = (sms_channel_filters_glowbyte(spark=spark,\n",
    "                                         guests=customers_usecase, \n",
    "                                         usecase_name=usecase[1], \n",
    "                                         check_date=check_date, \n",
    "                                         debug_mode=False)\n",
    "                                    .select('customer_rk')\n",
    "                                    .distinct()\n",
    "           )"
   ]
  },
  {
   "cell_type": "code",
   "execution_count": 11,
   "id": "ae01d634",
   "metadata": {},
   "outputs": [
    {
     "name": "stdout",
     "output_type": "stream",
     "text": [
      "\u001b[93m Время выполнения: 0:00:04\n"
     ]
    }
   ],
   "source": [
    "seg_sms3 = (sms_channel_filters_glowbyte(spark=spark,\n",
    "                                         guests=customers_usecase, \n",
    "                                         usecase_name=usecase[2], \n",
    "                                         check_date=check_date, \n",
    "                                         debug_mode=False)\n",
    "                                    .select('customer_rk')\n",
    "                                    .distinct()\n",
    "           )"
   ]
  },
  {
   "cell_type": "code",
   "execution_count": 12,
   "id": "98e26397",
   "metadata": {},
   "outputs": [],
   "source": [
    "seg_sms = seg_sms1.union(seg_sms2).union(seg_sms3).distinct()"
   ]
  },
  {
   "cell_type": "code",
   "execution_count": 13,
   "id": "ab65653c",
   "metadata": {},
   "outputs": [
    {
     "name": "stderr",
     "output_type": "stream",
     "text": [
      "                                                                                104]]]]]\r"
     ]
    }
   ],
   "source": [
    "seg_sms.write.parquet('temp2734_1', mode='overwrite')\n",
    "seg_sms = spark.read.parquet('temp2734_1')"
   ]
  },
  {
   "cell_type": "code",
   "execution_count": 14,
   "id": "38621a79",
   "metadata": {},
   "outputs": [
    {
     "name": "stderr",
     "output_type": "stream",
     "text": [
      "                                                                                \r"
     ]
    },
    {
     "data": {
      "text/plain": [
       "8197158"
      ]
     },
     "execution_count": 14,
     "metadata": {},
     "output_type": "execute_result"
    }
   ],
   "source": [
    "seg_sms.count() #"
   ]
  },
  {
   "cell_type": "markdown",
   "id": "d812b864",
   "metadata": {},
   "source": [
    "#### Slip_check"
   ]
  },
  {
   "cell_type": "code",
   "execution_count": 15,
   "id": "529dd919",
   "metadata": {},
   "outputs": [
    {
     "name": "stdout",
     "output_type": "stream",
     "text": [
      "\u001b[93m Время выполнения: 0:00:01\n"
     ]
    }
   ],
   "source": [
    "seg_slip1 = (slip_check_channel_filters_glowbyte(spark=spark,\n",
    "                                         guests=customers_usecase, \n",
    "                                         usecase_name=usecase[0], \n",
    "                                         check_date=check_date, \n",
    "                                         debug_mode=False\n",
    "                                        )\n",
    "                                    .select('customer_rk')\n",
    "                                    .distinct()\n",
    "           )"
   ]
  },
  {
   "cell_type": "code",
   "execution_count": 16,
   "id": "9adc07d3",
   "metadata": {},
   "outputs": [
    {
     "name": "stdout",
     "output_type": "stream",
     "text": [
      "\u001b[93m Время выполнения: 0:00:03\n"
     ]
    }
   ],
   "source": [
    "seg_slip2 = (slip_check_channel_filters_glowbyte(spark=spark,\n",
    "                                         guests=customers_usecase, \n",
    "                                         usecase_name=usecase[1], \n",
    "                                         check_date=check_date, \n",
    "                                         debug_mode=False)\n",
    "                                    .select('customer_rk')\n",
    "                                    .distinct()\n",
    "           )"
   ]
  },
  {
   "cell_type": "code",
   "execution_count": 17,
   "id": "eb44be64",
   "metadata": {},
   "outputs": [
    {
     "name": "stdout",
     "output_type": "stream",
     "text": [
      "\u001b[93m Время выполнения: 0:00:01\n"
     ]
    }
   ],
   "source": [
    "seg_slip3 = (slip_check_channel_filters_glowbyte(spark=spark,\n",
    "                                         guests=customers_usecase, \n",
    "                                         usecase_name=usecase[2], \n",
    "                                         check_date=check_date, \n",
    "                                         debug_mode=False)\n",
    "                                    .select('customer_rk')\n",
    "                                    .distinct()\n",
    "           )"
   ]
  },
  {
   "cell_type": "code",
   "execution_count": 18,
   "id": "3ba31fbf",
   "metadata": {},
   "outputs": [],
   "source": [
    "seg_slip = seg_slip1.union(seg_slip2).union(seg_slip3).distinct()"
   ]
  },
  {
   "cell_type": "code",
   "execution_count": 19,
   "id": "3174fcef",
   "metadata": {},
   "outputs": [
    {
     "name": "stderr",
     "output_type": "stream",
     "text": [
      "                                                                                00]]\r"
     ]
    }
   ],
   "source": [
    "seg_slip.write.parquet('temp2734_2', mode='overwrite')\n",
    "seg_slip = spark.read.parquet('temp2734_2')"
   ]
  },
  {
   "cell_type": "code",
   "execution_count": 20,
   "id": "e2f9ed76",
   "metadata": {},
   "outputs": [
    {
     "data": {
      "text/plain": [
       "13748199"
      ]
     },
     "execution_count": 20,
     "metadata": {},
     "output_type": "execute_result"
    }
   ],
   "source": [
    "seg_slip.count() #"
   ]
  },
  {
   "cell_type": "markdown",
   "id": "66a93bfd",
   "metadata": {},
   "source": [
    "### Проверка на доступность плю в магазинах"
   ]
  },
  {
   "cell_type": "markdown",
   "id": "ae2c2a7b",
   "metadata": {},
   "source": [
    "РФ"
   ]
  },
  {
   "cell_type": "code",
   "execution_count": 21,
   "id": "5a6eb901",
   "metadata": {},
   "outputs": [],
   "source": [
    "plu_codes = [18509, 4042961, 2144368, 4039016, 52286, 20530, 39069, 3636366, 4078799, 2137025, \n",
    "             3477481, 4078792, 3682686, 21842, 3495119, 3463112, 4039015, 3424317, 3636365, 3507208, \n",
    "             3353870, 3634162, 11117, 21847, 3682687, 56595, 2137027, 69402, 4078800, 59554, 18510, \n",
    "             69726, 4078793, 3463098, 3682379, 3682688, 3495120, 3463095, 69728, 3424313, 27290, 56264]"
   ]
  },
  {
   "cell_type": "code",
   "execution_count": 22,
   "id": "dbbb9924",
   "metadata": {},
   "outputs": [],
   "source": [
    "# federal_subject_dk = [78, 47]"
   ]
  },
  {
   "cell_type": "code",
   "execution_count": 23,
   "id": "4c50a397",
   "metadata": {},
   "outputs": [
    {
     "name": "stderr",
     "output_type": "stream",
     "text": [
      "                                                                                \r"
     ]
    },
    {
     "data": {
      "text/plain": [
       "23616"
      ]
     },
     "execution_count": 23,
     "metadata": {},
     "output_type": "execute_result"
    }
   ],
   "source": [
    "pplu = spark.createDataFrame(pd.DataFrame({\"plu_code\": plu_codes}))\n",
    "\n",
    "shops = (spark.table(DIM_STORE)\n",
    "            .filter(F.col('valid_to_dttm')== datetime.datetime(5999, 1, 1, 0, 0))\n",
    "#             .filter(F.col('federal_subject_dk').isin(federal_subject_dk))\n",
    "            .selectExpr('store_id as plant')\n",
    "            .distinct()\n",
    "            )\n",
    "\n",
    "\n",
    "tc5_stores_assort = (\n",
    "    spark.table('HIVE_SSA_MAIN.ASSORTMENT_X_PLU_X_STORE')\n",
    "    .withColumnRenamed('plu_id', 'plu_code')\n",
    "    .withColumnRenamed('store_id', 'plant')\n",
    "    .filter(F.col(\"plu_negate_flg\") != 1)\n",
    "    .selectExpr('plu_code', 'plant')\n",
    "    .join(F.broadcast(pplu), 'plu_code', 'inner')\n",
    ")\n",
    "\n",
    "plants = (shops.join(tc5_stores_assort, on='plant', how='inner')\n",
    "                .select('plant')\n",
    "                .distinct()\n",
    "                .toPandas()['plant']\n",
    "                .tolist()\n",
    "         )\n",
    "\n",
    "len(plants)"
   ]
  },
  {
   "cell_type": "markdown",
   "id": "b8cddedd",
   "metadata": {},
   "source": [
    "### 1"
   ]
  },
  {
   "cell_type": "markdown",
   "id": "688e49ec",
   "metadata": {},
   "source": [
    "### Собираем чеки этих гостей и оставляем тех, кто покупал продукты с synthetic_catalog_id"
   ]
  },
  {
   "cell_type": "code",
   "execution_count": 24,
   "id": "ffec701d",
   "metadata": {},
   "outputs": [],
   "source": [
    "start_date = datetime.date(2021, 11, 21)\n",
    "end_date = datetime.date(2022, 2, 20)"
   ]
  },
  {
   "cell_type": "code",
   "execution_count": 25,
   "id": "7f4a4f5f",
   "metadata": {},
   "outputs": [
    {
     "name": "stderr",
     "output_type": "stream",
     "text": [
      "                                                                                \r"
     ]
    }
   ],
   "source": [
    "checks_headers = (spark.table(CHECKS_HEADERS)\n",
    "                      .filter(F.col('rtl_txn_dt').between(start_date, end_date))\n",
    "                      .filter((F.col('loyalty_card_no') != '') & (F.col('loyalty_card_no').isNotNull()))\n",
    "                      .filter(F.col('financial_unit_format_dk') == 'D')\n",
    "                      .filter(F.col('rtl_txn_cancel_flg') == 0)\n",
    "                      .select('rtl_txn_id', 'loyalty_card_no', 'store_id')\n",
    "                     )\n"
   ]
  },
  {
   "cell_type": "code",
   "execution_count": 26,
   "id": "ede9cdef",
   "metadata": {},
   "outputs": [],
   "source": [
    "checks_headers = checks_headers.filter(F.col('store_id').isin(plants)) #оставили чеки только с нужными магазинами"
   ]
  },
  {
   "cell_type": "code",
   "execution_count": 27,
   "id": "4f68a4e8",
   "metadata": {},
   "outputs": [],
   "source": [
    "loyalty_cards = (spark\n",
    "                    .table(LOYALTY_CARDS)\n",
    "                    .withColumnRenamed(\"loyalty_card_id\", \"loyalty_card_no\")\n",
    "                    .withColumnRenamed(\"loyalty_account_id\", \"account_no\")\n",
    "                    .withColumnRenamed(\"loyalty_account_acrm_id\", \"account_rk\")\n",
    "                    .select('account_no', 'loyalty_card_no')\n",
    "                )\n",
    "loyalty_cardholders = (spark\n",
    "                        .table(LOYALTY_CARDHOLDERS)\n",
    "                        .withColumnRenamed(\"loyalty_cardholder_acrm_id\", \"customer_rk\")\n",
    "                        .withColumnRenamed(\"loyalty_account_id\", \"account_no\")\n",
    "                        .select('account_no', 'customer_rk')\n",
    "                      )\n",
    "clients_info = loyalty_cards.join(loyalty_cardholders, on='account_no', how='inner')\n",
    "clients_info = clients_info.join(seg_sms, on='customer_rk', how='inner')\n",
    "clients_info2 = loyalty_cards.join(loyalty_cardholders, on='account_no', how='inner')\n",
    "clients_info2 = clients_info2.join(seg_slip, on='customer_rk', how='inner')"
   ]
  },
  {
   "cell_type": "code",
   "execution_count": 28,
   "id": "ade48a83",
   "metadata": {},
   "outputs": [],
   "source": [
    "checks_headers_tc5 = checks_headers.join(clients_info, on='loyalty_card_no') #оставили чеки только нужных гостей"
   ]
  },
  {
   "cell_type": "code",
   "execution_count": 29,
   "id": "b543b2b8",
   "metadata": {},
   "outputs": [],
   "source": [
    "checks_headers_tc52 = checks_headers.join(clients_info2, on='loyalty_card_no') #оставили чеки только нужных гостей"
   ]
  },
  {
   "cell_type": "code",
   "execution_count": 30,
   "id": "a6a35b96",
   "metadata": {},
   "outputs": [],
   "source": [
    "checks_items = (spark.table(CHECKS_ITEMS) \n",
    "                    .withColumnRenamed('plu_id', 'plu_code')\n",
    "                    .withColumnRenamed('turnover_no_vat_amt', 'zsalnovat')\n",
    "                    .withColumnRenamed('turnover_vat_rub_amt', 'zsale_vat')\n",
    "                    .withColumnRenamed('prime_cost_no_vat_amt', 'zcst_n')\n",
    "                    .withColumnRenamed('turnover_base_uom_amt', 'base_qty')\n",
    "                    .withColumnRenamed('discount_amt', 'zdiscount')\n",
    "                    .withColumnRenamed('fact_regular_promo_flg', 'zpromofl')\n",
    "                    .filter(F.col('rtl_txn_dt').between(start_date, end_date))\n",
    "                    .filter((F.col('zsalnovat') >= 0) & (F.col('base_qty') >= 0) & (F.col('zcst_n') > 0)) #keep only correct data\n",
    "                        .select('plu_code' #items id\n",
    "                                , 'rtl_txn_id' #cheques id\n",
    "                               , 'base_qty'\n",
    "                               )\n",
    "                   )\n"
   ]
  },
  {
   "cell_type": "code",
   "execution_count": 31,
   "id": "5c70892b",
   "metadata": {},
   "outputs": [],
   "source": [
    "plu_codes_cat = [18509, 4042961, 2144368, 4039016, 52286, 20530, 39069, 3636366, 4078799, 2137025, 3477481, \n",
    "                 4078792, 3682686, 21842, 3495119, 3463112, 4039015, 3424317, 3636365, 3507208, 3353870, \n",
    "                 3634162, 11117, 21847, 3682687, 56595, 2137027, 69402, 4078800, 59554, 18510, 69726, \n",
    "                 4078793, 3463098, 3682379, 3682688, 3495120, 3463095, 69728, 3424313, 27290, 56264]"
   ]
  },
  {
   "cell_type": "code",
   "execution_count": 32,
   "id": "f31ee8dd",
   "metadata": {},
   "outputs": [],
   "source": [
    "checks_items = checks_items.filter(F.col('plu_code').isin(plu_codes_cat)) # только чеки с нужными plu"
   ]
  },
  {
   "cell_type": "code",
   "execution_count": 33,
   "id": "09a75854",
   "metadata": {},
   "outputs": [],
   "source": [
    "checks_tc5 = checks_items.join(checks_headers_tc5, 'rtl_txn_id', how='inner')"
   ]
  },
  {
   "cell_type": "code",
   "execution_count": 34,
   "id": "9e68871c",
   "metadata": {},
   "outputs": [],
   "source": [
    "checks_tc52 = checks_items.join(checks_headers_tc52, 'rtl_txn_id', how='inner')"
   ]
  },
  {
   "cell_type": "code",
   "execution_count": 35,
   "id": "31e8c7c6",
   "metadata": {},
   "outputs": [],
   "source": [
    "accs = ['account_no', 'rtl_txn_id']\n",
    "pdf = checks_tc5.groupby(accs).agg(F.sum('base_qty').alias('base_qty_per_period'))\n",
    "pdf = pdf.filter(F.col('base_qty_per_period') <= 3)\n",
    "checks_tc5 = checks_tc5.join(pdf, on=accs)"
   ]
  },
  {
   "cell_type": "code",
   "execution_count": 36,
   "id": "95223e5d",
   "metadata": {},
   "outputs": [],
   "source": [
    "pdf2 = checks_tc52.groupby(accs).agg(F.sum('base_qty').alias('base_qty_per_period'))\n",
    "pdf2 = pdf2.filter(F.col('base_qty_per_period') <= 3)\n",
    "checks_tc52 = checks_tc52.join(pdf2, on=accs)"
   ]
  },
  {
   "cell_type": "code",
   "execution_count": 37,
   "id": "3e3b0b46",
   "metadata": {},
   "outputs": [],
   "source": [
    "seg1 = (checks_tc5.withColumn('group', F.lit('sms'))\n",
    "                  .select('customer_rk', 'group')\n",
    "                  .distinct()\n",
    "      )"
   ]
  },
  {
   "cell_type": "code",
   "execution_count": 38,
   "id": "86a701af",
   "metadata": {},
   "outputs": [],
   "source": [
    "seg2 = (checks_tc52.withColumn('group', F.lit('slip'))\n",
    "                  .select('customer_rk', 'group')\n",
    "                  .distinct()\n",
    "      )"
   ]
  },
  {
   "cell_type": "code",
   "execution_count": 39,
   "id": "a52129f6",
   "metadata": {},
   "outputs": [],
   "source": [
    "seg_1 = seg1.union(seg2).distinct()"
   ]
  },
  {
   "cell_type": "code",
   "execution_count": 40,
   "id": "db694a63",
   "metadata": {},
   "outputs": [
    {
     "name": "stderr",
     "output_type": "stream",
     "text": [
      "                                                                                ]]]]]]]]8]]]\r"
     ]
    }
   ],
   "source": [
    "seg_1.write.parquet('temp2734_seg1', mode='overwrite')\n",
    "seg_1 = spark.read.parquet('temp2734_seg1')"
   ]
  },
  {
   "cell_type": "code",
   "execution_count": 41,
   "id": "61eb9823",
   "metadata": {},
   "outputs": [
    {
     "name": "stderr",
     "output_type": "stream",
     "text": [
      "                                                                                \r"
     ]
    }
   ],
   "source": [
    "seg_pd1 = seg_1.toPandas()"
   ]
  },
  {
   "cell_type": "code",
   "execution_count": 42,
   "id": "b6fa24f8",
   "metadata": {},
   "outputs": [
    {
     "data": {
      "text/plain": [
       "1874334"
      ]
     },
     "execution_count": 42,
     "metadata": {},
     "output_type": "execute_result"
    }
   ],
   "source": [
    "len(seg_pd1)"
   ]
  },
  {
   "cell_type": "code",
   "execution_count": 43,
   "id": "6686190e",
   "metadata": {},
   "outputs": [],
   "source": [
    "seg_no = 'seg1'"
   ]
  },
  {
   "cell_type": "code",
   "execution_count": 44,
   "id": "f5002bd6",
   "metadata": {},
   "outputs": [],
   "source": [
    "seg_pd1['customer_rk'] = seg_pd1['customer_rk'].astype('str')"
   ]
  },
  {
   "cell_type": "code",
   "execution_count": 45,
   "id": "13f77827",
   "metadata": {},
   "outputs": [],
   "source": [
    "seg_pd1.to_csv(name + '_' + seg_no + '_All_uc' + str(dt) + '.csv', index=False)"
   ]
  },
  {
   "cell_type": "code",
   "execution_count": 46,
   "id": "9de18610",
   "metadata": {},
   "outputs": [],
   "source": [
    "seg_pd1_sms = seg_pd1[seg_pd1['group'] == 'sms']\n",
    "seg_pd1_slip = seg_pd1[seg_pd1['group'] == 'slip']"
   ]
  },
  {
   "cell_type": "code",
   "execution_count": 47,
   "id": "6c7e4524",
   "metadata": {},
   "outputs": [],
   "source": [
    "cross, upgrade, ump = get_usecases(seg_pd1_sms)"
   ]
  },
  {
   "cell_type": "code",
   "execution_count": 48,
   "id": "18532db9",
   "metadata": {},
   "outputs": [
    {
     "name": "stdout",
     "output_type": "stream",
     "text": [
      "cross: 283202, upgrade: 300536, ump: 129975 (all: 713713)\n"
     ]
    }
   ],
   "source": [
    "print('cross: {}, upgrade: {}, ump: {} (all: {})'.format(len(cross), len(upgrade), len(ump), len(cross)+len(upgrade)+len(ump)))"
   ]
  },
  {
   "cell_type": "code",
   "execution_count": 49,
   "id": "a201fa74",
   "metadata": {},
   "outputs": [],
   "source": [
    "cross, upgrade, ump = get_usecases(seg_pd1_slip)"
   ]
  },
  {
   "cell_type": "code",
   "execution_count": 50,
   "id": "224e6dd4",
   "metadata": {},
   "outputs": [
    {
     "name": "stdout",
     "output_type": "stream",
     "text": [
      "cross: 467442, upgrade: 451639, ump: 241540 (all: 1160621)\n"
     ]
    }
   ],
   "source": [
    "print('cross: {}, upgrade: {}, ump: {} (all: {})'.format(len(cross), len(upgrade), len(ump), len(cross)+len(upgrade)+len(ump)))"
   ]
  },
  {
   "cell_type": "markdown",
   "id": "11f9df0c",
   "metadata": {},
   "source": [
    "### 2"
   ]
  },
  {
   "cell_type": "markdown",
   "id": "b35ad74a",
   "metadata": {},
   "source": [
    "### Проверка на доступность плю в магазинах"
   ]
  },
  {
   "cell_type": "markdown",
   "id": "8801b036",
   "metadata": {},
   "source": [
    "РФ"
   ]
  },
  {
   "cell_type": "code",
   "execution_count": 51,
   "id": "e770efaf",
   "metadata": {},
   "outputs": [],
   "source": [
    "plu_codes = [18509, 4042961, 3638364, 3422800, 2144368, 3016952, 4039016, 3684770, 52286, 20530, 39069, 3983137, \n",
    "             3636366, 3003374, 4078799, 2137025, 3603636, 3600608, 3477481, 3427577, 4013455, 3171334, 4078792, \n",
    "             3004046, 3682686, 21842, 3355291, 3495119, 3943192, 3463112, 3967934, 3983136, 3001738, 3271797, \n",
    "             3363496, 4039015, 3014038, 3638365, 4113325, 3171332, 3684759, 3180311, 3943200, 3424317, 3636365, \n",
    "             3507208, 3355289, 3427575, 3606438, 3943196, 3353870, 3603635, 3606439, 3629440, 3346938, 3629441, \n",
    "             3663858, 4113326, 3422804, 3001752, 3014037, 3634162, 3684758, 3419765, 4123685, 3016953, 11117, \n",
    "             21847, 4048581, 4123686, 3943187, 3336807, 3943185, 3016715, 3606462, 3271793, 4113327, 3682687, \n",
    "             56595, 4013449, 2137027, 69402, 4078800, 3050091, 3016717, 3638366, 3003373, 3640998, 59554, 3667323, \n",
    "             18510, 69726, 4078793, 4113328, 3663862, 3638367, 3943204, 3463098, 3606461, 3004054, 3682379, 3682688, \n",
    "             3495120, 4048580, 3641227, 3001746, 3606460, 3427578, 3463095, 69728, 3424313, 3422803, 3057885, 3364100, \n",
    "             27290, 3016983, 56264, 3422801, 3422802, 3606463]"
   ]
  },
  {
   "cell_type": "code",
   "execution_count": 52,
   "id": "e974dc17",
   "metadata": {},
   "outputs": [],
   "source": [
    "# federal_subject_dk = [78, 47]"
   ]
  },
  {
   "cell_type": "code",
   "execution_count": 53,
   "id": "2f361e1b",
   "metadata": {},
   "outputs": [
    {
     "name": "stderr",
     "output_type": "stream",
     "text": [
      "                                                                                \r"
     ]
    },
    {
     "data": {
      "text/plain": [
       "23878"
      ]
     },
     "execution_count": 53,
     "metadata": {},
     "output_type": "execute_result"
    }
   ],
   "source": [
    "pplu = spark.createDataFrame(pd.DataFrame({\"plu_code\": plu_codes}))\n",
    "\n",
    "shops = (spark.table(DIM_STORE)\n",
    "            .filter(F.col('valid_to_dttm')== datetime.datetime(5999, 1, 1, 0, 0))\n",
    "#             .filter(F.col('federal_subject_dk').isin(federal_subject_dk))\n",
    "            .selectExpr('store_id as plant')\n",
    "            .distinct()\n",
    "            )\n",
    "\n",
    "\n",
    "tc5_stores_assort = (\n",
    "    spark.table('HIVE_SSA_MAIN.ASSORTMENT_X_PLU_X_STORE')\n",
    "    .withColumnRenamed('plu_id', 'plu_code')\n",
    "    .withColumnRenamed('store_id', 'plant')\n",
    "    .filter(F.col(\"plu_negate_flg\") != 1)\n",
    "    .selectExpr('plu_code', 'plant')\n",
    "    .join(F.broadcast(pplu), 'plu_code', 'inner')\n",
    ")\n",
    "\n",
    "plants = (shops.join(tc5_stores_assort, on='plant', how='inner')\n",
    "                .select('plant')\n",
    "                .distinct()\n",
    "                .toPandas()['plant']\n",
    "                .tolist()\n",
    "         )\n",
    "\n",
    "len(plants)"
   ]
  },
  {
   "cell_type": "markdown",
   "id": "3ccecd67",
   "metadata": {},
   "source": [
    "### Собираем чеки этих гостей и оставляем тех, кто покупал продукты с synthetic_catalog_id"
   ]
  },
  {
   "cell_type": "code",
   "execution_count": 54,
   "id": "c8769242",
   "metadata": {},
   "outputs": [],
   "source": [
    "start_date = datetime.date(2021, 11, 21)\n",
    "end_date = datetime.date(2022, 2, 20)"
   ]
  },
  {
   "cell_type": "code",
   "execution_count": 55,
   "id": "db0d6442",
   "metadata": {},
   "outputs": [],
   "source": [
    "checks_headers = (spark.table(CHECKS_HEADERS)\n",
    "                      .filter(F.col('rtl_txn_dt').between(start_date, end_date))\n",
    "                      .filter((F.col('loyalty_card_no') != '') & (F.col('loyalty_card_no').isNotNull()))\n",
    "                      .filter(F.col('financial_unit_format_dk') == 'D')\n",
    "                      .filter(F.col('rtl_txn_cancel_flg') == 0)\n",
    "                      .select('rtl_txn_id', 'loyalty_card_no', 'store_id')\n",
    "                     )\n"
   ]
  },
  {
   "cell_type": "code",
   "execution_count": 56,
   "id": "c336d9d6",
   "metadata": {},
   "outputs": [],
   "source": [
    "checks_headers = checks_headers.filter(F.col('store_id').isin(plants)) #оставили чеки только с нужными магазинами"
   ]
  },
  {
   "cell_type": "code",
   "execution_count": 57,
   "id": "ebd2453f",
   "metadata": {},
   "outputs": [],
   "source": [
    "loyalty_cards = (spark\n",
    "                    .table(LOYALTY_CARDS)\n",
    "                    .withColumnRenamed(\"loyalty_card_id\", \"loyalty_card_no\")\n",
    "                    .withColumnRenamed(\"loyalty_account_id\", \"account_no\")\n",
    "                    .withColumnRenamed(\"loyalty_account_acrm_id\", \"account_rk\")\n",
    "                    .select('account_no', 'loyalty_card_no')\n",
    "                )\n",
    "loyalty_cardholders = (spark\n",
    "                        .table(LOYALTY_CARDHOLDERS)\n",
    "                        .withColumnRenamed(\"loyalty_cardholder_acrm_id\", \"customer_rk\")\n",
    "                        .withColumnRenamed(\"loyalty_account_id\", \"account_no\")\n",
    "                        .select('account_no', 'customer_rk')\n",
    "                      )\n",
    "clients_info = loyalty_cards.join(loyalty_cardholders, on='account_no', how='inner')\n",
    "clients_info = clients_info.join(seg_sms, on='customer_rk', how='inner')\n",
    "clients_info2 = loyalty_cards.join(loyalty_cardholders, on='account_no', how='inner')\n",
    "clients_info2 = clients_info2.join(seg_slip, on='customer_rk', how='inner')"
   ]
  },
  {
   "cell_type": "code",
   "execution_count": 58,
   "id": "7430e12e",
   "metadata": {},
   "outputs": [],
   "source": [
    "checks_headers_tc5 = checks_headers.join(clients_info, on='loyalty_card_no') #оставили чеки только нужных гостей"
   ]
  },
  {
   "cell_type": "code",
   "execution_count": 59,
   "id": "11dc3e70",
   "metadata": {},
   "outputs": [],
   "source": [
    "checks_headers_tc52 = checks_headers.join(clients_info2, on='loyalty_card_no') #оставили чеки только нужных гостей"
   ]
  },
  {
   "cell_type": "code",
   "execution_count": 60,
   "id": "ca911e4f",
   "metadata": {},
   "outputs": [],
   "source": [
    "checks_items = (spark.table(CHECKS_ITEMS) \n",
    "                    .withColumnRenamed('plu_id', 'plu_code')\n",
    "                    .withColumnRenamed('turnover_no_vat_amt', 'zsalnovat')\n",
    "                    .withColumnRenamed('turnover_vat_rub_amt', 'zsale_vat')\n",
    "                    .withColumnRenamed('prime_cost_no_vat_amt', 'zcst_n')\n",
    "                    .withColumnRenamed('turnover_base_uom_amt', 'base_qty')\n",
    "                    .withColumnRenamed('discount_amt', 'zdiscount')\n",
    "                    .withColumnRenamed('fact_regular_promo_flg', 'zpromofl')\n",
    "                    .filter(F.col('rtl_txn_dt').between(start_date, end_date))\n",
    "                    .filter((F.col('zsalnovat') >= 0) & (F.col('base_qty') >= 0) & (F.col('zcst_n') > 0)) #keep only correct data\n",
    "                        .select('plu_code' #items id\n",
    "                                , 'rtl_txn_id' #cheques id\n",
    "                               , 'base_qty'\n",
    "                               )\n",
    "                   )\n"
   ]
  },
  {
   "cell_type": "code",
   "execution_count": 61,
   "id": "1659bc46",
   "metadata": {},
   "outputs": [],
   "source": [
    "# plu_hierarchy_lvl_4_dk = ['FR0604001', 'FR0608005', 'FR0604002', 'FR0608001'] #сметана, молоко, кефир\n",
    "syntethic_category_id = [27,28,32]\n",
    "# plu_brand_code = ['2452']\n",
    "# plu_vendor_nm = ['Данон']\n",
    "# plu_not_in = [4138521]"
   ]
  },
  {
   "cell_type": "code",
   "execution_count": 62,
   "id": "8c1b68c2",
   "metadata": {},
   "outputs": [
    {
     "name": "stderr",
     "output_type": "stream",
     "text": [
      "                                                                                \r"
     ]
    }
   ],
   "source": [
    "plu_codes_cat = (spark\n",
    "                 .table(PRODUCTS)\n",
    "#                  .filter(F.col('plu_hierarchy_lvl_4_dk').isin(plu_hierarchy_lvl_4_dk))\n",
    "#                  .filter(F.col('plu_vendor_nm').isin(plu_vendor_nm))\n",
    "                 .filter(F.col('syntethic_category_id').isin(syntethic_category_id))\n",
    "#                  .filter(F.col('plu_brand_code').isin(plu_brand_code))\n",
    "#                  .filter(~F.col('plu_id').isin(plu_not_in))\n",
    "                 .select('plu_id')\n",
    "                 .distinct()\n",
    "                 .toPandas()['plu_id']\n",
    "                 .tolist()\n",
    "                )"
   ]
  },
  {
   "cell_type": "code",
   "execution_count": 63,
   "id": "3c52e2e2",
   "metadata": {},
   "outputs": [],
   "source": [
    "checks_items = checks_items.filter(F.col('plu_code').isin(plu_codes_cat)) # только чеки с нужными plu"
   ]
  },
  {
   "cell_type": "code",
   "execution_count": 64,
   "id": "1277af25",
   "metadata": {},
   "outputs": [],
   "source": [
    "checks_tc5 = checks_items.join(checks_headers_tc5, 'rtl_txn_id', how='inner')"
   ]
  },
  {
   "cell_type": "code",
   "execution_count": 65,
   "id": "05798efc",
   "metadata": {},
   "outputs": [],
   "source": [
    "checks_tc52 = checks_items.join(checks_headers_tc52, 'rtl_txn_id', how='inner')"
   ]
  },
  {
   "cell_type": "code",
   "execution_count": 66,
   "id": "00296da8",
   "metadata": {},
   "outputs": [],
   "source": [
    "accs = ['account_no']\n",
    "pdf = checks_tc5.groupby(accs).agg(F.sum('base_qty').alias('base_qty_per_period'))\n",
    "pdf = pdf.filter(F.col('base_qty_per_period') >= 1)\n",
    "checks_tc5 = checks_tc5.join(pdf, on=accs)"
   ]
  },
  {
   "cell_type": "code",
   "execution_count": 67,
   "id": "0a7e309f",
   "metadata": {},
   "outputs": [],
   "source": [
    "pdf2 = checks_tc52.groupby(accs).agg(F.sum('base_qty').alias('base_qty_per_period'))\n",
    "pdf2 = pdf2.filter(F.col('base_qty_per_period') >= 1)\n",
    "checks_tc52 = checks_tc52.join(pdf2, on=accs)"
   ]
  },
  {
   "cell_type": "code",
   "execution_count": 68,
   "id": "6faa3ec1",
   "metadata": {},
   "outputs": [],
   "source": [
    "seg1 = (checks_tc5.withColumn('group', F.lit('sms'))\n",
    "                  .select('customer_rk', 'group')\n",
    "                  .distinct()\n",
    "      )"
   ]
  },
  {
   "cell_type": "code",
   "execution_count": 69,
   "id": "e0b050b3",
   "metadata": {},
   "outputs": [],
   "source": [
    "seg2 = (checks_tc52.withColumn('group', F.lit('slip'))\n",
    "                  .select('customer_rk', 'group')\n",
    "                  .distinct()\n",
    "      )"
   ]
  },
  {
   "cell_type": "code",
   "execution_count": 70,
   "id": "6b81defc",
   "metadata": {},
   "outputs": [],
   "source": [
    "seg_2 = seg1.union(seg2).distinct()"
   ]
  },
  {
   "cell_type": "code",
   "execution_count": 71,
   "id": "9bd95030",
   "metadata": {},
   "outputs": [
    {
     "name": "stderr",
     "output_type": "stream",
     "text": [
      "                                                                                ]]]]]]]]\r"
     ]
    }
   ],
   "source": [
    "seg_2.write.parquet('temp2734_seg2', mode='overwrite')\n",
    "seg_2 = spark.read.parquet('temp2734_seg2')"
   ]
  },
  {
   "cell_type": "code",
   "execution_count": 72,
   "id": "83167572",
   "metadata": {},
   "outputs": [
    {
     "name": "stderr",
     "output_type": "stream",
     "text": [
      "                                                                                \r"
     ]
    }
   ],
   "source": [
    "seg_pd2 = seg_2.toPandas()"
   ]
  },
  {
   "cell_type": "code",
   "execution_count": 73,
   "id": "a75b47f7",
   "metadata": {},
   "outputs": [
    {
     "data": {
      "text/plain": [
       "8701442"
      ]
     },
     "execution_count": 73,
     "metadata": {},
     "output_type": "execute_result"
    }
   ],
   "source": [
    "len(seg_pd2)"
   ]
  },
  {
   "cell_type": "code",
   "execution_count": 74,
   "id": "846789a2",
   "metadata": {},
   "outputs": [],
   "source": [
    "seg_no = 'seg2'"
   ]
  },
  {
   "cell_type": "code",
   "execution_count": 75,
   "id": "52ec99a8",
   "metadata": {},
   "outputs": [],
   "source": [
    "seg_pd2['customer_rk'] = seg_pd2['customer_rk'].astype('str')"
   ]
  },
  {
   "cell_type": "code",
   "execution_count": 76,
   "id": "50fbde46",
   "metadata": {},
   "outputs": [],
   "source": [
    "seg_pd2.to_csv(name + '_' + seg_no + '_All_uc' + str(dt) + '.csv', index=False)"
   ]
  },
  {
   "cell_type": "code",
   "execution_count": 77,
   "id": "31c5b397",
   "metadata": {},
   "outputs": [],
   "source": [
    "seg_pd2_sms = seg_pd2[seg_pd2['group'] == 'sms']\n",
    "seg_pd2_slip = seg_pd2[seg_pd2['group'] == 'slip']"
   ]
  },
  {
   "cell_type": "code",
   "execution_count": 78,
   "id": "43334172",
   "metadata": {},
   "outputs": [],
   "source": [
    "cross, upgrade, ump = get_usecases(seg_pd2_sms)"
   ]
  },
  {
   "cell_type": "code",
   "execution_count": 79,
   "id": "25759591",
   "metadata": {},
   "outputs": [
    {
     "name": "stdout",
     "output_type": "stream",
     "text": [
      "cross: 1299324, upgrade: 1394619, ump: 588292 (all: 3282235)\n"
     ]
    }
   ],
   "source": [
    "print('cross: {}, upgrade: {}, ump: {} (all: {})'.format(len(cross), len(upgrade), len(ump), len(cross)+len(upgrade)+len(ump)))"
   ]
  },
  {
   "cell_type": "code",
   "execution_count": 80,
   "id": "4ca5c4df",
   "metadata": {},
   "outputs": [],
   "source": [
    "cross, upgrade, ump = get_usecases(seg_pd2_slip)"
   ]
  },
  {
   "cell_type": "code",
   "execution_count": 81,
   "id": "cec11e8e",
   "metadata": {},
   "outputs": [
    {
     "name": "stdout",
     "output_type": "stream",
     "text": [
      "cross: 2183178, upgrade: 2104019, ump: 1132010 (all: 5419207)\n"
     ]
    }
   ],
   "source": [
    "print('cross: {}, upgrade: {}, ump: {} (all: {})'.format(len(cross), len(upgrade), len(ump), len(cross)+len(upgrade)+len(ump)))"
   ]
  }
 ],
 "metadata": {
  "kernelspec": {
   "display_name": "Python 3 (ipykernel)",
   "language": "python",
   "name": "python3"
  },
  "language_info": {
   "codemirror_mode": {
    "name": "ipython",
    "version": 3
   },
   "file_extension": ".py",
   "mimetype": "text/x-python",
   "name": "python",
   "nbconvert_exporter": "python",
   "pygments_lexer": "ipython3",
   "version": "3.7.10"
  }
 },
 "nbformat": 4,
 "nbformat_minor": 5
}
