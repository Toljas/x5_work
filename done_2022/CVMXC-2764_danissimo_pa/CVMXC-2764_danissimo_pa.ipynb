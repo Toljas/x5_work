{
 "cells": [
  {
   "cell_type": "markdown",
   "id": "2598e1a7",
   "metadata": {},
   "source": [
    "https://jira.x5.ru/browse/CVMXC-2764"
   ]
  },
  {
   "cell_type": "code",
   "execution_count": 1,
   "id": "71601d94",
   "metadata": {},
   "outputs": [],
   "source": [
    "name = 'CVMXC-2764_danissimo_pa'"
   ]
  },
  {
   "cell_type": "code",
   "execution_count": 2,
   "id": "a17b94bb",
   "metadata": {},
   "outputs": [],
   "source": [
    "import sys\n",
    "import pandas as pd\n",
    "import pyspark.sql.functions as F\n",
    "sys.path.append('/home/jovyan/cvm_upgrade/')\n",
    "sys.path.append('/home/jovyan/cvm_upgrade/upgrade/')\n",
    "sys.path.append('/home/jovyan/glow-byte-filters-pyspark')\n",
    "sys.path.append('/home/jovyan/x5_some_tasks/Osipov/')\n",
    "from upgrade.post_analysis2.tools.groups_metrics_aggregation import GroupsMetricsAggregation\n",
    "from upgrade.post_analysis2.tools.guests_metrics_preprocessing import GuestsMetricsPreprocessing\n",
    "from upgrade.post_analysis2.tools.post_analysis_params import PostAnalysisParams\n",
    "from upgrade.post_analysis2.tools.metric_names_mapper import map_col_names_to_russian\n",
    "from upgrade.post_analysis2.tools.experiment_participants import ExperimentParticipants\n",
    "from upgrade.post_analysis2.tools.experiment_params import ExperimentParams\n",
    "import datetime\n",
    "from datetime import timedelta\n",
    "from spark import *\n",
    "from utils_osipov import *\n",
    "\n",
    "%load_ext autoreload\n",
    "%autoreload 2\n",
    "\n",
    "pd.options.display.float_format = '{:,.2f}'.format\n",
    "pd.options.display.max_rows = 500"
   ]
  },
  {
   "cell_type": "code",
   "execution_count": 3,
   "id": "b82d3fba",
   "metadata": {
    "collapsed": false,
    "jupyter": {
     "outputs_hidden": false
    },
    "pycharm": {
     "name": "#%%\n"
    }
   },
   "outputs": [
    {
     "name": "stderr",
     "output_type": "stream",
     "text": [
      "Setting default log level to \"WARN\".\n",
      "To adjust logging level use sc.setLogLevel(newLevel). For SparkR, use setLogLevel(newLevel).\n",
      "22/02/24 16:06:50 WARN cluster.YarnSchedulerBackend$YarnSchedulerEndpoint: Attempted to request executors before the AM has registered!\n"
     ]
    }
   ],
   "source": [
    "sc, spark = restart_spark(name, 100, executor_memory=\"3G\", executor_cores=5, driver_memory=\"12G\",\n",
    "                          additional_params={\"spark.sql.shuffle.partitions\": \"200\"})\n",
    "sc.setLogLevel('ERROR')"
   ]
  },
  {
   "cell_type": "markdown",
   "id": "f918f436",
   "metadata": {},
   "source": [
    "### 1: X-28-48-Danone-Danissimo-Geo1-sof"
   ]
  },
  {
   "cell_type": "code",
   "execution_count": 6,
   "id": "57439488",
   "metadata": {
    "collapsed": false,
    "jupyter": {
     "outputs_hidden": false
    },
    "pycharm": {
     "name": "#%%\n"
    }
   },
   "outputs": [
    {
     "name": "stderr",
     "output_type": "stream",
     "text": [
      "                                                                                \r"
     ]
    }
   ],
   "source": [
    "campaign_id = 'X-28-48-Danone-Danissimo-Geo1-sof'\n",
    "output_fin_report = f'{campaign_id}_fin_report.csv'\n",
    "output_main_report = f'{campaign_id}_main_report.csv'\n",
    "\n",
    "experiment_params = ExperimentParams(**{\n",
    "    # Camp wave id нужно записать в виде мапы из id в префиксы.\n",
    "    # Префиксы ни на что не влияют, просто для более красивого названия групп\n",
    "    # Заполняются camp_wave_id. Если для контроля и теста одинаковый, то пишем два раза\n",
    "    'map_camp_wave_ids_to_suffixes': {\n",
    "        82392: \"sms_viber_tg\",\n",
    "        82392: \"sms_viber_cg\"\n",
    "    },\n",
    "\n",
    "    # communication period with guest (sending sms, push, etc.)\n",
    "    'date_communication_from': '2022-02-02',\n",
    "    'date_communication_to': '2022-02-14',\n",
    "\n",
    "    'wave_ids': [\n",
    "        82530 #если нет, то -1\n",
    "    ],\n",
    "\n",
    "    'communication_costs': {\n",
    "        'sms': 1.38,\n",
    "        'viber': 1.32,\n",
    "        'email': 0.0083\n",
    "    }\n",
    "})\n",
    "\n",
    "post_analysis_params = PostAnalysisParams(**{\n",
    "    'spark': spark,\n",
    "    'date_from': '2022-02-02',\n",
    "    'date_to': '2022-02-14', #дата постпериода\n",
    "    'control_camp_wave_id': 82392,\n",
    "    'plu_list': list(map(str, [2058043,2131371,3334525,3388829,3503856,3602086,3666192,4000341,4087605,4134957,\n",
    "                               4164867,4164884,4164891,49076,78358,4045552,4087605,4087604,4087606,4045551,\n",
    "                               3388829])),\n",
    "    'threshold_item_condition': 'plu_list', #есть категория еще\n",
    "    'count_for_plu_list': 2 #механика от 2-х штук\n",
    "})\n",
    "\n",
    "\n",
    "assert post_analysis_params.control_camp_wave_id in experiment_params.map_camp_wave_ids_to_suffixes.keys()"
   ]
  },
  {
   "cell_type": "code",
   "execution_count": 7,
   "id": "197ebbe6",
   "metadata": {
    "collapsed": false,
    "jupyter": {
     "outputs_hidden": false
    },
    "pycharm": {
     "name": "#%%\n"
    },
    "scrolled": true
   },
   "outputs": [],
   "source": [
    "experiment_guests = ExperimentParticipants(spark, experiment_params)\n",
    "experiment_guests_communications = experiment_guests.extract()"
   ]
  },
  {
   "cell_type": "code",
   "execution_count": 8,
   "id": "f2e1f0ff",
   "metadata": {
    "collapsed": false,
    "jupyter": {
     "outputs_hidden": false
    },
    "pycharm": {
     "name": "#%%\n"
    },
    "scrolled": true
   },
   "outputs": [
    {
     "name": "stderr",
     "output_type": "stream",
     "text": [
      "                                                                                00]]]]1]\r"
     ]
    }
   ],
   "source": [
    "guest_metrics_preparation = GuestsMetricsPreprocessing(spark, experiment_guests_communications, post_analysis_params)\n",
    "experiment_guests_with_metrics = guest_metrics_preparation.evaluate()"
   ]
  },
  {
   "cell_type": "code",
   "execution_count": 9,
   "id": "7b7d75ad",
   "metadata": {
    "collapsed": false,
    "jupyter": {
     "outputs_hidden": false
    },
    "pycharm": {
     "name": "#%%\n"
    }
   },
   "outputs": [
    {
     "name": "stderr",
     "output_type": "stream",
     "text": [
      "/opt/conda/lib/python3.7/site-packages/pandas/core/indexing.py:1684: PerformanceWarning: DataFrame is highly fragmented.  This is usually the result of calling `frame.insert` many times, which has poor performance.  Consider joining all columns at once using pd.concat(axis=1) instead.  To get a de-fragmented frame, use `newframe = frame.copy()`\n",
      "  self.obj[key] = infer_fill_value(value)\n"
     ]
    }
   ],
   "source": [
    "groups_metrics_aggregation = GroupsMetricsAggregation(spark, experiment_guests_with_metrics, post_analysis_params)\n",
    "groups_metrics, map_to_effects_table = groups_metrics_aggregation.evaluate()"
   ]
  },
  {
   "cell_type": "code",
   "execution_count": 10,
   "id": "2cce8bf1",
   "metadata": {
    "collapsed": false,
    "jupyter": {
     "outputs_hidden": false
    },
    "pycharm": {
     "name": "#%%\n"
    }
   },
   "outputs": [
    {
     "data": {
      "text/html": [
       "<div>\n",
       "<style scoped>\n",
       "    .dataframe tbody tr th:only-of-type {\n",
       "        vertical-align: middle;\n",
       "    }\n",
       "\n",
       "    .dataframe tbody tr th {\n",
       "        vertical-align: top;\n",
       "    }\n",
       "\n",
       "    .dataframe thead th {\n",
       "        text-align: right;\n",
       "    }\n",
       "</style>\n",
       "<table border=\"1\" class=\"dataframe\">\n",
       "  <thead>\n",
       "    <tr style=\"text-align: right;\">\n",
       "      <th></th>\n",
       "      <th>Размер выборки, чел.</th>\n",
       "      <th>Затраты на коммуникацию и на баллы (сумма delta с учетом redemption), руб.</th>\n",
       "      <th>Затраты на коммуникацию, руб./гость</th>\n",
       "      <th>Затраты на коммуникацию, руб.</th>\n",
       "      <th>Софинансирование, руб./гость</th>\n",
       "      <th>Софинансирование, руб.</th>\n",
       "      <th>Покупка предложения(чек), товаров (шт)</th>\n",
       "      <th>Покупка предложения(категория), товаров (шт)</th>\n",
       "      <th>Покупка предложения(набор plu), товаров (шт)</th>\n",
       "      <th>Гостей, купившие что-нибудь</th>\n",
       "      <th>...</th>\n",
       "      <th>Эффект Ebitda софинансирование(чек) на группу, руб.</th>\n",
       "      <th>Эффект Ebitda софинансирование(чек) на группу / Ebitda софинансирование(чек) группы</th>\n",
       "      <th>Значимость Ebitda софинансирование(категория)</th>\n",
       "      <th>Эффект Ebitda софинансирование(категория) на гостя, руб.</th>\n",
       "      <th>Эффект Ebitda софинансирование(категория) на группу, руб.</th>\n",
       "      <th>Эффект Ebitda софинансирование(категория) на группу / Ebitda софинансирование(категория) группы</th>\n",
       "      <th>Значимость Ebitda софинансирование(набор plu)</th>\n",
       "      <th>Эффект Ebitda софинансирование(набор plu) на гостя, руб.</th>\n",
       "      <th>Эффект Ebitda софинансирование(набор plu) на группу, руб.</th>\n",
       "      <th>Эффект Ebitda софинансирование(набор plu) на группу / Ebitda софинансирование(набор plu) группы</th>\n",
       "    </tr>\n",
       "    <tr>\n",
       "      <th>group_name</th>\n",
       "      <th></th>\n",
       "      <th></th>\n",
       "      <th></th>\n",
       "      <th></th>\n",
       "      <th></th>\n",
       "      <th></th>\n",
       "      <th></th>\n",
       "      <th></th>\n",
       "      <th></th>\n",
       "      <th></th>\n",
       "      <th></th>\n",
       "      <th></th>\n",
       "      <th></th>\n",
       "      <th></th>\n",
       "      <th></th>\n",
       "      <th></th>\n",
       "      <th></th>\n",
       "      <th></th>\n",
       "      <th></th>\n",
       "      <th></th>\n",
       "      <th></th>\n",
       "    </tr>\n",
       "  </thead>\n",
       "  <tbody>\n",
       "    <tr>\n",
       "      <th>0_82392_sms_viber_cg</th>\n",
       "      <td>143396</td>\n",
       "      <td>-60,079.93</td>\n",
       "      <td>1.36</td>\n",
       "      <td>195,270.12</td>\n",
       "      <td>1.41</td>\n",
       "      <td>202,758.00</td>\n",
       "      <td>8,098,588.82</td>\n",
       "      <td>324,884.23</td>\n",
       "      <td>14,123.00</td>\n",
       "      <td>137208</td>\n",
       "      <td>...</td>\n",
       "      <td>860,691.00</td>\n",
       "      <td>0.01</td>\n",
       "      <td>0.00</td>\n",
       "      <td>0.64</td>\n",
       "      <td>91,887.00</td>\n",
       "      <td>0.02</td>\n",
       "      <td>0.00</td>\n",
       "      <td>0.64</td>\n",
       "      <td>91,742.00</td>\n",
       "      <td>0.18</td>\n",
       "    </tr>\n",
       "    <tr>\n",
       "      <th>1_82392_sms_viber_cg</th>\n",
       "      <td>35852</td>\n",
       "      <td>-55,901.07</td>\n",
       "      <td>0.00</td>\n",
       "      <td>0.00</td>\n",
       "      <td>0.00</td>\n",
       "      <td>0.00</td>\n",
       "      <td>2,001,410.10</td>\n",
       "      <td>80,190.25</td>\n",
       "      <td>2,859.00</td>\n",
       "      <td>34168</td>\n",
       "      <td>...</td>\n",
       "      <td>NaN</td>\n",
       "      <td>NaN</td>\n",
       "      <td>NaN</td>\n",
       "      <td>NaN</td>\n",
       "      <td>NaN</td>\n",
       "      <td>NaN</td>\n",
       "      <td>NaN</td>\n",
       "      <td>NaN</td>\n",
       "      <td>NaN</td>\n",
       "      <td>NaN</td>\n",
       "    </tr>\n",
       "  </tbody>\n",
       "</table>\n",
       "<p>2 rows × 103 columns</p>\n",
       "</div>"
      ],
      "text/plain": [
       "                      Размер выборки, чел.  \\\n",
       "group_name                                   \n",
       "0_82392_sms_viber_cg                143396   \n",
       "1_82392_sms_viber_cg                 35852   \n",
       "\n",
       "                      Затраты на коммуникацию и на баллы (сумма delta с учетом redemption), руб.  \\\n",
       "group_name                                                                                         \n",
       "0_82392_sms_viber_cg                                         -60,079.93                            \n",
       "1_82392_sms_viber_cg                                         -55,901.07                            \n",
       "\n",
       "                      Затраты на коммуникацию, руб./гость  \\\n",
       "group_name                                                  \n",
       "0_82392_sms_viber_cg                                 1.36   \n",
       "1_82392_sms_viber_cg                                 0.00   \n",
       "\n",
       "                      Затраты на коммуникацию, руб.  \\\n",
       "group_name                                            \n",
       "0_82392_sms_viber_cg                     195,270.12   \n",
       "1_82392_sms_viber_cg                           0.00   \n",
       "\n",
       "                      Софинансирование, руб./гость  Софинансирование, руб.  \\\n",
       "group_name                                                                   \n",
       "0_82392_sms_viber_cg                          1.41              202,758.00   \n",
       "1_82392_sms_viber_cg                          0.00                    0.00   \n",
       "\n",
       "                      Покупка предложения(чек), товаров (шт)  \\\n",
       "group_name                                                     \n",
       "0_82392_sms_viber_cg                            8,098,588.82   \n",
       "1_82392_sms_viber_cg                            2,001,410.10   \n",
       "\n",
       "                      Покупка предложения(категория), товаров (шт)  \\\n",
       "group_name                                                           \n",
       "0_82392_sms_viber_cg                                    324,884.23   \n",
       "1_82392_sms_viber_cg                                     80,190.25   \n",
       "\n",
       "                      Покупка предложения(набор plu), товаров (шт)  \\\n",
       "group_name                                                           \n",
       "0_82392_sms_viber_cg                                     14,123.00   \n",
       "1_82392_sms_viber_cg                                      2,859.00   \n",
       "\n",
       "                      Гостей, купившие что-нибудь  ...  \\\n",
       "group_name                                         ...   \n",
       "0_82392_sms_viber_cg                       137208  ...   \n",
       "1_82392_sms_viber_cg                        34168  ...   \n",
       "\n",
       "                      Эффект Ebitda софинансирование(чек) на группу, руб.  \\\n",
       "group_name                                                                  \n",
       "0_82392_sms_viber_cg                                         860,691.00     \n",
       "1_82392_sms_viber_cg                                                NaN     \n",
       "\n",
       "                      Эффект Ebitda софинансирование(чек) на группу / Ebitda софинансирование(чек) группы  \\\n",
       "group_name                                                                                                  \n",
       "0_82392_sms_viber_cg                                               0.01                                     \n",
       "1_82392_sms_viber_cg                                                NaN                                     \n",
       "\n",
       "                      Значимость Ebitda софинансирование(категория)  \\\n",
       "group_name                                                            \n",
       "0_82392_sms_viber_cg                                           0.00   \n",
       "1_82392_sms_viber_cg                                            NaN   \n",
       "\n",
       "                      Эффект Ebitda софинансирование(категория) на гостя, руб.  \\\n",
       "group_name                                                                       \n",
       "0_82392_sms_viber_cg                                               0.64          \n",
       "1_82392_sms_viber_cg                                                NaN          \n",
       "\n",
       "                      Эффект Ebitda софинансирование(категория) на группу, руб.  \\\n",
       "group_name                                                                        \n",
       "0_82392_sms_viber_cg                                          91,887.00           \n",
       "1_82392_sms_viber_cg                                                NaN           \n",
       "\n",
       "                      Эффект Ebitda софинансирование(категория) на группу / Ebitda софинансирование(категория) группы  \\\n",
       "group_name                                                                                                              \n",
       "0_82392_sms_viber_cg                                               0.02                                                 \n",
       "1_82392_sms_viber_cg                                                NaN                                                 \n",
       "\n",
       "                      Значимость Ebitda софинансирование(набор plu)  \\\n",
       "group_name                                                            \n",
       "0_82392_sms_viber_cg                                           0.00   \n",
       "1_82392_sms_viber_cg                                            NaN   \n",
       "\n",
       "                      Эффект Ebitda софинансирование(набор plu) на гостя, руб.  \\\n",
       "group_name                                                                       \n",
       "0_82392_sms_viber_cg                                               0.64          \n",
       "1_82392_sms_viber_cg                                                NaN          \n",
       "\n",
       "                      Эффект Ebitda софинансирование(набор plu) на группу, руб.  \\\n",
       "group_name                                                                        \n",
       "0_82392_sms_viber_cg                                          91,742.00           \n",
       "1_82392_sms_viber_cg                                                NaN           \n",
       "\n",
       "                      Эффект Ebitda софинансирование(набор plu) на группу / Ebitda софинансирование(набор plu) группы  \n",
       "group_name                                                                                                             \n",
       "0_82392_sms_viber_cg                                               0.18                                                \n",
       "1_82392_sms_viber_cg                                                NaN                                                \n",
       "\n",
       "[2 rows x 103 columns]"
      ]
     },
     "execution_count": 10,
     "metadata": {},
     "output_type": "execute_result"
    }
   ],
   "source": [
    "fin_report = map_col_names_to_russian(groups_metrics)\n",
    "fin_report"
   ]
  },
  {
   "cell_type": "code",
   "execution_count": 11,
   "id": "167a6f95",
   "metadata": {
    "collapsed": false,
    "jupyter": {
     "outputs_hidden": false
    },
    "pycharm": {
     "name": "#%%\n"
    },
    "scrolled": true
   },
   "outputs": [],
   "source": [
    "fin_report['meta_post_analysis'] = str(post_analysis_params.__dict__)\n",
    "fin_report['meta_experiment_params'] = str(experiment_params.__dict__)\n",
    "groups_metrics['meta_post_analysis'] = str(post_analysis_params.__dict__)\n",
    "groups_metrics['meta_experiment_params'] = str(experiment_params.__dict__)\n",
    "\n",
    "groups_metrics.T.to_csv(output_main_report, encoding='utf-8-sig', sep=';')\n",
    "fin_report.T.to_csv(output_fin_report, encoding='utf-8-sig', sep=';')"
   ]
  },
  {
   "cell_type": "markdown",
   "id": "88a96fbd",
   "metadata": {},
   "source": [
    "### 2: U-28-Danon-danissimo-postavschik"
   ]
  },
  {
   "cell_type": "code",
   "execution_count": 12,
   "id": "dd6fd369",
   "metadata": {
    "collapsed": false,
    "jupyter": {
     "outputs_hidden": false
    },
    "pycharm": {
     "name": "#%%\n"
    }
   },
   "outputs": [
    {
     "name": "stderr",
     "output_type": "stream",
     "text": [
      "                                                                                \r"
     ]
    }
   ],
   "source": [
    "campaign_id = 'U-28-Danon-danissimo-postavschik'\n",
    "output_fin_report = f'{campaign_id}_fin_report.csv'\n",
    "output_main_report = f'{campaign_id}_main_report.csv'\n",
    "\n",
    "experiment_params = ExperimentParams(**{\n",
    "    # Camp wave id нужно записать в виде мапы из id в префиксы.\n",
    "    # Префиксы ни на что не влияют, просто для более красивого названия групп\n",
    "    # Заполняются camp_wave_id. Если для контроля и теста одинаковый, то пишем два раза\n",
    "    'map_camp_wave_ids_to_suffixes': {\n",
    "        82424: \"sms_viber_tg\",\n",
    "        82435: \"sms_viber_cg\"\n",
    "    },\n",
    "\n",
    "    # communication period with guest (sending sms, push, etc.)\n",
    "    'date_communication_from': '2022-02-02',\n",
    "    'date_communication_to': '2022-02-14',\n",
    "\n",
    "    'wave_ids': [\n",
    "        82531 #если нет, то -1\n",
    "    ],\n",
    "\n",
    "    'communication_costs': {\n",
    "        'sms': 1.38,\n",
    "        'viber': 1.32,\n",
    "        'email': 0.0083\n",
    "    }\n",
    "})\n",
    "\n",
    "post_analysis_params = PostAnalysisParams(**{\n",
    "    'spark': spark,\n",
    "    'date_from': '2022-02-02',\n",
    "    'date_to': '2022-02-14', #дата постпериода\n",
    "    'control_camp_wave_id': 82435,\n",
    "    'plu_list': list(map(str, [2058043,2131371,3334525,3388829,3503856,3602086,3666192,4000341,4087605,4134957,\n",
    "                               4164867,4164884,4164891,49076,78358,4045552,4087605,4087604,4087606,4045551,\n",
    "                               3388829])),\n",
    "    'threshold_item_condition': 'plu_list', #есть категория еще\n",
    "    'count_for_plu_list': 2 #механика от 2-х штук\n",
    "})\n",
    "\n",
    "\n",
    "assert post_analysis_params.control_camp_wave_id in experiment_params.map_camp_wave_ids_to_suffixes.keys()"
   ]
  },
  {
   "cell_type": "code",
   "execution_count": 13,
   "id": "e9752f81",
   "metadata": {
    "collapsed": false,
    "jupyter": {
     "outputs_hidden": false
    },
    "pycharm": {
     "name": "#%%\n"
    },
    "scrolled": true
   },
   "outputs": [],
   "source": [
    "experiment_guests = ExperimentParticipants(spark, experiment_params)\n",
    "experiment_guests_communications = experiment_guests.extract()"
   ]
  },
  {
   "cell_type": "code",
   "execution_count": 14,
   "id": "1ccffd3a",
   "metadata": {
    "collapsed": false,
    "jupyter": {
     "outputs_hidden": false
    },
    "pycharm": {
     "name": "#%%\n"
    },
    "scrolled": true
   },
   "outputs": [
    {
     "name": "stderr",
     "output_type": "stream",
     "text": [
      "                                                                                / 200]]]]\r"
     ]
    }
   ],
   "source": [
    "guest_metrics_preparation = GuestsMetricsPreprocessing(spark, experiment_guests_communications, post_analysis_params)\n",
    "experiment_guests_with_metrics = guest_metrics_preparation.evaluate()"
   ]
  },
  {
   "cell_type": "code",
   "execution_count": 15,
   "id": "52f17d3b",
   "metadata": {
    "collapsed": false,
    "jupyter": {
     "outputs_hidden": false
    },
    "pycharm": {
     "name": "#%%\n"
    }
   },
   "outputs": [
    {
     "name": "stderr",
     "output_type": "stream",
     "text": [
      "/opt/conda/lib/python3.7/site-packages/pandas/core/indexing.py:1684: PerformanceWarning: DataFrame is highly fragmented.  This is usually the result of calling `frame.insert` many times, which has poor performance.  Consider joining all columns at once using pd.concat(axis=1) instead.  To get a de-fragmented frame, use `newframe = frame.copy()`\n",
      "  self.obj[key] = infer_fill_value(value)\n"
     ]
    }
   ],
   "source": [
    "groups_metrics_aggregation = GroupsMetricsAggregation(spark, experiment_guests_with_metrics, post_analysis_params)\n",
    "groups_metrics, map_to_effects_table = groups_metrics_aggregation.evaluate()"
   ]
  },
  {
   "cell_type": "code",
   "execution_count": 16,
   "id": "b3a53ae6",
   "metadata": {
    "collapsed": false,
    "jupyter": {
     "outputs_hidden": false
    },
    "pycharm": {
     "name": "#%%\n"
    }
   },
   "outputs": [
    {
     "data": {
      "text/html": [
       "<div>\n",
       "<style scoped>\n",
       "    .dataframe tbody tr th:only-of-type {\n",
       "        vertical-align: middle;\n",
       "    }\n",
       "\n",
       "    .dataframe tbody tr th {\n",
       "        vertical-align: top;\n",
       "    }\n",
       "\n",
       "    .dataframe thead th {\n",
       "        text-align: right;\n",
       "    }\n",
       "</style>\n",
       "<table border=\"1\" class=\"dataframe\">\n",
       "  <thead>\n",
       "    <tr style=\"text-align: right;\">\n",
       "      <th></th>\n",
       "      <th>Размер выборки, чел.</th>\n",
       "      <th>Затраты на коммуникацию и на баллы (сумма delta с учетом redemption), руб.</th>\n",
       "      <th>Затраты на коммуникацию, руб./гость</th>\n",
       "      <th>Затраты на коммуникацию, руб.</th>\n",
       "      <th>Софинансирование, руб./гость</th>\n",
       "      <th>Софинансирование, руб.</th>\n",
       "      <th>Покупка предложения(чек), товаров (шт)</th>\n",
       "      <th>Покупка предложения(категория), товаров (шт)</th>\n",
       "      <th>Покупка предложения(набор plu), товаров (шт)</th>\n",
       "      <th>Гостей, купившие что-нибудь</th>\n",
       "      <th>...</th>\n",
       "      <th>Эффект Ebitda софинансирование(чек) на группу, руб.</th>\n",
       "      <th>Эффект Ebitda софинансирование(чек) на группу / Ebitda софинансирование(чек) группы</th>\n",
       "      <th>Значимость Ebitda софинансирование(категория)</th>\n",
       "      <th>Эффект Ebitda софинансирование(категория) на гостя, руб.</th>\n",
       "      <th>Эффект Ebitda софинансирование(категория) на группу, руб.</th>\n",
       "      <th>Эффект Ebitda софинансирование(категория) на группу / Ebitda софинансирование(категория) группы</th>\n",
       "      <th>Значимость Ebitda софинансирование(набор plu)</th>\n",
       "      <th>Эффект Ebitda софинансирование(набор plu) на гостя, руб.</th>\n",
       "      <th>Эффект Ebitda софинансирование(набор plu) на группу, руб.</th>\n",
       "      <th>Эффект Ebitda софинансирование(набор plu) на группу / Ebitda софинансирование(набор plu) группы</th>\n",
       "    </tr>\n",
       "    <tr>\n",
       "      <th>group_name</th>\n",
       "      <th></th>\n",
       "      <th></th>\n",
       "      <th></th>\n",
       "      <th></th>\n",
       "      <th></th>\n",
       "      <th></th>\n",
       "      <th></th>\n",
       "      <th></th>\n",
       "      <th></th>\n",
       "      <th></th>\n",
       "      <th></th>\n",
       "      <th></th>\n",
       "      <th></th>\n",
       "      <th></th>\n",
       "      <th></th>\n",
       "      <th></th>\n",
       "      <th></th>\n",
       "      <th></th>\n",
       "      <th></th>\n",
       "      <th></th>\n",
       "      <th></th>\n",
       "    </tr>\n",
       "  </thead>\n",
       "  <tbody>\n",
       "    <tr>\n",
       "      <th>0_82424_sms_viber_tg</th>\n",
       "      <td>145000</td>\n",
       "      <td>-60,802.42</td>\n",
       "      <td>1.36</td>\n",
       "      <td>197,489.10</td>\n",
       "      <td>1.41</td>\n",
       "      <td>204,384.00</td>\n",
       "      <td>6,288,976.90</td>\n",
       "      <td>149,712.91</td>\n",
       "      <td>6,783.00</td>\n",
       "      <td>136751</td>\n",
       "      <td>...</td>\n",
       "      <td>3,680,036.00</td>\n",
       "      <td>0.03</td>\n",
       "      <td>1.00</td>\n",
       "      <td>1.55</td>\n",
       "      <td>224,884.00</td>\n",
       "      <td>0.09</td>\n",
       "      <td>1.00</td>\n",
       "      <td>0.97</td>\n",
       "      <td>140,169.00</td>\n",
       "      <td>0.37</td>\n",
       "    </tr>\n",
       "    <tr>\n",
       "      <th>0_82435_sms_viber_cg</th>\n",
       "      <td>50000</td>\n",
       "      <td>-47,804.67</td>\n",
       "      <td>0.00</td>\n",
       "      <td>0.00</td>\n",
       "      <td>0.00</td>\n",
       "      <td>0.00</td>\n",
       "      <td>2,113,313.61</td>\n",
       "      <td>49,712.61</td>\n",
       "      <td>1,625.00</td>\n",
       "      <td>47084</td>\n",
       "      <td>...</td>\n",
       "      <td>NaN</td>\n",
       "      <td>NaN</td>\n",
       "      <td>NaN</td>\n",
       "      <td>NaN</td>\n",
       "      <td>NaN</td>\n",
       "      <td>NaN</td>\n",
       "      <td>NaN</td>\n",
       "      <td>NaN</td>\n",
       "      <td>NaN</td>\n",
       "      <td>NaN</td>\n",
       "    </tr>\n",
       "  </tbody>\n",
       "</table>\n",
       "<p>2 rows × 103 columns</p>\n",
       "</div>"
      ],
      "text/plain": [
       "                      Размер выборки, чел.  \\\n",
       "group_name                                   \n",
       "0_82424_sms_viber_tg                145000   \n",
       "0_82435_sms_viber_cg                 50000   \n",
       "\n",
       "                      Затраты на коммуникацию и на баллы (сумма delta с учетом redemption), руб.  \\\n",
       "group_name                                                                                         \n",
       "0_82424_sms_viber_tg                                         -60,802.42                            \n",
       "0_82435_sms_viber_cg                                         -47,804.67                            \n",
       "\n",
       "                      Затраты на коммуникацию, руб./гость  \\\n",
       "group_name                                                  \n",
       "0_82424_sms_viber_tg                                 1.36   \n",
       "0_82435_sms_viber_cg                                 0.00   \n",
       "\n",
       "                      Затраты на коммуникацию, руб.  \\\n",
       "group_name                                            \n",
       "0_82424_sms_viber_tg                     197,489.10   \n",
       "0_82435_sms_viber_cg                           0.00   \n",
       "\n",
       "                      Софинансирование, руб./гость  Софинансирование, руб.  \\\n",
       "group_name                                                                   \n",
       "0_82424_sms_viber_tg                          1.41              204,384.00   \n",
       "0_82435_sms_viber_cg                          0.00                    0.00   \n",
       "\n",
       "                      Покупка предложения(чек), товаров (шт)  \\\n",
       "group_name                                                     \n",
       "0_82424_sms_viber_tg                            6,288,976.90   \n",
       "0_82435_sms_viber_cg                            2,113,313.61   \n",
       "\n",
       "                      Покупка предложения(категория), товаров (шт)  \\\n",
       "group_name                                                           \n",
       "0_82424_sms_viber_tg                                    149,712.91   \n",
       "0_82435_sms_viber_cg                                     49,712.61   \n",
       "\n",
       "                      Покупка предложения(набор plu), товаров (шт)  \\\n",
       "group_name                                                           \n",
       "0_82424_sms_viber_tg                                      6,783.00   \n",
       "0_82435_sms_viber_cg                                      1,625.00   \n",
       "\n",
       "                      Гостей, купившие что-нибудь  ...  \\\n",
       "group_name                                         ...   \n",
       "0_82424_sms_viber_tg                       136751  ...   \n",
       "0_82435_sms_viber_cg                        47084  ...   \n",
       "\n",
       "                      Эффект Ebitda софинансирование(чек) на группу, руб.  \\\n",
       "group_name                                                                  \n",
       "0_82424_sms_viber_tg                                       3,680,036.00     \n",
       "0_82435_sms_viber_cg                                                NaN     \n",
       "\n",
       "                      Эффект Ebitda софинансирование(чек) на группу / Ebitda софинансирование(чек) группы  \\\n",
       "group_name                                                                                                  \n",
       "0_82424_sms_viber_tg                                               0.03                                     \n",
       "0_82435_sms_viber_cg                                                NaN                                     \n",
       "\n",
       "                      Значимость Ebitda софинансирование(категория)  \\\n",
       "group_name                                                            \n",
       "0_82424_sms_viber_tg                                           1.00   \n",
       "0_82435_sms_viber_cg                                            NaN   \n",
       "\n",
       "                      Эффект Ebitda софинансирование(категория) на гостя, руб.  \\\n",
       "group_name                                                                       \n",
       "0_82424_sms_viber_tg                                               1.55          \n",
       "0_82435_sms_viber_cg                                                NaN          \n",
       "\n",
       "                      Эффект Ebitda софинансирование(категория) на группу, руб.  \\\n",
       "group_name                                                                        \n",
       "0_82424_sms_viber_tg                                         224,884.00           \n",
       "0_82435_sms_viber_cg                                                NaN           \n",
       "\n",
       "                      Эффект Ebitda софинансирование(категория) на группу / Ebitda софинансирование(категория) группы  \\\n",
       "group_name                                                                                                              \n",
       "0_82424_sms_viber_tg                                               0.09                                                 \n",
       "0_82435_sms_viber_cg                                                NaN                                                 \n",
       "\n",
       "                      Значимость Ebitda софинансирование(набор plu)  \\\n",
       "group_name                                                            \n",
       "0_82424_sms_viber_tg                                           1.00   \n",
       "0_82435_sms_viber_cg                                            NaN   \n",
       "\n",
       "                      Эффект Ebitda софинансирование(набор plu) на гостя, руб.  \\\n",
       "group_name                                                                       \n",
       "0_82424_sms_viber_tg                                               0.97          \n",
       "0_82435_sms_viber_cg                                                NaN          \n",
       "\n",
       "                      Эффект Ebitda софинансирование(набор plu) на группу, руб.  \\\n",
       "group_name                                                                        \n",
       "0_82424_sms_viber_tg                                         140,169.00           \n",
       "0_82435_sms_viber_cg                                                NaN           \n",
       "\n",
       "                      Эффект Ebitda софинансирование(набор plu) на группу / Ebitda софинансирование(набор plu) группы  \n",
       "group_name                                                                                                             \n",
       "0_82424_sms_viber_tg                                               0.37                                                \n",
       "0_82435_sms_viber_cg                                                NaN                                                \n",
       "\n",
       "[2 rows x 103 columns]"
      ]
     },
     "execution_count": 16,
     "metadata": {},
     "output_type": "execute_result"
    }
   ],
   "source": [
    "fin_report = map_col_names_to_russian(groups_metrics)\n",
    "fin_report"
   ]
  },
  {
   "cell_type": "code",
   "execution_count": 17,
   "id": "25f5562f",
   "metadata": {
    "collapsed": false,
    "jupyter": {
     "outputs_hidden": false
    },
    "pycharm": {
     "name": "#%%\n"
    },
    "scrolled": true
   },
   "outputs": [],
   "source": [
    "fin_report['meta_post_analysis'] = str(post_analysis_params.__dict__)\n",
    "fin_report['meta_experiment_params'] = str(experiment_params.__dict__)\n",
    "groups_metrics['meta_post_analysis'] = str(post_analysis_params.__dict__)\n",
    "groups_metrics['meta_experiment_params'] = str(experiment_params.__dict__)\n",
    "\n",
    "groups_metrics.T.to_csv(output_main_report, encoding='utf-8-sig', sep=';')\n",
    "fin_report.T.to_csv(output_fin_report, encoding='utf-8-sig', sep=';')"
   ]
  }
 ],
 "metadata": {
  "kernelspec": {
   "display_name": "Python 3 (ipykernel)",
   "language": "python",
   "name": "python3"
  },
  "language_info": {
   "codemirror_mode": {
    "name": "ipython",
    "version": 3
   },
   "file_extension": ".py",
   "mimetype": "text/x-python",
   "name": "python",
   "nbconvert_exporter": "python",
   "pygments_lexer": "ipython3",
   "version": "3.7.10"
  }
 },
 "nbformat": 4,
 "nbformat_minor": 5
}
