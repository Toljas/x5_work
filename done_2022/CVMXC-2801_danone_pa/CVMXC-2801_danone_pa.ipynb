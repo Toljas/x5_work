{
 "cells": [
  {
   "cell_type": "markdown",
   "id": "fab6d1d3",
   "metadata": {},
   "source": [
    "https://jira.x5.ru/browse/CVMXC-2801"
   ]
  },
  {
   "cell_type": "code",
   "execution_count": 1,
   "id": "001c6295",
   "metadata": {},
   "outputs": [],
   "source": [
    "name = 'CVMXC-2801' + '_' + 'danone' + '_pa'"
   ]
  },
  {
   "cell_type": "code",
   "execution_count": 2,
   "id": "4babe4e9",
   "metadata": {},
   "outputs": [],
   "source": [
    "import sys\n",
    "import pandas as pd\n",
    "import pyspark.sql.functions as F\n",
    "sys.path.append('/home/jovyan/cvm_upgrade/')\n",
    "sys.path.append('/home/jovyan/cvm_upgrade/upgrade/')\n",
    "sys.path.append('/home/jovyan/glow-byte-filters-pyspark')\n",
    "sys.path.append('/home/jovyan/x5_some_tasks/Osipov/')\n",
    "from upgrade.post_analysis2.tools.groups_metrics_aggregation import GroupsMetricsAggregation\n",
    "from upgrade.post_analysis2.tools.guests_metrics_preprocessing import GuestsMetricsPreprocessing\n",
    "from upgrade.post_analysis2.tools.post_analysis_params import PostAnalysisParams\n",
    "from upgrade.post_analysis2.tools.metric_names_mapper import map_col_names_to_russian\n",
    "from upgrade.post_analysis2.tools.experiment_participants import ExperimentParticipants\n",
    "from upgrade.post_analysis2.tools.experiment_params import ExperimentParams\n",
    "import datetime\n",
    "from datetime import timedelta\n",
    "from spark import *\n",
    "from utils_osipov import *\n",
    "\n",
    "%load_ext autoreload\n",
    "%autoreload 2\n",
    "\n",
    "pd.options.display.float_format = '{:,.2f}'.format\n",
    "pd.options.display.max_rows = 500"
   ]
  },
  {
   "cell_type": "code",
   "execution_count": 3,
   "id": "a84724be",
   "metadata": {
    "collapsed": false,
    "jupyter": {
     "outputs_hidden": false
    },
    "pycharm": {
     "name": "#%%\n"
    }
   },
   "outputs": [
    {
     "name": "stderr",
     "output_type": "stream",
     "text": [
      "Setting default log level to \"WARN\".\n",
      "To adjust logging level use sc.setLogLevel(newLevel). For SparkR, use setLogLevel(newLevel).\n"
     ]
    }
   ],
   "source": [
    "sc, spark = restart_spark(name, 100, executor_memory=\"3G\", executor_cores=5, driver_memory=\"12G\",\n",
    "                          additional_params={\"spark.sql.shuffle.partitions\": \"200\"})\n",
    "sc.setLogLevel('ERROR')"
   ]
  },
  {
   "cell_type": "markdown",
   "id": "9b9210d6",
   "metadata": {},
   "source": [
    "### 1: U-29-Danon-danissimo-postavschik-slip-2.2"
   ]
  },
  {
   "cell_type": "code",
   "execution_count": 4,
   "id": "d94e80ae",
   "metadata": {
    "collapsed": false,
    "jupyter": {
     "outputs_hidden": false
    },
    "pycharm": {
     "name": "#%%\n"
    }
   },
   "outputs": [
    {
     "name": "stderr",
     "output_type": "stream",
     "text": [
      "                                                                                \r"
     ]
    }
   ],
   "source": [
    "campaign_id = 'U-29-Danon-danissimo-postavschik-slip-2.2'\n",
    "output_fin_report = f'{campaign_id}_fin_report.csv'\n",
    "output_main_report = f'{campaign_id}_main_report.csv'\n",
    "\n",
    "experiment_params = ExperimentParams(**{\n",
    "    # Camp wave id нужно записать в виде мапы из id в префиксы.\n",
    "    # Префиксы ни на что не влияют, просто для более красивого названия групп\n",
    "    # Заполняются camp_wave_id. Если для контроля и теста одинаковый, то пишем два раза\n",
    "    'map_camp_wave_ids_to_suffixes': {\n",
    "        85878: \"sms_viber_tg\",\n",
    "        85878: \"sms_viber_cg\"\n",
    "    },\n",
    "\n",
    "    # communication period with guest (sending sms, push, etc.)\n",
    "    'date_communication_from': '2022-02-23',\n",
    "    'date_communication_to': '2022-03-06',\n",
    "\n",
    "    'wave_ids': [\n",
    "        -1 #если нет, то -1\n",
    "    ],\n",
    "\n",
    "    'communication_costs': {\n",
    "        'sms': 1.38,\n",
    "        'viber': 1.32,\n",
    "        'email': 0.0083\n",
    "    }\n",
    "})\n",
    "\n",
    "post_analysis_params = PostAnalysisParams(**{\n",
    "    'spark': spark,\n",
    "    'date_from': '2022-02-23',\n",
    "    'date_to': '2022-03-06', #дата постпериода\n",
    "    'control_camp_wave_id': 85878,\n",
    "    'plu_list': list(map(str, [2058043,2131371,3334525,3388829,3503856,3602086,3666192,4000341,4087605,4134957,\n",
    "                               4164867,4164884,4164891,49076,78358,4045552,4087605,4087604,4087606,4045551,3388829])),\n",
    "    'threshold_item_condition': 'plu_list', #есть категория еще\n",
    "    'count_for_plu_list': 2 #механика от 2-х штук\n",
    "})\n",
    "\n",
    "\n",
    "assert post_analysis_params.control_camp_wave_id in experiment_params.map_camp_wave_ids_to_suffixes.keys()"
   ]
  },
  {
   "cell_type": "code",
   "execution_count": 5,
   "id": "b508a953",
   "metadata": {
    "collapsed": false,
    "jupyter": {
     "outputs_hidden": false
    },
    "pycharm": {
     "name": "#%%\n"
    },
    "scrolled": true
   },
   "outputs": [],
   "source": [
    "experiment_guests = ExperimentParticipants(spark, experiment_params)\n",
    "experiment_guests_communications = experiment_guests.extract()"
   ]
  },
  {
   "cell_type": "code",
   "execution_count": 6,
   "id": "d97472bd",
   "metadata": {
    "collapsed": false,
    "jupyter": {
     "outputs_hidden": false
    },
    "pycharm": {
     "name": "#%%\n"
    },
    "scrolled": true
   },
   "outputs": [
    {
     "name": "stderr",
     "output_type": "stream",
     "text": [
      "[Stage 9:(1337 + 12) / 4007][Stage 10:(1260 + 20) / 4007][Stage 11:(349 + 45) / 1221]22/03/10 22:32:06 ERROR cluster.YarnScheduler: Lost executor 38 on mn-hd0249.x5.ru: Unable to create executor due to Unable to register with external shuffle server due to : java.util.concurrent.TimeoutException: Timeout waiting for task.\n",
      "                                                                                8]]]]]]\r"
     ]
    }
   ],
   "source": [
    "guest_metrics_preparation = GuestsMetricsPreprocessing(spark, experiment_guests_communications, post_analysis_params)\n",
    "experiment_guests_with_metrics = guest_metrics_preparation.evaluate()"
   ]
  },
  {
   "cell_type": "code",
   "execution_count": 7,
   "id": "94c40a82",
   "metadata": {
    "collapsed": false,
    "jupyter": {
     "outputs_hidden": false
    },
    "pycharm": {
     "name": "#%%\n"
    }
   },
   "outputs": [
    {
     "name": "stderr",
     "output_type": "stream",
     "text": [
      "/opt/conda/lib/python3.7/site-packages/pandas/core/indexing.py:1684: PerformanceWarning: DataFrame is highly fragmented.  This is usually the result of calling `frame.insert` many times, which has poor performance.  Consider joining all columns at once using pd.concat(axis=1) instead.  To get a de-fragmented frame, use `newframe = frame.copy()`\n",
      "  self.obj[key] = infer_fill_value(value)\n"
     ]
    }
   ],
   "source": [
    "groups_metrics_aggregation = GroupsMetricsAggregation(spark, experiment_guests_with_metrics, post_analysis_params)\n",
    "groups_metrics, map_to_effects_table = groups_metrics_aggregation.evaluate()"
   ]
  },
  {
   "cell_type": "code",
   "execution_count": 8,
   "id": "8d936780",
   "metadata": {
    "collapsed": false,
    "jupyter": {
     "outputs_hidden": false
    },
    "pycharm": {
     "name": "#%%\n"
    }
   },
   "outputs": [
    {
     "data": {
      "text/html": [
       "<div>\n",
       "<style scoped>\n",
       "    .dataframe tbody tr th:only-of-type {\n",
       "        vertical-align: middle;\n",
       "    }\n",
       "\n",
       "    .dataframe tbody tr th {\n",
       "        vertical-align: top;\n",
       "    }\n",
       "\n",
       "    .dataframe thead th {\n",
       "        text-align: right;\n",
       "    }\n",
       "</style>\n",
       "<table border=\"1\" class=\"dataframe\">\n",
       "  <thead>\n",
       "    <tr style=\"text-align: right;\">\n",
       "      <th></th>\n",
       "      <th>Размер выборки, чел.</th>\n",
       "      <th>Затраты на коммуникацию и на баллы (сумма delta с учетом redemption), руб.</th>\n",
       "      <th>Затраты на коммуникацию, руб./гость</th>\n",
       "      <th>Затраты на коммуникацию, руб.</th>\n",
       "      <th>Софинансирование, руб./гость</th>\n",
       "      <th>Софинансирование, руб.</th>\n",
       "      <th>Покупка предложения(чек), товаров (шт)</th>\n",
       "      <th>Покупка предложения(категория), товаров (шт)</th>\n",
       "      <th>Покупка предложения(набор plu), товаров (шт)</th>\n",
       "      <th>Гостей, купившие что-нибудь</th>\n",
       "      <th>...</th>\n",
       "      <th>Эффект Ebitda софинансирование(чек) на группу, руб.</th>\n",
       "      <th>Эффект Ebitda софинансирование(чек) на группу / Ebitda софинансирование(чек) группы</th>\n",
       "      <th>Значимость Ebitda софинансирование(категория)</th>\n",
       "      <th>Эффект Ebitda софинансирование(категория) на гостя, руб.</th>\n",
       "      <th>Эффект Ebitda софинансирование(категория) на группу, руб.</th>\n",
       "      <th>Эффект Ebitda софинансирование(категория) на группу / Ebitda софинансирование(категория) группы</th>\n",
       "      <th>Значимость Ebitda софинансирование(набор plu)</th>\n",
       "      <th>Эффект Ebitda софинансирование(набор plu) на гостя, руб.</th>\n",
       "      <th>Эффект Ebitda софинансирование(набор plu) на группу, руб.</th>\n",
       "      <th>Эффект Ebitda софинансирование(набор plu) на группу / Ebitda софинансирование(набор plu) группы</th>\n",
       "    </tr>\n",
       "    <tr>\n",
       "      <th>group_name</th>\n",
       "      <th></th>\n",
       "      <th></th>\n",
       "      <th></th>\n",
       "      <th></th>\n",
       "      <th></th>\n",
       "      <th></th>\n",
       "      <th></th>\n",
       "      <th></th>\n",
       "      <th></th>\n",
       "      <th></th>\n",
       "      <th></th>\n",
       "      <th></th>\n",
       "      <th></th>\n",
       "      <th></th>\n",
       "      <th></th>\n",
       "      <th></th>\n",
       "      <th></th>\n",
       "      <th></th>\n",
       "      <th></th>\n",
       "      <th></th>\n",
       "      <th></th>\n",
       "    </tr>\n",
       "  </thead>\n",
       "  <tbody>\n",
       "    <tr>\n",
       "      <th>1_85878_sms_viber_cg</th>\n",
       "      <td>11396</td>\n",
       "      <td>-19,636.51</td>\n",
       "      <td>0.00</td>\n",
       "      <td>0.00</td>\n",
       "      <td>0.00</td>\n",
       "      <td>0.00</td>\n",
       "      <td>378,527.39</td>\n",
       "      <td>5,638.86</td>\n",
       "      <td>148.00</td>\n",
       "      <td>10399</td>\n",
       "      <td>...</td>\n",
       "      <td>NaN</td>\n",
       "      <td>NaN</td>\n",
       "      <td>NaN</td>\n",
       "      <td>NaN</td>\n",
       "      <td>NaN</td>\n",
       "      <td>NaN</td>\n",
       "      <td>NaN</td>\n",
       "      <td>NaN</td>\n",
       "      <td>NaN</td>\n",
       "      <td>NaN</td>\n",
       "    </tr>\n",
       "    <tr>\n",
       "      <th>0_85878_sms_viber_cg</th>\n",
       "      <td>93726</td>\n",
       "      <td>-153,663.49</td>\n",
       "      <td>0.00</td>\n",
       "      <td>0.00</td>\n",
       "      <td>0.00</td>\n",
       "      <td>0.00</td>\n",
       "      <td>2,869,073.58</td>\n",
       "      <td>48,322.97</td>\n",
       "      <td>2,309.00</td>\n",
       "      <td>84837</td>\n",
       "      <td>...</td>\n",
       "      <td>-1,036,708.00</td>\n",
       "      <td>-0.02</td>\n",
       "      <td>0.00</td>\n",
       "      <td>0.10</td>\n",
       "      <td>9,426.00</td>\n",
       "      <td>0.01</td>\n",
       "      <td>0.00</td>\n",
       "      <td>-0.15</td>\n",
       "      <td>-14,368.00</td>\n",
       "      <td>-0.08</td>\n",
       "    </tr>\n",
       "  </tbody>\n",
       "</table>\n",
       "<p>2 rows × 103 columns</p>\n",
       "</div>"
      ],
      "text/plain": [
       "                      Размер выборки, чел.  \\\n",
       "group_name                                   \n",
       "1_85878_sms_viber_cg                 11396   \n",
       "0_85878_sms_viber_cg                 93726   \n",
       "\n",
       "                      Затраты на коммуникацию и на баллы (сумма delta с учетом redemption), руб.  \\\n",
       "group_name                                                                                         \n",
       "1_85878_sms_viber_cg                                         -19,636.51                            \n",
       "0_85878_sms_viber_cg                                        -153,663.49                            \n",
       "\n",
       "                      Затраты на коммуникацию, руб./гость  \\\n",
       "group_name                                                  \n",
       "1_85878_sms_viber_cg                                 0.00   \n",
       "0_85878_sms_viber_cg                                 0.00   \n",
       "\n",
       "                      Затраты на коммуникацию, руб.  \\\n",
       "group_name                                            \n",
       "1_85878_sms_viber_cg                           0.00   \n",
       "0_85878_sms_viber_cg                           0.00   \n",
       "\n",
       "                      Софинансирование, руб./гость  Софинансирование, руб.  \\\n",
       "group_name                                                                   \n",
       "1_85878_sms_viber_cg                          0.00                    0.00   \n",
       "0_85878_sms_viber_cg                          0.00                    0.00   \n",
       "\n",
       "                      Покупка предложения(чек), товаров (шт)  \\\n",
       "group_name                                                     \n",
       "1_85878_sms_viber_cg                              378,527.39   \n",
       "0_85878_sms_viber_cg                            2,869,073.58   \n",
       "\n",
       "                      Покупка предложения(категория), товаров (шт)  \\\n",
       "group_name                                                           \n",
       "1_85878_sms_viber_cg                                      5,638.86   \n",
       "0_85878_sms_viber_cg                                     48,322.97   \n",
       "\n",
       "                      Покупка предложения(набор plu), товаров (шт)  \\\n",
       "group_name                                                           \n",
       "1_85878_sms_viber_cg                                        148.00   \n",
       "0_85878_sms_viber_cg                                      2,309.00   \n",
       "\n",
       "                      Гостей, купившие что-нибудь  ...  \\\n",
       "group_name                                         ...   \n",
       "1_85878_sms_viber_cg                        10399  ...   \n",
       "0_85878_sms_viber_cg                        84837  ...   \n",
       "\n",
       "                      Эффект Ebitda софинансирование(чек) на группу, руб.  \\\n",
       "group_name                                                                  \n",
       "1_85878_sms_viber_cg                                                NaN     \n",
       "0_85878_sms_viber_cg                                      -1,036,708.00     \n",
       "\n",
       "                      Эффект Ebitda софинансирование(чек) на группу / Ebitda софинансирование(чек) группы  \\\n",
       "group_name                                                                                                  \n",
       "1_85878_sms_viber_cg                                                NaN                                     \n",
       "0_85878_sms_viber_cg                                              -0.02                                     \n",
       "\n",
       "                      Значимость Ebitda софинансирование(категория)  \\\n",
       "group_name                                                            \n",
       "1_85878_sms_viber_cg                                            NaN   \n",
       "0_85878_sms_viber_cg                                           0.00   \n",
       "\n",
       "                      Эффект Ebitda софинансирование(категория) на гостя, руб.  \\\n",
       "group_name                                                                       \n",
       "1_85878_sms_viber_cg                                                NaN          \n",
       "0_85878_sms_viber_cg                                               0.10          \n",
       "\n",
       "                      Эффект Ebitda софинансирование(категория) на группу, руб.  \\\n",
       "group_name                                                                        \n",
       "1_85878_sms_viber_cg                                                NaN           \n",
       "0_85878_sms_viber_cg                                           9,426.00           \n",
       "\n",
       "                      Эффект Ebitda софинансирование(категория) на группу / Ebitda софинансирование(категория) группы  \\\n",
       "group_name                                                                                                              \n",
       "1_85878_sms_viber_cg                                                NaN                                                 \n",
       "0_85878_sms_viber_cg                                               0.01                                                 \n",
       "\n",
       "                      Значимость Ebitda софинансирование(набор plu)  \\\n",
       "group_name                                                            \n",
       "1_85878_sms_viber_cg                                            NaN   \n",
       "0_85878_sms_viber_cg                                           0.00   \n",
       "\n",
       "                      Эффект Ebitda софинансирование(набор plu) на гостя, руб.  \\\n",
       "group_name                                                                       \n",
       "1_85878_sms_viber_cg                                                NaN          \n",
       "0_85878_sms_viber_cg                                              -0.15          \n",
       "\n",
       "                      Эффект Ebitda софинансирование(набор plu) на группу, руб.  \\\n",
       "group_name                                                                        \n",
       "1_85878_sms_viber_cg                                                NaN           \n",
       "0_85878_sms_viber_cg                                         -14,368.00           \n",
       "\n",
       "                      Эффект Ebitda софинансирование(набор plu) на группу / Ebitda софинансирование(набор plu) группы  \n",
       "group_name                                                                                                             \n",
       "1_85878_sms_viber_cg                                                NaN                                                \n",
       "0_85878_sms_viber_cg                                              -0.08                                                \n",
       "\n",
       "[2 rows x 103 columns]"
      ]
     },
     "execution_count": 8,
     "metadata": {},
     "output_type": "execute_result"
    }
   ],
   "source": [
    "fin_report = map_col_names_to_russian(groups_metrics)\n",
    "fin_report"
   ]
  },
  {
   "cell_type": "code",
   "execution_count": 9,
   "id": "728ef713",
   "metadata": {
    "collapsed": false,
    "jupyter": {
     "outputs_hidden": false
    },
    "pycharm": {
     "name": "#%%\n"
    },
    "scrolled": true
   },
   "outputs": [],
   "source": [
    "fin_report['meta_post_analysis'] = str(post_analysis_params.__dict__)\n",
    "fin_report['meta_experiment_params'] = str(experiment_params.__dict__)\n",
    "groups_metrics['meta_post_analysis'] = str(post_analysis_params.__dict__)\n",
    "groups_metrics['meta_experiment_params'] = str(experiment_params.__dict__)\n",
    "\n",
    "groups_metrics.T.to_csv(output_main_report, encoding='utf-8-sig', sep=';')\n",
    "fin_report.T.to_csv(output_fin_report, encoding='utf-8-sig', sep=';')"
   ]
  },
  {
   "cell_type": "markdown",
   "id": "2a9cbc61",
   "metadata": {},
   "source": [
    "### 2: X-29-41-Danone-Danissimo-Geo2-sof"
   ]
  },
  {
   "cell_type": "code",
   "execution_count": 10,
   "id": "f42027eb",
   "metadata": {
    "collapsed": false,
    "jupyter": {
     "outputs_hidden": false
    },
    "pycharm": {
     "name": "#%%\n"
    }
   },
   "outputs": [
    {
     "name": "stderr",
     "output_type": "stream",
     "text": [
      "                                                                                \r"
     ]
    }
   ],
   "source": [
    "campaign_id = 'X-29-41-Danone-Danissimo-Geo2-sof'\n",
    "output_fin_report = f'{campaign_id}_fin_report.csv'\n",
    "output_main_report = f'{campaign_id}_main_report.csv'\n",
    "\n",
    "experiment_params = ExperimentParams(**{\n",
    "    # Camp wave id нужно записать в виде мапы из id в префиксы.\n",
    "    # Префиксы ни на что не влияют, просто для более красивого названия групп\n",
    "    # Заполняются camp_wave_id. Если для контроля и теста одинаковый, то пишем два раза\n",
    "    'map_camp_wave_ids_to_suffixes': {\n",
    "        85657: \"sms_viber_tg\",\n",
    "        85657: \"sms_viber_cg\"\n",
    "    },\n",
    "\n",
    "    # communication period with guest (sending sms, push, etc.)\n",
    "    'date_communication_from': '2022-02-22',\n",
    "    'date_communication_to': '2022-03-06',\n",
    "\n",
    "    'wave_ids': [\n",
    "        85812 #если нет, то -1\n",
    "    ],\n",
    "\n",
    "    'communication_costs': {\n",
    "        'sms': 1.38,\n",
    "        'viber': 1.32,\n",
    "        'email': 0.0083\n",
    "    }\n",
    "})\n",
    "\n",
    "post_analysis_params = PostAnalysisParams(**{\n",
    "    'spark': spark,\n",
    "    'date_from': '2022-02-22',\n",
    "    'date_to': '2022-03-06', #дата постпериода\n",
    "    'control_camp_wave_id': 85657,\n",
    "    'plu_list': list(map(str, [2058043,2131371,3334525,3388829,3503856,3602086,3666192,4000341,4087605,4134957,\n",
    "                               4164867,4164884,4164891,49076,78358,4045552,4087605,4087604,4087606,4045551,3388829])),\n",
    "    'threshold_item_condition': 'plu_list', #есть категория еще\n",
    "    'count_for_plu_list': 2 #механика от 2-х штук\n",
    "})\n",
    "\n",
    "\n",
    "assert post_analysis_params.control_camp_wave_id in experiment_params.map_camp_wave_ids_to_suffixes.keys()"
   ]
  },
  {
   "cell_type": "code",
   "execution_count": 11,
   "id": "7d5f0f84",
   "metadata": {
    "collapsed": false,
    "jupyter": {
     "outputs_hidden": false
    },
    "pycharm": {
     "name": "#%%\n"
    },
    "scrolled": true
   },
   "outputs": [],
   "source": [
    "experiment_guests = ExperimentParticipants(spark, experiment_params)\n",
    "experiment_guests_communications = experiment_guests.extract()"
   ]
  },
  {
   "cell_type": "code",
   "execution_count": 12,
   "id": "d4598a97",
   "metadata": {
    "collapsed": false,
    "jupyter": {
     "outputs_hidden": false
    },
    "pycharm": {
     "name": "#%%\n"
    },
    "scrolled": true
   },
   "outputs": [
    {
     "name": "stderr",
     "output_type": "stream",
     "text": [
      "                                                                                / 200]]]\r"
     ]
    }
   ],
   "source": [
    "guest_metrics_preparation = GuestsMetricsPreprocessing(spark, experiment_guests_communications, post_analysis_params)\n",
    "experiment_guests_with_metrics = guest_metrics_preparation.evaluate()"
   ]
  },
  {
   "cell_type": "code",
   "execution_count": 13,
   "id": "4f843126",
   "metadata": {
    "collapsed": false,
    "jupyter": {
     "outputs_hidden": false
    },
    "pycharm": {
     "name": "#%%\n"
    }
   },
   "outputs": [
    {
     "name": "stderr",
     "output_type": "stream",
     "text": [
      "/opt/conda/lib/python3.7/site-packages/pandas/core/indexing.py:1684: PerformanceWarning: DataFrame is highly fragmented.  This is usually the result of calling `frame.insert` many times, which has poor performance.  Consider joining all columns at once using pd.concat(axis=1) instead.  To get a de-fragmented frame, use `newframe = frame.copy()`\n",
      "  self.obj[key] = infer_fill_value(value)\n"
     ]
    }
   ],
   "source": [
    "groups_metrics_aggregation = GroupsMetricsAggregation(spark, experiment_guests_with_metrics, post_analysis_params)\n",
    "groups_metrics, map_to_effects_table = groups_metrics_aggregation.evaluate()"
   ]
  },
  {
   "cell_type": "code",
   "execution_count": 14,
   "id": "de35e35a",
   "metadata": {
    "collapsed": false,
    "jupyter": {
     "outputs_hidden": false
    },
    "pycharm": {
     "name": "#%%\n"
    }
   },
   "outputs": [
    {
     "data": {
      "text/html": [
       "<div>\n",
       "<style scoped>\n",
       "    .dataframe tbody tr th:only-of-type {\n",
       "        vertical-align: middle;\n",
       "    }\n",
       "\n",
       "    .dataframe tbody tr th {\n",
       "        vertical-align: top;\n",
       "    }\n",
       "\n",
       "    .dataframe thead th {\n",
       "        text-align: right;\n",
       "    }\n",
       "</style>\n",
       "<table border=\"1\" class=\"dataframe\">\n",
       "  <thead>\n",
       "    <tr style=\"text-align: right;\">\n",
       "      <th></th>\n",
       "      <th>Размер выборки, чел.</th>\n",
       "      <th>Затраты на коммуникацию и на баллы (сумма delta с учетом redemption), руб.</th>\n",
       "      <th>Затраты на коммуникацию, руб./гость</th>\n",
       "      <th>Затраты на коммуникацию, руб.</th>\n",
       "      <th>Софинансирование, руб./гость</th>\n",
       "      <th>Софинансирование, руб.</th>\n",
       "      <th>Покупка предложения(чек), товаров (шт)</th>\n",
       "      <th>Покупка предложения(категория), товаров (шт)</th>\n",
       "      <th>Покупка предложения(набор plu), товаров (шт)</th>\n",
       "      <th>Гостей, купившие что-нибудь</th>\n",
       "      <th>...</th>\n",
       "      <th>Эффект Ebitda софинансирование(чек) на группу, руб.</th>\n",
       "      <th>Эффект Ebitda софинансирование(чек) на группу / Ebitda софинансирование(чек) группы</th>\n",
       "      <th>Значимость Ebitda софинансирование(категория)</th>\n",
       "      <th>Эффект Ebitda софинансирование(категория) на гостя, руб.</th>\n",
       "      <th>Эффект Ebitda софинансирование(категория) на группу, руб.</th>\n",
       "      <th>Эффект Ebitda софинансирование(категория) на группу / Ebitda софинансирование(категория) группы</th>\n",
       "      <th>Значимость Ebitda софинансирование(набор plu)</th>\n",
       "      <th>Эффект Ebitda софинансирование(набор plu) на гостя, руб.</th>\n",
       "      <th>Эффект Ebitda софинансирование(набор plu) на группу, руб.</th>\n",
       "      <th>Эффект Ebitda софинансирование(набор plu) на группу / Ebitda софинансирование(набор plu) группы</th>\n",
       "    </tr>\n",
       "    <tr>\n",
       "      <th>group_name</th>\n",
       "      <th></th>\n",
       "      <th></th>\n",
       "      <th></th>\n",
       "      <th></th>\n",
       "      <th></th>\n",
       "      <th></th>\n",
       "      <th></th>\n",
       "      <th></th>\n",
       "      <th></th>\n",
       "      <th></th>\n",
       "      <th></th>\n",
       "      <th></th>\n",
       "      <th></th>\n",
       "      <th></th>\n",
       "      <th></th>\n",
       "      <th></th>\n",
       "      <th></th>\n",
       "      <th></th>\n",
       "      <th></th>\n",
       "      <th></th>\n",
       "      <th></th>\n",
       "    </tr>\n",
       "  </thead>\n",
       "  <tbody>\n",
       "    <tr>\n",
       "      <th>1_85657_sms_viber_cg</th>\n",
       "      <td>90212</td>\n",
       "      <td>-64,403.84</td>\n",
       "      <td>0.00</td>\n",
       "      <td>0.00</td>\n",
       "      <td>0.00</td>\n",
       "      <td>0.00</td>\n",
       "      <td>3,510,740.51</td>\n",
       "      <td>61,761.93</td>\n",
       "      <td>731.00</td>\n",
       "      <td>85950</td>\n",
       "      <td>...</td>\n",
       "      <td>NaN</td>\n",
       "      <td>NaN</td>\n",
       "      <td>NaN</td>\n",
       "      <td>NaN</td>\n",
       "      <td>NaN</td>\n",
       "      <td>NaN</td>\n",
       "      <td>NaN</td>\n",
       "      <td>NaN</td>\n",
       "      <td>NaN</td>\n",
       "      <td>NaN</td>\n",
       "    </tr>\n",
       "    <tr>\n",
       "      <th>0_85657_sms_viber_cg</th>\n",
       "      <td>767383</td>\n",
       "      <td>425,587.06</td>\n",
       "      <td>1.36</td>\n",
       "      <td>1,043,222.94</td>\n",
       "      <td>1.37</td>\n",
       "      <td>1,054,204.50</td>\n",
       "      <td>29,876,389.96</td>\n",
       "      <td>536,768.82</td>\n",
       "      <td>16,628.00</td>\n",
       "      <td>729921</td>\n",
       "      <td>...</td>\n",
       "      <td>368,390.00</td>\n",
       "      <td>0.00</td>\n",
       "      <td>0.00</td>\n",
       "      <td>0.32</td>\n",
       "      <td>241,758.00</td>\n",
       "      <td>0.03</td>\n",
       "      <td>0.00</td>\n",
       "      <td>0.29</td>\n",
       "      <td>224,962.00</td>\n",
       "      <td>0.27</td>\n",
       "    </tr>\n",
       "  </tbody>\n",
       "</table>\n",
       "<p>2 rows × 103 columns</p>\n",
       "</div>"
      ],
      "text/plain": [
       "                      Размер выборки, чел.  \\\n",
       "group_name                                   \n",
       "1_85657_sms_viber_cg                 90212   \n",
       "0_85657_sms_viber_cg                767383   \n",
       "\n",
       "                      Затраты на коммуникацию и на баллы (сумма delta с учетом redemption), руб.  \\\n",
       "group_name                                                                                         \n",
       "1_85657_sms_viber_cg                                         -64,403.84                            \n",
       "0_85657_sms_viber_cg                                         425,587.06                            \n",
       "\n",
       "                      Затраты на коммуникацию, руб./гость  \\\n",
       "group_name                                                  \n",
       "1_85657_sms_viber_cg                                 0.00   \n",
       "0_85657_sms_viber_cg                                 1.36   \n",
       "\n",
       "                      Затраты на коммуникацию, руб.  \\\n",
       "group_name                                            \n",
       "1_85657_sms_viber_cg                           0.00   \n",
       "0_85657_sms_viber_cg                   1,043,222.94   \n",
       "\n",
       "                      Софинансирование, руб./гость  Софинансирование, руб.  \\\n",
       "group_name                                                                   \n",
       "1_85657_sms_viber_cg                          0.00                    0.00   \n",
       "0_85657_sms_viber_cg                          1.37            1,054,204.50   \n",
       "\n",
       "                      Покупка предложения(чек), товаров (шт)  \\\n",
       "group_name                                                     \n",
       "1_85657_sms_viber_cg                            3,510,740.51   \n",
       "0_85657_sms_viber_cg                           29,876,389.96   \n",
       "\n",
       "                      Покупка предложения(категория), товаров (шт)  \\\n",
       "group_name                                                           \n",
       "1_85657_sms_viber_cg                                     61,761.93   \n",
       "0_85657_sms_viber_cg                                    536,768.82   \n",
       "\n",
       "                      Покупка предложения(набор plu), товаров (шт)  \\\n",
       "group_name                                                           \n",
       "1_85657_sms_viber_cg                                        731.00   \n",
       "0_85657_sms_viber_cg                                     16,628.00   \n",
       "\n",
       "                      Гостей, купившие что-нибудь  ...  \\\n",
       "group_name                                         ...   \n",
       "1_85657_sms_viber_cg                        85950  ...   \n",
       "0_85657_sms_viber_cg                       729921  ...   \n",
       "\n",
       "                      Эффект Ebitda софинансирование(чек) на группу, руб.  \\\n",
       "group_name                                                                  \n",
       "1_85657_sms_viber_cg                                                NaN     \n",
       "0_85657_sms_viber_cg                                         368,390.00     \n",
       "\n",
       "                      Эффект Ebitda софинансирование(чек) на группу / Ebitda софинансирование(чек) группы  \\\n",
       "group_name                                                                                                  \n",
       "1_85657_sms_viber_cg                                                NaN                                     \n",
       "0_85657_sms_viber_cg                                               0.00                                     \n",
       "\n",
       "                      Значимость Ebitda софинансирование(категория)  \\\n",
       "group_name                                                            \n",
       "1_85657_sms_viber_cg                                            NaN   \n",
       "0_85657_sms_viber_cg                                           0.00   \n",
       "\n",
       "                      Эффект Ebitda софинансирование(категория) на гостя, руб.  \\\n",
       "group_name                                                                       \n",
       "1_85657_sms_viber_cg                                                NaN          \n",
       "0_85657_sms_viber_cg                                               0.32          \n",
       "\n",
       "                      Эффект Ebitda софинансирование(категория) на группу, руб.  \\\n",
       "group_name                                                                        \n",
       "1_85657_sms_viber_cg                                                NaN           \n",
       "0_85657_sms_viber_cg                                         241,758.00           \n",
       "\n",
       "                      Эффект Ebitda софинансирование(категория) на группу / Ebitda софинансирование(категория) группы  \\\n",
       "group_name                                                                                                              \n",
       "1_85657_sms_viber_cg                                                NaN                                                 \n",
       "0_85657_sms_viber_cg                                               0.03                                                 \n",
       "\n",
       "                      Значимость Ebitda софинансирование(набор plu)  \\\n",
       "group_name                                                            \n",
       "1_85657_sms_viber_cg                                            NaN   \n",
       "0_85657_sms_viber_cg                                           0.00   \n",
       "\n",
       "                      Эффект Ebitda софинансирование(набор plu) на гостя, руб.  \\\n",
       "group_name                                                                       \n",
       "1_85657_sms_viber_cg                                                NaN          \n",
       "0_85657_sms_viber_cg                                               0.29          \n",
       "\n",
       "                      Эффект Ebitda софинансирование(набор plu) на группу, руб.  \\\n",
       "group_name                                                                        \n",
       "1_85657_sms_viber_cg                                                NaN           \n",
       "0_85657_sms_viber_cg                                         224,962.00           \n",
       "\n",
       "                      Эффект Ebitda софинансирование(набор plu) на группу / Ebitda софинансирование(набор plu) группы  \n",
       "group_name                                                                                                             \n",
       "1_85657_sms_viber_cg                                                NaN                                                \n",
       "0_85657_sms_viber_cg                                               0.27                                                \n",
       "\n",
       "[2 rows x 103 columns]"
      ]
     },
     "execution_count": 14,
     "metadata": {},
     "output_type": "execute_result"
    }
   ],
   "source": [
    "fin_report = map_col_names_to_russian(groups_metrics)\n",
    "fin_report"
   ]
  },
  {
   "cell_type": "code",
   "execution_count": 15,
   "id": "d1a143d7",
   "metadata": {
    "collapsed": false,
    "jupyter": {
     "outputs_hidden": false
    },
    "pycharm": {
     "name": "#%%\n"
    },
    "scrolled": true
   },
   "outputs": [],
   "source": [
    "fin_report['meta_post_analysis'] = str(post_analysis_params.__dict__)\n",
    "fin_report['meta_experiment_params'] = str(experiment_params.__dict__)\n",
    "groups_metrics['meta_post_analysis'] = str(post_analysis_params.__dict__)\n",
    "groups_metrics['meta_experiment_params'] = str(experiment_params.__dict__)\n",
    "\n",
    "groups_metrics.T.to_csv(output_main_report, encoding='utf-8-sig', sep=';')\n",
    "fin_report.T.to_csv(output_fin_report, encoding='utf-8-sig', sep=';')"
   ]
  },
  {
   "cell_type": "markdown",
   "id": "c4cc0d02",
   "metadata": {},
   "source": [
    "### 3: U-29-Danon-danissimo-postavschik-2.1"
   ]
  },
  {
   "cell_type": "code",
   "execution_count": 16,
   "id": "eb2f4dfb",
   "metadata": {
    "collapsed": false,
    "jupyter": {
     "outputs_hidden": false
    },
    "pycharm": {
     "name": "#%%\n"
    }
   },
   "outputs": [
    {
     "name": "stderr",
     "output_type": "stream",
     "text": [
      "                                                                                \r"
     ]
    }
   ],
   "source": [
    "campaign_id = 'U-29-Danon-danissimo-postavschik-2.1'\n",
    "output_fin_report = f'{campaign_id}_fin_report.csv'\n",
    "output_main_report = f'{campaign_id}_main_report.csv'\n",
    "\n",
    "experiment_params = ExperimentParams(**{\n",
    "    # Camp wave id нужно записать в виде мапы из id в префиксы.\n",
    "    # Префиксы ни на что не влияют, просто для более красивого названия групп\n",
    "    # Заполняются camp_wave_id. Если для контроля и теста одинаковый, то пишем два раза\n",
    "    'map_camp_wave_ids_to_suffixes': {\n",
    "        85898: \"sms_viber_tg\",\n",
    "        85898: \"sms_viber_cg\"\n",
    "    },\n",
    "\n",
    "    # communication period with guest (sending sms, push, etc.)\n",
    "    'date_communication_from': '2022-02-23',\n",
    "    'date_communication_to': '2022-03-06',\n",
    "\n",
    "    'wave_ids': [\n",
    "        85958 #если нет, то -1\n",
    "    ],\n",
    "\n",
    "    'communication_costs': {\n",
    "        'sms': 1.38,\n",
    "        'viber': 1.32,\n",
    "        'email': 0.0083\n",
    "    }\n",
    "})\n",
    "\n",
    "post_analysis_params = PostAnalysisParams(**{\n",
    "    'spark': spark,\n",
    "    'date_from': '2022-02-23',\n",
    "    'date_to': '2022-03-06', #дата постпериода\n",
    "    'control_camp_wave_id': 85898,\n",
    "    'plu_list': list(map(str, [2058043,2131371,3334525,3388829,3503856,3602086,3666192,4000341,4087605,4134957,\n",
    "                               4164867,4164884,4164891,49076,78358,4045552,4087605,4087604,4087606,4045551,3388829])),\n",
    "    'threshold_item_condition': 'plu_list', #есть категория еще\n",
    "    'count_for_plu_list': 2 #механика от 2-х штук\n",
    "})\n",
    "\n",
    "\n",
    "assert post_analysis_params.control_camp_wave_id in experiment_params.map_camp_wave_ids_to_suffixes.keys()"
   ]
  },
  {
   "cell_type": "code",
   "execution_count": 17,
   "id": "b8046cc4",
   "metadata": {
    "collapsed": false,
    "jupyter": {
     "outputs_hidden": false
    },
    "pycharm": {
     "name": "#%%\n"
    },
    "scrolled": true
   },
   "outputs": [],
   "source": [
    "experiment_guests = ExperimentParticipants(spark, experiment_params)\n",
    "experiment_guests_communications = experiment_guests.extract()"
   ]
  },
  {
   "cell_type": "code",
   "execution_count": 18,
   "id": "3f08db4f",
   "metadata": {
    "collapsed": false,
    "jupyter": {
     "outputs_hidden": false
    },
    "pycharm": {
     "name": "#%%\n"
    },
    "scrolled": true
   },
   "outputs": [
    {
     "name": "stderr",
     "output_type": "stream",
     "text": [
      "                                                                                221]]]]]]]]\r"
     ]
    }
   ],
   "source": [
    "guest_metrics_preparation = GuestsMetricsPreprocessing(spark, experiment_guests_communications, post_analysis_params)\n",
    "experiment_guests_with_metrics = guest_metrics_preparation.evaluate()"
   ]
  },
  {
   "cell_type": "code",
   "execution_count": 19,
   "id": "88feceab",
   "metadata": {
    "collapsed": false,
    "jupyter": {
     "outputs_hidden": false
    },
    "pycharm": {
     "name": "#%%\n"
    }
   },
   "outputs": [
    {
     "name": "stderr",
     "output_type": "stream",
     "text": [
      "/opt/conda/lib/python3.7/site-packages/pandas/core/indexing.py:1684: PerformanceWarning: DataFrame is highly fragmented.  This is usually the result of calling `frame.insert` many times, which has poor performance.  Consider joining all columns at once using pd.concat(axis=1) instead.  To get a de-fragmented frame, use `newframe = frame.copy()`\n",
      "  self.obj[key] = infer_fill_value(value)\n"
     ]
    }
   ],
   "source": [
    "groups_metrics_aggregation = GroupsMetricsAggregation(spark, experiment_guests_with_metrics, post_analysis_params)\n",
    "groups_metrics, map_to_effects_table = groups_metrics_aggregation.evaluate()"
   ]
  },
  {
   "cell_type": "code",
   "execution_count": 20,
   "id": "7c51edff",
   "metadata": {
    "collapsed": false,
    "jupyter": {
     "outputs_hidden": false
    },
    "pycharm": {
     "name": "#%%\n"
    }
   },
   "outputs": [
    {
     "data": {
      "text/html": [
       "<div>\n",
       "<style scoped>\n",
       "    .dataframe tbody tr th:only-of-type {\n",
       "        vertical-align: middle;\n",
       "    }\n",
       "\n",
       "    .dataframe tbody tr th {\n",
       "        vertical-align: top;\n",
       "    }\n",
       "\n",
       "    .dataframe thead th {\n",
       "        text-align: right;\n",
       "    }\n",
       "</style>\n",
       "<table border=\"1\" class=\"dataframe\">\n",
       "  <thead>\n",
       "    <tr style=\"text-align: right;\">\n",
       "      <th></th>\n",
       "      <th>Размер выборки, чел.</th>\n",
       "      <th>Затраты на коммуникацию и на баллы (сумма delta с учетом redemption), руб.</th>\n",
       "      <th>Затраты на коммуникацию, руб./гость</th>\n",
       "      <th>Затраты на коммуникацию, руб.</th>\n",
       "      <th>Софинансирование, руб./гость</th>\n",
       "      <th>Софинансирование, руб.</th>\n",
       "      <th>Покупка предложения(чек), товаров (шт)</th>\n",
       "      <th>Покупка предложения(категория), товаров (шт)</th>\n",
       "      <th>Покупка предложения(набор plu), товаров (шт)</th>\n",
       "      <th>Гостей, купившие что-нибудь</th>\n",
       "      <th>...</th>\n",
       "      <th>Эффект Ebitda софинансирование(чек) на группу, руб.</th>\n",
       "      <th>Эффект Ebitda софинансирование(чек) на группу / Ebitda софинансирование(чек) группы</th>\n",
       "      <th>Значимость Ebitda софинансирование(категория)</th>\n",
       "      <th>Эффект Ebitda софинансирование(категория) на гостя, руб.</th>\n",
       "      <th>Эффект Ebitda софинансирование(категория) на группу, руб.</th>\n",
       "      <th>Эффект Ebitda софинансирование(категория) на группу / Ebitda софинансирование(категория) группы</th>\n",
       "      <th>Значимость Ebitda софинансирование(набор plu)</th>\n",
       "      <th>Эффект Ebitda софинансирование(набор plu) на гостя, руб.</th>\n",
       "      <th>Эффект Ebitda софинансирование(набор plu) на группу, руб.</th>\n",
       "      <th>Эффект Ebitda софинансирование(набор plu) на группу / Ebitda софинансирование(набор plu) группы</th>\n",
       "    </tr>\n",
       "    <tr>\n",
       "      <th>group_name</th>\n",
       "      <th></th>\n",
       "      <th></th>\n",
       "      <th></th>\n",
       "      <th></th>\n",
       "      <th></th>\n",
       "      <th></th>\n",
       "      <th></th>\n",
       "      <th></th>\n",
       "      <th></th>\n",
       "      <th></th>\n",
       "      <th></th>\n",
       "      <th></th>\n",
       "      <th></th>\n",
       "      <th></th>\n",
       "      <th></th>\n",
       "      <th></th>\n",
       "      <th></th>\n",
       "      <th></th>\n",
       "      <th></th>\n",
       "      <th></th>\n",
       "      <th></th>\n",
       "    </tr>\n",
       "  </thead>\n",
       "  <tbody>\n",
       "    <tr>\n",
       "      <th>0_85898_sms_viber_cg</th>\n",
       "      <td>277457</td>\n",
       "      <td>105,346.86</td>\n",
       "      <td>1.35</td>\n",
       "      <td>375,938.70</td>\n",
       "      <td>1.46</td>\n",
       "      <td>404,149.50</td>\n",
       "      <td>7,447,842.17</td>\n",
       "      <td>120,107.99</td>\n",
       "      <td>6,109.00</td>\n",
       "      <td>250001</td>\n",
       "      <td>...</td>\n",
       "      <td>-16,781,761.00</td>\n",
       "      <td>-0.14</td>\n",
       "      <td>1.00</td>\n",
       "      <td>-0.62</td>\n",
       "      <td>-171,288.00</td>\n",
       "      <td>-0.09</td>\n",
       "      <td>0.00</td>\n",
       "      <td>0.14</td>\n",
       "      <td>40,038.00</td>\n",
       "      <td>0.11</td>\n",
       "    </tr>\n",
       "    <tr>\n",
       "      <th>1_85898_sms_viber_cg</th>\n",
       "      <td>73048</td>\n",
       "      <td>-74,249.45</td>\n",
       "      <td>0.00</td>\n",
       "      <td>0.00</td>\n",
       "      <td>0.00</td>\n",
       "      <td>0.00</td>\n",
       "      <td>2,342,279.61</td>\n",
       "      <td>36,194.96</td>\n",
       "      <td>948.00</td>\n",
       "      <td>66768</td>\n",
       "      <td>...</td>\n",
       "      <td>NaN</td>\n",
       "      <td>NaN</td>\n",
       "      <td>NaN</td>\n",
       "      <td>NaN</td>\n",
       "      <td>NaN</td>\n",
       "      <td>NaN</td>\n",
       "      <td>NaN</td>\n",
       "      <td>NaN</td>\n",
       "      <td>NaN</td>\n",
       "      <td>NaN</td>\n",
       "    </tr>\n",
       "  </tbody>\n",
       "</table>\n",
       "<p>2 rows × 103 columns</p>\n",
       "</div>"
      ],
      "text/plain": [
       "                      Размер выборки, чел.  \\\n",
       "group_name                                   \n",
       "0_85898_sms_viber_cg                277457   \n",
       "1_85898_sms_viber_cg                 73048   \n",
       "\n",
       "                      Затраты на коммуникацию и на баллы (сумма delta с учетом redemption), руб.  \\\n",
       "group_name                                                                                         \n",
       "0_85898_sms_viber_cg                                         105,346.86                            \n",
       "1_85898_sms_viber_cg                                         -74,249.45                            \n",
       "\n",
       "                      Затраты на коммуникацию, руб./гость  \\\n",
       "group_name                                                  \n",
       "0_85898_sms_viber_cg                                 1.35   \n",
       "1_85898_sms_viber_cg                                 0.00   \n",
       "\n",
       "                      Затраты на коммуникацию, руб.  \\\n",
       "group_name                                            \n",
       "0_85898_sms_viber_cg                     375,938.70   \n",
       "1_85898_sms_viber_cg                           0.00   \n",
       "\n",
       "                      Софинансирование, руб./гость  Софинансирование, руб.  \\\n",
       "group_name                                                                   \n",
       "0_85898_sms_viber_cg                          1.46              404,149.50   \n",
       "1_85898_sms_viber_cg                          0.00                    0.00   \n",
       "\n",
       "                      Покупка предложения(чек), товаров (шт)  \\\n",
       "group_name                                                     \n",
       "0_85898_sms_viber_cg                            7,447,842.17   \n",
       "1_85898_sms_viber_cg                            2,342,279.61   \n",
       "\n",
       "                      Покупка предложения(категория), товаров (шт)  \\\n",
       "group_name                                                           \n",
       "0_85898_sms_viber_cg                                    120,107.99   \n",
       "1_85898_sms_viber_cg                                     36,194.96   \n",
       "\n",
       "                      Покупка предложения(набор plu), товаров (шт)  \\\n",
       "group_name                                                           \n",
       "0_85898_sms_viber_cg                                      6,109.00   \n",
       "1_85898_sms_viber_cg                                        948.00   \n",
       "\n",
       "                      Гостей, купившие что-нибудь  ...  \\\n",
       "group_name                                         ...   \n",
       "0_85898_sms_viber_cg                       250001  ...   \n",
       "1_85898_sms_viber_cg                        66768  ...   \n",
       "\n",
       "                      Эффект Ebitda софинансирование(чек) на группу, руб.  \\\n",
       "group_name                                                                  \n",
       "0_85898_sms_viber_cg                                     -16,781,761.00     \n",
       "1_85898_sms_viber_cg                                                NaN     \n",
       "\n",
       "                      Эффект Ebitda софинансирование(чек) на группу / Ebitda софинансирование(чек) группы  \\\n",
       "group_name                                                                                                  \n",
       "0_85898_sms_viber_cg                                              -0.14                                     \n",
       "1_85898_sms_viber_cg                                                NaN                                     \n",
       "\n",
       "                      Значимость Ebitda софинансирование(категория)  \\\n",
       "group_name                                                            \n",
       "0_85898_sms_viber_cg                                           1.00   \n",
       "1_85898_sms_viber_cg                                            NaN   \n",
       "\n",
       "                      Эффект Ebitda софинансирование(категория) на гостя, руб.  \\\n",
       "group_name                                                                       \n",
       "0_85898_sms_viber_cg                                              -0.62          \n",
       "1_85898_sms_viber_cg                                                NaN          \n",
       "\n",
       "                      Эффект Ebitda софинансирование(категория) на группу, руб.  \\\n",
       "group_name                                                                        \n",
       "0_85898_sms_viber_cg                                        -171,288.00           \n",
       "1_85898_sms_viber_cg                                                NaN           \n",
       "\n",
       "                      Эффект Ebitda софинансирование(категория) на группу / Ebitda софинансирование(категория) группы  \\\n",
       "group_name                                                                                                              \n",
       "0_85898_sms_viber_cg                                              -0.09                                                 \n",
       "1_85898_sms_viber_cg                                                NaN                                                 \n",
       "\n",
       "                      Значимость Ebitda софинансирование(набор plu)  \\\n",
       "group_name                                                            \n",
       "0_85898_sms_viber_cg                                           0.00   \n",
       "1_85898_sms_viber_cg                                            NaN   \n",
       "\n",
       "                      Эффект Ebitda софинансирование(набор plu) на гостя, руб.  \\\n",
       "group_name                                                                       \n",
       "0_85898_sms_viber_cg                                               0.14          \n",
       "1_85898_sms_viber_cg                                                NaN          \n",
       "\n",
       "                      Эффект Ebitda софинансирование(набор plu) на группу, руб.  \\\n",
       "group_name                                                                        \n",
       "0_85898_sms_viber_cg                                          40,038.00           \n",
       "1_85898_sms_viber_cg                                                NaN           \n",
       "\n",
       "                      Эффект Ebitda софинансирование(набор plu) на группу / Ebitda софинансирование(набор plu) группы  \n",
       "group_name                                                                                                             \n",
       "0_85898_sms_viber_cg                                               0.11                                                \n",
       "1_85898_sms_viber_cg                                                NaN                                                \n",
       "\n",
       "[2 rows x 103 columns]"
      ]
     },
     "execution_count": 20,
     "metadata": {},
     "output_type": "execute_result"
    }
   ],
   "source": [
    "fin_report = map_col_names_to_russian(groups_metrics)\n",
    "fin_report"
   ]
  },
  {
   "cell_type": "code",
   "execution_count": 21,
   "id": "7c3b2aaa",
   "metadata": {
    "collapsed": false,
    "jupyter": {
     "outputs_hidden": false
    },
    "pycharm": {
     "name": "#%%\n"
    },
    "scrolled": true
   },
   "outputs": [],
   "source": [
    "fin_report['meta_post_analysis'] = str(post_analysis_params.__dict__)\n",
    "fin_report['meta_experiment_params'] = str(experiment_params.__dict__)\n",
    "groups_metrics['meta_post_analysis'] = str(post_analysis_params.__dict__)\n",
    "groups_metrics['meta_experiment_params'] = str(experiment_params.__dict__)\n",
    "\n",
    "groups_metrics.T.to_csv(output_main_report, encoding='utf-8-sig', sep=';')\n",
    "fin_report.T.to_csv(output_fin_report, encoding='utf-8-sig', sep=';')"
   ]
  },
  {
   "cell_type": "markdown",
   "id": "8b6555a6",
   "metadata": {},
   "source": [
    "### 4: U-29-Danon-danissimo-postavschik-2"
   ]
  },
  {
   "cell_type": "code",
   "execution_count": 22,
   "id": "62f8fbbc",
   "metadata": {
    "collapsed": false,
    "jupyter": {
     "outputs_hidden": false
    },
    "pycharm": {
     "name": "#%%\n"
    }
   },
   "outputs": [
    {
     "name": "stderr",
     "output_type": "stream",
     "text": [
      "                                                                                \r"
     ]
    }
   ],
   "source": [
    "campaign_id = 'U-29-Danon-danissimo-postavschik-2'\n",
    "output_fin_report = f'{campaign_id}_fin_report.csv'\n",
    "output_main_report = f'{campaign_id}_main_report.csv'\n",
    "\n",
    "experiment_params = ExperimentParams(**{\n",
    "    # Camp wave id нужно записать в виде мапы из id в префиксы.\n",
    "    # Префиксы ни на что не влияют, просто для более красивого названия групп\n",
    "    # Заполняются camp_wave_id. Если для контроля и теста одинаковый, то пишем два раза\n",
    "    'map_camp_wave_ids_to_suffixes': {\n",
    "        85217: \"sms_viber_tg\",\n",
    "        85224: \"sms_viber_cg\"\n",
    "    },\n",
    "\n",
    "    # communication period with guest (sending sms, push, etc.)\n",
    "    'date_communication_from': '2022-02-21',\n",
    "    'date_communication_to': '2022-03-06',\n",
    "\n",
    "    'wave_ids': [\n",
    "        85572 #если нет, то -1\n",
    "    ],\n",
    "\n",
    "    'communication_costs': {\n",
    "        'sms': 1.38,\n",
    "        'viber': 1.32,\n",
    "        'email': 0.0083\n",
    "    }\n",
    "})\n",
    "\n",
    "post_analysis_params = PostAnalysisParams(**{\n",
    "    'spark': spark,\n",
    "    'date_from': '2022-02-21',\n",
    "    'date_to': '2022-03-06', #дата постпериода\n",
    "    'control_camp_wave_id': 85224,\n",
    "    'plu_list': list(map(str, [2058043,2131371,3334525,3388829,3503856,3602086,3666192,4000341,4087605,4134957,\n",
    "                               4164867,4164884,4164891,49076,78358,4045552,4087605,4087604,4087606,4045551,3388829])),\n",
    "    'threshold_item_condition': 'plu_list', #есть категория еще\n",
    "    'count_for_plu_list': 2 #механика от 2-х штук\n",
    "})\n",
    "\n",
    "\n",
    "assert post_analysis_params.control_camp_wave_id in experiment_params.map_camp_wave_ids_to_suffixes.keys()"
   ]
  },
  {
   "cell_type": "code",
   "execution_count": 23,
   "id": "f1cf2643",
   "metadata": {
    "collapsed": false,
    "jupyter": {
     "outputs_hidden": false
    },
    "pycharm": {
     "name": "#%%\n"
    },
    "scrolled": true
   },
   "outputs": [],
   "source": [
    "experiment_guests = ExperimentParticipants(spark, experiment_params)\n",
    "experiment_guests_communications = experiment_guests.extract()"
   ]
  },
  {
   "cell_type": "code",
   "execution_count": 24,
   "id": "6347cc0b",
   "metadata": {
    "collapsed": false,
    "jupyter": {
     "outputs_hidden": false
    },
    "pycharm": {
     "name": "#%%\n"
    },
    "scrolled": true
   },
   "outputs": [
    {
     "name": "stderr",
     "output_type": "stream",
     "text": [
      "                                                                                1221]]]]]]]\r"
     ]
    }
   ],
   "source": [
    "guest_metrics_preparation = GuestsMetricsPreprocessing(spark, experiment_guests_communications, post_analysis_params)\n",
    "experiment_guests_with_metrics = guest_metrics_preparation.evaluate()"
   ]
  },
  {
   "cell_type": "code",
   "execution_count": 25,
   "id": "6605d044",
   "metadata": {
    "collapsed": false,
    "jupyter": {
     "outputs_hidden": false
    },
    "pycharm": {
     "name": "#%%\n"
    }
   },
   "outputs": [
    {
     "name": "stderr",
     "output_type": "stream",
     "text": [
      "/opt/conda/lib/python3.7/site-packages/pandas/core/indexing.py:1684: PerformanceWarning: DataFrame is highly fragmented.  This is usually the result of calling `frame.insert` many times, which has poor performance.  Consider joining all columns at once using pd.concat(axis=1) instead.  To get a de-fragmented frame, use `newframe = frame.copy()`\n",
      "  self.obj[key] = infer_fill_value(value)\n"
     ]
    }
   ],
   "source": [
    "groups_metrics_aggregation = GroupsMetricsAggregation(spark, experiment_guests_with_metrics, post_analysis_params)\n",
    "groups_metrics, map_to_effects_table = groups_metrics_aggregation.evaluate()"
   ]
  },
  {
   "cell_type": "code",
   "execution_count": 26,
   "id": "36194ebf",
   "metadata": {
    "collapsed": false,
    "jupyter": {
     "outputs_hidden": false
    },
    "pycharm": {
     "name": "#%%\n"
    }
   },
   "outputs": [
    {
     "data": {
      "text/html": [
       "<div>\n",
       "<style scoped>\n",
       "    .dataframe tbody tr th:only-of-type {\n",
       "        vertical-align: middle;\n",
       "    }\n",
       "\n",
       "    .dataframe tbody tr th {\n",
       "        vertical-align: top;\n",
       "    }\n",
       "\n",
       "    .dataframe thead th {\n",
       "        text-align: right;\n",
       "    }\n",
       "</style>\n",
       "<table border=\"1\" class=\"dataframe\">\n",
       "  <thead>\n",
       "    <tr style=\"text-align: right;\">\n",
       "      <th></th>\n",
       "      <th>Размер выборки, чел.</th>\n",
       "      <th>Затраты на коммуникацию и на баллы (сумма delta с учетом redemption), руб.</th>\n",
       "      <th>Затраты на коммуникацию, руб./гость</th>\n",
       "      <th>Затраты на коммуникацию, руб.</th>\n",
       "      <th>Софинансирование, руб./гость</th>\n",
       "      <th>Софинансирование, руб.</th>\n",
       "      <th>Покупка предложения(чек), товаров (шт)</th>\n",
       "      <th>Покупка предложения(категория), товаров (шт)</th>\n",
       "      <th>Покупка предложения(набор plu), товаров (шт)</th>\n",
       "      <th>Гостей, купившие что-нибудь</th>\n",
       "      <th>...</th>\n",
       "      <th>Эффект Ebitda софинансирование(чек) на группу, руб.</th>\n",
       "      <th>Эффект Ebitda софинансирование(чек) на группу / Ebitda софинансирование(чек) группы</th>\n",
       "      <th>Значимость Ebitda софинансирование(категория)</th>\n",
       "      <th>Эффект Ebitda софинансирование(категория) на гостя, руб.</th>\n",
       "      <th>Эффект Ebitda софинансирование(категория) на группу, руб.</th>\n",
       "      <th>Эффект Ebitda софинансирование(категория) на группу / Ebitda софинансирование(категория) группы</th>\n",
       "      <th>Значимость Ebitda софинансирование(набор plu)</th>\n",
       "      <th>Эффект Ebitda софинансирование(набор plu) на гостя, руб.</th>\n",
       "      <th>Эффект Ebitda софинансирование(набор plu) на группу, руб.</th>\n",
       "      <th>Эффект Ebitda софинансирование(набор plu) на группу / Ebitda софинансирование(набор plu) группы</th>\n",
       "    </tr>\n",
       "    <tr>\n",
       "      <th>group_name</th>\n",
       "      <th></th>\n",
       "      <th></th>\n",
       "      <th></th>\n",
       "      <th></th>\n",
       "      <th></th>\n",
       "      <th></th>\n",
       "      <th></th>\n",
       "      <th></th>\n",
       "      <th></th>\n",
       "      <th></th>\n",
       "      <th></th>\n",
       "      <th></th>\n",
       "      <th></th>\n",
       "      <th></th>\n",
       "      <th></th>\n",
       "      <th></th>\n",
       "      <th></th>\n",
       "      <th></th>\n",
       "      <th></th>\n",
       "      <th></th>\n",
       "      <th></th>\n",
       "    </tr>\n",
       "  </thead>\n",
       "  <tbody>\n",
       "    <tr>\n",
       "      <th>0_85217_sms_viber_tg</th>\n",
       "      <td>177331</td>\n",
       "      <td>-286,120.22</td>\n",
       "      <td>1.35</td>\n",
       "      <td>240,270.06</td>\n",
       "      <td>1.46</td>\n",
       "      <td>258,399.00</td>\n",
       "      <td>6,731,942.18</td>\n",
       "      <td>130,022.56</td>\n",
       "      <td>8,931.00</td>\n",
       "      <td>164229</td>\n",
       "      <td>...</td>\n",
       "      <td>-20,369,056.00</td>\n",
       "      <td>-0.18</td>\n",
       "      <td>1.00</td>\n",
       "      <td>-0.90</td>\n",
       "      <td>-159,514.00</td>\n",
       "      <td>-0.07</td>\n",
       "      <td>1.00</td>\n",
       "      <td>0.64</td>\n",
       "      <td>113,053.00</td>\n",
       "      <td>0.18</td>\n",
       "    </tr>\n",
       "    <tr>\n",
       "      <th>0_85224_sms_viber_cg</th>\n",
       "      <td>59250</td>\n",
       "      <td>-156,064.60</td>\n",
       "      <td>0.00</td>\n",
       "      <td>0.00</td>\n",
       "      <td>0.00</td>\n",
       "      <td>0.00</td>\n",
       "      <td>2,793,765.88</td>\n",
       "      <td>50,484.29</td>\n",
       "      <td>2,081.00</td>\n",
       "      <td>55784</td>\n",
       "      <td>...</td>\n",
       "      <td>NaN</td>\n",
       "      <td>NaN</td>\n",
       "      <td>NaN</td>\n",
       "      <td>NaN</td>\n",
       "      <td>NaN</td>\n",
       "      <td>NaN</td>\n",
       "      <td>NaN</td>\n",
       "      <td>NaN</td>\n",
       "      <td>NaN</td>\n",
       "      <td>NaN</td>\n",
       "    </tr>\n",
       "  </tbody>\n",
       "</table>\n",
       "<p>2 rows × 103 columns</p>\n",
       "</div>"
      ],
      "text/plain": [
       "                      Размер выборки, чел.  \\\n",
       "group_name                                   \n",
       "0_85217_sms_viber_tg                177331   \n",
       "0_85224_sms_viber_cg                 59250   \n",
       "\n",
       "                      Затраты на коммуникацию и на баллы (сумма delta с учетом redemption), руб.  \\\n",
       "group_name                                                                                         \n",
       "0_85217_sms_viber_tg                                        -286,120.22                            \n",
       "0_85224_sms_viber_cg                                        -156,064.60                            \n",
       "\n",
       "                      Затраты на коммуникацию, руб./гость  \\\n",
       "group_name                                                  \n",
       "0_85217_sms_viber_tg                                 1.35   \n",
       "0_85224_sms_viber_cg                                 0.00   \n",
       "\n",
       "                      Затраты на коммуникацию, руб.  \\\n",
       "group_name                                            \n",
       "0_85217_sms_viber_tg                     240,270.06   \n",
       "0_85224_sms_viber_cg                           0.00   \n",
       "\n",
       "                      Софинансирование, руб./гость  Софинансирование, руб.  \\\n",
       "group_name                                                                   \n",
       "0_85217_sms_viber_tg                          1.46              258,399.00   \n",
       "0_85224_sms_viber_cg                          0.00                    0.00   \n",
       "\n",
       "                      Покупка предложения(чек), товаров (шт)  \\\n",
       "group_name                                                     \n",
       "0_85217_sms_viber_tg                            6,731,942.18   \n",
       "0_85224_sms_viber_cg                            2,793,765.88   \n",
       "\n",
       "                      Покупка предложения(категория), товаров (шт)  \\\n",
       "group_name                                                           \n",
       "0_85217_sms_viber_tg                                    130,022.56   \n",
       "0_85224_sms_viber_cg                                     50,484.29   \n",
       "\n",
       "                      Покупка предложения(набор plu), товаров (шт)  \\\n",
       "group_name                                                           \n",
       "0_85217_sms_viber_tg                                      8,931.00   \n",
       "0_85224_sms_viber_cg                                      2,081.00   \n",
       "\n",
       "                      Гостей, купившие что-нибудь  ...  \\\n",
       "group_name                                         ...   \n",
       "0_85217_sms_viber_tg                       164229  ...   \n",
       "0_85224_sms_viber_cg                        55784  ...   \n",
       "\n",
       "                      Эффект Ebitda софинансирование(чек) на группу, руб.  \\\n",
       "group_name                                                                  \n",
       "0_85217_sms_viber_tg                                     -20,369,056.00     \n",
       "0_85224_sms_viber_cg                                                NaN     \n",
       "\n",
       "                      Эффект Ebitda софинансирование(чек) на группу / Ebitda софинансирование(чек) группы  \\\n",
       "group_name                                                                                                  \n",
       "0_85217_sms_viber_tg                                              -0.18                                     \n",
       "0_85224_sms_viber_cg                                                NaN                                     \n",
       "\n",
       "                      Значимость Ebitda софинансирование(категория)  \\\n",
       "group_name                                                            \n",
       "0_85217_sms_viber_tg                                           1.00   \n",
       "0_85224_sms_viber_cg                                            NaN   \n",
       "\n",
       "                      Эффект Ebitda софинансирование(категория) на гостя, руб.  \\\n",
       "group_name                                                                       \n",
       "0_85217_sms_viber_tg                                              -0.90          \n",
       "0_85224_sms_viber_cg                                                NaN          \n",
       "\n",
       "                      Эффект Ebitda софинансирование(категория) на группу, руб.  \\\n",
       "group_name                                                                        \n",
       "0_85217_sms_viber_tg                                        -159,514.00           \n",
       "0_85224_sms_viber_cg                                                NaN           \n",
       "\n",
       "                      Эффект Ebitda софинансирование(категория) на группу / Ebitda софинансирование(категория) группы  \\\n",
       "group_name                                                                                                              \n",
       "0_85217_sms_viber_tg                                              -0.07                                                 \n",
       "0_85224_sms_viber_cg                                                NaN                                                 \n",
       "\n",
       "                      Значимость Ebitda софинансирование(набор plu)  \\\n",
       "group_name                                                            \n",
       "0_85217_sms_viber_tg                                           1.00   \n",
       "0_85224_sms_viber_cg                                            NaN   \n",
       "\n",
       "                      Эффект Ebitda софинансирование(набор plu) на гостя, руб.  \\\n",
       "group_name                                                                       \n",
       "0_85217_sms_viber_tg                                               0.64          \n",
       "0_85224_sms_viber_cg                                                NaN          \n",
       "\n",
       "                      Эффект Ebitda софинансирование(набор plu) на группу, руб.  \\\n",
       "group_name                                                                        \n",
       "0_85217_sms_viber_tg                                         113,053.00           \n",
       "0_85224_sms_viber_cg                                                NaN           \n",
       "\n",
       "                      Эффект Ebitda софинансирование(набор plu) на группу / Ebitda софинансирование(набор plu) группы  \n",
       "group_name                                                                                                             \n",
       "0_85217_sms_viber_tg                                               0.18                                                \n",
       "0_85224_sms_viber_cg                                                NaN                                                \n",
       "\n",
       "[2 rows x 103 columns]"
      ]
     },
     "execution_count": 26,
     "metadata": {},
     "output_type": "execute_result"
    }
   ],
   "source": [
    "fin_report = map_col_names_to_russian(groups_metrics)\n",
    "fin_report"
   ]
  },
  {
   "cell_type": "code",
   "execution_count": 27,
   "id": "1c7b5a39",
   "metadata": {
    "collapsed": false,
    "jupyter": {
     "outputs_hidden": false
    },
    "pycharm": {
     "name": "#%%\n"
    },
    "scrolled": true
   },
   "outputs": [
    {
     "name": "stderr",
     "output_type": "stream",
     "text": [
      "22/03/12 10:03:26 ERROR cluster.YarnClientSchedulerBackend: YARN application has exited unexpectedly with state KILLED! Check the YARN application logs for more details.\n",
      "22/03/12 10:03:26 ERROR cluster.YarnClientSchedulerBackend: Diagnostics message: Application killed by user.\n"
     ]
    }
   ],
   "source": [
    "fin_report['meta_post_analysis'] = str(post_analysis_params.__dict__)\n",
    "fin_report['meta_experiment_params'] = str(experiment_params.__dict__)\n",
    "groups_metrics['meta_post_analysis'] = str(post_analysis_params.__dict__)\n",
    "groups_metrics['meta_experiment_params'] = str(experiment_params.__dict__)\n",
    "\n",
    "groups_metrics.T.to_csv(output_main_report, encoding='utf-8-sig', sep=';')\n",
    "fin_report.T.to_csv(output_fin_report, encoding='utf-8-sig', sep=';')"
   ]
  }
 ],
 "metadata": {
  "kernelspec": {
   "display_name": "Python 3 (ipykernel)",
   "language": "python",
   "name": "python3"
  },
  "language_info": {
   "codemirror_mode": {
    "name": "ipython",
    "version": 3
   },
   "file_extension": ".py",
   "mimetype": "text/x-python",
   "name": "python",
   "nbconvert_exporter": "python",
   "pygments_lexer": "ipython3",
   "version": "3.7.10"
  }
 },
 "nbformat": 4,
 "nbformat_minor": 5
}
